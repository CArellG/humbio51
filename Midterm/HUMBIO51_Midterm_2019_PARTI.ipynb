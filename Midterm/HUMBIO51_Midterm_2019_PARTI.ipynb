{
 "cells": [
  {
   "cell_type": "markdown",
   "metadata": {},
   "source": [
    " ## HUMBIO51 Midterm\n",
    " \n",
    "This is an open note take-home midterm exam.  \n",
    "\n",
    "You may refer to class notes and any on-line references you find helpful. \n",
    "\n",
    "You may copy code from your notes or previous assignments as a starting template. You can also import and use helper functions that we wrote in class. \n",
    "\n",
    "You may not discuss the assignment with others, the exam is subject to the honor code. \n",
    "\n",
    "You can contact the instructors for clarifications on the questions. \n",
    "\n",
    "Partial credit will be given, so even if you have an error message in the code that you are unable to work out still complete as much of the code as possible. \n",
    "  "
   ]
  },
  {
   "cell_type": "markdown",
   "metadata": {},
   "source": [
    "### QUESTION 1a \n",
    "\n",
    "As we learned in class, DNA usually codes for RNA which gets translated into protein. However, there are some viruses, called retroviruses, that can make DNA from RNA. Human immunodeficiency virus (HIV) is an example of a retrovirus. \n",
    "\n",
    "This question will look at the HIV sequence from NCBI. "
   ]
  },
  {
   "cell_type": "code",
   "execution_count": null,
   "metadata": {},
   "outputs": [],
   "source": [
    "#Define a helper function to write a DNA sequence from an RNA sequence"
   ]
  },
  {
   "cell_type": "markdown",
   "metadata": {},
   "source": [
    "### QUESTION 1b\n",
    "\n",
    "The HIV1 RNA sequence has been saved in the file: data/NC_001802_HIV1_RNA.txt \n",
    "from the starting working directory for this assignment. "
   ]
  },
  {
   "cell_type": "code",
   "execution_count": null,
   "metadata": {},
   "outputs": [],
   "source": [
    "#Read the FASTA RNA sequence for HIV1 (data/NC_001802_HIV1_RNA.txt) into Python. \n",
    "#Use the helper function defined in question 1a to define a variable in Python with the HIV1 DNA sequence. "
   ]
  },
  {
   "cell_type": "markdown",
   "metadata": {},
   "source": [
    "### QUESTION 1c"
   ]
  },
  {
   "cell_type": "code",
   "execution_count": null,
   "metadata": {},
   "outputs": [],
   "source": [
    "#Print the first 70 characters of the variable for the HIV1 DNA sequence \n",
    "#Remember to use zero-based numbering "
   ]
  },
  {
   "cell_type": "markdown",
   "metadata": {},
   "source": [
    "### QUESTION 1d\n",
    "\n",
    "How many open reading frames (bases between the start and stop codon pairs) are there in the HIV1_DNA sequence that have a length > 150base pairs? \n",
    "\n",
    "Write a block of code that prints out ONLY the following string: \"The number of open reading frames with >300 base pairs is: \" followed by the number of open reading frames >300 base pairs.  "
   ]
  },
  {
   "cell_type": "code",
   "execution_count": null,
   "metadata": {},
   "outputs": [],
   "source": [
    "#Show your code for calcuating the number of open reading frames > 150 base pairs"
   ]
  },
  {
   "cell_type": "markdown",
   "metadata": {},
   "source": [
    "### QUESTION 1e\n",
    "\n",
    "The gene in HIV-1 RNA that gets translated into the gag protein which is required for virus assembly is from position 336 to 1838 (1-based numbering) in the RNA sequence.\n"
   ]
  },
  {
   "cell_type": "code",
   "execution_count": null,
   "metadata": {},
   "outputs": [],
   "source": [
    "#Write out the protein sequence for the gag protein. "
   ]
  },
  {
   "cell_type": "markdown",
   "metadata": {},
   "source": [
    "### QUESTION 1f\n",
    "\n",
    "The A431V and I437V mutations in gag can affect resistance to protease inhibitors which are used to treat HIV (see more [here](https://www.ncbi.nlm.nih.gov/pubmed/19300491)). Make a gag sequence with both mutations. "
   ]
  },
  {
   "cell_type": "code",
   "execution_count": null,
   "metadata": {},
   "outputs": [],
   "source": [
    " #Write out the gag protein sequence with BOTH the A431V and I437V mutations. "
   ]
  },
  {
   "cell_type": "markdown",
   "metadata": {},
   "source": [
    "### QUESTION 1g\n",
    "\n",
    "Double stranded DNA that is made from RNA in retroviruses can integrate into genomes, causing persistent infections. \n",
    "\n",
    "Researchers have identified position 33059398 in the hg19 version of the human genome as a common location where the HIV viral sequence will integrate into the human genome (see link [here](https://www.ncbi.nlm.nih.gov/pmc/articles/PMC4836361/) for more information.) \n",
    "\n",
    "Look up the site in the [WashU Epigenome Browser ](http://epigenomegateway.wustl.edu/legacy/). "
   ]
  },
  {
   "cell_type": "markdown",
   "metadata": {},
   "source": [
    "What gene is the 33059398 site in? "
   ]
  },
  {
   "cell_type": "markdown",
   "metadata": {},
   "source": [
    "<b>YOUR ANSWER HERE:</b>"
   ]
  },
  {
   "cell_type": "markdown",
   "metadata": {},
   "source": [
    "Will insertion of the viral genome at this site affect translation of a protein in the human genome? Why or why not?"
   ]
  },
  {
   "cell_type": "markdown",
   "metadata": {},
   "source": [
    "<b>YOUR ANSWER HERE:</b>"
   ]
  }
 ],
 "metadata": {
  "kernelspec": {
   "display_name": "Python 3",
   "language": "python",
   "name": "python3"
  },
  "language_info": {
   "codemirror_mode": {
    "name": "ipython",
    "version": 3
   },
   "file_extension": ".py",
   "mimetype": "text/x-python",
   "name": "python",
   "nbconvert_exporter": "python",
   "pygments_lexer": "ipython3",
   "version": "3.7.3"
  }
 },
 "nbformat": 4,
 "nbformat_minor": 4
}
