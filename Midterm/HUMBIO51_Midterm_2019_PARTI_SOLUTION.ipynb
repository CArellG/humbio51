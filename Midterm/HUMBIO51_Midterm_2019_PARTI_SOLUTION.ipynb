{
 "cells": [
  {
   "cell_type": "markdown",
   "metadata": {},
   "source": [
    " ## HUMBIO51 Midterm\n",
    " \n",
    "This is an open note take-home midterm exam.  \n",
    "\n",
    "You may refer to class notes and any on-line references you find helpful. \n",
    "\n",
    "You may copy code from your notes or previous assignments as a starting template. You can also import and use helper functions that we wrote in class. \n",
    "\n",
    "You may not discuss the assignment with others, the exam is subject to the honor code. \n",
    "\n",
    "You can contact the instructors for clarifications on the questions. \n",
    "\n",
    "Partial credit will be given, so even if you have an error message in the code that you are unable to work out still complete as much of the code as possible. \n",
    "  "
   ]
  },
  {
   "cell_type": "code",
   "execution_count": 41,
   "metadata": {},
   "outputs": [],
   "source": [
    "##INSTRUCTOR INFO TAKE OUT FOR EXAM\n",
    "import sys\n",
    "sys.path.append('../helpers')\n",
    "\n",
    "#Imports the module central_dogma_helpers.py\n",
    "import central_dogma_helpers\n",
    "from central_dogma_helpers import *\n",
    "\n",
    "def insert_newlines(string,every=70):\n",
    "    lines=[]\n",
    "    for i in range(0,len(string),every):\n",
    "        lines.append(string[i:i+every])\n",
    "    return lines\n",
    "\n",
    "HIV1_DNA=read_nt_from_fastasequence('data_instructor/NC_001802.1_HIV1.txt')\n",
    "HIV1_RNA=write_RNA_from_DNA(HIV1_DNA)\n",
    "HIV1_RNA_lines=insert_newlines(HIV1_RNA)\n",
    "\n",
    "\n",
    "f =open('data/NC_001802_HIV1_RNA.txt', 'w') \n",
    "for line in HIV1_RNA_lines:\n",
    "    f.write(line)\n",
    "    f.write(\"\\n\")\n",
    "f.close()\n"
   ]
  },
  {
   "cell_type": "markdown",
   "metadata": {},
   "source": [
    "### QUESTION 1a \n",
    "\n",
    "As we learned in class, DNA usually codes for RNA which gets translated into protein. However, there are some viruses, called retroviruses, that can make DNA from RNA. Human immunodeficiency virus (HIV) is an example of a retrovirus. \n",
    "\n",
    "This question will look at the HIV sequence from NCBI. "
   ]
  },
  {
   "cell_type": "code",
   "execution_count": 4,
   "metadata": {},
   "outputs": [],
   "source": [
    "#Define a helper function to write a DNA sequence from an RNA sequence\n",
    "def write_DNA_from_RNA(RNAsequence):\n",
    "    DNAsequence=RNAsequence.replace('U','T')\n",
    "    return(DNAsequence)"
   ]
  },
  {
   "cell_type": "markdown",
   "metadata": {},
   "source": [
    "### QUESTION 1b\n",
    "\n",
    "The HIV1 RNA sequence has been saved in the file: data/NC_001802_HIV1_RNA.txt \n",
    "from the starting working directory for this assignment. "
   ]
  },
  {
   "cell_type": "code",
   "execution_count": 19,
   "metadata": {},
   "outputs": [],
   "source": [
    "#Read the FASTA RNA sequence for HIV1 (data/NC_001802_HIV1_RNA.txt) into Python. \n",
    "#Use the helper function defined in question 1a to define a variable in Python with the HIV1 DNA sequence. \n",
    "import sys\n",
    "sys.path.append('../helpers')\n",
    "\n",
    "#Imports the module central_dogma_helpers.py\n",
    "import central_dogma_helpers\n",
    "from central_dogma_helpers import *\n",
    "\n",
    "HIV1_RNA=read_nt_from_fastasequence('data/NC_001802_HIV1_RNA.txt')\n",
    "HIV1_DNA=write_DNA_from_RNA(HIV1_RNA)"
   ]
  },
  {
   "cell_type": "markdown",
   "metadata": {},
   "source": [
    "### QUESTION 1c"
   ]
  },
  {
   "cell_type": "code",
   "execution_count": 6,
   "metadata": {},
   "outputs": [
    {
     "name": "stdout",
     "output_type": "stream",
     "text": [
      "GGTCTCTCTGGTTAGACCAGATCTGAGCCTGGGAGCTCTCTGGCTAACTAGGGAACCCACTGCTTAAGCC\n"
     ]
    }
   ],
   "source": [
    "#Print the first 70 characters of the variable for the HIV1 DNA sequence \n",
    "#Remember to use zero-based numbering \n",
    "print(HIV1_DNA[0:70])"
   ]
  },
  {
   "cell_type": "markdown",
   "metadata": {},
   "source": [
    "### QUESTION 1d\n",
    "\n",
    "How many open reading frames (bases between the start and stop codon pairs) are there in the HIV1_DNA sequence that have a length > 150base pairs? \n",
    "\n",
    "Write a block of code that prints out ONLY the following string: \"The number of open reading frames with >300 base pairs is: \" followed by the number of open reading frames >300 base pairs.  "
   ]
  },
  {
   "cell_type": "code",
   "execution_count": 7,
   "metadata": {},
   "outputs": [
    {
     "name": "stdout",
     "output_type": "stream",
     "text": [
      "The number of open reading frames with > 300 base pairs is: 50\n"
     ]
    }
   ],
   "source": [
    "#Show your code for calcuating the number of open reading frames > 150 base pairs\n",
    "\n",
    "k=0\n",
    "for i in range(0,len(HIV1_DNA)):\n",
    "      if HIV1_DNA[i:i+3]=='ATG':\n",
    "        \n",
    "        #loops over each character in the mRNAsequence and looks to see if it is a stop codon TAA,TAG or TGA.\n",
    "        for j in range(i+3,len(HIV1_DNA),3):\n",
    "            if HIV1_DNA[j:j+3]=='TAA' or \\\n",
    "               HIV1_DNA[j:j+3]=='TAG' or \\\n",
    "               HIV1_DNA[j:j+3]=='TGA': \n",
    "                    if j-i>300:\n",
    "                        k=k+1\n",
    "                    break\n",
    "print (\"The number of open reading frames with > 300 base pairs is: \"+ str(k))"
   ]
  },
  {
   "cell_type": "markdown",
   "metadata": {},
   "source": [
    "### QUESTION 1e\n",
    "\n",
    "The gene in HIV-1 RNA that gets translated into the gag protein which is required for virus assembly is from position 336 to 1838 (1-based numbering) in the RNA sequence.\n"
   ]
  },
  {
   "cell_type": "code",
   "execution_count": 28,
   "metadata": {},
   "outputs": [
    {
     "name": "stdout",
     "output_type": "stream",
     "text": [
      "MGARASVLSGGELDRWEKIRLRPGGKKKYKLKHIVWASRELERFAVNPGLLETSEGCRQILGQLQPSLQTGSEELRSLYNTVATLYCVHQRIEIKDTKEALDKIEEEQNKSKKKAQQAAADTGHSNQVSQNYPIVQNIQGQMVHQAISPRTLNAWVKVVEEKAFSPEVIPMFSALSEGATPQDLNTMLNTVGGHQAAMQMLKETINEEAAEWDRVHPVHAGPIAPGQMREPRGSDIAGTTSTLQEQIGWMTNNPPIPVGEIYKRWIILGLNKIVRMYSPTSILDIRQGPKEPFRDYVDRFYKTLRAEQASQEVKNWMTETLLVQNANPDCKTILKALGPAATLEEMMTACQGVGGPGHKARVLAEAMSQVTNSATIMMQRGNFRNQRKIVKCFNCGKEGHTARNCRAPRKKGCWKCGKEGHQMKDCTERQANFLGKIWPSYKGRPGNFLQSRPEPTAPPEESFRSGVETTTPPQKQEPIDKELYPLTSLRSLFGNDPSSQ*\n"
     ]
    }
   ],
   "source": [
    "#Write out the protein sequence for the gag protein. \n",
    "gag=write_protein_1_letter_aa_from_RNA(HIV1_RNA[335:1838])\n",
    "print(gag)"
   ]
  },
  {
   "cell_type": "markdown",
   "metadata": {},
   "source": [
    "### QUESTION 1f\n",
    "\n",
    "The A431V and I437V mutations in gag can affect resistance to protease inhibitors which are used to treat HIV (see more [here](https://www.ncbi.nlm.nih.gov/pubmed/19300491)). Make a gag sequence with both mutations. "
   ]
  },
  {
   "cell_type": "code",
   "execution_count": 43,
   "metadata": {},
   "outputs": [],
   "source": [
    " #Write out the gag protein sequence with BOTH the A431V and I437V mutations. "
   ]
  },
  {
   "cell_type": "markdown",
   "metadata": {},
   "source": [
    "### QUESTION 1g\n",
    "\n",
    "Double stranded DNA that is made from RNA in retroviruses can integrate into genomes, causing persistent infections. \n",
    "\n",
    "Researchers have identified position 33059398 in the hg19 version of the human genome as a common location where the HIV viral sequence will integrate into the human genome (see link [here](https://www.ncbi.nlm.nih.gov/pmc/articles/PMC4836361/) for more information.) \n",
    "\n",
    "Look up the site in the [WashU Epigenome Browser ](http://epigenomegateway.wustl.edu/legacy/). "
   ]
  },
  {
   "cell_type": "markdown",
   "metadata": {},
   "source": [
    "What gene is the 33059398 site in? "
   ]
  },
  {
   "cell_type": "markdown",
   "metadata": {},
   "source": [
    "<b>YOUR ANSWER HERE:</b>"
   ]
  },
  {
   "cell_type": "markdown",
   "metadata": {},
   "source": [
    "Will insertion of the viral genome at this site affect translation of a protein in the human genome? Why or why not?"
   ]
  },
  {
   "cell_type": "markdown",
   "metadata": {},
   "source": [
    "<b>YOUR ANSWER HERE:</b>"
   ]
  },
  {
   "cell_type": "code",
   "execution_count": null,
   "metadata": {},
   "outputs": [],
   "source": [
    "write_protein_1_letter_aa_from_RNA"
   ]
  }
 ],
 "metadata": {
  "kernelspec": {
   "display_name": "Python 3",
   "language": "python",
   "name": "python3"
  },
  "language_info": {
   "codemirror_mode": {
    "name": "ipython",
    "version": 3
   },
   "file_extension": ".py",
   "mimetype": "text/x-python",
   "name": "python",
   "nbconvert_exporter": "python",
   "pygments_lexer": "ipython3",
   "version": "3.7.3"
  }
 },
 "nbformat": 4,
 "nbformat_minor": 4
}
