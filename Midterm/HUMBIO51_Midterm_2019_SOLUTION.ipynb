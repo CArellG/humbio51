{
 "cells": [
  {
   "cell_type": "code",
   "execution_count": null,
   "metadata": {},
   "outputs": [],
   "source": []
  },
  {
   "cell_type": "code",
   "execution_count": null,
   "metadata": {},
   "outputs": [],
   "source": []
  },
  {
   "cell_type": "code",
   "execution_count": null,
   "metadata": {},
   "outputs": [],
   "source": []
  },
  {
   "cell_type": "code",
   "execution_count": null,
   "metadata": {},
   "outputs": [],
   "source": []
  },
  {
   "cell_type": "code",
   "execution_count": null,
   "metadata": {},
   "outputs": [],
   "source": []
  },
  {
   "cell_type": "code",
   "execution_count": null,
   "metadata": {},
   "outputs": [],
   "source": []
  },
  {
   "cell_type": "code",
   "execution_count": null,
   "metadata": {},
   "outputs": [],
   "source": []
  },
  {
   "cell_type": "markdown",
   "metadata": {},
   "source": [
    "1) \n",
    "\n",
    "* 1 gene that is homologous human/chimp (i.e. hoxa) -- MYOG \n",
    "\n",
    "* 1 gene that is human-specific (i.e. brain gene) -- NRGN \n",
    "(3 genes total) \n",
    "\n",
    "-- given bed coordinates of exons \n",
    "\n",
    "-- extract fasta sequence of all 3 genes \n",
    "\n",
    "-- get rna \n",
    "\n",
    "-- get aa \n",
    "\n",
    "-- perform msa \n",
    "\n",
    "Which gene is common with chimps? \n",
    "\n",
    "2) Examine the bed file coordinates in WashU browser -- what are the identities of the genes? \n",
    "\n",
    "\n",
    "3) Which tissues are the genes expressed in? \n",
    "-- use the gene names from 2) to extract the TPM values for the genes \n",
    "\n",
    "-- generate a sorted plot of expression by samples. (give hint on sort function) \n",
    "\n",
    "4) where do teh genes clsuter on PCA? \n",
    "-- perform RNAseq matrix pca \n",
    "\n",
    "-- find where the 2 human genes fall in the PCA -- determine organ systems that they cluster with \n",
    "\n"
   ]
  },
  {
   "cell_type": "markdown",
   "metadata": {},
   "source": [
    "retrovirus -- switching around the coding regions \n",
    "* define a helper function \n",
    "* give coordinates for where virus integrates in the genome. they get fasta,  how does the coding sequence change when virus inserts ? \n"
   ]
  },
  {
   "cell_type": "code",
   "execution_count": null,
   "metadata": {},
   "outputs": [],
   "source": []
  }
 ],
 "metadata": {
  "kernelspec": {
   "display_name": "Python 3",
   "language": "python",
   "name": "python3"
  },
  "language_info": {
   "codemirror_mode": {
    "name": "ipython",
    "version": 3
   },
   "file_extension": ".py",
   "mimetype": "text/x-python",
   "name": "python",
   "nbconvert_exporter": "python",
   "pygments_lexer": "ipython3",
   "version": "3.7.3"
  }
 },
 "nbformat": 4,
 "nbformat_minor": 4
}
