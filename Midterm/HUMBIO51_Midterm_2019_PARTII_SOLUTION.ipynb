{
 "cells": [
  {
   "cell_type": "markdown",
   "metadata": {},
   "source": [
    "## QUESTION 2\n",
    "\n",
    "We are interested in examining the evolutionary behavior and expression patterns of two genes, GENE1 and GENE2. We have found the coordinates of both genes in the hg19 (human) and mm9 (mouse) reference assemblies. These coordinates are provided in the following bed files: \n",
    "\n",
    "* data/GENE1.hg19.exons.bed \n",
    "* data/GENE2.hg19.exons.bed \n",
    "* data/GENE1.mm9.exons.bed \n",
    "* data/GENE2.mm9.exons.bed \n",
    "\n"
   ]
  },
  {
   "cell_type": "markdown",
   "metadata": {},
   "source": [
    "### 2a) \n",
    "Extract the fasta DNA sequence for each human gene. Store the fasta sequences in the files: \n",
    "\n",
    "* data/GENE1.hg19.exons.fa\n",
    "* data/GENE2.hg19.exons.fa\n",
    "* data/GENE1.mm9.exons.fa  --> We have already generated this file for you. \n",
    "* data/GENE2.mm9.exons.fa --> We have already generated this file for you. \n",
    "\n",
    "Hint: You can find the reference hg19 assembly in /data/hg19.genome.fa"
   ]
  },
  {
   "cell_type": "code",
   "execution_count": 1,
   "metadata": {},
   "outputs": [],
   "source": [
    "## BEGIN SOLUTION ## \n",
    "!fastaFromBed  -fi /users/annashch/male.hg19.fa -bed data/GENE1.hg19.exons.bed > data/GENE1.hg19.exons.fa\n",
    "!fastaFromBed  -fi /users/annashch/male.hg19.fa -bed data/GENE2.hg19.exons.bed > data/GENE2.hg19.exons.fa\n",
    "## END SOLUTION ## "
   ]
  },
  {
   "cell_type": "markdown",
   "metadata": {},
   "source": [
    "## 2b) \n",
    "Write a function to convert a fasta format DNA file to a file with a single string of DNA bases. \n",
    "For example: \n",
    "```    \n",
    ">seq1\n",
    "AAAAA\n",
    ">seq2\n",
    "TTTT\n",
    "```\n",
    "would be converted to: \n",
    "```\n",
    "AAAATTTT\n",
    "```"
   ]
  },
  {
   "cell_type": "code",
   "execution_count": 2,
   "metadata": {},
   "outputs": [],
   "source": [
    "def fasta_to_string(input_fasta_file,output_string_file): \n",
    "## BEGIN SOLUTION \n",
    "    out_string=\"\"\n",
    "    input_fasta=open(input_fasta_file,'r').read().strip().split('\\n')\n",
    "    for line in input_fasta: \n",
    "        if line.startswith('>')==False:\n",
    "            out_string=out_string+line\n",
    "    outf=open(output_string_file,'w')\n",
    "    outf.write(out_string)\n",
    "    outf.close() \n",
    "## END SOLUTION \n"
   ]
  },
  {
   "cell_type": "code",
   "execution_count": 3,
   "metadata": {},
   "outputs": [
    {
     "name": "stdout",
     "output_type": "stream",
     "text": [
      "TCAGTTGGGCATGGTTTCATCTGGGAAGGCCACAGACACATCTTCCACTGTGATGCTGTCCACGATGGAGGTGAGGGAGTGCAGGTTGTGGGCATCTGTAGGGTCAGCCGTGAGCAGATGATCCCTGGGTTGGCGCTGAACTCCAGTGCACTGCCCCACTCTGGACTGCAGGAGGCGCTGTGAGAGCTGCATTCGCTGGGCACCCCCTGGCTGGGGCCCGCCCCCGCCCCGGTAGCGGAGGTCACGCTCCTCCTGGTTGAGGGAGCTGAGCAGGGCCTGGAGGCGCTCGATGTACTGGATGGCACTGCGCAGGATCTCCACCTTGGGCAGCCGCTGGTTGGGGTTGAGCAGGGTGCTTCTCTTCAGGGCCTCGAAGGCCTCATTCACCTTCTTGAGCCTGCGCTTCTCCCTCAGTGTGGCCGCCCGCCGCCGGTCCACGGACACCGACTTCCTCTTACACACCTTACACGCCCACGGCAGGCACTGGCCTGGACAGTGCTCGGGGGTCCCCAGCCCCTTGTCCTCAAGGGGCCCTGGGGCCTCGGGGCTCAGGGTGAGCTCCGTCCGCTCGTAGCCTGGTGGTTCGAAGCCCTGGAGGTGGACAGGCAGGTAGTTTTCCCCATCATAGAAGCGGGGTTCCTGGTAGAAGTAGGGGGATGTCTCATACAGCTCCAT"
     ]
    }
   ],
   "source": [
    "fasta_to_string(\"data/GENE1.hg19.exons.fa\",\"data/GENE1.hg19.exons.dna.txt\")\n",
    "fasta_to_string(\"data/GENE2.hg19.exons.fa\",\"data/GENE2.hg19.exons.dna.txt\")\n",
    "fasta_to_string(\"data/GENE1.mm9.exons.fa\",\"data/GENE1.mm9.exons.dna.txt\")\n",
    "fasta_to_string(\"data/GENE2.mm9.exons.fa\",\"data/GENE2.mm9.exons.dna.txt\")\n",
    "\n",
    "#Sanity check one of the files to ensure your fasta-to-string conversion is working properly \n",
    "!cat GENE1.hg19.exons.dna.txt"
   ]
  },
  {
   "cell_type": "markdown",
   "metadata": {},
   "source": [
    "### 2c) \n",
    "Use the helper functions we defined in class to extract the RNA sequence for each of the 4 genes. \n",
    "Hint: We have added a new function called \"reverse_complement\" in the central_dogma_helpers help file. This function computes the reverse complement sequence for genes on the negative strand. An example use case is below: \n"
   ]
  },
  {
   "cell_type": "code",
   "execution_count": 4,
   "metadata": {},
   "outputs": [
    {
     "data": {
      "text/plain": [
       "'AGT'"
      ]
     },
     "execution_count": 4,
     "metadata": {},
     "output_type": "execute_result"
    }
   ],
   "source": [
    "import sys \n",
    "sys.path.append(\"../helpers/\")\n",
    "from central_dogma_helpers import * \n",
    "reverse_complement(\"ACT\")"
   ]
  },
  {
   "cell_type": "code",
   "execution_count": 5,
   "metadata": {},
   "outputs": [
    {
     "name": "stdout",
     "output_type": "stream",
     "text": [
      "AUGGAGCUGUAUGAGACAUCCCCCUACUUCUACCAGGAACCCCGCUUCUAUGAUGGGGAAAACUACCUGCCUGUCCACCUCCAGGGCUUCGAACCACCAGGCUACGAGCGGACGGAGCUCACCCUGAGCCCCGAGGCCCCAGGGCCCCUUGAGGACAAGGGGCUGGGGACCCCCGAGCACUGUCCAGGCCAGUGCCUGCCGUGGGCGUGUAAGGUGUGUAAGAGGAAGUCGGUGUCCGUGGACCGGCGGCGGGCGGCCACACUGAGGGAGAAGCGCAGGCUCAAGAAGGUGAAUGAGGCCUUCGAGGCCCUGAAGAGAAGCACCCUGCUCAACCCCAACCAGCGGCUGCCCAAGGUGGAGAUCCUGCGCAGUGCCAUCCAGUACAUCGAGCGCCUCCAGGCCCUGCUCAGCUCCCUCAACCAGGAGGAGCGUGACCUCCGCUACCGGGGCGGGGGCGGGCCCCAGCCAGGGGGUGCCCAGCGAAUGCAGCUCUCACAGCGCCUCCUGCAGUCCAGAGUGGGGCAGUGCACUGGAGUUCAGCGCCAACCCAGGGAUCAUCUGCUCACGGCUGACCCUACAGAUGCCCACAACCUGCACUCCCUCACCUCCAUCGUGGACAGCAUCACAGUGGAAGAUGUGUCUGUGGCCUUCCCAGAUGAAACCAUGCCCAACUGA\n"
     ]
    }
   ],
   "source": [
    "#Uses the variables gene1_hg19_rna, gene2_hg19_rna, gene1_mm9_rna, gene2_mm9_rna to store the RNA sequences. \n",
    "## BEGIN SOLUTION \n",
    "gene1_hg19_rna=write_RNA_from_DNA(reverse_complement(open(\"data/GENE1.hg19.exons.dna.txt\",'r').read()))\n",
    "gene2_hg19_rna=write_RNA_from_DNA(open(\"data/GENE2.hg19.exons.dna.txt\",'r').read())\n",
    "gene1_mm9_rna=write_RNA_from_DNA(open(\"data/GENE1.mm9.exons.dna.txt\",'r').read())\n",
    "gene2_mm9_rna=write_RNA_from_DNA(reverse_complement(open(\"data/GENE2.mm9.exons.dna.txt\",'r').read()))\n",
    "## END SOLUTION \n",
    "print(gene1_hg19_rna)\n"
   ]
  },
  {
   "cell_type": "markdown",
   "metadata": {},
   "source": [
    "## 2d) \n",
    "Use the helper functions we defined in class to extract the 1-letter amino acid sequence for each gene. \n"
   ]
  },
  {
   "cell_type": "code",
   "execution_count": 8,
   "metadata": {},
   "outputs": [
    {
     "name": "stdout",
     "output_type": "stream",
     "text": [
      "gene1_hg19_aa:\n",
      "MELYETSPYFYQEPRFYDGENYLPVHLQGFEPPGYERTELTLSPEAPGPLEDKGLGTPEHCPGQCLPWACKVCKRKSVSVDRRRAATLREKRRLKKVNEAFEALKRSTLLNPNQRLPKVEILRSAIQYIERLQALLSSLNQEERDLRYRGGGGPQPGGAQRMQLSQRLLQSRVGQCTGVQRQPRDHLLTADPTDAHNLHSLTSIVDSITVEDVSVAFPDETMPN*\n",
      "gene1_mm9_aa:\n",
      "MELYETSPYFYQEPHFYDGENYLPVHLQGFEPPGYERTELSLSPEARGPLEEKGLGTPEHCPGQCLPWACKVCKRKSVSVDRRRAATLREKRRLKKVNEAFEALKRSTLLNPNQRLPKVEILRSAIQYIERLQALLSSLNQEERDLRYRGGGGPQPMVPSECNSHSASCSPEWGNALEFGPNPGDHLLAADPTDAHNLHSLTSIVDSITVEDMSVAFPDETMPN*\n",
      "gene2_hg19_aa\n",
      "MDCCTENACSKPDDDILDIPLDDPGANAAAAKIQASFRGHMARKKIKSGERGRKGPGPGGPGGAGVARGGAGGGPSGD*\n",
      "gene2_mm9_aa\n",
      "MDCCTESACSKPDDDILDIPLDDPGANAAAAKIQASFRGHMARKKIKSGECGRKGPGPGGPGGAGGARGGAGGGPSGD*\n"
     ]
    }
   ],
   "source": [
    "#Uses the variables gene1_hg19_aa, gene2_hg19_aa, gene1_mm9_aa, gene2_mm9_aa to store the RNA sequences. \n",
    "\n",
    "## BEGIN SOLUTION ## \n",
    "gene1_hg19_aa=write_protein_1_letter_aa_from_RNA(gene1_hg19_rna)\n",
    "gene2_hg19_aa=write_protein_1_letter_aa_from_RNA(gene2_hg19_rna)\n",
    "gene1_mm9_aa=write_protein_1_letter_aa_from_RNA(gene1_mm9_rna)\n",
    "gene2_mm9_aa=write_protein_1_letter_aa_from_RNA(gene2_mm9_rna)\n",
    "## END SOLUTION \n",
    "print(\"gene1_hg19_aa:\")\n",
    "print(gene1_hg19_aa)\n",
    "\n",
    "print(\"gene1_mm9_aa:\")\n",
    "print(gene1_mm9_aa)\n",
    "\n",
    "print(\"gene2_hg19_aa\")\n",
    "print(gene2_hg19_aa)\n",
    "\n",
    "print(\"gene2_mm9_aa\")\n",
    "print(gene2_mm9_aa)"
   ]
  },
  {
   "cell_type": "markdown",
   "metadata": {},
   "source": [
    "## 2e) \n",
    "\n",
    "Use the pairwise2.align module to perform pairwise-sequence alignment between  gene1_hg19_aa and gene1_mm9_aa "
   ]
  },
  {
   "cell_type": "code",
   "execution_count": 10,
   "metadata": {},
   "outputs": [],
   "source": [
    "import sequence_alignment_helpers\n",
    "from sequence_alignment_helpers import *\n",
    "from Bio import pairwise2 "
   ]
  },
  {
   "cell_type": "code",
   "execution_count": 11,
   "metadata": {},
   "outputs": [
    {
     "name": "stdout",
     "output_type": "stream",
     "text": [
      "gene1_hg19_aa: MELYETSPYFYQEPR-FYDGENYLPVHLQGFEPPGYERTELT-LSPEAP-\n",
      "               ||||||||||||||||||||||||||||||||||||||||||||||||||\n",
      "gene1_mm9_aa:  MELYETSPYFYQEP-HFYDGENYLPVHLQGFEPPGYERTEL-SLSPEA-R\n",
      "\n",
      "gene1_hg19_aa: GPLED-KGLGTPEHCPGQCLPWACKVCKRKSVSVDRRRAATLREKRRLKK\n",
      "               ||||||||||||||||||||||||||||||||||||||||||||||||||\n",
      "gene1_mm9_aa:  GPLE-EKGLGTPEHCPGQCLPWACKVCKRKSVSVDRRRAATLREKRRLKK\n",
      "\n",
      "gene1_hg19_aa: VNEAFEALKRSTLLNPNQRLPKVEILRSAIQYIERLQALLSSLNQEERDL\n",
      "               ||||||||||||||||||||||||||||||||||||||||||||||||||\n",
      "gene1_mm9_aa:  VNEAFEALKRSTLLNPNQRLPKVEILRSAIQYIERLQALLSSLNQEERDL\n",
      "\n",
      "gene1_hg19_aa: RYRGGGGPQPGGAQRMQL--SQRLLQ---SRVGQ----CT----GVQRQ-\n",
      "               ||||||||||||||||||||||||||||||||||||||||||||||||||\n",
      "gene1_mm9_aa:  RYRGGGGPQP-----M--VPS-----ECNS----HSASC-SPEWG----N\n",
      "\n",
      "gene1_hg19_aa: -----PR---DHLLTA-DPTDAHNLHSLTSIVDSITVEDV-SVAFPDETM\n",
      "               ||||||||||||||||||||||||||||||||||||||||||||||||||\n",
      "gene1_mm9_aa:  ALEFGP-NPGDHLL-AADPTDAHNLHSLTSIVDSITVED-MSVAFPDETM\n",
      "\n",
      "gene1_hg19_aa: PN*\n",
      "               |||\n",
      "gene1_mm9_aa:  PN*\n",
      "\n",
      "  Score=  197\n",
      "  Begin=  0\n",
      "  End  =  253\n",
      "  Length= 253\n",
      "\n"
     ]
    }
   ],
   "source": [
    "## BEGIN SOLUTION ## \n",
    "alignments = pairwise2.align.globalxx(gene1_hg19_aa, gene1_mm9_aa)\n",
    "#uses the sequence_alignment_helper functions to print the alignments with a nice format\n",
    "align1_linebreaks=insert_newlines(alignments[0][0])\n",
    "align2_linebreaks=insert_newlines(alignments[0][1])\n",
    " \n",
    "#format_alignment_linebreak inputs are: align1_linebreaks,align2_linebreaks,score,begin,end,seq1,seq2\n",
    "print(format_alignment_linebreak(align1_linebreaks,align2_linebreaks,alignments[0][2],alignments[0][3],\n",
    "                                 alignments[0][4],'gene1_hg19_aa','gene1_mm9_aa'))\n",
    "\n",
    "## END SOLUTION ## \n"
   ]
  },
  {
   "cell_type": "markdown",
   "metadata": {},
   "source": [
    "## 2f) \n",
    "Use the pairwise2.align module to perform pairwise-sequence alignment between gene2_hg19_aa and gene2_mm9_aa "
   ]
  },
  {
   "cell_type": "code",
   "execution_count": 12,
   "metadata": {},
   "outputs": [
    {
     "name": "stdout",
     "output_type": "stream",
     "text": [
      "gene2_hg19_aa: MDCCTEN-ACSKPDDDILDIPLDDPGANAAAAKIQASFRGHMARKKIKSG\n",
      "               ||||||||||||||||||||||||||||||||||||||||||||||||||\n",
      "gene2_mm9_aa:  MDCCTE-SACSKPDDDILDIPLDDPGANAAAAKIQASFRGHMARKKIKSG\n",
      "\n",
      "gene2_hg19_aa: ER-GRKGPGPGGPGGAGV-ARGGAGGGPSGD*\n",
      "               ||||||||||||||||||||||||||||||||\n",
      "gene2_mm9_aa:  E-CGRKGPGPGGPGGAG-GARGGAGGGPSGD*\n",
      "\n",
      "  Score=  76\n",
      "  Begin=  0\n",
      "  End  =  82\n",
      "  Length= 82\n",
      "\n"
     ]
    }
   ],
   "source": [
    "alignments = pairwise2.align.globalxx(gene2_hg19_aa, gene2_mm9_aa)\n",
    "#uses the sequence_alignment_helper functions to print the alignments with a nice format\n",
    "align1_linebreaks=insert_newlines(alignments[0][0])\n",
    "align2_linebreaks=insert_newlines(alignments[0][1])\n",
    " \n",
    "\n",
    "#format_alignment_linebreak inputs are: align1_linebreaks,align2_linebreaks,score,begin,end,seq1,seq2\n",
    "print(format_alignment_linebreak(align1_linebreaks,align2_linebreaks,alignments[0][2],alignments[0][3],\n",
    "                                 alignments[0][4],'gene2_hg19_aa','gene2_mm9_aa'))\n"
   ]
  },
  {
   "cell_type": "markdown",
   "metadata": {},
   "source": [
    "## 2g) \n",
    "Which gene is more conserved between humans and mice, GENE1 or GENE2? How can you tell? \n",
    "\n"
   ]
  },
  {
   "cell_type": "markdown",
   "metadata": {},
   "source": [
    "#### BEGIN ANSWER #### \n",
    "GENE2 has a higher fraction of conserved bases. \n",
    "#### END ANSWER #### "
   ]
  },
  {
   "cell_type": "markdown",
   "metadata": {},
   "source": [
    "## QUESTION 3 \n",
    "\n",
    "We would like to learn what organ system GENE1 and GENE2 are most highly expressed in within the mouse. To do this, we will use RNAseq data from ENCODE (http://chromosome.sdsc.edu/mouse/download.html). We have pre-processed the data into a gene expression matrix (mm9.rnaseq.fpkm.tsv) and a corresponding metadata file (mm9.rnaseq.metadata.tsv). You will use these files for question 2. \n",
    "\n"
   ]
  },
  {
   "cell_type": "markdown",
   "metadata": {},
   "source": [
    "### 3a) ###\n",
    "\n",
    "Use the WashU browser to determine the identity of GENE1 and GENE2. Note: please report bot the common gene name and the NM_ identifier value from the mm9 genome. \n",
    "\n"
   ]
  },
  {
   "cell_type": "markdown",
   "metadata": {},
   "source": [
    "#### BEGIN ANSWER #### \n",
    "GENE1 is: MYOG (NM_031189)\n",
    "\n",
    "\n",
    "GENE2 is: NRGN (NM_022029) \n",
    "\n",
    "#### END ANSWER ####"
   ]
  },
  {
   "cell_type": "markdown",
   "metadata": {},
   "source": [
    "### 3b) ###\n",
    "Read in the RNA-Seq datatable \"data/mm9.rnaseq.fpkm.tsv\" into a dataframe using the pandas package. Use the head command to print the first 10 lines of the dataframe."
   ]
  },
  {
   "cell_type": "code",
   "execution_count": 14,
   "metadata": {},
   "outputs": [
    {
     "data": {
      "text/html": [
       "<div>\n",
       "<style scoped>\n",
       "    .dataframe tbody tr th:only-of-type {\n",
       "        vertical-align: middle;\n",
       "    }\n",
       "\n",
       "    .dataframe tbody tr th {\n",
       "        vertical-align: top;\n",
       "    }\n",
       "\n",
       "    .dataframe thead th {\n",
       "        text-align: right;\n",
       "    }\n",
       "</style>\n",
       "<table border=\"1\" class=\"dataframe\">\n",
       "  <thead>\n",
       "    <tr style=\"text-align: right;\">\n",
       "      <th></th>\n",
       "      <th>heart1-zy6</th>\n",
       "      <th>lung1-zy10</th>\n",
       "      <th>mESC-zy27</th>\n",
       "      <th>kidney2-zy16</th>\n",
       "      <th>placenta-2</th>\n",
       "      <th>brain-E14</th>\n",
       "      <th>heart2-zy7</th>\n",
       "      <th>cortex2-zy14</th>\n",
       "      <th>spleen2-zy9</th>\n",
       "      <th>boneMarrow2-zy26</th>\n",
       "      <th>...</th>\n",
       "      <th>mef-male1-zy17</th>\n",
       "      <th>boneMarrow1-zy24</th>\n",
       "      <th>intestine-2</th>\n",
       "      <th>lung2-zy11</th>\n",
       "      <th>liver1-zy4</th>\n",
       "      <th>spleen1-zy8</th>\n",
       "      <th>cerebellum1-zy21</th>\n",
       "      <th>olfactory-2</th>\n",
       "      <th>heart-E14</th>\n",
       "      <th>placenta-1</th>\n",
       "    </tr>\n",
       "  </thead>\n",
       "  <tbody>\n",
       "    <tr>\n",
       "      <th>NM_011441</th>\n",
       "      <td>2.254890</td>\n",
       "      <td>4.336400</td>\n",
       "      <td>0.212058</td>\n",
       "      <td>0.960460</td>\n",
       "      <td>2.62398</td>\n",
       "      <td>0.51333</td>\n",
       "      <td>1.353380</td>\n",
       "      <td>0.106251</td>\n",
       "      <td>0.575847</td>\n",
       "      <td>0.297424</td>\n",
       "      <td>...</td>\n",
       "      <td>0.000000</td>\n",
       "      <td>0.039413</td>\n",
       "      <td>0.105708</td>\n",
       "      <td>4.71983</td>\n",
       "      <td>0.347552</td>\n",
       "      <td>0.689417</td>\n",
       "      <td>0.404162</td>\n",
       "      <td>0.904820</td>\n",
       "      <td>0.873090</td>\n",
       "      <td>2.19965</td>\n",
       "    </tr>\n",
       "    <tr>\n",
       "      <th>NM_025300</th>\n",
       "      <td>7.583560</td>\n",
       "      <td>2.323340</td>\n",
       "      <td>23.179600</td>\n",
       "      <td>4.920100</td>\n",
       "      <td>4.69549</td>\n",
       "      <td>7.34801</td>\n",
       "      <td>7.412210</td>\n",
       "      <td>3.865600</td>\n",
       "      <td>4.427460</td>\n",
       "      <td>4.581390</td>\n",
       "      <td>...</td>\n",
       "      <td>8.075880</td>\n",
       "      <td>7.392750</td>\n",
       "      <td>7.863720</td>\n",
       "      <td>1.96798</td>\n",
       "      <td>3.743500</td>\n",
       "      <td>6.701990</td>\n",
       "      <td>4.186450</td>\n",
       "      <td>5.506150</td>\n",
       "      <td>10.256600</td>\n",
       "      <td>4.17015</td>\n",
       "    </tr>\n",
       "    <tr>\n",
       "      <th>NM_008866</th>\n",
       "      <td>4.737040</td>\n",
       "      <td>3.832030</td>\n",
       "      <td>31.991800</td>\n",
       "      <td>23.730700</td>\n",
       "      <td>11.37850</td>\n",
       "      <td>8.60540</td>\n",
       "      <td>3.965590</td>\n",
       "      <td>3.329030</td>\n",
       "      <td>2.991480</td>\n",
       "      <td>1.626060</td>\n",
       "      <td>...</td>\n",
       "      <td>13.292800</td>\n",
       "      <td>2.053090</td>\n",
       "      <td>37.456300</td>\n",
       "      <td>4.14774</td>\n",
       "      <td>7.317360</td>\n",
       "      <td>4.670900</td>\n",
       "      <td>7.481730</td>\n",
       "      <td>8.729460</td>\n",
       "      <td>14.243400</td>\n",
       "      <td>12.58080</td>\n",
       "    </tr>\n",
       "    <tr>\n",
       "      <th>NM_001159750</th>\n",
       "      <td>2.079380</td>\n",
       "      <td>2.996970</td>\n",
       "      <td>21.799800</td>\n",
       "      <td>3.036960</td>\n",
       "      <td>6.05676</td>\n",
       "      <td>10.74390</td>\n",
       "      <td>1.056030</td>\n",
       "      <td>5.013350</td>\n",
       "      <td>3.505370</td>\n",
       "      <td>4.125510</td>\n",
       "      <td>...</td>\n",
       "      <td>18.337100</td>\n",
       "      <td>4.762580</td>\n",
       "      <td>3.091350</td>\n",
       "      <td>2.35791</td>\n",
       "      <td>3.647510</td>\n",
       "      <td>3.578290</td>\n",
       "      <td>4.965500</td>\n",
       "      <td>6.253020</td>\n",
       "      <td>7.277450</td>\n",
       "      <td>4.03515</td>\n",
       "    </tr>\n",
       "    <tr>\n",
       "      <th>NM_001159751</th>\n",
       "      <td>0.751692</td>\n",
       "      <td>0.994478</td>\n",
       "      <td>1.479500</td>\n",
       "      <td>2.558080</td>\n",
       "      <td>0.00000</td>\n",
       "      <td>4.93156</td>\n",
       "      <td>0.888016</td>\n",
       "      <td>0.851652</td>\n",
       "      <td>2.056400</td>\n",
       "      <td>2.042700</td>\n",
       "      <td>...</td>\n",
       "      <td>0.000000</td>\n",
       "      <td>0.000000</td>\n",
       "      <td>1.304400</td>\n",
       "      <td>1.59578</td>\n",
       "      <td>3.612130</td>\n",
       "      <td>3.468520</td>\n",
       "      <td>3.203380</td>\n",
       "      <td>0.000000</td>\n",
       "      <td>2.003800</td>\n",
       "      <td>2.29215</td>\n",
       "    </tr>\n",
       "    <tr>\n",
       "      <th>NM_133826</th>\n",
       "      <td>2.982250</td>\n",
       "      <td>6.629980</td>\n",
       "      <td>19.314400</td>\n",
       "      <td>16.499100</td>\n",
       "      <td>10.92590</td>\n",
       "      <td>19.69960</td>\n",
       "      <td>2.484040</td>\n",
       "      <td>25.558000</td>\n",
       "      <td>5.227300</td>\n",
       "      <td>3.062300</td>\n",
       "      <td>...</td>\n",
       "      <td>15.895600</td>\n",
       "      <td>3.558540</td>\n",
       "      <td>7.730220</td>\n",
       "      <td>6.73786</td>\n",
       "      <td>8.734990</td>\n",
       "      <td>6.042640</td>\n",
       "      <td>15.670900</td>\n",
       "      <td>13.058400</td>\n",
       "      <td>6.997890</td>\n",
       "      <td>11.22340</td>\n",
       "    </tr>\n",
       "    <tr>\n",
       "      <th>NM_009826</th>\n",
       "      <td>3.578000</td>\n",
       "      <td>4.065270</td>\n",
       "      <td>5.779170</td>\n",
       "      <td>4.129500</td>\n",
       "      <td>8.16231</td>\n",
       "      <td>9.95187</td>\n",
       "      <td>2.852720</td>\n",
       "      <td>7.387660</td>\n",
       "      <td>1.426160</td>\n",
       "      <td>2.261860</td>\n",
       "      <td>...</td>\n",
       "      <td>13.945400</td>\n",
       "      <td>2.546050</td>\n",
       "      <td>4.193170</td>\n",
       "      <td>3.48497</td>\n",
       "      <td>5.767800</td>\n",
       "      <td>2.622910</td>\n",
       "      <td>7.831170</td>\n",
       "      <td>7.165800</td>\n",
       "      <td>5.404700</td>\n",
       "      <td>7.65890</td>\n",
       "    </tr>\n",
       "    <tr>\n",
       "      <th>NM_173868</th>\n",
       "      <td>0.000000</td>\n",
       "      <td>0.000000</td>\n",
       "      <td>0.009436</td>\n",
       "      <td>0.000000</td>\n",
       "      <td>0.00000</td>\n",
       "      <td>6.19197</td>\n",
       "      <td>0.000000</td>\n",
       "      <td>0.867198</td>\n",
       "      <td>0.011826</td>\n",
       "      <td>0.000000</td>\n",
       "      <td>...</td>\n",
       "      <td>0.008398</td>\n",
       "      <td>0.000000</td>\n",
       "      <td>0.103478</td>\n",
       "      <td>0.00000</td>\n",
       "      <td>0.000000</td>\n",
       "      <td>0.061352</td>\n",
       "      <td>14.472800</td>\n",
       "      <td>0.429446</td>\n",
       "      <td>0.000000</td>\n",
       "      <td>0.00000</td>\n",
       "    </tr>\n",
       "    <tr>\n",
       "      <th>NM_183028</th>\n",
       "      <td>5.060990</td>\n",
       "      <td>5.060030</td>\n",
       "      <td>9.841090</td>\n",
       "      <td>5.117730</td>\n",
       "      <td>3.69579</td>\n",
       "      <td>8.50304</td>\n",
       "      <td>3.712660</td>\n",
       "      <td>10.124600</td>\n",
       "      <td>3.041030</td>\n",
       "      <td>1.609480</td>\n",
       "      <td>...</td>\n",
       "      <td>7.220090</td>\n",
       "      <td>2.119160</td>\n",
       "      <td>2.481150</td>\n",
       "      <td>4.04919</td>\n",
       "      <td>12.941600</td>\n",
       "      <td>4.970270</td>\n",
       "      <td>15.055100</td>\n",
       "      <td>10.796100</td>\n",
       "      <td>5.428500</td>\n",
       "      <td>3.49453</td>\n",
       "    </tr>\n",
       "    <tr>\n",
       "      <th>NM_027671</th>\n",
       "      <td>0.032684</td>\n",
       "      <td>0.014074</td>\n",
       "      <td>0.000000</td>\n",
       "      <td>0.012361</td>\n",
       "      <td>0.00000</td>\n",
       "      <td>1.18441</td>\n",
       "      <td>0.016036</td>\n",
       "      <td>2.877990</td>\n",
       "      <td>0.033066</td>\n",
       "      <td>0.000000</td>\n",
       "      <td>...</td>\n",
       "      <td>0.023483</td>\n",
       "      <td>0.000000</td>\n",
       "      <td>0.065757</td>\n",
       "      <td>0.00000</td>\n",
       "      <td>0.051888</td>\n",
       "      <td>0.051464</td>\n",
       "      <td>0.747692</td>\n",
       "      <td>2.176390</td>\n",
       "      <td>0.182489</td>\n",
       "      <td>0.00000</td>\n",
       "    </tr>\n",
       "  </tbody>\n",
       "</table>\n",
       "<p>10 rows × 34 columns</p>\n",
       "</div>"
      ],
      "text/plain": [
       "              heart1-zy6  lung1-zy10  mESC-zy27  kidney2-zy16  placenta-2  \\\n",
       "NM_011441       2.254890    4.336400   0.212058      0.960460     2.62398   \n",
       "NM_025300       7.583560    2.323340  23.179600      4.920100     4.69549   \n",
       "NM_008866       4.737040    3.832030  31.991800     23.730700    11.37850   \n",
       "NM_001159750    2.079380    2.996970  21.799800      3.036960     6.05676   \n",
       "NM_001159751    0.751692    0.994478   1.479500      2.558080     0.00000   \n",
       "NM_133826       2.982250    6.629980  19.314400     16.499100    10.92590   \n",
       "NM_009826       3.578000    4.065270   5.779170      4.129500     8.16231   \n",
       "NM_173868       0.000000    0.000000   0.009436      0.000000     0.00000   \n",
       "NM_183028       5.060990    5.060030   9.841090      5.117730     3.69579   \n",
       "NM_027671       0.032684    0.014074   0.000000      0.012361     0.00000   \n",
       "\n",
       "              brain-E14  heart2-zy7  cortex2-zy14  spleen2-zy9  \\\n",
       "NM_011441       0.51333    1.353380      0.106251     0.575847   \n",
       "NM_025300       7.34801    7.412210      3.865600     4.427460   \n",
       "NM_008866       8.60540    3.965590      3.329030     2.991480   \n",
       "NM_001159750   10.74390    1.056030      5.013350     3.505370   \n",
       "NM_001159751    4.93156    0.888016      0.851652     2.056400   \n",
       "NM_133826      19.69960    2.484040     25.558000     5.227300   \n",
       "NM_009826       9.95187    2.852720      7.387660     1.426160   \n",
       "NM_173868       6.19197    0.000000      0.867198     0.011826   \n",
       "NM_183028       8.50304    3.712660     10.124600     3.041030   \n",
       "NM_027671       1.18441    0.016036      2.877990     0.033066   \n",
       "\n",
       "              boneMarrow2-zy26  ...  mef-male1-zy17  boneMarrow1-zy24  \\\n",
       "NM_011441             0.297424  ...        0.000000          0.039413   \n",
       "NM_025300             4.581390  ...        8.075880          7.392750   \n",
       "NM_008866             1.626060  ...       13.292800          2.053090   \n",
       "NM_001159750          4.125510  ...       18.337100          4.762580   \n",
       "NM_001159751          2.042700  ...        0.000000          0.000000   \n",
       "NM_133826             3.062300  ...       15.895600          3.558540   \n",
       "NM_009826             2.261860  ...       13.945400          2.546050   \n",
       "NM_173868             0.000000  ...        0.008398          0.000000   \n",
       "NM_183028             1.609480  ...        7.220090          2.119160   \n",
       "NM_027671             0.000000  ...        0.023483          0.000000   \n",
       "\n",
       "              intestine-2  lung2-zy11  liver1-zy4  spleen1-zy8  \\\n",
       "NM_011441        0.105708     4.71983    0.347552     0.689417   \n",
       "NM_025300        7.863720     1.96798    3.743500     6.701990   \n",
       "NM_008866       37.456300     4.14774    7.317360     4.670900   \n",
       "NM_001159750     3.091350     2.35791    3.647510     3.578290   \n",
       "NM_001159751     1.304400     1.59578    3.612130     3.468520   \n",
       "NM_133826        7.730220     6.73786    8.734990     6.042640   \n",
       "NM_009826        4.193170     3.48497    5.767800     2.622910   \n",
       "NM_173868        0.103478     0.00000    0.000000     0.061352   \n",
       "NM_183028        2.481150     4.04919   12.941600     4.970270   \n",
       "NM_027671        0.065757     0.00000    0.051888     0.051464   \n",
       "\n",
       "              cerebellum1-zy21  olfactory-2  heart-E14  placenta-1  \n",
       "NM_011441             0.404162     0.904820   0.873090     2.19965  \n",
       "NM_025300             4.186450     5.506150  10.256600     4.17015  \n",
       "NM_008866             7.481730     8.729460  14.243400    12.58080  \n",
       "NM_001159750          4.965500     6.253020   7.277450     4.03515  \n",
       "NM_001159751          3.203380     0.000000   2.003800     2.29215  \n",
       "NM_133826            15.670900    13.058400   6.997890    11.22340  \n",
       "NM_009826             7.831170     7.165800   5.404700     7.65890  \n",
       "NM_173868            14.472800     0.429446   0.000000     0.00000  \n",
       "NM_183028            15.055100    10.796100   5.428500     3.49453  \n",
       "NM_027671             0.747692     2.176390   0.182489     0.00000  \n",
       "\n",
       "[10 rows x 34 columns]"
      ]
     },
     "execution_count": 14,
     "metadata": {},
     "output_type": "execute_result"
    }
   ],
   "source": [
    "# use the variable rnaseq to store the pandas dataframe\n",
    "## BEGIN SOLUTION ## \n",
    "import pandas as pd \n",
    "rnaseq=pd.read_table(\"data/mm9.rnaseq.fpkm.tsv\",header=0,index_col=0)\n",
    "rnaseq.head(10)\n",
    "## END SOLUTION ## "
   ]
  },
  {
   "cell_type": "markdown",
   "metadata": {},
   "source": [
    "### 3c) ###\n",
    "\n",
    "Select the row of 'mm9.rnaseq.fpkm.tsv' that has the RNA-seq data for GENE1 and select the row that has RNA-seq data for GENE2. Store these values in the variables \"gene1_rnaseq\" and \"gene2_rnaseq\". \n"
   ]
  },
  {
   "cell_type": "code",
   "execution_count": 72,
   "metadata": {},
   "outputs": [
    {
     "name": "stdout",
     "output_type": "stream",
     "text": [
      "heart1-zy6      0.000000\n",
      "lung1-zy10      0.000000\n",
      "mESC-zy27       0.037373\n",
      "kidney2-zy16    0.000000\n",
      "placenta-2      0.000000\n",
      "Name: NM_031189, dtype: float64\n",
      "heart1-zy6      9.910050\n",
      "lung1-zy10      3.879420\n",
      "mESC-zy27       0.256668\n",
      "kidney2-zy16    1.362940\n",
      "placenta-2      5.811790\n",
      "Name: NM_022029, dtype: float64\n"
     ]
    }
   ],
   "source": [
    "## BEGIN SOLUTION ## \n",
    "gene1_rnaseq=rnaseq.loc['NM_031189']\n",
    "print(gene1_rnaseq.head())\n",
    "gene2_rnaseq=rnaseq.loc['NM_022029']\n",
    "print(gene2_rnaseq.head())\n",
    "## END SOLUTION ## "
   ]
  },
  {
   "cell_type": "markdown",
   "metadata": {},
   "source": [
    "### 3d) ### \n",
    "Generate histograms of GENE1 and GENE2 expression across all samples in the RNA-seq dataset. You might have to experiment with different values of the \"binwidth\" parameter to find the one that "
   ]
  },
  {
   "cell_type": "code",
   "execution_count": 73,
   "metadata": {},
   "outputs": [],
   "source": [
    "import plotnine \n",
    "from plotnine import *"
   ]
  },
  {
   "cell_type": "code",
   "execution_count": 74,
   "metadata": {},
   "outputs": [
    {
     "name": "stderr",
     "output_type": "stream",
     "text": [
      "/users/annashch/miniconda3/lib/python3.7/site-packages/plotnine-0.4.0-py3.7.egg/plotnine/coords/coord_cartesian.py:31: MatplotlibDeprecationWarning: \n",
      "The Bunch class was deprecated in Matplotlib 3.0 and will be removed in 3.2. Use types.SimpleNamespace instead.\n",
      "  self.limits = Bunch(xlim=xlim, ylim=ylim)\n",
      "/users/annashch/miniconda3/lib/python3.7/copy.py:274: MatplotlibDeprecationWarning: \n",
      "The Bunch class was deprecated in Matplotlib 3.0 and will be removed in 3.2. Use types.SimpleNamespace instead.\n",
      "  y = func(*args)\n",
      "/users/annashch/miniconda3/lib/python3.7/site-packages/plotnine-0.4.0-py3.7.egg/plotnine/scales/scale.py:99: MatplotlibDeprecationWarning: \n",
      "The iterable function was deprecated in Matplotlib 3.1 and will be removed in 3.3. Use np.iterable instead.\n",
      "  if cbook.iterable(self.breaks) and cbook.iterable(self.labels):\n",
      "/users/annashch/miniconda3/lib/python3.7/site-packages/plotnine-0.4.0-py3.7.egg/plotnine/facets/facet.py:151: MatplotlibDeprecationWarning: \n",
      "The Bunch class was deprecated in Matplotlib 3.0 and will be removed in 3.2. Use types.SimpleNamespace instead.\n",
      "  scales = Bunch()\n",
      "/users/annashch/miniconda3/lib/python3.7/site-packages/plotnine-0.4.0-py3.7.egg/plotnine/facets/layout.py:147: MatplotlibDeprecationWarning: \n",
      "The Bunch class was deprecated in Matplotlib 3.0 and will be removed in 3.2. Use types.SimpleNamespace instead.\n",
      "  return Bunch(x=xsc, y=ysc)\n",
      "/users/annashch/miniconda3/lib/python3.7/site-packages/plotnine-0.4.0-py3.7.egg/plotnine/utils.py:557: MatplotlibDeprecationWarning: \n",
      "The iterable function was deprecated in Matplotlib 3.1 and will be removed in 3.3. Use np.iterable instead.\n",
      "  return cbook.iterable(var) and not is_string(var)\n"
     ]
    },
    {
     "data": {
      "image/png": "[encoded data removed]",
      "text/plain": [
       "<Figure size 640x480 with 1 Axes>"
      ]
     },
     "metadata": {},
     "output_type": "display_data"
    },
    {
     "data": {
      "text/plain": [
       "<ggplot: (8767915175642)>"
      ]
     },
     "execution_count": 74,
     "metadata": {},
     "output_type": "execute_result"
    }
   ],
   "source": [
    "qplot(x=gene1_rnaseq,\n",
    "      geom=\"histogram\",\n",
    "      xlab=\"FPKM\",\n",
    "      ylab=\"Number of samples\",\n",
    "      binwidth=0.25)"
   ]
  },
  {
   "cell_type": "code",
   "execution_count": 75,
   "metadata": {},
   "outputs": [
    {
     "name": "stderr",
     "output_type": "stream",
     "text": [
      "/users/annashch/miniconda3/lib/python3.7/site-packages/plotnine-0.4.0-py3.7.egg/plotnine/coords/coord_cartesian.py:31: MatplotlibDeprecationWarning: \n",
      "The Bunch class was deprecated in Matplotlib 3.0 and will be removed in 3.2. Use types.SimpleNamespace instead.\n",
      "  self.limits = Bunch(xlim=xlim, ylim=ylim)\n",
      "/users/annashch/miniconda3/lib/python3.7/copy.py:274: MatplotlibDeprecationWarning: \n",
      "The Bunch class was deprecated in Matplotlib 3.0 and will be removed in 3.2. Use types.SimpleNamespace instead.\n",
      "  y = func(*args)\n",
      "/users/annashch/miniconda3/lib/python3.7/site-packages/plotnine-0.4.0-py3.7.egg/plotnine/scales/scale.py:99: MatplotlibDeprecationWarning: \n",
      "The iterable function was deprecated in Matplotlib 3.1 and will be removed in 3.3. Use np.iterable instead.\n",
      "  if cbook.iterable(self.breaks) and cbook.iterable(self.labels):\n",
      "/users/annashch/miniconda3/lib/python3.7/site-packages/plotnine-0.4.0-py3.7.egg/plotnine/facets/facet.py:151: MatplotlibDeprecationWarning: \n",
      "The Bunch class was deprecated in Matplotlib 3.0 and will be removed in 3.2. Use types.SimpleNamespace instead.\n",
      "  scales = Bunch()\n",
      "/users/annashch/miniconda3/lib/python3.7/site-packages/plotnine-0.4.0-py3.7.egg/plotnine/facets/layout.py:147: MatplotlibDeprecationWarning: \n",
      "The Bunch class was deprecated in Matplotlib 3.0 and will be removed in 3.2. Use types.SimpleNamespace instead.\n",
      "  return Bunch(x=xsc, y=ysc)\n",
      "/users/annashch/miniconda3/lib/python3.7/site-packages/plotnine-0.4.0-py3.7.egg/plotnine/utils.py:557: MatplotlibDeprecationWarning: \n",
      "The iterable function was deprecated in Matplotlib 3.1 and will be removed in 3.3. Use np.iterable instead.\n",
      "  return cbook.iterable(var) and not is_string(var)\n"
     ]
    },
    {
     "data": {
      "image/png": "[encoded data removed]",
      "text/plain": [
       "<Figure size 640x480 with 1 Axes>"
      ]
     },
     "metadata": {},
     "output_type": "display_data"
    },
    {
     "data": {
      "text/plain": [
       "<ggplot: (8767915310326)>"
      ]
     },
     "execution_count": 75,
     "metadata": {},
     "output_type": "execute_result"
    }
   ],
   "source": [
    "qplot(x=gene2_rnaseq,\n",
    "      geom=\"histogram\",\n",
    "      xlab=\"FPKM\",\n",
    "      ylab=\"Number of samples\",\n",
    "      binwidth=10)"
   ]
  },
  {
   "cell_type": "markdown",
   "metadata": {},
   "source": [
    "### 3e) ### \n",
    "We observe some outliers in the histograms of expression for GENE1 and GENE2. Which sample has the highest expression of GENE1? Which sample has the highest expression of GENE2?"
   ]
  },
  {
   "cell_type": "code",
   "execution_count": 80,
   "metadata": {},
   "outputs": [
    {
     "name": "stdout",
     "output_type": "stream",
     "text": [
      "limb-E14\n",
      "cortex1-zy13\n"
     ]
    }
   ],
   "source": [
    "#Store the sample name with the highest expression of GENE1 in the variable sample1.\n",
    "#Store the sample name with the higehst expression of GENE2 in the variable sample2. \n",
    "## BEGIN SOLUTION ## \n",
    "sample1=gene1_rnaseq.sort_values(ascending=False).index[0]\n",
    "sample2=gene2_rnaseq.sort_values(ascending=False).index[0]\n",
    "print(sample1)\n",
    "print(sample2)\n",
    "## END SOLUTION ## \n"
   ]
  },
  {
   "cell_type": "markdown",
   "metadata": {},
   "source": [
    "### 3f) ###\n",
    "Perform principle component analysis on the samples in the rnaseq dataframe. How much variance is explained by PC1? Generate a scree plot of the variance explained by the first 10 principal components. "
   ]
  },
  {
   "cell_type": "code",
   "execution_count": 97,
   "metadata": {},
   "outputs": [
    {
     "name": "stdout",
     "output_type": "stream",
     "text": [
      "[0.17675348 0.13045255 0.085208   0.0787134  0.07769887 0.07577149\n",
      " 0.07112632 0.06924259 0.06507847 0.0417134 ]\n"
     ]
    },
    {
     "name": "stderr",
     "output_type": "stream",
     "text": [
      "/users/annashch/miniconda3/lib/python3.7/site-packages/plotnine-0.4.0-py3.7.egg/plotnine/coords/coord_cartesian.py:31: MatplotlibDeprecationWarning: \n",
      "The Bunch class was deprecated in Matplotlib 3.0 and will be removed in 3.2. Use types.SimpleNamespace instead.\n",
      "  self.limits = Bunch(xlim=xlim, ylim=ylim)\n",
      "/users/annashch/miniconda3/lib/python3.7/copy.py:274: MatplotlibDeprecationWarning: \n",
      "The Bunch class was deprecated in Matplotlib 3.0 and will be removed in 3.2. Use types.SimpleNamespace instead.\n",
      "  y = func(*args)\n",
      "/users/annashch/miniconda3/lib/python3.7/site-packages/plotnine-0.4.0-py3.7.egg/plotnine/scales/scale.py:99: MatplotlibDeprecationWarning: \n",
      "The iterable function was deprecated in Matplotlib 3.1 and will be removed in 3.3. Use np.iterable instead.\n",
      "  if cbook.iterable(self.breaks) and cbook.iterable(self.labels):\n",
      "/users/annashch/miniconda3/lib/python3.7/site-packages/plotnine-0.4.0-py3.7.egg/plotnine/facets/facet.py:151: MatplotlibDeprecationWarning: \n",
      "The Bunch class was deprecated in Matplotlib 3.0 and will be removed in 3.2. Use types.SimpleNamespace instead.\n",
      "  scales = Bunch()\n",
      "/users/annashch/miniconda3/lib/python3.7/site-packages/plotnine-0.4.0-py3.7.egg/plotnine/facets/layout.py:147: MatplotlibDeprecationWarning: \n",
      "The Bunch class was deprecated in Matplotlib 3.0 and will be removed in 3.2. Use types.SimpleNamespace instead.\n",
      "  return Bunch(x=xsc, y=ysc)\n",
      "/users/annashch/miniconda3/lib/python3.7/site-packages/plotnine-0.4.0-py3.7.egg/plotnine/utils.py:557: MatplotlibDeprecationWarning: \n",
      "The iterable function was deprecated in Matplotlib 3.1 and will be removed in 3.3. Use np.iterable instead.\n",
      "  return cbook.iterable(var) and not is_string(var)\n"
     ]
    },
    {
     "data": {
      "image/png": "[encoded data removed]",
      "text/plain": [
       "<Figure size 640x480 with 1 Axes>"
      ]
     },
     "metadata": {},
     "output_type": "display_data"
    },
    {
     "data": {
      "text/plain": [
       "<ggplot: (-9223363268939576281)>"
      ]
     },
     "execution_count": 97,
     "metadata": {},
     "output_type": "execute_result"
    }
   ],
   "source": [
    "from sklearn.decomposition import PCA as sklearnPCA\n",
    "#Note: we will scale our RNA-seq data to have a mean of 0 and a variance of 1. By making sure all sample values \n",
    "# are on the same scale, our PCA plot will provide a more informative visualization. \n",
    "rnaseq_scaled = preprocessing.scale(rnaseq)\n",
    "#use the rnaseq_scaled variable as input for your PCA \n",
    "\n",
    "#store your PCA analysis output in a variable called PCA_results \n",
    "\n",
    "\n",
    "## BEGIN SOLUTION ##\n",
    "#We decompose the data into 10 principal components \n",
    "sklearn_pca = sklearnPCA(n_components=10)\n",
    "from sklearn import preprocessing\n",
    "pca_results = sklearn_pca.fit_transform(rnaseq_scaled.transpose())\n",
    "y=sklearn_pca.explained_variance_ratio_\n",
    "x=range(1,len(y)+1)\n",
    "print(sklearn_pca.explained_variance_ratio_)\n",
    "qplot(x=x,\n",
    "      y=y,\n",
    "      geom=\"bar\",\n",
    "      stat=\"identity\",\n",
    "      xlab=\"PC\",\n",
    "      ylab=\"Fraction of variance explained\")\n",
    "\n",
    "## END SOLUTION ## "
   ]
  },
  {
   "cell_type": "markdown",
   "metadata": {},
   "source": [
    "### 3g) ### \n",
    "Generate a scatterplot of PC1 vs PC2. Color the scatterplot by the System column from \"mm9.rnaseq.metadata.tsv\"."
   ]
  },
  {
   "cell_type": "code",
   "execution_count": 98,
   "metadata": {},
   "outputs": [
    {
     "name": "stderr",
     "output_type": "stream",
     "text": [
      "/users/annashch/miniconda3/lib/python3.7/site-packages/plotnine-0.4.0-py3.7.egg/plotnine/coords/coord_cartesian.py:31: MatplotlibDeprecationWarning: \n",
      "The Bunch class was deprecated in Matplotlib 3.0 and will be removed in 3.2. Use types.SimpleNamespace instead.\n",
      "  self.limits = Bunch(xlim=xlim, ylim=ylim)\n",
      "/users/annashch/miniconda3/lib/python3.7/site-packages/plotnine-0.4.0-py3.7.egg/plotnine/scales/scale.py:99: MatplotlibDeprecationWarning: \n",
      "The iterable function was deprecated in Matplotlib 3.1 and will be removed in 3.3. Use np.iterable instead.\n",
      "  if cbook.iterable(self.breaks) and cbook.iterable(self.labels):\n",
      "/users/annashch/miniconda3/lib/python3.7/copy.py:274: MatplotlibDeprecationWarning: \n",
      "The Bunch class was deprecated in Matplotlib 3.0 and will be removed in 3.2. Use types.SimpleNamespace instead.\n",
      "  y = func(*args)\n",
      "/users/annashch/miniconda3/lib/python3.7/site-packages/plotnine-0.4.0-py3.7.egg/plotnine/facets/facet.py:151: MatplotlibDeprecationWarning: \n",
      "The Bunch class was deprecated in Matplotlib 3.0 and will be removed in 3.2. Use types.SimpleNamespace instead.\n",
      "  scales = Bunch()\n",
      "/users/annashch/miniconda3/lib/python3.7/site-packages/plotnine-0.4.0-py3.7.egg/plotnine/facets/layout.py:147: MatplotlibDeprecationWarning: \n",
      "The Bunch class was deprecated in Matplotlib 3.0 and will be removed in 3.2. Use types.SimpleNamespace instead.\n",
      "  return Bunch(x=xsc, y=ysc)\n",
      "/users/annashch/miniconda3/lib/python3.7/site-packages/plotnine-0.4.0-py3.7.egg/plotnine/utils.py:557: MatplotlibDeprecationWarning: \n",
      "The iterable function was deprecated in Matplotlib 3.1 and will be removed in 3.3. Use np.iterable instead.\n",
      "  return cbook.iterable(var) and not is_string(var)\n",
      "/users/annashch/miniconda3/lib/python3.7/site-packages/plotnine-0.4.0-py3.7.egg/plotnine/guides/guide_legend.py:179: MatplotlibDeprecationWarning: \n",
      "The Bunch class was deprecated in Matplotlib 3.0 and will be removed in 3.2. Use types.SimpleNamespace instead.\n",
      "  self.glayers.append(Bunch(geom=geom, data=data, layer=l))\n"
     ]
    },
    {
     "data": {
      "image/png": "[encoded data removed]",
      "text/plain": [
       "<Figure size 640x480 with 1 Axes>"
      ]
     },
     "metadata": {},
     "output_type": "display_data"
    },
    {
     "data": {
      "text/plain": [
       "<ggplot: (8767915152953)>"
      ]
     },
     "execution_count": 98,
     "metadata": {},
     "output_type": "execute_result"
    }
   ],
   "source": [
    "## BEGIN SOLUTION ## \n",
    "metadata=pd.read_table(\"data/mm9.rnaseq.metadata.tsv\",header=0,sep='\\t',index_col=0)\n",
    "\n",
    "x=pca_results[:,0]\n",
    "y=pca_results[:,1]\n",
    "qplot(x=x,\n",
    "      y=y,\n",
    "      geom=\"point\",\n",
    "      xlab=\"PC1\",\n",
    "      ylab=\"PC2\",\n",
    "      \n",
    "      color=list(metadata['System']))+scale_color_discrete(name=\"System\")\n",
    "## END SOLUTION ## "
   ]
  },
  {
   "cell_type": "markdown",
   "metadata": {},
   "source": [
    "### 3h) ### \n",
    "We will overlay sample1 and sample2 on the PCA to determine which organ systems these samples cluster closest too. "
   ]
  },
  {
   "cell_type": "code",
   "execution_count": 106,
   "metadata": {},
   "outputs": [],
   "source": [
    "sample1_row_index=metadata.index.get_loc(sample1)\n",
    "sample1_pcs=pca_results[sample1_row_index,0:2]"
   ]
  },
  {
   "cell_type": "code",
   "execution_count": 107,
   "metadata": {},
   "outputs": [],
   "source": [
    "sample2_row_index=metadata.index.get_loc(sample2)\n",
    "sample2_pcs=pca_results[sample2_row_index,0:2]"
   ]
  },
  {
   "cell_type": "markdown",
   "metadata": {},
   "source": [
    "Based on the values in sample1_pcs and sample2_pcs, which organ systems do these samples cluster with? "
   ]
  },
  {
   "cell_type": "markdown",
   "metadata": {},
   "source": [
    "### BEGIN SOLUTION ### \n",
    "sample1 - musculoskeltal \n",
    "\n",
    "sample2 - nervous \n",
    "### END SOLUTION ### "
   ]
  }
 ],
 "metadata": {
  "kernelspec": {
   "display_name": "Python 3",
   "language": "python",
   "name": "python3"
  },
  "language_info": {
   "codemirror_mode": {
    "name": "ipython",
    "version": 3
   },
   "file_extension": ".py",
   "mimetype": "text/x-python",
   "name": "python",
   "nbconvert_exporter": "python",
   "pygments_lexer": "ipython3",
   "version": "3.7.3"
  }
 },
 "nbformat": 4,
 "nbformat_minor": 4
}
