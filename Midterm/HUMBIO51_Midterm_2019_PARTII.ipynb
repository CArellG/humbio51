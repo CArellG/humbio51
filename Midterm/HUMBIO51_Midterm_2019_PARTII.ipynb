{
 "cells": [
  {
   "cell_type": "markdown",
   "metadata": {},
   "source": [
    "## QUESTION 2\n",
    "\n",
    "We are interested in examining the evolutionary behavior and expression patterns of two genes, GENE1 and GENE2. We have found the coordinates of both genes in the hg19 (human) and mm9 (mouse) reference assemblies. These coordinates are provided in the following bed files: \n",
    "\n",
    "* data/GENE1.hg19.exons.bed \n",
    "* data/GENE2.hg19.exons.bed \n",
    "* data/GENE1.mm9.exons.bed \n",
    "* data/GENE2.mm9.exons.bed \n",
    "\n"
   ]
  },
  {
   "cell_type": "markdown",
   "metadata": {},
   "source": [
    "### 2a) \n",
    "Extract the fasta DNA sequence for each human gene. Store the fasta sequences in the files: \n",
    "\n",
    "* data/GENE1.hg19.exons.fa\n",
    "* data/GENE2.hg19.exons.fa\n",
    "* data/GENE1.mm9.exons.fa  --> We have already generated this file for you. \n",
    "* data/GENE2.mm9.exons.fa --> We have already generated this file for you. \n",
    "\n",
    "Hint: You can find the reference hg19 assembly in /data/hg19.genome.fa"
   ]
  },
  {
   "cell_type": "code",
   "execution_count": null,
   "metadata": {},
   "outputs": [],
   "source": [
    "## BEGIN SOLUTION ## \n",
    "\n",
    "## END SOLUTION ## "
   ]
  },
  {
   "cell_type": "markdown",
   "metadata": {},
   "source": [
    "## 2b) \n",
    "Write a function to convert a fasta format DNA file to a file with a single string of DNA bases. \n",
    "For example: \n",
    "```    \n",
    ">seq1\n",
    "AAAAA\n",
    ">seq2\n",
    "TTTT\n",
    "```\n",
    "would be converted to: \n",
    "```\n",
    "AAAATTTT\n",
    "```"
   ]
  },
  {
   "cell_type": "code",
   "execution_count": null,
   "metadata": {},
   "outputs": [],
   "source": [
    "def fasta_to_string(input_fasta_file,output_string_file): \n",
    "## BEGIN SOLUTION \n",
    "\n",
    "## END SOLUTION \n"
   ]
  },
  {
   "cell_type": "code",
   "execution_count": null,
   "metadata": {},
   "outputs": [],
   "source": [
    "fasta_to_string(\"data/GENE1.hg19.exons.fa\",\"data/GENE1.hg19.exons.dna.txt\")\n",
    "fasta_to_string(\"data/GENE2.hg19.exons.fa\",\"data/GENE2.hg19.exons.dna.txt\")\n",
    "fasta_to_string(\"data/GENE1.mm9.exons.fa\",\"data/GENE1.mm9.exons.dna.txt\")\n",
    "fasta_to_string(\"data/GENE2.mm9.exons.fa\",\"data/GENE2.mm9.exons.dna.txt\")\n",
    "\n",
    "#Sanity check one of the files to ensure your fasta-to-string conversion is working properly \n",
    "!cat GENE1.hg19.exons.dna.txt"
   ]
  },
  {
   "cell_type": "markdown",
   "metadata": {},
   "source": [
    "### 2c) \n",
    "Use the helper functions we defined in class to extract the RNA sequence for each of the 4 genes. \n",
    "Hint: We have added a new function called \"reverse_complement\" in the central_dogma_helpers help file. This function computes the reverse complement sequence for genes on the negative strand. An example use case is below: \n"
   ]
  },
  {
   "cell_type": "code",
   "execution_count": null,
   "metadata": {},
   "outputs": [],
   "source": [
    "import sys \n",
    "sys.path.append(\"../helpers/\")\n",
    "from central_dogma_helpers import * \n",
    "reverse_complement(\"ACT\")"
   ]
  },
  {
   "cell_type": "code",
   "execution_count": null,
   "metadata": {},
   "outputs": [],
   "source": [
    "#Uses the variables gene1_hg19_rna, gene2_hg19_rna, gene1_mm9_rna, gene2_mm9_rna to store the RNA sequences. \n",
    "## BEGIN SOLUTION \n",
    "## END SOLUTION \n"
   ]
  },
  {
   "cell_type": "markdown",
   "metadata": {},
   "source": [
    "## 2d) \n",
    "Use the helper functions we defined in class to extract the 1-letter amino acid sequence for each gene. \n"
   ]
  },
  {
   "cell_type": "code",
   "execution_count": null,
   "metadata": {},
   "outputs": [],
   "source": [
    "#Uses the variables gene1_hg19_aa, gene2_hg19_aa, gene1_mm9_aa, gene2_mm9_aa to store the RNA sequences. \n",
    "\n",
    "## BEGIN SOLUTION ## \n",
    "\n",
    "## END SOLUTION \n",
    "print(\"gene1_hg19_aa:\")\n",
    "print(gene1_hg19_aa)\n",
    "\n",
    "print(\"gene1_mm9_aa:\")\n",
    "print(gene1_mm9_aa)\n",
    "\n",
    "print(\"gene2_hg19_aa\")\n",
    "print(gene2_hg19_aa)\n",
    "\n",
    "print(\"gene2_mm9_aa\")\n",
    "print(gene2_mm9_aa)"
   ]
  },
  {
   "cell_type": "markdown",
   "metadata": {},
   "source": [
    "## 2e) \n",
    "\n",
    "Use the pairwise2.align module to perform pairwise-sequence alignment between  gene1_hg19_aa and gene1_mm9_aa "
   ]
  },
  {
   "cell_type": "code",
   "execution_count": null,
   "metadata": {},
   "outputs": [],
   "source": [
    "import sequence_alignment_helpers\n",
    "from sequence_alignment_helpers import *\n",
    "from Bio import pairwise2 "
   ]
  },
  {
   "cell_type": "code",
   "execution_count": null,
   "metadata": {},
   "outputs": [],
   "source": [
    "## BEGIN SOLUTION ## \n",
    "## END SOLUTION ## \n"
   ]
  },
  {
   "cell_type": "markdown",
   "metadata": {},
   "source": [
    "## 2f) \n",
    "Use the pairwise2.align module to perform pairwise-sequence alignment between gene2_hg19_aa and gene2_mm9_aa "
   ]
  },
  {
   "cell_type": "code",
   "execution_count": null,
   "metadata": {},
   "outputs": [],
   "source": [
    "## BEGIN SOLUTION ## \n",
    "\n",
    "## END SOLUTION ## "
   ]
  },
  {
   "cell_type": "markdown",
   "metadata": {},
   "source": [
    "## 2g) \n",
    "Which gene is more conserved between humans and mice, GENE1 or GENE2? How can you tell? \n",
    "\n"
   ]
  },
  {
   "cell_type": "markdown",
   "metadata": {},
   "source": [
    "#### BEGIN ANSWER #### \n",
    "#### END ANSWER #### "
   ]
  },
  {
   "cell_type": "markdown",
   "metadata": {},
   "source": [
    "## QUESTION 3 \n",
    "\n",
    "We would like to learn what organ system GENE1 and GENE2 are most highly expressed in within the mouse. To do this, we will use RNAseq data from ENCODE (http://chromosome.sdsc.edu/mouse/download.html). We have pre-processed the data into a gene expression matrix (data/mm9.rnaseq.fpkm.tsv) and a corresponding metadata file (data/mm9.rnaseq.metadata.tsv). You will use these files for question 2. \n",
    "\n"
   ]
  },
  {
   "cell_type": "markdown",
   "metadata": {},
   "source": [
    "### 3a) ###\n",
    "\n",
    "Use the WashU browser to determine the identity of GENE1 and GENE2. Note: please report bot the common gene name and the NM_ identifier value from the mm9 genome. \n",
    "\n"
   ]
  },
  {
   "cell_type": "markdown",
   "metadata": {},
   "source": [
    "#### BEGIN ANSWER #### \n",
    "\n",
    "#### END ANSWER ####"
   ]
  },
  {
   "cell_type": "markdown",
   "metadata": {},
   "source": [
    "### 3b) ###\n",
    "Read in the RNA-Seq datatable \"data/mm9.rnaseq.fpkm.tsv\" into a dataframe using the pandas package. Use the head command to print the first 10 lines of the dataframe."
   ]
  },
  {
   "cell_type": "code",
   "execution_count": null,
   "metadata": {},
   "outputs": [],
   "source": [
    "# use the variable rnaseq to store the pandas dataframe\n",
    "## BEGIN SOLUTION ## \n",
    "\n",
    "## END SOLUTION ## "
   ]
  },
  {
   "cell_type": "markdown",
   "metadata": {},
   "source": [
    "### 3c) ###\n",
    "\n",
    "Select the row of 'data/mm9.rnaseq.fpkm.tsv' that has the RNA-seq data for GENE1 and select the row that has RNA-seq data for GENE2. Store these values in the variables \"gene1_rnaseq\" and \"gene2_rnaseq\". \n"
   ]
  },
  {
   "cell_type": "code",
   "execution_count": null,
   "metadata": {},
   "outputs": [],
   "source": [
    "## BEGIN SOLUTION ## \n",
    "## END SOLUTION ## "
   ]
  },
  {
   "cell_type": "markdown",
   "metadata": {},
   "source": [
    "### 3d) ### \n",
    "Generate histograms of GENE1 and GENE2 expression across all samples in the RNA-seq dataset. You might have to experiment with different values of the \"binwidth\" parameter to find the one that "
   ]
  },
  {
   "cell_type": "code",
   "execution_count": null,
   "metadata": {},
   "outputs": [],
   "source": [
    "## GENE1\n",
    "## BEGIN SOLUTION ## \n",
    "## END SOLUTION ## "
   ]
  },
  {
   "cell_type": "code",
   "execution_count": null,
   "metadata": {},
   "outputs": [],
   "source": [
    "## GENE2\n",
    "## BEGIN SOLUTION ## \n",
    "## END SOLUTION ## \n"
   ]
  },
  {
   "cell_type": "markdown",
   "metadata": {},
   "source": [
    "### 3e) ### \n",
    "We observe some outliers in the histograms of expression for GENE1 and GENE2. Which sample has the highest expression of GENE1? Which sample has the highest expression of GENE2?"
   ]
  },
  {
   "cell_type": "code",
   "execution_count": null,
   "metadata": {},
   "outputs": [],
   "source": [
    "#Store the sample name with the highest expression of GENE1 in the variable sample1.\n",
    "#Store the sample name with the higehst expression of GENE2 in the variable sample2. \n",
    "## BEGIN SOLUTION ## \n",
    "## END SOLUTION ## \n"
   ]
  },
  {
   "cell_type": "markdown",
   "metadata": {},
   "source": [
    "### 3f) ###\n",
    "Perform principle component analysis on the samples in the rnaseq dataframe. How much variance is explained by PC1? Generate a scree plot of the variance explained by the first 10 principal components. "
   ]
  },
  {
   "cell_type": "code",
   "execution_count": null,
   "metadata": {},
   "outputs": [],
   "source": [
    "from sklearn.decomposition import PCA as sklearnPCA\n",
    "from sklearn import preprocessing\n",
    "\n",
    "#Note: we will scale our RNA-seq data to have a mean of 0 and a variance of 1. By making sure all sample values \n",
    "# are on the same scale, our PCA plot will provide a more informative visualization. \n",
    "rnaseq_scaled = preprocessing.scale(rnaseq)\n",
    "#use the rnaseq_scaled variable as input for your PCA \n",
    "\n",
    "#store your PCA analysis output in a variable called PCA_results \n",
    "\n",
    "\n",
    "## BEGIN SOLUTION ##\n",
    "## END SOLUTION ## "
   ]
  },
  {
   "cell_type": "markdown",
   "metadata": {},
   "source": [
    "### 3g) ### \n",
    "Generate a scatterplot of PC1 vs PC2. Color the scatterplot by the System column from \"mm9.rnaseq.metadata.tsv\"."
   ]
  },
  {
   "cell_type": "code",
   "execution_count": null,
   "metadata": {},
   "outputs": [],
   "source": [
    "## BEGIN SOLUTION ## \n",
    "## END SOLUTION ## "
   ]
  },
  {
   "cell_type": "markdown",
   "metadata": {},
   "source": [
    "### 3h) ### \n",
    "We will overlay sample1 and sample2 on the PCA to determine which organ systems these samples cluster closest too. "
   ]
  },
  {
   "cell_type": "code",
   "execution_count": null,
   "metadata": {},
   "outputs": [],
   "source": [
    "sample1_row_index=metadata.index.get_loc(sample1)\n",
    "sample1_pcs=pca_results[sample1_row_index,0:2]"
   ]
  },
  {
   "cell_type": "code",
   "execution_count": null,
   "metadata": {},
   "outputs": [],
   "source": [
    "sample2_row_index=metadata.index.get_loc(sample2)\n",
    "sample2_pcs=pca_results[sample2_row_index,0:2]"
   ]
  },
  {
   "cell_type": "markdown",
   "metadata": {},
   "source": [
    "Based on the values in sample1_pcs and sample2_pcs, which organ systems do these samples cluster with? "
   ]
  },
  {
   "cell_type": "markdown",
   "metadata": {},
   "source": [
    "### BEGIN ANSWER ### \n",
    "\n",
    "### END ANSWER ### "
   ]
  },
  {
   "cell_type": "code",
   "execution_count": null,
   "metadata": {},
   "outputs": [],
   "source": []
  }
 ],
 "metadata": {
  "kernelspec": {
   "display_name": "Python 3",
   "language": "python",
   "name": "python3"
  },
  "language_info": {
   "codemirror_mode": {
    "name": "ipython",
    "version": 3
   },
   "file_extension": ".py",
   "mimetype": "text/x-python",
   "name": "python",
   "nbconvert_exporter": "python",
   "pygments_lexer": "ipython3",
   "version": "3.7.3"
  }
 },
 "nbformat": 4,
 "nbformat_minor": 4
}
