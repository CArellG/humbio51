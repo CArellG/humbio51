{
 "cells": [
  {
   "cell_type": "markdown",
   "metadata": {},
   "source": [
    "# Big Data for Biologists: Decoding Genomic Function- Class 7\n",
    "\n",
    "## How do you quantify gene expression and visualize similarities and differences of gene expression profiles across cell types? Part I\n",
    " \n",
    "##  Learning Objectives\n",
    "***Students should be able to***\n",
    " <ol>\n",
    " <li> <a href=#GeneExpressionIntro>Quantify gene expression and understand units of gene expression levels</a></li>\n",
    " <li> <a href=#GeneExpressionIntro>Understand what a box plot is</a></li>\n",
    " <li> <a href=#GeneExpressionIntro>Visualize gene expression variation across cell types and individuals from the GTEx project</a></li>\n",
    " <li><a href=#RNASeqDataFormat>Recognize that data from an RNA-Seq experiment can be processed and stored in a format that can be read into Python</a></li>\n",
    " <li> <a href=#IDHeaderSep>Identify the separator and header in a data table</a></li> \n",
    " <li><a href=#LoadTable> Load a data table in .csv or .tsv format into Python</a></li>\n",
    " <li> <a href=#DataTableDim>Get the dimensions of a data table in Python  </a></li>\n",
    " <li> <a href=#MetaData>Load RNA-Seq metadata for the physiological system of a cell type into Python</a></li> \n",
    " <li> <a href=#Slicing>Slice a data table in Python to select a subset of rows or columns. </a></li> \n",
    " <li> <a href=#Barplot>Make a bar plot from a data table using Python </a></li>\n",
    " <li> <a href=#BinaryIndex>Use binary indexing to select elements from a dataframe. </a></li>\n",
    " "
   ]
  },
  {
   "cell_type": "markdown",
   "metadata": {},
   "source": [
    "## How do you quantify gene expression?"
   ]
  },
  {
   "cell_type": "code",
   "execution_count": null,
   "metadata": {
    "collapsed": false
   },
   "outputs": [],
   "source": [
    "from IPython.display import HTML\n",
    "HTML('<iframe src=\"https://drive.google.com/file/d/0B_ssVVyXv8ZSrnaseq_dataBNSkN5RFZDc00/preview\" width=\"1000\" height=\"480\"></iframe>')"
   ]
  },
  {
   "cell_type": "markdown",
   "metadata": {},
   "source": [
    "## How does gene expression change across cell types and individuals? "
   ]
  },
  {
   "cell_type": "markdown",
   "metadata": {},
   "source": [
    "Gene expression varies not only across cell types and tissues but also between healthy individuals and between health and diseased individuals.\n",
    "\n",
    "The aim of the Genotype - Tissue Expression (GTEx) Project is to increase our understanding of how changes in our genes contribute to common human diseases, in order to improve health care for future generations.\n",
    "\n",
    "Launched by the National Institutes of Health (NIH) in September 2010 (See: NIH launches Genotype-Tissue Expression project), GTEx has created a resource that researchers can use to study how inherited changes in genes lead to common diseases.  It has established a database and a tissue bank that can be used by many researchers around the world for future studies.\n",
    "\n",
    "GTEx researchers are studying genes in different tissues obtained from many different people. Thus every donor's generous gift of tissues and medical information to the GTEx project makes possible research that will help improve our understanding of diseases, giving hope that we will find better ways to prevent, diagnose, treat and eventually cure these diseases in the future.\n",
    "\n",
    "GTEx portal is at https://www.gtexportal.org/home/"
   ]
  },
  {
   "cell_type": "code",
   "execution_count": null,
   "metadata": {
    "collapsed": false
   },
   "outputs": [],
   "source": [
    "HTML('<iframe src=\"https://drive.google.com/file/d/0B_ssVVyXv8ZSV2xYRnlHSDJMUTA/preview\" width=\"1000\" height=\"480\"></iframe>')"
   ]
  },
  {
   "cell_type": "markdown",
   "metadata": {},
   "source": [
    "Boxplots are a type of graph that is often used to visualize changes in gene expression, as in the GTEx examples below. We will use a python library called [plotly](https://help.plot.ly/what-is-a-box-plot/) to generate boxplots that illustrated changes in gene expression. "
   ]
  },
  {
   "cell_type": "markdown",
   "metadata": {},
   "source": [
    "Let's revisit the genes that we examined in the Washu Browser in the last tutorial. Click on the link next to each gene to navigate to the GTEx entry for the gene. \n",
    "\n",
    "* MYOD1 - muscle https://www.gtexportal.org/home/gene/MYOD1\n",
    "* NEUROD1 - neurons https://www.gtexportal.org/home/gene/NEUROD1\n",
    "* SPI1 - blood https://www.gtexportal.org/home/gene/SPI1\n",
    "* HNF4A - Liver and related https://www.gtexportal.org/home/gene/HNF4A\n",
    "* GTF2B - Ubiquitous gene https://www.gtexportal.org/home/gene/GTF2B\n"
   ]
  },
  {
   "cell_type": "markdown",
   "metadata": {},
   "source": [
    "## How is data from an RNA-Seq experiment processed and stored in a format that can be read into Python? <a name='RNASeqDataFormat' />\n",
    "\n",
    "We are now going to look at processed and normalized data from the ENCODE portal. 565 RNA-seq samples were collected across multiple tissues and cell types. We begin by looking at the number of sequence reads that align to each gene. The data is stored in a matrix format, with each row corresponding to a gene in the human genome and each column corresponding to an RNA-seq experiment. The values in the matrix are read counts -- specifically the number of reads that align to a given gene. We normalize the data to \"counts per million\". \n",
    "\n",
    "<img src=\"../Images/7-gene_expression.png\" style=\"width: 50%; height: 50%\" align=\"center\"//>\n",
    "\n",
    "To start analyzing the data from the RNA-Seq experiment one of the first steps is reading the data into a program that can be used for the analysis. \n",
    "\n",
    "We'll be using Python and will need to first cover some general information about working with datatables. "
   ]
  },
  {
   "cell_type": "markdown",
   "metadata": {},
   "source": [
    "# Identify the separator and header in a data table  <a name='IDHeaderSep' />\n",
    "\n",
    "Two common formats for data tables are comma separated values (**.csv**) files or tab separated values (**.tsv**) files.\n",
    "\n",
    "In order to read a data table into a program, you often need to know the format of the file. One way to check the format is to look at the files in a text editor. In the figure below, you can see the differences between a file saved in .csv or .tsv format. \n",
    "\n",
    "Also, when you read a data table into Python (or R) you often need to specify which row of the file has the column labels. This row is referred to as a **header**.\n",
    "\n",
    "Sometimes a file has extra lines above the header, so you may need to tell the program not to read that row since the extra lines may not have the same number of columns as the rest of the table and they can mess up the formatting. \n",
    "\n",
    "<img src=\"../Images/6-Tables-CSV-TSV.png\" style=\"width: 100%; height: 100%\" align=\"center\"//>"
   ]
  },
  {
   "cell_type": "markdown",
   "metadata": {},
   "source": [
    "# Load a data table in .csv or .tsv format into Python <a name='LoadTable' />\n",
    "\n",
    "To read our RNA-Seq data table into Python, we are going to be using the <i>pandas</i> package. \n",
    "\n",
    "<i>Pandas</i> adds functionality to working with data in Python. You can learn more about <i>pandas</i> at the following [link](http://pandas.pydata.org/). In particular, <i>pandas</i> introduces a variable type called dataframes which are a convient way of working with tables.\n",
    "\n",
    "After we have imported the <i>pandas</i> package into Python, we can load a .csv or .tsv file with the read_csv or read_table command. \n",
    "\n",
    "The RNA-Seq data that we will be using is a .tsv file.\n",
    "\n",
    "Note that the read command also asks for you to specify the row number for the header which in our case is the first line, denoted zero in Python. \n",
    "\n",
    "Take a look at reading in a file in the example below. "
   ]
  },
  {
   "cell_type": "code",
   "execution_count": null,
   "metadata": {
    "collapsed": false
   },
   "outputs": [],
   "source": [
    "%load_ext autoreload\n",
    "# load the pandas package and define an abbreviation (or alias) \n",
    "import pandas as pd   \n",
    "\n",
    "# read_table loads a tabular data file into python with tab as the default separator\n",
    "# read_csv loads a tabular data file into python with comma as the deafault separator\n",
    "# header gives the number of the row that will be used for column names\n",
    "\n",
    "#Step 1: Read in the normalized data. \n",
    "rnaseq_data = pd.read_table(\n",
    "     filepath_or_buffer='../datasets/RNAseq/rnaseq_normalized.tsv', \n",
    "     header=0)"
   ]
  },
  {
   "cell_type": "markdown",
   "metadata": {},
   "source": [
    "Thought questions: \n",
    "\n",
    "* What would you change the code above to read in a .csv file?\n",
    "* How would you need to change the code if your column names were in the third row? "
   ]
  },
  {
   "cell_type": "markdown",
   "metadata": {},
   "source": [
    "# How do I know how many genes and cell types I have in my data set (aka. Get the dimensions of a data table in Python)<a name='DataTableDim' />\n",
    "  \n",
    "Once you've read your data set into Python, there are just a couple of commands that you need to look at the size of your dataset. \n"
   ]
  },
  {
   "cell_type": "code",
   "execution_count": 4,
   "metadata": {
    "collapsed": false
   },
   "outputs": [
    {
     "data": {
      "text/html": [
       "<div>\n",
       "<style>\n",
       "    .dataframe thead tr:only-child th {\n",
       "        text-align: right;\n",
       "    }\n",
       "\n",
       "    .dataframe thead th {\n",
       "        text-align: left;\n",
       "    }\n",
       "\n",
       "    .dataframe tbody tr th {\n",
       "        vertical-align: top;\n",
       "    }\n",
       "</style>\n",
       "<table border=\"1\" class=\"dataframe\">\n",
       "  <thead>\n",
       "    <tr style=\"text-align: right;\">\n",
       "      <th></th>\n",
       "      <th>ENCSR051GPK.Ganglion_Eminence_derived_primary_cultured_neurospheres.UCSF_Costello</th>\n",
       "      <th>ENCSR906HEV.Fetal_Muscle_Trunk.UW_Glass</th>\n",
       "      <th>ENCSR762CJN.H1_BMP4_Derived_Trophoblast_Cultured_Cells.UCSD_Thompson</th>\n",
       "      <th>ENCSR321ROU.Fetal_Kidney_Pelvis.UW_Glass</th>\n",
       "      <th>ENCSR109IQO.K562_Leukemia_Cells.UConn_Graveley</th>\n",
       "      <th>ENCSR000AEF.GM12878_Lymphoblastoid_Cells.UConn_Graveley</th>\n",
       "      <th>ENCSR244ISQ.H9_Derived_Neuronal_Progenitor_Cultured_Cells.CSHL_Gingeras</th>\n",
       "      <th>ENCSR446RKD.Fetal_Intestine_Small.UW_Glass</th>\n",
       "      <th>ENCSR396GIH.Sigmoid_Colon.Stanford_Snyder</th>\n",
       "      <th>ENCSR000CUA.Primary_hematopoietic_stem_cells.CSHL_Gingeras</th>\n",
       "      <th>...</th>\n",
       "      <th>ENCSR271DJJ.Pancreatic_Islets.UCSF_Costello</th>\n",
       "      <th>ENCSR000AED.GM12878_Lymphoblastoid_Cells.CSHL_Gingeras</th>\n",
       "      <th>ENCSR433GXV.hESC_Derived_CD56._Mesoderm_Cultured_Cells.Harvard</th>\n",
       "      <th>ENCSR535VTR.HT1080_Fibrosarcoma_Cell_Line.CSHL_Gingeras</th>\n",
       "      <th>ENCSR000AEV.Bladder.CSHL_Gingeras</th>\n",
       "      <th>ENCSR314LXG.Karpas.422_B_Cell_Non.Hodgkin_Lymphoma_Cell_Line.CSHL_Gingeras</th>\n",
       "      <th>ENCSR642GSA.Primary_T_CD8._naive_cells_from_peripheral_blood.UCSF_Costello</th>\n",
       "      <th>ENCSR880EGO.SJSA1_Osteosarcoma_Cell_Line.CSHL_Gingeras</th>\n",
       "      <th>ENCSR000AAT.Umbilical_Artery_Epithelial_Primary_Cells.CSHL_Gingeras</th>\n",
       "      <th>ENCSR000EYQ.HeLa.S3_Cervical_Carcinoma_Cell_Line.Caltech_Wold</th>\n",
       "    </tr>\n",
       "  </thead>\n",
       "  <tbody>\n",
       "    <tr>\n",
       "      <th>ENSG00000242268.2</th>\n",
       "      <td>0.675065</td>\n",
       "      <td>0.277090</td>\n",
       "      <td>0.187297</td>\n",
       "      <td>-0.104115</td>\n",
       "      <td>0.384825</td>\n",
       "      <td>0.805894</td>\n",
       "      <td>0.047858</td>\n",
       "      <td>0.147409</td>\n",
       "      <td>0.292986</td>\n",
       "      <td>0.312230</td>\n",
       "      <td>...</td>\n",
       "      <td>0.653688</td>\n",
       "      <td>0.221102</td>\n",
       "      <td>0.206536</td>\n",
       "      <td>0.444246</td>\n",
       "      <td>0.246548</td>\n",
       "      <td>0.189249</td>\n",
       "      <td>0.418133</td>\n",
       "      <td>0.252317</td>\n",
       "      <td>0.326081</td>\n",
       "      <td>0.368408</td>\n",
       "    </tr>\n",
       "    <tr>\n",
       "      <th>ENSG00000167578.12</th>\n",
       "      <td>3.176028</td>\n",
       "      <td>2.113871</td>\n",
       "      <td>2.990098</td>\n",
       "      <td>2.860598</td>\n",
       "      <td>3.392432</td>\n",
       "      <td>2.345439</td>\n",
       "      <td>2.824117</td>\n",
       "      <td>2.697207</td>\n",
       "      <td>3.277173</td>\n",
       "      <td>3.183208</td>\n",
       "      <td>...</td>\n",
       "      <td>2.879215</td>\n",
       "      <td>3.832572</td>\n",
       "      <td>3.034219</td>\n",
       "      <td>2.787787</td>\n",
       "      <td>2.751289</td>\n",
       "      <td>3.375140</td>\n",
       "      <td>3.721178</td>\n",
       "      <td>3.144349</td>\n",
       "      <td>2.578081</td>\n",
       "      <td>1.950408</td>\n",
       "    </tr>\n",
       "    <tr>\n",
       "      <th>ENSG00000270112.2</th>\n",
       "      <td>-0.100813</td>\n",
       "      <td>0.325754</td>\n",
       "      <td>0.068335</td>\n",
       "      <td>-0.067226</td>\n",
       "      <td>0.145993</td>\n",
       "      <td>0.033347</td>\n",
       "      <td>-0.015703</td>\n",
       "      <td>0.305393</td>\n",
       "      <td>0.024166</td>\n",
       "      <td>0.153861</td>\n",
       "      <td>...</td>\n",
       "      <td>0.959168</td>\n",
       "      <td>-0.027327</td>\n",
       "      <td>0.121938</td>\n",
       "      <td>0.131140</td>\n",
       "      <td>0.137807</td>\n",
       "      <td>-0.031017</td>\n",
       "      <td>0.114565</td>\n",
       "      <td>0.175163</td>\n",
       "      <td>0.168535</td>\n",
       "      <td>0.027780</td>\n",
       "    </tr>\n",
       "    <tr>\n",
       "      <th>ENSG00000078237.4</th>\n",
       "      <td>3.750078</td>\n",
       "      <td>1.852882</td>\n",
       "      <td>3.030287</td>\n",
       "      <td>2.432092</td>\n",
       "      <td>2.051930</td>\n",
       "      <td>2.783840</td>\n",
       "      <td>2.881930</td>\n",
       "      <td>2.124639</td>\n",
       "      <td>2.829874</td>\n",
       "      <td>2.028751</td>\n",
       "      <td>...</td>\n",
       "      <td>2.116523</td>\n",
       "      <td>2.660524</td>\n",
       "      <td>2.838042</td>\n",
       "      <td>3.059306</td>\n",
       "      <td>2.241726</td>\n",
       "      <td>2.550853</td>\n",
       "      <td>2.296903</td>\n",
       "      <td>2.329019</td>\n",
       "      <td>2.827429</td>\n",
       "      <td>1.951301</td>\n",
       "    </tr>\n",
       "    <tr>\n",
       "      <th>ENSG00000263642.1</th>\n",
       "      <td>-0.005248</td>\n",
       "      <td>0.007042</td>\n",
       "      <td>0.002427</td>\n",
       "      <td>-0.028182</td>\n",
       "      <td>-0.000008</td>\n",
       "      <td>0.004928</td>\n",
       "      <td>0.011574</td>\n",
       "      <td>0.000988</td>\n",
       "      <td>0.011045</td>\n",
       "      <td>0.002950</td>\n",
       "      <td>...</td>\n",
       "      <td>0.001907</td>\n",
       "      <td>0.001637</td>\n",
       "      <td>0.009485</td>\n",
       "      <td>0.003524</td>\n",
       "      <td>0.006027</td>\n",
       "      <td>0.005670</td>\n",
       "      <td>-0.001775</td>\n",
       "      <td>0.011901</td>\n",
       "      <td>0.005117</td>\n",
       "      <td>0.000580</td>\n",
       "    </tr>\n",
       "  </tbody>\n",
       "</table>\n",
       "<p>5 rows × 410 columns</p>\n",
       "</div>"
      ],
      "text/plain": [
       "                    ENCSR051GPK.Ganglion_Eminence_derived_primary_cultured_neurospheres.UCSF_Costello  \\\n",
       "ENSG00000242268.2                                            0.675065                                   \n",
       "ENSG00000167578.12                                           3.176028                                   \n",
       "ENSG00000270112.2                                           -0.100813                                   \n",
       "ENSG00000078237.4                                            3.750078                                   \n",
       "ENSG00000263642.1                                           -0.005248                                   \n",
       "\n",
       "                    ENCSR906HEV.Fetal_Muscle_Trunk.UW_Glass  \\\n",
       "ENSG00000242268.2                                  0.277090   \n",
       "ENSG00000167578.12                                 2.113871   \n",
       "ENSG00000270112.2                                  0.325754   \n",
       "ENSG00000078237.4                                  1.852882   \n",
       "ENSG00000263642.1                                  0.007042   \n",
       "\n",
       "                    ENCSR762CJN.H1_BMP4_Derived_Trophoblast_Cultured_Cells.UCSD_Thompson  \\\n",
       "ENSG00000242268.2                                            0.187297                      \n",
       "ENSG00000167578.12                                           2.990098                      \n",
       "ENSG00000270112.2                                            0.068335                      \n",
       "ENSG00000078237.4                                            3.030287                      \n",
       "ENSG00000263642.1                                            0.002427                      \n",
       "\n",
       "                    ENCSR321ROU.Fetal_Kidney_Pelvis.UW_Glass  \\\n",
       "ENSG00000242268.2                                  -0.104115   \n",
       "ENSG00000167578.12                                  2.860598   \n",
       "ENSG00000270112.2                                  -0.067226   \n",
       "ENSG00000078237.4                                   2.432092   \n",
       "ENSG00000263642.1                                  -0.028182   \n",
       "\n",
       "                    ENCSR109IQO.K562_Leukemia_Cells.UConn_Graveley  \\\n",
       "ENSG00000242268.2                                         0.384825   \n",
       "ENSG00000167578.12                                        3.392432   \n",
       "ENSG00000270112.2                                         0.145993   \n",
       "ENSG00000078237.4                                         2.051930   \n",
       "ENSG00000263642.1                                        -0.000008   \n",
       "\n",
       "                    ENCSR000AEF.GM12878_Lymphoblastoid_Cells.UConn_Graveley  \\\n",
       "ENSG00000242268.2                                            0.805894         \n",
       "ENSG00000167578.12                                           2.345439         \n",
       "ENSG00000270112.2                                            0.033347         \n",
       "ENSG00000078237.4                                            2.783840         \n",
       "ENSG00000263642.1                                            0.004928         \n",
       "\n",
       "                    ENCSR244ISQ.H9_Derived_Neuronal_Progenitor_Cultured_Cells.CSHL_Gingeras  \\\n",
       "ENSG00000242268.2                                            0.047858                         \n",
       "ENSG00000167578.12                                           2.824117                         \n",
       "ENSG00000270112.2                                           -0.015703                         \n",
       "ENSG00000078237.4                                            2.881930                         \n",
       "ENSG00000263642.1                                            0.011574                         \n",
       "\n",
       "                    ENCSR446RKD.Fetal_Intestine_Small.UW_Glass  \\\n",
       "ENSG00000242268.2                                     0.147409   \n",
       "ENSG00000167578.12                                    2.697207   \n",
       "ENSG00000270112.2                                     0.305393   \n",
       "ENSG00000078237.4                                     2.124639   \n",
       "ENSG00000263642.1                                     0.000988   \n",
       "\n",
       "                    ENCSR396GIH.Sigmoid_Colon.Stanford_Snyder  \\\n",
       "ENSG00000242268.2                                    0.292986   \n",
       "ENSG00000167578.12                                   3.277173   \n",
       "ENSG00000270112.2                                    0.024166   \n",
       "ENSG00000078237.4                                    2.829874   \n",
       "ENSG00000263642.1                                    0.011045   \n",
       "\n",
       "                    ENCSR000CUA.Primary_hematopoietic_stem_cells.CSHL_Gingeras  \\\n",
       "ENSG00000242268.2                                            0.312230            \n",
       "ENSG00000167578.12                                           3.183208            \n",
       "ENSG00000270112.2                                            0.153861            \n",
       "ENSG00000078237.4                                            2.028751            \n",
       "ENSG00000263642.1                                            0.002950            \n",
       "\n",
       "                                                ...                                \\\n",
       "ENSG00000242268.2                               ...                                 \n",
       "ENSG00000167578.12                              ...                                 \n",
       "ENSG00000270112.2                               ...                                 \n",
       "ENSG00000078237.4                               ...                                 \n",
       "ENSG00000263642.1                               ...                                 \n",
       "\n",
       "                    ENCSR271DJJ.Pancreatic_Islets.UCSF_Costello  \\\n",
       "ENSG00000242268.2                                      0.653688   \n",
       "ENSG00000167578.12                                     2.879215   \n",
       "ENSG00000270112.2                                      0.959168   \n",
       "ENSG00000078237.4                                      2.116523   \n",
       "ENSG00000263642.1                                      0.001907   \n",
       "\n",
       "                    ENCSR000AED.GM12878_Lymphoblastoid_Cells.CSHL_Gingeras  \\\n",
       "ENSG00000242268.2                                            0.221102        \n",
       "ENSG00000167578.12                                           3.832572        \n",
       "ENSG00000270112.2                                           -0.027327        \n",
       "ENSG00000078237.4                                            2.660524        \n",
       "ENSG00000263642.1                                            0.001637        \n",
       "\n",
       "                    ENCSR433GXV.hESC_Derived_CD56._Mesoderm_Cultured_Cells.Harvard  \\\n",
       "ENSG00000242268.2                                            0.206536                \n",
       "ENSG00000167578.12                                           3.034219                \n",
       "ENSG00000270112.2                                            0.121938                \n",
       "ENSG00000078237.4                                            2.838042                \n",
       "ENSG00000263642.1                                            0.009485                \n",
       "\n",
       "                    ENCSR535VTR.HT1080_Fibrosarcoma_Cell_Line.CSHL_Gingeras  \\\n",
       "ENSG00000242268.2                                            0.444246         \n",
       "ENSG00000167578.12                                           2.787787         \n",
       "ENSG00000270112.2                                            0.131140         \n",
       "ENSG00000078237.4                                            3.059306         \n",
       "ENSG00000263642.1                                            0.003524         \n",
       "\n",
       "                    ENCSR000AEV.Bladder.CSHL_Gingeras  \\\n",
       "ENSG00000242268.2                            0.246548   \n",
       "ENSG00000167578.12                           2.751289   \n",
       "ENSG00000270112.2                            0.137807   \n",
       "ENSG00000078237.4                            2.241726   \n",
       "ENSG00000263642.1                            0.006027   \n",
       "\n",
       "                    ENCSR314LXG.Karpas.422_B_Cell_Non.Hodgkin_Lymphoma_Cell_Line.CSHL_Gingeras  \\\n",
       "ENSG00000242268.2                                            0.189249                            \n",
       "ENSG00000167578.12                                           3.375140                            \n",
       "ENSG00000270112.2                                           -0.031017                            \n",
       "ENSG00000078237.4                                            2.550853                            \n",
       "ENSG00000263642.1                                            0.005670                            \n",
       "\n",
       "                    ENCSR642GSA.Primary_T_CD8._naive_cells_from_peripheral_blood.UCSF_Costello  \\\n",
       "ENSG00000242268.2                                            0.418133                            \n",
       "ENSG00000167578.12                                           3.721178                            \n",
       "ENSG00000270112.2                                            0.114565                            \n",
       "ENSG00000078237.4                                            2.296903                            \n",
       "ENSG00000263642.1                                           -0.001775                            \n",
       "\n",
       "                    ENCSR880EGO.SJSA1_Osteosarcoma_Cell_Line.CSHL_Gingeras  \\\n",
       "ENSG00000242268.2                                            0.252317        \n",
       "ENSG00000167578.12                                           3.144349        \n",
       "ENSG00000270112.2                                            0.175163        \n",
       "ENSG00000078237.4                                            2.329019        \n",
       "ENSG00000263642.1                                            0.011901        \n",
       "\n",
       "                    ENCSR000AAT.Umbilical_Artery_Epithelial_Primary_Cells.CSHL_Gingeras  \\\n",
       "ENSG00000242268.2                                            0.326081                     \n",
       "ENSG00000167578.12                                           2.578081                     \n",
       "ENSG00000270112.2                                            0.168535                     \n",
       "ENSG00000078237.4                                            2.827429                     \n",
       "ENSG00000263642.1                                            0.005117                     \n",
       "\n",
       "                    ENCSR000EYQ.HeLa.S3_Cervical_Carcinoma_Cell_Line.Caltech_Wold  \n",
       "ENSG00000242268.2                                            0.368408              \n",
       "ENSG00000167578.12                                           1.950408              \n",
       "ENSG00000270112.2                                            0.027780              \n",
       "ENSG00000078237.4                                            1.951301              \n",
       "ENSG00000263642.1                                            0.000580              \n",
       "\n",
       "[5 rows x 410 columns]"
      ]
     },
     "execution_count": 4,
     "metadata": {},
     "output_type": "execute_result"
    }
   ],
   "source": [
    "#Use the 'head' command to examine the structure of your data matrix. \n",
    "rnaseq_data.head()"
   ]
  },
  {
   "cell_type": "code",
   "execution_count": 5,
   "metadata": {
    "collapsed": false
   },
   "outputs": [
    {
     "name": "stdout",
     "output_type": "stream",
     "text": [
      "55667\n",
      "410\n"
     ]
    }
   ],
   "source": [
    "#Use the shape command to calculate the dimensions of your data matrix \n",
    "#shape[0] gives the number of rows, shape [1] gives the number of columns. \n",
    "\n",
    "num_genes=rnaseq_data.shape[0] \n",
    "num_samples=rnaseq_data.shape[1] \n",
    "\n",
    "#use the print command to print the variables you generated above \n",
    "print(num_genes)\n",
    "print(num_samples)"
   ]
  },
  {
   "cell_type": "markdown",
   "metadata": {},
   "source": [
    "Thought questions:\n",
    "How many genes were measured in this experiment?\n",
    "How many samples were measured?"
   ]
  },
  {
   "cell_type": "markdown",
   "metadata": {},
   "source": [
    " # Load RNA-Seq metadata for the physiological system of a cell type into Python<a name='MetaData' />"
   ]
  },
  {
   "cell_type": "markdown",
   "metadata": {},
   "source": [
    "In our example today, we want to compare cell types in different organ systems such as the Nervous system, Musculoskeletal system or Blood. \n",
    "\n",
    "We have a file that lists the System, Organ and Cell Type for each Sample in the RNA-Seq experiment from the last class. This separate file with information about the samples is referred to as **metadata**. \n",
    "\n",
    "The metadata is stored in a file called: '../datasets/RNAseq/rnaseq_metadata.txt'. \n",
    "\n",
    "Since the name of the metadata table does not tell you, how can you check if the file is in .csv or .tsv format? \n",
    "\n",
    "Using what you learned yesterday about reading detatables into Python, write the code to read in the baches file and to view the top of the file. "
   ]
  },
  {
   "cell_type": "code",
   "execution_count": null,
   "metadata": {
    "collapsed": true
   },
   "outputs": [],
   "source": [
    "#Step 2: Load the metadata file that provides metadata annotations for each sample \n",
    "#(hint: this will be very similar to the code we wrote to load the data table)"
   ]
  },
  {
   "cell_type": "code",
   "execution_count": 7,
   "metadata": {
    "collapsed": false
   },
   "outputs": [],
   "source": [
    "###BEGIN SOLUTION\n",
    "metadata = pd.read_table(\n",
    "     filepath_or_buffer='../datasets/RNAseq/rnaseq_batches.txt', \n",
    "     header=0)\n",
    "###END SOLUTION "
   ]
  },
  {
   "cell_type": "code",
   "execution_count": 9,
   "metadata": {
    "collapsed": false
   },
   "outputs": [
    {
     "name": "stdout",
     "output_type": "stream",
     "text": [
      "410\n",
      "4\n"
     ]
    }
   ],
   "source": [
    "num_genes=metadata.shape[0] \n",
    "num_samples=metadata.shape[1] \n",
    "\n",
    "#use the print command to print the variables you generated above \n",
    "print(num_genes)\n",
    "print(num_samples)"
   ]
  },
  {
   "cell_type": "markdown",
   "metadata": {},
   "source": [
    "## Slice a data table in Python to select a subset of rows or columns. <a name='Slicing' />\n",
    "\n",
    "To answer the question <i>\"Do cell types from the same organ system have similar gene expression profiles?</i>, we are particularly interested in the column labeled System. \n",
    "\n",
    "Selecting part of a table is called slicing. It is very common in data analysis work to need to slice a table to select, for example, one column, one row or a set of rows and/or columns. \n",
    "\n",
    "Using the <i>pandas</i> package, there are a few ways that you can select rows and columns. Below is a table from the pandas [website](https://pandas.pydata.org/pandas-docs/stable/dsintro.html), that summarizes how you can select rows and columns.  For a more complete description and set of examples see this [link](https://pandas.pydata.org/pandas-docs/stable/indexing.html).\n",
    "\n",
    "\n",
    "<img src=\"../Images/7-Indexing_Selecting Rows and Columns.png\" style=\"width: 60%; height: 60%\" align=\"center\"//>\n",
    "\n",
    "\n",
    "In our example, let's look first at how we would select the System column.  "
   ]
  },
  {
   "cell_type": "code",
   "execution_count": 8,
   "metadata": {
    "collapsed": false
   },
   "outputs": [
    {
     "data": {
      "text/html": [
       "<div>\n",
       "<style>\n",
       "    .dataframe thead tr:only-child th {\n",
       "        text-align: right;\n",
       "    }\n",
       "\n",
       "    .dataframe thead th {\n",
       "        text-align: left;\n",
       "    }\n",
       "\n",
       "    .dataframe tbody tr th {\n",
       "        vertical-align: top;\n",
       "    }\n",
       "</style>\n",
       "<table border=\"1\" class=\"dataframe\">\n",
       "  <thead>\n",
       "    <tr style=\"text-align: right;\">\n",
       "      <th></th>\n",
       "      <th>Sample</th>\n",
       "      <th>System</th>\n",
       "      <th>Organ</th>\n",
       "      <th>CellType</th>\n",
       "    </tr>\n",
       "  </thead>\n",
       "  <tbody>\n",
       "    <tr>\n",
       "      <th>0</th>\n",
       "      <td>ENCSR051GPK.Ganglion_Eminence_derived_primary_...</td>\n",
       "      <td>Nervous</td>\n",
       "      <td>Brain</td>\n",
       "      <td>Neurosphere</td>\n",
       "    </tr>\n",
       "    <tr>\n",
       "      <th>1</th>\n",
       "      <td>ENCSR906HEV.Fetal_Muscle_Trunk.UW_Glass</td>\n",
       "      <td>Musculoskeletal</td>\n",
       "      <td>Muscle</td>\n",
       "      <td>Muscle</td>\n",
       "    </tr>\n",
       "    <tr>\n",
       "      <th>2</th>\n",
       "      <td>ENCSR762CJN.H1_BMP4_Derived_Trophoblast_Cultur...</td>\n",
       "      <td>Embryonic</td>\n",
       "      <td>Trophoblast</td>\n",
       "      <td>ES.derived</td>\n",
       "    </tr>\n",
       "    <tr>\n",
       "      <th>3</th>\n",
       "      <td>ENCSR321ROU.Fetal_Kidney_Pelvis.UW_Glass</td>\n",
       "      <td>Urinary</td>\n",
       "      <td>Kidney</td>\n",
       "      <td>Kidney</td>\n",
       "    </tr>\n",
       "    <tr>\n",
       "      <th>4</th>\n",
       "      <td>ENCSR109IQO.K562_Leukemia_Cells.UConn_Graveley</td>\n",
       "      <td>Blood</td>\n",
       "      <td>Blood</td>\n",
       "      <td>Leukemia</td>\n",
       "    </tr>\n",
       "  </tbody>\n",
       "</table>\n",
       "</div>"
      ],
      "text/plain": [
       "                                              Sample           System  \\\n",
       "0  ENCSR051GPK.Ganglion_Eminence_derived_primary_...          Nervous   \n",
       "1            ENCSR906HEV.Fetal_Muscle_Trunk.UW_Glass  Musculoskeletal   \n",
       "2  ENCSR762CJN.H1_BMP4_Derived_Trophoblast_Cultur...        Embryonic   \n",
       "3           ENCSR321ROU.Fetal_Kidney_Pelvis.UW_Glass          Urinary   \n",
       "4     ENCSR109IQO.K562_Leukemia_Cells.UConn_Graveley            Blood   \n",
       "\n",
       "         Organ     CellType  \n",
       "0        Brain  Neurosphere  \n",
       "1       Muscle       Muscle  \n",
       "2  Trophoblast   ES.derived  \n",
       "3       Kidney       Kidney  \n",
       "4        Blood     Leukemia  "
      ]
     },
     "execution_count": 8,
     "metadata": {},
     "output_type": "execute_result"
    }
   ],
   "source": [
    "#Use the 'head' command to examine the structure of your data matrix. \n",
    "###BEGIN SOLUTION\n",
    "metadata.head()\n",
    "###END SOLUTION"
   ]
  },
  {
   "cell_type": "code",
   "execution_count": 10,
   "metadata": {
    "collapsed": false
   },
   "outputs": [
    {
     "name": "stdout",
     "output_type": "stream",
     "text": [
      "0               Nervous\n",
      "1       Musculoskeletal\n",
      "2             Embryonic\n",
      "3               Urinary\n",
      "4                 Blood\n",
      "5                 Blood\n",
      "6               Nervous\n",
      "7      Gastrointestinal\n",
      "8      Gastrointestinal\n",
      "9                 Blood\n",
      "10               Breast\n",
      "11      Musculoskeletal\n",
      "12          Respiratory\n",
      "13     Gastrointestinal\n",
      "14      Musculoskeletal\n",
      "15              Urinary\n",
      "16              Nervous\n",
      "17                Blood\n",
      "18              Urinary\n",
      "19               Immune\n",
      "20               Immune\n",
      "21      Musculoskeletal\n",
      "22              Urinary\n",
      "23       Cardiovascular\n",
      "24          Respiratory\n",
      "25            Embryonic\n",
      "26            Embryonic\n",
      "27                 Skin\n",
      "28               Immune\n",
      "29     Gastrointestinal\n",
      "             ...       \n",
      "380           Endocrine\n",
      "381               Blood\n",
      "382        Reproductive\n",
      "383    Gastrointestinal\n",
      "384             Nervous\n",
      "385      Cardiovascular\n",
      "386             Urinary\n",
      "387     Musculoskeletal\n",
      "388           Embryonic\n",
      "389               Blood\n",
      "390             Urinary\n",
      "391             Urinary\n",
      "392     Musculoskeletal\n",
      "393                Skin\n",
      "394             Nervous\n",
      "395        Reproductive\n",
      "396             Nervous\n",
      "397             Urinary\n",
      "398     Musculoskeletal\n",
      "399             Nervous\n",
      "400           Endocrine\n",
      "401               Blood\n",
      "402           Embryonic\n",
      "403     Musculoskeletal\n",
      "404             Urinary\n",
      "405               Blood\n",
      "406               Blood\n",
      "407     Musculoskeletal\n",
      "408        Reproductive\n",
      "409        Reproductive\n",
      "Name: System, Length: 410, dtype: object\n"
     ]
    }
   ],
   "source": [
    "x=metadata['System']\n",
    "print(x)"
   ]
  },
  {
   "cell_type": "code",
   "execution_count": null,
   "metadata": {
    "collapsed": true
   },
   "outputs": [],
   "source": [
    "#Write the code to make a variable x with the Cell Type instead of the System. \n",
    "###BEGIN SOLUTION\n",
    "###END SOLUTION"
   ]
  },
  {
   "cell_type": "code",
   "execution_count": null,
   "metadata": {
    "collapsed": true
   },
   "outputs": [],
   "source": [
    "#Write the code to make a variable x with the first five rows of metadata \n",
    "#(remember to use Python zero-based numbering!). \n",
    "###BEGIN SOLUTION\n",
    "###END SOLUTION"
   ]
  },
  {
   "cell_type": "markdown",
   "metadata": {},
   "source": [
    "Notice that the last option in the table above indicates that you can specify the location with a Boolean vector. Boolean variables usually are variables that can take on two values, True or False. \n",
    "\n",
    "Using this syntax, we can write a criteria for the rows that we want to select. For example, if we want to select the rows from only the respiratory system we could specify the condition that System=='Respiratory'"
   ]
  },
  {
   "cell_type": "code",
   "execution_count": 12,
   "metadata": {
    "collapsed": false
   },
   "outputs": [
    {
     "name": "stdout",
     "output_type": "stream",
     "text": [
      "                                                Sample       System Organ  \\\n",
      "12   ENCSR000AAN.Pulmonary_Artery_Smooth_Muscle_Pri...  Respiratory  Lung   \n",
      "24                     ENCSR499NEL.Fetal_Lung.UW_Glass  Respiratory  Lung   \n",
      "48                    ENCSR917YHC.Lung.Stanford_Snyder  Respiratory  Lung   \n",
      "49                     ENCSR074APH.Fetal_Lung.UW_Glass  Respiratory  Lung   \n",
      "53   ENCSR897KTO.Alveolus_Epithelial_Primary_Cells....  Respiratory  Lung   \n",
      "68   ENCSR000CPM.NHLF_Lung_Fibroblast_Primary_Cells...  Respiratory  Lung   \n",
      "80                     ENCSR733MWN.Fetal_Lung.UW_Glass  Respiratory  Lung   \n",
      "85   ENCSR000AAS.Trachea_Smooth_Muscle_Primary_Cell...  Respiratory  Lung   \n",
      "87   ENCSR000AAP.Pulmonary_Microvascular_Endothelia...  Respiratory  Lung   \n",
      "129                    ENCSR044JAQ.Fetal_Lung.UW_Glass  Respiratory  Lung   \n",
      "136                    ENCSR861SOG.Fetal_Lung.UW_Glass  Respiratory  Lung   \n",
      "154  ENCSR000AAO.NHLF_Lung_Fibroblast_Primary_Cells...  Respiratory  Lung   \n",
      "158  ENCSR000CON.A549_EtOH_pt02pct_Lung_Carcinoma_C...  Respiratory  Lung   \n",
      "162                    ENCSR560MDQ.Fetal_Lung.UW_Glass  Respiratory  Lung   \n",
      "176  ENCSR000AAE.Bronchial_Smooth_Muscle.CSHL_Gingeras  Respiratory  Lung   \n",
      "190  ENCSR620NSN.Bronchial_Fibroblast_Primary_Cells...  Respiratory  Lung   \n",
      "194                   ENCSR278UYN.Lung.Stanford_Snyder  Respiratory  Lung   \n",
      "201                    ENCSR222IGR.Fetal_Lung.UW_Glass  Respiratory  Lung   \n",
      "217                    ENCSR572FXC.Fetal_Lung.UW_Glass  Respiratory  Lung   \n",
      "245               ENCSR000AFC.Fetal_Lung.CSHL_Gingeras  Respiratory  Lung   \n",
      "274  ENCSR000CTK.IMR90_Fetal_Lung_Fibroblasts_Cell_...  Respiratory  Lung   \n",
      "283  ENCSR000CTQ.IMR90_Fetal_Lung_Fibroblasts_Cell_...  Respiratory  Lung   \n",
      "330  ENCSR164OCT.NCI.H460_Large_Cell_Lung_Cancer_Ce...  Respiratory  Lung   \n",
      "337                    ENCSR592EZK.Fetal_Lung.UW_Glass  Respiratory  Lung   \n",
      "342  ENCSR000CWR.NHLF_Lung_Fibroblast_Primary_Cells...  Respiratory  Lung   \n",
      "347  ENCSR000AAD.Bronchial_Epithelial_Primary_Cells...  Respiratory  Lung   \n",
      "348  ENCSR000AAR.Tracheal_Epithelial_Primary_Cells....  Respiratory  Lung   \n",
      "355                    ENCSR176WMG.Fetal_Lung.UW_Glass  Respiratory  Lung   \n",
      "361  ENCSR000COO.NHLF_Lung_Fibroblast_Primary_Cells...  Respiratory  Lung   \n",
      "374  ENCSR000AAM.Pulmonary_Artery_Endothelial_Prima...  Respiratory  Lung   \n",
      "\n",
      "        CellType  \n",
      "12        Smooth  \n",
      "24          Lung  \n",
      "48          Lung  \n",
      "49          Lung  \n",
      "53    Epithelial  \n",
      "68    Fibroblast  \n",
      "80          Lung  \n",
      "85        Smooth  \n",
      "87   Endothelial  \n",
      "129         Lung  \n",
      "136         Lung  \n",
      "154   Fibroblast  \n",
      "158    Carcinoma  \n",
      "162         Lung  \n",
      "176       Smooth  \n",
      "190   Fibroblast  \n",
      "194         Lung  \n",
      "201         Lung  \n",
      "217         Lung  \n",
      "245         Lung  \n",
      "274   Fibroblast  \n",
      "283   Fibroblast  \n",
      "330    Carcinoma  \n",
      "337         Lung  \n",
      "342   Fibroblast  \n",
      "347   Epithelial  \n",
      "348   Epithelial  \n",
      "355         Lung  \n",
      "361   Fibroblast  \n",
      "374  Endothelial  \n"
     ]
    }
   ],
   "source": [
    "metadata_subset=metadata.loc[metadata.System=='Respiratory']\n",
    "print(metadata_subset)"
   ]
  },
  {
   "cell_type": "markdown",
   "metadata": {},
   "source": [
    "In the example below, we are going to want to select multiple Systems. To do this, we can use the \"|\" operator "
   ]
  },
  {
   "cell_type": "code",
   "execution_count": 13,
   "metadata": {
    "collapsed": false
   },
   "outputs": [
    {
     "name": "stdout",
     "output_type": "stream",
     "text": [
      "                                                Sample       System  \\\n",
      "2    ENCSR762CJN.H1_BMP4_Derived_Trophoblast_Cultur...    Embryonic   \n",
      "12   ENCSR000AAN.Pulmonary_Artery_Smooth_Muscle_Pri...  Respiratory   \n",
      "24                     ENCSR499NEL.Fetal_Lung.UW_Glass  Respiratory   \n",
      "25   ENCSR593AMV.hESC_Derived_CD56._Ectoderm_Cultur...    Embryonic   \n",
      "26   ENCSR663WGC.H1_Derived_Mesenchymal_Stem_Cells....    Embryonic   \n",
      "33                  ENCSR950PSB.H1_Cells.UCSF_Costello    Embryonic   \n",
      "44   ENCSR976JGI.H1_BMP4_Derived_Mesendoderm_Cultur...    Embryonic   \n",
      "48                    ENCSR917YHC.Lung.Stanford_Snyder  Respiratory   \n",
      "49                     ENCSR074APH.Fetal_Lung.UW_Glass  Respiratory   \n",
      "53   ENCSR897KTO.Alveolus_Epithelial_Primary_Cells....  Respiratory   \n",
      "57            ENCSR282KJZ.ES.UCSF4_Cells.UCSF_Costello    Embryonic   \n",
      "68   ENCSR000CPM.NHLF_Lung_Fibroblast_Primary_Cells...  Respiratory   \n",
      "80                     ENCSR733MWN.Fetal_Lung.UW_Glass  Respiratory   \n",
      "85   ENCSR000AAS.Trachea_Smooth_Muscle_Primary_Cell...  Respiratory   \n",
      "87   ENCSR000AAP.Pulmonary_Microvascular_Endothelia...  Respiratory   \n",
      "93   ENCSR002CTR.hESC_Derived_CD184._Endoderm_Cultu...    Embryonic   \n",
      "109  ENCSR083HYC.H1_BMP4_Derived_Trophoblast_Cultur...    Embryonic   \n",
      "119                  ENCSR249CKG.Chorion.UCSF_Costello    Embryonic   \n",
      "122  ENCSR472PBS.hESC_Derived_CD184._Endoderm_Cultu...    Embryonic   \n",
      "129                    ENCSR044JAQ.Fetal_Lung.UW_Glass  Respiratory   \n",
      "136                    ENCSR861SOG.Fetal_Lung.UW_Glass  Respiratory   \n",
      "147                   ENCSR348EFG.HUES64_Cells.Harvard    Embryonic   \n",
      "152  ENCSR382XJF.hESC_Derived_CD56._Ectoderm_Cultur...    Embryonic   \n",
      "154  ENCSR000AAO.NHLF_Lung_Fibroblast_Primary_Cells...  Respiratory   \n",
      "158  ENCSR000CON.A549_EtOH_pt02pct_Lung_Carcinoma_C...  Respiratory   \n",
      "162                    ENCSR560MDQ.Fetal_Lung.UW_Glass  Respiratory   \n",
      "176  ENCSR000AAE.Bronchial_Smooth_Muscle.CSHL_Gingeras  Respiratory   \n",
      "190  ENCSR620NSN.Bronchial_Fibroblast_Primary_Cells...  Respiratory   \n",
      "192                  ENCSR043RSE.H1_Cells.UCSD_Thomson    Embryonic   \n",
      "194                   ENCSR278UYN.Lung.Stanford_Snyder  Respiratory   \n",
      "195                  ENCSR670WQY.H1_Cells.UCSD_Thomson    Embryonic   \n",
      "196  ENCSR872LTT.hESC_Derived_CD56._Ectoderm_Cultur...    Embryonic   \n",
      "200  ENCSR500UOD.hESC_Derived_CD56._Mesoderm_Cultur...    Embryonic   \n",
      "201                    ENCSR222IGR.Fetal_Lung.UW_Glass  Respiratory   \n",
      "215                   ENCSR738PHQ.HUES64_Cells.Harvard    Embryonic   \n",
      "217                    ENCSR572FXC.Fetal_Lung.UW_Glass  Respiratory   \n",
      "225  ENCSR700BEW.H1_BMP4_Derived_Mesendoderm_Cultur...    Embryonic   \n",
      "244             ENCSR490SQH.ES.WA7_Cells.CSHL_Gingeras    Embryonic   \n",
      "245               ENCSR000AFC.Fetal_Lung.CSHL_Gingeras  Respiratory   \n",
      "248                  ENCSR338FSZ.Chorion.UCSF_Costello    Embryonic   \n",
      "264  ENCSR275ZLF.H1_Derived_Mesenchymal_Stem_Cells....    Embryonic   \n",
      "270  ENCSR851BRK.hESC_Derived_CD56._Ectoderm_Cultur...    Embryonic   \n",
      "274  ENCSR000CTK.IMR90_Fetal_Lung_Fibroblasts_Cell_...  Respiratory   \n",
      "283  ENCSR000CTQ.IMR90_Fetal_Lung_Fibroblasts_Cell_...  Respiratory   \n",
      "330  ENCSR164OCT.NCI.H460_Large_Cell_Lung_Cancer_Ce...  Respiratory   \n",
      "337                    ENCSR592EZK.Fetal_Lung.UW_Glass  Respiratory   \n",
      "342  ENCSR000CWR.NHLF_Lung_Fibroblast_Primary_Cells...  Respiratory   \n",
      "347  ENCSR000AAD.Bronchial_Epithelial_Primary_Cells...  Respiratory   \n",
      "348  ENCSR000AAR.Tracheal_Epithelial_Primary_Cells....  Respiratory   \n",
      "355                    ENCSR176WMG.Fetal_Lung.UW_Glass  Respiratory   \n",
      "359                  ENCSR466XAR.Chorion.UCSF_Costello    Embryonic   \n",
      "361  ENCSR000COO.NHLF_Lung_Fibroblast_Primary_Cells...  Respiratory   \n",
      "366                  ENCSR741MLF.Chorion.UCSF_Costello    Embryonic   \n",
      "373  ENCSR950PSB.H1_Cells.Cellular_Dynamics_Interna...    Embryonic   \n",
      "374  ENCSR000AAM.Pulmonary_Artery_Endothelial_Prima...  Respiratory   \n",
      "377                 ENCSR000COU.H1_Cells.CSHL_Gingeras    Embryonic   \n",
      "388                  ENCSR000EYP.H1_Cells.Caltech_Wold    Embryonic   \n",
      "402  ENCSR433GXV.hESC_Derived_CD56._Mesoderm_Cultur...    Embryonic   \n",
      "\n",
      "           Organ     CellType  \n",
      "2    Trophoblast   ES.derived  \n",
      "12          Lung       Smooth  \n",
      "24          Lung         Lung  \n",
      "25      Ectoderm     Ectoderm  \n",
      "26    ES.derived   ES.derived  \n",
      "33           ESC          ESC  \n",
      "44    ES.derived   ES.derived  \n",
      "48          Lung         Lung  \n",
      "49          Lung         Lung  \n",
      "53          Lung   Epithelial  \n",
      "57           ESC          ESC  \n",
      "68          Lung   Fibroblast  \n",
      "80          Lung         Lung  \n",
      "85          Lung       Smooth  \n",
      "87          Lung  Endothelial  \n",
      "93      Endoderm     Endoderm  \n",
      "109  Trophoblast   ES.derived  \n",
      "119      Chorion      Chorion  \n",
      "122     Endoderm     Endoderm  \n",
      "129         Lung         Lung  \n",
      "136         Lung         Lung  \n",
      "147          ESC          ESC  \n",
      "152     Ectoderm     Ectoderm  \n",
      "154         Lung   Fibroblast  \n",
      "158         Lung    Carcinoma  \n",
      "162         Lung         Lung  \n",
      "176         Lung       Smooth  \n",
      "190         Lung   Fibroblast  \n",
      "192          ESC          ESC  \n",
      "194         Lung         Lung  \n",
      "195          ESC          ESC  \n",
      "196     Ectoderm     Ectoderm  \n",
      "200     Mesoderm     Mesoderm  \n",
      "201         Lung         Lung  \n",
      "215          ESC          ESC  \n",
      "217         Lung         Lung  \n",
      "225   ES.derived   ES.derived  \n",
      "244          ESC          ESC  \n",
      "245         Lung         Lung  \n",
      "248      Chorion      Chorion  \n",
      "264   ES.derived   ES.derived  \n",
      "270     Ectoderm     Ectoderm  \n",
      "274         Lung   Fibroblast  \n",
      "283         Lung   Fibroblast  \n",
      "330         Lung    Carcinoma  \n",
      "337         Lung         Lung  \n",
      "342         Lung   Fibroblast  \n",
      "347         Lung   Epithelial  \n",
      "348         Lung   Epithelial  \n",
      "355         Lung         Lung  \n",
      "359      Chorion      Chorion  \n",
      "361         Lung   Fibroblast  \n",
      "366      Chorion      Chorion  \n",
      "373          ESC          ESC  \n",
      "374         Lung  Endothelial  \n",
      "377          ESC          ESC  \n",
      "388          ESC          ESC  \n",
      "402     Mesoderm     Mesoderm  \n"
     ]
    }
   ],
   "source": [
    "metadata_subset=metadata.loc[(metadata.System=='Respiratory') | (metadata.System=='Embryonic')]\n",
    "print(metadata_subset)"
   ]
  },
  {
   "cell_type": "markdown",
   "metadata": {},
   "source": [
    "A more compact way, however, to select a list of cell types is to define a variable for the list of cell types and then use the <i>pandas</i> isin function.  "
   ]
  },
  {
   "cell_type": "code",
   "execution_count": 14,
   "metadata": {
    "collapsed": false
   },
   "outputs": [
    {
     "name": "stdout",
     "output_type": "stream",
     "text": [
      "                                                Sample       System  \\\n",
      "2    ENCSR762CJN.H1_BMP4_Derived_Trophoblast_Cultur...    Embryonic   \n",
      "4       ENCSR109IQO.K562_Leukemia_Cells.UConn_Graveley        Blood   \n",
      "5    ENCSR000AEF.GM12878_Lymphoblastoid_Cells.UConn...        Blood   \n",
      "9    ENCSR000CUA.Primary_hematopoietic_stem_cells.C...        Blood   \n",
      "12   ENCSR000AAN.Pulmonary_Artery_Smooth_Muscle_Pri...  Respiratory   \n",
      "17   ENCSR463JBR.Primary_T_CD4._cells_from_peripher...        Blood   \n",
      "19                   ENCSR265NZF.Fetal_Spleen.UW_Glass       Immune   \n",
      "20                   ENCSR069CMT.Fetal_Thymus.UW_Glass       Immune   \n",
      "24                     ENCSR499NEL.Fetal_Lung.UW_Glass  Respiratory   \n",
      "25   ENCSR593AMV.hESC_Derived_CD56._Ectoderm_Cultur...    Embryonic   \n",
      "26   ENCSR663WGC.H1_Derived_Mesenchymal_Stem_Cells....    Embryonic   \n",
      "28                   ENCSR367QHR.Fetal_Thymus.UW_Glass       Immune   \n",
      "33                  ENCSR950PSB.H1_Cells.UCSF_Costello    Embryonic   \n",
      "41   ENCSR357XTU.Primary_Natural_Killer_cells_from_...        Blood   \n",
      "44   ENCSR976JGI.H1_BMP4_Derived_Mesendoderm_Cultur...    Embryonic   \n",
      "48                    ENCSR917YHC.Lung.Stanford_Snyder  Respiratory   \n",
      "49                     ENCSR074APH.Fetal_Lung.UW_Glass  Respiratory   \n",
      "53   ENCSR897KTO.Alveolus_Epithelial_Primary_Cells....  Respiratory   \n",
      "57            ENCSR282KJZ.ES.UCSF4_Cells.UCSF_Costello    Embryonic   \n",
      "58                   ENCSR700QVJ.Fetal_Spleen.UW_Glass       Immune   \n",
      "60   ENCSR944FLL.Primary_T_CD8._cells_from_peripher...        Blood   \n",
      "63   ENCSR409JSP.Primary_mononuclear_cells_from_per...        Blood   \n",
      "65      ENCSR000AEN.K562_Leukemia_Cells.UConn_Graveley        Blood   \n",
      "68   ENCSR000CPM.NHLF_Lung_Fibroblast_Primary_Cells...  Respiratory   \n",
      "80                     ENCSR733MWN.Fetal_Lung.UW_Glass  Respiratory   \n",
      "85   ENCSR000AAS.Trachea_Smooth_Muscle_Primary_Cell...  Respiratory   \n",
      "87   ENCSR000AAP.Pulmonary_Microvascular_Endothelia...  Respiratory   \n",
      "93   ENCSR002CTR.hESC_Derived_CD184._Endoderm_Cultu...    Embryonic   \n",
      "103                  ENCSR468FBC.Fetal_Thymus.UW_Glass       Immune   \n",
      "109  ENCSR083HYC.H1_BMP4_Derived_Trophoblast_Cultur...    Embryonic   \n",
      "..                                                 ...          ...   \n",
      "316  ENCSRMAR040.Primary_T_helper_1_memory_cells_fr...        Blood   \n",
      "318                  ENCSR158XIJ.Fetal_Thymus.UW_Glass       Immune   \n",
      "320  ENCSR001HHK.Oci.Ly.7_B_Cell_Non.Hodgkin_Lympho...        Blood   \n",
      "330  ENCSR164OCT.NCI.H460_Large_Cell_Lung_Cancer_Ce...  Respiratory   \n",
      "336      ENCSR000AEM.K562_Leukemia_Cells.CSHL_Gingeras        Blood   \n",
      "337                    ENCSR592EZK.Fetal_Lung.UW_Glass  Respiratory   \n",
      "339  ENCSRMAR044.Primary_T_regulatory_cells_from_pe...        Blood   \n",
      "342  ENCSR000CWR.NHLF_Lung_Fibroblast_Primary_Cells...  Respiratory   \n",
      "347  ENCSR000AAD.Bronchial_Epithelial_Primary_Cells...  Respiratory   \n",
      "348  ENCSR000AAR.Tracheal_Epithelial_Primary_Cells....  Respiratory   \n",
      "349  ENCSR545MEZ.Primary_T_CD4._cells_from_peripher...        Blood   \n",
      "355                    ENCSR176WMG.Fetal_Lung.UW_Glass  Respiratory   \n",
      "359                  ENCSR466XAR.Chorion.UCSF_Costello    Embryonic   \n",
      "360  ENCSR000COQ.GM12878_Lymphoblastoid_Cells.CSHL_...        Blood   \n",
      "361  ENCSR000COO.NHLF_Lung_Fibroblast_Primary_Cells...  Respiratory   \n",
      "362      ENCSR000AEL.K562_Leukemia_Cells.CSHL_Gingeras        Blood   \n",
      "363  ENCSR000CUC.Monocytes.CD14._RO01746_Primary_Ce...        Blood   \n",
      "366                  ENCSR741MLF.Chorion.UCSF_Costello    Embryonic   \n",
      "373  ENCSR950PSB.H1_Cells.Cellular_Dynamics_Interna...    Embryonic   \n",
      "374  ENCSR000AAM.Pulmonary_Artery_Endothelial_Prima...  Respiratory   \n",
      "376  ENCSR000CWL.GM12892_Lymphoblastoid_Cells.Calte...        Blood   \n",
      "377                 ENCSR000COU.H1_Cells.CSHL_Gingeras    Embryonic   \n",
      "378  ENCSRMAR045.Primary_T_cells_effector_memory_en...        Blood   \n",
      "381  ENCSR449GLL.Primary_B_cells_from_peripheral_bl...        Blood   \n",
      "388                  ENCSR000EYP.H1_Cells.Caltech_Wold    Embryonic   \n",
      "389  ENCSR000CUC.Primary_monocytes_from_peripheral_...        Blood   \n",
      "401  ENCSR000AED.GM12878_Lymphoblastoid_Cells.CSHL_...        Blood   \n",
      "402  ENCSR433GXV.hESC_Derived_CD56._Mesoderm_Cultur...    Embryonic   \n",
      "405  ENCSR314LXG.Karpas.422_B_Cell_Non.Hodgkin_Lymp...        Blood   \n",
      "406  ENCSR642GSA.Primary_T_CD8._naive_cells_from_pe...        Blood   \n",
      "\n",
      "           Organ        CellType  \n",
      "2    Trophoblast      ES.derived  \n",
      "4          Blood        Leukemia  \n",
      "5          Blood  Lymphoblastoid  \n",
      "9          Blood             HSC  \n",
      "12          Lung          Smooth  \n",
      "17         Blood          T.cell  \n",
      "19        Spleen          Spleen  \n",
      "20        Thymus          Thymus  \n",
      "24          Lung            Lung  \n",
      "25      Ectoderm        Ectoderm  \n",
      "26    ES.derived      ES.derived  \n",
      "28        Thymus          Thymus  \n",
      "33           ESC             ESC  \n",
      "41         Blood          B.cell  \n",
      "44    ES.derived      ES.derived  \n",
      "48          Lung            Lung  \n",
      "49          Lung            Lung  \n",
      "53          Lung      Epithelial  \n",
      "57           ESC             ESC  \n",
      "58        Spleen          Spleen  \n",
      "60         Blood          T.cell  \n",
      "63         Blood          T.cell  \n",
      "65         Blood        Leukemia  \n",
      "68          Lung      Fibroblast  \n",
      "80          Lung            Lung  \n",
      "85          Lung          Smooth  \n",
      "87          Lung     Endothelial  \n",
      "93      Endoderm        Endoderm  \n",
      "103       Thymus          Thymus  \n",
      "109  Trophoblast      ES.derived  \n",
      "..           ...             ...  \n",
      "316        Blood          T.cell  \n",
      "318       Thymus          Thymus  \n",
      "320        Blood        Lymphoma  \n",
      "330         Lung       Carcinoma  \n",
      "336        Blood        Leukemia  \n",
      "337         Lung            Lung  \n",
      "339        Blood          T.cell  \n",
      "342         Lung      Fibroblast  \n",
      "347         Lung      Epithelial  \n",
      "348         Lung      Epithelial  \n",
      "349        Blood          T.cell  \n",
      "355         Lung            Lung  \n",
      "359      Chorion         Chorion  \n",
      "360        Blood  Lymphoblastoid  \n",
      "361         Lung      Fibroblast  \n",
      "362        Blood        Leukemia  \n",
      "363        Blood          B.cell  \n",
      "366      Chorion         Chorion  \n",
      "373          ESC             ESC  \n",
      "374         Lung     Endothelial  \n",
      "376        Blood  Lymphoblastoid  \n",
      "377          ESC             ESC  \n",
      "378        Blood          T.cell  \n",
      "381        Blood          B.cell  \n",
      "388          ESC             ESC  \n",
      "389        Blood          B.cell  \n",
      "401        Blood  Lymphoblastoid  \n",
      "402     Mesoderm        Mesoderm  \n",
      "405        Blood        Lymphoma  \n",
      "406        Blood          T.cell  \n",
      "\n",
      "[116 rows x 4 columns]\n"
     ]
    }
   ],
   "source": [
    "#define the list of cell types\n",
    "systems_subset=[\"Blood\",\"Embryonic\",\"Immune\",\"Respiratory\"]\n",
    "\n",
    "#select the rows in metadata for which the System is one of the \n",
    "metadata_subset=metadata.loc[metadata['System'].isin(systems_subset)]\n",
    "\n",
    "print(metadata_subset)"
   ]
  },
  {
   "cell_type": "markdown",
   "metadata": {},
   "source": [
    "## Make a bar plot from a data table using Python<a name='Barplot' />\n",
    "\n",
    "Now that we know how to select specific columns from a table, we are going to make a bar plot to look at the number of samples in each of the organ systems. \n",
    "\n",
    "Specifically, since we have limited computational resources we are going to focus on only four systems today. We want to ensure that we are selecting systems that have a sufficient number of samples. \n",
    "\n",
    "There are several different packages that can be used to make plots in Python. [Matplotlib](https://matplotlib.org/) is one of the widely used plotting packages. [Plotly](https://plot.ly/python/) is a package that's well suited to making on-line or interactive plots. \n",
    "\n",
    "We will be using the plotly package. \n"
   ]
  },
  {
   "cell_type": "code",
   "execution_count": null,
   "metadata": {
    "collapsed": false
   },
   "outputs": [],
   "source": [
    "%autoreload\n",
    "#Import the plotting helper functions from the helpers directory\n",
    "import sys\n",
    "sys.path.append('../helpers')\n",
    "import plotly_helpers \n",
    "from plotly_helpers import * \n",
    "\n",
    "plot_RNAseq_barplot(metadata)"
   ]
  },
  {
   "cell_type": "code",
   "execution_count": null,
   "metadata": {
    "collapsed": false
   },
   "outputs": [],
   "source": [
    "# We will focus our analysis on 5 of the anatomical structures and check for differential gene expression among them.  \n",
    "\n",
    "# We need to read in our RNA-Seq datafile using the same code as Class 5. \n",
    "rnaseq_data = pd.read_table(\n",
    "     filepath_or_buffer='../datasets/RNAseq/rnaseq_normalized.tsv', \n",
    "     header=0)\n",
    "\n",
    "#Pick out the samples (or rows) in the metadata dataframe that contain the samples from the systems of interest \n",
    "systems_subset=[\"Blood\",\"Embryonic\",\"Immune\",\"Respiratory\"]\n",
    "metadata_subset=metadata.loc[metadata['System'].isin(systems_subset)]\n",
    "\n",
    "#Pick out the columns in the RNA-Seq datafile that have samples that are in the systems of interest\n",
    "rnaseq_data_subset=rnaseq_data[metadata_subset['Sample']]\n",
    "\n",
    "#Reindexes metadata_subset\n",
    "metadata_subset=metadata_subset.reset_index()\n",
    "\n",
    "#Check row & column numbers in rnaseq_data_subset \n",
    "print(rnaseq_data_subset.shape[0])#prints number of rows -- this is the gene axis \n",
    "print(rnaseq_data_subset.shape[1])#prints number of columns \n"
   ]
  },
  {
   "cell_type": "markdown",
   "metadata": {},
   "source": [
    "Yesterday the size of the matrix was:\n",
    "\n",
    "55667 <br>\n",
    "410 \n",
    "\n",
    "Thought question: What is the difference between the rnaseq_data_subset matrix that we just made and the original rnaseq_data matrix?"
   ]
  },
  {
   "cell_type": "code",
   "execution_count": null,
   "metadata": {
    "collapsed": false
   },
   "outputs": [],
   "source": [
    "#Now, we create a barplot with just our 4 organ systems of interest \n",
    "plot_RNAseq_barplot(metadata_subset)"
   ]
  },
  {
   "cell_type": "code",
   "execution_count": null,
   "metadata": {
    "collapsed": true
   },
   "outputs": [],
   "source": [
    "#Step 3 : We are interested in genes that are differentially expressed across samples, so we can exclude genes that have 0 TPM\n",
    "#in all samples -- these are not of interest. use the sum command to find such genes \n",
    "\n",
    "#Selects rows in the datafile subset for which the sum of the columns is not = to zero. \n",
    "rnaseq_data_subset=rnaseq_data_subset[rnaseq_data_subset.sum(axis=1)!=0]\n"
   ]
  },
  {
   "cell_type": "markdown",
   "metadata": {},
   "source": [
    "We will now transpose the data frame. Transposition is an operation that flips the rows and columns in a matrix, like in the example below. \n",
    "\n",
    "<img src=\"../Images/7-transpose.png\" style=\"width: 40%; height: 40%\" align=\"center\"//>\n",
    "\n",
    "Currently our features (genes) are along the row axis, while sample names are along the column axis. Transposing the matrix will place the genes along the column axis and the sample names along the row axis. "
   ]
  },
  {
   "cell_type": "code",
   "execution_count": null,
   "metadata": {
    "collapsed": false
   },
   "outputs": [],
   "source": [
    "#Step 4 : Transpose the data frame \n",
    "#Now, our features (genes) are along the column axis, and sample names are along the row axis. \n",
    "rnaseq_data_subset=rnaseq_data_subset.transpose()\n",
    "print(rnaseq_data_subset.shape)"
   ]
  },
  {
   "cell_type": "code",
   "execution_count": null,
   "metadata": {
    "collapsed": false
   },
   "outputs": [],
   "source": [
    "rnaseq_data_subset.head(10)"
   ]
  },
  {
   "cell_type": "markdown",
   "metadata": {},
   "source": [
    "###  Programming tip -- Using binary indexing to extract elements in a matrix. \n",
    "\n",
    "In the code above we needed to select the rows in pca_rnaseq_data for each of the four organ systems. To do this, we executued the line of code: \n",
    "\n",
    "```\n",
    "x=pca_rnaseq_data.loc[metadata_subset[\"System\"]==name,[0]].values.flatten().tolist()   \n",
    "```\n",
    "Let's break down what this line of code is doing. \n",
    "First, we find all positions in `metadata_subset[\"System\"]` that have a specific name. For example:  "
   ]
  },
  {
   "cell_type": "code",
   "execution_count": null,
   "metadata": {
    "collapsed": false
   },
   "outputs": [],
   "source": [
    "print(name)\n",
    "metadata_subset['System']==name"
   ]
  },
  {
   "cell_type": "markdown",
   "metadata": {},
   "source": [
    "Note that `metadata_subset['System']==name` returns a value of \"True\" or \"False\" at each position in the` metadata_subset['System']` array. This is referred to as binary indexing. \n",
    "\n",
    "Next, we identify the rows with a value of \"True\", and select them from `pca_rnaseq_data.loc`. \n",
    "This is done with the command: "
   ]
  },
  {
   "cell_type": "code",
   "execution_count": null,
   "metadata": {
    "collapsed": false
   },
   "outputs": [],
   "source": [
    "pca_rnaseq_data.loc[metadata_subset[\"System\"]==name,[0]]"
   ]
  },
  {
   "cell_type": "markdown",
   "metadata": {},
   "source": [
    "This has allowed us to create positional indices 4, 8, 15 ... from the binary True/False indices. "
   ]
  }
 ],
 "metadata": {
  "anaconda-cloud": {},
  "kernelspec": {
   "display_name": "Python [Root]",
   "language": "python",
   "name": "Python [Root]"
  },
  "language_info": {
   "codemirror_mode": {
    "name": "ipython",
    "version": 3
   },
   "file_extension": ".py",
   "mimetype": "text/x-python",
   "name": "python",
   "nbconvert_exporter": "python",
   "pygments_lexer": "ipython3",
   "version": "3.5.2"
  }
 },
 "nbformat": 4,
 "nbformat_minor": 1
}
