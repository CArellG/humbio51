{
 "cells": [
  {
   "cell_type": "markdown",
   "metadata": {},
   "source": [
    "# Big Data for Biologists: Decoding Genomic Function- Class 11  \n",
    "\n",
    "## How are genes regulated? Transcription factors and regulatory elements\n",
    "\n",
    "##  Learning Objectives\n",
    "***Students should be able to***\n",
    "\n",
    "### How to represent a transcription factor's binding motif and scan sequences for matches \n",
    "\n",
    "<ol> \n",
    "    <li>  <a href=#TFMotif>Explain what transcription factors and transcription factor binding motifs are</a> </li>\n",
    " <li> <a  href=#PWM>Construct a position weight matrix (PWM) for a transcription factor by analyzing known transcription factor binding sequences </a></li>\n",
    " <li> <a href=#PSSM>Make a position-specific score matrices (PSSM) from a PWM to use for transcription factor motif-scanning  </a></li>\n",
    "    <li><a href=#Scan>Motif scanning along a DNA sequence </a></li>\n",
    " <li> <a href=#Biopython>Become familiar with Biopython functions and modules: Align, Motif</a> </li>\n",
    " <li> <a href=#ChIPseq>Understand what is a ChIP-seq experiment and how it can be used to identify transcription factor binding genome-wide</a> </li>\n",
    " <li> <a href=#ChipseqBrowser>Visualize transcription factor ChIP-seq experiment in the WashU Genome Browser</a> </li>\n",
    "</ol>"
   ]
  },
  {
   "cell_type": "markdown",
   "metadata": {},
   "source": [
    "We have concluded our analysis of RNA-seq data. \n",
    "\n",
    "We will now transition to discussing the mehanisms that regulate gene expression.\n",
    "\n",
    "We will begin by examining transcription factors, proteins that control the rate of gene expression.  \n"
   ]
  },
  {
   "cell_type": "code",
   "execution_count": 1,
   "metadata": {},
   "outputs": [],
   "source": [
    "## We import our usual set of helper functions: \n",
    "import sys\n",
    "sys.path.append('../helpers')\n",
    "%matplotlib inline\n",
    "import matplotlib\n",
    "import matplotlib.pyplot as plt\n",
    "import numpy as np\n",
    "from viz_sequence import * "
   ]
  },
  {
   "cell_type": "markdown",
   "metadata": {},
   "source": [
    "## What is a transcription factor?<a name='TFmotif' />"
   ]
  },
  {
   "cell_type": "markdown",
   "metadata": {},
   "source": [
    "In molecular biology, <b>a transcription factor (TF) (or sequence-specific DNA-binding factor) is a protein that controls the rate of transcription of genetic information from DNA to messenger RNA, by binding to a specific DNA sequence</b>. Their function is to regulate - turn on and off - genes in order to make sure that they are expressed in the right cell at the right time and in the right amount throughout the life of the cell and the organism. Groups of TF's function in a coordinated fashion to direct cell division, cell growth, and cell death throughout life; cell migration and organization (body plan) during embryonic development; and intermittently in response to signals from outside the cell, such as a hormone. There are up to 2600 TFs in the human genome.\n",
    "\n",
    "TFs work alone or with other proteins in a complex, by promoting (as an <b>activator</b>), or blocking (as a <b>repressor</b>) the <b>recruitment of RNA polymerase</b> (the enzyme that performs the transcription of genetic information from DNA to RNA) to specific genes.\n",
    "\n",
    "A defining feature of TFs is that they contain at least one <b>DNA-binding domain (DBD), which has affinity to specific DNA short subsequences (~4-20 bp) collectively represented as a binding motif (pattern)</b>. TFs are grouped into classes based on their DBDs. Other proteins such as coactivators, chromatin remodelers, histone acetyltransferases, histone deacetylases, kinases, and methylases are also essential to gene regulation, but lack DNA-binding domains, and therefore are not TFs.\n",
    "\n",
    "TFs are of interest in medicine because TF mutations can cause specific diseases, and medications can be potentially targeted toward them.\n",
    "\n",
    "(Adapted from <a href=\"https://en.wikipedia.org/wiki/Transcription_factor\">https://en.wikipedia.org/wiki/Transcription_factor</a>)"
   ]
  },
  {
   "cell_type": "markdown",
   "metadata": {},
   "source": [
    "## What is a transcription factor binding motif?<a name='TFMotif' />"
   ]
  },
  {
   "cell_type": "markdown",
   "metadata": {},
   "source": [
    "![Transcription factor binds to DNA motif](../Images/10_tf_motif.png)"
   ]
  },
  {
   "cell_type": "markdown",
   "metadata": {},
   "source": [
    "Each transcription factor (TF) has strong chemical binding affinity to some short DNA sequences and weaker affinity to others. Hence, the motif of a TF is not a single deterministic sequence. Instead, you should think of the binding motif of a TF as a collection of all possible subsequences (possibly of variable length), each of which has a different affinity score i.e. a distribution of affinity scores. This is clearly a clunky representation of a motif i.e. a very long list of subsequences with associated affinity scores. Can we develop a compact representation of a binding motif that faithfully summarizes the variable affinity of the TF to different subsequences.\n",
    "\n",
    "Let us assume we were able to conduct a sequencing experiment in some cell type, that provided us a sample of subsequences in the genome to which a TF binds.\n",
    "\n",
    "For example, we have found that the GATA transcription factor binds to the following 4 sequences:\n",
    "\n"
   ]
  },
  {
   "cell_type": "code",
   "execution_count": 2,
   "metadata": {},
   "outputs": [
    {
     "data": {
      "text/plain": [
       "['>sequence1',\n",
       " 'TTGGATAA',\n",
       " '>sequence2',\n",
       " 'CGATAACCG',\n",
       " '>sequence3',\n",
       " 'CGATAT',\n",
       " '>sequence4',\n",
       " 'AAAGGATAT']"
      ]
     },
     "execution_count": 2,
     "metadata": {},
     "output_type": "execute_result"
    }
   ],
   "source": [
    "#tf_binding_sequences.fa is a file with known sequences that bind to the GATA transcription factor\n",
    "sequences=open(\"tf_binding_sequences.fa\",'r').read().strip().split('\\n')\n",
    "sequences "
   ]
  },
  {
   "cell_type": "markdown",
   "metadata": {},
   "source": [
    "## Construct a transcription factor binding motif representation called a position weight matrix (PWM)<a name='PWM' />  "
   ]
  },
  {
   "cell_type": "markdown",
   "metadata": {},
   "source": [
    "We are given a collection of binding instances (subsequences) in the genome to which the TF binds and we want to derive a compact representation of the TFs binding motif.\n",
    "\n",
    "The main principles behind deriving a motif representation is as follows\n",
    "1. The subsequences that a TF likes to bind to (high affinity) are typically quite similar with some mismatches, insertions and deletions (remember alignments?)\n",
    "2. The frequency of a subsequence in the collection of binding instances is proportional to the affinity of the TF to that subsequence i.e. If a TF has high affinity to a specific subsequence, that subsequence will be found more often in the collection of binding instances.\n",
    "\n",
    "Based on these two principles, deriving a compact representation of a motif involves\n",
    "1. Using multiple sequence alignment to align all the binding instance subsequences (which could be of variable length) allowing for mismatches, insertions and deletions\n",
    "2. Counting frequencies of aligned subsequences, which can alternatively be recorded as counting frequencies of each type of nucleotide (A,C,G,T) at each position across all the aligned subsequences."
   ]
  },
  {
   "cell_type": "markdown",
   "metadata": {},
   "source": [
    "## From Multiple Sequence Alignment to PWM <a name='PWM' />\n",
    "\n",
    "We use the [MUSCLE algorithm](http://www.ebi.ac.uk/Tools/msa/muscle/) to perform multiple sequence alignment and generate a consensus sequence. Refer to Tutorial 5 to refresh your knowledge of multiple sequence alignment."
   ]
  },
  {
   "cell_type": "code",
   "execution_count": 3,
   "metadata": {},
   "outputs": [
    {
     "name": "stdout",
     "output_type": "stream",
     "text": [
      ">sequence1\r\n",
      "-TTGGATAA---\r\n",
      ">sequence2\r\n",
      "---CGATAACCG\r\n",
      ">sequence3\r\n",
      "---CGATAT---\r\n",
      ">sequence4\r\n",
      "AAAGGATAT---\r\n"
     ]
    }
   ],
   "source": [
    "#We use the MUSCLE algorithm to perform multiple sequence alignment and generate a consensus sequence.\n",
    "from Bio.Align.Applications import MuscleCommandline\n",
    "muscle_cline = MuscleCommandline(input=\"tf_binding_sequences.fa\",fastaout='tf_binding_sequences_out.afa')\n",
    "muscle_cline()\n",
    "!cat tf_binding_sequences_out.afa"
   ]
  },
  {
   "cell_type": "markdown",
   "metadata": {},
   "source": [
    "#### We examine the aligned portions of the sequences using the AlignIO module:"
   ]
  },
  {
   "cell_type": "code",
   "execution_count": 7,
   "metadata": {},
   "outputs": [
    {
     "name": "stdout",
     "output_type": "stream",
     "text": [
      "aligned sequences:\n",
      "SingleLetterAlphabet() alignment with 4 rows and 12 columns\n",
      "-TTGGATAA--- sequence1\n",
      "---CGATAACCG sequence2\n",
      "---CGATAT--- sequence3\n",
      "AAAGGATAT--- sequence4\n"
     ]
    }
   ],
   "source": [
    "#The BioPython module AlignIO is an interface for inputing and outputing sequence alignments\n",
    "#We use it here to view a formated alignment\n",
    "import io \n",
    "from Bio import AlignIO\n",
    "align = AlignIO.read(\"tf_binding_sequences_out.afa\",\"fasta\")\n",
    "print(\"aligned sequences:\")\n",
    "print(align)"
   ]
  },
  {
   "cell_type": "markdown",
   "metadata": {},
   "source": [
    "#### We remove poorly aligned positions"
   ]
  },
  {
   "cell_type": "code",
   "execution_count": 8,
   "metadata": {},
   "outputs": [
    {
     "name": "stdout",
     "output_type": "stream",
     "text": [
      "\n",
      "alignment without poorly aligned positions:\n",
      "SingleLetterAlphabet() alignment with 4 rows and 5 columns\n",
      "GGATA sequence1\n",
      "CGATA sequence2\n",
      "CGATA sequence3\n",
      "GGATA sequence4\n"
     ]
    }
   ],
   "source": [
    "#Remove the poorly aligned positions: \n",
    "sub_alignment=align[:,3:8]\n",
    "print(\"\\nalignment without poorly aligned positions:\")\n",
    "print(sub_alignment)"
   ]
  },
  {
   "cell_type": "markdown",
   "metadata": {},
   "source": [
    "#### Now, we will record the frequencies of each nucleotide at each position in the aligned set of subsequences"
   ]
  },
  {
   "cell_type": "code",
   "execution_count": 9,
   "metadata": {},
   "outputs": [],
   "source": [
    "from Bio.motifs import Motif,Instances"
   ]
  },
  {
   "cell_type": "markdown",
   "metadata": {},
   "source": [
    "One problem is that the raw counts (frequencies) of each nucleotide at each position would depend on the total number of subsequences sampled.\n",
    "\n",
    "To avoid this dependence, we can instead <b>record proportions or probabilities (ranging from 0 to 1)</b> of observing each nucleotide at each position. i.e. we need to divide (<b>normalize</b>) the raw frequencies (counts) of each nucleotide at each position by the total number of subsequences. This representation of the binding motif of a TF is known as its <b>position weight matrix (PWM)</b>.\n",
    "\n",
    "We notice that the first column contains base C twice, and base G twice. The second column always contains base G, and the third, fourth, and fifth columns always contain the bases A,T, and A, respectively. We can quantify this information with a position weight matrix (PWM). "
   ]
  },
  {
   "cell_type": "code",
   "execution_count": 19,
   "metadata": {},
   "outputs": [
    {
     "name": "stdout",
     "output_type": "stream",
     "text": [
      "[Seq('GGATA', SingleLetterAlphabet()), Seq('CGATA', SingleLetterAlphabet()), Seq('CGATA', SingleLetterAlphabet()), Seq('GGATA', SingleLetterAlphabet())]\n"
     ]
    }
   ],
   "source": [
    "#We iterate through each sequence a in our sub-alignment and extract the seq attribute\n",
    "#This is the character string that encodes the DNA sequence from the alignment. \n",
    "aligned_sequences=[a.seq for a in sub_alignment]\n",
    "print(aligned_sequences)"
   ]
  },
  {
   "cell_type": "code",
   "execution_count": 22,
   "metadata": {},
   "outputs": [
    {
     "name": "stdout",
     "output_type": "stream",
     "text": [
      "Help on class Motif in module Bio.motifs:\n",
      "\n",
      "class Motif(builtins.object)\n",
      " |  A class representing sequence motifs.\n",
      " |  \n",
      " |  Methods defined here:\n",
      " |  \n",
      " |  __init__(self, alphabet=None, instances=None, counts=None)\n",
      " |      Initialize the class.\n",
      " |  \n",
      " |  __len__(self)\n",
      " |      Return the length of a motif.\n",
      " |      \n",
      " |      Please use this method (i.e. invoke len(m)) instead of referring to m.length directly.\n",
      " |  \n",
      " |  __str__(self, masked=False)\n",
      " |      Return string representation of a motif.\n",
      " |  \n",
      " |  format(self, format)\n",
      " |      Return a string representation of the Motif in the given format.\n",
      " |      \n",
      " |      Currently supported fromats:\n",
      " |       - pfm : JASPAR single Position Frequency Matrix\n",
      " |       - jaspar : JASPAR multiple Position Frequency Matrix\n",
      " |       - transfac : TRANSFAC like files\n",
      " |  \n",
      " |  reverse_complement(self)\n",
      " |      Return the reverse complement of the motif as a new motif.\n",
      " |  \n",
      " |  weblogo(self, fname, format='PNG', version='2.8.2', **kwds)\n",
      " |      Download and save a weblogo using the Berkeley weblogo service.\n",
      " |      \n",
      " |      Requires an internet connection.\n",
      " |      \n",
      " |      The parameters from ``**kwds`` are passed directly to the weblogo server.\n",
      " |      \n",
      " |      Currently, this method uses WebLogo version 3.3.\n",
      " |      These are the arguments and their default values passed to\n",
      " |      WebLogo 3.3; see their website at http://weblogo.threeplusone.com\n",
      " |      for more information::\n",
      " |      \n",
      " |          'stack_width' : 'medium',\n",
      " |          'stacks_per_line' : '40',\n",
      " |          'alphabet' : 'alphabet_dna',\n",
      " |          'ignore_lower_case' : True,\n",
      " |          'unit_name' : \"bits\",\n",
      " |          'first_index' : '1',\n",
      " |          'logo_start' : '1',\n",
      " |          'logo_end': str(self.length),\n",
      " |          'composition' : \"comp_auto\",\n",
      " |          'percentCG' : '',\n",
      " |          'scale_width' : True,\n",
      " |          'show_errorbars' : True,\n",
      " |          'logo_title' : '',\n",
      " |          'logo_label' : '',\n",
      " |          'show_xaxis': True,\n",
      " |          'xaxis_label': '',\n",
      " |          'show_yaxis': True,\n",
      " |          'yaxis_label': '',\n",
      " |          'yaxis_scale': 'auto',\n",
      " |          'yaxis_tic_interval' : '1.0',\n",
      " |          'show_ends' : True,\n",
      " |          'show_fineprint' : True,\n",
      " |          'color_scheme': 'color_auto',\n",
      " |          'symbols0': '',\n",
      " |          'symbols1': '',\n",
      " |          'symbols2': '',\n",
      " |          'symbols3': '',\n",
      " |          'symbols4': '',\n",
      " |          'color0': '',\n",
      " |          'color1': '',\n",
      " |          'color2': '',\n",
      " |          'color3': '',\n",
      " |          'color4': '',\n",
      " |  \n",
      " |  ----------------------------------------------------------------------\n",
      " |  Data descriptors defined here:\n",
      " |  \n",
      " |  __dict__\n",
      " |      dictionary for instance variables (if defined)\n",
      " |  \n",
      " |  __weakref__\n",
      " |      list of weak references to the object (if defined)\n",
      " |  \n",
      " |  anticonsensus\n",
      " |      Return the least probable pattern to be generated from this motif.\n",
      " |  \n",
      " |  background\n",
      " |  \n",
      " |  consensus\n",
      " |      Return the consensus sequence.\n",
      " |  \n",
      " |  degenerate_consensus\n",
      " |      Generate degenerate consesnsus sequence.\n",
      " |      \n",
      " |      Following the rules adapted from\n",
      " |      D. R. Cavener: \"Comparison of the consensus sequence flanking\n",
      " |      translational start sites in Drosophila and vertebrates.\"\n",
      " |      Nucleic Acids Research 15(4): 1353-1361. (1987).\n",
      " |      \n",
      " |      The same rules are used by TRANSFAC.\n",
      " |  \n",
      " |  mask\n",
      " |  \n",
      " |  pseudocounts\n",
      " |  \n",
      " |  pssm\n",
      " |  \n",
      " |  pwm\n",
      "\n"
     ]
    }
   ],
   "source": [
    "help(Motif)"
   ]
  },
  {
   "cell_type": "code",
   "execution_count": 20,
   "metadata": {},
   "outputs": [
    {
     "name": "stdout",
     "output_type": "stream",
     "text": [
      "GGATA\n",
      "CGATA\n",
      "CGATA\n",
      "GGATA\n",
      "\n"
     ]
    }
   ],
   "source": [
    "#We use the alphabet defined above to store the sequences from the alignment as an\n",
    "#instance object. Instance is a bit vague -- in this case we are referring to an instance \n",
    "# of a motif. \n",
    "instances=Instances(instances=aligned_sequences)\n",
    "m=Motif(instances=instances)\n",
    "print(m)"
   ]
  },
  {
   "cell_type": "code",
   "execution_count": 9,
   "metadata": {},
   "outputs": [
    {
     "data": {
      "text/plain": [
       "Seq('GGATA', IUPACUnambiguousDNA())"
      ]
     },
     "execution_count": 9,
     "metadata": {},
     "output_type": "execute_result"
    }
   ],
   "source": [
    "#Print the consensus sequence for the motif \n",
    "m.consensus"
   ]
  },
  {
   "cell_type": "code",
   "execution_count": 10,
   "metadata": {},
   "outputs": [
    {
     "data": {
      "text/plain": [
       "{'A': (0.0, 0.0, 1.0, 0.0, 1.0),\n",
       " 'C': (0.5, 0.0, 0.0, 0.0, 0.0),\n",
       " 'G': (0.5, 1.0, 0.0, 0.0, 0.0),\n",
       " 'T': (0.0, 0.0, 0.0, 1.0, 0.0)}"
      ]
     },
     "execution_count": 10,
     "metadata": {},
     "output_type": "execute_result"
    }
   ],
   "source": [
    "#print the position weight matrix for the motif \n",
    "m.pwm"
   ]
  },
  {
   "cell_type": "code",
   "execution_count": 11,
   "metadata": {},
   "outputs": [
    {
     "name": "stdout",
     "output_type": "stream",
     "text": [
      "[[0.  0.  1.  0.  1. ]\n",
      " [0.5 0.  0.  0.  0. ]\n",
      " [0.5 1.  0.  0.  0. ]\n",
      " [0.  0.  0.  1.  0. ]]\n"
     ]
    },
    {
     "data": {
      "image/png": "[encoded data removed]",
      "text/plain": [
       "<Figure size 1440x144 with 1 Axes>"
      ]
     },
     "metadata": {
      "needs_background": "light"
     },
     "output_type": "display_data"
    }
   ],
   "source": [
    "#convert the Pwm dictionary to an array and plot the PWM sequence logo \n",
    "import numpy as np \n",
    "pwm=np.asarray([m.pwm['A'],m.pwm['C'],m.pwm['G'],m.pwm['T']])\n",
    "print(pwm)\n",
    "plot_weights(pwm)"
   ]
  },
  {
   "cell_type": "markdown",
   "metadata": {},
   "source": [
    "#### Question:\n",
    "Why do the values of the rows in every column in the PWM sum to 1?"
   ]
  },
  {
   "cell_type": "markdown",
   "metadata": {},
   "source": [
    "## Accounting for genomic background frequencies of nucleotides i.e. converting a PWM into a position specific scoring matrix (PSSM)<a name='PSSM' />"
   ]
  },
  {
   "cell_type": "markdown",
   "metadata": {},
   "source": [
    "A PWM records the positional nucleotide probabilities based on an observed sample of binding instances (subsequences) from the genome. \n",
    "\n",
    "#### But what would these probabilities look like we just randomly sampled subsequences of the same length from the rest of the genome?\n",
    "\n",
    "Imagine a genome that is very rich in Gs and Cs. Then if I randomly sampled subsequences from the genome, I would get high probabilities of Gs and Cs just by chance.\n",
    "\n",
    "Hence, we need to <b>normalize</b> our PWM by these <b>random background probabilities</b> of nucleotides from the genome.\n",
    "\n",
    "For simplicity, we assume that the bases A,C,G,T all occur with equal frequency (p=0.25). Note: this assumption rarely holds in reality! What you would actually do is count the total number of As, Cs, Gs and Ts in a particular genome and then divide by the size of the genome to obtain the background probabilities of each nucleotide."
   ]
  },
  {
   "cell_type": "code",
   "execution_count": 9,
   "metadata": {},
   "outputs": [
    {
     "data": {
      "text/plain": [
       "{'A': 0.25, 'C': 0.25, 'G': 0.25, 'T': 0.25}"
      ]
     },
     "execution_count": 9,
     "metadata": {},
     "output_type": "execute_result"
    }
   ],
   "source": [
    "m.background"
   ]
  },
  {
   "cell_type": "markdown",
   "metadata": {},
   "source": [
    "The normalized PWM, which we will call a <b>Position-specific scoring matrix</b> can be represented a log-odds matrix i.e. at each position 'i' for each nucleotide, we record the log2 of ratio of the probability in the PWM divided by the probability in the background.\n",
    "\n",
    "We calculate the PSSM in accorance with the following formula:![PSSM formula](../Images/11_pssm_formula.png)\n",
    "\n",
    "#### Unlike the PWM which has all values between 0 and 1 (probabilities), the PSSM can have positive or negative values in each position.\n",
    "\n",
    "Positive values indicate a positive log odds i.e. greater chance of observing that nucleotide relative to background.\n",
    "\n",
    "Negative values indicate a negative log odds i.e. lower chance of observing that nucleotide relative to background."
   ]
  },
  {
   "cell_type": "code",
   "execution_count": 10,
   "metadata": {
    "collapsed": true
   },
   "outputs": [
    {
     "data": {
      "text/plain": [
       "{'A': [-inf, -inf, 2.0, -inf, 2.0],\n",
       " 'C': [1.0, -inf, -inf, -inf, -inf],\n",
       " 'G': [1.0, 2.0, -inf, -inf, -inf],\n",
       " 'T': [-inf, -inf, -inf, 2.0, -inf]}"
      ]
     },
     "execution_count": 10,
     "metadata": {},
     "output_type": "execute_result"
    }
   ],
   "source": [
    "m.pssm"
   ]
  },
  {
   "cell_type": "markdown",
   "metadata": {},
   "source": [
    "We want to avoid the -inf values in our matrix, as mathematical operations break down for infinite values. To avoid this problem, we can add \"pseudocounts\" -- small numbers we add for each position in the PWM to avoid taking the log of 0. We add the pseudocounts to our \"counts\" matrix and recompute the PWM & PSSM. "
   ]
  },
  {
   "cell_type": "code",
   "execution_count": 11,
   "metadata": {},
   "outputs": [
    {
     "name": "stdout",
     "output_type": "stream",
     "text": [
      "Original pseudocounts:\n",
      "{'G': 0.0, 'T': 0.0, 'A': 0.0, 'C': 0.0}\n",
      "Updated pseudocounts:\n",
      "{'G': 0.001, 'T': 0.001, 'A': 0.001, 'C': 0.001}\n"
     ]
    }
   ],
   "source": [
    "#get the original pseudocounts, they should be 0 \n",
    "print(\"Original pseudocounts:\")\n",
    "print(m.pseudocounts)\n",
    "\n",
    "#Update the pseudocounts to 0.001 \n",
    "m.pseudocounts['A']=0.001\n",
    "m.pseudocounts['C']=0.001\n",
    "m.pseudocounts['G']=0.001\n",
    "m.pseudocounts['T']=0.001\n",
    "\n",
    "print(\"Updated pseudocounts:\")\n",
    "print(m.pseudocounts)\n"
   ]
  },
  {
   "cell_type": "code",
   "execution_count": 13,
   "metadata": {},
   "outputs": [
    {
     "data": {
      "text/plain": [
       "{'A': [-10, -10, 2, -10, 2],\n",
       " 'C': [1, -10, -10, -10, -10],\n",
       " 'G': [1, 2, -10, -10, -10],\n",
       " 'T': [-10, -10, -10, 2, -10]}"
      ]
     },
     "execution_count": 13,
     "metadata": {},
     "output_type": "execute_result"
    }
   ],
   "source": [
    "#Re-calculate the PSSM, we should no longer observe values if -inf \n",
    "pssm=m.pssm \n",
    "for base in ['A','C','G','T']: \n",
    "    pssm[base]=[round(val) for val in pssm[base]]\n",
    "pssm"
   ]
  },
  {
   "cell_type": "code",
   "execution_count": 14,
   "metadata": {},
   "outputs": [
    {
     "name": "stdout",
     "output_type": "stream",
     "text": [
      "[[-10 -10   2 -10   2]\n",
      " [  1 -10 -10 -10 -10]\n",
      " [  1   2 -10 -10 -10]\n",
      " [-10 -10 -10   2 -10]]\n"
     ]
    },
    {
     "data": {
      "image/png": "[encoded data removed]",
      "text/plain": [
       "<matplotlib.figure.Figure at 0x7f924ad28780>"
      ]
     },
     "metadata": {},
     "output_type": "display_data"
    }
   ],
   "source": [
    "#plot the PSSM \n",
    "pssm=np.asarray([pssm['A'],pssm['C'],pssm['G'],pssm['T']])\n",
    "print(pssm)\n",
    "plot_weights(pssm)"
   ]
  },
  {
   "cell_type": "markdown",
   "metadata": {},
   "source": [
    "## The inverse problem: Scanning a DNA sequence with a PSSM to identify good matches i.e. likely binding instances<a name='Scan' />\n",
    "\n",
    "The PSSM encodes the log odds of the probability of observing a specific nucleotide at each position across a collection of subsequences that a TF would bind to, relative to genomic background. \n",
    "\n",
    "Now, lets invert the problem.\n",
    "\n",
    "#### We are given a PSSM of a TF (of length 'k') and we are given a long sequence (say an entire chromosome). We want to find all the positions in the long sequence that are strong matches to the PSSM i.e. positions to which the TF is likely to bind.\n",
    "\n",
    "Formally, we can rephrase this statement as a concrete set of steps (an algorithm):\n",
    "\n",
    "We are given a PWM of a TF (of length 'k') and we are given a long sequence (say an entire chromosome) (of length 'N'). \n",
    "1. We scan this DNA sequence, one position at a time (i = 1 to N)\n",
    "2. At each position 'i', we obtain a subsequence of length 'k', starting at 'i' and ending at 'i+k-1'\n",
    "3. We score this subsequence in terms of how good of a match it is to the PSSM\n",
    "4. We decide some threshold on this score to decide if it is a good match to the PSSM or not\n",
    "5. Positions that pass the threshold are good matches (likely binding sites) of the TF.\n",
    "\n",
    "Steps (1) and (2) are obvious. \n",
    "\n",
    "### Computing the match score of a subsequence \n",
    "\n",
    "How do we perform Step (3) i.e. how do we obtain a match score for a sequence of length 'k' to a PSSM of length 'k'.\n",
    "\n",
    "We simply sum the log odds scores of each of the nucleotides observed in the sequence at each position.\n",
    "\n",
    "Lets say our sequence was CGATA and we wanted to score this sequence relative to the PSSM of length 5 we obtained above. \n",
    "Position 1 in the sequence is a C. Looking up the log odds of C (row 2) in position 1 (col 1) of the PSSM we get a score of 1\n",
    "\n",
    "Position 2 in the sequence is a G. Looking up the log odds of G (row 3) in position 2 (col 2) of the PSSM we get a score of 2\n",
    "\n",
    "Position 3 in the sequence is a A. Looking up the log odds of A (row 1) in position 3 (col 3) of the PSSM we get a score of 2\n",
    "\n",
    "Position 4 in the sequence is a T. Looking up the log odds of A (row 1) in position 4 (col 4) of the PSSM we get a score of 2\n",
    "\n",
    "Position 5 in the sequence is a A. Looking up the log odds of A (row 1) in position 5 (col 5) of the PSSM we get a score of 2\n",
    "\n",
    "Match score = 1+2+2+2+2 = 9\n",
    "\n",
    "This is a high positive score! Which means CGATA has a greater odds of matching the PWM than the background of the genome.\n",
    "\n",
    "So CGATA must be a good match to the PSSM. If you visually cross check with the PWM or PSSM logo you will notice that CGATA is infact a good match.\n"
   ]
  },
  {
   "cell_type": "markdown",
   "metadata": {},
   "source": [
    "#### Question: \n",
    "\n",
    "Calculate the score for CGGGG. Is it a good match to the PSSM?"
   ]
  },
  {
   "cell_type": "markdown",
   "metadata": {},
   "source": [
    "### One-hot Encoding\n",
    "\n",
    "Going back to the five steps above, how can we write a program to scan a longer sequence with the PSSM to obtain a row of match scores for each position in the sequence?\n",
    "\n",
    "To do this efficiently, we will use a slightly different representation for the DNA sequence called a 'one-hot-encoding'.\n",
    "\n",
    "<b>'One-hot-encoding'</b> is a process that transforms a sequence of nucleotides of length 'N' into a matrix of 1's and 0's with 4 rows (representing A,C,G and T) and 'N' columns (representing positions).\n",
    "\n",
    "In the graphic below, a colored square represents a '1', indicating the presence of the specified nucleotide at that position along the sequence. A blank square represents a '0', indicating the absence of the specified base at the position. \n",
    "![one-hot-encoding](images/10_one_hot.png)"
   ]
  },
  {
   "cell_type": "code",
   "execution_count": 15,
   "metadata": {},
   "outputs": [
    {
     "data": {
      "text/plain": [
       "array([[0, 0, 1, 0, 0, 1, 0, 0, 0, 1, 0, 1, 1],\n",
       "       [0, 1, 0, 0, 0, 0, 1, 1, 0, 0, 0, 0, 0],\n",
       "       [1, 0, 0, 0, 0, 0, 0, 0, 1, 0, 0, 0, 0],\n",
       "       [0, 0, 0, 1, 1, 0, 0, 0, 0, 0, 1, 0, 0]])"
      ]
     },
     "execution_count": 15,
     "metadata": {},
     "output_type": "execute_result"
    }
   ],
   "source": [
    "#we write a function to perform one-hot encoding. \n",
    "def one_hot_encode(sequence): \n",
    "    encoding_dict=dict() \n",
    "    encoding_dict['A']=[1,0,0,0]\n",
    "    encoding_dict['C']=[0,1,0,0]\n",
    "    encoding_dict['G']=[0,0,1,0]\n",
    "    encoding_dict['T']=[0,0,0,1]\n",
    "    \n",
    "    encoded_sequence=[] \n",
    "    for base in sequence: \n",
    "        encoded_sequence.append(encoding_dict[base])\n",
    "    return np.array(encoded_sequence).transpose()\n",
    "\n",
    "#We now one-hot encode a DNA sequence \n",
    "sequence=\"GCATTACCGATAA\"\n",
    "encoded_sequence=one_hot_encode(sequence)\n",
    "encoded_sequence"
   ]
  },
  {
   "cell_type": "markdown",
   "metadata": {},
   "source": [
    "### The inner product\n",
    "We now scan the PSSM (length 5) across the entire sequence by aligning the PSSM with every subsequence of length 5 in the sequence starting at position and computing the match score as we did above.\n",
    "\n",
    "Note that the match score for a subsequence is simply the sum of position-wise scores from the PSSM corresponding to each nucleotide in the subsequence.\n",
    "\n",
    "An efficient command to obtain this match score of a subsequence aligned to a PSSM is an <b>inner product</b> of the PSSM matrix with the 1-hot encoded matrix of the aligned subsequence. \n",
    "\n",
    "An inner product is simply a sum of the element-by-element multiplication of the values in the two matrices i.e. the PSSM matrix (4 rows, 5 columns) and the one-hot encoded subsequence (4 rows, 5 columns).\n",
    "\n",
    "An inner product is often represented mathematically as a < , > operator. E.g. if 'W' is the PSSM matrix and 'X' is the one-hot encoded subsequence, their inner-product is written as < W , X >\n",
    "\n",
    "![Convolution product](../Images/10_convolution3.png)\n",
    "\n",
    "#### Question:\n",
    "Can you explain how the inner product of the PSSM and the one-hot encoded sequence is equivalent to the sum of position-wise scores from the PSSM corresponding to each nucleotide in the subsequence.\n",
    "\n",
    "\n",
    "### Convolution operation\n",
    "\n",
    "There is also a built in operation known as the <b>'convolution'</b> that can perform a scanning inner-product of one short matrix (PSSM) against a longer matrix (one-hot encoded longer sequence). The convolution directly outputs the match scores at each position in the sequence.\n",
    "\n",
    "We can then simply restrict to positions with positive match scores (log-odds) as the positions that will be most likely bound by the TF.\n",
    "\n",
    "\n",
    "![Convolution formula](../Images/10_optimal_convolution_product.png)\n",
    "\n",
    "\n",
    "We can perfom the motif scan in Python by following the steps below:"
   ]
  },
  {
   "cell_type": "code",
   "execution_count": 31,
   "metadata": {},
   "outputs": [
    {
     "name": "stdout",
     "output_type": "stream",
     "text": [
      "Convolution product:[-18. -28. -15. -15. -50. -38. -50. -38. -39.   9. -27. -28. -18.]\n",
      "Motif starting position along the sequence:6.5\n"
     ]
    }
   ],
   "source": [
    "from scipy.signal import fftconvolve\n",
    "def scan_sequence(sequence,pssm): \n",
    "    convolution_product=fftconvolve(sequence[::-1,::-1],pssm,mode=\"same\")[::-1,::-1][1]\n",
    "    #get the starting position of the motif along the sequence \n",
    "    starting_pos=np.argmax(convolution_product)-pssm.shape[1]/2\n",
    "    return convolution_product,starting_pos\n",
    "\n",
    "convolution_product,starting_pos=scan_sequence(encoded_sequence,pssm)\n",
    "print(\"Convolution product:\"+str(convolution_product))\n",
    "print(\"Motif starting position along the sequence:\"+str(starting_pos))"
   ]
  },
  {
   "cell_type": "markdown",
   "metadata": {},
   "source": [
    "## Motif scanning with Biopython <a name='Biopython' />"
   ]
  },
  {
   "cell_type": "markdown",
   "metadata": {},
   "source": [
    "Luckily, Biopython has built-in functionality for motif scanning that performs the convolution operations above with a lot less code. To achieve the same result as above, we can simply run the following commands in Biopython: "
   ]
  },
  {
   "cell_type": "code",
   "execution_count": 32,
   "metadata": {},
   "outputs": [
    {
     "name": "stdout",
     "output_type": "stream",
     "text": [
      "Position 3: score = -14.937\n",
      "Position -12: score = -49.836\n",
      "Position 4: score = -14.937\n",
      "Position -11: score = -25.904\n",
      "Position 5: score = -49.836\n",
      "Position -10: score = -26.903\n",
      "Position 6: score = -37.870\n",
      "Position -9: score = -14.937\n",
      "Position 7: score = -49.836\n",
      "Position -8: score = -2.971\n",
      "Position 8: score = -37.870\n",
      "Position -7: score = -49.836\n",
      "Position 9: score = -38.870\n",
      "Position -6: score = -49.836\n",
      "Position 10: score = 8.995\n",
      "Position -5: score = -49.836\n",
      "Position 11: score = -26.903\n",
      "Position -4: score = -25.904\n"
     ]
    }
   ],
   "source": [
    "from Bio.Seq import Seq\n",
    "seq_object=Seq(\"NN\"+sequence, m.alphabet)\n",
    "for position, score in m.pssm.search(seq_object, threshold=-100):\n",
    "    print(\"Position %d: score = %5.3f\" % (position+1, score))"
   ]
  },
  {
   "cell_type": "markdown",
   "metadata": {},
   "source": [
    "The negative positions refer to instances of the motif found on the reverse strand of the test sequence, and follow the Python convention on negative indices. You can also calculate the scores at all positions along the sequence: "
   ]
  },
  {
   "cell_type": "code",
   "execution_count": 33,
   "metadata": {},
   "outputs": [
    {
     "data": {
      "text/plain": [
       "array([         nan,          nan, -14.93733597, -14.93733597,\n",
       "       -49.83613205, -37.86998749, -49.83613205, -37.86998749,\n",
       "       -38.86962509,   8.99495411, -26.90348053], dtype=float32)"
      ]
     },
     "execution_count": 33,
     "metadata": {},
     "output_type": "execute_result"
    }
   ],
   "source": [
    "m.pssm.calculate(seq_object)"
   ]
  },
  {
   "cell_type": "markdown",
   "metadata": {},
   "source": [
    "In general, this is the fastest way to calculate PSSM scores. The scores returned by pssm.calculate are for the forward strand only. To obtain the scores on the reverse strand, you can take the reverse complement of the PSSM: "
   ]
  },
  {
   "cell_type": "code",
   "execution_count": 34,
   "metadata": {},
   "outputs": [
    {
     "data": {
      "text/plain": [
       "array([         nan,          nan, -49.83613205, -25.90384102,\n",
       "       -26.90348053, -14.93733597,  -2.97119117, -49.83613205,\n",
       "       -49.83613205, -49.83613205, -25.90384102], dtype=float32)"
      ]
     },
     "execution_count": 34,
     "metadata": {},
     "output_type": "execute_result"
    }
   ],
   "source": [
    "rpssm=m.pssm.reverse_complement()\n",
    "rpssm.calculate(seq_object)"
   ]
  },
  {
   "cell_type": "markdown",
   "metadata": {},
   "source": [
    "## How do we map genome-wide transcription factor binding using ChIP-seq experiments ? <a name='ChIPseq' />"
   ]
  },
  {
   "cell_type": "markdown",
   "metadata": {},
   "source": [
    "ChIP-sequencing, also known as ChIP-seq, is a method used to analyze protein interactions with DNA. ChIP-seq combines chromatin immunoprecipitation (ChIP) with massively parallel DNA sequencing to identify the binding sites of DNA-associated proteins. It can be used to map global binding sites precisely for any protein of interest.\n",
    "\n",
    "ChIP is a powerful method to selectively enrich for DNA sequences bound by a particular protein in living cells. First, formaldehyde is used to cross-link (covalent bond) all proteins bound to DNA i.e. the proteins are not stuck to the DNA. The DNA is then sheared into tiny fragments, some of which are bound to the protein and most are not. An antibody targeting the protein is then used to pull down (enrich for) the fragments bound by the protein. This is called <b>chromatin immunoprecipitation (or ChIP)</b>. All the other DNA fragments are washed away. The protein is then unlinked from the bound DNA fragments and washed away.\n",
    "\n",
    "Hence, the DNA obtained from ChIP is mainly enriched for bound DNA fragments. All the resulting ChIP-DNA fragments are sequenced simultaneously using a high-throughput sequencer.\n",
    "\n",
    "The sequencing reads are then mapped to a reference genome using a short-read mapper such as Bowtie.\n",
    "\n",
    "Regions with a large number of reads mapping to them are likely binding sites of the protein.\n",
    "\n",
    "For any ChIP-seq experiment, a corresponding <b>control experiment</b> is performed, where the exact same procedure is followed as above except the antibody is not used to pull down the protein. So the DNA fragments in the control experiment are just sampled non-specifically from the genome. But this experiment allows us to observe any biases that may occur in terms of sampling reads at random. In fact, it has been observed that certain regions of the genome tend to be more easily sheared and sequenced than others. It is important to correct the ChIP-seq signal with the control to avoid false positives binding site positions.\n",
    "\n",
    "We obtain four types of outputs from a ChIP-seq experiment"
   ]
  },
  {
   "cell_type": "code",
   "execution_count": 2,
   "metadata": {},
   "outputs": [
    {
     "data": {
      "text/html": [
       "<iframe src=\"https://drive.google.com/file/d/0B_ssVVyXv8ZSSkhvVUlYc01zOGc/preview\" width=\"1000\" height=\"480\"></iframe>"
      ],
      "text/plain": [
       "<IPython.core.display.HTML object>"
      ]
     },
     "execution_count": 2,
     "metadata": {},
     "output_type": "execute_result"
    }
   ],
   "source": [
    "from IPython.display import HTML\n",
    "HTML('<iframe src=\"https://drive.google.com/file/d/0B_ssVVyXv8ZSSkhvVUlYc01zOGc/preview\" width=\"1000\" height=\"480\"></iframe>')"
   ]
  },
  {
   "cell_type": "markdown",
   "metadata": {},
   "source": [
    "* <b>Genome-wide count coverage tracks for ChIP and control</b>: which counts the number of ChIP-fragments and control experiment fragments overlapping each position in the genome, respectively. \n",
    "\n",
    "The coverage track is usually provided in one of two formats\n",
    "\n",
    "<b>BEDGRAPH FORMAT</b>: A specific type of BED text file with 4 columns\n",
    "\n",
    "1. chrom - Name of the chromosome (or contig, scaffold, etc.).\n",
    "2. chromStart - The starting position of the feature in the chromosome or scaffold. The first base in a chromosome is numbered 0.\n",
    "3. chromEnd - The ending position of the feature in the chromosome or scaffold. The chromEnd base is not included in the display of the feature. For example, the first 100 bases of a chromosome are defined as chromStart=0, chromEnd=100, and span the bases numbered 0-99.\n",
    "4. dataValue - Count value or some other measure of coverage\n",
    "\n",
    "E.g. chr19 49302000 49302300 10\n",
    "\n",
    "<b>BIGWIG FORMAT</b>: which is a compressed binary version of BEDGRAPH to allow for easy and fast streaming across the internet to a genome browser."
   ]
  },
  {
   "cell_type": "markdown",
   "metadata": {},
   "source": [
    "* <b>A peaks track with statistically significant regions of signal enrichment</b>: To identify high confidence binding sites, the coverage track is then analyzed using a statistical model that compares the observed ChIP-seq read counts at each position to the control read counts at the same position (adjusted for differences in total number of reads).\n",
    "\n",
    "<b>Question:</b> If I had 10,000 sequencing reads from a ChIP-seq experiment and a genome of size 1000 bp, how many reads should I expect by chance if I uniformly scattered the reads along the genome?\n",
    "\n",
    "The ChIP-seq signal at position in the genome is computed as the fold-enrichment i.e. ratio of observed ChIP-seq counts to control counts. This is also referred to as the *effect-size* of signal.\n",
    "\n",
    "Further, we use a statistical null model (based on a count based random distribution called the Poisson distribution) to compute a *p-value* for the observed count at each position i.e. what is the probability that the counts >= the observed value could have just happened by chance.\n",
    "\n",
    "We then use multiple hypothesis testing correction using the Benjamini Hochberg method to obtain adjusted *p*-values. We use a threshold e.g. 0.05 on the adjusted p-values to identify genomic locations with statistically significant signal. These are the likely binding sites of the transcription factor!\n",
    "\n",
    "<b>NARROWPEAK FORMAT</b>: The peak track is usually provided as a specific type of extended BED file known as a <b><a href=\"https://genome.ucsc.edu/FAQ/FAQformat.html#format12\">NARROWPEAK</a></b> which has 10 columns in each line corresponding to\n",
    "\n",
    "1. chrom - Name of the chromosome (or contig, scaffold, etc.).\n",
    "2. chromStart - The starting position of the feature in the chromosome or scaffold. The first base in a chromosome is numbered 0.\n",
    "3. chromEnd - The ending position of the feature in the chromosome or scaffold. The chromEnd base is not included in the display of the feature. For example, the first 100 bases of a chromosome are defined as chromStart=0, chromEnd=100, and span the bases numbered 0-99.\n",
    "4. name - Name given to a region (preferably unique). Use \".\" if no name is assigned.\n",
    "5. score - Indicates how dark the peak will be displayed in the browser (0-1000). If all scores were \"'0\"' when the data were submitted to the DCC, the DCC assigned scores 1-1000 based on signal value. Ideally the average signalValue per base spread is between 100-1000.\n",
    "6. strand - +/- to denote strand or orientation (whenever applicable). Use \".\" if no orientation is assigned.\n",
    "7. signalValue - Measurement of overall (usually, average) enrichment for the region.\n",
    "8. pValue - Measurement of statistical significance (-log10). Use -1 if no pValue is assigned.\n",
    "9. qValue - Measurement of statistical significance using false discovery rate (-log10). Use -1 if no qValue is assigned.\n",
    "10. summit - the location of the maxima in the peak; 0-based offset from chromStart. Use -1 if no point-source called."
   ]
  },
  {
   "cell_type": "markdown",
   "metadata": {},
   "source": [
    "* <b>Genome-wide normalized fold-enrichment coverage track</b>: which is similar to the count coverage track. But instead of raw counts at each position, it has the fold-enrichment of ChIP-seq counts relative to control counts\n",
    "\n",
    "\n",
    "\n",
    "* <b>Genome-wide -log10(p-value) coverage track</b>: which is similar to the count coverage track. But instead of raw counts at each position, it has the -log10(p-value) of statistical significance of ChIP-seq counts relative to control counts"
   ]
  },
  {
   "cell_type": "markdown",
   "metadata": {},
   "source": [
    "## Visualizing ChIP-seq data in the genome browser <a name='ChipseqBrowser' />"
   ]
  },
  {
   "cell_type": "markdown",
   "metadata": {},
   "source": [
    "Lets visualize ChIP-seq data for a transcription factor called CTCF in a lymphoblastoid cell-line called GM12878.\n",
    "\n",
    "WashU Epigenome browser session: http://epigenomegateway.wustl.edu/browser/?genome=hg19&session=ddNxKsyNNX&statusId=1299889156"
   ]
  }
 ],
 "metadata": {
  "anaconda-cloud": {},
  "kernelspec": {
   "display_name": "Python 3",
   "language": "python",
   "name": "python3"
  },
  "language_info": {
   "codemirror_mode": {
    "name": "ipython",
    "version": 3
   },
   "file_extension": ".py",
   "mimetype": "text/x-python",
   "name": "python",
   "nbconvert_exporter": "python",
   "pygments_lexer": "ipython3",
   "version": "3.5.6"
  }
 },
 "nbformat": 4,
 "nbformat_minor": 2
}
