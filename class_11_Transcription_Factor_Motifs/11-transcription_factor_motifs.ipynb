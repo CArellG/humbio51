{
 "cells": [
  {
   "cell_type": "markdown",
   "metadata": {},
   "source": [
    "# Big Data for Biologists: Decoding Genomic Function- Class 11  \n",
    "\n",
    "## How are genes regulated? Transcription factors and regulatory elements\n",
    "\n",
    "##  Learning Objectives\n",
    "***Students should be able to***\n",
    "\n",
    "### How to represent a transcription factor's binding motif and scan sequences for matches \n",
    "\n",
    "<ol> \n",
    "    <li>  <a href=#TFMotif>Explain what transcription factors and transcription factor binding motifs are</a> </li>\n",
    " <li> <a  href=#PWM>Construct a position weight matrix (PWM) for a transcription factor by analyzing known transcription factor binding sequences </a></li>\n",
    " <li> <a href=#PSSM>Make a position-specific score matrices (PSSM) from a PWM to use for transcription factor motif-scanning  </a></li>\n",
    "    <li><a href=#Scan>Motif scanning along a DNA sequence </a></li>\n",
    " <li> <a href=#Biopython>Become familiar with Biopython functions and modules: Align, Motif</a> </li>\n",
    " <li> <a href=#ChIPseq>Understand what is a ChIP-seq experiment and how it can be used to identify transcription factor binding genome-wide</a> </li>\n",
    " <li> <a href=#ChipseqBrowser>Visualize transcription factor ChIP-seq experiment in the WashU Genome Browser</a> </li>\n",
    "</ol>"
   ]
  },
  {
   "cell_type": "markdown",
   "metadata": {},
   "source": [
    "We have concluded our analysis of RNA-seq data. \n",
    "\n",
    "We will now transition to discussing the mehanisms that regulate gene expression.\n",
    "\n",
    "We will begin by examining transcription factors, proteins that control the rate of gene expression.  \n"
   ]
  },
  {
   "cell_type": "code",
   "execution_count": 1,
   "metadata": {},
   "outputs": [],
   "source": [
    "## We import our usual set of helper functions: \n",
    "import sys\n",
    "sys.path.append('../helpers')\n",
    "%matplotlib inline\n",
    "import matplotlib\n",
    "import matplotlib.pyplot as plt\n",
    "import numpy as np\n",
    "import warnings\n",
    "warnings.filterwarnings('ignore')\n",
    "from viz_sequence import * "
   ]
  },
  {
   "cell_type": "markdown",
   "metadata": {},
   "source": [
    "## What is a transcription factor?<a name='TFmotif' />"
   ]
  },
  {
   "cell_type": "markdown",
   "metadata": {},
   "source": [
    "In molecular biology, <b>a transcription factor (TF) (or sequence-specific DNA-binding factor) is a protein that controls the rate of transcription of genetic information from DNA to messenger RNA, by binding to a specific DNA sequence</b>. Their function is to regulate - turn on and off - genes in order to make sure that they are expressed in the right cell at the right time and in the right amount throughout the life of the cell and the organism. Groups of TF's function in a coordinated fashion to direct cell division, cell growth, and cell death throughout life; cell migration and organization (body plan) during embryonic development; and intermittently in response to signals from outside the cell, such as a hormone. There are up to 2600 TFs in the human genome.\n",
    "\n",
    "TFs work alone or with other proteins in a complex, by promoting (as an <b>activator</b>), or blocking (as a <b>repressor</b>) the <b>recruitment of RNA polymerase</b> (the enzyme that performs the transcription of genetic information from DNA to RNA) to specific genes.\n",
    "\n",
    "A defining feature of TFs is that they contain at least one <b>DNA-binding domain (DBD), which has affinity to specific DNA short subsequences (~4-20 bp) collectively represented as a binding motif (pattern)</b>. TFs are grouped into classes based on their DBDs. Other proteins such as coactivators, chromatin remodelers, histone acetyltransferases, histone deacetylases, kinases, and methylases are also essential to gene regulation, but lack DNA-binding domains, and therefore are not TFs.\n",
    "\n",
    "TFs are of interest in medicine because TF mutations can cause specific diseases, and medications can be potentially targeted toward them.\n",
    "\n",
    "(Adapted from <a href=\"https://en.wikipedia.org/wiki/Transcription_factor\">https://en.wikipedia.org/wiki/Transcription_factor</a>)"
   ]
  },
  {
   "cell_type": "markdown",
   "metadata": {},
   "source": [
    "## What is a transcription factor binding motif?<a name='TFMotif' />"
   ]
  },
  {
   "cell_type": "markdown",
   "metadata": {},
   "source": [
    "![Transcription factor binds to DNA motif](../Images/10_tf_motif.png)"
   ]
  },
  {
   "cell_type": "markdown",
   "metadata": {},
   "source": [
    "Each transcription factor (TF) has strong chemical binding affinity to some short DNA sequences and weaker affinity to others. Hence, the motif of a TF is not a single deterministic sequence. Instead, you should think of the binding motif of a TF as a collection of all possible subsequences (possibly of variable length), each of which has a different affinity score i.e. a distribution of affinity scores. This is clearly a clunky representation of a motif i.e. a very long list of subsequences with associated affinity scores. Can we develop a compact representation of a binding motif that faithfully summarizes the variable affinity of the TF to different subsequences.\n",
    "\n",
    "Let us assume we were able to conduct a sequencing experiment in some cell type, that provided us a sample of subsequences in the genome to which a TF binds.\n",
    "\n",
    "For example, we have found that the GATA transcription factor binds to the 4 sequences in the tf_binding_sequences.fa file.\n",
    "\n",
    "We could view this file using the !cat command. \n",
    "\n",
    "We can also view this file by reading it into Python and storing it as a list. Note in the code below that we are using the .strip() command to remove any whitespace in the file. We are then splitting the file at each of the line breaks so each line of the file is stored as a list in Python. "
   ]
  },
  {
   "cell_type": "code",
   "execution_count": 2,
   "metadata": {
    "collapsed": false,
    "jupyter": {
     "outputs_hidden": false
    }
   },
   "outputs": [
    {
     "data": {
      "text/plain": [
       "['>sequence1',\n",
       " 'TTGGATAA',\n",
       " '>sequence2',\n",
       " 'CGATAACCG',\n",
       " '>sequence3',\n",
       " 'CGATAT',\n",
       " '>sequence4',\n",
       " 'AAAGGATAT']"
      ]
     },
     "execution_count": 2,
     "metadata": {},
     "output_type": "execute_result"
    }
   ],
   "source": [
    "#tf_binding_sequences.fa is a file with known sequences that bind to the GATA transcription factor\n",
    "with open(\"tf_binding_sequences.fa\",'r') as infile:\n",
    "    sequences = infile.read().strip().split('\\n')\n",
    "sequences "
   ]
  },
  {
   "cell_type": "markdown",
   "metadata": {},
   "source": [
    "## Construct a transcription factor binding motif representation called a position weight matrix (PWM)<a name='PWM' />  "
   ]
  },
  {
   "cell_type": "markdown",
   "metadata": {},
   "source": [
    "We are given a collection of binding instances (subsequences) in the genome to which the TF binds and we want to derive a compact representation of the TF's binding motif.\n",
    "\n",
    "The main principles behind deriving a motif representation are as follows:\n",
    "1. The subsequences that a TF likes to bind to (high affinity) are typically quite similar with some mismatches, insertions and deletions (remember alignments?)\n",
    "2. The frequency of a subsequence in the collection of binding instances is proportional to the affinity of the TF to that subsequence i.e. If a TF has high affinity to a specific subsequence, that subsequence will be found more often in the collection of binding instances.\n",
    "\n",
    "Based on these two principles, deriving a compact representation of a motif involves:\n",
    "1. Using multiple sequence alignment to align all the binding instance subsequences (which could be of variable length) allowing for mismatches, insertions and deletions\n",
    "2. Counting frequencies of aligned subsequences, which can alternatively be recorded as counting frequencies of each type of nucleotide (A,C,G,T) at each position across all the aligned subsequences."
   ]
  },
  {
   "cell_type": "markdown",
   "metadata": {},
   "source": [
    "## From Multiple Sequence Alignment to PWM <a name='PWM' />\n",
    "\n",
    "We use the [MUSCLE algorithm](http://www.ebi.ac.uk/Tools/msa/muscle/) to perform multiple sequence alignment and generate a consensus sequence. Refer to Tutorial 5 to refresh your knowledge of multiple sequence alignment."
   ]
  },
  {
   "cell_type": "code",
   "execution_count": 3,
   "metadata": {
    "collapsed": false,
    "jupyter": {
     "outputs_hidden": false
    }
   },
   "outputs": [
    {
     "data": {
      "text/plain": [
       "('',\n",
       " '\\nMUSCLE v3.8.31 by Robert C. Edgar\\n\\nhttp://www.drive5.com/muscle\\nThis software is donated to the public domain.\\nPlease cite: Edgar, R.C. Nucleic Acids Res 32(5), 1792-97.\\n\\ntf_binding_sequences 4 seqs, max length 9, avg  length 8\\n00:00:00     10 MB(1%)  Iter   1   10.00%  K-mer dist pass 1\\n00:00:00     10 MB(1%)  Iter   1  100.00%  K-mer dist pass 1\\n00:00:00     10 MB(1%)  Iter   1   10.00%  K-mer dist pass 2\\n00:00:00     10 MB(1%)  Iter   1  100.00%  K-mer dist pass 2\\n00:00:00     10 MB(1%)  Iter   1   33.33%  Align node       \\n00:00:00     11 MB(1%)  Iter   1   66.67%  Align node\\n00:00:00     11 MB(1%)  Iter   1  100.00%  Align node\\n00:00:00     11 MB(1%)  Iter   1  100.00%  Align node\\n00:00:00     11 MB(1%)  Iter   1   25.00%  Root alignment\\n00:00:00     11 MB(1%)  Iter   1   50.00%  Root alignment\\n00:00:00     11 MB(1%)  Iter   1   75.00%  Root alignment\\n00:00:00     11 MB(1%)  Iter   1  100.00%  Root alignment\\n00:00:00     11 MB(1%)  Iter   1  100.00%  Root alignment\\n00:00:00     11 MB(1%)  Iter   2  100.00%  Root alignment\\n00:00:00     11 MB(1%)  Iter   3   40.00%  Refine biparts\\n00:00:00     11 MB(1%)  Iter   3   60.00%  Refine biparts\\n00:00:00     11 MB(1%)  Iter   3   80.00%  Refine biparts\\n00:00:00     11 MB(1%)  Iter   3  100.00%  Refine biparts\\n00:00:00     11 MB(1%)  Iter   3  120.00%  Refine biparts\\n00:00:00     11 MB(1%)  Iter   3  100.00%  Refine biparts\\n')"
      ]
     },
     "execution_count": 3,
     "metadata": {},
     "output_type": "execute_result"
    }
   ],
   "source": [
    "#We use the MUSCLE algorithm to perform multiple sequence alignment and generate a consensus sequence.\n",
    "from Bio.Align.Applications import MuscleCommandline\n",
    "muscle_cline = MuscleCommandline(input=\"tf_binding_sequences.fa\",fastaout='tf_binding_sequences_out.fa')\n",
    "muscle_cline()"
   ]
  },
  {
   "cell_type": "code",
   "execution_count": 4,
   "metadata": {},
   "outputs": [
    {
     "name": "stdout",
     "output_type": "stream",
     "text": [
      ">sequence1\n",
      "-TTGGATAA---\n",
      ">sequence2\n",
      "---CGATAACCG\n",
      ">sequence3\n",
      "---CGATAT---\n",
      ">sequence4\n",
      "AAAGGATAT---\n"
     ]
    }
   ],
   "source": [
    "#Write a line of code to view the output of the alignment\n",
    "###BEGIN SOLUTION\n",
    "!cat tf_binding_sequences_out.fa\n",
    "###END SOLUTION"
   ]
  },
  {
   "cell_type": "markdown",
   "metadata": {},
   "source": [
    "#### We examine the aligned portions of the sequences using the AlignIO module:"
   ]
  },
  {
   "cell_type": "code",
   "execution_count": 5,
   "metadata": {
    "collapsed": false,
    "jupyter": {
     "outputs_hidden": false
    }
   },
   "outputs": [
    {
     "name": "stdout",
     "output_type": "stream",
     "text": [
      "aligned sequences:\n",
      "Alignment with 4 rows and 12 columns\n",
      "-TTGGATAA--- sequence1\n",
      "---CGATAACCG sequence2\n",
      "---CGATAT--- sequence3\n",
      "AAAGGATAT--- sequence4\n"
     ]
    }
   ],
   "source": [
    "#The BioPython module AlignIO is an interface for inputing and outputing sequence alignments\n",
    "#We use it here to view a formated alignment\n",
    "import io \n",
    "from Bio import AlignIO\n",
    "align = AlignIO.read(\"tf_binding_sequences_out.fa\",\"fasta\")\n",
    "print(\"aligned sequences:\")\n",
    "print(align)"
   ]
  },
  {
   "cell_type": "markdown",
   "metadata": {},
   "source": [
    "The variable \"align\" represents an object in Python. We introduced objects in Class 4. As a reminder, an \"object\" in Python is a collection of data and methods that operate on that data. An object hass associated attributes and functions that we can examine by running the **help** command on the object.  You can think of a class in Python as a blueprint for a specific object. In Python terminology, an object is an \"instance\" of its class. "
   ]
  },
  {
   "cell_type": "code",
   "execution_count": 6,
   "metadata": {},
   "outputs": [
    {
     "name": "stdout",
     "output_type": "stream",
     "text": [
      "Help on MultipleSeqAlignment in module Bio.Align object:\n",
      "\n",
      "class MultipleSeqAlignment(builtins.object)\n",
      " |  MultipleSeqAlignment(records, alphabet=None, annotations=None, column_annotations=None)\n",
      " |  \n",
      " |  Represents a classical multiple sequence alignment (MSA).\n",
      " |  \n",
      " |  By this we mean a collection of sequences (usually shown as rows) which\n",
      " |  are all the same length (usually with gap characters for insertions or\n",
      " |  padding). The data can then be regarded as a matrix of letters, with well\n",
      " |  defined columns.\n",
      " |  \n",
      " |  You would typically create an MSA by loading an alignment file with the\n",
      " |  AlignIO module:\n",
      " |  \n",
      " |  >>> from Bio import AlignIO\n",
      " |  >>> align = AlignIO.read(\"Clustalw/opuntia.aln\", \"clustal\")\n",
      " |  >>> print(align)\n",
      " |  Alignment with 7 rows and 156 columns\n",
      " |  TATACATTAAAGAAGGGGGATGCGGATAAATGGAAAGGCGAAAG...AGA gi|6273285|gb|AF191659.1|AF191\n",
      " |  TATACATTAAAGAAGGGGGATGCGGATAAATGGAAAGGCGAAAG...AGA gi|6273284|gb|AF191658.1|AF191\n",
      " |  TATACATTAAAGAAGGGGGATGCGGATAAATGGAAAGGCGAAAG...AGA gi|6273287|gb|AF191661.1|AF191\n",
      " |  TATACATAAAAGAAGGGGGATGCGGATAAATGGAAAGGCGAAAG...AGA gi|6273286|gb|AF191660.1|AF191\n",
      " |  TATACATTAAAGGAGGGGGATGCGGATAAATGGAAAGGCGAAAG...AGA gi|6273290|gb|AF191664.1|AF191\n",
      " |  TATACATTAAAGGAGGGGGATGCGGATAAATGGAAAGGCGAAAG...AGA gi|6273289|gb|AF191663.1|AF191\n",
      " |  TATACATTAAAGGAGGGGGATGCGGATAAATGGAAAGGCGAAAG...AGA gi|6273291|gb|AF191665.1|AF191\n",
      " |  \n",
      " |  In some respects you can treat these objects as lists of SeqRecord objects,\n",
      " |  each representing a row of the alignment. Iterating over an alignment gives\n",
      " |  the SeqRecord object for each row:\n",
      " |  \n",
      " |  >>> len(align)\n",
      " |  7\n",
      " |  >>> for record in align:\n",
      " |  ...     print(\"%s %i\" % (record.id, len(record)))\n",
      " |  ...\n",
      " |  gi|6273285|gb|AF191659.1|AF191 156\n",
      " |  gi|6273284|gb|AF191658.1|AF191 156\n",
      " |  gi|6273287|gb|AF191661.1|AF191 156\n",
      " |  gi|6273286|gb|AF191660.1|AF191 156\n",
      " |  gi|6273290|gb|AF191664.1|AF191 156\n",
      " |  gi|6273289|gb|AF191663.1|AF191 156\n",
      " |  gi|6273291|gb|AF191665.1|AF191 156\n",
      " |  \n",
      " |  You can also access individual rows as SeqRecord objects via their index:\n",
      " |  \n",
      " |  >>> print(align[0].id)\n",
      " |  gi|6273285|gb|AF191659.1|AF191\n",
      " |  >>> print(align[-1].id)\n",
      " |  gi|6273291|gb|AF191665.1|AF191\n",
      " |  \n",
      " |  And extract columns as strings:\n",
      " |  \n",
      " |  >>> print(align[:, 1])\n",
      " |  AAAAAAA\n",
      " |  \n",
      " |  Or, take just the first ten columns as a sub-alignment:\n",
      " |  \n",
      " |  >>> print(align[:, :10])\n",
      " |  Alignment with 7 rows and 10 columns\n",
      " |  TATACATTAA gi|6273285|gb|AF191659.1|AF191\n",
      " |  TATACATTAA gi|6273284|gb|AF191658.1|AF191\n",
      " |  TATACATTAA gi|6273287|gb|AF191661.1|AF191\n",
      " |  TATACATAAA gi|6273286|gb|AF191660.1|AF191\n",
      " |  TATACATTAA gi|6273290|gb|AF191664.1|AF191\n",
      " |  TATACATTAA gi|6273289|gb|AF191663.1|AF191\n",
      " |  TATACATTAA gi|6273291|gb|AF191665.1|AF191\n",
      " |  \n",
      " |  Combining this alignment slicing with alignment addition allows you to\n",
      " |  remove a section of the alignment. For example, taking just the first\n",
      " |  and last ten columns:\n",
      " |  \n",
      " |  >>> print(align[:, :10] + align[:, -10:])\n",
      " |  Alignment with 7 rows and 20 columns\n",
      " |  TATACATTAAGTGTACCAGA gi|6273285|gb|AF191659.1|AF191\n",
      " |  TATACATTAAGTGTACCAGA gi|6273284|gb|AF191658.1|AF191\n",
      " |  TATACATTAAGTGTACCAGA gi|6273287|gb|AF191661.1|AF191\n",
      " |  TATACATAAAGTGTACCAGA gi|6273286|gb|AF191660.1|AF191\n",
      " |  TATACATTAAGTGTACCAGA gi|6273290|gb|AF191664.1|AF191\n",
      " |  TATACATTAAGTATACCAGA gi|6273289|gb|AF191663.1|AF191\n",
      " |  TATACATTAAGTGTACCAGA gi|6273291|gb|AF191665.1|AF191\n",
      " |  \n",
      " |  Note - This object replaced the older Alignment object defined in module\n",
      " |  Bio.Align.Generic but is not fully backwards compatible with it.\n",
      " |  \n",
      " |  Note - This object does NOT attempt to model the kind of alignments used\n",
      " |  in next generation sequencing with multiple sequencing reads which are\n",
      " |  much shorter than the alignment, and where there is usually a consensus or\n",
      " |  reference sequence with special status.\n",
      " |  \n",
      " |  Methods defined here:\n",
      " |  \n",
      " |  __add__(self, other)\n",
      " |      Combine two alignments with the same number of rows by adding them.\n",
      " |      \n",
      " |      If you have two multiple sequence alignments (MSAs), there are two ways to think\n",
      " |      about adding them - by row or by column. Using the extend method adds by row.\n",
      " |      Using the addition operator adds by column. For example,\n",
      " |      \n",
      " |      >>> from Bio.Seq import Seq\n",
      " |      >>> from Bio.SeqRecord import SeqRecord\n",
      " |      >>> from Bio.Align import MultipleSeqAlignment\n",
      " |      >>> a1 = SeqRecord(Seq(\"AAAAC\"), id=\"Alpha\")\n",
      " |      >>> b1 = SeqRecord(Seq(\"AAA-C\"), id=\"Beta\")\n",
      " |      >>> c1 = SeqRecord(Seq(\"AAAAG\"), id=\"Gamma\")\n",
      " |      >>> a2 = SeqRecord(Seq(\"GT\"), id=\"Alpha\")\n",
      " |      >>> b2 = SeqRecord(Seq(\"GT\"), id=\"Beta\")\n",
      " |      >>> c2 = SeqRecord(Seq(\"GT\"), id=\"Gamma\")\n",
      " |      >>> left = MultipleSeqAlignment([a1, b1, c1],\n",
      " |      ...                             annotations={\"tool\": \"demo\", \"name\": \"start\"},\n",
      " |      ...                             column_annotations={\"stats\": \"CCCXC\"})\n",
      " |      >>> right = MultipleSeqAlignment([a2, b2, c2],\n",
      " |      ...                             annotations={\"tool\": \"demo\", \"name\": \"end\"},\n",
      " |      ...                             column_annotations={\"stats\": \"CC\"})\n",
      " |      \n",
      " |      Now, let's look at these two alignments:\n",
      " |      \n",
      " |      >>> print(left)\n",
      " |      Alignment with 3 rows and 5 columns\n",
      " |      AAAAC Alpha\n",
      " |      AAA-C Beta\n",
      " |      AAAAG Gamma\n",
      " |      >>> print(right)\n",
      " |      Alignment with 3 rows and 2 columns\n",
      " |      GT Alpha\n",
      " |      GT Beta\n",
      " |      GT Gamma\n",
      " |      \n",
      " |      And add them:\n",
      " |      \n",
      " |      >>> combined = left + right\n",
      " |      >>> print(combined)\n",
      " |      Alignment with 3 rows and 7 columns\n",
      " |      AAAACGT Alpha\n",
      " |      AAA-CGT Beta\n",
      " |      AAAAGGT Gamma\n",
      " |      \n",
      " |      For this to work, both alignments must have the same number of records (here\n",
      " |      they both have 3 rows):\n",
      " |      \n",
      " |      >>> len(left)\n",
      " |      3\n",
      " |      >>> len(right)\n",
      " |      3\n",
      " |      >>> len(combined)\n",
      " |      3\n",
      " |      \n",
      " |      The individual rows are SeqRecord objects, and these can be added together. Refer\n",
      " |      to the SeqRecord documentation for details of how the annotation is handled. This\n",
      " |      example is a special case in that both original alignments shared the same names,\n",
      " |      meaning when the rows are added they also get the same name.\n",
      " |      \n",
      " |      Any common annotations are preserved, but differing annotation is lost. This is\n",
      " |      the same behaviour used in the SeqRecord annotations and is designed to prevent\n",
      " |      accidental propagation of inappropriate values:\n",
      " |      \n",
      " |      >>> combined.annotations\n",
      " |      {'tool': 'demo'}\n",
      " |      \n",
      " |      Similarly any common per-column-annotations are combined:\n",
      " |      \n",
      " |      >>> combined.column_annotations\n",
      " |      {'stats': 'CCCXCCC'}\n",
      " |  \n",
      " |  __format__(self, format_spec)\n",
      " |      Return the alignment as a string in the specified file format.\n",
      " |      \n",
      " |      The format should be a lower case string supported as an output\n",
      " |      format by Bio.AlignIO (such as \"fasta\", \"clustal\", \"phylip\",\n",
      " |      \"stockholm\", etc), which is used to turn the alignment into a\n",
      " |      string.\n",
      " |      \n",
      " |      e.g.\n",
      " |      \n",
      " |      >>> from Bio.Align import MultipleSeqAlignment\n",
      " |      >>> a = SeqRecord(Seq(\"ACTGCTAGCTAG\"), id=\"Alpha\", description=\"\")\n",
      " |      >>> b = SeqRecord(Seq(\"ACT-CTAGCTAG\"), id=\"Beta\", description=\"\")\n",
      " |      >>> c = SeqRecord(Seq(\"ACTGCTAGATAG\"), id=\"Gamma\", description=\"\")\n",
      " |      >>> align = MultipleSeqAlignment([a, b, c])\n",
      " |      >>> print(format(align, \"fasta\"))\n",
      " |      >Alpha\n",
      " |      ACTGCTAGCTAG\n",
      " |      >Beta\n",
      " |      ACT-CTAGCTAG\n",
      " |      >Gamma\n",
      " |      ACTGCTAGATAG\n",
      " |      <BLANKLINE>\n",
      " |      >>> print(format(align, \"phylip\"))\n",
      " |       3 12\n",
      " |      Alpha      ACTGCTAGCT AG\n",
      " |      Beta       ACT-CTAGCT AG\n",
      " |      Gamma      ACTGCTAGAT AG\n",
      " |      <BLANKLINE>\n",
      " |  \n",
      " |  __getitem__(self, index)\n",
      " |      Access part of the alignment.\n",
      " |      \n",
      " |      Depending on the indices, you can get a SeqRecord object\n",
      " |      (representing a single row), a Seq object (for a single columns),\n",
      " |      a string (for a single characters) or another alignment\n",
      " |      (representing some part or all of the alignment).\n",
      " |      \n",
      " |      align[r,c] gives a single character as a string\n",
      " |      align[r] gives a row as a SeqRecord\n",
      " |      align[r,:] gives a row as a SeqRecord\n",
      " |      align[:,c] gives a column as a Seq\n",
      " |      \n",
      " |      align[:] and align[:,:] give a copy of the alignment\n",
      " |      \n",
      " |      Anything else gives a sub alignment, e.g.\n",
      " |      align[0:2] or align[0:2,:] uses only row 0 and 1\n",
      " |      align[:,1:3] uses only columns 1 and 2\n",
      " |      align[0:2,1:3] uses only rows 0 & 1 and only cols 1 & 2\n",
      " |      \n",
      " |      We'll use the following example alignment here for illustration:\n",
      " |      \n",
      " |      >>> from Bio.Seq import Seq\n",
      " |      >>> from Bio.SeqRecord import SeqRecord\n",
      " |      >>> from Bio.Align import MultipleSeqAlignment\n",
      " |      >>> a = SeqRecord(Seq(\"AAAACGT\"), id=\"Alpha\")\n",
      " |      >>> b = SeqRecord(Seq(\"AAA-CGT\"), id=\"Beta\")\n",
      " |      >>> c = SeqRecord(Seq(\"AAAAGGT\"), id=\"Gamma\")\n",
      " |      >>> d = SeqRecord(Seq(\"AAAACGT\"), id=\"Delta\")\n",
      " |      >>> e = SeqRecord(Seq(\"AAA-GGT\"), id=\"Epsilon\")\n",
      " |      >>> align = MultipleSeqAlignment([a, b, c, d, e])\n",
      " |      \n",
      " |      You can access a row of the alignment as a SeqRecord using an integer\n",
      " |      index (think of the alignment as a list of SeqRecord objects here):\n",
      " |      \n",
      " |      >>> first_record = align[0]\n",
      " |      >>> print(\"%s %s\" % (first_record.id, first_record.seq))\n",
      " |      Alpha AAAACGT\n",
      " |      >>> last_record = align[-1]\n",
      " |      >>> print(\"%s %s\" % (last_record.id, last_record.seq))\n",
      " |      Epsilon AAA-GGT\n",
      " |      \n",
      " |      You can also access use python's slice notation to create a sub-alignment\n",
      " |      containing only some of the SeqRecord objects:\n",
      " |      \n",
      " |      >>> sub_alignment = align[2:5]\n",
      " |      >>> print(sub_alignment)\n",
      " |      Alignment with 3 rows and 7 columns\n",
      " |      AAAAGGT Gamma\n",
      " |      AAAACGT Delta\n",
      " |      AAA-GGT Epsilon\n",
      " |      \n",
      " |      This includes support for a step, i.e. align[start:end:step], which\n",
      " |      can be used to select every second sequence:\n",
      " |      \n",
      " |      >>> sub_alignment = align[::2]\n",
      " |      >>> print(sub_alignment)\n",
      " |      Alignment with 3 rows and 7 columns\n",
      " |      AAAACGT Alpha\n",
      " |      AAAAGGT Gamma\n",
      " |      AAA-GGT Epsilon\n",
      " |      \n",
      " |      Or to get a copy of the alignment with the rows in reverse order:\n",
      " |      \n",
      " |      >>> rev_alignment = align[::-1]\n",
      " |      >>> print(rev_alignment)\n",
      " |      Alignment with 5 rows and 7 columns\n",
      " |      AAA-GGT Epsilon\n",
      " |      AAAACGT Delta\n",
      " |      AAAAGGT Gamma\n",
      " |      AAA-CGT Beta\n",
      " |      AAAACGT Alpha\n",
      " |      \n",
      " |      You can also use two indices to specify both rows and columns. Using simple\n",
      " |      integers gives you the entry as a single character string. e.g.\n",
      " |      \n",
      " |      >>> align[3, 4]\n",
      " |      'C'\n",
      " |      \n",
      " |      This is equivalent to:\n",
      " |      \n",
      " |      >>> align[3][4]\n",
      " |      'C'\n",
      " |      \n",
      " |      or:\n",
      " |      \n",
      " |      >>> align[3].seq[4]\n",
      " |      'C'\n",
      " |      \n",
      " |      To get a single column (as a string) use this syntax:\n",
      " |      \n",
      " |      >>> align[:, 4]\n",
      " |      'CCGCG'\n",
      " |      \n",
      " |      Or, to get part of a column,\n",
      " |      \n",
      " |      >>> align[1:3, 4]\n",
      " |      'CG'\n",
      " |      \n",
      " |      However, in general you get a sub-alignment,\n",
      " |      \n",
      " |      >>> print(align[1:5, 3:6])\n",
      " |      Alignment with 4 rows and 3 columns\n",
      " |      -CG Beta\n",
      " |      AGG Gamma\n",
      " |      ACG Delta\n",
      " |      -GG Epsilon\n",
      " |      \n",
      " |      This should all seem familiar to anyone who has used the NumPy\n",
      " |      array or matrix objects.\n",
      " |  \n",
      " |  __init__(self, records, alphabet=None, annotations=None, column_annotations=None)\n",
      " |      Initialize a new MultipleSeqAlignment object.\n",
      " |      \n",
      " |      Arguments:\n",
      " |       - records - A list (or iterator) of SeqRecord objects, whose\n",
      " |                   sequences are all the same length.  This may be an be an\n",
      " |                   empty list.\n",
      " |       - alphabet - For backward compatibility only; its value should always\n",
      " |                    be None.\n",
      " |       - annotations - Information about the whole alignment (dictionary).\n",
      " |       - column_annotations - Per column annotation (restricted dictionary).\n",
      " |                    This holds Python sequences (lists, strings, tuples)\n",
      " |                    whose length matches the number of columns. A typical\n",
      " |                    use would be a secondary structure consensus string.\n",
      " |      \n",
      " |      You would normally load a MSA from a file using Bio.AlignIO, but you\n",
      " |      can do this from a list of SeqRecord objects too:\n",
      " |      \n",
      " |      >>> from Bio.Seq import Seq\n",
      " |      >>> from Bio.SeqRecord import SeqRecord\n",
      " |      >>> from Bio.Align import MultipleSeqAlignment\n",
      " |      >>> a = SeqRecord(Seq(\"AAAACGT\"), id=\"Alpha\")\n",
      " |      >>> b = SeqRecord(Seq(\"AAA-CGT\"), id=\"Beta\")\n",
      " |      >>> c = SeqRecord(Seq(\"AAAAGGT\"), id=\"Gamma\")\n",
      " |      >>> align = MultipleSeqAlignment([a, b, c],\n",
      " |      ...                              annotations={\"tool\": \"demo\"},\n",
      " |      ...                              column_annotations={\"stats\": \"CCCXCCC\"})\n",
      " |      >>> print(align)\n",
      " |      Alignment with 3 rows and 7 columns\n",
      " |      AAAACGT Alpha\n",
      " |      AAA-CGT Beta\n",
      " |      AAAAGGT Gamma\n",
      " |      >>> align.annotations\n",
      " |      {'tool': 'demo'}\n",
      " |      >>> align.column_annotations\n",
      " |      {'stats': 'CCCXCCC'}\n",
      " |  \n",
      " |  __iter__(self)\n",
      " |      Iterate over alignment rows as SeqRecord objects.\n",
      " |      \n",
      " |      e.g.\n",
      " |      \n",
      " |      >>> from Bio.Align import MultipleSeqAlignment\n",
      " |      >>> a = SeqRecord(Seq(\"ACTGCTAGCTAG\"), id=\"Alpha\")\n",
      " |      >>> b = SeqRecord(Seq(\"ACT-CTAGCTAG\"), id=\"Beta\")\n",
      " |      >>> c = SeqRecord(Seq(\"ACTGCTAGATAG\"), id=\"Gamma\")\n",
      " |      >>> align = MultipleSeqAlignment([a, b, c])\n",
      " |      >>> for record in align:\n",
      " |      ...    print(record.id)\n",
      " |      ...    print(record.seq)\n",
      " |      ...\n",
      " |      Alpha\n",
      " |      ACTGCTAGCTAG\n",
      " |      Beta\n",
      " |      ACT-CTAGCTAG\n",
      " |      Gamma\n",
      " |      ACTGCTAGATAG\n",
      " |  \n",
      " |  __len__(self)\n",
      " |      Return the number of sequences in the alignment.\n",
      " |      \n",
      " |      Use len(alignment) to get the number of sequences (i.e. the number of\n",
      " |      rows), and alignment.get_alignment_length() to get the length of the\n",
      " |      longest sequence (i.e. the number of columns).\n",
      " |      \n",
      " |      This is easy to remember if you think of the alignment as being like a\n",
      " |      list of SeqRecord objects.\n",
      " |  \n",
      " |  __repr__(self)\n",
      " |      Return a representation of the object for debugging.\n",
      " |      \n",
      " |      The representation cannot be used with eval() to recreate the object,\n",
      " |      which is usually possible with simple python objects.  For example:\n",
      " |      \n",
      " |      <Bio.Align.MultipleSeqAlignment instance (2 records of length 14)\n",
      " |      at a3c184c>\n",
      " |      \n",
      " |      The hex string is the memory address of the object, see help(id).\n",
      " |      This provides a simple way to visually distinguish alignments of\n",
      " |      the same size.\n",
      " |  \n",
      " |  __str__(self)\n",
      " |      Return a multi-line string summary of the alignment.\n",
      " |      \n",
      " |      This output is intended to be readable, but large alignments are\n",
      " |      shown truncated.  A maximum of 20 rows (sequences) and 50 columns\n",
      " |      are shown, with the record identifiers.  This should fit nicely on a\n",
      " |      single screen. e.g.\n",
      " |      \n",
      " |      >>> from Bio.Seq import Seq\n",
      " |      >>> from Bio.SeqRecord import SeqRecord\n",
      " |      >>> from Bio.Align import MultipleSeqAlignment\n",
      " |      >>> a = SeqRecord(Seq(\"ACTGCTAGCTAG\"), id=\"Alpha\")\n",
      " |      >>> b = SeqRecord(Seq(\"ACT-CTAGCTAG\"), id=\"Beta\")\n",
      " |      >>> c = SeqRecord(Seq(\"ACTGCTAGATAG\"), id=\"Gamma\")\n",
      " |      >>> align = MultipleSeqAlignment([a, b, c])\n",
      " |      >>> print(align)\n",
      " |      Alignment with 3 rows and 12 columns\n",
      " |      ACTGCTAGCTAG Alpha\n",
      " |      ACT-CTAGCTAG Beta\n",
      " |      ACTGCTAGATAG Gamma\n",
      " |      \n",
      " |      See also the alignment's format method.\n",
      " |  \n",
      " |  append(self, record)\n",
      " |      Add one more SeqRecord object to the alignment as a new row.\n",
      " |      \n",
      " |      This must have the same length as the original alignment (unless this is\n",
      " |      the first record).\n",
      " |      \n",
      " |      >>> from Bio import AlignIO\n",
      " |      >>> align = AlignIO.read(\"Clustalw/opuntia.aln\", \"clustal\")\n",
      " |      >>> print(align)\n",
      " |      Alignment with 7 rows and 156 columns\n",
      " |      TATACATTAAAGAAGGGGGATGCGGATAAATGGAAAGGCGAAAG...AGA gi|6273285|gb|AF191659.1|AF191\n",
      " |      TATACATTAAAGAAGGGGGATGCGGATAAATGGAAAGGCGAAAG...AGA gi|6273284|gb|AF191658.1|AF191\n",
      " |      TATACATTAAAGAAGGGGGATGCGGATAAATGGAAAGGCGAAAG...AGA gi|6273287|gb|AF191661.1|AF191\n",
      " |      TATACATAAAAGAAGGGGGATGCGGATAAATGGAAAGGCGAAAG...AGA gi|6273286|gb|AF191660.1|AF191\n",
      " |      TATACATTAAAGGAGGGGGATGCGGATAAATGGAAAGGCGAAAG...AGA gi|6273290|gb|AF191664.1|AF191\n",
      " |      TATACATTAAAGGAGGGGGATGCGGATAAATGGAAAGGCGAAAG...AGA gi|6273289|gb|AF191663.1|AF191\n",
      " |      TATACATTAAAGGAGGGGGATGCGGATAAATGGAAAGGCGAAAG...AGA gi|6273291|gb|AF191665.1|AF191\n",
      " |      >>> len(align)\n",
      " |      7\n",
      " |      \n",
      " |      We'll now construct a dummy record to append as an example:\n",
      " |      \n",
      " |      >>> from Bio.Seq import Seq\n",
      " |      >>> from Bio.SeqRecord import SeqRecord\n",
      " |      >>> dummy = SeqRecord(Seq(\"N\"*156), id=\"dummy\")\n",
      " |      \n",
      " |      Now append this to the alignment,\n",
      " |      \n",
      " |      >>> align.append(dummy)\n",
      " |      >>> print(align)\n",
      " |      Alignment with 8 rows and 156 columns\n",
      " |      TATACATTAAAGAAGGGGGATGCGGATAAATGGAAAGGCGAAAG...AGA gi|6273285|gb|AF191659.1|AF191\n",
      " |      TATACATTAAAGAAGGGGGATGCGGATAAATGGAAAGGCGAAAG...AGA gi|6273284|gb|AF191658.1|AF191\n",
      " |      TATACATTAAAGAAGGGGGATGCGGATAAATGGAAAGGCGAAAG...AGA gi|6273287|gb|AF191661.1|AF191\n",
      " |      TATACATAAAAGAAGGGGGATGCGGATAAATGGAAAGGCGAAAG...AGA gi|6273286|gb|AF191660.1|AF191\n",
      " |      TATACATTAAAGGAGGGGGATGCGGATAAATGGAAAGGCGAAAG...AGA gi|6273290|gb|AF191664.1|AF191\n",
      " |      TATACATTAAAGGAGGGGGATGCGGATAAATGGAAAGGCGAAAG...AGA gi|6273289|gb|AF191663.1|AF191\n",
      " |      TATACATTAAAGGAGGGGGATGCGGATAAATGGAAAGGCGAAAG...AGA gi|6273291|gb|AF191665.1|AF191\n",
      " |      NNNNNNNNNNNNNNNNNNNNNNNNNNNNNNNNNNNNNNNNNNNN...NNN dummy\n",
      " |      >>> len(align)\n",
      " |      8\n",
      " |  \n",
      " |  extend(self, records)\n",
      " |      Add more SeqRecord objects to the alignment as rows.\n",
      " |      \n",
      " |      They must all have the same length as the original alignment. For\n",
      " |      example,\n",
      " |      \n",
      " |      >>> from Bio.Seq import Seq\n",
      " |      >>> from Bio.SeqRecord import SeqRecord\n",
      " |      >>> from Bio.Align import MultipleSeqAlignment\n",
      " |      >>> a = SeqRecord(Seq(\"AAAACGT\"), id=\"Alpha\")\n",
      " |      >>> b = SeqRecord(Seq(\"AAA-CGT\"), id=\"Beta\")\n",
      " |      >>> c = SeqRecord(Seq(\"AAAAGGT\"), id=\"Gamma\")\n",
      " |      >>> d = SeqRecord(Seq(\"AAAACGT\"), id=\"Delta\")\n",
      " |      >>> e = SeqRecord(Seq(\"AAA-GGT\"), id=\"Epsilon\")\n",
      " |      \n",
      " |      First we create a small alignment (three rows):\n",
      " |      \n",
      " |      >>> align = MultipleSeqAlignment([a, b, c])\n",
      " |      >>> print(align)\n",
      " |      Alignment with 3 rows and 7 columns\n",
      " |      AAAACGT Alpha\n",
      " |      AAA-CGT Beta\n",
      " |      AAAAGGT Gamma\n",
      " |      \n",
      " |      Now we can extend this alignment with another two rows:\n",
      " |      \n",
      " |      >>> align.extend([d, e])\n",
      " |      >>> print(align)\n",
      " |      Alignment with 5 rows and 7 columns\n",
      " |      AAAACGT Alpha\n",
      " |      AAA-CGT Beta\n",
      " |      AAAAGGT Gamma\n",
      " |      AAAACGT Delta\n",
      " |      AAA-GGT Epsilon\n",
      " |      \n",
      " |      Because the alignment object allows iteration over the rows as\n",
      " |      SeqRecords, you can use the extend method with a second alignment\n",
      " |      (provided its sequences have the same length as the original alignment).\n",
      " |  \n",
      " |  get_alignment_length(self)\n",
      " |      Return the maximum length of the alignment.\n",
      " |      \n",
      " |      All objects in the alignment should (hopefully) have the same\n",
      " |      length. This function will go through and find this length\n",
      " |      by finding the maximum length of sequences in the alignment.\n",
      " |      \n",
      " |      >>> from Bio.Align import MultipleSeqAlignment\n",
      " |      >>> a = SeqRecord(Seq(\"ACTGCTAGCTAG\"), id=\"Alpha\")\n",
      " |      >>> b = SeqRecord(Seq(\"ACT-CTAGCTAG\"), id=\"Beta\")\n",
      " |      >>> c = SeqRecord(Seq(\"ACTGCTAGATAG\"), id=\"Gamma\")\n",
      " |      >>> align = MultipleSeqAlignment([a, b, c])\n",
      " |      >>> align.get_alignment_length()\n",
      " |      12\n",
      " |      \n",
      " |      If you want to know the number of sequences in the alignment,\n",
      " |      use len(align) instead:\n",
      " |      \n",
      " |      >>> len(align)\n",
      " |      3\n",
      " |  \n",
      " |  sort(self, key=None, reverse=False)\n",
      " |      Sort the rows (SeqRecord objects) of the alignment in place.\n",
      " |      \n",
      " |      This sorts the rows alphabetically using the SeqRecord object id by\n",
      " |      default. The sorting can be controlled by supplying a key function\n",
      " |      which must map each SeqRecord to a sort value.\n",
      " |      \n",
      " |      This is useful if you want to add two alignments which use the same\n",
      " |      record identifiers, but in a different order. For example,\n",
      " |      \n",
      " |      >>> from Bio.Seq import Seq\n",
      " |      >>> from Bio.SeqRecord import SeqRecord\n",
      " |      >>> from Bio.Align import MultipleSeqAlignment\n",
      " |      >>> align1 = MultipleSeqAlignment([\n",
      " |      ...              SeqRecord(Seq(\"ACGT\"), id=\"Human\"),\n",
      " |      ...              SeqRecord(Seq(\"ACGG\"), id=\"Mouse\"),\n",
      " |      ...              SeqRecord(Seq(\"ACGC\"), id=\"Chicken\"),\n",
      " |      ...          ])\n",
      " |      >>> align2 = MultipleSeqAlignment([\n",
      " |      ...              SeqRecord(Seq(\"CGGT\"), id=\"Mouse\"),\n",
      " |      ...              SeqRecord(Seq(\"CGTT\"), id=\"Human\"),\n",
      " |      ...              SeqRecord(Seq(\"CGCT\"), id=\"Chicken\"),\n",
      " |      ...          ])\n",
      " |      \n",
      " |      If you simple try and add these without sorting, you get this:\n",
      " |      \n",
      " |      >>> print(align1 + align2)\n",
      " |      Alignment with 3 rows and 8 columns\n",
      " |      ACGTCGGT <unknown id>\n",
      " |      ACGGCGTT <unknown id>\n",
      " |      ACGCCGCT Chicken\n",
      " |      \n",
      " |      Consult the SeqRecord documentation which explains why you get a\n",
      " |      default value when annotation like the identifier doesn't match up.\n",
      " |      However, if we sort the alignments first, then add them we get the\n",
      " |      desired result:\n",
      " |      \n",
      " |      >>> align1.sort()\n",
      " |      >>> align2.sort()\n",
      " |      >>> print(align1 + align2)\n",
      " |      Alignment with 3 rows and 8 columns\n",
      " |      ACGCCGCT Chicken\n",
      " |      ACGTCGTT Human\n",
      " |      ACGGCGGT Mouse\n",
      " |      \n",
      " |      As an example using a different sort order, you could sort on the\n",
      " |      GC content of each sequence.\n",
      " |      \n",
      " |      >>> from Bio.SeqUtils import GC\n",
      " |      >>> print(align1)\n",
      " |      Alignment with 3 rows and 4 columns\n",
      " |      ACGC Chicken\n",
      " |      ACGT Human\n",
      " |      ACGG Mouse\n",
      " |      >>> align1.sort(key = lambda record: GC(record.seq))\n",
      " |      >>> print(align1)\n",
      " |      Alignment with 3 rows and 4 columns\n",
      " |      ACGT Human\n",
      " |      ACGC Chicken\n",
      " |      ACGG Mouse\n",
      " |      \n",
      " |      There is also a reverse argument, so if you wanted to sort by ID\n",
      " |      but backwards:\n",
      " |      \n",
      " |      >>> align1.sort(reverse=True)\n",
      " |      >>> print(align1)\n",
      " |      Alignment with 3 rows and 4 columns\n",
      " |      ACGG Mouse\n",
      " |      ACGT Human\n",
      " |      ACGC Chicken\n",
      " |  \n",
      " |  ----------------------------------------------------------------------\n",
      " |  Data descriptors defined here:\n",
      " |  \n",
      " |  __dict__\n",
      " |      dictionary for instance variables (if defined)\n",
      " |  \n",
      " |  __weakref__\n",
      " |      list of weak references to the object (if defined)\n",
      " |  \n",
      " |  column_annotations\n",
      " |      Dictionary of per-letter-annotation for the sequence.\n",
      " |  \n",
      " |  substitutions\n",
      " |      Return an Array with the number of substitutions of letters in the alignment.\n",
      " |      \n",
      " |      As an example, consider a multiple sequence alignment of three DNA sequences:\n",
      " |      \n",
      " |      >>> from Bio.Seq import Seq\n",
      " |      >>> from Bio.SeqRecord import SeqRecord\n",
      " |      >>> from Bio.Align import MultipleSeqAlignment\n",
      " |      >>> seq1 = SeqRecord(Seq(\"ACGT\"), id=\"seq1\")\n",
      " |      >>> seq2 = SeqRecord(Seq(\"A--A\"), id=\"seq2\")\n",
      " |      >>> seq3 = SeqRecord(Seq(\"ACGT\"), id=\"seq3\")\n",
      " |      >>> seq4 = SeqRecord(Seq(\"TTTC\"), id=\"seq4\")\n",
      " |      >>> alignment = MultipleSeqAlignment([seq1, seq2, seq3, seq4])\n",
      " |      >>> print(alignment)\n",
      " |      Alignment with 4 rows and 4 columns\n",
      " |      ACGT seq1\n",
      " |      A--A seq2\n",
      " |      ACGT seq3\n",
      " |      TTTC seq4\n",
      " |      \n",
      " |      >>> m = alignment.substitutions\n",
      " |      >>> print(m)\n",
      " |          A   C   G   T\n",
      " |      A 3.0 0.5 0.0 2.5\n",
      " |      C 0.5 1.0 0.0 2.0\n",
      " |      G 0.0 0.0 1.0 1.0\n",
      " |      T 2.5 2.0 1.0 1.0\n",
      " |      <BLANKLINE>\n",
      " |      \n",
      " |      Note that the matrix is symmetric, with counts divided equally on both\n",
      " |      sides of the diagonal. For example, the total number of substitutions\n",
      " |      between A and T in the alignment is 3.5 + 3.5 = 7.\n",
      " |      \n",
      " |      Any weights associated with the sequences are taken into account when\n",
      " |      calculating the substitution matrix.  For example, given the following\n",
      " |      multiple sequence alignment::\n",
      " |      \n",
      " |          GTATC  0.5\n",
      " |          AT--C  0.8\n",
      " |          CTGTC  1.0\n",
      " |      \n",
      " |      For the first column we have::\n",
      " |      \n",
      " |          ('A', 'G') : 0.5 * 0.8 = 0.4\n",
      " |          ('C', 'G') : 0.5 * 1.0 = 0.5\n",
      " |          ('A', 'C') : 0.8 * 1.0 = 0.8\n",
      "\n"
     ]
    }
   ],
   "source": [
    "help(align)"
   ]
  },
  {
   "cell_type": "markdown",
   "metadata": {},
   "source": [
    "The **help** command gives us a detailed description of the attributes and functions associated iwth the align object. If you want to visualize the attributes in a more compact manner, you can use call the \"__dict__\" command on the align object to visualize a dictionary representation of this object, with the attributes as keys and their values as the dictionary values. "
   ]
  },
  {
   "cell_type": "code",
   "execution_count": 7,
   "metadata": {},
   "outputs": [
    {
     "name": "stdout",
     "output_type": "stream",
     "text": [
      "<class 'Bio.Align.MultipleSeqAlignment'>\n"
     ]
    },
    {
     "data": {
      "text/plain": [
       "{'_records': [SeqRecord(seq=Seq('-TTGGATAA---'), id='sequence1', name='sequence1', description='sequence1', dbxrefs=[]),\n",
       "  SeqRecord(seq=Seq('---CGATAACCG'), id='sequence2', name='sequence2', description='sequence2', dbxrefs=[]),\n",
       "  SeqRecord(seq=Seq('---CGATAT---'), id='sequence3', name='sequence3', description='sequence3', dbxrefs=[]),\n",
       "  SeqRecord(seq=Seq('AAAGGATAT---'), id='sequence4', name='sequence4', description='sequence4', dbxrefs=[])],\n",
       " '_per_col_annotations': {},\n",
       " 'annotations': {}}"
      ]
     },
     "execution_count": 7,
     "metadata": {},
     "output_type": "execute_result"
    }
   ],
   "source": [
    "#print the type of the align object\n",
    "print(type(align))\n",
    "\n",
    "#visualize a dictionary representation of the align object, with the attributes of this object as the keys of the dictionary. \n",
    "align.__dict__"
   ]
  },
  {
   "cell_type": "markdown",
   "metadata": {},
   "source": [
    "#### We remove poorly aligned positions"
   ]
  },
  {
   "cell_type": "code",
   "execution_count": 8,
   "metadata": {
    "collapsed": false,
    "jupyter": {
     "outputs_hidden": false
    }
   },
   "outputs": [
    {
     "name": "stdout",
     "output_type": "stream",
     "text": [
      "\n",
      "alignment without poorly aligned positions:\n",
      "Alignment with 4 rows and 5 columns\n",
      "GGATA sequence1\n",
      "CGATA sequence2\n",
      "CGATA sequence3\n",
      "GGATA sequence4\n"
     ]
    }
   ],
   "source": [
    "#The best alignments are found at positions 3-8 in the sequence. We remove the poorly aligned positions outside of this range. \n",
    "sub_alignment=align[:,3:8]\n",
    "print(\"\\nalignment without poorly aligned positions:\")\n",
    "print(sub_alignment)"
   ]
  },
  {
   "cell_type": "code",
   "execution_count": 9,
   "metadata": {},
   "outputs": [
    {
     "name": "stdout",
     "output_type": "stream",
     "text": [
      "<class 'Bio.Align.MultipleSeqAlignment'>\n"
     ]
    },
    {
     "data": {
      "text/plain": [
       "{'_records': [SeqRecord(seq=Seq('GGATA'), id='sequence1', name='sequence1', description='sequence1', dbxrefs=[]),\n",
       "  SeqRecord(seq=Seq('CGATA'), id='sequence2', name='sequence2', description='sequence2', dbxrefs=[]),\n",
       "  SeqRecord(seq=Seq('CGATA'), id='sequence3', name='sequence3', description='sequence3', dbxrefs=[]),\n",
       "  SeqRecord(seq=Seq('GGATA'), id='sequence4', name='sequence4', description='sequence4', dbxrefs=[])],\n",
       " '_per_col_annotations': {},\n",
       " 'annotations': {}}"
      ]
     },
     "execution_count": 9,
     "metadata": {},
     "output_type": "execute_result"
    }
   ],
   "source": [
    "#the variable sub_alignment is also pointing to an object of type \"Bio.Align.MultipleSeqAlignment\"\n",
    "print(type(sub_alignment))\n",
    "sub_alignment.__dict__"
   ]
  },
  {
   "cell_type": "markdown",
   "metadata": {},
   "source": [
    "#### Now, we will record the frequencies of each nucleotide at each position in the aligned set of subsequences"
   ]
  },
  {
   "cell_type": "markdown",
   "metadata": {},
   "source": [
    "One problem is that the raw counts (frequencies) of each nucleotide at each position would depend on the total number of subsequences sampled.\n",
    "\n",
    "To avoid this dependence, we can instead <b>record proportions or probabilities (ranging from 0 to 1)</b> of observing each nucleotide at each position. i.e. we need to divide (<b>normalize</b>) the raw frequencies (counts) of each nucleotide at each position by the total number of subsequences. This representation of the binding motif of a TF is known as its <b>position weight matrix (PWM)</b>.\n",
    "\n",
    "We notice that the first column contains base C twice, and base G twice. The second column always contains base G, and the third, fourth, and fifth columns always contain the bases A,T, and A, respectively. We can quantify this information with a position weight matrix (PWM). "
   ]
  },
  {
   "cell_type": "code",
   "execution_count": 10,
   "metadata": {},
   "outputs": [
    {
     "name": "stdout",
     "output_type": "stream",
     "text": [
      "[Seq('GGATA'), Seq('CGATA'), Seq('CGATA'), Seq('GGATA')]\n"
     ]
    }
   ],
   "source": [
    "#We iterate through each sequence record in our sub-alignment and extract only the .seq attribute\n",
    "#This is the character string that encodes the DNA sequence from the alignment. \n",
    "aligned_sequences=[]\n",
    "for seq_record in sub_alignment: \n",
    "    aligned_sequences.append(seq_record.seq)\n",
    "print(aligned_sequences)"
   ]
  },
  {
   "cell_type": "code",
   "execution_count": 11,
   "metadata": {
    "collapsed": false,
    "jupyter": {
     "outputs_hidden": false
    }
   },
   "outputs": [
    {
     "name": "stdout",
     "output_type": "stream",
     "text": [
      "[Seq('GGATA'), Seq('CGATA'), Seq('CGATA'), Seq('GGATA')]\n"
     ]
    }
   ],
   "source": [
    "#The iteration above can be condensed into one line. \n",
    "#We iterate through each sequence a in our sub-alignment and extract the seq attribute\n",
    "#This is the character string that encodes the DNA sequence from the alignment. \n",
    "aligned_sequences=[seq_record.seq for seq_record in sub_alignment]\n",
    "print(aligned_sequences)"
   ]
  },
  {
   "cell_type": "code",
   "execution_count": 12,
   "metadata": {},
   "outputs": [],
   "source": [
    "#We use the alphabet defined above to make a motif object.\n",
    "from Bio import motifs\n",
    "m = motifs.create(aligned_sequences)"
   ]
  },
  {
   "cell_type": "code",
   "execution_count": 13,
   "metadata": {
    "collapsed": false,
    "jupyter": {
     "outputs_hidden": false
    }
   },
   "outputs": [
    {
     "data": {
      "text/plain": [
       "Seq('CGATA')"
      ]
     },
     "execution_count": 13,
     "metadata": {},
     "output_type": "execute_result"
    }
   ],
   "source": [
    "#Print the consensus sequence for the motif \n",
    "m.consensus"
   ]
  },
  {
   "cell_type": "code",
   "execution_count": 14,
   "metadata": {
    "collapsed": false,
    "jupyter": {
     "outputs_hidden": false
    }
   },
   "outputs": [
    {
     "data": {
      "text/plain": [
       "{'A': (0.0, 0.0, 1.0, 0.0, 1.0),\n",
       " 'C': (0.5, 0.0, 0.0, 0.0, 0.0),\n",
       " 'G': (0.5, 1.0, 0.0, 0.0, 0.0),\n",
       " 'T': (0.0, 0.0, 0.0, 1.0, 0.0)}"
      ]
     },
     "execution_count": 14,
     "metadata": {},
     "output_type": "execute_result"
    }
   ],
   "source": [
    "#print the position weight matrix for the motif \n",
    "m.pwm"
   ]
  },
  {
   "cell_type": "code",
   "execution_count": 15,
   "metadata": {
    "collapsed": false,
    "jupyter": {
     "outputs_hidden": false
    }
   },
   "outputs": [
    {
     "name": "stdout",
     "output_type": "stream",
     "text": [
      "[[0.  0.  1.  0.  1. ]\n",
      " [0.5 0.  0.  0.  0. ]\n",
      " [0.5 1.  0.  0.  0. ]\n",
      " [0.  0.  0.  1.  0. ]]\n"
     ]
    },
    {
     "data": {
      "image/png": "[encoded data removed]",
      "text/plain": [
       "<Figure size 1440x144 with 1 Axes>"
      ]
     },
     "metadata": {
      "needs_background": "light"
     },
     "output_type": "display_data"
    }
   ],
   "source": [
    "#convert the Pwm dictionary to an array and plot the PWM sequence logo \n",
    "import numpy as np \n",
    "pwm=np.asarray([m.pwm['A'],m.pwm['C'],m.pwm['G'],m.pwm['T']])\n",
    "print(pwm)\n",
    "plot_weights(pwm)"
   ]
  },
  {
   "cell_type": "markdown",
   "metadata": {},
   "source": [
    "#### Question:\n",
    "Why do the values of the rows in every column in the PWM sum to 1?\n",
    "\n",
    "##### YOUR ANSWERE HERE: #####\n"
   ]
  },
  {
   "cell_type": "markdown",
   "metadata": {},
   "source": [
    "## Accounting for genomic background frequencies of nucleotides i.e. converting a PWM into a position specific scoring matrix (PSSM)<a name='PSSM' />"
   ]
  },
  {
   "cell_type": "markdown",
   "metadata": {},
   "source": [
    "A PWM records the positional nucleotide probabilities based on an observed sample of binding instances (subsequences) from the genome. \n",
    "\n",
    "#### But what would these probabilities look like we just randomly sampled subsequences of the same length from the rest of the genome?\n",
    "\n",
    "Imagine a genome that is very rich in Gs and Cs. Then if I randomly sampled subsequences from the genome, I would get high probabilities of Gs and Cs just by chance.\n",
    "\n",
    "Hence, we need to <b>normalize</b> our PWM by these <b>random background probabilities</b> of nucleotides from the genome.\n",
    "\n",
    "For simplicity, we assume that the bases A,C,G,T all occur with equal frequency (p=0.25). Note: this assumption rarely holds in reality! What you would actually do is count the total number of As, Cs, Gs and Ts in a particular genome and then divide by the size of the genome to obtain the background probabilities of each nucleotide."
   ]
  },
  {
   "cell_type": "code",
   "execution_count": 16,
   "metadata": {
    "collapsed": false,
    "jupyter": {
     "outputs_hidden": false
    }
   },
   "outputs": [
    {
     "data": {
      "text/plain": [
       "{'A': 0.25, 'C': 0.25, 'G': 0.25, 'T': 0.25}"
      ]
     },
     "execution_count": 16,
     "metadata": {},
     "output_type": "execute_result"
    }
   ],
   "source": [
    "m.background"
   ]
  },
  {
   "cell_type": "markdown",
   "metadata": {},
   "source": [
    "The normalized PWM, which we will call a <b>Position-specific scoring matrix</b> can be represented a log-odds matrix i.e. at each position 'i' for each nucleotide, we record the log2 of ratio of the probability in the PWM divided by the probability in the background.\n",
    "\n",
    "We calculate the PSSM in accorance with the following formula:![PSSM formula](../Images/11_pssm_formula.png)\n",
    "\n",
    "#### Unlike the PWM which has all values between 0 and 1 (probabilities), the PSSM can have positive or negative values in each position.\n",
    "\n",
    "Positive values indicate a positive log odds i.e. greater chance of observing that nucleotide relative to background.\n",
    "\n",
    "Negative values indicate a negative log odds i.e. lower chance of observing that nucleotide relative to background."
   ]
  },
  {
   "cell_type": "code",
   "execution_count": 17,
   "metadata": {},
   "outputs": [
    {
     "data": {
      "text/plain": [
       "{'A': [-inf, -inf, 2.0, -inf, 2.0],\n",
       " 'C': [1.0, -inf, -inf, -inf, -inf],\n",
       " 'G': [1.0, 2.0, -inf, -inf, -inf],\n",
       " 'T': [-inf, -inf, -inf, 2.0, -inf]}"
      ]
     },
     "execution_count": 17,
     "metadata": {},
     "output_type": "execute_result"
    }
   ],
   "source": [
    "m.pssm"
   ]
  },
  {
   "cell_type": "markdown",
   "metadata": {},
   "source": [
    "We want to avoid the -inf values in our matrix, as mathematical operations break down for infinite values. To avoid this problem, we can add \"pseudocounts\" -- small numbers we add for each position in the PWM to avoid taking the log of 0. We add the pseudocounts to our \"counts\" matrix and recompute the PWM & PSSM. "
   ]
  },
  {
   "cell_type": "code",
   "execution_count": 18,
   "metadata": {
    "collapsed": false,
    "jupyter": {
     "outputs_hidden": false
    }
   },
   "outputs": [
    {
     "name": "stdout",
     "output_type": "stream",
     "text": [
      "Original pseudocounts:\n",
      "{'A': 0.0, 'C': 0.0, 'G': 0.0, 'T': 0.0}\n",
      "Updated pseudocounts:\n",
      "{'A': 0.001, 'C': 0.001, 'G': 0.001, 'T': 0.001}\n"
     ]
    }
   ],
   "source": [
    "#get the original pseudocounts, they should be 0 \n",
    "print(\"Original pseudocounts:\")\n",
    "print(m.pseudocounts)\n",
    "\n",
    "#Update the pseudocounts to 0.001 \n",
    "m.pseudocounts['A']=0.001\n",
    "m.pseudocounts['C']=0.001\n",
    "m.pseudocounts['G']=0.001\n",
    "m.pseudocounts['T']=0.001\n",
    "\n",
    "print(\"Updated pseudocounts:\")\n",
    "print(m.pseudocounts)\n"
   ]
  },
  {
   "cell_type": "code",
   "execution_count": 19,
   "metadata": {
    "collapsed": false,
    "jupyter": {
     "outputs_hidden": false
    }
   },
   "outputs": [
    {
     "data": {
      "text/plain": [
       "{'A': [-10, -10, 2, -10, 2],\n",
       " 'C': [1, -10, -10, -10, -10],\n",
       " 'G': [1, 2, -10, -10, -10],\n",
       " 'T': [-10, -10, -10, 2, -10]}"
      ]
     },
     "execution_count": 19,
     "metadata": {},
     "output_type": "execute_result"
    }
   ],
   "source": [
    "#Re-calculate the PSSM, we should no longer observe values if -inf \n",
    "pssm=m.pssm \n",
    "for base in ['A','C','G','T']: \n",
    "    pssm[base]=[round(val) for val in pssm[base]]\n",
    "pssm"
   ]
  },
  {
   "cell_type": "code",
   "execution_count": 20,
   "metadata": {
    "collapsed": false,
    "jupyter": {
     "outputs_hidden": false
    }
   },
   "outputs": [
    {
     "name": "stdout",
     "output_type": "stream",
     "text": [
      "[[-10 -10   2 -10   2]\n",
      " [  1 -10 -10 -10 -10]\n",
      " [  1   2 -10 -10 -10]\n",
      " [-10 -10 -10   2 -10]]\n"
     ]
    },
    {
     "data": {
      "image/png": "[encoded data removed]",
      "text/plain": [
       "<Figure size 1440x144 with 1 Axes>"
      ]
     },
     "metadata": {
      "needs_background": "light"
     },
     "output_type": "display_data"
    }
   ],
   "source": [
    "#plot the PSSM \n",
    "pssm=np.asarray([pssm['A'],pssm['C'],pssm['G'],pssm['T']])\n",
    "print(pssm)\n",
    "plot_weights(pssm)"
   ]
  },
  {
   "cell_type": "markdown",
   "metadata": {},
   "source": [
    "## The inverse problem: Scanning a DNA sequence with a PSSM to identify good matches i.e. likely binding instances<a name='Scan' />\n",
    "\n",
    "The PSSM encodes the log odds of the probability of observing a specific nucleotide at each position across a collection of subsequences that a TF would bind to, relative to genomic background. \n",
    "\n",
    "Now, lets invert the problem.\n",
    "\n",
    "#### We are given a PSSM of a TF (of length 'k') and we are given a long sequence (say an entire chromosome). We want to find all the positions in the long sequence that are strong matches to the PSSM i.e. positions to which the TF is likely to bind.\n",
    "\n",
    "Formally, we can rephrase this statement as a concrete set of steps (an algorithm):\n",
    "\n",
    "We are given a PWM of a TF (of length 'k') and we are given a long sequence (say an entire chromosome) (of length 'N'). \n",
    "1. We scan this DNA sequence, one position at a time (i = 1 to N)\n",
    "2. At each position 'i', we obtain a subsequence of length 'k', starting at 'i' and ending at 'i+k-1'\n",
    "3. We score this subsequence in terms of how good of a match it is to the PSSM\n",
    "4. We decide some threshold on this score to decide if it is a good match to the PSSM or not\n",
    "5. Positions that pass the threshold are good matches (likely binding sites) of the TF.\n",
    "\n",
    "Steps (1) and (2) are obvious. \n",
    "\n",
    "### Computing the match score of a subsequence \n",
    "\n",
    "How do we perform Step (3) i.e. how do we obtain a match score for a sequence of length 'k' to a PSSM of length 'k'.\n",
    "\n",
    "We simply sum the log odds scores of each of the nucleotides observed in the sequence at each position.\n",
    "\n",
    "Lets say our sequence was CGATA and we wanted to score this sequence relative to the PSSM of length 5 we obtained above. \n",
    "Position 1 in the sequence is a C. Looking up the log odds of C (row 2) in position 1 (col 1) of the PSSM we get a score of 1\n",
    "\n",
    "Position 2 in the sequence is a G. Looking up the log odds of G (row 3) in position 2 (col 2) of the PSSM we get a score of 2\n",
    "\n",
    "Position 3 in the sequence is a A. Looking up the log odds of A (row 1) in position 3 (col 3) of the PSSM we get a score of 2\n",
    "\n",
    "Position 4 in the sequence is a T. Looking up the log odds of A (row 1) in position 4 (col 4) of the PSSM we get a score of 2\n",
    "\n",
    "Position 5 in the sequence is a A. Looking up the log odds of A (row 1) in position 5 (col 5) of the PSSM we get a score of 2\n",
    "\n",
    "Match score = 1+2+2+2+2 = 9\n",
    "\n",
    "This is a high positive score! Which means CGATA has a greater odds of matching the PWM than the background of the genome.\n",
    "\n",
    "So CGATA must be a good match to the PSSM. If you visually cross check with the PWM or PSSM logo you will notice that CGATA is infact a good match.\n"
   ]
  },
  {
   "cell_type": "markdown",
   "metadata": {},
   "source": [
    "#### Question: \n",
    "\n",
    "Calculate the score for CGGGG. Is it a good match to the PSSM?"
   ]
  },
  {
   "cell_type": "markdown",
   "metadata": {},
   "source": [
    "## Motif scanning with Biopython <a name='Biopython' />"
   ]
  },
  {
   "cell_type": "markdown",
   "metadata": {},
   "source": [
    "Going back to the five steps above, how can we write a program to scan a longer sequence with the PSSM to obtain a row of match scores for each position in the sequence? We have outlined the way an algorithm could work in the Appendix at the end of this class, but we will not be covering these steps in class. Biopython, however has a built-in functionality for motif scanning. To perform the motif scanning, we can simply run the following commands in Biopython: "
   ]
  },
  {
   "cell_type": "code",
   "execution_count": 21,
   "metadata": {
    "collapsed": false,
    "jupyter": {
     "outputs_hidden": false
    }
   },
   "outputs": [
    {
     "name": "stdout",
     "output_type": "stream",
     "text": [
      "Position 3: score = -14.937\n",
      "Position -12: score = -49.836\n",
      "Position 4: score = -14.937\n",
      "Position -11: score = -25.904\n",
      "Position 5: score = -49.836\n",
      "Position -10: score = -26.903\n",
      "Position 6: score = -37.870\n",
      "Position -9: score = -14.937\n",
      "Position 7: score = -49.836\n",
      "Position -8: score = -2.971\n",
      "Position 8: score = -37.870\n",
      "Position -7: score = -49.836\n",
      "Position 9: score = -38.870\n",
      "Position -6: score = -49.836\n",
      "Position 10: score = 8.995\n",
      "Position -5: score = -49.836\n",
      "Position 11: score = -26.903\n",
      "Position -4: score = -25.904\n"
     ]
    }
   ],
   "source": [
    "from Bio.Seq import Seq\n",
    "sequence=\"NNGCATTACCGATAA\" ## We pad the sequence with NN so that the motif can be centered at position 0 in the \n",
    "                           ## original sequence without sliding off the edge of the sequence. i.e. the PWM is scanned \n",
    "                           ## against NNGCA. \n",
    "for position, score in m.pssm.search(sequence, threshold=-100):\n",
    "    print(\"Position %d: score = %5.3f\" % (position+1, score))"
   ]
  },
  {
   "cell_type": "markdown",
   "metadata": {},
   "source": [
    "The negative positions refer to instances of the motif found on the reverse strand of the test sequence, and follow the Python convention on negative indices. You can also calculate the scores at all positions along the sequence: "
   ]
  },
  {
   "cell_type": "code",
   "execution_count": 22,
   "metadata": {
    "collapsed": false,
    "jupyter": {
     "outputs_hidden": false
    }
   },
   "outputs": [
    {
     "data": {
      "text/plain": [
       "array([       nan,        nan, -14.937336, -14.937336, -49.836132,\n",
       "       -37.869987, -49.836132, -37.869987, -38.869625,   8.994954,\n",
       "       -26.90348 ], dtype=float32)"
      ]
     },
     "execution_count": 22,
     "metadata": {},
     "output_type": "execute_result"
    }
   ],
   "source": [
    "m.pssm.calculate(sequence)"
   ]
  },
  {
   "cell_type": "markdown",
   "metadata": {},
   "source": [
    "In general, this is the fastest way to calculate PSSM scores. The scores returned by pssm.calculate are for the forward strand only. To obtain the scores on the reverse strand, you can take the reverse complement of the PSSM: "
   ]
  },
  {
   "cell_type": "code",
   "execution_count": 23,
   "metadata": {
    "collapsed": false,
    "jupyter": {
     "outputs_hidden": false
    }
   },
   "outputs": [
    {
     "data": {
      "text/plain": [
       "array([        nan,         nan, -49.836132 , -25.903841 , -26.90348  ,\n",
       "       -14.937336 ,  -2.9711912, -49.836132 , -49.836132 , -49.836132 ,\n",
       "       -25.903841 ], dtype=float32)"
      ]
     },
     "execution_count": 23,
     "metadata": {},
     "output_type": "execute_result"
    }
   ],
   "source": [
    "rpssm=m.pssm.reverse_complement()\n",
    "rpssm.calculate(sequence)"
   ]
  },
  {
   "cell_type": "markdown",
   "metadata": {},
   "source": [
    "## How do we map genome-wide transcription factor binding using ChIP-seq experiments ? <a name='ChIPseq' />"
   ]
  },
  {
   "cell_type": "markdown",
   "metadata": {},
   "source": [
    "ChIP-sequencing, also known as ChIP-seq, is a method used to analyze protein interactions with DNA. ChIP-seq combines a technique known as chromatin immunoprecipitation (ChIP) with massively parallel DNA sequencing to identify the binding sites of DNA-associated proteins. It can be used to map global binding sites precisely for any protein of interest.\n",
    "\n",
    "ChIP is a powerful method to selectively enrich for DNA sequences bound by a particular protein in living cells. First, formaldehyde is used to cross-link (covalent bond) all proteins bound to DNA i.e. the proteins are not stuck to the DNA. The DNA is then sheared into tiny fragments, some of which are bound to the protein and most are not. An antibody targeting the protein is then used to pull down (enrich for) the fragments bound by the protein. This is called <b>chromatin immunoprecipitation (or ChIP)</b>. All the other DNA fragments are washed away. The protein is then unlinked from the bound DNA fragments and washed away.\n",
    "\n",
    "Hence, the DNA obtained from ChIP is mainly enriched for bound DNA fragments. All the resulting ChIP-DNA fragments are sequenced simultaneously using a high-throughput sequencer.\n",
    "\n",
    "The sequencing reads are then mapped to a reference genome using a short-read mapper such as Bowtie.\n",
    "\n",
    "Regions with a large number of reads mapping to them are likely binding sites of the protein.\n",
    "\n",
    "For any ChIP-seq experiment, a corresponding <b>control experiment</b> is performed, where the exact same procedure is followed as above except the antibody is not used to pull down the protein. So the DNA fragments in the control experiment are just sampled non-specifically from the genome. But this experiment allows us to observe any biases that may occur in terms of sampling reads at random. In fact, it has been observed that certain regions of the genome tend to be more easily sheared and sequenced than others. It is important to correct the ChIP-seq signal with the control to avoid false positives binding site positions."
   ]
  },
  {
   "cell_type": "code",
   "execution_count": 24,
   "metadata": {
    "collapsed": false,
    "jupyter": {
     "outputs_hidden": false
    }
   },
   "outputs": [
    {
     "data": {
      "text/html": [
       "<iframe src=\"https://drive.google.com/file/d/0B_ssVVyXv8ZSSkhvVUlYc01zOGc/preview\" width=\"1000\" height=\"480\"></iframe>"
      ],
      "text/plain": [
       "<IPython.core.display.HTML object>"
      ]
     },
     "execution_count": 24,
     "metadata": {},
     "output_type": "execute_result"
    }
   ],
   "source": [
    "from IPython.display import HTML\n",
    "HTML('<iframe src=\"https://drive.google.com/file/d/0B_ssVVyXv8ZSSkhvVUlYc01zOGc/preview\" width=\"1000\" height=\"480\"></iframe>')"
   ]
  },
  {
   "cell_type": "markdown",
   "metadata": {},
   "source": [
    "\n",
    "We obtain four types of outputs from a ChIP-seq experiment\n",
    "\n",
    "* <b>Genome-wide count coverage tracks for ChIP and control</b>: which counts the number of ChIP-fragments and control experiment fragments overlapping each position in the genome, respectively. \n",
    "\n",
    "* <b>A peaks track with statistically significant regions of signal enrichment</b>: To identify high confidence binding sites, the coverage track is then analyzed using a statistical model that compares the observed ChIP-seq read counts at each position to the control read counts at the same position (adjusted for differences in total number of reads).\n",
    "\n",
    "* <b>Genome-wide normalized fold-enrichment coverage track</b>: which is similar to the count coverage track. But instead of raw counts at each position, it has the fold-enrichment of ChIP-seq counts relative to control counts\n",
    "\n",
    "\n",
    "* <b>Genome-wide -log10(p-value) coverage track</b>: which is similar to the count coverage track. But instead of raw counts at each position, it has the -log10(p-value) of statistical significance of ChIP-seq counts relative to control counts"
   ]
  },
  {
   "cell_type": "markdown",
   "metadata": {},
   "source": [
    "\n",
    "<b>Question:</b> If I had 10,000 sequencing reads from a ChIP-seq experiment and a genome of size 1000 bp, how many reads should I expect by chance if I uniformly scattered the reads along the genome?\n",
    "\n",
    "The ChIP-seq signal at position in the genome is computed as the fold-enrichment i.e. ratio of observed ChIP-seq counts to control counts. This is also referred to as the *effect-size* of signal.\n",
    "\n",
    "Further, we use a statistical null model (based on a count based random distribution called the Poisson distribution) to compute a *p-value* for the observed count at each position i.e. what is the probability that the counts >= the observed value could have just happened by chance.\n",
    "\n",
    "We then use multiple hypothesis testing correction using the Benjamini Hochberg method to obtain adjusted *p*-values. We use a threshold e.g. 0.05 on the adjusted p-values to identify genomic locations with statistically significant signal. These are the likely binding sites of the transcription factor!"
   ]
  },
  {
   "cell_type": "markdown",
   "metadata": {},
   "source": [
    "## Visualizing ChIP-seq data in the genome browser <a name='ChipseqBrowser' />"
   ]
  },
  {
   "cell_type": "markdown",
   "metadata": {},
   "source": [
    "Lets visualize ChIP-seq data for a transcription factor called CTCF in a lymphoblastoid cell-line called GM12878.\n",
    "\n",
    "WashU Epigenome browser session: http://epigenomegateway.wustl.edu/browser/?genome=hg19&session=ddNxKsyNNX&statusId=1299889156"
   ]
  },
  {
   "cell_type": "markdown",
   "metadata": {},
   "source": [
    "## APPENDIX"
   ]
  },
  {
   "cell_type": "markdown",
   "metadata": {},
   "source": [
    "### One-hot Encoding\n",
    "\n",
    "Going back to the five steps above, how can we write a program to scan a longer sequence with the PSSM to obtain a row of match scores for each position in the sequence?\n",
    "\n",
    "To do this efficiently, we will use a slightly different representation for the DNA sequence called a 'one-hot-encoding'.\n",
    "\n",
    "<b>'One-hot-encoding'</b> is a process that transforms a sequence of nucleotides of length 'N' into a matrix of 1's and 0's with 4 rows (representing A,C,G and T) and 'N' columns (representing positions).\n",
    "\n",
    "In the graphic below, a colored square represents a '1', indicating the presence of the specified nucleotide at that position along the sequence. A blank square represents a '0', indicating the absence of the specified base at the position. \n",
    "![one-hot-encoding](images/10_one_hot.png)"
   ]
  },
  {
   "cell_type": "code",
   "execution_count": 25,
   "metadata": {
    "collapsed": false,
    "jupyter": {
     "outputs_hidden": false
    }
   },
   "outputs": [
    {
     "data": {
      "text/plain": [
       "array([[0, 0, 0, 0, 1, 0, 0, 1, 0, 0, 0, 1, 0, 1, 1],\n",
       "       [0, 0, 0, 1, 0, 0, 0, 0, 1, 1, 0, 0, 0, 0, 0],\n",
       "       [0, 0, 1, 0, 0, 0, 0, 0, 0, 0, 1, 0, 0, 0, 0],\n",
       "       [0, 0, 0, 0, 0, 1, 1, 0, 0, 0, 0, 0, 1, 0, 0]])"
      ]
     },
     "execution_count": 25,
     "metadata": {},
     "output_type": "execute_result"
    }
   ],
   "source": [
    "#we write a function to perform one-hot encoding. \n",
    "def one_hot_encode(sequence): \n",
    "    encoding_dict=dict() \n",
    "    encoding_dict['A']=[1,0,0,0]\n",
    "    encoding_dict['C']=[0,1,0,0]\n",
    "    encoding_dict['G']=[0,0,1,0]\n",
    "    encoding_dict['T']=[0,0,0,1]\n",
    "    encoding_dict['N']=[0,0,0,0]\n",
    "    encoded_sequence=[] \n",
    "    for base in sequence: \n",
    "        encoded_sequence.append(encoding_dict[base])\n",
    "    return np.array(encoded_sequence).transpose()\n",
    "\n",
    "#We now one-hot encode a DNA sequence \n",
    "sequence=\"NNGCATTACCGATAA\"\n",
    "encoded_sequence=one_hot_encode(sequence)\n",
    "encoded_sequence"
   ]
  },
  {
   "cell_type": "markdown",
   "metadata": {},
   "source": [
    "### The inner product\n",
    "We now scan the PSSM (length 5) across the entire sequence by aligning the PSSM with every subsequence of length 5 in the sequence starting at position 0 and computing the match score as we did above.\n",
    "\n",
    "Note that the match score for a subsequence is simply the sum of position-wise scores from the PSSM corresponding to each nucleotide in the subsequence.\n",
    "\n",
    "An efficient command to obtain this match score of a subsequence aligned to a PSSM is an <b>inner product</b> of the PSSM matrix with the 1-hot encoded matrix of the aligned subsequence. \n",
    "\n",
    "An inner product is simply a sum of the element-by-element multiplication of the values in the two matrices i.e. the PSSM matrix (4 rows, 5 columns) and the one-hot encoded subsequence (4 rows, 5 columns).\n",
    "\n",
    "An inner product is often represented mathematically as a < , > operator. E.g. if 'W' is the PSSM matrix and 'X' is the one-hot encoded subsequence, their inner-product is written as < W , X >\n",
    "\n",
    "![Convolution product](../Images/10_convolution3.png)\n",
    "\n",
    "#### Question:\n",
    "Can you explain how the inner product of the PSSM and the one-hot encoded sequence is equivalent to the sum of position-wise scores from the PSSM corresponding to each nucleotide in the subsequence.\n",
    "\n",
    "\n",
    "### Convolution operation\n",
    "\n",
    "There is also a built in operation known as the <b>'convolution'</b> that can perform a scanning inner-product of one short matrix (PSSM) against a longer matrix (one-hot encoded longer sequence). The convolution directly outputs the match scores at each position in the sequence.\n",
    "\n",
    "We can then simply restrict to positions with positive match scores (log-odds) as the positions that will be most likely bound by the TF.\n",
    "\n",
    "\n",
    "![Convolution formula](../Images/10_optimal_convolution_product.png)\n",
    "\n",
    "\n",
    "We can perfom the motif scan in Python by following the steps below:"
   ]
  },
  {
   "cell_type": "code",
   "execution_count": 26,
   "metadata": {
    "collapsed": false,
    "jupyter": {
     "outputs_hidden": false
    }
   },
   "outputs": [
    {
     "name": "stdout",
     "output_type": "stream",
     "text": [
      "Convolution product:[-10. -20. -18. -28. -15. -15. -50. -38. -50. -38. -39.   9. -27. -28.\n",
      " -18.]\n",
      "Motif starting position along the sequence:9\n"
     ]
    }
   ],
   "source": [
    "from scipy.signal import fftconvolve\n",
    "import math\n",
    "def scan_sequence(sequence,pssm): \n",
    "    convolution_product=fftconvolve(sequence[::-1,::-1],pssm,mode=\"same\")[::-1,::-1][1]\n",
    "    #get the starting position of the motif along the sequence \n",
    "    starting_pos=np.argmax(convolution_product)-math.floor(pssm.shape[1]/2)\n",
    "    return convolution_product,starting_pos\n",
    "\n",
    "convolution_product,starting_pos=scan_sequence(encoded_sequence,pssm)\n",
    "print(\"Convolution product:\"+str(convolution_product))\n",
    "print(\"Motif starting position along the sequence:\"+str(starting_pos))"
   ]
  },
  {
   "cell_type": "markdown",
   "metadata": {},
   "source": [
    "The best alignment is achieved by aligning the first base of the PWM to position 9 (0-indexed) in NNGCATTACCGATAA, \n",
    "at subsequence \"CGATA\""
   ]
  },
  {
   "cell_type": "code",
   "execution_count": null,
   "metadata": {},
   "outputs": [],
   "source": []
  }
 ],
 "metadata": {
  "anaconda-cloud": {},
  "kernelspec": {
   "display_name": "Python 3",
   "language": "python",
   "name": "python3"
  },
  "language_info": {
   "codemirror_mode": {
    "name": "ipython",
    "version": 3
   },
   "file_extension": ".py",
   "mimetype": "text/x-python",
   "name": "python",
   "nbconvert_exporter": "python",
   "pygments_lexer": "ipython3",
   "version": "3.7.10"
  }
 },
 "nbformat": 4,
 "nbformat_minor": 4
}
