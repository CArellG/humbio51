{
 "cells": [
  {
   "cell_type": "markdown",
   "metadata": {},
   "source": [
    "## Learning Goals\n",
    "* Introduction to ENCODE datasets \n",
    "* Extract sequences corresponding to promoter or enhancer regions for a gene from CHiP-seq data \n",
    "    * Mastery of bedtools command:  [\"intersectBed\"](http://bedtools.readthedocs.io/en/latest/content/tools/intersect.html) \n",
    "* Introduction to FASTQ and FASTA files\n",
    "     * Master of bedtools command: [\"getFastaFromBed\"](http://bedtools.readthedocs.io/en/latest/content/tools/getfasta.html)"
   ]
  },
  {
   "cell_type": "markdown",
   "metadata": {},
   "source": [
    "###  Linux command reference \n",
    "Link to [Unix Command Reference](../Unix_Basics.ipynb)"
   ]
  },
  {
   "cell_type": "markdown",
   "metadata": {},
   "source": [
    "## Working with [ENCODE](https://www.encodeproject.org/) data\n",
    "\n",
    "\n",
    "<img src=\"images/overview_2016-05May-17.png\" style=\"width: 60%; height: 60%\" align=\"center\"//>\n",
    "Promoter-like regions and enhancer-like regions are considered 'middle-level' data \n",
    "\n",
    "Promoter-like regions: \n",
    "<img src=\"images/Example.promoter.png\" style=\"width: 60%; height: 60%\" align=\"center\"//>\n",
    "\n",
    "Enhancer-like regions: \n",
    "<img src=\"images/Example.enhancerlike.png\" style=\"width: 60%; height: 60%\" align=\"center\"//>\n",
    "\n",
    "\n",
    "We will fetch a list of enhancer-like and promoter-like regions for the H1 embryonic stem cell line in humans (hg19). Select chromosome 1:1-10000000.  \n",
    "\n",
    "Use these links to fetch the regions of interest: \n",
    "\n",
    "[Promoters](http://zlab-annotations.umassmed.edu/promoters/#)\n",
    "Make sure your selections in the form match the values below: \n",
    "<img src=\"images/encode_promoter.png\",align=\"center\"//>\n",
    "\n",
    "[Enhancers](http://zlab-annotations.umassmed.edu/enhancers/) \n",
    "Make sure  your selections in the form match those below: \n",
    "<img src=\"images/encode_enhancer.png\",align=\"center\"//>\n",
    "\n",
    "\n",
    "Click on the \"Download\" link and save the zipped files in the same directory as this notebook. \n",
    "\n"
   ]
  },
  {
   "cell_type": "code",
   "execution_count": 1,
   "metadata": {
    "collapsed": false
   },
   "outputs": [
    {
     "name": "stdout",
     "output_type": "stream",
     "text": [
      "Archive:  20170417-184329-promoter-like-hg19-H3K4me3.v3.zip\n",
      " extracting: ENCSR000DRY_predictions.bed.gz  \n",
      "Archive:  20170417-192546-enhancer-like-hg19-H3K27ac.v3.zip\n",
      " extracting: E093_H3K27ac_predictions.bed.gz  \n",
      " extracting: ENCSR000ANP_predictions.bed.gz  \n",
      "20170417-184329-promoter-like-hg19-H3K4me3.v3.zip\n",
      "20170417-192546-enhancer-like-hg19-H3K27ac.v3.zip\n",
      "E093_H3K27ac_predictions.bed\n",
      "ENCSR000ANP_predictions.bed\n",
      "ENCSR000DRY_predictions.bed\n",
      "Extracting_Regulatory_Sequences.ipynb\n",
      "\u001b[0m\u001b[01;34mimages\u001b[0m/\n"
     ]
    }
   ],
   "source": [
    "## Extract the data you have downloaded. \n",
    "!unzip *promoter*zip \n",
    "!unzip *enhancer*zip \n",
    "!gzip -d *gz \n",
    "%ls\n",
    "\n",
    "## Use the \"more\" command to examine the contents of the promoter file  \n",
    "%more ENCSR000DRY_predictions.bed \n",
    "\n",
    "## Look at the first 10 lines of the enhancer file. \n",
    "## YOUR CODE HERE \n",
    "\n",
    "\n",
    "## the naming conventions of the files are not helpful. Let's rename the files to indicate which annotates \n",
    "## promoter regions and which annotates enhancer regions \n",
    "!mv ENCSR000DRY_predictions.bed ENCSR000DRY_predictions_promoter.bed \n",
    "!mv ENCSR000ANP_predictions.bed ENCSR000ANP_predictions_enhancer.bed"
   ]
  },
  {
   "cell_type": "markdown",
   "metadata": {},
   "source": [
    "#### What file format is the data in? What is contained in each of the first five columns? \n",
    "Your answer: \n",
    "#### Bonus question -- can you explain the meaning of the remaining columns in the file (column 6 and up)? \n",
    "Your answer:"
   ]
  },
  {
   "cell_type": "markdown",
   "metadata": {},
   "source": [
    "## Bedtools Intersect \n",
    "Prior studies have shown that the gene [*LIN28A*](http://www.genecards.org/cgi-bin/carddisp.pl?gene=LIN28A) is associated with cell differentiation, and you hypothesize that this gene is likely to be expressed in the H1 cell line, as these are embryonic cells that are undergoing differentiation.  Use th LIN28A Gene Cards link above to find the chromosome and position of the LIN28A gene.  Fill in the chromosome and the starting and ending coordinates of LIN28A below:\n"
   ]
  },
  {
   "cell_type": "code",
   "execution_count": 2,
   "metadata": {
    "collapsed": true
   },
   "outputs": [],
   "source": [
    "chrom_lin28a=\"\" #replace \"\" with the chromosome of the gene \n",
    "startpos_lin28a=None #replace None with the gene start position \n",
    "endpos_lin28a=None #replace None with the gene end position\n",
    "\n",
    "##ANSWER -- REMOVE BEFORE GIVING TO STUDENTS ## \n",
    "chrom_lin28a=\"chr1\" #replace \"\" with the chromosome of the gene \n",
    "startpos_lin28a=26410778 #replace None with the gene start position \n",
    "endpos_lin28a=26429728 #replace None with the gene end position\n"
   ]
  },
  {
   "cell_type": "markdown",
   "metadata": {},
   "source": [
    "We will use the bedtools intersect command to find the H1  promoter and enhancer peaks that are within 50kb of the LIN28A gene. "
   ]
  },
  {
   "cell_type": "code",
   "execution_count": 3,
   "metadata": {
    "collapsed": false
   },
   "outputs": [
    {
     "name": "stdout",
     "output_type": "stream",
     "text": [
      "\r\n",
      "Tool:    bedtools intersect (aka intersectBed)\r\n",
      "Version: v2.26.0\r\n",
      "Summary: Report overlaps between two feature files.\r\n",
      "\r\n",
      "Usage:   bedtools intersect [OPTIONS] -a <bed/gff/vcf/bam> -b <bed/gff/vcf/bam>\r\n",
      "\r\n",
      "\tNote: -b may be followed with multiple databases and/or \r\n",
      "\twildcard (*) character(s). \r\n",
      "Options: \r\n",
      "\t-wa\tWrite the original entry in A for each overlap.\r\n",
      "\r\n",
      "\t-wb\tWrite the original entry in B for each overlap.\r\n",
      "\t\t- Useful for knowing _what_ A overlaps. Restricted by -f and -r.\r\n",
      "\r\n",
      "\t-loj\tPerform a \"left outer join\". That is, for each feature in A\r\n",
      "\t\treport each overlap with B.  If no overlaps are found, \r\n",
      "\t\treport a NULL feature for B.\r\n",
      "\r\n",
      "\t-wo\tWrite the original A and B entries plus the number of base\r\n",
      "\t\tpairs of overlap between the two features.\r\n",
      "\t\t- Overlaps restricted by -f and -r.\r\n",
      "\t\t  Only A features with overlap are reported.\r\n",
      "\r\n",
      "\t-wao\tWrite the original A and B entries plus the number of base\r\n",
      "\t\tpairs of overlap between the two features.\r\n",
      "\t\t- Overlapping features restricted by -f and -r.\r\n",
      "\t\t  However, A features w/o overlap are also reported\r\n",
      "\t\t  with a NULL B feature and overlap = 0.\r\n",
      "\r\n",
      "\t-u\tWrite the original A entry _once_ if _any_ overlaps found in B.\r\n",
      "\t\t- In other words, just report the fact >=1 hit was found.\r\n",
      "\t\t- Overlaps restricted by -f and -r.\r\n",
      "\r\n",
      "\t-c\tFor each entry in A, report the number of overlaps with B.\r\n",
      "\t\t- Reports 0 for A entries that have no overlap with B.\r\n",
      "\t\t- Overlaps restricted by -f and -r.\r\n",
      "\r\n",
      "\t-v\tOnly report those entries in A that have _no overlaps_ with B.\r\n",
      "\t\t- Similar to \"grep -v\" (an homage).\r\n",
      "\r\n",
      "\t-ubam\tWrite uncompressed BAM output. Default writes compressed BAM.\r\n",
      "\r\n",
      "\t-s\tRequire same strandedness.  That is, only report hits in B\r\n",
      "\t\tthat overlap A on the _same_ strand.\r\n",
      "\t\t- By default, overlaps are reported without respect to strand.\r\n",
      "\r\n",
      "\t-S\tRequire different strandedness.  That is, only report hits in B\r\n",
      "\t\tthat overlap A on the _opposite_ strand.\r\n",
      "\t\t- By default, overlaps are reported without respect to strand.\r\n",
      "\r\n",
      "\t-f\tMinimum overlap required as a fraction of A.\r\n",
      "\t\t- Default is 1E-9 (i.e., 1bp).\r\n",
      "\t\t- FLOAT (e.g. 0.50)\r\n",
      "\r\n",
      "\t-F\tMinimum overlap required as a fraction of B.\r\n",
      "\t\t- Default is 1E-9 (i.e., 1bp).\r\n",
      "\t\t- FLOAT (e.g. 0.50)\r\n",
      "\r\n",
      "\t-r\tRequire that the fraction overlap be reciprocal for A AND B.\r\n",
      "\t\t- In other words, if -f is 0.90 and -r is used, this requires\r\n",
      "\t\t  that B overlap 90% of A and A _also_ overlaps 90% of B.\r\n",
      "\r\n",
      "\t-e\tRequire that the minimum fraction be satisfied for A OR B.\r\n",
      "\t\t- In other words, if -e is used with -f 0.90 and -F 0.10 this requires\r\n",
      "\t\t  that either 90% of A is covered OR 10% of  B is covered.\r\n",
      "\t\t  Without -e, both fractions would have to be satisfied.\r\n",
      "\r\n",
      "\t-split\tTreat \"split\" BAM or BED12 entries as distinct BED intervals.\r\n",
      "\r\n",
      "\t-g\tProvide a genome file to enforce consistent chromosome sort order\r\n",
      "\t\tacross input files. Only applies when used with -sorted option.\r\n",
      "\r\n",
      "\t-nonamecheck\tFor sorted data, don't throw an error if the file has different naming conventions\r\n",
      "\t\t\tfor the same chromosome. ex. \"chr1\" vs \"chr01\".\r\n",
      "\r\n",
      "\t-sorted\tUse the \"chromsweep\" algorithm for sorted (-k1,1 -k2,2n) input.\r\n",
      "\r\n",
      "\t-names\tWhen using multiple databases, provide an alias for each that\r\n",
      "\t\twill appear instead of a fileId when also printing the DB record.\r\n",
      "\r\n",
      "\t-filenames\tWhen using multiple databases, show each complete filename\r\n",
      "\t\t\tinstead of a fileId when also printing the DB record.\r\n",
      "\r\n",
      "\t-sortout\tWhen using multiple databases, sort the output DB hits\r\n",
      "\t\t\tfor each record.\r\n",
      "\r\n",
      "\t-bed\tIf using BAM input, write output as BED.\r\n",
      "\r\n",
      "\t-header\tPrint the header from the A file prior to results.\r\n",
      "\r\n",
      "\t-nobuf\tDisable buffered output. Using this option will cause each line\r\n",
      "\t\tof output to be printed as it is generated, rather than saved\r\n",
      "\t\tin a buffer. This will make printing large output files \r\n",
      "\t\tnoticeably slower, but can be useful in conjunction with\r\n",
      "\t\tother software tools and scripts that need to process one\r\n",
      "\t\tline of bedtools output at a time.\r\n",
      "\r\n",
      "\t-iobuf\tSpecify amount of memory to use for input buffer.\r\n",
      "\t\tTakes an integer argument. Optional suffixes K/M/G supported.\r\n",
      "\t\tNote: currently has no effect with compressed files.\r\n",
      "\r\n",
      "Notes: \r\n",
      "\t(1) When a BAM file is used for the A file, the alignment is retained if overlaps exist,\r\n",
      "\tand exlcuded if an overlap cannot be found.  If multiple overlaps exist, they are not\r\n",
      "\treported, as we are only testing for one or more overlaps.\r\n",
      "\r\n"
     ]
    }
   ],
   "source": [
    "## use the -help flag to learn about the inputs and outputs of the bedtools intersect command \n",
    "!bedtools intersect --help"
   ]
  },
  {
   "cell_type": "code",
   "execution_count": 4,
   "metadata": {
    "collapsed": true
   },
   "outputs": [],
   "source": [
    "## Aha! You need to store LIN28A's coordinates in a bed file in order to run the intersect command \n",
    "## Execute this code block to generate a bed file containing the LIN28A coordinates, including regions 50k \n",
    "## upstream & downstream of the gene \n",
    "\n",
    "#add 50kb to the start and end coordinates \n",
    "startpos_lin28a-=50000\n",
    "endpos_lin28a+=50000\n",
    "\n",
    "outf=open(\"LIN28A.coords.bed\",'w')\n",
    "outf.write('\\t'.join([str(i) for i in [chrom_lin28a,startpos_lin28a,endpos_lin28a,'lin28a']])+'\\n')\n",
    "outf.close() "
   ]
  },
  {
   "cell_type": "code",
   "execution_count": 5,
   "metadata": {
    "collapsed": false
   },
   "outputs": [
    {
     "name": "stdout",
     "output_type": "stream",
     "text": [
      "chr1\t26436688\t26441779\tProximal-Prediction-797\t1\t.\t26436688\t26439727\t255,0,0\n",
      "chr1\t26436688\t26441779\tProximal-Prediction-797\t1\t.\t26436688\t26439727\t255,0,0\n"
     ]
    }
   ],
   "source": [
    "## Now you can intersect the promoter and enhancer peak files with the LIN28A coordinates \n",
    "\n",
    "## promoter peaks \n",
    "!bedtools intersect -wa -a *promoter.bed -b LIN28A.coords.bed \n",
    "\n",
    "## you can use the intersectBed shortcut, it will do the same thing \n",
    "!intersectBed -wa -a *promoter.bed -b LIN28A.coords.bed"
   ]
  },
  {
   "cell_type": "code",
   "execution_count": 6,
   "metadata": {
    "collapsed": false
   },
   "outputs": [
    {
     "name": "stdout",
     "output_type": "stream",
     "text": [
      "chr1\t26437411\t26438670\tProximal-Prediction-3068\t1\t.\t26438332\t26438670\t255,0,0\n",
      "chr1\t26437411\t26438670\tProximal-Prediction-3068\t1\t.\t26438332\t26438670\t255,0,0\n"
     ]
    }
   ],
   "source": [
    "## enhancer peaks \n",
    "!bedtools intersect -wa -a *enhancer.bed -b LIN28A.coords.bed\n",
    "\n",
    "## and again with the shortcut command: \n",
    "!intersectBed -wa -a *enhancer.bed -b LIN28A.coords.bed"
   ]
  },
  {
   "cell_type": "markdown",
   "metadata": {},
   "source": [
    "You should observe a single promoter peak and a single enhancer peak located in the vicinity of the LIN28A gene. \n",
    "Now, we want to figure out what the underlying DNA sequence is. "
   ]
  },
  {
   "cell_type": "markdown",
   "metadata": {},
   "source": [
    "## Introduction to FASTA and FASTQ data formats"
   ]
  },
  {
   "cell_type": "markdown",
   "metadata": {},
   "source": [
    "You have already seen data in the FASTA format. The first line contains the sequence label, preceded by \">\". The second line contains the actual sequence bases (A,C,G,T): \n",
    "\n",
    "**>FORJUSP02AJWD1** \n",
    "\n",
    "**CCGTCAATTCATTTAAGTTTTAACCTT**\n",
    "\n",
    "FASTQ format takes this a step further by including sequence quality information  in ASCII characters. \n",
    "<img src=\"images/fastq_fig.jpg\",align=\"center\"//>\n",
    "\n"
   ]
  },
  {
   "cell_type": "code",
   "execution_count": 7,
   "metadata": {
    "collapsed": false
   },
   "outputs": [
    {
     "name": "stdout",
     "output_type": "stream",
     "text": [
      "[32, 25, 24, 24, 31, 25, 25, 30, 30, 31, 31, 25, 25, 37, 37, 32, 32]\n"
     ]
    }
   ],
   "source": [
    "## You can convert the ASCII-encoded quality values to numeric Q scores with the 'ord' function. You must subtract 33\n",
    "## from the converted value to obtain a Q score\n",
    "\n",
    "quality_ascii='A:99@::??@@::FFAA'\n",
    "numerical=[ord(c)-33 for c in quality_ascii]\n",
    "print(numerical)"
   ]
  },
  {
   "cell_type": "markdown",
   "metadata": {},
   "source": [
    "## Bedtools getFastaFromBed"
   ]
  },
  {
   "cell_type": "markdown",
   "metadata": {},
   "source": [
    "Bedtools provides the **getFastaFromBed** command to extract the FASTA sequence from a specific set of chromosome coordinates. "
   ]
  },
  {
   "cell_type": "code",
   "execution_count": 8,
   "metadata": {
    "collapsed": false
   },
   "outputs": [
    {
     "name": "stdout",
     "output_type": "stream",
     "text": [
      "\r\n",
      "Tool:    bedtools getfasta (aka fastaFromBed)\r\n",
      "Version: v2.26.0\r\n",
      "Summary: Extract DNA sequences from a fasta file based on feature coordinates.\r\n",
      "\r\n",
      "Usage:   bedtools getfasta [OPTIONS] -fi <fasta> -bed <bed/gff/vcf>\r\n",
      "\r\n",
      "Options: \r\n",
      "\t-fi\tInput FASTA file\r\n",
      "\t-bed\tBED/GFF/VCF file of ranges to extract from -fi\r\n",
      "\t-name\tUse the name field for the FASTA header\r\n",
      "\t-split\tgiven BED12 fmt., extract and concatenate the sequencesfrom the BED \"blocks\" (e.g., exons)\r\n",
      "\t-tab\tWrite output in TAB delimited format.\r\n",
      "\t\t- Default is FASTA format.\r\n",
      "\r\n",
      "\t-s\tForce strandedness. If the feature occupies the antisense,\r\n",
      "\t\tstrand, the sequence will be reverse complemented.\r\n",
      "\t\t- By default, strand information is ignored.\r\n",
      "\r\n",
      "\t-fullHeader\tUse full fasta header.\r\n",
      "\t\t- By default, only the word before the first space or tab is used.\r\n",
      "\r\n"
     ]
    }
   ],
   "source": [
    "!bedtools getfasta "
   ]
  },
  {
   "cell_type": "markdown",
   "metadata": {},
   "source": [
    "Alternatively, you can use the shortcut for the command: "
   ]
  },
  {
   "cell_type": "code",
   "execution_count": 9,
   "metadata": {
    "collapsed": false
   },
   "outputs": [
    {
     "name": "stdout",
     "output_type": "stream",
     "text": [
      "\r\n",
      "Tool:    bedtools getfasta (aka fastaFromBed)\r\n",
      "Version: v2.26.0\r\n",
      "Summary: Extract DNA sequences from a fasta file based on feature coordinates.\r\n",
      "\r\n",
      "Usage:   bedtools getfasta [OPTIONS] -fi <fasta> -bed <bed/gff/vcf>\r\n",
      "\r\n",
      "Options: \r\n",
      "\t-fi\tInput FASTA file\r\n",
      "\t-bed\tBED/GFF/VCF file of ranges to extract from -fi\r\n",
      "\t-name\tUse the name field for the FASTA header\r\n",
      "\t-split\tgiven BED12 fmt., extract and concatenate the sequencesfrom the BED \"blocks\" (e.g., exons)\r\n",
      "\t-tab\tWrite output in TAB delimited format.\r\n",
      "\t\t- Default is FASTA format.\r\n",
      "\r\n",
      "\t-s\tForce strandedness. If the feature occupies the antisense,\r\n",
      "\t\tstrand, the sequence will be reverse complemented.\r\n",
      "\t\t- By default, strand information is ignored.\r\n",
      "\r\n",
      "\t-fullHeader\tUse full fasta header.\r\n",
      "\t\t- By default, only the word before the first space or tab is used.\r\n",
      "\r\n"
     ]
    }
   ],
   "source": [
    "!fastaFromBed"
   ]
  },
  {
   "cell_type": "markdown",
   "metadata": {},
   "source": [
    "The command requires an input FASTA file, a BED file containing your regions of interest, and an output FASTA file name. The reference file in our case is the **h19.fa** containing all DNA bases in the hg19 version of the human genome. You can access this file here:  \n",
    "#TODO: Replace the nandi-specific path with the hg19.fa path on the class server \n",
    "```\n",
    "/mnt/data/annotations/by_release/hg19.GRCh37/hg19.genome.fa \n",
    "```"
   ]
  },
  {
   "cell_type": "code",
   "execution_count": 13,
   "metadata": {
    "collapsed": false
   },
   "outputs": [
    {
     "name": "stdout",
     "output_type": "stream",
     "text": [
      ">chr10\r\n",
      "NNNNNNNNNNNNNNNNNNNNNNNNNNNNNNNNNNNNNNNNNNNNNNNNNN\r\n",
      "NNNNNNNNNNNNNNNNNNNNNNNNNNNNNNNNNNNNNNNNNNNNNNNNNN\r\n",
      "NNNNNNNNNNNNNNNNNNNNNNNNNNNNNNNNNNNNNNNNNNNNNNNNNN\r\n",
      "NNNNNNNNNNNNNNNNNNNNNNNNNNNNNNNNNNNNNNNNNNNNNNNNNN\r\n",
      "NNNNNNNNNNNNNNNNNNNNNNNNNNNNNNNNNNNNNNNNNNNNNNNNNN\r\n",
      "NNNNNNNNNNNNNNNNNNNNNNNNNNNNNNNNNNNNNNNNNNNNNNNNNN\r\n",
      "NNNNNNNNNNNNNNNNNNNNNNNNNNNNNNNNNNNNNNNNNNNNNNNNNN\r\n",
      "NNNNNNNNNNNNNNNNNNNNNNNNNNNNNNNNNNNNNNNNNNNNNNNNNN\r\n",
      "NNNNNNNNNNNNNNNNNNNNNNNNNNNNNNNNNNNNNNNNNNNNNNNNNN\r\n",
      "cat: write error: Broken pipe\r\n"
     ]
    }
   ],
   "source": [
    "%cat  /mnt/data/annotations/by_release/hg19.GRCh37/hg19.genome.fa | head -n10"
   ]
  },
  {
   "cell_type": "markdown",
   "metadata": {},
   "source": [
    "We need to store our LIN28A enhancer peak and promoter peak in a bed file, we can pipe the output from **intersectBed** to a file. "
   ]
  },
  {
   "cell_type": "code",
   "execution_count": 14,
   "metadata": {
    "collapsed": true
   },
   "outputs": [],
   "source": [
    "## running intersectBed, like before, but this time we pipe the output to a new file \n",
    "!intersectBed -wa -a *promoter.bed -b LIN28A.coords.bed > LIN28A.peaks.bed \n",
    "!intersectBed -wa -a *enhancer.bed -b LIN28A.coords.bed >> LIN28A.peaks.bed \n",
    "\n",
    "##note the use of the \">>\" syntax instead of the \">\" syntax. \n",
    "## If your specified output file already exists, >> will append to the existing file rather than overwriting it. "
   ]
  },
  {
   "cell_type": "code",
   "execution_count": 15,
   "metadata": {
    "collapsed": false
   },
   "outputs": [
    {
     "name": "stdout",
     "output_type": "stream",
     "text": [
      "chr1\t26436688\t26441779\tProximal-Prediction-797\t1\t.\t26436688\t26439727\t255,0,0\r\n",
      "chr1\t26437411\t26438670\tProximal-Prediction-3068\t1\t.\t26438332\t26438670\t255,0,0\r\n"
     ]
    }
   ],
   "source": [
    "## check to see that the LIN28A.peakds.bed file is properly formatted \n",
    "%cat LIN28A.peaks.bed"
   ]
  },
  {
   "cell_type": "code",
   "execution_count": 16,
   "metadata": {
    "collapsed": false
   },
   "outputs": [],
   "source": [
    "## now extract the FASTA sequence for the two peaks \n",
    "!fastaFromBed -fi /mnt/data/annotations/by_release/hg19.GRCh37/hg19.genome.fa -bed LIN28A.peaks.bed -fo LIN28A.peaks.fasta "
   ]
  },
  {
   "cell_type": "code",
   "execution_count": 17,
   "metadata": {
    "collapsed": false
   },
   "outputs": [
    {
     "name": "stdout",
     "output_type": "stream",
     "text": [
      ">chr1:26436688-26441779\r\n",
      "GGATCAATAACCCACACAGGTAGTTAGCTGTCTACGCAGAGCCTTCTATATTTTCCCTCTACTTTTGAGGGCGGGAAATAAGTCTTGGCTGACACCAGTGTTTCCAGCAAACAGCTGAAGACTTGACACTTGGATGGCACTCAGGACAAAAATCTGAACAGATTACAGAACCGTTGTTGTTTTTTTTTTTTAAGGGGAGGGTGTGTTACACCAGGAATGGGTATTCAAGGTAGACACATCCCAAAACAGACACTTCAGTGAGAAGAGGCAGAGGTgtttcctcacctgtaaaaacaggataataaaacctactcttgtggggtttggttaggattaagcaagatcatttatataaagacctaacccagtgccagacTCTCGGGAGAAGGGGCATAAAGGACAGAAAATAAAATGAGTTGATCTTTGAGCACAGCGACAGGGATTTTTTGTACATCGTGCCTTACAGAGCGAGCGCTGGGAGGAGGAATCATCACCCTGCTGAGAAGTAATGGGTGCAGAATAAATCGAGTAAGAAGGAATGGACTTTTCTGGCGGATGCTTACTGATCTAACAACTGGATGACTGAGGAATGCGGTCCTAAGTGACCCCGGGCTGGCTGTGGGGCCAACAGCGTGCGGGATCTGACTAACAGCGTGTGGCAGCCGAGCGACTGCAGCAGCGGCGGGGACCCCATTGACTGTCCAGCCCCGAGAGCGGCAGGAGCGCGGTGGATCCTGGCTCGGACCAAGGCCTCTCCCCTGCGCCGACTGCAGACCAACCCTCCACCAGGAGCCTCGCGGGGGGGCGCCGTGGGCACCGCAGCCAGGTGCAGGCGCCTCCGCGCCCTCACTCCCCACGCCGAGGAGGTGGCCCTGGCTCCCTGCGGCCGCAGCCGGGGAACAATGAGGCGCCGGCCTCTTTAAGGGAGATACCACCGCGCCGGCGGGGCAGGGGACGGCATCCTCCCAGATGATCGCACCCAGCCCCGcgccgccgccgccgccgccgtctccgcAACTGCACCGCCCGCAAACATGGCTCAGTGACTCGGAGAAAAGCTGCAGTCTCCCTCCCGGCGGGGCGGACGCCAGGCCTCCTTGGTCGGGCCGCACCTCCCCGCAGGCCCGCCAAAGAGCACCGCGCCCCGCAGGCACCCGAGACCCGCGCGGAAGATGCACCGGGCGTTCCACCCCAGCGAGCCCCGCACCCCAGCCCGCAGCTCGGTAGGTCGGAAGGGGGCGGGTAGAGGGAGGGGAGGCCGCGGCCGGGCGCGCGCAGCCCCAGGCCCGGACCTGCCGCTGCAGACGGTCCCCGGGGCCGCGGGCCCTGAGCGCCCGCTGCGGCTGGAGGGTGGCCGAGCCCCGGCGTGGCGTGGCCTCGCGGTTCCCGAGCCCGGCCACCCCTGCGGGGAGCAGCACCAGTGGTGCGCTCCGGAGCGCGCACACCTCCGACGACTCCCGGCTCTGCAAATCCTCGAGAGAGGGAGGAGGCGAGCGGAGCGCCGGCCGCGCGCCTCGTCGGTGGCGCGGAACGTCCCGGCTCGCGCTACGGAAAGCCGGAGGGGGGCGGGGCCGTCGGCGTAAGGGGGTGTGTCCGCGCGCACCACGGGGGCGCGCGCCGGCTGCTGACTGGAGGCGGCGGCAGCGGAGGCGCGAGCTGCCCGATAATGGCGGCCTGCAGAGCCCATGAGAGGGAGAAGCGGCAGCGTCTACCCTGAGGTAAATCTGGCCTTTCGGCGTGGCGGAGAGGTCTTGCTGCAGAGCCGATGGCCCTGCATGTGCCTCCCTCCCTGGGAGGCTTGTCACAGACGTGTCAGCGGAGTCATCCTGGGGAAGGCCCTGCGCTCCTCAGGCCACCGACCCCAGTCGCGGCCTCCTCTCATACCGGGGCCACCTCCCCCCGGCCCTCAGCCCCCAGCCCCGAGGAGTTGAGGCAACTGCAGGGCTGGCTCCTCAGAGCGAAGGGGCTCAGGAGGCTCCCCTCCGGGCTTCATCTGAGCACGGCCGAGGAGGGGGAGGGCCTGACACTTGGCCAATGAGCGCGGCCTGAGCCGCCGCGTCGGGCAACACCTCTGGCCGCGACTGGCCCTTCCCGGGCGCCGGCAGGTGTCTGGCCTGGCCGGCTCGCGTCCCAGCGCCTGGTTAGAGCAGCGGGAGCGAGGGCCCGCCACTTTCGGTCGAAAGTCACTTAGGTTCGCATCGGATGCATCATTGGATCCGGGATCCCACGGGTTTCATAAACACCTCTCTCCTCCCTATTCAGGAAGGTGCTCTTCCCCATGGGGACTGTACCAGGCTGGAGAGGACATGGCACTGCTTCAGAGACACGAACCACCTTGAGTGGATGTGATTGGCGATCCCCGTAGAGCAGGAAAGCTCGTCTGCTGTGCAGCCGGCGCAGAGGATTCTGTGGCAGGAAATTAGACACTAGGAAATTCAGTAGCGATTTGAAGGGTGGGTGTCCAGTTAGAGGAAGTGGGACTGAACACAATCTCAGAAGTCATTTCTTTTTATTAAATCTATCCTGTAGACTTAAAGCAGTGGATCCCAACTTCTCAGGCTCTAGGGTCAGTAGCCTTTTGCTTCCCCAGCTGTACAGAATAAATATTGTACAATCTCAGGTTACTTTTCTAGCCCGTGGTCACAATCTACAAATGAGAATTCGTTCATGAAGTTGGTTATAATCTAGAAATTCTTTGGGCGCTGAGGAAGCCCACTTTAGACTTTCTCCATTCAACACATGAGCATTTCTGTGCAGGGCCTTTGCCCTCGCCTTTAAACCGTTCAGTAAGTTGAATTCCCAAGAACTCTGTCAGAGAGCCCCTTGATATGCAGGATCTTTGTTGGCAAAAATGACCTAGAACTAAATAGATATTGTTTACTCCAGCTGTCTTATGACTAGGAAAAAGGAAACATAAAAATTTTAAAATAGCTATTGTTAAATGACTACAAAAAGGTAACTGTATTCTAAGTATCCAAGTAGCTTACTTTATTTTTAAGTAAATGTTTCTggccgggcgcggtggctcacgcccgtaatcccagcactttgggaggccgaggcgggcggatcacgaggtcaggtgatcgagaccatcctggctaacacagtgaaaccccgtctctactaaaaaatacaaaaaaaaatagccgggtgtggtggcaggcgcctatagtcccagctactcgggaggctgaggcaggagaatggcgtgaacctgggaggcggagcttgcagtgagccgagatcaagtcattgcactccagcctgggagacagagcgagagagcgagactccgtctaaaaaaaaaaaaaaaaaaaaagaaaCGTTTCTTTTCCACAAACTTTATTTTCATTATTGTGTAAGAAATAAGGAGATGACATAAGAGACAAAATTAAAATATGAATAGATAGAGTTTGGCCACTTACTTTTACATAATGAAAACAAACATTTTCAGTTCTATAAATGATTTGGTTCACTTTCAGGCCTTAAGCATAAGCCAGGTGTTTGTATTTCTAACTGTGAGGGGGTTTTGTTTTTGCTGTTTTATGACCATTATGTGTGTGTCAGCCTGAAGGAGAAGCTGGGATTTTGCTTGCTTGCTTGTTTTTTCCTGATCAGTAAATAAGAATGCTGAATTTTGGGGGTGTATTTTTAACAGTGACATTTTCAAGCAGTTCATATAAGAGacagcatactgtagtgcttcagatcgtggtcgtctgaggcagatggccgggtttcaaatcccaggtccaccagttactagctgttgaccttaggcgtttcatttaacctctccattatatagtttcatctataaaaagaccataatagtatctatctcatcagattattatgaggattaactgaatttaatattctaaagagcttaaaacagttcctgatacatggtaaatactacctgttagctttattgttACTATTCTTAAAATTAGATTTCCCCTAGGTATAGCAAATATCCTTCAAGCACTGCAGACAGTCAGACAGATGACAAGTAAATCATACATAAGAAGAAATACAAGCCAGTAGGTATACATAATTTCAACAGAGCACTTTGTTGATTTTTCCAGAAACCTCGACCTTGAAGATGGTGAGTAGCCAGCCAAAGTACGATCTAATACGGGAGGTAGGCCGAGGTAGTTACGGTGTTGTGTATGAAGCAGTCATCAGAAAGACCTCTGCACGGGTGGCAGTGAAGAAAATTCGATGTCACGCACCTGAAAATGTTGAACTAGCCCTTCGTGAGTTCTGGGCACTAAGCAGTATCAAGAGCCAACATCCAAATGTGATTCACTTGGAGGAATGCATCCTACAAAAGGATGGGATGGTGCAAAAGATGTCCCACGGCTCTAATTCTTCCCTTTATTTACAGGTATGTGTTGTTGATTGGGAAATAGAAATGATTTGAACATGGCATTGGCCAGCAAGAAGAGGAATGAAAGGGTCAGACGAACGTTTCCCTTTAAATGCAGGTGTTTGTAGTTAGAAGTAGATAAGTGTCTGCCAAGAATTGAGTAGATGTTTGCTTTAAAACAAGGTTTTATTTAAACCTGTGAGGCACATACCTAAAAATAACATAAGCCACCTGTTATGCAATGGTACTTGCCAGTCTGCATAGGAATGGGGCAAGATAGGAACTAGAGAGGTGCTTGAGACTACAGTCTAATAACTTCATTTCTTTGAAATCAATAATTTTGGACTTGAGGACAGAAGAAAAGGAAAAATTCCACAACCAGTAGCAACACCCCTAGGTAATTGGGCATCTCTTTTATAAATCACTGGTTTGAATGTAAGCCTCTGCTGTTTTAGAGGGATATCTGGTTTCTTCACCACGCAGTTCCAGTTAATTTTCATGAAGTACATGATTTAACACCTGAATGTTATTAACAGTGCTAACagctaacatttgaatttgcatgcagttcgatgctctgtgctgagtgctttaaaagcagttgctcaaaacaatcctgtgaggaaaggactattattatcttcattacaaatgaagaaactgaggcttatagtatagataatgaattcatccaaaatcacatacatagtaag\r\n",
      ">chr1:26437411-26438670\r\n",
      "CGCGGTGGATCCTGGCTCGGACCAAGGCCTCTCCCCTGCGCCGACTGCAGACCAACCCTCCACCAGGAGCCTCGCGGGGGGGCGCCGTGGGCACCGCAGCCAGGTGCAGGCGCCTCCGCGCCCTCACTCCCCACGCCGAGGAGGTGGCCCTGGCTCCCTGCGGCCGCAGCCGGGGAACAATGAGGCGCCGGCCTCTTTAAGGGAGATACCACCGCGCCGGCGGGGCAGGGGACGGCATCCTCCCAGATGATCGCACCCAGCCCCGcgccgccgccgccgccgccgtctccgcAACTGCACCGCCCGCAAACATGGCTCAGTGACTCGGAGAAAAGCTGCAGTCTCCCTCCCGGCGGGGCGGACGCCAGGCCTCCTTGGTCGGGCCGCACCTCCCCGCAGGCCCGCCAAAGAGCACCGCGCCCCGCAGGCACCCGAGACCCGCGCGGAAGATGCACCGGGCGTTCCACCCCAGCGAGCCCCGCACCCCAGCCCGCAGCTCGGTAGGTCGGAAGGGGGCGGGTAGAGGGAGGGGAGGCCGCGGCCGGGCGCGCGCAGCCCCAGGCCCGGACCTGCCGCTGCAGACGGTCCCCGGGGCCGCGGGCCCTGAGCGCCCGCTGCGGCTGGAGGGTGGCCGAGCCCCGGCGTGGCGTGGCCTCGCGGTTCCCGAGCCCGGCCACCCCTGCGGGGAGCAGCACCAGTGGTGCGCTCCGGAGCGCGCACACCTCCGACGACTCCCGGCTCTGCAAATCCTCGAGAGAGGGAGGAGGCGAGCGGAGCGCCGGCCGCGCGCCTCGTCGGTGGCGCGGAACGTCCCGGCTCGCGCTACGGAAAGCCGGAGGGGGGCGGGGCCGTCGGCGTAAGGGGGTGTGTCCGCGCGCACCACGGGGGCGCGCGCCGGCTGCTGACTGGAGGCGGCGGCAGCGGAGGCGCGAGCTGCCCGATAATGGCGGCCTGCAGAGCCCATGAGAGGGAGAAGCGGCAGCGTCTACCCTGAGGTAAATCTGGCCTTTCGGCGTGGCGGAGAGGTCTTGCTGCAGAGCCGATGGCCCTGCATGTGCCTCCCTCCCTGGGAGGCTTGTCACAGACGTGTCAGCGGAGTCATCCTGGGGAAGGCCCTGCGCTCCTCAGGCCACCGACCCCAGTCGCGGCCTCCTCTCATACCGGGGCCACCTCCCCCCGGCCCTCAGCCCCCAGCCCCGAGGAGTTGAGGCAACTGCAGGGCTGGCTCCTCAGAGCGAAGGGGCTCAGGAGGCTCCCCT\r\n"
     ]
    }
   ],
   "source": [
    "## examine the resulting FASTA file\n",
    "%cat LIN28A.peaks.fasta "
   ]
  },
  {
   "cell_type": "markdown",
   "metadata": {},
   "source": [
    "### Exploring the capabilities of fastaFromBed\n",
    "The LIN28A example above illustrates the default behavior of the **intersectBed** and **fastaFromBed** commands. Refer to lecture 4 if you would like a refresher on the full set of functionality of the **intersectBed** command. The code snippets below provide mini-examples to explore **fastaFromBed** "
   ]
  },
  {
   "cell_type": "code",
   "execution_count": 18,
   "metadata": {
    "collapsed": false
   },
   "outputs": [
    {
     "name": "stdout",
     "output_type": "stream",
     "text": [
      ">chr1\n",
      "AAAAAAAACCCCCCCCCCCCCGCTACTGGGGGGGGGGGGGGGGGG\n",
      "chr1\t5\t10\tmyseq\n"
     ]
    }
   ],
   "source": [
    "## create a simple fasta file \n",
    "!echo \">chr1\" >  test.fa \n",
    "!echo \"AAAAAAAACCCCCCCCCCCCCGCTACTGGGGGGGGGGGGGGGGGG\" >> test.fa \n",
    "#examine the contents of the file \n",
    "!cat test.fa\n",
    "\n",
    "## create a simple bed file \n",
    "!echo \"chr1\\t5\\t10\\tmyseq\" >  test.bed \n",
    "#examine the contents of the file\n",
    "!cat test.bed"
   ]
  },
  {
   "cell_type": "code",
   "execution_count": 19,
   "metadata": {
    "collapsed": false
   },
   "outputs": [
    {
     "name": "stdout",
     "output_type": "stream",
     "text": [
      "index file test.fa.fai not found, generating...\n",
      ">chr1:5-10\n",
      "AAACC\n"
     ]
    }
   ],
   "source": [
    "## first, the default behavior: \n",
    "!bedtools getfasta -fi test.fa -bed test.bed -fo test.fa.out\n",
    "#examine the output\n",
    "!cat test.fa.out"
   ]
  },
  {
   "cell_type": "markdown",
   "metadata": {},
   "source": [
    "Using the -name option, one can set the FASTA header for each extracted sequence to be the “name” columns from the BED feature."
   ]
  },
  {
   "cell_type": "code",
   "execution_count": 20,
   "metadata": {
    "collapsed": false
   },
   "outputs": [
    {
     "name": "stdout",
     "output_type": "stream",
     "text": [
      ">myseq::chr1:5-10\r\n",
      "AAACC\r\n"
     ]
    }
   ],
   "source": [
    "!bedtools getfasta -fi test.fa -bed test.bed -name -fo test.fa.out\n",
    "\n",
    "#examine the output \n",
    "!cat test.fa.out\n"
   ]
  },
  {
   "cell_type": "markdown",
   "metadata": {},
   "source": [
    "Using the -tab option, the -fo output file will be tab-delimited instead of in FASTA format."
   ]
  },
  {
   "cell_type": "code",
   "execution_count": 21,
   "metadata": {
    "collapsed": false
   },
   "outputs": [
    {
     "name": "stdout",
     "output_type": "stream",
     "text": [
      "chr1:5-10\tAAACC\r\n"
     ]
    }
   ],
   "source": [
    "!bedtools getfasta -fi test.fa -bed test.bed -tab -fo test.fa.out\n",
    "#examine the output \n",
    "!cat test.fa.out"
   ]
  },
  {
   "cell_type": "markdown",
   "metadata": {},
   "source": [
    "bedtools getfasta will extract the sequence in the orientation defined in the strand column when the “-s” option is used."
   ]
  },
  {
   "cell_type": "code",
   "execution_count": 22,
   "metadata": {
    "collapsed": false
   },
   "outputs": [
    {
     "name": "stdout",
     "output_type": "stream",
     "text": [
      "chr1\t20\t25\tforward\t1\t+\n",
      "chr1\t20\t25\treverse\t1\t-\n",
      ">forward::chr1:20-25(+)\n",
      "CGCTA\n",
      ">reverse::chr1:20-25(-)\n",
      "TAGCG\n"
     ]
    }
   ],
   "source": [
    "#We re-write our test.bed file to include strand information: \n",
    "!echo \"chr1\\t20\\t25\\tforward\\t1\\t+\" > test.bed \n",
    "!echo \"chr1\\t20\\t25\\treverse\\t1\\t-\" >> test.bed \n",
    "!cat test.bed \n",
    "\n",
    "!bedtools getfasta -fi test.fa -bed test.bed -s -name -fo test.fa.out \n",
    "#examine the output \n",
    "!cat test.fa.out"
   ]
  },
  {
   "cell_type": "code",
   "execution_count": null,
   "metadata": {
    "collapsed": true
   },
   "outputs": [],
   "source": []
  }
 ],
 "metadata": {
  "kernelspec": {
   "display_name": "Python 2",
   "language": "python",
   "name": "python2"
  },
  "language_info": {
   "codemirror_mode": {
    "name": "ipython",
    "version": 2
   },
   "file_extension": ".py",
   "mimetype": "text/x-python",
   "name": "python",
   "nbconvert_exporter": "python",
   "pygments_lexer": "ipython2",
   "version": "2.7.10"
  }
 },
 "nbformat": 4,
 "nbformat_minor": 1
}
