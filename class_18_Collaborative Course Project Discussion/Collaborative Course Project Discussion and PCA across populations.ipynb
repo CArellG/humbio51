{
 "cells": [
  {
   "cell_type": "markdown",
   "metadata": {},
   "source": [
    "## Big Data for Biologists: Collaborative Team Project Discussion - Class 18\n",
    "##  Learning Objectives\n",
    "***Students should be able to***\n",
    "<ol>\n",
    "<li> <a href=#Workflow>Participate in a collaborative programming project to gain insights into the workflow for computational projects.</a></li>\n",
    "<li> <a href=#Workflow>Experience different roles in a computational project including code implementer and documentation provider.</a></li>\n",
    "<li> <a href=#Workflow> Apply data analysis methods from the course to new problems </a></li> \n",
    "<li><a href=#PCA23andme>Use PCA to predict ancestry from a genetic dataset from 23 and me </a></li>\n",
    "</ol> \n"
   ]
  },
  {
   "cell_type": "markdown",
   "metadata": {},
   "source": [
    "## Guidelines for Collaborative Team project Discussion <a name ='Workflow'>\n",
    "<ol>\n",
    "<li> Introduce yourselves (if you haven't already.) </li>\n",
    "<li> Have each group member briefly summarize what they have found so far for each of their variants.</li> \n",
    "<li> Trade code and check that the code looks correct and that it runs \n",
    "<li> Address any questions with the code \n",
    "<li> Add any documentation to the notebook that would be helpful to others to follow the code. </li>\n",
    "<li> Discuss a plan for writing up the project (eg. setting up a Google Doc). </li>\n"
   ]
  },
  {
   "cell_type": "markdown",
   "metadata": {},
   "source": [
    "## Use PCA to predict ancestry from a genetic dataset from 23 and me <a name ='PCA23andme'>"
   ]
  },
  {
   "cell_type": "code",
   "execution_count": 1,
   "metadata": {},
   "outputs": [
    {
     "data": {
      "text/html": [
       "<iframe src=\"https://cambridgespark.com/content/tutorials/genetic-ancestry-analysis-python/index.html\" width=\"1000\" height=\"480\"></iframe>"
      ],
      "text/plain": [
       "<IPython.core.display.HTML object>"
      ]
     },
     "execution_count": 1,
     "metadata": {},
     "output_type": "execute_result"
    }
   ],
   "source": [
    "from IPython.display import HTML\n",
    "HTML('<iframe src=\"https://cambridgespark.com/content/tutorials/genetic-ancestry-analysis-python/index.html\" width=\"1000\" height=\"480\"></iframe>')\n"
   ]
  }
 ],
 "metadata": {
  "kernelspec": {
   "display_name": "Python 3",
   "language": "python",
   "name": "python3"
  },
  "language_info": {
   "codemirror_mode": {
    "name": "ipython",
    "version": 3
   },
   "file_extension": ".py",
   "mimetype": "text/x-python",
   "name": "python",
   "nbconvert_exporter": "python",
   "pygments_lexer": "ipython3",
   "version": "3.5.3"
  }
 },
 "nbformat": 4,
 "nbformat_minor": 2
}
