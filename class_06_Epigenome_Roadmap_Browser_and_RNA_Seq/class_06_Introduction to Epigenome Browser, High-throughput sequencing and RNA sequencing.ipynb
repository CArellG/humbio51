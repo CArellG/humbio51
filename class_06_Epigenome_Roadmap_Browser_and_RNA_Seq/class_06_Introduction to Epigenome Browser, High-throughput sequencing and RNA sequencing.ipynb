{
 "cells": [
  {
   "cell_type": "markdown",
   "metadata": {},
   "source": [
    "# Big Data for Biologists: Decoding Genomic Function- Class 6\n",
    "\n",
    "## Introduction to the genome browser: High throughput sequencing and RNA sequencing\n",
    "\n",
    "##  Learning Objectives\n",
    "***Students should be able to***\n",
    " <ol>\n",
    " <li><a href=#Qualityscores>Interpret quality scores from the output of a read mapping and alignment algorithm</a></li>\n",
    " <li><a href=#GeneSeqinBrowser> Introduction to the WashU Genome Browser</a></li>\n",
    " <li><a href=#GeneSeqinBrowser> View a gene sequence in the WashU Genome Browser</a></li>\n",
    " <li><a href=#HighThroughput> Understand what high-throughput DNA sequencing is</a></li>\n",
    " <li><a href=#Applications> Explain how an RNA-Seq experiment works and what it measures</a></li>\n",
    "<li><a href=#RNASeqinBrowser> Determine what cell type a gene is likely expressed in by viewing results of RNA-Seq experiments </a></li>\n",
    "  "
   ]
  },
  {
   "cell_type": "markdown",
   "metadata": {},
   "source": [
    "## Interpret quality scores from the output of a read mapping and alignment algorithm <a name='Qualityscores' />"
   ]
  },
  {
   "cell_type": "markdown",
   "metadata": {},
   "source": [
    "We ended the last class discussing the Bowtie2 algorithm that can be used to create an index for a reference genome. \n",
    "\n",
    "We used a small, 1000bp fragment of the genome to simplify the computation. \n",
    "\n",
    "After the index file is created, Bowtie2 also has an algorithm to map the sequencing reads and run alignments specifically at the sites that are identified during the mapping phase.  \n",
    "\n",
    "In the code block below, we will re-run the Bowtie2 indexing algorithm and then will run the Bowtie2 mapping and alignment algorithm. "
   ]
  },
  {
   "cell_type": "code",
   "execution_count": 1,
   "metadata": {},
   "outputs": [
    {
     "name": "stdout",
     "output_type": "stream",
     "text": [
      ">read0\r\n",
      "GTTTATTCTAAATAGATGTGTAGAAATAACAGTTGTTTCACAGGAGACTA\r\n",
      ">read1\r\n",
      "gggcaaaacagttaaacttacagttcataCATAAGGAGAATCAGTCTTTT\r\n",
      ">read2\r\n",
      "ATATCCTGATTTCTTCCATAGCTTGGATCTTGACCTAGAGGGAAATATAA\r\n",
      ">read3\r\n",
      "GATTCCTGATTCTTTAATGTTTTCTAAAAAAGCAAAACAAACAAACAAAC\r\n",
      ">read4\r\n",
      "TACATGGCTAGGTAGACTTTTAGAAAACTTGGCTGCTCTAGAAAATTGAC\r\n",
      ">read5\r\n",
      "attgagaagtggaatctaataaaacaatagcttctgcacagcaaaagaag\r\n",
      ">read6\r\n",
      "aagagctggattcaactctactgactcttattaatcatgattttgggcac\r\n",
      ">read7\r\n",
      "ctatttgggtttttttttaaagtttggctgggtgcagcggctcacgcctg\r\n",
      ">read8\r\n",
      "tgtgtgtgtgtgtgAAAGACAGAAGAAAGAGGGAGACCTTAGAAGACTAT\r\n",
      ">read9\r\n",
      "TTCTAAATTGCACACTTTGATTCAAAAGAAACAGTCCAACCAACCAGTCA\r\n",
      ">read10\r\n",
      "ATCGATCGATATCGATCGATATCGATCGATATCGATCGATATCGATCGAT\r\n"
     ]
    }
   ],
   "source": [
    "!cat samples.fasta"
   ]
  },
  {
   "cell_type": "code",
   "execution_count": 1,
   "metadata": {},
   "outputs": [
    {
     "name": "stdout",
     "output_type": "stream",
     "text": [
      "['bowtie2', '-x', 'reference', '-f', '-U', 'samples.fasta', '-S', 'aligned.sam']\n"
     ]
    }
   ],
   "source": [
    "#Import the alignment helper functions \n",
    "#import the sequence_alignment_helpers.py file in the helpers directory\n",
    "import sys\n",
    "sys.path.append('../helpers')\n",
    "\n",
    "import alignment \n",
    "from alignment import * \n",
    "\n",
    "#Extract the lines 1 - 1201 from the reference fasta file to make \n",
    "#sure we have 1000 lines of data that do not start with N. \n",
    "!head -n 2201 /opt/data/hg19.genome.fa > reference.fasta \n",
    "\n",
    "#Run the Bowtie2 mapping algorithm to create an index\n",
    "bowtie_index(\"reference.fasta\",\"reference\")\n",
    "\n",
    "#Run the Bowtie2 alignment algorithm that uses the mapping indices\n",
    "align(\"samples.fasta\",\"reference\",\"aligned\")\n"
   ]
  },
  {
   "cell_type": "markdown",
   "metadata": {},
   "source": [
    "The align function generates an output bed file called aligned.bed. Let's examine the contents of this file:"
   ]
  },
  {
   "cell_type": "code",
   "execution_count": 2,
   "metadata": {},
   "outputs": [
    {
     "name": "stdout",
     "output_type": "stream",
     "text": [
      "chr1\t99951\t100001\tAGTCGGAGAGCTGGGGTCCTCCCAGCCCTCTTGGCCCTGTGGCCAATTTT\t42\t+\r\n",
      "chr1\t87251\t87301\tGATCACTTGAGGCCAGGAATTCAAGACCAGCGTGGCTAACATGGCGAAAC\t42\t+\r\n",
      "chr1\t93051\t93101\tAAAATTAATAAAATAAGAAGCCAAAAAACAGATCAAATCAGTAAACCAAA\t42\t+\r\n",
      "chr1\t73451\t73501\tCTCTTTTTATAAAATCGAAGCATTATTACTTACTCTCTTGTTAACCTATC\t42\t+\r\n",
      "chr1\t20451\t20501\tGTACAACTACCCTGCCCCCCACCTGACGACTTCAATAAGAAGTAGCCCAG\t1\t+\r\n",
      "chr1\t75501\t75551\tTGATAATGCTACCGGCAAATTCTGTTGTTTGTATAAACATCAGCCATGTT\t1\t+\r\n",
      "chr1\t37451\t37501\tGATGATATCTCATTGTGGTTTTGATTTGCATTTCTCTGATGGCCAGTGAT\t1\t+\r\n",
      "chr1\t109751\t109801\tCAGGGGAGCTGGATCTGAGCCAAGGCATCAACTCCAAGGTAACCCCTCAG\t1\t+\r\n",
      "chr1\t98851\t98901\tGGGAATGGTTTTGGCCTCCATTCTAAGTGCTGGACATGGGGTGGCCATAA\t1\t+\r\n",
      "chr1\t20551\t20601\tTCTCTTAAGGTCCAGCACGAGGTGGAGCACATGGTGGAGAGACAGATGCA\t1\t+\r\n",
      "*\t0\t0\tATCGATCGATATCGATCGATATCGATCGATATCGATCGATATCGATCGAT\t0\t+\r\n"
     ]
    }
   ],
   "source": [
    "!cat aligned.bed "
   ]
  },
  {
   "cell_type": "markdown",
   "metadata": {},
   "source": [
    "We observe that 6 of the 11  reads map to more than one position inthe reference genome. This is because more than half of the human genome is comprised of repeats. For example, at the beginning of chromosome 1 we see many instances of the sequence taccc. Note that lower-case letters are often used in a FASTA reference sequence to indicate repetitive or low-complexity regions. This practice is called \"soft masking\" (in contrast, recall that the use of \"N\" to indicate non-sequenced regions of the genome is referred to as \"hard masking\"). \n",
    "\n",
    "\n",
    "<img src=\"../Images/5-Repeats.png\" style=\"width: 50%; height: 50%\" align=\"center\"//>"
   ]
  },
  {
   "cell_type": "markdown",
   "metadata": {},
   "source": [
    "We see the sequences from samples.fasta listed in the fourth column. \n",
    "\n",
    "* The first column contains the name of the chromosome on reference.fasta along which the read aligned. \n",
    "\n",
    "* The second and third columns contain, respectively, the start and end coordinates of the aligned read along the reference. \n",
    "\n",
    "* The sixth column can contain strand information -- all our reads align to the positive strand of the reference. \n",
    "\n",
    "* The fifth column contains the mapping quality, which is a number between 0 and 255. Higher numbers indicate better \n",
    "mapping to the reference. Notice that this value is 42 for the four reads that mapped to only a single location \n",
    "in the reference sequence, and 1 for the 6 reads that mapped to multiple locations in the reference. It is 0 for \n",
    "the read that did not map to the reference. "
   ]
  },
  {
   "cell_type": "markdown",
   "metadata": {},
   "source": [
    "## How can I view a gene in the WashU Epigenome Browser? <a name='GeneSeqinBrowser' />\n",
    "\n",
    "The Washu Epigenome browser provides a way to visualize the results of RNA-seq experiments. \n",
    "You can access the browser here:\n",
    "\n",
    "\n",
    "<a href=\"http://epigenomegateway.wustl.edu/browser/\">http://epigenomegateway.wustl.edu/browser/</a>\n",
    "\n",
    "First, you will see a screen asking you to select the source organism for your dataset. Click on \"human hg19\", as this is the reference that we have been using for our analysis. \n",
    "\n",
    "<img src=\"../Images/5-Browser1.png\" style=\"width: 50%; height: 50%\" align=\"center\"//>\n",
    "\n",
    "The next screen will give you three options: \n",
    "\n",
    "* Custom tracks -- This allows you to upload your own aligned datasets for analysis. \n",
    "\n",
    "* Public hubs -- This allows you to visualize public datasets generated by other labs. \n",
    "\n",
    "* Genome Browser -- This is the simplest view -- it contains the annotations for genes along the hg19 reference. \n",
    "\n",
    "Let's begin by selecting 'Genome Browser'. \n",
    "\n",
    "\n",
    "<img src=\"../Images/5-Browser2.png\" style=\"width: 50%; height: 50%\" align=\"center\"//>\n",
    "\n",
    "\n",
    "You will see a display of the genome, zoomed to a random region on chromosome 7: \n",
    "\n",
    "<img src=\"../Images/5-Browser3.png\" style=\"width: 50%; height: 50%\" align=\"center\"//>\n",
    "\n"
   ]
  },
  {
   "cell_type": "markdown",
   "metadata": {},
   "source": [
    "The browser enables you to navigate across the genome and select regions or genes of interest to examine in more detail.\n",
    "\n",
    "<img src=\"../Images/6-BrowserTutorial1.png\" style=\"width: 80%; height: 80%\" align=\"center\"//>\n",
    "\n",
    "\n",
    "Hovering the mouse over a gene track will highlight additional information about the gene. \n",
    "\n",
    "\n",
    "<img src=\"../Images/6-BrowserTutorial2.png\" style=\"width: 80%; height: 80%\" align=\"center\"//>\n"
   ]
  },
  {
   "cell_type": "markdown",
   "metadata": {},
   "source": [
    "## Video tutorials for Washu Genome Browser "
   ]
  },
  {
   "cell_type": "markdown",
   "metadata": {},
   "source": [
    "### Introduction"
   ]
  },
  {
   "cell_type": "code",
   "execution_count": 3,
   "metadata": {},
   "outputs": [
    {
     "data": {
      "text/html": [
       "<iframe width=\"560\" height=\"315\" src=\"https://www.youtube.com/embed/y-qo2rVQakY\" frameborder=\"0\" allowfullscreen></iframe>"
      ],
      "text/plain": [
       "<IPython.core.display.HTML object>"
      ]
     },
     "execution_count": 3,
     "metadata": {},
     "output_type": "execute_result"
    }
   ],
   "source": [
    "from IPython.display import HTML\n",
    "HTML('<iframe width=\"560\" height=\"315\" src=\"https://www.youtube.com/embed/y-qo2rVQakY\" frameborder=\"0\" allowfullscreen></iframe>')"
   ]
  },
  {
   "cell_type": "markdown",
   "metadata": {},
   "source": [
    "### Navigating the Browser "
   ]
  },
  {
   "cell_type": "code",
   "execution_count": 4,
   "metadata": {
    "scrolled": false
   },
   "outputs": [
    {
     "data": {
      "text/html": [
       "<iframe width=\"560\" height=\"315\" src=\"https://www.youtube.com/embed/RrnYhwV1Y7Y\" frameborder=\"0\" allowfullscreen></iframe>"
      ],
      "text/plain": [
       "<IPython.core.display.HTML object>"
      ]
     },
     "execution_count": 4,
     "metadata": {},
     "output_type": "execute_result"
    }
   ],
   "source": [
    "HTML('<iframe width=\"560\" height=\"315\" src=\"https://www.youtube.com/embed/RrnYhwV1Y7Y\" frameborder=\"0\" allowfullscreen></iframe>')\n"
   ]
  },
  {
   "cell_type": "markdown",
   "metadata": {},
   "source": [
    "### Exercise\n",
    "\n",
    "Q1: Use the browser to find the insulin gene that we used in classes 1-3. \n",
    "\n",
    "For your reference, the genomic coordinates for the insulin gene are given below. \n",
    "\n",
    "INS gene -- type \"INS\" into the gene lookup field. \n",
    "\n",
    "For a gene in the browser be able to identify: \n",
    "- transcript identifiers\n",
    "- exons\n",
    "- introns\n",
    "- 5'UTR\n",
    "- 3'UTR\n",
    "- coding regions\n",
    "- strand"
   ]
  },
  {
   "cell_type": "markdown",
   "metadata": {},
   "source": [
    "Q2: Examine the NEUROD1 gene. What is peculiar about this gene?"
   ]
  },
  {
   "cell_type": "markdown",
   "metadata": {},
   "source": [
    "# Introduction to high-throughput DNA sequencing  <a name='HighThroughput' />"
   ]
  },
  {
   "cell_type": "code",
   "execution_count": 7,
   "metadata": {
    "scrolled": true
   },
   "outputs": [
    {
     "data": {
      "text/html": [
       "<iframe src=\"https://drive.google.com/file/d/0B_ssVVyXv8ZSWHUxSmxJREVsYUU/preview\" width=\"1000\" height=\"1200\"></iframe>"
      ],
      "text/plain": [
       "<IPython.core.display.HTML object>"
      ]
     },
     "execution_count": 7,
     "metadata": {},
     "output_type": "execute_result"
    }
   ],
   "source": [
    "HTML('<iframe src=\"https://drive.google.com/file/d/0B_ssVVyXv8ZSWHUxSmxJREVsYUU/preview\" width=\"1000\" height=\"1200\"></iframe>') "
   ]
  },
  {
   "cell_type": "markdown",
   "metadata": {},
   "source": [
    "### Video tutorial on Illumina sequencing by synthesis "
   ]
  },
  {
   "cell_type": "code",
   "execution_count": 6,
   "metadata": {},
   "outputs": [
    {
     "data": {
      "text/html": [
       "<iframe width=\"560\" height=\"315\" src=\"https://www.youtube.com/embed/fCd6B5HRaZ8\" frameborder=\"0\" allowfullscreen></iframe>"
      ],
      "text/plain": [
       "<IPython.core.display.HTML object>"
      ]
     },
     "execution_count": 6,
     "metadata": {},
     "output_type": "execute_result"
    }
   ],
   "source": [
    "HTML('<iframe width=\"560\" height=\"315\" src=\"https://www.youtube.com/embed/fCd6B5HRaZ8\" frameborder=\"0\" allowfullscreen></iframe>')"
   ]
  },
  {
   "cell_type": "markdown",
   "metadata": {},
   "source": [
    "# How can we use sequencing to detect and quantify RNA expression of all genes (RNA-sequencing) <a name='Applications' />"
   ]
  },
  {
   "cell_type": "code",
   "execution_count": 13,
   "metadata": {},
   "outputs": [
    {
     "data": {
      "text/html": [
       "<iframe src=\"https://drive.google.com/file/d/0B_ssVVyXv8ZSOXlINi1XbzFIZFU/preview\" width=\"1000\" height=\"1200\"></iframe>"
      ],
      "text/plain": [
       "<IPython.core.display.HTML object>"
      ]
     },
     "execution_count": 13,
     "metadata": {},
     "output_type": "execute_result"
    }
   ],
   "source": [
    "HTML('<iframe src=\"https://drive.google.com/file/d/0B_ssVVyXv8ZSOXlINi1XbzFIZFU/preview\" width=\"1000\" height=\"1200\"></iframe>') \n",
    "\n"
   ]
  },
  {
   "cell_type": "markdown",
   "metadata": {},
   "source": [
    "### RNA sequencing tutorial "
   ]
  },
  {
   "cell_type": "code",
   "execution_count": 10,
   "metadata": {},
   "outputs": [
    {
     "data": {
      "text/html": [
       "<iframe width=\"560\" height=\"315\" src=\"https://www.youtube.com/embed/tlf6wYJrwKY\" frameborder=\"0\" allowfullscreen></iframe>"
      ],
      "text/plain": [
       "<IPython.core.display.HTML object>"
      ]
     },
     "execution_count": 10,
     "metadata": {},
     "output_type": "execute_result"
    }
   ],
   "source": [
    "HTML('<iframe width=\"560\" height=\"315\" src=\"https://www.youtube.com/embed/tlf6wYJrwKY\" frameborder=\"0\" allowfullscreen></iframe>')"
   ]
  },
  {
   "cell_type": "markdown",
   "metadata": {},
   "source": [
    "#  Determine what tissue a gene is likely expressed in by viewing results of RNA-Seq experiments <a name='RNASeqinBrowser'>"
   ]
  },
  {
   "cell_type": "markdown",
   "metadata": {},
   "source": [
    "Load browser session: http://epigenomegateway.wustl.edu/browser/?genome=hg19&session=WQuTWqS74L&statusId=888160560\n",
    "\n",
    "Click on \"Humbio51-lect6-rnaseq\" \n",
    "\n",
    "Lets examine the following genes: \n",
    "\n",
    "* MYOD1\n",
    "* INS"
   ]
  },
  {
   "cell_type": "markdown",
   "metadata": {},
   "source": [
    "#### EXERCISE\n",
    "\n",
    "Which tissues are the remaining four genes expressed in?  \n",
    "\n",
    "* NEUROD1 \n",
    "\n",
    "**Your answer**: \n",
    "\n",
    "* SPI1 \n",
    "\n",
    "**Your answer**: \n",
    "\n",
    "* HNF4A \n",
    "\n",
    "**Your answer**: \n",
    "\n",
    "* GTF2B\n",
    "\n",
    "**Your answer**: \n"
   ]
  },
  {
   "cell_type": "code",
   "execution_count": null,
   "metadata": {},
   "outputs": [],
   "source": []
  }
 ],
 "metadata": {
  "kernelspec": {
   "display_name": "Python 3",
   "language": "python",
   "name": "python3"
  },
  "language_info": {
   "codemirror_mode": {
    "name": "ipython",
    "version": 3
   },
   "file_extension": ".py",
   "mimetype": "text/x-python",
   "name": "python",
   "nbconvert_exporter": "python",
   "pygments_lexer": "ipython3",
   "version": "3.5.3"
  }
 },
 "nbformat": 4,
 "nbformat_minor": 2
}
