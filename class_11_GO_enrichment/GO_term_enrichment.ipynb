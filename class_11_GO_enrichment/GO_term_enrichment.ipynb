{
 "cells": [
  {
   "cell_type": "code",
   "execution_count": 5,
   "metadata": {
    "collapsed": false
   },
   "outputs": [
    {
     "name": "stdout",
     "output_type": "stream",
     "text": [
      "The autoreload extension is already loaded. To reload it, use:\n",
      "  %reload_ext autoreload\n"
     ]
    }
   ],
   "source": [
    "# magic! (don't worry about this)\n",
    "%matplotlib inline\n",
    "%load_ext autoreload\n",
    "%autoreload 2"
   ]
  },
  {
   "cell_type": "markdown",
   "metadata": {},
   "source": [
    "We begin by loading the list of the top 1000 differentially expressed genes between the Blood and Gastrointestinal samples. This is the same list that we generated in the previous tutorial. "
   ]
  },
  {
   "cell_type": "code",
   "execution_count": 9,
   "metadata": {
    "collapsed": false
   },
   "outputs": [
    {
     "data": {
      "text/plain": [
       "['ENSG00000142949.12',\n",
       " 'ENSG00000153904.14',\n",
       " 'ENSG00000162627.12',\n",
       " 'ENSG00000137693.9',\n",
       " 'ENSG00000188643.6',\n",
       " 'ENSG00000104067.12',\n",
       " 'ENSG00000136286.10',\n",
       " 'ENSG00000061676.10',\n",
       " 'ENSG00000109686.12',\n",
       " 'ENSG00000185811.12']"
      ]
     },
     "execution_count": 9,
     "metadata": {},
     "output_type": "execute_result"
    }
   ],
   "source": [
    "genes=open(\"Differential_Genes_Blood_Gastro_Top_1000.txt\",'r').read().strip().split('\\n')\n",
    "genes[0:10]"
   ]
  },
  {
   "cell_type": "markdown",
   "metadata": {},
   "source": [
    "Several online tools exist for GO term enrichment analysis: "
   ]
  },
  {
   "cell_type": "code",
   "execution_count": null,
   "metadata": {
    "collapsed": true
   },
   "outputs": [],
   "source": []
  }
 ],
 "metadata": {},
 "nbformat": 4,
 "nbformat_minor": 2
}
