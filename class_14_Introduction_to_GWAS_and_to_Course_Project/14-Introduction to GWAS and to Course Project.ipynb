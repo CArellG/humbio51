{
 "cells": [
  {
   "cell_type": "markdown",
   "metadata": {},
   "source": [
    "## Big Data for Biologists: Decoding Genomic Function - Class 14\n",
    "\n",
    "##  Learning Objectives\n",
    "***Students should be able to***\n",
    "<ol>\n",
    "<li> <a href=#GWAS>Describe the experimental setup for a typical GWAS study. </li>\n",
    "<li> <a href=#GWAS>Explain why linkage disequilibrium (LD) analysis may be necessary for identifying causal SNPs from GWAS studies </li>\n",
    "<li> <a href=#GWAS>Interpret a plot or table with p-values (or -log<sub>10</sub>p-values) for SNPs to identify which SNPs may be associated with a disease </li>\n",
    "<li> <a href=#GWAS>Discuss how GWAS studies can be used to identify candidate causal variants for a disease </a></li> \n",
    "<li> <a href=#GWAS>Recognize the limitations of identifying causal variants from GWAS studies </a></li> \n",
    "<li> <a href=#Workflow>Participate in a collaborative programming project to gain insights into the workflow for computational projects.</a></li>\n",
    "<li> <a href=#Roles>Experience different roles in a computational project including code implementer and documentation provider.</a></li>\n",
    "<li> <a href=#LD>Find variants in linkage disequilibrium (LD) with a target variant using tabix and PLINK.</a></li>\n",
    "<li> <a href=#Dataanalysis> Apply data analysis methods from the course to new problems </a></li> \n",
    "</ol>"
   ]
  },
  {
   "cell_type": "markdown",
   "metadata": {},
   "source": [
    "## Introduction to GWAS  <a name='GWAS'>"
   ]
  },
  {
   "cell_type": "code",
   "execution_count": 1,
   "metadata": {},
   "outputs": [
    {
     "data": {
      "text/html": [
       "<iframe src=\"https://drive.google.com/file/d/1zGkSZom9fB63QaHDPHkWSD6aoVn2nk3O/preview\" width=\"1000\" height=\"480\"></iframe>"
      ],
      "text/plain": [
       "<IPython.core.display.HTML object>"
      ]
     },
     "execution_count": 1,
     "metadata": {},
     "output_type": "execute_result"
    }
   ],
   "source": [
    "from IPython.display import HTML\n",
    "HTML('<iframe src=\"https://drive.google.com/file/d/1zGkSZom9fB63QaHDPHkWSD6aoVn2nk3O/preview\" width=\"1000\" height=\"480\"></iframe>')"
   ]
  },
  {
   "cell_type": "markdown",
   "metadata": {},
   "source": [
    "WashU Browser link for FTO gene: http://epigenomegateway.wustl.edu/browser/?genome=hg19&session=EnEB3ADZOF&statusId=276059485"
   ]
  },
  {
   "cell_type": "markdown",
   "metadata": {},
   "source": [
    "## Introduction to Course Project  <a name ='Workflow'> <a name ='Roles'> "
   ]
  },
  {
   "cell_type": "markdown",
   "metadata": {},
   "source": [
    "\n",
    "The course project will have three main steps.  \n",
    "\n",
    "I.  You will be given the SNP identifiers (rs ids) for two variants in the human genome. For each of these variants you will: \n",
    "\n",
    "* write the code using the notebook guidelines below. \n",
    "* analyze the output of the code \n",
    "* create an initial draft of a report including:  \n",
    "   <ol>\n",
    "    <li> the likely causal variants </li>\n",
    "    <li> explanation of reasoning for why they are the likely causal variants</li>\n",
    "    <li> what you have learned about how the variant acts(ie. through what type of mutation in a coding region or what type of element in a non-coding region)</li>\n",
    "\n",
    "II. You will proofreading and check your teammates work. \n",
    "* Switch variants and run through code.\n",
    "* The outputs of your files should be identical.\n",
    "* Add comments to annotate any code that may need clarification. \n",
    "\n",
    "III. Writing up the report (see rubric for guidelines). \n",
    "\n",
    "Deliverables: \n",
    "* Jupyter notebook with code \n",
    "* Writeup document with summary\n",
    "\n",
    "### Grading Rubric: \n",
    "\n",
    "Will be posted on Canvas with the Assignment\n",
    "\n",
    "### Project files: \n",
    "All project files can be found in the folder **/opt/data/project**\n",
    "\n",
    "* /opt/data/project/1kg_phase1_all*   -- binary variant files\n",
    "* /opt/data/project/gene_coords_hg19.bed -- bed file of gene coordinates \n",
    "* /opt/data/project/gencode.hg19.annotation.gtf -- gene annotation file \n",
    "* /opt/data/project/motifs.bed -- coordinates of all transcription factor-binding motifs in the genome. \n",
    "* /opt/data/project/active_promoters_across_cell_type.bed \n",
    "* /opt/data/project/active_enhancers_across_cell_type.bed \n"
   ]
  },
  {
   "cell_type": "markdown",
   "metadata": {},
   "source": [
    "## STEP 1: Given a target variant that has been linked to a disease, what are the candidate causal variants in LD with the target variant?   "
   ]
  },
  {
   "cell_type": "code",
   "execution_count": 1,
   "metadata": {
    "collapsed": true
   },
   "outputs": [],
   "source": [
    "#Find all single nucleotide polymorhphisms (SNPs)  in linkage disequilibrium (LD)  with your target variants.\n",
    "#YOUR CODE HERE"
   ]
  },
  {
   "cell_type": "markdown",
   "metadata": {},
   "source": [
    "## Linkage Disequilibrium Example with Tabix and PLINK <a name ='LD'>"
   ]
  },
  {
   "cell_type": "markdown",
   "metadata": {},
   "source": [
    "[An article in the New England Journal of Medicine](http://www.nejm.org/doi/full/10.1056/NEJMoa1502214?rss=searchAndBrowse&#t=article) presented a GWAS in 52 participants  who were homozygous for the risk allele for the tag variant rs1558902. This variant occurs in an intron of the FTO gene, which has previously been linked to obesity. However, since a strong GWAS association of a variant with a phenotype is insufficient to deterimne causation, the authors checked whether other variants were in strong linkage disequilibrium with rs1558902 and are thus also potentially causal variants in obesity. \n",
    "\n",
    "We will examine below how the PLINK tool can be used to perform such a linkage disequilibrium analysis. \n"
   ]
  },
  {
   "cell_type": "markdown",
   "metadata": {},
   "source": [
    "We have downloaded variant files for the 1000 Genomes Project in the PLINK binary format: \n",
    "    \n",
    "* **/opt/data/project/1kg_phase1_all.bed** -- binary encoding of subject genotypes (do not be fooled by the file extension, this is NOT the 4-column bed file format we have been using). \n",
    "\n",
    "* **/opt/data/project/1kg_phase1_all.bim** -- list of all variants in the subject population \n",
    "* **/opt/data/project/1kg_phase1_all.fam** -- list of all subject id's in the 1000's genome project"
   ]
  },
  {
   "cell_type": "code",
   "execution_count": 10,
   "metadata": {},
   "outputs": [
    {
     "name": "stdout",
     "output_type": "stream",
     "text": [
      "PLINK v1.90b4.10 64-bit (3 Nov 2017)           www.cog-genomics.org/plink/1.9/\n",
      "(C) 2005-2017 Shaun Purcell, Christopher Chang   GNU General Public License v3\n",
      "Logging to r.for.rs1558902.log.\n",
      "Options in effect:\n",
      "  --bfile /opt/data/project/1kg_phase1_all\n",
      "  --ld-snp rs1558902\n",
      "  --out r.for.rs1558902\n",
      "  --r\n",
      "  --threads 10\n",
      "\n",
      "7484 MB RAM detected; reserving 3742 MB for main workspace.\n",
      "39728178 variants loaded from .bim file.\n",
      "1092 people (525 males, 567 females) loaded from .fam.\n",
      "Using up to 10 threads (change this with --threads).\n",
      "Before main variant filters, 1083 founders and 9 nonfounders present.\n",
      "Calculating allele frequencies... 10111213141516171819202122232425262728293031323334353637383940414243444546474849505152535455565758596061626364656667686970717273747576777879808182838485868788899091929394959697989 done.\n",
      "Warning: 855 het. haploid genotypes present (see r.for.rs1558902.hh ); many\n",
      "commands treat these as missing.\n",
      "Total genotyping rate is 0.999956.\n",
      "39728178 variants and 1092 people pass filters and QC.\n",
      "Note: No phenotypes present.\n",
      "--r to r.for.rs1558902.ld ... 0% [processingwriting]          done.\n"
     ]
    }
   ],
   "source": [
    "#This syntax will identify all variants that are in linkage disequilibrium with our tagged SNP rs1558902\n",
    "!plink  --bfile /opt/data/project/1kg_phase1_all --r  --ld-snp rs1558902 --threads 10 --out r.for.rs1558902\n"
   ]
  },
  {
   "cell_type": "markdown",
   "metadata": {},
   "source": [
    "The SNPs that are in linkage disequilibrium with our tagged SNP were saved to the file **r.for.rs1558902.ld**. Let's examine the contents of this file: "
   ]
  },
  {
   "cell_type": "code",
   "execution_count": 11,
   "metadata": {},
   "outputs": [
    {
     "name": "stdout",
     "output_type": "stream",
     "text": [
      " CHR_A         BP_A                 SNP_A  CHR_B         BP_B                 SNP_B            R \r\n",
      "    16     53803574             rs1558902     16     53803128            rs77955027   -0.0655586 \r\n",
      "    16     53803574             rs1558902     16     53803156             rs8055197    -0.413274 \r\n",
      "    16     53803574             rs1558902     16     53803187             rs1558901     0.757579 \r\n",
      "    16     53803574             rs1558902     16     53803223            rs62048402            1 \r\n",
      "    16     53803574             rs1558902     16     53803270           rs186754298   -0.0226154 \r\n",
      "    16     53803574             rs1558902     16     53803332           rs189959143     0.091852 \r\n",
      "    16     53803574             rs1558902     16     53803349           rs182131169   -0.0226154 \r\n",
      "    16     53803574             rs1558902     16     53803415           rs139578493    0.0322946 \r\n",
      "    16     53803574             rs1558902     16     53803452           rs187115215    0.0682658 \r\n",
      "    16     53803574             rs1558902     16     53803574             rs1558902            1 \r\n",
      "    16     53803574             rs1558902     16     53803813           rs190930907   -0.0129479 \r\n",
      "    16     53803574             rs1558902     16     53804158           rs183394594     0.039571 \r\n",
      "    16     53803574             rs1558902     16     53804200           rs149712627   -0.0226154 \r\n",
      "    16     53803574             rs1558902     16     53804340             rs1861866    -0.413274 \r\n",
      "    16     53803574             rs1558902     16     53804734           rs114512515  -0.00833308 \r\n",
      "    16     53803574             rs1558902     16     53804777           rs185120402   -0.0226154 \r\n",
      "    16     53803574             rs1558902     16     53804816           rs190021280   -0.0226154 \r\n",
      "    16     53803574             rs1558902     16     53804824           rs147851834   -0.0680985 \r\n",
      "    16     53803574             rs1558902     16     53804877            rs75263614    -0.030304 \r\n"
     ]
    }
   ],
   "source": [
    "!cat r.for.rs1558902.ld"
   ]
  },
  {
   "cell_type": "markdown",
   "metadata": {},
   "source": [
    "PLINK also allows us to compute the r^2 value for linkage disequilibrium. The command is the same as what we ran above, but replace \"r\" with \"r^2\"."
   ]
  },
  {
   "cell_type": "code",
   "execution_count": 12,
   "metadata": {},
   "outputs": [
    {
     "name": "stdout",
     "output_type": "stream",
     "text": [
      "PLINK v1.90b4.10 64-bit (3 Nov 2017)           www.cog-genomics.org/plink/1.9/\n",
      "(C) 2005-2017 Shaun Purcell, Christopher Chang   GNU General Public License v3\n",
      "Logging to r2.for.rs1558902.log.\n",
      "Options in effect:\n",
      "  --bfile /opt/data/project/1kg_phase1_all\n",
      "  --ld-snp rs1558902\n",
      "  --out r2.for.rs1558902\n",
      "  --r2\n",
      "  --threads 10\n",
      "\n",
      "7484 MB RAM detected; reserving 3742 MB for main workspace.\n",
      "39728178 variants loaded from .bim file.\n",
      "1092 people (525 males, 567 females) loaded from .fam.\n",
      "Using up to 10 threads (change this with --threads).\n",
      "Before main variant filters, 1083 founders and 9 nonfounders present.\n",
      "Calculating allele frequencies... 10111213141516171819202122232425262728293031323334353637383940414243444546474849505152535455565758596061626364656667686970717273747576777879808182838485868788899091929394959697989 done.\n",
      "Warning: 855 het. haploid genotypes present (see r2.for.rs1558902.hh ); many\n",
      "commands treat these as missing.\n",
      "Total genotyping rate is 0.999956.\n",
      "39728178 variants and 1092 people pass filters and QC.\n",
      "Note: No phenotypes present.\n",
      "--r2 to r2.for.rs1558902.ld ... 0% [processingwriting]          done.\n"
     ]
    }
   ],
   "source": [
    "!plink  --bfile /opt/data/project/1kg_phase1_all --r2  --ld-snp rs1558902 --threads 10 --out r2.for.rs1558902\n"
   ]
  },
  {
   "cell_type": "code",
   "execution_count": 14,
   "metadata": {},
   "outputs": [
    {
     "name": "stdout",
     "output_type": "stream",
     "text": [
      " CHR_A         BP_A                 SNP_A  CHR_B         BP_B                 SNP_B           R2 \r\n",
      "    16     53803574             rs1558902     16     53803187             rs1558901     0.573926 \r\n",
      "    16     53803574             rs1558902     16     53803223            rs62048402            1 \r\n",
      "    16     53803574             rs1558902     16     53803574             rs1558902            1 \r\n"
     ]
    }
   ],
   "source": [
    "!cat r2.for.rs1558902.ld"
   ]
  },
  {
   "cell_type": "markdown",
   "metadata": {},
   "source": [
    "The New England Journal article mentions that variant rs1421085 was found to be associated with rs1558902. The authors found that rs1421085 disrupted an ARID5B repressor motif, and was thus the most likely causal variant. "
   ]
  },
  {
   "cell_type": "markdown",
   "metadata": {},
   "source": [
    "## STEP 2:  Are any of the candidate causal variants in exons?  <a name ='Dataanalysis'>"
   ]
  },
  {
   "cell_type": "markdown",
   "metadata": {},
   "source": [
    "Your task is to determine whether any of the LD variants are in protein coding regions. That is, do they overlap a known exon? \n",
    "\n",
    "We have provided an hg19 gene annotation file here: \n",
    "\n",
    "* /opt/data/project/gencode.hg19.annotation.gtf \n",
    "\n",
    "You should use the \"grep\" command to extract EXON regions from this file. "
   ]
  },
  {
   "cell_type": "code",
   "execution_count": null,
   "metadata": {
    "collapsed": true
   },
   "outputs": [],
   "source": [
    "#YOUR CODE HERE"
   ]
  },
  {
   "cell_type": "markdown",
   "metadata": {},
   "source": [
    "Now, use one of the bedtools commands we have discussed to overlap the exon file with the coordinates of your LD variants. "
   ]
  },
  {
   "cell_type": "code",
   "execution_count": 13,
   "metadata": {
    "collapsed": true
   },
   "outputs": [],
   "source": [
    "# YOUR CODE HERE "
   ]
  },
  {
   "cell_type": "markdown",
   "metadata": {},
   "source": [
    "## STEP 3:  Have any of the variants in protein coding regions been linked to a disease? If so, which one?  What is known about how the variant could affect transcription or translation?"
   ]
  },
  {
   "cell_type": "markdown",
   "metadata": {},
   "source": [
    "It might help to visualize the variant in the [Global Biobank Engine](https://biobankengine.stanford.edu/) "
   ]
  },
  {
   "cell_type": "markdown",
   "metadata": {},
   "source": [
    "Analyze what you have observed in the Global Biobank Engine."
   ]
  },
  {
   "cell_type": "markdown",
   "metadata": {},
   "source": [
    "## STEP 4: If the variant is in a non-coding region, is it in a promoter region, if so, what is the relevant cell type? \n",
    "\n",
    "You may find the file **/opt/data/project/active_promoters_across_cell_type.bed ** useful in performing the tasks below. "
   ]
  },
  {
   "cell_type": "code",
   "execution_count": null,
   "metadata": {
    "collapsed": true
   },
   "outputs": [],
   "source": [
    "#Determine if any of the candidate variants are in promoter regions  \n",
    "#YOUR CODE HERE"
   ]
  },
  {
   "cell_type": "code",
   "execution_count": null,
   "metadata": {
    "collapsed": true
   },
   "outputs": [],
   "source": [
    "#List the cell types where the candidate variants are in active promoters\n",
    "#YOUR CODE HERE"
   ]
  },
  {
   "cell_type": "markdown",
   "metadata": {},
   "source": [
    "## STEP 5: If the variant is in a non-coding region, is it in an enhancer, if so, what is the relevant cell type? \n",
    "\n",
    "You may find the file **/opt/data/project/active_enhancers_across_cell_type.bed ** useful in performing the tasks below. "
   ]
  },
  {
   "cell_type": "code",
   "execution_count": null,
   "metadata": {
    "collapsed": true
   },
   "outputs": [],
   "source": [
    "#Determine if any of the candidate variants are in enhancer regions  \n",
    "#YOUR CODE HERE"
   ]
  },
  {
   "cell_type": "code",
   "execution_count": null,
   "metadata": {
    "collapsed": true
   },
   "outputs": [],
   "source": [
    "#List the cell types where the candidate variants are in active enhancers\n",
    "#YOUR CODE HERE"
   ]
  },
  {
   "cell_type": "markdown",
   "metadata": {},
   "source": [
    "## STEP 6: What Transcription Factors motifs overlap with the active promotors and or active enhancers identified in Step 4 and 5. \n",
    "\n",
    "You may find the  file **/opt/data/projects/motifs.bed** useful for performing the task below. "
   ]
  },
  {
   "cell_type": "code",
   "execution_count": null,
   "metadata": {
    "collapsed": true
   },
   "outputs": [],
   "source": [
    "#Determine which transcription factor motifs overlap with the active promotors or enhancers \n",
    "#identified in Step 4 and 5.  \n",
    "\n",
    "#YOUR CODE HERE\n"
   ]
  },
  {
   "cell_type": "markdown",
   "metadata": {},
   "source": [
    "## STEP 7: Look up the Transcription Factors identified in Step 6 in Gene Cards or another browser. What is known about the transcription factor?  "
   ]
  },
  {
   "cell_type": "markdown",
   "metadata": {},
   "source": [
    "### Introduction to Gene Cards \n",
    "\n",
    "[Gene Cards](http://www.genecards.org/) is a database of information about human genes. It provides information about gene function, tissue-specific expression, as well as journal articles where a given gene is mentioned. \n",
    "Look up the following genes in gene cards. What is the function of each gene? \n",
    "\n",
    " * IRX5 \n",
    " * FTO "
   ]
  },
  {
   "cell_type": "markdown",
   "metadata": {},
   "source": [
    "## STEP 8 Identify candidate target genes (genes that are in the vicinity of the variant).\n"
   ]
  },
  {
   "cell_type": "markdown",
   "metadata": {},
   "source": [
    "You may find the file **/opt/data/project/gene_coords_hg19.bed** useful. "
   ]
  },
  {
   "cell_type": "code",
   "execution_count": 15,
   "metadata": {
    "collapsed": true
   },
   "outputs": [],
   "source": [
    "## Your code here."
   ]
  },
  {
   "cell_type": "markdown",
   "metadata": {},
   "source": [
    "Look up the function of these genes in [Gene Cards](http://www.genecards.org/)"
   ]
  },
  {
   "cell_type": "markdown",
   "metadata": {},
   "source": [
    "Visualize your variant in the [WashU Browser](http://epigenomegateway.wustl.edu/browser/) to determine which genes lie nearby. How near is each SNP to a candidate gene? \n",
    "\n",
    "To export screenshots from the WashU Browser, go to **Tracks** in the menu bar and select **Screenshot**\n",
    "![WashU Screenshot](../Images/15_BrowserScreenshot.png)"
   ]
  },
  {
   "cell_type": "markdown",
   "metadata": {},
   "source": [
    "Select **show track name** and click on **Take screenshot**.\n",
    "![Browser Screenshot 2](../Images/15_BrowserScreenshot2.png)"
   ]
  },
  {
   "cell_type": "markdown",
   "metadata": {},
   "source": [
    "## STEP 9 : Using all of the information together select your top 5 most likely causal variants. "
   ]
  }
 ],
 "metadata": {
  "anaconda-cloud": {},
  "kernelspec": {
   "display_name": "Python 3",
   "language": "python",
   "name": "python3"
  },
  "language_info": {
   "codemirror_mode": {
    "name": "ipython",
    "version": 3
   },
   "file_extension": ".py",
   "mimetype": "text/x-python",
   "name": "python",
   "nbconvert_exporter": "python",
   "pygments_lexer": "ipython3",
   "version": "3.5.6"
  }
 },
 "nbformat": 4,
 "nbformat_minor": 2
}
