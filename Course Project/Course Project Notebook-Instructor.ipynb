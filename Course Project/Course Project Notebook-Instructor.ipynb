{
 "cells": [
  {
   "cell_type": "markdown",
   "metadata": {},
   "source": [
    "## Big Data for Biologists: Decoding Genomic Function\n",
    "\n",
    "##  Learning Objectives\n",
    "***Students should be able to***\n",
    "<ol>\n",
    "<li> <a href=#Workflow>Participate in a collaborative programming project to gain insights into the workflow for computational projects.</a></li>\n",
    "<li> <a href=#Roles>Experience different roles in a computational project including code implementer and documentation provider.</a></li>\n",
    "<li> <a href=#Dataanalysis> Apply data analysis methods from the course to new problems </a></li> \n",
    "</ol>\n"
   ]
  },
  {
   "cell_type": "markdown",
   "metadata": {},
   "source": [
    "## Introduction to Course Project "
   ]
  },
  {
   "cell_type": "markdown",
   "metadata": {},
   "source": [
    "The course project will have three main steps.  \n",
    "\n",
    "I.  You will be given the SNP identifiers (rs ids) for two variants in the human genome. For each of these variants you will: \n",
    "\n",
    "* write the code using the notebook guidelines below. \n",
    "* analyze the output of the code \n",
    "* create an initial draft of a report including:  \n",
    "   <ol>\n",
    "    <li> the likely causal variants </li>\n",
    "    <li> explanation of reasoning for why they are the likely causal variants</li>\n",
    "    <li> what you have learned about how the variant acts(ie. through what type of mutation in a coding region or what type of element in a non-coding region)</li>\n",
    "\n",
    "II. You will proofreading and check your teammates work. \n",
    "* Switch variants and run through code.\n",
    "* The outputs of your files should be identical.\n",
    "* Add comments to annotate any code that may need clarification. \n",
    "\n",
    "III. Writing up the report (see rubric for guidelines). \n",
    "\n",
    "Deliverables: \n",
    "* Jupyter notebook with code \n",
    "* Writeup document with summary\n",
    "\n",
    "### Grading Rubric: \n",
    "\n",
    "Will be posted on Canvas with the Assignment\n",
    "\n",
    "### Project files: \n",
    "All project files can be found in the folder **/data/project**\n",
    "\n",
    "* /data/project/1kg_phase1_all*   -- binary variant files\n",
    "* /data/project/gene_coords_hg19.bed.gz -- bed file of gene coordinates \n",
    "* /data/project/gencode.hg19.annotation.gtf -- gene annotation file \n",
    "* /data/project/motifs.bed.gz -- coordinates of all transcription factor-binding motifs in the genome. \n",
    "* /data/project/active_promoters_across_cell_type.bed.gz\n",
    "* /data/project/active_enhancers_across_cell_type.bed.gz\n",
    "\n",
    "### General Suggestions: \n",
    "\n",
    "You will be working with some large files for your course project. Please use the !head command to examine these files rather than the !cat command to avoid printing very large amounts of text to your notebook. \n",
    "\n",
    "Some of the files we have provided are zipped in the gzip format (these end with the .gz suffix). To examine these files use the combination of zcat and head coommands, as below: \n",
    "\n",
    "```\n",
    "!zcat /data/project/gene_coords_hg19.bed.gz | head \n",
    "    \n",
    "```\n",
    "\n",
    "To make your code easier to follow, you may find it helpful to add additional comments in the code boxes. You can decide which comments will be helpful to include. \n"
   ]
  },
  {
   "cell_type": "markdown",
   "metadata": {},
   "source": [
    "## STEP 1:  Are either of the candidate causal variants in coding regions?  <a name ='Dataanalysis'>"
   ]
  },
  {
   "cell_type": "markdown",
   "metadata": {},
   "source": [
    "Your first task is to determine whether any of the candidate variants are in protein coding regions. That is, do they overlap a known protein coding region? \n",
    "\n",
    "We have provided an hg19 gene annotation file here: \n",
    "\n",
    "* **/data/project/gencode.hg19.annotation.gtf**\n",
    "\n",
    "The annotations for CDS regions in this file  include the text \"CDS\".You should use the \"grep\" command to extract CDS regions from this file.  You should use a flag for the grep command that ensures you limit the output to lines with \"CDS\" only as a whole word. Otherwise lines with CDS embedded in other fields may also appear (see !grep --help for a list of flags). "
   ]
  },
  {
   "cell_type": "code",
   "execution_count": 3,
   "metadata": {},
   "outputs": [],
   "source": [
    "#BEGIN SOLUTION\n",
    "!grep -w \"CDS\" /data/project/gencode.hg19.annotation.gtf | cut -f1,4,5 > cds.bed\n",
    "#END SOLUTION"
   ]
  },
  {
   "cell_type": "markdown",
   "metadata": {},
   "source": [
    "INSTRUCTOR NOTE: \n",
    "INSTRUCTIONS FOR GETTING GENOMIC COORDINATES FROM ENSEMBLE\n",
    "https://www.internationalgenome.org/faq/can-i-find-genomic-position-list-dbsnp-rs-numbers-0/"
   ]
  },
  {
   "cell_type": "code",
   "execution_count": 9,
   "metadata": {},
   "outputs": [
    {
     "data": {
      "text/html": [
       "<div>\n",
       "<style scoped>\n",
       "    .dataframe tbody tr th:only-of-type {\n",
       "        vertical-align: middle;\n",
       "    }\n",
       "\n",
       "    .dataframe tbody tr th {\n",
       "        vertical-align: top;\n",
       "    }\n",
       "\n",
       "    .dataframe thead th {\n",
       "        text-align: right;\n",
       "    }\n",
       "</style>\n",
       "<table border=\"1\" class=\"dataframe\">\n",
       "  <thead>\n",
       "    <tr style=\"text-align: right;\">\n",
       "      <th></th>\n",
       "      <th>Variant_name</th>\n",
       "      <th>Variant_source</th>\n",
       "      <th>Chromosome_name</th>\n",
       "      <th>Chromosome_start(bp)</th>\n",
       "      <th>Chromosome_end(bp)</th>\n",
       "    </tr>\n",
       "  </thead>\n",
       "  <tbody>\n",
       "    <tr>\n",
       "      <td>0</td>\n",
       "      <td>rs1046089</td>\n",
       "      <td>dbSNP</td>\n",
       "      <td>6</td>\n",
       "      <td>31602967</td>\n",
       "      <td>31602967</td>\n",
       "    </tr>\n",
       "    <tr>\n",
       "      <td>1</td>\n",
       "      <td>rs11221332</td>\n",
       "      <td>dbSNP</td>\n",
       "      <td>11</td>\n",
       "      <td>128380974</td>\n",
       "      <td>128380974</td>\n",
       "    </tr>\n",
       "    <tr>\n",
       "      <td>2</td>\n",
       "      <td>rs11865038</td>\n",
       "      <td>dbSNP</td>\n",
       "      <td>16</td>\n",
       "      <td>31095171</td>\n",
       "      <td>31095171</td>\n",
       "    </tr>\n",
       "    <tr>\n",
       "      <td>3</td>\n",
       "      <td>rs121908745</td>\n",
       "      <td>dbSNP</td>\n",
       "      <td>7</td>\n",
       "      <td>117199644</td>\n",
       "      <td>117199646</td>\n",
       "    </tr>\n",
       "    <tr>\n",
       "      <td>4</td>\n",
       "      <td>rs121908767</td>\n",
       "      <td>dbSNP</td>\n",
       "      <td>7</td>\n",
       "      <td>117250651</td>\n",
       "      <td>117250656</td>\n",
       "    </tr>\n",
       "    <tr>\n",
       "      <td>5</td>\n",
       "      <td>rs12791769</td>\n",
       "      <td>dbSNP</td>\n",
       "      <td>11</td>\n",
       "      <td>34834268</td>\n",
       "      <td>34834268</td>\n",
       "    </tr>\n",
       "    <tr>\n",
       "      <td>6</td>\n",
       "      <td>rs12793173</td>\n",
       "      <td>dbSNP</td>\n",
       "      <td>11</td>\n",
       "      <td>34834204</td>\n",
       "      <td>34834204</td>\n",
       "    </tr>\n",
       "    <tr>\n",
       "      <td>7</td>\n",
       "      <td>rs1296028</td>\n",
       "      <td>dbSNP</td>\n",
       "      <td>8</td>\n",
       "      <td>11698747</td>\n",
       "      <td>11698747</td>\n",
       "    </tr>\n",
       "    <tr>\n",
       "      <td>8</td>\n",
       "      <td>rs13151961</td>\n",
       "      <td>dbSNP</td>\n",
       "      <td>4</td>\n",
       "      <td>123115502</td>\n",
       "      <td>123115502</td>\n",
       "    </tr>\n",
       "    <tr>\n",
       "      <td>9</td>\n",
       "      <td>rs1372659</td>\n",
       "      <td>dbSNP</td>\n",
       "      <td>8</td>\n",
       "      <td>135566779</td>\n",
       "      <td>135566779</td>\n",
       "    </tr>\n",
       "    <tr>\n",
       "      <td>10</td>\n",
       "      <td>rs144447022</td>\n",
       "      <td>dbSNP</td>\n",
       "      <td>6</td>\n",
       "      <td>29244219</td>\n",
       "      <td>29244219</td>\n",
       "    </tr>\n",
       "    <tr>\n",
       "      <td>11</td>\n",
       "      <td>rs157640</td>\n",
       "      <td>dbSNP</td>\n",
       "      <td>20</td>\n",
       "      <td>53414539</td>\n",
       "      <td>53414539</td>\n",
       "    </tr>\n",
       "    <tr>\n",
       "      <td>12</td>\n",
       "      <td>rs157641</td>\n",
       "      <td>dbSNP</td>\n",
       "      <td>20</td>\n",
       "      <td>53414892</td>\n",
       "      <td>53414892</td>\n",
       "    </tr>\n",
       "    <tr>\n",
       "      <td>13</td>\n",
       "      <td>rs1613883</td>\n",
       "      <td>dbSNP</td>\n",
       "      <td>8</td>\n",
       "      <td>11699632</td>\n",
       "      <td>11699632</td>\n",
       "    </tr>\n",
       "    <tr>\n",
       "      <td>14</td>\n",
       "      <td>rs167479</td>\n",
       "      <td>dbSNP</td>\n",
       "      <td>19</td>\n",
       "      <td>11526765</td>\n",
       "      <td>11526765</td>\n",
       "    </tr>\n",
       "    <tr>\n",
       "      <td>15</td>\n",
       "      <td>rs1799945</td>\n",
       "      <td>dbSNP</td>\n",
       "      <td>6</td>\n",
       "      <td>26091179</td>\n",
       "      <td>26091179</td>\n",
       "    </tr>\n",
       "    <tr>\n",
       "      <td>16</td>\n",
       "      <td>rs185258160</td>\n",
       "      <td>dbSNP</td>\n",
       "      <td>12</td>\n",
       "      <td>40676658</td>\n",
       "      <td>40676658</td>\n",
       "    </tr>\n",
       "    <tr>\n",
       "      <td>17</td>\n",
       "      <td>rs214936</td>\n",
       "      <td>dbSNP</td>\n",
       "      <td>11</td>\n",
       "      <td>17191019</td>\n",
       "      <td>17191019</td>\n",
       "    </tr>\n",
       "    <tr>\n",
       "      <td>18</td>\n",
       "      <td>rs2237457</td>\n",
       "      <td>dbSNP</td>\n",
       "      <td>7</td>\n",
       "      <td>50726144</td>\n",
       "      <td>50726144</td>\n",
       "    </tr>\n",
       "    <tr>\n",
       "      <td>19</td>\n",
       "      <td>rs2641719</td>\n",
       "      <td>dbSNP</td>\n",
       "      <td>3</td>\n",
       "      <td>195485439</td>\n",
       "      <td>195485439</td>\n",
       "    </tr>\n",
       "    <tr>\n",
       "      <td>20</td>\n",
       "      <td>rs28903073</td>\n",
       "      <td>dbSNP</td>\n",
       "      <td>12</td>\n",
       "      <td>40653510</td>\n",
       "      <td>40653510</td>\n",
       "    </tr>\n",
       "    <tr>\n",
       "      <td>21</td>\n",
       "      <td>rs3103933</td>\n",
       "      <td>dbSNP</td>\n",
       "      <td>3</td>\n",
       "      <td>195485440</td>\n",
       "      <td>195485440</td>\n",
       "    </tr>\n",
       "    <tr>\n",
       "      <td>22</td>\n",
       "      <td>rs34311866</td>\n",
       "      <td>dbSNP</td>\n",
       "      <td>4</td>\n",
       "      <td>951947</td>\n",
       "      <td>951947</td>\n",
       "    </tr>\n",
       "    <tr>\n",
       "      <td>23</td>\n",
       "      <td>rs34453673</td>\n",
       "      <td>dbSNP</td>\n",
       "      <td>5</td>\n",
       "      <td>434722</td>\n",
       "      <td>434722</td>\n",
       "    </tr>\n",
       "    <tr>\n",
       "      <td>24</td>\n",
       "      <td>rs35026134</td>\n",
       "      <td>dbSNP</td>\n",
       "      <td>4</td>\n",
       "      <td>123152938</td>\n",
       "      <td>123152938</td>\n",
       "    </tr>\n",
       "    <tr>\n",
       "      <td>25</td>\n",
       "      <td>rs3617</td>\n",
       "      <td>dbSNP</td>\n",
       "      <td>3</td>\n",
       "      <td>52833805</td>\n",
       "      <td>52833805</td>\n",
       "    </tr>\n",
       "    <tr>\n",
       "      <td>26</td>\n",
       "      <td>rs3748816</td>\n",
       "      <td>dbSNP</td>\n",
       "      <td>1</td>\n",
       "      <td>2526746</td>\n",
       "      <td>2526746</td>\n",
       "    </tr>\n",
       "    <tr>\n",
       "      <td>27</td>\n",
       "      <td>rs3816281</td>\n",
       "      <td>dbSNP</td>\n",
       "      <td>2</td>\n",
       "      <td>68607947</td>\n",
       "      <td>68607947</td>\n",
       "    </tr>\n",
       "    <tr>\n",
       "      <td>28</td>\n",
       "      <td>rs429358</td>\n",
       "      <td>dbSNP</td>\n",
       "      <td>19</td>\n",
       "      <td>45411941</td>\n",
       "      <td>45411941</td>\n",
       "    </tr>\n",
       "    <tr>\n",
       "      <td>29</td>\n",
       "      <td>rs6015450</td>\n",
       "      <td>dbSNP</td>\n",
       "      <td>20</td>\n",
       "      <td>57751117</td>\n",
       "      <td>57751117</td>\n",
       "    </tr>\n",
       "    <tr>\n",
       "      <td>30</td>\n",
       "      <td>rs62054815</td>\n",
       "      <td>dbSNP</td>\n",
       "      <td>17</td>\n",
       "      <td>43923266</td>\n",
       "      <td>43923266</td>\n",
       "    </tr>\n",
       "    <tr>\n",
       "      <td>31</td>\n",
       "      <td>rs6672420</td>\n",
       "      <td>dbSNP</td>\n",
       "      <td>1</td>\n",
       "      <td>25291010</td>\n",
       "      <td>25291010</td>\n",
       "    </tr>\n",
       "    <tr>\n",
       "      <td>32</td>\n",
       "      <td>rs7117768</td>\n",
       "      <td>dbSNP</td>\n",
       "      <td>11</td>\n",
       "      <td>128383924</td>\n",
       "      <td>128383924</td>\n",
       "    </tr>\n",
       "    <tr>\n",
       "      <td>33</td>\n",
       "      <td>rs73306896</td>\n",
       "      <td>dbSNP</td>\n",
       "      <td>20</td>\n",
       "      <td>57750533</td>\n",
       "      <td>57750533</td>\n",
       "    </tr>\n",
       "    <tr>\n",
       "      <td>34</td>\n",
       "      <td>rs737292</td>\n",
       "      <td>dbSNP</td>\n",
       "      <td>7</td>\n",
       "      <td>50718654</td>\n",
       "      <td>50718654</td>\n",
       "    </tr>\n",
       "    <tr>\n",
       "      <td>35</td>\n",
       "      <td>rs7827545</td>\n",
       "      <td>dbSNP</td>\n",
       "      <td>8</td>\n",
       "      <td>135566567</td>\n",
       "      <td>135566567</td>\n",
       "    </tr>\n",
       "    <tr>\n",
       "      <td>36</td>\n",
       "      <td>rs7929679</td>\n",
       "      <td>dbSNP</td>\n",
       "      <td>11</td>\n",
       "      <td>34805849</td>\n",
       "      <td>34805849</td>\n",
       "    </tr>\n",
       "    <tr>\n",
       "      <td>37</td>\n",
       "      <td>rs7929789</td>\n",
       "      <td>dbSNP</td>\n",
       "      <td>11</td>\n",
       "      <td>34805848</td>\n",
       "      <td>34805848</td>\n",
       "    </tr>\n",
       "    <tr>\n",
       "      <td>38</td>\n",
       "      <td>rs9858038</td>\n",
       "      <td>dbSNP</td>\n",
       "      <td>3</td>\n",
       "      <td>182730291</td>\n",
       "      <td>182730291</td>\n",
       "    </tr>\n",
       "    <tr>\n",
       "      <td>39</td>\n",
       "      <td>rs9879377</td>\n",
       "      <td>dbSNP</td>\n",
       "      <td>3</td>\n",
       "      <td>182734481</td>\n",
       "      <td>182734481</td>\n",
       "    </tr>\n",
       "    <tr>\n",
       "      <td>40</td>\n",
       "      <td>rs991315</td>\n",
       "      <td>dbSNP</td>\n",
       "      <td>4</td>\n",
       "      <td>100322498</td>\n",
       "      <td>100322498</td>\n",
       "    </tr>\n",
       "    <tr>\n",
       "      <td>41</td>\n",
       "      <td>rs991316</td>\n",
       "      <td>dbSNP</td>\n",
       "      <td>4</td>\n",
       "      <td>100322445</td>\n",
       "      <td>100322445</td>\n",
       "    </tr>\n",
       "  </tbody>\n",
       "</table>\n",
       "</div>"
      ],
      "text/plain": [
       "   Variant_name Variant_source  Chromosome_name  Chromosome_start(bp)  \\\n",
       "0     rs1046089          dbSNP                6              31602967   \n",
       "1    rs11221332          dbSNP               11             128380974   \n",
       "2    rs11865038          dbSNP               16              31095171   \n",
       "3   rs121908745          dbSNP                7             117199644   \n",
       "4   rs121908767          dbSNP                7             117250651   \n",
       "5    rs12791769          dbSNP               11              34834268   \n",
       "6    rs12793173          dbSNP               11              34834204   \n",
       "7     rs1296028          dbSNP                8              11698747   \n",
       "8    rs13151961          dbSNP                4             123115502   \n",
       "9     rs1372659          dbSNP                8             135566779   \n",
       "10  rs144447022          dbSNP                6              29244219   \n",
       "11     rs157640          dbSNP               20              53414539   \n",
       "12     rs157641          dbSNP               20              53414892   \n",
       "13    rs1613883          dbSNP                8              11699632   \n",
       "14     rs167479          dbSNP               19              11526765   \n",
       "15    rs1799945          dbSNP                6              26091179   \n",
       "16  rs185258160          dbSNP               12              40676658   \n",
       "17     rs214936          dbSNP               11              17191019   \n",
       "18    rs2237457          dbSNP                7              50726144   \n",
       "19    rs2641719          dbSNP                3             195485439   \n",
       "20   rs28903073          dbSNP               12              40653510   \n",
       "21    rs3103933          dbSNP                3             195485440   \n",
       "22   rs34311866          dbSNP                4                951947   \n",
       "23   rs34453673          dbSNP                5                434722   \n",
       "24   rs35026134          dbSNP                4             123152938   \n",
       "25       rs3617          dbSNP                3              52833805   \n",
       "26    rs3748816          dbSNP                1               2526746   \n",
       "27    rs3816281          dbSNP                2              68607947   \n",
       "28     rs429358          dbSNP               19              45411941   \n",
       "29    rs6015450          dbSNP               20              57751117   \n",
       "30   rs62054815          dbSNP               17              43923266   \n",
       "31    rs6672420          dbSNP                1              25291010   \n",
       "32    rs7117768          dbSNP               11             128383924   \n",
       "33   rs73306896          dbSNP               20              57750533   \n",
       "34     rs737292          dbSNP                7              50718654   \n",
       "35    rs7827545          dbSNP                8             135566567   \n",
       "36    rs7929679          dbSNP               11              34805849   \n",
       "37    rs7929789          dbSNP               11              34805848   \n",
       "38    rs9858038          dbSNP                3             182730291   \n",
       "39    rs9879377          dbSNP                3             182734481   \n",
       "40     rs991315          dbSNP                4             100322498   \n",
       "41     rs991316          dbSNP                4             100322445   \n",
       "\n",
       "    Chromosome_end(bp)  \n",
       "0             31602967  \n",
       "1            128380974  \n",
       "2             31095171  \n",
       "3            117199646  \n",
       "4            117250656  \n",
       "5             34834268  \n",
       "6             34834204  \n",
       "7             11698747  \n",
       "8            123115502  \n",
       "9            135566779  \n",
       "10            29244219  \n",
       "11            53414539  \n",
       "12            53414892  \n",
       "13            11699632  \n",
       "14            11526765  \n",
       "15            26091179  \n",
       "16            40676658  \n",
       "17            17191019  \n",
       "18            50726144  \n",
       "19           195485439  \n",
       "20            40653510  \n",
       "21           195485440  \n",
       "22              951947  \n",
       "23              434722  \n",
       "24           123152938  \n",
       "25            52833805  \n",
       "26             2526746  \n",
       "27            68607947  \n",
       "28            45411941  \n",
       "29            57751117  \n",
       "30            43923266  \n",
       "31            25291010  \n",
       "32           128383924  \n",
       "33            57750533  \n",
       "34            50718654  \n",
       "35           135566567  \n",
       "36            34805849  \n",
       "37            34805848  \n",
       "38           182730291  \n",
       "39           182734481  \n",
       "40           100322498  \n",
       "41           100322445  "
      ]
     },
     "execution_count": 9,
     "metadata": {},
     "output_type": "execute_result"
    }
   ],
   "source": [
    "#IMPORTING ALL VARIANTS TO CHECK THEM \n",
    "import pandas as pd\n",
    "variant_genomic_coordinates=pd.read_table(filepath_or_buffer=\"CourseProjectVariants.tsv\", header=0, delim_whitespace=True)\n",
    "variant_genomic_coordinates.head(100)"
   ]
  },
  {
   "cell_type": "code",
   "execution_count": 10,
   "metadata": {},
   "outputs": [
    {
     "data": {
      "text/html": [
       "<div>\n",
       "<style scoped>\n",
       "    .dataframe tbody tr th:only-of-type {\n",
       "        vertical-align: middle;\n",
       "    }\n",
       "\n",
       "    .dataframe tbody tr th {\n",
       "        vertical-align: top;\n",
       "    }\n",
       "\n",
       "    .dataframe thead th {\n",
       "        text-align: right;\n",
       "    }\n",
       "</style>\n",
       "<table border=\"1\" class=\"dataframe\">\n",
       "  <thead>\n",
       "    <tr style=\"text-align: right;\">\n",
       "      <th></th>\n",
       "      <th>Variant_name</th>\n",
       "      <th>Variant_source</th>\n",
       "      <th>Chromosome_name</th>\n",
       "      <th>Chromosome_start(bp)</th>\n",
       "      <th>Chromosome_end(bp)</th>\n",
       "    </tr>\n",
       "  </thead>\n",
       "  <tbody>\n",
       "    <tr>\n",
       "      <td>0</td>\n",
       "      <td>rs1046089</td>\n",
       "      <td>dbSNP</td>\n",
       "      <td>6</td>\n",
       "      <td>31602966</td>\n",
       "      <td>31602967</td>\n",
       "    </tr>\n",
       "    <tr>\n",
       "      <td>1</td>\n",
       "      <td>rs11221332</td>\n",
       "      <td>dbSNP</td>\n",
       "      <td>11</td>\n",
       "      <td>128380973</td>\n",
       "      <td>128380974</td>\n",
       "    </tr>\n",
       "    <tr>\n",
       "      <td>2</td>\n",
       "      <td>rs11865038</td>\n",
       "      <td>dbSNP</td>\n",
       "      <td>16</td>\n",
       "      <td>31095170</td>\n",
       "      <td>31095171</td>\n",
       "    </tr>\n",
       "    <tr>\n",
       "      <td>3</td>\n",
       "      <td>rs121908745</td>\n",
       "      <td>dbSNP</td>\n",
       "      <td>7</td>\n",
       "      <td>117199643</td>\n",
       "      <td>117199646</td>\n",
       "    </tr>\n",
       "    <tr>\n",
       "      <td>4</td>\n",
       "      <td>rs121908767</td>\n",
       "      <td>dbSNP</td>\n",
       "      <td>7</td>\n",
       "      <td>117250650</td>\n",
       "      <td>117250656</td>\n",
       "    </tr>\n",
       "  </tbody>\n",
       "</table>\n",
       "</div>"
      ],
      "text/plain": [
       "  Variant_name Variant_source  Chromosome_name  Chromosome_start(bp)  \\\n",
       "0    rs1046089          dbSNP                6              31602966   \n",
       "1   rs11221332          dbSNP               11             128380973   \n",
       "2   rs11865038          dbSNP               16              31095170   \n",
       "3  rs121908745          dbSNP                7             117199643   \n",
       "4  rs121908767          dbSNP                7             117250650   \n",
       "\n",
       "   Chromosome_end(bp)  \n",
       "0            31602967  \n",
       "1           128380974  \n",
       "2            31095171  \n",
       "3           117199646  \n",
       "4           117250656  "
      ]
     },
     "execution_count": 10,
     "metadata": {},
     "output_type": "execute_result"
    }
   ],
   "source": [
    "#SUBTRACTING ONE TO GET zero-based numbering \n",
    "variant_genomic_coordinates['Chromosome_start(bp)']=variant_genomic_coordinates['Chromosome_start(bp)']-1\n",
    "variant_genomic_coordinates.head()"
   ]
  },
  {
   "cell_type": "code",
   "execution_count": 12,
   "metadata": {},
   "outputs": [],
   "source": [
    "#Making Course Project variants bed file \n",
    "variant_genomic_coordinates['Chromosome_name']='chr'+variant_genomic_coordinates['Chromosome_name'].apply(str)\n",
    "SNPs=variant_genomic_coordinates.loc[:, ['Chromosome_name','Chromosome_start(bp)','Chromosome_end(bp)','Variant_name']]\n",
    "SNPs.to_csv(\"courseproject_snps.bed\",sep='\\t',index=False,header=False) "
   ]
  },
  {
   "cell_type": "code",
   "execution_count": 14,
   "metadata": {},
   "outputs": [
    {
     "name": "stdout",
     "output_type": "stream",
     "text": [
      "chr6\t31602966\t31602967\trs1046089\n",
      "chr11\t128380973\t128380974\trs11221332\n",
      "chr16\t31095170\t31095171\trs11865038\n",
      "chr7\t117199643\t117199646\trs121908745\n",
      "chr7\t117250650\t117250656\trs121908767\n",
      "chr11\t34834267\t34834268\trs12791769\n",
      "chr11\t34834203\t34834204\trs12793173\n",
      "chr8\t11698746\t11698747\trs1296028\n",
      "chr4\t123115501\t123115502\trs13151961\n",
      "chr8\t135566778\t135566779\trs1372659\n"
     ]
    }
   ],
   "source": [
    "!head courseproject_snps.bed"
   ]
  },
  {
   "cell_type": "code",
   "execution_count": 1,
   "metadata": {},
   "outputs": [
    {
     "name": "stdout",
     "output_type": "stream",
     "text": [
      "chr1\t2526715\t2526798\tchr1\t2526745\t2526746\trs3748816\n",
      "chr1\t2526715\t2526798\tchr1\t2526745\t2526746\trs3748816\n",
      "chr1\t2526715\t2526798\tchr1\t2526745\t2526746\trs3748816\n",
      "chr1\t25291005\t25291062\tchr1\t25291009\t25291010\trs6672420\n",
      "chr1\t25291005\t25291062\tchr1\t25291009\t25291010\trs6672420\n",
      "chr2\t68607855\t68608036\tchr2\t68607946\t68607947\trs3816281\n",
      "chr3\t52833769\t52833937\tchr3\t52833804\t52833805\trs3617\n",
      "chr3\t52833769\t52833937\tchr3\t52833804\t52833805\trs3617\n",
      "chr3\t52833769\t52833937\tchr3\t52833804\t52833805\trs3617\n",
      "chr4\t951612\t952281\tchr4\t951946\t951947\trs34311866\n",
      "chr4\t951612\t952281\tchr4\t951946\t951947\trs34311866\n",
      "chr4\t951612\t952281\tchr4\t951946\t951947\trs34311866\n",
      "chr4\t951612\t952281\tchr4\t951946\t951947\trs34311866\n",
      "chr5\t433968\t434946\tchr5\t434721\t434722\trs34453673\n",
      "chr5\t433968\t434946\tchr5\t434721\t434722\trs34453673\n",
      "chr5\t433968\t434946\tchr5\t434721\t434722\trs34453673\n",
      "chr5\t433968\t434946\tchr5\t434721\t434722\trs34453673\n",
      "chr6\t26091138\t26091332\tchr6\t26091178\t26091179\trs1799945\n",
      "chr6\t26091069\t26091332\tchr6\t26091178\t26091179\trs1799945\n",
      "chr6\t26091069\t26091332\tchr6\t26091178\t26091179\trs1799945\n",
      "chr6\t26091069\t26091332\tchr6\t26091178\t26091179\trs1799945\n",
      "chr6\t26091069\t26091332\tchr6\t26091178\t26091179\trs1799945\n",
      "chr6\t26091069\t26091332\tchr6\t26091178\t26091179\trs1799945\n",
      "chr6\t26091069\t26091332\tchr6\t26091178\t26091179\trs1799945\n",
      "chr6\t31602909\t31603049\tchr6\t31602966\t31602967\trs1046089\n",
      "chr6\t31602909\t31603049\tchr6\t31602966\t31602967\trs1046089\n",
      "chr7\t117199518\t117199709\tchr7\t117199643\t117199646\trs121908745\n",
      "chr7\t117250573\t117250723\tchr7\t117250650\t117250656\trs121908767\n",
      "chr7\t117199518\t117199709\tchr7\t117199643\t117199646\trs121908745\n",
      "chr7\t117250573\t117250723\tchr7\t117250650\t117250656\trs121908767\n",
      "chr7\t117199518\t117199709\tchr7\t117199643\t117199646\trs121908745\n",
      "chr7\t117250573\t117250723\tchr7\t117250650\t117250656\trs121908767\n",
      "chr7\t117199518\t117199709\tchr7\t117199643\t117199646\trs121908745\n",
      "chr7\t117250573\t117250723\tchr7\t117250650\t117250656\trs121908767\n",
      "chr7\t117199518\t117199709\tchr7\t117199643\t117199646\trs121908745\n",
      "chr7\t117250573\t117250723\tchr7\t117250650\t117250656\trs121908767\n",
      "chr7\t117250573\t117250723\tchr7\t117250650\t117250656\trs121908767\n",
      "chr11\t17190224\t17191288\tchr11\t17191018\t17191019\trs214936\n",
      "chr11\t17190224\t17191288\tchr11\t17191018\t17191019\trs214936\n",
      "chr11\t17190899\t17191288\tchr11\t17191018\t17191019\trs214936\n",
      "chr17\t43922273\t43924324\tchr17\t43923265\t43923266\trs62054815\n",
      "chr19\t11526623\t11526824\tchr19\t11526764\t11526765\trs167479\n",
      "chr19\t11526702\t11526824\tchr19\t11526764\t11526765\trs167479\n",
      "chr19\t11526613\t11526824\tchr19\t11526764\t11526765\trs167479\n",
      "chr19\t11526613\t11526824\tchr19\t11526764\t11526765\trs167479\n",
      "chr19\t11526613\t11526824\tchr19\t11526764\t11526765\trs167479\n",
      "chr19\t11526715\t11526790\tchr19\t11526764\t11526765\trs167479\n",
      "chr19\t45411790\t45412201\tchr19\t45411940\t45411941\trs429358\n",
      "chr19\t45411790\t45412504\tchr19\t45411940\t45411941\trs429358\n",
      "chr19\t45411790\t45412282\tchr19\t45411940\t45411941\trs429358\n",
      "chr19\t45411790\t45412211\tchr19\t45411940\t45411941\trs429358\n"
     ]
    }
   ],
   "source": [
    "#BEGIN SOLUTION\n",
    "\n",
    "!bedtools intersect -wa -wb -a cds.bed -b courseproject_snps.bed > coding_variant_overlap.bed\n",
    "!cat coding_variant_overlap.bed\n",
    "\n",
    "#END SOLUTION"
   ]
  },
  {
   "cell_type": "code",
   "execution_count": 15,
   "metadata": {},
   "outputs": [
    {
     "name": "stdout",
     "output_type": "stream",
     "text": [
      "['rs3748816' 'rs6672420' 'rs3816281' 'rs3617' 'rs34311866' 'rs34453673'\n",
      " 'rs1799945' 'rs1046089' 'rs121908745' 'rs121908767' 'rs214936'\n",
      " 'rs62054815' 'rs167479' 'rs429358']\n"
     ]
    }
   ],
   "source": [
    "import pandas as pd\n",
    "coding_variants=pd.read_table(filepath_or_buffer=\"coding_variant_overlap.bed\",header=None,delim_whitespace=True)\n",
    "rsids=coding_variants[6].unique()\n",
    "print(rsids)"
   ]
  },
  {
   "cell_type": "markdown",
   "metadata": {},
   "source": [
    "Now, you will use one of the bedtools commands we have discussed to overlap the CDS file with the coordinates of your assigned variants. "
   ]
  },
  {
   "cell_type": "code",
   "execution_count": null,
   "metadata": {},
   "outputs": [],
   "source": [
    "#BEGIN SOLUTION  \n",
    "#END SOLUTION "
   ]
  },
  {
   "cell_type": "markdown",
   "metadata": {},
   "source": [
    "You should find that one of your variants is in a coding region. For this variant, you do NOT need to investigate it's linked variants, because the variant likely directly affecting the sequence of the protien that the gene encodes. However, if you find that your variant is in a non-coding portion of the genome, it's linked SNPs must then be examined to determine the variant's most likely mechanism of action. You can skip step 2 and proceed to step 3 for the variant that is in a coding region. "
   ]
  },
  {
   "cell_type": "markdown",
   "metadata": {},
   "source": [
    "## STEP 2: Given a target non-coding variant that has been linked to a disease, what are the candidate causal variants in LD with the target variant?   "
   ]
  },
  {
   "cell_type": "markdown",
   "metadata": {},
   "source": [
    "To ensure the highest likelihood of discovering the causal SNP, please investigate multiple variants in LD with your non-coding SNP and discuss them in your writeup. If you find that your non-coding SNP has high LD with more than five SNPs, please investigate and discuss the five SNPs with the highest  r^2 LD score. "
   ]
  },
  {
   "cell_type": "code",
   "execution_count": null,
   "metadata": {},
   "outputs": [],
   "source": [
    "#Find all single nucleotide polymorhphisms (SNPs)  in linkage disequilibrium (LD)  with your target variants.\n",
    "\n",
    "#BEGIN SOLUTION \n",
    "#END SOLUTION "
   ]
  },
  {
   "cell_type": "markdown",
   "metadata": {},
   "source": [
    "Generate a Manhattan plot with SNP position along the x-axis and r^2 of all LD SNPs along the y-axis. "
   ]
  },
  {
   "cell_type": "code",
   "execution_count": null,
   "metadata": {},
   "outputs": [],
   "source": [
    "#BEGIN SOLUTION \n",
    "#END SOLUTION"
   ]
  },
  {
   "cell_type": "markdown",
   "metadata": {},
   "source": [
    "## STEP 3: Look up known variant-phenotype associations in the GWAS Catalog  \n",
    "\n",
    "Have any of the variants in protein coding regions been linked to a disease? If so, which one?  What is known about how the variant could affect transcription or translation?\n",
    "\n",
    "The [GWAS Catalog](https://www.ebi.ac.uk/gwas/) is a curated database of GWAS studies. Once you have identified a GWAS hit, it's worth checking the catalog to see if others have discovered it as well. \n",
    "\n",
    "Look up rs1558902 and rs1421085 in the catalog. What phenotypes have these variants been associated with? Click on the \"Associations\" link for each variant. \n",
    "\n",
    "**ANSWER HERE:**\n",
    "\n"
   ]
  },
  {
   "cell_type": "markdown",
   "metadata": {},
   "source": [
    "## STEP 4:  Are any of the variants in high LD with the non-coding SNP located within an exon? "
   ]
  },
  {
   "cell_type": "markdown",
   "metadata": {},
   "source": [
    "Repeat the step 1 analysis, but this time search for EXONS and examine the SNPs in high LD with your non-coding SNP. "
   ]
  },
  {
   "cell_type": "code",
   "execution_count": 16,
   "metadata": {},
   "outputs": [],
   "source": [
    "## BEGIN SOLUTION \n",
    "!grep -w \"EXON\" /data/project/gencode.hg19.annotation.gtf | cut -f1,4,5 > exons.bed\n",
    "## END SOLUTION "
   ]
  },
  {
   "cell_type": "code",
   "execution_count": 17,
   "metadata": {},
   "outputs": [],
   "source": [
    "##INSTRUCTOR checking overlap noncoding regions with exons \n",
    "!bedtools intersect -wa -wb -a exons.bed -b courseproject_snps.bed > non-coding-variant-exons.bed\n",
    "!cat  non-coding-variant-exons.bed\n",
    "##INSTRUCTOR"
   ]
  },
  {
   "cell_type": "markdown",
   "metadata": {},
   "source": [
    "## STEP 5:  Have any of the variants in protein coding regions been linked to a disease? If so, which one?  What is known about how the variant could affect transcription or translation?"
   ]
  },
  {
   "cell_type": "markdown",
   "metadata": {},
   "source": [
    "It might help to visualize the variant in the [Global Biobank Engine](https://biobankengine.stanford.edu/) "
   ]
  },
  {
   "cell_type": "markdown",
   "metadata": {},
   "source": [
    "Analyze what you have observed in the Global Biobank Engine."
   ]
  },
  {
   "cell_type": "markdown",
   "metadata": {},
   "source": [
    "## STEP 6: If the variant is in a non-coding region, is it in a promoter region, if so, what is the relevant cell type? \n",
    "\n",
    "You may find the file **/data/project/active_promoters_across_cell_type.bed.gz** useful in performing the tasks below. "
   ]
  },
  {
   "cell_type": "code",
   "execution_count": 23,
   "metadata": {},
   "outputs": [
    {
     "name": "stdout",
     "output_type": "stream",
     "text": [
      "chr1\t10452\t10563\tchr1:10452-10563\t0\t.\t  Placenta\n",
      "chr1\t118576\t118668\tchr1:118576-118668\t0\t.\t  K562 Leukemia Cells\n",
      "chr1\t138501\t138581\tchr1:138501-138581\t0\t.\t  K562 Leukemia Cells\n",
      "chr1\t139011\t139077\tchr1:139011-139077\t0\t.\t  K562 Leukemia Cells\n",
      "chr1\t139281\t139335\tchr1:139281-139335\t0\t.\t  K562 Leukemia Cells\n",
      "chr1\t244145\t244214\tchr1:244145-244214\t0\t.\t  Primary monocytes from peripheral blood\n",
      "chr1\t523755\t523811\tchr1:523755-523811\t0\t.\t  Placenta\n",
      "chr1\t540605\t540676\tchr1:540605-540676\t0\t.\t  Stomach Smooth Muscle\n",
      "chr1\t540605\t540676\tchr1:540605-540676\t0\t.\t  Osteoblast Primary Cells\n",
      "chr1\t540605\t540676\tchr1:540605-540676\t0\t.\t  ES-I3 Cells\n",
      "\n",
      "gzip: stdout: Broken pipe\n"
     ]
    }
   ],
   "source": [
    "#Checking Promotor file\n",
    "!zcat /data/project/active_promoters_across_cell_type.bed.gz | head "
   ]
  },
  {
   "cell_type": "code",
   "execution_count": 22,
   "metadata": {},
   "outputs": [
    {
     "name": "stdout",
     "output_type": "stream",
     "text": [
      "1kg_phase1_all.bed\t\t\t      gencode.hg19.annotation.gtf\n",
      "1kg_phase1_all.bim\t\t\t      gene_coords_hg19.bed.gz\n",
      "1kg_phase1_all.fam\t\t\t      gene_coords_hg19.bed.gz.tbi\n",
      "active_enhancers_across_cell_type.bed.gz      motifs.bed.gz\n",
      "active_enhancers_across_cell_type.bed.gz.tbi  motifs.bed.gz.tbi\n",
      "active_promoters_across_cell_type.bed.gz      README\n",
      "active_promoters_across_cell_type.bed.gz.tbi\n"
     ]
    }
   ],
   "source": [
    "!ls /data/project/"
   ]
  },
  {
   "cell_type": "code",
   "execution_count": 24,
   "metadata": {},
   "outputs": [
    {
     "name": "stdout",
     "output_type": "stream",
     "text": [
      "[E::sam_parse1] missing SAM header\n",
      "[W::sam_read1] Parse error at line 1\n"
     ]
    }
   ],
   "source": [
    "#Determine if any of the candidate variants are in promoter regions  \n",
    "#BEGIN SOLUTION \n",
    "!bedtools intersect -wa -wb -a /data/project/active_promoters_across_cell_type.bed.gz -b courseproject_snps.bed > promotor_overlap.bed\n",
    "#END SOLUTION "
   ]
  },
  {
   "cell_type": "code",
   "execution_count": null,
   "metadata": {},
   "outputs": [],
   "source": [
    "#List the cell types where the candidate variants are in active promoters\n",
    "#BEGIN SOLUTION \n",
    "#END SOLUTION "
   ]
  },
  {
   "cell_type": "markdown",
   "metadata": {},
   "source": [
    "## STEP 7: If the variant is in a non-coding region, is it in an enhancer, if so, what is the relevant cell type? \n",
    "\n",
    "You may find the file **/data/projects/active_enhancers_across_cell_type.bed.gz** useful in performing the tasks below. "
   ]
  },
  {
   "cell_type": "code",
   "execution_count": 27,
   "metadata": {},
   "outputs": [
    {
     "name": "stdout",
     "output_type": "stream",
     "text": [
      "[E::sam_parse1] missing SAM header\n",
      "[W::sam_read1] Parse error at line 1\n"
     ]
    }
   ],
   "source": [
    "#Determine if any of the candidate variants are in enhancer regions  \n",
    "#BEGIN SOLUTION \n",
    "!bedtools intersect -wa -wb -a /data/project/active_enhancers_across_cell_type.bed.gz -b courseproject_snps.bed > enhancer_overlap.bed\n",
    "#END SOLUTION "
   ]
  },
  {
   "cell_type": "code",
   "execution_count": null,
   "metadata": {},
   "outputs": [],
   "source": [
    "#List the cell types where the candidate variants are in active enhancers\n",
    "#BEGIN SOLUTION \n",
    "#END SOLUTION "
   ]
  },
  {
   "cell_type": "markdown",
   "metadata": {},
   "source": [
    "## STEP 8: What Transcription Factors motifs overlap with the SNP?\n",
    "\n",
    "You may find the  file **/data/motifs.bed.gz** useful for performing the task below. \n",
    "\n",
    "Note: If you don't fine any transcription factors overlap with the specific SNP, you can expand the search to include transcription factors that overlap with the active promoters/enhancers from steps 6 and 7. "
   ]
  },
  {
   "cell_type": "code",
   "execution_count": null,
   "metadata": {},
   "outputs": [],
   "source": [
    "#Determine which transcription factor motifs overlap with the SNPs.\n",
    "#BEGIN SOLUTION \n",
    "#END SOLUTION "
   ]
  },
  {
   "cell_type": "markdown",
   "metadata": {},
   "source": [
    "## STEP 9: Look up the Transcription Factors identified in Step 8 in Gene Cards or another browser. What is known about the transcription factor?  "
   ]
  },
  {
   "cell_type": "markdown",
   "metadata": {},
   "source": [
    "### Introduction to Gene Cards \n",
    "\n",
    "[Gene Cards](http://www.genecards.org/) is a database of information about human genes. It provides information about gene function, tissue-specific expression, as well as journal articles where a given gene is mentioned. \n",
    "Look up the following genes in gene cards. What is the function of each gene? \n",
    "\n",
    " * IRX5 \n",
    " * FTO "
   ]
  },
  {
   "cell_type": "markdown",
   "metadata": {},
   "source": [
    "## STEP 10 Identify candidate target genes (genes that are in the vicinity of the variant).\n"
   ]
  },
  {
   "cell_type": "markdown",
   "metadata": {},
   "source": [
    "You may find the file **/data/project/gene_coords_hg19.bed.gz** useful. "
   ]
  },
  {
   "cell_type": "code",
   "execution_count": null,
   "metadata": {},
   "outputs": [],
   "source": [
    "## BEGIN SOLUTION \n",
    "## END SOLUTION "
   ]
  },
  {
   "cell_type": "markdown",
   "metadata": {},
   "source": [
    "Look up the function of these genes in [Gene Cards](http://www.genecards.org/)"
   ]
  },
  {
   "cell_type": "markdown",
   "metadata": {},
   "source": [
    "Visualize your variant in the [WashU Browser](http://epigenomegateway.wustl.edu/browser/) to determine which genes lie nearby. How near is each SNP to a candidate gene? \n",
    "\n",
    "To export screenshots from the WashU Browser, go to **Tracks** in the menu bar and select **Screenshot**\n",
    "![WashU Screenshot](../Images/15_BrowserScreenshot.png)"
   ]
  },
  {
   "cell_type": "markdown",
   "metadata": {},
   "source": [
    "Select **show track name** and click on **Take screenshot**.\n",
    "![Browser Screenshot 2](../Images/15_BrowserScreenshot2.png)"
   ]
  },
  {
   "cell_type": "markdown",
   "metadata": {},
   "source": [
    "## STEP 11: Using all of the information together select your top 5 most likely causal variants. "
   ]
  }
 ],
 "metadata": {
  "kernelspec": {
   "display_name": "Python 3",
   "language": "python",
   "name": "python3"
  },
  "language_info": {
   "codemirror_mode": {
    "name": "ipython",
    "version": 3
   },
   "file_extension": ".py",
   "mimetype": "text/x-python",
   "name": "python",
   "nbconvert_exporter": "python",
   "pygments_lexer": "ipython3",
   "version": "3.7.3"
  }
 },
 "nbformat": 4,
 "nbformat_minor": 4
}
