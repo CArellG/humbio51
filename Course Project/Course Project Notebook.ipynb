{
 "cells": [
  {
   "cell_type": "markdown",
   "metadata": {},
   "source": [
    "## Big Data for Biologists: Decoding Genomic Function - Class 15\n",
    "\n",
    "##  Learning Objectives\n",
    "***Students should be able to***\n",
    "<ol>\n",
    "<li> <a href=#Workflow>Participate in a collaborative programming project to gain insights into the workflow for computational projects.</a></li>\n",
    "<li> <a href=#Roles>Experience different roles in a computational project including code implementer and documentation provider.</a></li>\n",
    "<li> <a href=#Dataanalysis> Apply data analysis methods from the course to new problems </a></li> \n",
    "</ol>\n"
   ]
  },
  {
   "cell_type": "markdown",
   "metadata": {},
   "source": [
    "## Introduction to Course Project "
   ]
  },
  {
   "cell_type": "markdown",
   "metadata": {},
   "source": [
    "## Course Project Overview <a name ='Workflow'> <a name ='Roles'>\n",
    "\n",
    "The course project will have three main steps.  \n",
    "\n",
    "I.  You will be given the SNP identifiers (rs ids) for two variants in the human genome. For each of these variants you will: \n",
    "\n",
    "* write the code using the notebook guidelines below. \n",
    "* analyze the output of the code \n",
    "* create an initial draft of a report including:  \n",
    "   <ol>\n",
    "    <li> the likely causal variants </li>\n",
    "    <li> explanation of reasoning for why they are the likely causal variants</li>\n",
    "    <li> what you have learned about how the variant acts </li> (ie. through what type of mutation in a coding region or what type of element in a non-coding region)</li>\n",
    " \n",
    "II. You will proofreading and check your teammates work. \n",
    "* Switch variants and run through code.\n",
    "* The outputs of your files should be identical.\n",
    "* Add comments to annotate any code that may need clarification. \n",
    "\n",
    "III. Writing up the report (see rubric for guidelines). \n",
    "\n",
    "Deliverables: \n",
    "* Jupyter notebook with code \n",
    "* Writeup document with summary\n",
    "\n",
    "### Grading Rubric: \n",
    "\n",
    "Will be posted on Canvas with the Assignment\n",
    "\n",
    "### Project files: \n",
    "All project files can be found in the folder **/opt/data/project**\n",
    "\n",
    "* /opt/data/project/1kg_phase1_all*   -- binary variant files\n",
    "* /opt/data/project/gene_coords_hg19.bed -- bed file of gene coordinates \n",
    "* /opt/data/project/gencode.hg19.annotation.gtf -- gene annotation file \n",
    "* /opt/data/project/motifs.bed.gz -- coordinates of all transcription factor-binding motifs in the genome. \n",
    "* /opt/data/project/active_promoters_across_cell_type.bed \n",
    "* /opt/data/project/active_enhancers_across_cell_type.bed \n"
   ]
  },
  {
   "cell_type": "markdown",
   "metadata": {},
   "source": [
    "## STEP 1: Given a target variant that has been linked to a disease, what are the candidate causal variants in LD with the target variant?   "
   ]
  },
  {
   "cell_type": "code",
   "execution_count": 1,
   "metadata": {},
   "outputs": [],
   "source": [
    "#Find all single nucleotide polymorhphisms (SNPs)  in linkage disequilibrium (LD)  with your target variants.\n",
    "#YOUR CODE HERE"
   ]
  },
  {
   "cell_type": "markdown",
   "metadata": {},
   "source": [
    "## STEP 2:  Are any of the candidate causal variants in exons?  <a name ='Dataanalysis'>"
   ]
  },
  {
   "cell_type": "markdown",
   "metadata": {},
   "source": [
    "Your task is to determine whether any of the LD variants are in protein coding regions. That is, do they overlap a known exon? \n",
    "\n",
    "We have provided an hg19 gene annotation file here: \n",
    "\n",
    "* /opt/data/project/gencode.hg19.annotation.gtf \n",
    "\n",
    "You should use the \"grep\" command to extract EXON regions from this file. "
   ]
  },
  {
   "cell_type": "code",
   "execution_count": null,
   "metadata": {},
   "outputs": [],
   "source": [
    "#YOUR CODE HERE"
   ]
  },
  {
   "cell_type": "markdown",
   "metadata": {},
   "source": [
    "Now, use one of the bedtools commands we have discussed to overlap the exon file with the coordinates of your LD variants. "
   ]
  },
  {
   "cell_type": "code",
   "execution_count": 13,
   "metadata": {},
   "outputs": [],
   "source": [
    "# YOUR CODE HERE "
   ]
  },
  {
   "cell_type": "markdown",
   "metadata": {},
   "source": [
    "## STEP 3:  Have any of the variants in protein coding regions been linked to a disease? If so, which one?  What is known about how the variant could affect transcription or translation?"
   ]
  },
  {
   "cell_type": "markdown",
   "metadata": {},
   "source": [
    "It might help to visualize the variant in the [Global Biobank Engine](https://biobankengine.stanford.edu/) "
   ]
  },
  {
   "cell_type": "markdown",
   "metadata": {},
   "source": [
    "Analyze what you have observed in the Global Biobank Engine."
   ]
  },
  {
   "cell_type": "markdown",
   "metadata": {},
   "source": [
    "## STEP 4: If the variant is in a non-coding region, is it in a promoter region, if so, what is the relevant cell type? \n",
    "\n",
    "You may find the file **/opt/data/project/active_promoters_across_cell_type.bed ** useful in performing the tasks below. "
   ]
  },
  {
   "cell_type": "code",
   "execution_count": null,
   "metadata": {},
   "outputs": [],
   "source": [
    "#Determine if any of the candidate variants are in promoter regions  \n",
    "#YOUR CODE HERE"
   ]
  },
  {
   "cell_type": "code",
   "execution_count": null,
   "metadata": {},
   "outputs": [],
   "source": [
    "#List the cell types where the candidate variants are in active promoters\n",
    "#YOUR CODE HERE"
   ]
  },
  {
   "cell_type": "markdown",
   "metadata": {},
   "source": [
    "## STEP 5: If the variant is in a non-coding region, is it in an enhancer, if so, what is the relevant cell type? \n",
    "\n",
    "You may find the file **/opt/data/project/active_enhancers_across_cell_type.bed ** useful in performing the tasks below. "
   ]
  },
  {
   "cell_type": "code",
   "execution_count": null,
   "metadata": {},
   "outputs": [],
   "source": [
    "#Determine if any of the candidate variants are in enhancer regions  \n",
    "#YOUR CODE HERE"
   ]
  },
  {
   "cell_type": "code",
   "execution_count": null,
   "metadata": {},
   "outputs": [],
   "source": [
    "#List the cell types where the candidate variants are in active enhancers\n",
    "#YOUR CODE HERE"
   ]
  },
  {
   "cell_type": "markdown",
   "metadata": {},
   "source": [
    "## STEP 6: What Transcription Factors motifs overlap with the active promotors and or active enhancers identified in Step 4 and 5. \n",
    "\n",
    "You may find the  file **/opt/data/projects/motifs.bed.gz** useful for performing the task below. "
   ]
  },
  {
   "cell_type": "code",
   "execution_count": null,
   "metadata": {},
   "outputs": [],
   "source": [
    "#Determine which transcription factor motifs overlap with the active promotors or enhancers \n",
    "#identified in Step 4 and 5.  \n",
    "\n",
    "#YOUR CODE HERE\n"
   ]
  },
  {
   "cell_type": "markdown",
   "metadata": {},
   "source": [
    "## STEP 7: Look up the Transcription Factors identified in Step 6 in Gene Cards or another browser. What is known about the transcription factor?  "
   ]
  },
  {
   "cell_type": "markdown",
   "metadata": {},
   "source": [
    "## STEP 8 Identify candidate target genes (genes that are in the vicinity of the variant).\n"
   ]
  },
  {
   "cell_type": "markdown",
   "metadata": {},
   "source": [
    "You may find the file **/opt/data/project/gene_coords_hg19.bed** useful. "
   ]
  },
  {
   "cell_type": "code",
   "execution_count": 15,
   "metadata": {},
   "outputs": [],
   "source": [
    "## Your code here."
   ]
  },
  {
   "cell_type": "markdown",
   "metadata": {},
   "source": [
    "Visualize your variant in the [WashU Browser](http://epigenomegateway.wustl.edu/browser/) to determine which genes lie nearby. How near is each SNP to a candidate gene? \n",
    "\n",
    "To export screenshots from the WashU Browser, go to **Tracks** in the menu bar and select **Screenshot**\n",
    "![WashU Screenshot](../Images/15_BrowserScreenshot.png)"
   ]
  },
  {
   "cell_type": "markdown",
   "metadata": {},
   "source": [
    "Select **show track name** and click on **Take screenshot**.\n",
    "![Browser Screenshot 2](../Images/15_BrowserScreenshot2.png)"
   ]
  },
  {
   "cell_type": "markdown",
   "metadata": {},
   "source": [
    "## STEP 9 : Using all of the information together select your top 5 most likely causal variants. "
   ]
  }
 ],
 "metadata": {
  "kernelspec": {
   "display_name": "Python 3",
   "language": "python",
   "name": "python3"
  },
  "language_info": {
   "codemirror_mode": {
    "name": "ipython",
    "version": 3
   },
   "file_extension": ".py",
   "mimetype": "text/x-python",
   "name": "python",
   "nbconvert_exporter": "python",
   "pygments_lexer": "ipython3",
   "version": "3.5.3"
  }
 },
 "nbformat": 4,
 "nbformat_minor": 2
}
