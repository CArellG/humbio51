{
 "cells": [
  {
   "cell_type": "markdown",
   "metadata": {},
   "source": [
    "## Learning Goals\n",
    "* Introduction to ENCODE datasets \n",
    "* Extract sequences corresponding to promoter or enhancer regions for a gene from CHiP-seq data \n",
    "    * Mastery of bedtools command:  [\"intersectBed\"](http://bedtools.readthedocs.io/en/latest/content/tools/intersect.html) "
   ]
  },
  {
   "cell_type": "markdown",
   "metadata": {},
   "source": [
    "###  Linux command reference \n",
    "Link to [Unix Command Reference](../Unix_Basics.ipynb)"
   ]
  },
  {
   "cell_type": "markdown",
   "metadata": {},
   "source": [
    "## Working with [ENCODE](https://www.encodeproject.org/) data\n",
    "\n",
    "\n",
    "<img src=\"images/overview_2016-05May-17.png\" style=\"width: 60%; height: 60%\" align=\"center\"//>\n",
    "Promoter-like regions and enhancer-like regions are considered 'middle-level' data \n",
    "\n",
    "Promoter-like regions: \n",
    "<img src=\"images/Example.promoter.png\" style=\"width: 60%; height: 60%\" align=\"center\"//>\n",
    "\n",
    "Enhancer-like regions: \n",
    "<img src=\"images/Example.enhancerlike.png\" style=\"width: 60%; height: 60%\" align=\"center\"//>\n",
    "\n",
    "\n",
    "We will fetch a list of enhancer-like and promoter-like regions for the H1 embryonic stem cell line in humans (hg19). Select chromosome 1:1-10000000.  \n",
    "\n",
    "Use these links to fetch the regions of interest: \n",
    "\n",
    "[Promoters](http://zlab-annotations.umassmed.edu/promoters/#)\n",
    "Make sure your selections in the form match the values below: \n",
    "<img src=\"images/encode_promoter.png\",align=\"center\"//>\n",
    "\n",
    "[Enhancers](http://zlab-annotations.umassmed.edu/enhancers/) \n",
    "Make sure  your selections in the form match those below: \n",
    "<img src=\"images/encode_enhancer.png\",align=\"center\"//>\n",
    "\n",
    "\n",
    "Click on the \"Download\" link and save the zipped files in the same directory as this notebook. \n",
    "\n"
   ]
  },
  {
   "cell_type": "code",
   "execution_count": null,
   "metadata": {
    "collapsed": false
   },
   "outputs": [],
   "source": [
    "## Extract the data you have downloaded. \n",
    "!unzip *promoter*zip \n",
    "!unzip *enhancer*zip \n",
    "!gzip -d *gz \n",
    "%ls\n",
    "\n",
    "## Use the \"more\" command to examine the contents of the promoter file  \n",
    "%more ENCSR000DRY_predictions.bed \n",
    "\n",
    "## Look at the first 10 lines of the enhancer file. \n",
    "## YOUR CODE HERE \n",
    "\n",
    "\n",
    "## the naming conventions of the files are not helpful. Let's rename the files to indicate which annotates \n",
    "## promoter regions and which annotates enhancer regions \n",
    "!mv ENCSR000DRY_predictions.bed ENCSR000DRY_predictions_promoter.bed \n",
    "!mv ENCSR000ANP_predictions.bed ENCSR000ANP_predictions_enhancer.bed"
   ]
  },
  {
   "cell_type": "markdown",
   "metadata": {},
   "source": [
    "#### What file format is the data in? What is contained in each of the first five columns? \n",
    "Your answer: \n",
    "#### Bonus question -- can you explain the meaning of the remaining columns in the file (column 6 and up)? \n",
    "Your answer:"
   ]
  },
  {
   "cell_type": "markdown",
   "metadata": {},
   "source": [
    "## Bedtools Intersect \n",
    "Prior studies have shown that the gene [*LIN28A*](http://www.genecards.org/cgi-bin/carddisp.pl?gene=LIN28A) is associated with cell differentiation, and you hypothesize that this gene is likely to be expressed in the H1 cell line, as these are embryonic cells that are undergoing differentiation.  Use th LIN28A Gene Cards link above to find the chromosome and position of the LIN28A gene.  Fill in the chromosome and the starting and ending coordinates of LIN28A below:\n"
   ]
  },
  {
   "cell_type": "code",
   "execution_count": null,
   "metadata": {
    "collapsed": true
   },
   "outputs": [],
   "source": [
    "chrom_lin28a=\"\" #replace \"\" with the chromosome of the gene \n",
    "startpos_lin28a=None #replace None with the gene start position \n",
    "endpos_lin28a=None #replace None with the gene end position\n",
    "\n",
    "##ANSWER -- REMOVE BEFORE GIVING TO STUDENTS ## \n",
    "chrom_lin28a=\"chr1\" #replace \"\" with the chromosome of the gene \n",
    "startpos_lin28a=26410778 #replace None with the gene start position \n",
    "endpos_lin28a=26429728 #replace None with the gene end position\n"
   ]
  },
  {
   "cell_type": "markdown",
   "metadata": {},
   "source": [
    "We will use the bedtools intersect command to find the H1  promoter and enhancer peaks that are within 50kb of the LIN28A gene. "
   ]
  },
  {
   "cell_type": "code",
   "execution_count": 1,
   "metadata": {
    "collapsed": false
   },
   "outputs": [
    {
     "name": "stdout",
     "output_type": "stream",
     "text": [
      "\r\n",
      "Tool:    bedtools intersect (aka intersectBed)\r\n",
      "Version: v2.26.0\r\n",
      "Summary: Report overlaps between two feature files.\r\n",
      "\r\n",
      "Usage:   bedtools intersect [OPTIONS] -a <bed/gff/vcf/bam> -b <bed/gff/vcf/bam>\r\n",
      "\r\n",
      "\tNote: -b may be followed with multiple databases and/or \r\n",
      "\twildcard (*) character(s). \r\n",
      "Options: \r\n",
      "\t-wa\tWrite the original entry in A for each overlap.\r\n",
      "\r\n",
      "\t-wb\tWrite the original entry in B for each overlap.\r\n",
      "\t\t- Useful for knowing _what_ A overlaps. Restricted by -f and -r.\r\n",
      "\r\n",
      "\t-loj\tPerform a \"left outer join\". That is, for each feature in A\r\n",
      "\t\treport each overlap with B.  If no overlaps are found, \r\n",
      "\t\treport a NULL feature for B.\r\n",
      "\r\n",
      "\t-wo\tWrite the original A and B entries plus the number of base\r\n",
      "\t\tpairs of overlap between the two features.\r\n",
      "\t\t- Overlaps restricted by -f and -r.\r\n",
      "\t\t  Only A features with overlap are reported.\r\n",
      "\r\n",
      "\t-wao\tWrite the original A and B entries plus the number of base\r\n",
      "\t\tpairs of overlap between the two features.\r\n",
      "\t\t- Overlapping features restricted by -f and -r.\r\n",
      "\t\t  However, A features w/o overlap are also reported\r\n",
      "\t\t  with a NULL B feature and overlap = 0.\r\n",
      "\r\n",
      "\t-u\tWrite the original A entry _once_ if _any_ overlaps found in B.\r\n",
      "\t\t- In other words, just report the fact >=1 hit was found.\r\n",
      "\t\t- Overlaps restricted by -f and -r.\r\n",
      "\r\n",
      "\t-c\tFor each entry in A, report the number of overlaps with B.\r\n",
      "\t\t- Reports 0 for A entries that have no overlap with B.\r\n",
      "\t\t- Overlaps restricted by -f and -r.\r\n",
      "\r\n",
      "\t-v\tOnly report those entries in A that have _no overlaps_ with B.\r\n",
      "\t\t- Similar to \"grep -v\" (an homage).\r\n",
      "\r\n",
      "\t-ubam\tWrite uncompressed BAM output. Default writes compressed BAM.\r\n",
      "\r\n",
      "\t-s\tRequire same strandedness.  That is, only report hits in B\r\n",
      "\t\tthat overlap A on the _same_ strand.\r\n",
      "\t\t- By default, overlaps are reported without respect to strand.\r\n",
      "\r\n",
      "\t-S\tRequire different strandedness.  That is, only report hits in B\r\n",
      "\t\tthat overlap A on the _opposite_ strand.\r\n",
      "\t\t- By default, overlaps are reported without respect to strand.\r\n",
      "\r\n",
      "\t-f\tMinimum overlap required as a fraction of A.\r\n",
      "\t\t- Default is 1E-9 (i.e., 1bp).\r\n",
      "\t\t- FLOAT (e.g. 0.50)\r\n",
      "\r\n",
      "\t-F\tMinimum overlap required as a fraction of B.\r\n",
      "\t\t- Default is 1E-9 (i.e., 1bp).\r\n",
      "\t\t- FLOAT (e.g. 0.50)\r\n",
      "\r\n",
      "\t-r\tRequire that the fraction overlap be reciprocal for A AND B.\r\n",
      "\t\t- In other words, if -f is 0.90 and -r is used, this requires\r\n",
      "\t\t  that B overlap 90% of A and A _also_ overlaps 90% of B.\r\n",
      "\r\n",
      "\t-e\tRequire that the minimum fraction be satisfied for A OR B.\r\n",
      "\t\t- In other words, if -e is used with -f 0.90 and -F 0.10 this requires\r\n",
      "\t\t  that either 90% of A is covered OR 10% of  B is covered.\r\n",
      "\t\t  Without -e, both fractions would have to be satisfied.\r\n",
      "\r\n",
      "\t-split\tTreat \"split\" BAM or BED12 entries as distinct BED intervals.\r\n",
      "\r\n",
      "\t-g\tProvide a genome file to enforce consistent chromosome sort order\r\n",
      "\t\tacross input files. Only applies when used with -sorted option.\r\n",
      "\r\n",
      "\t-nonamecheck\tFor sorted data, don't throw an error if the file has different naming conventions\r\n",
      "\t\t\tfor the same chromosome. ex. \"chr1\" vs \"chr01\".\r\n",
      "\r\n",
      "\t-sorted\tUse the \"chromsweep\" algorithm for sorted (-k1,1 -k2,2n) input.\r\n",
      "\r\n",
      "\t-names\tWhen using multiple databases, provide an alias for each that\r\n",
      "\t\twill appear instead of a fileId when also printing the DB record.\r\n",
      "\r\n",
      "\t-filenames\tWhen using multiple databases, show each complete filename\r\n",
      "\t\t\tinstead of a fileId when also printing the DB record.\r\n",
      "\r\n",
      "\t-sortout\tWhen using multiple databases, sort the output DB hits\r\n",
      "\t\t\tfor each record.\r\n",
      "\r\n",
      "\t-bed\tIf using BAM input, write output as BED.\r\n",
      "\r\n",
      "\t-header\tPrint the header from the A file prior to results.\r\n",
      "\r\n",
      "\t-nobuf\tDisable buffered output. Using this option will cause each line\r\n",
      "\t\tof output to be printed as it is generated, rather than saved\r\n",
      "\t\tin a buffer. This will make printing large output files \r\n",
      "\t\tnoticeably slower, but can be useful in conjunction with\r\n",
      "\t\tother software tools and scripts that need to process one\r\n",
      "\t\tline of bedtools output at a time.\r\n",
      "\r\n",
      "\t-iobuf\tSpecify amount of memory to use for input buffer.\r\n",
      "\t\tTakes an integer argument. Optional suffixes K/M/G supported.\r\n",
      "\t\tNote: currently has no effect with compressed files.\r\n",
      "\r\n",
      "Notes: \r\n",
      "\t(1) When a BAM file is used for the A file, the alignment is retained if overlaps exist,\r\n",
      "\tand exlcuded if an overlap cannot be found.  If multiple overlaps exist, they are not\r\n",
      "\treported, as we are only testing for one or more overlaps.\r\n",
      "\r\n"
     ]
    }
   ],
   "source": [
    "## use the -help flag to learn about the inputs and outputs of the bedtools intersect command \n",
    "!bedtools intersect --help"
   ]
  },
  {
   "cell_type": "code",
   "execution_count": null,
   "metadata": {
    "collapsed": true
   },
   "outputs": [],
   "source": [
    "## Aha! You need to store LIN28A's coordinates in a bed file in order to run the intersect command \n",
    "## Execute this code block to generate a bed file containing the LIN28A coordinates, including regions 50k \n",
    "## upstream & downstream of the gene \n",
    "\n",
    "#add 50kb to the start and end coordinates \n",
    "startpos_lin28a-=50000\n",
    "endpos_lin28a+=50000\n",
    "\n",
    "outf=open(\"LIN28A.coords.bed\",'w')\n",
    "outf.write('\\t'.join([str(i) for i in [chrom_lin28a,startpos_lin28a,endpos_lin28a,'lin28a']])+'\\n')\n",
    "outf.close() "
   ]
  },
  {
   "cell_type": "code",
   "execution_count": null,
   "metadata": {
    "collapsed": false
   },
   "outputs": [],
   "source": [
    "## Now you can intersect the promoter and enhancer peak files with the LIN28A coordinates \n",
    "\n",
    "## promoter peaks \n",
    "!bedtools intersect -wa -a *promoter.bed -b LIN28A.coords.bed \n",
    "\n",
    "## you can use the intersectBed shortcut, it will do the same thing \n",
    "!intersectBed -wa -a *promoter.bed -b LIN28A.coords.bed"
   ]
  },
  {
   "cell_type": "code",
   "execution_count": null,
   "metadata": {
    "collapsed": false
   },
   "outputs": [],
   "source": [
    "## enhancer peaks \n",
    "!bedtools intersect -wa -a *enhancer.bed -b LIN28A.coords.bed\n",
    "\n",
    "## and again with the shortcut command: \n",
    "!intersectBed -wa -a *enhancer.bed -b LIN28A.coords.bed"
   ]
  }
 ],
 "metadata": {
  "anaconda-cloud": {},
  "kernelspec": {
   "display_name": "Python [Root]",
   "language": "python",
   "name": "Python [Root]"
  },
  "language_info": {
   "codemirror_mode": {
    "name": "ipython",
    "version": 3
   },
   "file_extension": ".py",
   "mimetype": "text/x-python",
   "name": "python",
   "nbconvert_exporter": "python",
   "pygments_lexer": "ipython3",
   "version": "3.5.2"
  }
 },
 "nbformat": 4,
 "nbformat_minor": 1
}
