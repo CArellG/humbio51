{
 "cells": [
  {
   "cell_type": "code",
   "execution_count": 7,
   "metadata": {
    "collapsed": true
   },
   "outputs": [],
   "source": [
    "# magic! (don't worry about this)\n",
    "%matplotlib inline\n",
    "%load_ext autoreload\n",
    "%autoreload 2\n"
   ]
  },
  {
   "cell_type": "code",
   "execution_count": 8,
   "metadata": {
    "collapsed": true
   },
   "outputs": [],
   "source": [
    "#We load our gene expression datasets for the Nervous, Blood, Muscoloskeletal, and Gastrointestinal Systems\n",
    "#Since we have already performed this data loading step in the previous tutorial, we have abstracted it away into\n",
    "#a helper function to produce cleaner code \n",
    "import sys\n",
    "sys.path.append('../helpers')\n",
    "from helpers import * "
   ]
  },
  {
   "cell_type": "code",
   "execution_count": 9,
   "metadata": {
    "collapsed": true
   },
   "outputs": [],
   "source": [
    "import pandas as pd \n",
    "\n",
    "#In this tutorial, we will identify genes that are differentially expressed between the\n",
    "#Blood and Gastrointestinal systems. \n",
    "systems_subset=[\"Blood\",\"Gastrointestinal\"]\n",
    "data,batches=load_rnaseq_data(systems_subset=systems_subset)"
   ]
  },
  {
   "cell_type": "code",
   "execution_count": 10,
   "metadata": {
    "collapsed": false
   },
   "outputs": [
    {
     "data": {
      "text/html": [
       "<div>\n",
       "<table border=\"1\" class=\"dataframe\">\n",
       "  <thead>\n",
       "    <tr style=\"text-align: right;\">\n",
       "      <th></th>\n",
       "      <th>ENCSR109IQO.K562_Leukemia_Cells.UConn_Graveley</th>\n",
       "      <th>ENCSR000AEF.GM12878_Lymphoblastoid_Cells.UConn_Graveley</th>\n",
       "      <th>ENCSR446RKD.Fetal_Intestine_Small.UW_Glass</th>\n",
       "      <th>ENCSR396GIH.Sigmoid_Colon.Stanford_Snyder</th>\n",
       "      <th>ENCSR000CUA.Primary_hematopoietic_stem_cells.CSHL_Gingeras</th>\n",
       "      <th>ENCSR951NPS.Fetal_Stomach.UW_Glass</th>\n",
       "      <th>ENCSR463JBR.Primary_T_CD4._cells_from_peripheral_blood.FHCRC_Heimfeld</th>\n",
       "      <th>ENCSR825GWD.Sigmoid_Colon.Stanford_Snyder</th>\n",
       "      <th>ENCSR482VRI.Fetal_Intestine_Small.UW_Glass</th>\n",
       "      <th>ENCSR357XTU.Primary_Natural_Killer_cells_from_peripheral_blood.FHCRC_Heimfeld</th>\n",
       "      <th>...</th>\n",
       "      <th>ENCSR000CUC.Monocytes.CD14._RO01746_Primary_Cells.CSHL_Gingeras</th>\n",
       "      <th>ENCSR774SEX.Fetal_Stomach.UW_Glass</th>\n",
       "      <th>ENCSR000CWL.GM12892_Lymphoblastoid_Cells.Caltech_Wold</th>\n",
       "      <th>ENCSRMAR045.Primary_T_cells_effector_memory_enriched_from_peripheral_blood.Broad_Bernstein</th>\n",
       "      <th>ENCSR449GLL.Primary_B_cells_from_peripheral_blood.FHCRC_Heimfeld</th>\n",
       "      <th>ENCSR721HDG.Gastric.Stanford_Snyder</th>\n",
       "      <th>ENCSR000CUC.Primary_monocytes_from_peripheral_blood.CSHL_Gingeras</th>\n",
       "      <th>ENCSR000AED.GM12878_Lymphoblastoid_Cells.CSHL_Gingeras</th>\n",
       "      <th>ENCSR314LXG.Karpas.422_B_Cell_Non.Hodgkin_Lymphoma_Cell_Line.CSHL_Gingeras</th>\n",
       "      <th>ENCSR642GSA.Primary_T_CD8._naive_cells_from_peripheral_blood.UCSF_Costello</th>\n",
       "    </tr>\n",
       "  </thead>\n",
       "  <tbody>\n",
       "    <tr>\n",
       "      <th>ENSG00000242268.2</th>\n",
       "      <td>0.384825</td>\n",
       "      <td>0.805894</td>\n",
       "      <td>0.147409</td>\n",
       "      <td>0.292986</td>\n",
       "      <td>0.312230</td>\n",
       "      <td>0.365661</td>\n",
       "      <td>0.320575</td>\n",
       "      <td>0.335840</td>\n",
       "      <td>-0.166682</td>\n",
       "      <td>0.555738</td>\n",
       "      <td>...</td>\n",
       "      <td>0.262340</td>\n",
       "      <td>0.484857</td>\n",
       "      <td>0.237627</td>\n",
       "      <td>0.473082</td>\n",
       "      <td>0.269468</td>\n",
       "      <td>0.319248</td>\n",
       "      <td>0.250981</td>\n",
       "      <td>0.221102</td>\n",
       "      <td>0.189249</td>\n",
       "      <td>0.418133</td>\n",
       "    </tr>\n",
       "    <tr>\n",
       "      <th>ENSG00000167578.12</th>\n",
       "      <td>3.392432</td>\n",
       "      <td>2.345439</td>\n",
       "      <td>2.697207</td>\n",
       "      <td>3.277173</td>\n",
       "      <td>3.183208</td>\n",
       "      <td>2.310099</td>\n",
       "      <td>3.835511</td>\n",
       "      <td>2.717338</td>\n",
       "      <td>2.910742</td>\n",
       "      <td>3.575442</td>\n",
       "      <td>...</td>\n",
       "      <td>4.144740</td>\n",
       "      <td>2.644906</td>\n",
       "      <td>4.476855</td>\n",
       "      <td>3.310718</td>\n",
       "      <td>4.641770</td>\n",
       "      <td>2.900447</td>\n",
       "      <td>4.129620</td>\n",
       "      <td>3.832572</td>\n",
       "      <td>3.375140</td>\n",
       "      <td>3.721178</td>\n",
       "    </tr>\n",
       "    <tr>\n",
       "      <th>ENSG00000270112.2</th>\n",
       "      <td>0.145993</td>\n",
       "      <td>0.033347</td>\n",
       "      <td>0.305393</td>\n",
       "      <td>0.024166</td>\n",
       "      <td>0.153861</td>\n",
       "      <td>-0.043155</td>\n",
       "      <td>0.174681</td>\n",
       "      <td>0.146111</td>\n",
       "      <td>0.047973</td>\n",
       "      <td>-0.005789</td>\n",
       "      <td>...</td>\n",
       "      <td>0.043265</td>\n",
       "      <td>0.099238</td>\n",
       "      <td>0.039246</td>\n",
       "      <td>0.159558</td>\n",
       "      <td>0.114350</td>\n",
       "      <td>0.169264</td>\n",
       "      <td>0.049076</td>\n",
       "      <td>-0.027327</td>\n",
       "      <td>-0.031017</td>\n",
       "      <td>0.114565</td>\n",
       "    </tr>\n",
       "    <tr>\n",
       "      <th>ENSG00000078237.4</th>\n",
       "      <td>2.051930</td>\n",
       "      <td>2.783840</td>\n",
       "      <td>2.124639</td>\n",
       "      <td>2.829874</td>\n",
       "      <td>2.028751</td>\n",
       "      <td>2.054576</td>\n",
       "      <td>2.486704</td>\n",
       "      <td>2.510008</td>\n",
       "      <td>1.834919</td>\n",
       "      <td>3.043581</td>\n",
       "      <td>...</td>\n",
       "      <td>2.145222</td>\n",
       "      <td>2.150230</td>\n",
       "      <td>2.600939</td>\n",
       "      <td>2.531810</td>\n",
       "      <td>2.413229</td>\n",
       "      <td>2.362621</td>\n",
       "      <td>2.189180</td>\n",
       "      <td>2.660524</td>\n",
       "      <td>2.550853</td>\n",
       "      <td>2.296903</td>\n",
       "    </tr>\n",
       "    <tr>\n",
       "      <th>ENSG00000263642.1</th>\n",
       "      <td>-0.000008</td>\n",
       "      <td>0.004928</td>\n",
       "      <td>0.000988</td>\n",
       "      <td>0.011045</td>\n",
       "      <td>0.002950</td>\n",
       "      <td>0.474896</td>\n",
       "      <td>0.018125</td>\n",
       "      <td>-0.003307</td>\n",
       "      <td>0.015049</td>\n",
       "      <td>0.007729</td>\n",
       "      <td>...</td>\n",
       "      <td>0.000865</td>\n",
       "      <td>-0.029728</td>\n",
       "      <td>0.005598</td>\n",
       "      <td>0.005704</td>\n",
       "      <td>-0.000461</td>\n",
       "      <td>0.001182</td>\n",
       "      <td>0.000205</td>\n",
       "      <td>0.001637</td>\n",
       "      <td>0.005670</td>\n",
       "      <td>-0.001775</td>\n",
       "    </tr>\n",
       "  </tbody>\n",
       "</table>\n",
       "<p>5 rows × 89 columns</p>\n",
       "</div>"
      ],
      "text/plain": [
       "                    ENCSR109IQO.K562_Leukemia_Cells.UConn_Graveley  \\\n",
       "ENSG00000242268.2                                         0.384825   \n",
       "ENSG00000167578.12                                        3.392432   \n",
       "ENSG00000270112.2                                         0.145993   \n",
       "ENSG00000078237.4                                         2.051930   \n",
       "ENSG00000263642.1                                        -0.000008   \n",
       "\n",
       "                    ENCSR000AEF.GM12878_Lymphoblastoid_Cells.UConn_Graveley  \\\n",
       "ENSG00000242268.2                                            0.805894         \n",
       "ENSG00000167578.12                                           2.345439         \n",
       "ENSG00000270112.2                                            0.033347         \n",
       "ENSG00000078237.4                                            2.783840         \n",
       "ENSG00000263642.1                                            0.004928         \n",
       "\n",
       "                    ENCSR446RKD.Fetal_Intestine_Small.UW_Glass  \\\n",
       "ENSG00000242268.2                                     0.147409   \n",
       "ENSG00000167578.12                                    2.697207   \n",
       "ENSG00000270112.2                                     0.305393   \n",
       "ENSG00000078237.4                                     2.124639   \n",
       "ENSG00000263642.1                                     0.000988   \n",
       "\n",
       "                    ENCSR396GIH.Sigmoid_Colon.Stanford_Snyder  \\\n",
       "ENSG00000242268.2                                    0.292986   \n",
       "ENSG00000167578.12                                   3.277173   \n",
       "ENSG00000270112.2                                    0.024166   \n",
       "ENSG00000078237.4                                    2.829874   \n",
       "ENSG00000263642.1                                    0.011045   \n",
       "\n",
       "                    ENCSR000CUA.Primary_hematopoietic_stem_cells.CSHL_Gingeras  \\\n",
       "ENSG00000242268.2                                            0.312230            \n",
       "ENSG00000167578.12                                           3.183208            \n",
       "ENSG00000270112.2                                            0.153861            \n",
       "ENSG00000078237.4                                            2.028751            \n",
       "ENSG00000263642.1                                            0.002950            \n",
       "\n",
       "                    ENCSR951NPS.Fetal_Stomach.UW_Glass  \\\n",
       "ENSG00000242268.2                             0.365661   \n",
       "ENSG00000167578.12                            2.310099   \n",
       "ENSG00000270112.2                            -0.043155   \n",
       "ENSG00000078237.4                             2.054576   \n",
       "ENSG00000263642.1                             0.474896   \n",
       "\n",
       "                    ENCSR463JBR.Primary_T_CD4._cells_from_peripheral_blood.FHCRC_Heimfeld  \\\n",
       "ENSG00000242268.2                                            0.320575                       \n",
       "ENSG00000167578.12                                           3.835511                       \n",
       "ENSG00000270112.2                                            0.174681                       \n",
       "ENSG00000078237.4                                            2.486704                       \n",
       "ENSG00000263642.1                                            0.018125                       \n",
       "\n",
       "                    ENCSR825GWD.Sigmoid_Colon.Stanford_Snyder  \\\n",
       "ENSG00000242268.2                                    0.335840   \n",
       "ENSG00000167578.12                                   2.717338   \n",
       "ENSG00000270112.2                                    0.146111   \n",
       "ENSG00000078237.4                                    2.510008   \n",
       "ENSG00000263642.1                                   -0.003307   \n",
       "\n",
       "                    ENCSR482VRI.Fetal_Intestine_Small.UW_Glass  \\\n",
       "ENSG00000242268.2                                    -0.166682   \n",
       "ENSG00000167578.12                                    2.910742   \n",
       "ENSG00000270112.2                                     0.047973   \n",
       "ENSG00000078237.4                                     1.834919   \n",
       "ENSG00000263642.1                                     0.015049   \n",
       "\n",
       "                    ENCSR357XTU.Primary_Natural_Killer_cells_from_peripheral_blood.FHCRC_Heimfeld  \\\n",
       "ENSG00000242268.2                                            0.555738                               \n",
       "ENSG00000167578.12                                           3.575442                               \n",
       "ENSG00000270112.2                                           -0.005789                               \n",
       "ENSG00000078237.4                                            3.043581                               \n",
       "ENSG00000263642.1                                            0.007729                               \n",
       "\n",
       "                                                       ...                                      \\\n",
       "ENSG00000242268.2                                      ...                                       \n",
       "ENSG00000167578.12                                     ...                                       \n",
       "ENSG00000270112.2                                      ...                                       \n",
       "ENSG00000078237.4                                      ...                                       \n",
       "ENSG00000263642.1                                      ...                                       \n",
       "\n",
       "                    ENCSR000CUC.Monocytes.CD14._RO01746_Primary_Cells.CSHL_Gingeras  \\\n",
       "ENSG00000242268.2                                            0.262340                 \n",
       "ENSG00000167578.12                                           4.144740                 \n",
       "ENSG00000270112.2                                            0.043265                 \n",
       "ENSG00000078237.4                                            2.145222                 \n",
       "ENSG00000263642.1                                            0.000865                 \n",
       "\n",
       "                    ENCSR774SEX.Fetal_Stomach.UW_Glass  \\\n",
       "ENSG00000242268.2                             0.484857   \n",
       "ENSG00000167578.12                            2.644906   \n",
       "ENSG00000270112.2                             0.099238   \n",
       "ENSG00000078237.4                             2.150230   \n",
       "ENSG00000263642.1                            -0.029728   \n",
       "\n",
       "                    ENCSR000CWL.GM12892_Lymphoblastoid_Cells.Caltech_Wold  \\\n",
       "ENSG00000242268.2                                            0.237627       \n",
       "ENSG00000167578.12                                           4.476855       \n",
       "ENSG00000270112.2                                            0.039246       \n",
       "ENSG00000078237.4                                            2.600939       \n",
       "ENSG00000263642.1                                            0.005598       \n",
       "\n",
       "                    ENCSRMAR045.Primary_T_cells_effector_memory_enriched_from_peripheral_blood.Broad_Bernstein  \\\n",
       "ENSG00000242268.2                                            0.473082                                            \n",
       "ENSG00000167578.12                                           3.310718                                            \n",
       "ENSG00000270112.2                                            0.159558                                            \n",
       "ENSG00000078237.4                                            2.531810                                            \n",
       "ENSG00000263642.1                                            0.005704                                            \n",
       "\n",
       "                    ENCSR449GLL.Primary_B_cells_from_peripheral_blood.FHCRC_Heimfeld  \\\n",
       "ENSG00000242268.2                                            0.269468                  \n",
       "ENSG00000167578.12                                           4.641770                  \n",
       "ENSG00000270112.2                                            0.114350                  \n",
       "ENSG00000078237.4                                            2.413229                  \n",
       "ENSG00000263642.1                                           -0.000461                  \n",
       "\n",
       "                    ENCSR721HDG.Gastric.Stanford_Snyder  \\\n",
       "ENSG00000242268.2                              0.319248   \n",
       "ENSG00000167578.12                             2.900447   \n",
       "ENSG00000270112.2                              0.169264   \n",
       "ENSG00000078237.4                              2.362621   \n",
       "ENSG00000263642.1                              0.001182   \n",
       "\n",
       "                    ENCSR000CUC.Primary_monocytes_from_peripheral_blood.CSHL_Gingeras  \\\n",
       "ENSG00000242268.2                                            0.250981                   \n",
       "ENSG00000167578.12                                           4.129620                   \n",
       "ENSG00000270112.2                                            0.049076                   \n",
       "ENSG00000078237.4                                            2.189180                   \n",
       "ENSG00000263642.1                                            0.000205                   \n",
       "\n",
       "                    ENCSR000AED.GM12878_Lymphoblastoid_Cells.CSHL_Gingeras  \\\n",
       "ENSG00000242268.2                                            0.221102        \n",
       "ENSG00000167578.12                                           3.832572        \n",
       "ENSG00000270112.2                                           -0.027327        \n",
       "ENSG00000078237.4                                            2.660524        \n",
       "ENSG00000263642.1                                            0.001637        \n",
       "\n",
       "                    ENCSR314LXG.Karpas.422_B_Cell_Non.Hodgkin_Lymphoma_Cell_Line.CSHL_Gingeras  \\\n",
       "ENSG00000242268.2                                            0.189249                            \n",
       "ENSG00000167578.12                                           3.375140                            \n",
       "ENSG00000270112.2                                           -0.031017                            \n",
       "ENSG00000078237.4                                            2.550853                            \n",
       "ENSG00000263642.1                                            0.005670                            \n",
       "\n",
       "                    ENCSR642GSA.Primary_T_CD8._naive_cells_from_peripheral_blood.UCSF_Costello  \n",
       "ENSG00000242268.2                                            0.418133                           \n",
       "ENSG00000167578.12                                           3.721178                           \n",
       "ENSG00000270112.2                                            0.114565                           \n",
       "ENSG00000078237.4                                            2.296903                           \n",
       "ENSG00000263642.1                                           -0.001775                           \n",
       "\n",
       "[5 rows x 89 columns]"
      ]
     },
     "execution_count": 10,
     "metadata": {},
     "output_type": "execute_result"
    }
   ],
   "source": [
    "data.head()"
   ]
  },
  {
   "cell_type": "code",
   "execution_count": 13,
   "metadata": {
    "collapsed": false
   },
   "outputs": [],
   "source": [
    "# let us import some useful things for doing math in Python \n",
    "import pylab \n",
    "import scipy \n",
    "import scipy.stats\n",
    "import numpy as np \n",
    "from math import factorial \n",
    "from scipy.stats import binom\n"
   ]
  },
  {
   "cell_type": "markdown",
   "metadata": {},
   "source": [
    "## Binomial Distribution"
   ]
  },
  {
   "cell_type": "code",
   "execution_count": 15,
   "metadata": {
    "collapsed": false
   },
   "outputs": [
    {
     "data": {
      "image/png": "[encoded data removed]",
      "text/plain": [
       "<matplotlib.figure.Figure at 0x7fa5aed2b2d0>"
      ]
     },
     "metadata": {},
     "output_type": "display_data"
    }
   ],
   "source": [
    "#plot the binomial distribution for the dataset \n",
    "p=0.5\n",
    "N=500\n",
    "dist=binom(N,p)\n",
    "trials=np.arange(0,N+1) #we simulate N trials \n",
    "plt.plot(trials,dist.pmf(trials),label=r'$p=%.1f,\\ N=%i$' % (p,N))\n",
    "plt.legend()\n",
    "plt.show()"
   ]
  },
  {
   "cell_type": "markdown",
   "metadata": {},
   "source": [
    "The binomial formula tells you the probability of observing x \"successes\", given N trials and probability(success)=p  \n",
    "\n",
    "$$ P(x;p,n)=\\frac{n!}{x!(n−x)!}p^x(1-p)^{(n-x)} $$\n"
   ]
  },
  {
   "cell_type": "markdown",
   "metadata": {},
   "source": [
    "## One Sample T-test"
   ]
  },
  {
   "cell_type": "markdown",
   "metadata": {},
   "source": [
    "$$ t=\\frac{\\bar{x} - \\mu}{S}*\\sqrt(N) $$\n",
    "\n",
    "$$ df = N - 1 $$"
   ]
  },
  {
   "cell_type": "code",
   "execution_count": 21,
   "metadata": {
    "collapsed": false
   },
   "outputs": [
    {
     "ename": "SyntaxError",
     "evalue": "invalid syntax (<ipython-input-21-67e3aec2f5fb>, line 25)",
     "output_type": "error",
     "traceback": [
      "\u001b[1;36m  File \u001b[1;32m\"<ipython-input-21-67e3aec2f5fb>\"\u001b[1;36m, line \u001b[1;32m25\u001b[0m\n\u001b[1;33m    tstat=?\u001b[0m\n\u001b[1;37m          ^\u001b[0m\n\u001b[1;31mSyntaxError\u001b[0m\u001b[1;31m:\u001b[0m invalid syntax\n"
     ]
    }
   ],
   "source": [
    "# two-sided pvalue\n",
    "#tstat is the t-statistic you have calculated\n",
    "#df is the degrees of freedom \n",
    "def pvalue_from_t(tstat,df):\n",
    "    pval = scipy.stats.t.sf(np.abs(tstat), df)*2  \n",
    "    return pval \n",
    "\n",
    "\n",
    "#TODO: \n",
    "# Next, implement the function for a one-sample T-test\n",
    "# your function should return the p-value for the t-Test \n",
    "\n",
    "# inputs to your function are:\n",
    "# samples = your list of sample values \n",
    "# mu = \"population\" mean \n",
    "\n",
    "#output of your function: the t-statistic and p-value for the one-sample T-test (2-tailed)\n",
    "#Hint: use the function 'pvalue_from_t' above to get a pvalue from a t-statistic \n",
    "#and the df(instead of using our lookup table)\n",
    "\n",
    "def t_test_one_sample(samples,mu): \n",
    "    xbar= sum(samples)/len(samples)\n",
    "    std=#Your code here \n",
    "    tstat=#Your code here \n",
    "    df=#Your code here \n",
    "    pval=pvalue_from_t(tstat,df)\n",
    "    return tstat,pval \n"
   ]
  },
  {
   "cell_type": "markdown",
   "metadata": {},
   "source": [
    "# Two-Sample T-Test (Welch's T-Test) \n",
    "\n",
    "$$ t = \\frac{\\bar{X_1}-\\bar{X_2}}{\\sqrt{\\frac{(s_1)^2}{N_1}+\\frac{(S_2)^2}{N_2}}} $$\n",
    "\n",
    "$$ df = \\frac{(\\frac{(s_1)^2}{N_1}+\\frac{(s_2)^2}{N_2})^2}{\\frac{(s_1)^4}{(N_1)^2v_1}+\\frac{(s_2)^4}{(N_2)^2v_2}} $$"
   ]
  },
  {
   "cell_type": "code",
   "execution_count": null,
   "metadata": {
    "collapsed": true
   },
   "outputs": [],
   "source": [
    "#TODO: \n",
    "#implement the function for Welch's T-test (the 2-sample T-test)\n",
    "#hint: use the function pvalue_from_t above to get the pvalue from a t-statistic and the df. \n",
    "#inputs: \n",
    "#samples1 -- a list of gene expression values from your first group (i.e. Blood samples)\n",
    "#samples2 -- a list of gene expression values from your second group (i.e. Gastrointestinal samples)\n",
    "\n",
    "#first, write a separate function to find degrees of freedom for Welch's t-test:\n",
    "def df_welch(samples1,samples2): \n",
    "    df=#Your code here! \n",
    "    return df; \n",
    "\n",
    "def t_test_welch(samples1,samples2): \n",
    "    tstat=None # Your code here! \n",
    "    df=None #Youru code here! \n",
    "    pval=pvalue_from_t(tstat,df)\n",
    "    return tstat,pval "
   ]
  },
  {
   "cell_type": "markdown",
   "metadata": {},
   "source": [
    "## Using Welch's T-test to determine whether a gene is expressed differently between Blood and Gastrointestinal cell types"
   ]
  },
  {
   "cell_type": "code",
   "execution_count": 36,
   "metadata": {
    "collapsed": false
   },
   "outputs": [],
   "source": [
    "#let's pick a gene of interest, for example gene 0. \n",
    "gene_id=0\n",
    "sample_gene=data.iloc[gene_id,:]\n",
    "blood_expression=sample_gene[np.where(batches[\"System\"]==\"Blood\")[0]]\n",
    "gastro_expression=sample_gene[np.where(batches[\"System\"]==\"Gastrointestinal\")[0]]"
   ]
  },
  {
   "cell_type": "code",
   "execution_count": 38,
   "metadata": {
    "collapsed": false
   },
   "outputs": [
    {
     "data": {
      "image/png": "[encoded data removed]",
      "text/plain": [
       "<matplotlib.figure.Figure at 0x7fa5ae8af1d0>"
      ]
     },
     "metadata": {},
     "output_type": "display_data"
    }
   ],
   "source": [
    "#plot a histogram of our data to make sure they are normally-distributed \n",
    "#(Look for a bell-shaped curve!)\n",
    "plt.hist([blood_expression,gastro_expression],label=[\"Blood\",\"Gastrointestinal\"])\n",
    "plt.legend(loc=0)\n",
    "plt.show()"
   ]
  },
  {
   "cell_type": "code",
   "execution_count": 42,
   "metadata": {
    "collapsed": false
   },
   "outputs": [
    {
     "name": "stdout",
     "output_type": "stream",
     "text": [
      "T-statistic: 3.48999129945\n"
     ]
    }
   ],
   "source": [
    "#TODO: use your implementation of the Welch's T-test to check if the gene is differentially expressed\n",
    "# between the 2 samples \n",
    "import math \n",
    "delta_mean=np.mean(blood_expression)-np.mean(gastro_expression)\n",
    "s1_squared=math.pow(np.std(blood_expression,ddof=1),2) \n",
    "s2_squared=math.pow(np.std(gastro_expression,ddof=1),2)\n",
    "N1=len(blood_expression) \n",
    "N2=len(gastro_expression)\n",
    "denominator= math.sqrt(s1_squared/N1 + s2_squared/N2) \n",
    "t=delta_mean/denominator \n",
    "print(\"T-statistic: \"+ str(t))"
   ]
  },
  {
   "cell_type": "code",
   "execution_count": 45,
   "metadata": {
    "collapsed": false
   },
   "outputs": [],
   "source": [
    "#check your work: do the values you got match the values here:\n",
    "result=scipy.stats.ttest_ind(blood_expression,gastro_expression,False)"
   ]
  },
  {
   "cell_type": "code",
   "execution_count": 50,
   "metadata": {
    "collapsed": false
   },
   "outputs": [
    {
     "name": "stdout",
     "output_type": "stream",
     "text": [
      "P-value:0.00100376787216\n",
      "T-statistic:3.40473230407\n"
     ]
    }
   ],
   "source": [
    "print(\"P-value:\"+ str(result.pvalue)) \n",
    "print(\"T-statistic:\"+str(result.statistic))\n"
   ]
  },
  {
   "cell_type": "markdown",
   "metadata": {},
   "source": [
    "We will now cycle through the list of genes in our dataset to determine which ones are differentially expressed\n",
    "with p-value < 0.05. We will store these genes in a dictionary "
   ]
  },
  {
   "cell_type": "code",
   "execution_count": 63,
   "metadata": {
    "collapsed": false
   },
   "outputs": [
    {
     "name": "stdout",
     "output_type": "stream",
     "text": [
      "num_genes:55667\n"
     ]
    }
   ],
   "source": [
    "differential_genes = dict() \n",
    "num_genes=data.shape[0]\n",
    "print(\"num_genes:\"+str(num_genes))\n",
    "for gene_id in range(num_genes):\n",
    "    sample_gene=data.iloc[gene_id,:]\n",
    "    blood_expression=sample_gene[np.where(batches[\"System\"]==\"Blood\")[0]]\n",
    "    gastro_expression=sample_gene[np.where(batches[\"System\"]==\"Gastrointestinal\")[0]]\n",
    "    #compute the t-statistic and p-value \n",
    "    result=scipy.stats.ttest_ind(blood_expression,gastro_expression,False)\n",
    "    p_value=result.pvalue \n",
    "    if p_value < 0.01: \n",
    "        differential_genes[gene_id]=p_value \n"
   ]
  },
  {
   "cell_type": "markdown",
   "metadata": {},
   "source": [
    "How many differential genes do we observe? "
   ]
  },
  {
   "cell_type": "code",
   "execution_count": 64,
   "metadata": {
    "collapsed": false
   },
   "outputs": [
    {
     "name": "stdout",
     "output_type": "stream",
     "text": [
      "differential genes:21265\n",
      "num_genes:55667\n"
     ]
    }
   ],
   "source": [
    "print(\"differential genes:\"+str(len(differential_genes.keys())))\n",
    "print(\"num_genes:\"+str(num_genes))"
   ]
  },
  {
   "cell_type": "markdown",
   "metadata": {},
   "source": [
    "That's a very high number, nearly half of all genes appear to be differentially expressed between blood and gastrointestinal samples. Something seems off... Let's plot the distribution of significant p-values that we observed. "
   ]
  },
  {
   "cell_type": "code",
   "execution_count": 65,
   "metadata": {
    "collapsed": false
   },
   "outputs": [
    {
     "data": {
      "image/png": "[encoded data removed]",
      "text/plain": [
       "<matplotlib.figure.Figure at 0x7fa5aea5b0d0>"
      ]
     },
     "metadata": {},
     "output_type": "display_data"
    }
   ],
   "source": [
    "plt.hist([differential_genes.values()],bins=100,label=[\"Significant P-values\"])\n",
    "plt.legend(loc=0)\n",
    "plt.show()"
   ]
  },
  {
   "cell_type": "markdown",
   "metadata": {},
   "source": [
    "## Multiple testing correction (Bonferroni method)"
   ]
  },
  {
   "cell_type": "markdown",
   "metadata": {},
   "source": [
    "The very high number of differentially expressed genes is due to performing multiple statistical tests. A p-value of 0.01 means that for every 100 tests we perform, we will observe one false positive. Since we have 55,667 genes in the dataset, we are performing 55,667 statistical tests. Using a p-value cutoff of 0.01, we expect to observe 0.01 * 55,667= 556 false positive genes. We can correct for this by multiplying observed p-values by the number of tests performed, or, equivalently, lowering the p-value threshold to 0.01/55,667. This is known as \"Bonferroni correction\". Let's perform Bonferroni correction on our set of differentially expressed genes. "
   ]
  },
  {
   "cell_type": "code",
   "execution_count": 66,
   "metadata": {
    "collapsed": false
   },
   "outputs": [],
   "source": [
    "new_threshold=0.01/55667\n",
    "filtered_differential_genes=dict() \n",
    "for gene in differential_genes: \n",
    "    if differential_genes[gene]<=new_threshold: \n",
    "        filtered_differential_genes[gene]=differential_genes[gene]\n",
    "        "
   ]
  },
  {
   "cell_type": "code",
   "execution_count": 67,
   "metadata": {
    "collapsed": false
   },
   "outputs": [
    {
     "name": "stdout",
     "output_type": "stream",
     "text": [
      "7222\n"
     ]
    }
   ],
   "source": [
    "print(str(len(filtered_differential_genes.keys())))"
   ]
  },
  {
   "cell_type": "markdown",
   "metadata": {},
   "source": [
    "The number of differential genes has dropped from 21,265 to 7,222"
   ]
  },
  {
   "cell_type": "markdown",
   "metadata": {},
   "source": [
    "## Visualizing differentially expressed genes in a heatmap"
   ]
  },
  {
   "cell_type": "markdown",
   "metadata": {},
   "source": [
    "Let's visualize the 1000 most significant genes from the differential analysis above. "
   ]
  },
  {
   "cell_type": "code",
   "execution_count": 69,
   "metadata": {
    "collapsed": false
   },
   "outputs": [],
   "source": [
    "import operator\n",
    "sorted_dict = sorted(filtered_differential_genes.items(), key=operator.itemgetter(1))"
   ]
  },
  {
   "cell_type": "code",
   "execution_count": 72,
   "metadata": {
    "collapsed": false
   },
   "outputs": [
    {
     "data": {
      "text/plain": [
       "[(20935, 4.2069844347600407e-54),\n",
       " (17028, 7.4271111937230416e-53),\n",
       " (3713, 7.1465956913793771e-52),\n",
       " (20796, 3.8542922444076487e-50),\n",
       " (50208, 9.6539685977734302e-49),\n",
       " (13061, 1.5928335442157112e-47),\n",
       " (37008, 2.0698314211504376e-47),\n",
       " (39220, 4.2643368106106011e-47),\n",
       " (10235, 5.6500793262237046e-47),\n",
       " (47631, 9.788158528474066e-47)]"
      ]
     },
     "execution_count": 72,
     "metadata": {},
     "output_type": "execute_result"
    }
   ],
   "source": [
    "sorted_dict[0:10]"
   ]
  },
  {
   "cell_type": "code",
   "execution_count": 73,
   "metadata": {
    "collapsed": true
   },
   "outputs": [],
   "source": [
    "significant_gene_indices=[entry[0] for entry in sorted_dict[0:1000]]"
   ]
  },
  {
   "cell_type": "code",
   "execution_count": 81,
   "metadata": {
    "collapsed": false
   },
   "outputs": [
    {
     "data": {
      "text/html": [
       "<div>\n",
       "<table border=\"1\" class=\"dataframe\">\n",
       "  <thead>\n",
       "    <tr style=\"text-align: right;\">\n",
       "      <th></th>\n",
       "      <th>ENCSR109IQO.K562_Leukemia_Cells.UConn_Graveley</th>\n",
       "      <th>ENCSR000AEF.GM12878_Lymphoblastoid_Cells.UConn_Graveley</th>\n",
       "      <th>ENCSR446RKD.Fetal_Intestine_Small.UW_Glass</th>\n",
       "      <th>ENCSR396GIH.Sigmoid_Colon.Stanford_Snyder</th>\n",
       "      <th>ENCSR000CUA.Primary_hematopoietic_stem_cells.CSHL_Gingeras</th>\n",
       "      <th>ENCSR951NPS.Fetal_Stomach.UW_Glass</th>\n",
       "      <th>ENCSR463JBR.Primary_T_CD4._cells_from_peripheral_blood.FHCRC_Heimfeld</th>\n",
       "      <th>ENCSR825GWD.Sigmoid_Colon.Stanford_Snyder</th>\n",
       "      <th>ENCSR482VRI.Fetal_Intestine_Small.UW_Glass</th>\n",
       "      <th>ENCSR357XTU.Primary_Natural_Killer_cells_from_peripheral_blood.FHCRC_Heimfeld</th>\n",
       "      <th>...</th>\n",
       "      <th>ENCSR000CUC.Monocytes.CD14._RO01746_Primary_Cells.CSHL_Gingeras</th>\n",
       "      <th>ENCSR774SEX.Fetal_Stomach.UW_Glass</th>\n",
       "      <th>ENCSR000CWL.GM12892_Lymphoblastoid_Cells.Caltech_Wold</th>\n",
       "      <th>ENCSRMAR045.Primary_T_cells_effector_memory_enriched_from_peripheral_blood.Broad_Bernstein</th>\n",
       "      <th>ENCSR449GLL.Primary_B_cells_from_peripheral_blood.FHCRC_Heimfeld</th>\n",
       "      <th>ENCSR721HDG.Gastric.Stanford_Snyder</th>\n",
       "      <th>ENCSR000CUC.Primary_monocytes_from_peripheral_blood.CSHL_Gingeras</th>\n",
       "      <th>ENCSR000AED.GM12878_Lymphoblastoid_Cells.CSHL_Gingeras</th>\n",
       "      <th>ENCSR314LXG.Karpas.422_B_Cell_Non.Hodgkin_Lymphoma_Cell_Line.CSHL_Gingeras</th>\n",
       "      <th>ENCSR642GSA.Primary_T_CD8._naive_cells_from_peripheral_blood.UCSF_Costello</th>\n",
       "    </tr>\n",
       "  </thead>\n",
       "  <tbody>\n",
       "    <tr>\n",
       "      <th>ENSG00000142949.12</th>\n",
       "      <td>1.225311</td>\n",
       "      <td>0.109627</td>\n",
       "      <td>4.095040</td>\n",
       "      <td>5.133663</td>\n",
       "      <td>2.433344</td>\n",
       "      <td>4.851898</td>\n",
       "      <td>0.722974</td>\n",
       "      <td>3.514822</td>\n",
       "      <td>5.298698</td>\n",
       "      <td>0.698331</td>\n",
       "      <td>...</td>\n",
       "      <td>0.349528</td>\n",
       "      <td>4.845277</td>\n",
       "      <td>0.088252</td>\n",
       "      <td>0.973144</td>\n",
       "      <td>1.023458</td>\n",
       "      <td>4.264763</td>\n",
       "      <td>0.359322</td>\n",
       "      <td>-0.104143</td>\n",
       "      <td>0.772921</td>\n",
       "      <td>0.816370</td>\n",
       "    </tr>\n",
       "    <tr>\n",
       "      <th>ENSG00000153904.14</th>\n",
       "      <td>1.291113</td>\n",
       "      <td>0.065139</td>\n",
       "      <td>4.289615</td>\n",
       "      <td>4.492431</td>\n",
       "      <td>1.919987</td>\n",
       "      <td>4.105837</td>\n",
       "      <td>1.054155</td>\n",
       "      <td>3.377101</td>\n",
       "      <td>4.154266</td>\n",
       "      <td>0.414264</td>\n",
       "      <td>...</td>\n",
       "      <td>-0.012423</td>\n",
       "      <td>4.375571</td>\n",
       "      <td>0.575851</td>\n",
       "      <td>0.671298</td>\n",
       "      <td>0.621801</td>\n",
       "      <td>4.064748</td>\n",
       "      <td>0.001568</td>\n",
       "      <td>-0.125511</td>\n",
       "      <td>0.512321</td>\n",
       "      <td>0.738630</td>\n",
       "    </tr>\n",
       "    <tr>\n",
       "      <th>ENSG00000162627.12</th>\n",
       "      <td>0.803375</td>\n",
       "      <td>-0.140987</td>\n",
       "      <td>3.018090</td>\n",
       "      <td>3.929186</td>\n",
       "      <td>1.816107</td>\n",
       "      <td>3.596699</td>\n",
       "      <td>0.757016</td>\n",
       "      <td>3.088947</td>\n",
       "      <td>3.366733</td>\n",
       "      <td>0.778026</td>\n",
       "      <td>...</td>\n",
       "      <td>-0.025352</td>\n",
       "      <td>3.318414</td>\n",
       "      <td>0.352264</td>\n",
       "      <td>0.838835</td>\n",
       "      <td>0.751914</td>\n",
       "      <td>3.406108</td>\n",
       "      <td>0.027961</td>\n",
       "      <td>-0.013504</td>\n",
       "      <td>0.642029</td>\n",
       "      <td>0.387852</td>\n",
       "    </tr>\n",
       "    <tr>\n",
       "      <th>ENSG00000137693.9</th>\n",
       "      <td>1.118943</td>\n",
       "      <td>0.295328</td>\n",
       "      <td>3.905921</td>\n",
       "      <td>3.709004</td>\n",
       "      <td>2.065997</td>\n",
       "      <td>3.983507</td>\n",
       "      <td>1.528051</td>\n",
       "      <td>2.994039</td>\n",
       "      <td>4.234844</td>\n",
       "      <td>0.284657</td>\n",
       "      <td>...</td>\n",
       "      <td>-0.019079</td>\n",
       "      <td>3.980979</td>\n",
       "      <td>0.060740</td>\n",
       "      <td>0.836727</td>\n",
       "      <td>0.942987</td>\n",
       "      <td>4.026407</td>\n",
       "      <td>-0.043728</td>\n",
       "      <td>0.097172</td>\n",
       "      <td>0.715855</td>\n",
       "      <td>0.829544</td>\n",
       "    </tr>\n",
       "    <tr>\n",
       "      <th>ENSG00000188643.6</th>\n",
       "      <td>0.565172</td>\n",
       "      <td>0.186556</td>\n",
       "      <td>5.148686</td>\n",
       "      <td>5.649133</td>\n",
       "      <td>2.044604</td>\n",
       "      <td>4.595869</td>\n",
       "      <td>1.113082</td>\n",
       "      <td>4.961295</td>\n",
       "      <td>5.493436</td>\n",
       "      <td>0.870852</td>\n",
       "      <td>...</td>\n",
       "      <td>-0.936660</td>\n",
       "      <td>4.614870</td>\n",
       "      <td>0.419399</td>\n",
       "      <td>0.588027</td>\n",
       "      <td>1.601923</td>\n",
       "      <td>5.141269</td>\n",
       "      <td>-0.924205</td>\n",
       "      <td>-0.303565</td>\n",
       "      <td>1.294768</td>\n",
       "      <td>0.950519</td>\n",
       "    </tr>\n",
       "  </tbody>\n",
       "</table>\n",
       "<p>5 rows × 89 columns</p>\n",
       "</div>"
      ],
      "text/plain": [
       "                    ENCSR109IQO.K562_Leukemia_Cells.UConn_Graveley  \\\n",
       "ENSG00000142949.12                                        1.225311   \n",
       "ENSG00000153904.14                                        1.291113   \n",
       "ENSG00000162627.12                                        0.803375   \n",
       "ENSG00000137693.9                                         1.118943   \n",
       "ENSG00000188643.6                                         0.565172   \n",
       "\n",
       "                    ENCSR000AEF.GM12878_Lymphoblastoid_Cells.UConn_Graveley  \\\n",
       "ENSG00000142949.12                                           0.109627         \n",
       "ENSG00000153904.14                                           0.065139         \n",
       "ENSG00000162627.12                                          -0.140987         \n",
       "ENSG00000137693.9                                            0.295328         \n",
       "ENSG00000188643.6                                            0.186556         \n",
       "\n",
       "                    ENCSR446RKD.Fetal_Intestine_Small.UW_Glass  \\\n",
       "ENSG00000142949.12                                    4.095040   \n",
       "ENSG00000153904.14                                    4.289615   \n",
       "ENSG00000162627.12                                    3.018090   \n",
       "ENSG00000137693.9                                     3.905921   \n",
       "ENSG00000188643.6                                     5.148686   \n",
       "\n",
       "                    ENCSR396GIH.Sigmoid_Colon.Stanford_Snyder  \\\n",
       "ENSG00000142949.12                                   5.133663   \n",
       "ENSG00000153904.14                                   4.492431   \n",
       "ENSG00000162627.12                                   3.929186   \n",
       "ENSG00000137693.9                                    3.709004   \n",
       "ENSG00000188643.6                                    5.649133   \n",
       "\n",
       "                    ENCSR000CUA.Primary_hematopoietic_stem_cells.CSHL_Gingeras  \\\n",
       "ENSG00000142949.12                                           2.433344            \n",
       "ENSG00000153904.14                                           1.919987            \n",
       "ENSG00000162627.12                                           1.816107            \n",
       "ENSG00000137693.9                                            2.065997            \n",
       "ENSG00000188643.6                                            2.044604            \n",
       "\n",
       "                    ENCSR951NPS.Fetal_Stomach.UW_Glass  \\\n",
       "ENSG00000142949.12                            4.851898   \n",
       "ENSG00000153904.14                            4.105837   \n",
       "ENSG00000162627.12                            3.596699   \n",
       "ENSG00000137693.9                             3.983507   \n",
       "ENSG00000188643.6                             4.595869   \n",
       "\n",
       "                    ENCSR463JBR.Primary_T_CD4._cells_from_peripheral_blood.FHCRC_Heimfeld  \\\n",
       "ENSG00000142949.12                                           0.722974                       \n",
       "ENSG00000153904.14                                           1.054155                       \n",
       "ENSG00000162627.12                                           0.757016                       \n",
       "ENSG00000137693.9                                            1.528051                       \n",
       "ENSG00000188643.6                                            1.113082                       \n",
       "\n",
       "                    ENCSR825GWD.Sigmoid_Colon.Stanford_Snyder  \\\n",
       "ENSG00000142949.12                                   3.514822   \n",
       "ENSG00000153904.14                                   3.377101   \n",
       "ENSG00000162627.12                                   3.088947   \n",
       "ENSG00000137693.9                                    2.994039   \n",
       "ENSG00000188643.6                                    4.961295   \n",
       "\n",
       "                    ENCSR482VRI.Fetal_Intestine_Small.UW_Glass  \\\n",
       "ENSG00000142949.12                                    5.298698   \n",
       "ENSG00000153904.14                                    4.154266   \n",
       "ENSG00000162627.12                                    3.366733   \n",
       "ENSG00000137693.9                                     4.234844   \n",
       "ENSG00000188643.6                                     5.493436   \n",
       "\n",
       "                    ENCSR357XTU.Primary_Natural_Killer_cells_from_peripheral_blood.FHCRC_Heimfeld  \\\n",
       "ENSG00000142949.12                                           0.698331                               \n",
       "ENSG00000153904.14                                           0.414264                               \n",
       "ENSG00000162627.12                                           0.778026                               \n",
       "ENSG00000137693.9                                            0.284657                               \n",
       "ENSG00000188643.6                                            0.870852                               \n",
       "\n",
       "                                                       ...                                      \\\n",
       "ENSG00000142949.12                                     ...                                       \n",
       "ENSG00000153904.14                                     ...                                       \n",
       "ENSG00000162627.12                                     ...                                       \n",
       "ENSG00000137693.9                                      ...                                       \n",
       "ENSG00000188643.6                                      ...                                       \n",
       "\n",
       "                    ENCSR000CUC.Monocytes.CD14._RO01746_Primary_Cells.CSHL_Gingeras  \\\n",
       "ENSG00000142949.12                                           0.349528                 \n",
       "ENSG00000153904.14                                          -0.012423                 \n",
       "ENSG00000162627.12                                          -0.025352                 \n",
       "ENSG00000137693.9                                           -0.019079                 \n",
       "ENSG00000188643.6                                           -0.936660                 \n",
       "\n",
       "                    ENCSR774SEX.Fetal_Stomach.UW_Glass  \\\n",
       "ENSG00000142949.12                            4.845277   \n",
       "ENSG00000153904.14                            4.375571   \n",
       "ENSG00000162627.12                            3.318414   \n",
       "ENSG00000137693.9                             3.980979   \n",
       "ENSG00000188643.6                             4.614870   \n",
       "\n",
       "                    ENCSR000CWL.GM12892_Lymphoblastoid_Cells.Caltech_Wold  \\\n",
       "ENSG00000142949.12                                           0.088252       \n",
       "ENSG00000153904.14                                           0.575851       \n",
       "ENSG00000162627.12                                           0.352264       \n",
       "ENSG00000137693.9                                            0.060740       \n",
       "ENSG00000188643.6                                            0.419399       \n",
       "\n",
       "                    ENCSRMAR045.Primary_T_cells_effector_memory_enriched_from_peripheral_blood.Broad_Bernstein  \\\n",
       "ENSG00000142949.12                                           0.973144                                            \n",
       "ENSG00000153904.14                                           0.671298                                            \n",
       "ENSG00000162627.12                                           0.838835                                            \n",
       "ENSG00000137693.9                                            0.836727                                            \n",
       "ENSG00000188643.6                                            0.588027                                            \n",
       "\n",
       "                    ENCSR449GLL.Primary_B_cells_from_peripheral_blood.FHCRC_Heimfeld  \\\n",
       "ENSG00000142949.12                                           1.023458                  \n",
       "ENSG00000153904.14                                           0.621801                  \n",
       "ENSG00000162627.12                                           0.751914                  \n",
       "ENSG00000137693.9                                            0.942987                  \n",
       "ENSG00000188643.6                                            1.601923                  \n",
       "\n",
       "                    ENCSR721HDG.Gastric.Stanford_Snyder  \\\n",
       "ENSG00000142949.12                             4.264763   \n",
       "ENSG00000153904.14                             4.064748   \n",
       "ENSG00000162627.12                             3.406108   \n",
       "ENSG00000137693.9                              4.026407   \n",
       "ENSG00000188643.6                              5.141269   \n",
       "\n",
       "                    ENCSR000CUC.Primary_monocytes_from_peripheral_blood.CSHL_Gingeras  \\\n",
       "ENSG00000142949.12                                           0.359322                   \n",
       "ENSG00000153904.14                                           0.001568                   \n",
       "ENSG00000162627.12                                           0.027961                   \n",
       "ENSG00000137693.9                                           -0.043728                   \n",
       "ENSG00000188643.6                                           -0.924205                   \n",
       "\n",
       "                    ENCSR000AED.GM12878_Lymphoblastoid_Cells.CSHL_Gingeras  \\\n",
       "ENSG00000142949.12                                          -0.104143        \n",
       "ENSG00000153904.14                                          -0.125511        \n",
       "ENSG00000162627.12                                          -0.013504        \n",
       "ENSG00000137693.9                                            0.097172        \n",
       "ENSG00000188643.6                                           -0.303565        \n",
       "\n",
       "                    ENCSR314LXG.Karpas.422_B_Cell_Non.Hodgkin_Lymphoma_Cell_Line.CSHL_Gingeras  \\\n",
       "ENSG00000142949.12                                           0.772921                            \n",
       "ENSG00000153904.14                                           0.512321                            \n",
       "ENSG00000162627.12                                           0.642029                            \n",
       "ENSG00000137693.9                                            0.715855                            \n",
       "ENSG00000188643.6                                            1.294768                            \n",
       "\n",
       "                    ENCSR642GSA.Primary_T_CD8._naive_cells_from_peripheral_blood.UCSF_Costello  \n",
       "ENSG00000142949.12                                           0.816370                           \n",
       "ENSG00000153904.14                                           0.738630                           \n",
       "ENSG00000162627.12                                           0.387852                           \n",
       "ENSG00000137693.9                                            0.829544                           \n",
       "ENSG00000188643.6                                            0.950519                           \n",
       "\n",
       "[5 rows x 89 columns]"
      ]
     },
     "execution_count": 81,
     "metadata": {},
     "output_type": "execute_result"
    }
   ],
   "source": [
    "data_subset=data.ix[significant_gene_indices]\n",
    "data_subset.head()"
   ]
  },
  {
   "cell_type": "markdown",
   "metadata": {},
   "source": [
    "We now visualize the gene expression values for the top 1000 most significant differentially expressed genes in a heatmap. "
   ]
  },
  {
   "cell_type": "code",
   "execution_count": 83,
   "metadata": {
    "collapsed": false
   },
   "outputs": [
    {
     "name": "stderr",
     "output_type": "stream",
     "text": [
      "/usr/local/lib/python2.7/dist-packages/bokeh/util/deprecation.py:34: BokehDeprecationWarning: webgl was deprecated in Bokeh 0.12.6 and will be removed, use output_backend instead.\n",
      "  warn(message)\n",
      "/usr/local/lib/python2.7/dist-packages/bokeh/util/deprecation.py:34: BokehDeprecationWarning: webgl was deprecated in Bokeh 0.12.6 and will be removed, use output_backend instead.\n",
      "  warn(message)\n",
      "/usr/local/lib/python2.7/dist-packages/bokeh/util/deprecation.py:34: BokehDeprecationWarning: webgl was deprecated in Bokeh 0.12.6 and will be removed, use output_backend instead.\n",
      "  warn(message)\n",
      "/usr/local/lib/python2.7/dist-packages/bokeh/util/deprecation.py:34: BokehDeprecationWarning: webgl was deprecated in Bokeh 0.12.6 and will be removed, use output_backend instead.\n",
      "  warn(message)\n"
     ]
    }
   ],
   "source": [
    "import os\n",
    "from bkheatmap import bkheatmap\n",
    "heatmap=bkheatmap(data_subset, prefix=\"Blood_Gastrointestinal_Differential_Genes\")"
   ]
  },
  {
   "cell_type": "markdown",
   "metadata": {},
   "source": [
    "[We can visualize the heatmap interactively here](Blood_Gastrointestinal_Differential_Genes.bkheatmap.html)\n",
    "\n",
    "![Differential genes Blood vs Gastrointestinal](heatmap.png)\n"
   ]
  }
 ],
 "metadata": {
  "kernelspec": {
   "display_name": "Python 2",
   "language": "python",
   "name": "python2"
  },
  "language_info": {
   "codemirror_mode": {
    "name": "ipython",
    "version": 2
   },
   "file_extension": ".py",
   "mimetype": "text/x-python",
   "name": "python",
   "nbconvert_exporter": "python",
   "pygments_lexer": "ipython2",
   "version": "2.7.10"
  }
 },
 "nbformat": 4,
 "nbformat_minor": 2
}
