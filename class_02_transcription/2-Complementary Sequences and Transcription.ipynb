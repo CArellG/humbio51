{
 "cells": [
  {
   "cell_type": "markdown",
   "metadata": {},
   "source": [
    "# Big Data for Biologists: Decoding Genomic Function- Class 2\n",
    "\n",
    "## How can we predict the protein product of a gene? \n",
    "\n",
    "##  Learning Objectives\n",
    " ***Students should be able to***\n",
    " <ol>\n",
    " <li><a href=#CentralDogma>Explain the Central Dogma and what it means for a gene to be expressed</a></li>\n",
    " <li><a href=#ComplementarySequence>Describe what a complementary DNA sequence is</a></li>\n",
    " <li><a href=#Directionality>Recognize conventions for designating DNA sequence directionality </a></li>\n",
    " <li><a href=#ForloopsandIf>Print a complementary DNA sequence using \"for loops\" and \"if\" statements</a></li>\n",
    " <li><a href=#Stringslice>Find the index of characters in a string variable and slice a string </a></li>\n",
    "  <li><a href=#Mutations>Use string slicing to make a substitution, deletion, insertion or inversion in a DNA, RNA or protein sequence</a></li>\n",
    " <li><a href=#WriteSequence>Write out a complementary DNA sequence to a file</a></li>\n",
    " <li><a href=#Transcription>Write out the RNA transcription product for a DNA sequence.</a></li>\n",
    " <li><a href=#ExonandIntron>Define RNA splicing, exon and intron </a></li> \n",
    " <li><a href=#FindStartandStopCodons>Use Python to find possible translation start and stop codons in a mRNA sequence </a></li>\n",
    " </ol>"
   ]
  },
  {
   "cell_type": "markdown",
   "metadata": {
    "collapsed": true
   },
   "source": [
    " ## What is the Central Dogma and what does it mean for a gene to be expressed?<a name='CentralDogma' />\n",
    " \n",
    "As we discussed before, typically the flow of information in cells follows what is known as \n",
    "**The Central Dogma** where **DNA makes RNA makes protein**. \n",
    "\n",
    "A gene is said to be **expressed** if it is turned into a funtional product. Proteins are one example of functional products from gene expression. DNA can also code for RNA that has a function on its own and is not translated into protein.  \n",
    " \n",
    "<img src=\"../Images/1-CentralDogma.png\" style=\"width: 50%; height: 60%\" align=\"center\"//>\n",
    "\n",
    "Today, we are going to take a closer look at replication and transcription. We'll use Python to:\n",
    "\n",
    "* Write the complementary strand from a DNA sequence.\n",
    "* Write the RNA sequence that gets produced from a DNA sequence.\n",
    "\n",
    "In the next class we'll look at translation. We'll use Python to: \n",
    "\n",
    "* Write the protein sequence that gets produced from an RNA sequence. "
   ]
  },
  {
   "cell_type": "markdown",
   "metadata": {},
   "source": [
    "\n",
    "## What is a complementary DNA sequence?<a name='ComplementarySequence' />\n",
    "\n",
    "Before one cell divides to becomes two, the process of **DNA replication** occurs. \n",
    "\n",
    "During DNA replication the two strands of DNA (review figure 1 from the last class) unwind and a new, **complementary strand** is created. \n",
    "\n",
    "The composition of the complementary strand is determined from the original DNA sequence based on the base pairing rules that we discussed in the last class and are reviewed in the figure below. \n",
    "\n",
    "<img src=\"../Images/2-BasePairs.png\" style=\"width: 40%; height: 50%\" align=\"center\"//>\n",
    "\n",
    "Without using a computer, what would be the complementary DNA sequence for AGCCCTCCA?\n"
   ]
  },
  {
   "cell_type": "markdown",
   "metadata": {},
   "source": [
    "## How do you designate DNA sequence Directionality?<a name='Directionality' />\n",
    "\n",
    "When working with DNA sequences, its important to keep track of the directionality.  \n",
    "\n",
    "A DNA molecule has two ends, a **5'end** that has a phosphate group and a **3'end** that has an OH group.\n",
    "\n",
    "By convention, DNA sequences are written 5' to 3'. Our original sequence would be: \n",
    "\n",
    "5'-AGCCCTCCA-3'.\n",
    "\n",
    "The complementary sequence would be: \n",
    "\n",
    "3'-TCGGGAGGT-5' \n",
    "\n",
    "If we don't include the information about directionality as we did above, the sequence would need to be reversed and written: \n",
    "\n",
    "TGGAGGGCT  \n",
    "\n",
    "The 5' to 3' sequence is also referred to as the + strand \n",
    "\n",
    "The 3' to 5' sequence is also referred to as the - strand \n",
    "\n",
    "\n",
    "Predicting the complementary DNA sequence for a short sequence can be performed by hand quickly, but what if you needed the complementary strand for a larger segment of DNA or if you want to write out the complementary strand for a lot of sequences? \n"
   ]
  },
  {
   "cell_type": "markdown",
   "metadata": {},
   "source": [
    "##  How can I use for loops and if statements to print a complementary DNA Sequence? <a name='ForloopsandIf' />\n",
    "\n",
    "\n",
    "Using a program like Python (or other programming languages) its possible to quickly and accurately write out a complementary DNA sequence. \n",
    "\n",
    "Keep in mind that the overall structure of the program will be similar to the program that we looked at for the first class, but this time instead of asking the program to calculate the length of the sequence, we'll be asking it to write out the complementary DNA strand for a sequence. \n",
    " \n",
    "<img src=\"../Images/2-ComplementaryDNAProgram.png\" style=\"width: 50%; height: 60%\" align=\"center\"//>\n",
    "\n",
    "The first part of the program will require similar code to what you learned last time to read the sequence into the computer. \n",
    "\n",
    "For the second part, we will need to introduce some new programming concepts **for loops** and **if statements**. \n",
    "\n",
    "To simplify things, lets first think through how you wrote out the complementary sequence in the 'AGCCCTCCA' example above. \n",
    "\n",
    "You probably started with the first letter, A, decided what the complementary base pair should be, a T, and then moved onto the second letter. \n",
    "\n",
    "The programming concept that lets you repeat the same process for each letter is what's called a **for loop**. Let's look at a simple example of a for loop first. \n",
    "\n",
    "In this first case we will just have the computer write out the original sequence so you can see clearly what the for statement does. \n"
   ]
  },
  {
   "cell_type": "code",
   "execution_count": 1,
   "metadata": {
    "collapsed": false
   },
   "outputs": [
    {
     "name": "stdout",
     "output_type": "stream",
     "text": [
      "A\n",
      "G\n",
      "C\n",
      "C\n",
      "C\n",
      "T\n",
      "C\n",
      "C\n",
      "A\n"
     ]
    }
   ],
   "source": [
    "for i in 'AGCCCTCCA':\n",
    "    print (i)"
   ]
  },
  {
   "cell_type": "markdown",
   "metadata": {},
   "source": [
    "To write out the complementary sequence instead of the original sequence, for each letter we want the computer to consider if the original basepair is an A,T,G or C and write out T if the original base pair is an A, A if the original base pair is a T, C if the original base pair is a G and G if the original base pair is a C. \n",
    "\n",
    "In Python you can code this decision making process using **if** statements. "
   ]
  },
  {
   "cell_type": "code",
   "execution_count": 2,
   "metadata": {
    "collapsed": false
   },
   "outputs": [
    {
     "name": "stdout",
     "output_type": "stream",
     "text": [
      "T\n",
      "C\n",
      "G\n",
      "G\n",
      "G\n",
      "A\n",
      "G\n",
      "G\n",
      "T\n"
     ]
    }
   ],
   "source": [
    "#Write out the complementary sequence for a DNA sequence\n",
    "for i in 'AGCCCTCCA':\n",
    "    if  i=='A':\n",
    "        print ('T')\n",
    "    if i=='T':\n",
    "        print ('A')\n",
    "    if i=='G':\n",
    "        print ('C')\n",
    "    if i=='C':\n",
    "        print ('G') "
   ]
  },
  {
   "cell_type": "markdown",
   "metadata": {},
   "source": [
    "The code above successfully prints out the complementary sequence, but our goal is not just to print out the sequence to the screen, but to print out the sequence into a file. \n",
    "\n",
    "We will need to introduce a variable where we store the complementary sequence so we can call it later to print the sequence or write to a file. \n",
    "\n",
    "We'll print the sequence in the first example to make sure that the code is set up properly, then we'll add the code to write to a textfile. "
   ]
  },
  {
   "cell_type": "code",
   "execution_count": 3,
   "metadata": {
    "collapsed": false
   },
   "outputs": [
    {
     "name": "stdout",
     "output_type": "stream",
     "text": [
      "TCGGGAGGT\n"
     ]
    }
   ],
   "source": [
    "#Write out the complementary sequence for a DNA sequence\n",
    "complementarysequence='' #this defines the variable 'complementarysequence'\n",
    "for i in 'AGCCCTCCA':\n",
    "    if  i=='A':\n",
    "        complementarysequence=complementarysequence+'T'\n",
    "    if i=='T':\n",
    "        complementarysequence=complementarysequence+'A'\n",
    "    if i=='G':\n",
    "        complementarysequence=complementarysequence+'C'\n",
    "    if i=='C':\n",
    "        complementarysequence=complementarysequence+'G'\n",
    "print (complementarysequence)\n"
   ]
  },
  {
   "cell_type": "markdown",
   "metadata": {},
   "source": [
    "What is a problem with the output of the code above?"
   ]
  },
  {
   "cell_type": "markdown",
   "metadata": {},
   "source": [
    "## Find the index of characters in a string variable and slice a string<a name='Stringslice' />\n",
    "\n",
    "The complementary sequence that we wrote out above is the sequence in the 3' to 5' direction instead of the 5' to 3' direction. \n",
    "\n",
    "We are going to change the direction using a method called string slicing. \n",
    "\n",
    "**Strings** are composed of text or characters and are not numbers which can be added, multiplied or divided. The sequences we have been looking at are strings with all letters, but strings can have numbers or special characters. \n",
    "\n",
    "To slice a string, its helpful first to know how to index the characters in a sequence. \n",
    "\n",
    "In Python, the first letter of the sequence gets an index of a \"0\" (in other programing languages indexing may start with \"1\"). \n",
    "\n",
    "To print the first character in a variable called \"sequence\" you would write: \n",
    "\n",
    "print(sequence[0])\n",
    "\n",
    "To slice a string (or obtain a range of characters) you can specify the beginning index and the end index: \n",
    "\n",
    "sequence[0:2]\n",
    "\n",
    "Note [0:2] includes zero and goes up to everything before 2. The character in the [2] position is not included.  \n",
    "\n",
    "Test yourself by predicting the output using the code below. "
   ]
  },
  {
   "cell_type": "code",
   "execution_count": 4,
   "metadata": {
    "collapsed": false
   },
   "outputs": [
    {
     "name": "stdout",
     "output_type": "stream",
     "text": [
      "T\n",
      "TC\n",
      "TCG\n",
      "C\n",
      "CG\n",
      "TCGG\n"
     ]
    }
   ],
   "source": [
    "sequence='TCGGGAGGT'\n",
    "print (sequence[0])\n",
    "print (sequence[0:2])\n",
    "print (sequence[0:3])\n",
    "print (sequence[1])\n",
    "print (sequence[1:3])\n",
    "print (sequence[:4])"
   ]
  },
  {
   "cell_type": "markdown",
   "metadata": {},
   "source": [
    "If you want to skip characters in a string, or reverse the order, you can add a stride. \n",
    "\n",
    "For example, if you want to write out everyother character you could say. "
   ]
  },
  {
   "cell_type": "code",
   "execution_count": 5,
   "metadata": {
    "collapsed": false
   },
   "outputs": [
    {
     "name": "stdout",
     "output_type": "stream",
     "text": [
      "GG\n"
     ]
    }
   ],
   "source": [
    "sequence='TCGGGAGGT'\n",
    "\n",
    "#slice the sequence string from [lowerbound:upperbound:stride]\n",
    "print (sequence[2:5:2])"
   ]
  },
  {
   "cell_type": "markdown",
   "metadata": {},
   "source": [
    "If the lower and upper bound are not specified, by default the program will use the first charcter for the lower bound and last character for the upper bound. This is helpful when you are working with longer sequences and don't know the length ahead of time. \n",
    "\n",
    "In our example, sequence [0:9:2] gives the same output as [::2]. "
   ]
  },
  {
   "cell_type": "code",
   "execution_count": 6,
   "metadata": {
    "collapsed": false
   },
   "outputs": [
    {
     "name": "stdout",
     "output_type": "stream",
     "text": [
      "TGGGT\n",
      "TGGGT\n"
     ]
    }
   ],
   "source": [
    "sequence='TCGGGAGGT'\n",
    "\n",
    "#slice the sequence string from [lowerbound:upperbound:stride]\n",
    "print (sequence[0:9:2])\n",
    "print (sequence[::2])"
   ]
  },
  {
   "cell_type": "code",
   "execution_count": 7,
   "metadata": {
    "collapsed": false
   },
   "outputs": [
    {
     "name": "stdout",
     "output_type": "stream",
     "text": [
      "TGGAGGGCT\n"
     ]
    }
   ],
   "source": [
    "sequence='TCGGGAGGT'\n",
    "\n",
    "#slice the sequence string from [lowerbound:upperbound:stride] a negative value for the stride reverses the direction. \n",
    "print(sequence[::-1])"
   ]
  },
  {
   "cell_type": "markdown",
   "metadata": {},
   "source": [
    "## Use string slicing to make a substitution, deletion, insertion or inversion in a DNA, RNA or protein sequence <a name='Mutations' />"
   ]
  },
  {
   "cell_type": "markdown",
   "metadata": {},
   "source": [
    "String slicing can also be used to write out a DNA, RNA or protein sequence with a substitution, deletion or insertion. \n",
    "\n",
    "Later in the class, you will learn more about the types of variation that can take place in DNA from different individuals or populations. \n",
    "\n",
    "In cases where variation leads to a disease, it is often reffered to as a **mutation**. \n",
    "\n",
    "These mutations are often substitutions, deletions or insertions.  \n",
    "\n",
    "Below are examples of how you can use string slicing to make a substitution, deletion or insertion. "
   ]
  },
  {
   "cell_type": "code",
   "execution_count": 8,
   "metadata": {
    "collapsed": false
   },
   "outputs": [
    {
     "name": "stdout",
     "output_type": "stream",
     "text": [
      "TCGGAGGT\n"
     ]
    }
   ],
   "source": [
    "#Make a single substitution in a sequence \n",
    "sequence='TCGGGAGGT'\n",
    "mutated_sequence= sequence[0:4] + 'A' + sequence[6:]\n",
    "print(mutated_sequence)"
   ]
  },
  {
   "cell_type": "code",
   "execution_count": 9,
   "metadata": {
    "collapsed": false
   },
   "outputs": [
    {
     "name": "stdout",
     "output_type": "stream",
     "text": [
      "TCGGGGT\n"
     ]
    }
   ],
   "source": [
    "#Delete part of a sequence\n",
    "sequence='TCGGGAGGT'\n",
    "mutated_sequence= sequence[0:4] + sequence[6:]\n",
    "print(mutated_sequence)"
   ]
  },
  {
   "cell_type": "code",
   "execution_count": 10,
   "metadata": {
    "collapsed": false
   },
   "outputs": [
    {
     "name": "stdout",
     "output_type": "stream",
     "text": [
      "TCGGATGGT\n"
     ]
    }
   ],
   "source": [
    "#Add an insertion in a sequence \n",
    "sequence='TCGGGAGGT'\n",
    "mutated_sequence= sequence[0:4] + 'AT' + sequence[6:]\n",
    "print(mutated_sequence)"
   ]
  },
  {
   "cell_type": "markdown",
   "metadata": {},
   "source": [
    "A negative \"stride\" notation can be used to invert (or reverse) a sequence. We can use a negative stride to write out the complementary DNA sequence from the example above in the 5' to 3' direction. Edit the print statement in the box below to write out the complementary sequence in the 5' to 3' direction.  "
   ]
  },
  {
   "cell_type": "code",
   "execution_count": 11,
   "metadata": {
    "collapsed": false
   },
   "outputs": [
    {
     "name": "stdout",
     "output_type": "stream",
     "text": [
      "TCGGGAGGT\n",
      "TGGAGGGCT\n"
     ]
    }
   ],
   "source": [
    "#Write out the complementary sequence for a DNA sequence\n",
    "complementarysequence='' #this defines the variable 'complementarysequence'\n",
    "for i in 'AGCCCTCCA':\n",
    "    if  i=='A':\n",
    "        complementarysequence=complementarysequence+'T'\n",
    "    if i=='T':\n",
    "        complementarysequence=complementarysequence+'A'\n",
    "    if i=='G':\n",
    "        complementarysequence=complementarysequence+'C'\n",
    "    if i=='C':\n",
    "        complementarysequence=complementarysequence+'G'\n",
    "print (complementarysequence)\n",
    "\n",
    "#ANSWER REMOVE BEFORE GIVING TO STUDENTS. \n",
    "print (complementarysequence[::-1])"
   ]
  },
  {
   "cell_type": "markdown",
   "metadata": {},
   "source": [
    "A negative stride can also be used to invert part of a sequence"
   ]
  },
  {
   "cell_type": "code",
   "execution_count": 12,
   "metadata": {
    "collapsed": false
   },
   "outputs": [
    {
     "name": "stdout",
     "output_type": "stream",
     "text": [
      "GGA\n",
      "TCGGGGGAT\n"
     ]
    }
   ],
   "source": [
    "#Add an inversion in a sequence \n",
    "sequence='TCGGGAGGT'\n",
    "print(sequence[7:4:-1])\n",
    "mutated_sequence= sequence[0:5] + sequence[7:4:-1] + sequence[8:]\n",
    "print(mutated_sequence)"
   ]
  },
  {
   "cell_type": "markdown",
   "metadata": {},
   "source": [
    "## How can I write out a complementary DNA sequence to a file? <a name='WriteSequence' />\n",
    "\n",
    "Now that the complementary sequence is being written out correctly in the 5' to 3' direction, we can use the code below to write out a sequence to a file. "
   ]
  },
  {
   "cell_type": "code",
   "execution_count": 13,
   "metadata": {
    "collapsed": true
   },
   "outputs": [],
   "source": [
    "#Write out the complementary sequence for a DNA sequence to a file\n",
    "complementarysequence='' #this defines the variable 'complementarysequence'\n",
    "for i in 'AGCCCTCCA':\n",
    "    if  i=='A':\n",
    "        complementarysequence=complementarysequence+'T'\n",
    "    if i=='T':\n",
    "        complementarysequence=complementarysequence+'A'\n",
    "    if i=='G':\n",
    "        complementarysequence=complementarysequence+'C'\n",
    "    if i=='C':\n",
    "        complementarysequence=complementarysequence+'G'\n",
    "\n",
    "#create a file object f and open a writeable file called 'complementarysequence' in the working directory\n",
    "f =open('complementarysequeunce', 'w') \n",
    "\n",
    "#write the complementary sequence variable to the 'complementarysequence' file\n",
    "f.write(complementarysequence[::-1]) \n",
    "\n",
    "#close the file object f so it does not take resources in the program        \n",
    "f.close () "
   ]
  },
  {
   "cell_type": "markdown",
   "metadata": {},
   "source": [
    "If you list the files in your working directory now what do you expect to see? Try this!\n",
    "\n",
    "You can also look at the complementary sequence in a text editor. "
   ]
  },
  {
   "cell_type": "code",
   "execution_count": 14,
   "metadata": {
    "collapsed": true
   },
   "outputs": [],
   "source": [
    "#list the files in your working directory"
   ]
  },
  {
   "cell_type": "code",
   "execution_count": 15,
   "metadata": {
    "collapsed": false
   },
   "outputs": [
    {
     "data": {
      "text/plain": [
       "['.DS_Store',\n",
       " '.ipynb_checkpoints',\n",
       " 'complementarysequeunce',\n",
       " '2-Complementary Sequences and Transcription.ipynb']"
      ]
     },
     "execution_count": 15,
     "metadata": {},
     "output_type": "execute_result"
    }
   ],
   "source": [
    "#ANSWER REMOVE BEFORE GIVING TO STUDENTS. \n",
    "import os\n",
    "os.listdir('.')"
   ]
  },
  {
   "cell_type": "markdown",
   "metadata": {},
   "source": [
    "For short sequences like the example we've been using, having a computer doesn't save significant amounts of time, but for longer sequences it can be a big help. \n",
    "\n",
    "Now try combining the commands that we used yesterday to read in the insulin sequence and print out the complementary DNA sequence for insulin. "
   ]
  },
  {
   "cell_type": "code",
   "execution_count": 16,
   "metadata": {
    "collapsed": false
   },
   "outputs": [
    {
     "name": "stdout",
     "output_type": "stream",
     "text": [
      "GCTGGTTCAAGGGCTTTATTCCATCTCTCTCGGTGCAGGAGGCGGCGGGTGTGGGGCTGCCTGCGGGCTGCGTCTAGTTGCAGTAGTTCTCCAGCTGGTAGAGGGAGCAGATGCTGGTACAGCATTGTTCCACAATGCCACGCTTCTGCAGGGACCCCTCCAGGGCCAAGGGCTGCAGGCTGCCTGCACCAGGGCCCCCGCCCAGCTCCACCTGCCCCACTGCCAGGACGTGCCGCGCAGAGCAGGTTCCGGAACAGCGGCGAGGCAGAGGGACACAGGAGGACACAGTCAGGGAGACACAGTGCCCGCCTGCCCGCCAGCCCTAGGTCGCACTCCCACCCATCTCCAGCCGGGCTGGACCCAGGTTAGAGGGAGGGTCACCCACACTGGGTGTGGACCTACAGGCCCCAACGCCCACATGTCCCACCTCCTTCCCCCGCCCCGGGGCAGCGTCACAGTGGGAGCCTGAACAGGTGATCCCAGTACTTCTCCCCAGGGCCTGTCCCCAGCATCTTCCCCATCTCCTGACTATGGAGCTGCCGTGAGGCCTGGCGACAGGGGTCTGGCCCACTCAGGCAGGCAGCCACGCCCTCCTCCGGGCGTGATGGGGTGTTCGCCCAGAGGCAGGCAGCGTGGGGCACCCTGTGACCCCAGGTCACCCAGGACTTTACTTAACAAAACACTTGAATCTGCGGTCATCAAATGAGGGTGGAGAAATGGGCTGCGGGGCATTTGTTTGAGGGGCGAGTGGAGGGAGGAGCGTGCCCACCCTCTGATGTATCTCGGGGCTGCCGAAGCCAACACCGTCCTCAGGCTGAGATTCTGACTGGGCCACAGGGAGCTGGTCACTTTTAGGACGTGACCAAGAGAACTTCTTTTTAAAAAAGTGCACCTGACCCCCTGCTGGGTGGCAGCCTCCTGCCCCCTTCTGCCCATGCTGGGTGGGAGCGCCAGGAGCAGGGGGTGGCTGGGGGCGGCCAGGGGCAGCAATGGGCAGTTGGCTCACCCTGCAGGTCCTCTGCCTCCCGGCGGGTCTTGGGTGTGTAGAAGAAGCCTCGTTCCCCGCACACTAGGTAGAGAGCTTCCACCAGGTGTGAGCCGCACAGGTGTTGGTTCACAAAGGCTGCGGCTGGGTCAGGTCCCCAGAGGGCCAGCAGCGCCAGCAGGGGCAGGAGGCGCATCCACAGGGCCATGGCAGAAGGACAGTGATCTGGGAGACAGGCAGGGCTGAGGCAGGCTGAAGGCCAGGTGCCCTGCCTTGGGGCCCCTGGGCTCACCCCCACATGCTTCACGAGCCCAGCCACGTCCTCCCTGCTGCAGAGCTGGGGCCTGGGGTCCAGCCACCCTGGAATCCTGAGCCCACCTGACGCAAAGGCCCTTGGAACAGACCTGCTTGATGGCCTCTTCTGATGCAGCCTGTCCTGGAGGGCT\n"
     ]
    }
   ],
   "source": [
    "#Write out the complementary sequence for a DNA sequence\n",
    "FASTAgenesequence=open('../class_01_gene_sequences/data/Human-Insulin-NG_007114.1.txt','r')\n",
    "genesequence=(FASTAgenesequence.readlines()[1:])\n",
    "genesequence=''.join(genesequence)\n",
    "genesequence=genesequence.replace('\\n','')\n",
    "complementarysequence='' #this defines the variable 'complementarysequence'\n",
    "\n",
    "\n",
    "#ANSWER REMOVE BEFORE GIVING TO STUDENTS.\n",
    "for i in genesequence:\n",
    "    if i=='A':\n",
    "        complementarysequence=complementarysequence+'T'\n",
    "    if i=='T':\n",
    "        complementarysequence=complementarysequence+'A'\n",
    "    if i=='G':\n",
    "        complementarysequence=complementarysequence+'C'\n",
    "    if i=='C':\n",
    "        complementarysequence=complementarysequence+'G'\n",
    "print (complementarysequence[::-1])"
   ]
  },
  {
   "cell_type": "markdown",
   "metadata": {},
   "source": [
    "## How can I write out the RNA transcription product of a DNA sequence?<a name='Transcription' />\n",
    "\n",
    "During the process of transcription (see Central Dogma Figure above), DNA is transcribed into RNA. There are a few structural differences between RNA and DNA molecules that we will not cover in detail. \n",
    "\n",
    "For the purposes of this class, the main difference between RNA and DNA that you will need to be aware of is that RNA has the base pair **Uracil (U)** instead of Thymine (T).   \n",
    "\n",
    "By convention, most of the DNA sequences that are listed in gene databases are written in the 5' to 3' direction and are known as the **coding strand**. Unless there is some type of error in the transcription process, the coding strand of DNA will have the same sequence as the 5' to 3' RNA that is made in transcription except the Ts will become Us. \n",
    "\n",
    "There are a number of different types of RNA in a cell. For this class, we will be focusing on messenger RNA or **mRNA** which is the RNA that codes from proteins. \n",
    "\n",
    "Using what you learned above, complete the script below that would convert the DNA sequence for insulin to the corresponding RNA sequence?  "
   ]
  },
  {
   "cell_type": "code",
   "execution_count": 17,
   "metadata": {
    "collapsed": false
   },
   "outputs": [
    {
     "name": "stdout",
     "output_type": "stream",
     "text": [
      "\n",
      "AGCCCUCCAGGACAGGCUGCAUCAGAAGAGGCCAUCAAGCAGGUCUGUUCCAAGGGCCUUUGCGUCAGGUGGGCUCAGGAUUCCAGGGUGGCUGGACCCCAGGCCCCAGCUCUGCAGCAGGGAGGACGUGGCUGGGCUCGUGAAGCAUGUGGGGGUGAGCCCAGGGGCCCCAAGGCAGGGCACCUGGCCUUCAGCCUGCCUCAGCCCUGCCUGUCUCCCAGAUCACUGUCCUUCUGCCAUGGCCCUGUGGAUGCGCCUCCUGCCCCUGCUGGCGCUGCUGGCCCUCUGGGGACCUGACCCAGCCGCAGCCUUUGUGAACCAACACCUGUGCGGCUCACACCUGGUGGAAGCUCUCUACCUAGUGUGCGGGGAACGAGGCUUCUUCUACACACCCAAGACCCGCCGGGAGGCAGAGGACCUGCAGGGUGAGCCAACUGCCCAUUGCUGCCCCUGGCCGCCCCCAGCCACCCCCUGCUCCUGGCGCUCCCACCCAGCAUGGGCAGAAGGGGGCAGGAGGCUGCCACCCAGCAGGGGGUCAGGUGCACUUUUUUAAAAAGAAGUUCUCUUGGUCACGUCCUAAAAGUGACCAGCUCCCUGUGGCCCAGUCAGAAUCUCAGCCUGAGGACGGUGUUGGCUUCGGCAGCCCCGAGAUACAUCAGAGGGUGGGCACGCUCCUCCCUCCACUCGCCCCUCAAACAAAUGCCCCGCAGCCCAUUUCUCCACCCUCAUUUGAUGACCGCAGAUUCAAGUGUUUUGUUAAGUAAAGUCCUGGGUGACCUGGGGUCACAGGGUGCCCCACGCUGCCUGCCUCUGGGCGAACACCCCAUCACGCCCGGAGGAGGGCGUGGCUGCCUGCCUGAGUGGGCCAGACCCCUGUCGCCAGGCCUCACGGCAGCUCCAUAGUCAGGAGAUGGGGAAGAUGCUGGGGACAGGCCCUGGGGAGAAGUACUGGGAUCACCUGUUCAGGCUCCCACUGUGACGCUGCCCCGGGGCGGGGGAAGGAGGUGGGACAUGUGGGCGUUGGGGCCUGUAGGUCCACACCCAGUGUGGGUGACCCUCCCUCUAACCUGGGUCCAGCCCGGCUGGAGAUGGGUGGGAGUGCGACCUAGGGCUGGCGGGCAGGCGGGCACUGUGUCUCCCUGACUGUGUCCUCCUGUGUCCCUCUGCCUCGCCGCUGUUCCGGAACCUGCUCUGCGCGGCACGUCCUGGCAGUGGGGCAGGUGGAGCUGGGCGGGGGCCCUGGUGCAGGCAGCCUGCAGCCCUUGGCCCUGGAGGGGUCCCUGCAGAAGCGUGGCAUUGUGGAACAAUGCUGUACCAGCAUCUGCUCCCUCUACCAGCUGGAGAACUACUGCAACUAGACGCAGCCCGCAGGCAGCCCCACACCCGCCGCCUCCUGCACCGAGAGAGAUGGAAUAAAGCCCUUGAACCAGC\n"
     ]
    }
   ],
   "source": [
    "#Write out the pre-mRNA sequence for a DNA sequence\n",
    "FASTAgenesequence=open('../class_01_gene_sequences/data/Human-Insulin-NG_007114.1.txt','r')\n",
    "genesequence=(FASTAgenesequence.readlines()[1:])\n",
    "genesequence=''.join(genesequence)\n",
    "genesequence=genesequence.replace('\\n','')\n",
    "RNAsequence='' #this defines the variable 'RNAsequence'\n",
    "\n",
    "\n",
    "#loops over each character in genesequence and converts Ts to Us in the RNAsequence variable.\n",
    "for i in genesequence:\n",
    "    if i=='A':\n",
    "        RNAsequence=RNAsequence+' '\n",
    "    if i=='T':\n",
    "        RNAsequence=RNAsequence+' '\n",
    "    if i=='G':\n",
    "        RNAsequence=RNAsequence+' '\n",
    "    if i=='C':\n",
    "        RNAsequence=RNAsequence+' '\n",
    "print ( )\n",
    "\n",
    "\n",
    "##ANSWER -- REMOVE BEFORE GIVING TO STUDENTS ## \n",
    "#Write out the pre-mRNA sequence for a DNA sequence\n",
    "FASTAgenesequence=open('../class_01_gene_sequences/data/Human-Insulin-NG_007114.1.txt','r')\n",
    "genesequence=(FASTAgenesequence.readlines()[1:])\n",
    "genesequence=''.join(genesequence)\n",
    "genesequence=genesequence.replace('\\n','')\n",
    "RNAsequence='' #this defines the variable 'RNAsequence'\n",
    "for i in genesequence:\n",
    "    if i=='A':\n",
    "        RNAsequence=RNAsequence+'A'\n",
    "    if i=='T':\n",
    "        RNAsequence=RNAsequence+'U'\n",
    "    if i=='G':\n",
    "        RNAsequence=RNAsequence+'G'\n",
    "    if i=='C':\n",
    "        RNAsequence=RNAsequence+'C'\n",
    "print (RNAsequence)"
   ]
  },
  {
   "cell_type": "markdown",
   "metadata": {},
   "source": [
    "A slightly shorter alternative for the code above is to use an if/else statement. \n",
    "\n",
    "**If** the original base pair is a T then it needs to be changed to a U. \n",
    "**Else** keep the original base pair. \n",
    "\n",
    "Here's how the **if/else** statement looks in Python. "
   ]
  },
  {
   "cell_type": "code",
   "execution_count": 18,
   "metadata": {
    "collapsed": false
   },
   "outputs": [
    {
     "name": "stdout",
     "output_type": "stream",
     "text": [
      "\n",
      "AGCCCUCCAGGACAGGCUGCAUCAGAAGAGGCCAUCAAGCAGGUCUGUUCCAAGGGCCUUUGCGUCAGGU\n",
      "GGGCUCAGGAUUCCAGGGUGGCUGGACCCCAGGCCCCAGCUCUGCAGCAGGGAGGACGUGGCUGGGCUCG\n",
      "UGAAGCAUGUGGGGGUGAGCCCAGGGGCCCCAAGGCAGGGCACCUGGCCUUCAGCCUGCCUCAGCCCUGC\n",
      "CUGUCUCCCAGAUCACUGUCCUUCUGCCAUGGCCCUGUGGAUGCGCCUCCUGCCCCUGCUGGCGCUGCUG\n",
      "GCCCUCUGGGGACCUGACCCAGCCGCAGCCUUUGUGAACCAACACCUGUGCGGCUCACACCUGGUGGAAG\n",
      "CUCUCUACCUAGUGUGCGGGGAACGAGGCUUCUUCUACACACCCAAGACCCGCCGGGAGGCAGAGGACCU\n",
      "GCAGGGUGAGCCAACUGCCCAUUGCUGCCCCUGGCCGCCCCCAGCCACCCCCUGCUCCUGGCGCUCCCAC\n",
      "CCAGCAUGGGCAGAAGGGGGCAGGAGGCUGCCACCCAGCAGGGGGUCAGGUGCACUUUUUUAAAAAGAAG\n",
      "UUCUCUUGGUCACGUCCUAAAAGUGACCAGCUCCCUGUGGCCCAGUCAGAAUCUCAGCCUGAGGACGGUG\n",
      "UUGGCUUCGGCAGCCCCGAGAUACAUCAGAGGGUGGGCACGCUCCUCCCUCCACUCGCCCCUCAAACAAA\n",
      "UGCCCCGCAGCCCAUUUCUCCACCCUCAUUUGAUGACCGCAGAUUCAAGUGUUUUGUUAAGUAAAGUCCU\n",
      "GGGUGACCUGGGGUCACAGGGUGCCCCACGCUGCCUGCCUCUGGGCGAACACCCCAUCACGCCCGGAGGA\n",
      "GGGCGUGGCUGCCUGCCUGAGUGGGCCAGACCCCUGUCGCCAGGCCUCACGGCAGCUCCAUAGUCAGGAG\n",
      "AUGGGGAAGAUGCUGGGGACAGGCCCUGGGGAGAAGUACUGGGAUCACCUGUUCAGGCUCCCACUGUGAC\n",
      "GCUGCCCCGGGGCGGGGGAAGGAGGUGGGACAUGUGGGCGUUGGGGCCUGUAGGUCCACACCCAGUGUGG\n",
      "GUGACCCUCCCUCUAACCUGGGUCCAGCCCGGCUGGAGAUGGGUGGGAGUGCGACCUAGGGCUGGCGGGC\n",
      "AGGCGGGCACUGUGUCUCCCUGACUGUGUCCUCCUGUGUCCCUCUGCCUCGCCGCUGUUCCGGAACCUGC\n",
      "UCUGCGCGGCACGUCCUGGCAGUGGGGCAGGUGGAGCUGGGCGGGGGCCCUGGUGCAGGCAGCCUGCAGC\n",
      "CCUUGGCCCUGGAGGGGUCCCUGCAGAAGCGUGGCAUUGUGGAACAAUGCUGUACCAGCAUCUGCUCCCU\n",
      "CUACCAGCUGGAGAACUACUGCAACUAGACGCAGCCCGCAGGCAGCCCCACACCCGCCGCCUCCUGCACC\n",
      "GAGAGAGAUGGAAUAAAGCCCUUGAACCAGC\n",
      "\n"
     ]
    }
   ],
   "source": [
    "#Transcription: Writes out the pre-mRNA sequence that will be made from a DNA sequence \n",
    "FASTAgenesequence=open('../class_01_gene_sequences/data/Human-Insulin-NG_007114.1.txt','r')\n",
    "genesequence=(FASTAgenesequence.readlines()[1:])\n",
    "genesequence=''.join(genesequence)\n",
    "genesequence=genesequence.replace('\\n','')\n",
    "RNAsequence='' #this defines the variable 'RNAsequence'\n",
    "\n",
    "#loops over each character in genesequence and converts Ts to Us in the RNAsequence variable. \n",
    "for i in genesequence:\n",
    "    if i==' ':\n",
    "        RNAsequence=RNAsequence+' '\n",
    "    else:\n",
    "        RNAsequence=RNAsequence+ i\n",
    "print ( )\n",
    "\n",
    "\n",
    "##ANSWER -- REMOVE BEFORE GIVING TO STUDENTS ## \n",
    "#Write out the pre-mRNA sequence for a DNA sequence\n",
    "FASTAgenesequence=open('../class_01_gene_sequences/data/Human-Insulin-NG_007114.1.txt','r')\n",
    "genesequence=(FASTAgenesequence.readlines()[1:])\n",
    "genesequence=''.join(genesequence)\n",
    "RNAsequence='' #this defines the variable 'RNAsequence'\n",
    "for i in genesequence:\n",
    "    if i=='T':\n",
    "        RNAsequence=RNAsequence+'U'\n",
    "    else:\n",
    "        RNAsequence=RNAsequence+ i\n",
    "print (RNAsequence)"
   ]
  },
  {
   "cell_type": "markdown",
   "metadata": {},
   "source": [
    "## What are RNA splicing, Exons and Introns? <a name='ExonandIntron' />\n",
    "\n",
    "After RNA is made, it undergoes a processing step called **RNA splicing**. During RNA splicing, part of the sequence, **the introns**, are removed before the RNA gets translated into protein. \n",
    "\n",
    "The process of splicing takes the RNA from what is known as precursor or pre-mRNA to an mRNA. \n",
    "\n",
    "The regions of RNA that are retained in the mRNA after splicing are called **exons**. Exons contain the sequences that code for proteins, but also contain untranslated regions. \n",
    "\n",
    "There are computer programs that can predict where splicing occurs, but they are beyond the scope of what we will be covering in this class.\n",
    "\n",
    "Instead, for the next exercise we are going to get the mRNA sequence for insulin from the NCBI Nucleotide database at the following [link](https://www.ncbi.nlm.nih.gov/nuccore/109148525?report=fasta).\n",
    "\n"
   ]
  },
  {
   "cell_type": "markdown",
   "metadata": {},
   "source": [
    "## Use Python to find possible translation start and stop codons in a mRNA sequence <a name='FindStartandStopCodons' />\n",
    "\n",
    "**Translation**, the process of converting RNA to protein, usually starts at 'AUG' sequences. \n",
    "\n",
    "'AUG' codes for the amino acid Methionine. \n",
    "\n",
    "During translation, every three base pairs in an mRNA sequence codes for one amino acid. The series of three base pairs is called a **codon**\n",
    "\n",
    "Looking at the RNA sequence above, how do we know which 'AUG' is the start codon? \n",
    "\n",
    "Determining the start codon definitively ultimately has to be supported by experimental data. However, we can use programming to predict possible start and stop sites. Often, the actual start site is the combination of start and stop sites that results in the longest gene. \n",
    "\n",
    "The region between the start and stop site is referred to as the **open reading frame** sometimes abbreviated orf. \n",
    "\n",
    "PAUSE:: Think for a few minutes about how you might identify the possible start codons before looking at the code below.\n",
    "\n",
    "\n",
    "To find the start codons in an mRNA sequence we are going to combine for loops, if statements and indexing strings the three programming principles we've discussed today. \n",
    "\n",
    "We also will introduce the **range() ** command. \n",
    "\n",
    "In the processed mRNA sequence that we downloaded from the NCBI Nucleotide database the sequence was written out with T(Thymine) rather than U(Uracil). While the basepairs in the mRNA sequence would be uracils, computational biologists and bioinformatics databases often simplify the conversion between mRNA and DNA sequences by just listing RNA sequences with thymine. \n",
    "\n",
    "Therefore in this example, we are going to look for 'ATG' as the start codon rather than 'AUG'. \n",
    "\n",
    "We are going to loop over every base pair in the sequence and ask if it is an ATG and have the script print out the base pair number if it is an ATG. \n",
    "\n",
    "Notice that for the print statement we are printing a mixture of the string 'candidate start codon site: ' with the base pair number. In order to print the base pair number we need to use the \"str\" command to convert it from a number to a string so it will print properly. \n",
    "\n",
    "Fill in the code below. \n",
    " "
   ]
  },
  {
   "cell_type": "code",
   "execution_count": 20,
   "metadata": {
    "collapsed": false
   },
   "outputs": [
    {
     "name": "stdout",
     "output_type": "stream",
     "text": [
      "candidate start codon site: 60\n",
      "candidate start codon site: 72\n",
      "candidate start codon site: 341\n",
      "candidate start codon site: 442\n"
     ]
    }
   ],
   "source": [
    "#Find possible start codons in an mRNA sequence\n",
    "FASTAgenesequence=open('../class_01_gene_sequences/data/Human-Insulin NM_000207.2.txt','r')\n",
    "mRNAsequence=(FASTAgenesequence.readlines()[1:])\n",
    "mRNAsequence=''.join(mRNAsequence)\n",
    "mRNAsequence=mRNAsequence.replace('\\n','')\n",
    "\n",
    "\n",
    "#loops over every set of three consecutive basepairs in the mRNAsequence and looks to see if it is an ATG.\n",
    "for i in mRNAsequence:\n",
    "    if mRNAsequence[ : ]==' ':\n",
    "#prints the possible start codon starting position\n",
    "        print('candidate start codon site: '+ str(i+1))\n",
    "\n",
    "\n",
    "\n",
    "##ANSWER -- ## \n"
   ]
  },
  {
   "cell_type": "markdown",
   "metadata": {},
   "source": [
    "The code, if you filled it in like we did above gives an error message:\n",
    "\n",
    "\"TypeError: Can't convert 'int' object to str implicitly\"\n",
    "\n",
    "What is different here from above is that rather than using i to go through each character in a string, i is an index for slicing a string from the mRNA sequence. \n",
    "\n",
    "We need for i to be a number! \n",
    "\n",
    "To fix the code we can use the **range** command. \n",
    "\n",
    "Instead of having i go through each element of the string, we will tell the code that i should take on each value in a range from 0 to the length of the mRNA sequence. \n"
   ]
  },
  {
   "cell_type": "code",
   "execution_count": 22,
   "metadata": {
    "collapsed": false
   },
   "outputs": [
    {
     "name": "stdout",
     "output_type": "stream",
     "text": [
      "/bin/sh: 1: Syntax error: \"(\" unexpected\r\n"
     ]
    }
   ],
   "source": [
    "ls()"
   ]
  },
  {
   "cell_type": "code",
   "execution_count": 23,
   "metadata": {
    "collapsed": false,
    "scrolled": true
   },
   "outputs": [
    {
     "name": "stdout",
     "output_type": "stream",
     "text": [
      "candidate start codon site: 60\n",
      "candidate start codon site: 72\n",
      "candidate start codon site: 341\n",
      "candidate start codon site: 442\n"
     ]
    }
   ],
   "source": [
    "#Find possible start codons in an mRNA sequence\n",
    "FASTAmRNAsequence=open('../class_01_gene_sequences/data/Human-Insulin NM_000207.2.txt','r')\n",
    "mRNAsequence=(FASTAmRNAsequence.readlines()[1:])\n",
    "mRNAsequence=''.join(mRNAsequence)\n",
    "mRNAsequence=mRNAsequence.replace('\\n','')\n",
    "\n",
    "#loops over every set of three consecutive basepairs in the mRNAsequence and looks to see if it is an ATG.\n",
    "for i in range(0,len(mRNAsequence)):\n",
    "    if mRNAsequence[i:i+3]=='ATG':\n",
    "#prints the possible start codon starting position, the i+1 converts the start position to 1. \n",
    "        print('candidate start codon site: '+ str(i+1))"
   ]
  },
  {
   "cell_type": "code",
   "execution_count": 24,
   "metadata": {
    "collapsed": false
   },
   "outputs": [
    {
     "name": "stdout",
     "output_type": "stream",
     "text": [
      "candidate start codon site: 60 candidate stop codon site: 390 orf length: 332\n",
      "candidate start codon site: 72 candidate stop codon site: 390 orf length: 320\n",
      "candidate start codon site: 442 candidate stop codon site: 448 orf length: 8\n"
     ]
    }
   ],
   "source": [
    "FASTAgenesequence=open('../class_01_gene_sequences/data/Human-Insulin NM_000207.2.txt','r')\n",
    "mRNAsequence=(FASTAgenesequence.readlines()[1:])\n",
    "mRNAsequence=''.join(mRNAsequence)\n",
    "mRNAsequence=mRNAsequence.replace('\\n','')\n",
    "\n",
    "#loops over each character in the mRNAsequence and looks to see if it is an ATG.\n",
    "for i in range(0,len(mRNAsequence)):\n",
    "    if mRNAsequence[i:i+3]=='ATG':\n",
    "        #loops over each character in the mRNAsequence and looks to see if it is a stop codon TAA,TAG or TGA.\n",
    "        for j in range(i+3,len(mRNAsequence),3):\n",
    "            if mRNAsequence[j:j+3]=='TAA' or mRNAsequence[j:j+3]=='TAG' or mRNAsequence[j:j+3]=='TGA' : \n",
    "                    print ('candidate start codon site: ' + str(i+1) + ' candidate stop codon site: ' + str(j+1) \n",
    "                           + ' orf length: '+ str(j+2-i)) \n",
    "                    #exits the loop after the first sequence is printed, avoids finding > 1 stop codon per start codon\n",
    "                    break"
   ]
  },
  {
   "cell_type": "markdown",
   "metadata": {},
   "source": [
    "Thought Question: Why does the ATG from position 341 no longer show up in the output?"
   ]
  },
  {
   "cell_type": "markdown",
   "metadata": {
    "collapsed": true
   },
   "source": [
    "Thought Question: Why is the start codon at 442 unlikely to be the actual start codon?"
   ]
  },
  {
   "cell_type": "markdown",
   "metadata": {},
   "source": [
    "Congratulations, that concludes class 2. Next time where we'll start looking at translation, the final step in the Central Dogma for making proteins. "
   ]
  }
 ],
 "metadata": {
  "anaconda-cloud": {},
  "kernelspec": {
   "display_name": "Python [Root]",
   "language": "python",
   "name": "Python [Root]"
  },
  "language_info": {
   "codemirror_mode": {
    "name": "ipython",
    "version": 3
   },
   "file_extension": ".py",
   "mimetype": "text/x-python",
   "name": "python",
   "nbconvert_exporter": "python",
   "pygments_lexer": "ipython3",
   "version": "3.5.2"
  }
 },
 "nbformat": 4,
 "nbformat_minor": 1
}
