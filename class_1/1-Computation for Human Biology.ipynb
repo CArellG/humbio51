{
 "cells": [
  {
   "cell_type": "markdown",
   "metadata": {},
   "source": [
    "# Big Data for Biologists: Decoding Genomic Function- Class 1\n",
    "\n",
    "## What is a gene and how can we read gene sequences into a computer program?\n",
    "\n",
    "##  Learning Objectives\n",
    " ***Students should be able to***\n",
    " <ol>\n",
    " <li>Access Jupyter Notebooks </li>\n",
    " <li>Explain what a gene is </li>\n",
    " <li>Describe what a command line is and start Python from the command line</li>\n",
    " <li>Find and/or set a working directory</li>\n",
    " <li>Identify the absolute or relative path for a file or directory</li>\n",
    " <li>Download a gene sequence from a genome database</li>\n",
    " <li>Read a gene sequence into Python and determine the length of the sequence</li>\n",
    " </ol>\n",
    "\n",
    "**Note: For additional background on DNA and the Central Dogma see [Khan Academy video on DNA](https://www.khanacademy.org/science/biology/classical-genetics/molecular-basis-of-genetics-tutorial/v/dna-deoxyribonucleic-acid) or [Khan Academy video on Central Dogma](https://www.khanacademy.org/test-prep/mcat/biomolecules/amino-acids-and-proteins1/v/central-dogma-of-molecular-biology-2). \n"
   ]
  },
  {
   "cell_type": "markdown",
   "metadata": {},
   "source": [
    "## **What is a gene**?\n",
    "\n",
    "If you open up a recent science news media website there's a good chance that you'll find some kind of article talking about the lastest study having to do with genes. Headlines like:\n",
    "\n",
    " *\"For Coffee Drinkers, the Buzz May Be in Your Genes\" - New York Times*\n",
    "\n",
    "or \n",
    "\n",
    " *Gene Tests Identify Breast Cancer Patients Who Can Skip Chemotherapy, Study Says\"*-New York Times?\n",
    "\n",
    "seem to be a product of living in the post-genomic era (see below if you're wondering what \"post-genomic era\" means). \n",
    " \n",
    "But what is a gene? \n",
    "\n",
    "To define the term gene, we first need to define DNA. **DNA** is the molecule in cells that enables the transmission of genetic information from one generation to the next. \n",
    "\n",
    "Pioneering work by James Watson, Francis Crick and Rosalind Franklin in the 1950s unraveled the structure of DNA and elucidated the mechanism by which DNA can be reliably replicated when one cell divides to become two. \n",
    "\n",
    "DNA is made of four nucleotides (or bases): \n",
    "* **Adenine (A)**   \n",
    "* **Cytosine (C)** \n",
    "* **Guanine (G)** \n",
    "* **Thymine (T)**   \n",
    "      \n",
    "Inside a cell, DNA nucleotides link together in two strands that form a double helix. In the figure below you can see how the base pairs come together: \n",
    "\n",
    "* **Adenine (A) pairs with Thymine (T)**\n",
    "* **Guanine (G) pairs with Cytosine (C)**\n",
    "\n",
    "<img src=\"../Images/1-DNA Structure.png\" style=\"width: 40%; height: 50%\" align=\"center\"//>\n",
    " \n",
    " \n",
    "**Genes** are segments of DNA that code for RNA and proteins, which are critical molecules for carrying out cellular function. \n",
    "\n",
    "The typical flow of information in cells is shown in the figure below, along with the names of the processes for each step in the information flow.  \n",
    "\n",
    "In addition to ultimately coding for proteins, DNA can code for RNA that has a function on its own and is not translated into protein. That RNA is referred to as functional RNA. \n",
    "\n",
    "Unraveling the function of **non-coding DNA**,  parts of DNA that are not genes is an active area of research. You will learn a lot more about the mysteries of \"non-coding DNA\" later in this class. \n",
    "\n",
    "<img src=\"../Images/1-CentralDogma.png\" style=\"width: 40%; height: 50%\" align=\"center\">\n"
   ]
  },
  {
   "cell_type": "markdown",
   "metadata": {},
   "source": [
    "\n",
    "## **Using the command line and getting started with Python** \n",
    "\n",
    "Being able to work with gene or DNA sequences in a computer program is a core skill that you will need for this class.  \n",
    "\n",
    "Before we can start using a computer to analyze DNA and gene sequences, we first need to get started with a programming language. For this course we are primarily going to use **Python**, which is one of the programming languages commonly used by biologists. \n",
    "\n",
    "Python is what is known as a \"scripting language\" which means that its a type of programming language that is ready to use after it is installed and you can start entering commands, or you can write a set of commands, in what is known as **\"a script\"**. \n",
    "\n",
    "A lot of the principles we are introducing will also help you if you need to use other types of programs that are commonly used by biologists and in biomedical research such as **R** or **MATLAB**. \n",
    "\n",
    "One of the first steps in using a programming language is getting it installed. Part of your homework for will be to install Python as well as a text editing program, but for today in class we can start to explore Python using these Jupyter Notebooks. \n",
    "\n",
    "Unlike a windows or graphical user interface (GUI) environment like you may be used to, Python and other scripting languages have what is known as \"command line\".  \n",
    "\n",
    "**\"Command line\"** is a location where you can enter code to give a computer program an instruction. \n",
    "\n",
    "When you are first starting, it is often helpful to use the command line, but often as you become more comfortable using programs you can assemble your code into scripts, like we mentioned above, that will initiate a series of commands all at once without the user \n",
    "\n",
    "In programming classes one of the first commands that you often learn is to ask the computer to write out the phrase \"Hello World\". For example: \n"
   ]
  },
  {
   "cell_type": "code",
   "execution_count": 1,
   "metadata": {
    "collapsed": false,
    "scrolled": true
   },
   "outputs": [
    {
     "name": "stdout",
     "output_type": "stream",
     "text": [
      "Hello World\n"
     ]
    }
   ],
   "source": [
    "print ('Hello World')"
   ]
  },
  {
   "cell_type": "markdown",
   "metadata": {
    "collapsed": true
   },
   "source": [
    "Since this is a biology course we are going to have the computer print out the four types of DNA bases. \n",
    "\n",
    "Try running the command in the next box by clicking on the box and clicking enter while holding down the shift key. \n"
   ]
  },
  {
   "cell_type": "code",
   "execution_count": 2,
   "metadata": {
    "collapsed": false
   },
   "outputs": [
    {
     "ename": "SyntaxError",
     "evalue": "invalid syntax (<ipython-input-2-49cc9a7653fb>, line 1)",
     "output_type": "error",
     "traceback": [
      "\u001b[1;36m  File \u001b[1;32m\"<ipython-input-2-49cc9a7653fb>\"\u001b[1;36m, line \u001b[1;32m1\u001b[0m\n\u001b[1;33m    print(DNA makes RNA makes Protein)\u001b[0m\n\u001b[1;37m                  ^\u001b[0m\n\u001b[1;31mSyntaxError\u001b[0m\u001b[1;31m:\u001b[0m invalid syntax\n"
     ]
    }
   ],
   "source": [
    "print(DNA makes RNA makes Protein)"
   ]
  },
  {
   "cell_type": "markdown",
   "metadata": {},
   "source": [
    "Why didn't that work? \n",
    "\n",
    "One of the challenges that beginners at coding quickly learn is that computers are very literal. Details such as quotation marks, spaces, capital letters versus upper case letters all matter. \n",
    "\n",
    "The first lesson from this exercise is to pay attention to quotes, spaces and caps when you are coding. \n",
    "\n",
    "Fortunately, many coding interfaces help give you feedback (or error messages) to help you debug your code. \n",
    "\n",
    "Try editing the line above to fix the errors. \n"
   ]
  },
  {
   "cell_type": "markdown",
   "metadata": {},
   "source": [
    "## How do I find and/or set my working directory?\n",
    "\n",
    "Scripts or computer programs can get very complex, but at its most basic, a computer program reads an input, does something with the input and then writes an output.\n",
    "\n",
    "<img src=\"../Images/1-Working Directories.png\" style=\"width: 40%; height: 50%\" align=\"center\"//>\n",
    "\n",
    "The question in red in the figure above repesents a key part of writing a functioning program. \n",
    "\n",
    "How you organize your input and output files is also essential for building well-organized functioning projects. We'll have some more tips on that later.  \n",
    "\n",
    "When you start Python the directory where you start the program becomes, by default, what is known as your working directory. \n",
    "\n",
    "The **working directory** is where a computer program will look for inputs and write outputs unless you instruct it to do so otherwise. \n",
    "\n",
    "Its sometimes helpful to be able to identify the working directory. You can find the working directory that you are using with the series of commands below. \n",
    "\n",
    "In the commands, import os sets up a way to use functions that may be dependent on your operating system (ie. are you using a Mac OSX, a PC or some other environment). \n",
    "\n",
    "The getcwd command is \"get current working directory\". "
   ]
  },
  {
   "cell_type": "code",
   "execution_count": 13,
   "metadata": {
    "collapsed": false
   },
   "outputs": [
    {
     "data": {
      "text/plain": [
       "'/Users/annettesalmeen/Box Sync/2016-2017/Faculty College/CompBio/vptl-course-master'"
      ]
     },
     "execution_count": 13,
     "metadata": {},
     "output_type": "execute_result"
    }
   ],
   "source": [
    "import os\n",
    "os.chdir('../')\n",
    "os.getcwd()"
   ]
  },
  {
   "cell_type": "markdown",
   "metadata": {},
   "source": [
    "## How can I find the absolute or relative path of a directory or file?\n",
    "\n",
    "The output of the os.getcwd() command gives what is known as the **absolute path** of the current working directory, or the exact location of the current working directory on the computer.  \n",
    "\n",
    "When you are telling a program where to find inputs or to write outputs it is essential to be able to tell the computer where they are. You can do this by telling the computer either the absolute path or relative path. \n",
    "\n",
    "The **relative path** indicates where a file or directory is with respect to the working directory. \n",
    "\n",
    "A helpful trick to define the path to go up one directory is to use the \"../\" command. \n",
    "\n",
    "For example, if you want to change your working directory to:\n",
    "\n",
    "/Users/annettesalmeen/Box Sync/2016-2017/Faculty College/CompBio/\n",
    "\n",
    "You could use the comand with the absolute path: \n",
    "os.chdir('/Users/annettesalmeen/Box Sync/2016-2017/Faculty College/CompBio/')\n",
    "\n",
    "Or, you can run the command below.    "
   ]
  },
  {
   "cell_type": "code",
   "execution_count": 1,
   "metadata": {
    "collapsed": false
   },
   "outputs": [
    {
     "name": "stdout",
     "output_type": "stream",
     "text": [
      "/Users/annettesalmeen/Box Sync/2016-2017/Faculty College/CompBio/vptl-course-master\n"
     ]
    }
   ],
   "source": [
    "import os\n",
    "os.chdir('../') \n",
    "print(os.getcwd())"
   ]
  },
  {
   "cell_type": "markdown",
   "metadata": {},
   "source": [
    "If you want to go back down to a subdirectory, you can just give the name of the directory. \n",
    "\n",
    "For example to go from: \n",
    "\n",
    "/Users/annettesalmeen/Box Sync/2016-2017/Faculty College/CompBio\n",
    "\n",
    "Back to: \n",
    "\n",
    "/Users/annettesalmeen/Box Sync/2016-2017/Faculty College/CompBio/JupyterNtbks"
   ]
  },
  {
   "cell_type": "code",
   "execution_count": 21,
   "metadata": {
    "collapsed": false
   },
   "outputs": [
    {
     "name": "stdout",
     "output_type": "stream",
     "text": [
      "/home/ubuntu/vptl/JupyterNtbks\n"
     ]
    }
   ],
   "source": [
    "import os\n",
    "os.chdir('JupyterNtbks')\n",
    "print(os.getcwd())\n",
    "#go back! \n",
    "# .. stands for the parent directory\n",
    "os.chdir(\"..\")\n"
   ]
  },
  {
   "cell_type": "markdown",
   "metadata": {},
   "source": [
    "It also can be helpful to list the names of the files that are in working directory.\n",
    "\n",
    "Try it below and see whats there. "
   ]
  },
  {
   "cell_type": "code",
   "execution_count": 22,
   "metadata": {
    "collapsed": false
   },
   "outputs": [
    {
     "data": {
      "text/plain": [
       "['JupyterNtbks',\n",
       " 'class_4',\n",
       " '.ipynb_checkpoints',\n",
       " 'Unix_Basics.ipynb',\n",
       " '.git',\n",
       " 'ComputationalThinkingforHumanBiologySyllabus.pdf',\n",
       " 'class_1',\n",
       " 'class_5',\n",
       " 'class_2',\n",
       " 'Images']"
      ]
     },
     "execution_count": 22,
     "metadata": {},
     "output_type": "execute_result"
    }
   ],
   "source": [
    "import os \n",
    "# a single period (.)  stands for the current directory \n",
    "os.listdir('.')\n"
   ]
  },
  {
   "cell_type": "markdown",
   "metadata": {},
   "source": [
    "What command could you use if you want to change the directory to: \n",
    "\n",
    "'/Users/annettesalmeen/Box Sync/2016-2017/Faculty College/CompBio/JupyterNtbks/Class 1'\n",
    "\n",
    "Without looking below, try writing the code using both the absolute and relative paths in the boxes below. \n",
    "\n",
    "We've given you some guidance in comment lines which are denoted by a #. You'll see comment lines used a lot throughout the class. Adding comments is a helpful way to help you and others follow your code! "
   ]
  },
  {
   "cell_type": "code",
   "execution_count": 23,
   "metadata": {
    "collapsed": true
   },
   "outputs": [],
   "source": [
    "#Write the commands to change the current working directory using absolute paths\n",
    "#Print the working directory so you can check your work. "
   ]
  },
  {
   "cell_type": "code",
   "execution_count": 24,
   "metadata": {
    "collapsed": true
   },
   "outputs": [],
   "source": [
    "#Write the commands to change the current working directory using relative paths\n",
    "#Print the working directory so you can check your work. "
   ]
  },
  {
   "cell_type": "code",
   "execution_count": 25,
   "metadata": {
    "collapsed": false
   },
   "outputs": [
    {
     "name": "stdout",
     "output_type": "stream",
     "text": [
      "/home/ubuntu/vptl/class_1\n"
     ]
    }
   ],
   "source": [
    "import os\n",
    "os.chdir('/home/ubuntu/vptl/class_1')\n",
    "print(os.getcwd())"
   ]
  },
  {
   "cell_type": "markdown",
   "metadata": {},
   "source": [
    "With these basic navigation commands we are now ready to apply what we've learned to an example from biology. \n",
    "\n",
    "For the rest of the class we are going to apply what we've covered to this point and show how to use it to read a gene sequence into a program and calculate the length of the sequence.\n",
    "\n",
    "<img src=\"../Images/1-ReadWriteGeneSequence.png\" style=\"width: 40%; height: 50%\" align=\"center\"//>\n"
   ]
  },
  {
   "cell_type": "markdown",
   "metadata": {},
   "source": [
    "## **How can you find a gene sequence in a genome database**?\n",
    "\n",
    "\n",
    "The first step for our project today is finding a gene sequence. \n",
    "\n",
    "Many, many gene sequences have been collected in publicly available on-line databases from genome sequencing research projects or smaller scale research projects to determine the sequence of single genes or sets of genes.  \n",
    "\n",
    "Three commonly used databases to obtain gene or genome sequence information are:\n",
    "   \n",
    "   [NCBI Gene](https://www.ncbi.nlm.nih.gov/gene)  \n",
    "   [Ensemble](http://uswest.ensembl.org/index.html)  \n",
    "   [UCSC Genome Browser](https://genome.ucsc.edu/)  \n",
    "\n",
    "We aren't going to go into detail now about the differences between these three sites, but an important point is that there are several large scale collaborative efforts that have created very organized sites to collect genome sequences from the research community. \n",
    "\n",
    "These sites include genome sequences not only from humans (or, more technically *Homo Sapiens*) ranging from bacteria like *E.Coli* to large organisms like elephants (*Loxodonta africana*). \n",
    "\n",
    "To see what a gene sequence in agenome browser looks like, visit the entry in the NCBI Gene database for [human insulin](https://www.ncbi.nlm.nih.gov/nuccore/NG_007114.1?from=4986&to=6416&report=fasta)\n",
    "\n",
    "If you have extra time, click on the NCBI Gene link above and search for any gene of interest to see what you find. \n"
   ]
  },
  {
   "cell_type": "markdown",
   "metadata": {},
   "source": [
    "## How can I download a gene sequence?\n",
    "\n",
    "For today, we are going to use a gene sequence from the NCBI database. \n",
    "\n",
    "Depending on the computer program that you are using or writing, you might need gene sequences in a particular format.  You will want to make sure that the format for your input file matches the format that you need for the program. \n",
    "\n",
    "You'll see more examples of sequence formats later in the class, but the sequence we will use today is known as \"FASTA\". You can download sequences in FASTA format directly from the NCBI database.   \n",
    "\n",
    "In **FASTA format** the first line of the file starts with a > followed by an identifier describing the nucleotide sequence. You can see an example of what the FASTA sequence for a gene in the NCBI database looks like below. \n",
    "\n",
    "<img src=\"../Images/1-Gene Sequence.png\" style=\"width: 60%; height: 75%\" align=\"center\"//>\n",
    "\n",
    "To get the sequence of the gene of interest into a file, you can copy it into a text file using a textfile editor and save the file or, as you become more advanced and more comfortable with programming, you can also write code to direcly instruct a computer program to access the web and \"scrape\" information from a website to load into a computer.\n",
    "\n",
    "Well-organized procedures for storing data and analysis scripts are **ESSENTIAL** for successful projects and for the ability to communicate within research teams and to others who may need to reproduce all or parts of your analysis, so we will give you guidance on ways to organize projects, particularly in the early parts of this course. \n",
    "\n",
    "Note, that there isn't one correct way to organize a project and name files, but there are best practices such as having clear well organized file names that can be immensely helpful both to you and to others following your work. \n",
    "\n",
    "For this activity, we are going to follow the proceedures below: \n",
    "\n",
    "In the working directory that we set up above CompBio/Class1/\n",
    "\n",
    "1. Create a Directory called data (where data is stored)\n",
    "2. Create a Directory called src (where your scripts are stored) \n",
    "3. Create a Directory called results (where your results (or output) is stored).  \n",
    "4. Visit the entry in the NCBI Gene database for [human insulin](https://www.ncbi.nlm.nih.gov/nuccore/NG_007114.1?from=4986&to=6416&report=fasta)\n",
    "5. Open up a text editor and paste the sequence into a file. \n",
    "6. Save the human insulin sequence into a file called Human-Insulin-NG_007114.1.txt in the CompBio/Class1/data directory. \n",
    "\n"
   ]
  },
  {
   "cell_type": "code",
   "execution_count": 26,
   "metadata": {
    "collapsed": false
   },
   "outputs": [
    {
     "data": {
      "text/plain": [
       "['Human-Insulin NM_000207.2.txt', 'Human-Insulin-NG_007114.1.txt']"
      ]
     },
     "execution_count": 26,
     "metadata": {},
     "output_type": "execute_result"
    }
   ],
   "source": [
    "import os\n",
    "try: \n",
    "    os.mkdir('data')\n",
    "    os.mkdir('src')\n",
    "    os.mkdir('results')\n",
    "except: \n",
    "    pass\n",
    "os.listdir('data')"
   ]
  },
  {
   "cell_type": "markdown",
   "metadata": {},
   "source": [
    "Now that we are set up with the data that we need as input, we are ready to start writing the program to read in the sequence into Python and calculate the length of the sequence and the number of A/T and G/C pairs. \n",
    "\n",
    "Think for a moment about how you might set this up and then we'll look at the example we've provided below. "
   ]
  },
  {
   "cell_type": "code",
   "execution_count": 27,
   "metadata": {
    "collapsed": false
   },
   "outputs": [
    {
     "name": "stdout",
     "output_type": "stream",
     "text": [
      ">NG_007114.1:4986-6416 Homo sapiens insulin (INS), RefSeqGene on chromosome 11\n",
      "AGCCCTCCAGGACAGGCTGCATCAGAAGAGGCCATCAAGCAGGTCTGTTCCAAGGGCCTTTGCGTCAGGT\n",
      "GGGCTCAGGATTCCAGGGTGGCTGGACCCCAGGCCCCAGCTCTGCAGCAGGGAGGACGTGGCTGGGCTCG\n",
      "TGAAGCATGTGGGGGTGAGCCCAGGGGCCCCAAGGCAGGGCACCTGGCCTTCAGCCTGCCTCAGCCCTGC\n",
      "CTGTCTCCCAGATCACTGTCCTTCTGCCATGGCCCTGTGGATGCGCCTCCTGCCCCTGCTGGCGCTGCTG\n",
      "GCCCTCTGGGGACCTGACCCAGCCGCAGCCTTTGTGAACCAACACCTGTGCGGCTCACACCTGGTGGAAG\n",
      "CTCTCTACCTAGTGTGCGGGGAACGAGGCTTCTTCTACACACCCAAGACCCGCCGGGAGGCAGAGGACCT\n",
      "GCAGGGTGAGCCAACTGCCCATTGCTGCCCCTGGCCGCCCCCAGCCACCCCCTGCTCCTGGCGCTCCCAC\n",
      "CCAGCATGGGCAGAAGGGGGCAGGAGGCTGCCACCCAGCAGGGGGTCAGGTGCACTTTTTTAAAAAGAAG\n",
      "TTCTCTTGGTCACGTCCTAAAAGTGACCAGCTCCCTGTGGCCCAGTCAGAATCTCAGCCTGAGGACGGTG\n",
      "TTGGCTTCGGCAGCCCCGAGATACATCAGAGGGTGGGCACGCTCCTCCCTCCACTCGCCCCTCAAACAAA\n",
      "TGCCCCGCAGCCCATTTCTCCACCCTCATTTGATGACCGCAGATTCAAGTGTTTTGTTAAGTAAAGTCCT\n",
      "GGGTGACCTGGGGTCACAGGGTGCCCCACGCTGCCTGCCTCTGGGCGAACACCCCATCACGCCCGGAGGA\n",
      "GGGCGTGGCTGCCTGCCTGAGTGGGCCAGACCCCTGTCGCCAGGCCTCACGGCAGCTCCATAGTCAGGAG\n",
      "ATGGGGAAGATGCTGGGGACAGGCCCTGGGGAGAAGTACTGGGATCACCTGTTCAGGCTCCCACTGTGAC\n",
      "GCTGCCCCGGGGCGGGGGAAGGAGGTGGGACATGTGGGCGTTGGGGCCTGTAGGTCCACACCCAGTGTGG\n",
      "GTGACCCTCCCTCTAACCTGGGTCCAGCCCGGCTGGAGATGGGTGGGAGTGCGACCTAGGGCTGGCGGGC\n",
      "AGGCGGGCACTGTGTCTCCCTGACTGTGTCCTCCTGTGTCCCTCTGCCTCGCCGCTGTTCCGGAACCTGC\n",
      "TCTGCGCGGCACGTCCTGGCAGTGGGGCAGGTGGAGCTGGGCGGGGGCCCTGGTGCAGGCAGCCTGCAGC\n",
      "CCTTGGCCCTGGAGGGGTCCCTGCAGAAGCGTGGCATTGTGGAACAATGCTGTACCAGCATCTGCTCCCT\n",
      "CTACCAGCTGGAGAACTACTGCAACTAGACGCAGCCCGCAGGCAGCCCCACACCCGCCGCCTCCTGCACC\n",
      "GAGAGAGATGGAATAAAGCCCTTGAACCAG\n",
      "\n"
     ]
    }
   ],
   "source": [
    "#Read in the sequence and print it \n",
    "FASTAgenesequence=open('data/Human-Insulin-NG_007114.1.txt','r')\n",
    "print(sequence.read())"
   ]
  },
  {
   "cell_type": "markdown",
   "metadata": {},
   "source": [
    "Give yourself a chance to think about the code above. \n",
    "What do you think the first line did? What do you think the second line did?\n",
    "\n",
    "If you want to calculate the length of the sequence what do you think you will need to do next?\n",
    "\n",
    "There is a command \"len\" that will allow you to calculate the length of variables like you read in above. \n",
    "\n",
    "However, if you use the length command on the sequence variable as is, what would be the problem with that?\n",
    "\n",
    "In this class you will see a lot of examples when it may be helpful to look at only part of an input file. \n",
    "\n",
    "For example, here it would be helpful to calculate the number of letters in the file with the exception of the first line. \n",
    "\n",
    "Fortunately, Python (and other scripting languages) make that a pretty easy task as you'll see in the next example. "
   ]
  },
  {
   "cell_type": "code",
   "execution_count": 28,
   "metadata": {
    "collapsed": false
   },
   "outputs": [
    {
     "name": "stdout",
     "output_type": "stream",
     "text": [
      "['AGCCCTCCAGGACAGGCTGCATCAGAAGAGGCCATCAAGCAGGTCTGTTCCAAGGGCCTTTGCGTCAGGT\\n', 'GGGCTCAGGATTCCAGGGTGGCTGGACCCCAGGCCCCAGCTCTGCAGCAGGGAGGACGTGGCTGGGCTCG\\n', 'TGAAGCATGTGGGGGTGAGCCCAGGGGCCCCAAGGCAGGGCACCTGGCCTTCAGCCTGCCTCAGCCCTGC\\n', 'CTGTCTCCCAGATCACTGTCCTTCTGCCATGGCCCTGTGGATGCGCCTCCTGCCCCTGCTGGCGCTGCTG\\n', 'GCCCTCTGGGGACCTGACCCAGCCGCAGCCTTTGTGAACCAACACCTGTGCGGCTCACACCTGGTGGAAG\\n', 'CTCTCTACCTAGTGTGCGGGGAACGAGGCTTCTTCTACACACCCAAGACCCGCCGGGAGGCAGAGGACCT\\n', 'GCAGGGTGAGCCAACTGCCCATTGCTGCCCCTGGCCGCCCCCAGCCACCCCCTGCTCCTGGCGCTCCCAC\\n', 'CCAGCATGGGCAGAAGGGGGCAGGAGGCTGCCACCCAGCAGGGGGTCAGGTGCACTTTTTTAAAAAGAAG\\n', 'TTCTCTTGGTCACGTCCTAAAAGTGACCAGCTCCCTGTGGCCCAGTCAGAATCTCAGCCTGAGGACGGTG\\n', 'TTGGCTTCGGCAGCCCCGAGATACATCAGAGGGTGGGCACGCTCCTCCCTCCACTCGCCCCTCAAACAAA\\n', 'TGCCCCGCAGCCCATTTCTCCACCCTCATTTGATGACCGCAGATTCAAGTGTTTTGTTAAGTAAAGTCCT\\n', 'GGGTGACCTGGGGTCACAGGGTGCCCCACGCTGCCTGCCTCTGGGCGAACACCCCATCACGCCCGGAGGA\\n', 'GGGCGTGGCTGCCTGCCTGAGTGGGCCAGACCCCTGTCGCCAGGCCTCACGGCAGCTCCATAGTCAGGAG\\n', 'ATGGGGAAGATGCTGGGGACAGGCCCTGGGGAGAAGTACTGGGATCACCTGTTCAGGCTCCCACTGTGAC\\n', 'GCTGCCCCGGGGCGGGGGAAGGAGGTGGGACATGTGGGCGTTGGGGCCTGTAGGTCCACACCCAGTGTGG\\n', 'GTGACCCTCCCTCTAACCTGGGTCCAGCCCGGCTGGAGATGGGTGGGAGTGCGACCTAGGGCTGGCGGGC\\n', 'AGGCGGGCACTGTGTCTCCCTGACTGTGTCCTCCTGTGTCCCTCTGCCTCGCCGCTGTTCCGGAACCTGC\\n', 'TCTGCGCGGCACGTCCTGGCAGTGGGGCAGGTGGAGCTGGGCGGGGGCCCTGGTGCAGGCAGCCTGCAGC\\n', 'CCTTGGCCCTGGAGGGGTCCCTGCAGAAGCGTGGCATTGTGGAACAATGCTGTACCAGCATCTGCTCCCT\\n', 'CTACCAGCTGGAGAACTACTGCAACTAGACGCAGCCCGCAGGCAGCCCCACACCCGCCGCCTCCTGCACC\\n', 'GAGAGAGATGGAATAAAGCCCTTGAACCAG\\n']\n"
     ]
    }
   ],
   "source": [
    "#Read in the sequence and trim the first line\n",
    "#Note in Python the numbering of lines or characters starts with 0\n",
    "FASTAgenesequence=open('data/Human-Insulin-NG_007114.1.txt','r')\n",
    "genesequence=(FASTAgenesequence.readlines()[1:])\n",
    "print(genesequence)"
   ]
  },
  {
   "cell_type": "markdown",
   "metadata": {
    "collapsed": true
   },
   "source": [
    "What are all those weird \\n? \n",
    "\n",
    "The \\n are linebreaks and in this case get in the way of calculating the length of the genesequence.\n",
    "\n",
    "We can get rid of them, however, using the join and replace commands. "
   ]
  },
  {
   "cell_type": "code",
   "execution_count": 11,
   "metadata": {
    "collapsed": false
   },
   "outputs": [
    {
     "name": "stdout",
     "output_type": "stream",
     "text": [
      "1430\n"
     ]
    }
   ],
   "source": [
    "#Read in the sequence and trim the first line\n",
    "FASTAgenesequence=open('/data/Human-Insulin-NG_007114.1.txt','r')\n",
    "genesequence=(FASTAgenesequence.readlines()[1:])\n",
    "genesequence=''.join(genesequence)\n",
    "genesequence=genesequence.replace('\\n','')\n",
    "print(len(genesequence))"
   ]
  },
  {
   "cell_type": "markdown",
   "metadata": {},
   "source": [
    "Congratulations! We've covered a lot today, but everything that we've covered you'll see for a lot more practice as the quarter continues. \n",
    "\n",
    "See you next time where we'll start looking at transcription, the next step in gene expression!  "
   ]
  }
 ],
 "metadata": {
  "anaconda-cloud": {},
  "kernelspec": {
   "display_name": "Python [Root]",
   "language": "python",
   "name": "Python [Root]"
  },
  "language_info": {
   "codemirror_mode": {
    "name": "ipython",
    "version": 3
   },
   "file_extension": ".py",
   "mimetype": "text/x-python",
   "name": "python",
   "nbconvert_exporter": "python",
   "pygments_lexer": "ipython3",
   "version": "3.5.2"
  }
 },
 "nbformat": 4,
 "nbformat_minor": 0
}
