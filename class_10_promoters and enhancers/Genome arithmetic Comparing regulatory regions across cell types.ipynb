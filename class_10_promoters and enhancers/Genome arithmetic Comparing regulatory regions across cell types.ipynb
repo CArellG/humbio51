{
 "cells": [
  {
   "cell_type": "markdown",
   "metadata": {},
   "source": [
    "# Learning Goals \n",
    "* What is a promoter? \n",
    "* What is an enhancer?\n",
    "* Using 'genome arithmetic' to identify expressed genes from active promoter and strong enhancer sites\n",
    "    * bedtools intersect \n",
    "    * bedtools closest \n",
    " \n",
    "* Comparing activity of promoters and enhancers across cell types \n",
    "    * bedtools subtract command \n",
    "* Visualizing promoter, enhancer, and gene coordinate data in the browser.\n",
    "\n",
    "\n",
    "\n",
    "## TODO: add example from RNA-seq expression notebook (use same cell type) \n"
   ]
  },
  {
   "cell_type": "markdown",
   "metadata": {},
   "source": [
    "All cells in an organism contain all the organism's DNA, but we have multiple cell types (i.e. neurons, cardiomyocytes, etc.) \n",
    " \n",
    "Specific subsets of genes are turned on in different types of cells to determine cell type and function. \n",
    " \n",
    "There are two key players responsible for gene regulation:\n",
    " \n",
    "**Transcription factors**\n",
    "* Proteins\n",
    "* Trans-acting elements: diffuse through the cytoplasm and bind to far-away regions of DNA \n",
    " \n",
    "**Motif sequences** \n",
    "* DNA sequences\n",
    "* Cis-acting elements: act at fixed position along the DNA molecule "
   ]
  },
  {
   "cell_type": "markdown",
   "metadata": {},
   "source": [
    "We obtain a list of active promoters and strong enhancers for the H1-hESC cell line (embryonic stem cells) from ENCODE [here](http://genome.ucsc.edu/cgi-bin/hgFileUi?db=hg19&g=wgEncodeBroadHmm). Both files are in the [Bed6 format](https://genome.ucsc.edu/FAQ/FAQformat#format1). Let's examine the contents of the files: "
   ]
  },
  {
   "cell_type": "code",
   "execution_count": 6,
   "metadata": {
    "collapsed": false
   },
   "outputs": [
    {
     "name": "stdout",
     "output_type": "stream",
     "text": [
      "chr1\t28537\t30137\t1_Active_Promoter\t0\t.\t28537\t30137\t255,0,0\r\n",
      "chr1\t713337\t714937\t1_Active_Promoter\t0\t.\t713337\t714937\t255,0,0\r\n",
      "chr1\t762337\t762937\t1_Active_Promoter\t0\t.\t762337\t762937\t255,0,0\r\n",
      "chr1\t1092937\t1093137\t1_Active_Promoter\t0\t.\t1092937\t1093137\t255,0,0\r\n",
      "chr1\t1166937\t1167337\t1_Active_Promoter\t0\t.\t1166937\t1167337\t255,0,0\r\n",
      "chr1\t1208737\t1209337\t1_Active_Promoter\t0\t.\t1208737\t1209337\t255,0,0\r\n",
      "chr1\t1244137\t1244737\t1_Active_Promoter\t0\t.\t1244137\t1244737\t255,0,0\r\n",
      "chr1\t1259737\t1260137\t1_Active_Promoter\t0\t.\t1259737\t1260137\t255,0,0\r\n",
      "chr1\t1284937\t1285337\t1_Active_Promoter\t0\t.\t1284937\t1285337\t255,0,0\r\n",
      "chr1\t1310137\t1311337\t1_Active_Promoter\t0\t.\t1310137\t1311337\t255,0,0\r\n"
     ]
    }
   ],
   "source": [
    "# The active promoter file: \n",
    "!head -n10 data/wgEncodeBroadHmmH1hescHMM.active_promoters.bed"
   ]
  },
  {
   "cell_type": "code",
   "execution_count": 7,
   "metadata": {
    "collapsed": false
   },
   "outputs": [
    {
     "name": "stdout",
     "output_type": "stream",
     "text": [
      "chr1\t36337\t36537\t5_Strong_Enhancer\t0\t.\t36337\t36537\t250,202,0\r\n",
      "chr1\t780737\t781137\t5_Strong_Enhancer\t0\t.\t780737\t781137\t250,202,0\r\n",
      "chr1\t948337\t949337\t4_Strong_Enhancer\t0\t.\t948337\t949337\t250,202,0\r\n",
      "chr1\t958937\t960337\t5_Strong_Enhancer\t0\t.\t958937\t960337\t250,202,0\r\n",
      "chr1\t960337\t960737\t4_Strong_Enhancer\t0\t.\t960337\t960737\t250,202,0\r\n",
      "chr1\t960737\t960937\t5_Strong_Enhancer\t0\t.\t960737\t960937\t250,202,0\r\n",
      "chr1\t1093137\t1093737\t4_Strong_Enhancer\t0\t.\t1093137\t1093737\t250,202,0\r\n",
      "chr1\t1093737\t1094137\t5_Strong_Enhancer\t0\t.\t1093737\t1094137\t250,202,0\r\n",
      "chr1\t1112337\t1112737\t5_Strong_Enhancer\t0\t.\t1112337\t1112737\t250,202,0\r\n",
      "chr1\t1240337\t1241137\t5_Strong_Enhancer\t0\t.\t1240337\t1241137\t250,202,0\r\n"
     ]
    }
   ],
   "source": [
    "#The strong enhancer file: \n",
    "!head -n10 data/wgEncodeBroadHmmH1hescHMM.strong_enhancers.bed"
   ]
  },
  {
   "cell_type": "markdown",
   "metadata": {},
   "source": [
    "We also have a list of gene coordinates for the hg19 human reference genome. The column meanings are as follows: \n",
    "* column 1: Chromosome name \n",
    "* column 2: Start of transcription \n",
    "* column 3: End of transcription \n",
    "* column 4: Gene name \n",
    "* column 5: Place holder (you can ignore this) \n",
    "* column 6: Strand information"
   ]
  },
  {
   "cell_type": "code",
   "execution_count": 11,
   "metadata": {
    "collapsed": false
   },
   "outputs": [
    {
     "name": "stdout",
     "output_type": "stream",
     "text": [
      "chr19\t58858171\t58864865\tA1BG\t0\t-\r\n",
      "chr19\t58863335\t58866549\tA1BG-AS1\t0\t+\r\n",
      "chr10\t52559168\t52645435\tA1CF\t0\t-\r\n",
      "chr12\t9220303\t9268825\tA2M\t0\t-\r\n",
      "chr12\t9217772\t9220651\tA2M-AS1\t0\t+\r\n",
      "chr12\t8975067\t9029377\tA2ML1\t0\t+\r\n",
      "chr12\t9381128\t9386803\tA2MP1\t0\t-\r\n",
      "chr1\t33772366\t33786699\tA3GALT2\t0\t-\r\n",
      "chr22\t43088117\t43116916\tA4GALT\t0\t-\r\n",
      "chr3\t137842559\t137851229\tA4GNT\t0\t-\r\n"
     ]
    }
   ],
   "source": [
    "!head -n10 data/hg19.gene_coords.bed"
   ]
  },
  {
   "cell_type": "markdown",
   "metadata": {},
   "source": [
    "We use the **wc** command to determine the total number of genes in teh reference genome: "
   ]
  },
  {
   "cell_type": "code",
   "execution_count": 19,
   "metadata": {
    "collapsed": false
   },
   "outputs": [
    {
     "name": "stdout",
     "output_type": "stream",
     "text": [
      "27778\r\n"
     ]
    }
   ],
   "source": [
    "!cat data/hg19.gene_coords.bed| wc -l "
   ]
  },
  {
   "cell_type": "markdown",
   "metadata": {},
   "source": [
    "We would like to see which genes are expressed in the H1-hESC cell type. In class 3, we learned about the [bedtools intersect](http://bedtools.readthedocs.io/en/latest/content/tools/intersect.html) command. We can now use this command to intersect the file of active promoters with the list of gene coordinates to determine which genes are being expressed. "
   ]
  },
  {
   "cell_type": "code",
   "execution_count": 8,
   "metadata": {
    "collapsed": false
   },
   "outputs": [],
   "source": [
    "!bedtools intersect -u -wa -a data/hg19.gene_coords.bed  -b data/wgEncodeBroadHmmH1hescHMM.active_promoters.bed  > expressed_genes_H1.active_promoters.bed"
   ]
  },
  {
   "cell_type": "markdown",
   "metadata": {},
   "source": [
    "Let's examine the resulting file to see which genes intersect active promoters and are therefore turned on in the H1 cell line:"
   ]
  },
  {
   "cell_type": "code",
   "execution_count": 9,
   "metadata": {
    "collapsed": false
   },
   "outputs": [
    {
     "name": "stdout",
     "output_type": "stream",
     "text": [
      "chr1\t14361\t29370\tWASH7P\t0\t-\r\n",
      "chr1\t700244\t714068\tLOC100288069\t0\t-\r\n",
      "chr1\t761585\t762902\tLINC00115\t0\t-\r\n",
      "chr1\t1152287\t1167447\tSDF4\t0\t-\r\n",
      "chr1\t1189291\t1209234\tUBE2J2\t0\t-\r\n",
      "chr1\t1243959\t1247057\tPUSL1\t0\t+\r\n",
      "chr1\t1246964\t1260067\tINTS11\t0\t-\r\n",
      "chr1\t1309109\t1310580\tAURKAIP1\t0\t-\r\n",
      "chr1\t1334909\t1337426\tLOC148413\t0\t+\r\n",
      "chr1\t1337275\t1342693\tMRPL20\t0\t-\r\n"
     ]
    }
   ],
   "source": [
    "!head -n10 expressed_genes_H1.active_promoters.bed"
   ]
  },
  {
   "cell_type": "markdown",
   "metadata": {},
   "source": [
    "We can use the **wc** command to see how many genes are expressed in total: "
   ]
  },
  {
   "cell_type": "code",
   "execution_count": 10,
   "metadata": {
    "collapsed": false
   },
   "outputs": [
    {
     "name": "stdout",
     "output_type": "stream",
     "text": [
      "10081\r\n"
     ]
    }
   ],
   "source": [
    "!cat expressed_genes_H1.active_promoters.bed |  wc -l"
   ]
  },
  {
   "cell_type": "markdown",
   "metadata": {},
   "source": [
    "Looks like there are 10,081 expressed genes in the cell line, which is slightly less than half of all reference genes. "
   ]
  },
  {
   "cell_type": "markdown",
   "metadata": {},
   "source": [
    "Now, let's try the same intersection for the strong enhancers: "
   ]
  },
  {
   "cell_type": "code",
   "execution_count": 11,
   "metadata": {
    "collapsed": false
   },
   "outputs": [],
   "source": [
    "!bedtools intersect -u -wa -a data/hg19.gene_coords.bed -b data/wgEncodeBroadHmmH1hescHMM.strong_enhancers.bed > expressed_genes_H1.strong_enhancers.bed "
   ]
  },
  {
   "cell_type": "markdown",
   "metadata": {},
   "source": [
    "Let's see how many genes show up as intersecting a strong  enhancer:"
   ]
  },
  {
   "cell_type": "code",
   "execution_count": 12,
   "metadata": {
    "collapsed": false
   },
   "outputs": [
    {
     "name": "stdout",
     "output_type": "stream",
     "text": [
      "4158\r\n"
     ]
    }
   ],
   "source": [
    "!cat expressed_genes_H1.strong_enhancers.bed | wc -l "
   ]
  },
  {
   "cell_type": "markdown",
   "metadata": {},
   "source": [
    "Note that we observe a much smaller number of genes -- only 4158 as opposed to 10081 when we examined intersection with active promoters. What could account for this difference? There are two possible explanations. \n",
    "\n",
    "Not every expressed gene will be associated with a strong enhancer. Some may be associated with a weak enhancer, or not  have an associated enhancer at all. \n",
    "\n",
    "Additionally, many enhancers are distal-acting -- they are located several hundred bases away from the target gene. After a transcription factor has bound to the enhancer region, the DNA must form a loop to bring the transcription factor into contact with the target gene: \n",
    "![Enhancers are several hundred bases away from target genes](enhancer_position.png)"
   ]
  },
  {
   "cell_type": "markdown",
   "metadata": {},
   "source": [
    "So we don't expect most of the enhancers to intersect the target gene. However, we expect the enhancer to be fairly close to the target gene. Generally (but not always!), the closest gene to a strong enhancer is that enhancer's target gene. We can then identify expressed genes from our list of strong enhancers by using the [**bedtools closest**](http://bedtools.readthedocs.io/en/latest/content/tools/closest.html) command. "
   ]
  },
  {
   "cell_type": "markdown",
   "metadata": {},
   "source": [
    "*closest* searches for overlapping features in A and B. In the event that no feature in B overlaps the current feature in A, closest will report the nearest (that is, least genomic distance from the start or end of A) feature in B. For example, one might want to find which is the closest gene to a significant GWAS polymorphism. Note that closest will report an overlapping feature as the closest—that is, it does not restrict to closest non-overlapping feature. The following iconic “cheatsheet” summarizes the funcitonality available through the various optyions provided by the closest tool.\n",
    "![bedtools closest cheat sheet](closest_cheat_sheet.png)\n"
   ]
  },
  {
   "cell_type": "markdown",
   "metadata": {},
   "source": [
    "We would like to know how far the enhancer is from the target gene, so we add the -d flag to report this distance. We would also like all genes to be reported in the case of ties, so we use the *-t all* flag. "
   ]
  },
  {
   "cell_type": "code",
   "execution_count": 13,
   "metadata": {
    "collapsed": false
   },
   "outputs": [],
   "source": [
    "!bedtools closest -d -t all -a data/wgEncodeBroadHmmH1hescHMM.strong_enhancers.bed -b data/hg19.gene_coords.bed > expressed_genes.closest.bed "
   ]
  },
  {
   "cell_type": "markdown",
   "metadata": {},
   "source": [
    "Let's examine the output:"
   ]
  },
  {
   "cell_type": "code",
   "execution_count": 14,
   "metadata": {
    "collapsed": false
   },
   "outputs": [
    {
     "name": "stdout",
     "output_type": "stream",
     "text": [
      "chr1\t36337\t36537\t5_Strong_Enhancer\t0\t.\t36337\t36537\t250,202,0\tchr1\t34610\t36081\tFAM138F\t0\t-\t257\r\n",
      "chr1\t36337\t36537\t5_Strong_Enhancer\t0\t.\t36337\t36537\t250,202,0\tchr1\t34610\t36081\tFAM138A\t0\t-\t257\r\n",
      "chr1\t780737\t781137\t5_Strong_Enhancer\t0\t.\t780737\t781137\t250,202,0\tchr1\t762970\t778984\tLINC01128\t0\t+\t1754\r\n",
      "chr1\t948337\t949337\t4_Strong_Enhancer\t0\t.\t948337\t949337\t250,202,0\tchr1\t948846\t949919\tISG15\t0\t+\t0\r\n",
      "chr1\t958937\t960337\t5_Strong_Enhancer\t0\t.\t958937\t960337\t250,202,0\tchr1\t955502\t991499\tAGRN\t0\t+\t0\r\n",
      "chr1\t960337\t960737\t4_Strong_Enhancer\t0\t.\t960337\t960737\t250,202,0\tchr1\t955502\t991499\tAGRN\t0\t+\t0\r\n",
      "chr1\t960737\t960937\t5_Strong_Enhancer\t0\t.\t960737\t960937\t250,202,0\tchr1\t955502\t991499\tAGRN\t0\t+\t0\r\n",
      "chr1\t1093137\t1093737\t4_Strong_Enhancer\t0\t.\t1093137\t1093737\t250,202,0\tchr1\t1102483\t1102578\tMIR200B\t0\t+\t8747\r\n",
      "chr1\t1093737\t1094137\t5_Strong_Enhancer\t0\t.\t1093737\t1094137\t250,202,0\tchr1\t1102483\t1102578\tMIR200B\t0\t+\t8347\r\n",
      "chr1\t1112337\t1112737\t5_Strong_Enhancer\t0\t.\t1112337\t1112737\t250,202,0\tchr1\t1109285\t1133313\tTTLL10\t0\t+\t0\r\n"
     ]
    }
   ],
   "source": [
    "!head -n10 expressed_genes.closest.bed "
   ]
  },
  {
   "cell_type": "markdown",
   "metadata": {},
   "source": [
    "Perform a sort operation on the gene name column (column 13) to count the number of unique genes identified by the *bedtools closest* command: "
   ]
  },
  {
   "cell_type": "code",
   "execution_count": 15,
   "metadata": {
    "collapsed": false
   },
   "outputs": [
    {
     "name": "stdout",
     "output_type": "stream",
     "text": [
      "6975\r\n"
     ]
    }
   ],
   "source": [
    "!cut -f13 expressed_genes.closest.bed| sort | uniq | wc -l "
   ]
  },
  {
   "cell_type": "markdown",
   "metadata": {},
   "source": [
    "Caveat: Sometimes closest gene is not the gene that is targeted by the enhancer.! Give example. "
   ]
  },
  {
   "cell_type": "markdown",
   "metadata": {},
   "source": [
    "Now we see 6975 genes, as opposed to 4185 when we used the bedtools intersect command. "
   ]
  },
  {
   "cell_type": "markdown",
   "metadata": {
    "collapsed": true
   },
   "source": [
    "How would the gene expression profile change if we examined a different cell type? We have downloaded data for the Hepg cell line (from the liver). We repeat our analysis from above: "
   ]
  },
  {
   "cell_type": "code",
   "execution_count": 1,
   "metadata": {
    "collapsed": false
   },
   "outputs": [
    {
     "name": "stdout",
     "output_type": "stream",
     "text": [
      "chr1\t28337\t29937\t1_Active_Promoter\t0\t.\t28337\t29937\t255,0,0\r\n",
      "chr1\t135737\t136137\t1_Active_Promoter\t0\t.\t135737\t136137\t255,0,0\r\n",
      "chr1\t137537\t138937\t1_Active_Promoter\t0\t.\t137537\t138937\t255,0,0\r\n",
      "chr1\t325537\t326537\t1_Active_Promoter\t0\t.\t325537\t326537\t255,0,0\r\n",
      "chr1\t327137\t328137\t1_Active_Promoter\t0\t.\t327137\t328137\t255,0,0\r\n",
      "chr1\t661537\t662737\t1_Active_Promoter\t0\t.\t661537\t662737\t255,0,0\r\n",
      "chr1\t662937\t664737\t1_Active_Promoter\t0\t.\t662937\t664737\t255,0,0\r\n",
      "chr1\t713337\t715737\t1_Active_Promoter\t0\t.\t713337\t715737\t255,0,0\r\n",
      "chr1\t761737\t763537\t1_Active_Promoter\t0\t.\t761737\t763537\t255,0,0\r\n",
      "chr1\t893737\t894737\t1_Active_Promoter\t0\t.\t893737\t894737\t255,0,0\r\n"
     ]
    }
   ],
   "source": [
    "# Here is the file of active promoter regions in the Hepg2 cell line: \n",
    "!head -n10 data/wgEncodeBroadHmmHepg2HMM.active_promoters.bed"
   ]
  },
  {
   "cell_type": "code",
   "execution_count": 2,
   "metadata": {
    "collapsed": true
   },
   "outputs": [],
   "source": [
    "#YOUR CODE HERE: \n",
    "#Intersect the active promoters file with the genome coordinates file to get the list of expressed genes \n",
    "# in the Hepg2 cell line "
   ]
  },
  {
   "cell_type": "code",
   "execution_count": 3,
   "metadata": {
    "collapsed": false
   },
   "outputs": [
    {
     "name": "stdout",
     "output_type": "stream",
     "text": [
      "chr1\t11537\t11937\t4_Strong_Enhancer\t0\t.\t11537\t11937\t250,202,0\r\n",
      "chr1\t18137\t19137\t5_Strong_Enhancer\t0\t.\t18137\t19137\t250,202,0\r\n",
      "chr1\t19137\t21537\t4_Strong_Enhancer\t0\t.\t19137\t21537\t250,202,0\r\n",
      "chr1\t27537\t27737\t5_Strong_Enhancer\t0\t.\t27537\t27737\t250,202,0\r\n",
      "chr1\t27737\t28337\t4_Strong_Enhancer\t0\t.\t27737\t28337\t250,202,0\r\n",
      "chr1\t136537\t137537\t5_Strong_Enhancer\t0\t.\t136537\t137537\t250,202,0\r\n",
      "chr1\t463537\t464337\t5_Strong_Enhancer\t0\t.\t463537\t464337\t250,202,0\r\n",
      "chr1\t696537\t697337\t5_Strong_Enhancer\t0\t.\t696537\t697337\t250,202,0\r\n",
      "chr1\t939937\t941137\t4_Strong_Enhancer\t0\t.\t939937\t941137\t250,202,0\r\n",
      "chr1\t942137\t942537\t4_Strong_Enhancer\t0\t.\t942137\t942537\t250,202,0\r\n"
     ]
    }
   ],
   "source": [
    "#Here is the file of strong enhancers in the Hegp2 cell line: \n",
    "!head -n10 data/wgEncodeBroadHmmHepg2HMM.strong_enhancers.bed"
   ]
  },
  {
   "cell_type": "code",
   "execution_count": 4,
   "metadata": {
    "collapsed": true
   },
   "outputs": [],
   "source": [
    "#YOUR CODE HERE: \n",
    "# Use the bedtools closest command to map strong enhancers to active genes  "
   ]
  },
  {
   "cell_type": "markdown",
   "metadata": {},
   "source": [
    "We are now interested in the different genes that are expressed in the H1 cell line as compared to the Hepg2 cell line. We can use the [bedtools subtract](http://bedtools.readthedocs.io/en/latest/content/tools/subtract.html) command to identify entries that are present in one bed file but not present in another bed file. "
   ]
  },
  {
   "cell_type": "code",
   "execution_count": 5,
   "metadata": {
    "collapsed": true
   },
   "outputs": [],
   "source": [
    "#Subtracting the promoter-intersected genes of the H1 cell line from \n",
    "#the promoter-intersected genes of the Hepg2 cell line. "
   ]
  },
  {
   "cell_type": "code",
   "execution_count": null,
   "metadata": {
    "collapsed": true
   },
   "outputs": [],
   "source": [
    "#Subtracting the promoter-interested genes of the Hepg2 cell line from \n",
    "#the promoter-intersected genes of the H1 cell line. "
   ]
  }
 ],
 "metadata": {
  "kernelspec": {
   "display_name": "Python [Root]",
   "language": "python",
   "name": "Python [Root]"
  },
  "language_info": {
   "codemirror_mode": {
    "name": "ipython",
    "version": 3
   },
   "file_extension": ".py",
   "mimetype": "text/x-python",
   "name": "python",
   "nbconvert_exporter": "python",
   "pygments_lexer": "ipython3",
   "version": "3.5.2"
  }
 },
 "nbformat": 4,
 "nbformat_minor": 2
}
