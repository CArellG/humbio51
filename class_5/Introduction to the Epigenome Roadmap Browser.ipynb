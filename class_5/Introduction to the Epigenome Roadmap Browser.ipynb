{
 "cells": [
  {
   "cell_type": "markdown",
   "metadata": {},
   "source": [
    "# Learning Goals \n",
    "* Learning to use the Washu Epigenome Browser \n",
    "* Examine read pileups in .bam files \n",
    "* Learn to recognize differential use of transcription start sites, splice sites, and expression levels \n",
    "\n",
    "Go to <a href=#bookmark>my bookmark</a>"
   ]
  },
  {
   "cell_type": "code",
   "execution_count": 4,
   "metadata": {
    "collapsed": false
   },
   "outputs": [
    {
     "data": {
      "text/html": [
       "\n",
       "        <iframe\n",
       "            width=\"800\"\n",
       "            height=\"500\"\n",
       "            src=\"http://egg2.wustl.edu/roadmap/web_portal/processed_data.html\"\n",
       "            frameborder=\"0\"\n",
       "            allowfullscreen\n",
       "        ></iframe>\n",
       "        "
      ],
      "text/plain": [
       "<IPython.lib.display.IFrame at 0x7f0ccc3df610>"
      ]
     },
     "execution_count": 4,
     "metadata": {},
     "output_type": "execute_result"
    }
   ],
   "source": [
    "from IPython.display import IFrame\n",
    "\n",
    "IFrame(\"http://egg2.wustl.edu/roadmap/web_portal/processed_data.html\",height=500,width=800)"
   ]
  },
  {
   "cell_type": "markdown",
   "metadata": {},
   "source": [
    "RNA-seq datasets show gene expression levels. \n",
    "We can visualize 'read pileups' in the browser. \n",
    "\n",
    "Reads can be sequenced from just the 5' end (single-end sequencing), or from both the 5' and 3' end (paired end sequencing). \n",
    "\n",
    "![Single End vs. Paired End Sequencing](single_end_paired_end.png)"
   ]
  },
  {
   "cell_type": "code",
   "execution_count": 2,
   "metadata": {
    "collapsed": false
   },
   "outputs": [
    {
     "data": {
      "text/html": [
       "\n",
       "        <iframe\n",
       "            width=\"800\"\n",
       "            height=\"800\"\n",
       "            src=\"http://epigenomegateway.wustl.edu/browser/?genome=hg19&tknamewidth=150&datahub=http://egg2.wustl.edu/web_portal_cache/752697500.json\"\n",
       "            frameborder=\"0\"\n",
       "            allowfullscreen\n",
       "        ></iframe>\n",
       "        "
      ],
      "text/plain": [
       "<IPython.lib.display.IFrame at 0x7f0ccc3df450>"
      ]
     },
     "execution_count": 2,
     "metadata": {},
     "output_type": "execute_result"
    }
   ],
   "source": [
    "IFrame('http://epigenomegateway.wustl.edu/browser/?genome=hg19&tknamewidth=150&datahub=http://egg2.wustl.edu/web_portal_cache/752697500.json', width=800, height=800)\n"
   ]
  },
  {
   "cell_type": "markdown",
   "metadata": {
    "collapsed": true
   },
   "source": [
    "Bookmark example!<a name='bookmark' />"
   ]
  },
  {
   "cell_type": "markdown",
   "metadata": {
    "collapsed": true
   },
   "source": [
    "#TODO! \n",
    "Add info from class 6 about table reading in/ slicing \n"
   ]
  },
  {
   "cell_type": "code",
   "execution_count": null,
   "metadata": {
    "collapsed": true
   },
   "outputs": [],
   "source": []
  }
 ],
 "metadata": {
  "kernelspec": {
   "display_name": "Python 2",
   "language": "python",
   "name": "python2"
  },
  "language_info": {
   "codemirror_mode": {
    "name": "ipython",
    "version": 2
   },
   "file_extension": ".py",
   "mimetype": "text/x-python",
   "name": "python",
   "nbconvert_exporter": "python",
   "pygments_lexer": "ipython2",
   "version": "2.7.10"
  }
 },
 "nbformat": 4,
 "nbformat_minor": 2
}
