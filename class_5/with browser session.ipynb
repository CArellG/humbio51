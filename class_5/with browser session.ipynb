{
 "cells": [
  {
   "cell_type": "code",
   "execution_count": 14,
   "metadata": {
    "collapsed": false
   },
   "outputs": [
    {
     "data": {
      "application/javascript": [
       "require.config({\n",
       "  paths: {\n",
       "      d3: '//cdnjs.cloudflare.com/ajax/libs/d3/3.4.8/d3.min'\n",
       "  }\n",
       "});"
      ],
      "text/plain": [
       "<IPython.core.display.Javascript object>"
      ]
     },
     "metadata": {},
     "output_type": "display_data"
    }
   ],
   "source": [
    "%%javascript\n",
    "require.config({\n",
    "  paths: {\n",
    "      d3: '//cdnjs.cloudflare.com/ajax/libs/d3/3.4.8/d3.min'\n",
    "  }\n",
    "});"
   ]
  },
  {
   "cell_type": "code",
   "execution_count": 19,
   "metadata": {
    "collapsed": false
   },
   "outputs": [
    {
     "data": {
      "text/html": [
       "\n",
       "<link rel=\"stylesheet\" type=\"text/css\" href=\"http://epigenomegateway.wustl.edu/browser/css/style.css\" />\n",
       "<script type=\"text/javascript\" src=\"http://epigenomegateway.wustl.edu/browser/js/base.js\"></script>\n",
       "<script type=\"text/javascript\" src=\"http://epigenomegateway.wustl.edu/browser/js/session.js\"></script>\n",
       "<script type=\"text/javascript\" src=\"http://epigenomegateway.wustl.edu/browser/js/bev.js\"></script>\n",
       "<script type=\"text/javascript\" src=\"http://epigenomegateway.wustl.edu/browser/js/gsm.js\"></script>\n",
       "<script type=\"text/javascript\" src=\"http://epigenomegateway.wustl.edu/browser/js/session.js\"></script>\n",
       "<script type=\"text/javascript\" src=\"http://epigenomegateway.wustl.edu/browser/js/fileload.js\"></script>\n",
       "<script type=\"text/javascript\" src=\"http://epigenomegateway.wustl.edu/browser/js/scp.js\"></script>\n",
       "<script type=\"text/javascript\" src=\"http://epigenomegateway.wustl.edu/browser/js/geneplot.js\"></script>\n",
       "<script type=\"text/javascript\" src=\"http://epigenomegateway.wustl.edu/browser/js/validhub.js\"></script>\n",
       "<script type=\"text/javascript\" src=\"http://epigenomegateway.wustl.edu/browser/js/circlet.js\"></script>\n",
       "<script type=\"text/javascript\" src=\"http://epigenomegateway.wustl.edu/browser/js/sukn.js\"></script>\n",
       "<script type=\"text/javascript\" src=\"http://epigenomegateway.wustl.edu/browser/js/personality.js\"></script>\n",
       "<script type=\"text/javascript\" src=\"http://epigenomegateway.wustl.edu/browser/js/embed.js\"></script>\n",
       "<script type=\"text/javascript\" src=\"http://epigenomegateway.wustl.edu/browser/js/dataProvider.js\"></script>\n",
       "<script type=\"text/javascript\" src=\"http://epigenomegateway.wustl.edu/browser/js/hicInterface.js\"></script>\n"
      ],
      "text/plain": [
       "<IPython.core.display.HTML object>"
      ]
     },
     "metadata": {},
     "output_type": "display_data"
    }
   ],
   "source": [
    "%%html\n",
    "\n",
    "<link rel=\"stylesheet\" type=\"text/css\" href=\"http://epigenomegateway.wustl.edu/browser/css/style.css\" />\n",
    "<script type=\"text/javascript\" src=\"http://epigenomegateway.wustl.edu/browser/js/base.js\"></script>\n",
    "<script type=\"text/javascript\" src=\"http://epigenomegateway.wustl.edu/browser/js/session.js\"></script>\n",
    "<script type=\"text/javascript\" src=\"http://epigenomegateway.wustl.edu/browser/js/bev.js\"></script>\n",
    "<script type=\"text/javascript\" src=\"http://epigenomegateway.wustl.edu/browser/js/gsm.js\"></script>\n",
    "<script type=\"text/javascript\" src=\"http://epigenomegateway.wustl.edu/browser/js/session.js\"></script>\n",
    "<script type=\"text/javascript\" src=\"http://epigenomegateway.wustl.edu/browser/js/fileload.js\"></script>\n",
    "<script type=\"text/javascript\" src=\"http://epigenomegateway.wustl.edu/browser/js/scp.js\"></script>\n",
    "<script type=\"text/javascript\" src=\"http://epigenomegateway.wustl.edu/browser/js/geneplot.js\"></script>\n",
    "<script type=\"text/javascript\" src=\"http://epigenomegateway.wustl.edu/browser/js/validhub.js\"></script>\n",
    "<script type=\"text/javascript\" src=\"http://epigenomegateway.wustl.edu/browser/js/circlet.js\"></script>\n",
    "<script type=\"text/javascript\" src=\"http://epigenomegateway.wustl.edu/browser/js/sukn.js\"></script>\n",
    "<script type=\"text/javascript\" src=\"http://epigenomegateway.wustl.edu/browser/js/personality.js\"></script>\n",
    "<script type=\"text/javascript\" src=\"http://epigenomegateway.wustl.edu/browser/js/embed.js\"></script>\n",
    "<script type=\"text/javascript\" src=\"http://epigenomegateway.wustl.edu/browser/js/dataProvider.js\"></script>\n",
    "<script type=\"text/javascript\" src=\"http://epigenomegateway.wustl.edu/browser/js/hicInterface.js\"></script>\n",
    "\n"
   ]
  },
  {
   "cell_type": "code",
   "execution_count": 20,
   "metadata": {
    "collapsed": false
   },
   "outputs": [
    {
     "data": {
      "application/javascript": [
       "element.append(\"<div id='container_id'></div>\");"
      ],
      "text/plain": [
       "<IPython.core.display.Javascript object>"
      ]
     },
     "metadata": {},
     "output_type": "display_data"
    }
   ],
   "source": [
    "%%javascript\n",
    "element.append(\"<div id='container_id'></div>\");\n"
   ]
  },
  {
   "cell_type": "code",
   "execution_count": 21,
   "metadata": {
    "collapsed": false
   },
   "outputs": [
    {
     "data": {
      "application/javascript": [
       "\n",
       "embed_washugb({\n",
       "host:'//epigenomegateway.wustl.edu',\n",
       "container:document.getElementById('container_id'),\n",
       "genome:'hg18',\n",
       "noDeleteButton:true,\n",
       "noDefaultTrack:true,\n",
       "datahub:'http://vizhub.wustl.edu/public/hg18/pmid19829295/hub.h1es',\n",
       "coordinate:'chr6:31234328-31246661',\n",
       "leftSpaceWidth:120,\n",
       "showContent:[\n",
       "{type:'native_track',list:[ {name:'refGene',mode:'full'},]},\n",
       "],\n",
       "});\n"
      ],
      "text/plain": [
       "<IPython.core.display.Javascript object>"
      ]
     },
     "execution_count": 21,
     "metadata": {},
     "output_type": "execute_result"
    }
   ],
   "source": [
    "from IPython.display import Javascript\n",
    "Javascript(\n",
    "    \"\"\"\n",
    "embed_washugb({\n",
    "host:'//epigenomegateway.wustl.edu',\n",
    "container:document.getElementById('container_id'),\n",
    "genome:'hg18',\n",
    "noDeleteButton:true,\n",
    "noDefaultTrack:true,\n",
    "datahub:'http://vizhub.wustl.edu/public/hg18/pmid19829295/hub.h1es',\n",
    "coordinate:'chr6:31234328-31246661',\n",
    "leftSpaceWidth:120,\n",
    "showContent:[\n",
    "{type:'native_track',list:[ {name:'refGene',mode:'full'},]},\n",
    "],\n",
    "});\n",
    "\"\"\")\n"
   ]
  },
  {
   "cell_type": "code",
   "execution_count": 23,
   "metadata": {
    "collapsed": false
   },
   "outputs": [
    {
     "data": {
      "application/javascript": [
       "embed_washugb({\n",
       "host:'http://epigenomegateway.wustl.edu',\n",
       "container:document.getElementById('container_id'),\n",
       "genome:\"hg19\",\n",
       "datahub:'http://mitra.stanford.edu/kundaje/annashch/dmso/viz-dl.details.bigwig.cellcycle.lowdensity.atac.rna.combinedchipseq.chromhmm.fc.json'\n",
       "});"
      ],
      "text/plain": [
       "<IPython.core.display.Javascript object>"
      ]
     },
     "metadata": {},
     "output_type": "display_data"
    }
   ],
   "source": [
    "%%javascript\n",
    "embed_washugb({\n",
    "host:'http://epigenomegateway.wustl.edu',\n",
    "container:document.getElementById('container_id'),\n",
    "genome:\"hg19\",\n",
    "datahub:'http://mitra.stanford.edu/kundaje/annashch/dmso/viz-dl.details.bigwig.cellcycle.lowdensity.atac.rna.combinedchipseq.chromhmm.fc.json'\n",
    "});\n"
   ]
  },
  {
   "cell_type": "code",
   "execution_count": 29,
   "metadata": {
    "collapsed": false
   },
   "outputs": [
    {
     "data": {
      "text/html": [
       "\n",
       "        <iframe\n",
       "            width=\"900\"\n",
       "            height=\"1000\"\n",
       "            src=\"http://epigenomegateway.wustl.edu/browser/?genome=hg19&datahub=http://mitra.stanford.edu/kundaje/annashch/dmso/viz-dl.details.bigwig.cellcycle.lowdensity.atac.rna.combinedchipseq.chromhmm.fc.json&tknamewidth=150\"\n",
       "            frameborder=\"0\"\n",
       "            allowfullscreen\n",
       "        ></iframe>\n",
       "        "
      ],
      "text/plain": [
       "<IPython.lib.display.IFrame at 0x7f78dcc75510>"
      ]
     },
     "execution_count": 29,
     "metadata": {},
     "output_type": "execute_result"
    }
   ],
   "source": [
    "from IPython.display import IFrame\n",
    "IFrame('http://epigenomegateway.wustl.edu/browser/?genome=hg19&datahub=http://mitra.stanford.edu/kundaje/annashch/dmso/viz-dl.details.bigwig.cellcycle.lowdensity.atac.rna.combinedchipseq.chromhmm.fc.json&tknamewidth=150', width=900, height=1000)\n"
   ]
  },
  {
   "cell_type": "code",
   "execution_count": null,
   "metadata": {
    "collapsed": true
   },
   "outputs": [],
   "source": []
  }
 ],
 "metadata": {
  "kernelspec": {
   "display_name": "Python 2",
   "language": "python",
   "name": "python2"
  },
  "language_info": {
   "codemirror_mode": {
    "name": "ipython",
    "version": 2
   },
   "file_extension": ".py",
   "mimetype": "text/x-python",
   "name": "python",
   "nbconvert_exporter": "python",
   "pygments_lexer": "ipython2",
   "version": "2.7.10"
  }
 },
 "nbformat": 4,
 "nbformat_minor": 2
}
