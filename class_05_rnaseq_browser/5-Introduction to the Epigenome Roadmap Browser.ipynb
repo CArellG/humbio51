{
 "cells": [
  {
   "cell_type": "markdown",
   "metadata": {},
   "source": [
    "# Big Data for Biologists: Decoding Genomic Function- Class 5\n",
    "\n",
    "## How do you measure gene expression levels using RNA-Seq?\n",
    "\n",
    "##  Learning Objectives\n",
    "***Students should be able to***\n",
    " <ol>\n",
    " <li><a href=#RNASeqIntro> Describe what an RNA-Seq experiment is and what can be measured</a></li>\n",
    " <li><a href=#FASTQ>Recognize FASTQ file format</a></li>\n",
    " <li><a href=#MapSeqReads>Map  sequence reads to the human reference genome </a></li>\n",
    "<li><a href=#RNASeqinBrowser> View results of RNA-Seq experiments in the WashU Epigenome Browser</a></li>\n",
    " <li><a href=#BAMReadPileups> Examine read pileups in .bam files to ??? (ie, can we capturewhat is the purpose of examining readpileups?) </a></li>\n",
    " <li><a href=#CellTypeDifferences> Recognize differential use of transcription start sites, splice sites, and expression levels ??? is thisbetween cell types??  \n",
    " </a></li>  \n",
    " <li><a href=#RNASeqDataFormat>Recognize that data from an RNA-Seq experiment can be processed and stored in a format that can be read into Python</a></li>\n",
    " <li> <a href=#IDHeaderSep>Identify the separator and header in a data table</a></li> \n",
    " <li><a href=#LoadTable> Load a data table in .csv or .tsv format into Python</a></li>\n",
    " <li> <a href=#DataTableDim>Get the dimensions of a data table in Python  </a></li>\n",
    "  \n"
   ]
  },
  {
   "cell_type": "markdown",
   "metadata": {},
   "source": [
    "## What is an RNA-Seq experiment and what can be measured? <a name='RNASeqIntro' />\n"
   ]
  },
  {
   "cell_type": "markdown",
   "metadata": {},
   "source": [
    "## Mapping sequencing reads to a reference genome<a name='MapSeqReads' />\n",
    "\n",
    " \n",
    "* Comparing sequences to a reference genome **short-read sequence alignment or read mapping**\n",
    "\n",
    "First of all, what are short reads versus long reads and why are we talking about short-read alignment?\n",
    "\n",
    "The original DNA sequencing methods that were used for the Human Genome Project were called Sanger sequencing and could produce sequences that were >1000 base pairs. These long sequences were very helpful in the construction of the original human reference genome. \n",
    "\n",
    "Researchers are still developing technologies to make obtaining long sequencing reads less expensive and to create even longer ranges for the sequncing. \n",
    "\n",
    "These longer reads can help provide information in parts of the genome that have been difficult to sequence. For a recent story of how new technologies for obtaining long sequencing reads is helping in the clinic see [here](https://med.stanford.edu/news/all-news/2017/06/researchers-use-long-read-genome-sequencing-in-a-patient.html).\n",
    "\n",
    "However, the data from most next generation sequencing machines usually produce **short reads** or sequences that are <~200 base pairs [Ref](http://www.nature.com/nbt/journal/v30/n11/full/nbt.2421.html). These are referred to as short-reads. Short-read sequencing is currently less expensive and more common than long-read sequencing. \n",
    "\n",
    "Since there is already a human reference genome, short reads from DNA sequencing experiments can be aligned to the reference genome and can help to define genetic variation in populations. \n",
    "\n",
    "As we'll see in the next class, short reads from types of DNA sequencing experiments known as RNA-Seq and CHIP-Seq experiments can also be aligned to the human reference genome to help define gene expression or gene regulatory regions in different cell types or across different conditions.\n",
    "\n",
    "TODO: wrapper function with small fastq as I/O (3 single-mapped, 3 multi-mapped, 3 non-specific mapping) "
   ]
  },
  {
   "cell_type": "markdown",
   "metadata": {},
   "source": [
    "## Introduction to FASTA and FASTQ data formats<a name='FASTQ' />\n",
    "\n",
    "A common format for the output of files from DNA sequencing machines, and the one that we'll be using in this class, is called FASTQ. \n",
    "\n",
    "You have already seen data in the FASTA format. The first line contains the sequence label, preceded by \">\". The second line contains the actual sequence bases (A,C,G,T): \n",
    "\n",
    "**>FORJUSP02AJWD1** \n",
    "\n",
    "**CCGTCAATTCATTTAAGTTTTAACCTT**\n",
    "\n",
    "FASTQ format takes this a step further by including sequence quality information. \n",
    "\n",
    "The sequence quality information is first calculated as numeric scores (known as [Phred Scores](https://en.wikipedia.org/wiki/Phred_quality_score), but is written in FASTQ files as characters, known as ASCII characters. \n",
    "\n",
    "The advantage of using [ASCII Characters](http://www.asciitable.com/) is that 94 numbers can be represented with single characters.  \n",
    "\n",
    "For example, in the sequence below, \":\" corresponds to 58. Since 58 has two digits it wouldn't align well underneath a single T whereas : only takes up one space and aligns with the T base pair. \n",
    "\n",
    "<img src=\"images/fastq_fig.jpg\",align=\"center\"//>\n",
    "\n"
   ]
  },
  {
   "cell_type": "code",
   "execution_count": 1,
   "metadata": {
    "collapsed": false
   },
   "outputs": [
    {
     "name": "stdout",
     "output_type": "stream",
     "text": [
      "[32, 25, 24, 24, 31, 25, 25, 30, 30, 31, 31, 25, 25, 37, 37, 32, 32]\n"
     ]
    }
   ],
   "source": [
    "## You can convert the ASCII-encoded quality values to numeric Q scores with the 'ord' function. You must subtract 33\n",
    "## from the converted value to obtain a Q score\n",
    "\n",
    "quality_ascii='A:99@::??@@::FFAA'\n",
    "numerical=[ord(c)-33 for c in quality_ascii]\n",
    "print(numerical)"
   ]
  },
  {
   "cell_type": "markdown",
   "metadata": {},
   "source": [
    "## How can I view the results of RNA-Seq experiments in the WashU Epigenome Browser? <a name='RNASeqinBrowser' />\n",
    "\n",
    ">EDITS?\n",
    "Maybe insert link to lead directly to a particular exmple to look at. \n",
    "In the last class they used the gene for Insulin and used bed tools to pull out the exon sequence, so it could be interesting for them to see how that is on in pancreatic cells but not in other cell types and also how you can define the exon intron boundaries with the expression data. \n",
    "Then could diversify with a different interesting example for transcription start sites, splice sites and expression levels differeing in cell types? \n"
   ]
  },
  {
   "cell_type": "code",
   "execution_count": 1,
   "metadata": {
    "collapsed": false
   },
   "outputs": [
    {
     "data": {
      "text/html": [
       "\n",
       "        <iframe\n",
       "            width=\"800\"\n",
       "            height=\"500\"\n",
       "            src=\"http://egg2.wustl.edu/roadmap/web_portal/processed_data.html\"\n",
       "            frameborder=\"0\"\n",
       "            allowfullscreen\n",
       "        ></iframe>\n",
       "        "
      ],
      "text/plain": [
       "<IPython.lib.display.IFrame at 0x7f4a24e8cfd0>"
      ]
     },
     "execution_count": 1,
     "metadata": {},
     "output_type": "execute_result"
    }
   ],
   "source": [
    "from IPython.display import IFrame\n",
    "\n",
    "IFrame(\"http://egg2.wustl.edu/roadmap/web_portal/processed_data.html\",height=500,width=800)"
   ]
  },
  {
   "cell_type": "markdown",
   "metadata": {},
   "source": [
    "## Explain what a read pileup is and examine read pileups in .bam files to ???? <a name='BAMReadPileups' />"
   ]
  },
  {
   "cell_type": "markdown",
   "metadata": {},
   "source": [
    "RNA-seq datasets show gene expression levels. \n",
    "We can visualize 'read pileups' in the browser. \n",
    "\n",
    ">EDITS \n",
    "Would be helpful to have definition of read pileups and, if applicable, explain the connection from read pileups to the single vs paired end sequencing. \n",
    "\n",
    "\n",
    "Reads can be sequenced from just the 5' end (single-end sequencing), or from both the 5' and 3' end (paired end sequencing). \n",
    "\n",
    "\n",
    "\n",
    "![Single End vs. Paired End Sequencing](single_end_paired_end.png)"
   ]
  },
  {
   "cell_type": "code",
   "execution_count": 3,
   "metadata": {
    "collapsed": false
   },
   "outputs": [
    {
     "data": {
      "text/html": [
       "\n",
       "        <iframe\n",
       "            width=\"800\"\n",
       "            height=\"800\"\n",
       "            src=\"http://epigenomegateway.wustl.edu/browser/?genome=hg19&tknamewidth=150&datahub=http://egg2.wustl.edu/web_portal_cache/752697500.json\"\n",
       "            frameborder=\"0\"\n",
       "            allowfullscreen\n",
       "        ></iframe>\n",
       "        "
      ],
      "text/plain": [
       "<IPython.lib.display.IFrame at 0x103fa70f0>"
      ]
     },
     "execution_count": 3,
     "metadata": {},
     "output_type": "execute_result"
    }
   ],
   "source": [
    "IFrame('http://epigenomegateway.wustl.edu/browser/?genome=hg19&tknamewidth=150&datahub=http://egg2.wustl.edu/web_portal_cache/752697500.json', width=800, height=800)\n"
   ]
  },
  {
   "cell_type": "markdown",
   "metadata": {},
   "source": [
    "# How is data from an RNA-Seq experiment processed and stored in a format that can be read into Python? <a name='RNASeqDataFormat' />\n",
    "\n",
    "We are now going to look at processed data from a real RNA-Seq experiment. \n",
    "\n",
    ">EDITS \n",
    "Might be helpful to give them a little background on the particular experiment-- is it data downloaded from the browser? From an expeirment in the lab? ie where did the asinh_tpm_minus_sva.tsv file come from? What had to happen (in simplest terms) to go from the read pileups to the datatable?   Also, we should probably mention here that the data has been pre-normalized- \n",
    " \n",
    "\n",
    "To start analyzing the data from the RNA-Seq experiment one of the first steps is reading the data into a program that can be used for the analysis. \n",
    "\n",
    "We'll be using Python and will need to first cover some general information about working with datatables. "
   ]
  },
  {
   "cell_type": "markdown",
   "metadata": {},
   "source": [
    "# Identify the separator and header in a data table  <a name='IDHeaderSep' />\n",
    "\n",
    "Two common formats for data tables are comma separated values (**.csv**) files or tab separated values (**.tsv**) files.\n",
    "\n",
    "In order to read a data table into a program, you often need to know what format the file is in. One way to check is to just look at the files in a text editor. Below you can see the differences between a file saved in .csv or .tsv format. \n",
    "\n",
    "Also, when you read a data table into Python (or R) you often need to specify which row of the file has the column labels. This row is referred to as a **header**.\n",
    "\n",
    "Sometimes a file has extra lines above the header, so you may need to tell the program not to read that row since the extra lines may not have the same number of columns as the rest of the table and they can mess up the formatting. \n",
    "\n",
    "<img src=\"../Images/6-Tables-CSV-TSV.png\" style=\"width: 100%; height: 100%\" align=\"center\"//>\n"
   ]
  },
  {
   "cell_type": "markdown",
   "metadata": {
    "collapsed": true
   },
   "source": [
    "# Load a data table in .csv or .tsv format into Python <a name='LoadTable' />\n",
    "\n",
    "To read our RNA-Seq data table into Python, we are going to be using the <i>pandas</i> package. \n",
    "\n",
    "<i>Pandas</i> adds functionality to working with data in Python. You can learn more about <i>pandas</i> at the following [link](http://pandas.pydata.org/). In particular, <i>pandas</i> introduces a variable type called dataframes which are a convient way of working with tables.\n",
    "\n",
    "After we have imported the <i>pandas</i> package into Python, we can load a .csv or .tsv file with the read_csv or read_table command. \n",
    "\n",
    "The RNA-Seq data that we will be using is a .tsv file.\n",
    "\n",
    "Note that the read command also asks for you to specify the row number for the header which in our case is the first line, denoted zero in Python. \n",
    "\n",
    "Take a look at reading in a file in the example below. "
   ]
  },
  {
   "cell_type": "code",
   "execution_count": 6,
   "metadata": {
    "collapsed": false
   },
   "outputs": [],
   "source": [
    "# load the pandas package and define an abbreviation (or alias) \n",
    "import pandas as pd   \n",
    "\n",
    "# read_table loads a tabular data file into python with tab as the default separator\n",
    "# read_csv loads a tabular data file into python with comma as the deafault separator\n",
    "# header gives the number of the row that will be used for column names\n",
    "\n",
    "df = pd.read_table(\n",
    "     filepath_or_buffer='../datasets/RNAseq/asinh_tpm_minus_sva.tsv', \n",
    "     header=0)\n"
   ]
  },
  {
   "cell_type": "markdown",
   "metadata": {},
   "source": [
    "Thought questions: \n",
    "\n",
    "* What would you change the code above to read in a .csv file?\n",
    "* How would you need to change the code if your column names were in the third row? "
   ]
  },
  {
   "cell_type": "markdown",
   "metadata": {},
   "source": [
    "  # How do I know how many genes and cell types I have in my data set (aka. Get the dimensions of a data table in Python)<a name='DataTableDim' />\n",
    "  \n",
    "Once you've read your data set into Python, there are just a couple of commands that you need to look at the size of your dataset. \n"
   ]
  },
  {
   "cell_type": "code",
   "execution_count": 7,
   "metadata": {
    "collapsed": false
   },
   "outputs": [
    {
     "data": {
      "text/html": [
       "<div>\n",
       "<style>\n",
       "    .dataframe thead tr:only-child th {\n",
       "        text-align: right;\n",
       "    }\n",
       "\n",
       "    .dataframe thead th {\n",
       "        text-align: left;\n",
       "    }\n",
       "\n",
       "    .dataframe tbody tr th {\n",
       "        vertical-align: top;\n",
       "    }\n",
       "</style>\n",
       "<table border=\"1\" class=\"dataframe\">\n",
       "  <thead>\n",
       "    <tr style=\"text-align: right;\">\n",
       "      <th></th>\n",
       "      <th>ENCSR051GPK.Ganglion_Eminence_derived_primary_cultured_neurospheres.UCSF_Costello</th>\n",
       "      <th>ENCSR906HEV.Fetal_Muscle_Trunk.UW_Glass</th>\n",
       "      <th>ENCSR762CJN.H1_BMP4_Derived_Trophoblast_Cultured_Cells.UCSD_Thompson</th>\n",
       "      <th>ENCSR321ROU.Fetal_Kidney_Pelvis.UW_Glass</th>\n",
       "      <th>ENCSR109IQO.K562_Leukemia_Cells.UConn_Graveley</th>\n",
       "      <th>ENCSR000AEF.GM12878_Lymphoblastoid_Cells.UConn_Graveley</th>\n",
       "      <th>ENCSR244ISQ.H9_Derived_Neuronal_Progenitor_Cultured_Cells.CSHL_Gingeras</th>\n",
       "      <th>ENCSR446RKD.Fetal_Intestine_Small.UW_Glass</th>\n",
       "      <th>ENCSR396GIH.Sigmoid_Colon.Stanford_Snyder</th>\n",
       "      <th>ENCSR000CUA.Primary_hematopoietic_stem_cells.CSHL_Gingeras</th>\n",
       "      <th>...</th>\n",
       "      <th>ENCSR271DJJ.Pancreatic_Islets.UCSF_Costello</th>\n",
       "      <th>ENCSR000AED.GM12878_Lymphoblastoid_Cells.CSHL_Gingeras</th>\n",
       "      <th>ENCSR433GXV.hESC_Derived_CD56._Mesoderm_Cultured_Cells.Harvard</th>\n",
       "      <th>ENCSR535VTR.HT1080_Fibrosarcoma_Cell_Line.CSHL_Gingeras</th>\n",
       "      <th>ENCSR000AEV.Bladder.CSHL_Gingeras</th>\n",
       "      <th>ENCSR314LXG.Karpas.422_B_Cell_Non.Hodgkin_Lymphoma_Cell_Line.CSHL_Gingeras</th>\n",
       "      <th>ENCSR642GSA.Primary_T_CD8._naive_cells_from_peripheral_blood.UCSF_Costello</th>\n",
       "      <th>ENCSR880EGO.SJSA1_Osteosarcoma_Cell_Line.CSHL_Gingeras</th>\n",
       "      <th>ENCSR000AAT.Umbilical_Artery_Epithelial_Primary_Cells.CSHL_Gingeras</th>\n",
       "      <th>ENCSR000EYQ.HeLa.S3_Cervical_Carcinoma_Cell_Line.Caltech_Wold</th>\n",
       "    </tr>\n",
       "  </thead>\n",
       "  <tbody>\n",
       "    <tr>\n",
       "      <th>ENSG00000242268.2</th>\n",
       "      <td>0.675065</td>\n",
       "      <td>0.277090</td>\n",
       "      <td>0.187297</td>\n",
       "      <td>-0.104115</td>\n",
       "      <td>0.384825</td>\n",
       "      <td>0.805894</td>\n",
       "      <td>0.047858</td>\n",
       "      <td>0.147409</td>\n",
       "      <td>0.292986</td>\n",
       "      <td>0.312230</td>\n",
       "      <td>...</td>\n",
       "      <td>0.653688</td>\n",
       "      <td>0.221102</td>\n",
       "      <td>0.206536</td>\n",
       "      <td>0.444246</td>\n",
       "      <td>0.246548</td>\n",
       "      <td>0.189249</td>\n",
       "      <td>0.418133</td>\n",
       "      <td>0.252317</td>\n",
       "      <td>0.326081</td>\n",
       "      <td>0.368408</td>\n",
       "    </tr>\n",
       "    <tr>\n",
       "      <th>ENSG00000167578.12</th>\n",
       "      <td>3.176028</td>\n",
       "      <td>2.113871</td>\n",
       "      <td>2.990098</td>\n",
       "      <td>2.860598</td>\n",
       "      <td>3.392432</td>\n",
       "      <td>2.345439</td>\n",
       "      <td>2.824117</td>\n",
       "      <td>2.697207</td>\n",
       "      <td>3.277173</td>\n",
       "      <td>3.183208</td>\n",
       "      <td>...</td>\n",
       "      <td>2.879215</td>\n",
       "      <td>3.832572</td>\n",
       "      <td>3.034219</td>\n",
       "      <td>2.787787</td>\n",
       "      <td>2.751289</td>\n",
       "      <td>3.375140</td>\n",
       "      <td>3.721178</td>\n",
       "      <td>3.144349</td>\n",
       "      <td>2.578081</td>\n",
       "      <td>1.950408</td>\n",
       "    </tr>\n",
       "    <tr>\n",
       "      <th>ENSG00000270112.2</th>\n",
       "      <td>-0.100813</td>\n",
       "      <td>0.325754</td>\n",
       "      <td>0.068335</td>\n",
       "      <td>-0.067226</td>\n",
       "      <td>0.145993</td>\n",
       "      <td>0.033347</td>\n",
       "      <td>-0.015703</td>\n",
       "      <td>0.305393</td>\n",
       "      <td>0.024166</td>\n",
       "      <td>0.153861</td>\n",
       "      <td>...</td>\n",
       "      <td>0.959168</td>\n",
       "      <td>-0.027327</td>\n",
       "      <td>0.121938</td>\n",
       "      <td>0.131140</td>\n",
       "      <td>0.137807</td>\n",
       "      <td>-0.031017</td>\n",
       "      <td>0.114565</td>\n",
       "      <td>0.175163</td>\n",
       "      <td>0.168535</td>\n",
       "      <td>0.027780</td>\n",
       "    </tr>\n",
       "    <tr>\n",
       "      <th>ENSG00000078237.4</th>\n",
       "      <td>3.750078</td>\n",
       "      <td>1.852882</td>\n",
       "      <td>3.030287</td>\n",
       "      <td>2.432092</td>\n",
       "      <td>2.051930</td>\n",
       "      <td>2.783840</td>\n",
       "      <td>2.881930</td>\n",
       "      <td>2.124639</td>\n",
       "      <td>2.829874</td>\n",
       "      <td>2.028751</td>\n",
       "      <td>...</td>\n",
       "      <td>2.116523</td>\n",
       "      <td>2.660524</td>\n",
       "      <td>2.838042</td>\n",
       "      <td>3.059306</td>\n",
       "      <td>2.241726</td>\n",
       "      <td>2.550853</td>\n",
       "      <td>2.296903</td>\n",
       "      <td>2.329019</td>\n",
       "      <td>2.827429</td>\n",
       "      <td>1.951301</td>\n",
       "    </tr>\n",
       "    <tr>\n",
       "      <th>ENSG00000263642.1</th>\n",
       "      <td>-0.005248</td>\n",
       "      <td>0.007042</td>\n",
       "      <td>0.002427</td>\n",
       "      <td>-0.028182</td>\n",
       "      <td>-0.000008</td>\n",
       "      <td>0.004928</td>\n",
       "      <td>0.011574</td>\n",
       "      <td>0.000988</td>\n",
       "      <td>0.011045</td>\n",
       "      <td>0.002950</td>\n",
       "      <td>...</td>\n",
       "      <td>0.001907</td>\n",
       "      <td>0.001637</td>\n",
       "      <td>0.009485</td>\n",
       "      <td>0.003524</td>\n",
       "      <td>0.006027</td>\n",
       "      <td>0.005670</td>\n",
       "      <td>-0.001775</td>\n",
       "      <td>0.011901</td>\n",
       "      <td>0.005117</td>\n",
       "      <td>0.000580</td>\n",
       "    </tr>\n",
       "  </tbody>\n",
       "</table>\n",
       "<p>5 rows × 410 columns</p>\n",
       "</div>"
      ],
      "text/plain": [
       "                    ENCSR051GPK.Ganglion_Eminence_derived_primary_cultured_neurospheres.UCSF_Costello  \\\n",
       "ENSG00000242268.2                                            0.675065                                   \n",
       "ENSG00000167578.12                                           3.176028                                   \n",
       "ENSG00000270112.2                                           -0.100813                                   \n",
       "ENSG00000078237.4                                            3.750078                                   \n",
       "ENSG00000263642.1                                           -0.005248                                   \n",
       "\n",
       "                    ENCSR906HEV.Fetal_Muscle_Trunk.UW_Glass  \\\n",
       "ENSG00000242268.2                                  0.277090   \n",
       "ENSG00000167578.12                                 2.113871   \n",
       "ENSG00000270112.2                                  0.325754   \n",
       "ENSG00000078237.4                                  1.852882   \n",
       "ENSG00000263642.1                                  0.007042   \n",
       "\n",
       "                    ENCSR762CJN.H1_BMP4_Derived_Trophoblast_Cultured_Cells.UCSD_Thompson  \\\n",
       "ENSG00000242268.2                                            0.187297                      \n",
       "ENSG00000167578.12                                           2.990098                      \n",
       "ENSG00000270112.2                                            0.068335                      \n",
       "ENSG00000078237.4                                            3.030287                      \n",
       "ENSG00000263642.1                                            0.002427                      \n",
       "\n",
       "                    ENCSR321ROU.Fetal_Kidney_Pelvis.UW_Glass  \\\n",
       "ENSG00000242268.2                                  -0.104115   \n",
       "ENSG00000167578.12                                  2.860598   \n",
       "ENSG00000270112.2                                  -0.067226   \n",
       "ENSG00000078237.4                                   2.432092   \n",
       "ENSG00000263642.1                                  -0.028182   \n",
       "\n",
       "                    ENCSR109IQO.K562_Leukemia_Cells.UConn_Graveley  \\\n",
       "ENSG00000242268.2                                         0.384825   \n",
       "ENSG00000167578.12                                        3.392432   \n",
       "ENSG00000270112.2                                         0.145993   \n",
       "ENSG00000078237.4                                         2.051930   \n",
       "ENSG00000263642.1                                        -0.000008   \n",
       "\n",
       "                    ENCSR000AEF.GM12878_Lymphoblastoid_Cells.UConn_Graveley  \\\n",
       "ENSG00000242268.2                                            0.805894         \n",
       "ENSG00000167578.12                                           2.345439         \n",
       "ENSG00000270112.2                                            0.033347         \n",
       "ENSG00000078237.4                                            2.783840         \n",
       "ENSG00000263642.1                                            0.004928         \n",
       "\n",
       "                    ENCSR244ISQ.H9_Derived_Neuronal_Progenitor_Cultured_Cells.CSHL_Gingeras  \\\n",
       "ENSG00000242268.2                                            0.047858                         \n",
       "ENSG00000167578.12                                           2.824117                         \n",
       "ENSG00000270112.2                                           -0.015703                         \n",
       "ENSG00000078237.4                                            2.881930                         \n",
       "ENSG00000263642.1                                            0.011574                         \n",
       "\n",
       "                    ENCSR446RKD.Fetal_Intestine_Small.UW_Glass  \\\n",
       "ENSG00000242268.2                                     0.147409   \n",
       "ENSG00000167578.12                                    2.697207   \n",
       "ENSG00000270112.2                                     0.305393   \n",
       "ENSG00000078237.4                                     2.124639   \n",
       "ENSG00000263642.1                                     0.000988   \n",
       "\n",
       "                    ENCSR396GIH.Sigmoid_Colon.Stanford_Snyder  \\\n",
       "ENSG00000242268.2                                    0.292986   \n",
       "ENSG00000167578.12                                   3.277173   \n",
       "ENSG00000270112.2                                    0.024166   \n",
       "ENSG00000078237.4                                    2.829874   \n",
       "ENSG00000263642.1                                    0.011045   \n",
       "\n",
       "                    ENCSR000CUA.Primary_hematopoietic_stem_cells.CSHL_Gingeras  \\\n",
       "ENSG00000242268.2                                            0.312230            \n",
       "ENSG00000167578.12                                           3.183208            \n",
       "ENSG00000270112.2                                            0.153861            \n",
       "ENSG00000078237.4                                            2.028751            \n",
       "ENSG00000263642.1                                            0.002950            \n",
       "\n",
       "                                                ...                                \\\n",
       "ENSG00000242268.2                               ...                                 \n",
       "ENSG00000167578.12                              ...                                 \n",
       "ENSG00000270112.2                               ...                                 \n",
       "ENSG00000078237.4                               ...                                 \n",
       "ENSG00000263642.1                               ...                                 \n",
       "\n",
       "                    ENCSR271DJJ.Pancreatic_Islets.UCSF_Costello  \\\n",
       "ENSG00000242268.2                                      0.653688   \n",
       "ENSG00000167578.12                                     2.879215   \n",
       "ENSG00000270112.2                                      0.959168   \n",
       "ENSG00000078237.4                                      2.116523   \n",
       "ENSG00000263642.1                                      0.001907   \n",
       "\n",
       "                    ENCSR000AED.GM12878_Lymphoblastoid_Cells.CSHL_Gingeras  \\\n",
       "ENSG00000242268.2                                            0.221102        \n",
       "ENSG00000167578.12                                           3.832572        \n",
       "ENSG00000270112.2                                           -0.027327        \n",
       "ENSG00000078237.4                                            2.660524        \n",
       "ENSG00000263642.1                                            0.001637        \n",
       "\n",
       "                    ENCSR433GXV.hESC_Derived_CD56._Mesoderm_Cultured_Cells.Harvard  \\\n",
       "ENSG00000242268.2                                            0.206536                \n",
       "ENSG00000167578.12                                           3.034219                \n",
       "ENSG00000270112.2                                            0.121938                \n",
       "ENSG00000078237.4                                            2.838042                \n",
       "ENSG00000263642.1                                            0.009485                \n",
       "\n",
       "                    ENCSR535VTR.HT1080_Fibrosarcoma_Cell_Line.CSHL_Gingeras  \\\n",
       "ENSG00000242268.2                                            0.444246         \n",
       "ENSG00000167578.12                                           2.787787         \n",
       "ENSG00000270112.2                                            0.131140         \n",
       "ENSG00000078237.4                                            3.059306         \n",
       "ENSG00000263642.1                                            0.003524         \n",
       "\n",
       "                    ENCSR000AEV.Bladder.CSHL_Gingeras  \\\n",
       "ENSG00000242268.2                            0.246548   \n",
       "ENSG00000167578.12                           2.751289   \n",
       "ENSG00000270112.2                            0.137807   \n",
       "ENSG00000078237.4                            2.241726   \n",
       "ENSG00000263642.1                            0.006027   \n",
       "\n",
       "                    ENCSR314LXG.Karpas.422_B_Cell_Non.Hodgkin_Lymphoma_Cell_Line.CSHL_Gingeras  \\\n",
       "ENSG00000242268.2                                            0.189249                            \n",
       "ENSG00000167578.12                                           3.375140                            \n",
       "ENSG00000270112.2                                           -0.031017                            \n",
       "ENSG00000078237.4                                            2.550853                            \n",
       "ENSG00000263642.1                                            0.005670                            \n",
       "\n",
       "                    ENCSR642GSA.Primary_T_CD8._naive_cells_from_peripheral_blood.UCSF_Costello  \\\n",
       "ENSG00000242268.2                                            0.418133                            \n",
       "ENSG00000167578.12                                           3.721178                            \n",
       "ENSG00000270112.2                                            0.114565                            \n",
       "ENSG00000078237.4                                            2.296903                            \n",
       "ENSG00000263642.1                                           -0.001775                            \n",
       "\n",
       "                    ENCSR880EGO.SJSA1_Osteosarcoma_Cell_Line.CSHL_Gingeras  \\\n",
       "ENSG00000242268.2                                            0.252317        \n",
       "ENSG00000167578.12                                           3.144349        \n",
       "ENSG00000270112.2                                            0.175163        \n",
       "ENSG00000078237.4                                            2.329019        \n",
       "ENSG00000263642.1                                            0.011901        \n",
       "\n",
       "                    ENCSR000AAT.Umbilical_Artery_Epithelial_Primary_Cells.CSHL_Gingeras  \\\n",
       "ENSG00000242268.2                                            0.326081                     \n",
       "ENSG00000167578.12                                           2.578081                     \n",
       "ENSG00000270112.2                                            0.168535                     \n",
       "ENSG00000078237.4                                            2.827429                     \n",
       "ENSG00000263642.1                                            0.005117                     \n",
       "\n",
       "                    ENCSR000EYQ.HeLa.S3_Cervical_Carcinoma_Cell_Line.Caltech_Wold  \n",
       "ENSG00000242268.2                                            0.368408              \n",
       "ENSG00000167578.12                                           1.950408              \n",
       "ENSG00000270112.2                                            0.027780              \n",
       "ENSG00000078237.4                                            1.951301              \n",
       "ENSG00000263642.1                                            0.000580              \n",
       "\n",
       "[5 rows x 410 columns]"
      ]
     },
     "execution_count": 7,
     "metadata": {},
     "output_type": "execute_result"
    }
   ],
   "source": [
    "#Use the 'head' command to examine the structure of your data matrix. \n",
    "df.head()"
   ]
  },
  {
   "cell_type": "code",
   "execution_count": 7,
   "metadata": {
    "collapsed": false
   },
   "outputs": [
    {
     "name": "stdout",
     "output_type": "stream",
     "text": [
      "55667\n",
      "410\n"
     ]
    }
   ],
   "source": [
    "#Use the shape command to calculate the dimensions of your data matrix \n",
    "#shape[0] gives the number of rows, shape [1] gives the number of columns. \n",
    "\n",
    "num_genes=df.shape[0] \n",
    "num_samples=df.shape[1] \n",
    "\n",
    "#use the print command to print the variables you generated above \n",
    "print(num_genes)\n",
    "print(num_samples)"
   ]
  },
  {
   "cell_type": "markdown",
   "metadata": {},
   "source": [
    "Thought questions:\n",
    "* How many genes were measured in this experiment?\n",
    "* How many samples were measured?"
   ]
  }
 ],
 "metadata": {
  "anaconda-cloud": {},
  "kernelspec": {
   "display_name": "Python [Root]",
   "language": "python",
   "name": "Python [Root]"
  },
  "language_info": {
   "codemirror_mode": {
    "name": "ipython",
    "version": 3
   },
   "file_extension": ".py",
   "mimetype": "text/x-python",
   "name": "python",
   "nbconvert_exporter": "python",
   "pygments_lexer": "ipython3",
   "version": "3.5.2"
  }
 },
 "nbformat": 4,
 "nbformat_minor": 2
}
