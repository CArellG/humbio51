{
 "cells": [
  {
   "cell_type": "markdown",
   "metadata": {},
   "source": [
    "# Big Data for Biologists: Decoding Genomic Function- Class 8\n",
    "\n",
    "## How do you visualize similarities and differences of gene expression profiles across cell types? Part II\n",
    "\n",
    "##  Learning Objectives\n",
    "***Students should be able to***\n",
    " <ol>\n",
    " <li> <a href=#MetaData>Prepare RNA-Seq samples and metadata for PCA analysis</a></li> \n",
    " <li> <a href=#PCA1>Describe what Principal Component analysis is and how it can be used to analyze and visualize variation in large datasets</a></li>\n",
    " <li> <a href=#PCA2>Perform prinicipal component analysis to identify clustering patterns in gene expression data </a></li>\n",
    " <li> <a href=#Scatter>Make a scatter plot of the output from principal component analysis</a></li> "
   ]
  },
  {
   "cell_type": "markdown",
   "metadata": {},
   "source": [
    "# Prepare RNA-Seq samples and metadata for PCA analysis (review)<a name='MetaData' />"
   ]
  },
  {
   "cell_type": "code",
   "execution_count": null,
   "metadata": {},
   "outputs": [],
   "source": [
    "%load_ext autoreload\n",
    "# load the pandas package and define an abbreviation (or alias) \n",
    "import pandas as pd   "
   ]
  },
  {
   "cell_type": "markdown",
   "metadata": {},
   "source": [
    "We will focus our analysis on 4 of the anatomical structures and check for differential gene expression among them.  \n"
   ]
  },
  {
   "cell_type": "code",
   "execution_count": null,
   "metadata": {},
   "outputs": [],
   "source": [
    "#Read in the metadata table. \n",
    "metadata = pd.read_table(\n",
    "     filepath_or_buffer='../datasets/RNAseq/rnaseq_metadata.txt', \n",
    "     header=0,\n",
    "    index_col=0)"
   ]
  },
  {
   "cell_type": "code",
   "execution_count": null,
   "metadata": {},
   "outputs": [],
   "source": [
    "# Read in the RNA-seq data matrix. \n",
    "rnaseq_data = pd.read_table(\n",
    "     filepath_or_buffer='../datasets/RNAseq/rnaseq_normalized.tsv', \n",
    "     header=0,\n",
    "     index_col=0)"
   ]
  },
  {
   "cell_type": "code",
   "execution_count": null,
   "metadata": {},
   "outputs": [],
   "source": [
    "print(\"Number rows:\"+str(rnaseq_data.shape[0]))#prints number of rows -- this is the sample\n",
    "print(\"Number columns:\"+str(rnaseq_data.shape[1]))#prints number of columns -- this is the gene axis"
   ]
  },
  {
   "cell_type": "code",
   "execution_count": null,
   "metadata": {},
   "outputs": [],
   "source": [
    "#Since our goal is to identify genes that are differentially expressed across organ systems, we \n",
    "# want to exclude genes that have expression = 0 in all 4 of the organ systems. \n",
    "rnaseq_data_subset=rnaseq_data[rnaseq_data.sum(axis=1)>0]\n"
   ]
  },
  {
   "cell_type": "code",
   "execution_count": null,
   "metadata": {},
   "outputs": [],
   "source": [
    "print(\"Number rows:\"+str(rnaseq_data_subset.shape[0]))#prints number of rows -- this is the sample\n",
    "print(\"Number columns:\"+str(rnaseq_data_subset.shape[1]))#prints number of columns -- this is the gene axis"
   ]
  },
  {
   "cell_type": "code",
   "execution_count": null,
   "metadata": {},
   "outputs": [],
   "source": [
    "#Transpose the data frame \n",
    "#Now, our features (genes) are along the column axis, and sample names are along the row axis. This will make for easier\n",
    "#downstream analysis. \n",
    "rnaseq_data_subset=rnaseq_data_subset.transpose()"
   ]
  },
  {
   "cell_type": "code",
   "execution_count": null,
   "metadata": {},
   "outputs": [],
   "source": [
    "print(\"Number rows:\"+str(rnaseq_data_subset.shape[0]))#prints number of rows -- this is the gene axis \n",
    "print(\"Number columns:\"+str(rnaseq_data_subset.shape[1]))#prints number of columns"
   ]
  },
  {
   "cell_type": "code",
   "execution_count": null,
   "metadata": {},
   "outputs": [],
   "source": [
    "#merge the rnaseq_subset dataframe with the metadata frame so we can more easily sub-select the organ systems \n",
    "#of interst.\n",
    "\n",
    "merged_df=pd.merge(rnaseq_data_subset, metadata, left_index=True,right_index=True)\n",
    "merged_df.head()"
   ]
  },
  {
   "cell_type": "code",
   "execution_count": null,
   "metadata": {},
   "outputs": [],
   "source": [
    "#Define the systems of interest\n",
    "systems_subset=[\"Blood\",\"Embryonic\",\"Immune\",\"Respiratory\"]"
   ]
  },
  {
   "cell_type": "code",
   "execution_count": null,
   "metadata": {},
   "outputs": [],
   "source": [
    "#Pick out the samples (rows) in the merged dataframe that contain the samples from the systems of interest \n",
    "samples_to_keep=merged_df['System'].isin(systems_subset)\n",
    "samples_to_keep.head()"
   ]
  },
  {
   "cell_type": "code",
   "execution_count": null,
   "metadata": {},
   "outputs": [],
   "source": [
    "#Select the rows in the data matrix that contain the samples we wish to analyze (i.e. the samples\n",
    "#from blood, embryonic, immune, and)\n",
    "merged_df_subset=merged_df[samples_to_keep]"
   ]
  },
  {
   "cell_type": "code",
   "execution_count": null,
   "metadata": {},
   "outputs": [],
   "source": [
    "merged_df_subset.head()"
   ]
  },
  {
   "cell_type": "code",
   "execution_count": null,
   "metadata": {
    "scrolled": false
   },
   "outputs": [],
   "source": [
    "#Check row & column numbers in merged_df_subset \n",
    "print(\"Number rows:\"+str(merged_df_subset.shape[0]))#prints number of rows -- this is the sample axis\n",
    "print(\"Number columns:\"+str(merged_df_subset.shape[1]))# prints the number of columns -- this is the gene axis "
   ]
  },
  {
   "cell_type": "code",
   "execution_count": null,
   "metadata": {},
   "outputs": [],
   "source": [
    "nonzero_rows=rnaseq_data.sum(axis=1)>0\n",
    "print(nonzero_rows)"
   ]
  },
  {
   "cell_type": "markdown",
   "metadata": {},
   "source": [
    "Note that `rnaseq_data.sum(axis=1)>0` returns a value of \"True\" or \"False\" at each row in the`rnaseq_data` matrix. This is referred to as binary indexing. \n",
    "\n",
    "Next, we identify the rows with a value of \"True\", and select them from `rnaseq_data`. \n",
    "This can be done with the command: "
   ]
  },
  {
   "cell_type": "code",
   "execution_count": null,
   "metadata": {},
   "outputs": [],
   "source": [
    "rnaseq_data_subset=rnaseq_data[nonzero_rows]"
   ]
  },
  {
   "cell_type": "markdown",
   "metadata": {},
   "source": [
    "We have extracted RNA-seq expression data for our four organ systems of interest. We have also removed all genes that are not expressed in any of the four organ systems."
   ]
  },
  {
   "cell_type": "markdown",
   "metadata": {},
   "source": [
    "## What is principal component analysis (PCA)? <a name='PCA1' />"
   ]
  },
  {
   "cell_type": "markdown",
   "metadata": {},
   "source": [
    "Principal component analysis (PCA) is a statistical method to understand and visualize variation in large datasets."
   ]
  },
  {
   "cell_type": "code",
   "execution_count": null,
   "metadata": {},
   "outputs": [],
   "source": [
    "from IPython.display import HTML\n",
    "HTML('<iframe src=\"https://docs.google.com/presentation/d/e/2PACX-1vRcZ3RiXYbwH_xrE-261ccJT71HKZ5oPJqmIATdHa2SwvDekvAR5Lr7zDwnNPN88FAEM2XT-F6-DHiS/embed?start=false&loop=false&delayms=60000\" frameborder=\"0\" width=\"960\" height=\"749\" allowfullscreen=\"true\" mozallowfullscreen=\"true\" webkitallowfullscreen=\"true\"></iframe>')"
   ]
  },
  {
   "cell_type": "markdown",
   "metadata": {},
   "source": [
    "We will use the [scikit learn](http://scikit-learn.org/stable/) python library to perform principal component analysis. We import scikit learn with the command \"import sklearn\". This library has a number of built-in tools for performing statistical analysis and machine learning. \n",
    "\n",
    "[This tutorial](http://scikit-learn.org/stable/modules/generated/sklearn.decomposition.PCA.html) provides a guide to performing PCA analysis with scikit learn."
   ]
  },
  {
   "cell_type": "code",
   "execution_count": null,
   "metadata": {},
   "outputs": [],
   "source": [
    "# Perform principal component analysis on the data to check for clustering patterns\n",
    "from sklearn.decomposition import PCA as sklearnPCA\n",
    "\n",
    "#We decompose the data into 10 principal components \n",
    "sklearn_pca = sklearnPCA(n_components=10)\n",
    "#We want to exclude the metadata columns from the PCA transformation -- they have served their purpose in helping \n",
    "#us filter the dataset to the organ systems of interest, and now we remove them. \n",
    "metadata_subset=merged_df_subset[['System','Organ','CellType']]\n",
    "merged_df_subset = merged_df_subset.drop(['System', 'Organ','CellType'], axis=1)\n",
    "\n",
    "pca_results = sklearn_pca.fit_transform(merged_df_subset)\n"
   ]
  },
  {
   "cell_type": "code",
   "execution_count": null,
   "metadata": {},
   "outputs": [],
   "source": [
    "merged_df_subset.shape\n",
    "metadata_subset.shape"
   ]
  },
  {
   "cell_type": "markdown",
   "metadata": {},
   "source": [
    "We visualize the percent of variance explained by each principal component in a graph called a \"scree plot\""
   ]
  },
  {
   "cell_type": "code",
   "execution_count": null,
   "metadata": {},
   "outputs": [],
   "source": [
    "#We use our plotly helper functions to generate a scree plot from the principal component analysis. \n",
    "#Import the plotting helper functions from the helpers directory\n",
    "from plotnine import * \n"
   ]
  },
  {
   "cell_type": "code",
   "execution_count": null,
   "metadata": {},
   "outputs": [],
   "source": [
    "print(sklearn_pca.explained_variance_ratio_)"
   ]
  },
  {
   "cell_type": "code",
   "execution_count": null,
   "metadata": {},
   "outputs": [],
   "source": [
    "#We use the plotnine plotting library to generate a scree plot of the variance explained by each component\n",
    "#Now, we create a barplot with just our 4 organ systems of interest \n",
    "y=sklearn_pca.explained_variance_ratio_\n",
    "x=range(1,len(y)+1)\n",
    "qplot(x=x,\n",
    "      y=y,\n",
    "      geom=\"bar\",\n",
    "      stat=\"identity\",\n",
    "      xlab=\"PC\",\n",
    "      ylab=\"Fraction of variance explained\")"
   ]
  },
  {
   "cell_type": "markdown",
   "metadata": {},
   "source": [
    "This indicates that the first principal component explain 82% of the variance in the data, while the second principal component explains 4% of the variance. "
   ]
  },
  {
   "cell_type": "code",
   "execution_count": null,
   "metadata": {},
   "outputs": [],
   "source": [
    "pca_results[0:10]"
   ]
  },
  {
   "cell_type": "code",
   "execution_count": null,
   "metadata": {},
   "outputs": [],
   "source": [
    "print(pca_results.shape)\n"
   ]
  },
  {
   "cell_type": "code",
   "execution_count": null,
   "metadata": {},
   "outputs": [],
   "source": [
    "print (type(pca_results))"
   ]
  },
  {
   "cell_type": "markdown",
   "metadata": {},
   "source": [
    "## Make a scatter plot of the output from principal component analysis <a name='Scatter' />"
   ]
  },
  {
   "cell_type": "code",
   "execution_count": null,
   "metadata": {},
   "outputs": [],
   "source": [
    "#We make a scatterplot of PC1 vs PC2 \n",
    "x=pca_results[:,0]\n",
    "y=pca_results[:,1]\n",
    "qplot(x=x,\n",
    "      y=y,\n",
    "      geom=\"point\",\n",
    "      xlab=\"PC1\",\n",
    "      ylab=\"PC2\")"
   ]
  },
  {
   "cell_type": "markdown",
   "metadata": {},
   "source": [
    "To investigate whether there is any clustering of samples by organ system, we can color-code by the 'System' column from the metadata table."
   ]
  },
  {
   "cell_type": "code",
   "execution_count": null,
   "metadata": {},
   "outputs": [],
   "source": [
    "qplot(x=x,\n",
    "      y=y,\n",
    "      geom=\"point\",\n",
    "      xlab=\"PC1\",\n",
    "      ylab=\"PC2\",\n",
    "      color=list(metadata_subset['System']))+scale_color_discrete(name=\"System\")"
   ]
  },
  {
   "cell_type": "code",
   "execution_count": null,
   "metadata": {},
   "outputs": [],
   "source": [
    "#Make a scatter plot of principle component 2 (PC2) vs principle component 3 (PC3)\n",
    "#Make sure to change your axes labels too!\n",
    "\n",
    "##ANSWER## "
   ]
  },
  {
   "cell_type": "code",
   "execution_count": null,
   "metadata": {},
   "outputs": [],
   "source": [
    "#Make a scatter plot of principle component 1 (PC1) vs principle component 3 (PC3)\n",
    "#Make sure to change your axes labeles too!\n",
    "\n",
    "##ANSWER## "
   ]
  }
 ],
 "metadata": {
  "anaconda-cloud": {},
  "kernelspec": {
   "display_name": "Python 3",
   "language": "python",
   "name": "python3"
  },
  "language_info": {
   "codemirror_mode": {
    "name": "ipython",
    "version": 3
   },
   "file_extension": ".py",
   "mimetype": "text/x-python",
   "name": "python",
   "nbconvert_exporter": "python",
   "pygments_lexer": "ipython3",
   "version": "3.5.6"
  }
 },
 "nbformat": 4,
 "nbformat_minor": 1
}
