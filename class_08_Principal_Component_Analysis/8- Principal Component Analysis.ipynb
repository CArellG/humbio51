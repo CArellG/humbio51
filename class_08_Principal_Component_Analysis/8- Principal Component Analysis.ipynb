{
 "cells": [
  {
   "cell_type": "markdown",
   "metadata": {},
   "source": [
    "# Big Data for Biologists: Decoding Genomic Function- Class 8\n",
    "\n",
    "## How do you visualize similarities and differences of gene expression profiles across cell types? Part II\n",
    "\n",
    "##  Learning Objectives\n",
    "***Students should be able to***\n",
    " <ol>\n",
    " <li> <a href=#MetaData>Load RNA-Seq metadata for the physiological system of a cell type into Python</a></li> \n",
    " <li> <a href=#BinaryIndex>Use binary indexing to select elements from a dataframe. </a></li>\n",
    " <li> <a href=#PCA1>Describe what Principal Component analysis is and how it can be used to analyze and visualize variation in large datasets</a></li>\n",
    " <li> <a href=#PCA2>Perform prinicipal component analysis to identify clustering patterns in gene expression data </a></li>\n",
    " <li> <a href=#Scatter>Make a scatter plot of the output from principal component analysis</a></li> "
   ]
  },
  {
   "cell_type": "markdown",
   "metadata": {},
   "source": [
    "# Load RNA-Seq metadata for the physiological system of a cell type into Python<a name='MetaData' />"
   ]
  },
  {
   "cell_type": "code",
   "execution_count": 37,
   "metadata": {},
   "outputs": [
    {
     "name": "stdout",
     "output_type": "stream",
     "text": [
      "The autoreload extension is already loaded. To reload it, use:\n",
      "  %reload_ext autoreload\n"
     ]
    }
   ],
   "source": [
    "%load_ext autoreload\n",
    "# load the pandas package and define an abbreviation (or alias) \n",
    "import pandas as pd   "
   ]
  },
  {
   "cell_type": "markdown",
   "metadata": {},
   "source": [
    "We will focus our analysis on 4 of the anatomical structures and check for differential gene expression among them.  \n"
   ]
  },
  {
   "cell_type": "code",
   "execution_count": 38,
   "metadata": {},
   "outputs": [],
   "source": [
    "#Read in the metadata table. \n",
    "metadata = pd.read_table(\n",
    "     filepath_or_buffer='../datasets/RNAseq/rnaseq_metadata.txt', \n",
    "     header=0,\n",
    "    index_col=0)"
   ]
  },
  {
   "cell_type": "code",
   "execution_count": 39,
   "metadata": {},
   "outputs": [],
   "source": [
    "# Read in the RNA-seq data matrix. \n",
    "rnaseq_data = pd.read_table(\n",
    "     filepath_or_buffer='../datasets/RNAseq/rnaseq_normalized.tsv', \n",
    "     header=0,\n",
    "     index_col=0)"
   ]
  },
  {
   "cell_type": "code",
   "execution_count": 40,
   "metadata": {},
   "outputs": [
    {
     "name": "stdout",
     "output_type": "stream",
     "text": [
      "Number rows:57820\n",
      "Number columns:410\n"
     ]
    }
   ],
   "source": [
    "print(\"Number rows:\"+str(rnaseq_data.shape[0]))#prints number of rows -- this is the sample\n",
    "print(\"Number columns:\"+str(rnaseq_data.shape[1]))#prints number of columns -- this is the gene axis"
   ]
  },
  {
   "cell_type": "code",
   "execution_count": 41,
   "metadata": {},
   "outputs": [],
   "source": [
    "#Since our goal is to identify genes that are differentially expressed across organ systems, we \n",
    "# want to exclude genes that have expression = 0 in all 4 of the organ systems. \n",
    "rnaseq_data_subset=rnaseq_data[rnaseq_data.sum(axis=1)>0]\n"
   ]
  },
  {
   "cell_type": "code",
   "execution_count": 42,
   "metadata": {},
   "outputs": [
    {
     "name": "stdout",
     "output_type": "stream",
     "text": [
      "Number rows:55667\n",
      "Number columns:410\n"
     ]
    }
   ],
   "source": [
    "print(\"Number rows:\"+str(rnaseq_data_subset.shape[0]))#prints number of rows -- this is the sample\n",
    "print(\"Number columns:\"+str(rnaseq_data_subset.shape[1]))#prints number of columns -- this is the gene axis"
   ]
  },
  {
   "cell_type": "code",
   "execution_count": 43,
   "metadata": {},
   "outputs": [],
   "source": [
    "#Transpose the data frame \n",
    "#Now, our features (genes) are along the column axis, and sample names are along the row axis. This will make for easier\n",
    "#downstream analysis. \n",
    "rnaseq_data_subset=rnaseq_data_subset.transpose()"
   ]
  },
  {
   "cell_type": "code",
   "execution_count": 44,
   "metadata": {},
   "outputs": [
    {
     "name": "stdout",
     "output_type": "stream",
     "text": [
      "Number rows:410\n",
      "Number columns:55667\n"
     ]
    }
   ],
   "source": [
    "print(\"Number rows:\"+str(rnaseq_data_subset.shape[0]))#prints number of rows -- this is the gene axis \n",
    "print(\"Number columns:\"+str(rnaseq_data_subset.shape[1]))#prints number of columns"
   ]
  },
  {
   "cell_type": "code",
   "execution_count": 45,
   "metadata": {},
   "outputs": [
    {
     "data": {
      "text/html": [
       "<div>\n",
       "<style scoped>\n",
       "    .dataframe tbody tr th:only-of-type {\n",
       "        vertical-align: middle;\n",
       "    }\n",
       "\n",
       "    .dataframe tbody tr th {\n",
       "        vertical-align: top;\n",
       "    }\n",
       "\n",
       "    .dataframe thead th {\n",
       "        text-align: right;\n",
       "    }\n",
       "</style>\n",
       "<table border=\"1\" class=\"dataframe\">\n",
       "  <thead>\n",
       "    <tr style=\"text-align: right;\">\n",
       "      <th></th>\n",
       "      <th>ENSG00000242268.2</th>\n",
       "      <th>ENSG00000167578.12</th>\n",
       "      <th>ENSG00000270112.2</th>\n",
       "      <th>ENSG00000078237.4</th>\n",
       "      <th>ENSG00000263642.1</th>\n",
       "      <th>ENSG00000225275.4</th>\n",
       "      <th>ENSG00000269416.1</th>\n",
       "      <th>ENSG00000268332.1</th>\n",
       "      <th>ENSG00000060642.6</th>\n",
       "      <th>ENSG00000231981.3</th>\n",
       "      <th>...</th>\n",
       "      <th>ENSG00000148943.7</th>\n",
       "      <th>ENSG00000273233.1</th>\n",
       "      <th>ENSG00000265520.1</th>\n",
       "      <th>ENSG00000231119.2</th>\n",
       "      <th>ENSG00000105063.14</th>\n",
       "      <th>ENSG00000123685.4</th>\n",
       "      <th>ENSG00000181518.2</th>\n",
       "      <th>System</th>\n",
       "      <th>Organ</th>\n",
       "      <th>CellType</th>\n",
       "    </tr>\n",
       "  </thead>\n",
       "  <tbody>\n",
       "    <tr>\n",
       "      <th>ENCSR051GPK.Ganglion_Eminence_derived_primary_cultured_neurospheres.UCSF_Costello</th>\n",
       "      <td>1.44</td>\n",
       "      <td>46.45</td>\n",
       "      <td>0.27</td>\n",
       "      <td>45.71</td>\n",
       "      <td>0.0</td>\n",
       "      <td>0.0</td>\n",
       "      <td>8.71</td>\n",
       "      <td>0.0</td>\n",
       "      <td>6.99</td>\n",
       "      <td>0.10</td>\n",
       "      <td>...</td>\n",
       "      <td>10.73</td>\n",
       "      <td>0.32</td>\n",
       "      <td>0.0</td>\n",
       "      <td>0.21</td>\n",
       "      <td>55.10</td>\n",
       "      <td>2.47</td>\n",
       "      <td>0.00</td>\n",
       "      <td>Nervous</td>\n",
       "      <td>Brain</td>\n",
       "      <td>Neurosphere</td>\n",
       "    </tr>\n",
       "    <tr>\n",
       "      <th>ENCSR906HEV.Fetal_Muscle_Trunk.UW_Glass</th>\n",
       "      <td>0.02</td>\n",
       "      <td>1.85</td>\n",
       "      <td>0.30</td>\n",
       "      <td>1.25</td>\n",
       "      <td>0.0</td>\n",
       "      <td>0.0</td>\n",
       "      <td>0.13</td>\n",
       "      <td>0.0</td>\n",
       "      <td>1.42</td>\n",
       "      <td>0.34</td>\n",
       "      <td>...</td>\n",
       "      <td>3.38</td>\n",
       "      <td>0.05</td>\n",
       "      <td>0.0</td>\n",
       "      <td>0.01</td>\n",
       "      <td>3.45</td>\n",
       "      <td>0.39</td>\n",
       "      <td>0.02</td>\n",
       "      <td>Musculoskeletal</td>\n",
       "      <td>Muscle</td>\n",
       "      <td>Muscle</td>\n",
       "    </tr>\n",
       "    <tr>\n",
       "      <th>ENCSR762CJN.H1_BMP4_Derived_Trophoblast_Cultured_Cells.UCSD_Thompson</th>\n",
       "      <td>0.12</td>\n",
       "      <td>19.95</td>\n",
       "      <td>0.00</td>\n",
       "      <td>28.88</td>\n",
       "      <td>0.0</td>\n",
       "      <td>0.0</td>\n",
       "      <td>0.94</td>\n",
       "      <td>0.0</td>\n",
       "      <td>4.48</td>\n",
       "      <td>0.04</td>\n",
       "      <td>...</td>\n",
       "      <td>11.65</td>\n",
       "      <td>0.14</td>\n",
       "      <td>0.0</td>\n",
       "      <td>0.03</td>\n",
       "      <td>35.39</td>\n",
       "      <td>0.99</td>\n",
       "      <td>0.00</td>\n",
       "      <td>Embryonic</td>\n",
       "      <td>Trophoblast</td>\n",
       "      <td>ES.derived</td>\n",
       "    </tr>\n",
       "    <tr>\n",
       "      <th>ENCSR321ROU.Fetal_Kidney_Pelvis.UW_Glass</th>\n",
       "      <td>1.41</td>\n",
       "      <td>9.46</td>\n",
       "      <td>0.00</td>\n",
       "      <td>7.91</td>\n",
       "      <td>0.0</td>\n",
       "      <td>0.0</td>\n",
       "      <td>5.42</td>\n",
       "      <td>0.0</td>\n",
       "      <td>12.92</td>\n",
       "      <td>0.00</td>\n",
       "      <td>...</td>\n",
       "      <td>20.00</td>\n",
       "      <td>0.00</td>\n",
       "      <td>0.0</td>\n",
       "      <td>0.27</td>\n",
       "      <td>34.78</td>\n",
       "      <td>0.63</td>\n",
       "      <td>0.00</td>\n",
       "      <td>Urinary</td>\n",
       "      <td>Kidney</td>\n",
       "      <td>Kidney</td>\n",
       "    </tr>\n",
       "    <tr>\n",
       "      <th>ENCSR109IQO.K562_Leukemia_Cells.UConn_Graveley</th>\n",
       "      <td>0.00</td>\n",
       "      <td>2.67</td>\n",
       "      <td>0.00</td>\n",
       "      <td>0.09</td>\n",
       "      <td>0.0</td>\n",
       "      <td>0.0</td>\n",
       "      <td>0.00</td>\n",
       "      <td>0.0</td>\n",
       "      <td>3.32</td>\n",
       "      <td>0.22</td>\n",
       "      <td>...</td>\n",
       "      <td>11.45</td>\n",
       "      <td>0.00</td>\n",
       "      <td>0.0</td>\n",
       "      <td>0.03</td>\n",
       "      <td>10.25</td>\n",
       "      <td>0.11</td>\n",
       "      <td>0.00</td>\n",
       "      <td>Blood</td>\n",
       "      <td>Blood</td>\n",
       "      <td>Leukemia</td>\n",
       "    </tr>\n",
       "  </tbody>\n",
       "</table>\n",
       "<p>5 rows × 55670 columns</p>\n",
       "</div>"
      ],
      "text/plain": [
       "                                                    ENSG00000242268.2  \\\n",
       "ENCSR051GPK.Ganglion_Eminence_derived_primary_c...               1.44   \n",
       "ENCSR906HEV.Fetal_Muscle_Trunk.UW_Glass                          0.02   \n",
       "ENCSR762CJN.H1_BMP4_Derived_Trophoblast_Culture...               0.12   \n",
       "ENCSR321ROU.Fetal_Kidney_Pelvis.UW_Glass                         1.41   \n",
       "ENCSR109IQO.K562_Leukemia_Cells.UConn_Graveley                   0.00   \n",
       "\n",
       "                                                    ENSG00000167578.12  \\\n",
       "ENCSR051GPK.Ganglion_Eminence_derived_primary_c...               46.45   \n",
       "ENCSR906HEV.Fetal_Muscle_Trunk.UW_Glass                           1.85   \n",
       "ENCSR762CJN.H1_BMP4_Derived_Trophoblast_Culture...               19.95   \n",
       "ENCSR321ROU.Fetal_Kidney_Pelvis.UW_Glass                          9.46   \n",
       "ENCSR109IQO.K562_Leukemia_Cells.UConn_Graveley                    2.67   \n",
       "\n",
       "                                                    ENSG00000270112.2  \\\n",
       "ENCSR051GPK.Ganglion_Eminence_derived_primary_c...               0.27   \n",
       "ENCSR906HEV.Fetal_Muscle_Trunk.UW_Glass                          0.30   \n",
       "ENCSR762CJN.H1_BMP4_Derived_Trophoblast_Culture...               0.00   \n",
       "ENCSR321ROU.Fetal_Kidney_Pelvis.UW_Glass                         0.00   \n",
       "ENCSR109IQO.K562_Leukemia_Cells.UConn_Graveley                   0.00   \n",
       "\n",
       "                                                    ENSG00000078237.4  \\\n",
       "ENCSR051GPK.Ganglion_Eminence_derived_primary_c...              45.71   \n",
       "ENCSR906HEV.Fetal_Muscle_Trunk.UW_Glass                          1.25   \n",
       "ENCSR762CJN.H1_BMP4_Derived_Trophoblast_Culture...              28.88   \n",
       "ENCSR321ROU.Fetal_Kidney_Pelvis.UW_Glass                         7.91   \n",
       "ENCSR109IQO.K562_Leukemia_Cells.UConn_Graveley                   0.09   \n",
       "\n",
       "                                                    ENSG00000263642.1  \\\n",
       "ENCSR051GPK.Ganglion_Eminence_derived_primary_c...                0.0   \n",
       "ENCSR906HEV.Fetal_Muscle_Trunk.UW_Glass                           0.0   \n",
       "ENCSR762CJN.H1_BMP4_Derived_Trophoblast_Culture...                0.0   \n",
       "ENCSR321ROU.Fetal_Kidney_Pelvis.UW_Glass                          0.0   \n",
       "ENCSR109IQO.K562_Leukemia_Cells.UConn_Graveley                    0.0   \n",
       "\n",
       "                                                    ENSG00000225275.4  \\\n",
       "ENCSR051GPK.Ganglion_Eminence_derived_primary_c...                0.0   \n",
       "ENCSR906HEV.Fetal_Muscle_Trunk.UW_Glass                           0.0   \n",
       "ENCSR762CJN.H1_BMP4_Derived_Trophoblast_Culture...                0.0   \n",
       "ENCSR321ROU.Fetal_Kidney_Pelvis.UW_Glass                          0.0   \n",
       "ENCSR109IQO.K562_Leukemia_Cells.UConn_Graveley                    0.0   \n",
       "\n",
       "                                                    ENSG00000269416.1  \\\n",
       "ENCSR051GPK.Ganglion_Eminence_derived_primary_c...               8.71   \n",
       "ENCSR906HEV.Fetal_Muscle_Trunk.UW_Glass                          0.13   \n",
       "ENCSR762CJN.H1_BMP4_Derived_Trophoblast_Culture...               0.94   \n",
       "ENCSR321ROU.Fetal_Kidney_Pelvis.UW_Glass                         5.42   \n",
       "ENCSR109IQO.K562_Leukemia_Cells.UConn_Graveley                   0.00   \n",
       "\n",
       "                                                    ENSG00000268332.1  \\\n",
       "ENCSR051GPK.Ganglion_Eminence_derived_primary_c...                0.0   \n",
       "ENCSR906HEV.Fetal_Muscle_Trunk.UW_Glass                           0.0   \n",
       "ENCSR762CJN.H1_BMP4_Derived_Trophoblast_Culture...                0.0   \n",
       "ENCSR321ROU.Fetal_Kidney_Pelvis.UW_Glass                          0.0   \n",
       "ENCSR109IQO.K562_Leukemia_Cells.UConn_Graveley                    0.0   \n",
       "\n",
       "                                                    ENSG00000060642.6  \\\n",
       "ENCSR051GPK.Ganglion_Eminence_derived_primary_c...               6.99   \n",
       "ENCSR906HEV.Fetal_Muscle_Trunk.UW_Glass                          1.42   \n",
       "ENCSR762CJN.H1_BMP4_Derived_Trophoblast_Culture...               4.48   \n",
       "ENCSR321ROU.Fetal_Kidney_Pelvis.UW_Glass                        12.92   \n",
       "ENCSR109IQO.K562_Leukemia_Cells.UConn_Graveley                   3.32   \n",
       "\n",
       "                                                    ENSG00000231981.3  \\\n",
       "ENCSR051GPK.Ganglion_Eminence_derived_primary_c...               0.10   \n",
       "ENCSR906HEV.Fetal_Muscle_Trunk.UW_Glass                          0.34   \n",
       "ENCSR762CJN.H1_BMP4_Derived_Trophoblast_Culture...               0.04   \n",
       "ENCSR321ROU.Fetal_Kidney_Pelvis.UW_Glass                         0.00   \n",
       "ENCSR109IQO.K562_Leukemia_Cells.UConn_Graveley                   0.22   \n",
       "\n",
       "                                                       ...       \\\n",
       "ENCSR051GPK.Ganglion_Eminence_derived_primary_c...     ...        \n",
       "ENCSR906HEV.Fetal_Muscle_Trunk.UW_Glass                ...        \n",
       "ENCSR762CJN.H1_BMP4_Derived_Trophoblast_Culture...     ...        \n",
       "ENCSR321ROU.Fetal_Kidney_Pelvis.UW_Glass               ...        \n",
       "ENCSR109IQO.K562_Leukemia_Cells.UConn_Graveley         ...        \n",
       "\n",
       "                                                    ENSG00000148943.7  \\\n",
       "ENCSR051GPK.Ganglion_Eminence_derived_primary_c...              10.73   \n",
       "ENCSR906HEV.Fetal_Muscle_Trunk.UW_Glass                          3.38   \n",
       "ENCSR762CJN.H1_BMP4_Derived_Trophoblast_Culture...              11.65   \n",
       "ENCSR321ROU.Fetal_Kidney_Pelvis.UW_Glass                        20.00   \n",
       "ENCSR109IQO.K562_Leukemia_Cells.UConn_Graveley                  11.45   \n",
       "\n",
       "                                                    ENSG00000273233.1  \\\n",
       "ENCSR051GPK.Ganglion_Eminence_derived_primary_c...               0.32   \n",
       "ENCSR906HEV.Fetal_Muscle_Trunk.UW_Glass                          0.05   \n",
       "ENCSR762CJN.H1_BMP4_Derived_Trophoblast_Culture...               0.14   \n",
       "ENCSR321ROU.Fetal_Kidney_Pelvis.UW_Glass                         0.00   \n",
       "ENCSR109IQO.K562_Leukemia_Cells.UConn_Graveley                   0.00   \n",
       "\n",
       "                                                    ENSG00000265520.1  \\\n",
       "ENCSR051GPK.Ganglion_Eminence_derived_primary_c...                0.0   \n",
       "ENCSR906HEV.Fetal_Muscle_Trunk.UW_Glass                           0.0   \n",
       "ENCSR762CJN.H1_BMP4_Derived_Trophoblast_Culture...                0.0   \n",
       "ENCSR321ROU.Fetal_Kidney_Pelvis.UW_Glass                          0.0   \n",
       "ENCSR109IQO.K562_Leukemia_Cells.UConn_Graveley                    0.0   \n",
       "\n",
       "                                                    ENSG00000231119.2  \\\n",
       "ENCSR051GPK.Ganglion_Eminence_derived_primary_c...               0.21   \n",
       "ENCSR906HEV.Fetal_Muscle_Trunk.UW_Glass                          0.01   \n",
       "ENCSR762CJN.H1_BMP4_Derived_Trophoblast_Culture...               0.03   \n",
       "ENCSR321ROU.Fetal_Kidney_Pelvis.UW_Glass                         0.27   \n",
       "ENCSR109IQO.K562_Leukemia_Cells.UConn_Graveley                   0.03   \n",
       "\n",
       "                                                    ENSG00000105063.14  \\\n",
       "ENCSR051GPK.Ganglion_Eminence_derived_primary_c...               55.10   \n",
       "ENCSR906HEV.Fetal_Muscle_Trunk.UW_Glass                           3.45   \n",
       "ENCSR762CJN.H1_BMP4_Derived_Trophoblast_Culture...               35.39   \n",
       "ENCSR321ROU.Fetal_Kidney_Pelvis.UW_Glass                         34.78   \n",
       "ENCSR109IQO.K562_Leukemia_Cells.UConn_Graveley                   10.25   \n",
       "\n",
       "                                                    ENSG00000123685.4  \\\n",
       "ENCSR051GPK.Ganglion_Eminence_derived_primary_c...               2.47   \n",
       "ENCSR906HEV.Fetal_Muscle_Trunk.UW_Glass                          0.39   \n",
       "ENCSR762CJN.H1_BMP4_Derived_Trophoblast_Culture...               0.99   \n",
       "ENCSR321ROU.Fetal_Kidney_Pelvis.UW_Glass                         0.63   \n",
       "ENCSR109IQO.K562_Leukemia_Cells.UConn_Graveley                   0.11   \n",
       "\n",
       "                                                    ENSG00000181518.2  \\\n",
       "ENCSR051GPK.Ganglion_Eminence_derived_primary_c...               0.00   \n",
       "ENCSR906HEV.Fetal_Muscle_Trunk.UW_Glass                          0.02   \n",
       "ENCSR762CJN.H1_BMP4_Derived_Trophoblast_Culture...               0.00   \n",
       "ENCSR321ROU.Fetal_Kidney_Pelvis.UW_Glass                         0.00   \n",
       "ENCSR109IQO.K562_Leukemia_Cells.UConn_Graveley                   0.00   \n",
       "\n",
       "                                                             System  \\\n",
       "ENCSR051GPK.Ganglion_Eminence_derived_primary_c...          Nervous   \n",
       "ENCSR906HEV.Fetal_Muscle_Trunk.UW_Glass             Musculoskeletal   \n",
       "ENCSR762CJN.H1_BMP4_Derived_Trophoblast_Culture...        Embryonic   \n",
       "ENCSR321ROU.Fetal_Kidney_Pelvis.UW_Glass                    Urinary   \n",
       "ENCSR109IQO.K562_Leukemia_Cells.UConn_Graveley                Blood   \n",
       "\n",
       "                                                          Organ     CellType  \n",
       "ENCSR051GPK.Ganglion_Eminence_derived_primary_c...        Brain  Neurosphere  \n",
       "ENCSR906HEV.Fetal_Muscle_Trunk.UW_Glass                  Muscle       Muscle  \n",
       "ENCSR762CJN.H1_BMP4_Derived_Trophoblast_Culture...  Trophoblast   ES.derived  \n",
       "ENCSR321ROU.Fetal_Kidney_Pelvis.UW_Glass                 Kidney       Kidney  \n",
       "ENCSR109IQO.K562_Leukemia_Cells.UConn_Graveley            Blood     Leukemia  \n",
       "\n",
       "[5 rows x 55670 columns]"
      ]
     },
     "execution_count": 45,
     "metadata": {},
     "output_type": "execute_result"
    }
   ],
   "source": [
    "#merge the rnaseq_subset dataframe with the metadata frame so we can more easily sub-select the organ systems \n",
    "#of interst.\n",
    "\n",
    "merged_df=pd.merge(rnaseq_data_subset, metadata, left_index=True,right_index=True)\n",
    "merged_df.head()"
   ]
  },
  {
   "cell_type": "code",
   "execution_count": 46,
   "metadata": {},
   "outputs": [],
   "source": [
    "#Define the systems of interest\n",
    "systems_subset=[\"Blood\",\"Embryonic\",\"Immune\",\"Respiratory\"]"
   ]
  },
  {
   "cell_type": "code",
   "execution_count": 47,
   "metadata": {},
   "outputs": [
    {
     "data": {
      "text/plain": [
       "ENCSR051GPK.Ganglion_Eminence_derived_primary_cultured_neurospheres.UCSF_Costello    False\n",
       "ENCSR906HEV.Fetal_Muscle_Trunk.UW_Glass                                              False\n",
       "ENCSR762CJN.H1_BMP4_Derived_Trophoblast_Cultured_Cells.UCSD_Thompson                  True\n",
       "ENCSR321ROU.Fetal_Kidney_Pelvis.UW_Glass                                             False\n",
       "ENCSR109IQO.K562_Leukemia_Cells.UConn_Graveley                                        True\n",
       "Name: System, dtype: bool"
      ]
     },
     "execution_count": 47,
     "metadata": {},
     "output_type": "execute_result"
    }
   ],
   "source": [
    "#Pick out the samples (rows) in the merged dataframe that contain the samples from the systems of interest \n",
    "samples_to_keep=merged_df['System'].isin(systems_subset)\n",
    "samples_to_keep.head()"
   ]
  },
  {
   "cell_type": "code",
   "execution_count": 48,
   "metadata": {},
   "outputs": [],
   "source": [
    "#Select the rows in the data matrix that contain the samples we wish to analyze (i.e. the samples\n",
    "#from blood, embryonic, immune, and)\n",
    "merged_df_subset=merged_df[samples_to_keep]"
   ]
  },
  {
   "cell_type": "code",
   "execution_count": 49,
   "metadata": {},
   "outputs": [
    {
     "data": {
      "text/html": [
       "<div>\n",
       "<style scoped>\n",
       "    .dataframe tbody tr th:only-of-type {\n",
       "        vertical-align: middle;\n",
       "    }\n",
       "\n",
       "    .dataframe tbody tr th {\n",
       "        vertical-align: top;\n",
       "    }\n",
       "\n",
       "    .dataframe thead th {\n",
       "        text-align: right;\n",
       "    }\n",
       "</style>\n",
       "<table border=\"1\" class=\"dataframe\">\n",
       "  <thead>\n",
       "    <tr style=\"text-align: right;\">\n",
       "      <th></th>\n",
       "      <th>ENSG00000242268.2</th>\n",
       "      <th>ENSG00000167578.12</th>\n",
       "      <th>ENSG00000270112.2</th>\n",
       "      <th>ENSG00000078237.4</th>\n",
       "      <th>ENSG00000263642.1</th>\n",
       "      <th>ENSG00000225275.4</th>\n",
       "      <th>ENSG00000269416.1</th>\n",
       "      <th>ENSG00000268332.1</th>\n",
       "      <th>ENSG00000060642.6</th>\n",
       "      <th>ENSG00000231981.3</th>\n",
       "      <th>...</th>\n",
       "      <th>ENSG00000148943.7</th>\n",
       "      <th>ENSG00000273233.1</th>\n",
       "      <th>ENSG00000265520.1</th>\n",
       "      <th>ENSG00000231119.2</th>\n",
       "      <th>ENSG00000105063.14</th>\n",
       "      <th>ENSG00000123685.4</th>\n",
       "      <th>ENSG00000181518.2</th>\n",
       "      <th>System</th>\n",
       "      <th>Organ</th>\n",
       "      <th>CellType</th>\n",
       "    </tr>\n",
       "  </thead>\n",
       "  <tbody>\n",
       "    <tr>\n",
       "      <th>ENCSR762CJN.H1_BMP4_Derived_Trophoblast_Cultured_Cells.UCSD_Thompson</th>\n",
       "      <td>0.12</td>\n",
       "      <td>19.95</td>\n",
       "      <td>0.0</td>\n",
       "      <td>28.88</td>\n",
       "      <td>0.0</td>\n",
       "      <td>0.0</td>\n",
       "      <td>0.94</td>\n",
       "      <td>0.0</td>\n",
       "      <td>4.48</td>\n",
       "      <td>0.04</td>\n",
       "      <td>...</td>\n",
       "      <td>11.65</td>\n",
       "      <td>0.14</td>\n",
       "      <td>0.0</td>\n",
       "      <td>0.03</td>\n",
       "      <td>35.39</td>\n",
       "      <td>0.99</td>\n",
       "      <td>0.0</td>\n",
       "      <td>Embryonic</td>\n",
       "      <td>Trophoblast</td>\n",
       "      <td>ES.derived</td>\n",
       "    </tr>\n",
       "    <tr>\n",
       "      <th>ENCSR109IQO.K562_Leukemia_Cells.UConn_Graveley</th>\n",
       "      <td>0.00</td>\n",
       "      <td>2.67</td>\n",
       "      <td>0.0</td>\n",
       "      <td>0.09</td>\n",
       "      <td>0.0</td>\n",
       "      <td>0.0</td>\n",
       "      <td>0.00</td>\n",
       "      <td>0.0</td>\n",
       "      <td>3.32</td>\n",
       "      <td>0.22</td>\n",
       "      <td>...</td>\n",
       "      <td>11.45</td>\n",
       "      <td>0.00</td>\n",
       "      <td>0.0</td>\n",
       "      <td>0.03</td>\n",
       "      <td>10.25</td>\n",
       "      <td>0.11</td>\n",
       "      <td>0.0</td>\n",
       "      <td>Blood</td>\n",
       "      <td>Blood</td>\n",
       "      <td>Leukemia</td>\n",
       "    </tr>\n",
       "    <tr>\n",
       "      <th>ENCSR000AEF.GM12878_Lymphoblastoid_Cells.UConn_Graveley</th>\n",
       "      <td>0.60</td>\n",
       "      <td>2.25</td>\n",
       "      <td>0.0</td>\n",
       "      <td>29.66</td>\n",
       "      <td>0.0</td>\n",
       "      <td>0.0</td>\n",
       "      <td>0.04</td>\n",
       "      <td>0.0</td>\n",
       "      <td>7.60</td>\n",
       "      <td>0.00</td>\n",
       "      <td>...</td>\n",
       "      <td>7.52</td>\n",
       "      <td>0.00</td>\n",
       "      <td>0.0</td>\n",
       "      <td>0.04</td>\n",
       "      <td>10.64</td>\n",
       "      <td>4.88</td>\n",
       "      <td>0.0</td>\n",
       "      <td>Blood</td>\n",
       "      <td>Blood</td>\n",
       "      <td>Lymphoblastoid</td>\n",
       "    </tr>\n",
       "    <tr>\n",
       "      <th>ENCSR000CUA.Primary_hematopoietic_stem_cells.CSHL_Gingeras</th>\n",
       "      <td>0.05</td>\n",
       "      <td>1.16</td>\n",
       "      <td>0.0</td>\n",
       "      <td>0.03</td>\n",
       "      <td>0.0</td>\n",
       "      <td>0.0</td>\n",
       "      <td>0.00</td>\n",
       "      <td>0.0</td>\n",
       "      <td>1.60</td>\n",
       "      <td>0.00</td>\n",
       "      <td>...</td>\n",
       "      <td>0.31</td>\n",
       "      <td>0.00</td>\n",
       "      <td>0.0</td>\n",
       "      <td>0.00</td>\n",
       "      <td>10.83</td>\n",
       "      <td>0.11</td>\n",
       "      <td>0.0</td>\n",
       "      <td>Blood</td>\n",
       "      <td>Blood</td>\n",
       "      <td>HSC</td>\n",
       "    </tr>\n",
       "    <tr>\n",
       "      <th>ENCSR000AAN.Pulmonary_Artery_Smooth_Muscle_Primary_Cells.CSHL_Gingeras</th>\n",
       "      <td>0.00</td>\n",
       "      <td>2.55</td>\n",
       "      <td>0.0</td>\n",
       "      <td>8.60</td>\n",
       "      <td>0.0</td>\n",
       "      <td>0.0</td>\n",
       "      <td>0.00</td>\n",
       "      <td>0.0</td>\n",
       "      <td>7.04</td>\n",
       "      <td>0.00</td>\n",
       "      <td>...</td>\n",
       "      <td>11.91</td>\n",
       "      <td>0.00</td>\n",
       "      <td>0.0</td>\n",
       "      <td>0.05</td>\n",
       "      <td>21.88</td>\n",
       "      <td>0.60</td>\n",
       "      <td>0.0</td>\n",
       "      <td>Respiratory</td>\n",
       "      <td>Lung</td>\n",
       "      <td>Smooth</td>\n",
       "    </tr>\n",
       "  </tbody>\n",
       "</table>\n",
       "<p>5 rows × 55670 columns</p>\n",
       "</div>"
      ],
      "text/plain": [
       "                                                    ENSG00000242268.2  \\\n",
       "ENCSR762CJN.H1_BMP4_Derived_Trophoblast_Culture...               0.12   \n",
       "ENCSR109IQO.K562_Leukemia_Cells.UConn_Graveley                   0.00   \n",
       "ENCSR000AEF.GM12878_Lymphoblastoid_Cells.UConn_...               0.60   \n",
       "ENCSR000CUA.Primary_hematopoietic_stem_cells.CS...               0.05   \n",
       "ENCSR000AAN.Pulmonary_Artery_Smooth_Muscle_Prim...               0.00   \n",
       "\n",
       "                                                    ENSG00000167578.12  \\\n",
       "ENCSR762CJN.H1_BMP4_Derived_Trophoblast_Culture...               19.95   \n",
       "ENCSR109IQO.K562_Leukemia_Cells.UConn_Graveley                    2.67   \n",
       "ENCSR000AEF.GM12878_Lymphoblastoid_Cells.UConn_...                2.25   \n",
       "ENCSR000CUA.Primary_hematopoietic_stem_cells.CS...                1.16   \n",
       "ENCSR000AAN.Pulmonary_Artery_Smooth_Muscle_Prim...                2.55   \n",
       "\n",
       "                                                    ENSG00000270112.2  \\\n",
       "ENCSR762CJN.H1_BMP4_Derived_Trophoblast_Culture...                0.0   \n",
       "ENCSR109IQO.K562_Leukemia_Cells.UConn_Graveley                    0.0   \n",
       "ENCSR000AEF.GM12878_Lymphoblastoid_Cells.UConn_...                0.0   \n",
       "ENCSR000CUA.Primary_hematopoietic_stem_cells.CS...                0.0   \n",
       "ENCSR000AAN.Pulmonary_Artery_Smooth_Muscle_Prim...                0.0   \n",
       "\n",
       "                                                    ENSG00000078237.4  \\\n",
       "ENCSR762CJN.H1_BMP4_Derived_Trophoblast_Culture...              28.88   \n",
       "ENCSR109IQO.K562_Leukemia_Cells.UConn_Graveley                   0.09   \n",
       "ENCSR000AEF.GM12878_Lymphoblastoid_Cells.UConn_...              29.66   \n",
       "ENCSR000CUA.Primary_hematopoietic_stem_cells.CS...               0.03   \n",
       "ENCSR000AAN.Pulmonary_Artery_Smooth_Muscle_Prim...               8.60   \n",
       "\n",
       "                                                    ENSG00000263642.1  \\\n",
       "ENCSR762CJN.H1_BMP4_Derived_Trophoblast_Culture...                0.0   \n",
       "ENCSR109IQO.K562_Leukemia_Cells.UConn_Graveley                    0.0   \n",
       "ENCSR000AEF.GM12878_Lymphoblastoid_Cells.UConn_...                0.0   \n",
       "ENCSR000CUA.Primary_hematopoietic_stem_cells.CS...                0.0   \n",
       "ENCSR000AAN.Pulmonary_Artery_Smooth_Muscle_Prim...                0.0   \n",
       "\n",
       "                                                    ENSG00000225275.4  \\\n",
       "ENCSR762CJN.H1_BMP4_Derived_Trophoblast_Culture...                0.0   \n",
       "ENCSR109IQO.K562_Leukemia_Cells.UConn_Graveley                    0.0   \n",
       "ENCSR000AEF.GM12878_Lymphoblastoid_Cells.UConn_...                0.0   \n",
       "ENCSR000CUA.Primary_hematopoietic_stem_cells.CS...                0.0   \n",
       "ENCSR000AAN.Pulmonary_Artery_Smooth_Muscle_Prim...                0.0   \n",
       "\n",
       "                                                    ENSG00000269416.1  \\\n",
       "ENCSR762CJN.H1_BMP4_Derived_Trophoblast_Culture...               0.94   \n",
       "ENCSR109IQO.K562_Leukemia_Cells.UConn_Graveley                   0.00   \n",
       "ENCSR000AEF.GM12878_Lymphoblastoid_Cells.UConn_...               0.04   \n",
       "ENCSR000CUA.Primary_hematopoietic_stem_cells.CS...               0.00   \n",
       "ENCSR000AAN.Pulmonary_Artery_Smooth_Muscle_Prim...               0.00   \n",
       "\n",
       "                                                    ENSG00000268332.1  \\\n",
       "ENCSR762CJN.H1_BMP4_Derived_Trophoblast_Culture...                0.0   \n",
       "ENCSR109IQO.K562_Leukemia_Cells.UConn_Graveley                    0.0   \n",
       "ENCSR000AEF.GM12878_Lymphoblastoid_Cells.UConn_...                0.0   \n",
       "ENCSR000CUA.Primary_hematopoietic_stem_cells.CS...                0.0   \n",
       "ENCSR000AAN.Pulmonary_Artery_Smooth_Muscle_Prim...                0.0   \n",
       "\n",
       "                                                    ENSG00000060642.6  \\\n",
       "ENCSR762CJN.H1_BMP4_Derived_Trophoblast_Culture...               4.48   \n",
       "ENCSR109IQO.K562_Leukemia_Cells.UConn_Graveley                   3.32   \n",
       "ENCSR000AEF.GM12878_Lymphoblastoid_Cells.UConn_...               7.60   \n",
       "ENCSR000CUA.Primary_hematopoietic_stem_cells.CS...               1.60   \n",
       "ENCSR000AAN.Pulmonary_Artery_Smooth_Muscle_Prim...               7.04   \n",
       "\n",
       "                                                    ENSG00000231981.3  \\\n",
       "ENCSR762CJN.H1_BMP4_Derived_Trophoblast_Culture...               0.04   \n",
       "ENCSR109IQO.K562_Leukemia_Cells.UConn_Graveley                   0.22   \n",
       "ENCSR000AEF.GM12878_Lymphoblastoid_Cells.UConn_...               0.00   \n",
       "ENCSR000CUA.Primary_hematopoietic_stem_cells.CS...               0.00   \n",
       "ENCSR000AAN.Pulmonary_Artery_Smooth_Muscle_Prim...               0.00   \n",
       "\n",
       "                                                         ...        \\\n",
       "ENCSR762CJN.H1_BMP4_Derived_Trophoblast_Culture...       ...         \n",
       "ENCSR109IQO.K562_Leukemia_Cells.UConn_Graveley           ...         \n",
       "ENCSR000AEF.GM12878_Lymphoblastoid_Cells.UConn_...       ...         \n",
       "ENCSR000CUA.Primary_hematopoietic_stem_cells.CS...       ...         \n",
       "ENCSR000AAN.Pulmonary_Artery_Smooth_Muscle_Prim...       ...         \n",
       "\n",
       "                                                    ENSG00000148943.7  \\\n",
       "ENCSR762CJN.H1_BMP4_Derived_Trophoblast_Culture...              11.65   \n",
       "ENCSR109IQO.K562_Leukemia_Cells.UConn_Graveley                  11.45   \n",
       "ENCSR000AEF.GM12878_Lymphoblastoid_Cells.UConn_...               7.52   \n",
       "ENCSR000CUA.Primary_hematopoietic_stem_cells.CS...               0.31   \n",
       "ENCSR000AAN.Pulmonary_Artery_Smooth_Muscle_Prim...              11.91   \n",
       "\n",
       "                                                    ENSG00000273233.1  \\\n",
       "ENCSR762CJN.H1_BMP4_Derived_Trophoblast_Culture...               0.14   \n",
       "ENCSR109IQO.K562_Leukemia_Cells.UConn_Graveley                   0.00   \n",
       "ENCSR000AEF.GM12878_Lymphoblastoid_Cells.UConn_...               0.00   \n",
       "ENCSR000CUA.Primary_hematopoietic_stem_cells.CS...               0.00   \n",
       "ENCSR000AAN.Pulmonary_Artery_Smooth_Muscle_Prim...               0.00   \n",
       "\n",
       "                                                    ENSG00000265520.1  \\\n",
       "ENCSR762CJN.H1_BMP4_Derived_Trophoblast_Culture...                0.0   \n",
       "ENCSR109IQO.K562_Leukemia_Cells.UConn_Graveley                    0.0   \n",
       "ENCSR000AEF.GM12878_Lymphoblastoid_Cells.UConn_...                0.0   \n",
       "ENCSR000CUA.Primary_hematopoietic_stem_cells.CS...                0.0   \n",
       "ENCSR000AAN.Pulmonary_Artery_Smooth_Muscle_Prim...                0.0   \n",
       "\n",
       "                                                    ENSG00000231119.2  \\\n",
       "ENCSR762CJN.H1_BMP4_Derived_Trophoblast_Culture...               0.03   \n",
       "ENCSR109IQO.K562_Leukemia_Cells.UConn_Graveley                   0.03   \n",
       "ENCSR000AEF.GM12878_Lymphoblastoid_Cells.UConn_...               0.04   \n",
       "ENCSR000CUA.Primary_hematopoietic_stem_cells.CS...               0.00   \n",
       "ENCSR000AAN.Pulmonary_Artery_Smooth_Muscle_Prim...               0.05   \n",
       "\n",
       "                                                    ENSG00000105063.14  \\\n",
       "ENCSR762CJN.H1_BMP4_Derived_Trophoblast_Culture...               35.39   \n",
       "ENCSR109IQO.K562_Leukemia_Cells.UConn_Graveley                   10.25   \n",
       "ENCSR000AEF.GM12878_Lymphoblastoid_Cells.UConn_...               10.64   \n",
       "ENCSR000CUA.Primary_hematopoietic_stem_cells.CS...               10.83   \n",
       "ENCSR000AAN.Pulmonary_Artery_Smooth_Muscle_Prim...               21.88   \n",
       "\n",
       "                                                    ENSG00000123685.4  \\\n",
       "ENCSR762CJN.H1_BMP4_Derived_Trophoblast_Culture...               0.99   \n",
       "ENCSR109IQO.K562_Leukemia_Cells.UConn_Graveley                   0.11   \n",
       "ENCSR000AEF.GM12878_Lymphoblastoid_Cells.UConn_...               4.88   \n",
       "ENCSR000CUA.Primary_hematopoietic_stem_cells.CS...               0.11   \n",
       "ENCSR000AAN.Pulmonary_Artery_Smooth_Muscle_Prim...               0.60   \n",
       "\n",
       "                                                    ENSG00000181518.2  \\\n",
       "ENCSR762CJN.H1_BMP4_Derived_Trophoblast_Culture...                0.0   \n",
       "ENCSR109IQO.K562_Leukemia_Cells.UConn_Graveley                    0.0   \n",
       "ENCSR000AEF.GM12878_Lymphoblastoid_Cells.UConn_...                0.0   \n",
       "ENCSR000CUA.Primary_hematopoietic_stem_cells.CS...                0.0   \n",
       "ENCSR000AAN.Pulmonary_Artery_Smooth_Muscle_Prim...                0.0   \n",
       "\n",
       "                                                         System        Organ  \\\n",
       "ENCSR762CJN.H1_BMP4_Derived_Trophoblast_Culture...    Embryonic  Trophoblast   \n",
       "ENCSR109IQO.K562_Leukemia_Cells.UConn_Graveley            Blood        Blood   \n",
       "ENCSR000AEF.GM12878_Lymphoblastoid_Cells.UConn_...        Blood        Blood   \n",
       "ENCSR000CUA.Primary_hematopoietic_stem_cells.CS...        Blood        Blood   \n",
       "ENCSR000AAN.Pulmonary_Artery_Smooth_Muscle_Prim...  Respiratory         Lung   \n",
       "\n",
       "                                                          CellType  \n",
       "ENCSR762CJN.H1_BMP4_Derived_Trophoblast_Culture...      ES.derived  \n",
       "ENCSR109IQO.K562_Leukemia_Cells.UConn_Graveley            Leukemia  \n",
       "ENCSR000AEF.GM12878_Lymphoblastoid_Cells.UConn_...  Lymphoblastoid  \n",
       "ENCSR000CUA.Primary_hematopoietic_stem_cells.CS...             HSC  \n",
       "ENCSR000AAN.Pulmonary_Artery_Smooth_Muscle_Prim...          Smooth  \n",
       "\n",
       "[5 rows x 55670 columns]"
      ]
     },
     "execution_count": 49,
     "metadata": {},
     "output_type": "execute_result"
    }
   ],
   "source": [
    "merged_df_subset.head()"
   ]
  },
  {
   "cell_type": "code",
   "execution_count": 50,
   "metadata": {
    "scrolled": false
   },
   "outputs": [
    {
     "name": "stdout",
     "output_type": "stream",
     "text": [
      "Number rows:94\n",
      "Number columns:55670\n"
     ]
    }
   ],
   "source": [
    "#Check row & column numbers in merged_df_subset \n",
    "print(\"Number rows:\"+str(merged_df_subset.shape[0]))#prints number of rows -- this is the sample axis\n",
    "print(\"Number columns:\"+str(merged_df_subset.shape[1]))# prints the number of columns -- this is the gene axis "
   ]
  },
  {
   "cell_type": "markdown",
   "metadata": {},
   "source": [
    "## Programming tip:Using binary indexing to select elements from a dataframe. <a name='BinaryIndex'/>\n",
    "In the code above we needed to select the rows in rnaseq_data_subset that sum to a value greater than 0. To do this, we executued the line of code: \n",
    "\n",
    "```\n",
    "rnaseq_data=rnaseq_data[rnaseq_data.sum(axis=1)>0]\n",
    "\n",
    "```\n",
    "Let's break down what this line of code is doing. \n",
    "First, we find all rows in `rnaseq_data` that have sum greater than 0. "
   ]
  },
  {
   "cell_type": "code",
   "execution_count": 51,
   "metadata": {},
   "outputs": [
    {
     "name": "stdout",
     "output_type": "stream",
     "text": [
      "Gene\n",
      "ENSG00000242268.2      True\n",
      "ENSG00000167578.12     True\n",
      "ENSG00000270112.2      True\n",
      "ENSG00000078237.4      True\n",
      "ENSG00000263642.1      True\n",
      "ENSG00000225275.4      True\n",
      "ENSG00000269416.1      True\n",
      "ENSG00000268332.1      True\n",
      "ENSG00000060642.6      True\n",
      "ENSG00000231981.3      True\n",
      "ENSG00000201788.1     False\n",
      "ENSG00000019995.6      True\n",
      "ENSG00000167700.4      True\n",
      "ENSG00000172137.14     True\n",
      "ENSG00000240423.1      True\n",
      "ENSG00000271616.1      True\n",
      "ENSG00000234881.1      True\n",
      "ENSG00000236040.1      True\n",
      "ENSG00000231105.1      True\n",
      "ENSG00000182141.5      True\n",
      "ENSG00000136895.14     True\n",
      "ENSG00000270677.1      True\n",
      "ENSG00000264981.1      True\n",
      "ENSG00000197557.6      True\n",
      "ENSG00000233540.1      True\n",
      "ENSG00000252650.1      True\n",
      "ENSG00000102174.7      True\n",
      "ENSG00000271647.1      True\n",
      "ENSG00000232001.1      True\n",
      "ENSG00000166391.10     True\n",
      "                      ...  \n",
      "ENSG00000264995.1      True\n",
      "ENSG00000264491.1      True\n",
      "ENSG00000146587.13     True\n",
      "ENSG00000173930.8      True\n",
      "ENSG00000135094.6      True\n",
      "ENSG00000273290.1      True\n",
      "ENSG00000199892.2      True\n",
      "ENSG00000221760.1      True\n",
      "ENSG00000107863.12     True\n",
      "ENSG00000253333.1      True\n",
      "ENSG00000212084.2      True\n",
      "ENSG00000213782.3      True\n",
      "ENSG00000146707.10     True\n",
      "ENSG00000255083.1      True\n",
      "ENSG00000223665.1      True\n",
      "ENSG00000109390.7      True\n",
      "ENSG00000203729.4      True\n",
      "ENSG00000221756.1     False\n",
      "ENSG00000272515.1      True\n",
      "ENSG00000232668.1      True\n",
      "ENSG00000089177.13     True\n",
      "ENSG00000124214.15     True\n",
      "ENSG00000267117.1      True\n",
      "ENSG00000148943.7      True\n",
      "ENSG00000273233.1      True\n",
      "ENSG00000265520.1      True\n",
      "ENSG00000231119.2      True\n",
      "ENSG00000105063.14     True\n",
      "ENSG00000123685.4      True\n",
      "ENSG00000181518.2      True\n",
      "Length: 57820, dtype: bool\n"
     ]
    }
   ],
   "source": [
    "nonzero_rows=rnaseq_data.sum(axis=1)>0\n",
    "print(nonzero_rows)"
   ]
  },
  {
   "cell_type": "markdown",
   "metadata": {},
   "source": [
    "Note that `rnaseq_data.sum(axis=1)>0` returns a value of \"True\" or \"False\" at each row in the`rnaseq_data` matrix. This is referred to as binary indexing. \n",
    "\n",
    "Next, we identify the rows with a value of \"True\", and select them from `rnaseq_data`. \n",
    "This can be done with the command: "
   ]
  },
  {
   "cell_type": "code",
   "execution_count": 52,
   "metadata": {},
   "outputs": [],
   "source": [
    "rnaseq_data_subset=rnaseq_data[nonzero_rows]"
   ]
  },
  {
   "cell_type": "markdown",
   "metadata": {},
   "source": [
    "We have extracted RNA-seq expression data for our four organ systems of interest. We have also removed all genes that are not expressed in any of the four organ systems."
   ]
  },
  {
   "cell_type": "markdown",
   "metadata": {},
   "source": [
    "## What is principal component analysis (PCA)? <a name='PCA1' />"
   ]
  },
  {
   "cell_type": "markdown",
   "metadata": {},
   "source": [
    "Principal component analysis (PCA) is a statistical method to understand and visualize variation in large datasets."
   ]
  },
  {
   "cell_type": "code",
   "execution_count": 53,
   "metadata": {},
   "outputs": [
    {
     "data": {
      "text/html": [
       "<iframe src=\"https://docs.google.com/presentation/d/e/2PACX-1vRcZ3RiXYbwH_xrE-261ccJT71HKZ5oPJqmIATdHa2SwvDekvAR5Lr7zDwnNPN88FAEM2XT-F6-DHiS/embed?start=false&loop=false&delayms=60000\" frameborder=\"0\" width=\"960\" height=\"749\" allowfullscreen=\"true\" mozallowfullscreen=\"true\" webkitallowfullscreen=\"true\"></iframe>"
      ],
      "text/plain": [
       "<IPython.core.display.HTML object>"
      ]
     },
     "execution_count": 53,
     "metadata": {},
     "output_type": "execute_result"
    }
   ],
   "source": [
    "from IPython.display import HTML\n",
    "HTML('<iframe src=\"https://docs.google.com/presentation/d/e/2PACX-1vRcZ3RiXYbwH_xrE-261ccJT71HKZ5oPJqmIATdHa2SwvDekvAR5Lr7zDwnNPN88FAEM2XT-F6-DHiS/embed?start=false&loop=false&delayms=60000\" frameborder=\"0\" width=\"960\" height=\"749\" allowfullscreen=\"true\" mozallowfullscreen=\"true\" webkitallowfullscreen=\"true\"></iframe>')"
   ]
  },
  {
   "cell_type": "markdown",
   "metadata": {},
   "source": [
    "We will use the [scikit learn](http://scikit-learn.org/stable/) python library to perform principal component analysis. We import scikit learn with the command \"import sklearn\". This library has a number of built-in tools for performing statistical analysis and machine learning. \n",
    "\n",
    "[This tutorial](http://scikit-learn.org/stable/modules/generated/sklearn.decomposition.PCA.html) provides a guide to performing PCA analysis with scikit learn."
   ]
  },
  {
   "cell_type": "code",
   "execution_count": 54,
   "metadata": {},
   "outputs": [],
   "source": [
    "# Perform principal component analysis on the data to check for clustering patterns\n",
    "from sklearn.decomposition import PCA as sklearnPCA\n",
    "\n",
    "#We decompose the data into 10 principal components \n",
    "sklearn_pca = sklearnPCA(n_components=10)\n",
    "#We want to exclude the metadata columns from the PCA transformation -- they have served their purpose in helping \n",
    "#us filter the dataset to the organ systems of interest, and now we remove them. \n",
    "metadata_subset=merged_df_subset[['System','Organ','CellType']]\n",
    "merged_df_subset = merged_df_subset.drop(['System', 'Organ','CellType'], axis=1)\n",
    "\n",
    "pca_results = sklearn_pca.fit_transform(merged_df_subset)\n"
   ]
  },
  {
   "cell_type": "code",
   "execution_count": 55,
   "metadata": {},
   "outputs": [
    {
     "data": {
      "text/plain": [
       "(94, 3)"
      ]
     },
     "execution_count": 55,
     "metadata": {},
     "output_type": "execute_result"
    }
   ],
   "source": [
    "merged_df_subset.shape\n",
    "metadata_subset.shape"
   ]
  },
  {
   "cell_type": "markdown",
   "metadata": {},
   "source": [
    "We visualize the percent of variance explained by each principal component in a graph called a \"scree plot\""
   ]
  },
  {
   "cell_type": "code",
   "execution_count": 56,
   "metadata": {},
   "outputs": [],
   "source": [
    "#We use our plotly helper functions to generate a scree plot from the principal component analysis. \n",
    "#Import the plotting helper functions from the helpers directory\n",
    "from plotnine import * \n"
   ]
  },
  {
   "cell_type": "code",
   "execution_count": 57,
   "metadata": {},
   "outputs": [
    {
     "name": "stdout",
     "output_type": "stream",
     "text": [
      "[0.82401268 0.04420105 0.03395945 0.02801859 0.01615428 0.01046067\n",
      " 0.00972885 0.00775569 0.00563336 0.00467087]\n"
     ]
    }
   ],
   "source": [
    "print(sklearn_pca.explained_variance_ratio_)"
   ]
  },
  {
   "cell_type": "code",
   "execution_count": 58,
   "metadata": {},
   "outputs": [
    {
     "data": {
      "image/png": "[encoded data removed]",
      "text/plain": [
       "<Figure size 640x480 with 1 Axes>"
      ]
     },
     "metadata": {},
     "output_type": "display_data"
    },
    {
     "data": {
      "text/plain": [
       "<ggplot: (-9223363293712733822)>"
      ]
     },
     "execution_count": 58,
     "metadata": {},
     "output_type": "execute_result"
    }
   ],
   "source": [
    "#We use the plotnine plotting library to generate a scree plot of the variance explained by each component\n",
    "#Now, we create a barplot with just our 4 organ systems of interest \n",
    "y=sklearn_pca.explained_variance_ratio_\n",
    "x=range(1,len(y)+1)\n",
    "qplot(x=x,\n",
    "      y=y,\n",
    "      geom=\"bar\",\n",
    "      stat=\"identity\",\n",
    "      xlab=\"PC\",\n",
    "      ylab=\"Fraction of variance explained\")"
   ]
  },
  {
   "cell_type": "markdown",
   "metadata": {},
   "source": [
    "This indicates that the first principal component explain 82% of the variance in the data, while the second principal component explains 4% of the variance. "
   ]
  },
  {
   "cell_type": "code",
   "execution_count": 59,
   "metadata": {},
   "outputs": [
    {
     "data": {
      "text/plain": [
       "array([[-1.14513514e+05, -1.43290407e+03, -1.13310145e+04,\n",
       "        -1.00470043e+04,  2.07097039e+04,  3.28536429e+03,\n",
       "         8.18228251e+02, -4.66904235e+03, -6.03483134e+03,\n",
       "        -1.31733412e+04],\n",
       "       [ 1.45919784e+05,  1.95823748e+04,  2.26942184e+04,\n",
       "         8.24913181e+04,  5.22118128e+03,  7.20693089e+03,\n",
       "         6.55417184e+03, -3.31737952e+04,  8.47357861e+02,\n",
       "         4.05741960e+03],\n",
       "       [-1.17733604e+05, -2.29150074e+03, -1.63583640e+04,\n",
       "        -1.51751745e+04,  3.17288199e+04,  6.47463274e+03,\n",
       "         4.26455581e+02, -1.34429403e+04, -2.02079654e+04,\n",
       "        -4.90166733e+04],\n",
       "       [ 4.20260715e+05, -2.30963624e+04,  2.89553142e+04,\n",
       "         9.94876762e+04,  2.17998453e+04, -3.16667004e+04,\n",
       "         3.77396228e+04, -6.85897231e+04, -2.37576534e+04,\n",
       "         9.36622152e+03],\n",
       "       [ 2.86374560e+05,  7.70937640e+04, -2.06754756e+04,\n",
       "        -3.76849768e+04, -6.03328370e+03,  1.31271108e+04,\n",
       "        -1.12413476e+04,  1.34844640e+04, -6.28894396e+03,\n",
       "         6.44682393e+03],\n",
       "       [-1.13687613e+05,  7.73994406e+03, -6.39605965e+03,\n",
       "        -2.56875124e+03, -8.68097038e+04,  3.93247068e+04,\n",
       "         1.40506180e+05,  2.82577116e+04,  3.95587275e+03,\n",
       "        -8.21738312e+03],\n",
       "       [-1.10534600e+05,  5.44126382e+03, -3.43264133e+03,\n",
       "        -2.12145693e+03, -2.40405361e+04, -2.83235767e+03,\n",
       "        -9.43596388e+03, -6.70151098e+03, -2.25079724e+03,\n",
       "         9.04973776e+03],\n",
       "       [-1.11956546e+05,  4.21593451e+03, -5.53656220e+03,\n",
       "        -4.39095482e+03, -1.92949846e+04,  1.06196141e+03,\n",
       "        -3.32594246e+02, -6.56908434e+03, -4.09370484e+03,\n",
       "         2.63893628e+03],\n",
       "       [-1.14430503e+05, -1.59002769e+03, -1.13979504e+04,\n",
       "        -9.77216002e+03,  1.95857902e+04,  2.38815549e+03,\n",
       "         1.82948484e+02, -3.59026795e+03, -5.38077250e+03,\n",
       "        -9.80328436e+03],\n",
       "       [-1.11908872e+05,  4.50030353e+03, -4.93008112e+03,\n",
       "        -3.67685126e+03, -1.81335669e+04, -1.45897068e+03,\n",
       "        -6.98375728e+03, -6.88147989e+03, -3.65607880e+03,\n",
       "         4.78884064e+03]])"
      ]
     },
     "execution_count": 59,
     "metadata": {},
     "output_type": "execute_result"
    }
   ],
   "source": [
    "pca_results[0:10]"
   ]
  },
  {
   "cell_type": "code",
   "execution_count": 60,
   "metadata": {},
   "outputs": [
    {
     "name": "stdout",
     "output_type": "stream",
     "text": [
      "(94, 10)\n"
     ]
    }
   ],
   "source": [
    "print(pca_results.shape)\n"
   ]
  },
  {
   "cell_type": "code",
   "execution_count": 61,
   "metadata": {},
   "outputs": [
    {
     "name": "stdout",
     "output_type": "stream",
     "text": [
      "<class 'numpy.ndarray'>\n"
     ]
    }
   ],
   "source": [
    "print (type(pca_results))"
   ]
  },
  {
   "cell_type": "markdown",
   "metadata": {},
   "source": [
    "## Make a scatter plot of the output from principal component analysis <a name='Scatter' />"
   ]
  },
  {
   "cell_type": "code",
   "execution_count": 62,
   "metadata": {},
   "outputs": [
    {
     "data": {
      "image/png": "[encoded data removed]",
      "text/plain": [
       "<Figure size 640x480 with 1 Axes>"
      ]
     },
     "metadata": {},
     "output_type": "display_data"
    },
    {
     "data": {
      "text/plain": [
       "<ggplot: (8743164355918)>"
      ]
     },
     "execution_count": 62,
     "metadata": {},
     "output_type": "execute_result"
    }
   ],
   "source": [
    "#We make a scatterplot of PC1 vs PC2 \n",
    "x=pca_results[:,0]\n",
    "y=pca_results[:,1]\n",
    "qplot(x=x,\n",
    "      y=y,\n",
    "      geom=\"point\",\n",
    "      xlab=\"PC1\",\n",
    "      ylab=\"PC2\")"
   ]
  },
  {
   "cell_type": "markdown",
   "metadata": {},
   "source": [
    "To investigate whether there is any clustering of samples by organ system, we can color-code by the 'System' column from the metadata table."
   ]
  },
  {
   "cell_type": "code",
   "execution_count": 70,
   "metadata": {},
   "outputs": [
    {
     "data": {
      "image/png": "[encoded data removed]",
      "text/plain": [
       "<Figure size 640x480 with 1 Axes>"
      ]
     },
     "metadata": {},
     "output_type": "display_data"
    },
    {
     "data": {
      "text/plain": [
       "<ggplot: (8743142191126)>"
      ]
     },
     "execution_count": 70,
     "metadata": {},
     "output_type": "execute_result"
    }
   ],
   "source": [
    "qplot(x=x,\n",
    "      y=y,\n",
    "      geom=\"point\",\n",
    "      xlab=\"PC1\",\n",
    "      ylab=\"PC2\",\n",
    "      color=list(metadata_subset['System']))+scale_color_discrete(name=\"System\")"
   ]
  },
  {
   "cell_type": "code",
   "execution_count": null,
   "metadata": {
    "collapsed": true
   },
   "outputs": [],
   "source": [
    "#Make a scatter plot of principle component 2 (PC2) vs principle component 3 (PC3)\n",
    "#Make sure to change your axes labels too!\n",
    "\n",
    "##ANSWER## "
   ]
  },
  {
   "cell_type": "code",
   "execution_count": null,
   "metadata": {
    "collapsed": true
   },
   "outputs": [],
   "source": [
    "#Make a scatter plot of principle component 1 (PC1) vs principle component 3 (PC3)\n",
    "#Make sure to change your axes labeles too!\n",
    "\n",
    "##ANSWER## "
   ]
  }
 ],
 "metadata": {
  "anaconda-cloud": {},
  "kernelspec": {
   "display_name": "Python 3",
   "language": "python",
   "name": "python3"
  },
  "language_info": {
   "codemirror_mode": {
    "name": "ipython",
    "version": 3
   },
   "file_extension": ".py",
   "mimetype": "text/x-python",
   "name": "python",
   "nbconvert_exporter": "python",
   "pygments_lexer": "ipython3",
   "version": "3.5.6"
  }
 },
 "nbformat": 4,
 "nbformat_minor": 1
}
