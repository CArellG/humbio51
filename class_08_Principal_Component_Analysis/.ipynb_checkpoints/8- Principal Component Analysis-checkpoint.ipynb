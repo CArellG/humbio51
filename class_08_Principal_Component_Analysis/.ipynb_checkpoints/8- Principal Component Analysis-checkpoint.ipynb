{
 "cells": [
  {
   "cell_type": "markdown",
   "metadata": {},
   "source": [
    "# Big Data for Biologists: Decoding Genomic Function- Class 8\n",
    "\n",
    "## How do you visualize similarities and differences of gene expression profiles across cell types? Part II\n",
    "\n",
    "##  Learning Objectives\n",
    "***Students should be able to***\n",
    " <ol>\n",
    " <li> <a href=#MetaData>Load RNA-Seq metadata for the physiological system of a cell type into Python</a></li> \n",
    " <li> <a href=#BinaryIndex>Use binary indexing to select elements from a dataframe. </a></li>\n",
    " <li> <a href=#PCA1>Describe what Principal Component analysis is and how it can be used to analyze and visualize variation in large datasets</a></li>\n",
    " <li> <a href=#PCA2>Perform prinicipal component analysis to identify clustering patterns in gene expression data </a></li>\n",
    " <li> <a href=#Scatter>Make a scatter plot of the output from principal component analysis</a></li> "
   ]
  },
  {
   "cell_type": "markdown",
   "metadata": {},
   "source": [
    "# Load RNA-Seq metadata for the physiological system of a cell type into Python<a name='MetaData' />"
   ]
  },
  {
   "cell_type": "code",
   "execution_count": null,
   "metadata": {
    "collapsed": true
   },
   "outputs": [],
   "source": [
    "%load_ext autoreload\n",
    "# load the pandas package and define an abbreviation (or alias) \n",
    "import pandas as pd   "
   ]
  },
  {
   "cell_type": "markdown",
   "metadata": {},
   "source": [
    "We will focus our analysis on 4 of the anatomical structures and check for differential gene expression among them.  \n"
   ]
  },
  {
   "cell_type": "code",
   "execution_count": null,
   "metadata": {
    "collapsed": true
   },
   "outputs": [],
   "source": [
    "#Read in the metadata table. \n",
    "metadata = pd.read_table(\n",
    "     filepath_or_buffer='../datasets/RNAseq/rnaseq_metadata.txt', \n",
    "     header=0)"
   ]
  },
  {
   "cell_type": "code",
   "execution_count": null,
   "metadata": {
    "collapsed": true
   },
   "outputs": [],
   "source": [
    "# Read in the RNA-seq data matrix. \n",
    "rnaseq_data = pd.read_table(\n",
    "     filepath_or_buffer='../datasets/RNAseq/rnaseq_normalized.tsv', \n",
    "     header=0)"
   ]
  },
  {
   "cell_type": "code",
   "execution_count": null,
   "metadata": {
    "collapsed": true
   },
   "outputs": [],
   "source": [
    "#Pick out the samples (or rows) in the metadata dataframe that contain the samples from the systems of interest \n",
    "systems_subset=[\"Blood\",\"Embryonic\",\"Immune\",\"Respiratory\"]"
   ]
  },
  {
   "cell_type": "code",
   "execution_count": null,
   "metadata": {
    "collapsed": true
   },
   "outputs": [],
   "source": [
    "#1. select the column labeled 'System' in the metadata array. \n",
    "system_column=metadata['System']"
   ]
  },
  {
   "cell_type": "code",
   "execution_count": null,
   "metadata": {
    "collapsed": true
   },
   "outputs": [],
   "source": [
    "#2. select the rows from system_column that have values in the systems_subset list. \n",
    "#(i.e. select out the rows for \"Blood\",\"Embryonic\",\"Immune\",\"Respiratory\")\n",
    "metadata_subset=system_column.isin(systems_subset)"
   ]
  },
  {
   "cell_type": "code",
   "execution_count": null,
   "metadata": {
    "collapsed": false
   },
   "outputs": [],
   "source": [
    "metadata_subset.head()"
   ]
  },
  {
   "cell_type": "code",
   "execution_count": null,
   "metadata": {
    "collapsed": true
   },
   "outputs": [],
   "source": [
    "#Pick out the columns in the RNA-Seq datafile that have samples that are in the systems of interest\n",
    "sample_column=metadata['Sample']\n",
    "sample_ids_to_keep=sample_column[metadata_subset]"
   ]
  },
  {
   "cell_type": "code",
   "execution_count": null,
   "metadata": {
    "collapsed": false
   },
   "outputs": [],
   "source": [
    "#Select the rows in the data matrix that contain the samples we wish to analyze (i.e. the samples\n",
    "#from blood, embryonic, immune, and)\n",
    "rnaseq_data_subset=rnaseq_data[sample_ids_to_keep]"
   ]
  },
  {
   "cell_type": "code",
   "execution_count": null,
   "metadata": {
    "collapsed": false
   },
   "outputs": [],
   "source": [
    "rnaseq_data_subset.head()"
   ]
  },
  {
   "cell_type": "code",
   "execution_count": null,
   "metadata": {
    "collapsed": true
   },
   "outputs": [],
   "source": [
    "#Use the boolean metadata_subset index to select rows from \"metadata\" \n",
    "metadata_subset=metadata[metadata_subset]\n",
    "metadata_subset=metadata_subset.reset_index()"
   ]
  },
  {
   "cell_type": "code",
   "execution_count": null,
   "metadata": {
    "collapsed": false,
    "scrolled": false
   },
   "outputs": [],
   "source": [
    "#Check row & column numbers in rnaseq_data_subset \n",
    "print(\"Number rows:\"+str(rnaseq_data_subset.shape[0]))#prints number of rows -- this is the gene axis \n",
    "print(\"Number columns:\"+str(rnaseq_data_subset.shape[1]))#prints number of columns"
   ]
  },
  {
   "cell_type": "code",
   "execution_count": null,
   "metadata": {
    "collapsed": false
   },
   "outputs": [],
   "source": [
    "#Since our goal is to identify genes that are differentially expressed across organ systems, we \n",
    "# want to exclude genes that have expression = 0 in all 4 of the organ systems. \n",
    "rnaseq_data_subset=rnaseq_data_subset[rnaseq_data_subset.sum(axis=1)>0]\n",
    "print(\"Number rows:\"+str(rnaseq_data_subset.shape[0]))#prints number of rows -- this is the gene axis \n",
    "print(\"Number columns:\"+str(rnaseq_data_subset.shape[1]))#prints number of columns"
   ]
  },
  {
   "cell_type": "markdown",
   "metadata": {},
   "source": [
    "## Programming tip:Using binary indexing to select elements from a dataframe. <a name='BinaryIndex'/>\n",
    "In the code above we needed to select the rows in rnaseq_data_subset that sum to a value greater than 0. To do this, we executued the line of code: \n",
    "\n",
    "```\n",
    "rnaseq_data_subset=rnaseq_data_subset[rnaseq_data_subset.sum(axis=1)>0]\n",
    "\n",
    "```\n",
    "Let's break down what this line of code is doing. \n",
    "First, we find all rows in `rnaseq_data_subset` that have sum greater than 0. "
   ]
  },
  {
   "cell_type": "code",
   "execution_count": null,
   "metadata": {
    "collapsed": false
   },
   "outputs": [],
   "source": [
    "nonzero_rows=rnaseq_data_subset.sum(axis=1)>0\n",
    "print(nonzero_rows)"
   ]
  },
  {
   "cell_type": "markdown",
   "metadata": {},
   "source": [
    "Note that `rnaseq_data_subset.sum(axis=1)>0` returns a value of \"True\" or \"False\" at each row in the`rnaseq_data_subset` matrix. This is referred to as binary indexing. \n",
    "\n",
    "Next, we identify the rows with a value of \"True\", and select them from `rnaseq_data_subset`. \n",
    "This can be done with the command: "
   ]
  },
  {
   "cell_type": "code",
   "execution_count": null,
   "metadata": {
    "collapsed": true
   },
   "outputs": [],
   "source": [
    "rnaseq_data_subset=rnaseq_data_subset[nonzero_rows]"
   ]
  },
  {
   "cell_type": "code",
   "execution_count": null,
   "metadata": {
    "collapsed": true
   },
   "outputs": [],
   "source": [
    "#Transpose the data frame \n",
    "#Now, our features (genes) are along the column axis, and sample names are along the row axis. \n",
    "rnaseq_data_subset=rnaseq_data_subset.transpose()"
   ]
  },
  {
   "cell_type": "code",
   "execution_count": null,
   "metadata": {
    "collapsed": false
   },
   "outputs": [],
   "source": [
    "print(\"Number rows:\"+str(rnaseq_data_subset.shape[0]))#prints number of rows -- this is the gene axis \n",
    "print(\"Number columns:\"+str(rnaseq_data_subset.shape[1]))#prints number of columns"
   ]
  },
  {
   "cell_type": "code",
   "execution_count": null,
   "metadata": {
    "collapsed": false
   },
   "outputs": [],
   "source": [
    "from IPython.display import HTML\n",
    "HTML('<iframe src=\"https://docs.google.com/presentation/d/e/2PACX-1vREgMZvDAV0PvotVikbR_YzQQP1V_1Sis82NSbeoa6WoaIZTEpqfx8l4bTDjcvGVYANFmU-8GL-ZZha/embed?start=false&loop=false&delayms=60000\" frameborder=\"0\" width=\"960\" height=\"569\" allowfullscreen=\"true\" mozallowfullscreen=\"true\" webkitallowfullscreen=\"true\"></iframe>')"
   ]
  },
  {
   "cell_type": "markdown",
   "metadata": {},
   "source": [
    "We have extracted RNA-seq expression data for our four organ systems of interest. We have also removed all genes that are not expressed in any of the four organ systems."
   ]
  },
  {
   "cell_type": "markdown",
   "metadata": {},
   "source": [
    "## What is principal component analysis (PCA)? <a name='PCA1' />"
   ]
  },
  {
   "cell_type": "markdown",
   "metadata": {},
   "source": [
    "Principal component analysis (PCA) is a statistical method to understand and visualize variation in large datasets."
   ]
  },
  {
   "cell_type": "code",
   "execution_count": null,
   "metadata": {
    "collapsed": false
   },
   "outputs": [],
   "source": [
    "from IPython.display import HTML\n",
    "HTML('<iframe src=\"https://docs.google.com/presentation/d/e/2PACX-1vRcZ3RiXYbwH_xrE-261ccJT71HKZ5oPJqmIATdHa2SwvDekvAR5Lr7zDwnNPN88FAEM2XT-F6-DHiS/embed?start=false&loop=false&delayms=60000\" frameborder=\"0\" width=\"960\" height=\"749\" allowfullscreen=\"true\" mozallowfullscreen=\"true\" webkitallowfullscreen=\"true\"></iframe>')"
   ]
  },
  {
   "cell_type": "markdown",
   "metadata": {},
   "source": [
    "We will use the [scikit learn](http://scikit-learn.org/stable/) python library to perform principal component analysis. We import scikit learn with the command \"import sklearn\". This library has a number of built-in tools for performing statistical analysis and machine learning. \n",
    "\n",
    "[This tutorial](http://scikit-learn.org/stable/modules/generated/sklearn.decomposition.PCA.html) provides a guide to performing PCA analysis with scikit learn."
   ]
  },
  {
   "cell_type": "code",
   "execution_count": null,
   "metadata": {
    "collapsed": false
   },
   "outputs": [],
   "source": [
    "# Perform principal component analysis on the data to check for clustering patterns\n",
    "from sklearn.decomposition import PCA as sklearnPCA\n",
    "\n",
    "#We decompose the data into 10 principal components \n",
    "sklearn_pca = sklearnPCA(n_components=10)\n",
    "pca_results = sklearn_pca.fit_transform(rnaseq_data_subset)\n"
   ]
  },
  {
   "cell_type": "markdown",
   "metadata": {},
   "source": [
    "We visualize the percent of variance explained by each principal component in a graph called a \"scree plot\""
   ]
  },
  {
   "cell_type": "code",
   "execution_count": null,
   "metadata": {
    "collapsed": false
   },
   "outputs": [],
   "source": [
    "#We use our plotly helper functions to generate a scree plot from the principal component analysis. \n",
    "#Import the plotting helper functions from the helpers directory\n",
    "import sys\n",
    "sys.path.append('../helpers')\n",
    "import plotly_helpers \n",
    "from plotly_helpers import * \n",
    "\n"
   ]
  },
  {
   "cell_type": "code",
   "execution_count": null,
   "metadata": {
    "collapsed": false
   },
   "outputs": [],
   "source": [
    "print(sklearn_pca.explained_variance_ratio_)"
   ]
  },
  {
   "cell_type": "code",
   "execution_count": null,
   "metadata": {
    "collapsed": false
   },
   "outputs": [],
   "source": [
    "scree_plot(sklearn_pca.explained_variance_ratio_)"
   ]
  },
  {
   "cell_type": "markdown",
   "metadata": {},
   "source": [
    "This indicates that the first principal component explain 33% of the variance in the data, while the second principal component explains 8% of the variance. "
   ]
  },
  {
   "cell_type": "code",
   "execution_count": null,
   "metadata": {
    "collapsed": false
   },
   "outputs": [],
   "source": [
    "pca_results[0:10]"
   ]
  },
  {
   "cell_type": "code",
   "execution_count": null,
   "metadata": {
    "collapsed": false
   },
   "outputs": [],
   "source": [
    "print(pca_results.shape)\n"
   ]
  },
  {
   "cell_type": "code",
   "execution_count": null,
   "metadata": {
    "collapsed": false
   },
   "outputs": [],
   "source": [
    "print (type(pca_results))"
   ]
  },
  {
   "cell_type": "markdown",
   "metadata": {},
   "source": [
    "## Make a scatter plot of the output from principal component analysis <a name='Scatter' />"
   ]
  },
  {
   "cell_type": "code",
   "execution_count": null,
   "metadata": {
    "collapsed": false
   },
   "outputs": [],
   "source": [
    "#Make a scatter plot of principle component 1 (PC1) vs principle component 2 (PC2)\n",
    "#convert the pca_results into a dataframe from the array output\n",
    "pca_rnaseq_data=pd.DataFrame(pca_results)\n",
    "    \n",
    "#Define a variable traces \n",
    "traces=[] \n",
    "\n",
    "#Define the x and y values for the scatter plot  \n",
    "#Values are defined in loops by system type so each system has different colored markers\n",
    "\n",
    "for name in systems_subset:   \n",
    "\n",
    "    #selects the rows in pca_rnaseq_data for the system and column 0 for the first principle component\n",
    "    #1. Find all rows in metadata_subset that contain the current organ system. \n",
    "    rows_for_system=metadata_subset[\"System\"]==name \n",
    "    \n",
    "    #2. Select these rows, and the first column from pca_rnaseq_data \n",
    "    x=pca_rnaseq_data.loc[rows_for_system,[0]]\n",
    "    \n",
    "    #3. Convert the first (and only) column of x to a list --\n",
    "    #this is a syntax change to make plotly work\n",
    "    #in this example plotly does not accept data frame inputs and needs lists.\n",
    "    x=x[0].tolist()         \n",
    "    \n",
    "    #Repeat for the y-axis, but select column 1 instead of column 0 from pca_rnaseq_data. \n",
    "    y=pca_rnaseq_data.loc[rows_for_system,[1]] \n",
    "    y=y[1].tolist() \n",
    "    \n",
    "    trace=Scatter(\n",
    "    x=x,\n",
    "    y=y,\n",
    "    #defines the mode of the plot, in this case markers (as opposed to lines or text)\n",
    "    mode=\"markers\",\n",
    "\n",
    "    #defines the name that appears in the legend, in this case the system name \n",
    "    name=name)\n",
    "    \n",
    "    #appends the trace for each system to traces\n",
    "    traces.append(trace)\n",
    "\n",
    "#Label the axes \n",
    "layout=Layout(xaxis=dict(title='PC1'),yaxis=dict(title='PC2'),showlegend=True)\n",
    "\n",
    "#Draw the figure \n",
    "fig=Figure(data=traces,layout=layout)\n",
    "plotly.offline.iplot(fig)    \n",
    "    \n",
    "    "
   ]
  },
  {
   "cell_type": "code",
   "execution_count": null,
   "metadata": {
    "collapsed": true
   },
   "outputs": [],
   "source": [
    "#Make a scatter plot of principle component 2 (PC2) vs principle component 3 (PC3)\n",
    "#Make sure to change your axes labels too!\n",
    "\n",
    "##ANSWER## "
   ]
  },
  {
   "cell_type": "code",
   "execution_count": null,
   "metadata": {
    "collapsed": true
   },
   "outputs": [],
   "source": [
    "#Make a scatter plot of principle component 1 (PC1) vs principle component 3 (PC3)\n",
    "#Make sure to change your axes labeles too!\n",
    "\n",
    "##ANSWER## "
   ]
  }
 ],
 "metadata": {
  "anaconda-cloud": {},
  "kernelspec": {
   "display_name": "Python [Root]",
   "language": "python",
   "name": "Python [Root]"
  },
  "language_info": {
   "codemirror_mode": {
    "name": "ipython",
    "version": 3
   },
   "file_extension": ".py",
   "mimetype": "text/x-python",
   "name": "python",
   "nbconvert_exporter": "python",
   "pygments_lexer": "ipython3",
   "version": "3.5.2"
  }
 },
 "nbformat": 4,
 "nbformat_minor": 1
}
