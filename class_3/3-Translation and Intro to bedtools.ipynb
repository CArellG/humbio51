{
 "cells": [
  {
   "cell_type": "markdown",
   "metadata": {},
   "source": [
    "# Big Data for Biologists: Decoding Genomic Function- Class 3\n",
    "\n",
    "## How can we predict the amino acid sequence for the protein product made from an mRNA sequence? \n",
    "## What are genomic coordinates and how are they used to designate the position of a gene in the human genome? \n",
    "\n",
    "##  Learning Objectives\n",
    "***Students should be able to***\n",
    " <ol>\n",
    " <li><a href=#Aminoacidsequence>Use the genetic code to determine the amino acid sequence of the protein product of an mRNA sequence </a></li>\n",
    " <li><a href=#PythonDictionary>Make a Python dictionary for the genetic code (also called a look up table)</a> </li>\n",
    " <li><a href=#DefineFunction>Define and call a function in a Python script </a></li>\n",
    " <li><a href=#PredictProteinSequence>Predict a protein sequence from a processed mRNA sequence using a Python dictionary</a></li>\n",
    " <li><a href=#SaveFunction>Save functions to a .py file so they can be used in other programs </a></li> \n",
    "  <li><a href=#ReferenceGenome>Explain what a reference genome is </a></li>\n",
    " <li><a href=#GenomicCoordinates>Explain how genomic coordinates are used to designate the position of a gene or feature in the human reference genome </a></li>\n",
    " <li><a href=#BEDformat>Use genomic coordinates to make a file in BED format </a></li>\n",
    " <li><a href=#makeFASTAfromBED>Use the genomic analysis package Bedtools to make an mRNA sequence with exons from a gene sequence</a></li>\n",
    "\n"
   ]
  },
  {
   "cell_type": "markdown",
   "metadata": {},
   "source": [
    "## How can we use the genetic code to determine the amino acid sequence of the protein product made from an mRNA sequence? <a name='Aminoacidsequence' />\n",
    "\n",
    "In the last class, we wrote code to transcribe DNA to pre-mRNA and concluded by finding the start and stop codons in an mRNA sequence. Today we are going to look at the next step in gene expression, the translation of an mRNA sequence into protein. \n",
    "\n",
    "<img src=\"../Images/1-CentralDogma.png\" style=\"width: 40%; height: 50%\" align=\"center\"//>\n",
    "\n",
    "As a reminder,during translation, every three base pairs in an mRNA sequence past the start codon codes for one amino acid. These three base pair sequences are called codons. \n",
    "\n",
    "The start codon, as we saw previously is ATG which codes for the amino acid Methionine. Below is the **genetic code** for the rest of the amino acids as well as the three stop codons. \n",
    "\n",
    "\n",
    "<img src=\"../Images/3-Genetic Code.png\" style=\"width: 40%; height: 40%\" align=\"center\"//>\n",
    "\n",
    " "
   ]
  },
  {
   "cell_type": "markdown",
   "metadata": {},
   "source": [
    "In the final step of our last class we found three possible combinations of start and stop codons: \n",
    "\n",
    "* start codon: 60 stop codon: 390 orf length: 332\n",
    "* start codon: 72 stop codon: 390 orf length: 320\n",
    "* start codon: 442 stop codon: 448 orf length: 8\n",
    "\n",
    "The actual combination of start and stop codons is often the combination that results in the longest sequence, but the true start and stop codon needs to be determined experimentally. \n",
    "\n",
    "In this case, the actual start codon for human insulin is at amino acid 60 in the mRNA sequence that we were using in the last class. \n",
    "\n",
    "Here is the mRNA sequence for the first eighteen residues from codon 60 of the insulin sequence from the previous class: \n",
    "\n",
    "AUGGCCCUGUGGAUGCGCCUC \n",
    "\n",
    "As an exercise, write out the amino acid sequence corresponding to the mRNA sequence. "
   ]
  },
  {
   "cell_type": "markdown",
   "metadata": {},
   "source": [
    "The amino acid sequence should be: \n",
    "\n",
    "MALTMRL\n",
    "\n",
    "We are now going to learn additional Python tools to help us create the code to write out the amino acid sequence of a protein product that is made from an mRNA sequence."
   ]
  },
  {
   "cell_type": "markdown",
   "metadata": {},
   "source": [
    "## Making a python dictionary for the genetic code<a name='PythonDictionary' />\n",
    "\n",
    "The python code we will be writing today has some similarities to scripts that we looked at in the last class. \n",
    "\n",
    "Last time, when we wrote out the complementary DNA sequence we made four substitutions and when we wrote out the mRNA sequence we made one substitution. \n",
    "\n",
    "To write out the amino acid sequence that will be produced from a mRNA sequence, we will need to make sixty four substitutions! \n",
    "\n",
    "To simplify the code, we will use a Python tool known as dictionaries or look-up tables. \n",
    "\n",
    "Python dictionaries let you define a number of substitutions in one line rather than as a series of lines. \n",
    "\n",
    "There are a few different ways to define a dictionary in Python. If you are interested, this  [link](https://docs.python.org/2/library/stdtypes.html#typesmapping) gives the complete syntax options. \n",
    "\n",
    "Before we define the dictionary for protein translation, we are going to practice writing a dictionary that we could use to write out a complementary DNA sequence.\n",
    "\n",
    "We'll use the same code as last time but we will use a python dictionary to do the substitutions instead of using if statements. \n",
    "\n",
    "The syntax for creating the dictionary is: \n",
    "\n",
    "DNAdict={'A':'T','T':'A','G':'C','C':'G'}\n",
    "\n",
    "DNAdict is the name of the dictionary.\n",
    "\n",
    "For the first entry, the 'A' before the : is the element in the original sequence. The 'T' after the : is the element in the new sequence. \n"
   ]
  },
  {
   "cell_type": "code",
   "execution_count": null,
   "metadata": {
    "collapsed": false
   },
   "outputs": [],
   "source": [
    "#Write out the complementary sequence for a DNA sequence using a look up table\n",
    "FASTAgenesequence=open('../class_1/data/Human-Insulin-NG_007114.1.txt','r')\n",
    "genesequence=(FASTAgenesequence.readlines()[1:])\n",
    "genesequence=''.join(genesequence)\n",
    "genesequence=genesequence.replace('\\n','') #this line removes the \\n values from the genesequence\n",
    "\n",
    "#This line defines the subsitutions that will be made when the dictionary is called \n",
    "DNAdict={'A':'T','T':'A','G':'C','C':'G'}\n",
    "\n",
    "complementarysequence='' #this defines the variable 'complementarysequence'\n",
    "for i in genesequence:\n",
    "    #this line adds the dictionary element for the base pair in position i in genesequence to complementary sequence. \n",
    "    complementarysequence=complementarysequence+str(DNAdict[i])\n",
    "print (complementarysequence[::-1])"
   ]
  },
  {
   "cell_type": "markdown",
   "metadata": {},
   "source": [
    "Using the space below, start writing a python dictionary for the genetic code starting with the four entries for the upper left hand corner of the table in the figure above. "
   ]
  },
  {
   "cell_type": "code",
   "execution_count": null,
   "metadata": {
    "collapsed": true
   },
   "outputs": [],
   "source": [
    "\n",
    "##ANSWER -- REMOVE BEFORE GIVING TO STUDENTS ## \n",
    "geneticcode3let={'UUU':'Phe','UUC':'Phe','UUA':'Leu','UUG':'Leu',\n",
    "      }"
   ]
  },
  {
   "cell_type": "markdown",
   "metadata": {},
   "source": [
    "We will be using a complete dictionary for the genetic code below when we write out the protein sequence for an mRNA sequence, but first we will be covering one other tool for writing more complex scripts, creating functions. "
   ]
  },
  {
   "cell_type": "markdown",
   "metadata": {},
   "source": [
    "## Defining and calling functions in Python scripts <a name='DefineFunction' />\n",
    "\n",
    "As you start to write more complex python scripts, a very helpful tool for any set of commands that accomplish a particular task and are used repeatedly either within a script or between scripts is to define a **function** for the series of commands. \n",
    "\n",
    "Once the function is defined the series of commands can be run with one line of code rather than multiple lines. \n",
    "\n",
    "An example of a task that we could put into a function is converting between DNA and RNA sequences (Ts to Us). \n",
    "\n",
    "We wrote the code for the conversion of DNA to RNA sequences in the last class. In this class we are going to write that as a function.   \n",
    "\n",
    "Functions are defined using the **def** command followed by the name of the function and then any necessary inputs separated by commas. \n",
    "\n",
    "In the example below: \n",
    "\n",
    "    def write_mRNA_from_DNA(filename_FASTAgenesequence):\n",
    " \n",
    "defines a function called \"write_mRNA_from_DNA\". \n",
    "\n",
    "and \n",
    "\n",
    "    RNAsequence=write_mRNA_from_DNA('../class_1/data/Human-Insulin NM_000207.2.txt')\n",
    "\n",
    "calls the function \"write mRNA_from_DNA\". \n",
    "\n",
    "Within the function, the input sequence '../class_1/data/Human-Insulin NM_000207.2.txt' is assigned the name 'filename_FASTAgenesequence'.  \n",
    "\n",
    "At the end, the \"return\" command defines the output of the function that is saved for the rest of the program. "
   ]
  },
  {
   "cell_type": "code",
   "execution_count": null,
   "metadata": {
    "collapsed": false,
    "scrolled": true
   },
   "outputs": [],
   "source": [
    "#define a function to write mRNA from DNA sequence in FASTA format\n",
    "\n",
    "def write_mRNA_from_DNA(filename_FASTAgenesequence):\n",
    "    FASTAgenesequence=open(filename_FASTAgenesequence,'r')\n",
    "    genesequence=(FASTAgenesequence.readlines()[1:])\n",
    "    genesequence=''.join(genesequence)\n",
    "    genesequence=genesequence.replace('\\n','')\n",
    "    RNAsequence='' #this defines the variable 'complementarysequence'\n",
    "    for i in genesequence:\n",
    "        if i=='T':\n",
    "            RNAsequence=RNAsequence+'U'\n",
    "        else:\n",
    "            RNAsequence=RNAsequence+ i\n",
    "    return(RNAsequence)\n",
    "\n",
    "RNAsequence=write_mRNA_from_DNA('../class_1/data/Human-Insulin NM_000207.2.txt')\n",
    "print(RNAsequence)"
   ]
  },
  {
   "cell_type": "markdown",
   "metadata": {},
   "source": [
    "## Predict a protein sequence from a processed RNA sequence using a Python dictionary<a name='PredictProteinSequence' />\n",
    "\n",
    "We are now ready to write our script to predict a protein sequence from a processed mRNA sequence. \n",
    "\n",
    "In the code, we will call a function and use a dictionary. \n",
    "\n",
    "The code has three main sections. \n",
    "1. Convert processed mRNA sequence with Ts to Us using the write mRNA_from_DNA function\n",
    "2. Define a complete python dictionary for the three letter genetic code\n",
    "3. Iterate over the RNAsequence from the start to the stop codon and convert each codon to the corresponding amino acid defined in the dictionary. \n",
    "\n",
    "We will use basepair 60 as the start codon and 390 as the stop codon since that is the start and stop codon in the actual insulin sequence.  \n",
    "\n",
    "Complete the code below to write out the protein sequence for an mRNA sequence. \n",
    " "
   ]
  },
  {
   "cell_type": "code",
   "execution_count": null,
   "metadata": {
    "collapsed": false
   },
   "outputs": [],
   "source": [
    "#Write out the protein sequence for a mRNA sequence\n",
    "\n",
    "#calls the function defined above called write_mRNA_from_DNA\n",
    "RNAsequence=\n",
    "\n",
    "#defines the python dictionary for the three letter genetic code \n",
    "geneticcode3let={'UUU':'Phe','UUC':'Phe','UUA':'Leu','UUG':'Leu',\n",
    "     'CUU':'Leu','CUC':'Leu','CUA':'Leu','CUG':'Leu',\n",
    "     'AUU':'Ile','AUC':'Ile','AUA':'Ile','AUG':'Met',\n",
    "     'GUU':'Val','GUC':'Val','GUA':'Val','GUG':'Val',\n",
    "     'UCU':'Ser','UCC':'Ser','UCA':'Ser','UCG':'Ser',\n",
    "     'CCU':'Pro','CCC':'Pro','CCA':'Pro','CCG':'Pro',\n",
    "     'ACU':'Thr','ACC':'Thr','ACA':'Thr','ACG':'Thr',\n",
    "     'GCU':'Ala','GCC':'Ala','GCA':'Ala','GCG':'Ala',\n",
    "     'UAU':'Tyr','UAC':'Tyr','UAA':'Stop','UAG':'Stop',\n",
    "     'CAU':'His','CAC':'His','CAA':'Gln','CAG':'Gln',\n",
    "     'AAU':'Asn','AAC':'Asn','AAA':'Lys','AAG':'Lys',\n",
    "     'GAU':'Asp','GAC':'Asp','GAA':'Glu','GAG':'Glu',\n",
    "     'UGU':'Cys','UGC':'Cys','UGA':'Stop','UGG':'Trp',\n",
    "     'CGU':'Arg','CGC':'Arg','CGA':'Arg','CGG':'Arg',\n",
    "     'AGU':'Ser','AGC':'Ser','AGA':'Arg','AGG':'Arg',\n",
    "     'GGU':'Gly','GGC':'Gly','GGA':'Gly','GGG':'Gly'}\n",
    "\n",
    "#translates the RNAsequence into protein \n",
    "\n",
    "proteinseq=''\n",
    "\n",
    "for i in range(59,390,3): \n",
    "    proteinseq=proteinseq+str(geneticcode3let[])\n",
    "print ( )\n",
    "\n",
    "\n",
    "\n",
    "##ANSWER -- REMOVE BEFORE GIVING TO STUDENTS ## \n",
    "\n",
    "#Write out the protein sequence for a mRNA sequence\n",
    "\n",
    "#calls the function defined above called write_mRNA_from_DNA\n",
    "RNAsequence=write_mRNA_from_DNA('../class_1/data/Human-Insulin NM_000207.2.txt') \n",
    "\n",
    "#defines the python dictionary for the three letter genetic code \n",
    "geneticcode3let={'UUU':'Phe','UUC':'Phe','UUA':'Leu','UUG':'Leu',\n",
    "     'CUU':'Leu','CUC':'Leu','CUA':'Leu','CUG':'Leu',\n",
    "     'AUU':'Ile','AUC':'Ile','AUA':'Ile','AUG':'Met',\n",
    "     'GUU':'Val','GUC':'Val','GUA':'Val','GUG':'Val',\n",
    "     'UCU':'Ser','UCC':'Ser','UCA':'Ser','UCG':'Ser',\n",
    "     'CCU':'Pro','CCC':'Pro','CCA':'Pro','CCG':'Pro',\n",
    "     'ACU':'Thr','ACC':'Thr','ACA':'Thr','ACG':'Thr',\n",
    "     'GCU':'Ala','GCC':'Ala','GCA':'Ala','GCG':'Ala',\n",
    "     'UAU':'Tyr','UAC':'Tyr','UAA':'Stop','UAG':'Stop',\n",
    "     'CAU':'His','CAC':'His','CAA':'Gln','CAG':'Gln',\n",
    "     'AAU':'Asn','AAC':'Asn','AAA':'Lys','AAG':'Lys',\n",
    "     'GAU':'Asp','GAC':'Asp','GAA':'Glu','GAG':'Glu',\n",
    "     'UGU':'Cys','UGC':'Cys','UGA':'Stop','UGG':'Trp',\n",
    "     'CGU':'Arg','CGC':'Arg','CGA':'Arg','CGG':'Arg',\n",
    "     'AGU':'Ser','AGC':'Ser','AGA':'Arg','AGG':'Arg',\n",
    "     'GGU':'Gly','GGC':'Gly','GGA':'Gly','GGG':'Gly'}\n",
    "\n",
    "#translates the RNAsequence into protein \n",
    "\n",
    "#In the range command: \n",
    "#The first number is the start codon using numbering starting at zero.\n",
    "#The second number is the stop codon using numbering starting at zero, so that the stop codon is included. \n",
    "#The third number is the number of basepairs that are skipped every iteration since codons come in threes. \n",
    "\n",
    "proteinseq=''\n",
    "\n",
    "for i in range(59,390,3): \n",
    "    proteinseq=proteinseq+str(geneticcode3let[RNAsequence[i:i+3]])\n",
    "print (proteinseq)"
   ]
  },
  {
   "cell_type": "markdown",
   "metadata": {},
   "source": [
    "In the code above we have started a script to write out the same protein sequence using one letter amino acid symbols. Add in the missing lines to write out the protein sequence using the one letter amino acid symbols. "
   ]
  },
  {
   "cell_type": "code",
   "execution_count": null,
   "metadata": {
    "collapsed": false
   },
   "outputs": [],
   "source": [
    "#calls the function defined above called write_mRNA_from_DNA\n",
    "RNAsequence=write_mRNA_from_DNA('../class_1/data/Human-Insulin NM_000207.2.txt') \n",
    "\n",
    "#defines the python dictionary for the one letter genetic code \n",
    "geneticcode1let={'UUU':'F','UUC':'F','UUA':'L','UUG':'L',\n",
    "     'CUU':'L','CUC':'L','CUA':'L','CUG':'L',\n",
    "     'AUU':'I','AUC':'I','AUA':'I','AUG':'M',\n",
    "     'GUU':'V','GUC':'V','GUA':'V','GUG':'V',\n",
    "     'UCU':'S','UCC':'S','UCA':'S','UCG':'S',\n",
    "     'CCU':'P','CCC':'P','CCA':'P','CCG':'P',\n",
    "     'ACU':'T','ACC':'T','ACA':'T','ACG':'T',\n",
    "     'GCU':'A','GCC':'A','GCA':'A','GCG':'A',\n",
    "     'UAU':'Y','UAC':'Y','UAA':'*','UAG':'*',\n",
    "     'CAU':'H','CAC':'H','CAA':'Q','CAG':'Q',\n",
    "     'AAU':'N','AAC':'N','AAA':'K','AAG':'K',\n",
    "     'GAU':'D','GAC':'D','GAA':'E','GAG':'E',\n",
    "     'UGU':'C','UGC':'C','UGA':'*','UGG':'W',\n",
    "     'CGU':'R','CGC':'R','CGA':'R','CGG':'R',\n",
    "     'AGU':'S','AGC':'S','AGA':'R','AGG':'R',\n",
    "     'GGU':'G','GGC':'G','GGA':'G','GGG':'G'}\n",
    "\n",
    " \n",
    "\n",
    "##ANSWER -- REMOVE BEFORE GIVING TO STUDENTS ## \n",
    "\n",
    "geneticcode1let={'UUU':'F','UUC':'F','UUA':'L','UUG':'L',\n",
    "     'CUU':'L','CUC':'L','CUA':'L','CUG':'L',\n",
    "     'AUU':'I','AUC':'I','AUA':'I','AUG':'M',\n",
    "     'GUU':'V','GUC':'V','GUA':'V','GUG':'V',\n",
    "     'UCU':'S','UCC':'S','UCA':'S','UCG':'S',\n",
    "     'CCU':'P','CCC':'P','CCA':'P','CCG':'P',\n",
    "     'ACU':'T','ACC':'T','ACA':'T','ACG':'T',\n",
    "     'GCU':'A','GCC':'A','GCA':'A','GCG':'A',\n",
    "     'UAU':'Y','UAC':'Y','UAA':'*','UAG':'*',\n",
    "     'CAU':'H','CAC':'H','CAA':'Q','CAG':'Q',\n",
    "     'AAU':'N','AAC':'N','AAA':'K','AAG':'K',\n",
    "     'GAU':'D','GAC':'D','GAA':'E','GAG':'E',\n",
    "     'UGU':'C','UGC':'C','UGA':'*','UGG':'W',\n",
    "     'CGU':'R','CGC':'R','CGA':'R','CGG':'R',\n",
    "     'AGU':'S','AGC':'S','AGA':'R','AGG':'R',\n",
    "     'GGU':'G','GGC':'G','GGA':'G','GGG':'G'}\n",
    "\n",
    "proteinseq=''\n",
    "for i in range(59,359,3):\n",
    "    proteinseq=proteinseq+str(geneticcode1let[RNAsequence[i:i+3]])\n",
    "print (proteinseq)"
   ]
  },
  {
   "cell_type": "markdown",
   "metadata": {},
   "source": [
    "## Save functions to a .py file that can be imported into other programs<a name='SaveFunction' />\n",
    "\n",
    "Once you have written a function or set of functions, it is helpful to be able to save the funcion(s) in a format that you can use it in other scripts. \n",
    "\n",
    "In Python, a file with a set of functions is called a **module**. Module files are saved with the extension .py and they can be called from other Python scripts using the import command. \n",
    " \n",
    "In the course of this class, you will learn about the vast resources of .py files that are publicly available and that you can use to view or analyze sequences or data without having to write algorithms from scratch. \n",
    "\n",
    "Below, we are going to write two functions: write_mRNA_fromDNA and write_protein_from_mRNA to a .py file called central_dogma_helpers.py.  \n",
    "\n",
    "The first line defines the name of the .py file and provides the instructions to write the contents of the box to a file. \n",
    "\n",
    "We already copied the first function, write_mRNA_from_DNA, for you into the box. \n",
    "\n",
    "Fill in the code for the second function, write_protein_from_mRNA. You will need the code that you wrote above as well as your knowledge about how to format a function. "
   ]
  },
  {
   "cell_type": "code",
   "execution_count": null,
   "metadata": {
    "collapsed": false
   },
   "outputs": [],
   "source": [
    "#Writes the code from this box in the notebook into a file. \n",
    "%%writefile ../helpers/central_dogma_helpers.py\n",
    "\n",
    "def write_mRNA_from_DNA(filename_FASTAgenesequence):\n",
    "    FASTAgenesequence=open(filename_FASTAgenesequence,'r')\n",
    "    genesequence=(FASTAgenesequence.readlines()[1:])\n",
    "    genesequence=''.join(genesequence)\n",
    "    genesequence=genesequence.replace('\\n','')\n",
    "    RNAsequence='' #this defines the variable 'complementarysequence'\n",
    "    for i in genesequence:\n",
    "        if i=='T':\n",
    "            RNAsequence=RNAsequence+'U'\n",
    "        else:\n",
    "            RNAsequence=RNAsequence+ i\n",
    "    return(RNAsequence)\n",
    "\n",
    "\n",
    "##ANSWER -- REMOVE BEFORE GIVING TO STUDENTS ## \n",
    "\n",
    "def write_mRNA_from_DNA(filename_FASTAgenesequence):\n",
    "    FASTAgenesequence=open(filename_FASTAgenesequence,'r')\n",
    "    genesequence=(FASTAgenesequence.readlines()[1:])\n",
    "    genesequence=''.join(genesequence)\n",
    "    genesequence=genesequence.replace('\\n','')\n",
    "    RNAsequence='' #this defines the variable 'complementarysequence'\n",
    "    for i in genesequence:\n",
    "        if i=='T':\n",
    "            RNAsequence=RNAsequence+'U'\n",
    "        else:\n",
    "            RNAsequence=RNAsequence+ i\n",
    "    return(RNAsequence)\n",
    "\n",
    "\n",
    "\n",
    "def write_protein_from_mRNA(RNAsequence):\n",
    "\n",
    "#defines the python dictionary for the three letter genetic code \n",
    "    geneticcode3let={'UUU':'Phe','UUC':'Phe','UUA':'Leu','UUG':'Leu',\n",
    "         'CUU':'Leu','CUC':'Leu','CUA':'Leu','CUG':'Leu',\n",
    "         'AUU':'Ile','AUC':'Ile','AUA':'Ile','AUG':'Met',\n",
    "         'GUU':'Val','GUC':'Val','GUA':'Val','GUG':'Val',\n",
    "         'UCU':'Ser','UCC':'Ser','UCA':'Ser','UCG':'Ser',\n",
    "         'CCU':'Pro','CCC':'Pro','CCA':'Pro','CCG':'Pro',\n",
    "         'ACU':'Thr','ACC':'Thr','ACA':'Thr','ACG':'Thr',\n",
    "         'GCU':'Ala','GCC':'Ala','GCA':'Ala','GCG':'Ala',\n",
    "         'UAU':'Tyr','UAC':'Tyr','UAA':'Stop','UAG':'Stop',\n",
    "         'CAU':'His','CAC':'His','CAA':'Gln','CAG':'Gln',\n",
    "         'AAU':'Asn','AAC':'Asn','AAA':'Lys','AAG':'Lys',\n",
    "         'GAU':'Asp','GAC':'Asp','GAA':'Glu','GAG':'Glu',\n",
    "         'UGU':'Cys','UGC':'Cys','UGA':'Stop','UGG':'Trp',\n",
    "         'CGU':'Arg','CGC':'Arg','CGA':'Arg','CGG':'Arg',\n",
    "         'AGU':'Ser','AGC':'Ser','AGA':'Arg','AGG':'Arg',\n",
    "         'GGU':'Gly','GGC':'Gly','GGA':'Gly','GGG':'Gly'}\n",
    "\n",
    "#translates the RNAsequence into protein \n",
    "\n",
    "#In the range command: \n",
    "#The first number is the start codon using numbering starting at zero.\n",
    "#The second number is the stop codon using numbering starting at zero, so that the stop codon is included. \n",
    "#The third number is the number of basepairs that are skipped every iteration since codons come in threes. \n",
    "\n",
    "    proteinseq=''\n",
    "\n",
    "    for i in range(59,390,3): \n",
    "        proteinseq=proteinseq+str(geneticcode3let[RNAsequence[i:i+3]])\n",
    "    return (proteinseq)"
   ]
  },
  {
   "cell_type": "markdown",
   "metadata": {},
   "source": [
    "You should now be able to see a ../helpers/central_dogma_helpers.py file. Take a look at the file and make sure you see what you would expect. "
   ]
  },
  {
   "cell_type": "markdown",
   "metadata": {},
   "source": [
    "## What is a reference genome? <a name='ReferenceGenome' />\n",
    " \n",
    "Now that you have learned some tools for how to work with single DNA, RNA and protein sequences, we are going to start to learn about genomics data. \n",
    "\n",
    "We will be working with data from the Human Genome Project as well as larger scale sequencing projects such as the 1000 Genomes Project.  \n",
    "\n",
    "The Human Genome Project produced what is called a human **reference genome**, a publicly available, mostly complete sequence of the human genome that the scientific community agreed to use as a basis for comparison for new sequencing information. \n",
    "\n",
    "The sequence is \"mostly complete\" because some regions are difficult to sequence. The human genome still has some gaps.  \n",
    "\n",
    "The initial reference genome was made from the sequences of a small number of individuals. Now, with more individuals having been sequenced, the reference genome captures more, but still not all of human genetic diversity. \n",
    "\n",
    "Researchers are still updating the reference genome. It is maintained by a consortium. You can find out more details [here](https://www.ncbi.nlm.nih.gov/grc/human).  \n",
    "\n",
    "As an introduction to working with data from the Human Genome, we are going to look at how to find the sequence for human insulin that we have been looking at in the human reference genome.\n"
   ]
  },
  {
   "cell_type": "markdown",
   "metadata": {},
   "source": [
    "## What are genomic coordinates and how are they used to designate the position of a gene in the human genome?<a name='GenomicCoordinates' />\n",
    "\n",
    "The position of genes in the human reference genome are specified by their **genomic coordinates**. \n",
    "\n",
    "The genomic coordinates for a gene include the start position, stop position as well as the chromosome number. \n",
    "\n",
    "Whenever you are using genomic coordinates its important to also keep track of the version of the reference genome because these numbers change as the reference genome sequence is updated. \n",
    "\n",
    "Human Genomes typically have 23 pairs of chromosomes. Reference genomes are typically haploid, meaning that they   have sequencing information for 23 chromosomes, but not for separate pairs. \n",
    "\n",
    "<img src=\"../Images/3-Human Chromosomes.jpg\" style=\"width: 40%; height: 50%\" align=\"center\"//>\n"
   ]
  },
  {
   "cell_type": "markdown",
   "metadata": {
    "collapsed": true
   },
   "source": [
    "## Use genomic coordinates to make a file in BED format<a name='BEDformat' />\n",
    "\n",
    "\n",
    "The format for specifying genomic coordinates depends on the particular programs that you plan to use. There are several formats including BED, VCF, GFF/GTF. \n",
    "\n",
    "For this class, we will primarily be using a suite of programs called BED tools, so we will be using the BED format for genomic coordinates. \n",
    "\n",
    "BED files are text files that contain genomic coordinate information, and are typically given the .bed extension. The format of a BED file is specified here: https://genome.ucsc.edu/FAQ/FAQformat.html#format1. Only the first three columns are mandatory for bed files, and they contain the following information:\n",
    "\n",
    "Columns in a BED file:\n",
    "- Column 1: chromosome (this is designated as a number for chromosomes 1 to 22 and chrX or chrY for the sex chromosomes) \n",
    "- Column 2: start position (the beginning of the first base is indicated by the start position 0; the beginning of the 5th base is indicated by the start position \"4\")\n",
    "- Column 3: end position (the end of the first base is indicated by the end position \"1\"; the end of the 5th base is indicated by the end position \"5\")\n",
    "\n",
    "People are often confused by the fact that the same \"base\" is referred to by a different number depending on whether you are referring to the start or the end. A simple way to understand this is to realize that the positions are not referring to the numbering of the bases themselves, but to the boundary between bases, as illustrated in the figure below:\n",
    "\n",
    "<img src=\"./array_slice_indexing.png\">\n",
    "\n",
    "As a reminder from our previous class, this convention is also consistent with how slicing in python works, as illustrated below:"
   ]
  },
  {
   "cell_type": "code",
   "execution_count": null,
   "metadata": {
    "collapsed": false
   },
   "outputs": [],
   "source": [
    "dna_string = \"ACCTG\"\n",
    "print(dna_string[0:4])\n",
    "print(dna_string[1:5])\n",
    "print(dna_string[0:5])"
   ]
  },
  {
   "cell_type": "markdown",
   "metadata": {},
   "source": [
    "We can use Python to make a file in bed format. \n",
    "\n",
    "For this example, we are going to make a .bed file that allows us to print the exon regions in the human insulin gene from a fasta file of the human insulin gene. \n",
    "\n",
    "Originally, the exon boundaries would be determined experimentally, but we can obtain them from genomics resources such as this [link](https://www.ncbi.nlm.nih.gov/nuccore/161086962?report=genbank&from=4986&to=6416) from NCBI.\n",
    "\n",
    "The exon boundaries for the human insulin gene that we looked at in classes one and two are: \n",
    "1-42\n",
    "222-425\n",
    "1213-1431\n",
    " "
   ]
  },
  {
   "cell_type": "code",
   "execution_count": 32,
   "metadata": {
    "collapsed": false
   },
   "outputs": [],
   "source": [
    "#Note that the exon locations have been adjusted to the zero-based numbering system described above\n",
    "#\\t is a tab character, and \\n is a newline character\n",
    "file1 = open('human_insulin_exon_boundaries.bed', 'w') #defines a file with the name \"human_insulin_exons.bed\"\n",
    "#writes the lines of the file\n",
    "file1.write(\"chr11\\t0\\t42\\n\") \n",
    "file1.write(\"chr11\\t221\\t425\\n\")\n",
    "file1.write(\"chr11\\t1212\\t1431\\n\")\n",
    "file1.close()\n",
    "\n",
    "\n",
    "\n",
    "#NEED TO CHECK NUMBERS FOR REFERENCE GENOME-- these are GRCh37\n",
    "#file1.write(\"chr11\\t2181009\\t2181227\\n\") \n",
    "#file1.write(\"chr11\\t2182015\\t2182218\\n\")\n",
    "#file1.write(\"chr11\\t2182398\\t2182439\\n\")\n",
    "\n",
    "#NEED TO CHECK NUMBERS FOR REFERENCE GENOME-- these are GRCh38\n",
    "#file1.write(\"chr11\\t2159779\\t2159997\\n\") \n",
    "#file1.write(\"chr11\\t2160785\\t2160988\\n\")\n",
    "#file1.write(\"chr11\\t2161168\\t2161209\\n\")"
   ]
  },
  {
   "cell_type": "markdown",
   "metadata": {},
   "source": [
    "Let's view the lines in the created file:"
   ]
  },
  {
   "cell_type": "code",
   "execution_count": 33,
   "metadata": {
    "collapsed": false,
    "scrolled": true
   },
   "outputs": [
    {
     "name": "stdout",
     "output_type": "stream",
     "text": [
      "chr11\t0\t42\n",
      "chr11\t221\t425\n",
      "chr11\t1212\t1431\n",
      "\n"
     ]
    }
   ],
   "source": [
    "file1 = open('human_insulin_exon_boundaries.bed', 'r')\n",
    "file1_contents=file1.read()\n",
    "print(file1_contents)"
   ]
  },
  {
   "cell_type": "markdown",
   "metadata": {},
   "source": [
    "## Use the genomic analysis package Bedtools to make an mRNA sequence with exons from a gene sequence<a name='makeFASTAfromBED' />\n",
    "\n",
    "\n",
    "We are now going to use the BED tools box to obtain the sequence of the exon regions for the human insulin gene from the human reference genome. \n",
    "\n",
    "We can use the output of the BED tool box to make the mRNA sequence by pasting the exon sequences together using Python. \n",
    "\n",
    "Bedtools provides the getFastaFromBed command to extract the FASTA sequence from a specific set of chromosome coordinates.\n",
    "\n",
    "The FASTA sequences must contain chromosome information in the headers.  \n",
    "\n",
    "For details on the syntax of the command see [\"getFastaFromBed\"](http://bedtools.readthedocs.io/en/latest/content/tools/getfasta.html)\n",
    "\n",
    "The syntax for the full command is:\n",
    "!bedtools getfasta \n",
    "\n",
    "A shortcut is: \n",
    "!fastaFromBed\n",
    "\n",
    "The command requires an input FASTA file, a BED file containing your regions of interest, and an output FASTA file name. The reference file in our case is the h19.fa containing all DNA bases in the hg19 version of the human genome. You can access this file here:\n",
    "\n",
    "#TODO: Replace the nandi-specific path with the hg19.fa path on the class server\n",
    "/mnt/data/annotations/by_release/hg19.GRCh37/hg19.genome.fa\n",
    "\n"
   ]
  },
  {
   "cell_type": "code",
   "execution_count": null,
   "metadata": {
    "collapsed": true
   },
   "outputs": [],
   "source": [
    "%cat  /mnt/data/annotations/by_release/hg19.GRCh37/hg19.genome.fa | head -n10"
   ]
  },
  {
   "cell_type": "code",
   "execution_count": 35,
   "metadata": {
    "collapsed": false
   },
   "outputs": [
    {
     "name": "stdout",
     "output_type": "stream",
     "text": [
      ">chr11:0-42\r\n",
      "AGCCCTCCAGGACAGGCTGCATCAGAAGAGGCCATCAAGCAG\r\n",
      ">chr11:221-425\r\n",
      "ATCACTGTCCTTCTGCCATGGCCCTGTGGATGCGCCTCCTGCCCCTGCTGGCGCTGCTGGCCCTCTGGGGACCTGACCCAGCCGCAGCCTTTGTGAACCAACACCTGTGCGGCTCACACCTGGTGGAAGCTCTCTACCTAGTGTGCGGGGAACGAGGCTTCTTCTACACACCCAAGACCCGCCGGGAGGCAGAGGACCTGCAGG\r\n",
      ">chr11:1212-1431\r\n",
      "TGGGGCAGGTGGAGCTGGGCGGGGGCCCTGGTGCAGGCAGCCTGCAGCCCTTGGCCCTGGAGGGGTCCCTGCAGAAGCGTGGCATTGTGGAACAATGCTGTACCAGCATCTGCTCCCTCTACCAGCTGGAGAACTACTGCAACTAGACGCAGCCCGCAGGCAGCCCCACACCCGCCGCCTCCTGCACCGAGAGAGATGGAATAAAGCCCTTGAACCAGC\r\n"
     ]
    }
   ],
   "source": [
    "## first, the default behavior: \n",
    "!bedtools getfasta -fi data/Human-Insulin-NG_007114.1.txt -bed human_insulin_exons.bed -fo human_insulin_exons.fa.out\n",
    "#examine the output\n",
    "!cat human_insulin_exons.fa.out\n",
    "\n",
    "##NEED TO REPLACE WITH Command for hg19.genome.fa \n",
    "#!bedtools getfasta -fi hg19.genome.fa  -bed human_insulin_exons.bed -fo human_insulin_exons.fa.out\n"
   ]
  },
  {
   "cell_type": "markdown",
   "metadata": {},
   "source": [
    "We can use the startswith command in Python to take out the lines starting with '>'. Most of the other lines in this next script should all ready be familiar! "
   ]
  },
  {
   "cell_type": "code",
   "execution_count": 62,
   "metadata": {
    "collapsed": false
   },
   "outputs": [
    {
     "name": "stdout",
     "output_type": "stream",
     "text": [
      "AGCCCTCCAGGACAGGCTGCATCAGAAGAGGCCATCAAGCAGATCACTGTCCTTCTGCCATGGCCCTGTGGATGCGCCTCCTGCCCCTGCTGGCGCTGCTGGCCCTCTGGGGACCTGACCCAGCCGCAGCCTTTGTGAACCAACACCTGTGCGGCTCACACCTGGTGGAAGCTCTCTACCTAGTGTGCGGGGAACGAGGCTTCTTCTACACACCCAAGACCCGCCGGGAGGCAGAGGACCTGCAGGTGGGGCAGGTGGAGCTGGGCGGGGGCCCTGGTGCAGGCAGCCTGCAGCCCTTGGCCCTGGAGGGGTCCCTGCAGAAGCGTGGCATTGTGGAACAATGCTGTACCAGCATCTGCTCCCTCTACCAGCTGGAGAACTACTGCAACTAGACGCAGCCCGCAGGCAGCCCCACACCCGCCGCCTCCTGCACCGAGAGAGATGGAATAAAGCCCTTGAACCAGC\n"
     ]
    }
   ],
   "source": [
    "#opens the FASTA sequences output from the bedtools command\n",
    "file1 = open('human_insulin_exons.fa.out','r')\n",
    "file1_contents=file1.readlines()\n",
    "\n",
    "mRNA=[]\n",
    "for f in range(len(file1_contents)):\n",
    "    if file1_contents[f].startswith('>')==(False):\n",
    "        #if the line does not start with > it gets written to mRNA\n",
    "        mRNA.append(file1_contents[f])\n",
    "\n",
    "#Removes the linebreaks from mRNA \n",
    "mRNA=''.join(file2)\n",
    "mRNA=mRNA.replace('\\n','')\n",
    "\n",
    "#Writes out the mRNA sequence to a file\n",
    "file3= open('human_insulin_mRNA.out','w')\n",
    "file3=file3.write(mRNA)\n",
    "         "
   ]
  },
  {
   "cell_type": "markdown",
   "metadata": {},
   "source": [
    "If you compare the sequence you made above to the mRNA sequence that we got from NCBI in the last class they should be the same.  "
   ]
  },
  {
   "cell_type": "markdown",
   "metadata": {},
   "source": [
    "As we have mentioned previously, it can be important in genomics studies to keep track of which strand the sequence you are looking at comes from. \n",
    "\n",
    "Strand information can also be provided in extra columns in a BED file. \n",
    "\n",
    "Adding to the bed file columns from above: \n",
    "Column 1: chromosome (this is designated as a number for chromosomes 1 to 22 and chrX or chrY for the sex chromosomes)\n",
    "Column 2: start position (the beginning of the first base is indicated by the start position 0; the beginning of the 5th base is indicated by the start position \"4\")\n",
    "Column 3: end position (the end of the first base is indicated by the end position \"1\"; the end of the 5th base is indicated by the end position \"5\")\n",
    "Column 4: name defiens the BED feature eg. Exon number\n",
    "Column 5: Is a score. We'll hear more about this later. \n",
    "Column 6: Is the strand which can be either '+' or '-' \n",
    "\n",
    "Bedtools getfasta extracts the sequence in the orientation defined in the strand column when the “-s” option is used."
   ]
  },
  {
   "cell_type": "code",
   "execution_count": 27,
   "metadata": {
    "collapsed": false
   },
   "outputs": [
    {
     "name": "stdout",
     "output_type": "stream",
     "text": [
      "chr11\t0\t42\tforward\t1\t+\n",
      "chr11\t221\t425\tforward\t2\t+\n",
      "chr11\t1212\t1431\tforward\t3\t+\n",
      "chr11\t0\t42\treverse\t1\t-\n",
      "chr11\t221\t425\treverse\t2\t-\n",
      "chr11\t1212\t1431\treverse\t3\t-\n",
      ">chr11:0-42(+)\n",
      "AGCCCTCCAGGACAGGCTGCATCAGAAGAGGCCATCAAGCAG\n",
      ">chr11:221-425(+)\n",
      "ATCACTGTCCTTCTGCCATGGCCCTGTGGATGCGCCTCCTGCCCCTGCTGGCGCTGCTGGCCCTCTGGGGACCTGACCCAGCCGCAGCCTTTGTGAACCAACACCTGTGCGGCTCACACCTGGTGGAAGCTCTCTACCTAGTGTGCGGGGAACGAGGCTTCTTCTACACACCCAAGACCCGCCGGGAGGCAGAGGACCTGCAGG\n",
      ">chr11:1212-1431(+)\n",
      "TGGGGCAGGTGGAGCTGGGCGGGGGCCCTGGTGCAGGCAGCCTGCAGCCCTTGGCCCTGGAGGGGTCCCTGCAGAAGCGTGGCATTGTGGAACAATGCTGTACCAGCATCTGCTCCCTCTACCAGCTGGAGAACTACTGCAACTAGACGCAGCCCGCAGGCAGCCCCACACCCGCCGCCTCCTGCACCGAGAGAGATGGAATAAAGCCCTTGAACCAGC\n",
      ">chr11:0-42(-)\n",
      "CTGCTTGATGGCCTCTTCTGATGCAGCCTGTCCTGGAGGGCT\n",
      ">chr11:221-425(-)\n",
      "CCTGCAGGTCCTCTGCCTCCCGGCGGGTCTTGGGTGTGTAGAAGAAGCCTCGTTCCCCGCACACTAGGTAGAGAGCTTCCACCAGGTGTGAGCCGCACAGGTGTTGGTTCACAAAGGCTGCGGCTGGGTCAGGTCCCCAGAGGGCCAGCAGCGCCAGCAGGGGCAGGAGGCGCATCCACAGGGCCATGGCAGAAGGACAGTGAT\n",
      ">chr11:1212-1431(-)\n",
      "GCTGGTTCAAGGGCTTTATTCCATCTCTCTCGGTGCAGGAGGCGGCGGGTGTGGGGCTGCCTGCGGGCTGCGTCTAGTTGCAGTAGTTCTCCAGCTGGTAGAGGGAGCAGATGCTGGTACAGCATTGTTCCACAATGCCACGCTTCTGCAGGGACCCCTCCAGGGCCAAGGGCTGCAGGCTGCCTGCACCAGGGCCCCCGCCCAGCTCCACCTGCCCCA\n"
     ]
    }
   ],
   "source": [
    "#We re-write our test.bed file to include strand information: \n",
    "\n",
    "file2 = open('human_insulin_exon_boundaries_strand.bed', 'w') #defines a file with the name \"human_insulin_exons.bed\"\n",
    "#writes the lines of the file\n",
    "file2.write(\"chr11\\t0\\t42\\tforward\\t1\\t+\\n\") \n",
    "file2.write(\"chr11\\t221\\t425\\tforward\\t2\\t+\\n\")\n",
    "file2.write(\"chr11\\t1212\\t1431\\tforward\\t3\\t+\\n\")\n",
    "file2.write(\"chr11\\t0\\t42\\treverse\\t1\\t-\\n\") \n",
    "file2.write(\"chr11\\t221\\t425\\treverse\\t2\\t-\\n\")\n",
    "file2.write(\"chr11\\t1212\\t1431\\treverse\\t3\\t-\\n\")\n",
    "\n",
    "file2.close()\n",
    "\n",
    "!cat human_insulin_exon_boundaries_strand.bed\n",
    "\n",
    "!bedtools getfasta -fi data/Human-Insulin-NG_007114.1.txt -s -bed human_insulin_exon_boundaries_strand.bed -fo test.fa.out\n",
    "\n",
    "#examine the output \n",
    "!cat test.fa.out"
   ]
  },
  {
   "cell_type": "markdown",
   "metadata": {},
   "source": [
    "\n",
    "\n"
   ]
  }
 ],
 "metadata": {
  "anaconda-cloud": {},
  "kernelspec": {
   "display_name": "Python [Root]",
   "language": "python",
   "name": "Python [Root]"
  },
  "language_info": {
   "codemirror_mode": {
    "name": "ipython",
    "version": 3
   },
   "file_extension": ".py",
   "mimetype": "text/x-python",
   "name": "python",
   "nbconvert_exporter": "python",
   "pygments_lexer": "ipython3",
   "version": "3.5.2"
  }
 },
 "nbformat": 4,
 "nbformat_minor": 0
}
