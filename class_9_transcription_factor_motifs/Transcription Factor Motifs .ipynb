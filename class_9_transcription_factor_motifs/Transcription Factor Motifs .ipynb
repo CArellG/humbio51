{
 "cells": [
  {
   "cell_type": "markdown",
   "metadata": {},
   "source": [
    "# Big Data for Biologists: Decoding Genomic Function- Class 9\n",
    "\n",
    "## What are transcription factors and motifs?\n",
    "\n",
    "##  Learning Objectives\n",
    "***Students should be able to***\n",
    " <ol>\n",
    " <li> Explain what a transcription factor binding motif is </li>\n",
    " <li> Construct a position weight matrix (PWM) for a transcription factor by analyzing known transcription factor binding sequences </li>\n",
    " <li> Make a position-specific score matrices (PSSM) from a PWM to use for transcription factor motif-scanning  </li>\n",
    " <li> Become familiar with common motif-scanning tools such as HOMER and how they can be used for *de novo* motif discovery.  </li>\n",
    "<li> Become familiar with Biopython functions and modules: Align, Motif </li>\n"
   ]
  },
  {
   "cell_type": "markdown",
   "metadata": {},
   "source": [
    "## What is a transcription factor binding motif?"
   ]
  },
  {
   "cell_type": "markdown",
   "metadata": {},
   "source": [
    "![Transcription factor binds to DNA motif](images/tf_motif.png)"
   ]
  },
  {
   "cell_type": "markdown",
   "metadata": {},
   "source": [
    "We can identify a transcription factor motif by looking at many sequences where transcription factors bind and getting a consensus \"footprint\". For example, we have found that the GATA transcription factor binds to the following 4 sequences: "
   ]
  },
  {
   "cell_type": "code",
   "execution_count": 2,
   "metadata": {
    "collapsed": false
   },
   "outputs": [
    {
     "data": {
      "text/plain": [
       "['>sequence1',\n",
       " 'TTGGATAA',\n",
       " '>sequence2',\n",
       " 'CGATAACCG',\n",
       " '>sequence3',\n",
       " 'CGATAT',\n",
       " '>sequence4',\n",
       " 'AAAGGATAT']"
      ]
     },
     "execution_count": 2,
     "metadata": {},
     "output_type": "execute_result"
    }
   ],
   "source": [
    "#tf_binding_sequences.fa is a file with known sequences that bind to the GATA transcription factor\n",
    "sequences=open(\"tf_binding_sequences.fa\",'r').read().strip().split('\\n')\n",
    "sequences "
   ]
  },
  {
   "cell_type": "code",
   "execution_count": 1,
   "metadata": {
    "collapsed": false
   },
   "outputs": [],
   "source": [
    "#we are importing some printing and helper functions for this notebook don't worry about this code block\n",
    "import pprint\n",
    "pp = pprint.PrettyPrinter(indent=4)\n",
    "import sys\n",
    "sys.path.append('../helpers')\n",
    "%matplotlib inline\n",
    "import matplotlib\n",
    "import matplotlib.pyplot as plt\n",
    "import numpy as np\n",
    "from viz_sequence import * "
   ]
  },
  {
   "cell_type": "markdown",
   "metadata": {},
   "source": [
    "## Construct a position weight matrix (PWM) for a transcription factor by analyzing known transcription factor binding sequences\n",
    "\n",
    "## From Multiple Sequence Alignment to PWM  "
   ]
  },
  {
   "cell_type": "markdown",
   "metadata": {},
   "source": [
    "We use the [MUSCLE algorithm](http://www.ebi.ac.uk/Tools/msa/muscle/) to perform multiple sequence alignment and generate a consensus sequence. Refer to Tutorial 4 to refresh your knowledge of multiple sequence alignment. "
   ]
  },
  {
   "cell_type": "code",
   "execution_count": 5,
   "metadata": {
    "collapsed": false
   },
   "outputs": [
    {
     "ename": "ApplicationError",
     "evalue": "Non-zero return code 127 from 'muscle -in tf_binding_sequences.fa', message '/bin/sh: muscle: command not found'",
     "output_type": "error",
     "traceback": [
      "\u001b[0;31m---------------------------------------------------------------------------\u001b[0m",
      "\u001b[0;31mApplicationError\u001b[0m                          Traceback (most recent call last)",
      "\u001b[0;32m<ipython-input-5-0345155f89d5>\u001b[0m in \u001b[0;36m<module>\u001b[0;34m()\u001b[0m\n\u001b[1;32m      2\u001b[0m \u001b[0;32mfrom\u001b[0m \u001b[0mBio\u001b[0m\u001b[0;34m.\u001b[0m\u001b[0mAlphabet\u001b[0m \u001b[0;32mimport\u001b[0m \u001b[0mGapped\u001b[0m\u001b[0;34m,\u001b[0m \u001b[0mIUPAC\u001b[0m\u001b[0;34m\u001b[0m\u001b[0m\n\u001b[1;32m      3\u001b[0m \u001b[0mmuscle_cline\u001b[0m \u001b[0;34m=\u001b[0m \u001b[0mMuscleCommandline\u001b[0m\u001b[0;34m(\u001b[0m\u001b[0minput\u001b[0m\u001b[0;34m=\u001b[0m\u001b[0;34m\"tf_binding_sequences.fa\"\u001b[0m\u001b[0;34m)\u001b[0m\u001b[0;34m\u001b[0m\u001b[0m\n\u001b[0;32m----> 4\u001b[0;31m \u001b[0mstdout\u001b[0m\u001b[0;34m,\u001b[0m \u001b[0mstderr\u001b[0m \u001b[0;34m=\u001b[0m \u001b[0mmuscle_cline\u001b[0m\u001b[0;34m(\u001b[0m\u001b[0;34m)\u001b[0m\u001b[0;34m\u001b[0m\u001b[0m\n\u001b[0m\u001b[1;32m      5\u001b[0m \u001b[0;31m#from StringIO import StringIO  for Python 2\u001b[0m\u001b[0;34m\u001b[0m\u001b[0;34m\u001b[0m\u001b[0m\n\u001b[1;32m      6\u001b[0m \u001b[0;32mimport\u001b[0m \u001b[0mio\u001b[0m \u001b[0;31m#for Python 3\u001b[0m\u001b[0;34m\u001b[0m\u001b[0m\n",
      "\u001b[0;32m/Users/annettesalmeen/anaconda/lib/python3.5/site-packages/Bio/Application/__init__.py\u001b[0m in \u001b[0;36m__call__\u001b[0;34m(self, stdin, stdout, stderr, cwd, env)\u001b[0m\n\u001b[1;32m    514\u001b[0m         \u001b[0;32mif\u001b[0m \u001b[0mreturn_code\u001b[0m\u001b[0;34m:\u001b[0m\u001b[0;34m\u001b[0m\u001b[0m\n\u001b[1;32m    515\u001b[0m             raise ApplicationError(return_code, str(self),\n\u001b[0;32m--> 516\u001b[0;31m                                    stdout_str, stderr_str)\n\u001b[0m\u001b[1;32m    517\u001b[0m         \u001b[0;32mreturn\u001b[0m \u001b[0mstdout_str\u001b[0m\u001b[0;34m,\u001b[0m \u001b[0mstderr_str\u001b[0m\u001b[0;34m\u001b[0m\u001b[0m\n\u001b[1;32m    518\u001b[0m \u001b[0;34m\u001b[0m\u001b[0m\n",
      "\u001b[0;31mApplicationError\u001b[0m: Non-zero return code 127 from 'muscle -in tf_binding_sequences.fa', message '/bin/sh: muscle: command not found'"
     ]
    }
   ],
   "source": [
    "from Bio.Align.Applications import MuscleCommandline\n",
    "from Bio.Alphabet import Gapped, IUPAC\n",
    "muscle_cline = MuscleCommandline(input=\"tf_binding_sequences.fa\")\n",
    "stdout, stderr = muscle_cline()\n",
    "from StringIO import StringIO  for Python 2\n",
    "#import io #for Python 3 \n",
    "from Bio import AlignIO\n",
    "myAlphabet=IUPAC.unambiguous_dna\n",
    "align = AlignIO.read(StringIO(stdout), \"fasta\",alphabet=myAlphabet)\n",
    "print(align)"
   ]
  },
  {
   "cell_type": "markdown",
   "metadata": {},
   "source": [
    "We examine the aligned portions of the sequences:"
   ]
  },
  {
   "cell_type": "code",
   "execution_count": 4,
   "metadata": {
    "collapsed": false
   },
   "outputs": [
    {
     "name": "stdout",
     "output_type": "stream",
     "text": [
      "IUPACUnambiguousDNA() alignment with 4 rows and 5 columns\n",
      "GGATA sequence1\n",
      "CGATA sequence2\n",
      "CGATA sequence3\n",
      "GGATA sequence4\n"
     ]
    }
   ],
   "source": [
    "sub_alignment=align[:,3:8]\n",
    "print(sub_alignment)"
   ]
  },
  {
   "cell_type": "markdown",
   "metadata": {},
   "source": [
    "We notice that the first column contains base C twice, and base G twice. The second column always contains base G, and the third, fourth, and fifth columns always contain the bases A,T, and A, respectively. We can quantify this information with a position weight matrix (PWM). "
   ]
  },
  {
   "cell_type": "code",
   "execution_count": 5,
   "metadata": {
    "collapsed": false
   },
   "outputs": [],
   "source": [
    "from Bio.motifs import Motif,Instances\n",
    "instances=Instances(instances=[a.seq for a in sub_alignment],alphabet=myAlphabet)\n",
    "m=Motif(instances=instances)"
   ]
  },
  {
   "cell_type": "code",
   "execution_count": 6,
   "metadata": {
    "collapsed": false
   },
   "outputs": [
    {
     "data": {
      "text/plain": [
       "Seq('GGATA', IUPACUnambiguousDNA())"
      ]
     },
     "execution_count": 6,
     "metadata": {},
     "output_type": "execute_result"
    }
   ],
   "source": [
    "#Print the consensus sequence for the motif \n",
    "m.consensus"
   ]
  },
  {
   "cell_type": "code",
   "execution_count": 7,
   "metadata": {
    "collapsed": false
   },
   "outputs": [
    {
     "data": {
      "text/plain": [
       "{'A': (0.0, 0.0, 1.0, 0.0, 1.0),\n",
       " 'C': (0.5, 0.0, 0.0, 0.0, 0.0),\n",
       " 'G': (0.5, 1.0, 0.0, 0.0, 0.0),\n",
       " 'T': (0.0, 0.0, 0.0, 1.0, 0.0)}"
      ]
     },
     "execution_count": 7,
     "metadata": {},
     "output_type": "execute_result"
    }
   ],
   "source": [
    "#print the position weight matrix for the motif \n",
    "m.pwm"
   ]
  },
  {
   "cell_type": "code",
   "execution_count": 8,
   "metadata": {
    "collapsed": false
   },
   "outputs": [
    {
     "name": "stdout",
     "output_type": "stream",
     "text": [
      "[[ 0.   0.   1.   0.   1. ]\n",
      " [ 0.5  0.   0.   0.   0. ]\n",
      " [ 0.5  1.   0.   0.   0. ]\n",
      " [ 0.   0.   0.   1.   0. ]]\n"
     ]
    },
    {
     "data": {
      "image/png": "[encoded data removed]",
      "text/plain": [
       "<matplotlib.figure.Figure at 0x7f7c27ced950>"
      ]
     },
     "metadata": {},
     "output_type": "display_data"
    }
   ],
   "source": [
    "#convert the Pwm dictionary to an array and plot the PWM sequence logo \n",
    "pwm=np.asarray([m.pwm['A'],m.pwm['C'],m.pwm['G'],m.pwm['T']])\n",
    "print(pwm)\n",
    "plot_weights(pwm)"
   ]
  },
  {
   "cell_type": "markdown",
   "metadata": {},
   "source": [
    "We want to normalize the motif frequencies relative to the frequencies in the genomic background. For our purposes, we assume that the bases A,C,G,T all occur with equal frequency (p=0.25). Note: this assumption rarely holds in reality! However, for our purposes it will suffice. "
   ]
  },
  {
   "cell_type": "code",
   "execution_count": 9,
   "metadata": {
    "collapsed": false
   },
   "outputs": [
    {
     "data": {
      "text/plain": [
       "{'A': 0.25, 'C': 0.25, 'G': 0.25, 'T': 0.25}"
      ]
     },
     "execution_count": 9,
     "metadata": {},
     "output_type": "execute_result"
    }
   ],
   "source": [
    "m.background"
   ]
  },
  {
   "cell_type": "markdown",
   "metadata": {},
   "source": [
    "## Make a position-specific score matrices (PSSM) from a PWM to use for transcription factor motif-scanning"
   ]
  },
  {
   "cell_type": "markdown",
   "metadata": {},
   "source": [
    "We calculate the PSSM in accorance with the following formula:![PSSM formula](images/pssm_formula.png)"
   ]
  },
  {
   "cell_type": "code",
   "execution_count": 10,
   "metadata": {
    "collapsed": false
   },
   "outputs": [
    {
     "data": {
      "text/plain": [
       "{'A': [-inf, -inf, 2.0, -inf, 2.0],\n",
       " 'C': [1.0, -inf, -inf, -inf, -inf],\n",
       " 'G': [1.0, 2.0, -inf, -inf, -inf],\n",
       " 'T': [-inf, -inf, -inf, 2.0, -inf]}"
      ]
     },
     "execution_count": 10,
     "metadata": {},
     "output_type": "execute_result"
    }
   ],
   "source": [
    "m.pssm"
   ]
  },
  {
   "cell_type": "markdown",
   "metadata": {},
   "source": [
    "We want to avoid the -inf values in our matrix, as mathematical operations break down for infinite values. To avoid this problem, we can add \"pseudocounts\" -- small numbers we add for each position in the PWM to avoid taking the log of 0. We add the pseudocounts to our \"counts\" matrix and recompute the PWM & PSSM. "
   ]
  },
  {
   "cell_type": "code",
   "execution_count": 11,
   "metadata": {
    "collapsed": false
   },
   "outputs": [
    {
     "name": "stdout",
     "output_type": "stream",
     "text": [
      "Original pseudocounts:\n",
      "{'A': 0.0, 'C': 0.0, 'T': 0.0, 'G': 0.0}\n",
      "Updated pseudocounts:\n",
      "{'A': 0.001, 'C': 0.001, 'T': 0.001, 'G': 0.001}\n"
     ]
    }
   ],
   "source": [
    "#get the original pseudocounts, they should be 0 \n",
    "print(\"Original pseudocounts:\")\n",
    "print(m.pseudocounts)\n",
    "\n",
    "#Update the pseudocounts to 0.001 \n",
    "m.pseudocounts['A']=0.001\n",
    "m.pseudocounts['C']=0.001\n",
    "m.pseudocounts['G']=0.001\n",
    "m.pseudocounts['T']=0.001\n",
    "\n",
    "print(\"Updated pseudocounts:\")\n",
    "print(m.pseudocounts)\n"
   ]
  },
  {
   "cell_type": "code",
   "execution_count": 12,
   "metadata": {
    "collapsed": false
   },
   "outputs": [
    {
     "data": {
      "text/plain": [
       "{'A': [-10.0, -10.0, 2.0, -10.0, 2.0],\n",
       " 'C': [1.0, -10.0, -10.0, -10.0, -10.0],\n",
       " 'G': [1.0, 2.0, -10.0, -10.0, -10.0],\n",
       " 'T': [-10.0, -10.0, -10.0, 2.0, -10.0]}"
      ]
     },
     "execution_count": 12,
     "metadata": {},
     "output_type": "execute_result"
    }
   ],
   "source": [
    "#Re-calculate the PSSM, we should no longer observe values if -inf \n",
    "pssm=m.pssm \n",
    "for base in ['A','C','G','T']: \n",
    "    pssm[base]=[round(val) for val in pssm[base]]\n",
    "pssm"
   ]
  },
  {
   "cell_type": "code",
   "execution_count": 13,
   "metadata": {
    "collapsed": false
   },
   "outputs": [
    {
     "name": "stdout",
     "output_type": "stream",
     "text": [
      "[[-10. -10.   2. -10.   2.]\n",
      " [  1. -10. -10. -10. -10.]\n",
      " [  1.   2. -10. -10. -10.]\n",
      " [-10. -10. -10.   2. -10.]]\n"
     ]
    },
    {
     "data": {
      "image/png": "[encoded data removed]",
      "text/plain": [
       "<matplotlib.figure.Figure at 0x7f7c274bc690>"
      ]
     },
     "metadata": {},
     "output_type": "display_data"
    }
   ],
   "source": [
    "#plot the PSSM \n",
    "pssm=np.asarray([pssm['A'],pssm['C'],pssm['G'],pssm['T']])\n",
    "print(pssm)\n",
    "plot_weights(pssm)"
   ]
  },
  {
   "cell_type": "markdown",
   "metadata": {},
   "source": [
    "## Motif scanning along a DNA sequence"
   ]
  },
  {
   "cell_type": "markdown",
   "metadata": {},
   "source": [
    "Now that we have identified the PWM and PSSM for the GATA motif, we would like to see if this motif is present in a new fasta sequence. To do this, we 'one-hot-encode' the sequence and compute the convolution product between the sequence and the PSSM. \n",
    "\n",
    "\n",
    "'One-hot-encoding' is a process that transforms a sequence of letters into a matrix of 1's and 0's. In the graphic below, a colored square represents a '1', indicating the presence of the specified base at that position along the sequence. A blank square represents a '0', indicating the absence of the specified base at the position. \n",
    "\n",
    "![one-hot-encoding](images/one_hot.png)"
   ]
  },
  {
   "cell_type": "code",
   "execution_count": 14,
   "metadata": {
    "collapsed": false
   },
   "outputs": [
    {
     "data": {
      "text/plain": [
       "array([[0, 0, 1, 0, 0, 1, 0, 0, 0, 1, 0, 1, 1],\n",
       "       [0, 1, 0, 0, 0, 0, 1, 1, 0, 0, 0, 0, 0],\n",
       "       [1, 0, 0, 0, 0, 0, 0, 0, 1, 0, 0, 0, 0],\n",
       "       [0, 0, 0, 1, 1, 0, 0, 0, 0, 0, 1, 0, 0]])"
      ]
     },
     "execution_count": 14,
     "metadata": {},
     "output_type": "execute_result"
    }
   ],
   "source": [
    "#we write a function to perform one-hot encoding. \n",
    "def one_hot_encode(sequence): \n",
    "    encoding_dict=dict() \n",
    "    encoding_dict['A']=[1,0,0,0]\n",
    "    encoding_dict['C']=[0,1,0,0]\n",
    "    encoding_dict['G']=[0,0,1,0]\n",
    "    encoding_dict['T']=[0,0,0,1]\n",
    "    \n",
    "    encoded_sequence=[] \n",
    "    for base in sequence: \n",
    "        encoded_sequence.append(encoding_dict[base])\n",
    "    return np.array(encoded_sequence).transpose()\n",
    "\n",
    "#We now one-hot encode a DNA sequence \n",
    "sequence=\"GCATTACCGATAA\"\n",
    "encoded_sequence=one_hot_encode(sequence)\n",
    "encoded_sequence"
   ]
  },
  {
   "cell_type": "markdown",
   "metadata": {},
   "source": [
    "We now scan the PSSM for GATA along the one-hot-encoded sequence and compute the convolution product: \n",
    "![Convolution product](images/convolution3.png)\n",
    "![Convolution formula](images/convolution_formula.png)\n",
    "Scanning along the sequence, we obtain the following series of convolution products. The best alignment to the sequence is indicated by the red square and corresponds to the position of the \"CGATA\" motif in the sequence.\n",
    "![Convolution formula](images/optimal_convolution_product.png)\n",
    "We can perfom the motif scan in Python by following the steps below:"
   ]
  },
  {
   "cell_type": "code",
   "execution_count": 15,
   "metadata": {
    "collapsed": false
   },
   "outputs": [
    {
     "name": "stdout",
     "output_type": "stream",
     "text": [
      "Convolution product:[-18. -28. -15. -15. -50. -38. -50. -38. -39.   9. -27. -28. -18.]\n",
      "Motif starting position along the sequence:7\n"
     ]
    }
   ],
   "source": [
    "from scipy.signal import fftconvolve\n",
    "def scan_sequence(sequence,pssm): \n",
    "    convolution_product=fftconvolve(sequence[::-1,::-1],pssm,mode=\"same\")[::-1,::-1][1]\n",
    "    #get the starting position of the motif along the sequence \n",
    "    starting_pos=np.argmax(convolution_product)-pssm.shape[1]/2\n",
    "    return convolution_product,starting_pos\n",
    "\n",
    "convolution_product,starting_pos=scan_sequence(encoded_sequence,pssm)\n",
    "print(\"Convolution product:\"+str(convolution_product))\n",
    "print(\"Motif starting position along the sequence:\"+str(starting_pos))"
   ]
  },
  {
   "cell_type": "markdown",
   "metadata": {
    "collapsed": false
   },
   "source": [
    "Luckily, Biopython has built-in functionality for motif scanning that performs the convolution operations above with a lot less code. To achieve the same result as above, we can simply run the following commands in Biopython: "
   ]
  },
  {
   "cell_type": "code",
   "execution_count": 16,
   "metadata": {
    "collapsed": false
   },
   "outputs": [
    {
     "name": "stdout",
     "output_type": "stream",
     "text": [
      "Position 0: score = -14.937\n",
      "Position -13: score = -49.836\n",
      "Position 1: score = -14.937\n",
      "Position -12: score = -25.904\n",
      "Position 2: score = -49.836\n",
      "Position -11: score = -26.903\n",
      "Position 3: score = -37.870\n",
      "Position -10: score = -14.937\n",
      "Position 4: score = -49.836\n",
      "Position -9: score = -2.971\n",
      "Position 5: score = -37.870\n",
      "Position -8: score = -49.836\n",
      "Position 6: score = -38.870\n",
      "Position -7: score = -49.836\n",
      "Position 7: score = 8.995\n",
      "Position -6: score = -49.836\n",
      "Position 8: score = -26.903\n",
      "Position -5: score = -25.904\n"
     ]
    }
   ],
   "source": [
    "from Bio.Seq import Seq\n",
    "sequence=Seq(sequence, m.alphabet)\n",
    "for position, score in m.pssm.search(sequence, threshold=-100):\n",
    "    print(\"Position %d: score = %5.3f\" % (position, score))"
   ]
  },
  {
   "cell_type": "markdown",
   "metadata": {},
   "source": [
    "The negative positions refer to instances of the motif found on the reverse strand of the test sequence, and follow the Python convention on negative indices. You can also calculate the scores at all positions along the sequence: "
   ]
  },
  {
   "cell_type": "code",
   "execution_count": 17,
   "metadata": {
    "collapsed": false
   },
   "outputs": [
    {
     "data": {
      "text/plain": [
       "array([-14.93733597, -14.93733597, -49.83613205, -37.86998749,\n",
       "       -49.83613205, -37.86998749, -38.86962509,   8.99495411, -26.90348053], dtype=float32)"
      ]
     },
     "execution_count": 17,
     "metadata": {},
     "output_type": "execute_result"
    }
   ],
   "source": [
    "m.pssm.calculate(sequence)"
   ]
  },
  {
   "cell_type": "markdown",
   "metadata": {},
   "source": [
    "In general, this is the fastest way to calculate PSSM scores. The scores returned by pssm.calculate are for the forward strand only. To obtain the scores on the reverse strand, you can take the reverse complement of the PSSM: "
   ]
  },
  {
   "cell_type": "code",
   "execution_count": 18,
   "metadata": {
    "collapsed": false
   },
   "outputs": [
    {
     "data": {
      "text/plain": [
       "array([-49.83613205, -25.90384102, -26.90348053, -14.93733597,\n",
       "        -2.97119117, -49.83613205, -49.83613205, -49.83613205, -25.90384102], dtype=float32)"
      ]
     },
     "execution_count": 18,
     "metadata": {},
     "output_type": "execute_result"
    }
   ],
   "source": [
    "rpssm=m.pssm.reverse_complement()\n",
    "rpssm.calculate(sequence)"
   ]
  },
  {
   "cell_type": "markdown",
   "metadata": {},
   "source": [
    "If you want to use a less arbitrary way of selecting thresholds, you can explore the distribution of PSSM scores. Since the space for a score distribution grows exponentially with motif length, we are using an approximation with a given precision to keep computation cost manageable: "
   ]
  },
  {
   "cell_type": "code",
   "execution_count": 19,
   "metadata": {
    "collapsed": true
   },
   "outputs": [],
   "source": [
    "distribution = m.pssm.distribution(background=m.background, precision=10**4)"
   ]
  },
  {
   "cell_type": "markdown",
   "metadata": {},
   "source": [
    "The distribution object can be used to determine a number of different thresholds. We can specify the requested false-positive rate (probability of “finding” a motif instance in background generated sequence): "
   ]
  },
  {
   "cell_type": "code",
   "execution_count": 21,
   "metadata": {
    "collapsed": false
   },
   "outputs": [
    {
     "data": {
      "text/plain": [
       "-2.9715282289482374"
      ]
     },
     "execution_count": 21,
     "metadata": {},
     "output_type": "execute_result"
    }
   ],
   "source": [
    "threshold = distribution.threshold_fpr(0.01)\n",
    "threshold"
   ]
  },
  {
   "cell_type": "markdown",
   "metadata": {},
   "source": [
    "or the false-negative rate (probability of “not finding” an instance generated from the motif): "
   ]
  },
  {
   "cell_type": "code",
   "execution_count": 22,
   "metadata": {
    "collapsed": false
   },
   "outputs": [
    {
     "data": {
      "text/plain": [
       "8.994953811108175"
      ]
     },
     "execution_count": 22,
     "metadata": {},
     "output_type": "execute_result"
    }
   ],
   "source": [
    "threshold = distribution.threshold_fnr(0.1)\n",
    "threshold"
   ]
  },
  {
   "cell_type": "markdown",
   "metadata": {},
   "source": [
    "or a threshold (approximately) satisfying some relation between the false-positive rate and the false-negative rate (fnr/fpr≃ t): "
   ]
  },
  {
   "cell_type": "code",
   "execution_count": 23,
   "metadata": {
    "collapsed": false
   },
   "outputs": [
    {
     "data": {
      "text/plain": [
       "8.994953811108175"
      ]
     },
     "execution_count": 23,
     "metadata": {},
     "output_type": "execute_result"
    }
   ],
   "source": [
    "threshold = distribution.threshold_balanced(1000)\n",
    "threshold"
   ]
  },
  {
   "cell_type": "markdown",
   "metadata": {},
   "source": [
    "## Become familiar with common motif-scanning tools such as HOMER and how they can be used for *de novo* motif discovery.  "
   ]
  },
  {
   "cell_type": "markdown",
   "metadata": {
    "collapsed": true
   },
   "source": [
    "[HOMER](http://homer.ucsd.edu/homer/motif/index.html) contains a novel motif discovery algorithm that was designed for regulatory element analysis in genomics applications (DNA only, no protein).  It is a differential motif discovery algorithm, which means that it takes two sets of sequences and tries to identify the regulatory elements that are specifically enriched in on set relative to the other.  It uses ZOOPS scoring (zero or one occurrence per sequence) coupled with the hypergeometric enrichment calculations (or binomial) to determine motif enrichment.\n",
    "\n",
    "\n",
    "To scan sequences for known and novel motifs, we use the **findMotifsGEnome.pl** command. HOMER accepts a BED file of genome positions to be scanned, as well as a reference genome.\n",
    "\n",
    "For example:  **findMotifsGenome.pl peaks.txt mm9 peak_output** \n",
    "\n",
    "\n",
    "To search for the coordinates of a particular motif in our peak set, we use the **annotatePeaks.pl** command. \n",
    "This will output a tab-delimited text file with each line containing a peak/region and a column containing instance of each motif separated by commas to stdout\n",
    "\n",
    "For example: **annotatePeaks.pl peaks.txt mm9 -m gata.motif > outputfile.txt**\n",
    "\n",
    "The output file will contain columns:\n",
    "\n",
    "    Peak/Region ID\n",
    "    Chromosome\n",
    "    Start\n",
    "    End\n",
    "    Strand of Peaks\n",
    "\n",
    "    6-18: annotation information\n",
    "    19. CpG%\n",
    "    20. GC%\n",
    "    21. Motif Instances\n",
    "    ...\n",
    "\n",
    "Motif Instances have the following format:\n",
    "<distance from center of region>(<sequence>,<strand>,<conservation>)\n",
    "i.e -29(TAAATCAACA,+,0.00)\n",
    "\n",
    "You can also find histogram of motif density this way by adding \"-hist <#>\" to the command.  For example:\n",
    "\n",
    "**annotatePeaks.pl peaks.txt mm9 -m gata.motif foxa1.motif -size 1000 -hist 10 > outputfile.txt**"
   ]
  },
  {
   "cell_type": "code",
   "execution_count": 27,
   "metadata": {
    "collapsed": false
   },
   "outputs": [
    {
     "name": "stdout",
     "output_type": "stream",
     "text": [
      "chr3\t133245430\t133245903\r\n",
      "chr3\t133246399\t133247068\r\n",
      "chr3\t133246399\t133247068\r\n",
      "chr3\t133285836\t133287465\r\n",
      "chr3\t133285836\t133287465\r\n",
      "chr3\t133285836\t133287465\r\n",
      "chr3\t133285836\t133287465\r\n",
      "chr3\t133288923\t133289534\r\n",
      "chr3\t133289677\t133290708\r\n",
      "chr3\t133289677\t133290708"
     ]
    }
   ],
   "source": [
    "#Examine the contents of peaks.txt -- these are 10 peak regions along chromosome 3 in the mouse. \n",
    "! cat peaks.txt"
   ]
  },
  {
   "cell_type": "code",
   "execution_count": 26,
   "metadata": {
    "collapsed": false
   },
   "outputs": [
    {
     "name": "stdout",
     "output_type": "stream",
     "text": [
      "\n",
      "\tPosition file = peaks.txt\n",
      "\tGenome = mm9\n",
      "\tOutput Directory = peaks_output\n",
      "\tFound mset for \"mouse\", will check against vertebrates motifs\n",
      "\tPeak/BED file conversion summary:\n",
      "\t\tBED/Header formatted lines: 10\n",
      "\t\tpeakfile formatted lines: 0\n",
      "\n",
      "\tPeak File Statistics:\n",
      "\t\tTotal Peaks: 10\n",
      "\t\tRedundant Peak IDs: 0\n",
      "\t\tPeaks lacking information: 0 (need at least 5 columns per peak)\n",
      "\t\tPeaks with misformatted coordinates: 0 (should be integer)\n",
      "\t\tPeaks with misformatted strand: 0 (should be either +/- or 0/1)\n",
      "\n",
      "\tPeak file looks good!\n",
      "\n",
      "\tBackground files for 200 bp fragments found.\n",
      "\n",
      "\tExtracting sequences from directory: /home/anna/homer/.//data/genomes/mm9//\n",
      "\tExtracting 10 sequences from chr3\n",
      "\n",
      "\tNot removing redundant sequences\n",
      "\n",
      "\n",
      "\tSequences processed:\n",
      "\t\tAuto detected maximum sequence length of 201 bp\n",
      "\t\t10 total\n",
      "\n",
      "\tFrequency Bins: 0.2 0.25 0.3 0.35 0.4 0.45 0.5 0.6 0.7 0.8\n",
      "\tFreq\tBin\tCount\n",
      "\t0.45\t5\t6\n",
      "\t0.5\t6\t4\n",
      "\n",
      "\tTotal sequences set to 50000\n",
      "\n",
      "\tChoosing background that matches in CpG/GC Content...\n",
      "\tBin\t# Targets\t# Background\tBackground Weight\n",
      "\t5\t6\t29994\t1.000\n",
      "\t6\t4\t19996\t1.000\n",
      "\tAssembling sequence file...\n",
      "\tNormalizing lower order oligos using homer2\n",
      "\n",
      "\tReading input files...\n",
      "\t50000 total sequences read\n",
      "\tAutonormalization: 1-mers (4 total)\n",
      "\t\tA\t27.80%\t27.74%\t1.002\n",
      "\t\tC\t22.20%\t22.26%\t0.997\n",
      "\t\tG\t22.20%\t22.26%\t0.997\n",
      "\t\tT\t27.80%\t27.74%\t1.002\n",
      "\tAutonormalization: 2-mers (16 total)\n",
      "\t\tAA\t8.34%\t8.14%\t1.025\n",
      "\t\tCA\t7.89%\t7.80%\t1.012\n",
      "\t\tGA\t6.68%\t6.39%\t1.045\n",
      "\t\tTA\t4.87%\t5.41%\t0.901\n",
      "\t\tAC\t5.38%\t5.61%\t0.958\n",
      "\t\tCC\t5.35%\t5.72%\t0.936\n",
      "\t\tGC\t4.87%\t4.54%\t1.074\n",
      "\t\tTC\t6.68%\t6.39%\t1.045\n",
      "\t\tAG\t8.02%\t7.79%\t1.029\n",
      "\t\tCG\t1.06%\t0.96%\t1.102\n",
      "\t\tGG\t5.35%\t5.72%\t0.936\n",
      "\t\tTG\t7.89%\t7.80%\t1.012\n",
      "\t\tAT\t5.88%\t6.20%\t0.949\n",
      "\t\tCT\t8.02%\t7.79%\t1.029\n",
      "\t\tGT\t5.38%\t5.61%\t0.958\n",
      "\t\tTT\t8.34%\t8.14%\t1.025\n",
      "\tAutonormalization: 3-mers (64 total)\n",
      "\tNormalization weights can be found in file: peaks_output/seq.autonorm.tsv\n",
      "\tConverging on autonormalization solution:\n",
      "\t...............................................................................\n",
      "\tFinal normalization:\tAutonormalization: 1-mers (4 total)\n",
      "\t\tA\t27.80%\t27.64%\t1.006\n",
      "\t\tC\t22.20%\t22.36%\t0.993\n",
      "\t\tG\t22.20%\t22.36%\t0.993\n",
      "\t\tT\t27.80%\t27.64%\t1.006\n",
      "\tAutonormalization: 2-mers (16 total)\n",
      "\t\tAA\t8.34%\t8.28%\t1.008\n",
      "\t\tCA\t7.89%\t7.74%\t1.019\n",
      "\t\tGA\t6.68%\t6.56%\t1.018\n",
      "\t\tTA\t4.87%\t5.06%\t0.964\n",
      "\t\tAC\t5.38%\t5.53%\t0.973\n",
      "\t\tCC\t5.35%\t5.54%\t0.965\n",
      "\t\tGC\t4.87%\t4.73%\t1.030\n",
      "\t\tTC\t6.68%\t6.56%\t1.018\n",
      "\t\tAG\t8.02%\t7.89%\t1.016\n",
      "\t\tCG\t1.06%\t1.19%\t0.883\n",
      "\t\tGG\t5.35%\t5.54%\t0.965\n",
      "\t\tTG\t7.89%\t7.74%\t1.019\n",
      "\t\tAT\t5.88%\t5.94%\t0.989\n",
      "\t\tCT\t8.02%\t7.89%\t1.016\n",
      "\t\tGT\t5.38%\t5.53%\t0.973\n",
      "\t\tTT\t8.34%\t8.28%\t1.008\n",
      "\tAutonormalization: 3-mers (64 total)\n",
      "\tFinished preparing sequence/group files\n",
      "\n",
      "\t----------------------------------------------------------\n",
      "\tKnown motif enrichment\n",
      "\n",
      "\tReading input files...\n",
      "\t50000 total sequences read\n",
      "\t264 motifs loaded\n",
      "\tCache length = 11180\n",
      "\tUsing binomial scoring\n",
      "\tChecking enrichment of 264 motif(s)\n",
      "\t|0%                                    50%                                  100%|\n",
      "\t=================================================================================\n",
      "\tPreparing HTML output with sequence logos...\n",
      "\t\t1 of 264 (1e-8) NFAT:AP1(RHD,bZIP)/Jurkat-NFATC1-ChIP-Seq(Jolma et al.)/Homer\n",
      "\t\t2 of 264 (1e-7) Nrf2(bZIP)/Lymphoblast-Nrf2-ChIP-Seq(GSE37589)/Homer\n",
      "\t\t3 of 264 (1e-6) Bach1(bZIP)/K562-Bach1-ChIP-Seq(GSE31477)/Homer\n",
      "\t\t4 of 264 (1e-6) ETS:E-box(ETS,bHLH)/HPC7-Scl-ChIP-Seq(GSE22178)/Homer\n",
      "\t\t5 of 264 (1e-6) ERG(ETS)/VCaP-ERG-ChIP-Seq(GSE14097)/Homer\n",
      "\t\t6 of 264 (1e-6) Unknown-ESC-element(?)/mES-Nanog-ChIP-Seq(GSE11724)/Homer\n",
      "\t\t7 of 264 (1e-5) ETV1(ETS)/GIST48-ETV1-ChIP-Seq(GSE22441)/Homer\n",
      "\t\t8 of 264 (1e-5) EWS:FLI1-fusion(ETS)/SK_N_MC-EWS:FLI1-ChIP-Seq(SRA014231)/Homer\n",
      "\t\t9 of 264 (1e-5) Fli1(ETS)/CD8-FLI-ChIP-Seq(GSE20898)/Homer\n",
      "\t\t10 of 264 (1e-4) Bach2(bZIP)/OCILy7-Bach2-ChIP-Seq(GSE44420)/Homer\n",
      "\t\t11 of 264 (1e-4) ELF5(ETS)/T47D-ELF5-ChIP-Seq(GSE30407)/Homer\n",
      "\t\t12 of 264 (1e-4) Jun-AP1(bZIP)/K562-cJun-ChIP-Seq(GSE31477)/Homer\n",
      "\t\t13 of 264 (1e-3) Fosl2(bZIP)/3T3L1-Fosl2-ChIP-Seq(GSE56872)/Homer\n",
      "\t\t14 of 264 (1e-3) Rfx5(HTH)/GM12878-Rfx5-ChIP-Seq(GSE31477)/Homer\n",
      "\t\t15 of 264 (1e-3) EHF(ETS)/LoVo-EHF-ChIP-Seq(GSE49402)/Homer\n",
      "\t\t16 of 264 (1e-3) Fra1(bZIP)/BT549-Fra1-ChIP-Seq(GSE46166)/Homer\n",
      "\t\t17 of 264 (1e-2) Atf3(bZIP)/GBM-ATF3-ChIP-Seq(GSE33912)/Homer\n",
      "\t\t18 of 264 (1e-2) BATF(bZIP)/Th17-BATF-ChIP-Seq(GSE39756)/Homer\n",
      "\t\t19 of 264 (1e-2) PAX5(Paired,Homeobox),condensed/GM12878-PAX5-ChIP-Seq(GSE32465)/Homer\n",
      "\t\t20 of 264 (1e-2) AP-1(bZIP)/ThioMac-PU.1-ChIP-Seq(GSE21512)/Homer\n",
      "\t\t21 of 264 (1e-2) IRF2(IRF)/Erythroblas-IRF2-ChIP-Seq(GSE36985)/Homer\n",
      "\t\t22 of 264 (1e-2) EWS:ERG-fusion(ETS)/CADO_ES1-EWS:ERG-ChIP-Seq(SRA014231)/Homer\n",
      "\t\t23 of 264 (1e-2) Mef2a(MADS)/HL1-Mef2a.biotin-ChIP-Seq(GSE21529)/Homer\n",
      "\t\t24 of 264 (1e-2) RORgt(NR)/EL4-RORgt.Flag-ChIP-Seq(GSE56019)/Homer\n",
      "\t\t25 of 264 (1e-2) ZNF143|STAF(Zf)/CUTLL-ZNF143-ChIP-Seq(GSE29600)/Homer\n",
      "\t\t26 of 264 (1e-2) Mef2c(MADS)/GM12878-Mef2c-ChIP-Seq(GSE32465)/Homer\n",
      "\t\t27 of 264 (1e-2) MafA(bZIP)/Islet-MafA-ChIP-Seq(GSE30298)/Homer\n",
      "\t\t28 of 264 (1e-2) VDR(NR),DR3/GM10855-VDR+vitD-ChIP-Seq(GSE22484)/Homer\n",
      "\t----------------------------------------------------------\n",
      "\tDe novo motif finding (HOMER)\n",
      "\n",
      "\tScanning input files...\n",
      "\tParsing sequences...\n",
      "\t|0%                                   50%                                  100%|\n",
      "\t===============================================================================\n",
      "\tTotal number of Oligos: 32888\n",
      "\tAutoadjustment for sequence coverage in background: 1.00x\n",
      "\n",
      "\tOligos: 32888 of 34497 max\n",
      "\tTree  : 67192 of 172485 max\n",
      "\tOptimizing memory usage...\n",
      "\tCache length = 11180\n",
      "\tUsing binomial scoring\n",
      "\n",
      "\tGlobal Optimization Phase: Looking for enriched oligos with up to 2 mismatches...\n",
      "\n",
      "\tScreening oligos 32888 (allowing 0 mismatches):\n",
      "\t|0%                                   50%                                  100%|\n",
      "\t================================================================================\n",
      "\t\t97.16% skipped, 2.84% checked (934 of 32888), of those checked:\n",
      "\t\t97.16% not in target, 0.00% increased p-value, 0.00% high p-value\n",
      "\n",
      "\tScreening oligos 32888 (allowing 1 mismatches):\n",
      "\t|0%                                   50%                                  100%|\n",
      "\t====================================================================================\n",
      "\t\t97.16% skipped, 2.84% checked (934 of 32888), of those checked:\n",
      "\t\t0.00% not in target, 2.37% increased p-value, 0.10% high p-value\n",
      "\n",
      "\tScreening oligos 32888 (allowing 2 mismatches):\n",
      "\t|0%                                   50%                                  100%|\n",
      "\t====================================================================================\n",
      "\t\t99.54% skipped, 0.46% checked (150 of 32888), of those checked:\n",
      "\t\t0.00% not in target, 0.46% increased p-value, 0.00% high p-value\n",
      "\tReading input files...\n",
      "\t50000 total sequences read\n",
      "\tCache length = 11180\n",
      "\tUsing binomial scoring\n",
      "\n",
      "\tLocal Optimization Phase:\n",
      "\t1 of 25 Initial Sequence: GCCCAGCA... (-27.230)\n",
      "\t\tRound 1: -28.53 GCCCAGCA T:16.0(81.47%),B:1649.3(1.76%),P:1e-12\n",
      "\t\tRound 2: -28.53 GCCCAGCA T:16.0(81.47%),B:1649.3(1.76%),P:1e-12\n",
      "\t\t=Final=: -22.15 GCCCAGCA T:6.0(60.00%),B:954.5(1.03%),P:1e-9\n",
      "\t\tPerforming exhaustive masking of motif...\n",
      "\t\tReprioritizing potential motifs...\n",
      "\t2 of 25 Initial Sequence: GACTCAGC... (-18.104)\n",
      "\t\tRound 1: -23.87 GACASAGC T:16.0(81.47%),B:2982.1(3.17%),P:1e-10\n",
      "\t\tRound 2: -23.87 GACASAGC T:16.0(81.47%),B:2982.1(3.17%),P:1e-10\n",
      "\t\t=Final=: -9.91 GACASAGC T:4.0(40.00%),B:2101.8(2.27%),P:1e-4\n",
      "\t\tPerforming exhaustive masking of motif...\n",
      "\t\tReprioritizing potential motifs...\n",
      "\t3 of 25 Initial Sequence: GTCGTCTC... (-15.243)\n",
      "\t\tRound 1: -15.24 GTCGTCTC T:4.0(34.39%),B:118.4(0.13%),P:1e-6\n",
      "\t\tRound 2: -15.24 GTCGTCTC T:4.0(34.39%),B:118.4(0.13%),P:1e-6\n",
      "\t\t=Final=: -21.32 GTCGTCTC T:4.0(40.00%),B:118.4(0.13%),P:1e-9\n",
      "\t\tPerforming exhaustive masking of motif...\n",
      "\t\tReprioritizing potential motifs...\n",
      "\t4 of 25 Initial Sequence: TGAAGATA... (-13.020)\n",
      "\t\tRound 1: -15.22 KGAAGWTA T:9.0(61.26%),B:3117.7(3.31%),P:1e-6\n",
      "\t\tRound 2: -15.22 KGAAGWTA T:9.0(61.26%),B:3117.7(3.31%),P:1e-6\n",
      "\t\t=Final=: -21.57 KGAAGWTA T:9.0(90.00%),B:6584.0(7.10%),P:1e-9\n",
      "\t\tPerforming exhaustive masking of motif...\n",
      "\t\tReprioritizing potential motifs...\n",
      "\t5 of 25 Initial Sequence: GAGTCACA... (-12.991)\n",
      "\t\tRound 1: -17.55 GAGTCMCM T:10.0(65.13%),B:2091.3(2.23%),P:1e-7\n",
      "\t\tRound 2: -17.55 GAGTCMCM T:10.0(65.13%),B:2091.3(2.23%),P:1e-7\n",
      "\t\t=Final=: -17.56 GAGTCMCM T:6.0(60.00%),B:2064.8(2.23%),P:1e-7\n",
      "\t\tPerforming exhaustive masking of motif...\n",
      "\t\tReprioritizing potential motifs...\n",
      "\t6 of 25 Initial Sequence: ATCTAAGG... (-12.047)\n",
      "\t\tRound 1: -13.14 AKCTAAGG T:8.0(56.95%),B:2289.6(2.44%),P:1e-5\n",
      "\t\tRound 2: -13.14 AKCTAAGG T:8.0(56.95%),B:2289.6(2.44%),P:1e-5\n",
      "\t\t=Final=: -12.72 AKCTAAGG T:4.0(40.00%),B:1027.4(1.11%),P:1e-5\n",
      "\t\tPerforming exhaustive masking of motif...\n",
      "\t\tReprioritizing potential motifs...\n",
      "\t7 of 25 Initial Sequence: GCTCATAC... (-12.021)\n",
      "\t\tRound 1: -12.61 GCTCATAC T:6.0(46.86%),B:1061.6(1.14%),P:1e-5\n",
      "\t\tRound 2: -12.61 GCTCATAC T:6.0(46.86%),B:1061.6(1.14%),P:1e-5\n",
      "\t\t=Final=: -21.63 GCTCATAC T:6.0(60.00%),B:1040.7(1.12%),P:1e-9\n",
      "\t\tPerforming exhaustive masking of motif...\n",
      "\t\tReprioritizing potential motifs...\n",
      "\t8 of 25 Initial Sequence: AAGTCCTA... (-10.646)\n",
      "\t\tRound 1: -12.38 AAGTCCTA T:5.0(40.95%),B:1126.7(1.21%),P:1e-5\n",
      "\t\tRound 2: -12.38 AAGTCCTA T:5.0(40.95%),B:1126.7(1.21%),P:1e-5\n",
      "\t\t=Final=: -16.64 AAGTCCTA T:5.0(50.00%),B:1111.9(1.20%),P:1e-7\n",
      "\t\tPerforming exhaustive masking of motif...\n",
      "\t\tReprioritizing potential motifs...\n",
      "\t9 of 25 Initial Sequence: ATTTTAGC... (-10.582)\n",
      "\t\tRound 1: -10.58 ATTTTAGC T:4.0(34.39%),B:560.8(0.60%),P:1e-4\n",
      "\t\tRound 2: -10.58 ATTTTAGC T:4.0(34.39%),B:560.8(0.60%),P:1e-4\n",
      "\t\t=Final=: -15.14 ATTTTAGC T:4.0(40.00%),B:557.3(0.60%),P:1e-6\n",
      "\t\tPerforming exhaustive masking of motif...\n",
      "\t\tReprioritizing potential motifs...\n",
      "\t10 of 25 Initial Sequence: TTGCTGTG... (-10.549)\n",
      "\t\tRound 1: -14.93 TTGCTGTG T:10.0(65.13%),B:3280.8(3.48%),P:1e-6\n",
      "\t\tRound 2: -14.93 TTGCTGTG T:10.0(65.13%),B:3280.8(3.48%),P:1e-6\n",
      "\t\t=Final=: -18.44 TTGCTGTG T:6.0(60.00%),B:1777.7(1.92%),P:1e-8\n",
      "\t\tPerforming exhaustive masking of motif...\n",
      "\t\tReprioritizing potential motifs...\n",
      "\t11 of 25 Initial Sequence: CAGGAAAA... (-10.057)\n",
      "\t\tRound 1: -14.60 CAGGAAAA T:9.0(61.26%),B:3472.1(3.68%),P:1e-6\n",
      "\t\tRound 2: -14.60 CAGGAAAA T:9.0(61.26%),B:3472.1(3.68%),P:1e-6\n",
      "\t\t=Final=: -16.11 CAGGAAAA T:7.0(70.00%),B:4779.2(5.16%),P:1e-6\n",
      "\t\tPerforming exhaustive masking of motif...\n",
      "\t\tReprioritizing potential motifs...\n",
      "\t12 of 25 Initial Sequence: CAGACAAT... (-10.013)\n",
      "\t\tRound 1: -13.25 CAGAGAAG T:12.0(71.76%),B:7565.5(7.84%),P:1e-5\n",
      "\t\tRound 2: -13.25 CAGAGAAG T:12.0(71.76%),B:7565.5(7.84%),P:1e-5\n",
      "\t\t=Final=: -12.63 CAGAGAAG T:6.0(60.00%),B:4774.5(5.15%),P:1e-5\n",
      "\t\tPerforming exhaustive masking of motif...\n",
      "\t\tReprioritizing potential motifs...\n",
      "\t13 of 25 Initial Sequence: TGCAGGGC... (-10.018)\n",
      "\t\tRound 1: -11.79 TGCAGGGC T:5.0(40.95%),B:1310.9(1.40%),P:1e-5\n",
      "\t\tRound 2: -11.79 TGCAGGGC T:5.0(40.95%),B:1310.9(1.40%),P:1e-5\n",
      "\t\t=Final=: -15.89 TGCAGGGC T:5.0(50.00%),B:1293.3(1.40%),P:1e-6\n",
      "\t\tPerforming exhaustive masking of motif...\n",
      "\t\tReprioritizing potential motifs...\n",
      "\t14 of 25 Initial Sequence: GCAGACAA... (-9.991)\n",
      "\t\tRound 1: -9.99 GCAGACAA T:4.0(34.39%),B:684.4(0.74%),P:1e-4\n",
      "\t\tRound 2: -9.99 GCAGACAA T:4.0(34.39%),B:684.4(0.74%),P:1e-4\n",
      "\t\t=Final=: -14.34 GCAGACAA T:4.0(40.00%),B:681.3(0.74%),P:1e-6\n",
      "\t\tPerforming exhaustive masking of motif...\n",
      "\t\tReprioritizing potential motifs...\n",
      "\t15 of 25 Initial Sequence: TAGGAAGG... (-8.848)\n",
      "\t\tRound 1: -8.85 TAGGAAGG T:4.0(34.39%),B:1009.2(1.08%),P:1e-3\n",
      "\t\tRound 2: -8.85 TAGGAAGG T:4.0(34.39%),B:1009.2(1.08%),P:1e-3\n",
      "\t\t=Final=: -5.30 TAGGAAGG T:2.0(20.00%),B:1004.0(1.08%),P:1e-2\n",
      "\t\tPerforming exhaustive masking of motif...\n",
      "\t\tReprioritizing potential motifs...\n",
      "\t16 of 25 Initial Sequence: TGGAACAG... (-8.822)\n",
      "\t\tRound 1: -10.58 TGGAACAG T:6.0(46.86%),B:1789.1(1.91%),P:1e-4\n",
      "\t\tRound 2: -10.58 TGGAACAG T:6.0(46.86%),B:1789.1(1.91%),P:1e-4\n",
      "\t\t=Final=: -18.51 TGGAACAG T:6.0(60.00%),B:1758.8(1.90%),P:1e-8\n",
      "\t\tPerforming exhaustive masking of motif...\n",
      "\t\tReprioritizing potential motifs...\n",
      "\t17 of 25 Initial Sequence: GCAAAGGA... (-8.801)\n",
      "\t\tRound 1: -8.80 GCAAAGGA T:4.0(34.39%),B:1025.3(1.10%),P:1e-3\n",
      "\t\tRound 2: -8.80 GCAAAGGA T:4.0(34.39%),B:1025.3(1.10%),P:1e-3\n",
      "\t\t=Final=: -12.74 GCAAAGGA T:4.0(40.00%),B:1022.9(1.10%),P:1e-5\n",
      "\t\tPerforming exhaustive masking of motif...\n",
      "\t\tReprioritizing potential motifs...\n",
      "\t18 of 25 Initial Sequence: AAAGGGGG... (-8.413)\n",
      "\t\tRound 1: -8.46 WAAGGGGG T:7.0(52.17%),B:6163.0(6.43%),P:1e-3\n",
      "\t\tRound 2: -8.46 WAAGGGGG T:7.0(52.17%),B:6163.0(6.43%),P:1e-3\n",
      "\t\t=Final=: -12.23 WAAGGGGG T:4.0(40.00%),B:1161.2(1.25%),P:1e-5\n",
      "\t\tPerforming exhaustive masking of motif...\n",
      "\t\tReprioritizing potential motifs...\n",
      "\tRemaining seeds don't look promising (After initial 5 motifs, logp -5.917 > -7.000)\n",
      "\n",
      "\tFinalizing Enrichment Statistics (new in v3.4)\n",
      "\tReading input files...\n",
      "\t50000 total sequences read\n",
      "\tCache length = 11180\n",
      "\tUsing binomial scoring\n",
      "\tChecking enrichment of 18 motif(s)\n",
      "\t|0%                                    50%                                  100%|\n",
      "\t=================================================================================\n",
      "\tOutput in file: peaks_output/homerMotifs.motifs8\n",
      "\n",
      "\n",
      "\tScanning input files...\n",
      "\tParsing sequences...\n",
      "\t|0%                                   50%                                  100%|\n",
      "\t===============================================================================\n",
      "\tTotal number of Oligos: 482217\n",
      "\tAutoadjustment for sequence coverage in background: 1.00x\n",
      "\n",
      "\tOligos: 482217 of 551887 max\n",
      "\tTree  : 998232 of 2759435 max\n",
      "\tOptimizing memory usage...\n",
      "\tCache length = 11180\n",
      "\tUsing binomial scoring\n",
      "\n",
      "\tGlobal Optimization Phase: Looking for enriched oligos with up to 2 mismatches...\n",
      "\n",
      "\tScreening oligos 482217 (allowing 0 mismatches):\n",
      "\t|0%                                   50%                                  100%|\n",
      "\t================================================================================\n",
      "\t\t99.80% skipped, 0.20% checked (957 of 482217), of those checked:\n",
      "\t\t99.80% not in target, 0.00% increased p-value, 0.00% high p-value\n",
      "\n",
      "\tScreening oligos 482217 (allowing 1 mismatches):\n",
      "\t|0%                                   50%                                  100%|\n",
      "\t======================================================================================\n",
      "\t\t99.80% skipped, 0.20% checked (957 of 482217), of those checked:\n",
      "\t\t0.00% not in target, 0.19% increased p-value, 0.00% high p-value\n",
      "\n",
      "\tScreening oligos 482217 (allowing 2 mismatches):\n",
      "\t|0%                                   50%                                  100%|\n",
      "\t======================================================================================\n",
      "\t\t99.99% skipped, 0.01% checked (59 of 482217), of those checked:\n",
      "\t\t0.00% not in target, 0.01% increased p-value, 0.00% high p-value\n",
      "\tReading input files...\n",
      "\t50000 total sequences read\n",
      "\tCache length = 11180\n",
      "\tUsing binomial scoring\n",
      "\n",
      "\tLocal Optimization Phase:\n",
      "\t1 of 25 Initial Sequence: GCCCAGCATA... (-29.569)\n",
      "\t\tRound 1: -39.69 GCCCAGCATA T:10.0(65.13%),B:52.5(0.06%),P:1e-17\n",
      "\t\tRound 2: -39.69 GCCCAGCATA T:10.0(65.13%),B:52.5(0.06%),P:1e-17\n",
      "\t\t=Final=: -46.64 GCCCAGCATA T:6.0(60.00%),B:16.9(0.02%),P:1e-20\n",
      "\t\tPerforming exhaustive masking of motif...\n",
      "\t\tReprioritizing potential motifs...\n",
      "\t2 of 25 Initial Sequence: TGGGCTGTCG... (-24.148)\n",
      "\t\tRound 1: -24.15 TGGGCTGTCG T:4.0(34.39%),B:7.5(0.01%),P:1e-10\n",
      "\t\tRound 2: -24.15 TGGGCTGTCG T:4.0(34.39%),B:7.5(0.01%),P:1e-10\n",
      "\t\t=Final=: -32.62 TGGGCTGTCG T:4.0(40.00%),B:7.5(0.01%),P:1e-14\n",
      "\t\tPerforming exhaustive masking of motif...\n",
      "\t\tReprioritizing potential motifs...\n",
      "\t3 of 25 Initial Sequence: GCATCTAAGG... (-21.607)\n",
      "\t\tRound 1: -21.61 GCATCTAAGG T:4.0(34.39%),B:15.1(0.02%),P:1e-9\n",
      "\t\tRound 2: -21.61 GCATCTAAGG T:4.0(34.39%),B:15.1(0.02%),P:1e-9\n",
      "\t\t=Final=: -29.57 GCATCTAAGG T:4.0(40.00%),B:15.1(0.02%),P:1e-12\n",
      "\t\tPerforming exhaustive masking of motif...\n",
      "\t\tReprioritizing potential motifs...\n",
      "\t4 of 25 Initial Sequence: GAAGATATGC... (-20.691)\n",
      "\t\tRound 1: -24.51 GAAGATATGT T:12.0(71.76%),B:1429.8(1.53%),P:1e-10\n",
      "\t\tRound 2: -24.51 GAAGATATGT T:12.0(71.76%),B:1429.8(1.53%),P:1e-10\n",
      "\t\t=Final=: -30.16 GAAGATATGT T:10.0(100.00%),B:4541.6(4.90%),P:1e-13\n",
      "\t\tPerforming exhaustive masking of motif...\n",
      "\t\tReprioritizing potential motifs...\n",
      "\t5 of 25 Initial Sequence: GGGGGAAGTC... (-20.251)\n",
      "\t\tRound 1: -20.25 GGGGGAAGTC T:4.0(34.39%),B:23.2(0.02%),P:1e-8\n",
      "\t\tRound 2: -20.25 GGGGGAAGTC T:4.0(34.39%),B:23.2(0.02%),P:1e-8\n",
      "\t\t=Final=: -27.86 GGGGGAAGTC T:4.0(40.00%),B:23.2(0.03%),P:1e-12\n",
      "\t\tPerforming exhaustive masking of motif...\n",
      "\t\tReprioritizing potential motifs...\n",
      "\t6 of 25 Initial Sequence: GCTCATACAA... (-19.423)\n",
      "\t\tRound 1: -19.42 GCTCATACAA T:4.0(34.39%),B:30.8(0.03%),P:1e-8\n",
      "\t\tRound 2: -19.42 GCTCATACAA T:4.0(34.39%),B:30.8(0.03%),P:1e-8\n",
      "\t\t=Final=: -26.80 GCTCATACAA T:4.0(40.00%),B:30.8(0.03%),P:1e-11\n",
      "\t\tPerforming exhaustive masking of motif...\n",
      "\t\tReprioritizing potential motifs...\n",
      "\t7 of 25 Initial Sequence: GGGACTCAGC... (-18.693)\n",
      "\t\tRound 1: -31.02 GGRACACAGC T:12.0(71.76%),B:560.1(0.60%),P:1e-13\n",
      "\t\tRound 2: -31.02 GGRACACAGC T:12.0(71.76%),B:560.1(0.60%),P:1e-13\n",
      "\t\t=Final=: -16.91 GGRACACAGC T:4.0(40.00%),B:357.8(0.39%),P:1e-7\n",
      "\t\tPerforming exhaustive masking of motif...\n",
      "\t\tReprioritizing potential motifs...\n",
      "\t8 of 25 Initial Sequence: GGAAACTTAT... (-18.459)\n",
      "\t\tRound 1: -22.64 GAAAAMTWAT T:7.0(52.17%),B:333.6(0.36%),P:1e-9\n",
      "\t\tRound 2: -22.64 GAAAAMTWAT T:7.0(52.17%),B:333.6(0.36%),P:1e-9\n",
      "\t\t=Final=: -34.62 GAAAAMTWAT T:7.0(70.00%),B:333.3(0.36%),P:1e-15\n",
      "\t\tPerforming exhaustive masking of motif...\n",
      "\t\tReprioritizing potential motifs...\n",
      "\t9 of 25 Initial Sequence: TGAGACAGAG... (-18.408)\n",
      "\t\tRound 1: -23.47 TGAGAAAGAS T:9.0(61.26%),B:768.4(0.83%),P:1e-10\n",
      "\t\tRound 2: -23.47 TGAGAAAGAS T:9.0(61.26%),B:768.4(0.83%),P:1e-10\n",
      "\t\t=Final=: -40.89 TGAGAAAGAS T:9.0(90.00%),B:764.7(0.83%),P:1e-17\n",
      "\t\tPerforming exhaustive masking of motif...\n",
      "\t\tReprioritizing potential motifs...\n",
      "\t10 of 25 Initial Sequence: GCTGTGTTGC... (-18.385)\n",
      "\t\tRound 1: -18.69 GCTGWGTCCC T:4.0(34.39%),B:38.9(0.04%),P:1e-8\n",
      "\t\tRound 2: -18.69 GCTGWGTCCC T:4.0(34.39%),B:38.9(0.04%),P:1e-8\n",
      "\t\t=Final=: -25.85 GCTGWGTCCC T:4.0(40.00%),B:38.9(0.04%),P:1e-11\n",
      "\t\tPerforming exhaustive masking of motif...\n",
      "\t\tReprioritizing potential motifs...\n",
      "\t11 of 25 Initial Sequence: GCAGACAATG... (-18.173)\n",
      "\t\tRound 1: -18.17 GCAGACAATG T:4.0(34.39%),B:45.2(0.05%),P:1e-7\n",
      "\t\tRound 2: -18.17 GCAGACAATG T:4.0(34.39%),B:45.2(0.05%),P:1e-7\n",
      "\t\t=Final=: -25.18 GCAGACAATG T:4.0(40.00%),B:45.2(0.05%),P:1e-10\n",
      "\t\tPerforming exhaustive masking of motif...\n",
      "\t\tReprioritizing potential motifs...\n",
      "\t12 of 25 Initial Sequence: GCTCTGTCAT... (-17.790)\n",
      "\t\tRound 1: -18.46 GTTCTCTCAT T:5.0(40.95%),B:243.4(0.26%),P:1e-8\n",
      "\t\tRound 2: -18.46 GTTCTCTCAT T:5.0(40.95%),B:243.4(0.26%),P:1e-8\n",
      "\t\t=Final=: -24.20 GTTCTCTCAT T:5.0(50.00%),B:243.4(0.26%),P:1e-10\n",
      "\t\tPerforming exhaustive masking of motif...\n",
      "\t\tReprioritizing potential motifs...\n",
      "\t13 of 25 Initial Sequence: TGCTGTGTTG... (-16.236)\n",
      "\t\tRound 1: -16.24 TGCTGTGTTG T:4.0(34.39%),B:85.7(0.09%),P:1e-7\n",
      "\t\tRound 2: -16.24 TGCTGTGTTG T:4.0(34.39%),B:85.7(0.09%),P:1e-7\n",
      "\t\t=Final=: -22.63 TGCTGTGTTG T:4.0(40.00%),B:85.7(0.09%),P:1e-9\n",
      "\t\tPerforming exhaustive masking of motif...\n",
      "\t\tReprioritizing potential motifs...\n",
      "\t14 of 25 Initial Sequence: GGAAACAGCA... (-16.200)\n",
      "\t\tRound 1: -16.20 GGAAACAGCA T:4.0(34.39%),B:86.3(0.09%),P:1e-7\n",
      "\t\tRound 2: -16.20 GGAAACAGCA T:4.0(34.39%),B:86.3(0.09%),P:1e-7\n",
      "\t\t=Final=: -22.59 GGAAACAGCA T:4.0(40.00%),B:86.3(0.09%),P:1e-9\n",
      "\t\tPerforming exhaustive masking of motif...\n",
      "\t\tReprioritizing potential motifs...\n",
      "\t15 of 25 Initial Sequence: ATACCTCTCA... (-11.683)\n",
      "\t\tRound 1: -19.89 AWACCTCYCA T:5.0(40.95%),B:170.1(0.18%),P:1e-8\n",
      "\t\tRound 2: -19.89 AWACCTCYCA T:5.0(40.95%),B:170.1(0.18%),P:1e-8\n",
      "\t\t=Final=: -26.01 AWACCTCYCA T:5.0(50.00%),B:169.7(0.18%),P:1e-11\n",
      "\t\tPerforming exhaustive masking of motif...\n",
      "\t\tReprioritizing potential motifs...\n",
      "\t16 of 25 Initial Sequence: GTTCTACGAA... (-9.134)\n",
      "\t\tRound 1: -9.13 GTTCTACGAA T:1.0(10.00%),B:1.8(0.00%),P:1e-3\n",
      "\t\tRound 2: -9.13 GTTCTACGAA T:1.0(10.00%),B:1.8(0.00%),P:1e-3\n",
      "\t\t=Final=: -9.13 GTTCTACGAA T:1.0(10.00%),B:1.8(0.00%),P:1e-3\n",
      "\t\tPerforming exhaustive masking of motif...\n",
      "\t\tReprioritizing potential motifs...\n",
      "\t17 of 25 Initial Sequence: GCTTGGCGTA... (-9.134)\n",
      "\t\tRound 1: -14.54 GCTGGGCCTT T:4.0(34.39%),B:149.1(0.16%),P:1e-6\n",
      "\t\tRound 2: -14.54 GCTGGGCCTT T:4.0(34.39%),B:149.1(0.16%),P:1e-6\n",
      "\t\t=Final=: -20.39 GCTGGGCCTT T:4.0(40.00%),B:149.1(0.16%),P:1e-8\n",
      "\t\tPerforming exhaustive masking of motif...\n",
      "\t\tReprioritizing potential motifs...\n",
      "\t18 of 25 Initial Sequence: AGACTGCCGA... (-8.441)\n",
      "\t\tRound 1: -8.44 AGACTGCCGA T:2.0(19.00%),B:3.6(0.00%),P:1e-3\n",
      "\t\tRound 2: -8.44 AGACTGCCGA T:2.0(19.00%),B:3.6(0.00%),P:1e-3\n",
      "\t\t=Final=: -16.87 AGACTGCCGA T:2.0(20.00%),B:3.6(0.00%),P:1e-7\n",
      "\t\tPerforming exhaustive masking of motif...\n",
      "\t\tReprioritizing potential motifs...\n",
      "\t19 of 25 Initial Sequence: CTTTTTAAAA... (-8.072)\n",
      "\t\tRound 1: -13.51 CTTTTTAAAA T:8.0(56.95%),B:2123.7(2.26%),P:1e-5\n",
      "\t\tRound 2: -13.51 CTTTTTAAAA T:8.0(56.95%),B:2123.7(2.26%),P:1e-5\n",
      "\t\t=Final=: -6.46 CTTTTTAAAA T:2.0(20.00%),B:554.4(0.60%),P:1e-2\n",
      "\t\tPerforming exhaustive masking of motif...\n",
      "\t\tReprioritizing potential motifs...\n",
      "\t20 of 25 Initial Sequence: TACCATAGGT... (-8.036)\n",
      "\t\tRound 1: -8.04 TACCATAGGT T:2.0(19.00%),B:4.8(0.00%),P:1e-3\n",
      "\t\tRound 2: -8.04 TACCATAGGT T:2.0(19.00%),B:4.8(0.00%),P:1e-3\n",
      "\t\t=Final=: -16.29 TACCATAGGT T:2.0(20.00%),B:4.8(0.01%),P:1e-7\n",
      "\t\tPerforming exhaustive masking of motif...\n",
      "\t\tReprioritizing potential motifs...\n",
      "\t21 of 25 Initial Sequence: GGATGACGAG... (-7.525)\n",
      "\t\tRound 1: -7.53 GGATGACGAG T:1.0(10.00%),B:6.4(0.01%),P:1e-3\n",
      "\t\tRound 2: -7.53 GGATGACGAG T:1.0(10.00%),B:6.4(0.01%),P:1e-3\n",
      "\t\t=Final=: -7.34 GGATGACGAG T:1.0(10.00%),B:6.4(0.01%),P:1e-3\n",
      "\t\tPerforming exhaustive masking of motif...\n",
      "\t\tReprioritizing potential motifs...\n",
      "\t22 of 25 Initial Sequence: GGATACTAAA... (-7.343)\n",
      "\t\tRound 1: -7.34 GGATACTAAA T:1.0(10.00%),B:7.4(0.01%),P:1e-3\n",
      "\t\tRound 2: -7.34 GGATACTAAA T:1.0(10.00%),B:7.4(0.01%),P:1e-3\n",
      "\t\t=Final=: -7.19 GGATACTAAA T:1.0(10.00%),B:7.4(0.01%),P:1e-3\n",
      "\t\tPerforming exhaustive masking of motif...\n",
      "\t\tReprioritizing potential motifs...\n",
      "\tRemaining seeds don't look promising (After initial 5 motifs, logp -6.938 > -7.000)\n",
      "\n",
      "\tFinalizing Enrichment Statistics (new in v3.4)\n",
      "\tReading input files...\n",
      "\t50000 total sequences read\n",
      "\tCache length = 11180\n",
      "\tUsing binomial scoring\n",
      "\tChecking enrichment of 22 motif(s)\n",
      "\t|0%                                    50%                                  100%|\n",
      "\t=================================================================================\n",
      "\tOutput in file: peaks_output/homerMotifs.motifs10\n",
      "\n",
      "\n",
      "\t-blen automatically set to 2\n",
      "\tScanning input files...\n",
      "\tParsing sequences...\n",
      "\t|0%                                   50%                                  100%|\n",
      "\t===============================================================================\n",
      "\tTotal number of Oligos: 3742403\n",
      "\tAutoadjustment for sequence coverage in background: 1.00x\n",
      "\n",
      "\tOligos: 3742403 of 8830118 max\n",
      "\tTree  : 8475576 of 44150590 max\n",
      "\tOptimizing memory usage...\n",
      "\tCache length = 11180\n",
      "\tUsing binomial scoring\n",
      "\n",
      "\tGlobal Optimization Phase: Looking for enriched oligos with up to 2 mismatches...\n",
      "\n",
      "\tScreening oligos 3742403 (allowing 0 mismatches):\n",
      "\t|0%                                   50%                                  100%|\n",
      "\t================================================================================\n",
      "\t\t99.97% skipped, 0.03% checked (950 of 3742403), of those checked:\n",
      "\t\t99.97% not in target, 0.00% increased p-value, 0.00% high p-value\n",
      "\n",
      "\tScreening oligos 3742403 (allowing 1 mismatches):\n",
      "\t|0%                                   50%                                  100%|\n",
      "\t======================================================================================\n",
      "\t\t99.97% skipped, 0.03% checked (950 of 3742403), of those checked:\n",
      "\t\t0.00% not in target, 0.03% increased p-value, 0.00% high p-value\n",
      "\n",
      "\tScreening oligos 3742403 (allowing 2 mismatches):\n",
      "\t|0%                                   50%                                  100%|\n",
      "\t======================================================================================\n",
      "\t\t100.00% skipped, 0.00% checked (10 of 3742403), of those checked:\n",
      "\t\t0.00% not in target, 0.00% increased p-value, 0.00% high p-value\n",
      "\tReading input files...\n",
      "\t50000 total sequences read\n",
      "\tCache length = 11180\n",
      "\tUsing binomial scoring\n",
      "\n",
      "\tLocal Optimization Phase:\n",
      "\t1 of 25 Initial Sequence: GAAAAAATGTGA... (-29.523)\n",
      "\t\tRound 1: -29.52 GAAAAAATGTGA T:4.0(34.39%),B:0.0(0.00%),P:1e-12\n",
      "\t\tRound 2: -29.52 GAAAAAATGTGA T:4.0(34.39%),B:0.0(0.00%),P:1e-12\n",
      "\t\t=Final=: -40.40 GAAAAAATGTGA T:4.0(40.00%),B:0.0(0.00%),P:1e-17\n",
      "\t\tPerforming exhaustive masking of motif...\n",
      "\t\tReprioritizing potential motifs...\n",
      "\t2 of 25 Initial Sequence: CTCAGCTCATAC... (-29.523)\n",
      "\t\tRound 1: -29.52 CTCAGCTCATAC T:4.0(34.39%),B:0.3(0.00%),P:1e-12\n",
      "\t\tRound 2: -29.52 CTCAGCTCATAC T:4.0(34.39%),B:0.3(0.00%),P:1e-12\n",
      "\t\t=Final=: -40.40 CTCAGCTCATAC T:4.0(40.00%),B:0.3(0.00%),P:1e-17\n",
      "\t\tPerforming exhaustive masking of motif...\n",
      "\t\tReprioritizing potential motifs...\n",
      "\t3 of 25 Initial Sequence: AAGGGGGAAGTC... (-29.523)\n",
      "\t\tRound 1: -29.52 AAGGGGGAAGTC T:4.0(34.39%),B:0.8(0.00%),P:1e-12\n",
      "\t\tRound 2: -29.52 AAGGGGGAAGTC T:4.0(34.39%),B:0.8(0.00%),P:1e-12\n",
      "\t\t=Final=: -40.40 AAGGGGGAAGTC T:4.0(40.00%),B:0.8(0.00%),P:1e-17\n",
      "\t\tPerforming exhaustive masking of motif...\n",
      "\t\tReprioritizing potential motifs...\n",
      "\t4 of 25 Initial Sequence: CTATGCTGGGCG... (-29.523)\n",
      "\t\tRound 1: -40.40 TTATGCTGGGCA T:6.0(46.86%),B:1.5(0.00%),P:1e-17\n",
      "\t\tRound 2: -40.40 TTATGCTGGGCA T:6.0(46.86%),B:1.5(0.00%),P:1e-17\n",
      "\t\t=Final=: -63.27 TTATGCTGGGCA T:6.0(60.00%),B:1.5(0.00%),P:1e-27\n",
      "\t\tPerforming exhaustive masking of motif...\n",
      "\t\tReprioritizing potential motifs...\n",
      "\t5 of 25 Initial Sequence: AGACAATGGCTC... (-29.523)\n",
      "\t\tRound 1: -30.81 AGACAWTGTCYC T:12.0(71.76%),B:577.4(0.62%),P:1e-13\n",
      "\t\tRound 2: -33.19 AGMCRWYRKCYS T:12.0(71.76%),B:410.7(0.44%),P:1e-14\n",
      "\t\tRound 3: -37.49 AGACRAYRGCYC T:8.0(56.95%),B:18.2(0.02%),P:1e-16\n",
      "\t\tRound 4: -37.49 AGACRAYRGCYC T:8.0(56.95%),B:18.2(0.02%),P:1e-16\n",
      "\t\t=Final=: -28.84 AGACRAYRGCYC T:4.0(40.00%),B:18.2(0.02%),P:1e-12\n",
      "\t\tPerforming exhaustive masking of motif...\n",
      "\t\tReprioritizing potential motifs...\n",
      "\t6 of 25 Initial Sequence: CTGTGAAGATAT... (-29.523)\n",
      "\t\tRound 1: -31.61 CTGTGAAGATAT T:6.0(46.86%),B:10.5(0.01%),P:1e-13\n",
      "\t\tRound 2: -31.61 CTGTGAAGATAT T:6.0(46.86%),B:10.5(0.01%),P:1e-13\n",
      "\t\t=Final=: -51.60 CTGTGAAGATAT T:6.0(60.00%),B:8.0(0.01%),P:1e-22\n",
      "\t\tPerforming exhaustive masking of motif...\n",
      "\t\tReprioritizing potential motifs...\n",
      "\t7 of 25 Initial Sequence: GGGGACTCAGCC... (-29.523)\n",
      "\t\tRound 1: -29.52 GGGGACTCAGCC T:4.0(34.39%),B:2.8(0.00%),P:1e-12\n",
      "\t\tRound 2: -29.52 GGGGACTCAGCC T:4.0(34.39%),B:2.8(0.00%),P:1e-12\n",
      "\t\t=Final=: -37.63 GGGGACTCAGCC T:4.0(40.00%),B:2.8(0.00%),P:1e-16\n",
      "\t\tPerforming exhaustive masking of motif...\n",
      "\t\tReprioritizing potential motifs...\n",
      "\t8 of 25 Initial Sequence: GACAGAGCATTT... (-29.523)\n",
      "\t\tRound 1: -29.52 GACAGAGCATTT T:4.0(34.39%),B:2.6(0.00%),P:1e-12\n",
      "\t\tRound 2: -29.52 GACAGAGCATTT T:4.0(34.39%),B:2.6(0.00%),P:1e-12\n",
      "\t\t=Final=: -37.63 GACAGAGCATTT T:4.0(40.00%),B:2.6(0.00%),P:1e-16\n",
      "\t\tPerforming exhaustive masking of motif...\n",
      "\t\tReprioritizing potential motifs...\n",
      "\t9 of 25 Initial Sequence: TAGCATCTAAGG... (-29.523)\n",
      "\t\tRound 1: -29.52 TAGCATCTAAGG T:4.0(34.39%),B:0.0(0.00%),P:1e-12\n",
      "\t\tRound 2: -29.52 TAGCATCTAAGG T:4.0(34.39%),B:0.0(0.00%),P:1e-12\n",
      "\t\t=Final=: -40.40 TAGCATCTAAGG T:4.0(40.00%),B:0.0(0.00%),P:1e-17\n",
      "\t\tPerforming exhaustive masking of motif...\n",
      "\t\tReprioritizing potential motifs...\n",
      "\t10 of 25 Initial Sequence: AGCAGGAAACTT... (-29.523)\n",
      "\t\tRound 1: -29.52 AGCAGGAAACTT T:4.0(34.39%),B:1.2(0.00%),P:1e-12\n",
      "\t\tRound 2: -29.52 AGCAGGAAACTT T:4.0(34.39%),B:1.2(0.00%),P:1e-12\n",
      "\t\t=Final=: -40.40 AGCAGGAAACTT T:4.0(40.00%),B:1.2(0.00%),P:1e-17\n",
      "\t\tPerforming exhaustive masking of motif...\n",
      "\t\tReprioritizing potential motifs...\n",
      "\t11 of 25 Initial Sequence: TTGCTGTGTTGC... (-24.695)\n",
      "\t\tRound 1: -34.65 TTGCTCTGTTCC T:8.0(56.95%),B:31.6(0.03%),P:1e-15\n",
      "\t\tRound 2: -34.65 TTGCTCTGTTCC T:8.0(56.95%),B:31.6(0.03%),P:1e-15\n",
      "\t\t=Final=: -33.23 TTGCTCTGTTCC T:4.0(40.00%),B:6.4(0.01%),P:1e-14\n",
      "\t\tPerforming exhaustive masking of motif...\n",
      "\t\tReprioritizing potential motifs...\n",
      "\t12 of 25 Initial Sequence: ATTTTGCTGTGT... (-23.285)\n",
      "\t\tRound 1: -23.83 CTTTTCCTGTGT T:5.0(40.95%),B:64.6(0.07%),P:1e-10\n",
      "\t\tRound 2: -23.83 CTTTTCCTGTGT T:5.0(40.95%),B:64.6(0.07%),P:1e-10\n",
      "\t\t=Final=: -30.86 CTTTTCCTGTGT T:5.0(50.00%),B:64.6(0.07%),P:1e-13\n",
      "\t\tPerforming exhaustive masking of motif...\n",
      "\t\tReprioritizing potential motifs...\n",
      "\t13 of 25 Initial Sequence: ACAGGAACAAAT... (-9.134)\n",
      "\t\tRound 1: -15.14 ACAGCAAGAAAA T:4.0(34.39%),B:122.3(0.13%),P:1e-6\n",
      "\t\tRound 2: -15.14 ACAGCAAGAAAA T:4.0(34.39%),B:122.3(0.13%),P:1e-6\n",
      "\t\t=Final=: -21.19 ACAGCAAGAAAA T:4.0(40.00%),B:122.3(0.13%),P:1e-9\n",
      "\t\tPerforming exhaustive masking of motif...\n",
      "\t\tReprioritizing potential motifs...\n",
      "\t14 of 25 Initial Sequence: TCCCTTTGAAGG... (-9.134)\n",
      "\t\tRound 1: -9.13 TCCCTTTGAAGG T:1.0(10.00%),B:0.0(0.00%),P:1e-3\n",
      "\t\tRound 2: -9.13 TCCCTTTGAAGG T:1.0(10.00%),B:0.0(0.00%),P:1e-3\n",
      "\t\t=Final=: -9.13 TCCCTTTGAAGG T:1.0(10.00%),B:0.0(0.00%),P:1e-3\n",
      "\t\tPerforming exhaustive masking of motif...\n",
      "\t\tReprioritizing potential motifs...\n",
      "\t15 of 25 Initial Sequence: TTTCCATCCCCT... (-9.134)\n",
      "\t\tRound 1: -9.13 TTTCCATCCCCT T:1.0(10.00%),B:2.7(0.00%),P:1e-3\n",
      "\t\tRound 2: -9.13 TTTCCATCCCCT T:1.0(10.00%),B:2.7(0.00%),P:1e-3\n",
      "\t\t=Final=: -8.44 TTTCCATCCCCT T:1.0(10.00%),B:2.7(0.00%),P:1e-3\n",
      "\t\tPerforming exhaustive masking of motif...\n",
      "\t\tReprioritizing potential motifs...\n",
      "\t16 of 25 Initial Sequence: ATATGTGATATT... (-9.134)\n",
      "\t\tRound 1: -9.13 ATATGTGATATT T:1.0(10.00%),B:1.7(0.00%),P:1e-3\n",
      "\t\tRound 2: -9.13 ATATGTGATATT T:1.0(10.00%),B:1.7(0.00%),P:1e-3\n",
      "\t\t=Final=: -9.13 ATATGTGATATT T:1.0(10.00%),B:1.7(0.00%),P:1e-3\n",
      "\t\tPerforming exhaustive masking of motif...\n",
      "\t\tReprioritizing potential motifs...\n",
      "\t17 of 25 Initial Sequence: TATGAGGGGGAT... (-9.134)\n",
      "\t\tRound 1: -22.93 TATGAGAGGTAT T:4.0(34.39%),B:10.6(0.01%),P:1e-9\n",
      "\t\tRound 2: -22.93 TATGAGAGGTAT T:4.0(34.39%),B:10.6(0.01%),P:1e-9\n",
      "\t\t=Final=: -22.62 TATGAGAGGTAT T:3.0(30.00%),B:10.2(0.01%),P:1e-9\n",
      "\t\tPerforming exhaustive masking of motif...\n",
      "\t\tReprioritizing potential motifs...\n",
      "\t18 of 25 Initial Sequence: TGAGGGGGATTG... (-9.134)\n",
      "\t\tRound 1: -16.53 TBATGGGGVGTG T:5.0(40.95%),B:394.5(0.42%),P:1e-7\n",
      "\t\tRound 2: -16.53 TBATGGGGVGTG T:5.0(40.95%),B:394.5(0.42%),P:1e-7\n",
      "\t\t=Final=: -14.04 TBATGGGGVGTG T:3.0(30.00%),B:175.0(0.19%),P:1e-6\n",
      "\t\tPerforming exhaustive masking of motif...\n",
      "\t\tReprioritizing potential motifs...\n",
      "\t19 of 25 Initial Sequence: GAGGGGGATTGT... (-9.134)\n",
      "\t\tRound 1: -9.13 GAGGGGGATTGT T:1.0(10.00%),B:0.0(0.00%),P:1e-3\n",
      "\t\tRound 2: -9.13 GAGGGGGATTGT T:1.0(10.00%),B:0.0(0.00%),P:1e-3\n",
      "\t\t=Final=: -9.13 GAGGGGGATTGT T:1.0(10.00%),B:0.0(0.00%),P:1e-3\n",
      "\t\tPerforming exhaustive masking of motif...\n",
      "\t\tReprioritizing potential motifs...\n",
      "\t20 of 25 Initial Sequence: TGGGTGGAGGAT... (-9.134)\n",
      "\t\tRound 1: -9.13 TGGGTGGAGGAT T:1.0(10.00%),B:1.8(0.00%),P:1e-3\n",
      "\t\tRound 2: -9.13 TGGGTGGAGGAT T:1.0(10.00%),B:1.8(0.00%),P:1e-3\n",
      "\t\t=Final=: -9.13 TGGGTGGAGGAT T:1.0(10.00%),B:1.8(0.00%),P:1e-3\n",
      "\t\tPerforming exhaustive masking of motif...\n",
      "\t\tReprioritizing potential motifs...\n",
      "\t21 of 25 Initial Sequence: GACGAGGAGAGG... (-9.134)\n",
      "\t\tRound 1: -9.62 CACGAGGAAGTG T:3.0(27.10%),B:115.0(0.12%),P:1e-4\n",
      "\t\tRound 2: -9.62 CACGAGGAAGTG T:3.0(27.10%),B:115.0(0.12%),P:1e-4\n",
      "\t\t=Final=: -19.07 CACGAGGAAGTG T:2.0(20.00%),B:0.0(0.00%),P:1e-8\n",
      "\t\tPerforming exhaustive masking of motif...\n",
      "\t\tReprioritizing potential motifs...\n",
      "\t22 of 25 Initial Sequence: ACGAGGAGAGGG... (-9.134)\n",
      "\t\tRound 1: -9.13 ACGAGGAGAGGG T:1.0(10.00%),B:0.0(0.00%),P:1e-3\n",
      "\t\tRound 2: -9.13 ACGAGGAGAGGG T:1.0(10.00%),B:0.0(0.00%),P:1e-3\n",
      "\t\t=Final=: -9.13 ACGAGGAGAGGG T:1.0(10.00%),B:0.0(0.00%),P:1e-3\n",
      "\t\tPerforming exhaustive masking of motif...\n",
      "\t\tReprioritizing potential motifs...\n",
      "\t23 of 25 Initial Sequence: AACAGACATGTT... (-9.134)\n",
      "\t\tRound 1: -9.13 AACAGACATGTT T:1.0(10.00%),B:2.0(0.00%),P:1e-3\n",
      "\t\tRound 2: -9.13 AACAGACATGTT T:1.0(10.00%),B:2.0(0.00%),P:1e-3\n",
      "\t\t=Final=: -8.44 AACAGACATGTT T:1.0(10.00%),B:2.0(0.00%),P:1e-3\n",
      "\t\tPerforming exhaustive masking of motif...\n",
      "\t\tReprioritizing potential motifs...\n",
      "\t24 of 25 Initial Sequence: CACATATGAAAG... (-9.134)\n",
      "\t\tRound 1: -17.41 HACHTATGGAAR T:7.0(52.17%),B:956.9(1.03%),P:1e-7\n",
      "\t\tRound 2: -17.41 HACHTATGGAAR T:7.0(52.17%),B:956.9(1.03%),P:1e-7\n",
      "\t\t=Final=: -21.05 HACHTATGGAAR T:5.0(50.00%),B:457.1(0.49%),P:1e-9\n",
      "\t\tPerforming exhaustive masking of motif...\n",
      "\t\tReprioritizing potential motifs...\n",
      "\t25 of 25 Initial Sequence: CGTGAAGGCAGA... (-9.134)\n",
      "\t\tRound 1: -13.24 KATGRAGGYAGG T:5.0(40.95%),B:904.3(0.97%),P:1e-5\n",
      "\t\tRound 2: -13.24 KATGRAGGYAGG T:5.0(40.95%),B:904.3(0.97%),P:1e-5\n",
      "\t\t=Final=: -9.33 KATGRAGGYAGG T:3.0(30.00%),B:852.9(0.92%),P:1e-4\n",
      "\t\tPerforming exhaustive masking of motif...\n",
      "\t\tReprioritizing potential motifs...\n",
      "\n",
      "\tFinalizing Enrichment Statistics (new in v3.4)\n",
      "\tReading input files...\n",
      "\t50000 total sequences read\n",
      "\tCache length = 11180\n",
      "\tUsing binomial scoring\n",
      "\tChecking enrichment of 25 motif(s)\n",
      "\t|0%                                    50%                                  100%|\n",
      "\t=================================================================================\n",
      "\tOutput in file: peaks_output/homerMotifs.motifs12\n",
      "\n",
      "\t(Motifs in homer2 format)\n",
      "\tDetermining similar motifs... 65 reduced to 36 motifs\n",
      "\tOutputing HTML and sequence logos for motif comparison...\n",
      "\tChecking de novo motifs against known motifs...\n",
      "\tFormatting HTML page...\n",
      "\t\t1 of 36 (1e-27) similar to PB0206.1_Zic2_2/Jaspar(0.622)\n",
      "\t\t2 of 36 (1e-22) similar to POL009.1_DCE_S_II/Jaspar(0.595)\n",
      "\t\t3 of 36 (1e-17) similar to Rbpj1(?)/Panc1-Rbpj1-ChIP-Seq(GSE47459)/Homer(0.698)\n",
      "\t\t4 of 36 (1e-17) similar to PB0192.1_Tcfap2e_2/Jaspar(0.710)\n",
      "\t\t5 of 36 (1e-17) similar to MA0595.1_SREBF1/Jaspar(0.602)\n",
      "\t\t6 of 36 (1e-17) similar to PB0058.1_Sfpi1_1/Jaspar(0.735)\n",
      "\t\t7 of 36 (1e-17) similar to PB0084.1_Tcf7l2_1/Jaspar(0.609)\n",
      "\t\t8 of 36 (1e-17) similar to EWS:FLI1-fusion(ETS)/SK_N_MC-EWS:FLI1-ChIP-Seq(SRA014231)/Homer(0.715)\n",
      "\t\t9 of 36 (1e-16) similar to MA0591.1_Bach1::Mafk/Jaspar(0.681)\n",
      "\t\t10 of 36 (1e-16) similar to MA0501.1_NFE2::MAF/Jaspar(0.619)\n",
      "\t\t11 of 36 (1e-15) similar to MA0152.1_NFATC2/Jaspar(0.634)\n",
      "\t\t12 of 36 (1e-14) similar to PB0098.1_Zfp410_1/Jaspar(0.661)\n",
      "\t\t13 of 36 (1e-13) similar to EWS:FLI1-fusion(ETS)/SK_N_MC-EWS:FLI1-ChIP-Seq(SRA014231)/Homer(0.714)\n",
      "\t\t14 of 36 (1e-11) similar to MA0503.1_Nkx2-5_(var.2)/Jaspar(0.650)\n",
      "\t\t15 of 36 (1e-10) similar to Oct4:Sox17(POU,Homeobox,HMG)/F9-Sox17-ChIP-Seq(GSE44553)/Homer(0.800)\n",
      "\t\t16 of 36 (1e-10) similar to MA0089.1_NFE2L1::MafG/Jaspar(0.596)\n",
      "\t\t17 of 36 (1e-9) similar to MA0480.1_Foxo1/Jaspar(0.770)\n",
      "\t\t18 of 36 (1e-9) similar to PB0196.1_Zbtb7b_2/Jaspar(0.641)\n",
      "\t\t19 of 36 (1e-9) similar to Olig2(bHLH)/Neuron-Olig2-ChIP-Seq(GSE30882)/Homer(0.631)\n",
      "\t\t20 of 36 (1e-8) similar to ELF5(ETS)/T47D-ELF5-ChIP-Seq(GSE30407)/Homer(0.832)\n",
      "\t\t21 of 36 (1e-8) similar to AR-halfsite(NR)/LNCaP-AR-ChIP-Seq(GSE27824)/Homer(0.815)\n",
      "\t\t22 of 36 (1e-7) similar to PB0115.1_Ehf_2/Jaspar(0.586)\n",
      "\t\t23 of 36 (1e-7) similar to PB0134.1_Hnf4a_2/Jaspar(0.722)\n",
      "\t\t24 of 36 (1e-6) similar to PB0145.1_Mafb_2/Jaspar(0.637)\n",
      "\t\t25 of 36 (1e-6) similar to MA0056.1_MZF1_1-4/Jaspar(0.655)\n",
      "\t\t26 of 36 (1e-5) similar to MA0143.3_Sox2/Jaspar(0.701)\n",
      "\t\t27 of 36 (1e-4) similar to MA0598.1_EHF/Jaspar(0.638)\n",
      "\t\t28 of 36 (1e-3) similar to STAT5(Stat)/mCD4+-Stat5-ChIP-Seq(GSE12346)/Homer(0.743)\n",
      "\t\t29 of 36 (1e-3) similar to TCFL2(HMG)/K562-TCF7L2-ChIP-Seq(GSE29196)/Homer(0.732)\n",
      "\t\t30 of 36 (1e-3) similar to PB0105.1_Arid3a_2/Jaspar(0.655)\n",
      "\t\t31 of 36 (1e-3) similar to MA0130.1_ZNF354C/Jaspar(0.645)\n",
      "\t\t32 of 36 (1e-3) similar to PB0098.1_Zfp410_1/Jaspar(0.724)\n",
      "\t\t33 of 36 (1e-3) similar to PH0086.1_Irx5/Jaspar(0.671)\n",
      "\t\t34 of 36 (1e-3) similar to PB0108.1_Atf1_2/Jaspar(0.796)\n",
      "\t\t35 of 36 (1e-3) similar to MA0124.1_NKX3-1/Jaspar(0.665)\n",
      "\t\t36 of 36 (1e-2) similar to PB0187.1_Tcf7_2/Jaspar(0.714)\n",
      "\tJob finished - if results look good, please send beer to ..\n",
      "\n",
      "\tCleaning up tmp files...\n",
      "\n"
     ]
    }
   ],
   "source": [
    "!findMotifsGenome.pl peaks.txt mm9 peaks_output"
   ]
  },
  {
   "cell_type": "markdown",
   "metadata": {},
   "source": [
    "Let's examine the result files that were generated. "
   ]
  },
  {
   "cell_type": "code",
   "execution_count": 29,
   "metadata": {
    "collapsed": false
   },
   "outputs": [
    {
     "name": "stdout",
     "output_type": "stream",
     "text": [
      "homerMotifs.all.motifs\thomerResults\t   knownResults.txt\r\n",
      "homerMotifs.motifs10\thomerResults.html  motifFindingParameters.txt\r\n",
      "homerMotifs.motifs12\tknownResults\t   seq.autonorm.tsv\r\n",
      "homerMotifs.motifs8\tknownResults.html\r\n"
     ]
    }
   ],
   "source": [
    "!ls peaks_output/"
   ]
  },
  {
   "cell_type": "markdown",
   "metadata": {},
   "source": [
    "Significant hits for known motifs are stored in the file [knownResults.html](peaks_output/knownResults.html). \n",
    "For example, the top 5 most significant hits are: \n",
    "![Known Motif hits](images/knownMotifs.png)\n",
    "De novo motif hits (in addition to known hits) are included in the file [homerResults.html](peaks_output/homerResults.html). \n",
    "The top 5 most significant hits are: \n",
    "![De novo Motif hits](images/denovoMotifs.png)\n"
   ]
  },
  {
   "cell_type": "markdown",
   "metadata": {},
   "source": [
    "We would like to find the exact position of teh top known motif hits, NFAT:API, in our peak set. We obtain the motif file for the top hit, and use it to run the **annotatePeaks.pl** command "
   ]
  },
  {
   "cell_type": "code",
   "execution_count": 31,
   "metadata": {
    "collapsed": false
   },
   "outputs": [
    {
     "name": "stdout",
     "output_type": "stream",
     "text": [
      ">SARTGGAAAAWRTGAGTCAB\tNFAT:AP1(RHD,bZIP)/Jurkat-NFATC1-ChIP-Seq(Jolma et al.)/Homer\t8.950862\t-19.008738\t0\tT:6.0(60.00%),B:1616.9(1.74%),P:1e-8\r\n",
      "0.198\t0.289\t0.369\t0.145\r\n",
      "0.455\t0.147\t0.247\t0.152\r\n",
      "0.389\t0.159\t0.314\t0.139\r\n",
      "0.194\t0.037\t0.094\t0.675\r\n",
      "0.011\t0.001\t0.987\t0.001\r\n",
      "0.004\t0.001\t0.994\t0.001\r\n",
      "0.924\t0.024\t0.043\t0.009\r\n",
      "0.940\t0.001\t0.052\t0.007\r\n",
      "0.801\t0.054\t0.096\t0.049\r\n",
      "0.522\t0.165\t0.202\t0.111\r\n",
      "0.456\t0.052\t0.089\t0.404\r\n",
      "0.375\t0.205\t0.292\t0.129\r\n",
      "0.061\t0.036\t0.024\t0.879\r\n",
      "0.047\t0.043\t0.788\t0.122\r\n",
      "0.817\t0.022\t0.050\t0.111\r\n",
      "0.105\t0.324\t0.503\t0.068\r\n",
      "0.117\t0.069\t0.067\t0.747\r\n",
      "0.162\t0.630\t0.123\t0.085\r\n",
      "0.721\t0.056\t0.094\t0.129\r\n",
      "0.136\t0.265\t0.234\t0.366\r\n"
     ]
    }
   ],
   "source": [
    "! cat peaks_output/knownResults/known1.motif"
   ]
  },
  {
   "cell_type": "code",
   "execution_count": 32,
   "metadata": {
    "collapsed": false
   },
   "outputs": [
    {
     "name": "stdout",
     "output_type": "stream",
     "text": [
      "\n",
      "\tPeak file = peaks.txt\n",
      "\tGenome = mm9\n",
      "\tOrganism = mouse\n",
      "\tMotif files:\n",
      "\t\tpeaks_output/knownResults/known1.motif\t-m\n",
      "\tPeak/BED file conversion summary:\n",
      "\t\tBED/Header formatted lines: 10\n",
      "\t\tpeakfile formatted lines: 0\n",
      "\t\tDuplicated Peak IDs: 0\n",
      "\n",
      "\tPeak File Statistics:\n",
      "\t\tTotal Peaks: 10\n",
      "\t\tRedundant Peak IDs: 0\n",
      "\t\tPeaks lacking information: 0 (need at least 5 columns per peak)\n",
      "\t\tPeaks with misformatted coordinates: 0 (should be integer)\n",
      "\t\tPeaks with misformatted strand: 0 (should be either +/- or 0/1)\n",
      "\n",
      "\tPeak file looks good!\n",
      "\n",
      "\tExtracting Sequence...\n",
      "\n",
      "\tExtracting sequences from directory: /home/anna/homer/.//data/genomes/mm9/\n",
      "\tExtracting 10 sequences from chr3\n",
      "\tReading Positions...\n",
      "\tCalculating CpG/GC Content of Peaks\n",
      "\n",
      "\tSequences processed:\n",
      "\t\tAuto detected maximum sequence length of 473 bp\n",
      "\t\t10 total\n",
      "\n",
      "\t-----------------------\n",
      "\tLooking for Motifs...\n",
      "\n",
      "\tReading input files...\n",
      "\t10 total sequences read\n",
      "\t1 motifs loaded\n",
      "\tFinding instances of 1 motif(s)\n",
      "\t|0%                                    50%                                  100%|\n",
      "\t=================================================================================\n",
      "\tFinding Closest TSS...\n",
      "\tAnnotating:.\n",
      "\t\tAnnotation\tNumber of peaks\tTotal size (bp)\tLog2 Enrichment\n",
      "\t\t3UTR\t0.0\t1055881\t-3.322\n",
      "\t\tncRNA\t0.0\t145323\t-3.322\n",
      "\t\tTTS\t0.0\t1224356\t-3.322\n",
      "\t\tpseudo\t0.0\t46765\t-3.322\n",
      "\t\tExon\t0.0\t1510065\t-3.322\n",
      "\t\tIntron\t0.0\t45697474\t-3.322\n",
      "\t\tIntergenic\t10.0\t108503477\t0.557\n",
      "\t\tPromoter\t0.0\t1310794\t-3.322\n",
      "\t\t5UTR\t0.0\t105820\t-3.322\n",
      "\tNOTE: If this part takes more than 2 minutes, there is a good chance\n",
      "\t\tyour machine ran out of memory: consider hitting ctrl+C and rerunning\n",
      "\t\tthe command with \"-noann\"\n",
      "\tTo capture annotation stats in a file, use \"-annStats <filename>\" next time\n",
      "\tAnnotating:.\n",
      "\t\tAnnotation\tNumber of peaks\tTotal size (bp)\tLog2 Enrichment\n",
      "\t\t3UTR\t0.0\t1055881\t-3.322\n",
      "\t\tOther\t0.0\t534226\t-3.322\n",
      "\t\tRNA\t0.0\t6611\t-3.322\n",
      "\t\tncRNA\t0.0\t145323\t-3.322\n",
      "\t\tTTS\t0.0\t1224356\t-3.322\n",
      "\t\tLINE\t0.0\t36745289\t-3.322\n",
      "\t\tsrpRNA\t0.0\t1665\t-3.322\n",
      "\t\tSINE\t2.0\t9533937\t1.743\n",
      "\t\tRC\t0.0\t2629\t-3.322\n",
      "\t\ttRNA\t0.0\t18329\t-3.322\n",
      "\t\tpseudo\t0.0\t46765\t-3.322\n",
      "\t\tDNA\t0.0\t1479466\t-3.322\n",
      "\t\tExon\t0.0\t1510065\t-3.322\n",
      "\t\tIntron\t0.0\t29408221\t-3.322\n",
      "\t\tIntergenic\t8.0\t55191840\t1.210\n",
      "\t\tPromoter\t0.0\t1310794\t-3.322\n",
      "\t\t5UTR\t0.0\t105820\t-3.322\n",
      "\t\tscRNA\t0.0\t28600\t-3.322\n",
      "\t\tCpG-Island\t0.0\t146337\t-3.322\n",
      "\t\tLow_complexity\t0.0\t1191557\t-3.322\n",
      "\t\tLTR\t0.0\t16258373\t-3.322\n",
      "\t\tSimple_repeat\t0.0\t3595664\t-3.322\n",
      "\t\tsnRNA\t0.0\t18285\t-3.322\n",
      "\t\tUnknown\t0.0\t28447\t-3.322\n",
      "\t\tSatellite\t0.0\t6120\t-3.322\n",
      "\t\trRNA\t0.0\t8954\t-3.322\n",
      "\tCounting Tags in Peaks from each directory...\n",
      "\tOrganism: mouse\n",
      "\tLoading Gene Information...\n",
      "\tOutputing Annotation File...\n",
      "\tDone annotating peaks file\n",
      "\n"
     ]
    }
   ],
   "source": [
    "!annotatePeaks.pl peaks.txt mm9 -m peaks_output/knownResults/known1.motif > NFAT_API_annotation.txt"
   ]
  },
  {
   "cell_type": "code",
   "execution_count": 33,
   "metadata": {
    "collapsed": false
   },
   "outputs": [
    {
     "name": "stdout",
     "output_type": "stream",
     "text": [
      "PeakID (cmd=annotatePeaks.pl peaks.txt mm9 -m peaks_output/knownResults/known1.motif)\tChr\tStart\tEnd\tStrand\tPeak Score\tFocus Ratio/Region Size\tAnnotation\tDetailed Annotation\tDistance to TSS\tNearest PromoterID\tEntrez ID\tNearest Unigene\tNearest Refseq\tNearest Ensembl\tGene Name\tGene Alias\tGene Description\tGene Type\tCpG%\tGC%\tNFAT:AP1(RHD,bZIP)/Jurkat-NFATC1-ChIP-Seq(Jolma et al.)/Homer Distance From Peak(sequence,strand,conservation)\r\n",
      "10\tchr3\t133289678\t133290708\t+\t0\tNA\tIntergenic\tIntergenic\t-82839\tNM_001040400\t214133\tMm.347816\tNM_145989\tENSMUSG00000040943\tTet2\tAyu17-449|E130014J05Rik|mKIAA1546\ttet methylcytosine dioxygenase 2\tprotein-coding\t0.005825\t0.431620\t435(GACAGGAACAAATTAGTTAT,+,0.00)\r\n",
      "3\tchr3\t133246400\t133247068\t+\t0\tNA\tIntergenic\tPB1D10|SINE|Alu\t-39380\tNM_001040400\t214133\tMm.347816\tNM_145989\tENSMUSG00000040943\tTet2\tAyu17-449|E130014J05Rik|mKIAA1546\ttet methylcytosine dioxygenase 2\tprotein-coding\t0.013473\t0.443946\t\r\n",
      "6\tchr3\t133285837\t133287465\t+\t0\tNA\tIntergenic\tIntergenic\t-79297\tNM_001040400\t214133\tMm.347816\tNM_145989\tENSMUSG00000040943\tTet2\tAyu17-449|E130014J05Rik|mKIAA1546\ttet methylcytosine dioxygenase 2\tprotein-coding\t0.007371\t0.427256\t718(AACAGGAAAAAATGTGACTC,+,0.00)\r\n",
      "8\tchr3\t133288924\t133289534\t+\t0\tNA\tIntergenic\tIntergenic\t-81875\tNM_001040400\t214133\tMm.347816\tNM_145989\tENSMUSG00000040943\tTet2\tAyu17-449|E130014J05Rik|mKIAA1546\ttet methylcytosine dioxygenase 2\tprotein-coding\t0.008197\t0.430442\t\r\n",
      "1\tchr3\t133245431\t133245903\t+\t0\tNA\tIntergenic\tIntergenic\t-38313\tNM_001040400\t214133\tMm.347816\tNM_145989\tENSMUSG00000040943\tTet2\tAyu17-449|E130014J05Rik|mKIAA1546\ttet methylcytosine dioxygenase 2\tprotein-coding\t0.014831\t0.467230\t\r\n",
      "2\tchr3\t133246400\t133247068\t+\t0\tNA\tIntergenic\tPB1D10|SINE|Alu\t-39380\tNM_001040400\t214133\tMm.347816\tNM_145989\tENSMUSG00000040943\tTet2\tAyu17-449|E130014J05Rik|mKIAA1546\ttet methylcytosine dioxygenase 2\tprotein-coding\t0.013473\t0.443946\t\r\n",
      "9\tchr3\t133289678\t133290708\t+\t0\tNA\tIntergenic\tIntergenic\t-82839\tNM_001040400\t214133\tMm.347816\tNM_145989\tENSMUSG00000040943\tTet2\tAyu17-449|E130014J05Rik|mKIAA1546\ttet methylcytosine dioxygenase 2\tprotein-coding\t0.005825\t0.431620\t435(GACAGGAACAAATTAGTTAT,+,0.00)\r\n",
      "7\tchr3\t133285837\t133287465\t+\t0\tNA\tIntergenic\tIntergenic\t-79297\tNM_001040400\t214133\tMm.347816\tNM_145989\tENSMUSG00000040943\tTet2\tAyu17-449|E130014J05Rik|mKIAA1546\ttet methylcytosine dioxygenase 2\tprotein-coding\t0.007371\t0.427256\t718(AACAGGAAAAAATGTGACTC,+,0.00)\r\n",
      "4\tchr3\t133285837\t133287465\t+\t0\tNA\tIntergenic\tIntergenic\t-79297\tNM_001040400\t214133\tMm.347816\tNM_145989\tENSMUSG00000040943\tTet2\tAyu17-449|E130014J05Rik|mKIAA1546\ttet methylcytosine dioxygenase 2\tprotein-coding\t0.007371\t0.427256\t718(AACAGGAAAAAATGTGACTC,+,0.00)\r\n",
      "5\tchr3\t133285837\t133287465\t+\t0\tNA\tIntergenic\tIntergenic\t-79297\tNM_001040400\t214133\tMm.347816\tNM_145989\tENSMUSG00000040943\tTet2\tAyu17-449|E130014J05Rik|mKIAA1546\ttet methylcytosine dioxygenase 2\tprotein-coding\t0.007371\t0.427256\t718(AACAGGAAAAAATGTGACTC,+,0.00)\r\n"
     ]
    }
   ],
   "source": [
    "!cat NFAT_API_annotation.txt"
   ]
  }
 ],
 "metadata": {
  "anaconda-cloud": {},
  "kernelspec": {
   "display_name": "Python [Root]",
   "language": "python",
   "name": "Python [Root]"
  },
  "language_info": {
   "codemirror_mode": {
    "name": "ipython",
    "version": 3
   },
   "file_extension": ".py",
   "mimetype": "text/x-python",
   "name": "python",
   "nbconvert_exporter": "python",
   "pygments_lexer": "ipython3",
   "version": "3.5.2"
  }
 },
 "nbformat": 4,
 "nbformat_minor": 2
}
