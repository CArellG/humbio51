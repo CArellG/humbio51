{
 "cells": [
  {
   "cell_type": "markdown",
   "metadata": {},
   "source": [
    "# Big Data for Biologists: Decoding Genomic Function- Class 4\n",
    "\n",
    "## How can we compare two or more DNA sequences or compare a DNA sequence to a reference genome? \n",
    "\n",
    "##  Learning Objectives\n",
    "***Students should be able to***\n",
    " <ol>\n",
    "   <li><a href=#DefineFunction>Define and call a function in a Python script </a></li>\n",
    "   <li><a href=#Import>Import a module into a Python script</a></li>\n",
    "</ol>\n"
   ]
  },
  {
   "cell_type": "markdown",
   "metadata": {},
   "source": [
    "# Import a module into a Python script<a name='Import' />\n",
    "\n",
    "Writing the algorithms for sequence alignments is beyond the scope of this class. However, we can perform sequence alignments with the help of algorithms that have been developed and shared by others. \n",
    "\n",
    "In order to use code that has been shared by others, we first need to learn how to import the code into Python. \n",
    "\n",
    "As a starting example, we can look first at how to import the module that we created in the last class, central_dogma_helpers.py, into a Python script.\n",
    "\n",
    "Remeber, that we defined two functions in central_dogma_helpers.py: \"write_RNA_from_DNA\" and \"write_protein_from_RNA\". \n",
    "\n",
    "Once the module is imported, we will be able to call these two functions by name in our code. We will not have to write out the entire function.  \n",
    "\n",
    "In our example, we will also use the sys module that comes with the Python distribution. \n",
    "\n",
    "We've seen a few examples of the import command already in earlier classes, and now you should have a better understanding of what that command means. \n",
    "\n",
    "As a reminder, the box below has the helper functions that we wrote in the last class. We are going to make a few edits to this file. "
   ]
  },
  {
   "cell_type": "code",
   "execution_count": null,
   "metadata": {},
   "outputs": [],
   "source": [
    "%%writefile ../helpers/central_dogma_helpers_updated.py\n",
    "\n",
    "#define a function to write the RNA nucleotide sequence\n",
    "#from a DNA sequence in FASTA format\n",
    "\n",
    "def read_fasta_sequence(FASTAsequence):\n",
    "    FASTAsequence=open(FASTAsequence,'r')\n",
    "    nt_sequence=(FASTAsequence.readlines()[1:])\n",
    "    nt_sequence=''.join(nt_sequence)\n",
    "    nt_sequence=nt_sequence.replace('\\n','')\n",
    "    return(nt_sequence)\n",
    "\n",
    "def write_RNA_from_DNA(DNAsequence):\n",
    "    RNAsequence='' #this defines the variable 'complementarysequence'\n",
    "    for i in DNAsequence:\n",
    "        if i=='T':\n",
    "            RNAsequence=RNAsequence+'U'\n",
    "        else:\n",
    "            RNAsequence=RNAsequence+ i\n",
    "    return(RNAsequence)\n",
    "\n",
    "#define a function to write the protein amino acid sequence\n",
    "#from an mRNA coding sequence in FASTA format\n",
    "\n",
    "def write_protein_from_RNA(RNAsequence):\n",
    "\n",
    "    #defines the python dictionary for the one letter genetic code \n",
    "    geneticcode1let={'UUU':'F','UUC':'F','UUA':'L','UUG':'L',\n",
    "         'CUU':'L','CUC':'L','CUA':'L','CUG':'L',\n",
    "         'AUU':'I','AUC':'I','AUA':'I','AUG':'M',\n",
    "         'GUU':'V','GUC':'V','GUA':'V','GUG':'V',\n",
    "         'UCU':'S','UCC':'S','UCA':'S','UCG':'S',\n",
    "         'CCU':'P','CCC':'P','CCA':'P','CCG':'P',\n",
    "         'ACU':'T','ACC':'T','ACA':'T','ACG':'T',\n",
    "         'GCU':'A','GCC':'A','GCA':'A','GCG':'A',\n",
    "         'UAU':'Y','UAC':'Y','UAA':'*','UAG':'*',\n",
    "         'CAU':'H','CAC':'H','CAA':'Q','CAG':'Q',\n",
    "         'AAU':'N','AAC':'N','AAA':'K','AAG':'K',\n",
    "         'GAU':'D','GAC':'D','GAA':'E','GAG':'E',\n",
    "         'UGU':'C','UGC':'C','UGA':'*','UGG':'W',\n",
    "         'CGU':'R','CGC':'R','CGA':'R','CGG':'R',\n",
    "         'AGU':'S','AGC':'S','AGA':'R','AGG':'R',\n",
    "         'GGU':'G','GGC':'G','GGA':'G','GGG':'G'}\n",
    "\n",
    "    #defines the string variable proteinseq\n",
    "    proteinseq=''\n",
    "\n",
    "    #range command (start,stop(not included),step)\n",
    "\n",
    "    for i in range(0,len(RNAsequence),3): \n",
    "        proteinseq=proteinseq+str(geneticcode1let[RNAsequence[i:i+3]])\n",
    "\n",
    "    return (proteinseq)\n"
   ]
  },
  {
   "cell_type": "code",
   "execution_count": 2,
   "metadata": {},
   "outputs": [
    {
     "name": "stdout",
     "output_type": "stream",
     "text": [
      "RNAsequence:  AUGGCCCUGUGGAUGCGCCUCCUGCCCCUGCUGGCGCUGCUGGCCCUCUGGGGACCUGACCCAGCCGCAGCCUUUGUGAACCAACACCUGUGCGGCUCACACCUGGUGGAAGCUCUCUACCUAGUGUGCGGGGAACGAGGCUUCUUCUACACACCCAAGACCCGCCGGGAGGCAGAGGACCUGCAGGUGGGGCAGGUGGAGCUGGGCGGGGGCCCUGGUGCAGGCAGCCUGCAGCCCUUGGCCCUGGAGGGGUCCCUGCAGAAGCGUGGCAUUGUGGAACAAUGCUGUACCAGCAUCUGCUCCCUCUACCAGCUGGAGAACUACUGCAACUAG\n",
      "\n",
      "Protein Sequence:MALWMRLLPLLALLALWGPDPAAAFVNQHLCGSHLVEALYLVCGERGFFYTPKTRREAEDLQVGQVELGGGPGAGSLQPLALEGSLQKRGIVEQCCTSICSLYQLENYCN\n"
     ]
    }
   ],
   "source": [
    "#Tells python where to look for .py files\n",
    "#adds ../helpers to the list of directories where to look for .py files. \n",
    "#The list of directories to look in is called the \"path\". \n",
    "#sys is a pre-installed module that comes with standard Python distributions (https://docs.python.org/3.6/library/sys.html)\n",
    " \n",
    "import sys\n",
    "sys.path.append('../helpers')\n",
    "\n",
    "#Imports the module central_dogma_helpers.py\n",
    "import central_dogma_helpers_updated\n",
    "\n",
    "#Import the names of all the functions in central_dogma_helpers.py\n",
    "#The names of all the functions is denoted by the *. \n",
    "#You could also import each function by its individual name. \n",
    "#Or you could call each function by using the syntax central_dogma_helpers.function name\"\"\"\n",
    "\n",
    "from central_dogma_helpers_updated import *\n",
    "\n",
    "#Runs the two functions in central_dogma_helpers\n",
    "\n",
    "human_insulin_NM_000207=read_fasta_sequence('../class_01_gene_sequences/data/Human-Insulin NM_000207.2.txt')\n",
    "\n",
    "human_insulin_mRNAsequence=write_RNA_from_DNA(human_insulin_NM_000207[59:392])\n",
    "    \n",
    "human_insulin_proteinsequence=write_protein_from_RNA(human_insulin_mRNAsequence[0:(len(human_insulin_mRNAsequence)-3)])\n",
    "\n",
    "#Prints the output \n",
    "print('RNAsequence:  '+ human_insulin_mRNAsequence)\n",
    "print('\\n'+'Protein Sequence:'+ human_insulin_proteinsequence)"
   ]
  },
  {
   "cell_type": "code",
   "execution_count": null,
   "metadata": {},
   "outputs": [],
   "source": [
    "import sys\n",
    "help (sys)"
   ]
  }
 ],
 "metadata": {
  "anaconda-cloud": {},
  "kernelspec": {
   "display_name": "Python 3",
   "language": "python",
   "name": "python3"
  },
  "language_info": {
   "codemirror_mode": {
    "name": "ipython",
    "version": 3
   },
   "file_extension": ".py",
   "mimetype": "text/x-python",
   "name": "python",
   "nbconvert_exporter": "python",
   "pygments_lexer": "ipython3",
   "version": "3.5.3"
  }
 },
 "nbformat": 4,
 "nbformat_minor": 1
}
