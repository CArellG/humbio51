{
 "cells": [
  {
   "cell_type": "markdown",
   "metadata": {},
   "source": [
    "## Big Data for Biologists: Using Python to analyze genomes - Class 13\n",
    "\n",
    "\n",
    "##  Learning Objectives\n",
    "***Students should be able to***\n",
    " <ol>\n",
    "    \n",
    "<li> <a href=#Arithmetic>Use the bedtools closest and bedtools intersect functions be used to identify expressed genes from active promoter and strong enhancer sites.</a></li>\n",
    "<li> <a href=#Subtract>Use the bedtools subtract command be used to compare the activity of promoters and enhancers across cell types. </a></li>\n",
    "<li> <a href=#IntersectBed> Use the intersectBed command to extract sequences corresponding to promoter or enhancer regions for a gene from CHiP-seq data </a></li> \n",
    "\n",
    " <li><a href=#pipeline> Understand the standard pipeline for calling variants in sequence data </a></li>\n",
    " <li><a href=#bwa>Use the BWA aligner to align whole genome sequence reads to a reference genome.</a></li>\n",
    " <li><a href=#samtools>use samtools and bcftools to call and filter variants from BWA alignment files  </a></li>\n",
    " <li><a href=#vcf>Understand how to use data in the variant call format (VCF) file format.</a></li>\n",
    " <li><a href=#tabix>Use the tabix tool to query a VCF file.  </a></li>\n"
   ]
  },
  {
   "cell_type": "markdown",
   "metadata": {},
   "source": [
    "## Using the bedtools closest and bedtools intersect functions be used to identify expressed genes from active promoter and strong enhancer sites. <a name='Arithmetic' />"
   ]
  },
  {
   "cell_type": "markdown",
   "metadata": {},
   "source": [
    "We obtain a list of promoters and enhancers for the H1-hESC cell line (embryonic stem cells) from ENCODE [here](http://genome.ucsc.edu/cgi-bin/hgFileUi?db=hg19&g=wgEncodeBroadHmm). Both files are in the [Bed6 format](https://genome.ucsc.edu/FAQ/FAQformat#format1). By comparing the location of active promoters and strong enhancers in the genome to the location of genes, we can get a good sense of which genes are active. \n",
    "\n",
    "Let's examine the contents of the active promoter and strong enhancer files: "
   ]
  },
  {
   "cell_type": "code",
   "execution_count": 15,
   "metadata": {},
   "outputs": [
    {
     "name": "stdout",
     "output_type": "stream",
     "text": [
      "chr1\t28537\t30137\t1_Active_Promoter\t0\t.\t28537\t30137\t255,0,0\r\n",
      "chr1\t713337\t714937\t1_Active_Promoter\t0\t.\t713337\t714937\t255,0,0\r\n",
      "chr1\t762337\t762937\t1_Active_Promoter\t0\t.\t762337\t762937\t255,0,0\r\n",
      "chr1\t1092937\t1093137\t1_Active_Promoter\t0\t.\t1092937\t1093137\t255,0,0\r\n",
      "chr1\t1166937\t1167337\t1_Active_Promoter\t0\t.\t1166937\t1167337\t255,0,0\r\n",
      "chr1\t1208737\t1209337\t1_Active_Promoter\t0\t.\t1208737\t1209337\t255,0,0\r\n",
      "chr1\t1244137\t1244737\t1_Active_Promoter\t0\t.\t1244137\t1244737\t255,0,0\r\n",
      "chr1\t1259737\t1260137\t1_Active_Promoter\t0\t.\t1259737\t1260137\t255,0,0\r\n",
      "chr1\t1284937\t1285337\t1_Active_Promoter\t0\t.\t1284937\t1285337\t255,0,0\r\n",
      "chr1\t1310137\t1311337\t1_Active_Promoter\t0\t.\t1310137\t1311337\t255,0,0\r\n"
     ]
    }
   ],
   "source": [
    "# The active promoter file: \n",
    "!head -n10 data/wgEncodeBroadHmmH1hescHMM.active_promoters.bed"
   ]
  },
  {
   "cell_type": "code",
   "execution_count": 16,
   "metadata": {},
   "outputs": [
    {
     "name": "stdout",
     "output_type": "stream",
     "text": [
      "chr1\t36337\t36537\t5_Strong_Enhancer\t0\t.\t36337\t36537\t250,202,0\r\n",
      "chr1\t780737\t781137\t5_Strong_Enhancer\t0\t.\t780737\t781137\t250,202,0\r\n",
      "chr1\t948337\t949337\t4_Strong_Enhancer\t0\t.\t948337\t949337\t250,202,0\r\n",
      "chr1\t958937\t960337\t5_Strong_Enhancer\t0\t.\t958937\t960337\t250,202,0\r\n",
      "chr1\t960337\t960737\t4_Strong_Enhancer\t0\t.\t960337\t960737\t250,202,0\r\n",
      "chr1\t960737\t960937\t5_Strong_Enhancer\t0\t.\t960737\t960937\t250,202,0\r\n",
      "chr1\t1093137\t1093737\t4_Strong_Enhancer\t0\t.\t1093137\t1093737\t250,202,0\r\n",
      "chr1\t1093737\t1094137\t5_Strong_Enhancer\t0\t.\t1093737\t1094137\t250,202,0\r\n",
      "chr1\t1112337\t1112737\t5_Strong_Enhancer\t0\t.\t1112337\t1112737\t250,202,0\r\n",
      "chr1\t1240337\t1241137\t5_Strong_Enhancer\t0\t.\t1240337\t1241137\t250,202,0\r\n"
     ]
    }
   ],
   "source": [
    "#The strong enhancer file: \n",
    "!head -n10 data/wgEncodeBroadHmmH1hescHMM.strong_enhancers.bed"
   ]
  },
  {
   "cell_type": "markdown",
   "metadata": {},
   "source": [
    "We also have a list of gene coordinates for the hg19 human reference genome. The column meanings are as follows: \n",
    "* column 1: Chromosome name \n",
    "* column 2: Start of transcription \n",
    "* column 3: End of transcription \n",
    "* column 4: Chromatin state \n",
    "* column 5: Place holder (you can ignore this) \n",
    "* column 6: Strand information"
   ]
  },
  {
   "cell_type": "code",
   "execution_count": 17,
   "metadata": {},
   "outputs": [
    {
     "name": "stdout",
     "output_type": "stream",
     "text": [
      "chr1\t11868\t14362\tLOC102725121\t0\t+\r\n",
      "chr1\t11873\t14409\tDDX11L1\t0\t+\r\n",
      "chr1\t14361\t29370\tWASH7P\t0\t-\r\n",
      "chr1\t17368\t17436\tMIR6859-2\t0\t-\r\n",
      "chr1\t17368\t17436\tMIR6859-4\t0\t-\r\n",
      "chr1\t17368\t17436\tMIR6859-3\t0\t-\r\n",
      "chr1\t17368\t17436\tMIR6859-1\t0\t-\r\n",
      "chr1\t30365\t30503\tMIR1302-10\t0\t+\r\n",
      "chr1\t30365\t30503\tMIR1302-11\t0\t+\r\n",
      "chr1\t30365\t30503\tMIR1302-2\t0\t+\r\n"
     ]
    }
   ],
   "source": [
    "!head -n10 data/hg19.gene_coords.bed"
   ]
  },
  {
   "cell_type": "markdown",
   "metadata": {},
   "source": [
    "We use the **wc** command to determine the total number of genes in the reference genome: "
   ]
  },
  {
   "cell_type": "code",
   "execution_count": 18,
   "metadata": {},
   "outputs": [
    {
     "name": "stdout",
     "output_type": "stream",
     "text": [
      "27778 data/hg19.gene_coords.bed\r\n"
     ]
    }
   ],
   "source": [
    "!wc -l data/hg19.gene_coords.bed"
   ]
  },
  {
   "cell_type": "markdown",
   "metadata": {},
   "source": [
    "We would like to see which genes are expressed in the H1-hESC cell type. In the pre-class assignment you looked at the documentation for the [bedtools intersect](http://bedtools.readthedocs.io/en/latest/content/tools/intersect.html) command. We can now use this command to intersect the file of active promoters with the list of gene coordinates to determine which genes are being expressed. "
   ]
  },
  {
   "cell_type": "code",
   "execution_count": 19,
   "metadata": {},
   "outputs": [],
   "source": [
    "!bedtools intersect -u -wa -a data/hg19.gene_coords.bed  -b data/wgEncodeBroadHmmH1hescHMM.active_promoters.bed  > expressed_genes_H1.active_promoters.bed"
   ]
  },
  {
   "cell_type": "markdown",
   "metadata": {},
   "source": [
    "Let's examine the resulting file to see which genes intersect active promoters and are therefore turned on in the H1 cell line:"
   ]
  },
  {
   "cell_type": "code",
   "execution_count": 20,
   "metadata": {},
   "outputs": [
    {
     "name": "stdout",
     "output_type": "stream",
     "text": [
      "chr1\t14361\t29370\tWASH7P\t0\t-\r\n",
      "chr1\t700244\t714068\tLOC100288069\t0\t-\r\n",
      "chr1\t761585\t762902\tLINC00115\t0\t-\r\n",
      "chr1\t1152287\t1167447\tSDF4\t0\t-\r\n",
      "chr1\t1189291\t1209234\tUBE2J2\t0\t-\r\n",
      "chr1\t1243959\t1247057\tPUSL1\t0\t+\r\n",
      "chr1\t1246964\t1260067\tINTS11\t0\t-\r\n",
      "chr1\t1309109\t1310580\tAURKAIP1\t0\t-\r\n",
      "chr1\t1334909\t1337426\tLOC148413\t0\t+\r\n",
      "chr1\t1337275\t1342693\tMRPL20\t0\t-\r\n"
     ]
    }
   ],
   "source": [
    "!head -n10 expressed_genes_H1.active_promoters.bed"
   ]
  },
  {
   "cell_type": "markdown",
   "metadata": {},
   "source": [
    "We can use the **wc** command to see how many genes are expressed in total: "
   ]
  },
  {
   "cell_type": "code",
   "execution_count": 21,
   "metadata": {},
   "outputs": [
    {
     "name": "stdout",
     "output_type": "stream",
     "text": [
      "10081 expressed_genes_H1.active_promoters.bed\r\n"
     ]
    }
   ],
   "source": [
    "! wc -l expressed_genes_H1.active_promoters.bed "
   ]
  },
  {
   "cell_type": "markdown",
   "metadata": {},
   "source": [
    "Looks like there are 10,081 expressed genes in the cell line, which is slightly less than half of all reference genes. \n",
    "\n",
    "Now, let's try the same intersection for the strong enhancers: "
   ]
  },
  {
   "cell_type": "code",
   "execution_count": 22,
   "metadata": {},
   "outputs": [],
   "source": [
    "!bedtools intersect -u -wa -a data/hg19.gene_coords.bed -b data/wgEncodeBroadHmmH1hescHMM.strong_enhancers.bed > expressed_genes_H1.strong_enhancers.bed "
   ]
  },
  {
   "cell_type": "markdown",
   "metadata": {},
   "source": [
    "Let's see how many genes show up as intersecting a strong  enhancer:"
   ]
  },
  {
   "cell_type": "code",
   "execution_count": 23,
   "metadata": {},
   "outputs": [
    {
     "name": "stdout",
     "output_type": "stream",
     "text": [
      "4158 expressed_genes_H1.strong_enhancers.bed\r\n"
     ]
    }
   ],
   "source": [
    "!wc -l expressed_genes_H1.strong_enhancers.bed"
   ]
  },
  {
   "cell_type": "markdown",
   "metadata": {},
   "source": [
    "Note that we observe a much smaller number of genes -- only 4158 as opposed to 10081 when we examined intersection with active promoters. What could account for this difference? There are two possible explanations. \n",
    "\n",
    "Not every expressed gene will be associated with a strong enhancer. Some may be associated with a weak enhancer, or not  have an associated enhancer at all. \n",
    "\n",
    "Additionally, many enhancers are distal-acting -- they are located several hundred bases away from the target gene. After a transcription factor has bound to the enhancer region, the DNA must form a loop to bring the transcription factor into contact with the target gene: \n",
    "![Enhancers are several hundred bases away from target genes](../Images/13_enhancer_position.png)"
   ]
  },
  {
   "cell_type": "markdown",
   "metadata": {},
   "source": [
    "So we don't expect most of the enhancers to intersect the target gene. However, we expect the enhancer to be fairly close to the target gene. Generally (but not always!), the closest gene to a strong enhancer is that enhancer's target gene. We can then identify expressed genes from our list of strong enhancers by using the [**bedtools closest**](http://bedtools.readthedocs.io/en/latest/content/tools/closest.html) command. "
   ]
  },
  {
   "cell_type": "markdown",
   "metadata": {},
   "source": [
    "*closest* searches for overlapping features in A and B. In the event that no feature in B overlaps the current feature in A, closest will report the nearest (that is, least genomic distance from the start or end of A) feature in B. Note that closest will report an overlapping feature as the closest—that is, it does not restrict to closest non-overlapping feature. The following iconic “cheatsheet” summarizes the funcitonality available through the various options provided by the closest tool.\n",
    "![bedtools closest cheat sheet](../Images/11_bedtools_closest_cheatsheet.png)\n"
   ]
  },
  {
   "cell_type": "markdown",
   "metadata": {},
   "source": [
    "We would like to know how far the enhancer is from the target gene, so we add the -d flag to report this distance. We would also like all genes to be reported in the case of ties, so we use the *-t all* flag. "
   ]
  },
  {
   "cell_type": "code",
   "execution_count": 24,
   "metadata": {},
   "outputs": [],
   "source": [
    "!bedtools closest -d -t all -a data/wgEncodeBroadHmmH1hescHMM.strong_enhancers.bed -b data/hg19.gene_coords.bed > expressed_genes.closest.bed "
   ]
  },
  {
   "cell_type": "markdown",
   "metadata": {},
   "source": [
    "Let's examine the output:"
   ]
  },
  {
   "cell_type": "code",
   "execution_count": 25,
   "metadata": {},
   "outputs": [
    {
     "name": "stdout",
     "output_type": "stream",
     "text": [
      "chr1\t36337\t36537\t5_Strong_Enhancer\t0\t.\t36337\t36537\t250,202,0\tchr1\t34610\t36081\tFAM138F\t0\t-\t257\r\n",
      "chr1\t36337\t36537\t5_Strong_Enhancer\t0\t.\t36337\t36537\t250,202,0\tchr1\t34610\t36081\tFAM138A\t0\t-\t257\r\n",
      "chr1\t780737\t781137\t5_Strong_Enhancer\t0\t.\t780737\t781137\t250,202,0\tchr1\t762970\t778984\tLINC01128\t0\t+\t1754\r\n",
      "chr1\t948337\t949337\t4_Strong_Enhancer\t0\t.\t948337\t949337\t250,202,0\tchr1\t948846\t949919\tISG15\t0\t+\t0\r\n",
      "chr1\t958937\t960337\t5_Strong_Enhancer\t0\t.\t958937\t960337\t250,202,0\tchr1\t955502\t991499\tAGRN\t0\t+\t0\r\n",
      "chr1\t960337\t960737\t4_Strong_Enhancer\t0\t.\t960337\t960737\t250,202,0\tchr1\t955502\t991499\tAGRN\t0\t+\t0\r\n",
      "chr1\t960737\t960937\t5_Strong_Enhancer\t0\t.\t960737\t960937\t250,202,0\tchr1\t955502\t991499\tAGRN\t0\t+\t0\r\n",
      "chr1\t1093137\t1093737\t4_Strong_Enhancer\t0\t.\t1093137\t1093737\t250,202,0\tchr1\t1102483\t1102578\tMIR200B\t0\t+\t8747\r\n",
      "chr1\t1093737\t1094137\t5_Strong_Enhancer\t0\t.\t1093737\t1094137\t250,202,0\tchr1\t1102483\t1102578\tMIR200B\t0\t+\t8347\r\n",
      "chr1\t1112337\t1112737\t5_Strong_Enhancer\t0\t.\t1112337\t1112737\t250,202,0\tchr1\t1109285\t1133313\tTTLL10\t0\t+\t0\r\n"
     ]
    }
   ],
   "source": [
    "!head -n10 expressed_genes.closest.bed "
   ]
  },
  {
   "cell_type": "markdown",
   "metadata": {},
   "source": [
    "Perform a sort operation on the gene name column (column 13) to count the number of unique genes identified by the *bedtools closest* command: "
   ]
  },
  {
   "cell_type": "code",
   "execution_count": 26,
   "metadata": {},
   "outputs": [
    {
     "name": "stdout",
     "output_type": "stream",
     "text": [
      "6975 tmp3\r\n"
     ]
    }
   ],
   "source": [
    "#cut column 13 from the bed file (this contains the gene names)\n",
    "!cut -f13 expressed_genes.closest.bed > tmp1\n",
    "\n",
    "#sort the gene names \n",
    "!sort  tmp1 > tmp2 \n",
    "#get the unique gene names from the sorted data. \n",
    "!uniq tmp2 > tmp3 \n",
    "\n",
    "#count the number of lines in the file. \n",
    "!wc -l tmp3 "
   ]
  },
  {
   "cell_type": "markdown",
   "metadata": {},
   "source": [
    "Now we see 6975 genes, as opposed to 4185 when we used the bedtools intersect command. "
   ]
  },
  {
   "cell_type": "markdown",
   "metadata": {},
   "source": [
    "## Use the bedtools subtract command be used to compare the activity of promoters and enhancers across cell types. <a name='Subtract' />"
   ]
  },
  {
   "cell_type": "markdown",
   "metadata": {},
   "source": [
    "How would the gene expression profile change if we examined a different cell type? We have downloaded data for the Hepg cell line (from the liver). We repeat our analysis from above: "
   ]
  },
  {
   "cell_type": "code",
   "execution_count": 27,
   "metadata": {},
   "outputs": [
    {
     "name": "stdout",
     "output_type": "stream",
     "text": [
      "chr1\t28337\t29937\t1_Active_Promoter\t0\t.\t28337\t29937\t255,0,0\r\n",
      "chr1\t135737\t136137\t1_Active_Promoter\t0\t.\t135737\t136137\t255,0,0\r\n",
      "chr1\t137537\t138937\t1_Active_Promoter\t0\t.\t137537\t138937\t255,0,0\r\n",
      "chr1\t325537\t326537\t1_Active_Promoter\t0\t.\t325537\t326537\t255,0,0\r\n",
      "chr1\t327137\t328137\t1_Active_Promoter\t0\t.\t327137\t328137\t255,0,0\r\n",
      "chr1\t661537\t662737\t1_Active_Promoter\t0\t.\t661537\t662737\t255,0,0\r\n",
      "chr1\t662937\t664737\t1_Active_Promoter\t0\t.\t662937\t664737\t255,0,0\r\n",
      "chr1\t713337\t715737\t1_Active_Promoter\t0\t.\t713337\t715737\t255,0,0\r\n",
      "chr1\t761737\t763537\t1_Active_Promoter\t0\t.\t761737\t763537\t255,0,0\r\n",
      "chr1\t893737\t894737\t1_Active_Promoter\t0\t.\t893737\t894737\t255,0,0\r\n"
     ]
    }
   ],
   "source": [
    "# Here is the file of active promoter regions in the Hepg2 cell line: \n",
    "!head -n10 data/wgEncodeBroadHmmHepg2HMM.active_promoters.bed"
   ]
  },
  {
   "cell_type": "code",
   "execution_count": 28,
   "metadata": {},
   "outputs": [],
   "source": [
    "#YOUR CODE HERE: \n",
    "#Intersect the active promoters file with the gene coordinates file to get the list of expressed genes \n",
    "# in the Hepg2 cell line "
   ]
  },
  {
   "cell_type": "code",
   "execution_count": 29,
   "metadata": {},
   "outputs": [
    {
     "name": "stdout",
     "output_type": "stream",
     "text": [
      "chr1\t11537\t11937\t4_Strong_Enhancer\t0\t.\t11537\t11937\t250,202,0\r\n",
      "chr1\t18137\t19137\t5_Strong_Enhancer\t0\t.\t18137\t19137\t250,202,0\r\n",
      "chr1\t19137\t21537\t4_Strong_Enhancer\t0\t.\t19137\t21537\t250,202,0\r\n",
      "chr1\t27537\t27737\t5_Strong_Enhancer\t0\t.\t27537\t27737\t250,202,0\r\n",
      "chr1\t27737\t28337\t4_Strong_Enhancer\t0\t.\t27737\t28337\t250,202,0\r\n",
      "chr1\t136537\t137537\t5_Strong_Enhancer\t0\t.\t136537\t137537\t250,202,0\r\n",
      "chr1\t463537\t464337\t5_Strong_Enhancer\t0\t.\t463537\t464337\t250,202,0\r\n",
      "chr1\t696537\t697337\t5_Strong_Enhancer\t0\t.\t696537\t697337\t250,202,0\r\n",
      "chr1\t939937\t941137\t4_Strong_Enhancer\t0\t.\t939937\t941137\t250,202,0\r\n",
      "chr1\t942137\t942537\t4_Strong_Enhancer\t0\t.\t942137\t942537\t250,202,0\r\n"
     ]
    }
   ],
   "source": [
    "#Here is the file of strong enhancers in the Hegp2 cell line: \n",
    "!head -n10 data/wgEncodeBroadHmmHepg2HMM.strong_enhancers.bed"
   ]
  },
  {
   "cell_type": "code",
   "execution_count": 30,
   "metadata": {},
   "outputs": [],
   "source": [
    "#YOUR CODE HERE: \n",
    "# Use the bedtools closest command to map strong enhancers to active genes  "
   ]
  },
  {
   "cell_type": "markdown",
   "metadata": {},
   "source": [
    "We are now interested in the different genes that are expressed in the H1 cell line as compared to the Hepg2 cell line. We can use the [bedtools subtract](http://bedtools.readthedocs.io/en/latest/content/tools/subtract.html) command to identify entries that are present in one bed file but not present in another bed file. \n",
    "\n",
    "The syntax for this command is: \n",
    "\n",
    "bedtools subtract -a **fileA** -b **fileB**\n",
    "\n",
    "Any region from fileB that overlaps a region in fileA will be subtracted from fileA: \n",
    "\n",
    "![bedtools closest cheat sheet](../Images/12_subtract.png)\n",
    "\n",
    "\n"
   ]
  },
  {
   "cell_type": "code",
   "execution_count": 31,
   "metadata": {},
   "outputs": [],
   "source": [
    "#Subtracting the promoter-intersected genes of the H1 cell line from \n",
    "#the promoter-intersected genes of the Hepg2 cell line. "
   ]
  },
  {
   "cell_type": "code",
   "execution_count": 32,
   "metadata": {},
   "outputs": [],
   "source": [
    "#Subtracting the promoter-interested genes of the Hepg2 cell line from \n",
    "#the promoter-intersected genes of the H1 cell line."
   ]
  },
  {
   "cell_type": "markdown",
   "metadata": {},
   "source": [
    "## Use the intersectBed command to extract sequences corresponding to promoter or enhancer regions for a gene from ChIP-seq data <a name='IntersectBed'>"
   ]
  },
  {
   "cell_type": "markdown",
   "metadata": {},
   "source": [
    "We have fetched a list of enhancer-like and promoter-like regions for the H1 embryonic stem cell line in humans (hg19)\n",
    "\n",
    "These are stored in the following files: \n",
    "\n",
    "**ENCSR000DRY_predictions_promoter.bed** for the promoter file.\n",
    "\n",
    "**ENCSR000ANP_predictions_enhancer.bed** for the enhnacer file. "
   ]
  },
  {
   "cell_type": "code",
   "execution_count": 33,
   "metadata": {},
   "outputs": [
    {
     "name": "stdout",
     "output_type": "stream",
     "text": [
      "chr1\t16968848\t16972028\tProximal-Prediction-1\t1\t.\t16969400\t16972028\t255,0,0\r\n",
      "chr14\t106319455\t106330488\tProximal-Prediction-2\t1\t.\t106319455\t106330488\t255,0,0\r\n",
      "chr6\t389137\t406874\tProximal-Prediction-3\t1\t.\t389137\t396570\t255,0,0\r\n",
      "chr19\t3976995\t3988681\tProximal-Prediction-4\t1\t.\t3978987\t3988681\t255,0,0\r\n",
      "chr10\t74031955\t74037122\tProximal-Prediction-5\t1\t.\t74031955\t74037122\t255,0,0\r\n",
      "chr19\t2474291\t2480235\tProximal-Prediction-6\t1\t.\t2474291\t2480235\t255,0,0\r\n",
      "chr12\t6640941\t6648180\tProximal-Prediction-7\t1\t.\t6640941\t6648180\t255,0,0\r\n",
      "chr7\t5564691\t5573373\tProximal-Prediction-8\t1\t.\t5564691\t5573373\t255,0,0\r\n",
      "chr1\t28903429\t28909930\tProximal-Prediction-9\t1\t.\t28904117\t28909930\t255,0,0\r\n",
      "chr19\t6527779\t6536785\tProximal-Prediction-10\t1\t.\t6529869\t6535190\t255,0,0\r\n"
     ]
    }
   ],
   "source": [
    "!head ENCSR000DRY_predictions_promoter.bed"
   ]
  },
  {
   "cell_type": "markdown",
   "metadata": {},
   "source": [
    "#### What file format is the data in? What is contained in each of the first five columns? \n",
    "Your answer: \n",
    "    \n",
    "#### Bonus question -- can you explain the meaning of the remaining columns in the file (column 6 and up)? \n",
    "Your answer:"
   ]
  },
  {
   "cell_type": "markdown",
   "metadata": {},
   "source": [
    "Prior studies have shown that the gene **LIN28A** is associated with cell differentiation, and you hypothesize that this gene is likely to be expressed in the H1 cell line, as these are embryonic cells that are undergoing differentiation.  Look up LIN28A in the [WashU Genome Browser](http://epigenomegateway.wustl.edu/browser/) to find the chromosome and position of the LIN28A gene.  Fill in the chromosome and the starting and ending coordinates of LIN28A below:"
   ]
  },
  {
   "cell_type": "code",
   "execution_count": 34,
   "metadata": {},
   "outputs": [],
   "source": [
    "chrom_lin28a=\"chr1\" #replace \"\" with the chromosome of the gene \n",
    "startpos_lin28a=26737268 #replace None with the gene start position \n",
    "endpos_lin28a=26756219 #replace None with the gene end position\n"
   ]
  },
  {
   "cell_type": "markdown",
   "metadata": {},
   "source": [
    "We will use the bedtools intersect command to find the H1  promoter and enhancer peaks that are within 50kb of the LIN28A gene. "
   ]
  },
  {
   "cell_type": "code",
   "execution_count": 35,
   "metadata": {},
   "outputs": [],
   "source": [
    "#You need to store LIN28A's coordinates in a bed file in order to run the intersect command \n",
    "## Execute this code block to generate a bed file containing the LIN28A coordinates, including regions 50k \n",
    "## upstream & downstream of the gene \n",
    "\n",
    "#add 50kb to the start and end coordinates \n",
    "startpos_lin28a-=50000\n",
    "endpos_lin28a+=50000\n",
    "\n",
    "outf=open(\"LIN28A.coords.bed\",'w')\n",
    "\n",
    "#convert coordinates to string values in preparation for writing to output file\n",
    "output_line=[str(i) for i in [chrom_lin28a,startpos_lin28a,endpos_lin28a,'lin28a'] ]\n",
    "\n",
    "#write the coordinates to the output file. \n",
    "outf.write('\\t'.join(output_line)+'\\n')\n",
    "\n",
    "#close the output file.\n",
    "outf.close() "
   ]
  },
  {
   "cell_type": "code",
   "execution_count": 36,
   "metadata": {},
   "outputs": [
    {
     "data": {
      "text/plain": [
       "['chr1', '26687268', '26806219', 'lin28a']"
      ]
     },
     "execution_count": 36,
     "metadata": {},
     "output_type": "execute_result"
    }
   ],
   "source": [
    "output_line"
   ]
  },
  {
   "cell_type": "code",
   "execution_count": 37,
   "metadata": {},
   "outputs": [
    {
     "name": "stdout",
     "output_type": "stream",
     "text": [
      "chr1\t26687268\t26806219\tlin28a\r\n"
     ]
    }
   ],
   "source": [
    "!cat LIN28A.coords.bed"
   ]
  },
  {
   "cell_type": "code",
   "execution_count": 38,
   "metadata": {},
   "outputs": [
    {
     "name": "stdout",
     "output_type": "stream",
     "text": [
      "chr1\t26796570\t26801579\tProximal-Prediction-1251\t1\t.\t26797078\t26801579\t255,0,0\n",
      "chr1\t26757747\t26761172\tProximal-Prediction-3843\t1\t.\t26757747\t26761172\t255,0,0\n",
      "chr1\t26796570\t26801579\tProximal-Prediction-1251\t1\t.\t26797078\t26801579\t255,0,0\n",
      "chr1\t26757747\t26761172\tProximal-Prediction-3843\t1\t.\t26757747\t26761172\t255,0,0\n"
     ]
    }
   ],
   "source": [
    "## Now you can intersect the promoter files with the LIN28A coordinates \n",
    "\n",
    "## promoter peaks \n",
    "!bedtools intersect -wa -a ENCSR000DRY_predictions_promoter.bed -b LIN28A.coords.bed \n",
    "\n",
    "## you can use the intersectBed shortcut, it will do the same thing \n",
    "!intersectBed -wa -a ENCSR000DRY_predictions_promoter.bed -b LIN28A.coords.bed\n",
    "\n",
    "##TODO: write a command to intersect the enhancer peak files with LIN28A coordinates \n",
    "\n"
   ]
  },
  {
   "cell_type": "markdown",
   "metadata": {},
   "source": [
    "## Identifying variants in a yeast dataset <a name='pipeline'>"
   ]
  },
  {
   "cell_type": "markdown",
   "metadata": {},
   "source": [
    "In tutorial 4, we learned how to use the [Burrows-Wheeler aligner](http://bio-bwa.sourceforge.net/) to map FASTQ reads to a reference genome. Now we will examine how the resulting alignment can serve as a starting point for identifying varyings in the genomic sequence data. We will follow the standard samtools workflow to identify variants in a yeast dataset: \n",
    "![pipeline](pipeline.png)"
   ]
  },
  {
   "cell_type": "markdown",
   "metadata": {},
   "source": [
    "We begin the variant-calling pipeline with three files: \n",
    "\n",
    "* The yeast reference genome, stored in fasta format in the file **yeast.fasta**\n",
    "* First pair in yeast whole genome sequencing file, stored in fastq format, in the file **y1.fastq** \n",
    "* Second pair in yeast whole genome sequencing file, stored in fastq format, in the file **y2.fastq** "
   ]
  },
  {
   "cell_type": "markdown",
   "metadata": {},
   "source": [
    "## Align the whole genome sequence reads to the yeast reference genome with BWA <a name='bwa'>"
   ]
  },
  {
   "cell_type": "markdown",
   "metadata": {},
   "source": [
    "First, we must index the reference genome with the \"BwaIndexCommandline\" function. This function will generate the indices that the BWA aligner will need for rapid alignment of the WGS (whole genome sequence) reads. "
   ]
  },
  {
   "cell_type": "code",
   "execution_count": 39,
   "metadata": {},
   "outputs": [],
   "source": [
    "from Bio.Sequencing.Applications import BwaIndexCommandline\n",
    "reference_genome = \"yeast.fasta\"\n",
    "index_cmd = BwaIndexCommandline(infile=reference_genome, algorithm=\"bwtsw\")\n",
    "output=index_cmd()\n"
   ]
  },
  {
   "cell_type": "code",
   "execution_count": 40,
   "metadata": {},
   "outputs": [
    {
     "name": "stdout",
     "output_type": "stream",
     "text": [
      "yeast.fasta.amb  yeast.fasta.bwt  yeast.fasta.pac\r\n",
      "yeast.fasta.ann  yeast.fasta.fai  yeast.fasta.sa\r\n"
     ]
    }
   ],
   "source": [
    "#The following files were generated by the above indexing command: \n",
    "!ls yeast.fasta.*"
   ]
  },
  {
   "cell_type": "markdown",
   "metadata": {},
   "source": [
    "Now that the BWA index has been generated, we can run the BWA command to produce a paired end alignment of the WGS sample to the reference sequence. "
   ]
  },
  {
   "cell_type": "code",
   "execution_count": 41,
   "metadata": {},
   "outputs": [
    {
     "name": "stdout",
     "output_type": "stream",
     "text": [
      "bwa aln yeast.fasta y1.fastq\n"
     ]
    }
   ],
   "source": [
    "#First, we generate the .sai files for each WGS sample. \n",
    "from Bio.Sequencing.Applications import BwaAlignCommandline\n",
    "reference_genome = \"yeast.fasta\"\n",
    "read_file = \"y1.fastq\"\n",
    "output_sai_file = \"y1.sai\"\n",
    "align_cmd = BwaAlignCommandline(reference=reference_genome,read_file=read_file)\n",
    "print(align_cmd)\n",
    "output=align_cmd(stdout=output_sai_file)"
   ]
  },
  {
   "cell_type": "code",
   "execution_count": 42,
   "metadata": {},
   "outputs": [
    {
     "name": "stdout",
     "output_type": "stream",
     "text": [
      "bwa aln yeast.fasta y2.fastq\n"
     ]
    }
   ],
   "source": [
    "#Repeat for the paired reads in y2.fastq \n",
    "read_file=\"y2.fastq\"\n",
    "output_sai_file=\"y2.sai\"\n",
    "align_cmd = BwaAlignCommandline(reference=reference_genome,read_file=read_file)\n",
    "print(align_cmd)\n",
    "output=align_cmd(stdout=output_sai_file)\n"
   ]
  },
  {
   "cell_type": "markdown",
   "metadata": {},
   "source": [
    "To call variants, we would like to convert our alignments from the binary .sai format to the .sam format that is compatible with samtools. "
   ]
  },
  {
   "cell_type": "code",
   "execution_count": 43,
   "metadata": {},
   "outputs": [
    {
     "name": "stdout",
     "output_type": "stream",
     "text": [
      "bwa sampe yeast.fasta y1.sai y2.sai y1.fastq y2.fastq\n"
     ]
    }
   ],
   "source": [
    "#Import the BWA alignment tool from Biopython \n",
    "from Bio.Sequencing.Applications import BwaSampeCommandline\n",
    "reference_genome = \"yeast.fasta\"\n",
    "read_file1 = \"y1.fastq\"\n",
    "read_file2 = \"y2.fastq\"\n",
    "sai_file1 = \"y1.sai\"\n",
    "sai_file2 = \"y2.sai\"\n",
    "output_sam_file = \"output.sam\"\n",
    "sampe_cmd = BwaSampeCommandline(reference=reference_genome,\n",
    "                                 sai_file1=sai_file1, sai_file2=sai_file2,\n",
    "                                 read_file1=read_file1, read_file2=read_file2)\n",
    "print(sampe_cmd)\n",
    "output=sampe_cmd(stdout=output_sam_file)"
   ]
  },
  {
   "cell_type": "markdown",
   "metadata": {},
   "source": [
    "The samtools file format is human readable, so we can examine the **output.sam** file that was generated by the command above. "
   ]
  },
  {
   "cell_type": "code",
   "execution_count": 44,
   "metadata": {},
   "outputs": [
    {
     "name": "stdout",
     "output_type": "stream",
     "text": [
      "@SQ\tSN:I\tLN:230218\r\n",
      "@SQ\tSN:II\tLN:813184\r\n",
      "@SQ\tSN:III\tLN:316620\r\n",
      "@SQ\tSN:IV\tLN:1531933\r\n",
      "@SQ\tSN:IX\tLN:439888\r\n",
      "@SQ\tSN:Mito\tLN:85779\r\n",
      "@SQ\tSN:V\tLN:576874\r\n",
      "@SQ\tSN:VI\tLN:270161\r\n",
      "@SQ\tSN:VII\tLN:1090940\r\n",
      "@SQ\tSN:VIII\tLN:562643\r\n",
      "@SQ\tSN:X\tLN:745751\r\n",
      "@SQ\tSN:XI\tLN:666816\r\n",
      "@SQ\tSN:XII\tLN:1078177\r\n",
      "@SQ\tSN:XIII\tLN:924431\r\n",
      "@SQ\tSN:XIV\tLN:784333\r\n",
      "@SQ\tSN:XV\tLN:1091291\r\n",
      "@SQ\tSN:XVI\tLN:948066\r\n",
      "@PG\tID:bwa\tPN:bwa\tVN:0.7.15-r1140\tCL:bwa sampe yeast.fasta y1.sai y2.sai y1.fastq y2.fastq\r\n",
      "SRR507778.1\t97\tMito\t20158\t37\t36M\t=\t16941\t-3181\tANTATAATATTATCCCCACGAGGGCCACACATGTGT\t?#?;<BBB?BBGGEGGGGDDE8EEDB:?<=?BB?B7\tXT:A:U\tNM:i:1\tSM:i:37\tAM:i:37\tX0:i:1\tX1:i:0\tXM:i:1\tXO:i:0\tXG:i:0\tMD:Z:1A34\r\n",
      "SRR507778.1\t145\tMito\t16941\t37\t36M\t=\t20158\t3181\tTTCATAGTACCCAAATTTAATTTAAATAAAGTGAGA\tGFFCFDDG<DIIGHIIEEE>EBAGG@GBDDDBG??B\tXT:A:U\tNM:i:0\tSM:i:37\tAM:i:37\tX0:i:1\tX1:i:0\tXM:i:0\tXO:i:0\tXG:i:0\tMD:Z:36\r\n"
     ]
    }
   ],
   "source": [
    "!head -n20 output.sam"
   ]
  },
  {
   "cell_type": "markdown",
   "metadata": {},
   "source": [
    "We can interpret the fields above as follows:\n",
    "![SAM alignment format](sam_alignment_format.png)"
   ]
  },
  {
   "cell_type": "markdown",
   "metadata": {},
   "source": [
    "Next, we sort the output.sam file into chromosome-position order, and convert to the binary .bam format for more efficient parsing. This can be accomplished with the **pysam** module. "
   ]
  },
  {
   "cell_type": "code",
   "execution_count": 45,
   "metadata": {},
   "outputs": [
    {
     "data": {
      "text/plain": [
       "''"
      ]
     },
     "execution_count": 45,
     "metadata": {},
     "output_type": "execute_result"
    }
   ],
   "source": [
    "import pysam \n",
    "#sort the file \"output.sam\" and write the output to a binary file \"output.sorted.bam\" \n",
    "pysam.sort(\"-o\",\"output.sorted.bam\",\"output.sam\")"
   ]
  },
  {
   "cell_type": "markdown",
   "metadata": {},
   "source": [
    "Finally, we index the resulting **output.sorted.bam** file. "
   ]
  },
  {
   "cell_type": "code",
   "execution_count": 46,
   "metadata": {},
   "outputs": [
    {
     "data": {
      "text/plain": [
       "''"
      ]
     },
     "execution_count": 46,
     "metadata": {},
     "output_type": "execute_result"
    }
   ],
   "source": [
    "pysam.index(\"output.sorted.bam\")"
   ]
  },
  {
   "cell_type": "markdown",
   "metadata": {
    "collapsed": true
   },
   "source": [
    "As a sanity check, we can report some statistics about the alignment. "
   ]
  },
  {
   "cell_type": "code",
   "execution_count": 47,
   "metadata": {},
   "outputs": [
    {
     "data": {
      "text/plain": [
       "'3656'"
      ]
     },
     "execution_count": 47,
     "metadata": {},
     "output_type": "execute_result"
    }
   ],
   "source": [
    "#this command tells us how many reads in the fastq files did not align to the reference genome \n",
    "pysam.view(\"output.sorted.bam\",\"-c\",\"-f\",\"4\").strip()"
   ]
  },
  {
   "cell_type": "code",
   "execution_count": 48,
   "metadata": {},
   "outputs": [
    {
     "data": {
      "text/plain": [
       "'46344'"
      ]
     },
     "execution_count": 48,
     "metadata": {},
     "output_type": "execute_result"
    }
   ],
   "source": [
    "#this command tells us how many reads in the fastq files aligned to the reference genome \n",
    "pysam.view(\"output.sorted.bam\",\"-c\",\"-F\",\"4\").strip()"
   ]
  },
  {
   "cell_type": "markdown",
   "metadata": {},
   "source": [
    "This suggests that 92.6% of the reads in the FASTQ files align to the reference genome -- the data appears to be good quality!. "
   ]
  },
  {
   "cell_type": "markdown",
   "metadata": {},
   "source": [
    "Now that we have aligned the samples to the reference genome, sorted the alignment file, converted it to binary format, and indexed it, we are ready to call variants with samtools. \n"
   ]
  },
  {
   "cell_type": "markdown",
   "metadata": {
    "collapsed": true
   },
   "source": [
    "## Variant calling with Samtools  <a name='samtools'>"
   ]
  },
  {
   "cell_type": "markdown",
   "metadata": {},
   "source": [
    "To convert your BAM file into genomic positions we first use mpileup to produce a BCF file that contains all of the locations in the genome. "
   ]
  },
  {
   "cell_type": "code",
   "execution_count": 49,
   "metadata": {},
   "outputs": [],
   "source": [
    "#make sure to include the catch_stdout flag to avoid printing a long output message that will slow down the Jupyter Noteobok. \n",
    "pysam.mpileup(\"output.sorted.bam\",\"-g\",\"-o\",\"output.bcf\",\"-f\",\"yeast.fasta\",catch_stdout=False)"
   ]
  },
  {
   "cell_type": "markdown",
   "metadata": {},
   "source": [
    "We use this information to call genotypes and reduce our list of sites to those found to be variant by passing this file into bcftools call. We pass the following flags to the bcftools call command: \n",
    "* -v (--variants-only) output variant sites only (as opposed to all sites in the genome) \n",
    "* -m (--multiallelic-caller) alternative model for mullti-allelic and rare variant calling\n",
    "* -O (--optimize) iteratively estimate the fraction of aberrant cells, down to the given fraction. Lowering this value from the default 1.0 to say, 0.3, can help discover more events but also increases noise\n",
    "* z zip the output "
   ]
  },
  {
   "cell_type": "code",
   "execution_count": 50,
   "metadata": {},
   "outputs": [
    {
     "name": "stdout",
     "output_type": "stream",
     "text": [
      "Note: Neither --ploidy nor --ploidy-file given, assuming all sites are diploid\r\n"
     ]
    }
   ],
   "source": [
    "!bcftools call -mvOz -o output.vcf.gz output.bcf"
   ]
  },
  {
   "cell_type": "markdown",
   "metadata": {},
   "source": [
    "## Working with  Variant Call Format (VCF) files <a name='vcf'>"
   ]
  },
  {
   "cell_type": "markdown",
   "metadata": {},
   "source": [
    "We can examine the variant call format (VCF) file that was generated: "
   ]
  },
  {
   "cell_type": "code",
   "execution_count": 51,
   "metadata": {},
   "outputs": [
    {
     "name": "stdout",
     "output_type": "stream",
     "text": [
      "##fileformat=VCFv4.2\r\n",
      "##FILTER=<ID=PASS,Description=\"All filters passed\">\r\n",
      "##samtoolsVersion=1.6+htslib-1.6\r\n",
      "##samtoolsCommand=samtools mpileup -g -o output.bcf -f yeast.fasta output.sorted.bam\r\n",
      "##reference=file://yeast.fasta\r\n",
      "##contig=<ID=I,length=230218>\r\n",
      "##contig=<ID=II,length=813184>\r\n",
      "##contig=<ID=III,length=316620>\r\n",
      "##contig=<ID=IV,length=1531933>\r\n",
      "##contig=<ID=IX,length=439888>\r\n",
      "##contig=<ID=Mito,length=85779>\r\n",
      "##contig=<ID=V,length=576874>\r\n",
      "##contig=<ID=VI,length=270161>\r\n",
      "##contig=<ID=VII,length=1090940>\r\n",
      "##contig=<ID=VIII,length=562643>\r\n",
      "##contig=<ID=X,length=745751>\r\n",
      "##contig=<ID=XI,length=666816>\r\n",
      "##contig=<ID=XII,length=1078177>\r\n",
      "##contig=<ID=XIII,length=924431>\r\n",
      "##contig=<ID=XIV,length=784333>\r\n",
      "##contig=<ID=XV,length=1091291>\r\n",
      "##contig=<ID=XVI,length=948066>\r\n",
      "##ALT=<ID=*,Description=\"Represents allele(s) other than observed.\">\r\n",
      "##INFO=<ID=INDEL,Number=0,Type=Flag,Description=\"Indicates that the variant is an INDEL.\">\r\n",
      "##INFO=<ID=IDV,Number=1,Type=Integer,Description=\"Maximum number of reads supporting an indel\">\r\n",
      "##INFO=<ID=IMF,Number=1,Type=Float,Description=\"Maximum fraction of reads supporting an indel\">\r\n",
      "##INFO=<ID=DP,Number=1,Type=Integer,Description=\"Raw read depth\">\r\n",
      "##INFO=<ID=VDB,Number=1,Type=Float,Description=\"Variant Distance Bias for filtering splice-site artefacts in RNA-seq data (bigger is better)\",Version=\"3\">\r\n",
      "##INFO=<ID=RPB,Number=1,Type=Float,Description=\"Mann-Whitney U test of Read Position Bias (bigger is better)\">\r\n",
      "##INFO=<ID=MQB,Number=1,Type=Float,Description=\"Mann-Whitney U test of Mapping Quality Bias (bigger is better)\">\r\n",
      "##INFO=<ID=BQB,Number=1,Type=Float,Description=\"Mann-Whitney U test of Base Quality Bias (bigger is better)\">\r\n",
      "##INFO=<ID=MQSB,Number=1,Type=Float,Description=\"Mann-Whitney U test of Mapping Quality vs Strand Bias (bigger is better)\">\r\n",
      "##INFO=<ID=SGB,Number=1,Type=Float,Description=\"Segregation based metric.\">\r\n",
      "##INFO=<ID=MQ0F,Number=1,Type=Float,Description=\"Fraction of MQ0 reads (smaller is better)\">\r\n",
      "##FORMAT=<ID=PL,Number=G,Type=Integer,Description=\"List of Phred-scaled genotype likelihoods\">\r\n",
      "##FORMAT=<ID=GT,Number=1,Type=String,Description=\"Genotype\">\r\n",
      "##INFO=<ID=ICB,Number=1,Type=Float,Description=\"Inbreeding Coefficient Binomial test (bigger is better)\">\r\n",
      "##INFO=<ID=HOB,Number=1,Type=Float,Description=\"Bias in the number of HOMs number (smaller is better)\">\r\n",
      "##INFO=<ID=AC,Number=A,Type=Integer,Description=\"Allele count in genotypes for each ALT allele, in the same order as listed\">\r\n",
      "##INFO=<ID=AN,Number=1,Type=Integer,Description=\"Total number of alleles in called genotypes\">\r\n",
      "##INFO=<ID=DP4,Number=4,Type=Integer,Description=\"Number of high-quality ref-forward , ref-reverse, alt-forward and alt-reverse bases\">\r\n",
      "##INFO=<ID=MQ,Number=1,Type=Integer,Description=\"Average mapping quality\">\r\n",
      "##bcftools_callVersion=1.3.1+htslib-1.3.2\r\n",
      "##bcftools_callCommand=call -mvOz -o output.vcf.gz output.bcf\r\n",
      "#CHROM\tPOS\tID\tREF\tALT\tQUAL\tFILTER\tINFO\tFORMAT\toutput.sorted.bam\r\n",
      "II\t111730\t.\tC\tT\t12.4325\t.\tDP=1;SGB=-0.379885;MQ0F=0;ICB=1;HOB=0.5;AC=1;AN=2;DP4=0,0,0,1;MQ=60\tGT:PL\t0/1:40,3,0\r\n",
      "II\t325186\t.\tC\tA\t12.4325\t.\tDP=1;SGB=-0.379885;MQ0F=0;ICB=1;HOB=0.5;AC=1;AN=2;DP4=0,0,0,1;MQ=60\tGT:PL\t0/1:40,3,0\r\n",
      "II\t514881\t.\tT\tG\t6.32957\t.\tDP=1;SGB=-0.379885;MQ0F=0;ICB=1;HOB=0.5;AC=1;AN=2;DP4=0,0,0,1;MQ=60\tGT:PL\t0/1:33,3,0\r\n",
      "III\t162640\t.\tT\tG\t11.4963\t.\tDP=1;SGB=-0.379885;MQ0F=0;ICB=1;HOB=0.5;AC=1;AN=2;DP4=0,0,0,1;MQ=60\tGT:PL\t0/1:39,3,0\r\n",
      "IV\t442435\t.\tT\tC\t12.4325\t.\tDP=1;SGB=-0.379885;MQ0F=0;ICB=1;HOB=0.5;AC=1;AN=2;DP4=0,0,1,0;MQ=60\tGT:PL\t0/1:40,3,0\r\n"
     ]
    }
   ],
   "source": [
    "!zcat output.vcf.gz | head -n 50"
   ]
  },
  {
   "cell_type": "markdown",
   "metadata": {},
   "source": [
    "The columns in the vcf file can be interpreted as described [here](http://samtools.github.io/hts-specs/VCFv4.3.pdf)"
   ]
  },
  {
   "cell_type": "markdown",
   "metadata": {},
   "source": [
    "We use the **tabix_index** command to generate an index of the vcf file for rapid querying. "
   ]
  },
  {
   "cell_type": "code",
   "execution_count": 52,
   "metadata": {},
   "outputs": [
    {
     "data": {
      "text/plain": [
       "'output.vcf.gz'"
      ]
     },
     "execution_count": 52,
     "metadata": {},
     "output_type": "execute_result"
    }
   ],
   "source": [
    "import pysam\n",
    "pysam.tabix_index(\"output.vcf.gz\", '-f',preset=\"vcf\")"
   ]
  },
  {
   "cell_type": "markdown",
   "metadata": {},
   "source": [
    "Additionally you may find it helpful to prepare graphs and statistics to assist you in filtering your variants:\n",
    "\n"
   ]
  },
  {
   "cell_type": "code",
   "execution_count": 53,
   "metadata": {},
   "outputs": [],
   "source": [
    "!bcftools stats -F yeast.fasta -s - output.vcf.gz > output.vcf.stats\n"
   ]
  },
  {
   "cell_type": "markdown",
   "metadata": {},
   "source": [
    "print the statistics: "
   ]
  },
  {
   "cell_type": "code",
   "execution_count": 54,
   "metadata": {},
   "outputs": [
    {
     "name": "stdout",
     "output_type": "stream",
     "text": [
      "# This file was produced by bcftools stats (1.3.1+htslib-1.3.2) and can be plotted using plot-vcfstats.\r\n",
      "# The command line was:\tbcftools stats  -F yeast.fasta -s - output.vcf.gz\r\n",
      "#\r\n",
      "# Definition of sets:\r\n",
      "# ID\t[2]id\t[3]tab-separated file names\r\n",
      "ID\t0\toutput.vcf.gz\r\n",
      "# SN, Summary numbers:\r\n",
      "# SN\t[2]id\t[3]key\t[4]value\r\n",
      "SN\t0\tnumber of samples:\t1\r\n",
      "SN\t0\tnumber of records:\t39\r\n",
      "SN\t0\tnumber of no-ALTs:\t0\r\n",
      "SN\t0\tnumber of SNPs:\t31\r\n",
      "SN\t0\tnumber of MNPs:\t0\r\n",
      "SN\t0\tnumber of indels:\t8\r\n",
      "SN\t0\tnumber of others:\t0\r\n",
      "SN\t0\tnumber of multiallelic sites:\t0\r\n",
      "SN\t0\tnumber of multiallelic SNP sites:\t0\r\n",
      "# TSTV, transitions/transversions:\r\n",
      "# TSTV\t[2]id\t[3]ts\t[4]tv\t[5]ts/tv\t[6]ts (1st ALT)\t[7]tv (1st ALT)\t[8]ts/tv (1st ALT)\r\n",
      "TSTV\t0\t16\t15\t1.07\t16\t15\t1.07\r\n",
      "# ICS, Indel context summary:\r\n",
      "# ICS\t[2]id\t[3]repeat-consistent\t[4]repeat-inconsistent\t[5]not applicable\t[6]c/(c+i) ratio\r\n",
      "ICS\t0\t0\t0\t8\t0.0000\r\n",
      "# ICL, Indel context by length:\r\n",
      "# ICL\t[2]id\t[3]length of repeat element\t[4]repeat-consistent deletions)\t[5]repeat-inconsistent deletions\t[6]consistent insertions\t[7]inconsistent insertions\t[8]c/(c+i) ratio\r\n",
      "ICL\t0\t2\t0\t0\t0\t0\t0.0000\r\n",
      "ICL\t0\t3\t0\t0\t0\t0\t0.0000\r\n",
      "ICL\t0\t4\t0\t0\t0\t0\t0.0000\r\n",
      "ICL\t0\t5\t0\t0\t0\t0\t0.0000\r\n",
      "ICL\t0\t6\t0\t0\t0\t0\t0.0000\r\n",
      "ICL\t0\t7\t0\t0\t0\t0\t0.0000\r\n",
      "ICL\t0\t8\t0\t0\t0\t0\t0.0000\r\n",
      "ICL\t0\t9\t0\t0\t0\t0\t0.0000\r\n",
      "ICL\t0\t10\t0\t0\t0\t0\t0.0000\r\n",
      "# SiS, Singleton stats:\r\n",
      "# SiS\t[2]id\t[3]allele count\t[4]number of SNPs\t[5]number of transitions\t[6]number of transversions\t[7]number of indels\t[8]repeat-consistent\t[9]repeat-inconsistent\t[10]not applicable\r\n",
      "SiS\t0\t1\t30\t16\t14\t8\t0\t0\t8\r\n",
      "# AF, Stats by non-reference allele frequency:\r\n",
      "# AF\t[2]id\t[3]allele frequency\t[4]number of SNPs\t[5]number of transitions\t[6]number of transversions\t[7]number of indels\t[8]repeat-consistent\t[9]repeat-inconsistent\t[10]not applicable\r\n",
      "AF\t0\t0.000000\t30\t16\t14\t8\t0\t0\t8\r\n",
      "AF\t0\t99.000000\t1\t0\t1\t0\t0\t0\t0\r\n",
      "# QUAL, Stats by quality:\r\n",
      "# QUAL\t[2]id\t[3]Quality\t[4]number of SNPs\t[5]number of transitions (1st ALT)\t[6]number of transversions (1st ALT)\t[7]number of indels\r\n",
      "QUAL\t0\t3\t1\t1\t0\t0\r\n",
      "QUAL\t0\t4\t5\t2\t3\t0\r\n",
      "QUAL\t0\t5\t0\t0\t0\t1\r\n",
      "QUAL\t0\t6\t4\t1\t3\t2\r\n",
      "QUAL\t0\t7\t3\t1\t2\t1\r\n",
      "QUAL\t0\t8\t1\t1\t0\t0\r\n",
      "QUAL\t0\t9\t0\t0\t0\t1\r\n",
      "QUAL\t0\t10\t4\t4\t0\t1\r\n",
      "QUAL\t0\t11\t2\t0\t2\t0\r\n",
      "QUAL\t0\t12\t9\t5\t4\t2\r\n",
      "QUAL\t0\t45\t1\t1\t0\t0\r\n",
      "QUAL\t0\t52\t1\t0\t1\t0\r\n",
      "# IDD, InDel distribution:\r\n",
      "# IDD\t[2]id\t[3]length (deletions negative)\t[4]count\r\n",
      "IDD\t0\t-1\t2\r\n",
      "IDD\t0\t1\t6\r\n",
      "# ST, Substitution types:\r\n",
      "# ST\t[2]id\t[3]type\t[4]count\r\n",
      "ST\t0\tA>C\t3\r\n",
      "ST\t0\tA>G\t2\r\n",
      "ST\t0\tA>T\t1\r\n",
      "ST\t0\tC>A\t2\r\n",
      "ST\t0\tC>G\t1\r\n",
      "ST\t0\tC>T\t4\r\n",
      "ST\t0\tG>A\t1\r\n",
      "ST\t0\tG>C\t1\r\n",
      "ST\t0\tG>T\t2\r\n",
      "ST\t0\tT>A\t0\r\n",
      "ST\t0\tT>C\t9\r\n",
      "ST\t0\tT>G\t5\r\n",
      "# DP, Depth distribution\r\n",
      "# DP\t[2]id\t[3]bin\t[4]number of genotypes\t[5]fraction of genotypes (%)\t[6]number of sites\t[7]fraction of sites (%)\r\n",
      "DP\t0\t1\t0\t0.000000\t36\t92.307692\r\n",
      "DP\t0\t2\t0\t0.000000\t2\t5.128205\r\n",
      "DP\t0\t22\t0\t0.000000\t1\t2.564103\r\n",
      "# PSC, Per-sample counts\r\n",
      "# PSC\t[2]id\t[3]sample\t[4]nRefHom\t[5]nNonRefHom\t[6]nHets\t[7]nTransitions\t[8]nTransversions\t[9]nIndels\t[10]average depth\t[11]nSingletons\r\n",
      "PSC\t0\toutput.sorted.bam\t0\t1\t30\t16\t15\t8\t0.0\t39\r\n",
      "# PSI, Per-Sample Indels\r\n",
      "# PSI\t[2]id\t[3]sample\t[4]in-frame\t[5]out-frame\t[6]not applicable\t[7]out/(in+out) ratio\t[8]nHets\t[9]nAA\r\n",
      "PSI\t0\toutput.sorted.bam\t0\t0\t0\t0.00\t8\t0\r\n",
      "# HWE\r\n",
      "# HWE\t[2]id\t[3]1st ALT allele frequency\t[4]Number of observations\t[5]25th percentile\t[6]median\t[7]75th percentile\r\n",
      "HWE\t0\t0.000000\t38\t0.990000\t0.990000\t0.990000\r\n",
      "HWE\t0\t99.000000\t1\t0.000000\t0.000000\t0.000000\r\n"
     ]
    }
   ],
   "source": [
    "!cat output.vcf.stats"
   ]
  },
  {
   "cell_type": "markdown",
   "metadata": {},
   "source": [
    "A number of summary plots are generated. Of most interest to us is the tally of base substitutions and insertions/deletions (indels) observed in the data. "
   ]
  },
  {
   "cell_type": "markdown",
   "metadata": {},
   "source": [
    "Substitutions:\n",
    "![substitutions tally](../Images/substitutions.0.png)\n",
    "Indels: \n",
    "![indels tally](../Images/indels.0.png)"
   ]
  },
  {
   "cell_type": "markdown",
   "metadata": {},
   "source": [
    "Not all variants are high quality. We want to apply filters to the vcf file to keep only variants with high quality scores (i.e. QUAL > 10). We can do this by passing filter arguments to **bcftools**. "
   ]
  },
  {
   "cell_type": "code",
   "execution_count": 55,
   "metadata": {},
   "outputs": [],
   "source": [
    "!bcftools filter -O z -o output.filtered.vcf.gz -s LOWQUAL -i'%QUAL>10' output.vcf.gz \n"
   ]
  },
  {
   "cell_type": "markdown",
   "metadata": {},
   "source": [
    "## tabix <a name='tabix'>"
   ]
  },
  {
   "cell_type": "markdown",
   "metadata": {},
   "source": [
    "The tabix tool can be used to index into a vcf file and select variants that fall within a region of interest. For example: "
   ]
  },
  {
   "cell_type": "code",
   "execution_count": 56,
   "metadata": {},
   "outputs": [],
   "source": [
    "#load the filtered vcf file into tabix \n",
    "import tabix\n",
    "tb=tabix.open(\"output.vcf.gz\")"
   ]
  },
  {
   "cell_type": "code",
   "execution_count": 57,
   "metadata": {},
   "outputs": [
    {
     "name": "stdout",
     "output_type": "stream",
     "text": [
      "['II', '111730', '.', 'C', 'T', '12.4325', '.', 'DP=1;SGB=-0.379885;MQ0F=0;ICB=1;HOB=0.5;AC=1;AN=2;DP4=0,0,0,1;MQ=60', 'GT:PL', '0/1:40,3,0']\n",
      "['II', '325186', '.', 'C', 'A', '12.4325', '.', 'DP=1;SGB=-0.379885;MQ0F=0;ICB=1;HOB=0.5;AC=1;AN=2;DP4=0,0,0,1;MQ=60', 'GT:PL', '0/1:40,3,0']\n"
     ]
    }
   ],
   "source": [
    "# A query returns an iterator over the results.\n",
    "records = tb.query(\"II\",1,325188)\n",
    "for record in records: \n",
    "    print(record)"
   ]
  },
  {
   "cell_type": "markdown",
   "metadata": {},
   "source": [
    "A file must first be indexed with pytabix before it can be queried. "
   ]
  },
  {
   "cell_type": "code",
   "execution_count": null,
   "metadata": {},
   "outputs": [],
   "source": []
  }
 ],
 "metadata": {
  "kernelspec": {
   "display_name": "Python 3",
   "language": "python",
   "name": "python3"
  },
  "language_info": {
   "codemirror_mode": {
    "name": "ipython",
    "version": 3
   },
   "file_extension": ".py",
   "mimetype": "text/x-python",
   "name": "python",
   "nbconvert_exporter": "python",
   "pygments_lexer": "ipython3",
   "version": "3.5.3"
  }
 },
 "nbformat": 4,
 "nbformat_minor": 2
}
