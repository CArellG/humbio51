{
 "cells": [
  {
   "cell_type": "markdown",
   "metadata": {},
   "source": [
    "## Big Data for Biologists: Replication of GWAS studies in different  populations? - Class 16\n",
    "##  Learning Objectives\n",
    "***Students should be able to***\n",
    " <ol>\n",
    " <li> <a href=#LD>Find variants in linkage disequilibrium (LD) with a target variant using tabix and PLINK.</a></li>\n",
    " <li> <a href=#GeneCards>Use GeneCards to find out information about a gene.</a></li>\n",
    " <li><a href=#PCA23andme>Use PCA to predict ancestry from a genetic dataset from 23 and me </a></li>\n",
    " <li><a href=#projectFiles>Use reference datasets of genome and epigenome information to investigate function of coding and non-coding variants.</a></li>\n",
    " \n"
   ]
  },
  {
   "cell_type": "markdown",
   "metadata": {},
   "source": [
    "## Linkage Disequilibrium Example with Tabix and PLINK <a name ='LD'>"
   ]
  },
  {
   "cell_type": "markdown",
   "metadata": {},
   "source": [
    "[An article in the New England Journal of Medicine](http://www.nejm.org/doi/full/10.1056/NEJMoa1502214?rss=searchAndBrowse&#t=article) presented a GWAS in 52 participants  who were homozygous for the risk allele for the tag variant rs1558902. This variant occurs in an intron of the FTO gene, which has previously been linked to obesity. However, since a strong GWAS association of a variant with a phenotype is insufficient to deterimne causation, the authors checked whether other variants were in strong linkage disequilibrium with rs1558902 and are thus also potentially causal variants in obesity. \n",
    "\n",
    "We will examine below how the PLINK tool can be used to perform such a linkage disequilibrium analysis. \n"
   ]
  },
  {
   "cell_type": "markdown",
   "metadata": {},
   "source": [
    "We have downloaded variant files for the 1000 Genomes Project in the PLINK binary format: \n",
    "    \n",
    "* **/opt/data/project/1kg_phase1_all.bed** -- binary encoding of subject genotypes (do not be fooled by the file extension, this is NOT the 4-column bed file format we have been using). \n",
    "\n",
    "* **/opt/data/project/1kg_phase1_all.bim** -- list of all variants in the subject population \n",
    "* **/opt/data/project/1kg_phase1_all.fam** -- list of all subject id's in the 1000's genome project"
   ]
  },
  {
   "cell_type": "code",
   "execution_count": 1,
   "metadata": {},
   "outputs": [
    {
     "name": "stdout",
     "output_type": "stream",
     "text": [
      "PLINK v1.90b4.10 64-bit (3 Nov 2017)           www.cog-genomics.org/plink/1.9/\n",
      "(C) 2005-2017 Shaun Purcell, Christopher Chang   GNU General Public License v3\n",
      "Logging to r.for.rs1558902.log.\n",
      "Options in effect:\n",
      "  --bfile /opt/data/project/1kg_phase1_all\n",
      "  --ld-snp rs1558902\n",
      "  --out r.for.rs1558902\n",
      "  --r\n",
      "  --threads 10\n",
      "\n",
      "7484 MB RAM detected; reserving 3742 MB for main workspace.\n",
      "39728178 variants loaded from .bim file.\n",
      "1092 people (525 males, 567 females) loaded from .fam.\n",
      "Using up to 10 threads (change this with --threads).\n",
      "Before main variant filters, 1083 founders and 9 nonfounders present.\n",
      "Calculating allele frequencies... 10111213141516171819202122232425262728293031323334353637383940414243444546474849505152535455565758596061626364656667686970717273747576777879808182838485868788899091929394959697989 done.\n",
      "Warning: 855 het. haploid genotypes present (see r.for.rs1558902.hh ); many\n",
      "commands treat these as missing.\n",
      "Total genotyping rate is 0.999956.\n",
      "39728178 variants and 1092 people pass filters and QC.\n",
      "Note: No phenotypes present.\n",
      "--r to r.for.rs1558902.ld ... 0% [processingwriting]          done.\n"
     ]
    }
   ],
   "source": [
    "#This syntax will identify all variants that are in linkage disequilibrium with our tagged SNP rs1558902\n",
    "!plink  --bfile /opt/data/project/1kg_phase1_all --r  --ld-snp rs1558902 --threads 10 --out r.for.rs1558902\n"
   ]
  },
  {
   "cell_type": "markdown",
   "metadata": {},
   "source": [
    "The SNPs that are in linkage disequilibrium with our tagged SNP were saved to the file **r.for.rs1558902.ld**. Let's examine the contents of this file: "
   ]
  },
  {
   "cell_type": "code",
   "execution_count": 2,
   "metadata": {},
   "outputs": [
    {
     "name": "stdout",
     "output_type": "stream",
     "text": [
      " CHR_A         BP_A                 SNP_A  CHR_B         BP_B                 SNP_B            R \r\n",
      "    16     53803574             rs1558902     16     53803128            rs77955027   -0.0655586 \r\n",
      "    16     53803574             rs1558902     16     53803156             rs8055197    -0.413274 \r\n",
      "    16     53803574             rs1558902     16     53803187             rs1558901     0.757579 \r\n",
      "    16     53803574             rs1558902     16     53803223            rs62048402            1 \r\n",
      "    16     53803574             rs1558902     16     53803270           rs186754298   -0.0226154 \r\n",
      "    16     53803574             rs1558902     16     53803332           rs189959143     0.091852 \r\n",
      "    16     53803574             rs1558902     16     53803349           rs182131169   -0.0226154 \r\n",
      "    16     53803574             rs1558902     16     53803415           rs139578493    0.0322946 \r\n",
      "    16     53803574             rs1558902     16     53803452           rs187115215    0.0682658 \r\n",
      "    16     53803574             rs1558902     16     53803574             rs1558902            1 \r\n",
      "    16     53803574             rs1558902     16     53803813           rs190930907   -0.0129479 \r\n",
      "    16     53803574             rs1558902     16     53804158           rs183394594     0.039571 \r\n",
      "    16     53803574             rs1558902     16     53804200           rs149712627   -0.0226154 \r\n",
      "    16     53803574             rs1558902     16     53804340             rs1861866    -0.413274 \r\n",
      "    16     53803574             rs1558902     16     53804734           rs114512515  -0.00833308 \r\n",
      "    16     53803574             rs1558902     16     53804777           rs185120402   -0.0226154 \r\n",
      "    16     53803574             rs1558902     16     53804816           rs190021280   -0.0226154 \r\n",
      "    16     53803574             rs1558902     16     53804824           rs147851834   -0.0680985 \r\n",
      "    16     53803574             rs1558902     16     53804877            rs75263614    -0.030304 \r\n"
     ]
    }
   ],
   "source": [
    "!cat r.for.rs1558902.ld"
   ]
  },
  {
   "cell_type": "markdown",
   "metadata": {},
   "source": [
    "PLINK also allows us to compute the r^2 value for linkage disequilibrium. The command is the same as what we ran above, but replace \"r\" with \"r^2\"."
   ]
  },
  {
   "cell_type": "code",
   "execution_count": 3,
   "metadata": {},
   "outputs": [
    {
     "name": "stdout",
     "output_type": "stream",
     "text": [
      "PLINK v1.90b4.10 64-bit (3 Nov 2017)           www.cog-genomics.org/plink/1.9/\n",
      "(C) 2005-2017 Shaun Purcell, Christopher Chang   GNU General Public License v3\n",
      "Logging to r2.for.rs1558902.log.\n",
      "Options in effect:\n",
      "  --bfile /opt/data/project/1kg_phase1_all\n",
      "  --ld-snp rs1558902\n",
      "  --out r2.for.rs1558902\n",
      "  --r2\n",
      "  --threads 10\n",
      "\n",
      "7484 MB RAM detected; reserving 3742 MB for main workspace.\n",
      "39728178 variants loaded from .bim file.\n",
      "1092 people (525 males, 567 females) loaded from .fam.\n",
      "Using up to 10 threads (change this with --threads).\n",
      "Before main variant filters, 1083 founders and 9 nonfounders present.\n",
      "Calculating allele frequencies... 10111213141516171819202122232425262728293031323334353637383940414243444546474849505152535455565758596061626364656667686970717273747576777879808182838485868788899091929394959697989 done.\n",
      "Warning: 855 het. haploid genotypes present (see r2.for.rs1558902.hh ); many\n",
      "commands treat these as missing.\n",
      "Total genotyping rate is 0.999956.\n",
      "39728178 variants and 1092 people pass filters and QC.\n",
      "Note: No phenotypes present.\n",
      "--r2 to r2.for.rs1558902.ld ... 0% [processingwriting]          done.\n"
     ]
    }
   ],
   "source": [
    "!plink  --bfile /opt/data/project/1kg_phase1_all --r2  --ld-snp rs1558902 --threads 10 --out r2.for.rs1558902\n"
   ]
  },
  {
   "cell_type": "code",
   "execution_count": 5,
   "metadata": {},
   "outputs": [
    {
     "name": "stdout",
     "output_type": "stream",
     "text": [
      " CHR_A         BP_A                 SNP_A  CHR_B         BP_B                 SNP_B           R2 \r\n",
      "    16     53803574             rs1558902     16     53803187             rs1558901     0.573926 \r\n",
      "    16     53803574             rs1558902     16     53803223            rs62048402            1 \r\n",
      "    16     53803574             rs1558902     16     53803574             rs1558902            1 \r\n"
     ]
    }
   ],
   "source": [
    "!cat r2.for.rs1558902.ld"
   ]
  },
  {
   "cell_type": "markdown",
   "metadata": {},
   "source": [
    "The New England Journal article mentions that variant rs1421085 was found to be associated with rs1558902. The authors found that rs1421085 disrupted an ARID5B repressor motif, and was thus the most likely causal variant.\n"
   ]
  },
  {
   "cell_type": "markdown",
   "metadata": {},
   "source": [
    "## Use Gene Cards to find out information about a gene <a name ='GeneCards'>\n",
    "\n",
    "[Gene Cards](http://www.genecards.org/) is a database of information about human genes. It provides information about gene function, tissue-specific expression, as well as journal articles where a given gene is mentioned. \n",
    "\n",
    "Look up the following genes in gene cards. What is the function of each gene? \n",
    "\n",
    " * IRX5 \n",
    " * FTO "
   ]
  },
  {
   "cell_type": "markdown",
   "metadata": {},
   "source": [
    "## Use PCA to predict ancestry from a genetic dataset from 23 and me <a name ='PCA23andme'>"
   ]
  },
  {
   "cell_type": "code",
   "execution_count": 1,
   "metadata": {},
   "outputs": [
    {
     "data": {
      "text/html": [
       "<iframe src=\"https://cambridgespark.com/content/tutorials/genetic-ancestry-analysis-python/index.html\" width=\"1000\" height=\"480\"></iframe>"
      ],
      "text/plain": [
       "<IPython.core.display.HTML object>"
      ]
     },
     "execution_count": 1,
     "metadata": {},
     "output_type": "execute_result"
    }
   ],
   "source": [
    "from IPython.display import HTML\n",
    "HTML('<iframe src=\"https://cambridgespark.com/content/tutorials/genetic-ancestry-analysis-python/index.html\" width=\"1000\" height=\"480\"></iframe>')\n"
   ]
  },
  {
   "cell_type": "markdown",
   "metadata": {},
   "source": [
    "## Overview of Course Project Files <a name='projectFiles'>"
   ]
  },
  {
   "cell_type": "markdown",
   "metadata": {},
   "source": [
    "All project files can be found in the folder **/opt/data/project**\n",
    "\n",
    "* /opt/data/project/1kg_phase1_all*   -- binary variant files\n",
    "* /opt/data/project/gene_coords_hg19.bed -- bed file of gene coordinates \n",
    "* /opt/data/project/gencode.hg19.annotation.gtf -- gene annotation file \n",
    "* /opt/data/project/motifs.bed -- coordinates of all transcription factor-binding motifs in the genome. \n",
    "* /opt/data/project/active_promoters_across_cell_type.bed \n",
    "* /opt/data/project/active_enhancers_across_cell_type.bed \n"
   ]
  },
  {
   "cell_type": "markdown",
   "metadata": {},
   "source": [
    "### Binary variant files\n",
    "\n",
    "* /opt/data/project/1kg_phase1_all*   -- binary variant files\n",
    "\n",
    "These files store the genotypes of all subjects in phase 1 of the 1000 genomes project in a compressed binary format. You can use these with the PLINK tool to identify variants in linkage disequilibrium with your variant of interest. "
   ]
  },
  {
   "cell_type": "code",
   "execution_count": 30,
   "metadata": {},
   "outputs": [],
   "source": [
    "## Use the plink --r command to identify all the variants in linkage disequilibrium with target variant rs150021059. \n",
    "\n",
    "## How many such variants are there? \n"
   ]
  },
  {
   "cell_type": "code",
   "execution_count": null,
   "metadata": {},
   "outputs": [],
   "source": [
    "#! cat r.for.150021059.ld"
   ]
  },
  {
   "cell_type": "markdown",
   "metadata": {},
   "source": [
    "### Gene coordinate file \n",
    "* /opt/data/project/gene_coords_hg19.bed -- bed file of gene coordinates \n",
    "\n",
    "Use this files to find the closest gene to a variant of interest. "
   ]
  },
  {
   "cell_type": "code",
   "execution_count": null,
   "metadata": {},
   "outputs": [],
   "source": [
    "!head -n20 /opt/data/project/gene_coords_hg19.bed"
   ]
  },
  {
   "cell_type": "code",
   "execution_count": null,
   "metadata": {},
   "outputs": [],
   "source": [
    "## What are the coordinates of gene 'FTO'? \n",
    "##Hint: use the grep command. "
   ]
  },
  {
   "cell_type": "markdown",
   "metadata": {},
   "source": [
    "### Gene annotation file \n",
    "* /opt/data/project/gencode.hg19.annotation.gtf -- gene annotation file \n",
    "Use this file to identify exons and transcription start sites of genes. "
   ]
  },
  {
   "cell_type": "code",
   "execution_count": null,
   "metadata": {},
   "outputs": [],
   "source": [
    "!head -n20  /opt/data/project/gencode.hg19.annotation.gtf "
   ]
  },
  {
   "cell_type": "code",
   "execution_count": null,
   "metadata": {},
   "outputs": [],
   "source": [
    "## How many exons are there in the FTO gene? \n",
    "## Hint: grep is useful here too! "
   ]
  },
  {
   "cell_type": "markdown",
   "metadata": {},
   "source": [
    "### Motif coordinates file\n",
    "\n",
    "* /opt/data/project/motifs.bed \n",
    "\n",
    "Use this file to find the motif that is present at a particular region in the genome."
   ]
  },
  {
   "cell_type": "code",
   "execution_count": null,
   "metadata": {},
   "outputs": [],
   "source": [
    "!head -n20 /opt/data/project/motifs.bed\n"
   ]
  },
  {
   "cell_type": "code",
   "execution_count": 28,
   "metadata": {},
   "outputs": [],
   "source": [
    "## What motif is present at coordinates chr1\t53495\t53504\t? \n",
    "!echo \"chr1\\t53495\\t53504\" > region_for_motif.bed \n",
    "\n",
    "## Hint use the bedtools intersect command to find the motif "
   ]
  },
  {
   "cell_type": "markdown",
   "metadata": {},
   "source": [
    "### Active promoters and enhancers across cell type \n",
    "* /opt/data/project/active_promoters_across_cell_type.bed \n",
    "* /opt/data/project/active_enhancers_across_cell_type.bed \n",
    "\n",
    "Use these files to determine whether your variant of interest is in an active enhancer or promoter region "
   ]
  },
  {
   "cell_type": "code",
   "execution_count": null,
   "metadata": {},
   "outputs": [],
   "source": [
    "!head -n20 /opt/data/project/active_enhancers_across_cell_type.bed "
   ]
  },
  {
   "cell_type": "code",
   "execution_count": null,
   "metadata": {},
   "outputs": [],
   "source": [
    "!head -n20 /opt/data/project/active_promoters_across_cell_type.bed "
   ]
  },
  {
   "cell_type": "markdown",
   "metadata": {},
   "source": [
    "From our linkage disequilibrium analysis above, we know that variant rs1558902 is at position: \n",
    "\n",
    "    chr16 53803574\n",
    "\n",
    "We generate a bed file for this SNP: \n"
   ]
  },
  {
   "cell_type": "code",
   "execution_count": 24,
   "metadata": {},
   "outputs": [],
   "source": [
    "! echo \"chr16\\t53803574\\t53803575\" > rs1558902.bed"
   ]
  },
  {
   "cell_type": "code",
   "execution_count": 25,
   "metadata": {},
   "outputs": [
    {
     "name": "stdout",
     "output_type": "stream",
     "text": [
      "chr16\t53803574\t53803575\r\n"
     ]
    }
   ],
   "source": [
    "!cat rs1558902.bed"
   ]
  },
  {
   "cell_type": "markdown",
   "metadata": {},
   "source": [
    "We can now use bedtools intersect to check whether the variant falls into an active promoter or enhancer in any cell type. "
   ]
  },
  {
   "cell_type": "code",
   "execution_count": 32,
   "metadata": {},
   "outputs": [],
   "source": [
    "## Use the bedtools intersect command to check whether the variant above falls into an active promoter or enhancer region. "
   ]
  }
 ],
 "metadata": {
  "kernelspec": {
   "display_name": "Python 3",
   "language": "python",
   "name": "python3"
  },
  "language_info": {
   "codemirror_mode": {
    "name": "ipython",
    "version": 3
   },
   "file_extension": ".py",
   "mimetype": "text/x-python",
   "name": "python",
   "nbconvert_exporter": "python",
   "pygments_lexer": "ipython3",
   "version": "3.5.3"
  }
 },
 "nbformat": 4,
 "nbformat_minor": 2
}
