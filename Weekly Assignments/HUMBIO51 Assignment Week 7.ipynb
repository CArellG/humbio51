{
 "cells": [
  {
   "cell_type": "markdown",
   "metadata": {},
   "source": [
    "## HUMBIO51 Assignment Week 7"
   ]
  },
  {
   "cell_type": "markdown",
   "metadata": {},
   "source": [
    "##  Learning Objectives\n",
    "***Students should be able to***\n",
    "\n",
    "### Identify the most enriched motifs in active enhancer regions.  \n",
    "\n",
    "<ol> \n",
    "<li> <a href=#Sort>Use bedtools commands to sort ChiP-seq peak files by genome coordinates.</a></li>\n",
    "<li> <a href=#Intersect>Use bedtools commands to intersect regions from multiple bed files.</a></li>\n",
    "<li> <a href=#Dict>Use python dictionaries to generate frequencies of transcription factors in active enhancers.</a></li>\n",
    "<li> <a href=#Plot>Generate Bar graphs to visualize the most over-represented transcription factors in GM12878.</a></li>\n",
    "<li> <a href=#Tabix>Use the tabix command to slice out regions from variant call format (VCF) files.</a></li>\n",
    "\n",
    "\n",
    "</ol> "
   ]
  },
  {
   "cell_type": "markdown",
   "metadata": {},
   "source": [
    "The ENCODE project has aggregated data from multiple transcription factor ChIP-seq experiments performed on the GM12878 lymphoblastoid cell line [(over 150 such experiments)!](https://www.encodeproject.org/search/?type=Experiment&replicates.library.biosample.donor.organism.scientific_name=Homo+sapiens&biosample_type=immortalized+cell+line&organ_slims=blood&assembly=hg19&assay_title=ChIP-seq&biosample_term_name=GM12878&assay_title=ChIP-seq). We have downloaded and merged the peak calls from these experiments in the file **Week_7/GM12878_allTFBS.bed**. This is a standard bed file with columns for \n",
    "\n",
    "* Chromosome \n",
    "* Start of peak \n",
    "* End of peak \n",
    "* Name of TF (transcription factor) that binds to this site in the genome. \n",
    "\n",
    "Additionally, we have downloaded the ENCODE [active enhancers for the GM12878 cell line.](https://www.encodeproject.org/annotations/ENCSR580CJW/) These were obtained by analyzing H3K27ac ChIP-seq peaks throughout the genome, which are indicative of active enhancer regions. The annotations are stored in the bed file **Week_7/GM12878_enhancer_regions.bed**. \n",
    "\n",
    "\n",
    "Your mission is to identify the transcription factor motifs that are most enriched within the GM12878 active enhancer regions. "
   ]
  },
  {
   "cell_type": "markdown",
   "metadata": {},
   "source": [
    "## Question 1\n",
    "\n"
   ]
  },
  {
   "cell_type": "markdown",
   "metadata": {},
   "source": [
    "#### Question 1a Write commands to view the first ten lines of both the GM12878_enhancer_regions.bed file and the Week_7/GM12878.enh.sorted.bed file. "
   ]
  },
  {
   "cell_type": "code",
   "execution_count": null,
   "metadata": {},
   "outputs": [],
   "source": [
    "## Examine the format of both files by viewing the first ten lines\n",
    "## Your code here "
   ]
  },
  {
   "cell_type": "markdown",
   "metadata": {},
   "source": [
    "#### Question 1b Use the bedtools sort command to sort both the Week_7/GM12878_enhancer_regions.bed file and the Week_7/GM12878_allTFBS.bed file.  Store the sorted files as \"Week_7/GM12878.enh.sorted.bed\" and \"Week_7/GM12878.TFBS.sorted.bed\" <a name='sort'>"
   ]
  },
  {
   "cell_type": "code",
   "execution_count": null,
   "metadata": {},
   "outputs": [],
   "source": [
    "## Your code here "
   ]
  },
  {
   "cell_type": "code",
   "execution_count": null,
   "metadata": {},
   "outputs": [],
   "source": [
    "## Examine the format of both files by viewing the first ten lines\n",
    "## Your code here "
   ]
  },
  {
   "cell_type": "markdown",
   "metadata": {},
   "source": [
    "#### Question 1c. Use bedtools to identify all TF (transcription factor) binding sites that overlap an enhancer region in GM12878. Store these TF binding sites in a file called **Week_7/TFBS.enh.intersection.bed**.  Examine the contents of file Week_7/TFBS.enh.intersection.bed by viewing the first ten lines of the file. <a name='intersect'>"
   ]
  },
  {
   "cell_type": "code",
   "execution_count": null,
   "metadata": {},
   "outputs": [],
   "source": [
    "## Your code here "
   ]
  },
  {
   "cell_type": "markdown",
   "metadata": {},
   "source": [
    "## Question 2. \n",
    "\n",
    "#### Question 2a. Generate a dictionary called \"TF_count_dict\" with the following fields: <a name='dict'>\n",
    "\n",
    "* Keys are the TF's that bind to enhancer regions within GM12878 (i.e. Pol2, Cmyc, Mxi1, ...) \n",
    "* Values are the number of times that each TF appears in a peak. \n"
   ]
  },
  {
   "cell_type": "code",
   "execution_count": null,
   "metadata": {},
   "outputs": [],
   "source": [
    "def tally_TF_counts(TF_file_name): \n",
    "    #read in the TF_file_name and store the file lines in a list called 'data'\n",
    "    data=# Your code here \n",
    "    tally_dict=dict() \n",
    "    #iterate through each line in data, split the string contained in each line by the '\\t' delimiter \n",
    "    for line in data: \n",
    "        tokens=line.split('\\t')\n",
    "        #check whether the 4th value in the list tokens (i.e. the TF that binds this site in the genome) \n",
    "        # already exists in tally_dict. \n",
    "        #Your code here \n",
    "        \n",
    "        #if it doesn't exist, create an entry for it in tally_dict, with key = TF and value =1 \n",
    "        #Your code here \n",
    "        \n",
    "        #if it does exist, increment the count for the TF in the dictionary\n",
    "        #Your code here \n",
    "    return tally_dict \n",
    "\n",
    "tally_dict=tally_TF_counts(\"Week_7/TFBS.enh.intersection.bed\")"
   ]
  },
  {
   "cell_type": "markdown",
   "metadata": {},
   "source": [
    "#### Question 2b. Run the function tally_dict on your output file from Question 1c. "
   ]
  },
  {
   "cell_type": "markdown",
   "metadata": {},
   "source": [
    "#### Question 2c.  Sort the TF's in your dictionary so the TF from the TF that appears the largest number of times at the top of the file to the TF that appears the smallest number of times at the bottom.  "
   ]
  },
  {
   "cell_type": "code",
   "execution_count": null,
   "metadata": {},
   "outputs": [],
   "source": [
    "import pandas as pd \n",
    "##hint: Use the function pandas.DataFrame.from_dict to convert your tally_dict into a pandas data frame,\n",
    "## for easier sorting \n",
    "\n",
    "## use \"help(pd.DataFrame.from_dict) to learn about the inputs and outputs of this function \n",
    "## Your code here \n",
    "\n",
    "## now, execute the function, passing \"tally_dict\" as the input and setting orient=\"index\" \n",
    "## Store the data frame in variable \"df\"\n",
    "df=## Your code here \n",
    "\n",
    "df.head\n",
    "\n",
    "## Sort the dataframe by column 0 (i.e. this column contains the counts for each TF)\n",
    "## You may find tha the pandas.DataFrame.sort_values function is useful.\n",
    "## Make sure you sort in *descending* order so that the most common TF's can be found with the head command. \n",
    "sorted_df=## Your code here "
   ]
  },
  {
   "cell_type": "markdown",
   "metadata": {},
   "source": [
    "#### Question 2d. Add column names to your dataframe and print out the five most common TF's in your dictionary. "
   ]
  },
  {
   "cell_type": "code",
   "execution_count": null,
   "metadata": {},
   "outputs": [],
   "source": [
    "# Use the dataframe.columns command to add column names to your dataframe\n",
    "# Print out the five most common transcription factors and the number of times that it appears"
   ]
  },
  {
   "cell_type": "markdown",
   "metadata": {},
   "source": [
    "## Question 3: \n",
    "####  Generate a bar graph representing the frequency of the 30 most common TF's. The x-axis should contain the name of the TF, and the y-axis should contain the number of times it occurs within an active enhancer in GM12878. <a name='plot'>"
   ]
  },
  {
   "cell_type": "code",
   "execution_count": null,
   "metadata": {},
   "outputs": [],
   "source": [
    "import plotly \n",
    "plotly.offline.init_notebook_mode()\n",
    "import plotly.plotly as py\n",
    "from plotly.graph_objs import * \n",
    "\n",
    "### Your code here \n",
    "\n",
    "## hint: You can use the .index function to obtain the TF names from the sorted_df data frame. \n",
    "x=list(sorted_df.index[0:30])"
   ]
  },
  {
   "cell_type": "markdown",
   "metadata": {},
   "source": [
    "## Question 4: Using tabix to slice variant call format (VCF) files. \n"
   ]
  },
  {
   "cell_type": "markdown",
   "metadata": {},
   "source": [
    "We have downloaded the variant profile of individual NA19379 from the 1000 genomes dataset, stored in file **Week_7/NA19379.vcf.gz**.  \n",
    "\n",
    "**Question 4a.** Use the tabix command to generate an index of the vcf file. "
   ]
  },
  {
   "cell_type": "code",
   "execution_count": null,
   "metadata": {},
   "outputs": [],
   "source": [
    "## Your code here "
   ]
  },
  {
   "cell_type": "markdown",
   "metadata": {},
   "source": [
    "**Question 4b.** use the \"zcat\" command to examine the format of the file. Pay specific attention to chromosome names. \n",
    "\n",
    "Hint: You can pipe the output of the \"zcat\" command to the \"head\" command to avoid printing the full contents of the file.\n",
    "\n",
    "Recall that the syntax for this would be: \"command1 | head\" -- you have to figure out what goes in \"command1\". "
   ]
  },
  {
   "cell_type": "code",
   "execution_count": null,
   "metadata": {},
   "outputs": [],
   "source": [
    "## Your code here "
   ]
  },
  {
   "cell_type": "markdown",
   "metadata": {},
   "source": [
    "**Question 4c.** How many variants does the subject have on chromosome 19  between positions 1 and 500,000 ? \n",
    "Hint: Recall the yeast example from class 14, where II was the chromosome, 1 was the start position, and 325188 was the end position."
   ]
  },
  {
   "cell_type": "code",
   "execution_count": null,
   "metadata": {},
   "outputs": [],
   "source": [
    "## Your code here "
   ]
  }
 ],
 "metadata": {
  "kernelspec": {
   "display_name": "Python 3",
   "language": "python",
   "name": "python3"
  },
  "language_info": {
   "codemirror_mode": {
    "name": "ipython",
    "version": 3
   },
   "file_extension": ".py",
   "mimetype": "text/x-python",
   "name": "python",
   "nbconvert_exporter": "python",
   "pygments_lexer": "ipython3",
   "version": "3.5.3"
  }
 },
 "nbformat": 4,
 "nbformat_minor": 2
}
