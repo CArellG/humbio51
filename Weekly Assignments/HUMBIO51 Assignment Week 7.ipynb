{
 "cells": [
  {
   "cell_type": "markdown",
   "metadata": {},
   "source": [
    "## HUMBIO51 Assignment Week 7"
   ]
  },
  {
   "cell_type": "markdown",
   "metadata": {},
   "source": [
    "##  Learning Objectives\n",
    "***Students should be able to***\n",
    "\n",
    "### Identify the most enriched motifs in active enhancer regions.  \n",
    "\n",
    "<ol> \n",
    "<li> <a href=#Sort>Use bedtools commands to sort ChiP-seq peak files by genome coordinates.</a></li>\n",
    "<li> <a href=#Intersect>Use bedtools commands to intersect regions from multiple bed files.</a></li>\n",
    "<li> <a href=#Dict>Use python dictionaries to generate frequencies of transcription factors in active enhancers.</a></li>\n",
    "<li> <a href=#Plot>Generate Bar graphs to visualize the most over-represented transcription factors in GM12878.</a></li>\n",
    "</ol> "
   ]
  },
  {
   "cell_type": "markdown",
   "metadata": {},
   "source": [
    "## Question 1: Using k-means analysis to cluster genomic regions by chromatin state "
   ]
  },
  {
   "cell_type": "markdown",
   "metadata": {},
   "source": [
    "We have sampled 10000 regions from the human reference genome at random. Each region is 200 base pairs long. At each of these regions, we have data from a CHIP-Seq experiment within the K562 cell line (leukemia cell line)  measuring the strength of 5 histone markers: \n",
    "* H3K4me3, \n",
    "* H3K4me1, \n",
    "* H3K36me3, \n",
    "* H3K9me3,\n",
    "* H3K27me3. \n",
    "\n",
    "The data is stored in a file in your Week_7 folder called **region_x_chrom_mark.tsv**\n",
    "\n",
    "This file contains 200 bp genomic regions along the y-axis and values of \"0\", \"0.5\", or \"1\" for each of the 5 histone marks along the x-axis. 0 indicates that the histone mark is not present, 0.5 indicates a weak presence, and 1 indicates a strong presence. "
   ]
  },
  {
   "cell_type": "code",
   "execution_count": 18,
   "metadata": {},
   "outputs": [],
   "source": [
    "#Change your working directory to Week_7\n",
    "import os\n",
    "os.chdir('/opt/humbio51/Weekly Assignments/Week_7')"
   ]
  },
  {
   "cell_type": "markdown",
   "metadata": {},
   "source": [
    "### Question 1a. \n",
    "Perform principal component analysis on the data matrix in **region_x_chrom_mark.tsv** using 5 principal components since we have 5 features. Create a scatter plot to visualize PC1 along the x-axis and PC2 along the y-axis.\n",
    "\n",
    "Hint: refer to the PCA code from class 8.\n",
    "\n",
    "Hint: We are performing PCA on the genome regions, which are located in the rows of the matrix. Therefore, there is not need to transpose the matrix before running PCA. "
   ]
  },
  {
   "cell_type": "code",
   "execution_count": 19,
   "metadata": {},
   "outputs": [],
   "source": [
    "import pandas as pd\n",
    "from sklearn.decomposition import PCA as sklearnPCA\n",
    "from plotnine import * \n",
    "\n",
    "## YOUR CODE HERE ##\n"
   ]
  },
  {
   "cell_type": "markdown",
   "metadata": {},
   "source": [
    "### Question 1b: \n",
    "Looking at the PCA plot, how many clusters would you expect to find in a K-means analysis of this data?"
   ]
  },
  {
   "cell_type": "markdown",
   "metadata": {},
   "source": [
    "**Your answer here:**  "
   ]
  },
  {
   "cell_type": "markdown",
   "metadata": {},
   "source": [
    "### Question 1c: \n",
    "Use the k-means clustering algorithm implementation from class 9 to cluster the 10,000 genomic regions. Use values of k = 2,4,12,15, 20. "
   ]
  },
  {
   "cell_type": "code",
   "execution_count": 21,
   "metadata": {},
   "outputs": [],
   "source": [
    "import sys\n",
    "sys.path.append('/opt/humbio51/helpers')\n",
    "from kmeans_helpers import * \n",
    "from sklearn.cluster import KMeans\n",
    "from sklearn.metrics import silhouette_score,silhouette_samples\n",
    "\n",
    "## YOUR CODE HERE ## "
   ]
  },
  {
   "cell_type": "markdown",
   "metadata": {},
   "source": [
    "## Question 1d\n",
    "\n",
    "Which value of K gives the best clustering as measured by the silhouette score ? Is this answer surprising given what you observe in the PCA? Propose an explanation for the discrepancy. \n",
    "\n",
    "**ANSWER:**\n",
    "\n"
   ]
  },
  {
   "cell_type": "markdown",
   "metadata": {},
   "source": [
    "### Question 1d. \n",
    "Store the results of the K-means clustering analysis for the optimal K in a list called **clusters**. \n",
    "Use your list **clusters** to plot a bar chart indicating how many genomic regions are assigned to each cluster."
   ]
  },
  {
   "cell_type": "code",
   "execution_count": 34,
   "metadata": {},
   "outputs": [],
   "source": [
    "## Generate a variable called clusters to store the output of K-means clustering with the optimal K from the previous question.\n",
    "\n",
    "## YOUR CODE HERE ## \n",
    "\n",
    "## Generate a bar chart to indicate how many genomic regions are assigned to each cluster. "
   ]
  },
  {
   "cell_type": "markdown",
   "metadata": {},
   "source": [
    "### Question 1e. \n",
    "Use the function below to plot a heatmap of the clusters.\n",
    "The x-axis shows the mean of the H3K4me3, H3K4me1, H3K36me3, H3K9me3, and H3K27me3 values for each cluster. The y-axis lists the clusters that you generated. "
   ]
  },
  {
   "cell_type": "code",
   "execution_count": 36,
   "metadata": {},
   "outputs": [],
   "source": [
    "import seaborn as sns\n",
    "def plot_cluster_heatmap(data,clusters,k):\n",
    "    '''\n",
    "    k -- the value of k that gave the best clustering of the data. \n",
    "    data -- original data frame with genomic regions along the y-axis and histone marks along the x-axis \n",
    "    clusters -- list of cluster assignments from K-means clustering. \n",
    "    '''\n",
    "    cluster_summary=None\n",
    "    for c in range(k): \n",
    "        #extract the genomic regions assigned to the current cluster c. \n",
    "        cur_subset=data.iloc[np.where(clusters==c)]\n",
    "        #calculate the mean value for each histone mark in cur_subset \n",
    "        mean_histone_vals=np.mean(cur_subset)\n",
    "        if c==0: \n",
    "            cluster_summary=mean_histone_vals \n",
    "        else: \n",
    "            cluster_summary=pd.concat([cluster_summary,mean_histone_vals],axis=1,ignore_index=True)\n",
    "    flatui = [\"#FFFFFF\", \"#CCCCCC\",\"#000000\"]\n",
    "    sns.heatmap(cluster_summary.transpose(),annot=False,cmap=sns.color_palette(flatui))\n",
    "\n",
    "    \n",
    "## YOUR CODE HERE ##"
   ]
  },
  {
   "cell_type": "markdown",
   "metadata": {},
   "source": [
    "The heatmap shows that each cluster corresponds to a distinct pattern of chromatin histone marks. The ChromHMM project has mapped these combinations of histone marks to the 15 distinct chromatin states included in the annotation file **15_state_chromHMM_annotations.tsv** : \n",
    "\n",
    "http://egg2.wustl.edu/roadmap/data/byFileType/chromhmmSegmentations/ChmmModels/coreMarks/jointModel/final/annotationEnrichment_RoadmapEp_coreMarks_15State.png.\n",
    "\n",
    "Focus on the \"Emissions\" chart in the top left portion of the table: \n",
    "\n",
    "\n",
    "![ChromHMM 15 state Model](../Images/Weekly_HW_6_ChromHMM.png)\n",
    "\n",
    "### Question 1f.### \n",
    "Which cluster maps to which chromatin state? Create a dictionary called \"annotation_dict\" that maps each cluster id to a ChromHMM annotation state.\n",
    "\n",
    "Note: you might have more than 1 cluster mapping to a given chromatin state, and not all chromatin states may be used. This is because we are sampling 10,000 random regions from the genome -- it's possible we don't have good representation for some of the chromatin states in this rather small sample.\n"
   ]
  },
  {
   "cell_type": "code",
   "execution_count": 1,
   "metadata": {},
   "outputs": [],
   "source": [
    "annotation_dict=dict() \n",
    "#For example: \n",
    "annotation_dict[0]=\"Enhancer\"\n",
    "#Fill in the other cluster - state mappings. \n",
    "\n",
    "## YOUR CODE HERE ## "
   ]
  },
  {
   "cell_type": "markdown",
   "metadata": {},
   "source": [
    "## Question 2"
   ]
  },
  {
   "cell_type": "markdown",
   "metadata": {},
   "source": [
    "The ENCODE project has aggregated data from multiple transcription factor ChIP-seq experiments performed on the GM12878 lymphoblastoid cell line [(over 150 such experiments)!](https://www.encodeproject.org/search/?type=Experiment&replicates.library.biosample.donor.organism.scientific_name=Homo+sapiens&biosample_type=immortalized+cell+line&organ_slims=blood&assembly=hg19&assay_title=ChIP-seq&biosample_term_name=GM12878&assay_title=ChIP-seq). We have downloaded and merged the peak calls from these experiments in the file **Week_7/GM12878_allTFBS.bed**. This is a standard bed file with columns for \n",
    "\n",
    "* Chromosome \n",
    "* Start of peak \n",
    "* End of peak \n",
    "* Name of TF (transcription factor) that binds to this site in the genome. \n",
    "\n",
    "Additionally, we have downloaded the ENCODE [active enhancers for the GM12878 cell line.](https://www.encodeproject.org/annotations/ENCSR580CJW/) These were obtained by analyzing H3K27ac ChIP-seq peaks throughout the genome, which are indicative of active enhancer regions. The annotations are stored in the bed file **Week_7/GM12878_enhancer_regions.bed**. \n",
    "\n",
    "\n",
    "Your mission is to identify the transcription factor motifs that are most enriched within the GM12878 active enhancer regions. "
   ]
  },
  {
   "cell_type": "markdown",
   "metadata": {},
   "source": [
    "### Question 2a\n"
   ]
  },
  {
   "cell_type": "code",
   "execution_count": 40,
   "metadata": {},
   "outputs": [],
   "source": [
    "## Examine the format of both files by viewing the first ten lines\n",
    "\n",
    "## YOUR CODE HERE ##"
   ]
  },
  {
   "cell_type": "markdown",
   "metadata": {},
   "source": [
    "### Question 2b \n",
    "Use bedtools to sort both the Week_7/GM12878_enhancer_regions.bed file and the Week_7/GM12878_allTFBS.bed file.  Store the sorted files as \"Week_7/GM12878.enh.sorted.bed\" and \"Week_7/GM12878.TFBS.sorted.bed\" <a name='sort'>"
   ]
  },
  {
   "cell_type": "code",
   "execution_count": 41,
   "metadata": {},
   "outputs": [],
   "source": [
    "## YOUR CODE HERE ##"
   ]
  },
  {
   "cell_type": "markdown",
   "metadata": {},
   "source": [
    "### Question 2c. \n",
    "Use bedtools to identify all TF (transcription factor) binding sites that overlap an enhancer region in GM12878. Store these TF binding sites in a file called **Week_7/TFBS.enh.intersection.bed**.  Examine the contents of file Week_7/TFBS.enh.intersection.bed by viewing the first ten lines of the file."
   ]
  },
  {
   "cell_type": "code",
   "execution_count": 42,
   "metadata": {},
   "outputs": [],
   "source": [
    "## YOUR CODE HERE ## "
   ]
  },
  {
   "cell_type": "markdown",
   "metadata": {},
   "source": [
    "### Question 2d. \n",
    "\n",
    "Complete the function and fill in the code below to generate a dictionary called **TF_count_dict** with the following fields:\n",
    "\n",
    "* Keys are the TF's that bind to enhancer regions within GM12878 (i.e. Pol2, Cmyc, Mxi1, ...) \n",
    "* Values are the number of times that each TF appears in a peak -- this is analogous to the number of lines in the file \"TFBS.enh.intersection.bed\" that contain this TF. \n",
    "\n",
    "It may be helpful to review the syntax for Python dictionaries from lecture 3. "
   ]
  },
  {
   "cell_type": "code",
   "execution_count": null,
   "metadata": {},
   "outputs": [],
   "source": [
    "## YOUR CODE HERE \n",
    "def tally_TF_counts(TF_file_name): \n",
    "    #read in the TF_file_name and store the file lines in a list called 'data'\n",
    "    data=# Your code here \n",
    "    tally_dict=dict() \n",
    "    #iterate through each line in data, split the string contained in each line by the '\\t' delimiter \n",
    "    for line in data: \n",
    "        tokens=line.split('\\t')\n",
    "        #check whether the 4th value in the list tokens (i.e. the TF that binds this site in the genome) \n",
    "        # already exists in tally_dict. You may find the \"if in\" syntax to be useful. \n",
    "        #Your code here \n",
    "        \n",
    "        #if it doesn't exist, create an entry for it in tally_dict, with key = TF and value =1 \n",
    "        #Your code here \n",
    "        \n",
    "        #if it does exist, increment the count for the TF in the dictionary\n",
    "        #Your code here \n",
    "    return tally_dict \n",
    "\n",
    "\n",
    "## Execute the function tally_TF_counts on the file that contains the intersection of peaks and known TF binding sites.\n",
    "## Store the dictionary it returns as TF_count_dict"
   ]
  },
  {
   "cell_type": "markdown",
   "metadata": {},
   "source": [
    "### Question 2e.  \n",
    "Sort the TF's in your dictionary so the TF from the TF that appears the largest number of times at the top of the file to the TF that appears the smallest number of times at the bottom.  "
   ]
  },
  {
   "cell_type": "code",
   "execution_count": null,
   "metadata": {},
   "outputs": [],
   "source": [
    "##hint: Use the function pandas.DataFrame.from_dict to convert your tally_dict into a pandas data frame, for easier sorting \n",
    "## use \"help(pd.DataFrame.from_dict) to learn about the inputs and outputs of this function \n",
    "\n",
    "## YOUR CODE HERE ##\n",
    "\n"
   ]
  },
  {
   "cell_type": "code",
   "execution_count": null,
   "metadata": {},
   "outputs": [],
   "source": [
    "## now, execute the function, passing \"TF_count_dict\" as the input and setting orient=\"index\" \n",
    "## Store the data frame in variable \"df\"\n",
    "df=## Your code here \n"
   ]
  },
  {
   "cell_type": "code",
   "execution_count": null,
   "metadata": {},
   "outputs": [],
   "source": [
    "## Sort the dataframe by column 0 (i.e. this column contains the counts for each TF)\n",
    "## You may find that the pandas.DataFrame.sort_values function is useful.\n",
    "## Make sure you sort in *descending* order so that the most common TF's can be found with the head command. \n",
    "sorted_df=## Your code here \n"
   ]
  },
  {
   "cell_type": "markdown",
   "metadata": {},
   "source": [
    "### Question 2f. \n",
    "What are the five most common transcription factors that bind in GM12878 ? \n",
    "\n",
    "**ANSWER:**"
   ]
  },
  {
   "cell_type": "markdown",
   "metadata": {},
   "source": [
    "### Question 2g: \n",
    "Generate a bar graph representing the frequency of the 30 most common TF's. The x-axis should contain the name of the TF, and the y-axis should contain the number of times it occurs within an active enhancer in GM12878. "
   ]
  },
  {
   "cell_type": "code",
   "execution_count": 69,
   "metadata": {},
   "outputs": [],
   "source": [
    "## hint: You can use the .index function to obtain the TF names from the sorted_df data frame.\n",
    "\n",
    "## hint: by default, the geom=\"bar\" argument to qplot generates a histogram. To make it generate a bar graph with \n",
    "## pre-specified x and y values, add the argument stat=\"identity\" to the qplot function. \n",
    "\n",
    "## hint: you might need to flip the x and y coordinates to make the bar graph axis labels legible\n",
    "\n",
    "## YOUR CODE HERE ##\n"
   ]
  }
 ],
 "metadata": {
  "anaconda-cloud": {},
  "kernelspec": {
   "display_name": "Python 3",
   "language": "python",
   "name": "python3"
  },
  "language_info": {
   "codemirror_mode": {
    "name": "ipython",
    "version": 3
   },
   "file_extension": ".py",
   "mimetype": "text/x-python",
   "name": "python",
   "nbconvert_exporter": "python",
   "pygments_lexer": "ipython3",
   "version": "3.5.6"
  }
 },
 "nbformat": 4,
 "nbformat_minor": 2
}
