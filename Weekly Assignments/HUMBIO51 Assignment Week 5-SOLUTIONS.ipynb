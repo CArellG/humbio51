{
 "cells": [
  {
   "cell_type": "markdown",
   "metadata": {},
   "source": [
    " ## HUMBIO51 Assignment Week 5"
   ]
  },
  {
   "cell_type": "markdown",
   "metadata": {},
   "source": [
    "<ol>\n",
    " <li> <a href=#wc>Use unix commands to count the number of lines in a file. </a></li>\n",
    " <li> <a href=#GORilla>Use GORilla to perform GO-term enrichment analysis. </a></li>\n",
    " <li> <a href=#GeneExpressionIntro>Visualize gene expression variation across cell types and individuals from the GTEx project</a></li>\n",
    " <li><a href=#RNASeqDataFormat>Use unix \"head\" and \"cat\" commands to merge and split files.</a></li>\n",
    " <li><a href=#RNASeqDataFormat>Construct contingency tables to compute GO-term enrichment likelihoods.</a></li>\n",
    " <li><a href=#RNASeqDataFormat>Write a Python expression for Fisher's exact test.</a></li>\n",
    " <li><a href=#RNASeqDataFormat>Apply Fisher's exact test to compute the probability of observing a particular contingency table.</a></li>\n"
   ]
  },
  {
   "cell_type": "markdown",
   "metadata": {},
   "source": [
    "## Question 1\n",
    "We would like to see how the expression of genes associated with GO term \"[GO:0006915](http://amigo.geneontology.org/amigo/term/GO:0006915)\" varies across different organs. We will use kmeans clustering to examine this. "
   ]
  },
  {
   "cell_type": "code",
   "execution_count": 5,
   "metadata": {},
   "outputs": [],
   "source": [
    "%%capture\n",
    "\n",
    "%matplotlib inline\n",
    "from sklearn.cluster import KMeans\n",
    "\n",
    "import warnings\n",
    "warnings.filterwarnings('ignore')\n",
    "\n",
    "import sys\n",
    "sys.path.append('/home/jovyan/humbio51/helpers')\n",
    "from kmeans_helpers import * "
   ]
  },
  {
   "cell_type": "code",
   "execution_count": 6,
   "metadata": {},
   "outputs": [],
   "source": [
    "#Change your working directory to Week_5\n",
    "import os\n",
    "os.chdir('Week_5')"
   ]
  },
  {
   "cell_type": "code",
   "execution_count": null,
   "metadata": {},
   "outputs": [],
   "source": [
    "!ls"
   ]
  },
  {
   "cell_type": "markdown",
   "metadata": {},
   "source": [
    "### Question 1a\n",
    "Load the RNAseq data expression values stored in file **/data/datasets/RNAseq/rnaseq_normalized.tsv** to the variable **rnaseq_data**."
   ]
  },
  {
   "cell_type": "code",
   "execution_count": null,
   "metadata": {},
   "outputs": [],
   "source": [
    "!ls /data"
   ]
  },
  {
   "cell_type": "code",
   "execution_count": null,
   "metadata": {},
   "outputs": [],
   "source": [
    "## YOUR CODE HERE\n",
    "import pandas as pd\n",
    "rnaseq_data = pd.read_table(\n",
    "      filepath_or_buffer='/data/datasets/RNAseq/rnaseq_normalized.tsv', \n",
    "      header=0,\n",
    "      index_col=0)"
   ]
  },
  {
   "cell_type": "markdown",
   "metadata": {},
   "source": [
    "### Question 1b\n",
    "\n",
    "Recall that the rnaseq_data matrix has gene ids (rather than gene names) in the columns. We have converted the gene names in the file **GO_0006915.txt** to gene id's in the file **GO_0006915.ids.txt**. Extract the rows corresponding to the gene list in **GO_0006915.ids.txt** from **rnaseq_data** and store the subset of gene expression values in the variable **rnaseq_data_subset**. "
   ]
  },
  {
   "cell_type": "code",
   "execution_count": null,
   "metadata": {},
   "outputs": [],
   "source": [
    "## YOUR CODE HERE \n",
    "## HINT: read the gene ids in the file \"GO_0006915.ids.txt\" into a list. \n",
    "## This can be done using .read().strip().split('\\n')\n",
    "## HINT user the \"iloc\" command on the rnaseq_data object to extract the list of gene ids  \n",
    "\n",
    "ids=open(\"GO_0006915.ids.txt\",'r').read().strip().split('\\n')\n",
    "rnaseq_data_subset=rnaseq_data.loc[ids]"
   ]
  },
  {
   "cell_type": "markdown",
   "metadata": {},
   "source": [
    "### Question 1c \n",
    "Perform k-means clustering on **rnaseq_data_subset** along the samples axis \n",
    "\n",
    "(hint: consider whether or not the matrix should be transposed to perform clustering along the samples)\n",
    "\n",
    "Try values of k= 2,3,4. \n",
    "Which value of k is most effective in separating samples from clusters? "
   ]
  },
  {
   "cell_type": "code",
   "execution_count": null,
   "metadata": {},
   "outputs": [],
   "source": [
    "## YOUR CODE HERE \n",
    "for k in [3,4,5]:\n",
    "    clusters=scikit_PCAandkmeans(rnaseq_data_subset.transpose(),\n",
    "                       k,\n",
    "                       xlabel='PC1',\n",
    "                       ylabel='PC2',\n",
    "                       plottitle='K-means clustering on the samples in the RNA-seq dataset (PCA-reduced data)'\n",
    "                      )"
   ]
  },
  {
   "cell_type": "markdown",
   "metadata": {},
   "source": [
    "### Question 1d \n",
    "Draw a heatmap of the rnaseq_data_subset. "
   ]
  },
  {
   "cell_type": "code",
   "execution_count": null,
   "metadata": {},
   "outputs": [],
   "source": [
    "import seaborn as sns \n",
    "sns.set(color_codes=False)\n",
    "\n",
    "## YOUR CODE HERE ## (Hint: follow example from class 9)\n",
    "plot_heatmap(rnaseq_data_subset)"
   ]
  },
  {
   "cell_type": "markdown",
   "metadata": {},
   "source": [
    "Does the GO term split the samples into distinct clusters? \n",
    "\n",
    "ANSWER: \n",
    "    "
   ]
  },
  {
   "cell_type": "markdown",
   "metadata": {},
   "source": [
    "## Question 2\n",
    "\n",
    "We will take a close look in this question at how the p-values for GO-term enrichments are calculated by filling in a contingency table. Refer to the slides from class 10 for helpful tips on generating contingency tables and calculating p-values.\n"
   ]
  },
  {
   "cell_type": "markdown",
   "metadata": {},
   "source": [
    "### QUESTION 2a \n",
    "We have downloaded the list of genes associated with GO term [GO:0008380](http://amigo.geneontology.org/amigo/term/GO:0008380). \n",
    "These are located in the Week_5 directory as GO_0008380.txt. \n",
    "\n",
    "These wil be the \"Genes in GO term set\" for the contingency table. \n",
    "\n",
    "Write out the number of genes that are in the G0_0008380 text file using unix commands."
   ]
  },
  {
   "cell_type": "code",
   "execution_count": null,
   "metadata": {},
   "outputs": [],
   "source": [
    "##YOUR CODE HERE\n",
    "!wc -l GO_0008380.txt"
   ]
  },
  {
   "cell_type": "markdown",
   "metadata": {},
   "source": [
    "### QUESTION 2b\n",
    "\n",
    "To make a file for the \"Genes in User set\", we are going to add two hundred randomly selected genes (n = 200) to half of the GO term set.   \n",
    "\n",
    "First use unix commands to print the first half of **GO_0008380.txt** (round down if there are an odd number of genes). Save the genes to a file called: \n",
    "**GO_0008380_half.txt** "
   ]
  },
  {
   "cell_type": "code",
   "execution_count": null,
   "metadata": {},
   "outputs": [],
   "source": [
    "##YOUR CODE HERE \n",
    "!wc -l GO_0008380.txt\n",
    "427/2\n",
    "!head -n 213 GO_0008380.txt > GO_0008380_half.txt"
   ]
  },
  {
   "cell_type": "markdown",
   "metadata": {},
   "source": [
    "### QUESTION 2c\n",
    "\n",
    "Now we will add 200 random genes to the file that was created in 2b. Below, we have defined the **add_random_genes** function: "
   ]
  },
  {
   "cell_type": "code",
   "execution_count": null,
   "metadata": {},
   "outputs": [],
   "source": [
    "def add_random_genes(target_gene_list,background_gene_list,n,outf): \n",
    "    \"\"\"\n",
    "    target_gene_list is a list containing the genes in your gene set of interest \n",
    "    background_gene_list is a list containing the genes in the background (i.e. hg19.names.txt)\n",
    "    n is the number of genes from the background that should be randomly inserted into the target_gene_list \n",
    "    outf is the name of the output file for the gene set with the additional random genes \n",
    "    \"\"\"\n",
    "    #We import the numpy random  library to create a random number generator for selecting random genes from the background\n",
    "    from numpy import random \n",
    "    \n",
    "    #select n random genes from the background gene_list, without replacement \n",
    "    randomized=random.choice(background_gene_list,n,replace=False)\n",
    "\n",
    "    #create a new target gene list by adding the random genes to the target gene list \n",
    "    import itertools \n",
    "    randomized_list=itertools.chain(target_gene_list,randomized )\n",
    "    \n",
    "    #open the output file\n",
    "    out=open(outf,'w')\n",
    "    \n",
    "    #write the randomized target list to the output file \n",
    "    out.write('\\n'.join(randomized_list))\n",
    "    "
   ]
  },
  {
   "cell_type": "markdown",
   "metadata": {},
   "source": [
    "Run the add_random_genes function on **GO_0008380_half.txt** with n = 200. For the background gene list you can use the hg19.names.txt file. \n",
    "\n",
    "Hint: To run the function, you will need to open the GO_0008380_half.txt and hg19.names.txt files. Instead of removing linebreaks like we have in the past, split the file at line breaks using .split('/n') eg:  \n",
    "\n",
    "file=open(filename,'r').read().split('\\n')\n",
    "\n",
    "Save the resulting gene set in the file **randomized_genes.txt** "
   ]
  },
  {
   "cell_type": "code",
   "execution_count": null,
   "metadata": {},
   "outputs": [],
   "source": [
    "## YOUR CODE HERE \n",
    "target_gene_list=open(\"GO_0008380_half.txt\").read().split('\\n')\n",
    "background_gene_list=open(\"hg19.names.txt\").read().split('\\n')\n",
    "n=200 \n",
    "outf=\"randomized_genes.txt\"\n",
    "add_random_genes(target_gene_list,background_gene_list,n,outf)"
   ]
  },
  {
   "cell_type": "markdown",
   "metadata": {},
   "source": [
    "### Question 2d\n",
    "\n",
    "For question 2e, you will fill in a contingency table using: \n",
    "\n",
    "* GO_0008380.txt as the \"Genes in GO term set\". \n",
    "* randomized_genes.txt  as the \"Genes in User set\" \n",
    " \n",
    "We have written the function below to help you calculate the intersection of \"Genes not in User's Gene Set\" and \"Genes not in GO Term set\". This function uses Python [sets](https://docs.python.org/2/library/sets.html), which are similar to lists, but differ in two ways: \n",
    "* the elements in a set are not ordered \n",
    "* all elements in a set are unique \n",
    "\n",
    "Use the \"get_genes_not_in_user_set_or_go_term_set\" function to calculate the number at the intersection of \"Genes not in User's Gene Set\" and \"Genes not in GO Term set\". Store this number in the variable \"genes_not_in_either_set\"\n",
    "\n",
    "Remember that you will need to start off by opening the three files:\n",
    "* GO_0008380.txt    \n",
    "* randomized_genes.txt \n",
    "* hg19.names.txt \n",
    "\n",
    "It will be helpful to use the split command similarily to in question 2c above. "
   ]
  },
  {
   "cell_type": "code",
   "execution_count": null,
   "metadata": {},
   "outputs": [],
   "source": [
    "def get_genes_not_in_user_set_or_go_term_set(genes_in_go_term_set,genes_in_user_set,genes_in_background):\n",
    "    \"\"\"\n",
    "    genes_in_go_term_set is a list containing names of genes associated with the GO term. \n",
    "    genes_in_user_set is a list containing the names of genes in the user's set. \n",
    "    genes_in_background is a list containing the names of genes in the background set. \n",
    "    \"\"\"\n",
    "    #convert all lists to sets to remove duplicated elements \n",
    "    genes_go=set(genes_in_go_term_set)\n",
    "    genes_user=set(genes_in_user_set)\n",
    "    genes_background=set(genes_in_background)\n",
    "    \n",
    "    #subtract the set of genes in the GO term set from the set of genes in the background \n",
    "    background_minus_go=genes_background - genes_go \n",
    "    \n",
    "    #subtract the set of genes in the user set from \"background_minus_go\" \n",
    "    background_minus_go_minus_user=background_minus_go - genes_user \n",
    "    \n",
    "    #return a list containing \"background_minus_go_minus_user\" \n",
    "    return list(background_minus_go_minus_user)\n",
    "\n"
   ]
  },
  {
   "cell_type": "code",
   "execution_count": null,
   "metadata": {},
   "outputs": [],
   "source": [
    "#Use get_genes_not_in_user_set_or_go_term_set to calculate the intersection of \n",
    "#\"Genes not in User's Gene Set\" and \"Genes not in GO Term set\".\n",
    "\n",
    "##YOUR CODE HERE ##\n",
    "genes_in_go_term_set=open(\"GO_0008380.txt\",'r').read().split('\\n')\n",
    "genes_in_user_set=open(\"randomized_genes.txt\",'r').read().split('\\n')\n",
    "genes_in_background=open(\"hg19.names.txt\",'r').read().split('\\n')\n",
    "##YOUR CODE HERE ##\n",
    "genes_not_in_either_set=get_genes_not_in_user_set_or_go_term_set(genes_in_go_term_set,genes_in_user_set,genes_in_background)\n",
    "print(len(genes_in_go_term_set))\n",
    "print(len(genes_in_user_set))\n",
    "print(len(genes_in_background))\n",
    "print(len(genes_not_in_either_set))"
   ]
  },
  {
   "cell_type": "markdown",
   "metadata": {},
   "source": [
    "### Question 2e\n",
    "Now, use the value you obtained in the cell above to help fill in the contingency table: "
   ]
  },
  {
   "cell_type": "markdown",
   "metadata": {},
   "source": [
    "|    Contingency Table     | Genes in User's Gene Set | Genes not in User's Gene Set | Total       |\n",
    "|--------------------------|--------------------------|------------------------------|-------------|\n",
    "| Genes in GO Term set     | YOUR ANSWER              | YOUR ANSWER                  | YOUR ANSWER |\n",
    "| Genes not in GO Term set | YOUR ANSWER              | YOUR ANSWER                  | YOUR ANSWER |\n",
    "| Total                    | YOUR ANSWER              | YOUR ANSWER                  | YOUR ANSWER |"
   ]
  },
  {
   "cell_type": "markdown",
   "metadata": {},
   "source": [
    "### Question 2f \n",
    "\n",
    "Recall from class 10 that Fischer's exact test can be used to calculate the probability of observing a given arrangement of numbers in a contingency table: \n",
    "\n",
    "![Fisher's exact test](../Images/HW_5_FishersTest.png)\n",
    "\n",
    "Fill in the skeleton code below to derive a formula for Fisher's exact test. \n",
    "Hint: We provide a helper function **n_choose_k** that you should incorporate in your code. "
   ]
  },
  {
   "cell_type": "code",
   "execution_count": null,
   "metadata": {},
   "outputs": [],
   "source": [
    "import math\n",
    "def n_choose_k(n,k): \n",
    "    \"\"\"\n",
    "    n = total number of possible outcomes \n",
    "    k = number of outcomes to select at random \n",
    "    \"\"\"\n",
    "    from decimal import Decimal\n",
    "    #We use the Decimal class to help us compute with very large numbers. \n",
    "    #Factorials get very big quickly! \n",
    "    f=math.factorial \n",
    "    return Decimal(f(n))/Decimal(f(k))/Decimal(f(n-k))\n",
    "\n",
    "\n",
    "#Complete this function with your code \n",
    "def fishers_exact_test(genes_in_users_gene_set,\n",
    "                      genes_in_users_gene_set_and_go_term,\n",
    "                      genes_not_in_users_gene_set,\n",
    "                      genes_not_in_users_gene_set_and_in_go_term,\n",
    "                      total,\n",
    "                      genes_in_go_term): \n",
    "    p_value=None \n",
    "    genes_in_users_gene_set=1.0*genes_in_users_gene_set #we convert the integer to a double\n",
    "    #FILL IN THE CODE HERE TO COMPUTE THE PVALUE\n",
    "    p_value=(n_choose_k(genes_in_users_gene_set,genes_in_users_gene_set_and_go_term)*n_choose_k(genes_not_in_users_gene_set,genes_not_in_users_gene_set_and_in_go_term))/n_choose_k(total,genes_in_go_term)\n",
    "    return p_value "
   ]
  },
  {
   "cell_type": "code",
   "execution_count": null,
   "metadata": {},
   "outputs": [],
   "source": [
    "## Execute the fishers_exact_test function to compute the probability of \n",
    "## observing the arrangement of values in your contingency table. \n",
    "## NOTE: The code is computing with very large numbers, so it may take up to 1 minute to run. \n",
    "\n",
    "## YOUR CODE HERE \n",
    "\n",
    "prob=fishers_exact_test(413,227,58168,200,58581,427)\n",
    "print(prob)"
   ]
  },
  {
   "cell_type": "markdown",
   "metadata": {},
   "source": [
    "### QUESTION 3"
   ]
  },
  {
   "cell_type": "markdown",
   "metadata": {},
   "source": [
    "### QUESTION 3a\n",
    "\n",
    "Use the [GORilla tool](http://cbl-gorilla.cs.technion.ac.il/) to identify Biological Process terms that are significantly enriched for the GO:0008380 GO-term gene list.\n",
    "* The background gene set is the set of all human genes, stored in: hg19.names.txt in the Week_5 assignment folder*. \n",
    "* We consider a GO term to be significantly enriched if the FDR q-value is less than 0.05 \n",
    "\n",
    "What description matches the GO term \"GO:0008380\"? \n",
    "\n",
    "ANSWER: \n",
    "RNA Splicing\n",
    "\n",
    "What is the corrected p-value (FDR q-value) for this GO term? \n",
    "\n",
    "ANSWER:\n",
    "0.00\n"
   ]
  },
  {
   "cell_type": "markdown",
   "metadata": {},
   "source": [
    "### QUESTION 3b"
   ]
  },
  {
   "cell_type": "markdown",
   "metadata": {},
   "source": [
    "Let's now find the enriched set of GO terms programmatically using a Python script. This approach should be less tedious than uploading multiple lists of genes to GORilla for analysis in the browser. \n",
    "\n",
    "To perform the analysis programatically, we will use the [goatools](https://github.com/tanghaibao/goatools) Python library. The goatools library provides a script called **find_enrichments.py** to find enriched GO terms in a list of genes. Let's examine the syntax of this script: "
   ]
  },
  {
   "cell_type": "code",
   "execution_count": 7,
   "metadata": {},
   "outputs": [],
   "source": [
    "from goatools import * "
   ]
  },
  {
   "cell_type": "code",
   "execution_count": 2,
   "metadata": {},
   "outputs": [
    {
     "name": "stdout",
     "output_type": "stream",
     "text": [
      "fisher module not installed.  Falling back on scipy.stats.fisher_exact\n",
      "usage: \n",
      "python find_enrichment.py study.file population.file gene-association.file\n",
      "\n",
      "This program returns P-values for functional enrichment in a cluster of study\n",
      "genes using Fisher's exact test, and corrected for multiple testing (including\n",
      "Bonferroni, Holm, Sidak, and false discovery rate).\n",
      "\n",
      "About significance cutoff:\n",
      "--alpha: test-wise alpha; for each GO term, what significance level to apply\n",
      "        (most often you don't need to change this other than 0.05 or 0.01)\n",
      "--pval: experiment-wise alpha; for the entire experiment, what significance\n",
      "        level to apply after Bonferroni correction\n",
      "\n",
      "       [-h] [--annofmt {gene2go,gaf,gpad,id2gos}] [--taxid TAXID]\n",
      "       [--alpha ALPHA] [--pval PVAL] [--pval_field PVAL_FIELD]\n",
      "       [--outfile OUTFILE] [--ns NS] [--id2sym ID2SYM] [--sections SECTIONS]\n",
      "       [--outfile_detail OUTFILE_DETAIL] [--compare] [--ratio RATIO]\n",
      "       [--prt_study_gos_only] [--indent] [--obo OBO] [--no_propagate_counts]\n",
      "       [-r] [--relationships [RELATIONSHIPS [RELATIONSHIPS ...]]]\n",
      "       [--method METHOD] [--pvalcalc PVALCALC] [--min_overlap MIN_OVERLAP]\n",
      "       [--goslim GOSLIM] [--ev_inc EV_INC] [--ev_exc EV_EXC] [--ev_help]\n",
      "       [--ev_help_short]\n",
      "       filenames filenames filenames\n",
      "\n",
      "positional arguments:\n",
      "  filenames             data/study data/population data/association\n",
      "\n",
      "optional arguments:\n",
      "  -h, --help            show this help message and exit\n",
      "  --annofmt {gene2go,gaf,gpad,id2gos}\n",
      "                        Annotation file format. Not needed if type can be\n",
      "                        determined using filename (default: None)\n",
      "  --taxid TAXID         When using NCBI's gene2go annotation file, specify\n",
      "                        desired taxid (default: 9606)\n",
      "  --alpha ALPHA         Test-wise alpha for multiple testing (default: 0.05)\n",
      "  --pval PVAL           Only print results with uncorrected p-value < PVAL.\n",
      "                        Print all results, significant and otherwise, by\n",
      "                        setting --pval=1.0 (default: 0.05)\n",
      "  --pval_field PVAL_FIELD\n",
      "                        Only print results when PVAL_FIELD < PVAL. (default:\n",
      "                        None)\n",
      "  --outfile OUTFILE     Write enrichment results into xlsx or tsv file\n",
      "                        (default: None)\n",
      "  --ns NS               Limit GOEA to specified branch categories.\n",
      "                        BP=Biological Process; MF=Molecular Function;\n",
      "                        CC=Cellular Component (default: BP,MF,CC)\n",
      "  --id2sym ID2SYM       ASCII file containing one geneid and its symbol per\n",
      "                        line (default: None)\n",
      "  --sections SECTIONS   Use sections file for printing grouped GOEA results.\n",
      "                        Example SECTIONS values:\n",
      "                        goatools.test_data.sections.gjoneska_pfenning\n",
      "                        goatools/test_data/sections/gjoneska_pfenning.py\n",
      "                        data/gjoneska_pfenning/sections_in.txt (default: None)\n",
      "  --outfile_detail OUTFILE_DETAIL\n",
      "                        Write enrichment results into a text file containing\n",
      "                        the following information: 1) GOEA GO terms, grouped\n",
      "                        into sections 2) List of genes and ASCII art showing\n",
      "                        section membership 3) Detailed list of each gene and\n",
      "                        GO terms w/their P-values (default: None)\n",
      "  --compare             the population file as a comparison group. if this\n",
      "                        flag is specified, the population is used as the study\n",
      "                        plus the `population/comparison` (default: False)\n",
      "  --ratio RATIO         only show values where the difference between study\n",
      "                        and population ratios is greater than this. useful for\n",
      "                        excluding GO categories with small differences, but\n",
      "                        containing large numbers of genes. should be a value\n",
      "                        between 1 and 2. (default: None)\n",
      "  --prt_study_gos_only  Print GO terms only if they are associated with study\n",
      "                        genes. This is useful if printng all GO results\n",
      "                        regardless of their significance (--pval=1.0).\n",
      "                        (default: False)\n",
      "  --indent              indent GO terms (default: False)\n",
      "  --obo OBO             Specifies location and name of the obo file (default:\n",
      "                        go-basic.obo)\n",
      "  --no_propagate_counts\n",
      "                        Do not propagate counts to parent terms (default:\n",
      "                        False)\n",
      "  -r, --relationship    Propagate counts up all relationships, (default:\n",
      "                        False)\n",
      "  --relationships [RELATIONSHIPS [RELATIONSHIPS ...]]\n",
      "                        Propagate counts up user-specified relationships,\n",
      "                        which include: part_of regulates negatively_regulates\n",
      "                        positively_regulates (default: None)\n",
      "  --method METHOD       Available methods: local( bonferroni sidak holm fdr )\n",
      "                        statsmodels( sm_bonferroni sm_sidak holm_sidak sm_holm\n",
      "                        simes_hochberg hommel fdr_bh fdr_by fdr_tsbh fdr_tsbky\n",
      "                        fdr_gbs ) (default: bonferroni,sidak,holm,fdr_bh)\n",
      "  --pvalcalc PVALCALC   fisher fisher_scipy_stats (default: fisher)\n",
      "  --min_overlap MIN_OVERLAP\n",
      "                        Check that a minimum amount of study genes are in the\n",
      "                        population (default: 0.7)\n",
      "  --goslim GOSLIM       The GO slim file is used when grouping GO terms.\n",
      "                        (default: goslim_generic.obo)\n",
      "  --ev_inc EV_INC       Include specified evidence codes and groups separated\n",
      "                        by commas (default: None)\n",
      "  --ev_exc EV_EXC       Exclude specified evidence codes and groups separated\n",
      "                        by commas (default: None)\n",
      "  --ev_help             Print all Evidence codes, with descriptions (default:\n",
      "                        True)\n",
      "  --ev_help_short       Print all Evidence codes (default: True)\n"
     ]
    }
   ],
   "source": [
    "!find_enrichment.py"
   ]
  },
  {
   "cell_type": "markdown",
   "metadata": {},
   "source": [
    "There are 3 required arguments for the script: \n",
    "    \n",
    "    1. The dataset (list of genes in Week_5/GO_0008380.txt) \n",
    "    2. The background (list of genes in Week_5/hg19.names.txt) \n",
    "    3. A file that associates gene names to GO terms (Week_5/hg19.assocs). We generated this file in advance -- It contains gene names in column 1 and GO terms associated with this gene in column 2. \n",
    "\n",
    "There are also 2 optional inputs to the script that we will find useful: \n",
    "    1. --outfile\n",
    "    The output file to save enriched GO terms \n",
    "    2. --pval_field=fdr_bh \n",
    "    This argument indicates that the script should only return GO Terms enriched with false discovery rate < 0.05. \n",
    "    \n",
    "Use this information to execute the script **find_enrichment.py** and store the output in a file **Week_5/GO_0008380.enrichments.tsv**\n",
    "\n",
    "To execute the find_enrichment.py script you can use !find_enrichment.py followed by the arguments. "
   ]
  },
  {
   "cell_type": "code",
   "execution_count": 8,
   "metadata": {},
   "outputs": [
    {
     "name": "stdout",
     "output_type": "stream",
     "text": [
      "fisher module not installed.  Falling back on scipy.stats.fisher_exact\n",
      "go-basic.obo: fmt(1.2) rel(2018-09-19) 47,343 GO Terms\n",
      "HMS:0:00:02.109899 315,594 annotations READ: hg19.assocs \n",
      "Study: 427 vs. Population 58581\n",
      "\n",
      "\n",
      "Load BP Gene Ontology Analysis ...\n",
      "fisher module not installed.  Falling back on scipy.stats.fisher_exact\n",
      "Propagating term counts up: is_a\n",
      " 29% 16,878 of 58,581 population items found in association\n",
      "\n",
      "Load CC Gene Ontology Analysis ...\n",
      "fisher module not installed.  Falling back on scipy.stats.fisher_exact\n",
      "Propagating term counts up: is_a\n",
      " 31% 17,901 of 58,581 population items found in association\n",
      "\n",
      "Load MF Gene Ontology Analysis ...\n",
      "fisher module not installed.  Falling back on scipy.stats.fisher_exact\n",
      "Propagating term counts up: is_a\n",
      " 29% 16,821 of 58,581 population items found in association\n",
      "\n",
      "Run BP Gene Ontology Analysis: current study set of 427 IDs ...100%    413 of    413 study items found in association\n",
      " 97%    413 of    427 study items found in population(58581)\n",
      "Calculating 15,429 uncorrected p-values using fisher_scipy_stats\n",
      "  15,429 GO terms are associated with 16,878 of 58,581 population items\n",
      "   2,949 GO terms are associated with    413 of    427 study items\n",
      "  METHOD bonferroni:\n",
      "     312 GO terms found significant (< 0.05=alpha) (312 enriched +   0 purified): local bonferroni\n",
      "     413 study items associated with significant GO IDs (enriched)\n",
      "       0 study items associated with significant GO IDs (purified)\n",
      "  METHOD sidak:\n",
      "     312 GO terms found significant (< 0.05=alpha) (312 enriched +   0 purified): local sidak\n",
      "     413 study items associated with significant GO IDs (enriched)\n",
      "       0 study items associated with significant GO IDs (purified)\n",
      "  METHOD holm:\n",
      "     312 GO terms found significant (< 0.05=alpha) (312 enriched +   0 purified): local holm\n",
      "     413 study items associated with significant GO IDs (enriched)\n",
      "       0 study items associated with significant GO IDs (purified)\n",
      "  METHOD fdr_bh:\n",
      "     569 GO terms found significant (< 0.05=alpha) (569 enriched +   0 purified): statsmodels fdr_bh\n",
      "     413 study items associated with significant GO IDs (enriched)\n",
      "       0 study items associated with significant GO IDs (purified)\n",
      "\n",
      "Run CC Gene Ontology Analysis: current study set of 427 IDs ... 99%    410 of    413 study items found in association\n",
      " 97%    413 of    427 study items found in population(58581)\n",
      "Calculating 1,962 uncorrected p-values using fisher_scipy_stats\n",
      "   1,962 GO terms are associated with 17,901 of 58,581 population items\n",
      "     440 GO terms are associated with    410 of    427 study items\n",
      "  METHOD bonferroni:\n",
      "     113 GO terms found significant (< 0.05=alpha) (110 enriched +   3 purified): local bonferroni\n",
      "     410 study items associated with significant GO IDs (enriched)\n",
      "      18 study items associated with significant GO IDs (purified)\n",
      "  METHOD sidak:\n",
      "     113 GO terms found significant (< 0.05=alpha) (110 enriched +   3 purified): local sidak\n",
      "     410 study items associated with significant GO IDs (enriched)\n",
      "      18 study items associated with significant GO IDs (purified)\n",
      "  METHOD holm:\n",
      "     113 GO terms found significant (< 0.05=alpha) (110 enriched +   3 purified): local holm\n",
      "     410 study items associated with significant GO IDs (enriched)\n",
      "      18 study items associated with significant GO IDs (purified)\n",
      "  METHOD fdr_bh:\n",
      "     150 GO terms found significant (< 0.05=alpha) (147 enriched +   3 purified): statsmodels fdr_bh\n",
      "     410 study items associated with significant GO IDs (enriched)\n",
      "      18 study items associated with significant GO IDs (purified)\n",
      "\n",
      "Run MF Gene Ontology Analysis: current study set of 427 IDs ... 99%    410 of    413 study items found in association\n",
      " 97%    413 of    427 study items found in population(58581)\n",
      "Calculating 4,622 uncorrected p-values using fisher_scipy_stats\n",
      "   4,622 GO terms are associated with 16,821 of 58,581 population items\n",
      "     579 GO terms are associated with    410 of    427 study items\n",
      "  METHOD bonferroni:\n",
      "     124 GO terms found significant (< 0.05=alpha) (124 enriched +   0 purified): local bonferroni\n",
      "     410 study items associated with significant GO IDs (enriched)\n",
      "       0 study items associated with significant GO IDs (purified)\n",
      "  METHOD sidak:\n",
      "     124 GO terms found significant (< 0.05=alpha) (124 enriched +   0 purified): local sidak\n",
      "     410 study items associated with significant GO IDs (enriched)\n",
      "       0 study items associated with significant GO IDs (purified)\n",
      "  METHOD holm:\n",
      "     124 GO terms found significant (< 0.05=alpha) (124 enriched +   0 purified): local holm\n",
      "     410 study items associated with significant GO IDs (enriched)\n",
      "       0 study items associated with significant GO IDs (purified)\n",
      "  METHOD fdr_bh:\n",
      "     181 GO terms found significant (< 0.05=alpha) (180 enriched +   1 purified): statsmodels fdr_bh\n",
      "     410 study items associated with significant GO IDs (enriched)\n",
      "       0 study items associated with significant GO IDs (purified)\n",
      "  1,910 of 22,013 results have uncorrected P-values <= 0.05=pval\n",
      "\n",
      "    900 items WROTE: GO_0008380.enrichments.tsv\n"
     ]
    }
   ],
   "source": [
    "#Execute the find_enrichment.py script for G0_0008380\n",
    "! find_enrichment.py GO_0008380.txt hg19.names.txt hg19.assocs --outfile GO_0008380.enrichments.tsv --pval_field=fdr_bh"
   ]
  },
  {
   "cell_type": "markdown",
   "metadata": {},
   "source": [
    "Use the Unix head command to examine the format of the file \"GO_0008380.enrichments.tsv\""
   ]
  },
  {
   "cell_type": "code",
   "execution_count": 9,
   "metadata": {},
   "outputs": [
    {
     "name": "stdout",
     "output_type": "stream",
     "text": [
      "# GO\tNS\tenrichment\tname\tratio_in_study\tratio_in_pop\tp_uncorrected\tdepth\tstudy_count\tp_bonferroni\tp_sidak\tp_holm\tp_fdr_bh\tstudy_items\n",
      "GO:0008380\tBP\te\tRNA splicing\t352/413\t352/58581\t0.0\t8\t352\t0.0\t0.0\t0.0\t0.0\tACIN1, AFF2, AKAP17A, AKAP8L, ALYREF, AQR, ARL6IP4, BCAS2, BRDT, BUD13, BUD31, C1QBP, CACTIN, CASC3, CCAR1, CCAR2, CD2BP2, CDC40, CDC5L, CDK12, CDK13, CELF3, CELF4, CHERP, CIR1, CLASRP, CLP1, CPSF1, CPSF2, CPSF3, CPSF4, CPSF7, CRNKL1, CSTF1, CSTF2, CSTF2T, CSTF3, CTNNBL1, CWC15, CWC22, CWC25, CWC27, DBR1, DCPS, DDX1, DDX17, DDX23, DDX39A, DDX39B, DDX41, DDX42, DDX46, DDX47, DDX5, DHX15, DHX16, DHX35, DHX38, DHX40, DHX8, DHX9, DNAJC8, ECD, EFTUD2, EIF4A3, ELAVL1, ELAVL2, ERN1, ESRP1, ESRP2, FAM172A, FIP1L1, FMR1, FRG1, FUS, GCFC2, GEMIN2, GEMIN5, GEMIN6, GEMIN7, GPATCH1, GPKOW, GTF2F1, GTF2F2, HABP4, HNRNPA0, HNRNPA1, HNRNPA1L2, HNRNPA2B1, HNRNPA3, HNRNPC, HNRNPD, HNRNPF, HNRNPH1, HNRNPH2, HNRNPH3, HNRNPK, HNRNPL, HNRNPM, HNRNPR, HNRNPU, HNRNPUL1, HSPA8, HTATSF1, IK, ISY1, IVNS1ABP, IWS1, JMJD6, KDM1A, KHSRP, LGALS3, LSM1, LSM10, LSM2, LSM3, LSM4, LSM5, LSM6, LSM7, LSM8, LUC7L3, MAGOH, MAGOHB, MBNL1, MBNL2, MBNL3, METTL14, METTL3, MFAP1, MPHOSPH10, NCBP1, NCBP2, NCBP2L, NOL3, NONO, NOVA1, NOVA2, NSRP1, NUDT21, PABPC1, PABPN1, PAPOLA, PCBP1, PCBP2, PCF11, PDCD7, PHF5A, PLRG1, PNN, POLR2A, POLR2B, POLR2C, POLR2D, POLR2E, POLR2F, POLR2G, POLR2H, POLR2I, POLR2J, POLR2K, POLR2L, PPARGC1A, PPIE, PPIG, PPIH, PPIL1, PPIL3, PPP1R8, PPP1R9B, PPP2CA, PPP2R1A, PPP4R2, PPWD1, PQBP1, PRCC, PRPF18, PRPF19, PRPF3, PRPF31, PRPF38A, PRPF38B, PRPF4, PRPF40A, PRPF40B, PRPF4B, PRPF6, PRPF8, PTBP1, PTBP3, PUF60, QKI, RALY, RBFOX1, RBFOX2, RBFOX3, RBM10, RBM11, RBM15B, RBM17, RBM19, RBM20, RBM22, RBM24, RBM25, RBM28, RBM38, RBM39, RBM4, RBM41, RBM4B, RBM5, RBM8A, RBMX, RBMX2, RBMXL1, RBMXL2, RBMXL3, RBMY1A1, RBMY1B, RBMY1D, RBMY1E, RBMY1F, RBPMS, RBPMS2, RNF113A, RNF113B, RNPC3, RNPS1, RP9, RRAGC, RRP1B, RSRC1, RTCB, SAP18, SART1, SART3, SCAF1, SCAF11, SCAF8, SCNM1, SF1, SF3A1, SF3A2, SF3A3, SF3B1, SF3B2, SF3B3, SF3B4, SF3B5, SF3B6, SFPQ, SFSWAP, SLU7, SMNDC1, SMU1, SNRNP200, SNRNP25, SNRNP27, SNRNP35, SNRNP40, SNRNP48, SNRNP70, SNRPA, SNRPA1, SNRPB, SNRPB2, SNRPC, SNRPD1, SNRPD2, SNRPD3, SNRPE, SNRPF, SNRPG, SNRPGP15, SNRPN, SNW1, SON, SREK1, SREK1IP1, SRPK1, SRPK2, SRRM1, SRRM2, SRRM4, SRRT, SRSF1, SRSF10, SRSF11, SRSF12, SRSF2, SRSF3, SRSF4, SRSF5, SRSF6, SRSF7, SRSF8, SRSF9, SUGP1, SUGP2, SUPT6H, SYF2, SYMPK, SYNCRIP, TARDBP, TFIP11, THOC1, THOC2, THOC3, THOC5, THOC6, THOC7, THRAP3, TRA2A, TRA2B, TRPT1, TSEN15, TSEN2, TSEN54, TTF2, TXNL4A, TXNL4B, U2AF1, U2AF1L4, U2AF2, U2SURP, UBL5, UPF3B, USB1, USP39, USP49, WBP11, WBP4, WDR33, WDR83, WT1, WTAP, XAB2, YBX1, ZBTB8OS, ZC3H13, ZCCHC8, ZCRB1, ZMAT2, ZMAT5, ZNF326, ZNF638, ZNF830, ZPR1, ZRANB2, ZRSR1, ZRSR2\n",
      "GO:0006725\tBP\te\tcellular aromatic compound metabolic process\t374/413\t2878/58581\t0.0\t3\t374\t0.0\t0.0\t0.0\t0.0\tACIN1, AFF2, AKAP17A, AKAP8L, ALYREF, AQR, ARL6IP4, BCAS2, BRDT, BUD13, BUD31, C1QBP, CACTIN, CASC3, CCAR1, CCAR2, CD2BP2, CDC40, CDC5L, CDK12, CDK13, CELF1, CELF2, CELF3, CELF4, CHERP, CIR1, CLASRP, CLP1, CPSF1, CPSF2, CPSF3, CPSF4, CPSF7, CRNKL1, CSTF1, CSTF2, CSTF2T, CSTF3, CTNNBL1, CWC15, CWC22, CWC25, CWC27, DBR1, DCPS, DDX1, DDX17, DDX20, DDX23, DDX39A, DDX39B, DDX41, DDX42, DDX46, DDX47, DDX5, DHX15, DHX16, DHX35, DHX38, DHX40, DHX8, DHX9, DNAJC8, ECD, EFTUD2, EIF4A3, ELAVL1, ELAVL2, ERN1, ESRP1, ESRP2, FAM172A, FIP1L1, FMR1, FRG1, FUS, GCFC2, GEMIN2, GEMIN4, GEMIN5, GEMIN6, GEMIN7, GPATCH1, GPKOW, GTF2F1, GTF2F2, HABP4, HNRNPA0, HNRNPA1, HNRNPA1L2, HNRNPA2B1, HNRNPA3, HNRNPC, HNRNPD, HNRNPF, HNRNPH1, HNRNPH2, HNRNPH3, HNRNPK, HNRNPL, HNRNPLL, HNRNPM, HNRNPR, HNRNPU, HNRNPUL1, HSPA1A, HSPA8, HTATSF1, IK, ISY1, IVNS1ABP, IWS1, JMJD6, KDM1A, KHDRBS1, KHDRBS2, KHDRBS3, KHSRP, LGALS3, LSM1, LSM10, LSM2, LSM3, LSM4, LSM5, LSM6, LSM7, LSM8, LUC7L3, MAGOH, MAGOHB, MBNL1, MBNL2, MBNL3, METTL14, METTL16, METTL3, MFAP1, MPHOSPH10, NCBP1, NCBP2, NCBP2L, NOL3, NONO, NOVA1, NOVA2, NSRP1, NUDT21, NUP98, PABPC1, PABPN1, PAPOLA, PCBP1, PCBP2, PCF11, PDCD7, PHF5A, PLRG1, PNN, POLR2A, POLR2B, POLR2C, POLR2D, POLR2E, POLR2F, POLR2G, POLR2H, POLR2I, POLR2J, POLR2K, POLR2L, PPARGC1A, PPIE, PPIG, PPIH, PPIL1, PPIL3, PPP1R8, PPP1R9B, PPP2CA, PPP2R1A, PPP4R2, PPWD1, PQBP1, PRCC, PRMT5, PRMT7, PRPF18, PRPF19, PRPF3, PRPF31, PRPF38A, PRPF38B, PRPF4, PRPF40A, PRPF40B, PRPF4B, PRPF6, PRPF8, PTBP1, PTBP3, PUF60, QKI, RALY, RBFOX1, RBFOX2, RBFOX3, RBM10, RBM11, RBM15, RBM15B, RBM17, RBM19, RBM20, RBM22, RBM24, RBM25, RBM28, RBM3, RBM38, RBM39, RBM4, RBM41, RBM4B, RBM5, RBM8A, RBMX, RBMX2, RBMXL1, RBMXL2, RBMXL3, RBMY1A1, RBMY1B, RBMY1D, RBMY1E, RBMY1F, RBPMS, RBPMS2, RNF113A, RNF113B, RNPC3, RNPS1, RP9, RPS13, RPS26, RRAGC, RRP1B, RSRC1, RTCB, SAP18, SART1, SART3, SCAF1, SCAF11, SCAF8, SCNM1, SETX, SF1, SF3A1, SF3A2, SF3A3, SF3B1, SF3B2, SF3B3, SF3B4, SF3B5, SF3B6, SFPQ, SFSWAP, SLU7, SMN1, SMNDC1, SMU1, SNRNP200, SNRNP25, SNRNP27, SNRNP35, SNRNP40, SNRNP48, SNRNP70, SNRPA, SNRPA1, SNRPB, SNRPB2, SNRPC, SNRPD1, SNRPD2, SNRPD3, SNRPE, SNRPF, SNRPG, SNRPGP15, SNRPN, SNW1, SON, SREK1, SREK1IP1, SRPK1, SRPK2, SRRM1, SRRM2, SRRM4, SRRT, SRSF1, SRSF10, SRSF11, SRSF12, SRSF2, SRSF3, SRSF4, SRSF5, SRSF6, SRSF7, SRSF8, SRSF9, SUGP1, SUGP2, SUPT6H, SYF2, SYMPK, SYNCRIP, TARDBP, TFIP11, TGS1, THOC1, THOC2, THOC3, THOC5, THOC6, THOC7, THRAP3, TRA2A, TRA2B, TRPT1, TSEN15, TSEN2, TSEN34, TSEN54, TTF2, TXNL4A, TXNL4B, U2AF1, U2AF1L4, U2AF2, U2SURP, UBL5, UPF3B, USB1, USP39, USP49, WBP11, WBP4, WDR33, WDR83, WT1, WTAP, XAB2, YBX1, ZBTB7A, ZBTB8OS, ZC3H13, ZCCHC8, ZCRB1, ZMAT2, ZMAT5, ZNF326, ZNF638, ZNF830, ZPR1, ZRANB2, ZRSR1, ZRSR2\n",
      "GO:0006397\tBP\te\tmRNA processing\t336/413\t417/58581\t0.0\t8\t336\t0.0\t0.0\t0.0\t0.0\tACIN1, AFF2, AKAP17A, AKAP8L, ALYREF, AQR, ARL6IP4, BCAS2, BRDT, BUD13, BUD31, C1QBP, CACTIN, CASC3, CCAR1, CCAR2, CD2BP2, CDC40, CDC5L, CDK12, CDK13, CELF1, CELF4, CHERP, CIR1, CLASRP, CLP1, CPSF1, CPSF2, CPSF3, CPSF4, CPSF7, CRNKL1, CSTF1, CSTF2, CSTF2T, CSTF3, CTNNBL1, CWC15, CWC22, CWC25, CWC27, DBR1, DCPS, DDX17, DDX23, DDX39A, DDX39B, DDX41, DDX42, DDX46, DDX47, DDX5, DHX15, DHX16, DHX35, DHX38, DHX40, DHX8, DHX9, DNAJC8, ECD, EFTUD2, EIF4A3, ELAVL1, ELAVL2, ERN1, ESRP1, ESRP2, FAM172A, FIP1L1, FMR1, FRG1, FUS, GCFC2, GEMIN2, GEMIN5, GEMIN6, GEMIN7, GPATCH1, GPKOW, GTF2F1, GTF2F2, HABP4, HNRNPA0, HNRNPA1, HNRNPA1L2, HNRNPA2B1, HNRNPA3, HNRNPC, HNRNPD, HNRNPF, HNRNPH1, HNRNPH2, HNRNPH3, HNRNPK, HNRNPL, HNRNPLL, HNRNPM, HNRNPR, HNRNPU, HNRNPUL1, HSPA8, HTATSF1, IK, ISY1, IWS1, JMJD6, KDM1A, KHDRBS1, KHDRBS2, KHDRBS3, KHSRP, LGALS3, LSM1, LSM10, LSM2, LSM3, LSM4, LSM5, LSM6, LSM7, LSM8, MAGOH, MAGOHB, MBNL1, MBNL2, MBNL3, METTL14, METTL3, MFAP1, NCBP1, NCBP2, NCBP2L, NONO, NOVA1, NOVA2, NSRP1, NUDT21, PABPC1, PABPN1, PAPOLA, PCBP1, PCBP2, PCF11, PDCD7, PHF5A, PLRG1, PNN, POLR2A, POLR2B, POLR2C, POLR2D, POLR2E, POLR2F, POLR2G, POLR2H, POLR2I, POLR2J, POLR2K, POLR2L, PPARGC1A, PPIE, PPIH, PPIL1, PPIL3, PPP1R8, PPP4R2, PPWD1, PQBP1, PRCC, PRPF18, PRPF19, PRPF3, PRPF31, PRPF38A, PRPF38B, PRPF4, PRPF40A, PRPF40B, PRPF4B, PRPF6, PRPF8, PTBP1, PTBP3, PUF60, QKI, RALY, RBFOX1, RBFOX2, RBFOX3, RBM10, RBM11, RBM15B, RBM17, RBM19, RBM20, RBM22, RBM24, RBM25, RBM28, RBM38, RBM39, RBM4, RBM41, RBM4B, RBM5, RBM8A, RBMX, RBMX2, RBMXL1, RBMXL2, RBMXL3, RBMY1A1, RBMY1B, RBMY1D, RBMY1E, RBMY1F, RBPMS, RBPMS2, RNPC3, RNPS1, RRP1B, RSRC1, SAP18, SART1, SART3, SCAF1, SCAF11, SCAF8, SCNM1, SF1, SF3A1, SF3A2, SF3A3, SF3B1, SF3B2, SF3B3, SF3B4, SF3B5, SF3B6, SFPQ, SFSWAP, SLU7, SMNDC1, SMU1, SNRNP200, SNRNP25, SNRNP27, SNRNP35, SNRNP40, SNRNP48, SNRNP70, SNRPA, SNRPA1, SNRPB, SNRPB2, SNRPC, SNRPD1, SNRPD2, SNRPD3, SNRPE, SNRPF, SNRPG, SNRPGP15, SNRPN, SNW1, SON, SREK1, SREK1IP1, SRRM1, SRRM2, SRRM4, SRRT, SRSF1, SRSF10, SRSF11, SRSF12, SRSF2, SRSF3, SRSF4, SRSF5, SRSF6, SRSF7, SRSF8, SRSF9, SUGP1, SUGP2, SUPT6H, SYF2, SYMPK, SYNCRIP, TARDBP, TFIP11, THOC1, THOC2, THOC3, THOC5, THOC6, THOC7, THRAP3, TRA2A, TRA2B, TSEN15, TSEN2, TSEN34, TSEN54, TTF2, TXNL4A, TXNL4B, U2AF1, U2AF1L4, U2AF2, U2SURP, UBL5, UPF3B, USP39, USP49, WBP11, WBP4, WDR33, WDR83, WTAP, XAB2, YBX1, ZC3H13, ZCCHC8, ZCRB1, ZMAT2, ZMAT5, ZNF326, ZNF830, ZPR1, ZRANB2, ZRSR1, ZRSR2\n",
      "GO:0000377\tBP\te\tRNA splicing, via transesterification reactions with bulged adenosine as nucleophile\t248/413\t248/58581\t0.0\t10\t248\t0.0\t0.0\t0.0\t0.0\tALYREF, AQR, BCAS2, BUD13, BUD31, CACTIN, CASC3, CCAR1, CD2BP2, CDC40, CDC5L, CDK13, CELF4, CHERP, CLP1, CPSF1, CPSF2, CPSF3, CPSF4, CPSF7, CRNKL1, CSTF1, CSTF2, CSTF2T, CSTF3, CTNNBL1, CWC15, CWC22, CWC25, CWC27, DBR1, DCPS, DDX17, DDX23, DDX39A, DDX39B, DDX41, DDX42, DDX46, DDX5, DHX15, DHX16, DHX35, DHX38, DHX40, DHX8, DHX9, DNAJC8, EFTUD2, EIF4A3, ELAVL1, ELAVL2, ESRP2, FIP1L1, FRG1, FUS, GCFC2, GEMIN5, GEMIN6, GEMIN7, GPATCH1, GPKOW, GTF2F1, GTF2F2, HNRNPA0, HNRNPA1, HNRNPA2B1, HNRNPA3, HNRNPC, HNRNPD, HNRNPF, HNRNPH1, HNRNPH2, HNRNPH3, HNRNPK, HNRNPL, HNRNPM, HNRNPR, HNRNPU, HNRNPUL1, HSPA8, HTATSF1, IK, ISY1, KDM1A, LSM2, LSM3, LSM4, LSM5, LSM6, LSM7, LSM8, MAGOH, MAGOHB, METTL14, METTL3, MFAP1, NCBP1, NCBP2, NCBP2L, NOVA1, NOVA2, NUDT21, PABPC1, PABPN1, PAPOLA, PCBP1, PCBP2, PCF11, PDCD7, PHF5A, PLRG1, PNN, POLR2A, POLR2B, POLR2C, POLR2D, POLR2E, POLR2F, POLR2G, POLR2H, POLR2I, POLR2J, POLR2K, POLR2L, PPIE, PPIH, PPIL1, PPIL3, PPWD1, PQBP1, PRCC, PRPF19, PRPF3, PRPF31, PRPF38A, PRPF4, PRPF40A, PRPF40B, PRPF4B, PRPF6, PRPF8, PTBP1, PUF60, RALY, RBM17, RBM19, RBM22, RBM4, RBM41, RBM4B, RBM5, RBM8A, RBMX, RBMX2, RBMXL2, RBMXL3, RBMY1A1, RBMY1D, RBMY1E, RBMY1F, RBPMS, RBPMS2, RNPC3, RNPS1, RSRC1, SART1, SART3, SF1, SF3A1, SF3A2, SF3A3, SF3B1, SF3B2, SF3B3, SF3B4, SF3B5, SF3B6, SFPQ, SFSWAP, SLU7, SMNDC1, SMU1, SNRNP200, SNRNP25, SNRNP27, SNRNP35, SNRNP40, SNRNP48, SNRNP70, SNRPA, SNRPA1, SNRPB, SNRPB2, SNRPC, SNRPD1, SNRPD2, SNRPD3, SNRPE, SNRPF, SNRPG, SNRPGP15, SNRPN, SNW1, SRRM1, SRRM2, SRRT, SRSF1, SRSF10, SRSF11, SRSF12, SRSF2, SRSF3, SRSF4, SRSF5, SRSF6, SRSF7, SRSF8, SRSF9, SUGP1, SYF2, SYMPK, SYNCRIP, TFIP11, TRA2A, TRA2B, TXNL4A, TXNL4B, U2AF1, U2AF1L4, U2AF2, U2SURP, UBL5, UPF3B, USP39, USP49, WBP11, WBP4, WDR33, WDR83, XAB2, YBX1, ZCCHC8, ZCRB1, ZMAT2, ZMAT5, ZRSR1, ZRSR2\n",
      "GO:1901360\tBP\te\torganic cyclic compound metabolic process\t374/413\t3087/58581\t0.0\t3\t374\t0.0\t0.0\t0.0\t0.0\tACIN1, AFF2, AKAP17A, AKAP8L, ALYREF, AQR, ARL6IP4, BCAS2, BRDT, BUD13, BUD31, C1QBP, CACTIN, CASC3, CCAR1, CCAR2, CD2BP2, CDC40, CDC5L, CDK12, CDK13, CELF1, CELF2, CELF3, CELF4, CHERP, CIR1, CLASRP, CLP1, CPSF1, CPSF2, CPSF3, CPSF4, CPSF7, CRNKL1, CSTF1, CSTF2, CSTF2T, CSTF3, CTNNBL1, CWC15, CWC22, CWC25, CWC27, DBR1, DCPS, DDX1, DDX17, DDX20, DDX23, DDX39A, DDX39B, DDX41, DDX42, DDX46, DDX47, DDX5, DHX15, DHX16, DHX35, DHX38, DHX40, DHX8, DHX9, DNAJC8, ECD, EFTUD2, EIF4A3, ELAVL1, ELAVL2, ERN1, ESRP1, ESRP2, FAM172A, FIP1L1, FMR1, FRG1, FUS, GCFC2, GEMIN2, GEMIN4, GEMIN5, GEMIN6, GEMIN7, GPATCH1, GPKOW, GTF2F1, GTF2F2, HABP4, HNRNPA0, HNRNPA1, HNRNPA1L2, HNRNPA2B1, HNRNPA3, HNRNPC, HNRNPD, HNRNPF, HNRNPH1, HNRNPH2, HNRNPH3, HNRNPK, HNRNPL, HNRNPLL, HNRNPM, HNRNPR, HNRNPU, HNRNPUL1, HSPA1A, HSPA8, HTATSF1, IK, ISY1, IVNS1ABP, IWS1, JMJD6, KDM1A, KHDRBS1, KHDRBS2, KHDRBS3, KHSRP, LGALS3, LSM1, LSM10, LSM2, LSM3, LSM4, LSM5, LSM6, LSM7, LSM8, LUC7L3, MAGOH, MAGOHB, MBNL1, MBNL2, MBNL3, METTL14, METTL16, METTL3, MFAP1, MPHOSPH10, NCBP1, NCBP2, NCBP2L, NOL3, NONO, NOVA1, NOVA2, NSRP1, NUDT21, NUP98, PABPC1, PABPN1, PAPOLA, PCBP1, PCBP2, PCF11, PDCD7, PHF5A, PLRG1, PNN, POLR2A, POLR2B, POLR2C, POLR2D, POLR2E, POLR2F, POLR2G, POLR2H, POLR2I, POLR2J, POLR2K, POLR2L, PPARGC1A, PPIE, PPIG, PPIH, PPIL1, PPIL3, PPP1R8, PPP1R9B, PPP2CA, PPP2R1A, PPP4R2, PPWD1, PQBP1, PRCC, PRMT5, PRMT7, PRPF18, PRPF19, PRPF3, PRPF31, PRPF38A, PRPF38B, PRPF4, PRPF40A, PRPF40B, PRPF4B, PRPF6, PRPF8, PTBP1, PTBP3, PUF60, QKI, RALY, RBFOX1, RBFOX2, RBFOX3, RBM10, RBM11, RBM15, RBM15B, RBM17, RBM19, RBM20, RBM22, RBM24, RBM25, RBM28, RBM3, RBM38, RBM39, RBM4, RBM41, RBM4B, RBM5, RBM8A, RBMX, RBMX2, RBMXL1, RBMXL2, RBMXL3, RBMY1A1, RBMY1B, RBMY1D, RBMY1E, RBMY1F, RBPMS, RBPMS2, RNF113A, RNF113B, RNPC3, RNPS1, RP9, RPS13, RPS26, RRAGC, RRP1B, RSRC1, RTCB, SAP18, SART1, SART3, SCAF1, SCAF11, SCAF8, SCNM1, SETX, SF1, SF3A1, SF3A2, SF3A3, SF3B1, SF3B2, SF3B3, SF3B4, SF3B5, SF3B6, SFPQ, SFSWAP, SLU7, SMN1, SMNDC1, SMU1, SNRNP200, SNRNP25, SNRNP27, SNRNP35, SNRNP40, SNRNP48, SNRNP70, SNRPA, SNRPA1, SNRPB, SNRPB2, SNRPC, SNRPD1, SNRPD2, SNRPD3, SNRPE, SNRPF, SNRPG, SNRPGP15, SNRPN, SNW1, SON, SREK1, SREK1IP1, SRPK1, SRPK2, SRRM1, SRRM2, SRRM4, SRRT, SRSF1, SRSF10, SRSF11, SRSF12, SRSF2, SRSF3, SRSF4, SRSF5, SRSF6, SRSF7, SRSF8, SRSF9, SUGP1, SUGP2, SUPT6H, SYF2, SYMPK, SYNCRIP, TARDBP, TFIP11, TGS1, THOC1, THOC2, THOC3, THOC5, THOC6, THOC7, THRAP3, TRA2A, TRA2B, TRPT1, TSEN15, TSEN2, TSEN34, TSEN54, TTF2, TXNL4A, TXNL4B, U2AF1, U2AF1L4, U2AF2, U2SURP, UBL5, UPF3B, USB1, USP39, USP49, WBP11, WBP4, WDR33, WDR83, WT1, WTAP, XAB2, YBX1, ZBTB7A, ZBTB8OS, ZC3H13, ZCCHC8, ZCRB1, ZMAT2, ZMAT5, ZNF326, ZNF638, ZNF830, ZPR1, ZRANB2, ZRSR1, ZRSR2\n",
      "GO:0046483\tBP\te\theterocycle metabolic process\t374/413\t2836/58581\t0.0\t3\t374\t0.0\t0.0\t0.0\t0.0\tACIN1, AFF2, AKAP17A, AKAP8L, ALYREF, AQR, ARL6IP4, BCAS2, BRDT, BUD13, BUD31, C1QBP, CACTIN, CASC3, CCAR1, CCAR2, CD2BP2, CDC40, CDC5L, CDK12, CDK13, CELF1, CELF2, CELF3, CELF4, CHERP, CIR1, CLASRP, CLP1, CPSF1, CPSF2, CPSF3, CPSF4, CPSF7, CRNKL1, CSTF1, CSTF2, CSTF2T, CSTF3, CTNNBL1, CWC15, CWC22, CWC25, CWC27, DBR1, DCPS, DDX1, DDX17, DDX20, DDX23, DDX39A, DDX39B, DDX41, DDX42, DDX46, DDX47, DDX5, DHX15, DHX16, DHX35, DHX38, DHX40, DHX8, DHX9, DNAJC8, ECD, EFTUD2, EIF4A3, ELAVL1, ELAVL2, ERN1, ESRP1, ESRP2, FAM172A, FIP1L1, FMR1, FRG1, FUS, GCFC2, GEMIN2, GEMIN4, GEMIN5, GEMIN6, GEMIN7, GPATCH1, GPKOW, GTF2F1, GTF2F2, HABP4, HNRNPA0, HNRNPA1, HNRNPA1L2, HNRNPA2B1, HNRNPA3, HNRNPC, HNRNPD, HNRNPF, HNRNPH1, HNRNPH2, HNRNPH3, HNRNPK, HNRNPL, HNRNPLL, HNRNPM, HNRNPR, HNRNPU, HNRNPUL1, HSPA1A, HSPA8, HTATSF1, IK, ISY1, IVNS1ABP, IWS1, JMJD6, KDM1A, KHDRBS1, KHDRBS2, KHDRBS3, KHSRP, LGALS3, LSM1, LSM10, LSM2, LSM3, LSM4, LSM5, LSM6, LSM7, LSM8, LUC7L3, MAGOH, MAGOHB, MBNL1, MBNL2, MBNL3, METTL14, METTL16, METTL3, MFAP1, MPHOSPH10, NCBP1, NCBP2, NCBP2L, NOL3, NONO, NOVA1, NOVA2, NSRP1, NUDT21, NUP98, PABPC1, PABPN1, PAPOLA, PCBP1, PCBP2, PCF11, PDCD7, PHF5A, PLRG1, PNN, POLR2A, POLR2B, POLR2C, POLR2D, POLR2E, POLR2F, POLR2G, POLR2H, POLR2I, POLR2J, POLR2K, POLR2L, PPARGC1A, PPIE, PPIG, PPIH, PPIL1, PPIL3, PPP1R8, PPP1R9B, PPP2CA, PPP2R1A, PPP4R2, PPWD1, PQBP1, PRCC, PRMT5, PRMT7, PRPF18, PRPF19, PRPF3, PRPF31, PRPF38A, PRPF38B, PRPF4, PRPF40A, PRPF40B, PRPF4B, PRPF6, PRPF8, PTBP1, PTBP3, PUF60, QKI, RALY, RBFOX1, RBFOX2, RBFOX3, RBM10, RBM11, RBM15, RBM15B, RBM17, RBM19, RBM20, RBM22, RBM24, RBM25, RBM28, RBM3, RBM38, RBM39, RBM4, RBM41, RBM4B, RBM5, RBM8A, RBMX, RBMX2, RBMXL1, RBMXL2, RBMXL3, RBMY1A1, RBMY1B, RBMY1D, RBMY1E, RBMY1F, RBPMS, RBPMS2, RNF113A, RNF113B, RNPC3, RNPS1, RP9, RPS13, RPS26, RRAGC, RRP1B, RSRC1, RTCB, SAP18, SART1, SART3, SCAF1, SCAF11, SCAF8, SCNM1, SETX, SF1, SF3A1, SF3A2, SF3A3, SF3B1, SF3B2, SF3B3, SF3B4, SF3B5, SF3B6, SFPQ, SFSWAP, SLU7, SMN1, SMNDC1, SMU1, SNRNP200, SNRNP25, SNRNP27, SNRNP35, SNRNP40, SNRNP48, SNRNP70, SNRPA, SNRPA1, SNRPB, SNRPB2, SNRPC, SNRPD1, SNRPD2, SNRPD3, SNRPE, SNRPF, SNRPG, SNRPGP15, SNRPN, SNW1, SON, SREK1, SREK1IP1, SRPK1, SRPK2, SRRM1, SRRM2, SRRM4, SRRT, SRSF1, SRSF10, SRSF11, SRSF12, SRSF2, SRSF3, SRSF4, SRSF5, SRSF6, SRSF7, SRSF8, SRSF9, SUGP1, SUGP2, SUPT6H, SYF2, SYMPK, SYNCRIP, TARDBP, TFIP11, TGS1, THOC1, THOC2, THOC3, THOC5, THOC6, THOC7, THRAP3, TRA2A, TRA2B, TRPT1, TSEN15, TSEN2, TSEN34, TSEN54, TTF2, TXNL4A, TXNL4B, U2AF1, U2AF1L4, U2AF2, U2SURP, UBL5, UPF3B, USB1, USP39, USP49, WBP11, WBP4, WDR33, WDR83, WT1, WTAP, XAB2, YBX1, ZBTB7A, ZBTB8OS, ZC3H13, ZCCHC8, ZCRB1, ZMAT2, ZMAT5, ZNF326, ZNF638, ZNF830, ZPR1, ZRANB2, ZRSR1, ZRSR2\n",
      "GO:0016071\tBP\te\tmRNA metabolic process\t342/413\t621/58581\t0.0\t7\t342\t0.0\t0.0\t0.0\t0.0\tACIN1, AFF2, AKAP17A, AKAP8L, ALYREF, AQR, ARL6IP4, BCAS2, BRDT, BUD13, BUD31, C1QBP, CACTIN, CASC3, CCAR1, CCAR2, CD2BP2, CDC40, CDC5L, CDK12, CDK13, CELF1, CELF4, CHERP, CIR1, CLASRP, CLP1, CPSF1, CPSF2, CPSF3, CPSF4, CPSF7, CRNKL1, CSTF1, CSTF2, CSTF2T, CSTF3, CTNNBL1, CWC15, CWC22, CWC25, CWC27, DBR1, DCPS, DDX17, DDX23, DDX39A, DDX39B, DDX41, DDX42, DDX46, DDX47, DDX5, DHX15, DHX16, DHX35, DHX38, DHX40, DHX8, DHX9, DNAJC8, ECD, EFTUD2, EIF4A3, ELAVL1, ELAVL2, ERN1, ESRP1, ESRP2, FAM172A, FIP1L1, FMR1, FRG1, FUS, GCFC2, GEMIN2, GEMIN5, GEMIN6, GEMIN7, GPATCH1, GPKOW, GTF2F1, GTF2F2, HABP4, HNRNPA0, HNRNPA1, HNRNPA1L2, HNRNPA2B1, HNRNPA3, HNRNPC, HNRNPD, HNRNPF, HNRNPH1, HNRNPH2, HNRNPH3, HNRNPK, HNRNPL, HNRNPLL, HNRNPM, HNRNPR, HNRNPU, HNRNPUL1, HSPA1A, HSPA8, HTATSF1, IK, ISY1, IWS1, JMJD6, KDM1A, KHDRBS1, KHDRBS2, KHDRBS3, KHSRP, LGALS3, LSM1, LSM10, LSM2, LSM3, LSM4, LSM5, LSM6, LSM7, LSM8, MAGOH, MAGOHB, MBNL1, MBNL2, MBNL3, METTL14, METTL16, METTL3, MFAP1, NCBP1, NCBP2, NCBP2L, NONO, NOVA1, NOVA2, NSRP1, NUDT21, PABPC1, PABPN1, PAPOLA, PCBP1, PCBP2, PCF11, PDCD7, PHF5A, PLRG1, PNN, POLR2A, POLR2B, POLR2C, POLR2D, POLR2E, POLR2F, POLR2G, POLR2H, POLR2I, POLR2J, POLR2K, POLR2L, PPARGC1A, PPIE, PPIH, PPIL1, PPIL3, PPP1R8, PPP2CA, PPP2R1A, PPP4R2, PPWD1, PQBP1, PRCC, PRPF18, PRPF19, PRPF3, PRPF31, PRPF38A, PRPF38B, PRPF4, PRPF40A, PRPF40B, PRPF4B, PRPF6, PRPF8, PTBP1, PTBP3, PUF60, QKI, RALY, RBFOX1, RBFOX2, RBFOX3, RBM10, RBM11, RBM15B, RBM17, RBM19, RBM20, RBM22, RBM24, RBM25, RBM28, RBM38, RBM39, RBM4, RBM41, RBM4B, RBM5, RBM8A, RBMX, RBMX2, RBMXL1, RBMXL2, RBMXL3, RBMY1A1, RBMY1B, RBMY1D, RBMY1E, RBMY1F, RBPMS, RBPMS2, RNPC3, RNPS1, RPS13, RPS26, RRP1B, RSRC1, SAP18, SART1, SART3, SCAF1, SCAF11, SCAF8, SCNM1, SF1, SF3A1, SF3A2, SF3A3, SF3B1, SF3B2, SF3B3, SF3B4, SF3B5, SF3B6, SFPQ, SFSWAP, SLU7, SMNDC1, SMU1, SNRNP200, SNRNP25, SNRNP27, SNRNP35, SNRNP40, SNRNP48, SNRNP70, SNRPA, SNRPA1, SNRPB, SNRPB2, SNRPC, SNRPD1, SNRPD2, SNRPD3, SNRPE, SNRPF, SNRPG, SNRPGP15, SNRPN, SNW1, SON, SREK1, SREK1IP1, SRRM1, SRRM2, SRRM4, SRRT, SRSF1, SRSF10, SRSF11, SRSF12, SRSF2, SRSF3, SRSF4, SRSF5, SRSF6, SRSF7, SRSF8, SRSF9, SUGP1, SUGP2, SUPT6H, SYF2, SYMPK, SYNCRIP, TARDBP, TFIP11, THOC1, THOC2, THOC3, THOC5, THOC6, THOC7, THRAP3, TRA2A, TRA2B, TSEN15, TSEN2, TSEN34, TSEN54, TTF2, TXNL4A, TXNL4B, U2AF1, U2AF1L4, U2AF2, U2SURP, UBL5, UPF3B, USP39, USP49, WBP11, WBP4, WDR33, WDR83, WTAP, XAB2, YBX1, ZC3H13, ZCCHC8, ZCRB1, ZMAT2, ZMAT5, ZNF326, ZNF830, ZPR1, ZRANB2, ZRSR1, ZRSR2\n",
      "GO:0000398\tBP\te\tmRNA splicing, via spliceosome\t248/413\t248/58581\t0.0\t11\t248\t0.0\t0.0\t0.0\t0.0\tALYREF, AQR, BCAS2, BUD13, BUD31, CACTIN, CASC3, CCAR1, CD2BP2, CDC40, CDC5L, CDK13, CELF4, CHERP, CLP1, CPSF1, CPSF2, CPSF3, CPSF4, CPSF7, CRNKL1, CSTF1, CSTF2, CSTF2T, CSTF3, CTNNBL1, CWC15, CWC22, CWC25, CWC27, DBR1, DCPS, DDX17, DDX23, DDX39A, DDX39B, DDX41, DDX42, DDX46, DDX5, DHX15, DHX16, DHX35, DHX38, DHX40, DHX8, DHX9, DNAJC8, EFTUD2, EIF4A3, ELAVL1, ELAVL2, ESRP2, FIP1L1, FRG1, FUS, GCFC2, GEMIN5, GEMIN6, GEMIN7, GPATCH1, GPKOW, GTF2F1, GTF2F2, HNRNPA0, HNRNPA1, HNRNPA2B1, HNRNPA3, HNRNPC, HNRNPD, HNRNPF, HNRNPH1, HNRNPH2, HNRNPH3, HNRNPK, HNRNPL, HNRNPM, HNRNPR, HNRNPU, HNRNPUL1, HSPA8, HTATSF1, IK, ISY1, KDM1A, LSM2, LSM3, LSM4, LSM5, LSM6, LSM7, LSM8, MAGOH, MAGOHB, METTL14, METTL3, MFAP1, NCBP1, NCBP2, NCBP2L, NOVA1, NOVA2, NUDT21, PABPC1, PABPN1, PAPOLA, PCBP1, PCBP2, PCF11, PDCD7, PHF5A, PLRG1, PNN, POLR2A, POLR2B, POLR2C, POLR2D, POLR2E, POLR2F, POLR2G, POLR2H, POLR2I, POLR2J, POLR2K, POLR2L, PPIE, PPIH, PPIL1, PPIL3, PPWD1, PQBP1, PRCC, PRPF19, PRPF3, PRPF31, PRPF38A, PRPF4, PRPF40A, PRPF40B, PRPF4B, PRPF6, PRPF8, PTBP1, PUF60, RALY, RBM17, RBM19, RBM22, RBM4, RBM41, RBM4B, RBM5, RBM8A, RBMX, RBMX2, RBMXL2, RBMXL3, RBMY1A1, RBMY1D, RBMY1E, RBMY1F, RBPMS, RBPMS2, RNPC3, RNPS1, RSRC1, SART1, SART3, SF1, SF3A1, SF3A2, SF3A3, SF3B1, SF3B2, SF3B3, SF3B4, SF3B5, SF3B6, SFPQ, SFSWAP, SLU7, SMNDC1, SMU1, SNRNP200, SNRNP25, SNRNP27, SNRNP35, SNRNP40, SNRNP48, SNRNP70, SNRPA, SNRPA1, SNRPB, SNRPB2, SNRPC, SNRPD1, SNRPD2, SNRPD3, SNRPE, SNRPF, SNRPG, SNRPGP15, SNRPN, SNW1, SRRM1, SRRM2, SRRT, SRSF1, SRSF10, SRSF11, SRSF12, SRSF2, SRSF3, SRSF4, SRSF5, SRSF6, SRSF7, SRSF8, SRSF9, SUGP1, SYF2, SYMPK, SYNCRIP, TFIP11, TRA2A, TRA2B, TXNL4A, TXNL4B, U2AF1, U2AF1L4, U2AF2, U2SURP, UBL5, UPF3B, USP39, USP49, WBP11, WBP4, WDR33, WDR83, XAB2, YBX1, ZCCHC8, ZCRB1, ZMAT2, ZMAT5, ZRSR1, ZRSR2\n",
      "GO:0090304\tBP\te\tnucleic acid metabolic process\t374/413\t2143/58581\t0.0\t5\t374\t0.0\t0.0\t0.0\t0.0\tACIN1, AFF2, AKAP17A, AKAP8L, ALYREF, AQR, ARL6IP4, BCAS2, BRDT, BUD13, BUD31, C1QBP, CACTIN, CASC3, CCAR1, CCAR2, CD2BP2, CDC40, CDC5L, CDK12, CDK13, CELF1, CELF2, CELF3, CELF4, CHERP, CIR1, CLASRP, CLP1, CPSF1, CPSF2, CPSF3, CPSF4, CPSF7, CRNKL1, CSTF1, CSTF2, CSTF2T, CSTF3, CTNNBL1, CWC15, CWC22, CWC25, CWC27, DBR1, DCPS, DDX1, DDX17, DDX20, DDX23, DDX39A, DDX39B, DDX41, DDX42, DDX46, DDX47, DDX5, DHX15, DHX16, DHX35, DHX38, DHX40, DHX8, DHX9, DNAJC8, ECD, EFTUD2, EIF4A3, ELAVL1, ELAVL2, ERN1, ESRP1, ESRP2, FAM172A, FIP1L1, FMR1, FRG1, FUS, GCFC2, GEMIN2, GEMIN4, GEMIN5, GEMIN6, GEMIN7, GPATCH1, GPKOW, GTF2F1, GTF2F2, HABP4, HNRNPA0, HNRNPA1, HNRNPA1L2, HNRNPA2B1, HNRNPA3, HNRNPC, HNRNPD, HNRNPF, HNRNPH1, HNRNPH2, HNRNPH3, HNRNPK, HNRNPL, HNRNPLL, HNRNPM, HNRNPR, HNRNPU, HNRNPUL1, HSPA1A, HSPA8, HTATSF1, IK, ISY1, IVNS1ABP, IWS1, JMJD6, KDM1A, KHDRBS1, KHDRBS2, KHDRBS3, KHSRP, LGALS3, LSM1, LSM10, LSM2, LSM3, LSM4, LSM5, LSM6, LSM7, LSM8, LUC7L3, MAGOH, MAGOHB, MBNL1, MBNL2, MBNL3, METTL14, METTL16, METTL3, MFAP1, MPHOSPH10, NCBP1, NCBP2, NCBP2L, NOL3, NONO, NOVA1, NOVA2, NSRP1, NUDT21, NUP98, PABPC1, PABPN1, PAPOLA, PCBP1, PCBP2, PCF11, PDCD7, PHF5A, PLRG1, PNN, POLR2A, POLR2B, POLR2C, POLR2D, POLR2E, POLR2F, POLR2G, POLR2H, POLR2I, POLR2J, POLR2K, POLR2L, PPARGC1A, PPIE, PPIG, PPIH, PPIL1, PPIL3, PPP1R8, PPP1R9B, PPP2CA, PPP2R1A, PPP4R2, PPWD1, PQBP1, PRCC, PRMT5, PRMT7, PRPF18, PRPF19, PRPF3, PRPF31, PRPF38A, PRPF38B, PRPF4, PRPF40A, PRPF40B, PRPF4B, PRPF6, PRPF8, PTBP1, PTBP3, PUF60, QKI, RALY, RBFOX1, RBFOX2, RBFOX3, RBM10, RBM11, RBM15, RBM15B, RBM17, RBM19, RBM20, RBM22, RBM24, RBM25, RBM28, RBM3, RBM38, RBM39, RBM4, RBM41, RBM4B, RBM5, RBM8A, RBMX, RBMX2, RBMXL1, RBMXL2, RBMXL3, RBMY1A1, RBMY1B, RBMY1D, RBMY1E, RBMY1F, RBPMS, RBPMS2, RNF113A, RNF113B, RNPC3, RNPS1, RP9, RPS13, RPS26, RRAGC, RRP1B, RSRC1, RTCB, SAP18, SART1, SART3, SCAF1, SCAF11, SCAF8, SCNM1, SETX, SF1, SF3A1, SF3A2, SF3A3, SF3B1, SF3B2, SF3B3, SF3B4, SF3B5, SF3B6, SFPQ, SFSWAP, SLU7, SMN1, SMNDC1, SMU1, SNRNP200, SNRNP25, SNRNP27, SNRNP35, SNRNP40, SNRNP48, SNRNP70, SNRPA, SNRPA1, SNRPB, SNRPB2, SNRPC, SNRPD1, SNRPD2, SNRPD3, SNRPE, SNRPF, SNRPG, SNRPGP15, SNRPN, SNW1, SON, SREK1, SREK1IP1, SRPK1, SRPK2, SRRM1, SRRM2, SRRM4, SRRT, SRSF1, SRSF10, SRSF11, SRSF12, SRSF2, SRSF3, SRSF4, SRSF5, SRSF6, SRSF7, SRSF8, SRSF9, SUGP1, SUGP2, SUPT6H, SYF2, SYMPK, SYNCRIP, TARDBP, TFIP11, TGS1, THOC1, THOC2, THOC3, THOC5, THOC6, THOC7, THRAP3, TRA2A, TRA2B, TRPT1, TSEN15, TSEN2, TSEN34, TSEN54, TTF2, TXNL4A, TXNL4B, U2AF1, U2AF1L4, U2AF2, U2SURP, UBL5, UPF3B, USB1, USP39, USP49, WBP11, WBP4, WDR33, WDR83, WT1, WTAP, XAB2, YBX1, ZBTB7A, ZBTB8OS, ZC3H13, ZCCHC8, ZCRB1, ZMAT2, ZMAT5, ZNF326, ZNF638, ZNF830, ZPR1, ZRANB2, ZRSR1, ZRSR2\n"
     ]
    }
   ],
   "source": [
    "## YOUR CODE HERE ## \n",
    "!head GO_0008380.enrichments.tsv"
   ]
  },
  {
   "cell_type": "markdown",
   "metadata": {},
   "source": [
    "Use the unix grep command to search for the GO term \"GO:0008380\" in the file GO_0008380.enrichments.tsv\n"
   ]
  },
  {
   "cell_type": "code",
   "execution_count": null,
   "metadata": {},
   "outputs": [],
   "source": [
    "## YOUR CODE HERE ## \n",
    "! grep \"GO:0008380\" GO_0008380.enrichments.tsv "
   ]
  },
  {
   "cell_type": "code",
   "execution_count": 14,
   "metadata": {},
   "outputs": [
    {
     "name": "stdout",
     "output_type": "stream",
     "text": [
      "0.0\n"
     ]
    }
   ],
   "source": [
    "! grep \"GO:0008380\" GO_0008380.enrichments.tsv > tmp.txt\n",
    "! cut -f13 tmp.txt "
   ]
  },
  {
   "cell_type": "markdown",
   "metadata": {},
   "source": [
    "What is the FDR value of GO:0008380? (Hint: the FDR value is stored in the column \"p_fdr_h\", you should be able to see the order of the columns in the ouput from the head command)\n",
    "\n",
    "ANSWER: 0.0"
   ]
  },
  {
   "cell_type": "markdown",
   "metadata": {},
   "source": [
    "### QUESTION 3c \n",
    "What would happen to the p-values in the GO term enrichment analysis if only half of the genes in the gene set were available? Let's do this experiment and find out! "
   ]
  },
  {
   "cell_type": "markdown",
   "metadata": {},
   "source": [
    "Run the goatools analysis for GO_0008380_half.txt and store the output in a file **Week_5/GO_0008380_half.enrichments.tsv**"
   ]
  },
  {
   "cell_type": "code",
   "execution_count": null,
   "metadata": {},
   "outputs": [],
   "source": [
    "## YOUR CODE HERE ## \n",
    "! find_enrichment.py GO_0008380_half.txt hg19.names.txt hg19.assocs --outfile GO_0008380_half.enrichments.tsv --pval_field=fdr_bh"
   ]
  },
  {
   "cell_type": "markdown",
   "metadata": {},
   "source": [
    "Use the unix grep command to search for the GO term \"GO:0008380\" in the file GO_0008380_half.enrichments.tsv"
   ]
  },
  {
   "cell_type": "code",
   "execution_count": null,
   "metadata": {},
   "outputs": [],
   "source": [
    "## YOUR CODE HERE ## \n",
    "! grep \"GO:0008380\" GO_0008380_half.enrichments.tsv"
   ]
  },
  {
   "cell_type": "markdown",
   "metadata": {},
   "source": [
    "What is the FDR value of GO:0008380 in this new gene set?  (Hint: the FDR value is stored in the column \"p_fdr_h\", you should be able to see the order of the columns in the ouput from the head command)\n",
    "    \n",
    "ANSWER: 0.0\n",
    "    "
   ]
  },
  {
   "cell_type": "markdown",
   "metadata": {},
   "source": [
    "### QUESTION 3d\n",
    "\n",
    "What will happen if we merge the two gene lists together? Will that change the p-values for the enriched GO terms? \n",
    "\n",
    "Use the unix **cat** command to create a file in called \"merged_gene_lists.txt\" that contains all the genes in \"GO_0008380.txt\" and \"GO_0006915.txt\". \n",
    "\n"
   ]
  },
  {
   "cell_type": "code",
   "execution_count": null,
   "metadata": {},
   "outputs": [],
   "source": [
    "## YOUR CODE HERE ## \n",
    "! cat GO_0006915.txt GO_0008380.txt > merged_gene_lists.txt"
   ]
  },
  {
   "cell_type": "markdown",
   "metadata": {},
   "source": [
    "Re-run the goatools analysis for the merged file using the **find_enrichment.py** script. "
   ]
  },
  {
   "cell_type": "code",
   "execution_count": null,
   "metadata": {},
   "outputs": [],
   "source": [
    "## YOUR CODE HERE ## \n",
    "! find_enrichment.py merged_gene_lists.txt hg19.names.txt hg19.assocs --outfile GO_0008380_merged.enrichments.tsv --pval_field=fdr_bh"
   ]
  },
  {
   "cell_type": "markdown",
   "metadata": {},
   "source": [
    "Run the unix grep command to search for GO terms \"GO:0008380\" in the output file from the find_enrichment.py script that you ran for the merged_gene_lists.txt. "
   ]
  },
  {
   "cell_type": "code",
   "execution_count": null,
   "metadata": {},
   "outputs": [],
   "source": [
    "## YOUR CODE HERE ## \n",
    " \n",
    "! grep \"GO:0008380\" GO_0008380_merged.enrichments.tsv"
   ]
  },
  {
   "cell_type": "markdown",
   "metadata": {},
   "source": [
    "### QUESTION 3e\n",
    "\n",
    "What would happen if we added random genes from the human genome to the gene set? \n",
    "\n",
    "Re-run the GORilla analysis for randomized_genes.txt using the **find_enrichment.py** script. Run the grep command to search for GO term \"GO:0008380\"\n"
   ]
  },
  {
   "cell_type": "code",
   "execution_count": null,
   "metadata": {},
   "outputs": [],
   "source": [
    "## YOUR CODE HERE ##  \n",
    "! find_enrichment.py randomized_genes.txt hg19.names.txt hg19.assocs --outfile GO_0008380_randomized.enrichments.tsv --pval_field=fdr_bh"
   ]
  },
  {
   "cell_type": "code",
   "execution_count": null,
   "metadata": {},
   "outputs": [],
   "source": [
    "! grep \"GO:0008380\" GO_0008380_randomized.enrichments.tsv"
   ]
  },
  {
   "cell_type": "markdown",
   "metadata": {},
   "source": [
    "What is the FDR p-value for GO term \"GO:0008380\"? \n",
    "\n",
    "ANSWER: \n",
    "\n"
   ]
  }
 ],
 "metadata": {
  "kernelspec": {
   "display_name": "Python 3",
   "language": "python",
   "name": "python3"
  },
  "language_info": {
   "codemirror_mode": {
    "name": "ipython",
    "version": 3
   },
   "file_extension": ".py",
   "mimetype": "text/x-python",
   "name": "python",
   "nbconvert_exporter": "python",
   "pygments_lexer": "ipython3",
   "version": "3.7.10"
  }
 },
 "nbformat": 4,
 "nbformat_minor": 4
}
