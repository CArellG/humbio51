{
 "cells": [
  {
   "cell_type": "markdown",
   "metadata": {},
   "source": [
    " ## HUMBIO51 Assignment Week 6"
   ]
  },
  {
   "cell_type": "markdown",
   "metadata": {},
   "source": [
    "##  Learning Objectives\n",
    "***Students should be able to***\n",
    "\n",
    "### How to represent a transcription factor's binding motif and scan sequences for matches \n",
    "\n",
    "<ol> \n",
    "<li>  <a href=#TFMotif>Explain what a transcription factor binding motif is</a> </li>\n",
    "<li> <a href=#ChIPseq>Understand what is a ChIP-seq experiment and how it can be used to identify transcription factor binding genome-wide</a> </li>\n",
    "<li> <a href=#ChipseqBrowser>Visualize transcription factor ChIP-seq experiment in the WashU Genome Browser</a> </li>\n",
    "<li><a href=#Regulator> Explain what a regulatory element is </a></li>\n",
    "<li> <a href=#PromotersEnhancers>Explain what promoters and enhancers are</a></li>\n",
    "<li> <a href=#PSSM>Make a position-specific score matrices (PSSM) from a PWM to use for transcription factor motif-scanning  </a></li>\n",
    " <li><a href=#Scan>Motif scanning along a DNA sequence </a></li>\n",
    " <li> <a href=#Biopython>Become familiar with Biopython functions and modules: Align, Motif</a> </li>\n",
    "</ol> "
   ]
  },
  {
   "cell_type": "code",
   "execution_count": 1,
   "metadata": {},
   "outputs": [],
   "source": [
    "#Change your working directory to Week_6\n",
    "import os\n",
    "os.chdir('Week_6')"
   ]
  },
  {
   "cell_type": "markdown",
   "metadata": {},
   "source": [
    "## Question 1: Finding Transcription factor binding sites"
   ]
  },
  {
   "cell_type": "markdown",
   "metadata": {},
   "source": [
    "A [recent study](https://www.ncbi.nlm.nih.gov/pmc/articles/PMC5870105/) has identified several transcription factors that play a role in pancreatic cancer. These include: **PDX1**, **MEIS1**, **HNF1B**, and others. The study also suggests that the gene **TGFB1** might play a role in pancreatic cancer. Our goal in this question is to determine which of these three transcription factors regulate TGFB1, and to identify the location of the transcription factor binding site(s) within the TGFB1 promoter. "
   ]
  },
  {
   "cell_type": "markdown",
   "metadata": {},
   "source": [
    "### Question 1a. \n",
    "The promoter region of the TGFB1 gene will lie within 2kb upstream of the TSS. \n",
    "Find the location of TGFB1 within the hg19 reference genome. You can do this by looking up the gene in the WashU Epigenome Browser: http://epigenomegateway.wustl.edu/browser/ \n",
    "\n",
    "What is the location of the gene along hg19?\n",
    "\n",
    "**ANSWER**: \n",
    "chr19:41836435-41859838 on minus strand \n",
    "\n",
    "Chromosome: \n",
    "\n",
    "Start Coordinate: \n",
    "\n",
    "End Coordinate: \n",
    "\n",
    "Strand: "
   ]
  },
  {
   "cell_type": "markdown",
   "metadata": {},
   "source": [
    "### Question 1b \n",
    "Generate a bed file called **\"TGFB1.promoter.bed\"** that includes the 2kb region upstream from the start of the TGFB1 gene. \n",
    "\n",
    "Hint: Make sure you consider whether the gene is on the + strand or - strand when determining what constitutes \"upstream\" of the gene.\n",
    "\n",
    "\n",
    "    "
   ]
  },
  {
   "cell_type": "code",
   "execution_count": 156,
   "metadata": {},
   "outputs": [
    {
     "name": "stdout",
     "output_type": "stream",
     "text": [
      "chr19\t41859838\t41861838\t.\t.\t-\r\n",
      "\r\n"
     ]
    }
   ],
   "source": [
    "##YOUR CODE HERE \n",
    "!echo \"chr19\\t41859838\\t41861838\\t.\\t.\\t-\\n\" > TGFB1.promoter.bed\n",
    "!cat TGFB1.promoter.bed"
   ]
  },
  {
   "cell_type": "markdown",
   "metadata": {},
   "source": [
    "### Question 1c \n",
    "Use the fastaFromBed command to extract the genetic sequence that corresponds to the positions in TGFB1.promoter.bed  Store the sequence in a file called **tgfb1_promoter.fa**"
   ]
  },
  {
   "cell_type": "code",
   "execution_count": 128,
   "metadata": {},
   "outputs": [],
   "source": [
    "## YOUR CODE HERE \n",
    "!fastaFromBed -fi /opt/data/hg19.genome.fa -bed TGFB1.promoter.bed > tgfb1_promoter.fa\n"
   ]
  },
  {
   "cell_type": "markdown",
   "metadata": {},
   "source": [
    "Read in the sequence into a Sequence object using Biopython. Store the \".seq\" attribute of the object in the variable **tgfb1_promoter**"
   ]
  },
  {
   "cell_type": "code",
   "execution_count": 129,
   "metadata": {},
   "outputs": [
    {
     "name": "stdout",
     "output_type": "stream",
     "text": [
      "GGGTCGGCAGGGGGTTTTGAAGCCGCCCCCGGCCCCACCCAGGAAGCGCACGGGGCGGGAGCGGGGGCGGCCCCCAGGGGGAGGGCATGGGGGGGCTGGGCCACCGTCCTCATCTCGCGTGGGCGGGCTCCGAGGGGGGTCCCTTCAGCCCTGGGGGAAAGGGGGCGGGCACCCCGGCTCCGCCCCGCAAACAGGGTGCTGCCTCCTGGCGGCCAAGCGCCACCAAAGCGGGTGATCCAGATGCGCTGTGGCTTTGCGGGCGGTGTGGGTCACCAGAGAAAGAGGACCAGGCGGAGAAGGCTTAATCCGGGGGATGAGACACAGGGGAGCCGACCAGAGGAGGGGGACCCAGAACGGAAGGAGAGTCAGGCTGGGAAACAAGGTAGGAGAAGAGGGTCTGTCAACATGGGGGCCTCCGGAGGGTGTCAGTGGGAGGAGGGGGCAACAGGACACCTGAAGGATGGAAGGGTCAGGAGGCAGACACCTGTAAGAATTGCTCTCCTTTACTGAGCACCTCCCATGTGGCTAAGCAGCCTCCTGTCACTcaacaccctgcgaccccatacatttactgtccccaatttacagatagggaaactgggcccagagggaccccgaggtcctagaaaggacagaagcggtgccatgccttagctggggtcagctctgacagtctctagagtctgtgctcttgaccactgtgccatcctcccccATCACTGGGTGTCCGGGGTGTGGATGGTGGTGACGTTGGAGGCAGAGTCCCTCAGCACTCCACGCCGTAGCGGTCGAAGTTGCGGAGCAGCAGGCCGATCTCCAGGTGCACGGTGCCACCAGCAGCTGTGTGCAGGCGATAGCGGTCGGCCCCACTGTAGATGGTGTCCCCATGCAGCAGCTGCGGCCCACCACCCACGAAAGCCCGTGCCAACTGTTCTCGCCAACTGCCCAGGGGCCGCCACGTGGGGCAGGCCAGCTGGTGGGTGCCCGGGCTACTGGGCACATGGCAAAATCCATAGCCTGCAAGCTGGCAGCGGCCAAAGCTGTCCTGGGACCACACCTGGAAATGGAGCCGGGGCCAGCCTGCAGGAAAGGAGAGAGAGGGGAAAGGAGGGATGGGTGGGGACCAGACTCCTGCTGATTCCCCACTCCCTGATACTCACTGGAGACCccaggcccagtcttttcctctctgggtttctgtcccagagtttccaacccagcctcctttctaggctcccaccgtcttatctatccccacacagcagccaaagtgatctttccaaatccatgttactcccctgctaaggatccttccatagctccccagtgccctcagtataaagtccaacctcttcaacattcaaggcccttctaatcagacctctgctgaatttcctctctgtgttatcctcctccaTGACCCCATGTCAGGGCAGCCCATTGCTCCTCCAGTCCCCAGGTAACCATCATGGGCCTTGTCAGGGACACCTCCTGCCTTCCCTCATGTCCCTGCCCTGCTCTCTTTGGGCCCAGGGCCTTCTTTCTTGCCCCTCTCTAATCCACCTTCCACCTGGCATCTGGAAGCATCTTTCTCTCCTTCCATAGCTTTGCCCATGTCCTCAGAACACAGTTCAGCTCCTCAGTCTGGTAGTCAAAGCCCTTGGAGATCCAGCCCCATCTCATCTCATGCTGATCCCTTCTCCtgtgctagactctgttctagctagctggggacacggcagacatgaacatggatggcagacaaaaattcctgcccccgtgaagctgatatcctagacaacgaatgtagtaaataagcaaattatagggtagatcagatggtggtaattgctgtgagggaaaacagagctgggtagggtgagggtggggataccgctttagcaagaaggggatcaaggaagcttcattaagaaggtgacatttgagcaaatgctaaaaggaaggaagggagtaggccatgtggccatctagaggaagag\n"
     ]
    }
   ],
   "source": [
    "from Bio import SeqIO\n",
    "## YOUR CODE HERE \n",
    "tgfb1_promoter=SeqIO.read('tgfb1_promoter.fa',\"fasta\").seq\n",
    "print(tgfb1_promoter)"
   ]
  },
  {
   "cell_type": "markdown",
   "metadata": {},
   "source": [
    "### Question 1d\n",
    "We have downloaded the positions weight matrices (PWM's) for the three motifs of interest from the [HOMER motif database](http://homer.ucsd.edu/homer/motif/HomerMotifDB/homerResults.html). These are stored in the files: \n",
    "\n",
    "* meis1.motif\n",
    "\n",
    "* hnf1b.motif\n",
    "\n",
    "* pdx1.motif\n",
    "\n",
    "Use the unix *cat* command to examine the contents of these files. \n"
   ]
  },
  {
   "cell_type": "code",
   "execution_count": 130,
   "metadata": {},
   "outputs": [],
   "source": [
    "## YOUR CODE HERE "
   ]
  },
  {
   "cell_type": "markdown",
   "metadata": {},
   "source": [
    "\n",
    "Next, we will load these files into Biopython Motif objects. We will do this using the **Biopython.motifs.read** function. Note that our motif files are stored in the \"pfm\" (i.e. position frequency matrix) format. First, use the \"help\" command to determine the syntax of the Biopython.motifs.read function"
   ]
  },
  {
   "cell_type": "code",
   "execution_count": 131,
   "metadata": {},
   "outputs": [
    {
     "name": "stdout",
     "output_type": "stream",
     "text": [
      "Help on function read in module Bio.motifs:\n",
      "\n",
      "read(handle, format)\n",
      "    Read a motif from a handle using the specified file-format.\n",
      "    \n",
      "    This supports the same formats as Bio.motifs.parse(), but\n",
      "    only for files containing exactly one motif.  For example,\n",
      "    reading a JASPAR-style pfm file:\n",
      "    \n",
      "    >>> from Bio import motifs\n",
      "    >>> with open(\"motifs/SRF.pfm\") as handle:\n",
      "    ...     m = motifs.read(handle, \"pfm\")\n",
      "    >>> m.consensus\n",
      "    Seq('GCCCATATATGG', IUPACUnambiguousDNA())\n",
      "    \n",
      "    Or a single-motif MEME file,\n",
      "    \n",
      "    >>> from Bio import motifs\n",
      "    >>> with open(\"motifs/meme.out\") as handle:\n",
      "    ...     m = motifs.read(handle, \"meme\")\n",
      "    >>> m.consensus\n",
      "    Seq('CTCAATCGTA', IUPACUnambiguousDNA())\n",
      "    \n",
      "    If the handle contains no records, or more than one record,\n",
      "    an exception is raised:\n",
      "    \n",
      "    >>> from Bio import motifs\n",
      "    >>> with open(\"motifs/alignace.out\") as handle:\n",
      "    ...     motif = motifs.read(handle, \"AlignAce\")\n",
      "    Traceback (most recent call last):\n",
      "        ...\n",
      "    ValueError: More than one motif found in handle\n",
      "    \n",
      "    If however you want the first motif from a file containing\n",
      "    multiple motifs this function would raise an exception (as\n",
      "    shown in the example above).  Instead use:\n",
      "    \n",
      "    >>> from Bio import motifs\n",
      "    >>> with open(\"motifs/alignace.out\") as handle:\n",
      "    ...     record = motifs.parse(handle, \"alignace\")\n",
      "    >>> motif = record[0]\n",
      "    >>> motif.consensus\n",
      "    Seq('TCTACGATTGAG', IUPACUnambiguousDNA())\n",
      "    \n",
      "    Use the Bio.motifs.parse(handle, format) function if you want\n",
      "    to read multiple records from the handle.\n",
      "\n"
     ]
    }
   ],
   "source": [
    "from Bio import motifs \n",
    "## YOUR CODE HERE \n",
    "help(motifs.read)"
   ]
  },
  {
   "cell_type": "markdown",
   "metadata": {},
   "source": [
    "Follow the example in the help documentation for the function to read in the motif files for meis1, pdx1, and hnf1b into variables. Hint: The syntax in the documentation for the \"motifs/SRF.pfm\" example is very close to the syntax you will need. "
   ]
  },
  {
   "cell_type": "code",
   "execution_count": 132,
   "metadata": {},
   "outputs": [
    {
     "data": {
      "text/plain": [
       "{'A': (0.092, 0.272, 0.965, 0.001, 0.038, 0.797, 0.895, 0.001, 0.001, 0.873),\n",
       " 'C': (0.40399999999999997,\n",
       "  0.662,\n",
       "  0.022000000000000002,\n",
       "  0.001,\n",
       "  0.478,\n",
       "  0.031,\n",
       "  0.047,\n",
       "  0.001,\n",
       "  0.963,\n",
       "  0.001),\n",
       " 'G': (0.076, 0.021, 0.012, 0.001, 0.032, 0.001, 0.048, 0.024, 0.002, 0.001),\n",
       " 'T': (0.428,\n",
       "  0.045,\n",
       "  0.001,\n",
       "  0.997,\n",
       "  0.452,\n",
       "  0.171,\n",
       "  0.01,\n",
       "  0.9740000000000001,\n",
       "  0.034,\n",
       "  0.125)}"
      ]
     },
     "execution_count": 132,
     "metadata": {},
     "output_type": "execute_result"
    }
   ],
   "source": [
    "## YOUR CODE HERE \n",
    "meis1=motifs.read(open(\"meis1.motif\"),'pfm')\n",
    "hnf1b=motifs.read(open(\"hnf1b.motif\"),'pfm')\n",
    "pdx1=motifs.read(open(\"pdx1.motif\"),'pfm')\n",
    "pdx1.pwm"
   ]
  },
  {
   "cell_type": "markdown",
   "metadata": {},
   "source": [
    "### Question 1e\n",
    "Before we can scan the promoter sequence of TGFB1 for the three motifs, we will need to transform the motifs from the PWM (also known as PFM) format to the PSSM format. \n",
    "\n",
    "What does PSSM stand for? \n",
    "\n",
    "**ANSWER**: \n",
    "\n",
    "Why do we need to use the PSSM format rather than the PWM format when scanning for a motif in a genome sequence? \n",
    "\n",
    "**ANSWER**: \n",
    "\n"
   ]
  },
  {
   "cell_type": "code",
   "execution_count": 133,
   "metadata": {},
   "outputs": [
    {
     "data": {
      "text/plain": [
       "{'A': [0.1517148138875141,\n",
       "  -0.5228407888133588,\n",
       "  -0.9885043611621706,\n",
       "  -7.965784284662087,\n",
       "  -7.965784284662087,\n",
       "  0.8953026213333071,\n",
       "  -7.965784284662087,\n",
       "  1.995665409736109,\n",
       "  0.030012569066439412,\n",
       "  -7.967226258835994],\n",
       " 'C': [-0.10924526370842137,\n",
       "  0.09491164702546698,\n",
       "  1.411426245726465,\n",
       "  -7.965784284662087,\n",
       "  -7.965784284662087,\n",
       "  -7.965784284662087,\n",
       "  1.995665409736109,\n",
       "  -7.965784284662087,\n",
       "  0.37995504012339854,\n",
       "  0.6838254323429352],\n",
       " 'G': [0.5445263949313862,\n",
       "  0.7518921384043092,\n",
       "  -0.26534456652099475,\n",
       "  -7.965784284662087,\n",
       "  1.995665409736109,\n",
       "  -7.965784284662087,\n",
       "  -7.965784284662087,\n",
       "  -7.965784284662087,\n",
       "  0.5631361382679775,\n",
       "  0.0934696728515608],\n",
       " 'T': [-0.9899463353360769,\n",
       "  -0.8572598278839179,\n",
       "  -7.965784284662087,\n",
       "  1.995665409736109,\n",
       "  -7.965784284662087,\n",
       "  1.0922074380970888,\n",
       "  -7.965784284662087,\n",
       "  -7.965784284662087,\n",
       "  -2.320484678017694,\n",
       "  0.4034611479712245]}"
      ]
     },
     "execution_count": 133,
     "metadata": {},
     "output_type": "execute_result"
    }
   ],
   "source": [
    "## Print the pssm for the Meis1 motif. \n",
    "## Hint: the pssm is an attribute of a Motif object in Biopython, so you shouldn't have to write much additional code \n",
    "meis1.pssm"
   ]
  },
  {
   "cell_type": "markdown",
   "metadata": {},
   "source": [
    "### Question 1f \n",
    "Scan the sequence you stored in the variable **tgfb1_promoter** for each of the three motifs. See \"Motif Scanning with Biopython\" section in class 11. We consider the motif a match to the sequence if it has an alignment score greater than 10. Recall that you can specify the alignment score threshold with the \"threshold\" parameter. "
   ]
  },
  {
   "cell_type": "code",
   "execution_count": 138,
   "metadata": {},
   "outputs": [
    {
     "data": {
      "text/plain": [
       "IUPACUnambiguousDNA()"
      ]
     },
     "execution_count": 138,
     "metadata": {},
     "output_type": "execute_result"
    }
   ],
   "source": [
    "meis1.alphabet"
   ]
  },
  {
   "cell_type": "code",
   "execution_count": 150,
   "metadata": {},
   "outputs": [],
   "source": [
    "## Step 1: We encode the tgfb1_promoter Sequence using the same alphabet that was used to encode the motifs\n",
    "from Bio.Seq import Seq\n",
    "from Bio.Alphabet import *\n",
    "tgfb1_promoter.alphabet=meis1.alphabet\n"
   ]
  },
  {
   "cell_type": "code",
   "execution_count": 151,
   "metadata": {},
   "outputs": [],
   "source": [
    "## Step 2: Search for the meis1 motif in the tgfb1_seq object, store the search result in the variable \"meis1-hits\"\n",
    "##YOUR CODE HERE \n",
    "meis1_hits=meis1.pssm.search(tgfb1_promoter,threshold=10)"
   ]
  },
  {
   "cell_type": "code",
   "execution_count": 152,
   "metadata": {},
   "outputs": [],
   "source": [
    "## Step 3: Iterate through every [position,score] value in the meis1_hits variable to identify the highest alignment\n",
    "## score and the corresponding position. Fill in the helper function below \n",
    "## Have the function return a default score of -100 and a position of \"None\" if there is no quality alignment of the \n",
    "## motif to the sequence \n",
    "def get_best_alignment(hits): \n",
    "    best_alignment_score=-100\n",
    "    best_alignment_position=None\n",
    "    for [position,score] in hits: \n",
    "        ##YOUR CODE HERE \n",
    "        if score > best_alignment_score: \n",
    "            best_alignment_score=score \n",
    "            best_alignment_position=position\n",
    "    return best_alignment_score,best_alignment_position"
   ]
  },
  {
   "cell_type": "code",
   "execution_count": 153,
   "metadata": {},
   "outputs": [
    {
     "name": "stdout",
     "output_type": "stream",
     "text": [
      "11.07254\n",
      "420\n"
     ]
    }
   ],
   "source": [
    "## Step 4: Execute the get_best_alignment function to find the best alignment position and score for the meis1 motif \n",
    "## YOUR CODE HERE \n",
    "best_meis1_alignment_score,best_meis1_alignment_position=get_best_alignment(meis1_hits)\n",
    "print(best_meis1_alignment_score)\n",
    "print(best_meis1_alignment_position)"
   ]
  },
  {
   "cell_type": "markdown",
   "metadata": {},
   "source": [
    "### Question 1g\n",
    "Find the best alignment position and score for the PDX1 motif to the TGFB1 promoter "
   ]
  },
  {
   "cell_type": "code",
   "execution_count": 154,
   "metadata": {},
   "outputs": [
    {
     "name": "stdout",
     "output_type": "stream",
     "text": [
      "-100\n",
      "None\n"
     ]
    }
   ],
   "source": [
    "##YOUR CODE HERE \n",
    "pdx1_hits=pdx1.pssm.search(tgfb1_seq, threshold=10)\n",
    "best_pdx1_alignment_score,best_pdx1_alignment_position=get_best_alignment(pdx1_hits)\n",
    "print(best_pdx1_alignment_score)\n",
    "print(best_pdx1_alignment_position)"
   ]
  },
  {
   "cell_type": "markdown",
   "metadata": {},
   "source": [
    "### Question 1h \n",
    "Find the best alignment position and score for the HNF1B motif to the TGFB1 promoter "
   ]
  },
  {
   "cell_type": "code",
   "execution_count": 155,
   "metadata": {},
   "outputs": [
    {
     "name": "stdout",
     "output_type": "stream",
     "text": [
      "13.410295\n",
      "-36\n"
     ]
    }
   ],
   "source": [
    "## YOUR CODE HERE \n",
    "hnf1b_hits=hnf1b.pssm.search(tgfb1_seq, threshold=10)\n",
    "best_hnf1b_alignment_score,best_hnf1b_alignment_position=get_best_alignment(hnf1b_hits)\n",
    "print(best_hnf1b_alignment_score)\n",
    "print(best_hnf1b_alignment_position)"
   ]
  },
  {
   "cell_type": "markdown",
   "metadata": {},
   "source": [
    "### Question 1h \n",
    "Do any motifs align well to the TGFB1 gene promoter? \n",
    "\n",
    "**ANSWER** "
   ]
  },
  {
   "cell_type": "markdown",
   "metadata": {},
   "source": [
    "## Question 2: Exploring CHIP-Seq Data"
   ]
  },
  {
   "cell_type": "markdown",
   "metadata": {},
   "source": [
    "We have sampled 10000 regions from the human reference genome at random. At each of these regions, we have data from a CHIP-Seq experiment within the GM12878 cell (blood cell line) measuring the strength of 5 histone markers: \n",
    "\n",
    "* H3K4me3, \n",
    "* H3K4me1, \n",
    "* H3K36me3, \n",
    "* H3K9me3,\n",
    "* H3K27me3. \n",
    "\n",
    "The regions are denoted with the chromosome number, start position and end position. \n",
    "\n",
    "The data is stored as a table in a file in your Week_6 folder called **region_x_chrom_mark.tsv**"
   ]
  },
  {
   "cell_type": "markdown",
   "metadata": {},
   "source": [
    "### Question 2a. \n",
    "Read in the CHIP-Seq data"
   ]
  },
  {
   "cell_type": "code",
   "execution_count": 107,
   "metadata": {},
   "outputs": [
    {
     "data": {
      "text/html": [
       "<div>\n",
       "<style scoped>\n",
       "    .dataframe tbody tr th:only-of-type {\n",
       "        vertical-align: middle;\n",
       "    }\n",
       "\n",
       "    .dataframe tbody tr th {\n",
       "        vertical-align: top;\n",
       "    }\n",
       "\n",
       "    .dataframe thead th {\n",
       "        text-align: right;\n",
       "    }\n",
       "</style>\n",
       "<table border=\"1\" class=\"dataframe\">\n",
       "  <thead>\n",
       "    <tr style=\"text-align: right;\">\n",
       "      <th></th>\n",
       "      <th>H3K4me3</th>\n",
       "      <th>H3K4me1</th>\n",
       "      <th>H3K36me3</th>\n",
       "      <th>H3K9me3</th>\n",
       "      <th>H3K27me3</th>\n",
       "    </tr>\n",
       "    <tr>\n",
       "      <th>chrom_start_end</th>\n",
       "      <th></th>\n",
       "      <th></th>\n",
       "      <th></th>\n",
       "      <th></th>\n",
       "      <th></th>\n",
       "    </tr>\n",
       "  </thead>\n",
       "  <tbody>\n",
       "    <tr>\n",
       "      <th>chr7_127544000_127548400</th>\n",
       "      <td>-0.034576</td>\n",
       "      <td>0.999976</td>\n",
       "      <td>1.002766</td>\n",
       "      <td>-0.008026</td>\n",
       "      <td>-0.004839</td>\n",
       "    </tr>\n",
       "    <tr>\n",
       "      <th>chr4_76527400_76555000</th>\n",
       "      <td>0.043925</td>\n",
       "      <td>0.006553</td>\n",
       "      <td>-0.011049</td>\n",
       "      <td>0.002766</td>\n",
       "      <td>0.010979</td>\n",
       "    </tr>\n",
       "    <tr>\n",
       "      <th>chr5_145824000_145825600</th>\n",
       "      <td>0.007112</td>\n",
       "      <td>-0.003677</td>\n",
       "      <td>0.024232</td>\n",
       "      <td>0.002832</td>\n",
       "      <td>0.014081</td>\n",
       "    </tr>\n",
       "    <tr>\n",
       "      <th>chr1_20712600_20713400</th>\n",
       "      <td>0.011705</td>\n",
       "      <td>-0.002807</td>\n",
       "      <td>0.021803</td>\n",
       "      <td>-0.012496</td>\n",
       "      <td>1.020973</td>\n",
       "    </tr>\n",
       "    <tr>\n",
       "      <th>chr7_33139000_33140800</th>\n",
       "      <td>0.020133</td>\n",
       "      <td>0.981349</td>\n",
       "      <td>1.001418</td>\n",
       "      <td>0.020834</td>\n",
       "      <td>0.004710</td>\n",
       "    </tr>\n",
       "    <tr>\n",
       "      <th>chr3_76581600_76582000</th>\n",
       "      <td>0.021827</td>\n",
       "      <td>1.028691</td>\n",
       "      <td>-0.004334</td>\n",
       "      <td>0.021018</td>\n",
       "      <td>-0.000318</td>\n",
       "    </tr>\n",
       "    <tr>\n",
       "      <th>chr3_130516200_130529600</th>\n",
       "      <td>0.008528</td>\n",
       "      <td>-0.027219</td>\n",
       "      <td>-0.026783</td>\n",
       "      <td>0.015416</td>\n",
       "      <td>0.018576</td>\n",
       "    </tr>\n",
       "    <tr>\n",
       "      <th>chr13_28126600_28127600</th>\n",
       "      <td>0.003078</td>\n",
       "      <td>0.006193</td>\n",
       "      <td>1.001638</td>\n",
       "      <td>0.004833</td>\n",
       "      <td>-0.011625</td>\n",
       "    </tr>\n",
       "    <tr>\n",
       "      <th>chr22_38782600_38783600</th>\n",
       "      <td>1.002270</td>\n",
       "      <td>0.463840</td>\n",
       "      <td>-0.013768</td>\n",
       "      <td>0.015768</td>\n",
       "      <td>-0.000375</td>\n",
       "    </tr>\n",
       "    <tr>\n",
       "      <th>chr21_42597800_42601600</th>\n",
       "      <td>0.001003</td>\n",
       "      <td>-0.007353</td>\n",
       "      <td>-0.008250</td>\n",
       "      <td>-0.017715</td>\n",
       "      <td>0.467801</td>\n",
       "    </tr>\n",
       "    <tr>\n",
       "      <th>chr16_85953000_85956000</th>\n",
       "      <td>-0.016856</td>\n",
       "      <td>-0.019745</td>\n",
       "      <td>0.998624</td>\n",
       "      <td>0.009838</td>\n",
       "      <td>0.022529</td>\n",
       "    </tr>\n",
       "    <tr>\n",
       "      <th>chr1_111035600_111045000</th>\n",
       "      <td>-0.018143</td>\n",
       "      <td>-0.028919</td>\n",
       "      <td>0.024033</td>\n",
       "      <td>0.047371</td>\n",
       "      <td>0.510197</td>\n",
       "    </tr>\n",
       "    <tr>\n",
       "      <th>chr1_228871000_228907600</th>\n",
       "      <td>-0.017556</td>\n",
       "      <td>0.012341</td>\n",
       "      <td>0.010769</td>\n",
       "      <td>0.001863</td>\n",
       "      <td>0.481593</td>\n",
       "    </tr>\n",
       "    <tr>\n",
       "      <th>chr4_1319600_1320000</th>\n",
       "      <td>-0.012383</td>\n",
       "      <td>-0.011241</td>\n",
       "      <td>0.472425</td>\n",
       "      <td>0.010446</td>\n",
       "      <td>-0.011329</td>\n",
       "    </tr>\n",
       "    <tr>\n",
       "      <th>chr14_22304000_22324600</th>\n",
       "      <td>0.039182</td>\n",
       "      <td>-0.010384</td>\n",
       "      <td>0.006228</td>\n",
       "      <td>-0.030422</td>\n",
       "      <td>-0.018124</td>\n",
       "    </tr>\n",
       "    <tr>\n",
       "      <th>chr7_148833000_148841400</th>\n",
       "      <td>-0.003240</td>\n",
       "      <td>0.017748</td>\n",
       "      <td>0.501956</td>\n",
       "      <td>0.006577</td>\n",
       "      <td>0.006527</td>\n",
       "    </tr>\n",
       "    <tr>\n",
       "      <th>chr2_45007800_45008400</th>\n",
       "      <td>0.488862</td>\n",
       "      <td>0.002382</td>\n",
       "      <td>0.994506</td>\n",
       "      <td>1.035739</td>\n",
       "      <td>-0.003781</td>\n",
       "    </tr>\n",
       "    <tr>\n",
       "      <th>chr18_33568200_33571600</th>\n",
       "      <td>0.015756</td>\n",
       "      <td>-0.011027</td>\n",
       "      <td>0.988965</td>\n",
       "      <td>-0.005496</td>\n",
       "      <td>0.010709</td>\n",
       "    </tr>\n",
       "    <tr>\n",
       "      <th>chr3_122184400_122184600</th>\n",
       "      <td>-0.005141</td>\n",
       "      <td>-0.008624</td>\n",
       "      <td>0.987754</td>\n",
       "      <td>-0.039367</td>\n",
       "      <td>-0.014734</td>\n",
       "    </tr>\n",
       "    <tr>\n",
       "      <th>chr9_108073400_108080800</th>\n",
       "      <td>-0.026531</td>\n",
       "      <td>-0.004434</td>\n",
       "      <td>-0.000867</td>\n",
       "      <td>0.020668</td>\n",
       "      <td>0.012962</td>\n",
       "    </tr>\n",
       "    <tr>\n",
       "      <th>chr16_75551600_75568200</th>\n",
       "      <td>0.033050</td>\n",
       "      <td>0.023232</td>\n",
       "      <td>-0.034430</td>\n",
       "      <td>0.020727</td>\n",
       "      <td>0.012905</td>\n",
       "    </tr>\n",
       "    <tr>\n",
       "      <th>chr5_74300000_74302000</th>\n",
       "      <td>-0.020039</td>\n",
       "      <td>-0.003070</td>\n",
       "      <td>0.025700</td>\n",
       "      <td>0.498817</td>\n",
       "      <td>-0.023613</td>\n",
       "    </tr>\n",
       "    <tr>\n",
       "      <th>chr12_47178200_47178600</th>\n",
       "      <td>0.001718</td>\n",
       "      <td>0.995294</td>\n",
       "      <td>-0.021841</td>\n",
       "      <td>0.003223</td>\n",
       "      <td>0.033743</td>\n",
       "    </tr>\n",
       "    <tr>\n",
       "      <th>chr12_26716200_26721200</th>\n",
       "      <td>-0.062547</td>\n",
       "      <td>0.015923</td>\n",
       "      <td>0.500761</td>\n",
       "      <td>-0.013630</td>\n",
       "      <td>-0.014433</td>\n",
       "    </tr>\n",
       "    <tr>\n",
       "      <th>chr4_56321200_56321600</th>\n",
       "      <td>-0.010096</td>\n",
       "      <td>-0.054842</td>\n",
       "      <td>1.004746</td>\n",
       "      <td>0.002347</td>\n",
       "      <td>-0.018400</td>\n",
       "    </tr>\n",
       "    <tr>\n",
       "      <th>chr5_134157600_134159600</th>\n",
       "      <td>-0.001740</td>\n",
       "      <td>-0.006407</td>\n",
       "      <td>0.983729</td>\n",
       "      <td>-0.016661</td>\n",
       "      <td>0.012415</td>\n",
       "    </tr>\n",
       "    <tr>\n",
       "      <th>chr18_33815000_33826000</th>\n",
       "      <td>0.024415</td>\n",
       "      <td>-0.007797</td>\n",
       "      <td>-0.004375</td>\n",
       "      <td>0.010338</td>\n",
       "      <td>0.022627</td>\n",
       "    </tr>\n",
       "    <tr>\n",
       "      <th>chr12_105117800_105129400</th>\n",
       "      <td>-0.009710</td>\n",
       "      <td>0.024110</td>\n",
       "      <td>0.490941</td>\n",
       "      <td>0.029160</td>\n",
       "      <td>0.021539</td>\n",
       "    </tr>\n",
       "    <tr>\n",
       "      <th>chr9_137751000_137751200</th>\n",
       "      <td>0.019832</td>\n",
       "      <td>0.970850</td>\n",
       "      <td>0.019321</td>\n",
       "      <td>-0.009238</td>\n",
       "      <td>0.029562</td>\n",
       "    </tr>\n",
       "    <tr>\n",
       "      <th>chr1_234366200_234366400</th>\n",
       "      <td>0.982431</td>\n",
       "      <td>0.998042</td>\n",
       "      <td>0.007698</td>\n",
       "      <td>-0.001755</td>\n",
       "      <td>0.025324</td>\n",
       "    </tr>\n",
       "    <tr>\n",
       "      <th>...</th>\n",
       "      <td>...</td>\n",
       "      <td>...</td>\n",
       "      <td>...</td>\n",
       "      <td>...</td>\n",
       "      <td>...</td>\n",
       "    </tr>\n",
       "    <tr>\n",
       "      <th>chr8_126445800_126448400</th>\n",
       "      <td>0.998196</td>\n",
       "      <td>0.995553</td>\n",
       "      <td>0.979952</td>\n",
       "      <td>-0.004214</td>\n",
       "      <td>-0.012025</td>\n",
       "    </tr>\n",
       "    <tr>\n",
       "      <th>chr9_131159200_131159800</th>\n",
       "      <td>-0.005751</td>\n",
       "      <td>0.021955</td>\n",
       "      <td>-0.002341</td>\n",
       "      <td>-0.040400</td>\n",
       "      <td>0.987037</td>\n",
       "    </tr>\n",
       "    <tr>\n",
       "      <th>chr10_134638200_134642000</th>\n",
       "      <td>0.014196</td>\n",
       "      <td>0.028589</td>\n",
       "      <td>0.018931</td>\n",
       "      <td>0.512198</td>\n",
       "      <td>0.026630</td>\n",
       "    </tr>\n",
       "    <tr>\n",
       "      <th>chr12_62943000_62945800</th>\n",
       "      <td>0.016132</td>\n",
       "      <td>-0.023150</td>\n",
       "      <td>1.013214</td>\n",
       "      <td>0.035977</td>\n",
       "      <td>-0.030753</td>\n",
       "    </tr>\n",
       "    <tr>\n",
       "      <th>chr4_145975800_145976600</th>\n",
       "      <td>-0.027562</td>\n",
       "      <td>-0.008139</td>\n",
       "      <td>1.010391</td>\n",
       "      <td>-0.038753</td>\n",
       "      <td>-0.012490</td>\n",
       "    </tr>\n",
       "    <tr>\n",
       "      <th>chr3_160227200_160230000</th>\n",
       "      <td>-0.001049</td>\n",
       "      <td>-0.001525</td>\n",
       "      <td>0.491798</td>\n",
       "      <td>0.005137</td>\n",
       "      <td>-0.004624</td>\n",
       "    </tr>\n",
       "    <tr>\n",
       "      <th>chr16_69758600_69759600</th>\n",
       "      <td>1.016961</td>\n",
       "      <td>1.043205</td>\n",
       "      <td>-0.012867</td>\n",
       "      <td>-0.001372</td>\n",
       "      <td>0.000675</td>\n",
       "    </tr>\n",
       "    <tr>\n",
       "      <th>chr18_77170600_77171000</th>\n",
       "      <td>0.016123</td>\n",
       "      <td>0.031778</td>\n",
       "      <td>0.512945</td>\n",
       "      <td>-0.013187</td>\n",
       "      <td>-0.033558</td>\n",
       "    </tr>\n",
       "    <tr>\n",
       "      <th>chr4_71558400_71558600</th>\n",
       "      <td>1.013425</td>\n",
       "      <td>0.995192</td>\n",
       "      <td>-0.022635</td>\n",
       "      <td>0.010734</td>\n",
       "      <td>0.004478</td>\n",
       "    </tr>\n",
       "    <tr>\n",
       "      <th>chr18_12873000_12875600</th>\n",
       "      <td>-0.001174</td>\n",
       "      <td>-0.000341</td>\n",
       "      <td>0.527392</td>\n",
       "      <td>0.026619</td>\n",
       "      <td>-0.025848</td>\n",
       "    </tr>\n",
       "    <tr>\n",
       "      <th>chr7_152033800_152034200</th>\n",
       "      <td>0.005320</td>\n",
       "      <td>0.962718</td>\n",
       "      <td>0.020959</td>\n",
       "      <td>0.039027</td>\n",
       "      <td>0.013412</td>\n",
       "    </tr>\n",
       "    <tr>\n",
       "      <th>chr4_148668800_148669200</th>\n",
       "      <td>-0.011326</td>\n",
       "      <td>-0.022713</td>\n",
       "      <td>0.548843</td>\n",
       "      <td>0.021096</td>\n",
       "      <td>0.009037</td>\n",
       "    </tr>\n",
       "    <tr>\n",
       "      <th>chr12_104275600_104276400</th>\n",
       "      <td>-0.026631</td>\n",
       "      <td>1.027057</td>\n",
       "      <td>0.001798</td>\n",
       "      <td>0.011433</td>\n",
       "      <td>-0.009694</td>\n",
       "    </tr>\n",
       "    <tr>\n",
       "      <th>chr15_86264200_86267600</th>\n",
       "      <td>-0.011196</td>\n",
       "      <td>0.002756</td>\n",
       "      <td>1.010973</td>\n",
       "      <td>-0.012715</td>\n",
       "      <td>-0.028598</td>\n",
       "    </tr>\n",
       "    <tr>\n",
       "      <th>chr17_7217400_7217600</th>\n",
       "      <td>1.005101</td>\n",
       "      <td>1.013800</td>\n",
       "      <td>1.006083</td>\n",
       "      <td>0.034307</td>\n",
       "      <td>-0.004084</td>\n",
       "    </tr>\n",
       "    <tr>\n",
       "      <th>chr1_66809400_66810000</th>\n",
       "      <td>-0.058837</td>\n",
       "      <td>0.970323</td>\n",
       "      <td>-0.000323</td>\n",
       "      <td>0.029411</td>\n",
       "      <td>0.057411</td>\n",
       "    </tr>\n",
       "    <tr>\n",
       "      <th>chr2_216879200_216879600</th>\n",
       "      <td>-0.001088</td>\n",
       "      <td>-0.015417</td>\n",
       "      <td>0.506643</td>\n",
       "      <td>0.039205</td>\n",
       "      <td>0.028556</td>\n",
       "    </tr>\n",
       "    <tr>\n",
       "      <th>chr8_129106800_129107200</th>\n",
       "      <td>0.014256</td>\n",
       "      <td>0.979940</td>\n",
       "      <td>0.998456</td>\n",
       "      <td>-0.015165</td>\n",
       "      <td>0.032377</td>\n",
       "    </tr>\n",
       "    <tr>\n",
       "      <th>chr9_132359400_132360000</th>\n",
       "      <td>1.015098</td>\n",
       "      <td>0.513753</td>\n",
       "      <td>0.024219</td>\n",
       "      <td>0.006202</td>\n",
       "      <td>0.024188</td>\n",
       "    </tr>\n",
       "    <tr>\n",
       "      <th>chr2_169569600_169570400</th>\n",
       "      <td>-0.005182</td>\n",
       "      <td>0.026750</td>\n",
       "      <td>0.480691</td>\n",
       "      <td>0.015119</td>\n",
       "      <td>-0.025881</td>\n",
       "    </tr>\n",
       "    <tr>\n",
       "      <th>chr6_7872600_7874800</th>\n",
       "      <td>0.000933</td>\n",
       "      <td>-0.007272</td>\n",
       "      <td>-0.029647</td>\n",
       "      <td>0.496057</td>\n",
       "      <td>-0.032433</td>\n",
       "    </tr>\n",
       "    <tr>\n",
       "      <th>chr17_46234400_46239600</th>\n",
       "      <td>0.011913</td>\n",
       "      <td>-0.003207</td>\n",
       "      <td>0.508873</td>\n",
       "      <td>-0.003756</td>\n",
       "      <td>0.011085</td>\n",
       "    </tr>\n",
       "    <tr>\n",
       "      <th>chr11_36438800_36457200</th>\n",
       "      <td>0.001655</td>\n",
       "      <td>-0.009796</td>\n",
       "      <td>0.027332</td>\n",
       "      <td>-0.021876</td>\n",
       "      <td>0.024248</td>\n",
       "    </tr>\n",
       "    <tr>\n",
       "      <th>chr17_26901000_26902400</th>\n",
       "      <td>0.012595</td>\n",
       "      <td>1.032795</td>\n",
       "      <td>0.999103</td>\n",
       "      <td>-0.027723</td>\n",
       "      <td>0.013749</td>\n",
       "    </tr>\n",
       "    <tr>\n",
       "      <th>chr5_130583400_130585400</th>\n",
       "      <td>-0.003768</td>\n",
       "      <td>1.012060</td>\n",
       "      <td>0.011621</td>\n",
       "      <td>-0.016908</td>\n",
       "      <td>-0.016195</td>\n",
       "    </tr>\n",
       "    <tr>\n",
       "      <th>chr10_126437600_126438400</th>\n",
       "      <td>1.038232</td>\n",
       "      <td>0.977375</td>\n",
       "      <td>-0.012391</td>\n",
       "      <td>0.050380</td>\n",
       "      <td>-0.015750</td>\n",
       "    </tr>\n",
       "    <tr>\n",
       "      <th>chr11_118087200_118088200</th>\n",
       "      <td>0.982205</td>\n",
       "      <td>1.006263</td>\n",
       "      <td>0.034072</td>\n",
       "      <td>0.015344</td>\n",
       "      <td>-0.004683</td>\n",
       "    </tr>\n",
       "    <tr>\n",
       "      <th>chr1_78392000_78393000</th>\n",
       "      <td>1.019690</td>\n",
       "      <td>0.512866</td>\n",
       "      <td>0.022860</td>\n",
       "      <td>0.026092</td>\n",
       "      <td>0.010100</td>\n",
       "    </tr>\n",
       "    <tr>\n",
       "      <th>chr14_70160000_70161000</th>\n",
       "      <td>-0.012051</td>\n",
       "      <td>1.008439</td>\n",
       "      <td>0.006798</td>\n",
       "      <td>0.025451</td>\n",
       "      <td>0.004326</td>\n",
       "    </tr>\n",
       "    <tr>\n",
       "      <th>chr14_65438200_65438400</th>\n",
       "      <td>1.013582</td>\n",
       "      <td>1.007944</td>\n",
       "      <td>-0.010672</td>\n",
       "      <td>0.006056</td>\n",
       "      <td>0.006741</td>\n",
       "    </tr>\n",
       "  </tbody>\n",
       "</table>\n",
       "<p>100 rows × 5 columns</p>\n",
       "</div>"
      ],
      "text/plain": [
       "                            H3K4me3   H3K4me1  H3K36me3   H3K9me3  H3K27me3\n",
       "chrom_start_end                                                            \n",
       "chr7_127544000_127548400  -0.034576  0.999976  1.002766 -0.008026 -0.004839\n",
       "chr4_76527400_76555000     0.043925  0.006553 -0.011049  0.002766  0.010979\n",
       "chr5_145824000_145825600   0.007112 -0.003677  0.024232  0.002832  0.014081\n",
       "chr1_20712600_20713400     0.011705 -0.002807  0.021803 -0.012496  1.020973\n",
       "chr7_33139000_33140800     0.020133  0.981349  1.001418  0.020834  0.004710\n",
       "chr3_76581600_76582000     0.021827  1.028691 -0.004334  0.021018 -0.000318\n",
       "chr3_130516200_130529600   0.008528 -0.027219 -0.026783  0.015416  0.018576\n",
       "chr13_28126600_28127600    0.003078  0.006193  1.001638  0.004833 -0.011625\n",
       "chr22_38782600_38783600    1.002270  0.463840 -0.013768  0.015768 -0.000375\n",
       "chr21_42597800_42601600    0.001003 -0.007353 -0.008250 -0.017715  0.467801\n",
       "chr16_85953000_85956000   -0.016856 -0.019745  0.998624  0.009838  0.022529\n",
       "chr1_111035600_111045000  -0.018143 -0.028919  0.024033  0.047371  0.510197\n",
       "chr1_228871000_228907600  -0.017556  0.012341  0.010769  0.001863  0.481593\n",
       "chr4_1319600_1320000      -0.012383 -0.011241  0.472425  0.010446 -0.011329\n",
       "chr14_22304000_22324600    0.039182 -0.010384  0.006228 -0.030422 -0.018124\n",
       "chr7_148833000_148841400  -0.003240  0.017748  0.501956  0.006577  0.006527\n",
       "chr2_45007800_45008400     0.488862  0.002382  0.994506  1.035739 -0.003781\n",
       "chr18_33568200_33571600    0.015756 -0.011027  0.988965 -0.005496  0.010709\n",
       "chr3_122184400_122184600  -0.005141 -0.008624  0.987754 -0.039367 -0.014734\n",
       "chr9_108073400_108080800  -0.026531 -0.004434 -0.000867  0.020668  0.012962\n",
       "chr16_75551600_75568200    0.033050  0.023232 -0.034430  0.020727  0.012905\n",
       "chr5_74300000_74302000    -0.020039 -0.003070  0.025700  0.498817 -0.023613\n",
       "chr12_47178200_47178600    0.001718  0.995294 -0.021841  0.003223  0.033743\n",
       "chr12_26716200_26721200   -0.062547  0.015923  0.500761 -0.013630 -0.014433\n",
       "chr4_56321200_56321600    -0.010096 -0.054842  1.004746  0.002347 -0.018400\n",
       "chr5_134157600_134159600  -0.001740 -0.006407  0.983729 -0.016661  0.012415\n",
       "chr18_33815000_33826000    0.024415 -0.007797 -0.004375  0.010338  0.022627\n",
       "chr12_105117800_105129400 -0.009710  0.024110  0.490941  0.029160  0.021539\n",
       "chr9_137751000_137751200   0.019832  0.970850  0.019321 -0.009238  0.029562\n",
       "chr1_234366200_234366400   0.982431  0.998042  0.007698 -0.001755  0.025324\n",
       "...                             ...       ...       ...       ...       ...\n",
       "chr8_126445800_126448400   0.998196  0.995553  0.979952 -0.004214 -0.012025\n",
       "chr9_131159200_131159800  -0.005751  0.021955 -0.002341 -0.040400  0.987037\n",
       "chr10_134638200_134642000  0.014196  0.028589  0.018931  0.512198  0.026630\n",
       "chr12_62943000_62945800    0.016132 -0.023150  1.013214  0.035977 -0.030753\n",
       "chr4_145975800_145976600  -0.027562 -0.008139  1.010391 -0.038753 -0.012490\n",
       "chr3_160227200_160230000  -0.001049 -0.001525  0.491798  0.005137 -0.004624\n",
       "chr16_69758600_69759600    1.016961  1.043205 -0.012867 -0.001372  0.000675\n",
       "chr18_77170600_77171000    0.016123  0.031778  0.512945 -0.013187 -0.033558\n",
       "chr4_71558400_71558600     1.013425  0.995192 -0.022635  0.010734  0.004478\n",
       "chr18_12873000_12875600   -0.001174 -0.000341  0.527392  0.026619 -0.025848\n",
       "chr7_152033800_152034200   0.005320  0.962718  0.020959  0.039027  0.013412\n",
       "chr4_148668800_148669200  -0.011326 -0.022713  0.548843  0.021096  0.009037\n",
       "chr12_104275600_104276400 -0.026631  1.027057  0.001798  0.011433 -0.009694\n",
       "chr15_86264200_86267600   -0.011196  0.002756  1.010973 -0.012715 -0.028598\n",
       "chr17_7217400_7217600      1.005101  1.013800  1.006083  0.034307 -0.004084\n",
       "chr1_66809400_66810000    -0.058837  0.970323 -0.000323  0.029411  0.057411\n",
       "chr2_216879200_216879600  -0.001088 -0.015417  0.506643  0.039205  0.028556\n",
       "chr8_129106800_129107200   0.014256  0.979940  0.998456 -0.015165  0.032377\n",
       "chr9_132359400_132360000   1.015098  0.513753  0.024219  0.006202  0.024188\n",
       "chr2_169569600_169570400  -0.005182  0.026750  0.480691  0.015119 -0.025881\n",
       "chr6_7872600_7874800       0.000933 -0.007272 -0.029647  0.496057 -0.032433\n",
       "chr17_46234400_46239600    0.011913 -0.003207  0.508873 -0.003756  0.011085\n",
       "chr11_36438800_36457200    0.001655 -0.009796  0.027332 -0.021876  0.024248\n",
       "chr17_26901000_26902400    0.012595  1.032795  0.999103 -0.027723  0.013749\n",
       "chr5_130583400_130585400  -0.003768  1.012060  0.011621 -0.016908 -0.016195\n",
       "chr10_126437600_126438400  1.038232  0.977375 -0.012391  0.050380 -0.015750\n",
       "chr11_118087200_118088200  0.982205  1.006263  0.034072  0.015344 -0.004683\n",
       "chr1_78392000_78393000     1.019690  0.512866  0.022860  0.026092  0.010100\n",
       "chr14_70160000_70161000   -0.012051  1.008439  0.006798  0.025451  0.004326\n",
       "chr14_65438200_65438400    1.013582  1.007944 -0.010672  0.006056  0.006741\n",
       "\n",
       "[100 rows x 5 columns]"
      ]
     },
     "execution_count": 107,
     "metadata": {},
     "output_type": "execute_result"
    }
   ],
   "source": [
    "#Read in the CHIP-Seq data\n",
    "import pandas as pd\n",
    "\n",
    "chipseq_data = pd.read_table(\n",
    "      filepath_or_buffer='region_x_chrom_mark.tsv', \n",
    "      header=0,\n",
    "      index_col=0) \n",
    "\n",
    "chipseq_data.head(100)"
   ]
  },
  {
   "cell_type": "markdown",
   "metadata": {},
   "source": [
    "### Question 2b. \n",
    "\n",
    "Print out the number of rows and number of columns in the CHIP-seq data. Make sure it is clear which value refers to rows and which to columns. "
   ]
  },
  {
   "cell_type": "code",
   "execution_count": 108,
   "metadata": {},
   "outputs": [
    {
     "name": "stdout",
     "output_type": "stream",
     "text": [
      "rows 10000\n",
      "cols 5\n"
     ]
    }
   ],
   "source": [
    "#Print out the number of rows and number of columns in the CHIP-seq data\n",
    "print('rows '+str(chipseq_data.shape[0]))\n",
    "print('cols '+str(chipseq_data.shape[1]))"
   ]
  },
  {
   "cell_type": "markdown",
   "metadata": {},
   "source": [
    "### Question 2c. \n",
    "\n",
    "Print out just the line for chr4_56321200_56321600. Which of the five histone markers is present in chr4_56321200_56321600?"
   ]
  },
  {
   "cell_type": "code",
   "execution_count": 109,
   "metadata": {},
   "outputs": [],
   "source": [
    "#Print out the row for chr4_56321200_56321600"
   ]
  },
  {
   "cell_type": "code",
   "execution_count": 158,
   "metadata": {},
   "outputs": [
    {
     "data": {
      "text/plain": [
       "H3K4me3    -0.010096\n",
       "H3K4me1    -0.054842\n",
       "H3K36me3    1.004746\n",
       "H3K9me3     0.002347\n",
       "H3K27me3   -0.018400\n",
       "Name: chr4_56321200_56321600, dtype: float64"
      ]
     },
     "execution_count": 158,
     "metadata": {},
     "output_type": "execute_result"
    }
   ],
   "source": [
    "chipseq_data.loc[\"chr4_56321200_56321600\"]"
   ]
  },
  {
   "cell_type": "markdown",
   "metadata": {},
   "source": [
    "### Question 2d. \n",
    "\n",
    "Make histograms of the H3K4me3 and H3K4me1 column to get a sense for the distribution of the range of values for the histone markers. \n"
   ]
  },
  {
   "cell_type": "code",
   "execution_count": 110,
   "metadata": {},
   "outputs": [],
   "source": [
    "#Make a histogram of the H3K4me3 column "
   ]
  },
  {
   "cell_type": "code",
   "execution_count": 160,
   "metadata": {},
   "outputs": [
    {
     "name": "stderr",
     "output_type": "stream",
     "text": [
      "/opt/conda/lib/python3.5/site-packages/plotnine/coords/coord_cartesian.py:31: MatplotlibDeprecationWarning: The Bunch class was deprecated in Matplotlib 3.0 and will be removed in 3.2. Use types.SimpleNamespace instead.\n",
      "  self.limits = Bunch(xlim=xlim, ylim=ylim)\n",
      "/opt/conda/lib/python3.5/copy.py:292: MatplotlibDeprecationWarning: The Bunch class was deprecated in Matplotlib 3.0 and will be removed in 3.2. Use types.SimpleNamespace instead.\n",
      "  y = callable(*args)\n",
      "/opt/conda/lib/python3.5/site-packages/plotnine/facets/facet.py:151: MatplotlibDeprecationWarning: The Bunch class was deprecated in Matplotlib 3.0 and will be removed in 3.2. Use types.SimpleNamespace instead.\n",
      "  scales = Bunch()\n",
      "/opt/conda/lib/python3.5/site-packages/plotnine/stats/stat_bin.py:95: UserWarning: 'stat_bin()' using 'bins = 261'. Pick better value with 'binwidth'.\n",
      "  warn(msg.format(params['bins']))\n",
      "/opt/conda/lib/python3.5/site-packages/plotnine/facets/layout.py:147: MatplotlibDeprecationWarning: The Bunch class was deprecated in Matplotlib 3.0 and will be removed in 3.2. Use types.SimpleNamespace instead.\n",
      "  return Bunch(x=xsc, y=ysc)\n",
      "/opt/conda/lib/python3.5/site-packages/plotnine/facets/layout.py:147: MatplotlibDeprecationWarning: The Bunch class was deprecated in Matplotlib 3.0 and will be removed in 3.2. Use types.SimpleNamespace instead.\n",
      "  return Bunch(x=xsc, y=ysc)\n",
      "/opt/conda/lib/python3.5/site-packages/plotnine/facets/facet.py:151: MatplotlibDeprecationWarning: The Bunch class was deprecated in Matplotlib 3.0 and will be removed in 3.2. Use types.SimpleNamespace instead.\n",
      "  scales = Bunch()\n"
     ]
    },
    {
     "data": {
      "image/png": "[encoded data removed]",
      "text/plain": [
       "<Figure size 640x480 with 1 Axes>"
      ]
     },
     "metadata": {},
     "output_type": "display_data"
    },
    {
     "data": {
      "text/plain": [
       "<ggplot: (-9223363263223181617)>"
      ]
     },
     "execution_count": 160,
     "metadata": {},
     "output_type": "execute_result"
    }
   ],
   "source": [
    "from plotnine import * \n",
    "\n",
    "x=chipseq_data['H3K4me3']\n",
    "qplot(x=x,\n",
    "      geom=\"histogram\",\n",
    "      xlab=\"Values\",\n",
    "      ylab=\"Number of Samples\")"
   ]
  },
  {
   "cell_type": "code",
   "execution_count": 112,
   "metadata": {},
   "outputs": [],
   "source": [
    "#Make a histogram of the H3K4me1 column "
   ]
  },
  {
   "cell_type": "code",
   "execution_count": 161,
   "metadata": {},
   "outputs": [
    {
     "name": "stderr",
     "output_type": "stream",
     "text": [
      "/opt/conda/lib/python3.5/site-packages/plotnine/coords/coord_cartesian.py:31: MatplotlibDeprecationWarning: The Bunch class was deprecated in Matplotlib 3.0 and will be removed in 3.2. Use types.SimpleNamespace instead.\n",
      "  self.limits = Bunch(xlim=xlim, ylim=ylim)\n",
      "/opt/conda/lib/python3.5/copy.py:292: MatplotlibDeprecationWarning: The Bunch class was deprecated in Matplotlib 3.0 and will be removed in 3.2. Use types.SimpleNamespace instead.\n",
      "  y = callable(*args)\n",
      "/opt/conda/lib/python3.5/site-packages/plotnine/facets/facet.py:151: MatplotlibDeprecationWarning: The Bunch class was deprecated in Matplotlib 3.0 and will be removed in 3.2. Use types.SimpleNamespace instead.\n",
      "  scales = Bunch()\n",
      "/opt/conda/lib/python3.5/site-packages/plotnine/stats/stat_bin.py:95: UserWarning: 'stat_bin()' using 'bins = 13'. Pick better value with 'binwidth'.\n",
      "  warn(msg.format(params['bins']))\n",
      "/opt/conda/lib/python3.5/site-packages/plotnine/facets/layout.py:147: MatplotlibDeprecationWarning: The Bunch class was deprecated in Matplotlib 3.0 and will be removed in 3.2. Use types.SimpleNamespace instead.\n",
      "  return Bunch(x=xsc, y=ysc)\n",
      "/opt/conda/lib/python3.5/site-packages/plotnine/facets/layout.py:147: MatplotlibDeprecationWarning: The Bunch class was deprecated in Matplotlib 3.0 and will be removed in 3.2. Use types.SimpleNamespace instead.\n",
      "  return Bunch(x=xsc, y=ysc)\n",
      "/opt/conda/lib/python3.5/site-packages/plotnine/facets/facet.py:151: MatplotlibDeprecationWarning: The Bunch class was deprecated in Matplotlib 3.0 and will be removed in 3.2. Use types.SimpleNamespace instead.\n",
      "  scales = Bunch()\n"
     ]
    },
    {
     "data": {
      "image/png": "[encoded data removed]",
      "text/plain": [
       "<Figure size 640x480 with 1 Axes>"
      ]
     },
     "metadata": {},
     "output_type": "display_data"
    },
    {
     "data": {
      "text/plain": [
       "<ggplot: (-9223363263223234851)>"
      ]
     },
     "execution_count": 161,
     "metadata": {},
     "output_type": "execute_result"
    }
   ],
   "source": [
    "from plotnine import * \n",
    "\n",
    "x=chipseq_data['H3K4me1']\n",
    "qplot(x=x,\n",
    "      geom=\"histogram\",\n",
    "      xlab=\"Values\",\n",
    "      ylab=\"Number of Samples\")"
   ]
  },
  {
   "cell_type": "markdown",
   "metadata": {},
   "source": [
    "### Question 2e\n",
    "What are the approximate possible values assigned for the histone markers?\n",
    "\n",
    "**ANSWER HERE**\n"
   ]
  }
 ],
 "metadata": {
  "anaconda-cloud": {},
  "kernelspec": {
   "display_name": "Python 3",
   "language": "python",
   "name": "python3"
  },
  "language_info": {
   "codemirror_mode": {
    "name": "ipython",
    "version": 3
   },
   "file_extension": ".py",
   "mimetype": "text/x-python",
   "name": "python",
   "nbconvert_exporter": "python",
   "pygments_lexer": "ipython3",
   "version": "3.5.6"
  }
 },
 "nbformat": 4,
 "nbformat_minor": 2
}
