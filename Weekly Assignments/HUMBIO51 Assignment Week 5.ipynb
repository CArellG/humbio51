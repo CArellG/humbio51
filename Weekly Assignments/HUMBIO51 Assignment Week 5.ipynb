{
 "cells": [
  {
   "cell_type": "markdown",
   "metadata": {},
   "source": [
    " ## HUMBIO51 Assignment Week 5"
   ]
  },
  {
   "cell_type": "markdown",
   "metadata": {},
   "source": [
    "<ol>\n",
    " <li> <a href=#wc>Use unix commands to count the number of lines in a file. </a></li>\n",
    " <li> <a href=#GORilla>Use GORilla to perform GO-term enrichment analysis. </a></li>\n",
    " <li> <a href=#GeneExpressionIntro>Visualize gene expression variation across cell types and individuals from the GTEx project</a></li>\n",
    " <li><a href=#RNASeqDataFormat>Use unix \"head\" and \"cat\" commands to merge and split files.</a></li>\n",
    " <li><a href=#RNASeqDataFormat>Construct contingency tables to compute GO-term enrichment likelihoods.</a></li>\n",
    " <li><a href=#RNASeqDataFormat>Write a Python expression for Fisher's exact test.</a></li>\n",
    " <li><a href=#RNASeqDataFormat>Apply Fisher's exact test to compute the probability of observing a particular contingency table.</a></li>\n"
   ]
  },
  {
   "cell_type": "markdown",
   "metadata": {},
   "source": [
    "## QUESTION 1\n"
   ]
  },
  {
   "cell_type": "markdown",
   "metadata": {},
   "source": [
    "### QUESTION 1a \n",
    "We have downloaded the list of genes associated with GO terms [GO:0030198](http://amigo.geneontology.org/amigo/term/GO:0030198) and [GO:0040011](http://amigo.geneontology.org/amigo/term/GO:0040011). \n",
    "These are located in the Week_5 directory: \n",
    "\n",
    "How many genes are in each list? \n"
   ]
  },
  {
   "cell_type": "markdown",
   "metadata": {},
   "source": [
    "Answer: \n",
    "\n",
    "Number of genes associated with GO term \"GO:0030198\": \n",
    "\n",
    "Number of genes associated with GO term \"GO:0040011\":\n"
   ]
  },
  {
   "cell_type": "markdown",
   "metadata": {},
   "source": [
    "### QUESTION 1b"
   ]
  },
  {
   "cell_type": "markdown",
   "metadata": {},
   "source": [
    "Use the [GORilla tool](http://cbl-gorilla.cs.technion.ac.il/) to identify Biological Process terms that are significantly enriched for each gene set.\n",
    "* The background gene set is the set of all human genes, stored in the file **Week_5/hg19.names.txt**. \n",
    "* We consider a GO term to be significantly enriched if the FDR q-value is less than 0.05 \n",
    "\n",
    "What is the most signficantly enriched GO term for the gene list in the file \"GO_0030198.txt\"? \n",
    "\n",
    "ANSWER: \n",
    "\n",
    "What is the description for this GO term? \n",
    "\n",
    "ANSWER: \n",
    "\n",
    "What is the uncorrected p-value for this GO term? \n",
    "\n",
    "ANSWER:\n",
    "\n",
    "What is the corrected p-value (FDR q-value) for this GO term? \n",
    "\n",
    "ANSWER: \n",
    "\n",
    "\n",
    "\n",
    "What is the most signficantly enriched GO term for the gene list in the file \"GO_0040011.txt\"? \n",
    "\n",
    "ANSWER: \n",
    "\n",
    "What is the description for this GO term? \n",
    "\n",
    "ANSWER: \n",
    "\n",
    "What is the uncorrected p-value for this GO term? \n",
    "\n",
    "ANSWER:\n",
    "\n",
    "What is the corrected p-value (FDR q-value) for this GO term? \n",
    "\n",
    "ANSWER:\n"
   ]
  },
  {
   "cell_type": "markdown",
   "metadata": {},
   "source": [
    "### QUESTION 1c \n",
    "What would happen to the p-values in the GO term enrichment analysis if only half of the genes in the gene set were available? Let's do this experiment and find out! "
   ]
  },
  {
   "cell_type": "markdown",
   "metadata": {},
   "source": [
    "Use the **head** command to print the first half of each gene set. Save the genes to files called: \n",
    "**Week_5/GO_0030198_half.txt** "
   ]
  },
  {
   "cell_type": "code",
   "execution_count": 4,
   "metadata": {},
   "outputs": [],
   "source": [
    "##YOUR CODE HERE "
   ]
  },
  {
   "cell_type": "markdown",
   "metadata": {},
   "source": [
    "Re-run the GORilla analysis for the files Week_5/GO_0030198_half.txt. How have your results changed? "
   ]
  },
  {
   "cell_type": "markdown",
   "metadata": {},
   "source": [
    "What is the most signficantly enriched GO term for the gene list in the file \"Week_5/GO_0030198_half.txt\"? \n",
    "\n",
    "ANSWER: \n",
    "\n",
    "What is the description for this GO term? \n",
    "\n",
    "ANSWER: \n",
    "\n",
    "What is the uncorrected p-value for this GO term? \n",
    "\n",
    "ANSWER:\n",
    "\n",
    "What is the corrected p-value (FDR q-value) for this GO term? \n",
    "\n",
    "ANSWER:\n",
    " "
   ]
  },
  {
   "cell_type": "markdown",
   "metadata": {},
   "source": [
    "### QUESTION 1d\n",
    "\n",
    "What will happen if we merge the two gene lists together? Will GORilla have more difficulty identifying the enriched GO terms? \n",
    "\n",
    "Use the **cat** command to create a file in the Week_5 directory called \"Week_5/merged_gene_lists.txt\" that contains all the genes in \"Week_5/GO_0030198.txt\" and \"Week_5/GO_0040011.txt\". \n",
    "\n",
    "Re-run the GORilla analysis for the merged file. "
   ]
  },
  {
   "cell_type": "code",
   "execution_count": 7,
   "metadata": {},
   "outputs": [],
   "source": [
    "#Run the cat command below to merge the files \n",
    "!cat Week_5/GO_0040011.txt Week_5/GO_0030198.txt > Week_5/merged_gene_list.txt "
   ]
  },
  {
   "cell_type": "markdown",
   "metadata": {
    "scrolled": true
   },
   "source": [
    "What are the descriptions for the top 2 enriched GO terms? What are the corrected p-values (FDR q-value)? \n",
    "\n",
    "Term 1 description: \n",
    "\n",
    "Term 1 corrected p-value (FDR q-value): \n",
    "\n",
    "Term 2 description: \n",
    "\n",
    "Term 2 corrected p-value (FDR q-value): \n"
   ]
  },
  {
   "cell_type": "markdown",
   "metadata": {},
   "source": [
    "### QUESTION 1e\n",
    "\n",
    "What would happen if we added random genes from the human genome to the gene set? \n",
    "Below, we have defined the **add_random_genes** function: "
   ]
  },
  {
   "cell_type": "code",
   "execution_count": 8,
   "metadata": {},
   "outputs": [],
   "source": [
    "def add_random_genes(target_gene_list,background_gene_list,n,outf): \n",
    "    \"\"\"\n",
    "    target_gene_list is a list containing the genes in your gene set of interest \n",
    "    background_gene_list is a list containing the genes in the background (i.e. hg19.names.txt)\n",
    "    n is the number of genes from the background that should be randomly inserted into the target_gene_list \n",
    "    outf is the name of the output file for the gene set with the additional random genes \n",
    "    \"\"\"\n",
    "    #We import the numpy random  library to create a random number generator for selecting random genes from the background\n",
    "    from numpy import random \n",
    "    \n",
    "    #select n random genes from the background gene_list, without replacement \n",
    "    randomized=random.choice(background_gene_list,n,replace=False)\n",
    "\n",
    "    #create a new target gene list by adding the random genes to the target gene list \n",
    "    import itertools \n",
    "    randomized_list=itertools.chain(target_gene_list,randomized )\n",
    "    \n",
    "    #open the output file\n",
    "    out=open(outf,'w')\n",
    "    \n",
    "    #write the randomized target list to the output file \n",
    "    out.write('\\n'.join(randomized_list))\n",
    "    "
   ]
  },
  {
   "cell_type": "markdown",
   "metadata": {},
   "source": [
    "Run the add_random_genes function on **Week_5/GO_0030198_half.txt** with n = 200. Save the resulting gene set in the file **Week_5/randomized_genes.txt** "
   ]
  },
  {
   "cell_type": "code",
   "execution_count": 9,
   "metadata": {},
   "outputs": [],
   "source": [
    "## YOUR CODE HERE "
   ]
  },
  {
   "cell_type": "markdown",
   "metadata": {},
   "source": [
    "Run GORilla analysis on the file **Week_5/randomized_genes.txt** (note: use the \"Process\" Ontology) \n",
    "\n",
    "What is the most signficantly enriched GO term for the gene list in the file **Week_5/randomized_genes.txt**? \n",
    "\n",
    "ANSWER: \n",
    "\n",
    "What is the description for this GO term? \n",
    "\n",
    "ANSWER: \n",
    "\n",
    "What is the uncorrected p-value for this GO term? \n",
    "\n",
    "ANSWER:\n",
    "\n",
    "What is the corrected p-value for this GO term? \n",
    "\n",
    "ANSWER:\n"
   ]
  },
  {
   "cell_type": "markdown",
   "metadata": {},
   "source": [
    "## Question 2\n",
    "\n",
    "We will take a closer look at how the p-value in problem 1e was derived. Refer to the slides from class 10 for helpful tips on generating contingency tables and calculating p-values.\n"
   ]
  },
  {
   "cell_type": "markdown",
   "metadata": {},
   "source": [
    "Fill in the contingency table below with information for: \n",
    "\n",
    "* Week_5/randomized_genes.txt  as the \"User's gene set\" \n",
    "* Week_5/GO_0030198.txt as the \"GO term set\". \n",
    "\n",
    "Remember that we added two hundred randomly selected genes (n = 200) to **half** of the GO term set in order to obtain the randomized_genes.txt. \n",
    "\n",
    "Hint: We have written a function to help you calculate the intersection of \"Genes not in User's Gene Set\" and \"Genes not in GO Term set\". This function uses Python [sets](https://docs.python.org/2/library/sets.html), which are similar to lists, but differ in two ways: \n",
    "* the elements in a set are not ordered \n",
    "* all elements in a set are unique \n",
    "\n"
   ]
  },
  {
   "cell_type": "code",
   "execution_count": 18,
   "metadata": {},
   "outputs": [],
   "source": [
    "def get_genes_not_in_user_set_or_go_term_set(genes_in_go_term_set,genes_in_user_set,genes_in_background):\n",
    "    \"\"\"\n",
    "    genes_in_go_term_set is a list containing names of genes associated with the GO term. \n",
    "    genes_in_user_set is a list containing the names of genes in the user's set. \n",
    "    genes_in_background is a list containing the names of genes in the background set. \n",
    "    \"\"\"\n",
    "    #convert all lists to sets to remove duplicated elements \n",
    "    genes_go=set(genes_in_go_term_set)\n",
    "    genes_user=set(genes_in_user_set)\n",
    "    genes_background=set(genes_in_background)\n",
    "    \n",
    "    #subtract the set of genes in the GO term set from the set of genes in the background \n",
    "    background_minus_go=genes_background - genes_go \n",
    "    \n",
    "    #subtract the set of genes in the user set from \"background_minus_go\" \n",
    "    background_minus_go_minus_user=background_minus_go - genes_user \n",
    "    \n",
    "    #return a list containing \"background_minus_go_minus_user\" \n",
    "    return list(background_minus_go_minus_user)\n",
    "\n"
   ]
  },
  {
   "cell_type": "markdown",
   "metadata": {},
   "source": [
    "### Question 2a \n",
    "Use the function \"get_genes_not_in_user_set_or_go_term_set\" to calculate the number at the intersection of \"Genes not in User's Gene Set\" and \"Genes not in GO Term set\". \n",
    "\n",
    "Remember that you will need to start off by opening the three files:\n",
    "* Week_5/GO_0030198.txt    \n",
    "* Week_5/randomized_genes.txt \n",
    "* Week_5/hg19.names.txt "
   ]
  },
  {
   "cell_type": "code",
   "execution_count": 19,
   "metadata": {},
   "outputs": [],
   "source": [
    "#Use get_genes_not_in_user_set_or_go_term_set to calculate the intersection of \n",
    "#\"Genes not in User's Gene Set\" and \"Genes not in GO Term set\"."
   ]
  },
  {
   "cell_type": "markdown",
   "metadata": {},
   "source": [
    "### Question 2b \n",
    "Now, use the value you obtained in the cell above to help fill in the contingency table: "
   ]
  },
  {
   "cell_type": "markdown",
   "metadata": {},
   "source": [
    "|                          | Genes in User's Gene Set | Genes not in User's Gene Set | Total       |\n",
    "|--------------------------|--------------------------|------------------------------|-------------|\n",
    "| Genes in GO Term set     | YOUR ANSWER              | YOUR ANSWER                  | YOUR ANSWER |\n",
    "| Genes not in GO Term set | YOUR ANSWER              | YOUR ANSWER                  | YOUR ANSWER |\n",
    "| Total                    | YOUR ANSWER              | YOUR ANSWER                  | YOUR ANSWER |"
   ]
  },
  {
   "cell_type": "markdown",
   "metadata": {},
   "source": [
    "### Question 2c \n",
    "\n",
    "Recall from class 10 that Fischer's exact test can be used to calculate the probability of observing a given arrangement of numbers in a contingency table: \n",
    "\n",
    "![Fisher's exact test](../Images/HW_5_FishersTest.png)\n",
    "\n",
    "Fill in the skeleton code below to derive a formula for Fisher's exact test. \n",
    "Hint: We provide a helper function **n_choose_k** that you should incorporate in your code. "
   ]
  },
  {
   "cell_type": "code",
   "execution_count": 21,
   "metadata": {},
   "outputs": [],
   "source": [
    "import math\n",
    "def n_choose_k(n,k): \n",
    "    \"\"\"\n",
    "    n = total number of possible outcomes \n",
    "    k = number of outcomes to select at random \n",
    "    \"\"\"\n",
    "    from decimal import Decimal\n",
    "    #We use the Decimal class to help us compute with very large numbers. \n",
    "    #Factorials get very big quickly! \n",
    "    f=math.factorial \n",
    "    return Decimal(f(n))/Decimal(f(k))/Decimal(f(n-k))\n",
    "\n",
    "\n",
    "#Complete this function with your code \n",
    "def fishers_exact_test(genes_in_users_gene_set,\n",
    "                      genes_in_users_gene_set_and_go_term,\n",
    "                      genes_not_in_users_gene_set,\n",
    "                      genes_not_in_users_gene_set_and_in_go_term,\n",
    "                      total,\n",
    "                      genes_in_go_term): \n",
    "    p_value=None \n",
    "    genes_in_users_gene_set=1.0*genes_in_users_gene_set #we convert the integer to a double\n",
    "    #FILL IN THE CODE HERE TO COMPUTE THE PVALUE\n",
    "    \n",
    "    return p_value "
   ]
  },
  {
   "cell_type": "code",
   "execution_count": 22,
   "metadata": {},
   "outputs": [],
   "source": [
    "## Execute the fishers_exact_test function to compute the probability of \n",
    "## observing the arrangement of values in your contingency table. \n",
    "## NOTE: The code is computing with very large numbers, so it may take up to 1 minute to run. \n",
    "\n",
    "## YOUR CODE HERE "
   ]
  }
 ],
 "metadata": {
  "kernelspec": {
   "display_name": "Python 3",
   "language": "python",
   "name": "python3"
  },
  "language_info": {
   "codemirror_mode": {
    "name": "ipython",
    "version": 3
   },
   "file_extension": ".py",
   "mimetype": "text/x-python",
   "name": "python",
   "nbconvert_exporter": "python",
   "pygments_lexer": "ipython3",
   "version": "3.5.3"
  }
 },
 "nbformat": 4,
 "nbformat_minor": 2
}
