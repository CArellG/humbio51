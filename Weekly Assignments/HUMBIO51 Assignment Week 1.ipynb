{
 "cells": [
  {
   "cell_type": "markdown",
   "metadata": {},
   "source": [
    " ##  Learning Objectives\n",
    " ***Students should be able to***\n",
    " <ol>\n",
    " <li>Find and/or set a working directory</li>\n",
    " <li>Identify the absolute or relative path for a file or directory</li>\n",
    " <li>Read a gene sequence into Python and determine the length of the sequence</li>\n",
    " <li>Explain the Central Dogma and what it means for a gene to be expressed</li>\n",
    " <li>Describe what a complementary DNA sequence is</li>\n",
    " <li>Recognize conventions for designating DNA sequence directionality</li>\n",
    " <li>Print a complementary DNA sequence using \"for loops\" and \"if\" statements</li>\n",
    " <li>Find the index of characters in a string variable and slice a string</li>\n",
    " <li>Write out a complementary DNA sequence to a file</li>\n",
    " <li>Write out the RNA transcription product for a DNA sequence.</li>\n",
    " <li>Define RNA splicing, exon and intron</li> \n",
    " <li>Use Python to find possible translation start and stop codons in a mRNA sequence </li>\n",
    " </ol>"
   ]
  },
  {
   "cell_type": "markdown",
   "metadata": {},
   "source": [
    "## QUESTION 1"
   ]
  },
  {
   "cell_type": "markdown",
   "metadata": {},
   "source": [
    "### QUESTION 1a"
   ]
  },
  {
   "cell_type": "code",
   "execution_count": 1,
   "metadata": {
    "jupyter": {
     "outputs_hidden": false
    }
   },
   "outputs": [
    {
     "data": {
      "text/plain": [
       "'/home/jovyan/humbio51_instructor/Weekly Assignments'"
      ]
     },
     "execution_count": 1,
     "metadata": {},
     "output_type": "execute_result"
    }
   ],
   "source": [
    "#Write out your working directory using Python \n",
    "import os\n",
    "os.getcwd()"
   ]
  },
  {
   "cell_type": "code",
   "execution_count": 2,
   "metadata": {},
   "outputs": [
    {
     "name": "stdout",
     "output_type": "stream",
     "text": [
      "/home/jovyan/humbio51_instructor/Weekly Assignments\n"
     ]
    }
   ],
   "source": [
    "#Write out your working directory using Unix\n",
    "!pwd"
   ]
  },
  {
   "cell_type": "markdown",
   "metadata": {},
   "source": [
    "### QUESTION 1b\n",
    "\n",
    "BRAF is a gene that is frequently mutated in patients with melanoma, a type of skin cancer (for more information see [here](https://www.cancer.org/cancer/melanoma-skin-cancer/treating/targeted-therapy.html)).\n",
    "\n",
    "The sequence for the Human-BRAF gene from the NCBI Reference Sequence database is provided in:<br>\n",
    "/home/jovyan/humbio51/Weekly Assignments/Week_1/data/Human-BRAF-NG_007873.3.txt.  "
   ]
  },
  {
   "cell_type": "code",
   "execution_count": 3,
   "metadata": {
    "jupyter": {
     "outputs_hidden": false
    }
   },
   "outputs": [],
   "source": [
    "#Change your working directory to /home/jovyan/humbio51/Weekly Assignments/Week_1/\n",
    "os.chdir('Week_1')"
   ]
  },
  {
   "cell_type": "code",
   "execution_count": 7,
   "metadata": {
    "jupyter": {
     "outputs_hidden": false
    }
   },
   "outputs": [
    {
     "data": {
      "text/plain": [
       "['Human-BRAF-NG_007873.3.txt',\n",
       " 'Human-CFTR-NP_000483.3.txt',\n",
       " 'Human-BRAF-NM_004333.5.txt']"
      ]
     },
     "execution_count": 7,
     "metadata": {},
     "output_type": "execute_result"
    }
   ],
   "source": [
    "#List the files in the data directory in /home/jovyan/humbio51/Weekly Assignments/Week_1/\n",
    "os.listdir('data')"
   ]
  },
  {
   "cell_type": "markdown",
   "metadata": {},
   "source": [
    "### QUESTION 1c"
   ]
  },
  {
   "cell_type": "code",
   "execution_count": 16,
   "metadata": {
    "jupyter": {
     "outputs_hidden": false
    }
   },
   "outputs": [
    {
     "name": "stdout",
     "output_type": "stream",
     "text": [
      "CGCCTCCCTTCCCCCTCCCCGCCCGACAGCGGCCGCTCGGGCCCCGGCTCTCGGTTATAAGATGGCGGCGCTGAGCGGTGGCGGTGGTGGCGGCGCGGAGCCGGGCCAGGCTCTGTTCAACGGGGACATGGAGCCCGAGGCCGGCGCCGGCGCCGGCGCCGCGGCCTCTTCGGCTGCGGACCCTGCCATTCCGGAGGAG\n"
     ]
    }
   ],
   "source": [
    "#The first exon of the Human-BRAF gene goes from base pair 1 to 199 (1-based numbering)\n",
    "#Print out the sequence of the first exon of the Human-BRAF gene\n",
    "\n",
    "BRAF_FASTAgenesequence=open('data/Human-BRAF-NG_007873.3.txt','r')\n",
    "BRAF_genesequence=(BRAF_FASTAgenesequence.readlines()[1:])\n",
    "BRAF_genesequence=''.join(BRAFsequence)\n",
    "BRAF_genesequence=BRAFsequence.replace('\\n','')\n",
    "print(BRAF_genesequence[0:199])"
   ]
  },
  {
   "cell_type": "markdown",
   "metadata": {},
   "source": [
    "### QUESTION 1d"
   ]
  },
  {
   "cell_type": "code",
   "execution_count": 14,
   "metadata": {
    "jupyter": {
     "outputs_hidden": false
    }
   },
   "outputs": [
    {
     "name": "stdout",
     "output_type": "stream",
     "text": [
      "CGCCUCCCUUCCCCCUCCCCGCCCGACAGCGGCCGCUCGGGCCCCGGCUCUCGGUUAUAAGAUGGCGGCGCUGAGCGGUGGCGGUGGUGGCGGCGCGGAGCCGGGCCAGGCUCUGUUCAACGGGGACAUGGAGCCCGAGGCCGGCGCCGGCGCCGGCGCCGCGGCCUCUUCGGCUGCGGACCCUGCCAUUCCGGAGGAGG\n"
     ]
    }
   ],
   "source": [
    "#Write out the primary mRNA transcript encoded for by the first exon of the Human-BRAF gene. \n",
    "#The sequence should use the abbreviations for the base pairs that would be found in an actual RNA molecule. \n",
    "BRAF_mRNA_sequence=BRAF_genesequence.replace('T','U')\n",
    "print(BRAF_mRNA_sequence[0:200])"
   ]
  },
  {
   "cell_type": "code",
   "execution_count": 15,
   "metadata": {
    "jupyter": {
     "outputs_hidden": false
    }
   },
   "outputs": [
    {
     "data": {
      "text/plain": [
       "190753"
      ]
     },
     "execution_count": 15,
     "metadata": {},
     "output_type": "execute_result"
    }
   ],
   "source": [
    "#Calculate the length of the entire primary mRNA transcript encoded for by the Human-BRAF gene.  \n",
    "len(BRAF_genesequence)"
   ]
  },
  {
   "cell_type": "markdown",
   "metadata": {},
   "source": [
    "## QUESTION 2\n",
    "\n",
    "The sequence for Human-BRAF mRNA from the NCBI Reference Sequence database is provided in:  \n",
    "/opt/humbio51/Weekly AssignmentsWeek_1/data/Human-BRAF-NM_004333.5.txt.  \n",
    "\n",
    "Write a script that calculates the length of the Human-BRAF mRNA transcript (Question 2a) and finds potential start  codons (Question 2c). \n",
    "\n",
    "Make sure that the print statements are written so it is clear in the output what is the length of the gene and what are the start and stop codon pairs. "
   ]
  },
  {
   "cell_type": "markdown",
   "metadata": {},
   "source": [
    "### QUESTION 2a"
   ]
  },
  {
   "cell_type": "code",
   "execution_count": 17,
   "metadata": {
    "jupyter": {
     "outputs_hidden": false
    }
   },
   "outputs": [
    {
     "name": "stdout",
     "output_type": "stream",
     "text": [
      "4560\n"
     ]
    }
   ],
   "source": [
    "#Calculate the length of the Human-BRAF mRNA sequence in the Human-BRAF-NM_004333.5.txt file\n",
    "BRAF_FASTA_nt_sequence=open('data/Human-BRAF-NM_004333.5.txt','r')\n",
    "BRAF_nt_sequence=(BRAF_FASTA_nt_sequence.readlines()[1:])\n",
    "BRAF_nt_sequence=''.join(BRAF_nt_sequence)\n",
    "BRAF_nt_sequence=BRAF_nt_sequence.replace('\\n','')\n",
    "print(len(BRAF_nt_sequence))"
   ]
  },
  {
   "cell_type": "markdown",
   "metadata": {},
   "source": [
    "### QUESTION 2b\n",
    "\n",
    "Why is the mRNA sequence in the NCBI Reference Sequence database a different length from the primary mRNA sequence from Question 1d?"
   ]
  },
  {
   "cell_type": "markdown",
   "metadata": {},
   "source": [
    "No code necessary. PUT YOUR TEXT ANSWER HERE: "
   ]
  },
  {
   "cell_type": "markdown",
   "metadata": {},
   "source": [
    "### QUESTION 2c"
   ]
  },
  {
   "cell_type": "code",
   "execution_count": 20,
   "metadata": {
    "jupyter": {
     "outputs_hidden": false
    }
   },
   "outputs": [
    {
     "name": "stdout",
     "output_type": "stream",
     "text": [
      "candidate start codon site: 226 candidate stop codon site: 2525 orf length: 2298\n",
      "candidate start codon site: 292 candidate stop codon site: 2525 orf length: 2232\n",
      "candidate start codon site: 382 candidate stop codon site: 2525 orf length: 2142\n",
      "candidate start codon site: 470 candidate stop codon site: 492 orf length: 21\n",
      "candidate start codon site: 494 candidate stop codon site: 768 orf length: 273\n",
      "candidate start codon site: 574 candidate stop codon site: 2525 orf length: 1950\n",
      "candidate start codon site: 653 candidate stop codon site: 768 orf length: 114\n",
      "candidate start codon site: 781 candidate stop codon site: 2525 orf length: 1743\n",
      "candidate start codon site: 784 candidate stop codon site: 2525 orf length: 1740\n",
      "candidate start codon site: 830 candidate stop codon site: 960 orf length: 129\n",
      "candidate start codon site: 893 candidate stop codon site: 960 orf length: 66\n",
      "candidate start codon site: 911 candidate stop codon site: 960 orf length: 48\n",
      "candidate start codon site: 1014 candidate stop codon site: 1024 orf length: 9\n",
      "candidate start codon site: 1060 candidate stop codon site: 2525 orf length: 1464\n",
      "candidate start codon site: 1073 candidate stop codon site: 1146 orf length: 72\n",
      "candidate start codon site: 1274 candidate stop codon site: 1338 orf length: 63\n",
      "candidate start codon site: 1328 candidate stop codon site: 1338 orf length: 9\n",
      "candidate start codon site: 1364 candidate stop codon site: 1371 orf length: 6\n",
      "candidate start codon site: 1397 candidate stop codon site: 1455 orf length: 57\n",
      "candidate start codon site: 1537 candidate stop codon site: 2525 orf length: 987\n",
      "candidate start codon site: 1568 candidate stop codon site: 1671 orf length: 102\n",
      "candidate start codon site: 1586 candidate stop codon site: 1671 orf length: 84\n",
      "candidate start codon site: 1655 candidate stop codon site: 1671 orf length: 15\n",
      "candidate start codon site: 1661 candidate stop codon site: 1671 orf length: 9\n",
      "candidate start codon site: 1675 candidate stop codon site: 2525 orf length: 849\n",
      "candidate start codon site: 1682 candidate stop codon site: 1686 orf length: 3\n",
      "candidate start codon site: 1724 candidate stop codon site: 1731 orf length: 6\n",
      "candidate start codon site: 1754 candidate stop codon site: 1758 orf length: 3\n",
      "candidate start codon site: 1774 candidate stop codon site: 2525 orf length: 750\n",
      "candidate start codon site: 1873 candidate stop codon site: 2525 orf length: 651\n",
      "candidate start codon site: 1915 candidate stop codon site: 2525 orf length: 609\n",
      "candidate start codon site: 1979 candidate stop codon site: 1995 orf length: 15\n",
      "candidate start codon site: 2034 candidate stop codon site: 2056 orf length: 21\n",
      "candidate start codon site: 2083 candidate stop codon site: 2525 orf length: 441\n",
      "candidate start codon site: 2104 candidate stop codon site: 2525 orf length: 420\n",
      "candidate start codon site: 2138 candidate stop codon site: 2172 orf length: 33\n",
      "candidate start codon site: 2144 candidate stop codon site: 2172 orf length: 27\n",
      "candidate start codon site: 2165 candidate stop codon site: 2172 orf length: 6\n",
      "candidate start codon site: 2173 candidate stop codon site: 2525 orf length: 351\n",
      "candidate start codon site: 2227 candidate stop codon site: 2525 orf length: 297\n",
      "candidate start codon site: 2290 candidate stop codon site: 2525 orf length: 234\n",
      "candidate start codon site: 2302 candidate stop codon site: 2525 orf length: 222\n",
      "candidate start codon site: 2330 candidate stop codon site: 2424 orf length: 93\n",
      "candidate start codon site: 2462 candidate stop codon site: 2538 orf length: 75\n",
      "candidate start codon site: 2504 candidate stop codon site: 2538 orf length: 33\n",
      "candidate start codon site: 2532 candidate stop codon site: 2605 orf length: 72\n",
      "candidate start codon site: 2575 candidate stop codon site: 2600 orf length: 24\n",
      "candidate start codon site: 2583 candidate stop codon site: 2605 orf length: 21\n",
      "candidate start codon site: 2595 candidate stop codon site: 2605 orf length: 9\n",
      "candidate start codon site: 2840 candidate stop codon site: 2919 orf length: 78\n",
      "candidate start codon site: 2866 candidate stop codon site: 2948 orf length: 81\n",
      "candidate start codon site: 2901 candidate stop codon site: 2938 orf length: 36\n",
      "candidate start codon site: 3059 candidate stop codon site: 3090 orf length: 30\n",
      "candidate start codon site: 3065 candidate stop codon site: 3090 orf length: 24\n",
      "candidate start codon site: 3161 candidate stop codon site: 3177 orf length: 15\n",
      "candidate start codon site: 3170 candidate stop codon site: 3177 orf length: 6\n",
      "candidate start codon site: 3200 candidate stop codon site: 3207 orf length: 6\n",
      "candidate start codon site: 3252 candidate stop codon site: 3373 orf length: 120\n",
      "candidate start codon site: 3263 candidate stop codon site: 3267 orf length: 3\n",
      "candidate start codon site: 3444 candidate stop codon site: 3529 orf length: 84\n",
      "candidate start codon site: 3447 candidate stop codon site: 3529 orf length: 81\n",
      "candidate start codon site: 3483 candidate stop codon site: 3529 orf length: 45\n",
      "candidate start codon site: 3527 candidate stop codon site: 3591 orf length: 63\n",
      "candidate start codon site: 3530 candidate stop codon site: 3591 orf length: 60\n",
      "candidate start codon site: 3534 candidate stop codon site: 3619 orf length: 84\n",
      "candidate start codon site: 3538 candidate stop codon site: 3569 orf length: 30\n",
      "candidate start codon site: 3562 candidate stop codon site: 3569 orf length: 6\n",
      "candidate start codon site: 3567 candidate stop codon site: 3619 orf length: 51\n",
      "candidate start codon site: 3617 candidate stop codon site: 3780 orf length: 162\n",
      "candidate start codon site: 3626 candidate stop codon site: 3780 orf length: 153\n",
      "candidate start codon site: 3771 candidate stop codon site: 3793 orf length: 21\n",
      "candidate start codon site: 3782 candidate stop codon site: 3786 orf length: 3\n",
      "candidate start codon site: 3830 candidate stop codon site: 3840 orf length: 9\n",
      "candidate start codon site: 3879 candidate stop codon site: 3889 orf length: 9\n",
      "candidate start codon site: 3946 candidate stop codon site: 3971 orf length: 24\n",
      "candidate start codon site: 4022 candidate stop codon site: 4032 orf length: 9\n",
      "candidate start codon site: 4030 candidate stop codon site: 4043 orf length: 12\n",
      "candidate start codon site: 4048 candidate stop codon site: 4112 orf length: 63\n",
      "candidate start codon site: 4066 candidate stop codon site: 4112 orf length: 45\n",
      "candidate start codon site: 4097 candidate stop codon site: 4140 orf length: 42\n",
      "candidate start codon site: 4146 candidate stop codon site: 4198 orf length: 51\n",
      "candidate start codon site: 4179 candidate stop codon site: 4198 orf length: 18\n",
      "candidate start codon site: 4239 candidate stop codon site: 4243 orf length: 3\n",
      "candidate start codon site: 4278 candidate stop codon site: 4330 orf length: 51\n",
      "candidate start codon site: 4287 candidate stop codon site: 4330 orf length: 42\n",
      "candidate start codon site: 4411 candidate stop codon site: 4496 orf length: 84\n",
      "candidate start codon site: 4484 candidate stop codon site: 4545 orf length: 60\n"
     ]
    }
   ],
   "source": [
    "#Find potential start and stop codon pairs in the Human-BRAF mRNA sequence \n",
    "for i in range(0,len(BRAF_nt_sequence)):\n",
    "      if BRAF_nt_sequence[i:i+3]=='ATG':\n",
    "        \n",
    "        #loops over each character in the mRNAsequence and looks to see if it is a stop codon TAA,TAG or TGA.\n",
    "        for j in range(i+3,len(BRAF_nt_sequence),3):\n",
    "            if BRAF_nt_sequence[j:j+3]=='TAA' or \\\n",
    "               BRAF_nt_sequence[j:j+3]=='TAG' or \\\n",
    "               BRAF_nt_sequence[j:j+3]=='TGA': \n",
    "                    print ('candidate start codon site: ' + str(i+1) \n",
    "                           + ' candidate stop codon site: ' + str(j+2) \n",
    "                           #for the length do not include the base pairs in the stop codon \n",
    "                           + ' orf length: '+ str(j-i)) \n",
    "                    \n",
    "                    #exits the loop after the first sequence is printed\n",
    "                    #avoids finding > 1 stop codon per start codon\n",
    "                    break"
   ]
  },
  {
   "cell_type": "markdown",
   "metadata": {},
   "source": [
    "## Question 3 "
   ]
  },
  {
   "cell_type": "markdown",
   "metadata": {},
   "source": [
    "There are proteins, called restriction enzymes, that will cut DNA at specific sequences. \n",
    "For experiments, it can be important to determine if your sequence of interest will be cut by the restriction enzyme.  \n",
    "\n",
    "The restriction enzyme XbaI will cut DNA at TCTAGA sites. \n",
    "\n",
    "Write a script to determine if there are any XbaI sites in the Human BRAF gene sequence from question 1. "
   ]
  },
  {
   "cell_type": "code",
   "execution_count": 24,
   "metadata": {
    "jupyter": {
     "outputs_hidden": false
    }
   },
   "outputs": [
    {
     "name": "stdout",
     "output_type": "stream",
     "text": [
      "candidate restriction enzyme site: 6405\n",
      "candidate restriction enzyme site: 8611\n",
      "candidate restriction enzyme site: 10292\n",
      "candidate restriction enzyme site: 12771\n",
      "candidate restriction enzyme site: 13345\n",
      "candidate restriction enzyme site: 13549\n",
      "candidate restriction enzyme site: 13702\n",
      "candidate restriction enzyme site: 18031\n",
      "candidate restriction enzyme site: 18159\n",
      "candidate restriction enzyme site: 20404\n",
      "candidate restriction enzyme site: 24803\n",
      "candidate restriction enzyme site: 29782\n",
      "candidate restriction enzyme site: 34274\n",
      "candidate restriction enzyme site: 37071\n",
      "candidate restriction enzyme site: 40462\n",
      "candidate restriction enzyme site: 44213\n",
      "candidate restriction enzyme site: 60716\n",
      "candidate restriction enzyme site: 60731\n",
      "candidate restriction enzyme site: 63180\n",
      "candidate restriction enzyme site: 63957\n",
      "candidate restriction enzyme site: 64299\n",
      "candidate restriction enzyme site: 65377\n",
      "candidate restriction enzyme site: 65558\n",
      "candidate restriction enzyme site: 65667\n",
      "candidate restriction enzyme site: 67243\n",
      "candidate restriction enzyme site: 67417\n",
      "candidate restriction enzyme site: 78178\n",
      "candidate restriction enzyme site: 79303\n",
      "candidate restriction enzyme site: 81158\n",
      "candidate restriction enzyme site: 81910\n",
      "candidate restriction enzyme site: 84274\n",
      "candidate restriction enzyme site: 89644\n",
      "candidate restriction enzyme site: 95229\n",
      "candidate restriction enzyme site: 96271\n",
      "candidate restriction enzyme site: 96648\n",
      "candidate restriction enzyme site: 102256\n",
      "candidate restriction enzyme site: 103759\n",
      "candidate restriction enzyme site: 105673\n",
      "candidate restriction enzyme site: 105761\n",
      "candidate restriction enzyme site: 111162\n",
      "candidate restriction enzyme site: 111930\n",
      "candidate restriction enzyme site: 115244\n",
      "candidate restriction enzyme site: 123151\n",
      "candidate restriction enzyme site: 127534\n",
      "candidate restriction enzyme site: 145549\n",
      "candidate restriction enzyme site: 147174\n",
      "candidate restriction enzyme site: 151166\n",
      "candidate restriction enzyme site: 155780\n",
      "candidate restriction enzyme site: 157659\n",
      "candidate restriction enzyme site: 158854\n",
      "candidate restriction enzyme site: 160222\n",
      "candidate restriction enzyme site: 161068\n",
      "candidate restriction enzyme site: 169262\n",
      "candidate restriction enzyme site: 176936\n",
      "candidate restriction enzyme site: 180496\n",
      "candidate restriction enzyme site: 181581\n",
      "candidate restriction enzyme site: 183557\n",
      "candidate restriction enzyme site: 190408\n"
     ]
    }
   ],
   "source": [
    "#Write a script to find possible restriction enzyme sites in the Human BRAF gene sequence\n",
    "for i in range(0,len(BRAF_genesequence)):\n",
    "    if BRAF_genesequence[i:i+6]=='TCTAGA':\n",
    "#prints the possible start codon starting position\n",
    "        print('candidate restriction enzyme site: '+ str(i+1))"
   ]
  },
  {
   "cell_type": "markdown",
   "metadata": {},
   "source": [
    "## Question 4"
   ]
  },
  {
   "cell_type": "markdown",
   "metadata": {},
   "source": [
    "One of the challenges of treating the disease cystic fibrosis is that different mutations in the same protein can lead to the disease. Kalydeco is a drug that is effective in patients in which the glycine (or G) at position 551 has been changed to an aspartic acid (or D). \n",
    "\n",
    "This is noted as a G551D mutation.\n",
    "\n",
    "The sequence for the CFTR protein is provided in Week_1/data/Human-CFTR-NP_000483.3.txt. Write a script to read in the protein sequence and change the G at position 551 to a D.  \n",
    "\n",
    "As a check, have the script print the length of both sequences and the amino acid at position 551 both before and after the mutation.\n"
   ]
  },
  {
   "cell_type": "code",
   "execution_count": 39,
   "metadata": {
    "jupyter": {
     "outputs_hidden": false
    }
   },
   "outputs": [
    {
     "name": "stdout",
     "output_type": "stream",
     "text": [
      "MQRSPLEKASVVSKLFFSWTRPILRKGYRQRLELSDIYQIPSVDSADNLSEKLEREWDRELASKKNPKLINALRRCFFWRFMFYGIFLYLGEVTKAVQPLLLGRIIASYDPDNKEERSIAIYLGIGLCLLFIVRTLLLHPAIFGLHHIGMQMRIAMFSLIYKKTLKLSSRVLDKISIGQLVSLLSNNLNKFDEGLALAHFVWIAPLQVALLMGLIWELLQASAFCGLGFLIVLALFQAGLGRMMMKYRDQRAGKISERLVITSEMIENIQSVKAYCWEEAMEKMIENLRQTELKLTRKAAYVRYFNSSAFFFSGFFVVFLSVLPYALIKGIILRKIFTTISFCIVLRMAVTRQFPWAVQTWYDSLGAINKIQDFLQKQEYKTLEYNLTTTEVVMENVTAFWEEGFGELFEKAKQNNNNRKTSNGDDSLFFSNFSLLGTPVLKDINFKIERGQLLAVAGSTGAGKTSLLMVIMGELEPSEGKIKHSGRISFCSQFSWIMPGTIKENIIFGVSYDEYRYRSVIKACQLEEDISKFAEKDNIVLGEGGITLSGGQRARISLARAVYKDADLYLLDSPFGYLDVLTEKEIFESCVCKLMANKTRILVTSKMEHLKKADKILILHEGSSYFYGTFSELQNLQPDFSSKLMGCDSFDQFSAERRNSILTETLHRFSLEGDAPVSWTETKKQSFKQTGEFGEKRKNSILNPINSIRKFSIVQKTPLQMNGIEEDSDEPLERRLSLVPDSEQGEAILPRISVISTGPTLQARRRQSVLNLMTHSVNQGQNIHRKTTASTRKVSLAPQANLTELDIYSRRLSQETGLEISEEINEEDLKECFFDDMESIPAVTTWNTYLRYITVHKSLIFVLIWCLVIFLAEVAASLVVLWLLGNTPLQDKGNSTHSRNNSYAVIITSTSSYYVFYIYVGVADTLLAMGFFRGLPLVHTLITVSKILHHKMLHSVLQAPMSTLNTLKAGGILNRFSKDIAILDDLLPLTIFDFIQLLLIVIGAIAVVAVLQPYIFVATVPVIVAFIMLRAYFLQTSQQLKQLESEGRSPIFTHLVTSLKGLWTLRAFGRQPYFETLFHKALNLHTANWFLYLSTLRWFQMRIEMIFVIFFIAVTFISILTTGEGEGRVGIILTLAMNIMSTLQWAVNSSIDVDSLMRSVSRVFKFIDMPTEGKPTKSTKPYKNGQLSKVMIIENSHVKKDDIWPSGGQMTVKDLTAKYTEGGNAILENISFSISPGQRVGLLGRTGSGKSTLLSAFLRLLNTEGEIQIDGVSWDSITLQQWRKAFGVIPQKVFIFSGTFRKNLDPYEQWSDQEIWKVADEVGLRSVIEQFPGKLDFVLVDGGCVLSHGHKQLMCLARSVLSKAKILLLDEPSAHLDPVTYQIIRRTLKQAFADCTVILCEHRIEAMLECQQFLVIEENKVRQYDSIQKLLNERSLFRQAISPSDRVKLFPHRNSSKCKSKPQIAALKEETEEEVQDTRL\n",
      "1480\n",
      "D\n",
      "1480\n"
     ]
    }
   ],
   "source": [
    "#Write a script to make the G551D substitution in the CFTR protein sequence and write the sequence to a file.\n",
    "#Save the file in the data directory\n",
    "CFTR_FASTA_protein_sequence=open('data/Human-CFTR-NP_000483.3.txt','r')\n",
    "CFTR_protein_sequence=(CFTR_FASTA_protein_sequence.readlines()[1:])\n",
    "CFTR_protein_sequence=''.join(CFTR_protein_sequence)\n",
    "CFTR_protein_sequence=CFTR_protein_sequence.replace('\\n','')\n",
    "\n",
    "print(CFTR_protein_sequence)\n",
    "print(len(CFTR_protein_sequence))\n",
    "\n",
    "CFTR_G551D=CFTR_protein_sequence[0:550]+'D'+CFTR_protein_sequence[551:]\n",
    "print(CFTR_G551D[550])\n",
    "print(len(CFTR_G551D))\n",
    "\n",
    "#create a file object f and open a writeable file called 'complementarysequence' in the working directory\n",
    "f =open('data/Human-CFTR-NP_000483.3_G551D.txt', 'w') \n",
    "\n",
    "#write the complementary sequence variable to the 'complementarysequence' file\n",
    "f.write(CFTR_G551D) \n",
    "\n",
    "#close the file object f so it does not take resources in the program        \n",
    "f.close () \n"
   ]
  },
  {
   "cell_type": "markdown",
   "metadata": {},
   "source": [
    "## Question 5"
   ]
  },
  {
   "cell_type": "markdown",
   "metadata": {},
   "source": [
    "Another mutation in the CFTR gene that has been linked to cystic fibrosis is a mutation in which the phenyl alanine (or F) at position 508 has been deleted (F508del). \n",
    "\n",
    "Write a script to read in the protein sequence and delete the F at position 508.   \n",
    "\n",
    "As a check, have the script print the length of both sequences."
   ]
  },
  {
   "cell_type": "code",
   "execution_count": null,
   "metadata": {
    "collapsed": true,
    "jupyter": {
     "outputs_hidden": true
    }
   },
   "outputs": [],
   "source": [
    "#Write a script to make the F508del in the CFTR protein sequence and write the sequence to a file.  "
   ]
  }
 ],
 "metadata": {
  "anaconda-cloud": {},
  "kernelspec": {
   "display_name": "Python 3",
   "language": "python",
   "name": "python3"
  },
  "language_info": {
   "codemirror_mode": {
    "name": "ipython",
    "version": 3
   },
   "file_extension": ".py",
   "mimetype": "text/x-python",
   "name": "python",
   "nbconvert_exporter": "python",
   "pygments_lexer": "ipython3",
   "version": "3.7.3"
  }
 },
 "nbformat": 4,
 "nbformat_minor": 4
}
