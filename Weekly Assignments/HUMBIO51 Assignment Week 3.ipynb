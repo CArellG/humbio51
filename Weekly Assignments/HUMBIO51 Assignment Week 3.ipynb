{
 "cells": [
  {
   "cell_type": "markdown",
   "metadata": {},
   "source": [
    "## HUMBIO51 Assignment Week 3"
   ]
  },
  {
   "cell_type": "markdown",
   "metadata": {},
   "source": [
    "\n",
    "##  Learning Objectives\n",
    "***Students should be able to***\n",
    " <ol>\n",
    " <li><a href=#Align2>Interpret the output of a pairwise2 sequence alignment from the BioPython package </a></li>\n",
    " <li><a href=#DataStructures> Identify the difference between tuple, list, and dictionary data structures in Python</a></li>\n",
    " <li><a href=#ScoreAlignments>Use DNA alignment scoring matrices to select the best alignment of two sequences from two possible alignments</a></li>\n",
    " <li><a href=#AlignMuscle>Align multiple sequences using modules from the BioPython package</a></li> \n",
    " <li><a href=#MapSeqReads>Map sequence reads to the human reference genome </a></li>\n",
    " <li><a href=#Qualityscores>Interpret quality scores from the output of a read mapping and alignment algorithm</a></li>\n",
    " <li><a href=#RNASeqinBrowser> View a gene sequence in the WashU Epigenome Browser</a></li>\n",
    " <li><a href=#RNASeqinBrowser> Explain how an RNA-Seq experiment works and what it measures</a></li>\n",
    "<li><a href=#RNASeqinBrowser> View results of RNA-Seq experiments in the WashU Epigenome Browser</a></li>\n",
    "  "
   ]
  },
  {
   "cell_type": "code",
   "execution_count": 1,
   "metadata": {
    "collapsed": true
   },
   "outputs": [],
   "source": [
    "#Change your working directory to Week_3"
   ]
  },
  {
   "cell_type": "markdown",
   "metadata": {},
   "source": [
    "## QUESTION 1\n",
    "\n",
    "In class and in the assignment last week, we looked at examples of pairwise and multiple sequence alignments comparing related genes or proteins from different species. \n",
    "\n",
    "Sequence alignments can also be useful for comparing related genes or proteins within a species. \n",
    "\n",
    "As you might remember from the Cracking the Code documentary and the Week 1 assignment, B-Raf is a protein that is a drug target for melanoma. \n",
    "\n",
    "For this question, you are going to run a multiple sequence alignment between the human B-Raf protein and two related proteins in the human genome, A-Raf and C-Raf. \n",
    "\n",
    "You can find the sequences for A-Raf, B-Raf and C-Raf in data/RAF_Proteins.fa. "
   ]
  },
  {
   "cell_type": "markdown",
   "metadata": {},
   "source": [
    "### QUESTION 1a"
   ]
  },
  {
   "cell_type": "code",
   "execution_count": null,
   "metadata": {
    "collapsed": true
   },
   "outputs": [],
   "source": [
    "# Run a multiple sequence alignment for the Human A-Raf, B-Raf and C-Raf proteins"
   ]
  },
  {
   "cell_type": "code",
   "execution_count": 14,
   "metadata": {},
   "outputs": [
    {
     "name": "stdout",
     "output_type": "stream",
     "text": [
      "A-Raf_NP_001243125.1.txt  B-Raf-NP_001341538.1.txt  RAF_Proteins.fa\r\n",
      "braf-and-kinases.fa\t  C-Raf-NP_001341618.1.txt\r\n"
     ]
    }
   ],
   "source": [
    "!ls data"
   ]
  },
  {
   "cell_type": "code",
   "execution_count": 15,
   "metadata": {},
   "outputs": [],
   "source": [
    "# Runs a multiple sequence alignment between the Human-Insulin Gene NG_007114.1\n",
    "# the Mouse Insulin GeneID 16333 and the Mouse Insulin GeneID 16334\n",
    "\n",
    "# note we used the import Bio command above otherwise we would need to have it here.\n",
    "\n",
    "# we are importing the MuscleCommandline here from Bio.Align.Applicaitons \n",
    "from Bio.Align.Applications import MuscleCommandline\n",
    "\n",
    "# defines a variable with the path of the executable for the MUSCLE algorithm program \n",
    "muscle_exe=\"/usr/bin/muscle\"\n",
    "\n",
    "#runs the multiple sequence alignment and writes to an output file in ClustalW format \n",
    "muscle_cline = MuscleCommandline(muscle_exe,input=\"data/Human and Mouse Insulin Genes.fa\",out=\"Human_and_Mouse_Insulin_Genes.aln\",clw=True)"
   ]
  },
  {
   "cell_type": "code",
   "execution_count": 19,
   "metadata": {},
   "outputs": [
    {
     "name": "stdout",
     "output_type": "stream",
     "text": [
      "data  RAF_Proteins.aln\r\n"
     ]
    }
   ],
   "source": [
    "!ls"
   ]
  },
  {
   "cell_type": "markdown",
   "metadata": {},
   "source": [
    "### QUESTION 1b"
   ]
  },
  {
   "cell_type": "code",
   "execution_count": null,
   "metadata": {
    "collapsed": true
   },
   "outputs": [],
   "source": [
    "#Write a line of code to view the output of the multiple sequence alignment from Question 1a"
   ]
  },
  {
   "cell_type": "markdown",
   "metadata": {},
   "source": [
    "### QUESTION 1c\n",
    "The multiple sequence alignment algorithm prints out the protein identifiers (eg. NP_001341538.1) but not the protein names. What is one way that you could determine which identifier corresponds to which Raf protein? (<i> There is more than one possible answer, just give one. </i>)"
   ]
  },
  {
   "cell_type": "markdown",
   "metadata": {},
   "source": [
    "Your answer here: "
   ]
  },
  {
   "cell_type": "markdown",
   "metadata": {},
   "source": [
    "### QUESTION 1d\n",
    "What is one reason why it may be useful to perform a multiple sequence alignment between proteins from the same organism (<i> This question will be graded for completion only </i>). "
   ]
  },
  {
   "cell_type": "code",
   "execution_count": null,
   "metadata": {
    "collapsed": true
   },
   "outputs": [],
   "source": [
    "Your answer here: "
   ]
  },
  {
   "cell_type": "markdown",
   "metadata": {},
   "source": [
    "## QUESTION 2"
   ]
  },
  {
   "cell_type": "markdown",
   "metadata": {},
   "source": [
    "### QUESTION 2a\n",
    "\n",
    "Files with the individual protein sequences for the A-Raf, B-Raf and C-Raf proteins are in the data directory.  "
   ]
  },
  {
   "cell_type": "code",
   "execution_count": null,
   "metadata": {
    "collapsed": true
   },
   "outputs": [],
   "source": [
    "#List the files in the data directory to obtain the file names for the three Raf proteins \n"
   ]
  },
  {
   "cell_type": "markdown",
   "metadata": {},
   "source": [
    "In the space below, write a script that will perform pairwise alignments\n",
    "between A-Raf and B-Raf and between B-Raf and C-Raf using the BioPython pairwise2 algorithm that we used in class and will print ONLY the pairwise sequence alignment scores, and not any other information. \n",
    "\n",
    "Note: The output of the pairwise sequence alignment will have a similar data structure to the example that we looked at in class, but will not have the same number of alignments."
   ]
  },
  {
   "cell_type": "code",
   "execution_count": null,
   "metadata": {
    "collapsed": true
   },
   "outputs": [],
   "source": [
    "#Write a script that outputs ONLY: \n",
    "#1-The pairwise alignment SCORE for A-Raf and B-Raf.  \n",
    "#2-The pairwise alignment SCORE for B-Raf and C-Raf. \n",
    "#Make sure it is clear which score is which.\n",
    "\n"
   ]
  },
  {
   "cell_type": "markdown",
   "metadata": {},
   "source": [
    "## QUESTION 3\n",
    "\n",
    "The CDK2 gene encodes a protein that is important for cell division.  Look up the CDK2 gene in the epigenome roadmap browser [here](http://epigenomegateway.wustl.edu/browser/). \n",
    "\n"
   ]
  },
  {
   "cell_type": "markdown",
   "metadata": {},
   "source": [
    "### QUESTION 3a\n",
    "\n",
    "Create a BED File for CDK2 transcript variant 1 using the hg19 version of the human reference genome. \n",
    "\n",
    "The CDK2 transcript variant 1 should be the first RefSeq gene that appears when you search for CDK2 in the browser. You can verify that you are looking at the correct transcript by clicking towards the left of the page on the first row where it says CDK2. The identifier should say NM_001798. \n",
    "\n",
    "The box that shows up the identifier for the transcript, also lists the numbering for the segments that you will need for your BED file. \n",
    "\n",
    "Your BED file should contain the positions of the 5'UTR, the coding sequence exons and the 3'UTR. \n",
    "\n",
    "Note: you should use column 4 of the BED file to indicate if the line refers to a 5'UTR, coding sequence or 3'UTR."
   ]
  },
  {
   "cell_type": "code",
   "execution_count": null,
   "metadata": {
    "collapsed": true
   },
   "outputs": [],
   "source": [
    "#Make a BED file for the CDK2 transcript variant 1\n",
    "#Include the 5'UTR, coding sequence and 3'UTR. "
   ]
  },
  {
   "cell_type": "markdown",
   "metadata": {},
   "source": [
    "### QUESTION 3b\n",
    "\n",
    "For this second part of the question you can use the Epigenome Browser session at:\n",
    "http://epigenomegateway.wustl.edu/browser/?genome=hg19&session=WQuTWqS74L&statusId=1674944085\n",
    "\n",
    "Click 101217-CDK.   \n",
    "\n",
    "You will find the CDK2 transcript variant 1 and CDK2 transcript variant 2 at the bottom of the browser window. \n",
    "\n",
    "What is the difference between CDK2 transcript variant 1 and CDK2 transcript variant 2?"
   ]
  },
  {
   "cell_type": "markdown",
   "metadata": {},
   "source": [
    " YOUR ANSWER HERE:"
   ]
  },
  {
   "cell_type": "markdown",
   "metadata": {},
   "source": [
    "### QUESTION 3c\n",
    "\n",
    "Name at least one cell type that CDK2 is expressed in and indicate which of the CDK transcripts is likely expressed in the cell type that you choose. Explain your reasoning. "
   ]
  },
  {
   "cell_type": "markdown",
   "metadata": {},
   "source": [
    "YOUR ANSWER HERE: "
   ]
  }
 ],
 "metadata": {
  "anaconda-cloud": {},
  "kernelspec": {
   "display_name": "Python 3",
   "language": "python",
   "name": "python3"
  },
  "language_info": {
   "codemirror_mode": {
    "name": "ipython",
    "version": 3
   },
   "file_extension": ".py",
   "mimetype": "text/x-python",
   "name": "python",
   "nbconvert_exporter": "python",
   "pygments_lexer": "ipython3",
   "version": "3.5.6"
  }
 },
 "nbformat": 4,
 "nbformat_minor": 2
}
