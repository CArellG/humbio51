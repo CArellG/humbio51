{
 "cells": [
  {
   "cell_type": "markdown",
   "metadata": {},
   "source": [
    "## HUMBIO51 Assignment Week 3"
   ]
  },
  {
   "cell_type": "markdown",
   "metadata": {},
   "source": [
    "\n",
    "##  Learning Objectives\n",
    "***Students should be able to***\n",
    " <ol>\n",
    " <li><a href=#Align2>Interpret the output of a pairwise2 sequence alignment from the BioPython package </a></li>\n",
    " <li><a href=#DataStructures> Identify the difference between tuple, list, and dictionary data structures in Python</a></li>\n",
    " <li><a href=#ScoreAlignments>Use DNA alignment scoring matrices to select the best alignment of two sequences from two possible alignments</a></li>\n",
    " <li><a href=#AlignMuscle>Align multiple sequences using modules from the BioPython package</a></li> \n",
    " <li><a href=#MapSeqReads>Map sequence reads to the human reference genome </a></li>\n",
    " <li><a href=#Qualityscores>Interpret quality scores from the output of a read mapping and alignment algorithm</a></li>\n",
    " <li><a href=#RNASeqinBrowser> View a gene sequence in the WashU Epigenome Browser</a></li>\n",
    " <li><a href=#RNASeqinBrowser> Explain how an RNA-Seq experiment works and what it measures</a></li>\n",
    "<li><a href=#RNASeqinBrowser> View results of RNA-Seq experiments in the WashU Epigenome Browser</a></li>\n",
    "  "
   ]
  },
  {
   "cell_type": "code",
   "execution_count": null,
   "metadata": {},
   "outputs": [],
   "source": [
    "#Change your working directory to Week_3"
   ]
  },
  {
   "cell_type": "markdown",
   "metadata": {},
   "source": [
    "## QUESTION 1\n",
    "\n",
    "In class and in the assignment last week, we looked at examples of pairwise and multiple sequence alignments comparing related genes or proteins from different species. \n",
    "\n",
    "Sequence alignments can also be useful for comparing related genes or proteins within a species. \n",
    "\n",
    "As you might remember from the Cracking the Code documentary and the Week 1 assignment, B-Raf is a protein that is a drug target for melanoma. B-Raf is also one of a family of related proteins known as protein kinases. \n",
    "\n",
    "When researchers first started working on designing inhibitors for Raf as potential cancer drugs, they noted that the inhibitors also targeted other kinases ([Nat Rev Cancer. 2014 Jul; 14(7): 455–467](https://www.ncbi.nlm.nih.gov/pmc/articles/PMC4250230/)).  \n",
    "\n",
    "For this question, you are going to run a multiple sequence alignment between the human B-Raf protein and related proteins in the human genome, A-Raf, B-Raf, FLT3, PDGFR-beta, cKIT and VEGFR2.  \n",
    "\n",
    "You can find the sequences for braf and the kinases in data/braf-and-kinases.fa. "
   ]
  },
  {
   "cell_type": "markdown",
   "metadata": {},
   "source": [
    "### QUESTION 1a"
   ]
  },
  {
   "cell_type": "code",
   "execution_count": null,
   "metadata": {},
   "outputs": [],
   "source": [
    "# Run a multiple sequence alignment for the protiens in the braf-and-kinase.fa file\n",
    "# NOTE: to run the alignment you will need to add the command below to the script that we ran in class. \n",
    "align_out=muscle_cline() "
   ]
  },
  {
   "cell_type": "markdown",
   "metadata": {},
   "source": [
    "### QUESTION 1b"
   ]
  },
  {
   "cell_type": "code",
   "execution_count": null,
   "metadata": {},
   "outputs": [],
   "source": [
    "#Write a line of code to view the output of the multiple sequence alignment from Question 1a"
   ]
  },
  {
   "cell_type": "markdown",
   "metadata": {},
   "source": [
    "### QUESTION 1c\n",
    "The multiple sequence alignment algorithm prints out the protein identifiers (eg. NP_004324.2) but not the protein names. What is one way that you could determine which identifier corresponds to which Raf protein? (<i> There is more than one possible answer, just give one. </i>)"
   ]
  },
  {
   "cell_type": "markdown",
   "metadata": {},
   "source": [
    "#### BEGIN ANSWER #### \n",
    "#### END ANSWER ####"
   ]
  },
  {
   "cell_type": "markdown",
   "metadata": {},
   "source": [
    "### QUESTION 1d\n",
    "\n",
    "Which part of the B-RAF sequence is the most highly conserved with the other kinases in the input file? \n",
    "\n",
    "You can note your answer by giving the first five amino acids of the row of the B-RAF sequence (id: NP_004324.2) in the most conserved section in the alignment. \n",
    "\n",
    "#### BEGIN ANSWER #### \n",
    "#### END ANSWER ####"
   ]
  },
  {
   "cell_type": "markdown",
   "metadata": {},
   "source": [
    "### QUESTION 1e\n",
    "\n",
    "Why are there parts of the sequence alignments that show mostly '-----' instead of aminio acid letters? \n",
    "#### BEGIN ANSWER #### \n",
    "#### END ANSWER ####"
   ]
  },
  {
   "cell_type": "markdown",
   "metadata": {},
   "source": [
    "## QUESTION 2\n",
    "\n",
    "ΔFosB is a truncated splice variant of FosB gene. Overexpression ΔFosB  in a specific population of neurons in the brain has been identified as the causal mechanism involved in the onset and maintenance of an addiction to drugs and natural rewards. We will examine the amino acid difference between NM_006732 (the benign splice variant) and \n",
    "NM_001114171 (the problematic splice variant i.e. ΔFosB) \n"
   ]
  },
  {
   "cell_type": "markdown",
   "metadata": {},
   "source": [
    "### QUESTION 2a\n",
    "Look up the FOSB gene in the epigenome roadmap browser [here](http://epigenomegateway.wustl.edu/browser/). Follow the instructions from class to create a screenshot of the gene and upload it along with this notebook in your homework submission (please use the pdf rather than the svg option to save your screenshot). \n"
   ]
  },
  {
   "cell_type": "markdown",
   "metadata": {},
   "source": [
    "### QUESTION 2b\n",
    "\n",
    "We will now create a BED File for FOSB transcript variant 1 using the hg19 version of the human reference genome. \n",
    "\n",
    "The FOSB transcript variant 1 should be the first RefSeq gene that appears when you search for FOSB in the browser. You can verify that you are looking at the correct transcript by clicking towards the left of the page on the first row where it says FOSB. The identifier should say NM_006732. \n",
    "\n",
    "The box that shows up when you click on the transcript will report: \n",
    "\n",
    "* The 5' UTR of NM_006732 (thin bar) \n",
    " \n",
    "* The CDS regions of NM_006732  (thicker bars) \n",
    "\n",
    "* THe 3' UTR of NM_00673 (thin bar) \n",
    "\n",
    "#### BEGIN ANSWER ####\n",
    "\n",
    "**What is the position of the 5' UTR of NM_006732 in the genome?**\n",
    "\n",
    "Replace the \"?\" with the correct values. \n",
    "\n",
    "Chromosome=?\n",
    "\n",
    "Start Position=?\n",
    "\n",
    "End Position=?\n",
    "\n",
    "**What is the position of the 3' UTR of NM_006732 in the genome?**\n",
    "\n",
    "Replace the \"?\" with the correct values. \n",
    "\n",
    "Chromosome=?\n",
    "\n",
    "Start Position=?\n",
    "\n",
    "End Position=?\n",
    "\n",
    "#### END ANSWER ####"
   ]
  },
  {
   "cell_type": "markdown",
   "metadata": {},
   "source": [
    "### QUESTION 2c \n",
    "\n",
    "Create a bed file for FOXB transcript variant 1. Your bed file should include just the CDS regions of the gene. Recall that the first column of the bed file should store the chromosome, the second column will store the starting position of the CDS, and the third column will store the end position of the CDS. Name your bed file \"FOXB_tv1.bed\"\n"
   ]
  },
  {
   "cell_type": "markdown",
   "metadata": {},
   "source": [
    "### QUESTION 2d \n",
    "\n",
    "Use the getFastaFromBed command to extract the FASTA sequence from FOXB_tv1.bed (hint: refer to the class 3 notebook for more information about how getFastaFromBed can be used to extract the FASTA sequence from a bed file). Save the FASTA file as \"FOXB_tv1.fasta\""
   ]
  },
  {
   "cell_type": "markdown",
   "metadata": {},
   "source": [
    "### QUESTION 2e \n",
    "\n",
    "Combine the regions in \"FOXB_tv1.fasta\" into a single sequence of DNA bases. Store this DNA sequence in the variable FOXB_tv1. \n",
    "\n",
    "You can do this using the following approach: \n",
    "\n",
    "* Set \"FOXB_tv1\" to equal an empty string. \n",
    "\n",
    "* Open the file \"FOXB_tv1.fasta\" for reading. \n",
    "\n",
    "* Use a for loop to iterate through all the lines in the file. \n",
    "\n",
    "   1. Use the **startswith** function to check if the current line starts with \">\" \n",
    "   \n",
    "   2. If the line does not start with \">\", add the line to the FOXB_tv1 variable \n",
    "   \n",
    "   (note: our goal here is to skip the FASTA header lines that provide the sequence id but not the actual ACGT bases) \n",
    "   \n",
    "For more information on the startswith function see this [link](https://www.tutorialspoint.com/python/string_startswith.htm)."
   ]
  },
  {
   "cell_type": "markdown",
   "metadata": {},
   "source": [
    "### QUESTION 2f\n",
    "Use the **write_protein_1_letter_aa_from_RNA** function from the helper file \"central_dogma_helpers.py\" to convert the DNA sequence stored in the variable FOXB_tv1 to a protein sequence. Let's call the protein sequence \"FOXB_tv1_aa\" , using \"aa\" to represent \"amino acids\""
   ]
  },
  {
   "cell_type": "markdown",
   "metadata": {},
   "source": [
    "### QUESTION 2g \n",
    "\n",
    "We have followed the same steps that you did in QUESTION 3C - 3F to generate an amino acid sequence for the second splice variant (NM_001114171). This sequence is stored in the file Week_3/data/NM_001114171.txt. Perform a pairwise alignment of the two amino acid sequences using the Biopython function **pairwise2.align.globalxx**"
   ]
  },
  {
   "cell_type": "markdown",
   "metadata": {},
   "source": [
    "### QUESTION 2h\n",
    "Run the code below to format and print the highest scoring alignment between FOXB_tv1_aa and FOXB_tv2_aa. \n",
    "Hint: If you followed the above steps correctly, your alignment should have the following properties: \n",
    "\n",
    "  Score=  303\n",
    "  \n",
    "  Begin=  0\n",
    " \n",
    "  End  =  339\n",
    "  \n",
    "  Length= 339\n",
    "  "
   ]
  },
  {
   "cell_type": "code",
   "execution_count": null,
   "metadata": {},
   "outputs": [],
   "source": [
    "from sequence_alignment_helpers import *\n",
    "\n",
    "print(format_alignment_linebreak(insert_newlines(FOXB_tv1_tv2_align[0][0]),\n",
    "                                 insert_newlines(FOXB_tv1_tv2_align[0][1]),\n",
    "                                 FOXB_tv1_tv2_align[0][2],\n",
    "                                 FOXB_tv1_tv2_align[0][3],\n",
    "                                 FOXB_tv1_tv2_align[0][4],\n",
    "                                 \"NM_006732\",\n",
    "                                 \"NM_001114171\"))"
   ]
  },
  {
   "cell_type": "markdown",
   "metadata": {},
   "source": [
    "### QUESTION 2i\n",
    "\n",
    "How many amino acids are missing from NM_001114171 that are present in NM_00732? \n",
    "\n",
    "#### BEGIN ANSWER ####\n",
    "#### END ANSWER ####"
   ]
  },
  {
   "cell_type": "markdown",
   "metadata": {},
   "source": []
  }
 ],
 "metadata": {
  "anaconda-cloud": {},
  "kernelspec": {
   "display_name": "Python 3",
   "language": "python",
   "name": "python3"
  },
  "language_info": {
   "codemirror_mode": {
    "name": "ipython",
    "version": 3
   },
   "file_extension": ".py",
   "mimetype": "text/x-python",
   "name": "python",
   "nbconvert_exporter": "python",
   "pygments_lexer": "ipython3",
   "version": "3.5.6"
  }
 },
 "nbformat": 4,
 "nbformat_minor": 2
}
