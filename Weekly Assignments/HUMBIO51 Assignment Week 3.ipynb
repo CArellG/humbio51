{
 "cells": [
  {
   "cell_type": "markdown",
   "metadata": {},
   "source": [
    "## HUMBIO51 Assignment Week 3"
   ]
  },
  {
   "cell_type": "markdown",
   "metadata": {},
   "source": [
    "\n",
    "##  Learning Objectives\n",
    "***Students should be able to***\n",
    " <ol>\n",
    " <li><a href=#Align2>Interpret the output of a pairwise2 sequence alignment from the BioPython package </a></li>\n",
    " <li><a href=#DataStructures> Identify the difference between tuple, list, and dictionary data structures in Python</a></li>\n",
    " <li><a href=#ScoreAlignments>Use DNA alignment scoring matrices to select the best alignment of two sequences from two possible alignments</a></li>\n",
    " <li><a href=#AlignMuscle>Align multiple sequences using modules from the BioPython package</a></li> \n",
    " <li><a href=#MapSeqReads>Map sequence reads to the human reference genome </a></li>\n",
    " <li><a href=#Qualityscores>Interpret quality scores from the output of a read mapping and alignment algorithm</a></li>\n",
    " <li><a href=#RNASeqinBrowser> View a gene sequence in the WashU Epigenome Browser</a></li>\n",
    " <li><a href=#RNASeqinBrowser> Explain how an RNA-Seq experiment works and what it measures</a></li>\n",
    "<li><a href=#RNASeqinBrowser> View results of RNA-Seq experiments in the WashU Epigenome Browser</a></li>\n",
    "  "
   ]
  },
  {
   "cell_type": "code",
   "execution_count": null,
   "metadata": {},
   "outputs": [],
   "source": [
    "#Change your working directory to Week_3"
   ]
  },
  {
   "cell_type": "code",
   "execution_count": 1,
   "metadata": {},
   "outputs": [],
   "source": [
    "###ANSWER ### \n",
    "import os \n",
    "os.chdir(\"/home/jovyan/humbio51_instructor/Weekly Assignments/Week_3/\")\n",
    "### ANSWER ###"
   ]
  },
  {
   "cell_type": "markdown",
   "metadata": {},
   "source": [
    "## QUESTION 1\n",
    "\n",
    "In class and in the assignment last week, we looked at examples of pairwise and multiple sequence alignments comparing related genes or proteins from different species. \n",
    "\n",
    "Sequence alignments can also be useful for comparing related genes or proteins within a species. The mitogen-activated protein kinase (MAPK) family is involved in directing cellular responses to a diverse array of stimuli, such as mitogens, osmotic stress, heat shock and proinflammatory cytokines. These proteins regulate cell functions including proliferation, gene expression, differentiation, mitosis, cell survival, and apoptosis. The evolutionary history of the classical MAP kinases is shown below (*image from https://commons.wikimedia.org/w/index.php?curid=26810221*)\n",
    "\n",
    "<img src=\"../Weekly Assignments/Week_3/MAPK-evolutionary-tree.png\" align=\"center\"/>\n",
    "\n",
    "\n",
    "\n",
    "For this question, you are going to run a multiple sequence alignment between several members of the MAPK protein family: \n",
    "* ERK1 (also known as MAPK3) \n",
    "* ERK5 (also known as MAPK7) \n",
    "* JNK1 (also known as MAPK8) \n",
    "* p38alpha (also known as MAPK14) \n",
    "* p38beta (also known as MAPK11) \n",
    "* p38gamma (also known as MAPK12) \n",
    "* p38delta (also known as MAPK13) \n",
    "\n",
    "You can find the sequences for these kinases in data/MAPK.fa. "
   ]
  },
  {
   "cell_type": "markdown",
   "metadata": {},
   "source": [
    "### QUESTION 1a"
   ]
  },
  {
   "cell_type": "code",
   "execution_count": null,
   "metadata": {},
   "outputs": [],
   "source": [
    "# Run a multiple sequence alignment for the proteins in the braf-and-kinase.fa file\n",
    "# NOTE: to run the alignment you will need to add the command below to the script that we ran in class. \n",
    "align_out=muscle_cline() "
   ]
  },
  {
   "cell_type": "code",
   "execution_count": 2,
   "metadata": {},
   "outputs": [],
   "source": [
    "import Bio\n",
    "\n",
    "# we are importing the MuscleCommandline here from Bio.Align.Applicaitons \n",
    "from Bio.Align.Applications import MuscleCommandline\n",
    "\n",
    "# defines a variable with the path of the executable for the MUSCLE algorithm program \n",
    "muscle_exe=\"/usr/bin/muscle\"\n",
    "\n",
    "#runs the multiple sequence alignment and writes to an output file in ClustalW format \n",
    "muscle_cline = MuscleCommandline(muscle_exe,input=\"data/MAPK.fa\",out=\"MAPK.aln\",clw=True)\n",
    "align_out=muscle_cline() "
   ]
  },
  {
   "cell_type": "code",
   "execution_count": null,
   "metadata": {},
   "outputs": [],
   "source": [
    "### ANSWER ### \n",
    "from Bio.Align.Applications import MuscleCommandline\n",
    "\n",
    "# defines a variable with the path of the executable for the MUSCLE algorithm program \n",
    "muscle_exe=\"/usr/bin/muscle\"\n",
    "\n",
    "#runs the multiple sequence alignment and writes to an output file in ClustalW format \n",
    "muscle_cline = MuscleCommandline(muscle_exe,input=\"data/MAPK.fa\",out=\"MAPK.aln\",clw=True)\n",
    "align_out=muscle_cline()\n",
    "### ANSWER ### "
   ]
  },
  {
   "cell_type": "markdown",
   "metadata": {},
   "source": [
    "### QUESTION 1b"
   ]
  },
  {
   "cell_type": "code",
   "execution_count": 3,
   "metadata": {},
   "outputs": [
    {
     "name": "stdout",
     "output_type": "stream",
     "text": [
      "MUSCLE (3.8) multiple sequence alignment\r\n",
      "\r\n",
      "\r\n",
      "NP_002737.2         MAAAAAQGGGGGEPRRTEGVGPGVP-------------GEVEMVKGQPFDVGPRYTQLQY\r\n",
      "NP_002740.2         MAEPLKEEDGEDGSAEPPGPVKAEPAHTAASVAAKNLALLKARSFDVTFDVGDEYEIIET\r\n",
      "NP_001310231.1      MSRS-KRDNN----------------------------FYSVEIGDSTFTVLKRYQNLKP\r\n",
      "NP_001306.1         MSQE---RPT----------------------------FYRQELNKTIWEVPERYQNLSP\r\n",
      "NP_002742.3         MSGP---RAG----------------------------FYRQELNKTVWEVPQRLQGLRP\r\n",
      "NP_002745.1         --MSLIRKKG----------------------------FYKQDVNKTAWELPKTYVSPTH\r\n",
      "NP_002960.2         MSSPPPARSG----------------------------FYRQEVTKTAWEVRAVYRDLQP\r\n",
      "                                                                    : :         \r\n",
      "\r\n",
      "NP_002737.2         IGEGAYGMVSSAYDHVRKTRVAIKKIS-PFEHQTYCQRTLREIQILLRFRHENVIGIRDI\r\n",
      "NP_002740.2         IGNGAYGVVSSARRRLTGQQVAIKKIPNAFDVVTNAKRTLRELKILKHFKHDNIIAIKDI\r\n",
      "NP_001310231.1      IGSGAQGIVCAAYDAILERNVAIKKLSRPFQNQTHAKRAYRELVLMKCVNHKNIIGLLNV\r\n",
      "NP_001306.1         VGSGAYGSVCAAFDTKTGLRVAVKKLSRPFQSIIHAKRTYRELRLLKHMKHENVIGLLDV\r\n",
      "NP_002742.3         VGSGAYGSVCSAYDARLRQKVAVKKLSRPFQSLIHARRTYRELRLLKHLKHENVIGLLDV\r\n",
      "NP_002745.1         VGSGAYGSVCSAIDKRSGEKVAIKKLSRPFQSEIFAKRAYRELLLLKHMQHENVIGLLDV\r\n",
      "NP_002960.2         VGSGAYGAVCSAVDGRTGAKVAIKKLYRPFQSELFAKRAYRELRLLKHMRHENVIGLLDV\r\n",
      "                    :*.** * *.:*       .**:**:  .*:    ..*: **: ::  ..*.*:*.: ::\r\n",
      "\r\n",
      "NP_002737.2         LR-ASTLEAMRDVYIVQDLMETDLYKLLKSQQ-LSNDHICYFLYQILRGLKYIHSANVLH\r\n",
      "NP_002740.2         LRPTVPYGEFKSVYVVLDLMESDLHQIIHSSQPLTLEHVRYFLYQLLRGLKYMHSAQVIH\r\n",
      "NP_001310231.1      FTPQKSLEEFQDVYIVMELMDANLCQVIQME--LDHERMSYLLYQMLCGIKHLHSAGIIH\r\n",
      "NP_001306.1         FTPARSLEEFNDVYLVTHLMGADLNNIVKCQK-LTDDHVQFLIYQILRGLKYIHSADIIH\r\n",
      "NP_002742.3         FTPATSIEDFSEVYLVTTLMGADLNNIVKCQA-LSDEHVQFLVYQLLRGLKYIHSAGIIH\r\n",
      "NP_002745.1         FTPASSLRNFYDFYLVMPFMQTDLQKIMGME--FSEEKIQYLVYQMLKGLKYIHSAGVVH\r\n",
      "NP_002960.2         FTPDETLDDFTDFYLVMPFMGTDLGKLMKHEK-LGEDRIQFLVYQMLKGLRYIHAAGIIH\r\n",
      "                    :    .   : ..*:*  :* ::* :::  .  :  :.: :::**:* *:.::*:* ::*\r\n",
      "\r\n",
      "NP_002737.2         RDLKPSNLLINTTCDLKICDFGLAR-IADPEHDHTGFLTEYVATRWYRAPEIMLNSKGYT\r\n",
      "NP_002740.2         RDLKPSNLLVNENCELKIGDFGMARGLCTSPAEHQYFMTEYVATRWYRAPELMLSLHEYT\r\n",
      "NP_001310231.1      RDLKPSNIVVKSDCTLKILDFGLAR-----TAGTSFMMTPYVVTRYYRAPEVILG-MGYK\r\n",
      "NP_001306.1         RDLKPSNLAVNEDCELKILDFGLAR-----HTDDE--MTGYVATRWYRAPEIMLNWMHYN\r\n",
      "NP_002742.3         RDLKPSNVAVNEDCELRILDFGLAR-----QADEE--MTGYVATRWYRAPEIMLNWMHYN\r\n",
      "NP_002745.1         RDLKPGNLAVNEDCELKILDFGLAR-----HADAE--MTGYVVTRWYRAPEVILSWMHYN\r\n",
      "NP_002960.2         RDLKPGNLAVNEDCELKILDFGLAR-----QADSE--MTGYVVTRWYRAPEVILNWMRYT\r\n",
      "                    *****.*: ::  * *.* ***:**            :* **.**:*****::*.   *.\r\n",
      "\r\n",
      "NP_002737.2         KSIDIWSVGCILAEMLSNRPIFPGKHYLDQLNHILGILGSPSQEDLNCIINMKARNYLQS\r\n",
      "NP_002740.2         QAIDLWSVGCIFGEMLARRQLFPGKNYVHQLQLIMMVLGTPSPAVIQAVGAERVRAYIQS\r\n",
      "NP_001310231.1      ENVDLWSVGCIMGEMVCHKILFPGRDYIDQWNKVIEQLGTPCPEFMKKLQP-TVRTYVEN\r\n",
      "NP_001306.1         QTVDIWSVGCIMAELLTGRTLFPGTDHINQLQQIMRLTGTPPAYLINRMPSHEARNYIQS\r\n",
      "NP_002742.3         QTVDIWSVGCIMAELLQGKALFPGSDYIDQLKRIMEVVGTPSPEVLAKISSEHARTYIQS\r\n",
      "NP_002745.1         QTVDIWSVGCIMAEMLTGKTLFKGKDYLDQLTQILKVTGVPGTEFVQKLNDKAAKSYIQS\r\n",
      "NP_002960.2         QTVDIWSVGCIMAEMITGKTLFKGSDHLDQLKEIMKVTGTPPAEFVQRLQSDEAKNYMKG\r\n",
      "                    : :*:******:.*::  . :* *  :: *   ::   * *    :  :    .. *::.\r\n",
      "\r\n",
      "NP_002737.2         LPSKTKVAWAKLFPKS------------DSKALDLLDRMLTFNPNKRITVEEALAHPYLE\r\n",
      "NP_002740.2         LPPRQPVPWETVYPGA------------DRQALSLLGRMLRFEPSARISAAAALRHPFLA\r\n",
      "NP_001310231.1      RPKYAGYSFEKLFPDVLFPADSEHNKLKASQARDLLSKMLVIDASKRISVDEALQHPYIN\r\n",
      "NP_001306.1         LTQMPKMNFANVFIGA------------NPLAVDLLEKMLVLDSDKRITAAQALAHAYFA\r\n",
      "NP_002742.3         LPPMPQKDLSSIFRGA------------NPLAIDLLGRMLVLDSDQRVSAAEALAHAYFS\r\n",
      "NP_002745.1         LPQTPRKDFTQLFPRA------------SPQAADLLEKMLELDVDKRLTAAQALTHPFFE\r\n",
      "NP_002960.2         LPELEKKDFASILTNA------------SPLAVNLLEKMLVLDAEQRVTAGEALAHPYFE\r\n",
      "                     .         :                   * .** .** :: . *::.  ** *.:: \r\n",
      "\r\n",
      "NP_002737.2         QYYDPTDEPVAEEPF-TFAMELDDLPKERLKELIFQET-------------ARFQP----\r\n",
      "NP_002740.2         KYHDPDDEPDCAPPF-DFAFDREALTRERIKEAIVAEIEDFHARREGIRQQIRFQPSLQP\r\n",
      "NP_001310231.1      VWYDPSEAEAPPPKIPDKQLDEREHTIEEWKELIYKEV-------------MDLEE----\r\n",
      "NP_001306.1         QYHDPDDEPVADP-Y-DQSFESRDLLIDEWKSLTYDEV-------------ISFVP----\r\n",
      "NP_002742.3         QYHDPEDEPEAEP-Y-DESVEAKERTLEEWKELTYQEV-------------LSFKP----\r\n",
      "NP_002745.1         PFRDPEEETEAQQPF-DDSLEHEKLTVDEWKQHIYKEI-------------VNFSP----\r\n",
      "NP_002960.2         SLHDTEDEPQVQK-Y-DDSFDDVDRTLDEWKRVTYKEV-------------LSFKP----\r\n",
      "                       *. :            .:      :  *     *                :      \r\n",
      "\r\n",
      "NP_002737.2         ------------------------------------------------------------\r\n",
      "NP_002740.2         VASEPGCPDVEMPSPWAPSGDCAMESPPPAPPPCPGPAPDTIDLTLQPPPPVSEPAPPKK\r\n",
      "NP_001310231.1      ------------------------------------------------------------\r\n",
      "NP_001306.1         ------------------------------------------------------------\r\n",
      "NP_002742.3         ------------------------------------------------------------\r\n",
      "NP_002745.1         ------------------------------------------------------------\r\n",
      "NP_002960.2         ------------------------------------------------------------\r\n",
      "                                                                                \r\n",
      "\r\n",
      "NP_002737.2         ------------------------------------------------------------\r\n",
      "NP_002740.2         DGAISDNTKAALKAALLKSLRSRLRDGPSAPLEAPEPRKPVTAQERQREREEKRRRRQER\r\n",
      "NP_001310231.1      ------------------------------------------------------------\r\n",
      "NP_001306.1         ------------------------------------------------------------\r\n",
      "NP_002742.3         ------------------------------------------------------------\r\n",
      "NP_002745.1         ------------------------------------------------------------\r\n",
      "NP_002960.2         ------------------------------------------------------------\r\n",
      "                                                                                \r\n",
      "\r\n",
      "NP_002737.2         ------------------------------------------------------------\r\n",
      "NP_002740.2         AKEREKRRQERERKERGAGASGGPSTDPLAGLVLSDNDRSLLERWTRMARPAAPALTSVP\r\n",
      "NP_001310231.1      ------------------------------------------------------------\r\n",
      "NP_001306.1         ------------------------------------------------------------\r\n",
      "NP_002742.3         ------------------------------------------------------------\r\n",
      "NP_002745.1         ------------------------------------------------------------\r\n",
      "NP_002960.2         ------------------------------------------------------------\r\n",
      "                                                                                \r\n",
      "\r\n",
      "NP_002737.2         -----------------------------------------------------------G\r\n",
      "NP_002740.2         APAPAPTPTPTPVQPTSPPPGPVAQPTGPQPQSAGSTSGPVPQPACPPPGPAPHPTGPPG\r\n",
      "NP_001310231.1      ----------------------------------------------------RTKNGVIR\r\n",
      "NP_001306.1         ----------------------------------------------------P----PLD\r\n",
      "NP_002742.3         ----------------------------------------------------PEPPKPPG\r\n",
      "NP_002745.1         ----------------------------------------------------IARKDSRR\r\n",
      "NP_002960.2         ----------------------------------------------------PRQLGARV\r\n",
      "                                                                                \r\n",
      "\r\n",
      "NP_002737.2         VLEAP-------------------------------------------------------\r\n",
      "NP_002740.2         PIPVPAPPQIATSTSLLAAQSLVPPPGLPGSSTPGVLPYFPPGLPPPDAGGAPQSSMSES\r\n",
      "NP_001310231.1      GQPSPLAQVQQ-------------------------------------------------\r\n",
      "NP_001306.1         QEEMES------------------------------------------------------\r\n",
      "NP_002742.3         SLEIEQ------------------------------------------------------\r\n",
      "NP_002745.1         RSGMKL------------------------------------------------------\r\n",
      "NP_002960.2         SKETPL------------------------------------------------------\r\n",
      "                                                                                \r\n",
      "\r\n",
      "NP_002737.2         ------------------------------------------------------------\r\n",
      "NP_002740.2         PDVNLVTQQLSKSQVEDPLPPVFSGTPKGSGAGYGVGFDLEEFLNQSFDMGVADGPQDGQ\r\n",
      "NP_001310231.1      ------------------------------------------------------------\r\n",
      "NP_001306.1         ------------------------------------------------------------\r\n",
      "NP_002742.3         ------------------------------------------------------------\r\n",
      "NP_002745.1         ------------------------------------------------------------\r\n",
      "NP_002960.2         ------------------------------------------------------------\r\n",
      "                                                                                \r\n",
      "\r\n",
      "NP_002737.2         -------------------------------------------------\r\n",
      "NP_002740.2         ADSASLSASLLADWLEGHGMNPADIESLQREIQMDSPMLLADLPDLQDP\r\n",
      "NP_001310231.1      -------------------------------------------------\r\n",
      "NP_001306.1         -------------------------------------------------\r\n",
      "NP_002742.3         -------------------------------------------------\r\n",
      "NP_002745.1         -------------------------------------------------\r\n",
      "NP_002960.2         -------------------------------------------------\r\n",
      "                                                                     \r\n"
     ]
    }
   ],
   "source": [
    "#Write a line of code to view the output of the multiple sequence alignment from Question 1a\n",
    "!cat MAPK.aln"
   ]
  },
  {
   "cell_type": "code",
   "execution_count": null,
   "metadata": {},
   "outputs": [],
   "source": [
    "### ANSWER ### \n",
    "!cat MAPK.aln\n",
    "\n",
    "### ANSWER ### "
   ]
  },
  {
   "cell_type": "markdown",
   "metadata": {},
   "source": [
    "### QUESTION 1c\n",
    "The multiple sequence alignment algorithm prints out the protein identifiers (eg. NP_002960.2) but not the protein names. What is one way that you could determine which identifier corresponds to which MAPK protein? (<i> There is more than one possible answer, just give one. </i>)"
   ]
  },
  {
   "cell_type": "markdown",
   "metadata": {},
   "source": [
    "#### BEGIN ANSWER #### \n",
    "#### END ANSWER ####"
   ]
  },
  {
   "cell_type": "markdown",
   "metadata": {},
   "source": [
    "#### BEGIN ANSWER #### \n",
    "1) Look up the protein in NCBI protein database \n",
    "\n",
    "2) Search for the protein identifier in the FASTA file \n",
    "#### END ANSWER ####"
   ]
  },
  {
   "cell_type": "markdown",
   "metadata": {},
   "source": [
    "### QUESTION 1d\n",
    "\n",
    "Which part of the p38delta sequence is the most highly conserved with the other kinases in the input file? \n",
    "\n",
    "You can note your answer by giving the first five amino acids of the row of the p38delta sequence (id: NP_002960.2) in the most conserved section in the alignment. \n",
    "\n",
    "#### BEGIN ANSWER #### \n",
    "#### END ANSWER ####"
   ]
  },
  {
   "cell_type": "markdown",
   "metadata": {},
   "source": [
    "#### BEGIN ANSWER #### \n",
    "FYRQE\n",
    "#### END ANSWER ####"
   ]
  },
  {
   "cell_type": "markdown",
   "metadata": {},
   "source": [
    "### QUESTION 1e\n",
    "\n",
    "Why are there parts of the sequence alignments that show mostly '-----' instead of aminio acid letters? \n",
    "#### BEGIN ANSWER #### \n",
    "#### END ANSWER ####"
   ]
  },
  {
   "cell_type": "markdown",
   "metadata": {},
   "source": [
    "### BEGIN ANSWER ### \n",
    "The '-----' represents regions that are less likely to be conserved \n",
    "### END ANSWER ### \n"
   ]
  },
  {
   "cell_type": "markdown",
   "metadata": {},
   "source": [
    "### QUESTION 1f \n",
    "There is one protein that stands out as different from the others. Which one is it? Why do you think this protein would be different from the others in the MAPK.fa? \n",
    "### BEGIN ANSWER ### \n",
    "### END ANSWER ### \n"
   ]
  },
  {
   "cell_type": "markdown",
   "metadata": {},
   "source": [
    "### BEGIN ANSWER ###\n",
    "ERK5. \n",
    "It was the earliest to branch off in the evolutionary tree. \n",
    "### END ANSWER ### "
   ]
  },
  {
   "cell_type": "markdown",
   "metadata": {},
   "source": [
    "## QUESTION 2\n",
    "The growth hormone secretagogue receptor(GHSR), also known as ghrelin receptor, binds hormones such as ghrelin, the \"hunger hormone\". This protein is the receptor for the ghrelin ligand and kicks off a neuroendocrine pathway for growth hormone release.The role of GHSR is thought to be in regulating energy homeostasis and body weight. One transcript, GHSR1a, excises an intron and encodes the functional protein. GHSR1b is a truncated splice variant of GHSR that does not excise this intron and is not able to bind the ghrelin hormone. We will examine the amino acid difference between NM_198407 (the benign splice variant) and NM_004122 (the problematic splice variant i.e. GHSR1b) \n"
   ]
  },
  {
   "cell_type": "markdown",
   "metadata": {},
   "source": [
    "### QUESTION 2a\n",
    "Look up the GHSR gene in the epigenome roadmap browser [here](http://epigenomegateway.wustl.edu/legacy/). Follow the instructions from class to create a screenshot of the gene and upload it along with this notebook in your homework submission (please use the pdf rather than the svg option to save your screenshot). \n"
   ]
  },
  {
   "cell_type": "markdown",
   "metadata": {},
   "source": [
    "### QUESTION 2b\n",
    "\n",
    "We will now create a BED File for GHSR1a using the hg19 version of the human reference genome. \n",
    "\n",
    "The GHSR1a should be the first RefSeq gene that appears when you search for GHSR in the browser. You can verify that you are looking at the correct transcript by clicking towards the left of the page on the first row where it says GHSR. The identifier should say NM_198407. \n",
    "\n",
    "The box that shows up when you click on the transcript will report: \n",
    "\n",
    "* The 5' UTR of NM_198407 (thin bar) \n",
    " \n",
    "* The CDS regions of NM_198407  (thicker bars) \n",
    "\n",
    "* THe 3' UTR of NM_198407 (thin bar) \n",
    "\n",
    "#### BEGIN ANSWER ####\n",
    "\n",
    "**What is the position of the 5' UTR of NM_198407 in the genome?**\n",
    "\n",
    "Replace the \"?\" with the correct values. \n",
    "\n",
    "Chromosome=?\n",
    "\n",
    "Start Position=?\n",
    "\n",
    "End Position=?\n",
    "\n",
    "**What is the position of the 3' UTR of NM_198407 in the genome?**\n",
    "\n",
    "Replace the \"?\" with the correct values. \n",
    "\n",
    "Chromosome=?\n",
    "\n",
    "Start Position=?\n",
    "\n",
    "End Position=?\n",
    "\n",
    "#### END ANSWER ####"
   ]
  },
  {
   "cell_type": "markdown",
   "metadata": {},
   "source": [
    "#### BEGIN ANSWER ####\n",
    "\n",
    "**What is the position of the 5' UTR of NM_198407 in the genome?**\n",
    "\n",
    "Replace the \"?\" with the correct values. \n",
    "\n",
    "Chromosome=3\n",
    "\n",
    "Start Position=172166203 \n",
    "\n",
    "End Position= 172166246\n",
    "\n",
    "**What is the position of the 3' UTR of NM_198407 in the genome?**\n",
    "\n",
    "Replace the \"?\" with the correct values. \n",
    "\n",
    "Chromosome=3\n",
    "\n",
    "Start Position=172161080\n",
    "\n",
    "End Position= 172162950\n",
    "\n",
    "#### END ANSWER ####"
   ]
  },
  {
   "cell_type": "markdown",
   "metadata": {},
   "source": [
    "### QUESTION 2c \n",
    "\n",
    "Create a bed file for GHSR1a transcript variant. Your bed file should include just the CDS regions of the gene. Recall that the first column of the bed file should store the chromosome, the second column will store the starting position of the CDS, and the third column will store the end position of the CDS. Name your bed file \"GHSR1a.bed\"\n"
   ]
  },
  {
   "cell_type": "code",
   "execution_count": 4,
   "metadata": {},
   "outputs": [
    {
     "name": "stdout",
     "output_type": "stream",
     "text": [
      "chr3\t172162950\t172163255\r\n",
      "chr3\t172165407\t172166203\r\n"
     ]
    }
   ],
   "source": [
    "## ANSWER ## \n",
    "!echo \"chr3\\t172162950\\t172163255\" > GHSR1a.bed\n",
    "!echo \"chr3\\t172165407\\t172166203\" >> GHSR1a.bed\n",
    "!cat GHSR1a.bed\n",
    "## ANSWER ## \n"
   ]
  },
  {
   "cell_type": "code",
   "execution_count": 27,
   "metadata": {},
   "outputs": [],
   "source": [
    "#Note that the exon locations have been adjusted to the zero-based numbering system described above\n",
    "#\\t is a tab character, and \\n is a newline character\n",
    "file1 = open('GHSR1a.bed', 'w') #defines a file with the name \"human_insulin_exons.bed\"\n",
    "\n",
    "#Coordinates are for GRCh37 reference genome \n",
    "file1.write(\"chr3\\t172162950\\t172163255\\tcds\\t1\\t-\\n\") \n",
    "file1.write(\"chr3\\t172165407\\t172166203\\tcds\\t1\\t-\\n\")\n",
    "\n",
    "file1.close()"
   ]
  },
  {
   "cell_type": "code",
   "execution_count": 29,
   "metadata": {},
   "outputs": [
    {
     "name": "stdout",
     "output_type": "stream",
     "text": [
      "chr3\t172165333\t172166203\tcds\t1\t-\r\n",
      "\r\n"
     ]
    }
   ],
   "source": [
    "## ANSWER \n",
    "!echo \"chr3\\t172165333\\t172166203\\tcds\\t1\\t-\\n\" > GHSR1b.bed\n",
    "!cat GHSR1b.bed\n",
    "## ANSWER ## "
   ]
  },
  {
   "cell_type": "markdown",
   "metadata": {},
   "source": [
    "### QUESTION 2d \n",
    "\n",
    "Use the fastaFromBed command to extract the FASTA sequence from GHSR1a.bed (hint: refer to the class 3 notebook for more information about how getFastaFromBed can be used to extract the FASTA sequence from a bed file). Save the FASTA file as \"GHSR1a.fasta\""
   ]
  },
  {
   "cell_type": "code",
   "execution_count": 28,
   "metadata": {},
   "outputs": [
    {
     "name": "stdout",
     "output_type": "stream",
     "text": [
      ">chr3:172162950-172163255\r\n",
      "TCATGTATTAATACTAGATTCTGTCCAGGCCCGAGAACTTTCATCTTTCAGAGTGGAGAGCTTTCTCTGGGAGAAGGGTTCGAATCCCAGAAGTCTGAACACTGCCACCCGGTACTTCTTGGACATGATGTTGTACAGAATGGGGTTGATGGCAGCACTGAGGTAGAAGAGGACAAAGGACACGAGGTTGCAGTACTGGCTGATCTGAGCAATCTCCAAGGAGCCAGGCTCAAAGGATTTGGAAAATAAATATCGCCCTACGTGGAAGGGGAGCCAGCAGAGGATGAAGGCAAACACCACTACAG\r\n",
      ">chr3:172165407-172166203\r\n",
      "CCAGCATTTTCACGGTTTGCTTGTGGTTCTGGTCCCTGAGCGAGGCACCCACGACAGCATCGCCGCGCCTCCTCCGCCACAGCTTCCTGCCGATGAGACTGTAGAGGACCGTGAGACAGAAGACAGGAAGGAAGAAGAAGATGCTGGACACCCACACCATGACCGTGAGCAGTCCAGAGCGCACCGCAAACTCGGTGGGGCGGCACTCGTTGGTGTCCCAAGGGTCGGTGCCGTTCTCGTGCTCCACCCCGACTAGCACGAAGATGGGCCCGGCGCTGCAGAAGGCCACGGCCCAGATGACGAAGATGACCAGCTTCACCCGCCCCTTGGTGACCACCACCTTGGCCCGGAGTGGGAAGCAGATGGCGAAGTAGCGCTCGACGCTCAGCGCTGTGATGGTGAGCACCGTGGCGTAGGTGCAGCTCTCACTGACGAATTGGAAGAGTTTGCAGAGGAGGTCGCCGAAGTTCCAGGGCCGGTACTGCCAGAGGCGAACGAGGTCCAGGGGCATGCAGAGGAAGATGAGCAGATCGGAGAAGGCCATGCTGGACAGGTAGAGGTTGGTGGTGGTGCGCAGCTCGCGGAAGCGCGACACCACCAGCATGGTGAGCAGGTTGCCAGCGATGCCCACCACGAAGAGTGCCACGCAGGTGGCTGTGACGCCCGCCAGCAGCGGCGCGGGGAAGAGCTGCAGCAGCTCGTCGCCCAGCGAGTCGTTGCCGGGGGAAGCATCCCAGTCCAGGTCGGCCAGTGTGAGGTTGAACCCCGGCTCTTCGCTGGGCGTCGCGTTCCACAT\r\n"
     ]
    }
   ],
   "source": [
    "## ANSWER ## \n",
    "!fastaFromBed -fi /data/hg19.genome.fa -bed GHSR1a.bed > GHSR1a.fasta \n",
    "!cat GHSR1a.fasta \n",
    "## ANSWER ## \n"
   ]
  },
  {
   "cell_type": "code",
   "execution_count": 30,
   "metadata": {},
   "outputs": [
    {
     "name": "stdout",
     "output_type": "stream",
     "text": [
      ">chr3:172165333-172166203\r\n",
      "TCAGAGAGAAGGGAGAAGGCACAGGGAGAGGATAGGACCCGCGAGAGAAAGCCTGAGCGCGCGCTGAGACCCACCCAGCATTTTCACGGTTTGCTTGTGGTTCTGGTCCCTGAGCGAGGCACCCACGACAGCATCGCCGCGCCTCCTCCGCCACAGCTTCCTGCCGATGAGACTGTAGAGGACCGTGAGACAGAAGACAGGAAGGAAGAAGAAGATGCTGGACACCCACACCATGACCGTGAGCAGTCCAGAGCGCACCGCAAACTCGGTGGGGCGGCACTCGTTGGTGTCCCAAGGGTCGGTGCCGTTCTCGTGCTCCACCCCGACTAGCACGAAGATGGGCCCGGCGCTGCAGAAGGCCACGGCCCAGATGACGAAGATGACCAGCTTCACCCGCCCCTTGGTGACCACCACCTTGGCCCGGAGTGGGAAGCAGATGGCGAAGTAGCGCTCGACGCTCAGCGCTGTGATGGTGAGCACCGTGGCGTAGGTGCAGCTCTCACTGACGAATTGGAAGAGTTTGCAGAGGAGGTCGCCGAAGTTCCAGGGCCGGTACTGCCAGAGGCGAACGAGGTCCAGGGGCATGCAGAGGAAGATGAGCAGATCGGAGAAGGCCATGCTGGACAGGTAGAGGTTGGTGGTGGTGCGCAGCTCGCGGAAGCGCGACACCACCAGCATGGTGAGCAGGTTGCCAGCGATGCCCACCACGAAGAGTGCCACGCAGGTGGCTGTGACGCCCGCCAGCAGCGGCGCGGGGAAGAGCTGCAGCAGCTCGTCGCCCAGCGAGTCGTTGCCGGGGGAAGCATCCCAGTCCAGGTCGGCCAGTGTGAGGTTGAACCCCGGCTCTTCGCTGGGCGTCGCGTTCCACAT\r\n"
     ]
    }
   ],
   "source": [
    "### ANSWER ### \n",
    "!fastaFromBed -fi /data/hg19.genome.fa -bed GHSR1b.bed > GHSR1b.fasta\n",
    "!cat GHSR1b.fasta\n",
    "### ANSWER ### "
   ]
  },
  {
   "cell_type": "markdown",
   "metadata": {},
   "source": [
    "### QUESTION 2e \n",
    "\n",
    "Combine the regions in \"GHSR1a.fasta\" into a single sequence of DNA bases. Store this DNA sequence in the variable **GHSR1a**. \n",
    "\n",
    "You can do this using the following approach: \n",
    "\n",
    "* Set \"GHSR1a\" to equal an empty string. \n",
    "\n",
    "* Open the file \"GHSR1a.fasta\" for reading. \n",
    "\n",
    "* Use a for loop to iterate through all the lines in the file. \n",
    "\n",
    "   1. Use the **startswith** function to check if the current line starts with \">\" \n",
    "   \n",
    "   2. If the line does not start with \">\", add the line to the GHSR1a variable \n",
    "   \n",
    "   (note: our goal here is to skip the FASTA header lines that provide the sequence id but not the actual ACGT bases) \n",
    "   \n",
    "For more information on the startswith function see this [link](https://www.tutorialspoint.com/python/string_startswith.htm).\n",
    "Hint: consider using the **strip** function to remove newline characters from the end of each line. "
   ]
  },
  {
   "cell_type": "code",
   "execution_count": 47,
   "metadata": {},
   "outputs": [
    {
     "name": "stdout",
     "output_type": "stream",
     "text": [
      "TCATGTATTAATACTAGATTCTGTCCAGGCCCGAGAACTTTCATCTTTCAGAGTGGAGAGCTTTCTCTGGGAGAAGGGTTCGAATCCCAGAAGTCTGAACACTGCCACCCGGTACTTCTTGGACATGATGTTGTACAGAATGGGGTTGATGGCAGCACTGAGGTAGAAGAGGACAAAGGACACGAGGTTGCAGTACTGGCTGATCTGAGCAATCTCCAAGGAGCCAGGCTCAAAGGATTTGGAAAATAAATATCGCCCTACGTGGAAGGGGAGCCAGCAGAGGATGAAGGCAAACACCACTACAGCCAGCATTTTCACGGTTTGCTTGTGGTTCTGGTCCCTGAGCGAGGCACCCACGACAGCATCGCCGCGCCTCCTCCGCCACAGCTTCCTGCCGATGAGACTGTAGAGGACCGTGAGACAGAAGACAGGAAGGAAGAAGAAGATGCTGGACACCCACACCATGACCGTGAGCAGTCCAGAGCGCACCGCAAACTCGGTGGGGCGGCACTCGTTGGTGTCCCAAGGGTCGGTGCCGTTCTCGTGCTCCACCCCGACTAGCACGAAGATGGGCCCGGCGCTGCAGAAGGCCACGGCCCAGATGACGAAGATGACCAGCTTCACCCGCCCCTTGGTGACCACCACCTTGGCCCGGAGTGGGAAGCAGATGGCGAAGTAGCGCTCGACGCTCAGCGCTGTGATGGTGAGCACCGTGGCGTAGGTGCAGCTCTCACTGACGAATTGGAAGAGTTTGCAGAGGAGGTCGCCGAAGTTCCAGGGCCGGTACTGCCAGAGGCGAACGAGGTCCAGGGGCATGCAGAGGAAGATGAGCAGATCGGAGAAGGCCATGCTGGACAGGTAGAGGTTGGTGGTGGTGCGCAGCTCGCGGAAGCGCGACACCACCAGCATGGTGAGCAGGTTGCCAGCGATGCCCACCACGAAGAGTGCCACGCAGGTGGCTGTGACGCCCGCCAGCAGCGGCGCGGGGAAGAGCTGCAGCAGCTCGTCGCCCAGCGAGTCGTTGCCGGGGGAAGCATCCCAGTCCAGGTCGGCCAGTGTGAGGTTGAACCCCGGCTCTTCGCTGGGCGTCGCGTTCCACAT\n"
     ]
    }
   ],
   "source": [
    "GHSR1a=''\n",
    "f=open('GHSR1a.fasta','r')\n",
    "f=f.readlines()\n",
    "for i in f:\n",
    "    if i.startswith('>')==False:\n",
    "        GHSR1a=GHSR1a+i\n",
    "        GHSR1a=GHSR1a.replace('\\n','')\n",
    "print(GHSR1a)"
   ]
  },
  {
   "cell_type": "code",
   "execution_count": 32,
   "metadata": {},
   "outputs": [
    {
     "name": "stdout",
     "output_type": "stream",
     "text": [
      "TCATGTATTAATACTAGATTCTGTCCAGGCCCGAGAACTTTCATCTTTCAGAGTGGAGAGCTTTCTCTGGGAGAAGGGTTCGAATCCCAGAAGTCTGAACACTGCCACCCGGTACTTCTTGGACATGATGTTGTACAGAATGGGGTTGATGGCAGCACTGAGGTAGAAGAGGACAAAGGACACGAGGTTGCAGTACTGGCTGATCTGAGCAATCTCCAAGGAGCCAGGCTCAAAGGATTTGGAAAATAAATATCGCCCTACGTGGAAGGGGAGCCAGCAGAGGATGAAGGCAAACACCACTACAGCCAGCATTTTCACGGTTTGCTTGTGGTTCTGGTCCCTGAGCGAGGCACCCACGACAGCATCGCCGCGCCTCCTCCGCCACAGCTTCCTGCCGATGAGACTGTAGAGGACCGTGAGACAGAAGACAGGAAGGAAGAAGAAGATGCTGGACACCCACACCATGACCGTGAGCAGTCCAGAGCGCACCGCAAACTCGGTGGGGCGGCACTCGTTGGTGTCCCAAGGGTCGGTGCCGTTCTCGTGCTCCACCCCGACTAGCACGAAGATGGGCCCGGCGCTGCAGAAGGCCACGGCCCAGATGACGAAGATGACCAGCTTCACCCGCCCCTTGGTGACCACCACCTTGGCCCGGAGTGGGAAGCAGATGGCGAAGTAGCGCTCGACGCTCAGCGCTGTGATGGTGAGCACCGTGGCGTAGGTGCAGCTCTCACTGACGAATTGGAAGAGTTTGCAGAGGAGGTCGCCGAAGTTCCAGGGCCGGTACTGCCAGAGGCGAACGAGGTCCAGGGGCATGCAGAGGAAGATGAGCAGATCGGAGAAGGCCATGCTGGACAGGTAGAGGTTGGTGGTGGTGCGCAGCTCGCGGAAGCGCGACACCACCAGCATGGTGAGCAGGTTGCCAGCGATGCCCACCACGAAGAGTGCCACGCAGGTGGCTGTGACGCCCGCCAGCAGCGGCGCGGGGAAGAGCTGCAGCAGCTCGTCGCCCAGCGAGTCGTTGCCGGGGGAAGCATCCCAGTCCAGGTCGGCCAGTGTGAGGTTGAACCCCGGCTCTTCGCTGGGCGTCGCGTTCCACAT\n"
     ]
    }
   ],
   "source": [
    "## ANSWER ## \n",
    "file_contents=open(\"GHSR1a.fasta\",'r') #skip the header\n",
    "GHSR1a=\"\"\n",
    "for line in file_contents: \n",
    "    if line.startswith(\">\")==False: \n",
    "        GHSR1a=GHSR1a+line.strip('\\n')\n",
    "print(GHSR1a)\n",
    "\n",
    "## ANSWER ## "
   ]
  },
  {
   "cell_type": "code",
   "execution_count": 33,
   "metadata": {},
   "outputs": [
    {
     "name": "stdout",
     "output_type": "stream",
     "text": [
      "TCAGAGAGAAGGGAGAAGGCACAGGGAGAGGATAGGACCCGCGAGAGAAAGCCTGAGCGCGCGCTGAGACCCACCCAGCATTTTCACGGTTTGCTTGTGGTTCTGGTCCCTGAGCGAGGCACCCACGACAGCATCGCCGCGCCTCCTCCGCCACAGCTTCCTGCCGATGAGACTGTAGAGGACCGTGAGACAGAAGACAGGAAGGAAGAAGAAGATGCTGGACACCCACACCATGACCGTGAGCAGTCCAGAGCGCACCGCAAACTCGGTGGGGCGGCACTCGTTGGTGTCCCAAGGGTCGGTGCCGTTCTCGTGCTCCACCCCGACTAGCACGAAGATGGGCCCGGCGCTGCAGAAGGCCACGGCCCAGATGACGAAGATGACCAGCTTCACCCGCCCCTTGGTGACCACCACCTTGGCCCGGAGTGGGAAGCAGATGGCGAAGTAGCGCTCGACGCTCAGCGCTGTGATGGTGAGCACCGTGGCGTAGGTGCAGCTCTCACTGACGAATTGGAAGAGTTTGCAGAGGAGGTCGCCGAAGTTCCAGGGCCGGTACTGCCAGAGGCGAACGAGGTCCAGGGGCATGCAGAGGAAGATGAGCAGATCGGAGAAGGCCATGCTGGACAGGTAGAGGTTGGTGGTGGTGCGCAGCTCGCGGAAGCGCGACACCACCAGCATGGTGAGCAGGTTGCCAGCGATGCCCACCACGAAGAGTGCCACGCAGGTGGCTGTGACGCCCGCCAGCAGCGGCGCGGGGAAGAGCTGCAGCAGCTCGTCGCCCAGCGAGTCGTTGCCGGGGGAAGCATCCCAGTCCAGGTCGGCCAGTGTGAGGTTGAACCCCGGCTCTTCGCTGGGCGTCGCGTTCCACAT\n"
     ]
    }
   ],
   "source": [
    "## ANSWER ## \n",
    "file_contents=open(\"GHSR1b.fasta\",'r') #skip the header\n",
    "GHSR1b=\"\"\n",
    "for line in file_contents: \n",
    "    if line.startswith(\">\")==False: \n",
    "        GHSR1b=GHSR1b+line.strip('\\n')\n",
    "print(GHSR1b)\n",
    "\n",
    "## ANSWER ## "
   ]
  },
  {
   "cell_type": "markdown",
   "metadata": {},
   "source": [
    "### QUESTION 2f\n",
    "Make the complementary sequence for the GHSR1a DNA sequence then use the **write_protein_1_letter_aa_from_RNA** function from the helper file \"central_dogma_helpers.py\" to convert the DNA sequence stored in the variable GHSR1a to a protein sequence. Let's call the protein sequence \"GHSR1a_aa\" , using \"aa\" to represent \"amino acids\""
   ]
  },
  {
   "cell_type": "code",
   "execution_count": 34,
   "metadata": {},
   "outputs": [
    {
     "name": "stdout",
     "output_type": "stream",
     "text": [
      "SCINTRFCPGPRTFIFQSGELSLGEGFESQKSEHCHPVLLGHDVVQNGVDGSTEVEEDKGHEVAVLADLSNLQGARLKGFGK*ISPYVEGEPAEDEGKHHYSQHFHGLLVVLVPERGTHDSIAAPPPPQLPADETVEDRETEDRKEEEDAGHPHHDREQSRAHRKLGGAALVGVPRVGAVLVLHPD*HEDGPGAAEGHGPDDEDDQLHPPLGDHHLGPEWEADGEVALDAQRCDGEHRGVGAALTDELEEFAEEVAEVPGPVLPEANEVQGHAEEDEQIGEGHAGQVEVGGGAQLAEARHHQHGEQVASDAHHEECHAGGCDARQQRRGEELQQLVAQRVVAGGSIPVQVGQCEVEPRLFAGRRVPH\n"
     ]
    }
   ],
   "source": [
    "## ANSWER ## \n",
    "import sys \n",
    "sys.path.append(\"../../helpers/\")\n",
    "from central_dogma_helpers import * \n",
    "GHSR1a_rna=write_RNA_from_DNA(GHSR1a)\n",
    "\n",
    "GHSR1a_aa=write_protein_1_letter_aa_from_RNA(GHSR1a_rna)\n",
    "\n",
    "print(GHSR1a_aa)\n",
    "## ANSWER ## "
   ]
  },
  {
   "cell_type": "code",
   "execution_count": 36,
   "metadata": {},
   "outputs": [
    {
     "name": "stdout",
     "output_type": "stream",
     "text": [
      "MWNATPSEEPGFNLTLADLDWDASPGNDSLGDELLQLFPAPLLAGVTATCVALFVVGIAGNLLTMLVVSRFRELRTTTNLYLSSMAFSDLLIFLCMPLDLVRLWQYRPWNFGDLLCKLFQFVSESCTYATVLTITALSVERYFAICFPLRAKVVVTKGRVKLVIFVIWAVAFCSAGPIFVLVGVEHENGTDPWDTNECRPTEFAVRSGLLTVMVWVSSIFFFLPVFCLTVLYSLIGRKLWRRRRGDAVVGASLRDQNHKQTVKMLAVVVFAFILCWLPFHVGRYLFSKSFEPGSLEIAQISQYCNLVSFVLFYLSAAINPILYNIMSKKYRVAVFRLLGFEPFSQRKLSTLKDESSRAWTESSINT*\n"
     ]
    }
   ],
   "source": [
    "## ANSWER ## \n",
    "import sys \n",
    "sys.path.append(\"../../helpers/\")\n",
    "from central_dogma_helpers import * \n",
    "\n",
    "complementarysequence='' #this defines the variable 'complementarysequence'\n",
    "\n",
    "for i in GHSR1a:\n",
    "    if  i=='A':\n",
    "        complementarysequence=complementarysequence+'T'\n",
    "    if i=='T':\n",
    "        complementarysequence=complementarysequence+'A'\n",
    "    if i=='G':\n",
    "        complementarysequence=complementarysequence+'C'\n",
    "    if i=='C':\n",
    "        complementarysequence=complementarysequence+'G'\n",
    "\n",
    "GHSR1a_reversecomplement=complementarysequence[::-1]\n",
    "\n",
    "GHSR1a_rna=write_RNA_from_DNA(GHSR1a_reversecomplement)\n",
    "GHSR1a_aa=write_protein_1_letter_aa_from_RNA(GHSR1a_rna)\n",
    "\n",
    "print(GHSR1a_aa)\n",
    "## ANSWER ## "
   ]
  },
  {
   "cell_type": "code",
   "execution_count": 41,
   "metadata": {},
   "outputs": [
    {
     "name": "stdout",
     "output_type": "stream",
     "text": [
      "MWNATPSEEPGFNLTLADLDWDASPGNDSLGDELLQLFPAPLLAGVTATCVALFVVGIAGNLLTMLVVSRFRELRTTTNLYLSSMAFSDLLIFLCMPLDLVRLWQYRPWNFGDLLCKLFQFVSESCTYATVLTITALSVERYFAICFPLRAKVVVTKGRVKLVIFVIWAVAFCSAGPIFVLVGVEHENGTDPWDTNECRPTEFAVRSGLLTVMVWVSSIFFFLPVFCLTVLYSLIGRKLWRRRRGDAVVGASLRDQNHKQTVKMLGGSQRALRLSLAGPILSLCLLPSL*MWNATPSEEPGFNLTLADLDWDASPGNDSLGDELLQLFPAPLLAGVTATCVALFVVGIAGNLLTMLVVSRFRELRTTTNLYLSSMAFSDLLIFLCMPLDLVRLWQYRPWNFGDLLCKLFQFVSESCTYATVLTITALSVERYFAICFPLRAKVVVTKGRVKLVIFVIWAVAFCSAGPIFVLVGVEHENGTDPWDTNECRPTEFAVRSGLLTVMVWVSSIFFFLPVFCLTVLYSLIGRKLWRRRRGDAVVGASLRDQNHKQTVKMLAVVVFAFILCWLPFHVGRYLFSKSFEPGSLEIAQISQYCNLVSFVLFYLSAAINPILYNIMSKKYRVAVFRLLGFEPFSQRKLSTLKDESSRAWTESSINT*MWNATPSEEPGFNLTLADLDWDASPGNDSLGDELLQLFPAPLLAGVTATCVALFVVGIAGNLLTMLVVSRFRELRTTTNLYLSSMAFSDLLIFLCMPLDLVRLWQYRPWNFGDLLCKLFQFVSESCTYATVLTITALSVERYFAICFPLRAKVVVTKGRVKLVIFVIWAVAFCSAGPIFVLVGVEHENGTDPWDTNECRPTEFAVRSGLLTVMVWVSSIFFFLPVFCLTVLYSLIGRKLWRRRRGDAVVGASLRDQNHKQTVKMLAVVVFAFILCWLPFHVGRYLFSKSFEPGSLEIAQISQYCNLVSFVLFYLSAAINPILYNIMSKKYRVAVFRLLGFEPFSQRKLSTLKDESSRAWTESSINT*\n",
      "MWNATPSEEPGFNLTLADLDWDASPGNDSLGDELLQLFPAPLLAGVTATCVALFVVGIAGNLLTMLVVSRFRELRTTTNLYLSSMAFSDLLIFLCMPLDLVRLWQYRPWNFGDLLCKLFQFVSESCTYATVLTITALSVERYFAICFPLRAKVVVTKGRVKLVIFVIWAVAFCSAGPIFVLVGVEHENGTDPWDTNECRPTEFAVRSGLLTVMVWVSSIFFFLPVFCLTVLYSLIGRKLWRRRRGDAVVGASLRDQNHKQTVKMLGGSQRALRLSLAGPILSLCLLPSL*MWNATPSEEPGFNLTLADLDWDASPGNDSLGDELLQLFPAPLLAGVTATCVALFVVGIAGNLLTMLVVSRFRELRTTTNLYLSSMAFSDLLIFLCMPLDLVRLWQYRPWNFGDLLCKLFQFVSESCTYATVLTITALSVERYFAICFPLRAKVVVTKGRVKLVIFVIWAVAFCSAGPIFVLVGVEHENGTDPWDTNECRPTEFAVRSGLLTVMVWVSSIFFFLPVFCLTVLYSLIGRKLWRRRRGDAVVGASLRDQNHKQTVKMLAVVVFAFILCWLPFHVGRYLFSKSFEPGSLEIAQISQYCNLVSFVLFYLSAAINPILYNIMSKKYRVAVFRLLGFEPFSQRKLSTLKDESSRAWTESSINT*MWNATPSEEPGFNLTLADLDWDASPGNDSLGDELLQLFPAPLLAGVTATCVALFVVGIAGNLLTMLVVSRFRELRTTTNLYLSSMAFSDLLIFLCMPLDLVRLWQYRPWNFGDLLCKLFQFVSESCTYATVLTITALSVERYFAICFPLRAKVVVTKGRVKLVIFVIWAVAFCSAGPIFVLVGVEHENGTDPWDTNECRPTEFAVRSGLLTVMVWVSSIFFFLPVFCLTVLYSLIGRKLWRRRRGDAVVGASLRDQNHKQTVKMLAVVVFAFILCWLPFHVGRYLFSKSFEPGSLEIAQISQYCNLVSFVLFYLSAAINPILYNIMSKKYRVAVFRLLGFEPFSQRKLSTLKDESSRAWTESSINT*"
     ]
    }
   ],
   "source": [
    "### ANSWER ### \n",
    "\n",
    "for i in GHSR1b:\n",
    "    if  i=='A':\n",
    "        complementarysequence=complementarysequence+'T'\n",
    "    if i=='T':\n",
    "        complementarysequence=complementarysequence+'A'\n",
    "    if i=='G':\n",
    "        complementarysequence=complementarysequence+'C'\n",
    "    if i=='C':\n",
    "        complementarysequence=complementarysequence+'G'\n",
    "\n",
    "GHSR1b_reversecomplement=complementarysequence[::-1]\n",
    "\n",
    "GHSR1b_rna=write_RNA_from_DNA(GHSR1b_reversecomplement)\n",
    "GHSR1b_aa=write_protein_1_letter_aa_from_RNA(GHSR1b_rna)\n",
    "print(GHSR1b_aa)\n",
    "outf=open(\"/home/jovyan/humbio51_instructor/Weekly Assignments/Week_3/data/NM_004122.txt\",'w')\n",
    "outf.write(GHSR1b_aa)\n",
    "outf.close() \n",
    "!cat \"/home/jovyan/humbio51_instructor/Weekly Assignments/Week_3/data/NM_004122.txt\"\n",
    "### ANSWER ### "
   ]
  },
  {
   "cell_type": "markdown",
   "metadata": {},
   "source": [
    "### QUESTION 2g \n",
    "\n",
    "We have followed the same steps that you did in QUESTION 3C - 3F to generate an amino acid sequence for the truncating splice variant (NM_004122). This sequence is stored in the file Week_3/data/NM_004122.txt. Perform a pairwise alignment of the two amino acid sequences using the Biopython function **pairwise2.align.globalxx**. Store the alignment in the variable **GHSR_1a_1b_align**"
   ]
  },
  {
   "cell_type": "code",
   "execution_count": 43,
   "metadata": {},
   "outputs": [
    {
     "name": "stdout",
     "output_type": "stream",
     "text": [
      "MWNATPSEEPGFNLTLADLDWDASPGNDSLGDELLQLFPAPLLAGVTATCVALFVVGIAGNLLTMLVVSRFRELRTTTNLYLSSMAFSDLLIFLCMPLDLVRLWQYRPWNFGDLLCKLFQFVSESCTYATVLTITALSVERYFAICFPLRAKVVVTKGRVKLVIFVIWAVAFCSAGPIFVLVGVEHENGTDPWDTNECRPTEFAVRSGLLTVMVWVSSIFFFLPVFCLTVLYSLIGRKLWRRRRGDAVVGASLRDQNHKQTVKMLGGSQRALRLSLAGPILSLCLLPSL*MWNATPSEEPGFNLTLADLDWDASPGNDSLGDELLQLFPAPLLAGVTATCVALFVVGIAGNLLTMLVVSRFRELRTTTNLYLSSMAFSDLLIFLCMPLDLVRLWQYRPWNFGDLLCKLFQFVSESCTYATVLTITALSVERYFAICFPLRAKVVVTKGRVKLVIFVIWAVAFCSAGPIFVLVGVEHENGTDPWDTNECRPTEFAVRSGLLTVMVWVSSIFFFLPVFCLTVLYSLIGRKLWRRRRGDAVVGASLRDQNHKQTVKMLAVVVFAFILCWLPFHVGRYLFSKSFEPGSLEIAQISQYCNLVSFVLFYLSAAINPILYNIMSKKYRVAVFRLLGFEPFSQRKLSTLKDESSRAWTESSINT*MWNATPSEEPGFNLTLADLDWDASPGNDSLGDELLQLFPAPLLAGVTATCVALFVVGIAGNLLTMLVVSRFRELRTTTNLYLSSMAFSDLLIFLCMPLDLVRLWQYRPWNFGDLLCKLFQFVSESCTYATVLTITALSVERYFAICFPLRAKVVVTKGRVKLVIFVIWAVAFCSAGPIFVLVGVEHENGTDPWDTNECRPTEFAVRSGLLTVMVWVSSIFFFLPVFCLTVLYSLIGRKLWRRRRGDAVVGASLRDQNHKQTVKMLAVVVFAFILCWLPFHVGRYLFSKSFEPGSLEIAQISQYCNLVSFVLFYLSAAINPILYNIMSKKYRVAVFRLLGFEPFSQRKLSTLKDESSRAWTESSINT*"
     ]
    }
   ],
   "source": [
    "!cat data/NM_004122.txt"
   ]
  },
  {
   "cell_type": "code",
   "execution_count": 44,
   "metadata": {},
   "outputs": [],
   "source": [
    "### ANSWER ### \n",
    "from Bio import pairwise2\n",
    "GHSR1b_aa=open(\"data/NM_004122.txt\",'r').read()\n",
    "GHSR_1a_1b_align=pairwise2.align.globalxx(GHSR1a_aa,GHSR1b_aa)\n",
    "\n",
    "### ANSWER ### "
   ]
  },
  {
   "cell_type": "markdown",
   "metadata": {},
   "source": [
    "### QUESTION 2h\n",
    "Run the code below to format and print the highest scoring alignment between GHSR1a_aa and GHSR1b_aa. \n",
    "Hint: If you followed the above steps correctly, your alignment should have the following properties: \n",
    "\n",
    "  Score=  367\n",
    "  \n",
    "  Begin=  0\n",
    "  \n",
    "  End  =  1024\n",
    "  \n",
    "  Length= 1024"
   ]
  },
  {
   "cell_type": "code",
   "execution_count": 45,
   "metadata": {},
   "outputs": [
    {
     "name": "stdout",
     "output_type": "stream",
     "text": [
      "NM_198407: MWNATPSEEPGFNLTLADLDWDASPGNDSLGDELLQLFPAPLLAGVTATC\n",
      "           ||||||||||||||||||||||||||||||||||||||||||||||||||\n",
      "NM_004122: MWNATPSEEPGFNLTLADLDWDASPGNDSLGDELLQLFPAPLLAGVTATC\n",
      "\n",
      "NM_198407: VALFVVGIAGNLLTMLVVSRFRELRTTTNLYLSSMAFSDLLIFLCMPLDL\n",
      "           ||||||||||||||||||||||||||||||||||||||||||||||||||\n",
      "NM_004122: VALFVVGIAGNLLTMLVVSRFRELRTTTNLYLSSMAFSDLLIFLCMPLDL\n",
      "\n",
      "NM_198407: VRLWQYRPWNFGDLLCKLFQFVSESCTYATVLTITALSVERYFAICFPLR\n",
      "           ||||||||||||||||||||||||||||||||||||||||||||||||||\n",
      "NM_004122: VRLWQYRPWNFGDLLCKLFQFVSESCTYATVLTITALSVERYFAICFPLR\n",
      "\n",
      "NM_198407: AKVVVTKGRVKLVIFVIWAVAFCSAGPIFVLVGVEHENGTDPWDTNECRP\n",
      "           ||||||||||||||||||||||||||||||||||||||||||||||||||\n",
      "NM_004122: AKVVVTKGRVKLVIFVIWAVAFCSAGPIFVLVGVEHENGTDPWDTNECRP\n",
      "\n",
      "NM_198407: TEFAVRSGLLTVMVWVSSIFFFLPVFCLTVLYSLIGRKLWRRRRGDAVVG\n",
      "           ||||||||||||||||||||||||||||||||||||||||||||||||||\n",
      "NM_004122: TEFAVRSGLLTVMVWVSSIFFFLPVFCLTVLYSLIGRKLWRRRRGDAVVG\n",
      "\n",
      "NM_198407: ASLRDQNHKQTVKML-----A-----------------------------\n",
      "           ||||||||||||||||||||||||||||||||||||||||||||||||||\n",
      "NM_004122: ASLRDQNHKQTVKMLGGSQRALRLSLAGPILSLCLLPSL*MWNATPSEEP\n",
      "\n",
      "NM_198407: -----------------------------------V----V---V-----\n",
      "           ||||||||||||||||||||||||||||||||||||||||||||||||||\n",
      "NM_004122: GFNLTLADLDWDASPGNDSLGDELLQLFPAPLLAGVTATCVALFVVGIAG\n",
      "\n",
      "NM_198407: ----------F--------------AF----I-LC--------W------\n",
      "           ||||||||||||||||||||||||||||||||||||||||||||||||||\n",
      "NM_004122: NLLTMLVVSRFRELRTTTNLYLSSMAFSDLLIFLCMPLDLVRLWQYRPWN\n",
      "\n",
      "NM_198407: ---L---------------------------------P------------\n",
      "           ||||||||||||||||||||||||||||||||||||||||||||||||||\n",
      "NM_004122: FGDLLCKLFQFVSESCTYATVLTITALSVERYFAICFPLRAKVVVTKGRV\n",
      "\n",
      "NM_198407: ----F--------------------H------------------V--G--\n",
      "           ||||||||||||||||||||||||||||||||||||||||||||||||||\n",
      "NM_004122: KLVIFVIWAVAFCSAGPIFVLVGVEHENGTDPWDTNECRPTEFAVRSGLL\n",
      "\n",
      "NM_198407: --------------------------R-----------------------\n",
      "           ||||||||||||||||||||||||||||||||||||||||||||||||||\n",
      "NM_004122: TVMVWVSSIFFFLPVFCLTVLYSLIGRKLWRRRRGDAVVGASLRDQNHKQ\n",
      "\n",
      "NM_198407: -----------------------YLFSKSFEPGSLEIAQISQYCNLVSFV\n",
      "           ||||||||||||||||||||||||||||||||||||||||||||||||||\n",
      "NM_004122: TVKMLAVVVFAFILCWLPFHVGRYLFSKSFEPGSLEIAQISQYCNLVSFV\n",
      "\n",
      "NM_198407: LFYLSAAINPILYNIMSKKYRVAVFRLLGFEPFSQRKLSTLKDESSRAWT\n",
      "           ||||||||||||||||||||||||||||||||||||||||||||||||||\n",
      "NM_004122: LFYLSAAINPILYNIMSKKYRVAVFRLLGFEPFSQRKLSTLKDESSRAWT\n",
      "\n",
      "NM_198407: ESSINT*-------------------------------------------\n",
      "           ||||||||||||||||||||||||||||||||||||||||||||||||||\n",
      "NM_004122: ESSINT*MWNATPSEEPGFNLTLADLDWDASPGNDSLGDELLQLFPAPLL\n",
      "\n",
      "NM_198407: --------------------------------------------------\n",
      "           ||||||||||||||||||||||||||||||||||||||||||||||||||\n",
      "NM_004122: AGVTATCVALFVVGIAGNLLTMLVVSRFRELRTTTNLYLSSMAFSDLLIF\n",
      "\n",
      "NM_198407: --------------------------------------------------\n",
      "           ||||||||||||||||||||||||||||||||||||||||||||||||||\n",
      "NM_004122: LCMPLDLVRLWQYRPWNFGDLLCKLFQFVSESCTYATVLTITALSVERYF\n",
      "\n",
      "NM_198407: --------------------------------------------------\n",
      "           ||||||||||||||||||||||||||||||||||||||||||||||||||\n",
      "NM_004122: AICFPLRAKVVVTKGRVKLVIFVIWAVAFCSAGPIFVLVGVEHENGTDPW\n",
      "\n",
      "NM_198407: --------------------------------------------------\n",
      "           ||||||||||||||||||||||||||||||||||||||||||||||||||\n",
      "NM_004122: DTNECRPTEFAVRSGLLTVMVWVSSIFFFLPVFCLTVLYSLIGRKLWRRR\n",
      "\n",
      "NM_198407: --------------------------------------------------\n",
      "           ||||||||||||||||||||||||||||||||||||||||||||||||||\n",
      "NM_004122: RGDAVVGASLRDQNHKQTVKMLAVVVFAFILCWLPFHVGRYLFSKSFEPG\n",
      "\n",
      "NM_198407: --------------------------------------------------\n",
      "           ||||||||||||||||||||||||||||||||||||||||||||||||||\n",
      "NM_004122: SLEIAQISQYCNLVSFVLFYLSAAINPILYNIMSKKYRVAVFRLLGFEPF\n",
      "\n",
      "NM_198407: ------------------------\n",
      "           ||||||||||||||||||||||||\n",
      "NM_004122: SQRKLSTLKDESSRAWTESSINT*\n",
      "\n",
      "  Score=  367\n",
      "  Begin=  0\n",
      "  End  =  1024\n",
      "  Length= 1024\n",
      "\n"
     ]
    }
   ],
   "source": [
    "from sequence_alignment_helpers import *\n",
    "\n",
    "print(format_alignment_linebreak(insert_newlines(GHSR_1a_1b_align[0][0]),\n",
    "                                 insert_newlines(GHSR_1a_1b_align[0][1]),\n",
    "                                 GHSR_1a_1b_align[0][2],\n",
    "                                 GHSR_1a_1b_align[0][3],\n",
    "                                 GHSR_1a_1b_align[0][4],\n",
    "                                 \"NM_198407\",\n",
    "                                 \"NM_004122\"))"
   ]
  },
  {
   "cell_type": "markdown",
   "metadata": {},
   "source": [
    "### QUESTION 2i\n",
    "\n",
    "How many amino acids are missing from NM_004122 that are present in NM_198407? \n",
    "\n",
    "#### BEGIN ANSWER ####\n",
    "#### END ANSWER ####"
   ]
  },
  {
   "cell_type": "code",
   "execution_count": null,
   "metadata": {},
   "outputs": [],
   "source": [
    "### ANSWER ### \n",
    "GHSR1a_aa.index(\"QHFHGLLVVLVPERGTHDSIAAPPPPQLPADETVEDRET\") #gives 102, means alignment starts at position 102 (1-indexed) and there are 101 amino acids preceding alignment \n",
    "101 \n",
    "### ANSWER ###"
   ]
  }
 ],
 "metadata": {
  "anaconda-cloud": {},
  "kernelspec": {
   "display_name": "Python 3",
   "language": "python",
   "name": "python3"
  },
  "language_info": {
   "codemirror_mode": {
    "name": "ipython",
    "version": 3
   },
   "file_extension": ".py",
   "mimetype": "text/x-python",
   "name": "python",
   "nbconvert_exporter": "python",
   "pygments_lexer": "ipython3",
   "version": "3.7.3"
  }
 },
 "nbformat": 4,
 "nbformat_minor": 4
}
