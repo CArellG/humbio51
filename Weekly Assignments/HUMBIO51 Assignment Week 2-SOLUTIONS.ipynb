{
 "cells": [
  {
   "cell_type": "markdown",
   "metadata": {},
   "source": [
    "## HUMBIO51 Weekly Assignment 2\n",
    " \n",
    " ***Students should be able to***\n",
    "<ol>\n",
    " <li><a href=#Aminoacidsequence>Use the genetic code to determine the amino acid sequence of the protein product of an mRNA sequence </a></li>\n",
    " <li><a href=#PythonDictionary>Make a Python dictionary for the genetic code (also called a look up table)</a> </li>\n",
    " <li><a href=#DefineFunction>Define and call a function in a Python script </a></li>\n",
    " <li><a href=#PredictProteinSequence>Predict a protein sequence from a processed mRNA sequence using a Python dictionary</a></li>\n",
    " <li><a href=#SaveFunction>Save functions to a .py file so they can be used in other programs </a></li> \n",
    "  <li><a href=#ReferenceGenome>Explain what a reference genome is </a></li>\n",
    " <li><a href=#GenomicCoordinates>Explain how genomic coordinates are used to designate the position of a gene or feature in the human reference genome </a></li>\n",
    " <li><a href=#BEDformat>Use genomic coordinates to make a file in BED format </a></li>\n",
    " <li><a href=#makeFASTAfromBED>Use the genomic analysis package Bedtools to make an mRNA sequence with exons from a gene sequence</a></li>\n",
    " <li><a href=#SeqAlignIntro>Identify ways that DNA sequence alignments can provide insights into human biology</a></li>\n",
    " <li><a href=#Import>Import a module into a Python script</a></li>\n",
    " <li><a href=#Package>Explain what a Python package is and how to import modules from a package </a></li>\n",
    "<li><a href=#Align2>Align two sequences using modules from the BioPython package </a></li>\n",
    "</ol>"
   ]
  },
  {
   "cell_type": "markdown",
   "metadata": {},
   "source": [
    "## QUESTION 1 "
   ]
  },
  {
   "cell_type": "markdown",
   "metadata": {},
   "source": [
    "For the first question in this assignment, you will investigate the conservation of the p53 protein (produced from the <i>TP53</i> gene), one of the most frequently mutated proteins in human cancers. \n",
    "\n",
    "Below are links to processed mRNA sequences (transcripts) from the <i>TP53</i> gene from humans, chimpanzees and mice. \n",
    "\n",
    "The three files that you will need as a starting point (after you change your working directory to /home/jovyan/Weekly Assignments/Week_2) are: \n",
    "\n",
    "- 'data/NM_000546.5_Human_p53.txt' coding sequence: 203-1384\n",
    "- 'data/NM_001127233.1_Mouse_p53.txt' coding sequence: 158-1303\n",
    "- 'data/XM_001172077.5_Chimp_p53.txt' coding sequence: 203-1384\n",
    "\n",
    "Note: the positions of the coding sequences are given in 1-based numbering like you would typically see in genome databases.  "
   ]
  },
  {
   "cell_type": "markdown",
   "metadata": {},
   "source": [
    "### QUESTION 1a"
   ]
  },
  {
   "cell_type": "code",
   "execution_count": 1,
   "metadata": {
    "collapsed": false,
    "jupyter": {
     "outputs_hidden": false
    }
   },
   "outputs": [],
   "source": [
    "#Change your working directory to /home/jovyan/humbio51/Weekly Assignments/Week_2\n"
   ]
  },
  {
   "cell_type": "code",
   "execution_count": 1,
   "metadata": {},
   "outputs": [],
   "source": [
    "## ANSWER ## \n",
    "import os \n",
    "os.chdir(\"/home/jovyan/humbio51/Weekly Assignments/Week_2/\")"
   ]
  },
  {
   "cell_type": "markdown",
   "metadata": {},
   "source": [
    "### QUESTION 1b"
   ]
  },
  {
   "cell_type": "code",
   "execution_count": 8,
   "metadata": {
    "collapsed": false,
    "jupyter": {
     "outputs_hidden": false
    }
   },
   "outputs": [],
   "source": [
    "# 1) Use the helper functions that we defined in class (or your own version) to find the protein sequence produced \n",
    "# from the TP53 human transcript. Store this protein sequence in a variable called \"tp53_protein_human\"\n",
    "\n",
    "# 2) Print the protein sequence \n"
   ]
  },
  {
   "cell_type": "code",
   "execution_count": 2,
   "metadata": {},
   "outputs": [
    {
     "name": "stdout",
     "output_type": "stream",
     "text": [
      "MEEPQSDPSVEPPLSQETFSDLWKLLPENNVLSPLPSQAMDDLMLSPDDIEQWFTEDPGPDEAPRMPEAAPPVAPAPAAPTPAAPAPAPSWPLSSSVPSQKTYQGSYGFRLGFLHSGTAKSVTCTYSPALNKMFCQLAKTCPVQLWVDSTPPPGTRVRAMAIYKQSQHMTEVVRRCPHHERCSDSDGLAPPQHLIRVEGNLRVEYLDDRNTFRHSVVVPYEPPEVGSDCTTIHYNYMCNSSCMGGMNRRPILTIITLEDSSGNLLGRNSFEVRVCACPGRDRRTEEENLRKKGEPHHELPPGSTKRALPNNTSSSPQPKKKPLDGEYFTLQIRGRERFEMFRELNEALELKDAQAGKEPGGSRAHSSHLKSKKGQSTSRHKKLMFKTEGPDSD*\n"
     ]
    }
   ],
   "source": [
    "## ANSWER ## \n",
    "import sys\n",
    "sys.path.append('../../helpers')\n",
    "from central_dogma_helpers import *\n",
    "\n",
    "tp53_dna_human=read_nt_from_fastasequence('data/NM_000546.5_Human_p53.txt')\n",
    "tp53_rna_human=write_RNA_from_DNA(tp53_dna_human)\n",
    "tp53_protein_human=write_protein_1_letter_aa_from_RNA(tp53_rna_human[202:1384])\n",
    "print(tp53_protein_human)\n",
    "\n"
   ]
  },
  {
   "cell_type": "markdown",
   "metadata": {},
   "source": [
    "### QUESTION 1c"
   ]
  },
  {
   "cell_type": "code",
   "execution_count": null,
   "metadata": {
    "collapsed": true,
    "jupyter": {
     "outputs_hidden": true
    }
   },
   "outputs": [],
   "source": [
    "# 1) Use the helper functions that we defined in class (or your own version) to find the protein sequence produced \n",
    "# from the TP53 mouse transcript. Store this protein sequence in a variable called \"tp53_protein_mouse\"\n",
    "\n",
    "# 2) Print the protein sequence "
   ]
  },
  {
   "cell_type": "code",
   "execution_count": 6,
   "metadata": {},
   "outputs": [
    {
     "name": "stdout",
     "output_type": "stream",
     "text": [
      "MTAMEESQSDISLELPLSQETFSGLWKLLPPEDILPSPHCMDDLLLPQDVEEFFEGPSEALRVSGAPAAQDPVTETPGPVAPAPATPWPLSSFVPSQKTYQGNYGFHLGFLQSGTAKSVMCTYSPPLNKLFCQLAKTCPVQLWVSATPPAGSRVRAMAIYKKSQHMTEVVRRCPHHERCSDGDGLAPPQHLIRVEGNLYPEYLEDRQTFRHSVVVPYEPPEAGSEYTTIHYKYMCNSSCMGGMNRRPILTIITLEDSSGNLLGRDSFEVRVCACPGRDRRTEEENFRKKEVLCPELPPGSAKRALPTCTSASPPQKKKPLDGEYFTLKIRGRKRFEMFRELNEALELKDAHATEESGDSRAHSSLQPRAFQALIKEESPNC*\n"
     ]
    }
   ],
   "source": [
    "## ANSWER ## \n",
    "tp53_dna_mouse=read_nt_from_fastasequence('data/NM_001127233.1_Mouse_p53.txt')\n",
    "tp53_rna_mouse=write_RNA_from_DNA(tp53_dna_mouse)\n",
    "tp53_protein_mouse=write_protein_1_letter_aa_from_RNA(tp53_rna_mouse[157:1303])\n",
    "print(tp53_protein_mouse)\n"
   ]
  },
  {
   "cell_type": "markdown",
   "metadata": {},
   "source": [
    "### QUESTION 1d"
   ]
  },
  {
   "cell_type": "code",
   "execution_count": 4,
   "metadata": {
    "collapsed": true,
    "jupyter": {
     "outputs_hidden": true
    }
   },
   "outputs": [],
   "source": [
    "# 1) Use the helper functions that we defined in class (or your own version) to find the protein sequence produced \n",
    "# from the TP53 chimp transcript. Store this protein sequence in a variable called \"tp53_protein_chimp\"\n",
    "\n",
    "# 2) Print the protein sequence "
   ]
  },
  {
   "cell_type": "code",
   "execution_count": 7,
   "metadata": {},
   "outputs": [
    {
     "name": "stdout",
     "output_type": "stream",
     "text": [
      "MEEPQSDPSVEPPLSQETFSDLWKLLPENNVLSPLPSQAMDDLMLSPDDIEQWFTEDPGPDEAPRMPEAAPPVAPAPAAPTPAAPAPAPSWPLSSSVPSQKTYQGSYGFRLGFLHSGTAKSVTCTYSPALNKMFCQLAKTCPVQLWVDSTPPPGTRVRAMAIYKQSQHMTEVVRRCPHHERCSDSDGLAPPQHLIRVEGNLRVEYLDDRNTFRHSVVVPYEPPEVGSDCTTIHYNYMCNSSCMGGMNRRPILTIITLEDSSGNLLGRNSFEVRVCACPGRDRRTEEENLRKKGEPHHELPPGSTKRALPNNTSSSPQPKKKPLDGEYFTLQIRGRERFEMFRELNEALELKDAQAGKEPGGSRAHSSHLKSKKGQSTSRHKKLMFKTEGPDSD*\n"
     ]
    }
   ],
   "source": [
    "## ANSWER ## \n",
    "tp53_dna_chimp=read_nt_from_fastasequence('data/XM_001172077.5_Chimp_p53.txt')\n",
    "tp53_rna_chimp=write_RNA_from_DNA(tp53_dna_chimp)\n",
    "tp53_protein_chimp=write_protein_1_letter_aa_from_RNA(tp53_rna_chimp[202:1384])\n",
    "print(tp53_protein_chimp)\n"
   ]
  },
  {
   "cell_type": "markdown",
   "metadata": {},
   "source": [
    "### QUESTION 1e"
   ]
  },
  {
   "cell_type": "code",
   "execution_count": 14,
   "metadata": {
    "collapsed": true,
    "jupyter": {
     "outputs_hidden": true
    }
   },
   "outputs": [],
   "source": [
    "#Write the code to run a pairwise sequence alignment between the protein sequence that is produced from\n",
    "#the human p53 protein and the mouse p53 protein \n",
    "#Print out the alignment and score using the sequence alignment helper functions."
   ]
  },
  {
   "cell_type": "code",
   "execution_count": 8,
   "metadata": {},
   "outputs": [
    {
     "name": "stdout",
     "output_type": "stream",
     "text": [
      "Score for first alignment:303.0\n",
      "human: M---EEP-QSDP-SV-EP-PLSQETFSD-LWKLLPENNVLSP---LPSQA\n",
      "       ||||||||||||||||||||||||||||||||||||||||||||||||||\n",
      "mouse: MTAMEE-SQSD-IS-LE-LPLSQETFS-GLWKLLP------PEDILPS--\n",
      "\n",
      "human: ---MDDLMLS-PD-DI-EQW-FT-EDPGPD-EAP-RMPEAAPPVAP--AP\n",
      "       ||||||||||||||||||||||||||||||||||||||||||||||||||\n",
      "mouse: PHCMDDL-L-LP-QD-VE--EF-FE--GP-SEA-LR-------V--SGAP\n",
      "\n",
      "human: AA--P-T--PA---APAPA-PSWPLSSS-VPSQKTYQGS-YGFR-LGFLH\n",
      "       ||||||||||||||||||||||||||||||||||||||||||||||||||\n",
      "mouse: AAQDPVTETP-GPVAPAPATP-WPL-SSFVPSQKTYQG-NYGF-HLGFL-\n",
      "\n",
      "human: -SGTAKSVT-CTYSPA-LNKM-FCQLAKTCPVQLWVDS-TPPP-GT-RVR\n",
      "       ||||||||||||||||||||||||||||||||||||||||||||||||||\n",
      "mouse: QSGTAKSV-MCTYSP-PLNK-LFCQLAKTCPVQLWV-SAT-PPAG-SRVR\n",
      "\n",
      "human: AMAIYKQ-SQHMTEVVRRCPHHERCSDS-DGLAPPQHLIRVEGNLRV--E\n",
      "       ||||||||||||||||||||||||||||||||||||||||||||||||||\n",
      "mouse: AMAIYK-KSQHMTEVVRRCPHHERCSD-GDGLAPPQHLIRVEGNL--YPE\n",
      "\n",
      "human: YLD-DRN-TFRHSVVVPYEPPEV-GSDC--TTIHYN-YMCNSSCMGGMNR\n",
      "       ||||||||||||||||||||||||||||||||||||||||||||||||||\n",
      "mouse: YL-EDR-QTFRHSVVVPYEPPE-AGS--EYTTIHY-KYMCNSSCMGGMNR\n",
      "\n",
      "human: RPILTIITLEDSSGNLLGRN-SFEVRVCACPGRDRRTEEENL-RKKGE--\n",
      "       ||||||||||||||||||||||||||||||||||||||||||||||||||\n",
      "mouse: RPILTIITLEDSSGNLLGR-DSFEVRVCACPGRDRRTEEEN-FRKK-EVL\n",
      "\n",
      "human: -PHHELPPGST-KRALPNNTS--S-SPQP-KKKPLDGEYFTLQ-IRGRE-\n",
      "       ||||||||||||||||||||||||||||||||||||||||||||||||||\n",
      "mouse: CP--ELPPGS-AKRALP--T-CTSASP-PQKKKPLDGEYFTL-KIRGR-K\n",
      "\n",
      "human: RFEMFRELNEALELKDAQ-AGK-EPG--G-SRAHSSHLKSKKGQSTS-RH\n",
      "       ||||||||||||||||||||||||||||||||||||||||||||||||||\n",
      "mouse: RFEMFRELNEALELKDA-HA--TE--ESGDSRAHSS-L-----Q---PR-\n",
      "\n",
      "human: KKLM-F----KTEGPD-SD---*\n",
      "       |||||||||||||||||||||||\n",
      "mouse: ----AFQALIK-E---ES-PNC*\n",
      "\n",
      "  Score=  303\n",
      "  Begin=  0\n",
      "  End  =  473\n",
      "  Length= 473\n",
      "\n"
     ]
    }
   ],
   "source": [
    "## ANSWER ## \n",
    "from Bio import pairwise2 \n",
    "from sequence_alignment_helpers import * \n",
    "alignments = pairwise2.align.globalxx(tp53_protein_human, tp53_protein_mouse)\n",
    "\n",
    "#We use the first alignment \n",
    "first_alignment=alignments[0]\n",
    "alignment_score=first_alignment[2]\n",
    "print(\"Score for first alignment:\"+str(alignment_score))\n",
    "\n",
    "\n",
    "align1_linebreaks=insert_newlines(first_alignment[0])\n",
    "align2_linebreaks=insert_newlines(first_alignment[1])\n",
    " \n",
    "\n",
    "#format_alignment_linebreak inputs are: align1_linebreaks,align2_linebreaks,score,begin,end,seq1,seq2\n",
    "print(format_alignment_linebreak(align1_linebreaks,align2_linebreaks,alignments[0][2],alignments[0][3],\n",
    "                                 alignments[0][4],\"human\",\"mouse\"))\n"
   ]
  },
  {
   "cell_type": "markdown",
   "metadata": {},
   "source": [
    "### QUESTION 1f"
   ]
  },
  {
   "cell_type": "code",
   "execution_count": null,
   "metadata": {
    "collapsed": true,
    "jupyter": {
     "outputs_hidden": true
    }
   },
   "outputs": [],
   "source": [
    "#Write the code to run a pairwise sequence alignment between the protein sequence that is produced from\n",
    "#the human p53 protein and the chimpanzee p53 protein \n",
    "#Print out the alignment and score using the sequence alignment helper functions."
   ]
  },
  {
   "cell_type": "code",
   "execution_count": 9,
   "metadata": {},
   "outputs": [
    {
     "name": "stdout",
     "output_type": "stream",
     "text": [
      "Score for first alignment:394.0\n",
      "human: MEEPQSDPSVEPPLSQETFSDLWKLLPENNVLSPLPSQAMDDLMLSPDDI\n",
      "       ||||||||||||||||||||||||||||||||||||||||||||||||||\n",
      "chimp: MEEPQSDPSVEPPLSQETFSDLWKLLPENNVLSPLPSQAMDDLMLSPDDI\n",
      "\n",
      "human: EQWFTEDPGPDEAPRMPEAAPPVAPAPAAPTPAAPAPAPSWPLSSSVPSQ\n",
      "       ||||||||||||||||||||||||||||||||||||||||||||||||||\n",
      "chimp: EQWFTEDPGPDEAPRMPEAAPPVAPAPAAPTPAAPAPAPSWPLSSSVPSQ\n",
      "\n",
      "human: KTYQGSYGFRLGFLHSGTAKSVTCTYSPALNKMFCQLAKTCPVQLWVDST\n",
      "       ||||||||||||||||||||||||||||||||||||||||||||||||||\n",
      "chimp: KTYQGSYGFRLGFLHSGTAKSVTCTYSPALNKMFCQLAKTCPVQLWVDST\n",
      "\n",
      "human: PPPGTRVRAMAIYKQSQHMTEVVRRCPHHERCSDSDGLAPPQHLIRVEGN\n",
      "       ||||||||||||||||||||||||||||||||||||||||||||||||||\n",
      "chimp: PPPGTRVRAMAIYKQSQHMTEVVRRCPHHERCSDSDGLAPPQHLIRVEGN\n",
      "\n",
      "human: LRVEYLDDRNTFRHSVVVPYEPPEVGSDCTTIHYNYMCNSSCMGGMNRRP\n",
      "       ||||||||||||||||||||||||||||||||||||||||||||||||||\n",
      "chimp: LRVEYLDDRNTFRHSVVVPYEPPEVGSDCTTIHYNYMCNSSCMGGMNRRP\n",
      "\n",
      "human: ILTIITLEDSSGNLLGRNSFEVRVCACPGRDRRTEEENLRKKGEPHHELP\n",
      "       ||||||||||||||||||||||||||||||||||||||||||||||||||\n",
      "chimp: ILTIITLEDSSGNLLGRNSFEVRVCACPGRDRRTEEENLRKKGEPHHELP\n",
      "\n",
      "human: PGSTKRALPNNTSSSPQPKKKPLDGEYFTLQIRGRERFEMFRELNEALEL\n",
      "       ||||||||||||||||||||||||||||||||||||||||||||||||||\n",
      "chimp: PGSTKRALPNNTSSSPQPKKKPLDGEYFTLQIRGRERFEMFRELNEALEL\n",
      "\n",
      "human: KDAQAGKEPGGSRAHSSHLKSKKGQSTSRHKKLMFKTEGPDSD*\n",
      "       ||||||||||||||||||||||||||||||||||||||||||||\n",
      "chimp: KDAQAGKEPGGSRAHSSHLKSKKGQSTSRHKKLMFKTEGPDSD*\n",
      "\n",
      "  Score=  394\n",
      "  Begin=  0\n",
      "  End  =  394\n",
      "  Length= 394\n",
      "\n"
     ]
    }
   ],
   "source": [
    "## ANSWER ## \n",
    "alignments = pairwise2.align.globalxx(tp53_protein_human, tp53_protein_chimp)\n",
    "\n",
    "#uses the sequence_alignment_helper functions to print the alignments with a nice format\n",
    "first_alignment=alignments[0]\n",
    "alignment_score=first_alignment[2] \n",
    "print(\"Score for first alignment:\"+str(alignment_score))\n",
    "\n",
    "##OPTIONAL-- \n",
    "align1_linebreaks=insert_newlines(first_alignment[0])\n",
    "align2_linebreaks=insert_newlines(first_alignment[1])\n",
    " \n",
    "\n",
    "#format_alignment_linebreak inputs are: align1_linebreaks,align2_linebreaks,score,begin,end,seq1,seq2\n",
    "print(format_alignment_linebreak(align1_linebreaks,align2_linebreaks,alignments[0][2],alignments[0][3],\n",
    "                                 alignments[0][4],\"human\",\"chimp\"))\n"
   ]
  },
  {
   "cell_type": "markdown",
   "metadata": {},
   "source": [
    "## QUESTION 2\n",
    "\n",
    "The p63 and p73 genes in humans are closely releated to the p53 gene -- all three genes have a common ancestor. We have downloaded the p63 and p73 gene sequences from NCBI to these files: \n",
    "\n",
    "* data/NG_007550.3_p63_human.txt \n",
    "* data/NG_017035.2_p73_human.txt \n",
    "\n"
   ]
  },
  {
   "cell_type": "code",
   "execution_count": 38,
   "metadata": {
    "collapsed": true,
    "jupyter": {
     "outputs_hidden": true
    }
   },
   "outputs": [],
   "source": [
    "#1)Write the code to read the data/NG_007550.3_p63_human.txt and data/NG_017035.2_p73_human.txt FASTA sequences \n",
    "# into Python using the BioPython SeqIO package\n",
    "#2)Have the script print out the identifier and the first 50 bases of the nucleotide sequence for each gene. \n",
    "#3)Which gene is longer, p73 or p63, and by how many bases? "
   ]
  },
  {
   "cell_type": "code",
   "execution_count": 10,
   "metadata": {},
   "outputs": [
    {
     "name": "stdout",
     "output_type": "stream",
     "text": [
      "NG_007550.3\n",
      "CTAGGAAAAGGAGAACAAAGAAAGCCCAAACATAGTAGAAGGAAAGAAAT\n",
      "NG_017035.2\n",
      "AAAATATGAGAAAGCAAGCACCTGACATTCTCCACTCCAAAAGAGGGGGG\n",
      "length of p63:307531\n",
      "length of p73:90637\n",
      "p63 is longer by:216894\n"
     ]
    }
   ],
   "source": [
    "## ANSWER ## \n",
    "from Bio import SeqIO\n",
    "p63=SeqIO.read('data/NG_007550.3_Human_p63.txt',\"fasta\") \n",
    "p73=SeqIO.read('data/NG_017035.2_Human_p73.txt',\"fasta\") \n",
    "\n",
    "print(p63.id)\n",
    "print(p63.seq[0:50])\n",
    "\n",
    "print(p73.id)\n",
    "print(p73.seq[0:50])\n",
    "\n",
    "len_p63=len(p63.seq)\n",
    "len_p73=len(p73.seq)\n",
    "print(\"length of p63:\"+str(len_p63))\n",
    "print(\"length of p73:\"+str(len_p73))\n",
    "diff_length=len_p63-len_p73\n",
    "print(\"p63 is longer by:\"+str(diff_length))\n"
   ]
  },
  {
   "cell_type": "markdown",
   "metadata": {},
   "source": [
    "## QUESTION 3"
   ]
  },
  {
   "cell_type": "markdown",
   "metadata": {},
   "source": [
    "In response to DNA damage, the p53 protein induces the expression of p21, a protein that can inhibit cell division. \n",
    "\n",
    "In the hg19/GRCh37 reference genome, the CDKN1A gene which codes for p21 has three exons with the following start and stop sites: \n",
    "\n",
    "- 36,646,491..36,646,575\n",
    "- 36,651,874..36,652,323\n",
    "- 36,653,528..36,655,109\n",
    "\n",
    "The coding sequence for p21 is on two exons from:\n",
    "- 36,651,879..36,652,323\n",
    "- 36,653,528..36,653,577\n",
    "\n",
    "Before beginning this question find the chromosome where CDKN1A is found in the \"Genomic context\" subsection of the NCBI entry for CDKN1A (https://www.ncbi.nlm.nih.gov/gene/1026). It is listed in the column \"Chr\". "
   ]
  },
  {
   "cell_type": "markdown",
   "metadata": {},
   "source": [
    "### QUESTION 3a"
   ]
  },
  {
   "cell_type": "code",
   "execution_count": null,
   "metadata": {
    "collapsed": true,
    "jupyter": {
     "outputs_hidden": true
    }
   },
   "outputs": [],
   "source": [
    "#Write a BED format file that can be used to obtain all of the p21 exons from the hg19/GRCh37 human reference genome. Make sure to include the strand. "
   ]
  },
  {
   "cell_type": "code",
   "execution_count": 11,
   "metadata": {},
   "outputs": [
    {
     "name": "stdout",
     "output_type": "stream",
     "text": [
      "chr6\t36646490\t36646575\texon1\t1\t+\n",
      "chr6\t36651873\t36652323\texon2\t1\t+\n",
      "chr6\t36653527\t36655109\texon3\t1\t+\n"
     ]
    }
   ],
   "source": [
    "## ANSWER ## \n",
    "outf=open(\"cdkn1a.exons.bed\",'w')\n",
    "outf.write(\"chr6\\t36646490\\t36646575\\texon1\\t1\\t+\\n\")\n",
    "outf.write(\"chr6\\t36651873\\t36652323\\texon2\\t1\\t+\\n\")\n",
    "outf.write(\"chr6\\t36653527\\t36655109\\texon3\\t1\\t+\\n\")\n",
    "outf.close() \n",
    "!cat cdkn1a.exons.bed"
   ]
  },
  {
   "cell_type": "markdown",
   "metadata": {},
   "source": [
    "### QUESTION 3b"
   ]
  },
  {
   "cell_type": "code",
   "execution_count": null,
   "metadata": {},
   "outputs": [],
   "source": [
    "#Write a BED format file that can be used to obtain the p21 coding sequence from the hg19/GRCh37 human reference genome. Make sure to include the strand. "
   ]
  },
  {
   "cell_type": "code",
   "execution_count": 12,
   "metadata": {},
   "outputs": [
    {
     "name": "stdout",
     "output_type": "stream",
     "text": [
      "chr6\t36651878\t36652323\tcds1\t1\t+\n",
      "chr6\t36653527\t36653577\tcds2\t1\t+\n"
     ]
    }
   ],
   "source": [
    "outf=open(\"cdkn1a.cds.bed\",'w')\n",
    "outf.write(\"chr6\\t36651878\\t36652323\\tcds1\\t1\\t+\\n\")\n",
    "outf.write(\"chr6\\t36653527\\t36653577\\tcds2\\t1\\t+\\n\") \n",
    "outf.close() \n",
    "!cat cdkn1a.cds.bed"
   ]
  },
  {
   "cell_type": "markdown",
   "metadata": {},
   "source": [
    "### QUESTION 3c"
   ]
  },
  {
   "cell_type": "code",
   "execution_count": null,
   "metadata": {},
   "outputs": [],
   "source": [
    "#Write the BEDtools commands to obtain the coding sequence for p21 from the hg19/GRCh37 human reference genome \n",
    "#(Note: As an optional step to check your work you can translate the sequence to a protein and make sure that it starts with ATG and ends at a stop codon) )"
   ]
  },
  {
   "cell_type": "code",
   "execution_count": 13,
   "metadata": {},
   "outputs": [
    {
     "name": "stdout",
     "output_type": "stream",
     "text": [
      "Warning: the index file is older than the FASTA file.\n",
      ">chr6:36651878-36652323\n",
      "ATGTCAGAACCGGCTGGGGATGTCCGTCAGAACCCATGCGGCAGCAAGGCCTGCCGCCGCCTCTTCGGCCCAGTGGACAGCGAGCAGCTGAGCCGCGACTGTGATGCGCTAATGGCGGGCTGCATCCAGGAGGCCCGTGAGCGATGGAACTTCGACTTTGTCACCGAGACACCACTGGAGGGTGACTTCGCCTGGGAGCGTGTGCGGGGCCTTGGCCTGCCCAAGCTCTACCTTCCCACGGGGCCCCGGCGAGGCCGGGATGAGTTGGGAGGAGGCAGGCGGCCTGGCACCTCACCTGCTCTGCTGCAGGGGACAGCAGAGGAAGACCATGTGGACCTGTCACTGTCTTGTACCCTTGTGCCTCGCTCAGGGGAGCAGGCTGAAGGGTCCCCAGGTGGACCTGGAGACTCTCAGGGTCGAAAACGGCGGCAGACCAGCATGACAG\n",
      ">chr6:36653527-36653577\n",
      "ATTTCTACCACTCCAAACGCCGGCTGATCTTCTCCAAGAGGAAGCCCTAA\n"
     ]
    }
   ],
   "source": [
    "!fastaFromBed -fi /data/hg19.genome.fa -bed cdkn1a.cds.bed"
   ]
  },
  {
   "cell_type": "markdown",
   "metadata": {},
   "source": [
    "## QUESTION 4"
   ]
  },
  {
   "cell_type": "markdown",
   "metadata": {},
   "source": [
    "Make a dictionary that will map the gene names below as keys to GENEIDs as values.\n",
    "\n",
    "| GENE  | GENEID |\n",
    "|-------|--------|\n",
    "| INS   | 3630   |\n",
    "| IGF1  | 3479   |\n",
    "| INSR  | 3643   |\n",
    "| IGF1R | 3480   |"
   ]
  },
  {
   "cell_type": "code",
   "execution_count": null,
   "metadata": {},
   "outputs": [],
   "source": [
    "#Make a dictionary mapping the gene names above to their corresponding gene ids.\n",
    "#Demonstrate that the dictionary works by using it to print out the gene id for IGF1R. "
   ]
  },
  {
   "cell_type": "code",
   "execution_count": 14,
   "metadata": {},
   "outputs": [
    {
     "name": "stdout",
     "output_type": "stream",
     "text": [
      "3480\n"
     ]
    }
   ],
   "source": [
    "## ANSWER ## \n",
    "## ANSWER ## \n",
    "gene_to_geneid={}\n",
    "gene_to_geneid[\"INS\"]=3630\n",
    "gene_to_geneid[\"IGF1\"]=3479\n",
    "gene_to_geneid[\"INSR\"]=3643\n",
    "gene_to_geneid[\"IGF1R\"]=3480\n",
    "\n",
    "print(gene_to_geneid['IGF1R'])"
   ]
  }
 ],
 "metadata": {
  "anaconda-cloud": {},
  "kernelspec": {
   "display_name": "Python 3",
   "language": "python",
   "name": "python3"
  },
  "language_info": {
   "codemirror_mode": {
    "name": "ipython",
    "version": 3
   },
   "file_extension": ".py",
   "mimetype": "text/x-python",
   "name": "python",
   "nbconvert_exporter": "python",
   "pygments_lexer": "ipython3",
   "version": "3.7.10"
  }
 },
 "nbformat": 4,
 "nbformat_minor": 4
}
