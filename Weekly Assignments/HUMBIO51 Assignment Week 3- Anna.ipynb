{
 "cells": [
  {
   "cell_type": "markdown",
   "metadata": {},
   "source": [
    "## HUMBIO51 Assignment Week 3"
   ]
  },
  {
   "cell_type": "markdown",
   "metadata": {},
   "source": [
    "\n",
    "##  Learning Objectives\n",
    "***Students should be able to***\n",
    " <ol>\n",
    " <li><a href=#Align2>Interpret the output of a pairwise2 sequence alignment from the BioPython package </a></li>\n",
    " <li><a href=#DataStructures> Identify the difference between tuple, list, and dictionary data structures in Python</a></li>\n",
    " <li><a href=#ScoreAlignments>Use DNA alignment scoring matrices to select the best alignment of two sequences from two possible alignments</a></li>\n",
    " <li><a href=#AlignMuscle>Align multiple sequences using modules from the BioPython package</a></li> \n",
    " <li><a href=#MapSeqReads>Map sequence reads to the human reference genome </a></li>\n",
    " <li><a href=#Qualityscores>Interpret quality scores from the output of a read mapping and alignment algorithm</a></li>\n",
    " <li><a href=#RNASeqinBrowser> View a gene sequence in the WashU Epigenome Browser</a></li>\n",
    " <li><a href=#RNASeqinBrowser> Explain how an RNA-Seq experiment works and what it measures</a></li>\n",
    "<li><a href=#RNASeqinBrowser> View results of RNA-Seq experiments in the WashU Epigenome Browser</a></li>\n",
    "  "
   ]
  },
  {
   "cell_type": "code",
   "execution_count": null,
   "metadata": {},
   "outputs": [],
   "source": [
    "#Change your working directory to Week_3"
   ]
  },
  {
   "cell_type": "markdown",
   "metadata": {},
   "source": [
    "## QUESTION 3\n",
    "\n",
    "ΔFosB is a truncated splice variant of FosB gene. Overexpression ΔFosB  in a specific population of neurons in the brain has been identified as the causal mechanism involved in the onset and maintenance of an addiction to drugs and natural rewards. We will examine the amino acid difference between NM_006732 (the benign splice variant) and \n",
    "NM_001114171 (the problematic splice variant i.e. ΔFosB) "
   ]
  },
  {
   "cell_type": "markdown",
   "metadata": {},
   "source": [
    "### QUESTION 3a\n",
    "Look up the FOSB gene in the epigenome roadmap browser [here](http://epigenomegateway.wustl.edu/browser/). Follow the instructions from class to create a screenshot of the gene and upload it along with this notebook in your homework submission (please use the pdf rather than the svg option to save your screenshot). \n"
   ]
  },
  {
   "cell_type": "markdown",
   "metadata": {},
   "source": [
    "### QUESTION 3b\n",
    "\n",
    "We will now create a BED File for FOSB transcript variant 1 using the hg19 version of the human reference genome. \n",
    "\n",
    "The FOSB transcript variant 1 should be the first RefSeq gene that appears when you search for FOSB in the browser. You can verify that you are looking at the correct transcript by clicking towards the left of the page on the first row where it says FOSB. The identifier should say NM_006732. \n",
    "\n",
    "The box that shows up when you click on the transcript will report: \n",
    "\n",
    "* The 5' UTR of NM_006732 (thin bar) \n",
    " \n",
    "* The CDS regions of NM_006732  (thicker bars) \n",
    "\n",
    "* THe 3' UTR of NM_00673 (thin bar) \n",
    "\n",
    "#### BEGIN ANSWER ####\n",
    "\n",
    "**What is the position of the 5' UTR of NM_006732 in the genome?**\n",
    "\n",
    "Replace the \"?\" with the correct values. \n",
    "\n",
    "Chromosome=?\n",
    "\n",
    "Start Position=?\n",
    "\n",
    "End Position=?\n",
    "\n",
    "**What is the position of the 3' UTR of NM_006732 in the genome?**\n",
    "\n",
    "Replace the \"?\" with the correct values. \n",
    "\n",
    "Chromosome=?\n",
    "\n",
    "Start Position=?\n",
    "\n",
    "End Position=?\n",
    "\n",
    "#### END ANSWER ####"
   ]
  },
  {
   "cell_type": "markdown",
   "metadata": {},
   "source": [
    "### QUESTION 3c \n",
    "\n",
    "Create a bed file for FOXB transcript variant 1. Your bed file should include just the CDS regions of the gene. Recall that the first column of the bed file should store the chromosome, the second column will store the starting position of the CDS, and the third column will store the end position of the CDS. Name your bed file \"FOXB_tv1.bed\"\n",
    "\n"
   ]
  },
  {
   "cell_type": "code",
   "execution_count": 12,
   "metadata": {},
   "outputs": [],
   "source": [
    "## BEGIN SOLUTION ## \n",
    "outf=open(\"FOXB_tv1.bed\",'w')\n",
    "outf.write(\"chr19\\t45971844\\t45971970\\n\")\n",
    "outf.write(\"chr19\\t45973886\\t45974207\\n\")\n",
    "outf.write(\"chr19\\t45974451\\t45974559\\n\")\n",
    "outf.write(\"chr19\\t45975808\\t45976270\\n\")\n",
    "outf.close()\n",
    "## END SOLUTION ##"
   ]
  },
  {
   "cell_type": "markdown",
   "metadata": {},
   "source": [
    "### QUESTION 3d \n",
    "\n",
    "Use the getFastaFromBed command to extract the FASTA sequence from FOXB_tv1.bed (hint: refer to the class 3 notebook for more information about how getFastaFromBed can be used to extract the FASTA sequence from a bed file). Save the FASTA file as \"FOXB_tv1.fasta\""
   ]
  },
  {
   "cell_type": "code",
   "execution_count": 13,
   "metadata": {},
   "outputs": [
    {
     "name": "stdout",
     "output_type": "stream",
     "text": [
      ">chr19:45971844-45971970\r\n",
      "ATGTTTCAGGCTTTCCCCGGAGACTACGACTCCGGCTCCCGGTGCAGCTCCTCACCCTCTGCCGAGTCTCAATATCTGTCTTCGGTGGACTCCTTCGGCAGTCCACCCACCGCCGCCGCCTCCCAG\r\n",
      ">chr19:45973886-45974207\r\n",
      "GAGTGCGCCGGTCTCGGGGAAATGCCCGGTTCCTTCGTGCCCACGGTCACCGCGATCACAACCAGCCAGGACCTCCAGTGGCTTGTGCAACCCACCCTCATCTCTTCCATGGCCCAGTCCCAGGGGCAGCCACTGGCCTCCCAGCCCCCGGTCGTCGACCCCTACGACATGCCGGGAACCAGCTACTCCACACCAGGCATGAGTGGCTACAGCAGTGGCGGAGCGAGTGGCAGTGGTGGGCCTTCCACCAGCGGAACTACCAGTGGGCCTGGGCCTGCCCGCCCAGCCCGAGCCCGGCCTAGGAGACCCCGAGAGGAGACG\r\n",
      ">chr19:45974451-45974559\r\n",
      "CTCACCCCAGAGGAAGAGGAGAAGCGAAGGGTGCGCCGGGAACGAAATAAACTAGCAGCAGCTAAATGCAGGAACCGGCGGAGGGAGCTGACCGACCGACTCCAGGCG\r\n",
      ">chr19:45975808-45976270\r\n",
      "GAGACAGATCAGTTGGAGGAAGAAAAAGCAGAGCTGGAGTCGGAGATCGCCGAGCTCCAAAAGGAGAAGGAACGTCTGGAGTTTGTGCTGGTGGCCCACAAACCGGGCTGCAAGATCCCCTACGAAGAGGGGCCCGGGCCGGGCCCGCTGGCGGAGGTGAGAGATTTGCCGGGCTCAGCACCGGCTAAGGAAGATGGCTTCAGCTGGCTGCTGCCGCCCCCGCCACCACCGCCCCTGCCCTTCCAGACCAGCCAAGACGCACCCCCCAACCTGACGGCTTCTCTCTTTACACACAGTGAAGTTCAAGTCCTCGGCGACCCCTTCCCCGTTGTTAACCCTTCGTACACTTCTTCGTTTGTCCTCACCTGCCCGGAGGTCTCCGCGTTCGCCGGCGCCCAACGCACCAGCGGCAGTGACCAGCCTTCCGATCCCCTGAACTCGCCCTCCCTCCTCGCTCTGTGA\r\n"
     ]
    }
   ],
   "source": [
    "## BEGIN SOLUTION ## \n",
    "!bedtools getfasta -fi /opt/data/hg19.genome.fa -bed FOXB_tv1.bed -fo FOXB_tv1.fasta  \n",
    "!cat FOXB_tv1.fasta\n",
    "## END SOLUTION ## "
   ]
  },
  {
   "cell_type": "markdown",
   "metadata": {},
   "source": [
    "### QUESTION 3e \n",
    "\n",
    "Combine the regions in \"FOXB_tv1.fasta\" into a single sequence of DNA bases. Store this DNA sequence in the variable FOXB_tv1. \n",
    "\n",
    "You can do this using the following approach: \n",
    "\n",
    "* Set \"FOXB_tv1\" to equal an empty string. \n",
    "\n",
    "* Open the file \"FOXB_tv1.fasta\" for reading. \n",
    "\n",
    "* Use a for loop to iterate through all the lines in the file. \n",
    "\n",
    "   1. Use the **startswith** function to check if the current line starts with \">\" \n",
    "   \n",
    "   2. If the line does not start with \">\", add the line to the FOXB_tv1 variable \n",
    "   \n",
    "   (note: our goal here is to skip the FASTA header lines that provide the sequence id but not the actual ACGT bases) \n",
    "   \n"
   ]
  },
  {
   "cell_type": "code",
   "execution_count": 14,
   "metadata": {},
   "outputs": [
    {
     "name": "stdout",
     "output_type": "stream",
     "text": [
      "ATGTTTCAGGCTTTCCCCGGAGACTACGACTCCGGCTCCCGGTGCAGCTCCTCACCCTCTGCCGAGTCTCAATATCTGTCTTCGGTGGACTCCTTCGGCAGTCCACCCACCGCCGCCGCCTCCCAGGAGTGCGCCGGTCTCGGGGAAATGCCCGGTTCCTTCGTGCCCACGGTCACCGCGATCACAACCAGCCAGGACCTCCAGTGGCTTGTGCAACCCACCCTCATCTCTTCCATGGCCCAGTCCCAGGGGCAGCCACTGGCCTCCCAGCCCCCGGTCGTCGACCCCTACGACATGCCGGGAACCAGCTACTCCACACCAGGCATGAGTGGCTACAGCAGTGGCGGAGCGAGTGGCAGTGGTGGGCCTTCCACCAGCGGAACTACCAGTGGGCCTGGGCCTGCCCGCCCAGCCCGAGCCCGGCCTAGGAGACCCCGAGAGGAGACGCTCACCCCAGAGGAAGAGGAGAAGCGAAGGGTGCGCCGGGAACGAAATAAACTAGCAGCAGCTAAATGCAGGAACCGGCGGAGGGAGCTGACCGACCGACTCCAGGCGGAGACAGATCAGTTGGAGGAAGAAAAAGCAGAGCTGGAGTCGGAGATCGCCGAGCTCCAAAAGGAGAAGGAACGTCTGGAGTTTGTGCTGGTGGCCCACAAACCGGGCTGCAAGATCCCCTACGAAGAGGGGCCCGGGCCGGGCCCGCTGGCGGAGGTGAGAGATTTGCCGGGCTCAGCACCGGCTAAGGAAGATGGCTTCAGCTGGCTGCTGCCGCCCCCGCCACCACCGCCCCTGCCCTTCCAGACCAGCCAAGACGCACCCCCCAACCTGACGGCTTCTCTCTTTACACACAGTGAAGTTCAAGTCCTCGGCGACCCCTTCCCCGTTGTTAACCCTTCGTACACTTCTTCGTTTGTCCTCACCTGCCCGGAGGTCTCCGCGTTCGCCGGCGCCCAACGCACCAGCGGCAGTGACCAGCCTTCCGATCCCCTGAACTCGCCCTCCCTCCTCGCTCTGTGA\n"
     ]
    }
   ],
   "source": [
    "## BEGIN SOLUTION \n",
    "FOXB_tv1=\"\"\n",
    "data=open(\"FOXB_tv1.fasta\",'r').read().split('\\n')\n",
    "for line in data: \n",
    "    if (line.startswith(\">\")==False): \n",
    "        FOXB_tv1=FOXB_tv1+line\n",
    "print(FOXB_tv1)\n",
    "\n",
    "## END SOLUTION "
   ]
  },
  {
   "cell_type": "markdown",
   "metadata": {},
   "source": [
    "### QUESTION 3F\n",
    "Use the **write_protein_1_letter_aa_from_RNA** function from the helper file \"central_dogma_helpers.py\" to convert the DNA sequence stored in the variable FOXB_tv1 to a protein sequence. Let's call the protein sequence \"FOXB_tv1_aa\" , using \"aa\" to represent \"amino acids\""
   ]
  },
  {
   "cell_type": "code",
   "execution_count": 15,
   "metadata": {},
   "outputs": [
    {
     "name": "stdout",
     "output_type": "stream",
     "text": [
      "MFQAFPGDYDSGSRCSSSPSAESQYLSSVDSFGSPPTAAASQECAGLGEMPGSFVPTVTAITTSQDLQWLVQPTLISSMAQSQGQPLASQPPVVDPYDMPGTSYSTPGMSGYSSGGASGSGGPSTSGTTSGPGPARPARARPRRPREETLTPEEEEKRRVRRERNKLAAAKCRNRRRELTDRLQAETDQLEEEKAELESEIAELQKEKERLEFVLVAHKPGCKIPYEEGPGPGPLAEVRDLPGSAPAKEDGFSWLLPPPPPPPLPFQTSQDAPPNLTASLFTHSEVQVLGDPFPVVNPSYTSSFVLTCPEVSAFAGAQRTSGSDQPSDPLNSPSLLAL*\n"
     ]
    }
   ],
   "source": [
    "## BEGIN SOLUTION ## \n",
    "import sys\n",
    "sys.path.append('../helpers')\n",
    "from central_dogma_helpers import *\n",
    "FOXB_tv1_rna=write_RNA_from_DNA(FOXB_tv1)\n",
    "FOXB_tv1_aa=write_protein_1_letter_aa_from_RNA(FOXB_tv1_rna)\n",
    "print(FOXB_tv1_aa)\n",
    "## END SOLUTION ## "
   ]
  },
  {
   "cell_type": "markdown",
   "metadata": {},
   "source": [
    "### QUESTION 3g \n",
    "\n",
    "We have followed the same steps that you did in QUESTION 3C - 3F to generate an amino acid sequence for the second splice variant (NM_001114171). This sequence is stored in the file Week_3/data/NM_001114171.txt. Perform a pairwise alignment of the two amino acid sequences using the Biopython function **pairwise2.align.globalxx**"
   ]
  },
  {
   "cell_type": "code",
   "execution_count": 16,
   "metadata": {},
   "outputs": [
    {
     "name": "stdout",
     "output_type": "stream",
     "text": [
      "MFQAFPGDYDSGSRCSSSPSAESQYLSSVDSFGSPPTAAASQECAGLGEMPGSFVPTVTAITTSQDLQWLVQPTLISSMAQSQGQPLASQPPVVDPYDMPGTSYSTPGMSGYSSGGASGSGGPSTSGTTSGPGPARPARARPRRPREETETDQLEEEKAELESEIAELQKEKERLEFVLVAHKPGCKIPYEEGPGPGPLAEVRDLPGSAPAKEDGFSWLLPPPPPPPLPFQTSQDAPPNLTASLFTHSEVQVLGDPFPVVNPSYTSSFVLTCPEVSAFAGAQRTSGSDQPSDPLNSPSLLAL*"
     ]
    }
   ],
   "source": [
    "### REMOVE BEFORE GIVING TO STUDENTS -- THIS IS CODE FOR HOW TO GENERATE THE \n",
    "##  AA SEQUENCE FOR THE SECOND SPLICE VARIANT ### \n",
    "\n",
    "outf=open(\"FOXB_tv2.bed\",'w')\n",
    "outf.write(\"chr19\\t45971844\\t45971970\\n\")\n",
    "outf.write(\"chr19\\t45973886\\t45974207\\n\")\n",
    "outf.write(\"chr19\\t45975808\\t45976270\\n\")\n",
    "outf.close()\n",
    "\n",
    "!bedtools getfasta -fi /opt/data/hg19.genome.fa -bed FOXB_tv2.bed -fo FOXB_tv2.fasta  \n",
    "#!cat FOXB_tv2.fasta\n",
    "\n",
    "FOXB_tv2=\"\"\n",
    "data=open(\"FOXB_tv2.fasta\",'r').read().split('\\n')\n",
    "for line in data: \n",
    "    if (line.startswith(\">\")==False): \n",
    "        FOXB_tv2=FOXB_tv2+line\n",
    "        \n",
    "import sys\n",
    "sys.path.append('../helpers')\n",
    "from central_dogma_helpers import *\n",
    "FOXB_tv2_rna=write_RNA_from_DNA(FOXB_tv2)\n",
    "FOXB_tv2_aa=write_protein_1_letter_aa_from_RNA(FOXB_tv2_rna)\n",
    "\n",
    "outf=open(\"NM_001114171.txt\",'w')\n",
    "outf.write(FOXB_tv2_aa)\n",
    "outf.close()\n",
    "\n",
    "!cat NM_001114171.txt\n",
    "\n"
   ]
  },
  {
   "cell_type": "code",
   "execution_count": 17,
   "metadata": {},
   "outputs": [],
   "source": [
    "## BEGIN SOLUTION \n",
    "\n",
    "# Read in the file \"Week_3/data/NM_001114171.txt\" and store it in a variable \"FOXB_tv2_aa\"\n",
    "\n",
    "from Bio import pairwise2 \n",
    "# perform pairwise alignment between FOXB_tv1_aa and FOXB_tv2_aa. \n",
    "# Store the alignment in a variable called: FOXB_tv1_tv2_align\n",
    "\n",
    "## END SOLUTION "
   ]
  },
  {
   "cell_type": "code",
   "execution_count": 18,
   "metadata": {},
   "outputs": [
    {
     "name": "stdout",
     "output_type": "stream",
     "text": [
      "[('MFQAFPGDYDSGSRCSSSPSAESQYLSSVDSFGSPPTAAASQECAGLGEMPGSFVPTVTAITTSQDLQWLVQPTLISSMAQSQGQPLASQPPVVDPYDMPGTSYSTPGMSGYSSGGASGSGGPSTSGTTSGPGPARPARARPRRPREETLTPEEEEKRRVRRERNKLAAAKCRNRRRELTDRLQAETDQLEEEKAELESEIAELQKEKERLEFVLVAHKPGCKIPYEEGPGPGPLAEVRDLPGSAPAKEDGFSWLLPPPPPPPLPFQTSQDAPPNLTASLFTHSEVQVLGDPFPVVNPSYTSSFVLTCPEVSAFAGAQRTSGSDQPSDPLNSPSLLAL*', 'MFQAFPGDYDSGSRCSSSPSAESQYLSSVDSFGSPPTAAASQECAGLGEMPGSFVPTVTAITTSQDLQWLVQPTLISSMAQSQGQPLASQPPVVDPYDMPGTSYSTPGMSGYSSGGASGSGGPSTSGTTSGPGPARPARARP-R-R-----P---------RE--------------E-T-----ETDQLEEEKAELESEIAELQKEKERLEFVLVAHKPGCKIPYEEGPGPGPLAEVRDLPGSAPAKEDGFSWLLPPPPPPPLPFQTSQDAPPNLTASLFTHSEVQVLGDPFPVVNPSYTSSFVLTCPEVSAFAGAQRTSGSDQPSDPLNSPSLLAL*', 303.0, 0, 339), ('MFQAFPGDYDSGSRCSSSPSAESQYLSSVDSFGSPPTAAASQECAGLGEMPGSFVPTVTAITTSQDLQWLVQPTLISSMAQSQGQPLASQPPVVDPYDMPGTSYSTPGMSGYSSGGASGSGGPSTSGTTSGPGPARPARARPRRPREETLTPEEEEKRRVRRERNKLAAAKCRNRRRELTDRLQAETDQLEEEKAELESEIAELQKEKERLEFVLVAHKPGCKIPYEEGPGPGPLAEVRDLPGSAPAKEDGFSWLLPPPPPPPLPFQTSQDAPPNLTASLFTHSEVQVLGDPFPVVNPSYTSSFVLTCPEVSAFAGAQRTSGSDQPSDPLNSPSLLAL*', 'MFQAFPGDYDSGSRCSSSPSAESQYLSSVDSFGSPPTAAASQECAGLGEMPGSFVPTVTAITTSQDLQWLVQPTLISSMAQSQGQPLASQPPVVDPYDMPGTSYSTPGMSGYSSGGASGSGGPSTSGTTSGPGPARPARARPR--R-----P---------RE--------------E-T-----ETDQLEEEKAELESEIAELQKEKERLEFVLVAHKPGCKIPYEEGPGPGPLAEVRDLPGSAPAKEDGFSWLLPPPPPPPLPFQTSQDAPPNLTASLFTHSEVQVLGDPFPVVNPSYTSSFVLTCPEVSAFAGAQRTSGSDQPSDPLNSPSLLAL*', 303.0, 0, 339), ('MFQAFPGDYDSGSRCSSSPSAESQYLSSVDSFGSPPTAAASQECAGLGEMPGSFVPTVTAITTSQDLQWLVQPTLISSMAQSQGQPLASQPPVVDPYDMPGTSYSTPGMSGYSSGGASGSGGPSTSGTTSGPGPARPARARPRRPREETLTPEEEEKRRVRRERNKLAAAKCRNRRRELTDRLQAETDQLEEEKAELESEIAELQKEKERLEFVLVAHKPGCKIPYEEGPGPGPLAEVRDLPGSAPAKEDGFSWLLPPPPPPPLPFQTSQDAPPNLTASLFTHSEVQVLGDPFPVVNPSYTSSFVLTCPEVSAFAGAQRTSGSDQPSDPLNSPSLLAL*', 'MFQAFPGDYDSGSRCSSSPSAESQYLSSVDSFGSPPTAAASQECAGLGEMPGSFVPTVTAITTSQDLQWLVQPTLISSMAQSQGQPLASQPPVVDPYDMPGTSYSTPGMSGYSSGGASGSGGPSTSGTTSGPGPARPARARPRR-------P---------RE--------------E-T-----ETDQLEEEKAELESEIAELQKEKERLEFVLVAHKPGCKIPYEEGPGPGPLAEVRDLPGSAPAKEDGFSWLLPPPPPPPLPFQTSQDAPPNLTASLFTHSEVQVLGDPFPVVNPSYTSSFVLTCPEVSAFAGAQRTSGSDQPSDPLNSPSLLAL*', 303.0, 0, 339), ('MFQAFPGDYDSGSRCSSSPSAESQYLSSVDSFGSPPTAAASQECAGLGEMPGSFVPTVTAITTSQDLQWLVQPTLISSMAQSQGQPLASQPPVVDPYDMPGTSYSTPGMSGYSSGGASGSGGPSTSGTTSGPGPARPARARPRRPREETLTPEEEEKRRVRRERNKLAAAKCRNRRRELTDRLQAETDQLEEEKAELESEIAELQKEKERLEFVLVAHKPGCKIPYEEGPGPGPLAEVRDLPGSAPAKEDGFSWLLPPPPPPPLPFQTSQDAPPNLTASLFTHSEVQVLGDPFPVVNPSYTSSFVLTCPEVSAFAGAQRTSGSDQPSDPLNSPSLLAL*', 'MFQAFPGDYDSGSRCSSSPSAESQYLSSVDSFGSPPTAAASQECAGLGEMPGSFVPTVTAITTSQDLQWLVQPTLISSMAQSQGQPLASQPPVVDPYDMPGTSYSTPGMSGYSSGGASGSGGPSTSGTTSGPGPARPARARPRRP----------------RE--------------E-T-----ETDQLEEEKAELESEIAELQKEKERLEFVLVAHKPGCKIPYEEGPGPGPLAEVRDLPGSAPAKEDGFSWLLPPPPPPPLPFQTSQDAPPNLTASLFTHSEVQVLGDPFPVVNPSYTSSFVLTCPEVSAFAGAQRTSGSDQPSDPLNSPSLLAL*', 303.0, 0, 339)]\n"
     ]
    }
   ],
   "source": [
    "## SOLUTION TO 3g, remove before giving to students \n",
    "FOXB_tv2_aa=open(\"Week_3/data/NM_001114171.txt\",'r').read()\n",
    "from Bio import pairwise2 \n",
    "FOXB_tv1_tv2_align=pairwise2.align.globalxx(FOXB_tv1_aa,FOXB_tv2_aa)\n",
    "print(FOXB_tv1_tv2_align)"
   ]
  },
  {
   "cell_type": "markdown",
   "metadata": {},
   "source": [
    "### QUESTION 3h\n",
    "Run the code below to format and print the highest scoring alignment between FOXB_tv1_aa and FOXB_tv2_aa. \n",
    "Hint: If you followed the above steps correctly, your alignment should have the following properties: \n",
    "\n",
    "  Score=  303\n",
    "  \n",
    "  Begin=  0\n",
    " \n",
    "  End  =  339\n",
    "  \n",
    "  Length= 339\n",
    "  \n",
    "  \n",
    "Question 1: How many amino acids are missing from NM_001114171 that are present in NM_00732? \n",
    "\n",
    "#### BEGIN ANSWER ####\n",
    "#### END ANSWER ####\n",
    "\n",
    "Question 2: Do you notice anything unexpected about the alignment in the region where NM_001114171 is missing an exon? \n",
    "\n",
    "#### BEGIN ANSWER #### \n",
    "#### END ANSWER ####"
   ]
  },
  {
   "cell_type": "code",
   "execution_count": 11,
   "metadata": {},
   "outputs": [
    {
     "name": "stdout",
     "output_type": "stream",
     "text": [
      "NM_006732:    MFQAFPGDYDSGSRCSSSPSAESQYLSSVDSFGSPPTAAASQECAGLGEM\n",
      "              ||||||||||||||||||||||||||||||||||||||||||||||||||\n",
      "NM_001114171: MFQAFPGDYDSGSRCSSSPSAESQYLSSVDSFGSPPTAAASQECAGLGEM\n",
      "\n",
      "NM_006732:    PGSFVPTVTAITTSQDLQWLVQPTLISSMAQSQGQPLASQPPVVDPYDMP\n",
      "              ||||||||||||||||||||||||||||||||||||||||||||||||||\n",
      "NM_001114171: PGSFVPTVTAITTSQDLQWLVQPTLISSMAQSQGQPLASQPPVVDPYDMP\n",
      "\n",
      "NM_006732:    GTSYSTPGMSGYSSGGASGSGGPSTSGTTSGPGPARPARARPRRPREETL\n",
      "              ||||||||||||||||||||||||||||||||||||||||||||||||||\n",
      "NM_001114171: GTSYSTPGMSGYSSGGASGSGGPSTSGTTSGPGPARPARARP-R-R----\n",
      "\n",
      "NM_006732:    TPEEEEKRRVRRERNKLAAAKCRNRRRELTDRLQAETDQLEEEKAELESE\n",
      "              ||||||||||||||||||||||||||||||||||||||||||||||||||\n",
      "NM_001114171: -P---------RE--------------E-T-----ETDQLEEEKAELESE\n",
      "\n",
      "NM_006732:    IAELQKEKERLEFVLVAHKPGCKIPYEEGPGPGPLAEVRDLPGSAPAKED\n",
      "              ||||||||||||||||||||||||||||||||||||||||||||||||||\n",
      "NM_001114171: IAELQKEKERLEFVLVAHKPGCKIPYEEGPGPGPLAEVRDLPGSAPAKED\n",
      "\n",
      "NM_006732:    GFSWLLPPPPPPPLPFQTSQDAPPNLTASLFTHSEVQVLGDPFPVVNPSY\n",
      "              ||||||||||||||||||||||||||||||||||||||||||||||||||\n",
      "NM_001114171: GFSWLLPPPPPPPLPFQTSQDAPPNLTASLFTHSEVQVLGDPFPVVNPSY\n",
      "\n",
      "NM_006732:    TSSFVLTCPEVSAFAGAQRTSGSDQPSDPLNSPSLLAL*\n",
      "              |||||||||||||||||||||||||||||||||||||||\n",
      "NM_001114171: TSSFVLTCPEVSAFAGAQRTSGSDQPSDPLNSPSLLAL*\n",
      "\n",
      "  Score=  303\n",
      "  Begin=  0\n",
      "  End  =  339\n",
      "  Length= 339\n",
      "\n"
     ]
    }
   ],
   "source": [
    "from sequence_alignment_helpers import *\n",
    "\n",
    "print(format_alignment_linebreak(insert_newlines(FOXB_tv1_tv2_align[0][0]),\n",
    "                                 insert_newlines(FOXB_tv1_tv2_align[0][1]),\n",
    "                                 FOXB_tv1_tv2_align[0][2],\n",
    "                                 FOXB_tv1_tv2_align[0][3],\n",
    "                                 FOXB_tv1_tv2_align[0][4],\n",
    "                                 \"NM_006732\",\n",
    "                                 \"NM_001114171\"))"
   ]
  },
  {
   "cell_type": "code",
   "execution_count": null,
   "metadata": {},
   "outputs": [],
   "source": []
  }
 ],
 "metadata": {
  "anaconda-cloud": {},
  "kernelspec": {
   "display_name": "Python 3",
   "language": "python",
   "name": "python3"
  },
  "language_info": {
   "codemirror_mode": {
    "name": "ipython",
    "version": 3
   },
   "file_extension": ".py",
   "mimetype": "text/x-python",
   "name": "python",
   "nbconvert_exporter": "python",
   "pygments_lexer": "ipython3",
   "version": "3.5.6"
  }
 },
 "nbformat": 4,
 "nbformat_minor": 2
}
