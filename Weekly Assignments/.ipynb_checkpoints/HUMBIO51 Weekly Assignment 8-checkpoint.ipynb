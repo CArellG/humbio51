{
 "cells": [
  {
   "cell_type": "markdown",
   "metadata": {},
   "source": [
    "## HUMBIO51 Assignment Week 8"
   ]
  },
  {
   "cell_type": "markdown",
   "metadata": {},
   "source": [
    "##  Learning Objectives\n",
    "***Students should be able to*** \n",
    "\n",
    "<li> <a href=#LD>Find variants in linkage disequilibrium (LD) with a target variant using tabix and PLINK.</a></li>\n",
    "<li> <a href=#LoadTable> Load a data table in .csv format into Python</a></li>\n",
    "<li> <a href=#Scatter>Make a scatter plot in Python </a></li>\n",
    "<li> <a href=#GWAS> Interpret data from a genome wide association study (GWAS)</a></li>\n",
    " \n"
   ]
  },
  {
   "cell_type": "markdown",
   "metadata": {},
   "source": [
    "## Question 1"
   ]
  },
  {
   "cell_type": "markdown",
   "metadata": {},
   "source": [
    "This question is based off of data from a study in which  researchers performed genome wide association studies (GWAS) on six different types of erythrocyte traits. Erythrocytes are a type of blood cell and the traits were being studied to look for markers of hematological disorders. \n",
    "\n",
    "The reference is Ganesh et al. Nature Genetics 41, 1191–1198 (2009) [doi:10.1038/ng.466](https://www.nature.com/articles/ng.466). \n",
    "\n",
    "\n",
    "\n",
    "The question will focus on SNP:  rs4895441"
   ]
  },
  {
   "cell_type": "markdown",
   "metadata": {},
   "source": [
    "For this quesion you will need the variant files from class for the 1000 Genomes Project in the PLINK binary format: \n",
    "    \n",
    "* **/opt/data/project/1kg_phase1_all.bed** -- binary encoding of subject genotypes (do not be fooled by the file extension, this is NOT the 4-column bed file format we have been using). \n",
    "\n",
    "* **/opt/data/project/1kg_phase1_all.bim** -- list of all variants in the subject population \n",
    "* **/opt/data/project/1kg_phase1_all.fam** -- list of all subject id's in the 1000's genome project"
   ]
  },
  {
   "cell_type": "markdown",
   "metadata": {},
   "source": [
    "NOTE: Your notes from class 7 on working with pandas dataframes may be helpful for this assignment. "
   ]
  },
  {
   "cell_type": "markdown",
   "metadata": {},
   "source": [
    "### Question 1a"
   ]
  },
  {
   "cell_type": "code",
   "execution_count": null,
   "metadata": {
    "collapsed": true
   },
   "outputs": [],
   "source": [
    "#change your working directory to Week_8"
   ]
  },
  {
   "cell_type": "markdown",
   "metadata": {},
   "source": [
    "### Question 1b"
   ]
  },
  {
   "cell_type": "code",
   "execution_count": null,
   "metadata": {
    "collapsed": true
   },
   "outputs": [],
   "source": [
    "#identify all variants that are in linkage disequilibrium with rs4895441 (use the -r flag)"
   ]
  },
  {
   "cell_type": "markdown",
   "metadata": {},
   "source": [
    "### Question 1c"
   ]
  },
  {
   "cell_type": "code",
   "execution_count": null,
   "metadata": {
    "collapsed": true
   },
   "outputs": [],
   "source": [
    "#Display the SNPs that are in linkage disequilibrium with rs4895441 "
   ]
  },
  {
   "cell_type": "markdown",
   "metadata": {},
   "source": [
    "### Question 1d"
   ]
  },
  {
   "cell_type": "code",
   "execution_count": null,
   "metadata": {
    "collapsed": true
   },
   "outputs": [],
   "source": [
    "#Read the list of SNPs in linkage disequilibrium with rs4895441 into a dataframe in Python \n",
    "#and print the sorted the list.\n",
    "#HINT: When reading in the dataframe use the delim_whitespace=True argument. "
   ]
  },
  {
   "cell_type": "markdown",
   "metadata": {},
   "source": [
    "### Question 1e"
   ]
  },
  {
   "cell_type": "code",
   "execution_count": null,
   "metadata": {
    "collapsed": true
   },
   "outputs": [],
   "source": [
    "#Use a for loop to print out a list of SNPs in linkage disequilibrium with rs4895441 \n",
    "#with an R-value greater than .8"
   ]
  },
  {
   "cell_type": "markdown",
   "metadata": {},
   "source": [
    "## Question 2\n",
    "\n",
    "Generate a scatterplot with base pairs (BP_B) along the x-axis and the correlation coefficient (R) along the y-axis. \n",
    "\n",
    "By default when you hoover over your points you will see the value of the y-axis for the point. To display the rs numbers when you hoover over a point you can set the text= option equal to the column with the rs numbers. See information about adding text to points [here](https://plot.ly/python/text-and-annotations/)."
   ]
  },
  {
   "cell_type": "code",
   "execution_count": null,
   "metadata": {
    "collapsed": true
   },
   "outputs": [],
   "source": [
    "#Your code here."
   ]
  },
  {
   "cell_type": "markdown",
   "metadata": {},
   "source": [
    "## Question 3\n",
    "\n",
    "In your Week_8 directory there is a file called 'Ganesh_Nat. Genetics_2009_PMID_19862010_ng.466-S2.csv'. \n",
    "\n",
    "The file is from the Supplementary Material published in Ganesh et al. Nature Genetics 41, 1191–1198 (2009) doi:10.1038/ng.46. \n",
    "\n",
    "The file contains a table of p-values for SNPs that were identified in the GWAS association studies for different traits.\n",
    "\n",
    "The third column of the file contains the locus or chromosome number. "
   ]
  },
  {
   "cell_type": "markdown",
   "metadata": {},
   "source": [
    "### Question 3a"
   ]
  },
  {
   "cell_type": "code",
   "execution_count": null,
   "metadata": {
    "collapsed": true
   },
   "outputs": [],
   "source": [
    "#Read the .csv file from the Ganesh paper into a pandas dataframe. \n",
    "#HINT: MAKE SURE YOU ARE READING IN A CSV FILE NOT A TSV FILE. "
   ]
  },
  {
   "cell_type": "markdown",
   "metadata": {},
   "source": [
    "### Question 3b"
   ]
  },
  {
   "cell_type": "code",
   "execution_count": null,
   "metadata": {
    "collapsed": true
   },
   "outputs": [],
   "source": [
    "#view the dataframe from 3a so you can see the header and columns"
   ]
  },
  {
   "cell_type": "markdown",
   "metadata": {},
   "source": [
    "### Question 3c"
   ]
  },
  {
   "cell_type": "code",
   "execution_count": null,
   "metadata": {
    "collapsed": true
   },
   "outputs": [],
   "source": [
    "#Now that you have viewed the .csv file, adjust the skiprow and the header argument to make\n",
    "#the row with locus#, SNIPID, Chr ... the header and to skip any rows above that. "
   ]
  },
  {
   "cell_type": "markdown",
   "metadata": {},
   "source": [
    "### Question 3d"
   ]
  },
  {
   "cell_type": "code",
   "execution_count": null,
   "metadata": {
    "collapsed": true
   },
   "outputs": [],
   "source": [
    "#view the dataframe from 3c so you can see the header and columns"
   ]
  },
  {
   "cell_type": "markdown",
   "metadata": {},
   "source": [
    "### Question 3e"
   ]
  },
  {
   "cell_type": "code",
   "execution_count": null,
   "metadata": {
    "collapsed": true
   },
   "outputs": [],
   "source": [
    "#Make a subset of the dataframe from question 3d with just the SNPs in locus# 9 "
   ]
  },
  {
   "cell_type": "markdown",
   "metadata": {},
   "source": [
    "### Question 3f"
   ]
  },
  {
   "cell_type": "code",
   "execution_count": null,
   "metadata": {
    "collapsed": true
   },
   "outputs": [],
   "source": [
    "#View the output of 3f "
   ]
  },
  {
   "cell_type": "markdown",
   "metadata": {},
   "source": [
    "### Question 3g"
   ]
  },
  {
   "cell_type": "code",
   "execution_count": null,
   "metadata": {
    "collapsed": true
   },
   "outputs": [],
   "source": [
    "#Make a subset of the dataframe from question 3e with just the mcv trait"
   ]
  },
  {
   "cell_type": "markdown",
   "metadata": {},
   "source": [
    "### Question 3h"
   ]
  },
  {
   "cell_type": "markdown",
   "metadata": {},
   "source": [
    "For this question, you can take the -log of a dataframe in pandas using the following code:"
   ]
  },
  {
   "cell_type": "code",
   "execution_count": null,
   "metadata": {
    "collapsed": true
   },
   "outputs": [],
   "source": [
    "import numpy\n",
    "y=-numpy.log10(df[\"column name\"])"
   ]
  },
  {
   "cell_type": "code",
   "execution_count": null,
   "metadata": {
    "collapsed": true
   },
   "outputs": [],
   "source": [
    "#Make a scatter plot of the physical position (column name: 'PhysPos') on the x-axis versus \n",
    "#the -log10 of the p-value (column name:'P.value') for the SNPs in locus 9 on the y-axis. \n",
    "#Make sure to label your axes correctly. "
   ]
  },
  {
   "cell_type": "markdown",
   "metadata": {},
   "source": [
    "### Question 3i\n",
    "\n",
    "Which SNP has the lowest p-value?"
   ]
  },
  {
   "cell_type": "markdown",
   "metadata": {},
   "source": [
    "YOUR ANSWER HERE: "
   ]
  },
  {
   "cell_type": "markdown",
   "metadata": {},
   "source": [
    "## A NOTE ON THE COURSE PROJECT\n",
    "\n",
    "We set up a folder called Course Project and added a Course Project Notebook. You can use this to start working on the code to analyze the variants that you have been assigned. We will be sending the variants by e-mail.  \n",
    "  "
   ]
  }
 ],
 "metadata": {
  "kernelspec": {
   "display_name": "Python [Root]",
   "language": "python",
   "name": "Python [Root]"
  },
  "language_info": {
   "codemirror_mode": {
    "name": "ipython",
    "version": 3
   },
   "file_extension": ".py",
   "mimetype": "text/x-python",
   "name": "python",
   "nbconvert_exporter": "python",
   "pygments_lexer": "ipython3",
   "version": "3.5.2"
  }
 },
 "nbformat": 4,
 "nbformat_minor": 2
}
