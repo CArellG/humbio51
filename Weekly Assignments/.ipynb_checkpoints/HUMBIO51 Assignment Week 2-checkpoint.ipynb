{
 "cells": [
  {
   "cell_type": "markdown",
   "metadata": {},
   "source": [
    "## Question 1\n",
    "\n",
    "In class we did pairwise sequencing alignments for the gene for Human Insulin and we compared the sequence to two Mouse insulin genes. \n",
    "\n",
    "For this assignment you will create a pairwise sequence alignment for the protein sequences that are created from these genes. \n",
    "\n",
    "We \n",
    "* 1) Use bedtools to obtain the exon sequences for the mouse insulin genes from the mouse reference genome \n",
    "* 2) Translate the mRNA sequences into protein \n",
    "* 2) Do a pairwise sequencing alignment \n",
    "\n",
    "Using the programming methods that you have learned in class, make pairwise sequence alignments for the "
   ]
  },
  {
   "cell_type": "code",
   "execution_count": null,
   "metadata": {
    "collapsed": true
   },
   "outputs": [],
   "source": [
    "#Write the code to "
   ]
  }
 ],
 "metadata": {
  "kernelspec": {
   "display_name": "Python [Root]",
   "language": "python",
   "name": "Python [Root]"
  },
  "language_info": {
   "codemirror_mode": {
    "name": "ipython",
    "version": 3
   },
   "file_extension": ".py",
   "mimetype": "text/x-python",
   "name": "python",
   "nbconvert_exporter": "python",
   "pygments_lexer": "ipython3",
   "version": "3.5.2"
  }
 },
 "nbformat": 4,
 "nbformat_minor": 2
}
