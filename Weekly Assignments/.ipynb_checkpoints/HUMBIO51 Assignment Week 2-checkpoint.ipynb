{
 "cells": [
  {
   "cell_type": "markdown",
   "metadata": {},
   "source": [
    "## HUMBIO51 Weekly Assignment 2\n",
    " \n",
    " ***Students should be able to***\n",
    "<ol>\n",
    " <li><a href=#Aminoacidsequence>Use the genetic code to determine the amino acid sequence of the protein product of an mRNA sequence </a></li>\n",
    " <li><a href=#PythonDictionary>Make a Python dictionary for the genetic code (also called a look up table)</a> </li>\n",
    " <li><a href=#DefineFunction>Define and call a function in a Python script </a></li>\n",
    " <li><a href=#PredictProteinSequence>Predict a protein sequence from a processed mRNA sequence using a Python dictionary</a></li>\n",
    " <li><a href=#SaveFunction>Save functions to a .py file so they can be used in other programs </a></li> \n",
    "  <li><a href=#ReferenceGenome>Explain what a reference genome is </a></li>\n",
    " <li><a href=#GenomicCoordinates>Explain how genomic coordinates are used to designate the position of a gene or feature in the human reference genome </a></li>\n",
    " <li><a href=#BEDformat>Use genomic coordinates to make a file in BED format </a></li>\n",
    " <li><a href=#makeFASTAfromBED>Use the genomic analysis package Bedtools to make an mRNA sequence with exons from a gene sequence</a></li>\n",
    " <li><a href=#SeqAlignIntro>Identify ways that DNA sequence alignments can provide insights into human biology</a></li>\n",
    " <li><a href=#Import>Import a module into a Python script</a></li>\n",
    " <li><a href=#Package>Explain what a Python package is and how to import modules from a package </a></li>\n",
    "<li><a href=#Align2>Align two sequences using modules from the BioPython package </a></li>\n",
    "</ol>"
   ]
  },
  {
   "cell_type": "markdown",
   "metadata": {},
   "source": [
    "## QUESTION 1 "
   ]
  },
  {
   "cell_type": "markdown",
   "metadata": {},
   "source": [
    "For the first question in this assignment, you will investigate the conservation of the Hox-A1 protein, a protein that plays an important role in human development. \n",
    "\n",
    "Below are links to gene sequences for <i>Hox-A1</i> from humans, chimpanzees and mice. \n",
    "\n",
    "The three files that you will need as a starting point (after you change your working directory to /opt/humbio51/Weekly Assignments/Week_2) are: \n",
    "\n",
    "- 'data/NM_005522.4_HOXA1_human.txt' coding sequence: 95-1102 \n",
    "- 'data/NM_010449.4_HOXA1_mouse.txt' coding sequence: 97-1107\n",
    "- 'data/XM_016945561.2_HOXA1_chimp' coding sequence: 477-1484\n",
    "\n",
    "Note: the positions of the coding sequences are given in 1-based numbering like you would typically see in genome databases.  "
   ]
  },
  {
   "cell_type": "markdown",
   "metadata": {},
   "source": [
    "### QUESTION 1a"
   ]
  },
  {
   "cell_type": "code",
   "execution_count": 15,
   "metadata": {
    "collapsed": false
   },
   "outputs": [],
   "source": [
    "#Change your working directory to /opt/humbio51/Weekly Assignments/Week_2"
   ]
  },
  {
   "cell_type": "markdown",
   "metadata": {},
   "source": [
    "### QUESTION 1b"
   ]
  },
  {
   "cell_type": "code",
   "execution_count": 18,
   "metadata": {
    "collapsed": false
   },
   "outputs": [],
   "source": [
    "#Define a variable with the protein sequence that is produced from the human HOX-A1 transcript\n",
    "#Use the helper functions that we defined in class (or your own version) to write out the protein sequence\n",
    "#Print the protein sequence "
   ]
  },
  {
   "cell_type": "markdown",
   "metadata": {},
   "source": [
    "### QUESTION 1c"
   ]
  },
  {
   "cell_type": "code",
   "execution_count": null,
   "metadata": {
    "collapsed": true
   },
   "outputs": [],
   "source": [
    "#Define a variable with the protein sequence that is produced from the mouse HOX-A1 transcript\n",
    "#You can use the helper functions that we defined in class or your own versions\n",
    "#Print the protein sequence "
   ]
  },
  {
   "cell_type": "markdown",
   "metadata": {},
   "source": [
    "### QUESTION 1d"
   ]
  },
  {
   "cell_type": "code",
   "execution_count": null,
   "metadata": {
    "collapsed": true
   },
   "outputs": [],
   "source": [
    "#Define a variable with the protein sequence that is produced from the chimpanzee HOX-A1 transcript\n",
    "#You can use the helper functions that we defined in class or your own versions\n",
    "#Print the protein sequence "
   ]
  },
  {
   "cell_type": "markdown",
   "metadata": {},
   "source": [
    "### QUESTION 1e"
   ]
  },
  {
   "cell_type": "code",
   "execution_count": null,
   "metadata": {
    "collapsed": true
   },
   "outputs": [],
   "source": [
    "#Write the code to run a pairwise sequence alignment between the protein sequence that is produced from\n",
    "#the human HOX-A1 protein and the mouse HOX-A1 protein \n",
    "#Print out the alignment score, clearly identifying which alignment the score is for"
   ]
  },
  {
   "cell_type": "markdown",
   "metadata": {},
   "source": [
    "### QUESTION 1f"
   ]
  },
  {
   "cell_type": "code",
   "execution_count": null,
   "metadata": {
    "collapsed": true
   },
   "outputs": [],
   "source": [
    "#Write the code to run a pairwise sequence alignment between the protein sequence that is produced from\n",
    "#the human HOX-A1 protein and the chimpanzee HOX-A1 protein \n",
    "#Print out the alignment score, clearly identifying which alignment the score is for"
   ]
  },
  {
   "cell_type": "markdown",
   "metadata": {},
   "source": [
    "### QUESTION 1g"
   ]
  },
  {
   "cell_type": "code",
   "execution_count": null,
   "metadata": {
    "collapsed": true
   },
   "outputs": [],
   "source": [
    "#Print out the sequence alignment for the HOX-A1 human protein and HOXA1 chimpanzee protein using the \n",
    "#sequence alignment helper functions. "
   ]
  },
  {
   "cell_type": "markdown",
   "metadata": {},
   "source": [
    "## QUESTION 2"
   ]
  },
  {
   "cell_type": "code",
   "execution_count": null,
   "metadata": {
    "collapsed": true
   },
   "outputs": [],
   "source": [
    "#Write the code to read the NM_005522.4_HOXA1_human.txt FASTA sequence into Python using the BioPython SeqIO package\n",
    "#Have the script print out the identifier and the nucleotide sequence  "
   ]
  },
  {
   "cell_type": "markdown",
   "metadata": {},
   "source": [
    "## QUESTION 3"
   ]
  },
  {
   "cell_type": "markdown",
   "metadata": {
    "collapsed": true
   },
   "source": [
    "Insulin-like growth factor (IGF-1) is a small protein (or peptide) that has important physiological functions in regulating growth. \n",
    "\n",
    "In the hg19/GRCh37 reference genome, the coding sequence for IGF-1 can be found in four exons with the following\n",
    "start and stop sites: \n",
    "\n",
    "- 102,796,285..102,796,344 \n",
    "- 102,813,287..102,813,468\n",
    "- 102,869,461..102,869,577\n",
    "- 102,874,097..102,874,159\n"
   ]
  },
  {
   "cell_type": "code",
   "execution_count": null,
   "metadata": {
    "collapsed": true
   },
   "outputs": [],
   "source": [
    "#Write a BED format file that can be used to obtain the IGF-1 sequence from the hg19/GRCh37 human reference genome"
   ]
  },
  {
   "cell_type": "code",
   "execution_count": null,
   "metadata": {
    "collapsed": true
   },
   "outputs": [],
   "source": [
    "#Write the BEDtools commands to obtain the IGF-1 sequence from the hg19/GRCh37 human reference genome"
   ]
  }
 ],
 "metadata": {
  "anaconda-cloud": {},
  "kernelspec": {
   "display_name": "Python [Root]",
   "language": "python",
   "name": "Python [Root]"
  },
  "language_info": {
   "codemirror_mode": {
    "name": "ipython",
    "version": 3
   },
   "file_extension": ".py",
   "mimetype": "text/x-python",
   "name": "python",
   "nbconvert_exporter": "python",
   "pygments_lexer": "ipython3",
   "version": "3.5.6"
  }
 },
 "nbformat": 4,
 "nbformat_minor": 2
}
