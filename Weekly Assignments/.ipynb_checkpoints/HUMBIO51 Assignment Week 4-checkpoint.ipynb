{
 "cells": [
  {
   "cell_type": "markdown",
   "metadata": {},
   "source": [
    " ## HUMBIO51 Assignment Week 4"
   ]
  },
  {
   "cell_type": "markdown",
   "metadata": {},
   "source": [
    "<ol>\n",
    " <li> <a href=#GeneExpressionIntro>Quantify gene expression and understand units of gene expression levels</a></li>\n",
    " <li> <a href=#GeneExpressionIntro>Interpret a box plot </a></li>\n",
    " <li> <a href=#GeneExpressionIntro>Visualize gene expression variation across cell types and individuals from the GTEx project</a></li>\n",
    " <li><a href=#RNASeqDataFormat>Recognize that data from an RNA-Seq experiment can be processed and stored in a format that can be read into Python</a></li>\n",
    " <li> <a href=#IDHeaderSep>Identify the separator and header in a data table</a></li> \n",
    " <li><a href=#LoadTable> Load a data table in .csv or .tsv format into Python</a></li>\n",
    " <li> <a href=#DataTableDim>Get the dimensions of a data table in Python  </a></li>\n",
    " <li> <a href=#MetaData>Load RNA-Seq metadata for the physiological system of a cell type into Python</a></li> \n",
    " <li> <a href=#Slicing>Slice a data table in Python to select a subset of rows or columns. </a></li> \n",
    " <li> <a href=#Barplot>Make a bar plot from a data table using Python </a></li>\n",
    " <li> <a href=#PCA>Understand what Principal Component analysis is and how it can be used to analyze and visualize variation in large datasets</a></li>\n",
    " <li> <a href=#PCA>Perform prinicipal component analysis to identify clustering patterns in gene expression data </a></li>\n",
    " <li> <a href=#Scatter>Make a scatter plot of the output from principal component analysis</a></li>\n",
    " "
   ]
  },
  {
   "cell_type": "markdown",
   "metadata": {},
   "source": [
    "## QUESTION 1\n",
    "\n",
    "The RNA-Seq data set that we have been using in class ('../datasets/RNAseq/rnaseq_normalized.tsv') includes gene expression data for the HOXA1 gene that we looked at in the the Week 2 Assignment. HOXA1 plays an important role in development. \n",
    "\n",
    "In this question you will look at the gene expression profile of HOXA1 across different samples in the RNA-Seq dataset. \n"
   ]
  },
  {
   "cell_type": "markdown",
   "metadata": {},
   "source": [
    "### QUESTION 1a\n",
    "\n",
    "Fill in the code below to read in the RNA-Seq datatable that we have been using in class into a dataframe using the pandas package. "
   ]
  },
  {
   "cell_type": "code",
   "execution_count": null,
   "metadata": {
    "collapsed": true
   },
   "outputs": [],
   "source": [
    "#Import the pandas package and read in the RNA-Seq dataset that we have been using in class\n",
    "#Print out the first thirty rows of the dataset to the screen  "
   ]
  },
  {
   "cell_type": "markdown",
   "metadata": {},
   "source": [
    "### QUESTION 1b\n",
    "\n",
    "Select the row of '../datasets/RNAseq/rnaseq_normalized.tsv' that has the RNA-seq data for HOXA1"
   ]
  },
  {
   "cell_type": "code",
   "execution_count": null,
   "metadata": {
    "collapsed": true
   },
   "outputs": [],
   "source": [
    "#Select the row of '../datasets/RNAseq/rnaseq_normalized.tsv' that has the RNA-seq data for HOXA1\n",
    "#The identifier for HOXA1 is ENSG00000105991.7\n",
    "#Store the data in a variable that you can refer to for other questions. "
   ]
  },
  {
   "cell_type": "markdown",
   "metadata": {},
   "source": [
    "### QUESTION 1c\n",
    "\n",
    "In class we used the plotnine package to make bar graphs for the number of samples in each system. In this question,  use similar code to make a histogram of the gene expression data for HOXA1 (ie. the row that you selected in Question 1b) across all of the cell types in the RNA-Seq dataset.  \n",
    "\n",
    "NOTE: To change from a bar plot to a histogram change the geom argument from geom=\"bar\" to geom=\"histogram\" \n",
    "\n",
    "Make sure to provide axes labels. Remember that in the normalization step that the RNA-Seq expression data was converted from TPM to log(TPM). "
   ]
  },
  {
   "cell_type": "code",
   "execution_count": null,
   "metadata": {
    "collapsed": true,
    "scrolled": true
   },
   "outputs": [],
   "source": [
    "#Use the plotnine package to make a histogram of the gene expression data for HOXA1"
   ]
  },
  {
   "cell_type": "markdown",
   "metadata": {},
   "source": [
    "### QUESTION 1d\n",
    "\n",
    "Look up HOXA1 in the GTEX portal at the following [link](https://gtexportal.org/home/gene/ENSG00000105991.7). \n",
    "\n",
    "From the boxplot, it appears that HOXA1 is highly expressed in the bladder. \n",
    "\n",
    "What is the median TPM of the samples from the bladder?  \n",
    "\n",
    "#### BEGIN ANSWER #### \n",
    "\n",
    "#### END ANSWER ####\n",
    "\n",
    "How many samples from the bladder were measured?  \n",
    "\n",
    "#### BEGIN ANSWER #### \n",
    "\n",
    "#### END ANSWER ####\n",
    "\n"
   ]
  },
  {
   "cell_type": "markdown",
   "metadata": {},
   "source": [
    "### QUESTION 1e\n",
    "\n",
    "What is the median TPM of the esophagus mucosus samples?  \n",
    "\n",
    "#### BEGIN ANSWER #### \n",
    "\n",
    "#### END ANSWER ####\n",
    "\n",
    "How many esophagus mucosus samples were measured?  \n",
    "\n",
    "#### BEGIN ANSWER #### \n",
    "\n",
    "#### END ANSWER ####"
   ]
  },
  {
   "cell_type": "markdown",
   "metadata": {},
   "source": [
    "### QUESTION 1f\n",
    "\n",
    "Do you have more confidence in the mean TPM value for the bladder samples or the samples from the esophagus? Explain your reasoning.\n",
    "\n",
    "#### BEGIN ANSWER #### \n",
    "\n",
    "#### END ANSWER ####\n"
   ]
  },
  {
   "cell_type": "markdown",
   "metadata": {},
   "source": [
    "### QUESTION 1g\n",
    "\n",
    "In a study on protein-protein interactions, the HOXA1 protein was shown to interact with a protein called TRAF1 [Lambert et al., BMC Dev Biol. 2012; 12: 29](https://www.ncbi.nlm.nih.gov/pmc/articles/PMC3514159/). Select the row of '../datasets/RNAseq/rnaseq_normalized.tsv' that has the RNA-seq data for TRAF1. In this question you will investigate if there is a correlation between the expression levels of HOXA1 (ENSG00000105991.7) and the expression levels of TRAF1 (ENSG00000056558.6) across cell types.  "
   ]
  },
  {
   "cell_type": "code",
   "execution_count": 1,
   "metadata": {
    "collapsed": true
   },
   "outputs": [],
   "source": [
    "#Select the row of '../datasets/RNAseq/rnaseq_normalized.tsv' that has the RNA-seq data for TRAF1\n",
    "#The identifier for TRAF1 is ENSG00000056558.6\n",
    "#Store the data in a variable so you can use it in later questions. "
   ]
  },
  {
   "cell_type": "markdown",
   "metadata": {},
   "source": [
    "### QUESTION 1f\n",
    "Make a scatter plot to look for correlations between the expression levels of HOXA1 (ENSG00000105991.7) and the expression levels of TRAF1 (ENSG00000056558.6) across cell types.  "
   ]
  },
  {
   "cell_type": "code",
   "execution_count": null,
   "metadata": {
    "collapsed": true
   },
   "outputs": [],
   "source": [
    "#Use the plotnine package to make a scatter plot of the expression data for \n",
    "#HOXA1(ENSG00000105991.7) on the x-axis and TRAF1(ENSG00000056558.6) on the y-axis "
   ]
  },
  {
   "cell_type": "markdown",
   "metadata": {},
   "source": [
    "### QUESTION 1g\n",
    "\n",
    "Based on the GTEX portal data for HOXA1 above and for TRAF1(ENSG00000056558.6) at the following [link](https://gtexportal.org/home/gene/TRAF1) how do the expression profiles of HOXA1 and TRAF1 compare?\n",
    "\n",
    "#### BEGIN ANSWER #### \n",
    "\n",
    "#### END ANSWER ####"
   ]
  },
  {
   "cell_type": "markdown",
   "metadata": {
    "collapsed": true
   },
   "source": [
    "### QUESTION 1h\n",
    "\n",
    "Do your plot from 1f and observations from 1g provide evidence to support a correlation between the expression levels of HOXA1 and TRAF1 across cell types? Why or why not?\n",
    "\n",
    "#### BEGIN ANSWER #### \n",
    "\n",
    "#### END ANSWER ####"
   ]
  },
  {
   "cell_type": "markdown",
   "metadata": {},
   "source": [
    "## QUESTION 2\n",
    "\n",
    "In this question you will perform principal component analysis on the RNA-Seq dataset using the same dataset that we used in class. For this question, however, you will use the Nervous, Musculoskeletal, Urinary and Skin systems instead of the systems that we used in class. "
   ]
  },
  {
   "cell_type": "markdown",
   "metadata": {},
   "source": [
    "### QUESTION 2a"
   ]
  },
  {
   "cell_type": "code",
   "execution_count": 1,
   "metadata": {
    "collapsed": true
   },
   "outputs": [],
   "source": [
    "# Make a dataframe with a subset of the RNA-Seq dataset we have been using in class \n",
    "# Select the data for the Nervous, Musculoskeletal, Urinary and Skin Systems "
   ]
  },
  {
   "cell_type": "markdown",
   "metadata": {},
   "source": [
    "### QUESTION 2b"
   ]
  },
  {
   "cell_type": "code",
   "execution_count": null,
   "metadata": {
    "collapsed": true
   },
   "outputs": [],
   "source": [
    "# Perform principal component analysis on the data you defined in question 2a \n",
    "# Decompose the data into 10 principal components \n"
   ]
  },
  {
   "cell_type": "markdown",
   "metadata": {},
   "source": [
    "### QUESTION 2c\n",
    "\n",
    "Make a Scree plot for the ten principal components "
   ]
  },
  {
   "cell_type": "code",
   "execution_count": null,
   "metadata": {
    "collapsed": true
   },
   "outputs": [],
   "source": [
    " #Make a Scree plot for the ten principal components"
   ]
  },
  {
   "cell_type": "markdown",
   "metadata": {},
   "source": [
    "### QUESTION 2d\n",
    "\n",
    "What percent of the variance is explained by the first and second components respectively?"
   ]
  },
  {
   "cell_type": "code",
   "execution_count": null,
   "metadata": {
    "collapsed": true
   },
   "outputs": [],
   "source": [
    "WRITE YOUR ANSWER HERE: "
   ]
  },
  {
   "cell_type": "markdown",
   "metadata": {},
   "source": [
    "### QUESTION 2e"
   ]
  },
  {
   "cell_type": "code",
   "execution_count": null,
   "metadata": {
    "collapsed": true
   },
   "outputs": [],
   "source": [
    "#Make a scatter plot of principle component 1 (PC1) vs principle component 2 (PC2)\n",
    "#For the pca_results from question 2b. \n"
   ]
  },
  {
   "cell_type": "markdown",
   "metadata": {},
   "source": [
    "### QUESTION 2f (optional): \n",
    "\n",
    "Comment on the output of the PCA analysis in question 2d"
   ]
  },
  {
   "cell_type": "code",
   "execution_count": null,
   "metadata": {
    "collapsed": true
   },
   "outputs": [],
   "source": []
  }
 ],
 "metadata": {
  "anaconda-cloud": {},
  "kernelspec": {
   "display_name": "Python [Root]",
   "language": "python",
   "name": "Python [Root]"
  },
  "language_info": {
   "codemirror_mode": {
    "name": "ipython",
    "version": 3
   },
   "file_extension": ".py",
   "mimetype": "text/x-python",
   "name": "python",
   "nbconvert_exporter": "python",
   "pygments_lexer": "ipython3",
   "version": "3.5.6"
  }
 },
 "nbformat": 4,
 "nbformat_minor": 2
}
