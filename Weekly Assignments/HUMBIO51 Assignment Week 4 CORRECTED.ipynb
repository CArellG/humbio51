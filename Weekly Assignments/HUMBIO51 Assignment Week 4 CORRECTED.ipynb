{
 "cells": [
  {
   "cell_type": "markdown",
   "metadata": {},
   "source": [
    " ## HUMBIO51 Assignment Week 4"
   ]
  },
  {
   "cell_type": "markdown",
   "metadata": {},
   "source": [
    "<ol>\n",
    " <li> <a href=#GeneExpressionIntro>Quantify gene expression and understand units of gene expression levels</a></li>\n",
    " <li> <a href=#GeneExpressionIntro>Interpret a box plot </a></li>\n",
    " <li> <a href=#GeneExpressionIntro>Visualize gene expression variation across cell types and individuals from the GTEx project</a></li>\n",
    " <li><a href=#RNASeqDataFormat>Recognize that data from an RNA-Seq experiment can be processed and stored in a format that can be read into Python</a></li>\n",
    " <li> <a href=#IDHeaderSep>Identify the separator and header in a data table</a></li> \n",
    " <li><a href=#LoadTable> Load a data table in .csv or .tsv format into Python</a></li>\n",
    " <li> <a href=#DataTableDim>Get the dimensions of a data table in Python  </a></li>\n",
    " <li> <a href=#MetaData>Load RNA-Seq metadata for the physiological system of a cell type into Python</a></li> \n",
    " <li> <a href=#Slicing>Slice a data table in Python to select a subset of rows or columns. </a></li> \n",
    " <li> <a href=#Barplot>Make a bar plot from a data table using Python </a></li>\n",
    " <li> <a href=#PCA>Understand what Principal Component analysis is and how it can be used to analyze and visualize variation in large datasets</a></li>\n",
    " <li> <a href=#PCA>Perform prinicipal component analysis to identify clustering patterns in gene expression data </a></li>\n",
    " <li> <a href=#Scatter>Make a scatter plot of the output from principal component analysis</a></li>\n",
    " "
   ]
  },
  {
   "cell_type": "markdown",
   "metadata": {},
   "source": [
    "## QUESTION 1\n",
    "\n",
    "In the RNAseq data set that we have been using in class ('../datasets/RNAseq/rnaseq_normalized.tsv') there are RNA-seq data measuring the expression of a gene called TGFBI. \n",
    "\n",
    "Mutations in TGFBI have been found in individuals with an eye disease called corneal dystrophy.\n",
    "\n",
    "In this question you will investigate the gene expression profile of TGFBI. \n"
   ]
  },
  {
   "cell_type": "markdown",
   "metadata": {},
   "source": [
    "### QUESTION 1a\n",
    "\n",
    "Fill in the code below to read in the RNA-Seq datatable that we have been using in class into a dataframe using the pandas package. "
   ]
  },
  {
   "cell_type": "code",
   "execution_count": null,
   "metadata": {
    "collapsed": true
   },
   "outputs": [],
   "source": [
    "#Import the pandas and plotnine package and read in the RNA-Seq dataset that we have been using in class\n",
    "\n",
    "import pandas as pd \n",
    "from plotnine import * \n",
    "\n",
    "# Read in the RNA-Seq datatable\n",
    "#YOUR ANSWER HERE\n"
   ]
  },
  {
   "cell_type": "markdown",
   "metadata": {},
   "source": [
    "### QUESTION 1b"
   ]
  },
  {
   "cell_type": "code",
   "execution_count": null,
   "metadata": {
    "collapsed": true
   },
   "outputs": [],
   "source": [
    "#Select the row of '../datasets/RNAseq/rnaseq_normalized.tsv' that has the RNA-seq data for TGFBI  \n",
    "#The identifier for TGFBI is ENSG00000120708.12  \n",
    "#Store the data in a variable that you can refer to for other questions. "
   ]
  },
  {
   "cell_type": "markdown",
   "metadata": {},
   "source": [
    "### QUESTION 1c\n",
    "\n",
    "Using the helper function defined in the box below, make a histogram of the gene expression data for TGFBI (ie. the row that you selected in Question 1b) across all of the cell types in the RNA-Seq dataset. \n",
    "\n",
    "Make sure to provide axes labels. Remember that in the normalization step that the RNA-Seq expression data was converted from TPM to log(TPM). "
   ]
  },
  {
   "cell_type": "code",
   "execution_count": 1,
   "metadata": {
    "scrolled": true
   },
   "outputs": [],
   "source": [
    "# Make a histogram of the gene expression data for TGFBI\n",
    "#YOUR ANSWER HERE"
   ]
  },
  {
   "cell_type": "markdown",
   "metadata": {},
   "source": [
    "### QUESTION 1d\n",
    "\n",
    "Using the GTEX portal for TGFBI (ENSG00000120708.12) at the following [link](https://www.gtexportal.org/home/gene/ENSG00000120708.12) make two observations about the gene expression profile of TGFBI. "
   ]
  },
  {
   "cell_type": "code",
   "execution_count": null,
   "metadata": {
    "collapsed": true
   },
   "outputs": [],
   "source": [
    "WRITE YOUR OBSERVATIONS HERE:"
   ]
  },
  {
   "cell_type": "markdown",
   "metadata": {},
   "source": [
    "### QUESTION 1e\n",
    "\n",
    "SMAD6 is a protein that can affect TGF-beta signaling pathways. In this next example, you are curious to see if there is any correlation between expression levels of TGFBI (ENSG00000120708.12) and SMAD6 (ENSG00000137834.10) across cell types. "
   ]
  },
  {
   "cell_type": "code",
   "execution_count": null,
   "metadata": {
    "collapsed": true
   },
   "outputs": [],
   "source": [
    "#Select the row of '../datasets/RNAseq/rnaseq_normalized.tsv' that has the RNA-seq data for SMAD.   \n",
    "#The identifier for SMAD6 is ENSG00000137834.10\n",
    "#Store the data in a variable so you can use it in later questions. "
   ]
  },
  {
   "cell_type": "markdown",
   "metadata": {},
   "source": [
    "### QUESTION 1f"
   ]
  },
  {
   "cell_type": "code",
   "execution_count": null,
   "metadata": {
    "collapsed": true
   },
   "outputs": [],
   "source": [
    "#Use the qplot command from the plotnine package to make a scatter plot of the expression data for \n",
    "#TGFBI(ENSG00000120708.12) on the x-axis and SMAD6 (ENSG00000120708.12) on the y-axis \n",
    "#HINT: refer to the PCA plots we generated with the *qplot* command in lecture 8. \n"
   ]
  },
  {
   "cell_type": "markdown",
   "metadata": {},
   "source": [
    "### QUESTION 1g\n",
    "\n",
    "Based on the GTEX portal data for TGFBI above and for SMAD6(ENSG00000137834.10) at the following [link](https://www.gtexportal.org/home/gene/ENSG00000137834.10) how do the expression profiles of TGFBI and SMAD6 compare? Are the protein products of these genes likely to interact? "
   ]
  },
  {
   "cell_type": "code",
   "execution_count": null,
   "metadata": {
    "collapsed": true
   },
   "outputs": [],
   "source": [
    "WRITE YOUR OBSERVATIONS HERE: "
   ]
  },
  {
   "cell_type": "markdown",
   "metadata": {},
   "source": [
    "## QUESTION 2\n",
    "\n",
    "In this question you will perform principal component analysis on the RNA-Seq dataset using the same dataset that we used in class. For this question, however, you will use the Nervous, Musculoskeletal, Urinary and Skin systems instead of the systems that we used in class. "
   ]
  },
  {
   "cell_type": "markdown",
   "metadata": {},
   "source": [
    "### QUESTION 2a"
   ]
  },
  {
   "cell_type": "code",
   "execution_count": 1,
   "metadata": {
    "collapsed": true
   },
   "outputs": [],
   "source": [
    "# Make a dataframe with a subset of the RNA-Seq dataset we have been using in class \n",
    "# Select the data for the Nervous, Musculoskeletal, Urinary and Skin Systems \n"
   ]
  },
  {
   "cell_type": "markdown",
   "metadata": {},
   "source": [
    "### QUESTION 2b"
   ]
  },
  {
   "cell_type": "code",
   "execution_count": 3,
   "metadata": {},
   "outputs": [],
   "source": [
    "# Perform principal component analysis on the data you defined in question 2a \n",
    "# Decompose the data into 10 principal components \n",
    "from sklearn.decomposition import PCA as sklearnPCA\n",
    "## YOUR ANSWER HERE "
   ]
  },
  {
   "cell_type": "markdown",
   "metadata": {},
   "source": [
    "### QUESTION 2c\n",
    "\n",
    "Make a Scree plot for the ten principal components."
   ]
  },
  {
   "cell_type": "code",
   "execution_count": 4,
   "metadata": {},
   "outputs": [],
   "source": [
    "#Make a Scree plot for the ten principal components\n",
    "#YOUR ANSWER HERE"
   ]
  },
  {
   "cell_type": "markdown",
   "metadata": {},
   "source": [
    "### QUESTION 2d\n",
    "\n",
    "What percent of the variance is explained by the first and second components respectively?"
   ]
  },
  {
   "cell_type": "code",
   "execution_count": null,
   "metadata": {
    "collapsed": true
   },
   "outputs": [],
   "source": [
    "WRITE YOUR ANSWER HERE: "
   ]
  },
  {
   "cell_type": "markdown",
   "metadata": {},
   "source": [
    "### QUESTION 2e"
   ]
  },
  {
   "cell_type": "code",
   "execution_count": null,
   "metadata": {
    "collapsed": true
   },
   "outputs": [],
   "source": [
    "#Make a scatter plot of principle component 1 (PC1) vs principle component 2 (PC2)\n",
    "#For the pca_results from question 2b. \n"
   ]
  },
  {
   "cell_type": "markdown",
   "metadata": {},
   "source": [
    "### QUESTION 2f (optional): \n",
    "\n",
    "Comment on the output of the PCA analysis in question 2d"
   ]
  },
  {
   "cell_type": "code",
   "execution_count": null,
   "metadata": {
    "collapsed": true
   },
   "outputs": [],
   "source": []
  }
 ],
 "metadata": {
  "kernelspec": {
   "display_name": "Python 3",
   "language": "python",
   "name": "python3"
  },
  "language_info": {
   "codemirror_mode": {
    "name": "ipython",
    "version": 3
   },
   "file_extension": ".py",
   "mimetype": "text/x-python",
   "name": "python",
   "nbconvert_exporter": "python",
   "pygments_lexer": "ipython3",
   "version": "3.5.6"
  }
 },
 "nbformat": 4,
 "nbformat_minor": 2
}
