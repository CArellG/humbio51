{
 "cells": [
  {
   "cell_type": "markdown",
   "metadata": {},
   "source": [
    "## HUMBIO51 Weekly Assignment 2\n",
    " \n",
    " ***Students should be able to***\n",
    "<ol>\n",
    " <li><a href=#Aminoacidsequence>Use the genetic code to determine the amino acid sequence of the protein product of an mRNA sequence </a></li>\n",
    " <li><a href=#PythonDictionary>Make a Python dictionary for the genetic code (also called a look up table)</a> </li>\n",
    " <li><a href=#DefineFunction>Define and call a function in a Python script </a></li>\n",
    " <li><a href=#PredictProteinSequence>Predict a protein sequence from a processed mRNA sequence using a Python dictionary</a></li>\n",
    " <li><a href=#SaveFunction>Save functions to a .py file so they can be used in other programs </a></li> \n",
    "  <li><a href=#ReferenceGenome>Explain what a reference genome is </a></li>\n",
    " <li><a href=#GenomicCoordinates>Explain how genomic coordinates are used to designate the position of a gene or feature in the human reference genome </a></li>\n",
    " <li><a href=#BEDformat>Use genomic coordinates to make a file in BED format </a></li>\n",
    " <li><a href=#makeFASTAfromBED>Use the genomic analysis package Bedtools to make an mRNA sequence with exons from a gene sequence</a></li>\n",
    " <li><a href=#SeqAlignIntro>Identify ways that DNA sequence alignments can provide insights into human biology</a></li>\n",
    " <li><a href=#Import>Import a module into a Python script</a></li>\n",
    " <li><a href=#Package>Explain what a Python package is and how to import modules from a package </a></li>\n",
    "<li><a href=#Align2>Align two sequences using modules from the BioPython package </a></li>\n",
    " <li><a href=#AlignMuscle>Align multiple sequences using modules from the BioPython pacakge</a></li>\n",
    "</ol>"
   ]
  },
  {
   "cell_type": "markdown",
   "metadata": {},
   "source": [
    "## QUESTION 1\n",
    "\n",
    "In class we did pairwise sequence alignments between the human insulin gene and two different insulin genes in mice.  \n",
    "\n",
    "For the first question in this assignment, you will perform pairwise sequence alignments for the protein sequences that are made from these genes. \n",
    "\n",
    "The three files that you will need as a starting point (after you change your working directory to Week_2 are: \n",
    "\n",
    "- '../../class_01_gene_sequences/data/Human-Insulin NM_000207.2.txt', (Coding sequence: 60..392)\n",
    "- '../../class_04_sequence_alignment/data/Mouse Insulin GeneID 16333.txt' (Coding sequence: 327..654)\n",
    "- '../../class_04_sequence_alignment/data/Mouse Insulin GeneID 16444.txt'(Coding sequence: 193..380, 868..1014)\n",
    "\n",
    "Note: the positions of the coding sequences are given in 1-based numbering like you would typically see in genome databases. \n",
    "\n",
    "In questions 1a-1c, the protein sequences by calling helper functions to convert the DNA to RNA sequences and the RNA to protein sequences. "
   ]
  },
  {
   "cell_type": "markdown",
   "metadata": {},
   "source": [
    "### QUESTION 1a"
   ]
  },
  {
   "cell_type": "code",
   "execution_count": null,
   "metadata": {},
   "outputs": [],
   "source": [
    "#Change your working directory to /opt/humbio51/Weekly Assignments/Week_2"
   ]
  },
  {
   "cell_type": "markdown",
   "metadata": {},
   "source": [
    "### QUESTION 1b"
   ]
  },
  {
   "cell_type": "code",
   "execution_count": null,
   "metadata": {},
   "outputs": [],
   "source": [
    "#Define a variable with the protein sequence that is produced from the Human Insulin NM_000207.2 transcript\n",
    "#Use the helper functions that we defined in class (or your own versions of the helper functions)\n",
    "#Print the protein sequence "
   ]
  },
  {
   "cell_type": "markdown",
   "metadata": {},
   "source": [
    "### QUESTION 1c"
   ]
  },
  {
   "cell_type": "code",
   "execution_count": null,
   "metadata": {},
   "outputs": [],
   "source": [
    "#Define a variable with the protein sequence that is produced from the Mouse Insulin GeneID 16333 \n",
    "#Use the helper functions that we defined in class (or your own versions of the helper functions)\n",
    "#Print the protein sequence "
   ]
  },
  {
   "cell_type": "markdown",
   "metadata": {},
   "source": [
    "### QUESTION 1d"
   ]
  },
  {
   "cell_type": "code",
   "execution_count": null,
   "metadata": {},
   "outputs": [],
   "source": [
    "#Define a variable with the protein sequence that is produced from the Mouse Insulin GeneID 16334\n",
    "#Use the helper functions that we defined in class (or your own versions of the helper functions)\n",
    "#Print the protein sequence "
   ]
  },
  {
   "cell_type": "markdown",
   "metadata": {},
   "source": [
    "### QUESTION 1e"
   ]
  },
  {
   "cell_type": "code",
   "execution_count": null,
   "metadata": {},
   "outputs": [],
   "source": [
    "#Write the code to run a pairwise sequence alignment between the protein sequence that is produced from\n",
    "#Mouse Insulin GeneID 16333 (Ins1) and the Human Insulin protein sequence. \n"
   ]
  },
  {
   "cell_type": "markdown",
   "metadata": {},
   "source": [
    "### QUESTION 1f"
   ]
  },
  {
   "cell_type": "code",
   "execution_count": null,
   "metadata": {},
   "outputs": [],
   "source": [
    "#Write the code to run a pairwise sequence alignment between the protein sequence that is produced from\n",
    "#Mouse Insulin GeneID 16334 (Ins2) and the Human Insulin protein sequence.\n"
   ]
  },
  {
   "cell_type": "markdown",
   "metadata": {},
   "source": [
    "## QUESTION 2\n",
    "\n",
    "You are going to write a script to run a multiple sequence alignment between the protein sequences that are produced from Mouse Insulin Gene ID 16333, Mouse Insulin Gene ID 16334 and the Human Insulin Sequence.\n",
    "\n",
    "First you need to prepapre the input file in question 2a. "
   ]
  },
  {
   "cell_type": "markdown",
   "metadata": {},
   "source": [
    "### QUESTION 2a\n",
    "\n",
    "Use the template below to make the input file (Human_and_Mouse_Genes.fa) for the multiple sequence alignment. "
   ]
  },
  {
   "cell_type": "code",
   "execution_count": null,
   "metadata": {},
   "outputs": [],
   "source": [
    "%%writefile data/Human_and_Mouse_Insulin_Proteins.fa \n",
    ">IDENTIFIER1\n",
    "PASTEPROTEINSEQUENCE1HERE\n",
    ">IDENTIFIER2\n",
    "PASTEPROTEINSEQUENCE2HERE\n",
    ">IDENTIFIER3\n",
    "PASTEPROTEINSEQUENCE3HERE"
   ]
  },
  {
   "cell_type": "code",
   "execution_count": null,
   "metadata": {},
   "outputs": [],
   "source": [
    "#Write the code to run a multiple sequence alignment between the protein sequences that are produced from\n",
    "#Mouse Insulin Gene ID 16333, Mouse Insulin Gene ID 16334 and the Human Insulin Sequence\n"
   ]
  },
  {
   "cell_type": "markdown",
   "metadata": {},
   "source": [
    "## QUESTION 3"
   ]
  },
  {
   "cell_type": "code",
   "execution_count": null,
   "metadata": {},
   "outputs": [],
   "source": [
    "#Write the code to read the Mouse Insulin GeneID 16333.txt FASTA sequence into Python using the BioPython SeqIO package\n",
    "#Have the script print out the identifier and the nucleotide sequence  "
   ]
  },
  {
   "cell_type": "markdown",
   "metadata": {},
   "source": [
    "## QUESTION 4"
   ]
  },
  {
   "cell_type": "markdown",
   "metadata": {
    "collapsed": true
   },
   "source": [
    "Insulin-like growth factor (IGF-1) is a small protein (or peptide) that has important physiological functions in regulating growth. \n",
    "\n",
    "In the hg19/GRCh37 reference genome, the coding sequence for IGF-1 can be found in four exons with the following\n",
    "start and stop sites: \n",
    "\n",
    "- 102,796,285..102,796,344 \n",
    "- 102,813,287..102,813,468\n",
    "- 102,869,461..102,869,577\n",
    "- 102,874,097..102,874,159\n"
   ]
  },
  {
   "cell_type": "code",
   "execution_count": null,
   "metadata": {},
   "outputs": [],
   "source": [
    "#Write a BED format file that can be used to obtain the IGF-1 sequence from the hg19/GRCh37 human reference genome"
   ]
  },
  {
   "cell_type": "code",
   "execution_count": null,
   "metadata": {},
   "outputs": [],
   "source": [
    "#Write the BEDtools commands to obtain the IGF-1 sequence from the hg19/GRCh37 human reference genome"
   ]
  }
 ],
 "metadata": {
  "anaconda-cloud": {},
  "kernelspec": {
   "display_name": "Python 3",
   "language": "python",
   "name": "python3"
  },
  "language_info": {
   "codemirror_mode": {
    "name": "ipython",
    "version": 3
   },
   "file_extension": ".py",
   "mimetype": "text/x-python",
   "name": "python",
   "nbconvert_exporter": "python",
   "pygments_lexer": "ipython3",
   "version": "3.5.3"
  }
 },
 "nbformat": 4,
 "nbformat_minor": 2
}
