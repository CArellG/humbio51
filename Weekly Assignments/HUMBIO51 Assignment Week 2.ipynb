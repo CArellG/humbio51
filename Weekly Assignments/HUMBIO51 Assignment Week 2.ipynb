{
 "cells": [
  {
   "cell_type": "markdown",
   "metadata": {},
   "source": [
    "## HUMBIO51 Weekly Assignment 2\n",
    " \n",
    " ***Students should be able to***\n",
    "<ol>\n",
    " <li><a href=#Aminoacidsequence>Use the genetic code to determine the amino acid sequence of the protein product of an mRNA sequence </a></li>\n",
    " <li><a href=#PythonDictionary>Make a Python dictionary for the genetic code (also called a look up table)</a> </li>\n",
    " <li><a href=#DefineFunction>Define and call a function in a Python script </a></li>\n",
    " <li><a href=#PredictProteinSequence>Predict a protein sequence from a processed mRNA sequence using a Python dictionary</a></li>\n",
    " <li><a href=#SaveFunction>Save functions to a .py file so they can be used in other programs </a></li> \n",
    "  <li><a href=#ReferenceGenome>Explain what a reference genome is </a></li>\n",
    " <li><a href=#GenomicCoordinates>Explain how genomic coordinates are used to designate the position of a gene or feature in the human reference genome </a></li>\n",
    " <li><a href=#BEDformat>Use genomic coordinates to make a file in BED format </a></li>\n",
    " <li><a href=#makeFASTAfromBED>Use the genomic analysis package Bedtools to make an mRNA sequence with exons from a gene sequence</a></li>\n",
    " <li><a href=#SeqAlignIntro>Identify ways that DNA sequence alignments can provide insights into human biology</a></li>\n",
    " <li><a href=#Import>Import a module into a Python script</a></li>\n",
    " <li><a href=#Package>Explain what a Python package is and how to import modules from a package </a></li>\n",
    "<li><a href=#Align2>Align two sequences using modules from the BioPython package </a></li>\n",
    "</ol>"
   ]
  },
  {
   "cell_type": "markdown",
   "metadata": {},
   "source": [
    "## QUESTION 1 "
   ]
  },
  {
   "cell_type": "markdown",
   "metadata": {},
   "source": [
    "For the first question in this assignment, you will investigate the conservation of the p53 protein (produced from the <i>TP53</i> gene), one of the most frequently mutated proteins in human cancers. \n",
    "\n",
    "Below are links to processed mRNA sequences (transcripts) from the <i>TP53</i> gene from humans, chimpanzees and mice. \n",
    "\n",
    "The three files that you will need as a starting point (after you change your working directory to /home/jovyan/Weekly Assignments/Week_2) are: \n",
    "\n",
    "- 'data/NM_000546.5_Human_p53.txt' coding sequence: 203-1384\n",
    "- 'data/NM_001127233.1_Mouse_p53.txt' coding sequence: 158-1303\n",
    "- 'data/XM_001172077.5_Chimp_p53.txt' coding sequence: 203-1384\n",
    "\n",
    "Note: the positions of the coding sequences are given in 1-based numbering like you would typically see in genome databases.  "
   ]
  },
  {
   "cell_type": "markdown",
   "metadata": {},
   "source": [
    "### QUESTION 1a"
   ]
  },
  {
   "cell_type": "code",
   "execution_count": 1,
   "metadata": {
    "jupyter": {
     "outputs_hidden": false
    }
   },
   "outputs": [],
   "source": [
    "#Change your working directory to /home/jovyan/humbio51/Weekly Assignments/Week_2\n"
   ]
  },
  {
   "cell_type": "markdown",
   "metadata": {},
   "source": [
    "### QUESTION 1b"
   ]
  },
  {
   "cell_type": "code",
   "execution_count": 8,
   "metadata": {
    "jupyter": {
     "outputs_hidden": false
    }
   },
   "outputs": [],
   "source": [
    "# 1) Use the helper functions that we defined in class (or your own version) to find the protein sequence produced \n",
    "# from the TP53 human transcript. Store this protein sequence in a variable called \"tp53_protein_human\"\n",
    "\n",
    "# 2) Print the protein sequence \n"
   ]
  },
  {
   "cell_type": "markdown",
   "metadata": {},
   "source": [
    "### QUESTION 1c"
   ]
  },
  {
   "cell_type": "code",
   "execution_count": null,
   "metadata": {
    "collapsed": true,
    "jupyter": {
     "outputs_hidden": true
    }
   },
   "outputs": [],
   "source": [
    "# 1) Use the helper functions that we defined in class (or your own version) to find the protein sequence produced \n",
    "# from the TP53 mouse transcript. Store this protein sequence in a variable called \"tp53_protein_mouse\"\n",
    "\n",
    "# 2) Print the protein sequence "
   ]
  },
  {
   "cell_type": "markdown",
   "metadata": {},
   "source": [
    "### QUESTION 1d"
   ]
  },
  {
   "cell_type": "code",
   "execution_count": null,
   "metadata": {
    "collapsed": true,
    "jupyter": {
     "outputs_hidden": true
    }
   },
   "outputs": [],
   "source": [
    "# 1) Use the helper functions that we defined in class (or your own version) to find the protein sequence produced \n",
    "# from the TP53 chimp transcript. Store this protein sequence in a variable called \"tp53_protein_chimp\"\n",
    "\n",
    "# 2) Print the protein sequence "
   ]
  },
  {
   "cell_type": "markdown",
   "metadata": {},
   "source": [
    "### QUESTION 1e"
   ]
  },
  {
   "cell_type": "code",
   "execution_count": 14,
   "metadata": {
    "collapsed": true,
    "jupyter": {
     "outputs_hidden": true
    }
   },
   "outputs": [],
   "source": [
    "#Write the code to run a pairwise sequence alignment between the protein sequence that is produced from\n",
    "#the human p53 protein and the mouse p53 protein \n",
    "#Print out the alignment score, clearly identifying which alignment the score is for"
   ]
  },
  {
   "cell_type": "markdown",
   "metadata": {},
   "source": [
    "### QUESTION 1f"
   ]
  },
  {
   "cell_type": "code",
   "execution_count": null,
   "metadata": {
    "collapsed": true,
    "jupyter": {
     "outputs_hidden": true
    }
   },
   "outputs": [],
   "source": [
    "#Write the code to run a pairwise sequence alignment between the protein sequence that is produced from\n",
    "#the human p53 protein and the chimpanzee p53 protein \n",
    "#Print out the alignment score, clearly identifying which alignment the score is for"
   ]
  },
  {
   "cell_type": "markdown",
   "metadata": {},
   "source": [
    "### QUESTION 1g"
   ]
  },
  {
   "cell_type": "code",
   "execution_count": null,
   "metadata": {
    "collapsed": true,
    "jupyter": {
     "outputs_hidden": true
    }
   },
   "outputs": [],
   "source": [
    "#Print out the sequence alignment for the p53 human protein and p53 chimpanzee protein using the \n",
    "#sequence alignment helper functions. "
   ]
  },
  {
   "cell_type": "markdown",
   "metadata": {},
   "source": [
    "## QUESTION 2\n",
    "\n",
    "The p63 and p73 genes in humans are closely releated to the p53 gene -- all three genes have a common ancestor. We have downloaded the p63 and p73 gene sequences from NCBI to these files: \n",
    "\n",
    "* data/NG_007550.3_p63_human.txt \n",
    "* data/NG_017035.2_p73_human.txt \n",
    "\n"
   ]
  },
  {
   "cell_type": "code",
   "execution_count": 38,
   "metadata": {
    "jupyter": {
     "outputs_hidden": true
    }
   },
   "outputs": [],
   "source": [
    "#1)Write the code to read the data/NG_007550.3_p63_human.txt and data/NG_017035.2_p73_human.txt FASTA sequences \n",
    "# into Python using the BioPython SeqIO package\n",
    "#2)Have the script print out the identifier and the first 50 bases of the nucleotide sequence for each gene. \n",
    "#3)Which gene is longer, p73 or p63, and by how many bases? "
   ]
  },
  {
   "cell_type": "markdown",
   "metadata": {},
   "source": [
    "## QUESTION 3"
   ]
  },
  {
   "cell_type": "markdown",
   "metadata": {},
   "source": [
    "Insulin-like growth factor (IGF-1) is a small protein (or peptide) that has important physiological functions in regulating growth. \n",
    "\n",
    "In the hg19/GRCh37 reference genome, the coding sequence for IGF-1 can be found in four exons with the following\n",
    "start and stop sites: \n",
    "\n",
    "- 102,796,285..102,796,344 \n",
    "- 102,813,287..102,813,468\n",
    "- 102,869,461..102,869,577\n",
    "- 102,874,097..102,874,159\n",
    "\n",
    "Hint: search for the chromosome where IGF-1 is found in the \"Genomic context\" subsection of the NCBI entry for IGF-1 (https://www.ncbi.nlm.nih.gov/gene/3479). It is listed in the column \"Chr\". "
   ]
  },
  {
   "cell_type": "code",
   "execution_count": null,
   "metadata": {
    "collapsed": true,
    "jupyter": {
     "outputs_hidden": true
    }
   },
   "outputs": [],
   "source": [
    "#Write a BED format file that can be used to obtain the IGF-1 sequence from the hg19/GRCh37 human reference genome"
   ]
  },
  {
   "cell_type": "code",
   "execution_count": null,
   "metadata": {},
   "outputs": [],
   "source": [
    "#Write the BEDtools commands to obtain the IGF-1 sequence from the hg19/GRCh37 human reference genome"
   ]
  },
  {
   "cell_type": "markdown",
   "metadata": {},
   "source": [
    "## QUESTION 4"
   ]
  },
  {
   "cell_type": "markdown",
   "metadata": {},
   "source": [
    "Make a dictionary that will map the gene names below as keys to GENEIDs as values.\n",
    "\n",
    "| GENE  | GENEID |\n",
    "|-------|--------|\n",
    "| INS   | 3630   |\n",
    "| PDGFA | 5154   |\n",
    "| PDGFB | 5155   |\n",
    "| EGF   | 1950   |\n"
   ]
  },
  {
   "cell_type": "code",
   "execution_count": null,
   "metadata": {},
   "outputs": [],
   "source": [
    "#Make a dictionary mapping the gene names above to their corresponding gene ids.\n",
    "#Demonstrate that the dictionary works by using it to print out the gene id for EGF. "
   ]
  }
 ],
 "metadata": {
  "anaconda-cloud": {},
  "kernelspec": {
   "display_name": "Python 3",
   "language": "python",
   "name": "python3"
  },
  "language_info": {
   "codemirror_mode": {
    "name": "ipython",
    "version": 3
   },
   "file_extension": ".py",
   "mimetype": "text/x-python",
   "name": "python",
   "nbconvert_exporter": "python",
   "pygments_lexer": "ipython3",
   "version": "3.7.3"
  }
 },
 "nbformat": 4,
 "nbformat_minor": 4
}
