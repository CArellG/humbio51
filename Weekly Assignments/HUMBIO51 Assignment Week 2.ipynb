{
 "cells": [
  {
   "cell_type": "markdown",
   "metadata": {},
   "source": [
    "## HUMBIO51 Weekly Assignment 2\n",
    " \n",
    " ***Students should be able to***\n",
    "<ol>\n",
    " <li><a href=#Aminoacidsequence>Use the genetic code to determine the amino acid sequence of the protein product of an mRNA sequence </a></li>\n",
    " <li><a href=#PythonDictionary>Make a Python dictionary for the genetic code (also called a look up table)</a> </li>\n",
    " <li><a href=#DefineFunction>Define and call a function in a Python script </a></li>\n",
    " <li><a href=#PredictProteinSequence>Predict a protein sequence from a processed mRNA sequence using a Python dictionary</a></li>\n",
    " <li><a href=#SaveFunction>Save functions to a .py file so they can be used in other programs </a></li> \n",
    "  <li><a href=#ReferenceGenome>Explain what a reference genome is </a></li>\n",
    " <li><a href=#GenomicCoordinates>Explain how genomic coordinates are used to designate the position of a gene or feature in the human reference genome </a></li>\n",
    " <li><a href=#BEDformat>Use genomic coordinates to make a file in BED format </a></li>\n",
    " <li><a href=#makeFASTAfromBED>Use the genomic analysis package Bedtools to make an mRNA sequence with exons from a gene sequence</a></li>\n",
    " <li><a href=#SeqAlignIntro>Identify ways that DNA sequence alignments can provide insights into human biology</a></li>\n",
    " <li><a href=#Import>Import a module into a Python script</a></li>\n",
    " <li><a href=#Package>Explain what a Python package is and how to import modules from a package </a></li>\n",
    "<li><a href=#Align2>Align two sequences using modules from the BioPython package </a></li>\n",
    "</ol>"
   ]
  },
  {
   "cell_type": "markdown",
   "metadata": {},
   "source": [
    "### Note: ### \n",
    "We made a minor update to the syntax of the function \"format_alignment_linebreak\" in the helper file `/opt/humbio51/helpers/sequence_alignment_helpers.py`\n",
    "The function now takes the following arguments: \n",
    "* align1_linebreaks,align2_linebreaks,score,begin,end  --> all same as in class 4 \n",
    "* seq1_id,seq2_id --> are strings of your choosing indicating the sequence names (the are no longer \"id\" properties of SeqIO objects."
   ]
  },
  {
   "cell_type": "markdown",
   "metadata": {},
   "source": [
    "## QUESTION 1 "
   ]
  },
  {
   "cell_type": "markdown",
   "metadata": {},
   "source": [
    "For the first question in this assignment, you will investigate the conservation of the Hox-A1 protein, a protein that plays an important role in human development. \n",
    "\n",
    "Below are links to gene sequences for <i>Hox-A1</i> from humans, chimpanzees and mice. \n",
    "\n",
    "The three files that you will need as a starting point (after you change your working directory to `/opt/humbio51/Weekly Assignments/Week_2`) are: \n",
    "\n",
    "- *data/NM_005522.4_HOXA1_human.txt* coding sequence: 95-1102 \n",
    "- *data/NM_010449.4_HOXA1_mouse.txt* coding sequence: 97-1107\n",
    "- *data/XM_016945561.2_HOXA1_chimp.txt* coding sequence: 477-1484\n",
    "\n",
    "Note: the positions of the coding sequences are given in 1-based numbering like you would typically see in genome databases.  "
   ]
  },
  {
   "cell_type": "markdown",
   "metadata": {},
   "source": [
    "### QUESTION 1a"
   ]
  },
  {
   "cell_type": "code",
   "execution_count": 6,
   "metadata": {},
   "outputs": [],
   "source": [
    "#Change your working directory to /opt/humbio51/Weekly Assignments/Week_2"
   ]
  },
  {
   "cell_type": "markdown",
   "metadata": {},
   "source": [
    "### QUESTION 1b"
   ]
  },
  {
   "cell_type": "code",
   "execution_count": 18,
   "metadata": {},
   "outputs": [],
   "source": [
    "#Define a variable with the 1-letter protein sequence that is produced from the human HOX-A1 transcript\n",
    "#Use the helper functions that we defined in class (or your own version) to write out the 1-letter protein sequence\n",
    "#Print the protein sequence "
   ]
  },
  {
   "cell_type": "markdown",
   "metadata": {},
   "source": [
    "### QUESTION 1c"
   ]
  },
  {
   "cell_type": "code",
   "execution_count": null,
   "metadata": {
    "collapsed": true
   },
   "outputs": [],
   "source": [
    "#Define a variable with the 1-letter protein sequence that is produced from the mouse HOX-A1 transcript\n",
    "#You can use the helper functions that we defined in class or your own versions\n",
    "#Print the protein sequence "
   ]
  },
  {
   "cell_type": "markdown",
   "metadata": {},
   "source": [
    "### QUESTION 1d"
   ]
  },
  {
   "cell_type": "code",
   "execution_count": null,
   "metadata": {
    "collapsed": true
   },
   "outputs": [],
   "source": [
    "#Define a variable with the 1-letter protein sequence that is produced from the chimpanzee HOX-A1 transcript\n",
    "#You can use the helper functions that we defined in class or your own versions\n",
    "#Print the protein sequence "
   ]
  },
  {
   "cell_type": "markdown",
   "metadata": {},
   "source": [
    "### QUESTION 1e"
   ]
  },
  {
   "cell_type": "code",
   "execution_count": null,
   "metadata": {
    "collapsed": true
   },
   "outputs": [],
   "source": [
    "#Write the code to run a pairwise sequence alignment between the human HOX-A1 protein and the mouse HOX-A1 protein \n",
    "#Print out the alignment score, clearly identifying which alignment the score is for"
   ]
  },
  {
   "cell_type": "markdown",
   "metadata": {},
   "source": [
    "### QUESTION 1f"
   ]
  },
  {
   "cell_type": "code",
   "execution_count": null,
   "metadata": {
    "collapsed": true
   },
   "outputs": [],
   "source": [
    "#Write the code to run a pairwise sequence alignment between the human HOX-A1 protein and the chimpanzee HOX-A1 protein \n",
    "#Print out the alignment score, clearly identifying which alignment the score is for"
   ]
  },
  {
   "cell_type": "markdown",
   "metadata": {},
   "source": [
    "### QUESTION 1g"
   ]
  },
  {
   "cell_type": "code",
   "execution_count": null,
   "metadata": {
    "collapsed": true
   },
   "outputs": [],
   "source": [
    "#Print out the sequence alignment for the HOX-A1 human protein and HOXA1 chimpanzee protein using the \n",
    "#sequence alignment helper functions. "
   ]
  },
  {
   "cell_type": "markdown",
   "metadata": {},
   "source": [
    "### QUESTION 1h ### \n",
    "\n",
    "Is the mouse or chimp HOX-A1 protein more similar to the human protein? \n",
    "Why might the protein you listed be more similar to the human protein than the protein from the other species?   \n",
    "\n",
    "```\n",
    "Answer here\n",
    "```"
   ]
  },
  {
   "cell_type": "markdown",
   "metadata": {},
   "source": [
    "## QUESTION 2##"
   ]
  },
  {
   "cell_type": "markdown",
   "metadata": {},
   "source": [
    "We will now look at the alignment of the OR1J2 proteins in human and chimpanzee. \n",
    "\n",
    "Below are links to gene sequences for <i>OR1J2</i> from humans and chimpanzees. \n",
    "\n",
    "The two files that you will need as a starting point (after you change your working directory to `/opt/humbio51/Weekly Assignments/Week_2`) are: \n",
    "\n",
    "- *data/NM_054107_OR1J2_human.txt* coding sequence: 1-942\n",
    "- *data/XM_01961600_OR1J2_chimp.txt* coding sequence: 1712-2731\n",
    "\n",
    "Note: the positions of the coding sequences are given in 1-based numbering like you would typically see in genome databases.  "
   ]
  },
  {
   "cell_type": "markdown",
   "metadata": {},
   "source": [
    "### QUESTION 2a###"
   ]
  },
  {
   "cell_type": "code",
   "execution_count": null,
   "metadata": {},
   "outputs": [],
   "source": [
    "#Write out the pairwise sequence alignment score for the human OR1J2 and chimp OR1J2 proteins "
   ]
  },
  {
   "cell_type": "markdown",
   "metadata": {},
   "source": [
    "### QUESTION 2b ### \n",
    "Thought Question (for completion only). \n",
    "\n",
    "Why might the sequence of the OR1J2 protein be less conserved between human and chimp than the sequence of the HOX-A1 protein?\n",
    "Hint: look up both genes in https://www.genecards.org\n",
    "\n",
    "```\n",
    "Answer here\n",
    "```"
   ]
  },
  {
   "cell_type": "markdown",
   "metadata": {},
   "source": [
    "## QUESTION 3"
   ]
  },
  {
   "cell_type": "code",
   "execution_count": null,
   "metadata": {
    "collapsed": true
   },
   "outputs": [],
   "source": [
    "#Write the code to read the NM_005522.4_HOXA1_human.txt FASTA sequence into Python using the BioPython SeqIO package\n",
    "#Have the script print out the identifier and the nucleotide sequence  "
   ]
  },
  {
   "cell_type": "markdown",
   "metadata": {},
   "source": [
    "## QUESTION 4"
   ]
  },
  {
   "cell_type": "markdown",
   "metadata": {
    "collapsed": true
   },
   "source": [
    "Insulin-like growth factor (IGF-1) is a small protein (or peptide) that has important physiological functions in regulating growth. \n",
    "\n",
    "IGF-1 is on chromosome 12 and is on the - strand\n",
    "\n",
    "In the hg19/GRCh37 reference genome, the coding sequence for IGF-1 can be found in four exons with the following\n",
    "start and stop sites: \n",
    "\n",
    "- 102,796,285..102,796,344 \n",
    "- 102,813,287..102,813,468\n",
    "- 102,869,461..102,869,577\n",
    "- 102,874,097..102,874,159\n"
   ]
  },
  {
   "cell_type": "code",
   "execution_count": null,
   "metadata": {
    "collapsed": true
   },
   "outputs": [],
   "source": [
    "#Write a BED format file that can be used to obtain the IGF-1 sequence from the hg19/GRCh37 human reference genome"
   ]
  },
  {
   "cell_type": "code",
   "execution_count": null,
   "metadata": {
    "collapsed": true
   },
   "outputs": [],
   "source": [
    "#Write the BEDtools commands to obtain the IGF-1 sequence from the hg19/GRCh37 human reference genome"
   ]
  }
 ],
 "metadata": {
  "anaconda-cloud": {},
  "kernelspec": {
   "display_name": "Python 3",
   "language": "python",
   "name": "python3"
  },
  "language_info": {
   "codemirror_mode": {
    "name": "ipython",
    "version": 3
   },
   "file_extension": ".py",
   "mimetype": "text/x-python",
   "name": "python",
   "nbconvert_exporter": "python",
   "pygments_lexer": "ipython3",
   "version": "3.5.6"
  }
 },
 "nbformat": 4,
 "nbformat_minor": 2
}
