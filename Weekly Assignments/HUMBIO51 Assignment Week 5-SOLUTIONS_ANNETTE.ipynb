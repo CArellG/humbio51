{
 "cells": [
  {
   "cell_type": "markdown",
   "metadata": {},
   "source": [
    " ## HUMBIO51 Assignment Week 5"
   ]
  },
  {
   "cell_type": "markdown",
   "metadata": {},
   "source": [
    "<ol>\n",
    " <li> <a href=#wc>Use unix commands to count the number of lines in a file. </a></li>\n",
    " <li> <a href=#GORilla>Use GORilla to perform GO-term enrichment analysis. </a></li>\n",
    " <li> <a href=#GeneExpressionIntro>Visualize gene expression variation across cell types and individuals from the GTEx project</a></li>\n",
    " <li><a href=#RNASeqDataFormat>Use unix \"head\" and \"cat\" commands to merge and split files.</a></li>\n",
    " <li><a href=#RNASeqDataFormat>Construct contingency tables to compute GO-term enrichment likelihoods.</a></li>\n",
    " <li><a href=#RNASeqDataFormat>Write a Python expression for Fisher's exact test.</a></li>\n",
    " <li><a href=#RNASeqDataFormat>Apply Fisher's exact test to compute the probability of observing a particular contingency table.</a></li>\n"
   ]
  },
  {
   "cell_type": "code",
   "execution_count": 1,
   "metadata": {},
   "outputs": [],
   "source": [
    "#Change your working directory to Week_5\n",
    "import os\n",
    "os.chdir('Week_5')"
   ]
  },
  {
   "cell_type": "markdown",
   "metadata": {},
   "source": [
    "## QUESTION 1\n"
   ]
  },
  {
   "cell_type": "markdown",
   "metadata": {},
   "source": [
    "### QUESTION 1a \n",
    "We have downloaded the list of genes associated with GO terms [GO:0006915](http://amigo.geneontology.org/amigo/term/GO:0006915) and [GO:0008380](http://amigo.geneontology.org/amigo/term/GO:0008380). \n",
    "These are located in the Week_5 directory: \n",
    "\n",
    "How many genes are in each list? \n"
   ]
  },
  {
   "cell_type": "code",
   "execution_count": 16,
   "metadata": {},
   "outputs": [
    {
     "name": "stdout",
     "output_type": "stream",
     "text": [
      "GO_0006915_half.enrichments.tsv  GO_0008380.txt\r\n",
      "GO_0006915_half.txt\t\t go-basic.obo\r\n",
      "GO_0006915.ids.txt\t\t goslim_generic.obo\r\n",
      "GO_0006915.txt\t\t\t hg19.assocs\r\n",
      "GO_0008380_half_2.txt\t\t hg19.names.txt\r\n",
      "GO_0008380_half.enrichments.tsv  merged_gene_lists.txt\r\n",
      "GO_0008380_half.txt\t\t tmp.tsv\r\n"
     ]
    }
   ],
   "source": [
    "!ls"
   ]
  },
  {
   "cell_type": "code",
   "execution_count": 4,
   "metadata": {},
   "outputs": [
    {
     "name": "stdout",
     "output_type": "stream",
     "text": [
      "1987 GO_0006915.txt\n",
      "427 GO_0008380.txt\n"
     ]
    }
   ],
   "source": [
    "!wc -l GO_0006915.txt\n",
    "!wc -l GO_0008380.txt"
   ]
  },
  {
   "cell_type": "markdown",
   "metadata": {},
   "source": [
    "ANSWER: \n",
    "\n",
    "Number of genes associated with GO term \"GO:0006915\": \n",
    "\n",
    "Number of genes associated with GO term \"GO:0008380\":\n"
   ]
  },
  {
   "cell_type": "markdown",
   "metadata": {},
   "source": [
    "### QUESTION 1b"
   ]
  },
  {
   "cell_type": "markdown",
   "metadata": {},
   "source": [
    "Use the [GORilla tool](http://cbl-gorilla.cs.technion.ac.il/) to identify Biological Process terms that are significantly enriched for each gene set.\n",
    "* The background gene set is the set of all human genes, stored in the file **hg19.names.txt**. \n",
    "* We consider a GO term to be significantly enriched if the FDR q-value is less than 0.05 \n",
    "\n",
    "What description matches the GO term \"GO:0006915\"? \n",
    "ANSWER: \n",
    "\n",
    "\n",
    "What is the corrected p-value (FDR q-value) for this GO term? \n",
    "\n",
    "ANSWER: \n",
    "\n",
    "\n",
    "\n",
    "What description matches the GO term \"GO:0008380\"? \n",
    "\n",
    "ANSWER: \n",
    "\n",
    "\n",
    "What is the corrected p-value (FDR q-value) for this GO term? \n",
    "\n",
    "ANSWER:\n"
   ]
  },
  {
   "cell_type": "markdown",
   "metadata": {},
   "source": [
    "### QUESTION 1c \n",
    "What would happen to the p-values in the GO term enrichment analysis if only half of the genes in the gene set were available? Let's do this experiment and find out! "
   ]
  },
  {
   "cell_type": "markdown",
   "metadata": {},
   "source": [
    "Use the unix head command to print the first half of **GO_0008380.txt**. Save the genes to files called: \n",
    "**GO_0008380_half.txt** "
   ]
  },
  {
   "cell_type": "code",
   "execution_count": 7,
   "metadata": {},
   "outputs": [
    {
     "name": "stdout",
     "output_type": "stream",
     "text": [
      "213 GO_0008380_half_2.txt\r\n"
     ]
    }
   ],
   "source": [
    "##YOUR CODE HERE \n",
    "!head -n213 GO_0008380.txt > GO_0008380_half_2.txt\n",
    "!wc -l GO_0008380_half_2.txt"
   ]
  },
  {
   "cell_type": "markdown",
   "metadata": {},
   "source": [
    "We can re-run GORilla analysis for GO_0008380_half.txt to examine how our results have changed. However, let's instead find the enriched set of GO terms programmatically using a Python script(you will find that this approach is less tedious than uploading multiple lists of genes to GORilla for analysis in the browser. \n",
    "\n",
    "To perform the analysis programatically, we will use the [goatools](https://github.com/tanghaibao/goatools) Python library. The goatools library provides a script called **find_enrichments.py** to find enriched GO terms in a list of genes. Let's examine the syntax of this script: "
   ]
  },
  {
   "cell_type": "code",
   "execution_count": 15,
   "metadata": {},
   "outputs": [],
   "source": [
    "from goatools import * "
   ]
  },
  {
   "cell_type": "code",
   "execution_count": 14,
   "metadata": {},
   "outputs": [
    {
     "name": "stdout",
     "output_type": "stream",
     "text": [
      "usage: \r\n",
      "python find_enrichment.py study.file population.file gene-association.file\r\n",
      "\r\n",
      "This program returns P-values for functional enrichment in a cluster of study\r\n",
      "genes using Fisher's exact test, and corrected for multiple testing (including\r\n",
      "Bonferroni, Holm, Sidak, and false discovery rate).\r\n",
      "\r\n",
      "About significance cutoff:\r\n",
      "--alpha: test-wise alpha; for each GO term, what significance level to apply\r\n",
      "        (most often you don't need to change this other than 0.05 or 0.01)\r\n",
      "--pval: experiment-wise alpha; for the entire experiment, what significance\r\n",
      "        level to apply after Bonferroni correction\r\n",
      "\r\n",
      "       [-h] [--alpha ALPHA] [--pval PVAL] [--pval_field PVAL_FIELD]\r\n",
      "       [--outfile OUTFILE] [--sections SECTIONS]\r\n",
      "       [--outfile_detail OUTFILE_DETAIL] [--compare] [--ratio RATIO]\r\n",
      "       [--indent] [--obo OBO] [--no_propagate_counts] [--method METHOD]\r\n",
      "       [--pvalcalc PVALCALC] [--min_overlap MIN_OVERLAP] [--goslim GOSLIM]\r\n",
      "       filenames filenames filenames\r\n",
      "\r\n",
      "positional arguments:\r\n",
      "  filenames             data/study data/population data/association\r\n",
      "\r\n",
      "optional arguments:\r\n",
      "  -h, --help            show this help message and exit\r\n",
      "  --alpha ALPHA         Test-wise alpha for multiple testing (default: 0.05)\r\n",
      "  --pval PVAL           Only print results with uncorrected p-value < PVAL.\r\n",
      "                        (default: 0.05)\r\n",
      "  --pval_field PVAL_FIELD\r\n",
      "                        Only print results when PVAL_FIELD < PVAL. (default:\r\n",
      "                        None)\r\n",
      "  --outfile OUTFILE     Write enrichment results into xlsx or tsv file\r\n",
      "                        (default: None)\r\n",
      "  --sections SECTIONS   Use sections file for printing grouped GOEA results.\r\n",
      "                        Example SECTIONS values:\r\n",
      "                        goatools.test_data.sections.gjoneska_pfenning\r\n",
      "                        goatools/test_data/sections/gjoneska_pfenning.py\r\n",
      "                        data/gjoneska_pfenning/sections_in.txt (default: None)\r\n",
      "  --outfile_detail OUTFILE_DETAIL\r\n",
      "                        Write enrichment results into a text file containing\r\n",
      "                        the following information: 1) GOEA GO terms, grouped\r\n",
      "                        into sections 2) List of genes and ASCII art showing\r\n",
      "                        section membership 3) Detailed list of each gene and\r\n",
      "                        GO terms w/their P-values (default: None)\r\n",
      "  --compare             the population file as a comparison group. if this\r\n",
      "                        flag is specified, the population is used as the study\r\n",
      "                        plus the `population/comparison` (default: False)\r\n",
      "  --ratio RATIO         only show values where the difference between study\r\n",
      "                        and population ratios is greater than this. useful for\r\n",
      "                        excluding GO categories with small differences, but\r\n",
      "                        containing large numbers of genes. should be a value\r\n",
      "                        between 1 and 2. (default: None)\r\n",
      "  --indent              indent GO terms (default: False)\r\n",
      "  --obo OBO             Specifies location and name of the obo file (default:\r\n",
      "                        go-basic.obo)\r\n",
      "  --no_propagate_counts\r\n",
      "                        Do not propagate counts to parent terms (default:\r\n",
      "                        False)\r\n",
      "  --method METHOD       Available methods: local( bonferroni sidak holm fdr )\r\n",
      "                        statsmodels( sm_bonferroni sm_sidak holm_sidak sm_holm\r\n",
      "                        simes_hochberg hommel fdr_bh fdr_by fdr_tsbh fdr_tsbky\r\n",
      "                        fdr_gbs ) (default: bonferroni,sidak,holm,fdr_bh)\r\n",
      "  --pvalcalc PVALCALC   fisher fisher_scipy_stats (default: fisher)\r\n",
      "  --min_overlap MIN_OVERLAP\r\n",
      "                        Check that a minimum amount of study genes are in the\r\n",
      "                        population (default: 0.7)\r\n",
      "  --goslim GOSLIM       The GO slim file is used when grouping GO terms.\r\n",
      "                        (default: goslim_generic.obo)\r\n"
     ]
    }
   ],
   "source": [
    "!find_enrichment.py"
   ]
  },
  {
   "cell_type": "markdown",
   "metadata": {},
   "source": [
    "There are 3 required arguments for the script: \n",
    "    \n",
    "    1. The dataset (list of genes in Week_5/GO_0008380_half.txt) \n",
    "    2. The background (list of genes in Week_5/hg19.names.txt) \n",
    "    3. A file that associates gene names to GO terms (Week_5/hg19.assocs). We generated this file in advance -- It contains gene names in column 1 and GO terms associated with this gene in column 2. \n",
    "\n",
    "There are also 2 optional inputs to the script that we will find useful: \n",
    "    1. --outfile\n",
    "    The output file to save enriched GO terms \n",
    "    2. --pval_field=fdr_bh \n",
    "    This argument indicates that the script should only return GO Terms enriched with false discovery rate < 0.05. \n",
    "    \n",
    "Use this information to execute the script **find_enrichment.py** and store the output in a file **Week_5/GO_0008380_half.enrichments.tsv**"
   ]
  },
  {
   "cell_type": "code",
   "execution_count": 29,
   "metadata": {},
   "outputs": [
    {
     "name": "stdout",
     "output_type": "stream",
     "text": [
      "go-basic.obo: fmt(1.2) rel(2018-09-19) 47,343 GO Terms\n",
      "Study: 213 vs. Population 58581\n",
      "\n",
      "Propagating term counts to parents ..\n",
      "4 GO IDs in assc. are not found in the GO-DAG: GO:1901029 GO:0010466 GO:0000122 GO:0035522\n",
      " 32% 18,546 of 58,581 population items found in association\n",
      "100%    205 of    205 study items found in association\n",
      " 96%    205 of    213 study items found in population(58581)\n",
      "Calculating 22,013 uncorrected p-values using fisher\n",
      "  22,013 GO terms are associated with 18,546 of 58,581 population items\n",
      "   3,224 GO terms are associated with    205 of    213 study items\n",
      "     430 GO terms found significant (< 0.05=alpha) after multitest correction: local bonferroni\n",
      "     433 GO terms found significant (< 0.05=alpha) after multitest correction: local sidak\n",
      "     430 GO terms found significant (< 0.05=alpha) after multitest correction: local holm\n",
      "     802 GO terms found significant (< 0.05=alpha) after multitest correction: statsmodels fdr_bh\n",
      "  1,761 of 22,013 results have uncorrected P-values <= 0.05=pval\n",
      "\n",
      "    802 items WROTE: GO_0008380_half.enrichments_2.tsv\n"
     ]
    }
   ],
   "source": [
    "## YOUR CODE HERE ## \n",
    "\n",
    "! find_enrichment.py GO_0008380_half.txt hg19.names.txt hg19.assocs --outfile GO_0008380_half.enrichments_2.tsv --pval_field=fdr_bh"
   ]
  },
  {
   "cell_type": "markdown",
   "metadata": {},
   "source": [
    "Use the Unix **head** command to examine the format of the file \"GO_0008380_half.enrichments.tsv\" "
   ]
  },
  {
   "cell_type": "code",
   "execution_count": 30,
   "metadata": {},
   "outputs": [
    {
     "name": "stdout",
     "output_type": "stream",
     "text": [
      "# GO\tNS\tenrichment\tname\tratio_in_study\tratio_in_pop\tp_uncorrected\tdepth\tstudy_count\tp_bonferroni\tp_sidak\tp_holm\tp_fdr_bh\tstudy_items\r\n",
      "GO:0008334\tBP\te\thistone mRNA metabolic process\t6/205\t22/58581\t1.2537444385186146e-08\t8\t6\t0.00027598676325110266\t0.00026902842573891595\t0.0002759491509179471\t2.9756985156166698e-05\tCPSF2, CPSF3, LSM1, LSM10, NCBP1, NCBP2\r\n",
      "GO:0048026\tBP\te\tpositive regulation of mRNA splicing, via spliceosome\t8/205\t22/58581\t1.2537444385186146e-08\t10\t8\t0.00027598676325110266\t0.00026902842573891595\t0.0002759491509179471\t2.9756985156166698e-05\tCELF3, CELF4, CIRBP, DAZAP1, HMX2, HSPA8, NCBP1, NUP98\r\n",
      "GO:0006379\tBP\te\tmRNA cleavage\t15/205\t22/58581\t1.2537444385186146e-08\t8\t15\t0.00027598676325110266\t0.00026902842573891595\t0.0002759491509179471\t2.9756985156166698e-05\tCPSF1, CPSF2, CPSF3, CPSF4, CPSF7, CSTF2, CSTF2T, CSTF3, ERN1, FIP1L1, NCBP1, NCBP2, NUDT21, PCF11, POLR2I\r\n",
      "GO:0045292\tBP\te\tmRNA cis splicing, via spliceosome\t5/205\t25/58581\t2.5079803212934207e-08\t12\t5\t0.0005520817081263207\t0.0005381623055644222\t0.0005519061495038301\t2.9756985156166698e-05\tCWC15, DCPS, NCBP1, NCBP2, NCBP2L\r\n",
      "GO:0033119\tBP\te\tnegative regulation of RNA splicing\t6/205\t25/58581\t2.5079803212934207e-08\t8\t6\t0.0005520817081263207\t0.0005381623055644222\t0.0005519061495038301\t2.9756985156166698e-05\tC1QBP, CELF4, DYRK1A, HNRNPA2B1, HNRNPK, HNRNPL\r\n",
      "GO:0000245\tBP\te\tspliceosomal complex assembly\t7/205\t25/58581\t2.5079803212934207e-08\t7\t7\t0.0005520817081263207\t0.0005381623055644222\t0.0005519061495038301\t2.9756985156166698e-05\tCRNKL1, DDX1, DDX39B, GCFC2, GEMIN2, GEMIN6, NCBP1\r\n",
      "GO:0031440\tBP\te\tregulation of mRNA 3'-end processing\t5/205\t26/58581\t3.0962953896585115e-08\t9\t5\t0.0006815875041255281\t0.0006644029267134612\t0.000681154022770976\t2.9756985156166698e-05\tCPSF7, NCBP1, NCBP2, NUDT21, PAPOLA\r\n",
      "GO:0061157\tBP\te\tmRNA destabilization\t6/205\t26/58581\t3.0962953896585115e-08\t10\t6\t0.0006815875041255281\t0.0006644029267134612\t0.000681154022770976\t2.9756985156166698e-05\tHNRNPD, HNRNPR, KHSRP, METTL14, METTL16, METTL3\r\n",
      "GO:0060964\tBP\te\tregulation of gene silencing by miRNA\t16/205\t55/58581\t4.2882621837845236e-08\t8\t16\t0.0009439751545164872\t0.0009201751082719938\t0.0009431175020797303\t2.9756985156166698e-05\tDDX5, DHX9, ELAVL1, FMR1, POLR2A, POLR2B, POLR2C, POLR2D, POLR2E, POLR2F, POLR2G, POLR2H, POLR2I, POLR2J, POLR2K, POLR2L\r\n"
     ]
    }
   ],
   "source": [
    "## YOUR CODE HERE ## \n",
    "!head GO_0008380_half.enrichments.tsv"
   ]
  },
  {
   "cell_type": "code",
   "execution_count": 23,
   "metadata": {},
   "outputs": [
    {
     "name": "stdout",
     "output_type": "stream",
     "text": [
      "GO:0008380\tBP\te\tRNA splicing\t173/205\t352/58581\t5.542843157162518e-07\t8\t173\t0.012201460641861851\t0.011893830376237516\t0.012073975249247113\t5.2816997973440706e-05\tACIN1, AFF2, AKAP17A, AKAP8L, ALYREF, AQR, ARL6IP4, BCAS2, BRDT, BUD13, BUD31, C1QBP, CACTIN, CASC3, CCAR1, CCAR2, CD2BP2, CDC40, CDC5L, CDK12, CDK13, CELF3, CELF4, CHERP, CIR1, CLASRP, CLP1, CPSF1, CPSF2, CPSF3, CPSF4, CPSF7, CRNKL1, CSTF1, CSTF2, CSTF2T, CSTF3, CTNNBL1, CWC15, CWC22, CWC25, CWC27, DBR1, DCPS, DDX1, DDX17, DDX23, DDX39A, DDX39B, DDX41, DDX42, DDX46, DDX47, DDX5, DHX15, DHX16, DHX35, DHX38, DHX40, DHX8, DHX9, DNAJC8, ECD, EFTUD2, EIF4A3, ELAVL1, ELAVL2, ERN1, ESRP1, ESRP2, FAM172A, FIP1L1, FMR1, FRG1, FUS, GCFC2, GEMIN2, GEMIN5, GEMIN6, GEMIN7, GPATCH1, GPKOW, GTF2F1, GTF2F2, HABP4, HNRNPA0, HNRNPA1, HNRNPA1L2, HNRNPA2B1, HNRNPA3, HNRNPC, HNRNPD, HNRNPF, HNRNPH1, HNRNPH2, HNRNPH3, HNRNPK, HNRNPL, HNRNPM, HNRNPR, HNRNPU, HNRNPUL1, HSPA8, HTATSF1, IK, ISY1, IVNS1ABP, IWS1, JMJD6, KDM1A, KHSRP, LGALS3, LSM1, LSM10, LSM2, LSM3, LSM4, LSM5, LSM6, LSM7, LSM8, LUC7L3, MAGOH, MAGOHB, MBNL1, MBNL2, MBNL3, METTL14, METTL3, MFAP1, MPHOSPH10, NCBP1, NCBP2, NCBP2L, NOL3, NONO, NOVA1, NOVA2, NSRP1, NUDT21, PABPC1, PABPN1, PAPOLA, PCBP1, PCBP2, PCF11, PDCD7, PHF5A, PLRG1, PNN, POLR2A, POLR2B, POLR2C, POLR2D, POLR2E, POLR2F, POLR2G, POLR2H, POLR2I, POLR2J, POLR2K, POLR2L, PPARGC1A, PPIE, PPIG, PPIH, PPIL1, PPIL3, PPP1R8, PPP1R9B, PPP2CA, PPP2R1A, PPP4R2\r\n"
     ]
    }
   ],
   "source": [
    "## Use the grep command to search for the GO term \"GO:0008380\" in the file tmp.tsv \n",
    "\n",
    "## YOUR CODE HERE ## \n",
    "!grep \"GO:0008380\" GO_0008380_half.enrichments.tsv"
   ]
  },
  {
   "cell_type": "markdown",
   "metadata": {},
   "source": [
    "What is the FDR value of GO:0008380 in this new gene set (hint: the FDR value is stored in the column \"p_fdr_h\")? \n",
    "    \n",
    "ANSWER: \n",
    "    "
   ]
  },
  {
   "cell_type": "markdown",
   "metadata": {},
   "source": [
    "### QUESTION 1d\n",
    "\n",
    "What will happen if we merge the two gene lists together? Will GORilla have more difficulty identifying the enriched GO terms? \n",
    "\n",
    "Use the **cat** command to create a file in called \"merged_gene_lists.txt\" that contains all the genes in \"GO_0008380.txt\" and \"GO:0006915.txt\". \n",
    "\n"
   ]
  },
  {
   "cell_type": "code",
   "execution_count": 27,
   "metadata": {},
   "outputs": [
    {
     "name": "stdout",
     "output_type": "stream",
     "text": [
      "cat: 'GO:0006915.txt': No such file or directory\r\n"
     ]
    }
   ],
   "source": [
    "## YOUR CODE HERE ## \n",
    "!cat GO_0008380.txt GO_0006915.txt > merged_gene_lists_2.txt"
   ]
  },
  {
   "cell_type": "markdown",
   "metadata": {},
   "source": [
    "Re-run the GORilla analysis for the merged file using the **find_enrichment.py** script. Run the grep command to search for GO terms \"GO:0006915\" and \"GO:0008380\""
   ]
  },
  {
   "cell_type": "code",
   "execution_count": 28,
   "metadata": {},
   "outputs": [
    {
     "name": "stdout",
     "output_type": "stream",
     "text": [
      "go-basic.obo: fmt(1.2) rel(2018-09-19) 47,343 GO Terms\n",
      "Study: 427 vs. Population 58581\n",
      "\n",
      "Propagating term counts to parents ..\n",
      "4 GO IDs in assc. are not found in the GO-DAG: GO:0035522 GO:0000122 GO:1901029 GO:0010466\n",
      " 32% 18,546 of 58,581 population items found in association\n",
      "100%    413 of    413 study items found in association\n",
      " 97%    413 of    427 study items found in population(58581)\n",
      "Calculating 22,013 uncorrected p-values using fisher\n",
      "  22,013 GO terms are associated with 18,546 of 58,581 population items\n",
      "   3,968 GO terms are associated with    413 of    427 study items\n",
      "     492 GO terms found significant (< 0.05=alpha) after multitest correction: local bonferroni\n",
      "     494 GO terms found significant (< 0.05=alpha) after multitest correction: local sidak\n",
      "     494 GO terms found significant (< 0.05=alpha) after multitest correction: local holm\n",
      "     904 GO terms found significant (< 0.05=alpha) after multitest correction: statsmodels fdr_bh\n",
      "  1,910 of 22,013 results have uncorrected P-values <= 0.05=pval\n",
      "\n",
      "    904 items WROTE: merged_half.enrichments.tsv\n"
     ]
    }
   ],
   "source": [
    "## YOUR CODE HERE ##  \n",
    "! find_enrichment.py merged_gene_lists_2.txt hg19.names.txt hg19.assocs --outfile merged_half.enrichments.tsv --pval_field=fdr_bh"
   ]
  },
  {
   "cell_type": "markdown",
   "metadata": {
    "scrolled": true
   },
   "source": [
    "What is the FDR p-value (p_fdr_h column) for GO term \"GO:0006915\"\n",
    "\n",
    "ANSWER: \n",
    "\n",
    "What is the FDR p-value for GO term \"GO:0008380\"? \n",
    "\n",
    "ANSWER: \n",
    "\n"
   ]
  },
  {
   "cell_type": "markdown",
   "metadata": {},
   "source": [
    "### QUESTION 1e\n",
    "\n",
    "What would happen if we added random genes from the human genome to the gene set? \n",
    "Below, we have defined the **add_random_genes** function: "
   ]
  },
  {
   "cell_type": "code",
   "execution_count": 31,
   "metadata": {},
   "outputs": [],
   "source": [
    "def add_random_genes(target_gene_list,background_gene_list,n,outf): \n",
    "    \"\"\"\n",
    "    target_gene_list is a list containing the genes in your gene set of interest \n",
    "    background_gene_list is a list containing the genes in the background (i.e. hg19.names.txt)\n",
    "    n is the number of genes from the background that should be randomly inserted into the target_gene_list \n",
    "    outf is the name of the output file for the gene set with the additional random genes \n",
    "    \"\"\"\n",
    "    #We import the numpy random  library to create a random number generator for selecting random genes from the background\n",
    "    from numpy import random \n",
    "    \n",
    "    #select n random genes from the background gene_list, without replacement \n",
    "    randomized=random.choice(background_gene_list,n,replace=False)\n",
    "\n",
    "    #create a new target gene list by adding the random genes to the target gene list \n",
    "    import itertools \n",
    "    randomized_list=itertools.chain(target_gene_list,randomized )\n",
    "    \n",
    "    #open the output file\n",
    "    out=open(outf,'w')\n",
    "    \n",
    "    #write the randomized target list to the output file \n",
    "    out.write('\\n'.join(randomized_list))\n",
    "    "
   ]
  },
  {
   "cell_type": "markdown",
   "metadata": {},
   "source": [
    "Run the add_random_genes function on **GO_0008380_half.txt** with n = 200. Save the resulting gene set in the file **randomized_genes.txt** "
   ]
  },
  {
   "cell_type": "code",
   "execution_count": 46,
   "metadata": {},
   "outputs": [],
   "source": [
    "target_gene_list=open('GO_0008380_half.txt','r').read().split('\\n')"
   ]
  },
  {
   "cell_type": "code",
   "execution_count": 45,
   "metadata": {},
   "outputs": [
    {
     "data": {
      "text/plain": [
       "['AAR2',\n",
       " 'ACIN1',\n",
       " 'AFF2',\n",
       " 'AHNAK',\n",
       " 'AHNAK2',\n",
       " 'AKAP17A',\n",
       " 'AKAP8L',\n",
       " 'ALYREF',\n",
       " 'AQR',\n",
       " 'ARL6IP4',\n",
       " 'BCAS2',\n",
       " 'BRDT',\n",
       " 'BUD13',\n",
       " 'BUD31',\n",
       " 'C1QBP',\n",
       " 'C9orf78',\n",
       " 'CACTIN',\n",
       " 'CASC3',\n",
       " 'CCAR1',\n",
       " 'CCAR2',\n",
       " 'ccnl1-cdk11a_human',\n",
       " 'ccnl2-cdk11a_human',\n",
       " 'CD2BP2',\n",
       " 'CDC40',\n",
       " 'CDC5L',\n",
       " 'CDK12',\n",
       " 'CDK13',\n",
       " 'CELF1',\n",
       " 'CELF2',\n",
       " 'CELF3',\n",
       " 'CELF4',\n",
       " 'CELF5',\n",
       " 'CELF6',\n",
       " 'CHERP',\n",
       " 'CIR1',\n",
       " 'CIRBP',\n",
       " 'CLASRP',\n",
       " 'CLK1',\n",
       " 'CLK2',\n",
       " 'CLK3',\n",
       " 'CLK4',\n",
       " 'CLNS1A',\n",
       " 'CLP1',\n",
       " 'CPSF1',\n",
       " 'CPSF2',\n",
       " 'CPSF3',\n",
       " 'CPSF4',\n",
       " 'CPSF7',\n",
       " 'CRNKL1',\n",
       " 'CSTF1',\n",
       " 'CSTF2',\n",
       " 'CSTF2T',\n",
       " 'CSTF3',\n",
       " 'CTNNBL1',\n",
       " 'CWC15',\n",
       " 'CWC22',\n",
       " 'CWC25',\n",
       " 'CWC27',\n",
       " 'DAZAP1',\n",
       " 'DBR1',\n",
       " 'DCPS',\n",
       " 'DDX1',\n",
       " 'DDX17',\n",
       " 'DDX20',\n",
       " 'DDX23',\n",
       " 'DDX39A',\n",
       " 'DDX39B',\n",
       " 'DDX41',\n",
       " 'DDX42',\n",
       " 'DDX46',\n",
       " 'DDX47',\n",
       " 'DDX5',\n",
       " 'DHX15',\n",
       " 'DHX16',\n",
       " 'DHX35',\n",
       " 'DHX38',\n",
       " 'DHX40',\n",
       " 'DHX8',\n",
       " 'DHX9',\n",
       " 'DNAJC8',\n",
       " 'DYRK1A',\n",
       " 'ECD',\n",
       " 'EFTUD2',\n",
       " 'EIF4A3',\n",
       " 'ELAVL1',\n",
       " 'ELAVL2',\n",
       " 'ERN1',\n",
       " 'ESRP1',\n",
       " 'ESRP2',\n",
       " 'ESS2',\n",
       " 'FAM172A',\n",
       " 'FASTK',\n",
       " 'FIP1L1',\n",
       " 'FMR1',\n",
       " 'FRG1',\n",
       " 'FUS',\n",
       " 'GCFC2',\n",
       " 'GEMIN2',\n",
       " 'GEMIN4',\n",
       " 'GEMIN5',\n",
       " 'GEMIN6',\n",
       " 'GEMIN7',\n",
       " 'GEMIN8',\n",
       " 'GPATCH1',\n",
       " 'GPKOW',\n",
       " 'GTF2F1',\n",
       " 'GTF2F2',\n",
       " 'HABP4',\n",
       " 'HMX2',\n",
       " 'HNRNPA0',\n",
       " 'HNRNPA1',\n",
       " 'HNRNPA1L2',\n",
       " 'HNRNPA2B1',\n",
       " 'HNRNPA3',\n",
       " 'HNRNPC',\n",
       " 'HNRNPD',\n",
       " 'HNRNPF',\n",
       " 'HNRNPH1',\n",
       " 'HNRNPH2',\n",
       " 'HNRNPH3',\n",
       " 'HNRNPK',\n",
       " 'HNRNPL',\n",
       " 'HNRNPLL',\n",
       " 'HNRNPM',\n",
       " 'HNRNPR',\n",
       " 'HNRNPU',\n",
       " 'HNRNPUL1',\n",
       " 'HSPA1A',\n",
       " 'HSPA8',\n",
       " 'HTATSF1',\n",
       " 'I3L521',\n",
       " 'IK',\n",
       " 'ISY1',\n",
       " 'IVNS1ABP',\n",
       " 'IWS1',\n",
       " 'JMJD6',\n",
       " 'KDM1A',\n",
       " 'KHDC4',\n",
       " 'KHDRBS1',\n",
       " 'KHDRBS2',\n",
       " 'KHDRBS3',\n",
       " 'KHSRP',\n",
       " 'LGALS3',\n",
       " 'LSM1',\n",
       " 'LSM10',\n",
       " 'LSM2',\n",
       " 'LSM3',\n",
       " 'LSM4',\n",
       " 'LSM5',\n",
       " 'LSM6',\n",
       " 'LSM7',\n",
       " 'LSM8',\n",
       " 'LUC7L',\n",
       " 'LUC7L2',\n",
       " 'LUC7L3',\n",
       " 'M0R2N4',\n",
       " 'M0R3G1',\n",
       " 'MAGOH',\n",
       " 'MAGOHB',\n",
       " 'MBNL1',\n",
       " 'MBNL2',\n",
       " 'MBNL3',\n",
       " 'METTL14',\n",
       " 'METTL16',\n",
       " 'METTL3',\n",
       " 'MFAP1',\n",
       " 'MPHOSPH10',\n",
       " 'MTREX',\n",
       " 'MYOD1',\n",
       " 'NCBP1',\n",
       " 'NCBP2',\n",
       " 'NCBP2L',\n",
       " 'NOL3',\n",
       " 'NONO',\n",
       " 'NOVA1',\n",
       " 'NOVA2',\n",
       " 'NSRP1',\n",
       " 'NUDT21',\n",
       " 'NUP98',\n",
       " 'PABPC1',\n",
       " 'PABPN1',\n",
       " 'PAPOLA',\n",
       " 'PCBP1',\n",
       " 'PCBP2',\n",
       " 'PCF11',\n",
       " 'PDCD7',\n",
       " 'PHF5A',\n",
       " 'PIK3R1',\n",
       " 'PLRG1',\n",
       " 'PNN',\n",
       " 'POLR2A',\n",
       " 'POLR2B',\n",
       " 'POLR2C',\n",
       " 'POLR2D',\n",
       " 'POLR2E',\n",
       " 'POLR2F',\n",
       " 'POLR2G',\n",
       " 'POLR2H',\n",
       " 'POLR2I',\n",
       " 'POLR2J',\n",
       " 'POLR2K',\n",
       " 'POLR2L',\n",
       " 'PPARGC1A',\n",
       " 'PPIE',\n",
       " 'PPIG',\n",
       " 'PPIH',\n",
       " 'PPIL1',\n",
       " 'PPIL3',\n",
       " 'PPP1R8',\n",
       " 'PPP1R9B',\n",
       " 'PPP2CA',\n",
       " 'PPP2R1A',\n",
       " 'PPP4R2']"
      ]
     },
     "execution_count": 45,
     "metadata": {},
     "output_type": "execute_result"
    }
   ],
   "source": [
    "target_gene_list "
   ]
  },
  {
   "cell_type": "code",
   "execution_count": 63,
   "metadata": {},
   "outputs": [
    {
     "name": "stdout",
     "output_type": "stream",
     "text": [
      "213 GO_0008380_half.txt\n",
      "412 randomized_genes.txt\n",
      "58581 hg19.names.txt\n"
     ]
    }
   ],
   "source": [
    "## YOUR CODE HERE \n",
    "target_gene_list=open('GO_0008380_half.txt','r').read()\n",
    "background_gene_list=open(\"hg19.names.txt\",'r').read().split('\\n')\n",
    "target_gene_list=target_gene_list.split('\\n')\n",
    "add_random_genes(target_gene_list,background_gene_list,200,\"randomized_genes_2.txt\")\n",
    "!wc -l GO_0008380_half.txt\n",
    "!wc -l randomized_genes.txt\n",
    "!wc -l hg19.names.txt"
   ]
  },
  {
   "cell_type": "markdown",
   "metadata": {},
   "source": [
    "Re-run the GORilla analysis for randomized_genes.txt using the **find_enrichment.py** script."
   ]
  },
  {
   "cell_type": "code",
   "execution_count": 51,
   "metadata": {},
   "outputs": [
    {
     "name": "stdout",
     "output_type": "stream",
     "text": [
      "go-basic.obo: fmt(1.2) rel(2018-09-19) 47,343 GO Terms\n",
      "Study: 413 vs. Population 58581\n",
      "\n",
      "Propagating term counts to parents ..\n",
      "4 GO IDs in assc. are not found in the GO-DAG: GO:0010466 GO:0000122 GO:0035522 GO:1901029\n",
      " 32% 18,546 of 58,581 population items found in association\n",
      " 63%    256 of    405 study items found in association\n",
      " 98%    405 of    413 study items found in population(58581)\n",
      "Calculating 22,013 uncorrected p-values using fisher\n",
      "  22,013 GO terms are associated with 18,546 of 58,581 population items\n",
      "   3,865 GO terms are associated with    256 of    413 study items\n",
      "     332 GO terms found significant (< 0.05=alpha) after multitest correction: local bonferroni\n",
      "     334 GO terms found significant (< 0.05=alpha) after multitest correction: local sidak\n",
      "     334 GO terms found significant (< 0.05=alpha) after multitest correction: local holm\n",
      "     597 GO terms found significant (< 0.05=alpha) after multitest correction: statsmodels fdr_bh\n",
      "  1,516 of 22,013 results have uncorrected P-values <= 0.05=pval\n",
      "\n",
      "    597 items WROTE: randomized.enrichments.tsv\n"
     ]
    }
   ],
   "source": [
    "! find_enrichment.py randomized_genes.txt hg19.names.txt hg19.assocs --outfile randomized.enrichments.tsv --pval_field=fdr_bh"
   ]
  },
  {
   "cell_type": "code",
   "execution_count": 50,
   "metadata": {},
   "outputs": [
    {
     "ename": "SyntaxError",
     "evalue": "invalid syntax (<ipython-input-50-b24092e9a25c>, line 1)",
     "output_type": "error",
     "traceback": [
      "\u001b[0;36m  File \u001b[0;32m\"<ipython-input-50-b24092e9a25c>\"\u001b[0;36m, line \u001b[0;32m1\u001b[0m\n\u001b[0;31m    Run the grep command to search for GO term \"GO:0008380\"\u001b[0m\n\u001b[0m          ^\u001b[0m\n\u001b[0;31mSyntaxError\u001b[0m\u001b[0;31m:\u001b[0m invalid syntax\n"
     ]
    }
   ],
   "source": [
    " Run the grep command to search for GO term \"GO:0008380\""
   ]
  },
  {
   "cell_type": "markdown",
   "metadata": {},
   "source": [
    "How does the p-value for GO term GO:0008380 change in response to adding and removing genes to our list? \n",
    "    \n",
    "    \n",
    "ANSWER: "
   ]
  },
  {
   "cell_type": "markdown",
   "metadata": {},
   "source": [
    "## Question 2\n",
    "\n",
    "We will take a closer look at how the p-value in problem 1e was derived. Refer to the slides from class 10 for helpful tips on generating contingency tables and calculating p-values.\n"
   ]
  },
  {
   "cell_type": "markdown",
   "metadata": {},
   "source": [
    "Fill in the contingency table below with information for: \n",
    "\n",
    "* randomized_genes.txt  as the \"User's gene set\" \n",
    "* GO_0008380.txt as the \"GO term set\". \n",
    "\n",
    "Remember that we added two hundred randomly selected genes (n = 200) to **half** of the GO term set in order to obtain the randomized_genes.txt. \n",
    "\n",
    "Hint: We have written a function to help you calculate the intersection of \"Genes not in User's Gene Set\" and \"Genes not in GO Term set\". This function uses Python [sets](https://docs.python.org/2/library/sets.html), which are similar to lists, but differ in two ways: \n",
    "* the elements in a set are not ordered \n",
    "* all elements in a set are unique \n",
    "\n"
   ]
  },
  {
   "cell_type": "code",
   "execution_count": 66,
   "metadata": {},
   "outputs": [],
   "source": [
    "def get_genes_not_in_user_set_or_go_term_set(genes_in_go_term_set,genes_in_user_set,genes_in_background):\n",
    "    \"\"\"\n",
    "    genes_in_go_term_set is a list containing names of genes associated with the GO term. \n",
    "    genes_in_user_set is a list containing the names of genes in the user's set. \n",
    "    genes_in_background is a list containing the names of genes in the background set. \n",
    "    \"\"\"\n",
    "    #convert all lists to sets to remove duplicated elements \n",
    "    genes_go=set(genes_in_go_term_set)\n",
    "    genes_user=set(genes_in_user_set)\n",
    "    genes_background=set(genes_in_background)\n",
    "    \n",
    "    #subtract the set of genes in the GO term set from the set of genes in the background \n",
    "    background_minus_go=genes_background - genes_go \n",
    "    \n",
    "    #subtract the set of genes in the user set from \"background_minus_go\" \n",
    "    background_minus_go_minus_user=background_minus_go - genes_user \n",
    "    \n",
    "    #return a list containing \"background_minus_go_minus_user\" \n",
    "    return list(background_minus_go_minus_user)\n",
    "\n"
   ]
  },
  {
   "cell_type": "markdown",
   "metadata": {},
   "source": [
    "### Question 2a \n",
    "Use the function \"get_genes_not_in_user_set_or_go_term_set\" to calculate the number at the intersection of \"Genes not in User's Gene Set\" and \"Genes not in GO Term set\". Store this number in the variable \"genes_not_in_either_set\"\n",
    "\n",
    "Remember that you will need to start off by opening the three files:\n",
    "* GO_0008380.txt    \n",
    "* randomized_genes.txt \n",
    "* hg19.names.txt "
   ]
  },
  {
   "cell_type": "code",
   "execution_count": 68,
   "metadata": {},
   "outputs": [
    {
     "name": "stdout",
     "output_type": "stream",
     "text": [
      "58176\n",
      "413\n",
      "214\n"
     ]
    }
   ],
   "source": [
    "#Use get_genes_not_in_user_set_or_go_term_set to calculate the intersection of \n",
    "#\"Genes not in User's Gene Set\" and \"Genes not in GO Term set\".\n",
    "\n",
    "##YOUR CODE HERE ##\n",
    "\n",
    "genes_in_go_term_set=open(\"GO_0008380_half.txt\",'r').read().split('\\n')\n",
    "genes_in_user_set=open(\"randomized_genes.txt\",'r').read().split('\\n')\n",
    "genes_in_background=open(\"hg19.names.txt\",'r').read().split('\\n')\n",
    "background_minus_go_minus_user=get_genes_not_in_user_set_or_go_term_set(genes_in_go_term_set,genes_in_user_set,genes_in_background)\n",
    "print(str(len(background_minus_go_minus_user)))\n",
    "print(str(len(genes_in_user_set)))\n",
    "print(str(len(genes_in_go_term_set)))"
   ]
  },
  {
   "cell_type": "markdown",
   "metadata": {},
   "source": [
    "### Question 2b \n",
    "Now, use the value you obtained in the cell above to help fill in the contingency table: "
   ]
  },
  {
   "cell_type": "markdown",
   "metadata": {},
   "source": [
    "|    Contingency Table     | Genes in User's Gene Set | Genes not in User's Gene Set | Total       |\n",
    "|--------------------------|--------------------------|------------------------------|-------------|\n",
    "| Genes in GO Term set     | YOUR ANSWER              | YOUR ANSWER                  | YOUR ANSWER |\n",
    "| Genes not in GO Term set | YOUR ANSWER              | YOUR ANSWER                  | YOUR ANSWER |\n",
    "| Total                    | YOUR ANSWER              | YOUR ANSWER                  | YOUR ANSWER |"
   ]
  },
  {
   "cell_type": "markdown",
   "metadata": {},
   "source": [
    "### Question 2c \n",
    "\n",
    "Recall from class 10 that Fischer's exact test can be used to calculate the probability of observing a given arrangement of numbers in a contingency table: \n",
    "\n",
    "![Fisher's exact test](../Images/HW_5_FishersTest.png)\n",
    "\n",
    "Fill in the skeleton code below to derive a formula for Fisher's exact test. \n",
    "Hint: We provide a helper function **n_choose_k** that you should incorporate in your code. "
   ]
  },
  {
   "cell_type": "code",
   "execution_count": null,
   "metadata": {},
   "outputs": [],
   "source": [
    "import math\n",
    "def n_choose_k(n,k): \n",
    "    \"\"\"\n",
    "    n = total number of possible outcomes \n",
    "    k = number of outcomes to select at random \n",
    "    \"\"\"\n",
    "    from decimal import Decimal\n",
    "    #We use the Decimal class to help us compute with very large numbers. \n",
    "    #Factorials get very big quickly! \n",
    "    f=math.factorial \n",
    "    return Decimal(f(n))/Decimal(f(k))/Decimal(f(n-k))\n",
    "\n",
    "\n",
    "#Complete this function with your code \n",
    "def fishers_exact_test(genes_in_users_gene_set,\n",
    "                      genes_in_users_gene_set_and_go_term,\n",
    "                      genes_not_in_users_gene_set,\n",
    "                      genes_not_in_users_gene_set_and_in_go_term,\n",
    "                      total,\n",
    "                      genes_in_go_term): \n",
    "    p_value=None \n",
    "    genes_in_users_gene_set=1.0*genes_in_users_gene_set #we convert the integer to a double\n",
    "    #FILL IN THE CODE HERE TO COMPUTE THE PVALUE\n",
    "    \n",
    "    return p_value "
   ]
  },
  {
   "cell_type": "code",
   "execution_count": null,
   "metadata": {},
   "outputs": [],
   "source": [
    "## Execute the fishers_exact_test function to compute the probability of \n",
    "## observing the arrangement of values in your contingency table. \n",
    "## NOTE: The code is computing with very large numbers, so it may take up to 1 minute to run. \n",
    "\n",
    "## YOUR CODE HERE "
   ]
  },
  {
   "cell_type": "markdown",
   "metadata": {},
   "source": [
    "## Question 3\n",
    "We would like to see how the expression of genes associated with GO term \"GO:0030263\" varies across different organs. We will use kmeans clustering to examine this. "
   ]
  },
  {
   "cell_type": "markdown",
   "metadata": {},
   "source": [
    "### Question 3a\n",
    "Load the RNAseq data expression values stored in file **/opt/humbio51/datasets/RNAseq/rnaseq_normalized.tsv** to the variable **rnaseq_data**."
   ]
  },
  {
   "cell_type": "code",
   "execution_count": 71,
   "metadata": {},
   "outputs": [],
   "source": [
    "## YOUR CODE HERE\n",
    "import pandas as pd   \n",
    "\n",
    "# read_table loads a tabular data file into python with tab as the default separator\n",
    "# read_csv loads a tabular data file into python with comma as the deafault separator\n",
    "# header gives the number of the row that will be used for column names\n",
    "\n",
    "#Step 1: Read in the normalized data. \n",
    "rnaseq_data = pd.read_table(\n",
    "      filepath_or_buffer='/opt/humbio51/datasets/RNAseq/rnaseq_normalized.tsv', \n",
    "      header=0,\n",
    "      index_col=0)"
   ]
  },
  {
   "cell_type": "markdown",
   "metadata": {},
   "source": [
    "### Question 3b\n",
    "\n",
    "Recall that the rnaseq_data matrix has gene ids (rather than gene names) in the columns. We have converted the gene names in the file **GO_0006915.txt** to gene id's in the file **GO_0006915.ids.txt**. Extract the rows corresponding to the gene list in **GO_0006915.ids.txt** from **rnaseq_data** and store the subset of gene expression values in the variable **rnaseq_data_subset**. "
   ]
  },
  {
   "cell_type": "code",
   "execution_count": null,
   "metadata": {},
   "outputs": [],
   "source": [
    "## YOUR CODE HERE \n",
    "!grep -f GO_0006915.ids.txt gene_id_to_gene_name.txt > tmp.txt"
   ]
  },
  {
   "cell_type": "markdown",
   "metadata": {},
   "source": [
    "### Question 3c \n",
    "Perform k-means clustering on **rnaseq_data_subset** along the samples axis \n",
    "\n",
    "(hint: consider whether or note the matrix should be transposed to perform clustering along the samples)\n",
    "\n",
    "Try values of k= 3,4,5. \n",
    "Which value of k is most effective in separating samples from clusters? "
   ]
  },
  {
   "cell_type": "code",
   "execution_count": null,
   "metadata": {},
   "outputs": [],
   "source": [
    "from sklearn.cluster import KMeans\n",
    "\n",
    "import sys\n",
    "sys.path.append('/opt/humbio51/helpers')\n",
    "from kmeans_helpers import * \n",
    "\n",
    "\n",
    "## YOUR CODE HERE \n"
   ]
  },
  {
   "cell_type": "markdown",
   "metadata": {},
   "source": [
    "### Question 3d \n",
    "Draw a heatmap of the clustered samples with the optimal value of k from question 3c. "
   ]
  },
  {
   "cell_type": "code",
   "execution_count": null,
   "metadata": {},
   "outputs": [],
   "source": []
  }
 ],
 "metadata": {
  "kernelspec": {
   "display_name": "Python 3",
   "language": "python",
   "name": "python3"
  },
  "language_info": {
   "codemirror_mode": {
    "name": "ipython",
    "version": 3
   },
   "file_extension": ".py",
   "mimetype": "text/x-python",
   "name": "python",
   "nbconvert_exporter": "python",
   "pygments_lexer": "ipython3",
   "version": "3.5.6"
  }
 },
 "nbformat": 4,
 "nbformat_minor": 2
}
