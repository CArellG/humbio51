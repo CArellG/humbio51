{
 "cells": [
  {
   "cell_type": "markdown",
   "metadata": {},
   "source": [
    " ## HUMBIO51 Assignment Week 6"
   ]
  },
  {
   "cell_type": "markdown",
   "metadata": {},
   "source": [
    "##  Learning Objectives\n",
    "***Students should be able to***\n",
    "\n",
    "### How to represent a transcription factor's binding motif and scan sequences for matches \n",
    "\n",
    "<ol> \n",
    " <li> <a href=#PCA2>Perform prinicipal component analysis to identify clustering patterns in a dataset </a></li>\n",
    " <li> <a href=#Scatter>Make a scatter plot of the output from principal component analysis</a></li>\n",
    "<li> <a href=#Introkmeans>Explain what the k-means clustering algorithm is </a></li>\n",
    "<li> <a href=#Runkmeans>Perform k-means clustering to examine groups of samples from an experiment.</a></li>\n",
    "<li> <a href=#heatmap>Interpret data in a heatmap </li>\n",
    "<li>  <a href=#TFMotif>Explain what a transcription factor binding motif is</a> </li>\n",
    "<li> <a href=#ChIPseq>Understand what is a ChIP-seq experiment and how it can be used to identify transcription factor binding genome-wide</a> </li>\n",
    "<li> <a href=#ChipseqBrowser>Visualize transcription factor ChIP-seq experiment in the WashU Genome Browser</a> </li>\n",
    "<li><a href=#Regulator> Explain what a regulatory element is </a></li>\n",
    "<li> <a href=#PromotersEnhancers>Explain what promoters and enhancers are</a></li>\n",
    "</ol> "
   ]
  },
  {
   "cell_type": "markdown",
   "metadata": {},
   "source": [
    "## Question 1: Using k-means analysis to cluster genomic regions by chromatin state "
   ]
  },
  {
   "cell_type": "markdown",
   "metadata": {},
   "source": [
    "We have sampled 10000 regions from the human reference genome at random. Each region is 200 base pairs long. At each of these regions, we have data from a CHIP-Seq experiment within the GM12878 cell (blood cell line) measuring the strength of 5 histone markers: \n",
    "* H3K4me3, \n",
    "* H3K4me1, \n",
    "* H3K36me3, \n",
    "* H3K9me3,\n",
    "* H3K27me3. \n",
    "\n",
    "The data is stored in a file in your Week_6 folder called **region_x_chrom_mark.tsv**\n",
    "\n",
    "This file contains 200 bp genomic regions along the y-axis and values of \"0\", \"0.5\", or \"1\" for each of the 5 histone marks along the x-axis. 0 indicates that the histone mark is not present, 0.5 indicates a weak presence, and 1 indicates a strong presence. \n"
   ]
  },
  {
   "cell_type": "code",
   "execution_count": null,
   "metadata": {},
   "outputs": [],
   "source": [
    "#First, let's import the helper functions you will need to complete the homework: \n",
    "import sys\n",
    "sys.path.append('../helpers')\n",
    "import plotly \n",
    "plotly.offline.init_notebook_mode()\n",
    "import plotly.plotly as py\n",
    "from plotly.graph_objs import * \n",
    "\n",
    "import plotly_helpers \n",
    "from plotly_helpers import * \n",
    "import kmeans_helpers \n",
    "from kmeans_helpers import * \n",
    "from sklearn.cluster import KMeans\n",
    "from sklearn.metrics import silhouette_score,silhouette_samples\n",
    "import pandas as pd\n"
   ]
  },
  {
   "cell_type": "markdown",
   "metadata": {},
   "source": [
    "**Question 1a. Perform principal component analysis on the data matrix in region_x_chrom_mark.tsv. Create a scatter plot to visualize PC1 along the x-axis and PC2 along the y-axis.**\n",
    "\n",
    "Hint: refer to the PCA code from class 8.\n",
    "\n",
    "Hint: We are performing PCA on the genome regions, which are located in the rows of the matrix. Therefore, there is not need to transpose the matrix before running PCA. "
   ]
  },
  {
   "cell_type": "code",
   "execution_count": null,
   "metadata": {},
   "outputs": [],
   "source": [
    "## Your code here ##\n"
   ]
  },
  {
   "cell_type": "markdown",
   "metadata": {},
   "source": [
    "**Question 1b: Looking at the PCA plot, how many clusters would you expect to find in a K-means analysis of this data?**"
   ]
  },
  {
   "cell_type": "markdown",
   "metadata": {},
   "source": [
    "Your answer here:  "
   ]
  },
  {
   "cell_type": "markdown",
   "metadata": {},
   "source": [
    "**Question 1c: Use the k-means clustering algorithm implementation from class 9 to cluster the 10,000 genomic regions. Use values of k = 2,5,15, 20. Which value of K gives the best clustering as measured by the silhouette score ? ** "
   ]
  },
  {
   "cell_type": "code",
   "execution_count": null,
   "metadata": {},
   "outputs": [],
   "source": [
    "## Your code here -- \n",
    "## Remove the number signs to uncomment the code, and replace the question marks with correct values ##\n",
    "\n",
    "#k=?\n",
    "#clusters=scikit_kmeans(?,?,?,?,?)"
   ]
  },
  {
   "cell_type": "markdown",
   "metadata": {},
   "source": [
    "**Quesion 1d. Use your list \"clusters\" from 1b. to plot a bar chart indicating how many genes are assigned to each cluster.**\n"
   ]
  },
  {
   "cell_type": "code",
   "execution_count": null,
   "metadata": {},
   "outputs": [],
   "source": [
    "##  Use the helper function below to generate a dictionary with the counts of genome regions in each cluster. \n",
    "def tally_cluster_counts(clusters): \n",
    "    tally_dict=dict() \n",
    "    for c in clusters: \n",
    "        if c not in tally_dict: \n",
    "            tally_dict[c]=1 \n",
    "        else: \n",
    "            tally_dict[c]+=1 \n",
    "    return tally_dict \n",
    "\n",
    "#YOUR CODE HERE \n",
    "## Call the tally_cluster_counts function on your clusters, and store the output in a variable called \"tally_dict\"\n",
    "#Remove the number signs to uncomment the code, and replace the question marks with correct values ##\n",
    "\n",
    "#tally_dict=? \n",
    "\n",
    "#Plot a bar chart of the values in taly_dict, with keys along the x-axis and values along the y-axis. \n",
    "#Hint: Making a bar chart is very similar to the scatterplots you generated in class 8. \n",
    "\n",
    "\n",
    "#YOUR CODE HERE "
   ]
  },
  {
   "cell_type": "markdown",
   "metadata": {},
   "source": [
    "**Question 1e. Below, we have written a function that will plot a heatmap of your clusters. The x-axis shows the mean of the H3K4me3, H3K4me1, H3K36me3, H3K9me3, and H3K27me3 values for each cluster. The y-axis lists the clusters that you generated. Run this function.**"
   ]
  },
  {
   "cell_type": "code",
   "execution_count": null,
   "metadata": {},
   "outputs": [],
   "source": [
    "import seaborn as sns\n",
    "%matplotlib inline   \n",
    "def plot_cluster_heatmap(data,clusters,k):\n",
    "    '''\n",
    "    k -- the value of k that gave the best clustering of the data. \n",
    "    data -- original data frame with genomic regions along the y-axis and histone marks along the x-axis \n",
    "    clusters -- list of cluster assignments from K-means clustering. \n",
    "    '''\n",
    "    cluster_summary=None\n",
    "    for c in range(k): \n",
    "        #extract the genomic regions assigned to the current cluster c. \n",
    "        cur_subset=data.iloc[np.where(clusters==c)]\n",
    "        #calculate the mean value for each histone mark in cur_subset \n",
    "        mean_histone_vals=np.mean(cur_subset)\n",
    "        if c==0: \n",
    "            cluster_summary=mean_histone_vals \n",
    "        else: \n",
    "            cluster_summary=pd.concat([cluster_summary,mean_histone_vals],axis=1,ignore_index=True)\n",
    "    flatui = [\"#FFFFFF\", \"#CCCCCC\",\"#000000\"]\n",
    "    sns.heatmap(cluster_summary.transpose(),annot=False,cmap=sns.color_palette(flatui))\n"
   ]
  },
  {
   "cell_type": "code",
   "execution_count": null,
   "metadata": {},
   "outputs": [],
   "source": [
    "##YOUR CODE HERE ##"
   ]
  },
  {
   "cell_type": "markdown",
   "metadata": {},
   "source": [
    "The heatmap shows that each cluster corresponds to a distinct pattern of chromatin histone marks. The ChromHMM project has mapped these combinationsn of histone marks to the 15 distinct chromatin states included in the annotation file **15_state_chromHMM_annotations.tsv** : \n",
    "\n",
    "http://egg2.wustl.edu/roadmap/data/byFileType/chromhmmSegmentations/ChmmModels/coreMarks/jointModel/final/annotationEnrichment_RoadmapEp_coreMarks_15State.png.\n",
    "\n",
    "Focus on the \"Emissions\" chart in the top left portion of the table: \n",
    "\n",
    "\n",
    "![ChromHMM 15 state Model](../Images/Weekly_HW_6_ChromHMM.png)\n",
    "\n",
    "**Question 1f. Which cluster maps to which chromatin state? Create a dictionary called \"annotation_dict\" that maps each cluster id to a ChromHMM annotation state.** \n"
   ]
  },
  {
   "cell_type": "code",
   "execution_count": null,
   "metadata": {},
   "outputs": [],
   "source": [
    "annotation_dict=dict() \n",
    "#for example: \n",
    "annotation_dict[0]=\"Heterochromatin\"\n",
    "#Fill in the other cluster - state mappings. "
   ]
  },
  {
   "cell_type": "markdown",
   "metadata": {},
   "source": [
    "## Question 2: Examining transcription factor binding with the WashU Epigenome Browser"
   ]
  },
  {
   "cell_type": "markdown",
   "metadata": {},
   "source": [
    "To complete question 2, you will need an additional file in the Week_6 folder: \n",
    "**region_x_annotation.tsv**\n",
    "\n",
    "This file contains the 15-state chromatin annotation for each of the 10,000 randomly-sampled genomic regions. The first column indicates the \"chromosome_start_end\" of the region, while the second column indicates the chromatin state, as in the chart above, such as \"1_TssA\". "
   ]
  },
  {
   "cell_type": "markdown",
   "metadata": {},
   "source": [
    "**Question 2a.**\n",
    "The code block below implements a function to\n",
    "1. sample a random genomic region from the file region_x_chrom_mark.tsv \n",
    "2. identify the chromatin state for this region from the file 15_state_chromHMM_annotations.tsv \n",
    "3. identify the cluster that this region is assigned to in your \"cluster_dict\" dictionary.     "
   ]
  },
  {
   "cell_type": "code",
   "execution_count": null,
   "metadata": {},
   "outputs": [],
   "source": [
    "import numpy as np \n",
    "from numpy import random \n",
    "def sample_region(clusters,num_regions): \n",
    "    random.seed(1234)\n",
    "    data=open(\"Week_6/region_x_chrom_mark.tsv\",'r').read().strip().split('\\n')\n",
    "    header=data[0].split('\\t')\n",
    "    data=data[1::]\n",
    "    annotations=open(\"Week_6/region_x_annotation.tsv\",'r').read().strip().split('\\n')\n",
    "    anno_header=annotations[0].split('\\t')\n",
    "    annotations=annotations[1::]\n",
    "    regions=[] \n",
    "    print('\\t'.join(header))\n",
    "    for r in range(num_regions): \n",
    "        index=random.randint(0,10000)\n",
    "        cur_matrix_val=data[index]\n",
    "        cur_anno=annotations[index]\n",
    "        cur_cluster=clusters[index]\n",
    "        entry=tuple([cur_matrix_val,cur_anno,cur_cluster])\n",
    "        regions.append(entry)\n",
    "        print(cur_matrix_val+'\\n'+cur_anno+'\\n'+str(cur_cluster)+'\\n----------------------\\n')\n",
    "    return regions"
   ]
  },
  {
   "cell_type": "markdown",
   "metadata": {},
   "source": [
    "Run the function *sample_region*  to select two random regions to examine in the WashU browser."
   ]
  },
  {
   "cell_type": "code",
   "execution_count": null,
   "metadata": {},
   "outputs": [],
   "source": [
    "## Uncomment the code below and replace the question mark with your code##\n",
    "#regions=?"
   ]
  },
  {
   "cell_type": "code",
   "execution_count": null,
   "metadata": {},
   "outputs": [],
   "source": [
    "print(regions)"
   ]
  },
  {
   "cell_type": "markdown",
   "metadata": {},
   "source": [
    "**Question 2b.** \n",
    "\n",
    "Once you have obtained your regions, navigate to the browser session: \n",
    "\n",
    "http://epigenomegateway.wustl.edu/browser/?genome=hg19&session=8KlAnqrs4w&statusId=873262177\n",
    "\n",
    "What transcription factors bind to each region most strongly? "
   ]
  },
  {
   "cell_type": "markdown",
   "metadata": {},
   "source": [
    "Region 1: Three strongest TF's:\n",
    "1. \n",
    "\n",
    "2. \n",
    "\n",
    "3. \n",
    "\n",
    "Region 2: Three strongest TF's:\n",
    "1. \n",
    "\n",
    "2. \n",
    "\n",
    "3. \n",
    "\n"
   ]
  }
 ],
 "metadata": {
  "kernelspec": {
   "display_name": "Python 3",
   "language": "python",
   "name": "python3"
  },
  "language_info": {
   "codemirror_mode": {
    "name": "ipython",
    "version": 3
   },
   "file_extension": ".py",
   "mimetype": "text/x-python",
   "name": "python",
   "nbconvert_exporter": "python",
   "pygments_lexer": "ipython3",
   "version": "3.5.3"
  }
 },
 "nbformat": 4,
 "nbformat_minor": 2
}
