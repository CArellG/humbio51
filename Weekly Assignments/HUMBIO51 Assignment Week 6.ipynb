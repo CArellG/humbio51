{
 "cells": [
  {
   "cell_type": "markdown",
   "metadata": {},
   "source": [
    " ## HUMBIO51 Assignment Week 6"
   ]
  },
  {
   "cell_type": "markdown",
   "metadata": {},
   "source": [
    "##  Learning Objectives\n",
    "***Students should be able to***\n",
    "\n",
    "### How to represent a transcription factor's binding motif and scan sequences for matches \n",
    "\n",
    "<ol> \n",
    "<li>  <a href=#TFMotif>Explain what a transcription factor binding motif is</a> </li>\n",
    "<li> <a href=#ChIPseq>Understand what is a ChIP-seq experiment and how it can be used to identify transcription factor binding genome-wide</a> </li>\n",
    "<li> <a href=#ChipseqBrowser>Visualize transcription factor ChIP-seq experiment in the WashU Genome Browser</a> </li>\n",
    "<li><a href=#Regulator> Explain what a regulatory element is </a></li>\n",
    "<li> <a href=#PromotersEnhancers>Explain what promoters and enhancers are</a></li>\n",
    "<li> <a href=#PSSM>Make a position-specific score matrices (PSSM) from a PWM to use for transcription factor motif-scanning  </a></li>\n",
    " <li><a href=#Scan>Motif scanning along a DNA sequence </a></li>\n",
    " <li> <a href=#Biopython>Become familiar with Biopython functions and modules: Align, Motif</a> </li>\n",
    "</ol> "
   ]
  },
  {
   "cell_type": "code",
   "execution_count": null,
   "metadata": {},
   "outputs": [],
   "source": [
    "#Change your working directory to Week_6\n",
    "import os\n",
    "os.chdir('Week_6')"
   ]
  },
  {
   "cell_type": "markdown",
   "metadata": {},
   "source": [
    "## Question 1: Finding Transcription factor binding sites"
   ]
  },
  {
   "cell_type": "markdown",
   "metadata": {},
   "source": [
    "A [recent study](https://www.ncbi.nlm.nih.gov/pmc/articles/PMC5870105/) has identified several transcription factors that play a role in pancreatic cancer. These include: **PDX1**, **MEIS1**, **HNF1B**, and others. The study also suggests that the gene **TGFB1** might play a role in pancreatic cancer. Our goal in this question is to determine which of these three transcription factors regulate TGFB1, and to identify the location of the transcription factor binding site(s) within the TGFB1 promoter. "
   ]
  },
  {
   "cell_type": "markdown",
   "metadata": {},
   "source": [
    "### Question 1a. \n",
    "The promoter region of the TGFB1 gene will lie within 2kb upstream of the TSS. \n",
    "Find the location of TGFB1 within the hg19 reference genome. You can do this by looking up the gene in the WashU Epigenome Browser: http://epigenomegateway.wustl.edu/browser/ \n",
    "\n",
    "What is the location of the gene along hg19?\n",
    "\n",
    "**ANSWER**: \n",
    "\n",
    "\n",
    "Chromosome: \n",
    "\n",
    "Start Coordinate: \n",
    "\n",
    "End Coordinate: \n",
    "\n",
    "Strand: "
   ]
  },
  {
   "cell_type": "markdown",
   "metadata": {},
   "source": [
    "### Question 1b \n",
    "Generate a bed file called **\"TGFB1.promoter.bed\"** that includes the 2kb region upstream from the start of the TGFB1 gene. \n",
    "\n",
    "Hint: Make sure you consider whether the gene is on the + strand or - strand when determining what constitutes \"upstream\" of the gene.\n",
    "\n",
    "\n",
    "    "
   ]
  },
  {
   "cell_type": "code",
   "execution_count": null,
   "metadata": {},
   "outputs": [],
   "source": [
    "##YOUR CODE HERE \n"
   ]
  },
  {
   "cell_type": "markdown",
   "metadata": {},
   "source": [
    "### Question 1c \n",
    "Use the fastaFromBed command to extract the genetic sequence that corresponds to the positions in TGFB1.promoter.bed  Store the sequence in a file called **tgfb1_promoter.fa**"
   ]
  },
  {
   "cell_type": "code",
   "execution_count": null,
   "metadata": {},
   "outputs": [],
   "source": [
    "## YOUR CODE HERE \n"
   ]
  },
  {
   "cell_type": "markdown",
   "metadata": {},
   "source": [
    "Read in the sequence into a Sequence object using Biopython. Store the \".seq\" attribute of the object in the variable **tgfb1_promoter**"
   ]
  },
  {
   "cell_type": "code",
   "execution_count": null,
   "metadata": {},
   "outputs": [],
   "source": [
    "from Bio import SeqIO\n",
    "## YOUR CODE HERE \n"
   ]
  },
  {
   "cell_type": "markdown",
   "metadata": {},
   "source": [
    "### Question 1d\n",
    "We have downloaded the positions weight matrices (PWM's) for the three motifs of interest from the [HOMER motif database](http://homer.ucsd.edu/homer/motif/HomerMotifDB/homerResults.html). These are stored in the files: \n",
    "\n",
    "* meis1.motif\n",
    "\n",
    "* hnf1b.motif\n",
    "\n",
    "* pdx1.motif\n",
    "\n",
    "Use the unix *cat* command to examine the contents of these files. \n"
   ]
  },
  {
   "cell_type": "code",
   "execution_count": null,
   "metadata": {},
   "outputs": [],
   "source": [
    "## YOUR CODE HERE "
   ]
  },
  {
   "cell_type": "markdown",
   "metadata": {},
   "source": [
    "\n",
    "Next, we will load these files into Biopython Motif objects. We will do this using the **Biopython.motifs.read** function. Note that our motif files are stored in the \"pfm\" (i.e. position frequency matrix) format. First, use the \"help\" command to determine the syntax of the Biopython.motifs.read function"
   ]
  },
  {
   "cell_type": "code",
   "execution_count": null,
   "metadata": {},
   "outputs": [],
   "source": [
    "from Bio import motifs \n",
    "## YOUR CODE HERE \n"
   ]
  },
  {
   "cell_type": "markdown",
   "metadata": {},
   "source": [
    "Follow the example in the help documentation for the function to read in the motif files for meis1, pdx1, and hnf1b into variables. Hint: The syntax in the documentation for the \"motifs/SRF.pfm\" example is very close to the syntax you will need. "
   ]
  },
  {
   "cell_type": "code",
   "execution_count": null,
   "metadata": {},
   "outputs": [],
   "source": [
    "## YOUR CODE HERE \n"
   ]
  },
  {
   "cell_type": "markdown",
   "metadata": {},
   "source": [
    "### Question 1e\n",
    "Before we can scan the promoter sequence of TGFB1 for the three motifs, we will need to transform the motifs from the PWM (also known as PFM) format to the PSSM format. \n",
    "\n",
    "What does PSSM stand for? \n",
    "\n",
    "**ANSWER**: \n",
    "\n",
    "Why do we need to use the PSSM format rather than the PWM format when scanning for a motif in a genome sequence? \n",
    "\n",
    "**ANSWER**: \n",
    "\n"
   ]
  },
  {
   "cell_type": "code",
   "execution_count": null,
   "metadata": {},
   "outputs": [],
   "source": [
    "## Print the pssm for the Meis1 motif. \n",
    "## Hint: the pssm is an attribute of a Motif object in Biopython, so you shouldn't have to write much additional code \n"
   ]
  },
  {
   "cell_type": "markdown",
   "metadata": {},
   "source": [
    "### Question 1f \n",
    "Scan the sequence you stored in the variable **tgfb1_promoter** for each of the three motifs. See \"Motif Scanning with Biopython\" section in class 11. We consider the motif a match to the sequence if it has an alignment score greater than 10. Recall that you can specify the alignment score threshold with the \"threshold\" parameter. "
   ]
  },
  {
   "cell_type": "code",
   "execution_count": null,
   "metadata": {},
   "outputs": [],
   "source": [
    "## Step 1: We encode the tgfb1_promoter Sequence using the same alphabet that was used to encode the motifs\n",
    "from Bio.Seq import Seq\n",
    "from Bio.Alphabet import *\n",
    "tgfb1_promoter.alphabet=meis1.alphabet\n"
   ]
  },
  {
   "cell_type": "code",
   "execution_count": 9,
   "metadata": {},
   "outputs": [],
   "source": [
    "## Step 2: Search for the Meis1 motif in the tgfb1_seq object, store the search result in the variable \"meis1_hits\"\n",
    "\n",
    "##YOUR CODE HERE \n"
   ]
  },
  {
   "cell_type": "code",
   "execution_count": null,
   "metadata": {},
   "outputs": [],
   "source": [
    "## Step 3: Iterate through every [position,score] value in the meis1_hits variable to identify the highest alignment\n",
    "## score and the corresponding position. Fill in the helper function below \n",
    "## Have the function return a default score of -100 and a position of \"None\" if there is no quality alignment of the \n",
    "## motif to the sequence \n",
    "def get_best_alignment(hits): \n",
    "    best_alignment_score=-100\n",
    "    best_alignment_position=None\n",
    "    for [position,score] in hits: \n",
    "\n",
    "        ##YOUR CODE HERE \n",
    "\n",
    "    return best_alignment_score,best_alignment_position"
   ]
  },
  {
   "cell_type": "code",
   "execution_count": 10,
   "metadata": {},
   "outputs": [],
   "source": [
    "## Step 4: Execute the get_best_alignment function to find the best alignment position and score for the Meis1 motif \n",
    "## YOUR CODE HERE "
   ]
  },
  {
   "cell_type": "markdown",
   "metadata": {},
   "source": [
    "### Question 1g\n",
    "Find the best alignment position and score for the PDX1 motif to the TGFB1 promoter "
   ]
  },
  {
   "cell_type": "code",
   "execution_count": 11,
   "metadata": {},
   "outputs": [],
   "source": [
    "##YOUR CODE HERE \n"
   ]
  },
  {
   "cell_type": "markdown",
   "metadata": {},
   "source": [
    "### Question 1h \n",
    "Find the best alignment position and score for the HNF1B motif to the TGFB1 promoter "
   ]
  },
  {
   "cell_type": "code",
   "execution_count": 12,
   "metadata": {},
   "outputs": [],
   "source": [
    "## YOUR CODE HERE \n"
   ]
  },
  {
   "cell_type": "markdown",
   "metadata": {},
   "source": [
    "### Question 1h \n",
    "Do any motifs align well to the TGFB1 gene promoter? \n",
    "\n",
    "**ANSWER** "
   ]
  },
  {
   "cell_type": "markdown",
   "metadata": {},
   "source": [
    "## Question 2: Exploring CHIP-Seq Data"
   ]
  },
  {
   "cell_type": "markdown",
   "metadata": {},
   "source": [
    "We have sampled 10000 regions from the human reference genome at random. At each of these regions, we have data from a CHIP-Seq experiment within the GM12878 cell (blood cell line) measuring the strength of 5 histone markers: \n",
    "\n",
    "* H3K4me3, \n",
    "* H3K4me1, \n",
    "* H3K36me3, \n",
    "* H3K9me3,\n",
    "* H3K27me3. \n",
    "\n",
    "The regions are denoted with the chromosome number, start position and end position. \n",
    "\n",
    "The data is stored as a table in a file in your Week_6 folder called **region_x_chrom_mark.tsv**"
   ]
  },
  {
   "cell_type": "markdown",
   "metadata": {},
   "source": [
    "### Question 2a. \n",
    "Read in the CHIP-Seq data into a pandas dataframe."
   ]
  },
  {
   "cell_type": "code",
   "execution_count": 13,
   "metadata": {},
   "outputs": [],
   "source": [
    "import pandas as pd\n",
    "\n",
    "## YOUR CODE HERE \n"
   ]
  },
  {
   "cell_type": "markdown",
   "metadata": {},
   "source": [
    "### Question 2b. \n",
    "\n",
    "Print out the number of rows and number of columns in the CHIP-seq data. Make sure it is clear which value refers to rows and which to columns. "
   ]
  },
  {
   "cell_type": "code",
   "execution_count": 14,
   "metadata": {},
   "outputs": [],
   "source": [
    "\n",
    "## YOUR CODE HERE \n"
   ]
  },
  {
   "cell_type": "markdown",
   "metadata": {},
   "source": [
    "### Question 2c. \n",
    "\n",
    "Print out just the line for chr4_56321200_56321600. Which of the five histone markers is present in chr4_56321200_56321600?"
   ]
  },
  {
   "cell_type": "code",
   "execution_count": 15,
   "metadata": {},
   "outputs": [],
   "source": [
    "## YOUR CODE HERE"
   ]
  },
  {
   "cell_type": "markdown",
   "metadata": {},
   "source": [
    "### Question 2d. \n",
    "\n",
    "Make histograms of the H3K4me3 and H3K4me1 column to get a sense for the distribution of the range of values for the histone markers. \n"
   ]
  },
  {
   "cell_type": "code",
   "execution_count": 16,
   "metadata": {},
   "outputs": [],
   "source": [
    "from plotnine import * \n",
    "\n",
    "## Make a histogram of the H3K4me3 column \n",
    "## YOUR CODE HERE "
   ]
  },
  {
   "cell_type": "code",
   "execution_count": 17,
   "metadata": {},
   "outputs": [],
   "source": [
    "\n",
    "## Make a histogram of the H3K4me1 column \n",
    "## YOUR CODE HERE \n"
   ]
  },
  {
   "cell_type": "markdown",
   "metadata": {},
   "source": [
    "### Question 2e\n",
    "What are the approximate possible values assigned for the histone markers?\n",
    "\n",
    "**ANSWER HERE**\n"
   ]
  }
 ],
 "metadata": {
  "anaconda-cloud": {},
  "kernelspec": {
   "display_name": "Python 3",
   "language": "python",
   "name": "python3"
  },
  "language_info": {
   "codemirror_mode": {
    "name": "ipython",
    "version": 3
   },
   "file_extension": ".py",
   "mimetype": "text/x-python",
   "name": "python",
   "nbconvert_exporter": "python",
   "pygments_lexer": "ipython3",
   "version": "3.5.6"
  }
 },
 "nbformat": 4,
 "nbformat_minor": 2
}
