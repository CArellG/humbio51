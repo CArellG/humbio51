{
 "cells": [
  {
   "cell_type": "markdown",
   "metadata": {},
   "source": [
    " ## HUMBIO51 Assignment Week 7"
   ]
  },
  {
   "cell_type": "markdown",
   "metadata": {},
   "source": [
    "##  Learning Objectives\n",
    "***Students should be able to***\n",
    "\n",
    "### How to represent a transcription factor's binding motif and scan sequences for matches \n",
    "\n",
    "<ol> \n",
    "<li>  <a href=#TFMotif>Explain what a transcription factor binding motif is</a> </li>\n",
    "<li> <a href=#ChIPseq>Understand what is a ChIP-seq experiment and how it can be used to identify transcription factor binding genome-wide</a> </li>\n",
    "<li><a href=#Regulator> Explain what a regulatory element is </a></li>\n",
    "<li> <a href=#PromotersEnhancers>Explain what promoters and enhancers are</a></li>\n",
    "<li> <a href=#PSSM>Make a position-specific score matrices (PSSM) from a PWM to use for transcription factor motif-scanning  </a></li>\n",
    " <li><a href=#Scan>Motif scanning along a DNA sequence </a></li>\n",
    " <li> <a href=#Biopython>Become familiar with Biopython functions module: Motif</a> </li>\n",
    " <li> <a href=#Sort>Use bedtools commands to sort ChiP-seq peak files by genome coordinates.</a></li>\n",
    "<li> <a href=#Intersect>Use bedtools commands to intersect regions from multiple bed files.</a></li>\n",
    "<li> <a href=#Dict>Use python dictionaries to generate frequencies of transcription factors in active enhancers.</a></li>\n",
    "<li> <a href=#Plot>Generate Bar graphs to visualize the most over-represented transcription factors in GM12878.</a></li>\n",
    "</ol> "
   ]
  },
  {
   "cell_type": "code",
   "execution_count": 1,
   "metadata": {},
   "outputs": [],
   "source": [
    "#Change your working directory to Week_7\n",
    "import os\n",
    "os.chdir('Week_7')"
   ]
  },
  {
   "cell_type": "markdown",
   "metadata": {},
   "source": [
    "## Question 1: Finding Transcription factor binding sites"
   ]
  },
  {
   "cell_type": "markdown",
   "metadata": {},
   "source": [
    "A [study from 2018](https://www.ncbi.nlm.nih.gov/pmc/articles/PMC5870105/) identified several transcription factors that play a role in pancreatic cancer. These include: **PDX1**, **RFX6**, **HNF1B**, and others. The study also suggests that the gene **TGFB1** might play a role in pancreatic cancer. Our goal in this question is to determine which of these three transcription factors regulate TGFB1, and to identify the location of the transcription factor binding site(s) within the TGFB1 promoter. "
   ]
  },
  {
   "cell_type": "markdown",
   "metadata": {},
   "source": [
    "### Question 1a \n",
    "Run the code in the box below to generate a file called TGFB1.promoter.bed that includes the 2kb region upstream from the start of the TGFB1 gene. "
   ]
  },
  {
   "cell_type": "code",
   "execution_count": 2,
   "metadata": {},
   "outputs": [],
   "source": [
    "!echo \"chr19\\t41859838\\t41861838\\t.\\t.\\t-\\n\" > TGFB1.promoter.bed"
   ]
  },
  {
   "cell_type": "code",
   "execution_count": 3,
   "metadata": {},
   "outputs": [
    {
     "name": "stdout",
     "output_type": "stream",
     "text": [
      "chr19\t41859838\t41861838\t.\t.\t-\r\n",
      "\r\n"
     ]
    }
   ],
   "source": [
    "!cat TGFB1.promoter.bed"
   ]
  },
  {
   "cell_type": "markdown",
   "metadata": {},
   "source": [
    "Use the fastaFromBed command to extract the genetic sequence that corresponds to the positions in TGFB1.promoter.bed  Store the sequence in a file called **tgfb1_promoter.fa**"
   ]
  },
  {
   "cell_type": "code",
   "execution_count": 4,
   "metadata": {},
   "outputs": [],
   "source": [
    "## BEGIN SOLUTION\n",
    "!fastaFromBed -fi /data/hg19.genome.fa -bed TGFB1.promoter.bed > tgfb1_promoter.fa\n",
    "##END SOLUTION"
   ]
  },
  {
   "cell_type": "code",
   "execution_count": 5,
   "metadata": {},
   "outputs": [
    {
     "name": "stdout",
     "output_type": "stream",
     "text": [
      ">chr19:41859838-41861838\r\n",
      "GGGTCGGCAGGGGGTTTTGAAGCCGCCCCCGGCCCCACCCAGGAAGCGCACGGGGCGGGAGCGGGGGCGGCCCCCAGGGGGAGGGCATGGGGGGGCTGGGCCACCGTCCTCATCTCGCGTGGGCGGGCTCCGAGGGGGGTCCCTTCAGCCCTGGGGGAAAGGGGGCGGGCACCCCGGCTCCGCCCCGCAAACAGGGTGCTGCCTCCTGGCGGCCAAGCGCCACCAAAGCGGGTGATCCAGATGCGCTGTGGCTTTGCGGGCGGTGTGGGTCACCAGAGAAAGAGGACCAGGCGGAGAAGGCTTAATCCGGGGGATGAGACACAGGGGAGCCGACCAGAGGAGGGGGACCCAGAACGGAAGGAGAGTCAGGCTGGGAAACAAGGTAGGAGAAGAGGGTCTGTCAACATGGGGGCCTCCGGAGGGTGTCAGTGGGAGGAGGGGGCAACAGGACACCTGAAGGATGGAAGGGTCAGGAGGCAGACACCTGTAAGAATTGCTCTCCTTTACTGAGCACCTCCCATGTGGCTAAGCAGCCTCCTGTCACTcaacaccctgcgaccccatacatttactgtccccaatttacagatagggaaactgggcccagagggaccccgaggtcctagaaaggacagaagcggtgccatgccttagctggggtcagctctgacagtctctagagtctgtgctcttgaccactgtgccatcctcccccATCACTGGGTGTCCGGGGTGTGGATGGTGGTGACGTTGGAGGCAGAGTCCCTCAGCACTCCACGCCGTAGCGGTCGAAGTTGCGGAGCAGCAGGCCGATCTCCAGGTGCACGGTGCCACCAGCAGCTGTGTGCAGGCGATAGCGGTCGGCCCCACTGTAGATGGTGTCCCCATGCAGCAGCTGCGGCCCACCACCCACGAAAGCCCGTGCCAACTGTTCTCGCCAACTGCCCAGGGGCCGCCACGTGGGGCAGGCCAGCTGGTGGGTGCCCGGGCTACTGGGCACATGGCAAAATCCATAGCCTGCAAGCTGGCAGCGGCCAAAGCTGTCCTGGGACCACACCTGGAAATGGAGCCGGGGCCAGCCTGCAGGAAAGGAGAGAGAGGGGAAAGGAGGGATGGGTGGGGACCAGACTCCTGCTGATTCCCCACTCCCTGATACTCACTGGAGACCccaggcccagtcttttcctctctgggtttctgtcccagagtttccaacccagcctcctttctaggctcccaccgtcttatctatccccacacagcagccaaagtgatctttccaaatccatgttactcccctgctaaggatccttccatagctccccagtgccctcagtataaagtccaacctcttcaacattcaaggcccttctaatcagacctctgctgaatttcctctctgtgttatcctcctccaTGACCCCATGTCAGGGCAGCCCATTGCTCCTCCAGTCCCCAGGTAACCATCATGGGCCTTGTCAGGGACACCTCCTGCCTTCCCTCATGTCCCTGCCCTGCTCTCTTTGGGCCCAGGGCCTTCTTTCTTGCCCCTCTCTAATCCACCTTCCACCTGGCATCTGGAAGCATCTTTCTCTCCTTCCATAGCTTTGCCCATGTCCTCAGAACACAGTTCAGCTCCTCAGTCTGGTAGTCAAAGCCCTTGGAGATCCAGCCCCATCTCATCTCATGCTGATCCCTTCTCCtgtgctagactctgttctagctagctggggacacggcagacatgaacatggatggcagacaaaaattcctgcccccgtgaagctgatatcctagacaacgaatgtagtaaataagcaaattatagggtagatcagatggtggtaattgctgtgagggaaaacagagctgggtagggtgagggtggggataccgctttagcaagaaggggatcaaggaagcttcattaagaaggtgacatttgagcaaatgctaaaaggaaggaagggagtaggccatgtggccatctagaggaagag\r\n"
     ]
    }
   ],
   "source": [
    "!cat tgfb1_promoter.fa"
   ]
  },
  {
   "cell_type": "markdown",
   "metadata": {},
   "source": [
    "### Question 1b\n",
    "Read in the sequence into a Sequence object using the Biopython SeqIO package (see Class 4 notes). Store the \".seq\" attribute of the object in the variable **tgfb1_promoter**"
   ]
  },
  {
   "cell_type": "code",
   "execution_count": 6,
   "metadata": {},
   "outputs": [
    {
     "name": "stdout",
     "output_type": "stream",
     "text": [
      "GGGTCGGCAGGGGGTTTTGAAGCCGCCCCCGGCCCCACCCAGGAAGCGCACGGGGCGGGAGCGGGGGCGGCCCCCAGGGGGAGGGCATGGGGGGGCTGGGCCACCGTCCTCATCTCGCGTGGGCGGGCTCCGAGGGGGGTCCCTTCAGCCCTGGGGGAAAGGGGGCGGGCACCCCGGCTCCGCCCCGCAAACAGGGTGCTGCCTCCTGGCGGCCAAGCGCCACCAAAGCGGGTGATCCAGATGCGCTGTGGCTTTGCGGGCGGTGTGGGTCACCAGAGAAAGAGGACCAGGCGGAGAAGGCTTAATCCGGGGGATGAGACACAGGGGAGCCGACCAGAGGAGGGGGACCCAGAACGGAAGGAGAGTCAGGCTGGGAAACAAGGTAGGAGAAGAGGGTCTGTCAACATGGGGGCCTCCGGAGGGTGTCAGTGGGAGGAGGGGGCAACAGGACACCTGAAGGATGGAAGGGTCAGGAGGCAGACACCTGTAAGAATTGCTCTCCTTTACTGAGCACCTCCCATGTGGCTAAGCAGCCTCCTGTCACTcaacaccctgcgaccccatacatttactgtccccaatttacagatagggaaactgggcccagagggaccccgaggtcctagaaaggacagaagcggtgccatgccttagctggggtcagctctgacagtctctagagtctgtgctcttgaccactgtgccatcctcccccATCACTGGGTGTCCGGGGTGTGGATGGTGGTGACGTTGGAGGCAGAGTCCCTCAGCACTCCACGCCGTAGCGGTCGAAGTTGCGGAGCAGCAGGCCGATCTCCAGGTGCACGGTGCCACCAGCAGCTGTGTGCAGGCGATAGCGGTCGGCCCCACTGTAGATGGTGTCCCCATGCAGCAGCTGCGGCCCACCACCCACGAAAGCCCGTGCCAACTGTTCTCGCCAACTGCCCAGGGGCCGCCACGTGGGGCAGGCCAGCTGGTGGGTGCCCGGGCTACTGGGCACATGGCAAAATCCATAGCCTGCAAGCTGGCAGCGGCCAAAGCTGTCCTGGGACCACACCTGGAAATGGAGCCGGGGCCAGCCTGCAGGAAAGGAGAGAGAGGGGAAAGGAGGGATGGGTGGGGACCAGACTCCTGCTGATTCCCCACTCCCTGATACTCACTGGAGACCccaggcccagtcttttcctctctgggtttctgtcccagagtttccaacccagcctcctttctaggctcccaccgtcttatctatccccacacagcagccaaagtgatctttccaaatccatgttactcccctgctaaggatccttccatagctccccagtgccctcagtataaagtccaacctcttcaacattcaaggcccttctaatcagacctctgctgaatttcctctctgtgttatcctcctccaTGACCCCATGTCAGGGCAGCCCATTGCTCCTCCAGTCCCCAGGTAACCATCATGGGCCTTGTCAGGGACACCTCCTGCCTTCCCTCATGTCCCTGCCCTGCTCTCTTTGGGCCCAGGGCCTTCTTTCTTGCCCCTCTCTAATCCACCTTCCACCTGGCATCTGGAAGCATCTTTCTCTCCTTCCATAGCTTTGCCCATGTCCTCAGAACACAGTTCAGCTCCTCAGTCTGGTAGTCAAAGCCCTTGGAGATCCAGCCCCATCTCATCTCATGCTGATCCCTTCTCCtgtgctagactctgttctagctagctggggacacggcagacatgaacatggatggcagacaaaaattcctgcccccgtgaagctgatatcctagacaacgaatgtagtaaataagcaaattatagggtagatcagatggtggtaattgctgtgagggaaaacagagctgggtagggtgagggtggggataccgctttagcaagaaggggatcaaggaagcttcattaagaaggtgacatttgagcaaatgctaaaaggaaggaagggagtaggccatgtggccatctagaggaagag\n"
     ]
    }
   ],
   "source": [
    "## BEGIN SOLUTION\n",
    "from Bio import SeqIO\n",
    "tgfb1_promoter_complete=SeqIO.read('tgfb1_promoter.fa',\"fasta\")\n",
    "tgfb1_promoter=tgfb1_promoter_complete.seq\n",
    "print(tgfb1_promoter)\n",
    "##END SOLUTION"
   ]
  },
  {
   "cell_type": "markdown",
   "metadata": {},
   "source": [
    "### Question 1c\n",
    "We have downloaded the positions weight matrices (PWM's) for the three motifs of interest from the [HOMER motif database](http://homer.ucsd.edu/homer/motif/HomerMotifDB/homerResults.html). These are stored in the files: \n",
    "\n",
    "* rfx6.motif\n",
    "\n",
    "* hnf1b.motif\n",
    "\n",
    "* pdx1.motif\n",
    "\n",
    "Use the unix *cat* command to examine the contents of these files. \n"
   ]
  },
  {
   "cell_type": "code",
   "execution_count": 9,
   "metadata": {},
   "outputs": [
    {
     "name": "stdout",
     "output_type": "stream",
     "text": [
      "0.092\t0.272\t0.965\t0.001\t0.038\t0.797\t0.895\t0.001\t0.001\t0.873\r\n",
      "0.40399999999999997\t0.662\t0.022000000000000002\t0.001\t0.478\t0.031\t0.047\t0.001\t0.963\t0.001\r\n",
      "0.076\t0.021\t0.012\t0.001\t0.032\t0.001\t0.048\t0.024\t0.002\t0.001\r\n",
      "0.428\t0.045\t0.001\t0.997\t0.452\t0.171\t0.01\t0.9740000000000001\t0.034\t0.125\r\n"
     ]
    }
   ],
   "source": [
    "## BEGIN SOLUTION\n",
    "!cat pdx1.motif\n",
    "##END SOLUTION"
   ]
  },
  {
   "cell_type": "markdown",
   "metadata": {},
   "source": [
    "### Question 1d\n",
    "Next, we will load these files into Biopython Motif objects. We will do this using the **Biopython.motifs.read** function. Note that our motif files are stored in the \"pfm\" (i.e. position frequency matrix) format. First, import the motifs package and use the \"help\" command to determine the syntax of the Biopython.motifs.read function"
   ]
  },
  {
   "cell_type": "code",
   "execution_count": 10,
   "metadata": {},
   "outputs": [
    {
     "name": "stdout",
     "output_type": "stream",
     "text": [
      "Help on function read in module Bio.motifs:\n",
      "\n",
      "read(handle, format, strict=True)\n",
      "    Read a motif from a handle using the specified file-format.\n",
      "    \n",
      "    This supports the same formats as Bio.motifs.parse(), but\n",
      "    only for files containing exactly one motif.  For example,\n",
      "    reading a JASPAR-style pfm file:\n",
      "    \n",
      "    >>> from Bio import motifs\n",
      "    >>> with open(\"motifs/SRF.pfm\") as handle:\n",
      "    ...     m = motifs.read(handle, \"pfm\")\n",
      "    >>> m.consensus\n",
      "    Seq('GCCCATATATGG')\n",
      "    \n",
      "    Or a single-motif MEME file,\n",
      "    \n",
      "    >>> from Bio import motifs\n",
      "    >>> with open(\"motifs/meme.out\") as handle:\n",
      "    ...     m = motifs.read(handle, \"meme\")\n",
      "    >>> m.consensus\n",
      "    Seq('CTCAATCGTA')\n",
      "    \n",
      "    If the handle contains no records, or more than one record,\n",
      "    an exception is raised:\n",
      "    \n",
      "    >>> from Bio import motifs\n",
      "    >>> with open(\"motifs/alignace.out\") as handle:\n",
      "    ...     motif = motifs.read(handle, \"AlignAce\")\n",
      "    Traceback (most recent call last):\n",
      "        ...\n",
      "    ValueError: More than one motif found in handle\n",
      "    \n",
      "    If however you want the first motif from a file containing\n",
      "    multiple motifs this function would raise an exception (as\n",
      "    shown in the example above).  Instead use:\n",
      "    \n",
      "    >>> from Bio import motifs\n",
      "    >>> with open(\"motifs/alignace.out\") as handle:\n",
      "    ...     record = motifs.parse(handle, \"alignace\")\n",
      "    >>> motif = record[0]\n",
      "    >>> motif.consensus\n",
      "    Seq('TCTACGATTGAG')\n",
      "    \n",
      "    Use the Bio.motifs.parse(handle, format) function if you want\n",
      "    to read multiple records from the handle.\n",
      "    \n",
      "    If strict is True (default), the parser will raise a ValueError if the\n",
      "    file contents does not strictly comply with the specified file format.\n",
      "\n"
     ]
    }
   ],
   "source": [
    "## BEGIN SOLUTION\n",
    "from Bio import motifs\n",
    "help(motifs.read)\n",
    "##END SOLUTION "
   ]
  },
  {
   "cell_type": "markdown",
   "metadata": {},
   "source": [
    "### Question 1e\n",
    "Follow the example in the help documentation for the function to read in the motif files for rfx6, pdx1, and hnf1b into variables. Hint: The syntax in the documentation for the \"motifs/SRF.pfm\" example is very close to the syntax you will need. "
   ]
  },
  {
   "cell_type": "code",
   "execution_count": 11,
   "metadata": {},
   "outputs": [],
   "source": [
    "## BEGIN SOLUTION\n",
    "with open(\"pdx1.motif\") as handle:\n",
    "    pdx1 = motifs.read(handle, \"pfm\")\n",
    "with open(\"hnf1b.motif\") as handle:\n",
    "    hnf1b = motifs.read(handle, \"pfm\")\n",
    "with open(\"rfx6.motif\") as handle:\n",
    "    rfx6 = motifs.read(handle, \"pfm\")\n",
    "##END SOLUTION "
   ]
  },
  {
   "cell_type": "markdown",
   "metadata": {},
   "source": [
    "### Question 1f\n",
    "Check that the motif files were read in correctly in 1d by printing out the consensus motifs for each of the three transcription factors. Hint: m.consensus prints out the consensus motif for the example in the help file."
   ]
  },
  {
   "cell_type": "code",
   "execution_count": 13,
   "metadata": {},
   "outputs": [
    {
     "name": "stdout",
     "output_type": "stream",
     "text": [
      "TGTTTCCTAGCAACC\n",
      "TCATCAATCA\n",
      "GTTAATGATTAA\n"
     ]
    }
   ],
   "source": [
    "###BEGIN SOLUTION\n",
    "print(rfx6.consensus)\n",
    "print(pdx1.consensus)\n",
    "print(hnf1b.consensus)\n",
    "###END SOLUTION "
   ]
  },
  {
   "cell_type": "markdown",
   "metadata": {},
   "source": [
    "### Question 1g\n",
    "Before we can scan the promoter sequence of TGFB1 for the three motifs, we will need to transform the motifs from the PWM (also known as PFM) format to the PSSM format. \n",
    "\n",
    "What does PSSM stand for? \n",
    "\n",
    "**BEGIN ANSWER**: \n",
    "\n",
    "**END ANSWER**\n",
    "\n",
    "Why do we need to use the PSSM format rather than the PWM format when scanning for a motif in a genome sequence? \n",
    "\n",
    "**BEGIN ANSWER**: \n",
    "\n",
    "**END ANSWER**\n"
   ]
  },
  {
   "cell_type": "markdown",
   "metadata": {},
   "source": [
    "### Question 1h\n",
    "Print the pssm for the rfx6 motif. \n",
    "Hint: the pssm is an attribute of a Motif object in Biopython, so you shouldn't have to write much additional code \n"
   ]
  },
  {
   "cell_type": "code",
   "execution_count": 44,
   "metadata": {},
   "outputs": [
    {
     "data": {
      "text/plain": [
       "{'A': [-1.3075728019102921,\n",
       "  -2.321928094887362,\n",
       "  -7.965784284662087,\n",
       "  -0.5145731728297583,\n",
       "  -1.9885043611621704,\n",
       "  -7.965784284662087,\n",
       "  -4.380821783940931,\n",
       "  -2.0115879742752116,\n",
       "  1.5340616024211184,\n",
       "  -7.965784284662087,\n",
       "  -2.0350469470992003,\n",
       "  1.9634741239748859,\n",
       "  1.84799690655495,\n",
       "  -7.965784284662087,\n",
       "  0.7045441164738289],\n",
       " 'C': [-1.3364276645824773,\n",
       "  -2.3510744405468786,\n",
       "  -0.6259342817774622,\n",
       "  0.1056780778945369,\n",
       "  -1.8365012677171204,\n",
       "  1.995665409736109,\n",
       "  1.6191782160590693,\n",
       "  -0.5311560570253623,\n",
       "  -7.965784284662087,\n",
       "  -7.965784284662087,\n",
       "  1.8090027749390865,\n",
       "  -7.965784284662087,\n",
       "  -7.965784284662087,\n",
       "  1.995665409736109,\n",
       "  0.7116161651493305],\n",
       " 'G': [0.09491164702546698,\n",
       "  1.830255324167683,\n",
       "  -2.3510744405468786,\n",
       "  -3.321928094887362,\n",
       "  0.5220557491609643,\n",
       "  -7.965784284662087,\n",
       "  -7.965784284662087,\n",
       "  -7.965784284662087,\n",
       "  0.1322477982984395,\n",
       "  1.995665409736109,\n",
       "  -7.965784284662087,\n",
       "  -7.965784284662087,\n",
       "  -1.3510744405468789,\n",
       "  -7.965784284662087,\n",
       "  -1.6067888631743346],\n",
       " 'T': [1.0922074380970888,\n",
       "  -4.380821783940931,\n",
       "  1.6562675347942892,\n",
       "  1.0867837661420667,\n",
       "  1.022900402110079,\n",
       "  -7.965784284662087,\n",
       "  -0.19099722506091382,\n",
       "  1.6116445433736617,\n",
       "  -7.965784284662087,\n",
       "  -7.965784284662087,\n",
       "  -2.0115879742752116,\n",
       "  -3.4422223286050744,\n",
       "  -7.965784284662087,\n",
       "  -7.965784284662087,\n",
       "  -1.3061293850406237]}"
      ]
     },
     "execution_count": 44,
     "metadata": {},
     "output_type": "execute_result"
    }
   ],
   "source": [
    "###BEGIN SOLUTION\n",
    "rfx6.pssm\n",
    "###END SOLUTION "
   ]
  },
  {
   "cell_type": "markdown",
   "metadata": {},
   "source": [
    "### Question 1i\n",
    "Scan the sequence you stored in the variable **tgfb1_promoter** for each of the three motifs. See \"Motif Scanning with Biopython\" section in class 11. We consider the motif a match to the sequence if it has an alignment score greater than 10. Recall that you can specify the alignment score threshold with the \"threshold\" parameter.  \n",
    "\n"
   ]
  },
  {
   "cell_type": "markdown",
   "metadata": {},
   "source": [
    "Search for the rfx6 motif in the tgfb1_promoter. Rather than printing the values out on the screen like we did in class, store the search result in the variable \"rfx6_hits\". \n"
   ]
  },
  {
   "cell_type": "code",
   "execution_count": 147,
   "metadata": {},
   "outputs": [],
   "source": [
    "##BEGIN SOLUTION\n",
    "from Bio.Seq import Seq\n",
    "rfx6_hits= rfx6.pssm.search(tgfb1_promoter, threshold=10)\n",
    "###END SOLUTION\n",
    "rfx6_hits=[i for i in rfx6_hits]"
   ]
  },
  {
   "cell_type": "markdown",
   "metadata": {},
   "source": [
    "Repeat the steps above to search for the Pdx1 motif in the tgfb1_promoter sequence and store the result in the variable pdx1_hits. "
   ]
  },
  {
   "cell_type": "code",
   "execution_count": 148,
   "metadata": {},
   "outputs": [],
   "source": [
    "##BEGIN SOLUTION\n",
    "from Bio.Seq import Seq\n",
    "pdx1_hits= pdx1.pssm.search(tgfb1_promoter, threshold=10)\n",
    "###END SOLUTION\n",
    "pdx1_hits=[i for i in pdx1_hits]"
   ]
  },
  {
   "cell_type": "markdown",
   "metadata": {},
   "source": [
    "Repeat the steps above to search for the hnf1b motif in the tgfb1_promoter sequence and store the result in the variable hnf1b_hits. "
   ]
  },
  {
   "cell_type": "code",
   "execution_count": 149,
   "metadata": {},
   "outputs": [],
   "source": [
    "##BEGIN SOLUTION\n",
    "from Bio.Seq import Seq\n",
    "hnf1b_hits= hnf1b.pssm.search(tgfb1_promoter, threshold=10)\n",
    "###END SOLUTION\n",
    "hnf1b_hits=[i for i in hnf1b_hits]"
   ]
  },
  {
   "cell_type": "markdown",
   "metadata": {},
   "source": [
    "### Question 1j\n",
    "\n",
    "The helper function below iterates through every [position,score] value in the output from the   search from 1i. Fill in the rest of the helper function so it identifies the highest alignment score and the corresponding position. \n",
    "\n",
    "The function returns a default score of -100 and a position of \"None\" if there is no quality alignment of the motif to the sequence. \n"
   ]
  },
  {
   "cell_type": "code",
   "execution_count": 154,
   "metadata": {},
   "outputs": [],
   "source": [
    "def get_best_alignment(hits): \n",
    "    best_alignment_score=-100\n",
    "    best_alignment_position=None\n",
    "    for [position,score] in hits: \n",
    "        \n",
    "        ###BEGIN SOLUTION\n",
    "        if score > best_alignment_score: \n",
    "            best_alignment_score=score \n",
    "            best_alignment_position=position\n",
    "        ###END SOLUTION  \n",
    "\n",
    "    return best_alignment_score,best_alignment_position"
   ]
  },
  {
   "cell_type": "markdown",
   "metadata": {},
   "source": [
    "### Question 1k\n",
    "\n",
    "Execute the get_best_alignment function to find the best alignment position and score for the Rfx6, Pdx1 and Hnf1b motifs. Make sure its clear which position and score go with which transcription factor. \n"
   ]
  },
  {
   "cell_type": "code",
   "execution_count": 156,
   "metadata": {},
   "outputs": [
    {
     "name": "stdout",
     "output_type": "stream",
     "text": [
      "pdx1\n",
      "-100\n",
      "None\n",
      "hnf1b\n",
      "-100\n",
      "None\n",
      "rfx6\n",
      "10.23035\n",
      "520\n"
     ]
    }
   ],
   "source": [
    "###BEGIN SOLUTION\n",
    "print('pdx1')\n",
    "best_pdx1_alignment_score,best_pdx1_alignment_position=get_best_alignment(pdx1_hits)\n",
    "print(best_pdx1_alignment_score)\n",
    "print(best_pdx1_alignment_position)\n",
    "print('hnf1b')\n",
    "best_hnf1b_alignment_score,best_hnf1b_alignment_position=get_best_alignment(hnf1b_hits)\n",
    "print(best_hnf1b_alignment_score)\n",
    "print(best_hnf1b_alignment_position)\n",
    "print('rfx6')\n",
    "best_rfx6_alignment_score,best_rfx6_alignment_position=get_best_alignment(rfx6_hits)\n",
    "print(best_rfx6_alignment_score)\n",
    "print(best_rfx6_alignment_position)\n",
    "###END SOLUTION "
   ]
  },
  {
   "cell_type": "markdown",
   "metadata": {},
   "source": [
    "### Question 1l \n",
    "Do any motifs align well to the TGFB1 gene promoter? \n",
    "\n",
    "**ANSWER** "
   ]
  },
  {
   "cell_type": "markdown",
   "metadata": {},
   "source": [
    "## Question 2: Exploring CHIP-Seq Data"
   ]
  },
  {
   "cell_type": "markdown",
   "metadata": {},
   "source": [
    "We have sampled 10000 regions from the human reference genome at random. At each of these regions, we have data from a CHIP-Seq experiment within the GM12878 cell (blood cell line) measuring the strength of 5 histone markers: \n",
    "\n",
    "* H3K4me3, \n",
    "* H3K4me1, \n",
    "* H3K36me3, \n",
    "* H3K9me3,\n",
    "* H3K27me3. \n",
    "\n",
    "The regions are denoted with the chromosome number, start position and end position. \n",
    "\n",
    "The data is stored as a table in a file in your Week_7 folder called **region_x_chrom_mark.tsv**"
   ]
  },
  {
   "cell_type": "markdown",
   "metadata": {},
   "source": [
    "### Question 2a. \n",
    "Read in the CHIP-Seq data into a pandas dataframe."
   ]
  },
  {
   "cell_type": "code",
   "execution_count": 157,
   "metadata": {},
   "outputs": [
    {
     "data": {
      "text/html": [
       "<div>\n",
       "<style scoped>\n",
       "    .dataframe tbody tr th:only-of-type {\n",
       "        vertical-align: middle;\n",
       "    }\n",
       "\n",
       "    .dataframe tbody tr th {\n",
       "        vertical-align: top;\n",
       "    }\n",
       "\n",
       "    .dataframe thead th {\n",
       "        text-align: right;\n",
       "    }\n",
       "</style>\n",
       "<table border=\"1\" class=\"dataframe\">\n",
       "  <thead>\n",
       "    <tr style=\"text-align: right;\">\n",
       "      <th></th>\n",
       "      <th>H3K4me3</th>\n",
       "      <th>H3K4me1</th>\n",
       "      <th>H3K36me3</th>\n",
       "      <th>H3K9me3</th>\n",
       "      <th>H3K27me3</th>\n",
       "    </tr>\n",
       "    <tr>\n",
       "      <th>chrom_start_end</th>\n",
       "      <th></th>\n",
       "      <th></th>\n",
       "      <th></th>\n",
       "      <th></th>\n",
       "      <th></th>\n",
       "    </tr>\n",
       "  </thead>\n",
       "  <tbody>\n",
       "    <tr>\n",
       "      <td>chr7_127544000_127548400</td>\n",
       "      <td>-0.034576</td>\n",
       "      <td>0.999976</td>\n",
       "      <td>1.002766</td>\n",
       "      <td>-0.008026</td>\n",
       "      <td>-0.004839</td>\n",
       "    </tr>\n",
       "    <tr>\n",
       "      <td>chr4_76527400_76555000</td>\n",
       "      <td>0.043925</td>\n",
       "      <td>0.006553</td>\n",
       "      <td>-0.011049</td>\n",
       "      <td>0.002766</td>\n",
       "      <td>0.010979</td>\n",
       "    </tr>\n",
       "    <tr>\n",
       "      <td>chr5_145824000_145825600</td>\n",
       "      <td>0.007112</td>\n",
       "      <td>-0.003677</td>\n",
       "      <td>0.024232</td>\n",
       "      <td>0.002832</td>\n",
       "      <td>0.014081</td>\n",
       "    </tr>\n",
       "    <tr>\n",
       "      <td>chr1_20712600_20713400</td>\n",
       "      <td>0.011705</td>\n",
       "      <td>-0.002807</td>\n",
       "      <td>0.021803</td>\n",
       "      <td>-0.012496</td>\n",
       "      <td>1.020973</td>\n",
       "    </tr>\n",
       "    <tr>\n",
       "      <td>chr7_33139000_33140800</td>\n",
       "      <td>0.020133</td>\n",
       "      <td>0.981349</td>\n",
       "      <td>1.001418</td>\n",
       "      <td>0.020834</td>\n",
       "      <td>0.004710</td>\n",
       "    </tr>\n",
       "    <tr>\n",
       "      <td>chr3_76581600_76582000</td>\n",
       "      <td>0.021827</td>\n",
       "      <td>1.028691</td>\n",
       "      <td>-0.004334</td>\n",
       "      <td>0.021018</td>\n",
       "      <td>-0.000318</td>\n",
       "    </tr>\n",
       "    <tr>\n",
       "      <td>chr3_130516200_130529600</td>\n",
       "      <td>0.008528</td>\n",
       "      <td>-0.027219</td>\n",
       "      <td>-0.026783</td>\n",
       "      <td>0.015416</td>\n",
       "      <td>0.018576</td>\n",
       "    </tr>\n",
       "    <tr>\n",
       "      <td>chr13_28126600_28127600</td>\n",
       "      <td>0.003078</td>\n",
       "      <td>0.006193</td>\n",
       "      <td>1.001638</td>\n",
       "      <td>0.004833</td>\n",
       "      <td>-0.011625</td>\n",
       "    </tr>\n",
       "    <tr>\n",
       "      <td>chr22_38782600_38783600</td>\n",
       "      <td>1.002270</td>\n",
       "      <td>0.463840</td>\n",
       "      <td>-0.013768</td>\n",
       "      <td>0.015768</td>\n",
       "      <td>-0.000375</td>\n",
       "    </tr>\n",
       "    <tr>\n",
       "      <td>chr21_42597800_42601600</td>\n",
       "      <td>0.001003</td>\n",
       "      <td>-0.007353</td>\n",
       "      <td>-0.008250</td>\n",
       "      <td>-0.017715</td>\n",
       "      <td>0.467801</td>\n",
       "    </tr>\n",
       "  </tbody>\n",
       "</table>\n",
       "</div>"
      ],
      "text/plain": [
       "                           H3K4me3   H3K4me1  H3K36me3   H3K9me3  H3K27me3\n",
       "chrom_start_end                                                           \n",
       "chr7_127544000_127548400 -0.034576  0.999976  1.002766 -0.008026 -0.004839\n",
       "chr4_76527400_76555000    0.043925  0.006553 -0.011049  0.002766  0.010979\n",
       "chr5_145824000_145825600  0.007112 -0.003677  0.024232  0.002832  0.014081\n",
       "chr1_20712600_20713400    0.011705 -0.002807  0.021803 -0.012496  1.020973\n",
       "chr7_33139000_33140800    0.020133  0.981349  1.001418  0.020834  0.004710\n",
       "chr3_76581600_76582000    0.021827  1.028691 -0.004334  0.021018 -0.000318\n",
       "chr3_130516200_130529600  0.008528 -0.027219 -0.026783  0.015416  0.018576\n",
       "chr13_28126600_28127600   0.003078  0.006193  1.001638  0.004833 -0.011625\n",
       "chr22_38782600_38783600   1.002270  0.463840 -0.013768  0.015768 -0.000375\n",
       "chr21_42597800_42601600   0.001003 -0.007353 -0.008250 -0.017715  0.467801"
      ]
     },
     "execution_count": 157,
     "metadata": {},
     "output_type": "execute_result"
    }
   ],
   "source": [
    "import pandas as pd\n",
    "##BEGIN SOLUTION\n",
    "  \n",
    "chipseq_filename='region_x_chrom_mark.tsv'\n",
    "\n",
    "# Read in the RNA-seq data matrix. \n",
    "chipseq= pd.read_table(filepath_or_buffer=chipseq_filename, \n",
    "     header=0,\n",
    "     index_col=0)\n",
    "\n",
    "chipseq.head(10)\n",
    "\n",
    "###END SOLUTION\n"
   ]
  },
  {
   "cell_type": "markdown",
   "metadata": {},
   "source": [
    "### Question 2b. \n",
    "\n",
    "Print out the number of rows and number of columns in the CHIP-seq data. Make sure it is clear which value refers to rows and which to columns. "
   ]
  },
  {
   "cell_type": "code",
   "execution_count": 158,
   "metadata": {},
   "outputs": [
    {
     "name": "stdout",
     "output_type": "stream",
     "text": [
      "rows 10000\n",
      "cols 5\n"
     ]
    }
   ],
   "source": [
    "##BEGIN SOLUTION\n",
    "print('rows '+str(chipseq.shape[0]))\n",
    "print('cols '+str(chipseq.shape[1]))\n",
    "###END SOLUTION\n"
   ]
  },
  {
   "cell_type": "markdown",
   "metadata": {},
   "source": [
    "### Question 2c. \n",
    "\n",
    "Print out just the line for chr4_56321200_56321600. Which of the five histone markers is present in chr4_56321200_56321600?"
   ]
  },
  {
   "cell_type": "code",
   "execution_count": 159,
   "metadata": {},
   "outputs": [
    {
     "data": {
      "text/plain": [
       "H3K4me3    -0.010096\n",
       "H3K4me1    -0.054842\n",
       "H3K36me3    1.004746\n",
       "H3K9me3     0.002347\n",
       "H3K27me3   -0.018400\n",
       "Name: chr4_56321200_56321600, dtype: float64"
      ]
     },
     "execution_count": 159,
     "metadata": {},
     "output_type": "execute_result"
    }
   ],
   "source": [
    "##BEGIN SOLUTION\n",
    "chipseq.loc[\"chr4_56321200_56321600\"]\n",
    "###END SOLUTION"
   ]
  },
  {
   "cell_type": "markdown",
   "metadata": {},
   "source": [
    "### Question 2d. \n",
    "\n",
    "Make a histogram of the H3K9me3 column to get a sense for the distribution of the range of values for the histone markers. \n"
   ]
  },
  {
   "cell_type": "code",
   "execution_count": 162,
   "metadata": {},
   "outputs": [
    {
     "name": "stderr",
     "output_type": "stream",
     "text": [
      "/opt/conda/lib/python3.7/site-packages/plotnine/stats/stat_bin.py:93: PlotnineWarning: 'stat_bin()' using 'bins = 390'. Pick better value with 'binwidth'.\n",
      "  warn(msg.format(params['bins']), PlotnineWarning)\n"
     ]
    },
    {
     "data": {
      "image/png": "[encoded data removed]",
      "text/plain": [
       "<Figure size 640x480 with 1 Axes>"
      ]
     },
     "metadata": {},
     "output_type": "display_data"
    },
    {
     "data": {
      "text/plain": [
       "<ggplot: (-9223363282946089612)>"
      ]
     },
     "execution_count": 162,
     "metadata": {},
     "output_type": "execute_result"
    }
   ],
   "source": [
    "from plotnine import * \n",
    "x=chipseq['H3K9me3']\n",
    "qplot(x=x,\n",
    "      geom=\"histogram\",\n",
    "      xlab=\"Values\",\n",
    "      ylab=\"Number of Samples\")"
   ]
  },
  {
   "cell_type": "markdown",
   "metadata": {},
   "source": [
    "## Question 3: Exploring CHIP-Seq Data"
   ]
  },
  {
   "cell_type": "markdown",
   "metadata": {},
   "source": [
    "The ENCODE project has aggregated data from multiple transcription factor ChIP-seq experiments performed on the GM12878 lymphoblastoid cell line [(over 150 such experiments)!](https://www.encodeproject.org/search/?type=Experiment&replicates.library.biosample.donor.organism.scientific_name=Homo+sapiens&biosample_type=immortalized+cell+line&organ_slims=blood&assembly=hg19&assay_title=ChIP-seq&biosample_term_name=GM12878&assay_title=ChIP-seq). We have downloaded and merged the peak calls from these experiments in the file **Week_7/GM12878_allTFBS.bed**. This is a standard bed file with columns for \n",
    "\n",
    "* Chromosome \n",
    "* Start of peak \n",
    "* End of peak \n",
    "* Name of TF (transcription factor) that binds to this site in the genome. \n",
    "\n",
    "Additionally, we have downloaded the ENCODE [active enhancers for the GM12878 cell line.](https://www.encodeproject.org/annotations/ENCSR580CJW/) These were obtained by analyzing H3K27ac ChIP-seq peaks throughout the genome, which are indicative of active enhancer regions. The annotations are stored in the bed file **Week_7/GM12878_enhancer_regions.bed**. \n",
    "\n",
    "\n",
    "Your mission is to identify the transcription factor motifs that are most enriched within the GM12878 active enhancer regions. "
   ]
  },
  {
   "cell_type": "markdown",
   "metadata": {},
   "source": [
    "### Question 3a \n",
    "\n",
    "Write commands to view the first ten lines of both the GM12878_enhancer_regions.bed file and the GM12878_allTFBS.bed. file. "
   ]
  },
  {
   "cell_type": "code",
   "execution_count": 163,
   "metadata": {},
   "outputs": [
    {
     "name": "stdout",
     "output_type": "stream",
     "text": [
      "chr1\t237564\t237934\tRunx3\n",
      "chr1\t237593\t237953\tCtcf\n",
      "chr1\t237620\t237884\tRad21\n",
      "chr1\t237626\t237876\tCtcf\n",
      "chr1\t237645\t237861\tCtcf\n",
      "chr1\t237651\t237855\tCtcf\n",
      "chr1\t237660\t237850\tRad21\n",
      "chr1\t237661\t237845\tCtcf\n",
      "chr1\t521337\t521697\tCtcf\n",
      "chr1\t521430\t521680\tCtcf\n",
      "chr21\t44771940\t44776681\tDistal-Prediction-1\t1\t.\t44772580\t44772730\t255,205,0\n",
      "chr1\t235140318\t235154768\tDistal-Prediction-2\t1\t.\t235147700\t235147850\t255,205,0\n",
      "chr15\t65183074\t65188955\tDistal-Prediction-3\t1\t.\t65186100\t65186390\t255,205,0\n",
      "chr10\t42393340\t42393490\tDistal-Prediction-4\t1\t.\t42393340\t42393490\t255,205,0\n",
      "chr12\t125256165\t125261264\tDistal-Prediction-5\t1\t.\t125259220\t125259370\t255,205,0\n",
      "chr10\t81042355\t81047539\tDistal-Prediction-6\t1\t.\t81046180\t81046330\t255,205,0\n",
      "chr10\t125148761\t125163701\tDistal-Prediction-7\t1\t.\t125151820\t125151970\t255,205,0\n",
      "chr22\t23268834\t23279737\tDistal-Prediction-8\t1\t.\t23277860\t23278010\t255,205,0\n",
      "chr13\t100082683\t100089268\tDistal-Prediction-9\t1\t.\t100085160\t100085310\t255,205,0\n",
      "chr2\t85164627\t85174450\tDistal-Prediction-10\t1\t.\t85166860\t85167010\t255,205,0\n"
     ]
    }
   ],
   "source": [
    "##BEGIN SOLUTION\n",
    "! head -n10 GM12878_allTFBS.bed\n",
    "! head -n10 GM12878_enhancer_regions.bed\n",
    "###END SOLUTION"
   ]
  },
  {
   "cell_type": "markdown",
   "metadata": {},
   "source": [
    "### Question 3b \n",
    "\n",
    "Use the bedtools [sort command](https://bedtools.readthedocs.io/en/latest/content/tools/sort.html) to sort both the Week_7/GM12878_enhancer_regions.bed file and the Week_7/GM12878_allTFBS.bed file.  Store the sorted files as \"Week_7/GM12878.enh.sorted.bed\" and \"Week_7/GM12878.TFBS.sorted.bed\"."
   ]
  },
  {
   "cell_type": "code",
   "execution_count": 164,
   "metadata": {},
   "outputs": [],
   "source": [
    "##BEGIN SOLUTION\n",
    "!bedtools sort -i ../Week_7/GM12878_allTFBS.bed > ../Week_7/GM12878_allTFBS.sorted.bed\n",
    "!bedtools sort -i ../Week_7/GM12878_enhancer_regions.bed > ../Week_7/GM12878_enhancer_regions.sorted.bed\n",
    "###END SOLUTION"
   ]
  },
  {
   "cell_type": "markdown",
   "metadata": {},
   "source": [
    "### Question 3c.\n",
    "\n",
    "Use bedtools to identify all TF (transcription factor) binding sites that overlap an enhancer region in GM12878. Store these TF binding sites in a file called **Week_7/TFBS.enh.intersection.bed**.  Examine the contents of file Week_7/TFBS.enh.intersection.bed by viewing the first ten lines of the file. <a name='intersect'>"
   ]
  },
  {
   "cell_type": "code",
   "execution_count": 165,
   "metadata": {},
   "outputs": [
    {
     "name": "stdout",
     "output_type": "stream",
     "text": [
      "chr1\t713716\t714280\tPol2\r\n",
      "chr1\t713756\t714672\tPol2\r\n",
      "chr1\t713756\t714672\tPol2\r\n",
      "chr1\t713763\t714510\tPol2\r\n",
      "chr1\t713802\t714192\tPol2\r\n",
      "chr1\t713833\t714433\tCmyc\r\n",
      "chr1\t713837\t714273\tMxi1\r\n",
      "chr1\t713838\t714151\tYy1\r\n",
      "chr1\t713841\t714277\tMaz\r\n",
      "chr1\t713845\t714131\tPml\r\n"
     ]
    }
   ],
   "source": [
    "##BEGIN SOLUTION\n",
    "! bedtools intersect -a ../Week_7/GM12878_allTFBS.sorted.bed -b ../Week_7/GM12878_enhancer_regions.sorted.bed > ../Week_7/TFBS.enh.intersection.bed\n",
    "!head -n10 ../Week_7/TFBS.enh.intersection.bed\n",
    "###END SOLUTION"
   ]
  },
  {
   "cell_type": "markdown",
   "metadata": {},
   "source": [
    "### Question 3d\n",
    "\n",
    "Generate a dictionary called \"TF_count_dict\" with the following fields: <a name='dict'>\n",
    "\n",
    "* Keys are the TF's that bind to enhancer regions within GM12878 (i.e. Pol2, Cmyc, Mxi1, ...) \n",
    "* Values are the number of times that each TF appears in a peak. \n"
   ]
  },
  {
   "cell_type": "code",
   "execution_count": 166,
   "metadata": {},
   "outputs": [
    {
     "ename": "SyntaxError",
     "evalue": "invalid syntax (<ipython-input-166-ff210da90cde>, line 4)",
     "output_type": "error",
     "traceback": [
      "\u001b[0;36m  File \u001b[0;32m\"<ipython-input-166-ff210da90cde>\"\u001b[0;36m, line \u001b[0;32m4\u001b[0m\n\u001b[0;31m    data=# Your code here\u001b[0m\n\u001b[0m                         ^\u001b[0m\n\u001b[0;31mSyntaxError\u001b[0m\u001b[0;31m:\u001b[0m invalid syntax\n"
     ]
    }
   ],
   "source": [
    "def tally_TF_counts(TF_file_name): \n",
    "    #read in the TF_file_name and store the file lines in a list called 'data'\n",
    "    ###BEGIN SOLUTION\n",
    "    data=# Your code here\n",
    "    ###END SOLUTION\n",
    "    tally_dict=dict() \n",
    "    #iterate through each line in data, split the string contained in each line by the '\\t' delimiter \n",
    "    for line in data: \n",
    "        tokens=line.split('\\t')\n",
    "         ###BEGIN SOLUTION\n",
    "         #Step 1: check whether the 4th value in the list tokens (i.e. the TF that binds this site in the genome) \n",
    "         # already exists in tally_dict. \n",
    "         \n",
    "        \n",
    "         #Step 2: if it doesn't exist, create an entry for it in tally_dict, with key = TF and value =1 \n",
    "         \n",
    "        \n",
    "         #Step 3: if it does exist, increment the count for the TF in the dictionary\n",
    "\n",
    "         ###END SOLUTION\n",
    "    return tally_dict \n",
    "\n",
    "## Execute the function tally_TF_counts on the file that contains the intersection of peaks and known TF binding sites.\n",
    "## Store the dictionary it returns as TF_count_dict\n"
   ]
  },
  {
   "cell_type": "code",
   "execution_count": 167,
   "metadata": {},
   "outputs": [],
   "source": [
    "###BEGIN SOLUTION \n",
    "def tally_TF_counts(TF_file_name): \n",
    "    #read in the TF_file_name and store the file lines in a list called 'data'\n",
    "    data=open(TF_file_name,'r').read().strip().split('\\n')\n",
    "    tally_dict=dict() \n",
    "    #iterate through each line in data, split the string contained in each line by the '\\t' delimiter \n",
    "    for line in data: \n",
    "        tokens=line.split('\\t')\n",
    "        #check whether the 4th value in the list tokens (i.e. the TF that binds this site in the genome) \n",
    "        # already exists in tally_dict. \n",
    "        #Your code here \n",
    "        if tokens[3] not in tally_dict: \n",
    "        #if it doesn't exist, create an entry for it in tally_dict, with key = TF and value =1 \n",
    "        #Your code here \n",
    "            tally_dict[tokens[3]]=1\n",
    "        else:\n",
    "        #if it does exist, increment the count for the TF in the dictionary\n",
    "            tally_dict[tokens[3]]+=1\n",
    "    return tally_dict \n",
    "\n",
    "\n",
    "## Execute the function tally_TF_counts on the file that contains the intersection of peaks and known TF binding sites.\n",
    "TF_count_dict=tally_TF_counts(\"../Week_7/TFBS.enh.intersection.bed\")\n",
    "###END SOLUTION "
   ]
  },
  {
   "cell_type": "markdown",
   "metadata": {},
   "source": [
    "### Question 3e.  \n",
    "\n",
    "Use the function pandas.DataFrame.from_dict to convert your tally_dict into a pandas data frame so it can be sorted.  \n",
    "\n",
    "Use \"help(pd.DataFrame.from_dict) to learn about the inputs and outputs of this function. "
   ]
  },
  {
   "cell_type": "code",
   "execution_count": 168,
   "metadata": {},
   "outputs": [],
   "source": [
    "###BEGIN SOLUTION\n",
    "###END SOLUTION "
   ]
  },
  {
   "cell_type": "markdown",
   "metadata": {},
   "source": [
    "Now, execute the function, passing \"tally_dict\" as the input and setting orient=\"index\" \n",
    "Store the data frame in variable \"df\""
   ]
  },
  {
   "cell_type": "code",
   "execution_count": 170,
   "metadata": {},
   "outputs": [
    {
     "data": {
      "text/plain": [
       "<bound method NDFrame.head of            0\n",
       "Pol2   97718\n",
       "Cmyc    3700\n",
       "Mxi1   16897\n",
       "Yy1    23158\n",
       "Maz    17463\n",
       "...      ...\n",
       "Irf3     338\n",
       "Zzz3     250\n",
       "Gcn5     150\n",
       "Pol3     204\n",
       "Spt20     15\n",
       "\n",
       "[80 rows x 1 columns]>"
      ]
     },
     "execution_count": 170,
     "metadata": {},
     "output_type": "execute_result"
    }
   ],
   "source": [
    "import pandas as pd  \n",
    "###BEGIN SOLUTION\n",
    "df=pd.DataFrame.from_dict(TF_count_dict,orient=\"index\")\n",
    "df.head\n",
    "###END SOLUTION "
   ]
  },
  {
   "cell_type": "markdown",
   "metadata": {},
   "source": [
    "### Question 3f.  \n",
    "\n",
    "Sort the TF's in your dictionary so the TF from the TF that appears the largest number of times at the top of the file to the TF that appears the smallest number of times at the bottom. \n",
    "\n",
    "You may find tha the pandas.DataFrame.sort_values function is useful.\n",
    "\n",
    "Sort the dataframe by column 0 (i.e. this column contains the counts for each TF)\n",
    "\n",
    "Make sure you sort in *descending* order so that the most common TF's can be found with the head command. \n"
   ]
  },
  {
   "cell_type": "code",
   "execution_count": 176,
   "metadata": {},
   "outputs": [
    {
     "data": {
      "text/plain": [
       "<bound method NDFrame.head of               0\n",
       "Pol2      97718\n",
       "Ctcf      60674\n",
       "Ebf1      41045\n",
       "Runx3     38432\n",
       "Pax5      33475\n",
       "...         ...\n",
       "Zzz3        250\n",
       "Pol3        204\n",
       "Gcn5        150\n",
       "Spt20        15\n",
       "Bhlhe40c      1\n",
       "\n",
       "[80 rows x 1 columns]>"
      ]
     },
     "execution_count": 176,
     "metadata": {},
     "output_type": "execute_result"
    }
   ],
   "source": [
    "###BEGIN SOLUTION\n",
    "sorted_df=df.sort_values(ascending=False,by=0)\n",
    "sorted_df.head \n",
    "###END SOLUTION "
   ]
  },
  {
   "cell_type": "markdown",
   "metadata": {},
   "source": [
    "### Question 3g. \n",
    "\n",
    "What are the five most common transcription factors that bind in GM12878 ? \n",
    "\n",
    "**ANSWER:**\n"
   ]
  },
  {
   "cell_type": "markdown",
   "metadata": {},
   "source": [
    "### Question 3h\n",
    "\n",
    "Generate a bar graph representing the frequency of the 30 most common TF's. The x-axis should contain the name of the TF, and the y-axis should contain the number of times it occurs within an active enhancer in GM12878. <a name='plot'>"
   ]
  },
  {
   "cell_type": "code",
   "execution_count": 192,
   "metadata": {},
   "outputs": [
    {
     "data": {
      "image/png": "[encoded data removed]",
      "text/plain": [
       "<Figure size 640x480 with 1 Axes>"
      ]
     },
     "metadata": {},
     "output_type": "display_data"
    },
    {
     "data": {
      "text/plain": [
       "<ggplot: (8753904719315)>"
      ]
     },
     "execution_count": 192,
     "metadata": {},
     "output_type": "execute_result"
    }
   ],
   "source": [
    "## hint: You can use the .index function to obtain the TF names from the sorted_df data frame.\n",
    "\n",
    "## hint: by default, the geom=\"bar\" argument to qplot generates a histogram. To make it generate a bar graph with \n",
    "## pre-specified x and y values, add the argument stat=\"identity\" to the qplot function. \n",
    "\n",
    "## hint: you might need to flip the x and y coordinates to make the bar graph axis labels legible\n",
    "\n",
    "###BEGIN SOLUTION\n",
    "common_tfs=sorted_df.iloc[0:30]\n",
    "tf_names=common_tfs.index.tolist()\n",
    "tf_counts=common_tfs[0].tolist()\n",
    "qplot(x=tf_names,\n",
    "      y=tf_counts,\n",
    "      geom=\"bar\",\n",
    "      stat=\"identity\",\n",
    "      xlab=\"TF Name\",\n",
    "      ylab=\"TF Count\"      \n",
    "     )+coord_flip()\n",
    "\n",
    "###END SOLUTION "
   ]
  }
 ],
 "metadata": {
  "anaconda-cloud": {},
  "kernelspec": {
   "display_name": "Python 3",
   "language": "python",
   "name": "python3"
  },
  "language_info": {
   "codemirror_mode": {
    "name": "ipython",
    "version": 3
   },
   "file_extension": ".py",
   "mimetype": "text/x-python",
   "name": "python",
   "nbconvert_exporter": "python",
   "pygments_lexer": "ipython3",
   "version": "3.7.3"
  }
 },
 "nbformat": 4,
 "nbformat_minor": 4
}
