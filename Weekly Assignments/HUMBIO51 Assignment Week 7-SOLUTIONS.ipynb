{
 "cells": [
  {
   "cell_type": "markdown",
   "metadata": {},
   "source": [
    " ## HUMBIO51 Assignment Week 7"
   ]
  },
  {
   "cell_type": "markdown",
   "metadata": {},
   "source": [
    "##  Learning Objectives\n",
    "***Students should be able to***\n",
    "\n",
    "### How to represent a transcription factor's binding motif and scan sequences for matches \n",
    "\n",
    "<ol> \n",
    "<li>  <a href=#TFMotif>Explain what a transcription factor binding motif is</a> </li>\n",
    "<li> <a href=#ChIPseq>Understand what is a ChIP-seq experiment and how it can be used to identify transcription factor binding genome-wide</a> </li>\n",
    "<li><a href=#Regulator> Explain what a regulatory element is </a></li>\n",
    "<li> <a href=#PromotersEnhancers>Explain what promoters and enhancers are</a></li>\n",
    "<li> <a href=#PSSM>Make a position-specific score matrices (PSSM) from a PWM to use for transcription factor motif-scanning  </a></li>\n",
    " <li><a href=#Scan>Motif scanning along a DNA sequence </a></li>\n",
    " <li> <a href=#Biopython>Become familiar with Biopython functions module: Motif</a> </li>\n",
    " <li> <a href=#Sort>Use bedtools commands to sort ChiP-seq peak files by genome coordinates.</a></li>\n",
    "<li> <a href=#Intersect>Use bedtools commands to intersect regions from multiple bed files.</a></li>\n",
    "<li> <a href=#Dict>Use python dictionaries to generate frequencies of transcription factors in active enhancers.</a></li>\n",
    "<li> <a href=#Plot>Generate Bar graphs to visualize the most over-represented transcription factors in GM12878.</a></li>\n",
    "</ol> "
   ]
  },
  {
   "cell_type": "markdown",
   "metadata": {},
   "source": [
    "## Question 1: Finding Transcription factor binding sites"
   ]
  },
  {
   "cell_type": "markdown",
   "metadata": {},
   "source": [
    "PDX1 is a transcription factor involved in pancreas development. A [study from 2018](https://www.ncbi.nlm.nih.gov/pmc/articles/PMC5870105/) conducted an analysis to identify PDX1 binding sites in samples from different stages of pancreatic development. Several PDX1 targets that were identified are also transcription factors including **PDX1** itself, **RFX6**, **HNF1B** and **MEIS1**. Our goal in this question is to determine if the promoter region of NKX2-2 (note: referred to as NKX2_2 in code), a gene that has been implicated in pancreatic deveopment, contains binding motifs for any of these transcription factors.   "
   ]
  },
  {
   "cell_type": "markdown",
   "metadata": {},
   "source": [
    "### Question 1a \n",
    "Run the code in the box below to generate a file called NKX2_2.promoter.bed that includes a region 2kb upstream from the start of the NKX2-2 gene. "
   ]
  },
  {
   "cell_type": "code",
   "execution_count": 1,
   "metadata": {},
   "outputs": [],
   "source": [
    "with open('Week_7/NKX2_2.promoter.bed', 'w') as file:\n",
    "    file.write(\"chr20\\t21494307\\t21496307\\tNKX2-2promoter\\t.\\t-\") "
   ]
  },
  {
   "cell_type": "code",
   "execution_count": 2,
   "metadata": {},
   "outputs": [
    {
     "name": "stdout",
     "output_type": "stream",
     "text": [
      "chr20\t21494307\t21496307\tNKX2-2promoter\t.\t-"
     ]
    }
   ],
   "source": [
    "!cat Week_7/NKX2_2.promoter.bed"
   ]
  },
  {
   "cell_type": "markdown",
   "metadata": {},
   "source": [
    "Use the fastaFromBed command to extract the genetic sequence that corresponds to the positions in NKX2_2.promoter.bed  Store the sequence in a file called **NKX2_2_promoter.fa**"
   ]
  },
  {
   "cell_type": "code",
   "execution_count": 3,
   "metadata": {},
   "outputs": [
    {
     "name": "stdout",
     "output_type": "stream",
     "text": [
      "Warning: the index file is older than the FASTA file.\n"
     ]
    }
   ],
   "source": [
    "## BEGIN SOLUTION\n",
    "!fastaFromBed -fi /data/hg19.genome.fa -bed Week_7/NKX2_2.promoter.bed > Week_7/NKX2_2_promoter.fa\n",
    "##END SOLUTION"
   ]
  },
  {
   "cell_type": "code",
   "execution_count": 4,
   "metadata": {},
   "outputs": [
    {
     "name": "stdout",
     "output_type": "stream",
     "text": [
      ">chr20:21494307-21496307\n",
      "GGTTCGAGACCCCAAAATTTATGTCGCAAAGTTGTAGCTTCACTTGGTCAATTCGTGGCGCTCCCCTGCCCCggcgggcgggggaggggggagttggggggagggactgggggaggggaggggggAATTGGCTTTAATTATTGGGATAATTATTATTTTTAAAAAGAGAAAGAAACTGGGGATGGGGAGGAAAAAAATGAAGCCCAACCCAGTGCCTCTCTCTGTCTTCTTTGAAAGCACGCGGAAATGGACGCAGGAAgccgggcggcctgcgcgccgagcgccgcgggccccggccTTAGTTTCTAACTCCAGGAGGGGTGCCAAGGCGGCGTCAGCTCGGGCTCCGGCGGCCGCTCGGCGCGCGGTGGCGGCTGGTGGCGAGGAAAAAATGGGCCATTGCCCGAGCGATCAGTCCATATAAGGCTGGGCTCCACTCACGAACCTGgggaggcggggagagggggagaaagagagggagggagggaaagaaagagggagggagggggagcgagagagggagCGGGAGAAGGGTGGAAAAAAGGGGGAAGAGACATTAAAAACGCAAAGGTTGGCCACGTGTGGGCGGGTCTTGGGAGTCAAGTGGATGAAGACAGTATTTGCAGATGTGAAATTGTGGGTTTTGGGGAGCTCCGCGCTCCCAGCCAACGGCCCTCTAGAGCAAGATGAGAGGTGTAACGTGTCAATTAATTGCAAAGACGGGGCGAGCCTTTTTTTTTTTAAACCCAGTATTTACATACAAAGGGCCACCGCGTCGCTCGCGAGTCCACACACTTGAAAGGGCCGTTTTAACAAATTGCATCTTAAAAAAGGTGGGGGTGGGGAGGAGGAGGGGAGAAAACAAAACAGAAACCAGGAGGAGGGAAAAAATCCTCTTTAACATTCACCGGTTCCTACCTCCCCGCCCCCGCGCGCCCACCCCCGGCAAGCCGGAAAATTGGCGATTTGTGGCGCCTTTGGAAAAGGGGGAGGGGGCGAAGGCCGAGCTGCGGAAATCTCTCCTTTCCATCGTTGGTGGTTGCCTAAACAAGATCCGGTTCAAATGGCAAGAGCCCAACTTCTGTAAGCCTCCTAGGTCAATATTTTGGTTGAGGCTTAAGGATGAGTGCTAGAAATGACAAGGCAAGTAATTGATTCCAGTTAACCGCGAGAGAGCCCAAAACCCAGGAGAGAGCTCCGCTCCGGGCCGGCCAGAGCCACCACCAAGCGACCCGCCCCCTTCCAGCCGCCCTTTATTTGCTAAAGACTCATTTATTTCCTTCACTCCGCCTCCCCCCACCTCCCACCCCCAACCCCCCGCCTCCACCTCTCTGCGGCCAAGGAGGACGCGCAGTTCACTTTCTGCTTTGCGGGCGGTCCCGGGGAGGGCGGGGTAAGAGTGAGGAGCTCCAACTTCGTCTGGGGTCGGACCCTGGCCCTGCTGCCTCTGGGCTCTGCGGGCCTCTTTCCCCGGGTGGAGGAAAGGGCAGACGGCCCTGCTCTTTCCTGCCCTCTATTATCCCTCCCTCTCCGGCCCCCTCCCTCTCCAGCCTCTGGCTAGAGGTGGAGCAGCGGGAAGGCGGCGGGGCGGGATTGCGGGGGTGGGGGTGGGGGTTGTGTCTCCAGCCTGGGTGAAGACCCAGAAAGCTGCGGGGGAGGGGGGTCGCTGGGTGGCCCGACGATGCCTCGTTTTCTCCCCAGTTTTCTTCTCCCACGCGAGTTCTTTAGTGTGGTCTCTTTTTGGACGCCTTGGGTGCGTTCGGAGTACGCGCTCCACGTTTCCAGGTTAAGTCAGGTTAGTGTGAAGTTTCCAGCCACTCTCGGCTCTGGGAACTGAACTTTCCCGGGACTTGCACTTCCTCCTCGGCGCTGGGGTTGGAAAAGACCACGCCGCATTTGCCACCCCTTCTTCTAGTTAAAACTTTTTTGGGGGGGGGGTGCAGGGGTGTAGATTGGCTACCTGATGCTCGTTCGCCCCAGAGGAGTGTCAGGAAGGAGCT\n"
     ]
    }
   ],
   "source": [
    "!cat Week_7/NKX2_2_promoter.fa"
   ]
  },
  {
   "cell_type": "markdown",
   "metadata": {},
   "source": [
    "### Question 1b\n",
    "Read in the sequence into a Sequence object using the Biopython SeqIO package (see Class 4 notes). Store the \".seq\" attribute of the object in the variable **NKX2_2_promoter**"
   ]
  },
  {
   "cell_type": "code",
   "execution_count": 5,
   "metadata": {},
   "outputs": [
    {
     "name": "stdout",
     "output_type": "stream",
     "text": [
      "GGTTCGAGACCCCAAAATTTATGTCGCAAAGTTGTAGCTTCACTTGGTCAATTCGTGGCGCTCCCCTGCCCCggcgggcgggggaggggggagttggggggagggactgggggaggggaggggggAATTGGCTTTAATTATTGGGATAATTATTATTTTTAAAAAGAGAAAGAAACTGGGGATGGGGAGGAAAAAAATGAAGCCCAACCCAGTGCCTCTCTCTGTCTTCTTTGAAAGCACGCGGAAATGGACGCAGGAAgccgggcggcctgcgcgccgagcgccgcgggccccggccTTAGTTTCTAACTCCAGGAGGGGTGCCAAGGCGGCGTCAGCTCGGGCTCCGGCGGCCGCTCGGCGCGCGGTGGCGGCTGGTGGCGAGGAAAAAATGGGCCATTGCCCGAGCGATCAGTCCATATAAGGCTGGGCTCCACTCACGAACCTGgggaggcggggagagggggagaaagagagggagggagggaaagaaagagggagggagggggagcgagagagggagCGGGAGAAGGGTGGAAAAAAGGGGGAAGAGACATTAAAAACGCAAAGGTTGGCCACGTGTGGGCGGGTCTTGGGAGTCAAGTGGATGAAGACAGTATTTGCAGATGTGAAATTGTGGGTTTTGGGGAGCTCCGCGCTCCCAGCCAACGGCCCTCTAGAGCAAGATGAGAGGTGTAACGTGTCAATTAATTGCAAAGACGGGGCGAGCCTTTTTTTTTTTAAACCCAGTATTTACATACAAAGGGCCACCGCGTCGCTCGCGAGTCCACACACTTGAAAGGGCCGTTTTAACAAATTGCATCTTAAAAAAGGTGGGGGTGGGGAGGAGGAGGGGAGAAAACAAAACAGAAACCAGGAGGAGGGAAAAAATCCTCTTTAACATTCACCGGTTCCTACCTCCCCGCCCCCGCGCGCCCACCCCCGGCAAGCCGGAAAATTGGCGATTTGTGGCGCCTTTGGAAAAGGGGGAGGGGGCGAAGGCCGAGCTGCGGAAATCTCTCCTTTCCATCGTTGGTGGTTGCCTAAACAAGATCCGGTTCAAATGGCAAGAGCCCAACTTCTGTAAGCCTCCTAGGTCAATATTTTGGTTGAGGCTTAAGGATGAGTGCTAGAAATGACAAGGCAAGTAATTGATTCCAGTTAACCGCGAGAGAGCCCAAAACCCAGGAGAGAGCTCCGCTCCGGGCCGGCCAGAGCCACCACCAAGCGACCCGCCCCCTTCCAGCCGCCCTTTATTTGCTAAAGACTCATTTATTTCCTTCACTCCGCCTCCCCCCACCTCCCACCCCCAACCCCCCGCCTCCACCTCTCTGCGGCCAAGGAGGACGCGCAGTTCACTTTCTGCTTTGCGGGCGGTCCCGGGGAGGGCGGGGTAAGAGTGAGGAGCTCCAACTTCGTCTGGGGTCGGACCCTGGCCCTGCTGCCTCTGGGCTCTGCGGGCCTCTTTCCCCGGGTGGAGGAAAGGGCAGACGGCCCTGCTCTTTCCTGCCCTCTATTATCCCTCCCTCTCCGGCCCCCTCCCTCTCCAGCCTCTGGCTAGAGGTGGAGCAGCGGGAAGGCGGCGGGGCGGGATTGCGGGGGTGGGGGTGGGGGTTGTGTCTCCAGCCTGGGTGAAGACCCAGAAAGCTGCGGGGGAGGGGGGTCGCTGGGTGGCCCGACGATGCCTCGTTTTCTCCCCAGTTTTCTTCTCCCACGCGAGTTCTTTAGTGTGGTCTCTTTTTGGACGCCTTGGGTGCGTTCGGAGTACGCGCTCCACGTTTCCAGGTTAAGTCAGGTTAGTGTGAAGTTTCCAGCCACTCTCGGCTCTGGGAACTGAACTTTCCCGGGACTTGCACTTCCTCCTCGGCGCTGGGGTTGGAAAAGACCACGCCGCATTTGCCACCCCTTCTTCTAGTTAAAACTTTTTTGGGGGGGGGGTGCAGGGGTGTAGATTGGCTACCTGATGCTCGTTCGCCCCAGAGGAGTGTCAGGAAGGAGCT\n"
     ]
    }
   ],
   "source": [
    "## BEGIN SOLUTION\n",
    "from Bio import SeqIO\n",
    "NKX2_2_promoter_complete=SeqIO.read('Week_7/NKX2_2_promoter.fa',\"fasta\")\n",
    "NKX2_2_promoter=NKX2_2_promoter_complete.seq\n",
    "print(NKX2_2_promoter)\n",
    "##END SOLUTION"
   ]
  },
  {
   "cell_type": "markdown",
   "metadata": {},
   "source": [
    "### Question 1c\n",
    "We have downloaded the positions weight matrices (PWM's) for the three motifs of interest from the [HOMER motif database](http://homer.ucsd.edu/homer/motif/HomerMotifDB/homerResults.html). These are stored in the files: \n",
    "\n",
    "* Week_7/rfx6.motif\n",
    "\n",
    "* Week_7/hnf1b.motif\n",
    "\n",
    "* Week_7/pdx1.motif\n",
    "\n",
    "* Week_7/meis1.motif\n",
    "\n",
    "Use the unix *cat* command to examine the contents of these files. \n"
   ]
  },
  {
   "cell_type": "code",
   "execution_count": 6,
   "metadata": {},
   "outputs": [
    {
     "name": "stdout",
     "output_type": "stream",
     "text": [
      "0.092\t0.272\t0.965\t0.001\t0.038\t0.797\t0.895\t0.001\t0.001\t0.873\n",
      "0.40399999999999997\t0.662\t0.022000000000000002\t0.001\t0.478\t0.031\t0.047\t0.001\t0.963\t0.001\n",
      "0.076\t0.021\t0.012\t0.001\t0.032\t0.001\t0.048\t0.024\t0.002\t0.001\n",
      "0.428\t0.045\t0.001\t0.997\t0.452\t0.171\t0.01\t0.9740000000000001\t0.034\t0.125\n"
     ]
    }
   ],
   "source": [
    "## BEGIN SOLUTION\n",
    "!cat Week_7/pdx1.motif\n",
    "##END SOLUTION"
   ]
  },
  {
   "cell_type": "markdown",
   "metadata": {},
   "source": [
    "### Question 1d\n",
    "Next, we will load these files into Biopython Motif objects. We will do this using the **Biopython.motifs.read** function. Note that our motif files are stored in the \"pfm\" (i.e. position frequency matrix) format. First, import the motifs package and use the \"help\" command to determine the syntax of the Biopython.motifs.read function"
   ]
  },
  {
   "cell_type": "code",
   "execution_count": 7,
   "metadata": {},
   "outputs": [
    {
     "name": "stdout",
     "output_type": "stream",
     "text": [
      "Help on function read in module Bio.motifs:\n",
      "\n",
      "read(handle, fmt, strict=True)\n",
      "    Read a motif from a handle using the specified file-format.\n",
      "    \n",
      "    This supports the same formats as Bio.motifs.parse(), but\n",
      "    only for files containing exactly one motif.  For example,\n",
      "    reading a JASPAR-style pfm file:\n",
      "    \n",
      "    >>> from Bio import motifs\n",
      "    >>> with open(\"motifs/SRF.pfm\") as handle:\n",
      "    ...     m = motifs.read(handle, \"pfm\")\n",
      "    >>> m.consensus\n",
      "    Seq('GCCCATATATGG')\n",
      "    \n",
      "    Or a single-motif MEME file,\n",
      "    \n",
      "    >>> from Bio import motifs\n",
      "    >>> with open(\"motifs/meme.psp_test.classic.zoops.xml\") as handle:\n",
      "    ...     m = motifs.read(handle, \"meme\")\n",
      "    >>> m.consensus\n",
      "    Seq('GCTTATGTAA')\n",
      "    \n",
      "    If the handle contains no records, or more than one record,\n",
      "    an exception is raised:\n",
      "    \n",
      "    >>> from Bio import motifs\n",
      "    >>> with open(\"motifs/alignace.out\") as handle:\n",
      "    ...     motif = motifs.read(handle, \"AlignAce\")\n",
      "    Traceback (most recent call last):\n",
      "        ...\n",
      "    ValueError: More than one motif found in handle\n",
      "    \n",
      "    If however you want the first motif from a file containing\n",
      "    multiple motifs this function would raise an exception (as\n",
      "    shown in the example above).  Instead use:\n",
      "    \n",
      "    >>> from Bio import motifs\n",
      "    >>> with open(\"motifs/alignace.out\") as handle:\n",
      "    ...     record = motifs.parse(handle, \"alignace\")\n",
      "    >>> motif = record[0]\n",
      "    >>> motif.consensus\n",
      "    Seq('TCTACGATTGAG')\n",
      "    \n",
      "    Use the Bio.motifs.parse(handle, fmt) function if you want\n",
      "    to read multiple records from the handle.\n",
      "    \n",
      "    If strict is True (default), the parser will raise a ValueError if the\n",
      "    file contents does not strictly comply with the specified file format.\n",
      "\n"
     ]
    }
   ],
   "source": [
    "## BEGIN SOLUTION\n",
    "from Bio import motifs\n",
    "help(motifs.read)\n",
    "##END SOLUTION "
   ]
  },
  {
   "cell_type": "markdown",
   "metadata": {},
   "source": [
    "### Question 1e\n",
    "Follow the example in the help documentation for the function to read in the motif files for rfx6, pdx1, and hnf1b into variables. Hint: The syntax in the documentation for the \"motifs/SRF.pfm\" example is very close to the syntax you will need. "
   ]
  },
  {
   "cell_type": "code",
   "execution_count": 8,
   "metadata": {},
   "outputs": [],
   "source": [
    "## BEGIN SOLUTION\n",
    "with open(\"Week_7/pdx1.motif\") as handle:\n",
    "    pdx1 = motifs.read(handle, \"pfm\")\n",
    "with open(\"Week_7/hnf1b.motif\") as handle:\n",
    "    hnf1b = motifs.read(handle, \"pfm\")\n",
    "with open(\"Week_7/rfx6.motif\") as handle:\n",
    "    rfx6 = motifs.read(handle, \"pfm\")\n",
    "with open(\"Week_7/meis1.motif\") as handle:\n",
    "    meis1 = motifs.read(handle, \"pfm\")\n",
    "##END SOLUTION "
   ]
  },
  {
   "cell_type": "markdown",
   "metadata": {},
   "source": [
    "### Question 1f\n",
    "Check that the motif files were read in correctly in 1d by printing out the consensus motifs for each of the three transcription factors. Hint: m.consensus prints out the consensus motif for the example in the help file."
   ]
  },
  {
   "cell_type": "code",
   "execution_count": 9,
   "metadata": {},
   "outputs": [
    {
     "name": "stdout",
     "output_type": "stream",
     "text": [
      "TGTTTCCTAGCAACC\n",
      "TCATCAATCA\n",
      "GTTAATGATTAA\n",
      "GGCTGTCAGC\n"
     ]
    }
   ],
   "source": [
    "###BEGIN SOLUTION\n",
    "print(rfx6.consensus)\n",
    "print(pdx1.consensus)\n",
    "print(hnf1b.consensus)\n",
    "print(meis1.consensus)\n",
    "###END SOLUTION "
   ]
  },
  {
   "cell_type": "markdown",
   "metadata": {},
   "source": [
    "### Question 1g\n",
    "Before we can scan the promoter sequence of NKX2-2 for the three motifs, we will need to transform the motifs from the PWM (also known as PFM) format to the PSSM format. \n",
    "\n",
    "What does PSSM stand for? \n",
    "\n",
    "**BEGIN ANSWER**: \n",
    "\n",
    "**END ANSWER**\n",
    "\n",
    "Why do we need to use the PSSM format rather than the PWM format when scanning for a motif in a genome sequence? \n",
    "\n",
    "**BEGIN ANSWER**: \n",
    "\n",
    "**END ANSWER**\n"
   ]
  },
  {
   "cell_type": "markdown",
   "metadata": {},
   "source": [
    "### Question 1h\n",
    "Print the pssm for the rfx6 motif. \n",
    "Hint: the pssm is an attribute of a Motif object in Biopython, so you shouldn't have to write much additional code \n"
   ]
  },
  {
   "cell_type": "code",
   "execution_count": 10,
   "metadata": {},
   "outputs": [
    {
     "data": {
      "text/plain": [
       "{'A': [-1.3075728019102921,\n",
       "  -2.321928094887362,\n",
       "  -7.965784284662087,\n",
       "  -0.5145731728297583,\n",
       "  -1.9885043611621704,\n",
       "  -7.965784284662087,\n",
       "  -4.380821783940931,\n",
       "  -2.0115879742752116,\n",
       "  1.5340616024211184,\n",
       "  -7.965784284662087,\n",
       "  -2.0350469470992003,\n",
       "  1.9634741239748859,\n",
       "  1.84799690655495,\n",
       "  -7.965784284662087,\n",
       "  0.7045441164738289],\n",
       " 'C': [-1.3364276645824773,\n",
       "  -2.3510744405468786,\n",
       "  -0.6259342817774622,\n",
       "  0.1056780778945369,\n",
       "  -1.8365012677171204,\n",
       "  1.995665409736109,\n",
       "  1.6191782160590693,\n",
       "  -0.5311560570253623,\n",
       "  -7.965784284662087,\n",
       "  -7.965784284662087,\n",
       "  1.8090027749390865,\n",
       "  -7.965784284662087,\n",
       "  -7.965784284662087,\n",
       "  1.995665409736109,\n",
       "  0.7116161651493305],\n",
       " 'G': [0.09491164702546698,\n",
       "  1.830255324167683,\n",
       "  -2.3510744405468786,\n",
       "  -3.321928094887362,\n",
       "  0.5220557491609643,\n",
       "  -7.965784284662087,\n",
       "  -7.965784284662087,\n",
       "  -7.965784284662087,\n",
       "  0.1322477982984395,\n",
       "  1.995665409736109,\n",
       "  -7.965784284662087,\n",
       "  -7.965784284662087,\n",
       "  -1.3510744405468789,\n",
       "  -7.965784284662087,\n",
       "  -1.6067888631743346],\n",
       " 'T': [1.0922074380970888,\n",
       "  -4.380821783940931,\n",
       "  1.6562675347942892,\n",
       "  1.0867837661420667,\n",
       "  1.022900402110079,\n",
       "  -7.965784284662087,\n",
       "  -0.19099722506091382,\n",
       "  1.6116445433736617,\n",
       "  -7.965784284662087,\n",
       "  -7.965784284662087,\n",
       "  -2.0115879742752116,\n",
       "  -3.4422223286050744,\n",
       "  -7.965784284662087,\n",
       "  -7.965784284662087,\n",
       "  -1.3061293850406237]}"
      ]
     },
     "execution_count": 10,
     "metadata": {},
     "output_type": "execute_result"
    }
   ],
   "source": [
    "###BEGIN SOLUTION\n",
    "rfx6.pssm\n",
    "###END SOLUTION "
   ]
  },
  {
   "cell_type": "markdown",
   "metadata": {},
   "source": [
    "### Question 1i\n",
    "Scan the sequence you stored in the variable **NKX2_2_promoter** for each of the three motifs. See \"Motif Scanning with Biopython\" section in class 11. We consider the motif a match to the sequence if it has an alignment score greater than 10. Recall that you can specify the alignment score threshold with the \"threshold\" parameter.  \n",
    "\n"
   ]
  },
  {
   "cell_type": "markdown",
   "metadata": {},
   "source": [
    "Search for the rfx6 motif in the NKX2_2 promoter region. Rather than printing the values out on the screen like we did in class, store the search result in the variable \"rfx6_hits\". \n"
   ]
  },
  {
   "cell_type": "code",
   "execution_count": 11,
   "metadata": {},
   "outputs": [],
   "source": [
    "##BEGIN SOLUTION\n",
    "from Bio.Seq import Seq\n",
    "rfx6_hits= rfx6.pssm.search(NKX2_2_promoter, threshold=10)\n",
    "###END SOLUTION\n",
    "rfx6_hits=[i for i in rfx6_hits]"
   ]
  },
  {
   "cell_type": "markdown",
   "metadata": {},
   "source": [
    "Repeat the steps above to search for the Pdx1 motif in the tgfb1_promoter sequence and store the result in the variable pdx1_hits. "
   ]
  },
  {
   "cell_type": "code",
   "execution_count": 12,
   "metadata": {},
   "outputs": [],
   "source": [
    "##BEGIN SOLUTION\n",
    "from Bio.Seq import Seq\n",
    "pdx1_hits= pdx1.pssm.search(NKX2_2_promoter, threshold=10)\n",
    "###END SOLUTION\n",
    "pdx1_hits=[i for i in pdx1_hits]"
   ]
  },
  {
   "cell_type": "markdown",
   "metadata": {},
   "source": [
    "Repeat the steps above to search for the hnf1b motif in the tgfb1_promoter sequence and store the result in the variable hnf1b_hits. "
   ]
  },
  {
   "cell_type": "code",
   "execution_count": 13,
   "metadata": {},
   "outputs": [],
   "source": [
    "##BEGIN SOLUTION\n",
    "from Bio.Seq import Seq\n",
    "hnf1b_hits= hnf1b.pssm.search(NKX2_2_promoter, threshold=10)\n",
    "###END SOLUTION\n",
    "hnf1b_hits=[i for i in hnf1b_hits]"
   ]
  },
  {
   "cell_type": "markdown",
   "metadata": {},
   "source": [
    "### Question 1j\n",
    "\n",
    "The helper function below iterates through every [position,score] value in the output from the   search from 1i. Fill in the rest of the helper function so it identifies the highest alignment score and the corresponding position. \n",
    "\n",
    "The function returns a default score of -100 and a position of \"None\" if there is no quality alignment of the motif to the sequence. \n"
   ]
  },
  {
   "cell_type": "code",
   "execution_count": 14,
   "metadata": {},
   "outputs": [],
   "source": [
    "def get_best_alignment(hits): \n",
    "    best_alignment_score=-100\n",
    "    best_alignment_position=None\n",
    "    for [position,score] in hits: \n",
    "        \n",
    "        ###BEGIN SOLUTION\n",
    "        if score > best_alignment_score: \n",
    "            best_alignment_score=score \n",
    "            best_alignment_position=position\n",
    "        ###END SOLUTION  \n",
    "\n",
    "    return best_alignment_score,best_alignment_position"
   ]
  },
  {
   "cell_type": "markdown",
   "metadata": {},
   "source": [
    "### Question 1k\n",
    "\n",
    "Execute the get_best_alignment function to find the best alignment position and score for the Rfx6, Pdx1 and Hnf1b motifs. Make sure its clear which position and score go with which transcription factor. \n"
   ]
  },
  {
   "cell_type": "code",
   "execution_count": 15,
   "metadata": {},
   "outputs": [
    {
     "name": "stdout",
     "output_type": "stream",
     "text": [
      "pdx1\n",
      "-100\n",
      "None\n",
      "hnf1b\n",
      "10.492508\n",
      "132\n",
      "rfx6\n",
      "-100\n",
      "None\n"
     ]
    }
   ],
   "source": [
    "###BEGIN SOLUTION\n",
    "print('pdx1')\n",
    "best_pdx1_alignment_score,best_pdx1_alignment_position=get_best_alignment(pdx1_hits)\n",
    "print(best_pdx1_alignment_score)\n",
    "print(best_pdx1_alignment_position)\n",
    "print('hnf1b')\n",
    "best_hnf1b_alignment_score,best_hnf1b_alignment_position=get_best_alignment(hnf1b_hits)\n",
    "print(best_hnf1b_alignment_score)\n",
    "print(best_hnf1b_alignment_position)\n",
    "print('rfx6')\n",
    "best_rfx6_alignment_score,best_rfx6_alignment_position=get_best_alignment(rfx6_hits)\n",
    "print(best_rfx6_alignment_score)\n",
    "print(best_rfx6_alignment_position)\n",
    "###END SOLUTION "
   ]
  },
  {
   "cell_type": "markdown",
   "metadata": {},
   "source": [
    "### Question 1l \n",
    "Do any motifs align to the NKX2.2 promoter region gene promoter? \n",
    "\n",
    "**ANSWER** "
   ]
  },
  {
   "cell_type": "markdown",
   "metadata": {},
   "source": [
    "## Question 2: Exploring CHIP-Seq Data"
   ]
  },
  {
   "cell_type": "markdown",
   "metadata": {},
   "source": [
    "We have sampled 10000 regions from the human reference genome at random. At each of these regions, we have data from a CHIP-Seq experiment within the GM12878 cell (blood cell line) measuring the strength of 5 histone markers: \n",
    "\n",
    "* H3K4me3, \n",
    "* H3K4me1, \n",
    "* H3K36me3, \n",
    "* H3K9me3,\n",
    "* H3K27me3. \n",
    "\n",
    "The regions are denoted with the chromosome number, start position and end position. \n",
    "\n",
    "The data is stored as a table in a file in your Week_7 folder called **region_x_chrom_mark.tsv**"
   ]
  },
  {
   "cell_type": "markdown",
   "metadata": {},
   "source": [
    "### Question 2a. \n",
    "Read in the CHIP-Seq data into a pandas dataframe."
   ]
  },
  {
   "cell_type": "code",
   "execution_count": 16,
   "metadata": {},
   "outputs": [
    {
     "data": {
      "text/html": [
       "<div>\n",
       "<style scoped>\n",
       "    .dataframe tbody tr th:only-of-type {\n",
       "        vertical-align: middle;\n",
       "    }\n",
       "\n",
       "    .dataframe tbody tr th {\n",
       "        vertical-align: top;\n",
       "    }\n",
       "\n",
       "    .dataframe thead th {\n",
       "        text-align: right;\n",
       "    }\n",
       "</style>\n",
       "<table border=\"1\" class=\"dataframe\">\n",
       "  <thead>\n",
       "    <tr style=\"text-align: right;\">\n",
       "      <th></th>\n",
       "      <th>H3K4me3</th>\n",
       "      <th>H3K4me1</th>\n",
       "      <th>H3K36me3</th>\n",
       "      <th>H3K9me3</th>\n",
       "      <th>H3K27me3</th>\n",
       "    </tr>\n",
       "    <tr>\n",
       "      <th>chrom_start_end</th>\n",
       "      <th></th>\n",
       "      <th></th>\n",
       "      <th></th>\n",
       "      <th></th>\n",
       "      <th></th>\n",
       "    </tr>\n",
       "  </thead>\n",
       "  <tbody>\n",
       "    <tr>\n",
       "      <th>chr7_127544000_127548400</th>\n",
       "      <td>-0.034576</td>\n",
       "      <td>0.999976</td>\n",
       "      <td>1.002766</td>\n",
       "      <td>-0.008026</td>\n",
       "      <td>-0.004839</td>\n",
       "    </tr>\n",
       "    <tr>\n",
       "      <th>chr4_76527400_76555000</th>\n",
       "      <td>0.043925</td>\n",
       "      <td>0.006553</td>\n",
       "      <td>-0.011049</td>\n",
       "      <td>0.002766</td>\n",
       "      <td>0.010979</td>\n",
       "    </tr>\n",
       "    <tr>\n",
       "      <th>chr5_145824000_145825600</th>\n",
       "      <td>0.007112</td>\n",
       "      <td>-0.003677</td>\n",
       "      <td>0.024232</td>\n",
       "      <td>0.002832</td>\n",
       "      <td>0.014081</td>\n",
       "    </tr>\n",
       "    <tr>\n",
       "      <th>chr1_20712600_20713400</th>\n",
       "      <td>0.011705</td>\n",
       "      <td>-0.002807</td>\n",
       "      <td>0.021803</td>\n",
       "      <td>-0.012496</td>\n",
       "      <td>1.020973</td>\n",
       "    </tr>\n",
       "    <tr>\n",
       "      <th>chr7_33139000_33140800</th>\n",
       "      <td>0.020133</td>\n",
       "      <td>0.981349</td>\n",
       "      <td>1.001418</td>\n",
       "      <td>0.020834</td>\n",
       "      <td>0.004710</td>\n",
       "    </tr>\n",
       "    <tr>\n",
       "      <th>chr3_76581600_76582000</th>\n",
       "      <td>0.021827</td>\n",
       "      <td>1.028691</td>\n",
       "      <td>-0.004334</td>\n",
       "      <td>0.021018</td>\n",
       "      <td>-0.000318</td>\n",
       "    </tr>\n",
       "    <tr>\n",
       "      <th>chr3_130516200_130529600</th>\n",
       "      <td>0.008528</td>\n",
       "      <td>-0.027219</td>\n",
       "      <td>-0.026783</td>\n",
       "      <td>0.015416</td>\n",
       "      <td>0.018576</td>\n",
       "    </tr>\n",
       "    <tr>\n",
       "      <th>chr13_28126600_28127600</th>\n",
       "      <td>0.003078</td>\n",
       "      <td>0.006193</td>\n",
       "      <td>1.001638</td>\n",
       "      <td>0.004833</td>\n",
       "      <td>-0.011625</td>\n",
       "    </tr>\n",
       "    <tr>\n",
       "      <th>chr22_38782600_38783600</th>\n",
       "      <td>1.002270</td>\n",
       "      <td>0.463840</td>\n",
       "      <td>-0.013768</td>\n",
       "      <td>0.015768</td>\n",
       "      <td>-0.000375</td>\n",
       "    </tr>\n",
       "    <tr>\n",
       "      <th>chr21_42597800_42601600</th>\n",
       "      <td>0.001003</td>\n",
       "      <td>-0.007353</td>\n",
       "      <td>-0.008250</td>\n",
       "      <td>-0.017715</td>\n",
       "      <td>0.467801</td>\n",
       "    </tr>\n",
       "  </tbody>\n",
       "</table>\n",
       "</div>"
      ],
      "text/plain": [
       "                           H3K4me3   H3K4me1  H3K36me3   H3K9me3  H3K27me3\n",
       "chrom_start_end                                                           \n",
       "chr7_127544000_127548400 -0.034576  0.999976  1.002766 -0.008026 -0.004839\n",
       "chr4_76527400_76555000    0.043925  0.006553 -0.011049  0.002766  0.010979\n",
       "chr5_145824000_145825600  0.007112 -0.003677  0.024232  0.002832  0.014081\n",
       "chr1_20712600_20713400    0.011705 -0.002807  0.021803 -0.012496  1.020973\n",
       "chr7_33139000_33140800    0.020133  0.981349  1.001418  0.020834  0.004710\n",
       "chr3_76581600_76582000    0.021827  1.028691 -0.004334  0.021018 -0.000318\n",
       "chr3_130516200_130529600  0.008528 -0.027219 -0.026783  0.015416  0.018576\n",
       "chr13_28126600_28127600   0.003078  0.006193  1.001638  0.004833 -0.011625\n",
       "chr22_38782600_38783600   1.002270  0.463840 -0.013768  0.015768 -0.000375\n",
       "chr21_42597800_42601600   0.001003 -0.007353 -0.008250 -0.017715  0.467801"
      ]
     },
     "execution_count": 16,
     "metadata": {},
     "output_type": "execute_result"
    }
   ],
   "source": [
    "##BEGIN SOLUTION\n",
    "import pandas as pd  \n",
    "chipseq_filename='Week_7/region_x_chrom_mark.tsv'\n",
    "\n",
    "# Read in the RNA-seq data matrix. \n",
    "chipseq= pd.read_table(filepath_or_buffer=chipseq_filename, \n",
    "     header=0,\n",
    "     index_col=0)\n",
    "\n",
    "chipseq.head(10)\n",
    "\n",
    "###END SOLUTION\n"
   ]
  },
  {
   "cell_type": "markdown",
   "metadata": {},
   "source": [
    "### Question 2b. \n",
    "\n",
    "Print out the number of rows and number of columns in the CHIP-seq data. Make sure it is clear which value refers to rows and which to columns. "
   ]
  },
  {
   "cell_type": "code",
   "execution_count": 17,
   "metadata": {},
   "outputs": [
    {
     "name": "stdout",
     "output_type": "stream",
     "text": [
      "rows 10000\n",
      "cols 5\n"
     ]
    }
   ],
   "source": [
    "##BEGIN SOLUTION\n",
    "print('rows '+str(chipseq.shape[0]))\n",
    "print('cols '+str(chipseq.shape[1]))\n",
    "###END SOLUTION\n"
   ]
  },
  {
   "cell_type": "markdown",
   "metadata": {},
   "source": [
    "### Question 2c. \n",
    "\n",
    "Print out just the line for chr3_76581600_76582000. "
   ]
  },
  {
   "cell_type": "code",
   "execution_count": 18,
   "metadata": {},
   "outputs": [
    {
     "data": {
      "text/plain": [
       "H3K4me3     0.021827\n",
       "H3K4me1     1.028691\n",
       "H3K36me3   -0.004334\n",
       "H3K9me3     0.021018\n",
       "H3K27me3   -0.000318\n",
       "Name: chr3_76581600_76582000, dtype: float64"
      ]
     },
     "execution_count": 18,
     "metadata": {},
     "output_type": "execute_result"
    }
   ],
   "source": [
    "##BEGIN SOLUTION\n",
    "chipseq.loc[\"chr3_76581600_76582000\"]\n",
    "###END SOLUTION"
   ]
  },
  {
   "cell_type": "markdown",
   "metadata": {},
   "source": [
    "Which of the five histone markers is present in chr4_56321200_56321600?<br>\n",
    "\n",
    "**BEGIN ANSWER**: \n",
    "\n",
    "**END ANSWER**"
   ]
  },
  {
   "cell_type": "markdown",
   "metadata": {},
   "source": [
    "### Question 2d. \n",
    "\n",
    "Import the plotnine package for plotting"
   ]
  },
  {
   "cell_type": "code",
   "execution_count": 19,
   "metadata": {},
   "outputs": [],
   "source": [
    "%%capture\n",
    "\n",
    "## %%capture Suppresses all outputs from this cell, including warnings\n",
    "\n",
    "##BEGIN SOLUTION\n",
    "from plotnine import *\n",
    "##END SOLUTION"
   ]
  },
  {
   "cell_type": "markdown",
   "metadata": {},
   "source": [
    "Make a histogram of the H3K4me1 column to get a sense for the distribution of the range of values for the histone markers."
   ]
  },
  {
   "cell_type": "code",
   "execution_count": 20,
   "metadata": {},
   "outputs": [
    {
     "data": {
      "image/png": "[encoded data removed]",
      "text/plain": [
       "<Figure size 640x480 with 1 Axes>"
      ]
     },
     "metadata": {},
     "output_type": "display_data"
    },
    {
     "data": {
      "text/plain": [
       "<ggplot: (8775182531549)>"
      ]
     },
     "execution_count": 20,
     "metadata": {},
     "output_type": "execute_result"
    }
   ],
   "source": [
    "import warnings\n",
    "warnings.filterwarnings('ignore')\n",
    "\n",
    "##BEGIN SOLUTION\n",
    "from plotnine import *\n",
    "x=chipseq['H3K4me1']\n",
    "qplot(x=x,\n",
    "      geom=\"histogram\",\n",
    "      xlab=\"Values\",\n",
    "      ylab=\"Number of Samples\")\n",
    "##END SOLUTION"
   ]
  },
  {
   "cell_type": "markdown",
   "metadata": {},
   "source": [
    "## Question 3: Exploring CHIP-Seq Data"
   ]
  },
  {
   "cell_type": "markdown",
   "metadata": {},
   "source": [
    "The ENCODE project has aggregated data from multiple transcription factor ChIP-seq experiments performed on the GM12878 lymphoblastoid cell line [(over 150 such experiments)!](https://www.encodeproject.org/search/?type=Experiment&replicates.library.biosample.donor.organism.scientific_name=Homo+sapiens&biosample_type=immortalized+cell+line&organ_slims=blood&assembly=hg19&assay_title=ChIP-seq&biosample_term_name=GM12878&assay_title=ChIP-seq). We have downloaded and merged the peak calls from these experiments in the file **Week_7/GM12878_allTFBS.bed**. This is a standard bed file with columns for \n",
    "\n",
    "* Chromosome \n",
    "* Start of peak \n",
    "* End of peak \n",
    "* Name of TF (transcription factor) that binds to this site in the genome. \n",
    "\n",
    "Additionally, we have downloaded the ENCODE [active enhancers for the GM12878 cell line.](https://www.encodeproject.org/annotations/ENCSR580CJW/) These were obtained by analyzing H3K27ac ChIP-seq peaks throughout the genome, which are indicative of active enhancer regions. The annotations are stored in the bed file **Week_7/GM12878_enhancer_regions.bed**. \n",
    "\n",
    "\n",
    "Your mission is to identify the transcription factor motifs that are most enriched within the GM12878 active enhancer regions. "
   ]
  },
  {
   "cell_type": "markdown",
   "metadata": {},
   "source": [
    "### Question 3a \n",
    "\n",
    "Write commands to view the first ten lines of both the GM12878_enhancer_regions.bed file and the GM12878_allTFBS.bed. file. "
   ]
  },
  {
   "cell_type": "code",
   "execution_count": 21,
   "metadata": {},
   "outputs": [
    {
     "name": "stdout",
     "output_type": "stream",
     "text": [
      "chr1\t237564\t237934\tRunx3\n",
      "chr1\t237593\t237953\tCtcf\n",
      "chr1\t237620\t237884\tRad21\n",
      "chr1\t237626\t237876\tCtcf\n",
      "chr1\t237645\t237861\tCtcf\n",
      "chr1\t237651\t237855\tCtcf\n",
      "chr1\t237660\t237850\tRad21\n",
      "chr1\t237661\t237845\tCtcf\n",
      "chr1\t521337\t521697\tCtcf\n",
      "chr1\t521430\t521680\tCtcf\n",
      "chr21\t44771940\t44776681\tDistal-Prediction-1\t1\t.\t44772580\t44772730\t255,205,0\n",
      "chr1\t235140318\t235154768\tDistal-Prediction-2\t1\t.\t235147700\t235147850\t255,205,0\n",
      "chr15\t65183074\t65188955\tDistal-Prediction-3\t1\t.\t65186100\t65186390\t255,205,0\n",
      "chr10\t42393340\t42393490\tDistal-Prediction-4\t1\t.\t42393340\t42393490\t255,205,0\n",
      "chr12\t125256165\t125261264\tDistal-Prediction-5\t1\t.\t125259220\t125259370\t255,205,0\n",
      "chr10\t81042355\t81047539\tDistal-Prediction-6\t1\t.\t81046180\t81046330\t255,205,0\n",
      "chr10\t125148761\t125163701\tDistal-Prediction-7\t1\t.\t125151820\t125151970\t255,205,0\n",
      "chr22\t23268834\t23279737\tDistal-Prediction-8\t1\t.\t23277860\t23278010\t255,205,0\n",
      "chr13\t100082683\t100089268\tDistal-Prediction-9\t1\t.\t100085160\t100085310\t255,205,0\n",
      "chr2\t85164627\t85174450\tDistal-Prediction-10\t1\t.\t85166860\t85167010\t255,205,0\n"
     ]
    }
   ],
   "source": [
    "##BEGIN SOLUTION\n",
    "! head -n10 Week_7/GM12878_allTFBS.bed\n",
    "! head -n10 Week_7/GM12878_enhancer_regions.bed\n",
    "###END SOLUTION"
   ]
  },
  {
   "cell_type": "markdown",
   "metadata": {},
   "source": [
    "### Question 3b \n",
    "\n",
    "Use the bedtools [sort command](https://bedtools.readthedocs.io/en/latest/content/tools/sort.html) to sort both the Week_7/GM12878_enhancer_regions.bed file and the Week_7/GM12878_allTFBS.bed file.  Store the sorted files as \"Week_7/GM12878.enh.sorted.bed\" and \"Week_7/GM12878.TFBS.sorted.bed\"."
   ]
  },
  {
   "cell_type": "code",
   "execution_count": 22,
   "metadata": {},
   "outputs": [],
   "source": [
    "##BEGIN SOLUTION\n",
    "!bedtools sort -i Week_7/GM12878_allTFBS.bed > Week_7/GM12878.TFBS.sorted.bed\n",
    "!bedtools sort -i Week_7/GM12878_enhancer_regions.bed > Week_7/GM12878.enh.sorted.bed\n",
    "###END SOLUTION"
   ]
  },
  {
   "cell_type": "markdown",
   "metadata": {},
   "source": [
    "### Question 3c.\n",
    "\n",
    "Use bedtools to identify all TF (transcription factor) binding sites that overlap an enhancer region in GM12878. Store these TF binding sites in a file called **Week_7/TFBS.enh.intersection.bed**.  Examine the contents of file Week_7/TFBS.enh.intersection.bed by viewing the first ten lines of the file. <a name='intersect'>"
   ]
  },
  {
   "cell_type": "code",
   "execution_count": 23,
   "metadata": {},
   "outputs": [
    {
     "name": "stdout",
     "output_type": "stream",
     "text": [
      "chr1\t713716\t714280\tPol2\n",
      "chr1\t713756\t714672\tPol2\n",
      "chr1\t713756\t714672\tPol2\n",
      "chr1\t713763\t714510\tPol2\n",
      "chr1\t713802\t714192\tPol2\n",
      "chr1\t713833\t714433\tCmyc\n",
      "chr1\t713837\t714273\tMxi1\n",
      "chr1\t713838\t714151\tYy1\n",
      "chr1\t713841\t714277\tMaz\n",
      "chr1\t713845\t714131\tPml\n"
     ]
    }
   ],
   "source": [
    "##BEGIN SOLUTION\n",
    "! bedtools intersect -a Week_7/GM12878.TFBS.sorted.bed -b Week_7/GM12878.enh.sorted.bed > Week_7/TFBS.enh.intersection.bed\n",
    "!head -n10 Week_7/TFBS.enh.intersection.bed\n",
    "###END SOLUTION"
   ]
  },
  {
   "cell_type": "markdown",
   "metadata": {},
   "source": [
    "### Question 3d\n",
    "\n",
    "Generate a dictionary called \"TF_count_dict\" with the following fields: <a name='dict'>\n",
    "\n",
    "* Keys are the TF's that bind to enhancer regions within GM12878 (i.e. Pol2, Cmyc, Mxi1, ...) \n",
    "* Values are the number of times that each TF appears in a peak. \n"
   ]
  },
  {
   "cell_type": "code",
   "execution_count": 24,
   "metadata": {},
   "outputs": [
    {
     "name": "stdout",
     "output_type": "stream",
     "text": [
      "{'Pol2': 97718, 'Cmyc': 3700, 'Mxi1': 16897, 'Yy1': 23158, 'Maz': 17463, 'Pml': 15989, 'Atf2': 18276, 'Pou2f2': 18314, 'Tbp': 14030, 'P300': 18753, 'Elk1': 5363, 'Brca1': 548, 'Chd2': 14735, 'Egr1': 13840, 'Rfx5': 3686, 'Nfyb': 7821, 'Gabp': 6186, 'Usf1': 6695, 'Sp1': 16993, 'Six5': 4158, 'Elf1': 19952, 'Usf2': 6994, 'Runx3': 38432, 'Srf': 6693, 'Znf143': 9736, 'Ebf1': 41045, 'Ctcf': 60674, 'Taf1': 14041, 'Zeb1': 3982, 'Pbx3': 6809, 'Pax5': 33475, 'Max': 11984, 'Pu1': 18320, 'Tcf3': 12767, 'Bhlhe40': 11908, 'Rad21': 21125, 'Smc3': 10134, 'Bcl3': 9244, 'Bhlhe40c': 1, 'Tcf12': 16369, 'Sin3a': 10263, 'Batf': 16022, 'Nfic': 20568, 'Tblr1': 12429, 'Mef2c': 6847, 'Mef2a': 12255, 'Nrf1': 5441, 'E2f4': 3279, 'Chd1': 6487, 'Bcl11a': 12894, 'Irf4': 13000, 'Stat1': 1534, 'Stat5a': 6231, 'Nfatc1': 7783, 'Cebpb': 5204, 'NfkbTnfa': 13655, 'Mta3': 10711, 'Foxm1': 18243, 'P300b': 5293, 'Rxra': 1592, 'Zbtb33': 1878, 'Ets1': 3847, 'Nrsf': 2862, 'Corest': 1339, 'Cfos': 2140, 'Atf3': 1303, 'Bclaf': 5811, 'Whip': 11738, 'Nfya': 1754, 'Tr4': 590, 'Ikzf1iknucla': 7441, 'Jund': 1870, 'Stat3': 5710, 'Nfe2': 643, 'Ezh2': 688, 'Irf3': 338, 'Zzz3': 250, 'Gcn5': 150, 'Pol3': 204, 'Spt20': 15}\n"
     ]
    }
   ],
   "source": [
    "def tally_TF_counts(TF_file_name): \n",
    "    #read in the TF_file_name and store the file lines in a list called 'data'\n",
    "    ###BEGIN SOLUTION\n",
    "    with open(TF_file_name) as file: \n",
    "        data=file.read().strip().split('\\n')\n",
    "    ###END SOLUTION\n",
    "    tally_dict=dict() \n",
    "    #iterate through each line in data, split the string contained in each line by the '\\t' delimiter \n",
    "    for line in data: \n",
    "        tokens=line.split('\\t')\n",
    "         ###BEGIN SOLUTION\n",
    "         #Step 1: check whether the 4th value in the list tokens (i.e. the TF that binds this site in the genome) \n",
    "         # already exists in tally_dict. \n",
    "        if tokens[3] in(tally_dict):\n",
    "            tally_dict[tokens[3]]=tally_dict[tokens[3]]+1\n",
    "        else:\n",
    "            tally_dict[tokens[3]]=1\n",
    "         ###END SOLUTION\n",
    "    return tally_dict \n",
    "\n",
    "## Execute the function tally_TF_counts on the file that contains the intersection of peaks and known TF binding sites.\n",
    "## Store the dictionary it returns as TF_count_dict\n",
    "TF_count_dict=tally_TF_counts('Week_7/TFBS.enh.intersection.bed')\n",
    "print(TF_count_dict)"
   ]
  },
  {
   "cell_type": "markdown",
   "metadata": {},
   "source": [
    "### Question 3e.  \n",
    "\n",
    "Use the function pandas.DataFrame.from_dict to convert your tally_dict into a pandas data frame so it can be sorted.  \n",
    "\n",
    "Use \"help(pd.DataFrame.from_dict) to learn about the inputs and outputs of this function. "
   ]
  },
  {
   "cell_type": "code",
   "execution_count": 25,
   "metadata": {},
   "outputs": [
    {
     "name": "stdout",
     "output_type": "stream",
     "text": [
      "Help on method from_dict in module pandas.core.frame:\n",
      "\n",
      "from_dict(data, orient='columns', dtype=None, columns=None) -> 'DataFrame' method of builtins.type instance\n",
      "    Construct DataFrame from dict of array-like or dicts.\n",
      "    \n",
      "    Creates DataFrame object from dictionary by columns or by index\n",
      "    allowing dtype specification.\n",
      "    \n",
      "    Parameters\n",
      "    ----------\n",
      "    data : dict\n",
      "        Of the form {field : array-like} or {field : dict}.\n",
      "    orient : {'columns', 'index'}, default 'columns'\n",
      "        The \"orientation\" of the data. If the keys of the passed dict\n",
      "        should be the columns of the resulting DataFrame, pass 'columns'\n",
      "        (default). Otherwise if the keys should be rows, pass 'index'.\n",
      "    dtype : dtype, default None\n",
      "        Data type to force, otherwise infer.\n",
      "    columns : list, default None\n",
      "        Column labels to use when ``orient='index'``. Raises a ValueError\n",
      "        if used with ``orient='columns'``.\n",
      "    \n",
      "    Returns\n",
      "    -------\n",
      "    DataFrame\n",
      "    \n",
      "    See Also\n",
      "    --------\n",
      "    DataFrame.from_records : DataFrame from structured ndarray, sequence\n",
      "        of tuples or dicts, or DataFrame.\n",
      "    DataFrame : DataFrame object creation using constructor.\n",
      "    \n",
      "    Examples\n",
      "    --------\n",
      "    By default the keys of the dict become the DataFrame columns:\n",
      "    \n",
      "    >>> data = {'col_1': [3, 2, 1, 0], 'col_2': ['a', 'b', 'c', 'd']}\n",
      "    >>> pd.DataFrame.from_dict(data)\n",
      "       col_1 col_2\n",
      "    0      3     a\n",
      "    1      2     b\n",
      "    2      1     c\n",
      "    3      0     d\n",
      "    \n",
      "    Specify ``orient='index'`` to create the DataFrame using dictionary\n",
      "    keys as rows:\n",
      "    \n",
      "    >>> data = {'row_1': [3, 2, 1, 0], 'row_2': ['a', 'b', 'c', 'd']}\n",
      "    >>> pd.DataFrame.from_dict(data, orient='index')\n",
      "           0  1  2  3\n",
      "    row_1  3  2  1  0\n",
      "    row_2  a  b  c  d\n",
      "    \n",
      "    When using the 'index' orientation, the column names can be\n",
      "    specified manually:\n",
      "    \n",
      "    >>> pd.DataFrame.from_dict(data, orient='index',\n",
      "    ...                        columns=['A', 'B', 'C', 'D'])\n",
      "           A  B  C  D\n",
      "    row_1  3  2  1  0\n",
      "    row_2  a  b  c  d\n",
      "\n"
     ]
    }
   ],
   "source": [
    "###BEGIN SOLUTION\n",
    "help(pd.DataFrame.from_dict)\n",
    "###END SOLUTION "
   ]
  },
  {
   "cell_type": "markdown",
   "metadata": {},
   "source": [
    "Now, execute the function, passing \"tally_dict\" as the input and setting orient=\"index\" \n",
    "Store the data frame in variable \"df\""
   ]
  },
  {
   "cell_type": "code",
   "execution_count": 26,
   "metadata": {},
   "outputs": [
    {
     "data": {
      "text/plain": [
       "<bound method NDFrame.head of            0\n",
       "Pol2   97718\n",
       "Cmyc    3700\n",
       "Mxi1   16897\n",
       "Yy1    23158\n",
       "Maz    17463\n",
       "...      ...\n",
       "Irf3     338\n",
       "Zzz3     250\n",
       "Gcn5     150\n",
       "Pol3     204\n",
       "Spt20     15\n",
       "\n",
       "[80 rows x 1 columns]>"
      ]
     },
     "execution_count": 26,
     "metadata": {},
     "output_type": "execute_result"
    }
   ],
   "source": [
    "###BEGIN SOLUTION\n",
    "df=pd.DataFrame.from_dict(TF_count_dict,orient=\"index\")\n",
    "df.head\n",
    "###END SOLUTION "
   ]
  },
  {
   "cell_type": "markdown",
   "metadata": {},
   "source": [
    "### Question 3f.  \n",
    "\n",
    "Sort the TFs in your dictionary so that the TF that appears the largest number of times is at the top of the file, while the TF that appears the smallest number of times is at the bottom. \n",
    "\n",
    "You may find that the pandas.DataFrame.sort_values function is useful.\n",
    "\n",
    "Sort the dataframe by column 0 (i.e. this column contains the counts for each TF)\n",
    "\n",
    "Make sure you sort in *descending* order so that the most common TF's can be found with the head command. \n"
   ]
  },
  {
   "cell_type": "code",
   "execution_count": 27,
   "metadata": {},
   "outputs": [
    {
     "data": {
      "text/plain": [
       "<bound method NDFrame.head of               0\n",
       "Pol2      97718\n",
       "Ctcf      60674\n",
       "Ebf1      41045\n",
       "Runx3     38432\n",
       "Pax5      33475\n",
       "...         ...\n",
       "Zzz3        250\n",
       "Pol3        204\n",
       "Gcn5        150\n",
       "Spt20        15\n",
       "Bhlhe40c      1\n",
       "\n",
       "[80 rows x 1 columns]>"
      ]
     },
     "execution_count": 27,
     "metadata": {},
     "output_type": "execute_result"
    }
   ],
   "source": [
    "###BEGIN SOLUTION\n",
    "sorted_df=df.sort_values(ascending=False,by=0)\n",
    "sorted_df.head \n",
    "###END SOLUTION "
   ]
  },
  {
   "cell_type": "markdown",
   "metadata": {},
   "source": [
    "### Question 3g. \n",
    "\n",
    "What are the five most common transcription factors that bind in GM12878 ? \n",
    "\n",
    "**BEGIN ANSWER:** <br><br>\n",
    "**END ANSWER:**\n"
   ]
  },
  {
   "cell_type": "markdown",
   "metadata": {},
   "source": [
    "### Question 3h\n",
    "\n",
    "Generate a bar graph representing the frequency of the 30 most common TF's. The x-axis should contain the name of the TF, and the y-axis should contain the number of times it occurs within an active enhancer in GM12878. <a name='plot'>"
   ]
  },
  {
   "cell_type": "code",
   "execution_count": 28,
   "metadata": {},
   "outputs": [
    {
     "data": {
      "image/png": "[encoded data removed]",
      "text/plain": [
       "<Figure size 640x480 with 1 Axes>"
      ]
     },
     "metadata": {},
     "output_type": "display_data"
    },
    {
     "data": {
      "text/plain": [
       "<ggplot: (8775138891417)>"
      ]
     },
     "execution_count": 28,
     "metadata": {},
     "output_type": "execute_result"
    }
   ],
   "source": [
    "## hint: The TF names from the sorted_df data frame are stored in the .index attribute of the data frame object. \n",
    "\n",
    "## hint: To make the TF names and corresponding counts into a list instead of a pandas dataframe \n",
    "## you can use the .tolist() function. \n",
    " \n",
    "## hint: by default, the geom=\"bar\" argument to qplot generates a histogram. To make it generate a bar graph with \n",
    "## pre-specified x and y values, add the argument stat=\"identity\" to the qplot function. \n",
    "\n",
    "## hint: you might need to flip the x and y coordinates to make the bar graph axis labels legible\n",
    "\n",
    "###BEGIN SOLUTION\n",
    "common_tfs=sorted_df.iloc[0:30]\n",
    "tf_names=common_tfs.index.tolist()\n",
    "tf_counts=common_tfs[0].tolist()\n",
    "qplot(x=tf_names,\n",
    "      y=tf_counts,\n",
    "      geom=\"bar\",\n",
    "      stat=\"identity\",\n",
    "      xlab=\"TF Name\",\n",
    "      ylab=\"TF Count\"      \n",
    "     )+coord_flip()\n",
    "\n",
    "###END SOLUTION "
   ]
  },
  {
   "cell_type": "code",
   "execution_count": null,
   "metadata": {},
   "outputs": [],
   "source": []
  }
 ],
 "metadata": {
  "anaconda-cloud": {},
  "kernelspec": {
   "display_name": "Python 3",
   "language": "python",
   "name": "python3"
  },
  "language_info": {
   "codemirror_mode": {
    "name": "ipython",
    "version": 3
   },
   "file_extension": ".py",
   "mimetype": "text/x-python",
   "name": "python",
   "nbconvert_exporter": "python",
   "pygments_lexer": "ipython3",
   "version": "3.7.10"
  }
 },
 "nbformat": 4,
 "nbformat_minor": 4
}
