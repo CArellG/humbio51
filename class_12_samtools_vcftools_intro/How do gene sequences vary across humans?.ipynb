{
 "cells": [
  {
   "cell_type": "markdown",
   "metadata": {},
   "source": [
    "## Big Data for Biologists: Using Python to analyze genomes - Class 12\n",
    "\n",
    "\n",
    "##  Learning Objectives\n",
    "***Students should be able to***\n",
    " <ol>\n",
    " <li><a href=#SeqAlignIntro> Understand the standard pipeline for calling variants in sequence data </a></li>\n",
    " <li><a href=#Import>Use the BWA aligner to align whole genome sequence reads to a reference genome.</a></li>\n",
    " <li><a href=#Package>Manipulate the output from BWA with samtools, specifically using the sort and index commands </a></li>\n",
    " <li><a href=#Align2>use samtools and bcftools to call and filter variants from BWA alignment files  </a></li>\n",
    " <li><a href=#AlignMuscle>Understand how to use data in the variant call format (VCF) file format.</a></li>\n",
    " <li><a href=#FASTQ>Use the tabix tool to query a VCF file.  </a></li>\n"
   ]
  },
  {
   "cell_type": "markdown",
   "metadata": {},
   "source": [
    "In tutorial 4, we learned how to use the [Burrows-Wheeler aligner](http://bio-bwa.sourceforge.net/) to map FASTQ reads to a reference genome. Now we will examine how the resulting alignment can serve as a starting point for identifying varyings in the genomic sequence data. We will follow the standard samtools workflow to identify variants in a yeast dataset: \n",
    "![pipeline](pipeline.png)"
   ]
  },
  {
   "cell_type": "markdown",
   "metadata": {},
   "source": [
    "## Downloading the data with the curl command"
   ]
  },
  {
   "cell_type": "markdown",
   "metadata": {},
   "source": [
    "We use the linux **curl** command  to download the whole genome sequence in fastq format as well as the reference genome for yeast (Saccharomyces_cerevisiae). \n",
    "Use the **gzip -d** command to unzip the compressed data file. \n",
    "Use the ** head -10000 ** command to read in the first 100,0000 lines from the file. Save the files as y1.fastq and y2.fastq -- this is a paired end whole genome sequence file, hence we generate two files."
   ]
  },
  {
   "cell_type": "code",
   "execution_count": 3,
   "metadata": {
    "collapsed": false
   },
   "outputs": [
    {
     "name": "stdout",
     "output_type": "stream",
     "text": [
      "  % Total    % Received % Xferd  Average Speed   Time    Time     Time  Current\n",
      "                                 Dload  Upload   Total   Spent    Left  Speed\n",
      "  0  537M    0     0    0     0      0      0 --:--:--  0:00:02 --:--:--     0\n",
      "gzip: stdout: Broken pipe\n",
      "curl: (23) Failed writing body (960 != 1448)\n",
      "  % Total    % Received % Xferd  Average Speed   Time    Time     Time  Current\n",
      "                                 Dload  Upload   Total   Spent    Left  Speed\n",
      "  0  559M    0  394k    0     0   133k      0  1:11:44  0:00:02  1:11:42  133k\n",
      "gzip: stdout: Broken pipe\n",
      "curl: (23) Failed writing body (2328 != 15928)\n",
      "  % Total    % Received % Xferd  Average Speed   Time    Time     Time  Current\n",
      "                                 Dload  Upload   Total   Spent    Left  Speed\n",
      "100 3782k  100 3782k    0     0  1082k      0  0:00:03  0:00:03 --:--:-- 1082k\n"
     ]
    }
   ],
   "source": [
    "#Download the paired-end whole genome sequence for a yeast sample. \n",
    "!curl ftp://ftp.sra.ebi.ac.uk/vol1/fastq/SRR507/SRR507778/SRR507778_1.fastq.gz | gzip -d | head -100000 > y1.fastq\n",
    "!curl ftp://ftp.sra.ebi.ac.uk/vol1/fastq/SRR507/SRR507778/SRR507778_2.fastq.gz | gzip -d | head -100000 > y2.fastq\n",
    "    \n",
    "#Download the yeast reference genome in fasta format. \n",
    "!curl ftp://ftp.ensembl.org/pub/current_fasta/saccharomyces_cerevisiae/dna/Saccharomyces_cerevisiae.R64-1-1.dna_sm.toplevel.fa.gz | gzip -d > yeast.fasta"
   ]
  },
  {
   "cell_type": "markdown",
   "metadata": {},
   "source": [
    "##### Recall the structure of a FASTQ file. We are reading in 100,000 lines from the file. How many individual reads does that correspond to? \n",
    "##### Your answer here: "
   ]
  },
  {
   "cell_type": "markdown",
   "metadata": {},
   "source": [
    "## Align the whole genome sequence reads to the yeast reference genome with BWA "
   ]
  },
  {
   "cell_type": "markdown",
   "metadata": {},
   "source": [
    "First, we must index the reference genome with the \"BwaIndexCommandline\" function. This function will generate the indices that the BWA aligner will need for rapid alignment of the WGS (whole genome sequence) reads. "
   ]
  },
  {
   "cell_type": "code",
   "execution_count": 45,
   "metadata": {
    "collapsed": false
   },
   "outputs": [],
   "source": [
    "from Bio.Sequencing.Applications import BwaIndexCommandline\n",
    "reference_genome = \"yeast.fasta\"\n",
    "index_cmd = BwaIndexCommandline(infile=reference_genome, algorithm=\"bwtsw\")\n",
    "output=index_cmd()\n"
   ]
  },
  {
   "cell_type": "code",
   "execution_count": 5,
   "metadata": {
    "collapsed": false
   },
   "outputs": [
    {
     "name": "stdout",
     "output_type": "stream",
     "text": [
      "yeast.fasta.amb  yeast.fasta.bwt  yeast.fasta.pac\r\n",
      "yeast.fasta.ann  yeast.fasta.fai  yeast.fasta.sa\r\n"
     ]
    }
   ],
   "source": [
    "#The following files were generated by the above indexing command: \n",
    "!ls yeast.fasta.*"
   ]
  },
  {
   "cell_type": "markdown",
   "metadata": {},
   "source": [
    "Now that the BWA index has been generated, we can run the BWA command to produce a paired end alignment of the WGS sample to the reference sequence. "
   ]
  },
  {
   "cell_type": "code",
   "execution_count": 43,
   "metadata": {
    "collapsed": false
   },
   "outputs": [
    {
     "name": "stdout",
     "output_type": "stream",
     "text": [
      "bwa aln yeast.fasta y1.fastq\n"
     ]
    }
   ],
   "source": [
    "#First, we generate the .sai files for each WGS sample. \n",
    "from Bio.Sequencing.Applications import BwaAlignCommandline\n",
    "reference_genome = \"yeast.fasta\"\n",
    "read_file = \"y1.fastq\"\n",
    "output_sai_file = \"y1.sai\"\n",
    "align_cmd = BwaAlignCommandline(reference=reference_genome,read_file=read_file)\n",
    "print(align_cmd)\n",
    "output=align_cmd(stdout=output_sai_file)"
   ]
  },
  {
   "cell_type": "code",
   "execution_count": 44,
   "metadata": {
    "collapsed": false
   },
   "outputs": [
    {
     "name": "stdout",
     "output_type": "stream",
     "text": [
      "bwa aln yeast.fasta y2.fastq\n"
     ]
    }
   ],
   "source": [
    "#Repeat for the paired reads in y2.fastq \n",
    "read_file=\"y2.fastq\"\n",
    "output_sai_file=\"y2.sai\"\n",
    "align_cmd = BwaAlignCommandline(reference=reference_genome,read_file=read_file)\n",
    "print(align_cmd)\n",
    "output=align_cmd(stdout=output_sai_file)\n"
   ]
  },
  {
   "cell_type": "markdown",
   "metadata": {},
   "source": [
    "To call variants, we would like to convert our alignments from the binary .sai format to the .sam format that is compatible with samtools. "
   ]
  },
  {
   "cell_type": "code",
   "execution_count": 40,
   "metadata": {
    "collapsed": false
   },
   "outputs": [
    {
     "name": "stdout",
     "output_type": "stream",
     "text": [
      "bwa sampe yeast.fasta y1.sai y2.sai y1.fastq y2.fastq\n"
     ]
    }
   ],
   "source": [
    "#Import the BWA alignment tool from Biopython \n",
    "from Bio.Sequencing.Applications import BwaSampeCommandline\n",
    "reference_genome = \"yeast.fasta\"\n",
    "read_file1 = \"y1.fastq\"\n",
    "read_file2 = \"y2.fastq\"\n",
    "sai_file1 = \"y1.sai\"\n",
    "sai_file2 = \"y2.sai\"\n",
    "output_sam_file = \"output.sam\"\n",
    "sampe_cmd = BwaSampeCommandline(reference=reference_genome,\n",
    "                                 sai_file1=sai_file1, sai_file2=sai_file2,\n",
    "                                 read_file1=read_file1, read_file2=read_file2)\n",
    "print(sampe_cmd)\n",
    "output=sampe_cmd(stdout=output_sam_file)"
   ]
  },
  {
   "cell_type": "markdown",
   "metadata": {},
   "source": [
    "The samtools file format is human readable, so we can examine the **output.sam** file that was generated by the command above. "
   ]
  },
  {
   "cell_type": "code",
   "execution_count": 9,
   "metadata": {
    "collapsed": false
   },
   "outputs": [
    {
     "name": "stdout",
     "output_type": "stream",
     "text": [
      "@SQ\tSN:I\tLN:230218\r\n",
      "@SQ\tSN:II\tLN:813184\r\n",
      "@SQ\tSN:III\tLN:316620\r\n",
      "@SQ\tSN:IV\tLN:1531933\r\n",
      "@SQ\tSN:IX\tLN:439888\r\n",
      "@SQ\tSN:Mito\tLN:85779\r\n",
      "@SQ\tSN:V\tLN:576874\r\n",
      "@SQ\tSN:VI\tLN:270161\r\n",
      "@SQ\tSN:VII\tLN:1090940\r\n",
      "@SQ\tSN:VIII\tLN:562643\r\n",
      "@SQ\tSN:X\tLN:745751\r\n",
      "@SQ\tSN:XI\tLN:666816\r\n",
      "@SQ\tSN:XII\tLN:1078177\r\n",
      "@SQ\tSN:XIII\tLN:924431\r\n",
      "@SQ\tSN:XIV\tLN:784333\r\n",
      "@SQ\tSN:XV\tLN:1091291\r\n",
      "@SQ\tSN:XVI\tLN:948066\r\n",
      "@PG\tID:bwa\tPN:bwa\tVN:0.7.12-r1039\tCL:bwa sampe yeast.fasta y1.sai y2.sai y1.fastq y2.fastq\r\n",
      "SRR507778.1\t97\tMito\t20158\t37\t36M\t=\t16941\t-3181\tANTATAATATTATCCCCACGAGGGCCACACATGTGT\t?#?;<BBB?BBGGEGGGGDDE8EEDB:?<=?BB?B7\tXT:A:U\tNM:i:1\tSM:i:37\tAM:i:37\tX0:i:1\tX1:i:0\tXM:i:1\tXO:i:0\tXG:i:0\tMD:Z:1A34\r\n",
      "SRR507778.1\t145\tMito\t16941\t37\t36M\t=\t20158\t3181\tTTCATAGTACCCAAATTTAATTTAAATAAAGTGAGA\tGFFCFDDG<DIIGHIIEEE>EBAGG@GBDDDBG??B\tXT:A:U\tNM:i:0\tSM:i:37\tAM:i:37\tX0:i:1\tX1:i:0\tXM:i:0\tXO:i:0\tXG:i:0\tMD:Z:36\r\n"
     ]
    }
   ],
   "source": [
    "!head -n20 output.sam"
   ]
  },
  {
   "cell_type": "markdown",
   "metadata": {},
   "source": [
    "We can interpret the fields above as follows:\n",
    "![SAM alignment format](sam_alignment_format.png)"
   ]
  },
  {
   "cell_type": "markdown",
   "metadata": {},
   "source": [
    "Next, we sort the output.sam file into chromosome-position order, and convert to the binary .bam format for more efficient parsing. This can be accomplished with the **pysam** module. "
   ]
  },
  {
   "cell_type": "code",
   "execution_count": 10,
   "metadata": {
    "collapsed": false
   },
   "outputs": [
    {
     "data": {
      "text/plain": [
       "''"
      ]
     },
     "execution_count": 10,
     "metadata": {},
     "output_type": "execute_result"
    }
   ],
   "source": [
    "import pysam \n",
    "#sort the file \"output.sam\" and write the output to a binary file \"output.sorted.bam\" \n",
    "pysam.sort(\"-o\",\"output.sorted.bam\",\"output.sam\")"
   ]
  },
  {
   "cell_type": "markdown",
   "metadata": {},
   "source": [
    "Finally, we index the resulting **output.sorted.bam** file. "
   ]
  },
  {
   "cell_type": "code",
   "execution_count": 11,
   "metadata": {
    "collapsed": false
   },
   "outputs": [
    {
     "data": {
      "text/plain": [
       "''"
      ]
     },
     "execution_count": 11,
     "metadata": {},
     "output_type": "execute_result"
    }
   ],
   "source": [
    "pysam.index(\"output.sorted.bam\")"
   ]
  },
  {
   "cell_type": "markdown",
   "metadata": {
    "collapsed": true
   },
   "source": [
    "As a sanity check, we can report some statistics about the alignment. "
   ]
  },
  {
   "cell_type": "code",
   "execution_count": 12,
   "metadata": {
    "collapsed": false
   },
   "outputs": [
    {
     "data": {
      "text/plain": [
       "'3656'"
      ]
     },
     "execution_count": 12,
     "metadata": {},
     "output_type": "execute_result"
    }
   ],
   "source": [
    "#this command tells us how many reads in the fastq files did not align to the reference genome \n",
    "pysam.view(\"output.sorted.bam\",\"-c\",\"-f\",\"4\").strip()"
   ]
  },
  {
   "cell_type": "code",
   "execution_count": 13,
   "metadata": {
    "collapsed": false
   },
   "outputs": [
    {
     "data": {
      "text/plain": [
       "'46344'"
      ]
     },
     "execution_count": 13,
     "metadata": {},
     "output_type": "execute_result"
    }
   ],
   "source": [
    "#this command tells us how many reads in the fastq files aligned to the reference genome \n",
    "pysam.view(\"output.sorted.bam\",\"-c\",\"-F\",\"4\").strip()"
   ]
  },
  {
   "cell_type": "markdown",
   "metadata": {},
   "source": [
    "This suggests that 92.6% of the reads in the FASTQ files align to the reference genome -- the data appears to be good quality!. "
   ]
  },
  {
   "cell_type": "markdown",
   "metadata": {},
   "source": [
    "Now that we have aligned the samples to the reference genome, sorted the alignment file, converted it to binary format, and indexed it, we are ready to call variants with samtools. \n"
   ]
  },
  {
   "cell_type": "markdown",
   "metadata": {
    "collapsed": true
   },
   "source": [
    "## Variant calling with Samtools  "
   ]
  },
  {
   "cell_type": "markdown",
   "metadata": {},
   "source": [
    "To convert your BAM file into genomic positions we first use mpileup to produce a BCF file that contains all of the locations in the genome. "
   ]
  },
  {
   "cell_type": "code",
   "execution_count": 14,
   "metadata": {
    "collapsed": false
   },
   "outputs": [],
   "source": [
    "#make sure to include the catch_stdout flag to avoid printing a long output message that will slow down the Jupyter Noteobok. \n",
    "pysam.mpileup(\"output.sorted.bam\",\"-g\",\"-o\",\"output.bcf\",\"-f\",\"yeast.fasta\",catch_stdout=False)"
   ]
  },
  {
   "cell_type": "markdown",
   "metadata": {},
   "source": [
    "We use this information to call genotypes and reduce our list of sites to those found to be variant by passing this file into bcftools call. We pass the following flags to the bcftools call command: \n",
    "* -v (--variants-only) output variant sites only (as opposed to all sites in the genome) \n",
    "* -m (--multiallelic-caller) alternative model for mullti-allelic and rare variant calling\n",
    "* -O (--optimize) iteratively estimate the fraction of aberrant cells, down to the given fraction. Lowering this value from the default 1.0 to say, 0.3, can help discover more events but also increases noise\n",
    "* z zip the output "
   ]
  },
  {
   "cell_type": "code",
   "execution_count": 15,
   "metadata": {
    "collapsed": false
   },
   "outputs": [],
   "source": [
    "from pysam import bcftools \n",
    "bcftools.call(\"-vmO\", \"z\" ,\"-o\",\"output.vcf.gz\",\"output.bcf\",catch_stdout=False)\n"
   ]
  },
  {
   "cell_type": "markdown",
   "metadata": {},
   "source": [
    "We can examine the variant call format (VCF) file that was generated: "
   ]
  },
  {
   "cell_type": "code",
   "execution_count": 16,
   "metadata": {
    "collapsed": false
   },
   "outputs": [
    {
     "name": "stdout",
     "output_type": "stream",
     "text": [
      "##fileformat=VCFv4.2\r\n",
      "##FILTER=<ID=PASS,Description=\"All filters passed\">\r\n",
      "##samtoolsVersion=1.5+htslib-1.5\r\n",
      "##samtoolsCommand=samtools mpileup -g -o output.bcf -f yeast.fasta output.sorted.bam\r\n",
      "##reference=file://yeast.fasta\r\n",
      "##contig=<ID=I,length=230218>\r\n",
      "##contig=<ID=II,length=813184>\r\n",
      "##contig=<ID=III,length=316620>\r\n",
      "##contig=<ID=IV,length=1531933>\r\n",
      "##contig=<ID=IX,length=439888>\r\n",
      "##contig=<ID=Mito,length=85779>\r\n",
      "##contig=<ID=V,length=576874>\r\n",
      "##contig=<ID=VI,length=270161>\r\n",
      "##contig=<ID=VII,length=1090940>\r\n",
      "##contig=<ID=VIII,length=562643>\r\n",
      "##contig=<ID=X,length=745751>\r\n",
      "##contig=<ID=XI,length=666816>\r\n",
      "##contig=<ID=XII,length=1078177>\r\n",
      "##contig=<ID=XIII,length=924431>\r\n",
      "##contig=<ID=XIV,length=784333>\r\n",
      "##contig=<ID=XV,length=1091291>\r\n",
      "##contig=<ID=XVI,length=948066>\r\n",
      "##ALT=<ID=*,Description=\"Represents allele(s) other than observed.\">\r\n",
      "##INFO=<ID=INDEL,Number=0,Type=Flag,Description=\"Indicates that the variant is an INDEL.\">\r\n",
      "##INFO=<ID=IDV,Number=1,Type=Integer,Description=\"Maximum number of reads supporting an indel\">\r\n",
      "##INFO=<ID=IMF,Number=1,Type=Float,Description=\"Maximum fraction of reads supporting an indel\">\r\n",
      "##INFO=<ID=DP,Number=1,Type=Integer,Description=\"Raw read depth\">\r\n",
      "##INFO=<ID=VDB,Number=1,Type=Float,Description=\"Variant Distance Bias for filtering splice-site artefacts in RNA-seq data (bigger is better)\",Version=\"3\">\r\n",
      "##INFO=<ID=RPB,Number=1,Type=Float,Description=\"Mann-Whitney U test of Read Position Bias (bigger is better)\">\r\n",
      "##INFO=<ID=MQB,Number=1,Type=Float,Description=\"Mann-Whitney U test of Mapping Quality Bias (bigger is better)\">\r\n",
      "##INFO=<ID=BQB,Number=1,Type=Float,Description=\"Mann-Whitney U test of Base Quality Bias (bigger is better)\">\r\n",
      "##INFO=<ID=MQSB,Number=1,Type=Float,Description=\"Mann-Whitney U test of Mapping Quality vs Strand Bias (bigger is better)\">\r\n",
      "##INFO=<ID=SGB,Number=1,Type=Float,Description=\"Segregation based metric.\">\r\n",
      "##INFO=<ID=MQ0F,Number=1,Type=Float,Description=\"Fraction of MQ0 reads (smaller is better)\">\r\n",
      "##FORMAT=<ID=PL,Number=G,Type=Integer,Description=\"List of Phred-scaled genotype likelihoods\">\r\n",
      "##FORMAT=<ID=GT,Number=1,Type=String,Description=\"Genotype\">\r\n",
      "##INFO=<ID=ICB,Number=1,Type=Float,Description=\"Inbreeding Coefficient Binomial test (bigger is better)\">\r\n",
      "##INFO=<ID=HOB,Number=1,Type=Float,Description=\"Bias in the number of HOMs number (smaller is better)\">\r\n",
      "##INFO=<ID=AC,Number=A,Type=Integer,Description=\"Allele count in genotypes for each ALT allele, in the same order as listed\">\r\n",
      "##INFO=<ID=AN,Number=1,Type=Integer,Description=\"Total number of alleles in called genotypes\">\r\n",
      "##INFO=<ID=DP4,Number=4,Type=Integer,Description=\"Number of high-quality ref-forward , ref-reverse, alt-forward and alt-reverse bases\">\r\n",
      "##INFO=<ID=MQ,Number=1,Type=Integer,Description=\"Average mapping quality\">\r\n",
      "##bcftools_callVersion=1.5+htslib-1.5\r\n",
      "##bcftools_callCommand=call -vmO z -o output.vcf.gz output.bcf; Date=Mon Sep 11 21:19:21 2017\r\n",
      "#CHROM\tPOS\tID\tREF\tALT\tQUAL\tFILTER\tINFO\tFORMAT\toutput.sorted.bam\r\n",
      "II\t111730\t.\tC\tT\t10.7923\t.\tDP=1;SGB=-0.379885;MQ0F=0;AC=2;AN=2;DP4=0,0,0,1;MQ=60\tGT:PL\t1/1:40,3,0\r\n",
      "II\t325186\t.\tC\tA\t10.7923\t.\tDP=1;SGB=-0.379885;MQ0F=0;AC=2;AN=2;DP4=0,0,0,1;MQ=60\tGT:PL\t1/1:40,3,0\r\n",
      "II\t514881\t.\tT\tG\t5.04598\t.\tDP=1;SGB=-0.379885;MQ0F=0;AC=2;AN=2;DP4=0,0,0,1;MQ=60\tGT:PL\t1/1:33,3,0\r\n",
      "III\t162640\t.\tT\tG\t9.88514\t.\tDP=1;SGB=-0.379885;MQ0F=0;AC=2;AN=2;DP4=0,0,0,1;MQ=60\tGT:PL\t1/1:39,3,0\r\n",
      "IV\t442435\t.\tT\tC\t10.7923\t.\tDP=1;SGB=-0.379885;MQ0F=0;AC=2;AN=2;DP4=0,0,1,0;MQ=60\tGT:PL\t1/1:40,3,0\r\n"
     ]
    }
   ],
   "source": [
    "!zcat output.vcf.gz | head -n 50"
   ]
  },
  {
   "cell_type": "markdown",
   "metadata": {},
   "source": [
    "The columns in the vcf file can be interpreted as described [here](http://samtools.github.io/hts-specs/VCFv4.3.pdf)"
   ]
  },
  {
   "cell_type": "markdown",
   "metadata": {},
   "source": [
    "We use the **tabix_index** command to generate an index of the vcf file for rapid querying. "
   ]
  },
  {
   "cell_type": "code",
   "execution_count": 17,
   "metadata": {
    "collapsed": false
   },
   "outputs": [
    {
     "data": {
      "text/plain": [
       "'output.vcf.gz'"
      ]
     },
     "execution_count": 17,
     "metadata": {},
     "output_type": "execute_result"
    }
   ],
   "source": [
    "pysam.tabix_index(\"output.vcf.gz\", '-f',preset=\"vcf\")"
   ]
  },
  {
   "cell_type": "markdown",
   "metadata": {},
   "source": [
    "Additionally you may find it helpful to prepare graphs and statistics to assist you in filtering your variants:\n",
    "\n"
   ]
  },
  {
   "cell_type": "code",
   "execution_count": 18,
   "metadata": {
    "collapsed": false
   },
   "outputs": [],
   "source": [
    "stats=bcftools.stats(\"-F\",\"yeast.fasta\",\"-s\",\"-\",\"output.vcf.gz\")\n",
    "outf=open('output.vcf.stats','w')\n",
    "outf.write(stats)"
   ]
  },
  {
   "cell_type": "markdown",
   "metadata": {},
   "source": [
    "print the statistics: "
   ]
  },
  {
   "cell_type": "code",
   "execution_count": 19,
   "metadata": {
    "collapsed": false
   },
   "outputs": [],
   "source": [
    "!cat output.vcf.stats"
   ]
  },
  {
   "cell_type": "markdown",
   "metadata": {},
   "source": [
    "Plot the statistics: "
   ]
  },
  {
   "cell_type": "code",
   "execution_count": 20,
   "metadata": {
    "collapsed": false
   },
   "outputs": [
    {
     "name": "stdout",
     "output_type": "stream",
     "text": [
      "Parsing bcftools stats output: output.vcf.stats\r\n",
      "Sanity check failed: was this file generated by bcftools stats? at /usr/local/bin/plot-vcfstats line 76.\r\n",
      "\tmain::error(\"Sanity check failed: was this file generated by bcftools stats?\") called at /usr/local/bin/plot-vcfstats line 574\r\n",
      "\tmain::parse_vcfstats1(HASH(0x1633620), 0) called at /usr/local/bin/plot-vcfstats line 283\r\n",
      "\tmain::parse_vcfstats(HASH(0x1633620)) called at /usr/local/bin/plot-vcfstats line 43\r\n"
     ]
    }
   ],
   "source": [
    "!plot-vcfstats -p . output.vcf.stats\n"
   ]
  },
  {
   "cell_type": "markdown",
   "metadata": {},
   "source": [
    "A number of summary plots are generated. Of most interest to us is the tally of base substitutions and insertions/deletions (indels) observed in the data. "
   ]
  },
  {
   "cell_type": "markdown",
   "metadata": {},
   "source": [
    "Substitutions:\n",
    "![substitutions tally](substitutions.0.png)\n",
    "Indels: \n",
    "![indels tally](indels.0.png)"
   ]
  },
  {
   "cell_type": "markdown",
   "metadata": {},
   "source": [
    "Not all variants are high quality. We want to apply filters to the vcf file to keep only variants with high quality scores (i.e. QUAL > 10). We can do this by passing filter arguments to **bcftools**. "
   ]
  },
  {
   "cell_type": "code",
   "execution_count": 26,
   "metadata": {
    "collapsed": false
   },
   "outputs": [],
   "source": [
    "import pysam \n",
    "from pysam import bcftools\n",
    "filtered=bcftools.filter(\"-O\",\"z\",\"-o\",\"output.filtered.vcf.gz\",\"-s\", \"LOWQUAL\", \"-i'%QUAL>10'\",\"output.vcf.gz\")\n",
    "outf=open(\"output.filtered.vcf.gz\",'w')\n",
    "outf.write(filtered)"
   ]
  },
  {
   "cell_type": "markdown",
   "metadata": {},
   "source": [
    "## tabix "
   ]
  },
  {
   "cell_type": "markdown",
   "metadata": {},
   "source": [
    "The tabix tool can be used to index into a vcf file and select variants that fall within a region of interest. For example: "
   ]
  },
  {
   "cell_type": "code",
   "execution_count": 35,
   "metadata": {
    "collapsed": false
   },
   "outputs": [],
   "source": [
    "#load the filtered vcf file into tabix \n",
    "import tabix\n",
    "tb=tabix.open(\"output.vcf.gz\")"
   ]
  },
  {
   "cell_type": "code",
   "execution_count": 38,
   "metadata": {
    "collapsed": false
   },
   "outputs": [
    {
     "name": "stdout",
     "output_type": "stream",
     "text": [
      "['II', '111730', '.', 'C', 'T', '10.7923', '.', 'DP=1;SGB=-0.379885;MQ0F=0;AC=2;AN=2;DP4=0,0,0,1;MQ=60', 'GT:PL', '1/1:40,3,0']\n",
      "['II', '325186', '.', 'C', 'A', '10.7923', '.', 'DP=1;SGB=-0.379885;MQ0F=0;AC=2;AN=2;DP4=0,0,0,1;MQ=60', 'GT:PL', '1/1:40,3,0']\n"
     ]
    }
   ],
   "source": [
    "# A query returns an iterator over the results.\n",
    "records = tb.query(\"II\",1,325188)\n",
    "for record in records: \n",
    "    print(record)"
   ]
  },
  {
   "cell_type": "markdown",
   "metadata": {},
   "source": [
    "A file must first be indexed with pytabix before it can be queried. "
   ]
  },
  {
   "cell_type": "code",
   "execution_count": null,
   "metadata": {
    "collapsed": true
   },
   "outputs": [],
   "source": []
  }
 ],
 "metadata": {
  "kernelspec": {
   "display_name": "Python 2",
   "language": "python",
   "name": "python2"
  },
  "language_info": {
   "codemirror_mode": {
    "name": "ipython",
    "version": 2
   },
   "file_extension": ".py",
   "mimetype": "text/x-python",
   "name": "python",
   "nbconvert_exporter": "python",
   "pygments_lexer": "ipython2",
   "version": "2.7.10"
  }
 },
 "nbformat": 4,
 "nbformat_minor": 2
}
