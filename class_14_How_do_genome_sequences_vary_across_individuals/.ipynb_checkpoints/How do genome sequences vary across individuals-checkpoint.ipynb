{
 "cells": [
  {
   "cell_type": "markdown",
   "metadata": {},
   "source": [
    "## Big Data for Biologists: Decoding Genomic Function - Class 14\n",
    "\n",
    "\n",
    "##  Learning Objectives\n",
    "***Students should be able to***\n",
    " <ol>   \n",
    " <li><a href=#geneticVariation> Identify  different types of genetic variation that can occur across individuals of a species</a></li>\n",
    " <li><a href=#geneticVariation> Describe the goals of the 1000 Genomes Project </a></li>\n",
    " <li><a href=#vcf>Understand how to use data in the variant call format (VCF) file format.</a></li>\n",
    " <li><a href=#tabix>Use the tabix tool to query a VCF file.  </a></li>\n"
   ]
  },
  {
   "cell_type": "markdown",
   "metadata": {},
   "source": [
    "\n",
    "## What is Genetic Variation across individuals of a species <a name ='geneticVariation'>"
   ]
  },
  {
   "cell_type": "code",
   "execution_count": 1,
   "metadata": {},
   "outputs": [
    {
     "data": {
      "text/html": [
       "<iframe src=\"https://drive.google.com/file/d/0B_ssVVyXv8ZSSkJ1SktQTnk2MUU/preview\" width=\"1000\" height=\"480\"></iframe>"
      ],
      "text/plain": [
       "<IPython.core.display.HTML object>"
      ]
     },
     "execution_count": 1,
     "metadata": {},
     "output_type": "execute_result"
    }
   ],
   "source": [
    "from IPython.display import HTML\n",
    "\n",
    "HTML('<iframe src=\"https://drive.google.com/file/d/0B_ssVVyXv8ZSSkJ1SktQTnk2MUU/preview\" width=\"1000\" height=\"480\"></iframe>')"
   ]
  },
  {
   "cell_type": "markdown",
   "metadata": {},
   "source": [
    "In tutorial 4, we learned how to use the [Burrows-Wheeler aligner](http://bio-bwa.sourceforge.net/) to map FASTQ reads to a reference genome. The resulting alignment can serve as a starting point for identifying genetic variants in the genomic sequence data. We have followed the workflow below to identify variants in a yeast dataset: \n",
    "![pipeline](../Images/pipeline.png)"
   ]
  },
  {
   "cell_type": "markdown",
   "metadata": {},
   "source": [
    "## Working with  Variant Call Format (VCF) files <a name='vcf'>"
   ]
  },
  {
   "cell_type": "markdown",
   "metadata": {},
   "source": [
    "A whole genome sequencing experiment was performed on some yeast cells. The sequenceing was paired-end with output FASTQ files **y1.fastq** and **y2.fastq**. These were aligned to the yeast reference genome, stored in file **yeast.fasta**, and variants were called in accordance with the pipeline detailed above. The resulting variant file, in VCF format, is **yeast_vars.vcf.gz**"
   ]
  },
  {
   "cell_type": "code",
   "execution_count": 11,
   "metadata": {},
   "outputs": [
    {
     "name": "stdout",
     "output_type": "stream",
     "text": [
      "##fileformat=VCFv4.2\r\n",
      "##FILTER=<ID=PASS,Description=\"All filters passed\">\r\n",
      "##samtoolsVersion=1.6+htslib-1.6\r\n",
      "##samtoolsCommand=samtools mpileup -g -o output.bcf -f yeast.fasta output.sorted.bam\r\n",
      "##reference=file://yeast.fasta\r\n",
      "##contig=<ID=I,length=230218>\r\n",
      "##contig=<ID=II,length=813184>\r\n",
      "##contig=<ID=III,length=316620>\r\n",
      "##contig=<ID=IV,length=1531933>\r\n",
      "##contig=<ID=IX,length=439888>\r\n",
      "##contig=<ID=Mito,length=85779>\r\n",
      "##contig=<ID=V,length=576874>\r\n",
      "##contig=<ID=VI,length=270161>\r\n",
      "##contig=<ID=VII,length=1090940>\r\n",
      "##contig=<ID=VIII,length=562643>\r\n",
      "##contig=<ID=X,length=745751>\r\n",
      "##contig=<ID=XI,length=666816>\r\n",
      "##contig=<ID=XII,length=1078177>\r\n",
      "##contig=<ID=XIII,length=924431>\r\n",
      "##contig=<ID=XIV,length=784333>\r\n",
      "##contig=<ID=XV,length=1091291>\r\n",
      "##contig=<ID=XVI,length=948066>\r\n",
      "##ALT=<ID=*,Description=\"Represents allele(s) other than observed.\">\r\n",
      "##INFO=<ID=INDEL,Number=0,Type=Flag,Description=\"Indicates that the variant is an INDEL.\">\r\n",
      "##INFO=<ID=IDV,Number=1,Type=Integer,Description=\"Maximum number of reads supporting an indel\">\r\n",
      "##INFO=<ID=IMF,Number=1,Type=Float,Description=\"Maximum fraction of reads supporting an indel\">\r\n",
      "##INFO=<ID=DP,Number=1,Type=Integer,Description=\"Raw read depth\">\r\n",
      "##INFO=<ID=VDB,Number=1,Type=Float,Description=\"Variant Distance Bias for filtering splice-site artefacts in RNA-seq data (bigger is better)\",Version=\"3\">\r\n",
      "##INFO=<ID=RPB,Number=1,Type=Float,Description=\"Mann-Whitney U test of Read Position Bias (bigger is better)\">\r\n",
      "##INFO=<ID=MQB,Number=1,Type=Float,Description=\"Mann-Whitney U test of Mapping Quality Bias (bigger is better)\">\r\n",
      "##INFO=<ID=BQB,Number=1,Type=Float,Description=\"Mann-Whitney U test of Base Quality Bias (bigger is better)\">\r\n",
      "##INFO=<ID=MQSB,Number=1,Type=Float,Description=\"Mann-Whitney U test of Mapping Quality vs Strand Bias (bigger is better)\">\r\n",
      "##INFO=<ID=SGB,Number=1,Type=Float,Description=\"Segregation based metric.\">\r\n",
      "##INFO=<ID=MQ0F,Number=1,Type=Float,Description=\"Fraction of MQ0 reads (smaller is better)\">\r\n",
      "##FORMAT=<ID=PL,Number=G,Type=Integer,Description=\"List of Phred-scaled genotype likelihoods\">\r\n",
      "##FORMAT=<ID=GT,Number=1,Type=String,Description=\"Genotype\">\r\n",
      "##INFO=<ID=ICB,Number=1,Type=Float,Description=\"Inbreeding Coefficient Binomial test (bigger is better)\">\r\n",
      "##INFO=<ID=HOB,Number=1,Type=Float,Description=\"Bias in the number of HOMs number (smaller is better)\">\r\n",
      "##INFO=<ID=AC,Number=A,Type=Integer,Description=\"Allele count in genotypes for each ALT allele, in the same order as listed\">\r\n",
      "##INFO=<ID=AN,Number=1,Type=Integer,Description=\"Total number of alleles in called genotypes\">\r\n",
      "##INFO=<ID=DP4,Number=4,Type=Integer,Description=\"Number of high-quality ref-forward , ref-reverse, alt-forward and alt-reverse bases\">\r\n",
      "##INFO=<ID=MQ,Number=1,Type=Integer,Description=\"Average mapping quality\">\r\n",
      "##bcftools_callVersion=1.3.1+htslib-1.3.2\r\n",
      "##bcftools_callCommand=call -mvOz -o output.vcf.gz output.bcf\r\n",
      "#CHROM\tPOS\tID\tREF\tALT\tQUAL\tFILTER\tINFO\tFORMAT\toutput.sorted.bam\r\n",
      "II\t111730\t.\tC\tT\t12.4325\t.\tDP=1;SGB=-0.379885;MQ0F=0;ICB=1;HOB=0.5;AC=1;AN=2;DP4=0,0,0,1;MQ=60\tGT:PL\t0/1:40,3,0\r\n",
      "II\t325186\t.\tC\tA\t12.4325\t.\tDP=1;SGB=-0.379885;MQ0F=0;ICB=1;HOB=0.5;AC=1;AN=2;DP4=0,0,0,1;MQ=60\tGT:PL\t0/1:40,3,0\r\n",
      "II\t514881\t.\tT\tG\t6.32957\t.\tDP=1;SGB=-0.379885;MQ0F=0;ICB=1;HOB=0.5;AC=1;AN=2;DP4=0,0,0,1;MQ=60\tGT:PL\t0/1:33,3,0\r\n",
      "III\t162640\t.\tT\tG\t11.4963\t.\tDP=1;SGB=-0.379885;MQ0F=0;ICB=1;HOB=0.5;AC=1;AN=2;DP4=0,0,0,1;MQ=60\tGT:PL\t0/1:39,3,0\r\n",
      "IV\t442435\t.\tT\tC\t12.4325\t.\tDP=1;SGB=-0.379885;MQ0F=0;ICB=1;HOB=0.5;AC=1;AN=2;DP4=0,0,1,0;MQ=60\tGT:PL\t0/1:40,3,0\r\n"
     ]
    }
   ],
   "source": [
    "!zcat yeast_vars.vcf.gz | head -n 50"
   ]
  },
  {
   "cell_type": "markdown",
   "metadata": {},
   "source": [
    "The columns in the vcf file can be interpreted as described [here](https://faculty.washington.edu/browning/beagle/intro-to-vcf.html)"
   ]
  },
  {
   "cell_type": "markdown",
   "metadata": {},
   "source": [
    "We use the **tabix_index** command to generate an index of the vcf file for rapid querying. "
   ]
  },
  {
   "cell_type": "code",
   "execution_count": 12,
   "metadata": {},
   "outputs": [
    {
     "data": {
      "text/plain": [
       "'yeast_vars.vcf.gz'"
      ]
     },
     "execution_count": 12,
     "metadata": {},
     "output_type": "execute_result"
    }
   ],
   "source": [
    "import pysam\n",
    "pysam.tabix_index(\"yeast_vars.vcf.gz\", '-f',preset=\"vcf\")"
   ]
  },
  {
   "cell_type": "markdown",
   "metadata": {},
   "source": [
    "Additionally you may find it helpful to prepare graphs and statistics to assist you in filtering your variants:\n",
    "\n"
   ]
  },
  {
   "cell_type": "code",
   "execution_count": 13,
   "metadata": {},
   "outputs": [],
   "source": [
    "!bcftools stats -F yeast.fasta -s - yeast_vars.vcf.gz > output.vcf.stats\n"
   ]
  },
  {
   "cell_type": "markdown",
   "metadata": {},
   "source": [
    "print the statistics: "
   ]
  },
  {
   "cell_type": "code",
   "execution_count": 14,
   "metadata": {},
   "outputs": [
    {
     "name": "stdout",
     "output_type": "stream",
     "text": [
      "# This file was produced by bcftools stats (1.3.1+htslib-1.3.2) and can be plotted using plot-vcfstats.\r\n",
      "# The command line was:\tbcftools stats  -F yeast.fasta -s - output.vcf.gz\r\n",
      "#\r\n",
      "# Definition of sets:\r\n",
      "# ID\t[2]id\t[3]tab-separated file names\r\n",
      "ID\t0\toutput.vcf.gz\r\n",
      "# SN, Summary numbers:\r\n",
      "# SN\t[2]id\t[3]key\t[4]value\r\n",
      "SN\t0\tnumber of samples:\t1\r\n",
      "SN\t0\tnumber of records:\t39\r\n",
      "SN\t0\tnumber of no-ALTs:\t0\r\n",
      "SN\t0\tnumber of SNPs:\t31\r\n",
      "SN\t0\tnumber of MNPs:\t0\r\n",
      "SN\t0\tnumber of indels:\t8\r\n",
      "SN\t0\tnumber of others:\t0\r\n",
      "SN\t0\tnumber of multiallelic sites:\t0\r\n",
      "SN\t0\tnumber of multiallelic SNP sites:\t0\r\n",
      "# TSTV, transitions/transversions:\r\n",
      "# TSTV\t[2]id\t[3]ts\t[4]tv\t[5]ts/tv\t[6]ts (1st ALT)\t[7]tv (1st ALT)\t[8]ts/tv (1st ALT)\r\n",
      "TSTV\t0\t16\t15\t1.07\t16\t15\t1.07\r\n",
      "# ICS, Indel context summary:\r\n",
      "# ICS\t[2]id\t[3]repeat-consistent\t[4]repeat-inconsistent\t[5]not applicable\t[6]c/(c+i) ratio\r\n",
      "ICS\t0\t0\t0\t8\t0.0000\r\n",
      "# ICL, Indel context by length:\r\n",
      "# ICL\t[2]id\t[3]length of repeat element\t[4]repeat-consistent deletions)\t[5]repeat-inconsistent deletions\t[6]consistent insertions\t[7]inconsistent insertions\t[8]c/(c+i) ratio\r\n",
      "ICL\t0\t2\t0\t0\t0\t0\t0.0000\r\n",
      "ICL\t0\t3\t0\t0\t0\t0\t0.0000\r\n",
      "ICL\t0\t4\t0\t0\t0\t0\t0.0000\r\n",
      "ICL\t0\t5\t0\t0\t0\t0\t0.0000\r\n",
      "ICL\t0\t6\t0\t0\t0\t0\t0.0000\r\n",
      "ICL\t0\t7\t0\t0\t0\t0\t0.0000\r\n",
      "ICL\t0\t8\t0\t0\t0\t0\t0.0000\r\n",
      "ICL\t0\t9\t0\t0\t0\t0\t0.0000\r\n",
      "ICL\t0\t10\t0\t0\t0\t0\t0.0000\r\n",
      "# SiS, Singleton stats:\r\n",
      "# SiS\t[2]id\t[3]allele count\t[4]number of SNPs\t[5]number of transitions\t[6]number of transversions\t[7]number of indels\t[8]repeat-consistent\t[9]repeat-inconsistent\t[10]not applicable\r\n",
      "SiS\t0\t1\t30\t16\t14\t8\t0\t0\t8\r\n",
      "# AF, Stats by non-reference allele frequency:\r\n",
      "# AF\t[2]id\t[3]allele frequency\t[4]number of SNPs\t[5]number of transitions\t[6]number of transversions\t[7]number of indels\t[8]repeat-consistent\t[9]repeat-inconsistent\t[10]not applicable\r\n",
      "AF\t0\t0.000000\t30\t16\t14\t8\t0\t0\t8\r\n",
      "AF\t0\t99.000000\t1\t0\t1\t0\t0\t0\t0\r\n",
      "# QUAL, Stats by quality:\r\n",
      "# QUAL\t[2]id\t[3]Quality\t[4]number of SNPs\t[5]number of transitions (1st ALT)\t[6]number of transversions (1st ALT)\t[7]number of indels\r\n",
      "QUAL\t0\t3\t1\t1\t0\t0\r\n",
      "QUAL\t0\t4\t5\t2\t3\t0\r\n",
      "QUAL\t0\t5\t0\t0\t0\t1\r\n",
      "QUAL\t0\t6\t4\t1\t3\t2\r\n",
      "QUAL\t0\t7\t3\t1\t2\t1\r\n",
      "QUAL\t0\t8\t1\t1\t0\t0\r\n",
      "QUAL\t0\t9\t0\t0\t0\t1\r\n",
      "QUAL\t0\t10\t4\t4\t0\t1\r\n",
      "QUAL\t0\t11\t2\t0\t2\t0\r\n",
      "QUAL\t0\t12\t9\t5\t4\t2\r\n",
      "QUAL\t0\t45\t1\t1\t0\t0\r\n",
      "QUAL\t0\t52\t1\t0\t1\t0\r\n",
      "# IDD, InDel distribution:\r\n",
      "# IDD\t[2]id\t[3]length (deletions negative)\t[4]count\r\n",
      "IDD\t0\t-1\t2\r\n",
      "IDD\t0\t1\t6\r\n",
      "# ST, Substitution types:\r\n",
      "# ST\t[2]id\t[3]type\t[4]count\r\n",
      "ST\t0\tA>C\t3\r\n",
      "ST\t0\tA>G\t2\r\n",
      "ST\t0\tA>T\t1\r\n",
      "ST\t0\tC>A\t2\r\n",
      "ST\t0\tC>G\t1\r\n",
      "ST\t0\tC>T\t4\r\n",
      "ST\t0\tG>A\t1\r\n",
      "ST\t0\tG>C\t1\r\n",
      "ST\t0\tG>T\t2\r\n",
      "ST\t0\tT>A\t0\r\n",
      "ST\t0\tT>C\t9\r\n",
      "ST\t0\tT>G\t5\r\n",
      "# DP, Depth distribution\r\n",
      "# DP\t[2]id\t[3]bin\t[4]number of genotypes\t[5]fraction of genotypes (%)\t[6]number of sites\t[7]fraction of sites (%)\r\n",
      "DP\t0\t1\t0\t0.000000\t36\t92.307692\r\n",
      "DP\t0\t2\t0\t0.000000\t2\t5.128205\r\n",
      "DP\t0\t22\t0\t0.000000\t1\t2.564103\r\n",
      "# PSC, Per-sample counts\r\n",
      "# PSC\t[2]id\t[3]sample\t[4]nRefHom\t[5]nNonRefHom\t[6]nHets\t[7]nTransitions\t[8]nTransversions\t[9]nIndels\t[10]average depth\t[11]nSingletons\r\n",
      "PSC\t0\toutput.sorted.bam\t0\t1\t30\t16\t15\t8\t0.0\t39\r\n",
      "# PSI, Per-Sample Indels\r\n",
      "# PSI\t[2]id\t[3]sample\t[4]in-frame\t[5]out-frame\t[6]not applicable\t[7]out/(in+out) ratio\t[8]nHets\t[9]nAA\r\n",
      "PSI\t0\toutput.sorted.bam\t0\t0\t0\t0.00\t8\t0\r\n",
      "# HWE\r\n",
      "# HWE\t[2]id\t[3]1st ALT allele frequency\t[4]Number of observations\t[5]25th percentile\t[6]median\t[7]75th percentile\r\n",
      "HWE\t0\t0.000000\t38\t0.990000\t0.990000\t0.990000\r\n",
      "HWE\t0\t99.000000\t1\t0.000000\t0.000000\t0.000000\r\n"
     ]
    }
   ],
   "source": [
    "!cat yeast_vars.vcf.stats"
   ]
  },
  {
   "cell_type": "markdown",
   "metadata": {},
   "source": [
    "A number of summary plots are generated. Of most interest to us is the tally of base substitutions and insertions/deletions (indels) observed in the data. "
   ]
  },
  {
   "cell_type": "markdown",
   "metadata": {},
   "source": [
    "Substitutions:\n",
    "![substitutions tally](../Images/substitutions.0.png)\n",
    "Indels: \n",
    "![indels tally](../Images/indels.0.png)"
   ]
  },
  {
   "cell_type": "markdown",
   "metadata": {},
   "source": [
    "Not all variants are high quality. We want to apply filters to the vcf file to keep only variants with high quality scores (i.e. QUAL > 10). We can do this by passing filter arguments to **bcftools**. "
   ]
  },
  {
   "cell_type": "code",
   "execution_count": 15,
   "metadata": {},
   "outputs": [],
   "source": [
    "!bcftools filter -O z -o yeaset_vars.filtered.vcf.gz -s LOWQUAL -i'%QUAL>10' yeast_vars.vcf.gz \n"
   ]
  },
  {
   "cell_type": "markdown",
   "metadata": {},
   "source": [
    "## tabix <a name='tabix'>"
   ]
  },
  {
   "cell_type": "markdown",
   "metadata": {},
   "source": [
    "The tabix tool can be used to index into a vcf file and select variants that fall within a region of interest. For example: "
   ]
  },
  {
   "cell_type": "code",
   "execution_count": 16,
   "metadata": {},
   "outputs": [],
   "source": [
    "#load the filtered vcf file into tabix \n",
    "import tabix\n",
    "tb=tabix.open(\"yeast_vars.vcf.gz\")"
   ]
  },
  {
   "cell_type": "code",
   "execution_count": 17,
   "metadata": {},
   "outputs": [
    {
     "name": "stdout",
     "output_type": "stream",
     "text": [
      "['II', '111730', '.', 'C', 'T', '12.4325', '.', 'DP=1;SGB=-0.379885;MQ0F=0;ICB=1;HOB=0.5;AC=1;AN=2;DP4=0,0,0,1;MQ=60', 'GT:PL', '0/1:40,3,0']\n",
      "['II', '325186', '.', 'C', 'A', '12.4325', '.', 'DP=1;SGB=-0.379885;MQ0F=0;ICB=1;HOB=0.5;AC=1;AN=2;DP4=0,0,0,1;MQ=60', 'GT:PL', '0/1:40,3,0']\n"
     ]
    }
   ],
   "source": [
    "# A query returns an iterator over the results.\n",
    "records = tb.query(\"II\",1,325188)\n",
    "for record in records: \n",
    "    print(record)"
   ]
  },
  {
   "cell_type": "markdown",
   "metadata": {},
   "source": [
    "A file must first be indexed with pytabix before it can be queried. "
   ]
  }
 ],
 "metadata": {
  "kernelspec": {
   "display_name": "Python 3",
   "language": "python",
   "name": "python3"
  },
  "language_info": {
   "codemirror_mode": {
    "name": "ipython",
    "version": 3
   },
   "file_extension": ".py",
   "mimetype": "text/x-python",
   "name": "python",
   "nbconvert_exporter": "python",
   "pygments_lexer": "ipython3",
   "version": "3.5.3"
  }
 },
 "nbformat": 4,
 "nbformat_minor": 2
}
