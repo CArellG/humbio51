{
 "cells": [
  {
   "cell_type": "markdown",
   "metadata": {},
   "source": [
    "## Learning Goals\n",
    "* Introduction to FASTQ and FASTA files\n",
    "     * Master of bedtools command: [\"getFastaFromBed\"](http://bedtools.readthedocs.io/en/latest/content/tools/getfasta.html)"
   ]
  },
  {
   "cell_type": "markdown",
   "metadata": {},
   "source": [
    "###  Linux command reference \n",
    "Link to [Unix Command Reference](../Unix_Basics.ipynb)"
   ]
  },
  {
   "cell_type": "markdown",
   "metadata": {},
   "source": [
    "## Introduction to FASTA and FASTQ data formats"
   ]
  },
  {
   "cell_type": "markdown",
   "metadata": {},
   "source": [
    "You have already seen data in the FASTA format. The first line contains the sequence label, preceded by \">\". The second line contains the actual sequence bases (A,C,G,T): \n",
    "\n",
    "**>FORJUSP02AJWD1** \n",
    "\n",
    "**CCGTCAATTCATTTAAGTTTTAACCTT**\n",
    "\n",
    "FASTQ format takes this a step further by including sequence quality information  in ASCII characters. \n",
    "<img src=\"images/fastq_fig.jpg\",align=\"center\"//>\n",
    "\n"
   ]
  },
  {
   "cell_type": "code",
   "execution_count": 1,
   "metadata": {
    "collapsed": false
   },
   "outputs": [
    {
     "name": "stdout",
     "output_type": "stream",
     "text": [
      "[32, 25, 24, 24, 31, 25, 25, 30, 30, 31, 31, 25, 25, 37, 37, 32, 32]\n"
     ]
    }
   ],
   "source": [
    "## You can convert the ASCII-encoded quality values to numeric Q scores with the 'ord' function. You must subtract 33\n",
    "## from the converted value to obtain a Q score\n",
    "\n",
    "quality_ascii='A:99@::??@@::FFAA'\n",
    "numerical=[ord(c)-33 for c in quality_ascii]\n",
    "print(numerical)"
   ]
  },
  {
   "cell_type": "markdown",
   "metadata": {},
   "source": [
    "## Bedtools getFastaFromBed"
   ]
  },
  {
   "cell_type": "markdown",
   "metadata": {},
   "source": [
    "Bedtools provides the **getFastaFromBed** command to extract the FASTA sequence from a specific set of chromosome coordinates. "
   ]
  },
  {
   "cell_type": "code",
   "execution_count": 2,
   "metadata": {
    "collapsed": false
   },
   "outputs": [
    {
     "name": "stdout",
     "output_type": "stream",
     "text": [
      "\r\n",
      "Tool:    bedtools getfasta (aka fastaFromBed)\r\n",
      "Version: v2.24.0\r\n",
      "Summary: Extract DNA sequences into a fasta file based on feature coordinates.\r\n",
      "\r\n",
      "Usage:   bedtools getfasta [OPTIONS] -fi <fasta> -bed <bed/gff/vcf> -fo <fasta> \r\n",
      "\r\n",
      "Options: \r\n",
      "\t-fi\tInput FASTA file\r\n",
      "\t-bed\tBED/GFF/VCF file of ranges to extract from -fi\r\n",
      "\t-fo\tOutput file (can be FASTA or TAB-delimited)\r\n",
      "\t-name\tUse the name field for the FASTA header\r\n",
      "\t-split\tgiven BED12 fmt., extract and concatenate the sequencesfrom the BED \"blocks\" (e.g., exons)\r\n",
      "\t-tab\tWrite output in TAB delimited format.\r\n",
      "\t\t- Default is FASTA format.\r\n",
      "\r\n",
      "\t-s\tForce strandedness. If the feature occupies the antisense,\r\n",
      "\t\tstrand, the sequence will be reverse complemented.\r\n",
      "\t\t- By default, strand information is ignored.\r\n",
      "\r\n",
      "\t-fullHeader\tUse full fasta header.\r\n",
      "\t\t- By default, only the word before the first space or tab is used.\r\n",
      "\r\n"
     ]
    }
   ],
   "source": [
    "!bedtools getfasta "
   ]
  },
  {
   "cell_type": "markdown",
   "metadata": {},
   "source": [
    "Alternatively, you can use the shortcut for the command: "
   ]
  },
  {
   "cell_type": "code",
   "execution_count": 3,
   "metadata": {
    "collapsed": false
   },
   "outputs": [
    {
     "name": "stdout",
     "output_type": "stream",
     "text": [
      "\r\n",
      "Tool:    bedtools getfasta (aka fastaFromBed)\r\n",
      "Version: v2.24.0\r\n",
      "Summary: Extract DNA sequences into a fasta file based on feature coordinates.\r\n",
      "\r\n",
      "Usage:   bedtools getfasta [OPTIONS] -fi <fasta> -bed <bed/gff/vcf> -fo <fasta> \r\n",
      "\r\n",
      "Options: \r\n",
      "\t-fi\tInput FASTA file\r\n",
      "\t-bed\tBED/GFF/VCF file of ranges to extract from -fi\r\n",
      "\t-fo\tOutput file (can be FASTA or TAB-delimited)\r\n",
      "\t-name\tUse the name field for the FASTA header\r\n",
      "\t-split\tgiven BED12 fmt., extract and concatenate the sequencesfrom the BED \"blocks\" (e.g., exons)\r\n",
      "\t-tab\tWrite output in TAB delimited format.\r\n",
      "\t\t- Default is FASTA format.\r\n",
      "\r\n",
      "\t-s\tForce strandedness. If the feature occupies the antisense,\r\n",
      "\t\tstrand, the sequence will be reverse complemented.\r\n",
      "\t\t- By default, strand information is ignored.\r\n",
      "\r\n",
      "\t-fullHeader\tUse full fasta header.\r\n",
      "\t\t- By default, only the word before the first space or tab is used.\r\n",
      "\r\n"
     ]
    }
   ],
   "source": [
    "!fastaFromBed"
   ]
  },
  {
   "cell_type": "markdown",
   "metadata": {},
   "source": [
    "The command requires an input FASTA file, a BED file containing your regions of interest, and an output FASTA file name. The reference file in our case is the **h19.fa** containing all DNA bases in the hg19 version of the human genome. You can access this file here:  \n",
    "#TODO: Replace the nandi-specific path with the hg19.fa path on the class server \n",
    "```\n",
    "/mnt/data/annotations/by_release/hg19.GRCh37/hg19.genome.fa \n",
    "```"
   ]
  },
  {
   "cell_type": "code",
   "execution_count": 4,
   "metadata": {
    "collapsed": false
   },
   "outputs": [
    {
     "name": "stdout",
     "output_type": "stream",
     "text": [
      "cat: /mnt/data/annotations/by_release/hg19.GRCh37/hg19.genome.fa: No such file or directory\r\n"
     ]
    }
   ],
   "source": [
    "%cat  /mnt/data/annotations/by_release/hg19.GRCh37/hg19.genome.fa | head -n10"
   ]
  },
  {
   "cell_type": "markdown",
   "metadata": {},
   "source": [
    "We need to store our LIN28A enhancer peak and promoter peak in a bed file, we can pipe the output from **intersectBed** to a file. "
   ]
  },
  {
   "cell_type": "code",
   "execution_count": 5,
   "metadata": {
    "collapsed": false
   },
   "outputs": [
    {
     "name": "stdout",
     "output_type": "stream",
     "text": [
      "Error: Unable to open file *promoter.bed. Exiting.\n",
      "Error: Unable to open file *enhancer.bed. Exiting.\n"
     ]
    }
   ],
   "source": [
    "## running intersectBed, like before, but this time we pipe the output to a new file \n",
    "!intersectBed -wa -a *promoter.bed -b LIN28A.coords.bed > LIN28A.peaks.bed \n",
    "!intersectBed -wa -a *enhancer.bed -b LIN28A.coords.bed >> LIN28A.peaks.bed \n",
    "\n",
    "##note the use of the \">>\" syntax instead of the \">\" syntax. \n",
    "## If your specified output file already exists, >> will append to the existing file rather than overwriting it. "
   ]
  },
  {
   "cell_type": "code",
   "execution_count": 6,
   "metadata": {
    "collapsed": false
   },
   "outputs": [],
   "source": [
    "## check to see that the LIN28A.peakds.bed file is properly formatted \n",
    "%cat LIN28A.peaks.bed"
   ]
  },
  {
   "cell_type": "code",
   "execution_count": 7,
   "metadata": {
    "collapsed": false
   },
   "outputs": [
    {
     "name": "stdout",
     "output_type": "stream",
     "text": [
      "Error: The requested fasta database file (/mnt/data/annotations/by_release/hg19.GRCh37/hg19.genome.fa) could not be opened. Exiting!\r\n"
     ]
    }
   ],
   "source": [
    "## now extract the FASTA sequence for the two peaks \n",
    "!fastaFromBed -fi /mnt/data/annotations/by_release/hg19.GRCh37/hg19.genome.fa -bed LIN28A.peaks.bed -fo LIN28A.peaks.fasta "
   ]
  },
  {
   "cell_type": "code",
   "execution_count": 8,
   "metadata": {
    "collapsed": false
   },
   "outputs": [],
   "source": [
    "## examine the resulting FASTA file\n",
    "%cat LIN28A.peaks.fasta "
   ]
  },
  {
   "cell_type": "markdown",
   "metadata": {},
   "source": [
    "### Exploring the capabilities of fastaFromBed\n",
    "The LIN28A example above illustrates the default behavior of the **intersectBed** and **fastaFromBed** commands. Refer to lecture 4 if you would like a refresher on the full set of functionality of the **intersectBed** command. The code snippets below provide mini-examples to explore **fastaFromBed** "
   ]
  },
  {
   "cell_type": "code",
   "execution_count": 9,
   "metadata": {
    "collapsed": false
   },
   "outputs": [
    {
     "name": "stdout",
     "output_type": "stream",
     "text": [
      ">chr1\n",
      "AAAAAAAACCCCCCCCCCCCCGCTACTGGGGGGGGGGGGGGGGGG\n",
      "chr1\t5\t10\tmyseq\n"
     ]
    }
   ],
   "source": [
    "## create a simple fasta file \n",
    "!echo \">chr1\" >  test.fa \n",
    "!echo \"AAAAAAAACCCCCCCCCCCCCGCTACTGGGGGGGGGGGGGGGGGG\" >> test.fa \n",
    "#examine the contents of the file \n",
    "!cat test.fa\n",
    "\n",
    "## create a simple bed file \n",
    "!echo \"chr1\\t5\\t10\\tmyseq\" >  test.bed \n",
    "#examine the contents of the file\n",
    "!cat test.bed"
   ]
  },
  {
   "cell_type": "code",
   "execution_count": 10,
   "metadata": {
    "collapsed": false
   },
   "outputs": [
    {
     "name": "stdout",
     "output_type": "stream",
     "text": [
      "index file test.fa.fai not found, generating...\n",
      ">chr1:5-10\n",
      "AAACC\n"
     ]
    }
   ],
   "source": [
    "## first, the default behavior: \n",
    "!bedtools getfasta -fi test.fa -bed test.bed -fo test.fa.out\n",
    "#examine the output\n",
    "!cat test.fa.out"
   ]
  },
  {
   "cell_type": "markdown",
   "metadata": {},
   "source": [
    "Using the -name option, one can set the FASTA header for each extracted sequence to be the “name” columns from the BED feature."
   ]
  },
  {
   "cell_type": "code",
   "execution_count": 11,
   "metadata": {
    "collapsed": false
   },
   "outputs": [
    {
     "name": "stdout",
     "output_type": "stream",
     "text": [
      ">myseq\r\n",
      "AAACC\r\n"
     ]
    }
   ],
   "source": [
    "!bedtools getfasta -fi test.fa -bed test.bed -name -fo test.fa.out\n",
    "\n",
    "#examine the output \n",
    "!cat test.fa.out\n"
   ]
  },
  {
   "cell_type": "markdown",
   "metadata": {},
   "source": [
    "Using the -tab option, the -fo output file will be tab-delimited instead of in FASTA format."
   ]
  },
  {
   "cell_type": "code",
   "execution_count": 12,
   "metadata": {
    "collapsed": false
   },
   "outputs": [
    {
     "name": "stdout",
     "output_type": "stream",
     "text": [
      "chr1:5-10\tAAACC\r\n"
     ]
    }
   ],
   "source": [
    "!bedtools getfasta -fi test.fa -bed test.bed -tab -fo test.fa.out\n",
    "#examine the output \n",
    "!cat test.fa.out"
   ]
  },
  {
   "cell_type": "markdown",
   "metadata": {},
   "source": [
    "bedtools getfasta will extract the sequence in the orientation defined in the strand column when the “-s” option is used."
   ]
  },
  {
   "cell_type": "code",
   "execution_count": 13,
   "metadata": {
    "collapsed": false
   },
   "outputs": [
    {
     "name": "stdout",
     "output_type": "stream",
     "text": [
      "chr1\t20\t25\tforward\t1\t+\n",
      "chr1\t20\t25\treverse\t1\t-\n",
      ">forward\n",
      "CGCTA\n",
      ">reverse\n",
      "TAGCG\n"
     ]
    }
   ],
   "source": [
    "#We re-write our test.bed file to include strand information: \n",
    "!echo \"chr1\\t20\\t25\\tforward\\t1\\t+\" > test.bed \n",
    "!echo \"chr1\\t20\\t25\\treverse\\t1\\t-\" >> test.bed \n",
    "!cat test.bed \n",
    "\n",
    "!bedtools getfasta -fi test.fa -bed test.bed -s -name -fo test.fa.out \n",
    "#examine the output \n",
    "!cat test.fa.out"
   ]
  },
  {
   "cell_type": "code",
   "execution_count": null,
   "metadata": {
    "collapsed": true
   },
   "outputs": [],
   "source": []
  },
  {
   "cell_type": "code",
   "execution_count": null,
   "metadata": {
    "collapsed": true
   },
   "outputs": [],
   "source": []
  }
 ],
 "metadata": {
  "kernelspec": {
   "display_name": "Python 2",
   "language": "python",
   "name": "python2"
  },
  "language_info": {
   "codemirror_mode": {
    "name": "ipython",
    "version": 2
   },
   "file_extension": ".py",
   "mimetype": "text/x-python",
   "name": "python",
   "nbconvert_exporter": "python",
   "pygments_lexer": "ipython2",
   "version": "2.7.10"
  }
 },
 "nbformat": 4,
 "nbformat_minor": 1
}
