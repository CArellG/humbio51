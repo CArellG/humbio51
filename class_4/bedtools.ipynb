{
 "cells": [
  {
   "cell_type": "markdown",
   "metadata": {},
   "source": [
    "# Introduction to bedtools\n",
    "\n",
    "Here, we introduce bedtools, a valuable command-line utility for working with genomic coordinates."
   ]
  },
  {
   "cell_type": "markdown",
   "metadata": {},
   "source": [
    "## Format of a BED file\n",
    "\n",
    "BED files are text files that contain genomic coordinate information, and are typically given the .bed extension. The format of a BED file is specified here: https://genome.ucsc.edu/FAQ/FAQformat.html#format1. Only the first three columns are mandatory for bed files, and they contain the following information:\n",
    "\n",
    "Columns in a BED file:\n",
    "- Column 1: chromosome\n",
    "- Column 2: start position (the beginning of the first base is indicated by the start position 0; the beginning of the 5th base is indicated by the start position \"4\")\n",
    "- Column 3: end position (the end of the first base is indicated by the end position \"1\"; the end of the 5th base is indicated by the end position \"5\")\n",
    "\n",
    "People are often confused by the fact that the same \"base\" is referred to by a different number depending on whether you are referring to the start or the end. A simple way to understand this is to realize that the positions are not referring to the numbering of the bases themselves, but to the boundary between bases, as illustrated in the figure below:"
   ]
  },
  {
   "cell_type": "markdown",
   "metadata": {
    "collapsed": true
   },
   "source": [
    "<img src=\"./array_slice_indexing.png\">"
   ]
  },
  {
   "cell_type": "markdown",
   "metadata": {},
   "source": [
    "Note that this convention is also consistent with how array slicing works, as illustrated below:"
   ]
  },
  {
   "cell_type": "code",
   "execution_count": 1,
   "metadata": {
    "collapsed": false
   },
   "outputs": [
    {
     "name": "stdout",
     "output_type": "stream",
     "text": [
      "ACCT\n",
      "CCTG\n",
      "ACCTG\n"
     ]
    }
   ],
   "source": [
    "from __future__ import print_function #for compatibility with both python 2 and python 3\n",
    "\n",
    "dna_string = \"ACCTG\"\n",
    "print(dna_string[0:4])\n",
    "print(dna_string[1:5])\n",
    "print(dna_string[0:5])"
   ]
  },
  {
   "cell_type": "markdown",
   "metadata": {},
   "source": [
    "## Prepare sample BED files\n",
    "\n",
    "Below, we prepare two sample BED files that we will use to demonstrate bedtools command."
   ]
  },
  {
   "cell_type": "code",
   "execution_count": 2,
   "metadata": {
    "collapsed": false
   },
   "outputs": [],
   "source": [
    "#\\t is a tab character, and \\n is a newline character\n",
    "file1 = open('file1.bed', 'w')\n",
    "file1.write(\"chr1\\t0\\t100\\n\")\n",
    "file1.write(\"chr1\\t50\\t150\\n\")\n",
    "file1.write(\"chr1\\t200\\t250\\n\")\n",
    "file1.write(\"chr2\\t100\\t250\\n\")\n",
    "file1.close()\n",
    "\n",
    "file2 = open('file2.bed', 'w')\n",
    "file2.write(\"chr1\\t0\\t50\\n\")\n",
    "file2.write(\"chr1\\t50\\t90\\n\")\n",
    "file2.write(\"chr1\\t90\\t110\\n\")\n",
    "file2.write(\"chr1\\t110\\t200\\n\")\n",
    "file2.write(\"chr1\\t150\\t180\\n\")\n",
    "file2.write(\"chr2\\t400\\t450\\n\")\n",
    "file2.close()"
   ]
  },
  {
   "cell_type": "markdown",
   "metadata": {},
   "source": [
    "Let's view the created files:"
   ]
  },
  {
   "cell_type": "code",
   "execution_count": 3,
   "metadata": {
    "collapsed": false
   },
   "outputs": [
    {
     "name": "stdout",
     "output_type": "stream",
     "text": [
      "file1.bed\n",
      "chr1\t0\t100\n",
      "chr1\t50\t150\n",
      "chr1\t200\t250\n",
      "chr2\t100\t250\n",
      "file2.bed\n",
      "chr1\t0\t50\n",
      "chr1\t50\t90\n",
      "chr1\t90\t110\n",
      "chr1\t110\t200\n",
      "chr1\t150\t180\n",
      "chr2\t400\t450\n"
     ]
    }
   ],
   "source": [
    "!echo \"file1.bed\" #print \"file1.bed\" to the screen\n",
    "!cat \"file1.bed\" #display the contents of file1.bed\n",
    "!echo \"file2.bed\"\n",
    "!cat \"file2.bed\""
   ]
  },
  {
   "cell_type": "markdown",
   "metadata": {},
   "source": [
    "## The bedtools intersect command\n",
    "\n",
    "This command performance an intersection between two files, and returns all overlapping intervals."
   ]
  },
  {
   "cell_type": "code",
   "execution_count": 4,
   "metadata": {
    "collapsed": false
   },
   "outputs": [
    {
     "name": "stdout",
     "output_type": "stream",
     "text": [
      "chr1\t0\t50\r\n",
      "chr1\t50\t90\r\n",
      "chr1\t90\t100\r\n",
      "chr1\t50\t90\r\n",
      "chr1\t90\t110\r\n",
      "chr1\t110\t150\r\n"
     ]
    }
   ],
   "source": [
    "!bedtools intersect -a file1.bed -b file2.bed"
   ]
  },
  {
   "cell_type": "markdown",
   "metadata": {},
   "source": [
    "It is equivalently known as the intersectBed command:"
   ]
  },
  {
   "cell_type": "code",
   "execution_count": 5,
   "metadata": {
    "collapsed": false
   },
   "outputs": [
    {
     "name": "stdout",
     "output_type": "stream",
     "text": [
      "chr1\t0\t50\r\n",
      "chr1\t50\t90\r\n",
      "chr1\t90\t100\r\n",
      "chr1\t50\t90\r\n",
      "chr1\t90\t110\r\n",
      "chr1\t110\t150\r\n"
     ]
    }
   ],
   "source": [
    "!intersectBed -a file1.bed -b file2.bed"
   ]
  },
  {
   "cell_type": "markdown",
   "metadata": {},
   "source": [
    "To write the output of any command to a file, use the > operator which redirects the output to a text file"
   ]
  },
  {
   "cell_type": "code",
   "execution_count": 6,
   "metadata": {
    "collapsed": true
   },
   "outputs": [],
   "source": [
    "!bedtools intersect -a file1.bed -b file2.bed > intersection_results.bed"
   ]
  },
  {
   "cell_type": "markdown",
   "metadata": {},
   "source": [
    "The contents can then be read back from the file, which could then be used as an input file for subsequent commands."
   ]
  },
  {
   "cell_type": "code",
   "execution_count": 7,
   "metadata": {
    "collapsed": false
   },
   "outputs": [
    {
     "name": "stdout",
     "output_type": "stream",
     "text": [
      "chr1\t0\t50\r\n",
      "chr1\t50\t90\r\n",
      "chr1\t90\t100\r\n",
      "chr1\t50\t90\r\n",
      "chr1\t90\t110\r\n",
      "chr1\t110\t150\r\n"
     ]
    }
   ],
   "source": [
    "!cat intersection_results.bed"
   ]
  },
  {
   "cell_type": "markdown",
   "metadata": {},
   "source": [
    "The --help command can be used to view options. We recommend you read through all of these to know what is possible"
   ]
  },
  {
   "cell_type": "code",
   "execution_count": 8,
   "metadata": {
    "collapsed": false
   },
   "outputs": [
    {
     "name": "stdout",
     "output_type": "stream",
     "text": [
      "\r\n",
      "Tool:    bedtools intersect (aka intersectBed)\r\n",
      "Version: v2.26.0\r\n",
      "Summary: Report overlaps between two feature files.\r\n",
      "\r\n",
      "Usage:   bedtools intersect [OPTIONS] -a <bed/gff/vcf/bam> -b <bed/gff/vcf/bam>\r\n",
      "\r\n",
      "\tNote: -b may be followed with multiple databases and/or \r\n",
      "\twildcard (*) character(s). \r\n",
      "Options: \r\n",
      "\t-wa\tWrite the original entry in A for each overlap.\r\n",
      "\r\n",
      "\t-wb\tWrite the original entry in B for each overlap.\r\n",
      "\t\t- Useful for knowing _what_ A overlaps. Restricted by -f and -r.\r\n",
      "\r\n",
      "\t-loj\tPerform a \"left outer join\". That is, for each feature in A\r\n",
      "\t\treport each overlap with B.  If no overlaps are found, \r\n",
      "\t\treport a NULL feature for B.\r\n",
      "\r\n",
      "\t-wo\tWrite the original A and B entries plus the number of base\r\n",
      "\t\tpairs of overlap between the two features.\r\n",
      "\t\t- Overlaps restricted by -f and -r.\r\n",
      "\t\t  Only A features with overlap are reported.\r\n",
      "\r\n",
      "\t-wao\tWrite the original A and B entries plus the number of base\r\n",
      "\t\tpairs of overlap between the two features.\r\n",
      "\t\t- Overlapping features restricted by -f and -r.\r\n",
      "\t\t  However, A features w/o overlap are also reported\r\n",
      "\t\t  with a NULL B feature and overlap = 0.\r\n",
      "\r\n",
      "\t-u\tWrite the original A entry _once_ if _any_ overlaps found in B.\r\n",
      "\t\t- In other words, just report the fact >=1 hit was found.\r\n",
      "\t\t- Overlaps restricted by -f and -r.\r\n",
      "\r\n",
      "\t-c\tFor each entry in A, report the number of overlaps with B.\r\n",
      "\t\t- Reports 0 for A entries that have no overlap with B.\r\n",
      "\t\t- Overlaps restricted by -f and -r.\r\n",
      "\r\n",
      "\t-v\tOnly report those entries in A that have _no overlaps_ with B.\r\n",
      "\t\t- Similar to \"grep -v\" (an homage).\r\n",
      "\r\n",
      "\t-ubam\tWrite uncompressed BAM output. Default writes compressed BAM.\r\n",
      "\r\n",
      "\t-s\tRequire same strandedness.  That is, only report hits in B\r\n",
      "\t\tthat overlap A on the _same_ strand.\r\n",
      "\t\t- By default, overlaps are reported without respect to strand.\r\n",
      "\r\n",
      "\t-S\tRequire different strandedness.  That is, only report hits in B\r\n",
      "\t\tthat overlap A on the _opposite_ strand.\r\n",
      "\t\t- By default, overlaps are reported without respect to strand.\r\n",
      "\r\n",
      "\t-f\tMinimum overlap required as a fraction of A.\r\n",
      "\t\t- Default is 1E-9 (i.e., 1bp).\r\n",
      "\t\t- FLOAT (e.g. 0.50)\r\n",
      "\r\n",
      "\t-F\tMinimum overlap required as a fraction of B.\r\n",
      "\t\t- Default is 1E-9 (i.e., 1bp).\r\n",
      "\t\t- FLOAT (e.g. 0.50)\r\n",
      "\r\n",
      "\t-r\tRequire that the fraction overlap be reciprocal for A AND B.\r\n",
      "\t\t- In other words, if -f is 0.90 and -r is used, this requires\r\n",
      "\t\t  that B overlap 90% of A and A _also_ overlaps 90% of B.\r\n",
      "\r\n",
      "\t-e\tRequire that the minimum fraction be satisfied for A OR B.\r\n",
      "\t\t- In other words, if -e is used with -f 0.90 and -F 0.10 this requires\r\n",
      "\t\t  that either 90% of A is covered OR 10% of  B is covered.\r\n",
      "\t\t  Without -e, both fractions would have to be satisfied.\r\n",
      "\r\n",
      "\t-split\tTreat \"split\" BAM or BED12 entries as distinct BED intervals.\r\n",
      "\r\n",
      "\t-g\tProvide a genome file to enforce consistent chromosome sort order\r\n",
      "\t\tacross input files. Only applies when used with -sorted option.\r\n",
      "\r\n",
      "\t-nonamecheck\tFor sorted data, don't throw an error if the file has different naming conventions\r\n",
      "\t\t\tfor the same chromosome. ex. \"chr1\" vs \"chr01\".\r\n",
      "\r\n",
      "\t-sorted\tUse the \"chromsweep\" algorithm for sorted (-k1,1 -k2,2n) input.\r\n",
      "\r\n",
      "\t-names\tWhen using multiple databases, provide an alias for each that\r\n",
      "\t\twill appear instead of a fileId when also printing the DB record.\r\n",
      "\r\n",
      "\t-filenames\tWhen using multiple databases, show each complete filename\r\n",
      "\t\t\tinstead of a fileId when also printing the DB record.\r\n",
      "\r\n",
      "\t-sortout\tWhen using multiple databases, sort the output DB hits\r\n",
      "\t\t\tfor each record.\r\n",
      "\r\n",
      "\t-bed\tIf using BAM input, write output as BED.\r\n",
      "\r\n",
      "\t-header\tPrint the header from the A file prior to results.\r\n",
      "\r\n",
      "\t-nobuf\tDisable buffered output. Using this option will cause each line\r\n",
      "\t\tof output to be printed as it is generated, rather than saved\r\n",
      "\t\tin a buffer. This will make printing large output files \r\n",
      "\t\tnoticeably slower, but can be useful in conjunction with\r\n",
      "\t\tother software tools and scripts that need to process one\r\n",
      "\t\tline of bedtools output at a time.\r\n",
      "\r\n",
      "\t-iobuf\tSpecify amount of memory to use for input buffer.\r\n",
      "\t\tTakes an integer argument. Optional suffixes K/M/G supported.\r\n",
      "\t\tNote: currently has no effect with compressed files.\r\n",
      "\r\n",
      "Notes: \r\n",
      "\t(1) When a BAM file is used for the A file, the alignment is retained if overlaps exist,\r\n",
      "\tand exlcuded if an overlap cannot be found.  If multiple overlaps exist, they are not\r\n",
      "\treported, as we are only testing for one or more overlaps.\r\n",
      "\r\n"
     ]
    }
   ],
   "source": [
    "!bedtools intersect --help"
   ]
  },
  {
   "cell_type": "markdown",
   "metadata": {},
   "source": [
    "We go over some key options below. -wa reports the original entry for the -a file involved in the overlap, instead of just the overlapping portion."
   ]
  },
  {
   "cell_type": "code",
   "execution_count": 9,
   "metadata": {
    "collapsed": false
   },
   "outputs": [
    {
     "name": "stdout",
     "output_type": "stream",
     "text": [
      "chr1\t0\t100\r\n",
      "chr1\t0\t100\r\n",
      "chr1\t0\t100\r\n",
      "chr1\t50\t150\r\n",
      "chr1\t50\t150\r\n",
      "chr1\t50\t150\r\n"
     ]
    }
   ],
   "source": [
    "!bedtools intersect -a file1.bed -b file2.bed -wa"
   ]
  },
  {
   "cell_type": "markdown",
   "metadata": {},
   "source": [
    "Adding in the -wb option will also include the entry from \"b\" involved in the overlap:"
   ]
  },
  {
   "cell_type": "code",
   "execution_count": 10,
   "metadata": {
    "collapsed": false
   },
   "outputs": [
    {
     "name": "stdout",
     "output_type": "stream",
     "text": [
      "chr1\t0\t100\tchr1\t0\t50\r\n",
      "chr1\t0\t100\tchr1\t50\t90\r\n",
      "chr1\t0\t100\tchr1\t90\t110\r\n",
      "chr1\t50\t150\tchr1\t50\t90\r\n",
      "chr1\t50\t150\tchr1\t90\t110\r\n",
      "chr1\t50\t150\tchr1\t110\t200\r\n"
     ]
    }
   ],
   "source": [
    "!bedtools intersect -a file1.bed -b file2.bed -wa -wb"
   ]
  },
  {
   "cell_type": "markdown",
   "metadata": {},
   "source": [
    "If you just want to know which features from the -a file overlapped with some feature in the -b file, but do not want repeated features to be reported, use the -u flag:"
   ]
  },
  {
   "cell_type": "code",
   "execution_count": 11,
   "metadata": {
    "collapsed": false
   },
   "outputs": [
    {
     "name": "stdout",
     "output_type": "stream",
     "text": [
      "chr1\t0\t100\r\n",
      "chr1\t50\t150\r\n"
     ]
    }
   ],
   "source": [
    "!bedtools intersect -a file1.bed -b file2.bed -u"
   ]
  },
  {
   "cell_type": "markdown",
   "metadata": {},
   "source": [
    "If you want to know how many distinct regions from -b are overlapped by some region from -a, use the -c flag"
   ]
  },
  {
   "cell_type": "code",
   "execution_count": 12,
   "metadata": {
    "collapsed": false
   },
   "outputs": [
    {
     "name": "stdout",
     "output_type": "stream",
     "text": [
      "chr1\t0\t100\t3\r\n",
      "chr1\t50\t150\t3\r\n",
      "chr1\t200\t250\t0\r\n",
      "chr2\t100\t250\t0\r\n"
     ]
    }
   ],
   "source": [
    "!bedtools intersect -a file1.bed -b file2.bed -c"
   ]
  },
  {
   "cell_type": "markdown",
   "metadata": {},
   "source": [
    "To filter for those entries in -a with NO overlap with an entry from -b, use the -v flag"
   ]
  },
  {
   "cell_type": "code",
   "execution_count": 13,
   "metadata": {
    "collapsed": false
   },
   "outputs": [
    {
     "name": "stdout",
     "output_type": "stream",
     "text": [
      "chr1\t200\t250\r\n",
      "chr2\t100\t250\r\n"
     ]
    }
   ],
   "source": [
    "!bedtools intersect -a file1.bed -b file2.bed -v"
   ]
  },
  {
   "cell_type": "markdown",
   "metadata": {},
   "source": [
    "-loj can be used to report overlaps for all features in the -a file, or a blank if there are no overlaps:"
   ]
  },
  {
   "cell_type": "code",
   "execution_count": 14,
   "metadata": {
    "collapsed": false
   },
   "outputs": [
    {
     "name": "stdout",
     "output_type": "stream",
     "text": [
      "chr1\t0\t100\tchr1\t0\t50\r\n",
      "chr1\t0\t100\tchr1\t50\t90\r\n",
      "chr1\t0\t100\tchr1\t90\t110\r\n",
      "chr1\t50\t150\tchr1\t50\t90\r\n",
      "chr1\t50\t150\tchr1\t90\t110\r\n",
      "chr1\t50\t150\tchr1\t110\t200\r\n",
      "chr1\t200\t250\t.\t-1\t-1\r\n",
      "chr2\t100\t250\t.\t-1\t-1\r\n"
     ]
    }
   ],
   "source": [
    "!bedtools intersect -a file1.bed -b file2.bed -loj"
   ]
  },
  {
   "cell_type": "markdown",
   "metadata": {},
   "source": [
    "-wao adds information about the number of bases in the overlap:"
   ]
  },
  {
   "cell_type": "code",
   "execution_count": 15,
   "metadata": {
    "collapsed": false
   },
   "outputs": [
    {
     "name": "stdout",
     "output_type": "stream",
     "text": [
      "chr1\t0\t100\tchr1\t0\t50\t50\r\n",
      "chr1\t0\t100\tchr1\t50\t90\t40\r\n",
      "chr1\t0\t100\tchr1\t90\t110\t10\r\n",
      "chr1\t50\t150\tchr1\t50\t90\t40\r\n",
      "chr1\t50\t150\tchr1\t90\t110\t20\r\n",
      "chr1\t50\t150\tchr1\t110\t200\t40\r\n",
      "chr1\t200\t250\t.\t-1\t-1\t0\r\n",
      "chr2\t100\t250\t.\t-1\t-1\t0\r\n"
     ]
    }
   ],
   "source": [
    "!bedtools intersect -a file1.bed -b file2.bed -wao"
   ]
  },
  {
   "cell_type": "markdown",
   "metadata": {},
   "source": [
    "To impose a certain minimum overlap as a fraction of the size of the region in -a, use the -f flag"
   ]
  },
  {
   "cell_type": "code",
   "execution_count": 16,
   "metadata": {
    "collapsed": false
   },
   "outputs": [
    {
     "name": "stdout",
     "output_type": "stream",
     "text": [
      "chr1\t0\t100\tchr1\t0\t50\t50\r\n",
      "chr1\t0\t100\tchr1\t50\t90\t40\r\n",
      "chr1\t50\t150\tchr1\t50\t90\t40\r\n",
      "chr1\t50\t150\tchr1\t110\t200\t40\r\n",
      "chr1\t200\t250\t.\t-1\t-1\t0\r\n",
      "chr2\t100\t250\t.\t-1\t-1\t0\r\n"
     ]
    }
   ],
   "source": [
    "!bedtools intersect -a file1.bed -b file2.bed -wao -f 0.4"
   ]
  },
  {
   "cell_type": "markdown",
   "metadata": {},
   "source": [
    "## The bedtools merge command\n",
    "\n",
    "The bedtools merge command (also known as mergeBed) unifies overlapping intervals in a bed file. The regions in the file must be sorted, first by chromosome, then by the start coordinate."
   ]
  },
  {
   "cell_type": "code",
   "execution_count": 17,
   "metadata": {
    "collapsed": false
   },
   "outputs": [
    {
     "name": "stdout",
     "output_type": "stream",
     "text": [
      "chr1\t0\t150\r\n",
      "chr1\t200\t250\r\n",
      "chr2\t100\t250\r\n"
     ]
    }
   ],
   "source": [
    "!bedtools merge -i file1.bed"
   ]
  },
  {
   "cell_type": "markdown",
   "metadata": {},
   "source": [
    "Remember that it is possible to use the cat command to concatenate files, as shown below:"
   ]
  },
  {
   "cell_type": "code",
   "execution_count": 18,
   "metadata": {
    "collapsed": false
   },
   "outputs": [
    {
     "name": "stdout",
     "output_type": "stream",
     "text": [
      "chr1\t0\t100\r\n",
      "chr1\t50\t150\r\n",
      "chr1\t200\t250\r\n",
      "chr2\t100\t250\r\n",
      "chr1\t0\t50\r\n",
      "chr1\t50\t90\r\n",
      "chr1\t90\t110\r\n",
      "chr1\t110\t200\r\n",
      "chr1\t150\t180\r\n",
      "chr2\t400\t450\r\n"
     ]
    }
   ],
   "source": [
    "!cat file1.bed file2.bed"
   ]
  },
  {
   "cell_type": "markdown",
   "metadata": {},
   "source": [
    "Thus, if we want to merge the regions in file1.bed and file2.bed, we can do so as shown (we will use bedtools sort, a.k.a. sortBed, to sort the file)"
   ]
  },
  {
   "cell_type": "code",
   "execution_count": 19,
   "metadata": {
    "collapsed": false
   },
   "outputs": [
    {
     "name": "stdout",
     "output_type": "stream",
     "text": [
      "chr1\t0\t250\r\n",
      "chr2\t100\t250\r\n",
      "chr2\t400\t450\r\n"
     ]
    }
   ],
   "source": [
    "!cat file1.bed file2.bed > concatenated_regions.bed\n",
    "!bedtools sort -i concatenated_regions.bed > sorted_concatenated_regions.bed\n",
    "!bedtools merge -i sorted_concatenated_regions.bed"
   ]
  },
  {
   "cell_type": "markdown",
   "metadata": {},
   "source": [
    "Note that we can use the pipe operator to feed the output of one command directly as the input of another, so that the commands above can actually be executed in one line as shown:"
   ]
  },
  {
   "cell_type": "code",
   "execution_count": 20,
   "metadata": {
    "collapsed": false
   },
   "outputs": [
    {
     "name": "stdout",
     "output_type": "stream",
     "text": [
      "chr1\t0\t250\r\n",
      "chr2\t100\t250\r\n",
      "chr2\t400\t450\r\n"
     ]
    }
   ],
   "source": [
    "!cat file1.bed file2.bed | bedtools sort | bedtools merge"
   ]
  },
  {
   "cell_type": "markdown",
   "metadata": {},
   "source": [
    "You can also browse the help for bedtools merge as shown below."
   ]
  },
  {
   "cell_type": "code",
   "execution_count": 21,
   "metadata": {
    "collapsed": false
   },
   "outputs": [
    {
     "name": "stdout",
     "output_type": "stream",
     "text": [
      "\r\n",
      "Tool:    bedtools merge (aka mergeBed)\r\n",
      "Version: v2.26.0\r\n",
      "Summary: Merges overlapping BED/GFF/VCF entries into a single interval.\r\n",
      "\r\n",
      "Usage:   bedtools merge [OPTIONS] -i <bed/gff/vcf>\r\n",
      "\r\n",
      "Options: \r\n",
      "\t-s\tForce strandedness.  That is, only merge features\r\n",
      "\t\tthat are on the same strand.\r\n",
      "\t\t- By default, merging is done without respect to strand.\r\n",
      "\r\n",
      "\t-S\tForce merge for one specific strand only.\r\n",
      "\t\tFollow with + or - to force merge from only\r\n",
      "\t\tthe forward or reverse strand, respectively.\r\n",
      "\t\t- By default, merging is done without respect to strand.\r\n",
      "\r\n",
      "\t-d\tMaximum distance between features allowed for features\r\n",
      "\t\tto be merged.\r\n",
      "\t\t- Def. 0. That is, overlapping & book-ended features are merged.\r\n",
      "\t\t- (INTEGER)\r\n",
      "\t\t- Note: negative values enforce the number of b.p. required for overlap.\r\n",
      "\r\n",
      "\t-c\tSpecify columns from the B file to map onto intervals in A.\r\n",
      "\t\tDefault: 5.\r\n",
      "\t\tMultiple columns can be specified in a comma-delimited list.\r\n",
      "\r\n",
      "\t-o\tSpecify the operation that should be applied to -c.\r\n",
      "\t\tValid operations:\r\n",
      "\t\t    sum, min, max, absmin, absmax,\r\n",
      "\t\t    mean, median, mode, antimode\r\n",
      "\t\t    stdev, sstdev\r\n",
      "\t\t    collapse (i.e., print a delimited list (duplicates allowed)), \r\n",
      "\t\t    distinct (i.e., print a delimited list (NO duplicates allowed)), \r\n",
      "\t\t    distinct_sort_num (as distinct, sorted numerically, ascending),\r\n",
      "\t\t    distinct_sort_num_desc (as distinct, sorted numerically, desscending),\r\n",
      "\t\t    distinct_only (delimited list of only unique values),\r\n",
      "\t\t    count\r\n",
      "\t\t    count_distinct (i.e., a count of the unique values in the column), \r\n",
      "\t\t    first (i.e., just the first value in the column), \r\n",
      "\t\t    last (i.e., just the last value in the column), \r\n",
      "\t\tDefault: sum\r\n",
      "\t\tMultiple operations can be specified in a comma-delimited list.\r\n",
      "\r\n",
      "\t\tIf there is only column, but multiple operations, all operations will be\r\n",
      "\t\tapplied on that column. Likewise, if there is only one operation, but\r\n",
      "\t\tmultiple columns, that operation will be applied to all columns.\r\n",
      "\t\tOtherwise, the number of columns must match the the number of operations,\r\n",
      "\t\tand will be applied in respective order.\r\n",
      "\t\tE.g., \"-c 5,4,6 -o sum,mean,count\" will give the sum of column 5,\r\n",
      "\t\tthe mean of column 4, and the count of column 6.\r\n",
      "\t\tThe order of output columns will match the ordering given in the command.\r\n",
      "\r\n",
      "\r\n",
      "\t-delim\tSpecify a custom delimiter for the collapse operations.\r\n",
      "\t\t- Example: -delim \"|\"\r\n",
      "\t\t- Default: \",\".\r\n",
      "\r\n",
      "\t-prec\tSets the decimal precision for output (Default: 5)\r\n",
      "\r\n",
      "\t-bed\tIf using BAM input, write output as BED.\r\n",
      "\r\n",
      "\t-header\tPrint the header from the A file prior to results.\r\n",
      "\r\n",
      "\t-nobuf\tDisable buffered output. Using this option will cause each line\r\n",
      "\t\tof output to be printed as it is generated, rather than saved\r\n",
      "\t\tin a buffer. This will make printing large output files \r\n",
      "\t\tnoticeably slower, but can be useful in conjunction with\r\n",
      "\t\tother software tools and scripts that need to process one\r\n",
      "\t\tline of bedtools output at a time.\r\n",
      "\r\n",
      "\t-iobuf\tSpecify amount of memory to use for input buffer.\r\n",
      "\t\tTakes an integer argument. Optional suffixes K/M/G supported.\r\n",
      "\t\tNote: currently has no effect with compressed files.\r\n",
      "\r\n",
      "Notes: \r\n",
      "\t(1) The input file (-i) file must be sorted by chrom, then start.\r\n",
      "\r\n"
     ]
    }
   ],
   "source": [
    "!mergeBed --help"
   ]
  },
  {
   "cell_type": "markdown",
   "metadata": {},
   "source": [
    "## The bedtools closest command\n",
    "\n",
    "The bedtools closest command can be used to find the regions from one file (the -b file) that are closest to the regions in another. Overlapping features have a distance of zero. This tool is particularly useful when trying to find the nearest gene to an enhancer."
   ]
  },
  {
   "cell_type": "code",
   "execution_count": 22,
   "metadata": {
    "collapsed": false
   },
   "outputs": [
    {
     "name": "stdout",
     "output_type": "stream",
     "text": [
      "chr1\t0\t100\tchr1\t0\t50\r\n",
      "chr1\t0\t100\tchr1\t50\t90\r\n",
      "chr1\t0\t100\tchr1\t90\t110\r\n",
      "chr1\t50\t150\tchr1\t50\t90\r\n",
      "chr1\t50\t150\tchr1\t90\t110\r\n",
      "chr1\t50\t150\tchr1\t110\t200\r\n",
      "chr1\t200\t250\tchr1\t110\t200\r\n",
      "chr2\t100\t250\tchr2\t400\t450\r\n"
     ]
    }
   ],
   "source": [
    "!bedtools closest -a file1.bed -b file2.bed"
   ]
  },
  {
   "cell_type": "markdown",
   "metadata": {},
   "source": [
    "The -d option can be used to report the distance to the feature in the -b file:"
   ]
  },
  {
   "cell_type": "code",
   "execution_count": 23,
   "metadata": {
    "collapsed": false
   },
   "outputs": [
    {
     "name": "stdout",
     "output_type": "stream",
     "text": [
      "chr1\t0\t100\tchr1\t0\t50\t0\r\n",
      "chr1\t0\t100\tchr1\t50\t90\t0\r\n",
      "chr1\t0\t100\tchr1\t90\t110\t0\r\n",
      "chr1\t50\t150\tchr1\t50\t90\t0\r\n",
      "chr1\t50\t150\tchr1\t90\t110\t0\r\n",
      "chr1\t50\t150\tchr1\t110\t200\t0\r\n",
      "chr1\t200\t250\tchr1\t110\t200\t1\r\n",
      "chr2\t100\t250\tchr2\t400\t450\t151\r\n"
     ]
    }
   ],
   "source": [
    "!bedtools closest -a file1.bed -b file2.bed -d"
   ]
  },
  {
   "cell_type": "markdown",
   "metadata": {},
   "source": [
    "The \"-D ref\" option will report a negative distance for features that are earlier (\"upstream\")  and a positive distance for those that are later (\"downstream\"):"
   ]
  },
  {
   "cell_type": "code",
   "execution_count": 24,
   "metadata": {
    "collapsed": false
   },
   "outputs": [
    {
     "name": "stdout",
     "output_type": "stream",
     "text": [
      "chr1\t0\t100\tchr1\t0\t50\t0\r\n",
      "chr1\t0\t100\tchr1\t50\t90\t0\r\n",
      "chr1\t0\t100\tchr1\t90\t110\t0\r\n",
      "chr1\t50\t150\tchr1\t50\t90\t0\r\n",
      "chr1\t50\t150\tchr1\t90\t110\t0\r\n",
      "chr1\t50\t150\tchr1\t110\t200\t0\r\n",
      "chr1\t200\t250\tchr1\t110\t200\t-1\r\n",
      "chr2\t100\t250\tchr2\t400\t450\t151\r\n"
     ]
    }
   ],
   "source": [
    "!bedtools closest -a file1.bed -b file2.bed -D ref"
   ]
  },
  {
   "cell_type": "markdown",
   "metadata": {},
   "source": [
    "Many other options can be browsed in the help menu:"
   ]
  },
  {
   "cell_type": "code",
   "execution_count": 25,
   "metadata": {
    "collapsed": false
   },
   "outputs": [
    {
     "name": "stdout",
     "output_type": "stream",
     "text": [
      "\r\n",
      "Tool:    bedtools closest (aka closestBed)\r\n",
      "Version: v2.26.0\r\n",
      "Summary: For each feature in A, finds the closest \r\n",
      "\t feature (upstream or downstream) in B.\r\n",
      "\r\n",
      "Usage:   bedtools closest [OPTIONS] -a <bed/gff/vcf> -b <bed/gff/vcf>\r\n",
      "\r\n",
      "Options: \r\n",
      "\t-d\tIn addition to the closest feature in B, \r\n",
      "\t\treport its distance to A as an extra column.\r\n",
      "\t\t- The reported distance for overlapping features will be 0.\r\n",
      "\r\n",
      "\t-D\tLike -d, report the closest feature in B, and its distance to A\r\n",
      "\t\tas an extra column. Unlike -d, use negative distances to report\r\n",
      "\t\tupstream features.\r\n",
      "\t\tThe options for defining which orientation is \"upstream\" are:\r\n",
      "\t\t- \"ref\"   Report distance with respect to the reference genome. \r\n",
      "\t\t            B features with a lower (start, stop) are upstream\r\n",
      "\t\t- \"a\"     Report distance with respect to A.\r\n",
      "\t\t            When A is on the - strand, \"upstream\" means B has a\r\n",
      "\t\t            higher (start,stop).\r\n",
      "\t\t- \"b\"     Report distance with respect to B.\r\n",
      "\t\t            When B is on the - strand, \"upstream\" means A has a\r\n",
      "\t\t            higher (start,stop).\r\n",
      "\r\n",
      "\t-io\tIgnore features in B that overlap A.  That is, we want close,\r\n",
      "\t\tyet not touching features only.\r\n",
      "\r\n",
      "\t-iu\tIgnore features in B that are upstream of features in A.\r\n",
      "\t\tThis option requires -D and follows its orientation\r\n",
      "\t\trules for determining what is \"upstream\".\r\n",
      "\r\n",
      "\t-id\tIgnore features in B that are downstream of features in A.\r\n",
      "\t\tThis option requires -D and follows its orientation\r\n",
      "\t\trules for determining what is \"downstream\".\r\n",
      "\r\n",
      "\t-fu\tChoose first from features in B that are upstream of features in A.\r\n",
      "\t\tThis option requires -D and follows its orientation\r\n",
      "\t\trules for determining what is \"upstream\".\r\n",
      "\r\n",
      "\t-fd\tChoose first from features in B that are downstream of features in A.\r\n",
      "\t\tThis option requires -D and follows its orientation\r\n",
      "\t\trules for determining what is \"downstream\".\r\n",
      "\r\n",
      "\t-t\tHow ties for closest feature are handled.  This occurs when two\r\n",
      "\t\tfeatures in B have exactly the same \"closeness\" with A.\r\n",
      "\t\tBy default, all such features in B are reported.\r\n",
      "\t\tHere are all the options:\r\n",
      "\t\t- \"all\"    Report all ties (default).\r\n",
      "\t\t- \"first\"  Report the first tie that occurred in the B file.\r\n",
      "\t\t- \"last\"   Report the last tie that occurred in the B file.\r\n",
      "\r\n",
      "\t-mdb\tHow multiple databases are resolved.\r\n",
      "\t\t- \"each\"    Report closest records for each database (default).\r\n",
      "\t\t- \"all\"  Report closest records among all databases.\r\n",
      "\r\n",
      "\t-k\tReport the k closest hits. Default is 1. If tieMode = \"all\", \r\n",
      "\t\t- all ties will still be reported.\r\n",
      "\r\n",
      "\t-N\tRequire that the query and the closest hit have different names.\r\n",
      "\t\tFor BED, the 4th column is compared.\r\n",
      "\r\n",
      "\t-s\tRequire same strandedness.  That is, only report hits in B\r\n",
      "\t\tthat overlap A on the _same_ strand.\r\n",
      "\t\t- By default, overlaps are reported without respect to strand.\r\n",
      "\r\n",
      "\t-S\tRequire different strandedness.  That is, only report hits in B\r\n",
      "\t\tthat overlap A on the _opposite_ strand.\r\n",
      "\t\t- By default, overlaps are reported without respect to strand.\r\n",
      "\r\n",
      "\t-f\tMinimum overlap required as a fraction of A.\r\n",
      "\t\t- Default is 1E-9 (i.e., 1bp).\r\n",
      "\t\t- FLOAT (e.g. 0.50)\r\n",
      "\r\n",
      "\t-F\tMinimum overlap required as a fraction of B.\r\n",
      "\t\t- Default is 1E-9 (i.e., 1bp).\r\n",
      "\t\t- FLOAT (e.g. 0.50)\r\n",
      "\r\n",
      "\t-r\tRequire that the fraction overlap be reciprocal for A AND B.\r\n",
      "\t\t- In other words, if -f is 0.90 and -r is used, this requires\r\n",
      "\t\t  that B overlap 90% of A and A _also_ overlaps 90% of B.\r\n",
      "\r\n",
      "\t-e\tRequire that the minimum fraction be satisfied for A OR B.\r\n",
      "\t\t- In other words, if -e is used with -f 0.90 and -F 0.10 this requires\r\n",
      "\t\t  that either 90% of A is covered OR 10% of  B is covered.\r\n",
      "\t\t  Without -e, both fractions would have to be satisfied.\r\n",
      "\r\n",
      "\t-split\tTreat \"split\" BAM or BED12 entries as distinct BED intervals.\r\n",
      "\r\n",
      "\t-g\tProvide a genome file to enforce consistent chromosome sort order\r\n",
      "\t\tacross input files. Only applies when used with -sorted option.\r\n",
      "\r\n",
      "\t-nonamecheck\tFor sorted data, don't throw an error if the file has different naming conventions\r\n",
      "\t\t\tfor the same chromosome. ex. \"chr1\" vs \"chr01\".\r\n",
      "\r\n",
      "\t-names\tWhen using multiple databases, provide an alias for each that\r\n",
      "\t\twill appear instead of a fileId when also printing the DB record.\r\n",
      "\r\n",
      "\t-filenames\tWhen using multiple databases, show each complete filename\r\n",
      "\t\t\tinstead of a fileId when also printing the DB record.\r\n",
      "\r\n",
      "\t-sortout\tWhen using multiple databases, sort the output DB hits\r\n",
      "\t\t\tfor each record.\r\n",
      "\r\n",
      "\t-bed\tIf using BAM input, write output as BED.\r\n",
      "\r\n",
      "\t-header\tPrint the header from the A file prior to results.\r\n",
      "\r\n",
      "\t-nobuf\tDisable buffered output. Using this option will cause each line\r\n",
      "\t\tof output to be printed as it is generated, rather than saved\r\n",
      "\t\tin a buffer. This will make printing large output files \r\n",
      "\t\tnoticeably slower, but can be useful in conjunction with\r\n",
      "\t\tother software tools and scripts that need to process one\r\n",
      "\t\tline of bedtools output at a time.\r\n",
      "\r\n",
      "\t-iobuf\tSpecify amount of memory to use for input buffer.\r\n",
      "\t\tTakes an integer argument. Optional suffixes K/M/G supported.\r\n",
      "\t\tNote: currently has no effect with compressed files.\r\n",
      "\r\n",
      "Notes: \r\n",
      "\tReports \"none\" for chrom and \"-1\" for all other fields when a feature\r\n",
      "\tis not found in B on the same chromosome as the feature in A.\r\n",
      "\tE.g. none\t-1\t-1\r\n",
      "\r\n"
     ]
    }
   ],
   "source": [
    "!bedtools closest --help"
   ]
  },
  {
   "cell_type": "markdown",
   "metadata": {},
   "source": [
    "## Other bedtools commands"
   ]
  },
  {
   "cell_type": "markdown",
   "metadata": {},
   "source": [
    "We have shown only the tip of the iceberg of what bedtools can do. To get a taste of the other functionality, you can browse the documentation at https://bedtools.readthedocs.io/en/latest/ or simply enter \"bedtools --help\":"
   ]
  },
  {
   "cell_type": "code",
   "execution_count": 26,
   "metadata": {
    "collapsed": false
   },
   "outputs": [
    {
     "name": "stdout",
     "output_type": "stream",
     "text": [
      "bedtools: flexible tools for genome arithmetic and DNA sequence analysis.\r\n",
      "usage:    bedtools <subcommand> [options]\r\n",
      "\r\n",
      "The bedtools sub-commands include:\r\n",
      "\r\n",
      "[ Genome arithmetic ]\r\n",
      "    intersect     Find overlapping intervals in various ways.\r\n",
      "    window        Find overlapping intervals within a window around an interval.\r\n",
      "    closest       Find the closest, potentially non-overlapping interval.\r\n",
      "    coverage      Compute the coverage over defined intervals.\r\n",
      "    map           Apply a function to a column for each overlapping interval.\r\n",
      "    genomecov     Compute the coverage over an entire genome.\r\n",
      "    merge         Combine overlapping/nearby intervals into a single interval.\r\n",
      "    cluster       Cluster (but don't merge) overlapping/nearby intervals.\r\n",
      "    complement    Extract intervals _not_ represented by an interval file.\r\n",
      "    shift         Adjust the position of intervals.\r\n",
      "    subtract      Remove intervals based on overlaps b/w two files.\r\n",
      "    slop          Adjust the size of intervals.\r\n",
      "    flank         Create new intervals from the flanks of existing intervals.\r\n",
      "    sort          Order the intervals in a file.\r\n",
      "    random        Generate random intervals in a genome.\r\n",
      "    shuffle       Randomly redistrubute intervals in a genome.\r\n",
      "    sample        Sample random records from file using reservoir sampling.\r\n",
      "    spacing       Report the gap lengths between intervals in a file.\r\n",
      "    annotate      Annotate coverage of features from multiple files.\r\n",
      "\r\n",
      "[ Multi-way file comparisons ]\r\n",
      "    multiinter    Identifies common intervals among multiple interval files.\r\n",
      "    unionbedg     Combines coverage intervals from multiple BEDGRAPH files.\r\n",
      "\r\n",
      "[ Paired-end manipulation ]\r\n",
      "    pairtobed     Find pairs that overlap intervals in various ways.\r\n",
      "    pairtopair    Find pairs that overlap other pairs in various ways.\r\n",
      "\r\n",
      "[ Format conversion ]\r\n",
      "    bamtobed      Convert BAM alignments to BED (& other) formats.\r\n",
      "    bedtobam      Convert intervals to BAM records.\r\n",
      "    bamtofastq    Convert BAM records to FASTQ records.\r\n",
      "    bedpetobam    Convert BEDPE intervals to BAM records.\r\n",
      "    bed12tobed6   Breaks BED12 intervals into discrete BED6 intervals.\r\n",
      "\r\n",
      "[ Fasta manipulation ]\r\n",
      "    getfasta      Use intervals to extract sequences from a FASTA file.\r\n",
      "    maskfasta     Use intervals to mask sequences from a FASTA file.\r\n",
      "    nuc           Profile the nucleotide content of intervals in a FASTA file.\r\n",
      "\r\n",
      "[ BAM focused tools ]\r\n",
      "    multicov      Counts coverage from multiple BAMs at specific intervals.\r\n",
      "    tag           Tag BAM alignments based on overlaps with interval files.\r\n",
      "\r\n",
      "[ Statistical relationships ]\r\n",
      "    jaccard       Calculate the Jaccard statistic b/w two sets of intervals.\r\n",
      "    reldist       Calculate the distribution of relative distances b/w two files.\r\n",
      "    fisher        Calculate Fisher statistic b/w two feature files.\r\n",
      "\r\n",
      "[ Miscellaneous tools ]\r\n",
      "    overlap       Computes the amount of overlap from two intervals.\r\n",
      "    igv           Create an IGV snapshot batch script.\r\n",
      "    links         Create a HTML page of links to UCSC locations.\r\n",
      "    makewindows   Make interval \"windows\" across a genome.\r\n",
      "    groupby       Group by common cols. & summarize oth. cols. (~ SQL \"groupBy\")\r\n",
      "    expand        Replicate lines based on lists of values in columns.\r\n",
      "    split         Split a file into multiple files with equal records or base pairs.\r\n",
      "\r\n",
      "[ General help ]\r\n",
      "    --help        Print this help menu.\r\n",
      "    --version     What version of bedtools are you using?.\r\n",
      "    --contact     Feature requests, bugs, mailing lists, etc.\r\n",
      "\r\n"
     ]
    }
   ],
   "source": [
    "!bedtools --help"
   ]
  }
 ],
 "metadata": {
  "kernelspec": {
   "display_name": "Python 2",
   "language": "python",
   "name": "python2"
  },
  "language_info": {
   "codemirror_mode": {
    "name": "ipython",
    "version": 2
   },
   "file_extension": ".py",
   "mimetype": "text/x-python",
   "name": "python",
   "nbconvert_exporter": "python",
   "pygments_lexer": "ipython2",
   "version": "2.7.11"
  }
 },
 "nbformat": 4,
 "nbformat_minor": 0
}
