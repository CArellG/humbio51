{
 "cells": [
  {
   "cell_type": "markdown",
   "metadata": {},
   "source": [
    "# Big Data for Biologists: Decoding Genomic Function- Class 4\n",
    "\n",
    "## How can we compare two or more DNA sequences or compare a DNA sequence to a reference genome? \n",
    "## Introduction to high-throughput DNA sequencing and read alignment\n",
    "\n",
    "##  Learning Objectives\n",
    "***Students should be able to***\n",
    " <ol>\n",
    " <li>Identify ways that DNA sequence alignments can provide insights into human biology</li>\n",
    " <li>Import a module into a Python script</li>\n",
    " <li>Explain what a Python package is and how to import modules from a package </li>\n",
    " <li>Align two sequences using modules from the BioPython package </li>\n",
    " <li>Align multiple sequences using modules from the BioPython pacakge</li>\n",
    " <li>Explain what a reference genome is and why it is important for analysis of DNA sequences </li>\n",
    " <li>Recognize FASTQ file format</li>\n",
    " <li>Align a sequence to the human reference genome </li>\n"
   ]
  },
  {
   "cell_type": "markdown",
   "metadata": {},
   "source": [
    "# How can DNA sequence alignments provide insights into human biology?\n",
    "\n",
    "\n",
    "<i>\n",
    "    * \"What model organism can I use for experiments to study a gene that has been associated with a human disease?\"\n",
    "    \n",
    "    * \"I made a discovery about how a gene works in fruit flies, could my finding also be relevant in humans?\"  \n",
    "    \n",
    "    * \"How can I analyze my DNA sequencing results to determine if I am at risk of a disease?\"  \n",
    "    \n",
    "    * \"How different are humans from Neanderthals or other ancient humans?\"\n",
    "    \n",
    "    * \"I just finished a sequencing experiment, how can I align my data with the human reference genome?\"\n",
    "</i>\n",
    "\n",
    "\n",
    "**ALL of these questions utilize the tools of sequence alignment**   \n",
    "\n",
    "\n",
    "For today's class we will be looking at the very important procedure of DNA sequence alignment. \n",
    "\n",
    "We will look at examples of three types of sequences alignments that can be performed:\n",
    "\n",
    "* Comparing two sequences **pairwise sequence alignment**  \n",
    "* Comparing three or more sequences **multiple sequence alignment**\n",
    "* Comparing sequences to a reference genome **short-read sequence alignment**\n",
    "\n",
    "In our examples today we will use DNA sequences, but the methods you will be learning can also be applied to aligning protein sequences. \n",
    "\n",
    "We will be showing you how to perform alignments in Python to continue building your skills in Python, but there are also a number of web-based tools for performing both pairwise and multiple sequence alignments such as [BLAST](https://blast.ncbi.nlm.nih.gov/Blast.cgi?PROGRAM=blastn&PAGE_TYPE=BlastSearch&LINK_LOC=blasthome) for pairwise alignments and [CLUSTAL Omega](http://www.ebi.ac.uk/Tools/msa/clustalo/) for multiple sequence alignments. \n"
   ]
  },
  {
   "cell_type": "markdown",
   "metadata": {},
   "source": [
    "# Import a module into a Python script\n",
    "\n",
    "Writing the algorithms for sequence alignments is beyond the scope of this class. However, we can perform sequence alignments with the help of algorithms that have been developed and shared by others. \n",
    "\n",
    "In order to use code that has been shared by others, we need to learn first how to import the code into Python. \n",
    "\n",
    "As a starting example, we can look first at how to load the module central_dogma_helpers.py that we created in the last class.\n",
    "\n",
    "Remeber, that central_dogma_helpers.py  defined two functions \"write_mRNA_from_DNA\" and \"write_protein_from_mRNA\". \n",
    "\n",
    "Once the module is loaded, we will be able to call these two functions by name in our code. We will not have to write out the entire function.  \n",
    "\n",
    "In our example, we will also use one of the modules that comes with the Python distribution. We've seen a few examples of the import command already in earlier classes, and now you should have a better understanding of what that command means. \n"
   ]
  },
  {
   "cell_type": "code",
   "execution_count": 7,
   "metadata": {
    "collapsed": false
   },
   "outputs": [
    {
     "name": "stdout",
     "output_type": "stream",
     "text": [
      "MetAlaLeuTrpMetArgLeuLeuProLeuLeuAlaLeuLeuAlaLeuTrpGlyProAspProAlaAlaAlaPheValAsnGlnHisLeuCysGlySerHisLeuValGluAlaLeuTyrLeuValCysGlyGluArgGlyPhePheTyrThrProLysThrArgArgGluAlaGluAspLeuGlnValGlyGlnValGluLeuGlyGlyGlyProGlyAlaGlySerLeuGlnProLeuAlaLeuGluGlySerLeuGlnLysArgGlyIleValGluGlnCysCysThrSerIleCysSerLeuTyrGlnLeuGluAsnTyrCysAsnStop\n"
     ]
    }
   ],
   "source": [
    "#Tells python where to look for .py files\n",
    "#adds ../helpers to the list of directories where to look for .py files. \n",
    "#The list of directories to look in is called the \"path\". \n",
    "#sys is a pre-installed module that comes with standard Python distributions\"\"\"\n",
    " \n",
    "import sys\n",
    "sys.path.append('../helpers')\n",
    "\n",
    "#Imports the module central_dogma_helpers.py\n",
    "import central_dogma_helpers\n",
    "\n",
    "#Import the names of all the functions in central_dogma_helpers.py\n",
    "#The names of all the functions is denoted by the *. \n",
    "#You could also import each function by its individual name. \n",
    "#Or you could call each function by using the syntax central_dogma_helpers.function name\"\"\"\n",
    "\n",
    "from central_dogma_helpers import *\n",
    "\n",
    "#Runs the two functions in central_dogma_helpers\n",
    "RNAsequence=write_mRNA_from_DNA('../class_1/data/Human-Insulin NM_000207.2.txt')\n",
    "proteinsequence=central_dogma_helpers.write_protein_from_mRNA(RNAsequence)\n",
    "\n",
    "#Prints the output  \n",
    "print(proteinsequence)"
   ]
  },
  {
   "cell_type": "markdown",
   "metadata": {},
   "source": [
    "## What are python pacakges and how can I import packages?\n",
    "\n",
    "There are many publicly available modules that can be imported into Python. Often, modules are made available as part of **packages** which are sets of module files that can be installed by users to expand Python functionality. \n",
    "\n",
    "To install a package, the package first needs to be installed. How you install a package will depend on the system that you are using. \n",
    "\n",
    "For this class we have pre-installed the packages that you will need. Today we will be using the Biopython package which you can learn more about [here](http://biopython.org/DIST/docs/tutorial/Tutorial.html). \n",
    "\n",
    "You can check to see if a package has been installed by running the import command and seeing if there is an error. \n",
    "\n",
    "In the code below, we are checking to be sure that the Bio package from BioPython has been installed. We can also check the version number. "
   ]
  },
  {
   "cell_type": "code",
   "execution_count": 8,
   "metadata": {
    "collapsed": false
   },
   "outputs": [
    {
     "name": "stdout",
     "output_type": "stream",
     "text": [
      "1.68\n"
     ]
    }
   ],
   "source": [
    "import Bio \n",
    "print(Bio.__version__)"
   ]
  },
  {
   "cell_type": "markdown",
   "metadata": {},
   "source": [
    "As a summary, we've looked today at how to import three types of modules into Python:\n",
    "\n",
    "* modules that you wrote and saved as .py files (eg. central_dogma_helpers.py from the last class) \n",
    "* modules that came with the Python distribution \n",
    "* modules that come from packages that you install \n",
    "\n",
    "Now that we've set our system up to use the BioPython package we are going to look at ways that we can use it! "
   ]
  },
  {
   "cell_type": "markdown",
   "metadata": {},
   "source": [
    "## Align two sequences using BioPython\n",
    "\n",
    "Now that we have the system set up we are ready to look at a Biological question. \n",
    "\n",
    "In the last class we looked at the sequence for human insulin. \n",
    "\n",
    "In mice, there are two copies of the insulin gene. Which one is more similar to the human gene? \n",
    "\n",
    "This is a type of question that we can investigate using pairwise sequence alignments and is the question we'll be looking at today.  \n",
    "\n",
    "We saved the FASTA sequences for the mouse genes in two files Mouse Insulin GeneID 16333.txt and Mouse Insulin Gene ID 16334.txt in files in the data directory for this class.  \n",
    "\n",
    "In this example we are going to use two modules. One of the modules, pairwise, is the algorithm for aligning two sequences. \n",
    "\n",
    "The other, SeqIO is a convenient tool for reading FASTA sequences into Python. \n",
    "\n",
    "If you remember back to the first class, we wrote some code to read a FASTA sequence into Python, but we had to separate the header (the first line starting with >) from the actual sequence. \n",
    "\n",
    "SeqIO is a Biopython package that conveniently reads in a file and separates (or **parses**) a FASTA sequence into its ID, Name, Description, features and the sequence.\n",
    "\n",
    "If the variable name defined when you call SeqIO is seq1 then you can refer to the id by seq1.id, the description by seq1.description, or the sequence by seq1.seq"
   ]
  },
  {
   "cell_type": "code",
   "execution_count": 62,
   "metadata": {
    "collapsed": false
   },
   "outputs": [
    {
     "name": "stdout",
     "output_type": "stream",
     "text": [
      "NG_007114.1:4986-6416\n"
     ]
    }
   ],
   "source": [
    "# note we used the import Bio command above otherwise we would need to have it here.\n",
    "\n",
    "#imports the sequence reading package SeqIO from the Bio module. \n",
    "from Bio import SeqIO\n",
    "\n",
    "#Reads the FASTA sequences \n",
    "seq=SeqIO.read('../class_1/data/Human-Insulin-NG_007114.1.txt',\"fasta\")\n",
    "\n",
    "print(seq.id)\n"
   ]
  },
  {
   "cell_type": "markdown",
   "metadata": {},
   "source": [
    " In the box below, revise the code above to print out the gene sequence instead of the identifier. \n"
   ]
  },
  {
   "cell_type": "code",
   "execution_count": 63,
   "metadata": {
    "collapsed": false
   },
   "outputs": [
    {
     "name": "stdout",
     "output_type": "stream",
     "text": [
      "AGCCCTCCAGGACAGGCTGCATCAGAAGAGGCCATCAAGCAGGTCTGTTCCAAGGGCCTTTGCGTCAGGTGGGCTCAGGATTCCAGGGTGGCTGGACCCCAGGCCCCAGCTCTGCAGCAGGGAGGACGTGGCTGGGCTCGTGAAGCATGTGGGGGTGAGCCCAGGGGCCCCAAGGCAGGGCACCTGGCCTTCAGCCTGCCTCAGCCCTGCCTGTCTCCCAGATCACTGTCCTTCTGCCATGGCCCTGTGGATGCGCCTCCTGCCCCTGCTGGCGCTGCTGGCCCTCTGGGGACCTGACCCAGCCGCAGCCTTTGTGAACCAACACCTGTGCGGCTCACACCTGGTGGAAGCTCTCTACCTAGTGTGCGGGGAACGAGGCTTCTTCTACACACCCAAGACCCGCCGGGAGGCAGAGGACCTGCAGGGTGAGCCAACTGCCCATTGCTGCCCCTGGCCGCCCCCAGCCACCCCCTGCTCCTGGCGCTCCCACCCAGCATGGGCAGAAGGGGGCAGGAGGCTGCCACCCAGCAGGGGGTCAGGTGCACTTTTTTAAAAAGAAGTTCTCTTGGTCACGTCCTAAAAGTGACCAGCTCCCTGTGGCCCAGTCAGAATCTCAGCCTGAGGACGGTGTTGGCTTCGGCAGCCCCGAGATACATCAGAGGGTGGGCACGCTCCTCCCTCCACTCGCCCCTCAAACAAATGCCCCGCAGCCCATTTCTCCACCCTCATTTGATGACCGCAGATTCAAGTGTTTTGTTAAGTAAAGTCCTGGGTGACCTGGGGTCACAGGGTGCCCCACGCTGCCTGCCTCTGGGCGAACACCCCATCACGCCCGGAGGAGGGCGTGGCTGCCTGCCTGAGTGGGCCAGACCCCTGTCGCCAGGCCTCACGGCAGCTCCATAGTCAGGAGATGGGGAAGATGCTGGGGACAGGCCCTGGGGAGAAGTACTGGGATCACCTGTTCAGGCTCCCACTGTGACGCTGCCCCGGGGCGGGGGAAGGAGGTGGGACATGTGGGCGTTGGGGCCTGTAGGTCCACACCCAGTGTGGGTGACCCTCCCTCTAACCTGGGTCCAGCCCGGCTGGAGATGGGTGGGAGTGCGACCTAGGGCTGGCGGGCAGGCGGGCACTGTGTCTCCCTGACTGTGTCCTCCTGTGTCCCTCTGCCTCGCCGCTGTTCCGGAACCTGCTCTGCGCGGCACGTCCTGGCAGTGGGGCAGGTGGAGCTGGGCGGGGGCCCTGGTGCAGGCAGCCTGCAGCCCTTGGCCCTGGAGGGGTCCCTGCAGAAGCGTGGCATTGTGGAACAATGCTGTACCAGCATCTGCTCCCTCTACCAGCTGGAGAACTACTGCAACTAGACGCAGCCCGCAGGCAGCCCCACACCCGCCGCCTCCTGCACCGAGAGAGATGGAATAAAGCCCTTGAACCAG\n"
     ]
    }
   ],
   "source": [
    "##ANSWER -- REMOVE BEFORE GIVING TO STUDENTS ## \n",
    "# note we used the import Bio command above otherwise we would need to have it here.\n",
    "\n",
    "#imports the sequence reading package SeqIO from the Bio module. \n",
    "from Bio import SeqIO\n",
    "\n",
    "#Reads the FASTA sequences \n",
    "seq=SeqIO.read('../class_1/data/Human-Insulin-NG_007114.1.txt',\"fasta\")\n",
    "\n",
    "print(seq.seq)"
   ]
  },
  {
   "cell_type": "markdown",
   "metadata": {},
   "source": [
    "Now we are ready to use the SeqIO package with the pairwise2 module to run the sequence alignment. "
   ]
  },
  {
   "cell_type": "code",
   "execution_count": 54,
   "metadata": {
    "collapsed": false
   },
   "outputs": [
    {
     "name": "stdout",
     "output_type": "stream",
     "text": [
      "('AGCCCTCCAGGACAG-GCTGCATCA--G-AAGAGGCCATCAAGCAGGTCTGTTCCAAGGGCCTTTGCG-TCAGGTGGGCTCAGGATTCCAGGGTGGC-TGGACCCCAGGCCCCAGCTCTGCAGCAGGGAGGACGTGGCTGGGCTCGTGAAGCATGTGGGGGTGAGCCCAGGGGCCCCAAGGCAGGGCACCTGGCCTTCA-GCCTGCCTCAGCCCTGCCTGTCTCCCAGATCACTGTCCTTCTGCCATGGCCCT-GT-GGATGCGCCTCCTGCCCCTG-CTGGCGCTGCTGGCCCT-CTGGGGACCTGACCCAGCCGCAGCCTTTGTGAACCAACACCTGTGCGGC-TCACACCTGGTGGAAGCTCTCTACCTAG---TGTGCGG-G-GAACG-AGGCTTCTTCTAC-ACACC-CAAGACCCG-CCGGGAGG-CAG-AGGACCTGCAGGGTGA-GCCA-ACTGC-CCATTGCTGCCCCTGGCC-GCCCCCAGCCACCCCCTGCTCCTGGCGCTCCCACCCAGCATGGGCAGAAGGGGGCAGGAGGCTGCCACCCAGCAGGGGGTCAGGTGCACTTTTTTAAAAAGAAGTTCTCTTGGTCACGTCCTAAAAGTGACCAGCTCCCTGTGGCCCAGTCAGAATCTCAGCCTGAGGACGGTGTTGGCTTCGGCAGCCCCGA-G-ATACATCAGAGGGTGGGCACGCTCCTCC-CTCCACTCGCCCCTCAAACAAATGCCCCGCA-GCCCATTTCTCCACCCTCATTTGATGACCGCAGAT-TCAAGTGTTTTGTTAAGTAAAGTCCTGGGTGACCTGGGGTCACAGGGTGCCCCACGCTGCCTGCCTCTGGGC-GAACACC--CCATCACGCCCGGAGGAGG-GCGTGGCTGCCTGCCTGAGTGGGCCAGACCCCTGTCGCCAGGCCTCACGGC-AGCTCCATAGTCAGGAGATGGGGAAGATGCTGGGGAC-AGGCCCTGGGGAGAAGTACTGGGATCACCTGTTCAGGCTCCCACTGTGACGCTGCCCCGGGGCGGGGGAAGG-AGGTGGGACATGTGGGCGTTGGGGCCTGTAGGTCCACAC-CCAGTGTGGGT-GACC--CTCCCTCTAACCTGGGTCCAGCCCGGCTGGAGATGGGTGGGAGTGCGACCTAGGGCTGGCGGGCAGGCGGGCACTGTGTCTCC-CTGACTGTGT-C-CTCCTGT--GTCCCTCTGCCTCGCCGCTGTTCCGGAACCTGCTCTGCGC-GGCACGTCCTGG-CA-GTGGGG--CAGG--TGGAGCTGGGCGG-GG--GCCCTG-GTGCAGGCAGCCTG-CAGC-CCTTGGCCC-T-GGAGG-GGTCCCTG-CAGAAGCGTGGCATTGTGGAA-CAA-TGCTGT-ACCAGCATCTGCTCCCTCTACCAGCTGGAGAACTACTGCAACTAGACGCAGCCCGCAGGCAGC-C--CCACA-CCCGC-CGCCTC-CTGCACCGA-GAGAG-A----TG---GAATAAAGC-CCTTGAACCAG-----', 'A-----CCAGG-CA-AG-TG--T--TTGGAA-A---C-T---GCA-G-C--TT-C-A--GCC----C-CTC---T-GGC-C---A-T-C----T-GCCT--A-CCCA--CCCCA-C-CT-------GGA-GA-----C----CT--T--A--A--T----G-G-G-CCA--------AA--CA--GCA----------AAG--T--C-CA-----G---G-------G------G-------G-CA--G----AG-AGGA---G------G----T-ACT-----T--TGG----ACT----A--T-A---A-----AG-C----TG-----------GTG-GGCATC-CA----GT--AA-C-C-C--CC-AGCCCT-T----AGTG-AC-CA-G------CTA-TA-A--TC-AGA---GACC---A--TCAGCA--A---GCA-GGT-ATG---TACT-CTCC--T-CT-----T----TG------G---------G--CCT-G-GCT--C-CCCAGC-----C---A------A-GA--CT------C--CA----G-C----G-AC---TTT-------A--------GG----G-------A--GA--A------TGT-G----G---G---CT---CCT-----C-----T--CTT----A----C-ATGGAT-C-T-------T--------T--T--GCT--A---G--CCT----C-AA----CC-C-TG--C----CT--A---TC--TT--T-----CAG--GTC-A-----TTG-T---T----T-C------A---------ACA---TG------GC--CCTG--T-T-GG-TG--CA-CTTCC-T-AC-CCC--------TGC-TGGC--CCTG-CT---T------G--CCC--T--------CT---GG-GAG--CC-----C-----------AA-A--C------CCA--CCC-----AG--G--C-----T----T-TT---G-T----C----A-------------------AA--CA-----G-CA--T---C-TT------TGT-GGTCC-C-CACC----T-GGTAGA--GGCT--CTCT-ACCT-GGT--------G-T---G-T--G-GGGA----G--C----G-T------------GG--C--T-TCT--TCT-AC-----ACAC-CC---AAG------T-CC-CG-C-C-G-T---GAA---G---TG-G-AGG-AC--CC---ACAAGT--GGAACA--ACTGGAGCT--G-GGAGGAAGCCC--CG-G--GG-A-CCT-TCAG-ACCTTGG--CGTTGGAGGTGG-CCC-GGCAGAAGCGTGGCATTGTGG-ATC-AGTGCTG-CACCAGCATCTGCTCCCTCTACCAGCTGGAGAACTACTGCAACTA-A-G--G-CC-CA--C--CTCGACC-C-GCCC-CAC-CC-CTCTGCA---ATGA-A-TAAAACT-TTTGAAT-AAGCACC---AA--A-AAAAA', 630.0, 0, 1519)\n"
     ]
    }
   ],
   "source": [
    "# note we used the import Bio and import SeqIO command above otherwise we would need to have them here.\n",
    "\n",
    "#imports the pairwise sequence alignment algorithm pairwise2 from the Bio module. \n",
    "from Bio import pairwise2 \n",
    "\n",
    "#Reads the FASTA sequences \n",
    "seq1=SeqIO.read('../class_1/data/Human-Insulin-NG_007114.1.txt',\"fasta\") \n",
    "seq2=SeqIO.read('data/Mouse Insulin GeneID 16333.txt',\"fasta\")\n",
    "\n",
    "#Conducts a global pairwise alignment between the two sequences  \n",
    "#the xx gives instructions about how to calculate the alignment score\n",
    "#http://biopython.org/DIST/docs/api/Bio.pairwise2-module.html\n",
    "\n",
    "alignments = pairwise2.align.globalxx(seq1.seq, seq2.seq)\n",
    "\n",
    "print(alignments[0])"
   ]
  },
  {
   "cell_type": "code",
   "execution_count": 52,
   "metadata": {
    "collapsed": false
   },
   "outputs": [
    {
     "name": "stdout",
     "output_type": "stream",
     "text": [
      "('AGCCCTCCAGGACAG-GCTGCATCA--G-AAGAGGCCATCAAGCAGGTCTGTTCCAAGGGCCTTTGCG-TCAGGTGGGCTCAGGATTCCAGGGTGGC-TGGACCCCAGGCCCCAGCTCTGCAGCAGGGAGGACGTGGCTGGGCTCGTGAAGCATGTGGGGGTGAGCCCAGGGGCCCCAAGGCAGGGCACCTGGCCTTCA-GCCTGCCTCAGCCCTGCCTGTCTCCCAGATCACTGTCCTTCTGCCATGGCCCT-GT-GGATGCGCCTCCTGCCCCTG-CTGGCGCTGCTGGCCCT-CTGGGGACCTGACCCAGCCGCAGCCTTTGTGAACCAACACCTGTGCGGC-TCACACCTGGTGGAAGCTCTCTACCTAG---TGTGCGG-G-GAACG-AGGCTTCTTCTAC-ACACC-CAAGACCCG-CCGGGAGG-CAG-AGGACCTGCAGGGTGA-GCCA-ACTGC-CCATTGCTGCCCCTGGCC-GCCCCCAGCCACCCCCTGCTCCTGGCGCTCCCACCCAGCATGGGCAGAAGGGGGCAGGAGGCTGCCACCCAGCAGGGGGTCAGGTGCACTTTTTTAAAAAGAAGTTCTCTTGGTCACGTCCTAAAAGTGACCAGCTCCCTGTGGCCCAGTCAGAATCTCAGCCTGAGGACGGTGTTGGCTTCGGCAGCCCCGA-G-ATACATCAGAGGGTGGGCACGCTCCTCC-CTCCACTCGCCCCTCAAACAAATGCCCCGCA-GCCCATTTCTCCACCCTCATTTGATGACCGCAGAT-TCAAGTGTTTTGTTAAGTAAAGTCCTGGGTGACCTGGGGTCACAGGGTGCCCCACGCTGCCTGCCTCTGGGC-GAACACC--CCATCACGCCCGGAGGAGG-GCGTGGCTGCCTGCCTGAGTGGGCCAGACCCCTGTCGCCAGGCCTCACGGC-AGCTCCATAGTCAGGAGATGGGGAAGATGCTGGGGAC-AGGCCCTGGGGAGAAGTACTGGGATCACCTGTTCAGGCTCCCACTGTGACGCTGCCCCGGGGCGGGGGAAGG-AGGTGGGACATGTGGGCGTTGGGGCCTGTAGGTCCACAC-CCAGTGTGGGT-GACC--CTCCCTCTAACCTGGGTCCAGCCCGGCTGGAGATGGGTGGGAGTGCGACCTAGGGCTGGCGGGCAGGCGGGCACTGTGTCTCC-CTGACTGTGT-C-CTCCTGT--GTCCCTCTGCCTCGCCGCTGTTCCGGAACCTGCTCTGCGC-GGCACGTCCTGG-CA-GTGGGG--CAGG--TGGAGCTGGGCGG-GG--GCCCTG-GTGCAGGCAGCCTG-CAGC-CCTTGGCCC-T-GGAGG-GGTCCCTG-CAGAAGCGTGGCATTGTGGAA-CAA-TGCTGT-ACCAGCATCTGCTCCCTCTACCAGCTGGAGAACTACTGCAACTAGACGCAGCCCGCAGGCAGC-C--CCACA-CCCGC-CGCCTC-CTGCACCGA-GAGAG-A----TG---GAATAAAGC-CCTTGAACCAG-----', 'A-----CCAGG-CA-AG-TG--T--TTGGAA-A---C-T---GCA-G-C--TT-C-A--GCC----C-CTC---T-GGC-C---A-T-C----T-GCCT--A-CCCA--CCCCA-C-CT-------GGA-GA-----C----CT--T--A--A--T----G-G-G-CCA--------AA--CA--GCA----------AAG--T--C-CA-----G---G-------G------G-------G-CA--G----AG-AGGA---G------G----T-ACT-----T--TGG----ACT----A--T-A---A-----AG-C----TG-----------GTG-GGCATC-CA----GT--AA-C-C-C--CC-AGCCCT-T----AGTG-AC-CA-G------CTA-TA-A--TC-AGA---GACC---A--TCAGCA--A---GCA-GGT-ATG---TACT-CTCC--T-CT-----T----TG------G---------G--CCT-G-GCT--C-CCCAGC-----C---A------A-GA--CT------C--CA----G-C----G-AC---TTT-------A--------GG----G-------A--GA--A------TGT-G----G---G---CT---CCT-----C-----T--CTT----A----C-ATGGAT-C-T-------T--------T--T--GCT--A---G--CCT----C-AA----CC-C-TG--C----CT--A---TC--TT--T-----CAG--GTC-A-----TTG-T---T----T-C------A---------ACA---TG------GC--CCTG--T-T-GG-TG--CA-CTTCC-T-AC-CCC--------TGC-TGGC--CCTG-CT---T------G--CCC--T--------CT---GG-GAG--CC-----C-----------AA-A--C------CCA--CCC-----AG--G--C-----T----T-TT---G-T----C----A-------------------AA--CA-----G-CA--T---C-TT------TGT-GGTCC-C-CACC----T-GGTAGA--GGCT--CTCT-ACCT-GGT--------G-T---G-T--G-GGGA----G--C----G-T------------GG--C--T-TCT--TCT-AC-----ACAC-CC---AAG------T-CC-CG-C-C-G-T---GAA---G---TG-G-AGG-AC--CC---ACAAGT--GGAACA--ACTGGAGCT--G-GGAGGAAGCCC--CG-G--GG-A-CCT-TCAG-ACCTTGG--CGTTGGAGGTGG-CCC-GGCAGAAGCGTGGCATTGTGG-ATC-AGTGCTG-CACCAGCATCTGCTCCCTCTACCAGCTGGAGAACTACTGCAACTA-A-G--G-CC-CA--C--CTCGACC-C-GCCC-CAC-CC-CTCTGCA---ATGA-A-TAAAACT-TTTGAAT-AAGCACC---AA--A-AAAAA', 630.0, 0, 1519)\n"
     ]
    }
   ],
   "source": [
    "# note we used the import Bio command above otherwise we would need to have it here.\n",
    "\n",
    "#imports the pairwise sequence alignment algorithm pairwise2 from the Bio module. \n",
    "from Bio import pairwise2 \n",
    "\n",
    "#imports a sequence reading tool SeqIO from the Bio module. \n",
    "from Bio import SeqIO\n",
    "\n",
    "\n",
    "#Reads the FASTA sequences \n",
    "seq1=SeqIO.read('../class_1/data/Human-Insulin-NG_007114.1.txt',\"fasta\")\n",
    "seq2=SeqIO.read('data/Mouse Insulin GeneID 16333.txt',\"fasta\")\n",
    "\n",
    "#Conducts a global pairwise alignment between the two sequences  \n",
    "#the xx gives instructions about how to calculate the alignment score\n",
    "#http://biopython.org/DIST/docs/api/Bio.pairwise2-module.html\n",
    "\n",
    "alignments = pairwise2.align.globalxx(seq1.seq, seq2.seq)\n",
    "\n",
    "print(alignments[0])"
   ]
  },
  {
   "cell_type": "markdown",
   "metadata": {},
   "source": [
    "In the space below, write the code to run a pairwise sequence alignment with the Mouse Insulin GeneID 16334.txt file. "
   ]
  },
  {
   "cell_type": "code",
   "execution_count": 45,
   "metadata": {
    "collapsed": false
   },
   "outputs": [
    {
     "name": "stdout",
     "output_type": "stream",
     "text": [
      "('AG----CCC--T--CCAGG--A-C---A-G-GC-T--GC-A---TCAGAAGAGG-CCATCAAGCAG-GTCT-GTTCC-AAGGGC--CT-TTGCGTCAGGTGGGCTCAGGATTCCAGGGTGGCTGGACCCCAGGCCCC-A-G-CTCTGCAGCAGGGAGGACGTGGCTGG-GCTCGTGAAGCATG-TGGGGG-TGAGCCCAGGGG-CC-C-CA--AGGCAGG-GCAC--CTGGCCTTCA-GCCTG--CCTCAG-CCCT-GCCTG-TCTC-CCAGA-TC-ACTGTCC-TTCTGC--CATGGCCCTGTGGATGCGCCT-CCTGCCCCTGCTGGCGC-TGCTGGC--CCTCTGGGGA--CCTG-ACCC-AGCCGCAGC-CTTTGTG--AAC-CAA-CACCTGT-GC-GGCT-CAC-ACCTGGTGGAAG-CTCTCTACCTAG-TGTGC-GGGGAA-CGA-GGCTTCTTCTACACACCCAA-GA-CCCGCCGG-GA-G-GCAGAGGACCTGCAGGGTGAGCCAAC--TGCCCA-TTGCTGCCC-CTGGCCGCCCCCAGCCACCCCCTGCTCCTGGCGCTCCCACCCAGCATGGGCAGAAGGGGGC-AGGAGGCTGCCACCCAGCAGGGGGTCAGGTGCACTTTT-TTAAAAAGA-AGTTCT-CTTGGTC-ACG-TCCTAAAAGTGACCAGC-TCCCTGTGGCCCAGTCAGAATCTCAGCC-TGA-GGACGGTGTTGGCTTCGGCAGCCCCGAGATACATC-AGAGG-GTGGG--CACGCTCCTCCCTCCACTCGCCCCTCAAACA----AATGCCCCGC-AGCC-CATT-TC-TCCACCCT--CATTTGATGAC--C-GC-AGATTC-AAGTGTTTT-GTTAAGTAAAGTCCTGGGTGACCTGGGGTCACAGGGTGCCCCACGCTGCCTGCCTCTGG-GCGAACACCCCATCACGCCCGG-AGGAGGGCGT-GGCTGC-C-TGCCTGAGTGGGCC-AGACCCCTGTCGCCAGGCC-TCACGGCAGCT-CCATAGTC--AGGAGA---TGGGG-A-AGATGCTGGGGACAG-GCC-CTGGGGA--GAAGTACTGGGA-TCAC--CTGTTCAG-GCT-CCCACTGTGACGCTGCCC--CGGGGCGGGGGAAGGAGGTGGGACATGTGGGC-GTTGGGGC-CTGTAGGTCCACACCCAGTGTGGG--TGACC--CTCCCT-CTA-ACCTG--GG--TCC-A-GCCCGGCTG-GAGA-----TGGG-T-G--GGAG-T-GCGA-C--CTAGGGCTGGCGGGCAG-G-CG-GGCACTGTGTCTCCCTGACTGTGTCCTCCTGTGTCCCT-CTGCCTCGCC-GCTGT-T-CC--GGAACCTGCTCTGCG-CGG-CA-CG-TCC-TGGCAGTGGGGCAGG----TGGAGCTGGGCG-GG-GGCCCTGGTGCAGGCAG----CCTG-CAGC-CCTTGGCC-CTGGAGG-GGTCCCT-GCAGAAGCGTGGCATTGTGGA-A-CAA-TGCTGT-ACCAGCATCTGCTCCCTCTACCAGCTGGAGAACTACTGCAACTAGACGCAGCC-CGCAGGC-AGCCCCACAC-CCG--CCGCCTCCTGCACCGAGAGAGATGGAATAAAGC-CCTT-GAA----C-CAG-', '-GGGGACCCAGTAACCA--CCAGCCCTAAGTG-ATCCGCTACAATCA-AA-A--ACCATC-AGCA-AG-C-AG----GAA-GG-TACTCTT-C-TCA-GT--G----GG---CC----TGGCT---CCCCA-G---CTAAGAC-CT----CA--G-GGAC-T---T-GAG---GT--AG---GAT-----AT-AG-CC-----TCCTCTC-TTA--C--GTG-A-AACT----TT--TG-CT-ATCCTCA-ACCC-AGCCT-ATCT-TCCAG-GT-TA-T-T--GTT-T-CAACATGGCCCTGTGGATGCG-CTTCCTGCCCCTGCTGGC-CCTGCT--CTTCCTCT-GGGAGTCC--CACCCCA-CC-CAG-GCTTT-TGTCAA-GC-AGCACCT-TTG-TGG-TTC-CCACCTGGTGG-AGGCTCTCTACCT-GGTGTG-TGGGG-AGCG-TGGCTTCTTCTACACACCC-ATG-TCCCGCC-GTGAAGTG--GAGGACC--C------A--CAA-GGTG---AGTT-CTG-CCACT----G-----A---A-----T--T-CT---G-T--C-CCCAG--T------------GCTA--A--CT---A-CC--C------T---G-G---TTTTCTT-------CA---C-ACTTGG--GAC-AT--T----GT-A--A--AT---TGT------GTC-----CT-AG--GTG-TGGA-GG-G-T--C-T---C-G----G-GATA-A-CCAG-GGAGTGGGGACACG-T--T---T---CT-G-----------GGGGAA------GCTAG--ACA-TAT-GT--A----AACA--TG--G-CAGCTGCCAG----GAA-TG----AG-TAAG--AA-TCC----TG-CCT----T-A-A--G-G------G--G--T-CCT-TGGTG-G---------T-A------GTA--A---C-TTGG--G-ACATG--TGA------CTAGA------TC-CCAGG--AT-A--G--G-TACC-TA-T-TTAGG-G-CCCT----CATAGA-GC-----AC--TG-CACT---GACTGAAG-A-T--GAGT-A-GGCT-TT-AGAG--GCCCA-TGT---G-T--CCATC----C---------A--T--GAC-------CAG-T---G-ACT-T--GTCC-CA--CA-----GGCATG--CAAC-CCCTGC--CACCTGCAGGGGT--TAAG---GG--GCGAGAAAACCTGGGGTAGTAGGAGGTTGC--TCAGCTA---CT--C---C--TGAC-TGG-A-T-T-T-T-CCT-A-TGTGT-CT--T-TG---CTTCTG--T-G-CTGCTG-ATGCCCTGG--CCTGCTCT--GAC--ACAAC-CTCCCTGGCAGT--GGCA--CAACTGGAGCT-GG-GTGGAGGCCC-GG-G-A-GCAGGTGACCT-TCAG-ACCTTGG-CACTGGAGGTGG-CCC-AGCAGAAGCGTGGCATTGT--AGATC-AGTGCTG-CACCAGCATCTGCTCCCTCTACCAGCTGGAGAACTACTGCAACTAGA--C--CCAC-CA--CTA---CC-CA-GCC-TACC-CCT-CTG---C-----A-AT-GAATAAA--ACCTTTGAATGAGCACA-A', 854.0, 0, 1647)\n"
     ]
    }
   ],
   "source": [
    "\n",
    "\n",
    "##ANSWER -- REMOVE BEFORE GIVING TO STUDENTS ## \n",
    "import Bio\n",
    "from Bio import pairwise2\n",
    "from Bio import SeqIO\n",
    "seq1=SeqIO.read('../class_1/data/Human-Insulin-NG_007114.1.txt',\"fasta\")\n",
    "seq2=SeqIO.read('data/Mouse Insulin GeneID 16334.txt',\"fasta\")\n",
    "alignments = pairwise2.align.globalxx(seq1.seq, seq2.seq)\n",
    "print(alignments[0])"
   ]
  },
  {
   "cell_type": "markdown",
   "metadata": {},
   "source": [
    "## Align multiple sequences using modules from the BioPython pacakge and the MUSCLE algorithm\n",
    "\n",
    "If we now want to compare the three sequences together (ie. the two insulin sequences from mouse and the insulin sequence from human), we can perform a multiple sequence alignment. \n",
    "\n",
    "Today we are just going to use the example of looking at three sequences, but we will see more examples later where multiple sequence alignments are particularly useful for looking at how well sequences are conserved across species or within populations. \n",
    "\n",
    "For the multiple sequence alignments today, we are going to be using an algorithm called MUSCLE. We have preinstalled MUSCLE on the Jupyter Notebook server that we are using. Documentation or information on downloading the program an be found [here](http://www.drive5.com/muscle/). "
   ]
  },
  {
   "cell_type": "code",
   "execution_count": 25,
   "metadata": {
    "collapsed": false
   },
   "outputs": [],
   "source": [
    "# note we used the import Bio command above otherwise we would need to have it here.\n",
    "\n",
    "# we are importing the MuscleCommandline here from Bio.Align.Applicaitons \n",
    "from Bio.Align.Applications import MuscleCommandline\n",
    "\n",
    "# defines a variable with the path of the executable for the MUSCLE algorithm program \n",
    "muscle_exe=\"/Users/annettesalmeen/Documents/CompBio Programs/muscle3.8.31_i86darwin64\"\n",
    "\n",
    "#runs the multiple sequence alignment and writes to an out file in ClustalW format \n",
    "muscle_cline = MuscleCommandline(muscle_exe,input=\"data/Human and Mouse Insulin Genes.fa\",out=\"Human and Mouse Insulin Genes.aln\",clw=True)"
   ]
  },
  {
   "cell_type": "markdown",
   "metadata": {},
   "source": [
    "Here's what the output file looks like: \n",
    "\n",
    "MUSCLE (3.8) multiple sequence alignment\n",
    "\n",
    "\n",
    "NG_007114.1:4986-6416                 ------------------------------------------------------------\n",
    "NC_000085.6:52264297-52265015         ACCAGGCAAGTGTTTGGAAACTGCAGCTTCAGCCCCTCTGGCCATCTGCCTACCCACCCC\n",
    "NC_000073.6:c142679726-142678656      ------------------------------------------------------------\n",
    "                                                                                                  \n",
    "\n",
    "NG_007114.1:4986-6416                 ------------------------------------------------------------\n",
    "NC_000085.6:52264297-52265015         ACCTGGAGACCTTAATGGGCCAAACAGCAAAGTCCAGGGGGCAGAGAGGAGGTACTTTGG\n",
    "NC_000073.6:c142679726-142678656      ------------------------------------------------------------\n",
    "                                                                                                  \n",
    "\n",
    "NG_007114.1:4986-6416                 --------------------------------AGCCCTCCAGGACAGGCTGC-ATCAGAA\n",
    "NC_000085.6:52264297-52265015         ACTATAAAGCTGGTGGGCATCCAGTAACCCCCAGCCCTTAGTGACCAGCTATAATCAGAG\n",
    "NC_000073.6:c142679726-142678656      --------------GGGGACCCAGTAACCACCAGCCCTAAGTGATCCGCTACAATCAAAA\n",
    "                                                                      ******    **   ***   **** * \n",
    "\n",
    "NG_007114.1:4986-6416                 GAGGCCATCAAGCAGG-------TCTGTTCCAAGGGCCTTTGCGTCAGGTGGGCTCAGGA\n",
    "NC_000085.6:52264297-52265015         ACCATCAGCAAGCAGGTATGTACTCTCCTCTTTGGGCCT------------GGCTC----\n",
    "NC_000073.6:c142679726-142678656      ACCATCAGCAAGCAGGAAGGTACTCTTCTCAGTGGGCCT------------GGCTC----\n",
    "                                           ** ********       ***  **   ******            *****    \n",
    "\n",
    "NG_007114.1:4986-6416                 TTCCAGGGTGGCTGGACCCCAGGCCCCAGCTCTGCAGCAGGGAGGACGTGGCTGGGCTCG\n",
    "NC_000085.6:52264297-52265015         -CCCAG-----------CCAAGACTCCAG--CGACTTTAGGGAGAATG----TGGGCTCC\n",
    "NC_000073.6:c142679726-142678656      -CCCAG-----------CTAAGACCTCAG--GGACTTGAGGTAGGATA----TAGCCTCC\n",
    "                                        ****           *  ** *  ***     *   *** ** *      * * *** \n",
    "\n",
    "NG_007114.1:4986-6416                 TGAAGCATGTGGGGGTGAGCCCAGGGGCCCCAAGGCAGGGCACCTGGCCTTCAGCCTGCC\n",
    "NC_000085.6:52264297-52265015         TCTCTTACATG----------------------------------GATCTTTTGCTAGCC\n",
    "NC_000073.6:c142679726-142678656      TCTCTTACGTG----------------------------------AAACTTTTGCTATCC\n",
    "                                      *     *  **                                     ***  **   **\n",
    "\n",
    "NG_007114.1:4986-6416                 TCAGCCCTGCCTGTCTCCCAGATCACTGTCCTTCTGCCATGGCCCTGTGGATGCGCCTCC\n",
    "NC_000085.6:52264297-52265015         TCAACCCTGCCTATCTTTCAGGTCATTG---TTTCAACATGGCCCTGTTGGTGCACTTCC\n",
    "NC_000073.6:c142679726-142678656      TCAACCCAGCCTATCTTCCAGGTTATTG---TTTCAACATGGCCCTGTGGATGCGCTTCC\n",
    "                                      *** *** **** ***  *** * * **   **    *********** * *** * ***\n",
    "\n",
    "NG_007114.1:4986-6416                 TGCCCCTGCTGGCGCTGCTGGCCCTCTGGGGACCTGACCCAGCCGCAGCCTTTGTGAACC\n",
    "NC_000085.6:52264297-52265015         TACCCCTGCTGGCCCTGCTTGCCCTCTGGGAGCCCAAACCCACCCAGGCTTTTGTCAAAC\n",
    "NC_000073.6:c142679726-142678656      TGCCCCTGCTGGCCCTGCTCTTCCTCTGGGAGTCCCACCCCACCCAGGCTTTTGTCAAGC\n",
    "                                      * *********** *****   ********   *  * **  **   ** ***** ** *\n",
    "\n",
    "NG_007114.1:4986-6416                 AACACCTGTGCGGCTCACACCTGGTGGAAGCTCTCTACCTAGTGTGCGGGGAACGAGGCT\n",
    "NC_000085.6:52264297-52265015         AGCATCTTTGTGGTCCCCACCTGGTAGAGGCTCTCTACCTGGTGTGTGGGGAGCGTGGCT\n",
    "NC_000073.6:c142679726-142678656      AGCACCTTTGTGGTTCCCACCTGGTGGAGGCTCTCTACCTGGTGTGTGGGGAGCGTGGCT\n",
    "                                      * ** ** ** **  * ******** ** *********** ***** ***** ** ****\n",
    "\n",
    "NG_007114.1:4986-6416                 TCTTCTACACACCCAAGACCCGCCGGGAGGCAGAGGACCTGCAGGGTGAGCCAACTGCCC\n",
    "NC_000085.6:52264297-52265015         TCTTCTACACACCCAAGTCCCGCCGTGAAGTGGAGGACCCACA-----------------\n",
    "NC_000073.6:c142679726-142678656      TCTTCTACACACCCATGTCCCGCCGTGAAGTGGAGGACCCACAAGGTGAG----------\n",
    "                                      *************** * ******* ** *  *******  **                 \n",
    "\n",
    "NG_007114.1:4986-6416                 ATTGCTGCCCCTGG---CCGCCCCCAGCCACCCCCTGCTCCTGGCGCTCCCACCCAGCAT\n",
    "NC_000085.6:52264297-52265015         ------------------------------------------------------------\n",
    "NC_000073.6:c142679726-142678656      --TTCTGCCACTGAATTCTGTCCCCAG---------------------------------\n",
    "                                                                                                  \n",
    "\n",
    "NG_007114.1:4986-6416                 GGGCAGAAGGGGGCAGGAGGCTGCCACCCAGCAGGGGGTCAGGTGCACTTTTTTAAAAAG\n",
    "NC_000085.6:52264297-52265015         ------------------------------------------------------------\n",
    "NC_000073.6:c142679726-142678656      ---------------------TGCTAACTACCCTGGTTTTCTTCACACTT---------G\n",
    "                                                                                                  \n",
    "\n",
    "NG_007114.1:4986-6416                 AAGTTCTCTTGGTCACGTCCTAAAAGTGACCAGCTCCCTGTGGCCCAGTCAGAATCTCAG\n",
    "NC_000085.6:52264297-52265015         ------------------------------------------------------------\n",
    "NC_000073.6:c142679726-142678656      GGACATTGTAAATTGTGTCCTAGGTGTG--------------------------------\n",
    "                                                                                                  \n",
    "\n",
    "NG_007114.1:4986-6416                 CCTGAGGACGGTGTTGGCTTCGGCAGCCCCGAGATACATCAGAGGGTGGGCACGCTCCTC\n",
    "NC_000085.6:52264297-52265015         ------------------------------------------------------------\n",
    "NC_000073.6:c142679726-142678656      ---------------------GAGGGTCTCGGGATA-ACCAGGGAGTGGGGACAC-----\n",
    "                                                                                                  \n",
    "\n",
    "NG_007114.1:4986-6416                 CCTCCACTCGCCCCTCAAACAAATGCCCCGCAGCCCATTTCTCCACCCTCATTTGATGAC\n",
    "NC_000085.6:52264297-52265015         ------------------------------------------------------------\n",
    "NC_000073.6:c142679726-142678656      ------------------------------------------------------------\n",
    "                                                                                                  \n",
    "\n",
    "NG_007114.1:4986-6416                 CGCAGATTCAAGTGTTTTGTTAAGTAAAGTCCTGGGTGACCTGGGGTCACAGGGTGCCCC\n",
    "NC_000085.6:52264297-52265015         ------------------------------------------------------------\n",
    "NC_000073.6:c142679726-142678656      ------------------------------------------------------------\n",
    "                                                                                                  \n",
    "\n",
    "NG_007114.1:4986-6416                 ACGCTGCCTGCCTCTGGGCGAACACCCCATCACGCCCGGAGGAGGGCGTGGCTGCCTGCC\n",
    "NC_000085.6:52264297-52265015         ------------------------------------------------------------\n",
    "NC_000073.6:c142679726-142678656      ---------GTTTCTGGGGGAA--------GCTAGACATATGTAAACATGGCAGCTGCCA\n",
    "                                                                                                  \n",
    "\n",
    "NG_007114.1:4986-6416                 TGAGTGGGCCAGACCCCTGTCGCCAGGCCTCACGGCAGCTCCATAGTCAGGAGATGGGGA\n",
    "NC_000085.6:52264297-52265015         ------------------------------------------------------------\n",
    "NC_000073.6:c142679726-142678656      GGAATGAGTAAGAATCCTGCCTTAAGGGGTCCTTGGTGGTAGTAACTTGGGACATGTGAC\n",
    "                                                                                                  \n",
    "\n",
    "NG_007114.1:4986-6416                 AGATGCTGGGGACAGGCCCTGGGGAGAAGTACTGGGATCACCTGTTCAGGCTCCCACTGT\n",
    "NC_000085.6:52264297-52265015         ------------------------------------------------------------\n",
    "NC_000073.6:c142679726-142678656      TAGATCCCAGGATAGG----------------------TACCTATTTAGGGCCCTCATAG\n",
    "                                                                                                  \n",
    "\n",
    "NG_007114.1:4986-6416                 GACGCTGCCCCGGGGCGGGGGAAGGAGGT------GGGACATGTGGGCGTTGGGGCCTGT\n",
    "NC_000085.6:52264297-52265015         ------------------------------------------------------------\n",
    "NC_000073.6:c142679726-142678656      AGCACTGCACTGACTGAAGATGAGTAGGCTTTAGAGGCCCATGTGTCCATCCATGACCAG\n",
    "                                                                                                  \n",
    "\n",
    "NG_007114.1:4986-6416                 AGGTCCACACCCAGTGTGGGTGACCCTCCCTCTAACCTGGGTCCAGCCCGGCTGGAGATG\n",
    "NC_000085.6:52264297-52265015         ------------------------------------------------------------\n",
    "NC_000073.6:c142679726-142678656      TGACTTGTCCCACAGGCATGCAACCCCTGCC---------------ACCTGCAGGGGTTA\n",
    "                                                                                                  \n",
    "\n",
    "NG_007114.1:4986-6416                 GGTGGGAGTGCGACCTAGGGCTGGCGGGCAGGCGGGCACTGTGTCTC-CCTGACTGTGTC\n",
    "NC_000085.6:52264297-52265015         ------------------------------------------------------------\n",
    "NC_000073.6:c142679726-142678656      AGGGGCGAGAAAACCTGGGGT-----AGTAGGAGGTTGCTCAGCTACTCCTGACTGGATT\n",
    "                                                                                                  \n",
    "\n",
    "NG_007114.1:4986-6416                 CTCCTGTGTCCCTCTGCCTCGCCGCTGTT----CCGGAACCTGCTCTGCGCGGCACGTCC\n",
    "NC_000085.6:52264297-52265015         ------------------------------------------------------------\n",
    "NC_000073.6:c142679726-142678656      TTCCTATGTGTCTTTGCTTCTGTGCTGCTGATGCCCTGGCCTGCTCTGACACAACCTCCC\n",
    "                                                                                                  \n",
    "\n",
    "NG_007114.1:4986-6416                 TGGCAGTGGGGCAGGTGGAGCTGGGCGGGGGCCCTGGTGCAGGCAGCCTGCAGCCCTTGG\n",
    "NC_000085.6:52264297-52265015         ----AGTGGAACAACTGGAGCTGGGAGGAAGCCCCGGGG------ACCTTCAGACCTTGG\n",
    "NC_000073.6:c142679726-142678656      TGGCAGTGGCACAACTGGAGCTGGGTGGAGGCCCGGGAGCAGGTGACCTTCAGACCTTGG\n",
    "                                          *****  **  ********** **  **** ** *       *** *** ******\n",
    "\n",
    "NG_007114.1:4986-6416                 CCCTGGAGGGGTCCCTGCAGAAGCGTGGCATTGTGGAACAATGCTGTACCAGCATCTGCT\n",
    "NC_000085.6:52264297-52265015         CGTTGGAGGTGGCCCGGCAGAAGCGTGGCATTGTGGATCAGTGCTGCACCAGCATCTGCT\n",
    "NC_000073.6:c142679726-142678656      CACTGGAGGTGGCCCAGCAGAAGCGTGGCATTGTAGATCAGTGCTGCACCAGCATCTGCT\n",
    "                                      *  ****** * *** ****************** ** ** ***** *************\n",
    "\n",
    "NG_007114.1:4986-6416                 CCCTCTACCAGCTGGAGAACTACTGCAACT-AGACGCAGCCCGCAGGCAGCCCCACACCC\n",
    "NC_000085.6:52264297-52265015         CCCTCTACCAGCTGGAGAACTACTGCAACTAAGGCCCA--CCTCGACCCGCCCCAC----\n",
    "NC_000073.6:c142679726-142678656      CCCTCTACCAGCTGGAGAACTACTGCAACT-AGACCCA--CCACTACCCAGCCTAC----\n",
    "                                      ****************************** ** * **  ** *   *   ** **    \n",
    "\n",
    "NG_007114.1:4986-6416                 GCCGCCTCCTGCACCGAGAGAGATGGAATAAAGCCCTTGAACCAG------------\n",
    "NC_000085.6:52264297-52265015         ----CCCTCTGCAAT----------GAATAAAACTTTTGAATAAGCACCAAAAAAAA\n",
    "NC_000073.6:c142679726-142678656      ----CCCTCTGCAAT----------GAATAAAACCTTTGAATGAGCACAA-------\n",
    "                                          **  *****            ******* *  *****  **            \n"
   ]
  },
  {
   "cell_type": "markdown",
   "metadata": {},
   "source": [
    "Thought questions:\n",
    "\n",
    "What does your analysis tell you about the similarities between human and mouse insulin genes? \n",
    "Which insulin gene from mouse is more similar to the human insulin gene? \n",
    "What would the alignment look like if you were using processed mRNA or protien sequences instead of gene sequences?"
   ]
  },
  {
   "cell_type": "markdown",
   "metadata": {},
   "source": [
    "## What is a reference genome and why is it important for analysis of DNA sequences?\n",
    "\n",
    "In the last part of todays class we are going to look at one of the questions we introduced earlier: \n",
    "\n",
    " \"I just finished a sequencing experiment, how can I align my data with the human reference genome?\"\n",
    " \n",
    "We are going to introduce the concept of a reference genome and short-read alignment today. In the next class you will be using the reference genome and doing short-read alignment with RNA-seq data. \n",
    "\n",
    "First we need to define reference genomes. \n",
    "\n",
    "While the genomes of humans are very similar, they still differ in many positions. \n",
    "\n",
    "\n"
   ]
  },
  {
   "cell_type": "markdown",
   "metadata": {},
   "source": [
    "## Introduction to FASTA and FASTQ data formats"
   ]
  },
  {
   "cell_type": "markdown",
   "metadata": {},
   "source": [
    "You have already seen data in the FASTA format. The first line contains the sequence label, preceded by \">\". The second line contains the actual sequence bases (A,C,G,T): \n",
    "\n",
    "**>FORJUSP02AJWD1** \n",
    "\n",
    "**CCGTCAATTCATTTAAGTTTTAACCTT**\n",
    "\n",
    "FASTQ format takes this a step further by including sequence quality information  in ASCII characters. \n",
    "<img src=\"images/fastq_fig.jpg\",align=\"center\"//>\n",
    "\n"
   ]
  },
  {
   "cell_type": "code",
   "execution_count": null,
   "metadata": {
    "collapsed": false
   },
   "outputs": [],
   "source": [
    "## You can convert the ASCII-encoded quality values to numeric Q scores with the 'ord' function. You must subtract 33\n",
    "## from the converted value to obtain a Q score\n",
    "\n",
    "quality_ascii='A:99@::??@@::FFAA'\n",
    "numerical=[ord(c)-33 for c in quality_ascii]\n",
    "print(numerical)"
   ]
  }
 ],
 "metadata": {
  "anaconda-cloud": {},
  "kernelspec": {
   "display_name": "Python [Root]",
   "language": "python",
   "name": "Python [Root]"
  },
  "language_info": {
   "codemirror_mode": {
    "name": "ipython",
    "version": 3
   },
   "file_extension": ".py",
   "mimetype": "text/x-python",
   "name": "python",
   "nbconvert_exporter": "python",
   "pygments_lexer": "ipython3",
   "version": "3.5.2"
  }
 },
 "nbformat": 4,
 "nbformat_minor": 1
}
