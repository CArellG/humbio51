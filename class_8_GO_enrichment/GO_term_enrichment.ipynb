{
 "cells": [
  {
   "cell_type": "markdown",
   "metadata": {},
   "source": [
    "# Big Data for Biologists: Decoding Genomic Function- Class 8\n",
    "\n",
    "## How can you learn about the function of a gene product by studying other organisms?  \n",
    "\n",
    "##  Learning Objectives\n",
    "***Students should be able to***\n",
    " <ol>\n",
    " <li>   </li>\n",
    " <li>   </li>"
   ]
  },
  {
   "cell_type": "code",
   "execution_count": 2,
   "metadata": {
    "collapsed": false
   },
   "outputs": [
    {
     "name": "stdout",
     "output_type": "stream",
     "text": [
      "The autoreload extension is already loaded. To reload it, use:\n",
      "  %reload_ext autoreload\n"
     ]
    }
   ],
   "source": [
    "# magic! (don't worry about this)\n",
    "%matplotlib inline\n",
    "%load_ext autoreload\n",
    "%autoreload 2\n",
    "import matplotlib.pyplot as plt\n",
    "\n",
    "import sys\n",
    "sys.path.append('../helpers')\n",
    "from kmeans_helpers import * \n",
    "from helpers import * "
   ]
  },
  {
   "cell_type": "markdown",
   "metadata": {},
   "source": [
    "In the previous tutorial, we performed k-means clustering to group gene expression samples by tissue. Now, we are interested in similar groups of genes. We can flip the axis used for clustering to find k-means cluster of related genes. "
   ]
  },
  {
   "cell_type": "code",
   "execution_count": 3,
   "metadata": {
    "collapsed": false
   },
   "outputs": [],
   "source": [
    "from sklearn.cluster import KMeans\n",
    "from sklearn.metrics import silhouette_score,silhouette_samples"
   ]
  },
  {
   "cell_type": "code",
   "execution_count": 6,
   "metadata": {
    "collapsed": false
   },
   "outputs": [
    {
     "data": {
      "text/plain": [
       "(1543, 116)"
      ]
     },
     "execution_count": 6,
     "metadata": {},
     "output_type": "execute_result"
    }
   ],
   "source": [
    "import pandas as pd \n",
    "systems_subset=[\"Blood\",\"Embryonic\",\"Immune\",\"Respiratory\"]\n",
    "data,batches=load_rnaseq_data(systems_subset=systems_subset)\n",
    "data.shape"
   ]
  },
  {
   "cell_type": "code",
   "execution_count": null,
   "metadata": {
    "collapsed": false
   },
   "outputs": [],
   "source": []
  },
  {
   "cell_type": "markdown",
   "metadata": {
    "collapsed": false
   },
   "source": [
    "First, we will run all 1543 differential genes through GORilla to determine if there are any significantly enriched GO terms. Write the genes to an output file called 'all_genes.txt' and load this file into the GORilla window below. Select \"All\" for Ontology to search the Cellular Component, Biological Process, and Molecular Function ontologies. \n"
   ]
  },
  {
   "cell_type": "code",
   "execution_count": 21,
   "metadata": {
    "collapsed": false
   },
   "outputs": [
    {
     "data": {
      "text/plain": [
       "Index([u'ENSG00000269416.1', u'ENSG00000008517.12', u'ENSG00000158966.9',\n",
       "       u'ENSG00000167768.4', u'ENSG00000147257.9', u'ENSG00000169992.5',\n",
       "       u'ENSG00000143248.8', u'ENSG00000232301.1', u'ENSG00000083857.9',\n",
       "       u'ENSG00000165272.10'],\n",
       "      dtype='object')"
      ]
     },
     "execution_count": 21,
     "metadata": {},
     "output_type": "execute_result"
    }
   ],
   "source": [
    "gene_names=data.index\n",
    "gene_names[0:10]"
   ]
  },
  {
   "cell_type": "code",
   "execution_count": 22,
   "metadata": {
    "collapsed": true
   },
   "outputs": [],
   "source": [
    "outf=open('all_genes.txt','w')\n",
    "outf.write('\\n'.join(gene_names))"
   ]
  },
  {
   "cell_type": "code",
   "execution_count": 23,
   "metadata": {
    "collapsed": false
   },
   "outputs": [
    {
     "name": "stdout",
     "output_type": "stream",
     "text": [
      "ENSG00000269416.1\r\n",
      "ENSG00000008517.12\r\n",
      "ENSG00000158966.9\r\n",
      "ENSG00000167768.4\r\n",
      "ENSG00000147257.9\r\n",
      "ENSG00000169992.5\r\n",
      "ENSG00000143248.8\r\n",
      "ENSG00000232301.1\r\n",
      "ENSG00000083857.9\r\n",
      "ENSG00000165272.10\r\n"
     ]
    }
   ],
   "source": [
    "!head all_genes.txt\n"
   ]
  },
  {
   "cell_type": "code",
   "execution_count": 24,
   "metadata": {
    "collapsed": false
   },
   "outputs": [
    {
     "data": {
      "text/html": [
       "\n",
       "        <iframe\n",
       "            width=\"1000\"\n",
       "            height=\"500\"\n",
       "            src=\"http://cbl-gorilla.cs.technion.ac.il/\"\n",
       "            frameborder=\"0\"\n",
       "            allowfullscreen\n",
       "        ></iframe>\n",
       "        "
      ],
      "text/plain": [
       "<IPython.lib.display.IFrame at 0x7f16d4684710>"
      ]
     },
     "execution_count": 24,
     "metadata": {},
     "output_type": "execute_result"
    }
   ],
   "source": [
    "from IPython.display import IFrame\n",
    "\n",
    "IFrame('http://cbl-gorilla.cs.technion.ac.il/',height=500,width=1000)"
   ]
  },
  {
   "cell_type": "markdown",
   "metadata": {
    "collapsed": true
   },
   "source": [
    "It looks like GORilla is not able to recognize the ENSEMBL gene id's. We must convert them to the official gene symbol format. We can perform this conversion with the DAVID analysis tool, which will also identify GO terms and pathways. "
   ]
  },
  {
   "cell_type": "code",
   "execution_count": null,
   "metadata": {
    "collapsed": true
   },
   "outputs": [],
   "source": [
    "https://david.ncifcrf.gov/"
   ]
  }
 ],
 "metadata": {
  "anaconda-cloud": {},
  "kernelspec": {
   "display_name": "Python 2",
   "language": "python",
   "name": "python2"
  },
  "language_info": {
   "codemirror_mode": {
    "name": "ipython",
    "version": 2
   },
   "file_extension": ".py",
   "mimetype": "text/x-python",
   "name": "python",
   "nbconvert_exporter": "python",
   "pygments_lexer": "ipython2",
   "version": "2.7.10"
  }
 },
 "nbformat": 4,
 "nbformat_minor": 2
}
