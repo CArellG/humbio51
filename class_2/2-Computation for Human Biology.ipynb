{
 "cells": [
  {
   "cell_type": "markdown",
   "metadata": {},
   "source": [
    "# Computation for Human Biology- Class 2\n",
    "\n",
    "## How can we predict the protein product of a gene? \n",
    "\n",
    "##  Learning Objectives\n",
    " ***Students should be able to***\n",
    " <ol>\n",
    " <li>Explain the Central Dogma and what it means for a gene to be expressed</li>\n",
    " <li>Describe what a complementary DNA sequence is</li>\n",
    " <li>Write out a complementary DNA sequence using \"for loops\" and \"if\" statements</li>\n",
    " <li>Write out the RNA transcription product for a DNA sequence.</li>\n",
    " <li>Define RNA splicing, exon and intron </li> \n",
    " <li>Find the index of characters in a string variable </li>\n",
    " <li>Use Python to find start and stop codons in a mRNA sequence </li>\n",
    " </ol>"
   ]
  },
  {
   "cell_type": "code",
   "execution_count": 10,
   "metadata": {
    "collapsed": true
   },
   "outputs": [],
   "source": [
    "#some boiler-plate code, don't worry about this \n",
    "from os.path import expanduser\n",
    "home = expanduser(\"~\")"
   ]
  },
  {
   "cell_type": "markdown",
   "metadata": {
    "collapsed": true
   },
   "source": [
    " ## What is the Central Dogma and what does it mean for a gene to be expressed?\n",
    " \n",
    "As we discussed before, typically the flow of information in cells follows what is known as \n",
    "**The Central Dogma** where **DNA makes RNA makes protein**. \n",
    "\n",
    "A gene is said to be **expressed** if it is turned into a funtional product. Proteins are one example of functional products from gene expression. DNA can also code for RNA that has a function on its own and is not translated into protein.  \n",
    " \n",
    "<img src=\"Images/1-CentralDogma.png\" style=\"width: 40%; height: 50%\" align=\"center\"//>\n",
    "\n",
    "Today, we are going to take a closer look at each of these steps. We'll use Python to:\n",
    "\n",
    "1. Predict the complementary strand from a DNA sequence.\n",
    "2. Predict the RNA sequence that gets produced from a DNA sequence.\n",
    "3. Predict the protein sequence from a DNA sequence. "
   ]
  },
  {
   "cell_type": "markdown",
   "metadata": {},
   "source": [
    "## What is a complementary DNA sequence?\n",
    "\n",
    "**DNA replication** is a necessary process when one cell divides to becomes two. \n",
    "\n",
    "During DNA replication the two strands of DNA (review figure 1 from the last class) unwind and a new, **complementary strand** is created. The composition of the complementary strand is determined from the original DNA sequence based on the base pairing rules that we discussed in the last class and are reviewed below. \n",
    "\n",
    "<img src=\"Images/2-BasePairs.png\" style=\"width: 40%; height: 50%\" align=\"center\"//>\n",
    "\n",
    "Without using a computer, what would be the complementary DNA sequence for AGCCCTCCA?\n",
    "\n",
    "TCGGGAGGT\n",
    "\n",
    "Predicting the complementary DNA for a short sequence may not be difficult, but what if you needed the complementary strand for a larger segment of DNA or if you want to write out the complementary strand for a lot of sequences?\n"
   ]
  },
  {
   "cell_type": "markdown",
   "metadata": {},
   "source": [
    "## How can I use for loops and if statements to write a complementary DNA Sequence to a file using Python? \n",
    "\n",
    "\n",
    "Using a program like Python (or others) its possible to quickly and accurately write out a complementary DNA sequence. \n",
    "\n",
    "Keep in mind that the overall structure of the program will be similar to the program that we looked at for the first class, but this time instead of asking the program to calculate the length of the sequence, we'll be asking it to write out the complementary DNA strand for a sequence. \n",
    " \n",
    "<img src=\"Images/2-ComplementaryDNAProgram.png\" style=\"width: 40%; height: 50%\" align=\"center\"//>\n",
    "\n",
    "The first part of the program will require similar code to what you learned last time to read the sequence into the computer. \n",
    "\n",
    "For the second part, we will need to introduce some new programming concepts **for loops** and **if statements**. \n",
    "\n",
    "To simplify things, lets first think through how you wrote out the complementary sequence in the 'AGCCCTCCA' example above. \n",
    "\n",
    "You probably started with the first letter, A, decided what the complementary base pair should be, a T, and then moved onto the second letter. \n",
    "\n",
    "The programming concept that lets you repeat the same process for each letter is what's called a **for loop**. Let's look at a simple example of a for loop first. \n",
    "\n",
    "In this first case we will just have the computer write out the original sequence so you can see clearly what the for statement does. \n"
   ]
  },
  {
   "cell_type": "code",
   "execution_count": 11,
   "metadata": {
    "collapsed": false
   },
   "outputs": [
    {
     "name": "stdout",
     "output_type": "stream",
     "text": [
      "A\n",
      "G\n",
      "C\n",
      "C\n",
      "C\n",
      "T\n",
      "C\n",
      "C\n",
      "A\n"
     ]
    }
   ],
   "source": [
    "for i in 'AGCCCTCCA':\n",
    "    print (i)"
   ]
  },
  {
   "cell_type": "markdown",
   "metadata": {},
   "source": [
    "To write out the complementary sequence instead of the original sequence, for each letter we want the computer to consider if the original basepair is an A,T,G or C and write out T if the original base pair is an A, A if the original base pair is a T, C if the original base pair is a G and G if the original base pair is a C. \n",
    "\n",
    "In Python you can code this decision making process using **if** statements. "
   ]
  },
  {
   "cell_type": "code",
   "execution_count": 12,
   "metadata": {
    "collapsed": false
   },
   "outputs": [
    {
     "name": "stdout",
     "output_type": "stream",
     "text": [
      "T\n",
      "C\n",
      "G\n",
      "G\n",
      "G\n",
      "A\n",
      "G\n",
      "G\n",
      "T\n"
     ]
    }
   ],
   "source": [
    "#Write out the complementary sequence for a DNA sequence\n",
    "for i in 'AGCCCTCCA':\n",
    "    if  i=='A':\n",
    "        print ('T')\n",
    "    if i=='T':\n",
    "        print ('A')\n",
    "    if i=='G':\n",
    "        print ('C')\n",
    "    if i=='C':\n",
    "        print ('G') "
   ]
  },
  {
   "cell_type": "markdown",
   "metadata": {},
   "source": [
    "The code above successfully prints out the complementary sequence, but our goal is not just to print out the sequence to the screen, but to print out the sequence into a file. \n",
    "\n",
    "We will need to introduce a variable where we store the complementary sequence so we can call it later to print the sequence or write to a file. \n",
    "\n",
    "We'll print the sequence in the first example to make sure that the code is set up properly, then we'll add the code to write to a textfile. "
   ]
  },
  {
   "cell_type": "code",
   "execution_count": 13,
   "metadata": {
    "collapsed": false
   },
   "outputs": [
    {
     "name": "stdout",
     "output_type": "stream",
     "text": [
      "TCGGGAGGT\n"
     ]
    }
   ],
   "source": [
    "#Write out the complementary sequence for a DNA sequence\n",
    "complementarysequence='' #this defines the variable 'complementarysequence'\n",
    "for i in 'AGCCCTCCA':\n",
    "    if  i=='A':\n",
    "        complementarysequence=complementarysequence+'T'\n",
    "    if i=='T':\n",
    "        complementarysequence=complementarysequence+'A'\n",
    "    if i=='G':\n",
    "        complementarysequence=complementarysequence+'C'\n",
    "    if i=='C':\n",
    "        complementarysequence=complementarysequence+'G'\n",
    "print (complementarysequence)"
   ]
  },
  {
   "cell_type": "code",
   "execution_count": 14,
   "metadata": {
    "collapsed": false
   },
   "outputs": [],
   "source": [
    "#Write out the complementary sequence for a DNA sequence to a file\n",
    "complementarysequence='' #this defines the variable 'complementarysequence'\n",
    "for i in 'AGCCCTCCA':\n",
    "    if  i=='A':\n",
    "        complementarysequence=complementarysequence+'T'\n",
    "    if i=='T':\n",
    "        complementarysequence=complementarysequence+'A'\n",
    "    if i=='G':\n",
    "        complementarysequence=complementarysequence+'C'\n",
    "    if i=='C':\n",
    "        complementarysequence=complementarysequence+'G'\n",
    "f =open('complementarysequeunce', 'w') #this opens a file called 'complementarysequence in the working directory'\n",
    "f.write(complementarysequence) #this writes the complementary sequence variable to the 'complementarysequence' file\n",
    "f.close () #this closes the file so it does not take resources in the program        "
   ]
  },
  {
   "cell_type": "markdown",
   "metadata": {},
   "source": [
    "If you list the files in your working directory, you now should see a file called complementary sequence. Try this!"
   ]
  },
  {
   "cell_type": "code",
   "execution_count": 15,
   "metadata": {
    "collapsed": false
   },
   "outputs": [
    {
     "data": {
      "text/plain": [
       "['JupyterNtbks', 'data', 'complementarysequeunce']"
      ]
     },
     "execution_count": 15,
     "metadata": {},
     "output_type": "execute_result"
    }
   ],
   "source": [
    "import os\n",
    "os.listdir('.')"
   ]
  },
  {
   "cell_type": "markdown",
   "metadata": {},
   "source": [
    "For short sequences like the example we've been using, having a computer doesn't save significant amounts of time, but for longer sequences it can be a big help. \n",
    "\n",
    "Now try combining the commands that we used yesterday to read in the insulin sequence and print out the complementary DNA sequence for insulin. "
   ]
  },
  {
   "cell_type": "code",
   "execution_count": 16,
   "metadata": {
    "collapsed": false
   },
   "outputs": [
    {
     "name": "stdout",
     "output_type": "stream",
     "text": [
      "TCGGGAGGTCCTGTCCGACGTAGTCTTCTCCGGTAGTTCGTCCAGACAAGGTTCCCGGAAACGCAGTCCACCCGAGTCCTAAGGTCCCACCGACCTGGGGTCCGGGGTCGAGACGTCGTCCCTCCTGCACCGACCCGAGCACTTCGTACACCCCCACTCGGGTCCCCGGGGTTCCGTCCCGTGGACCGGAAGTCGGACGGAGTCGGGACGGACAGAGGGTCTAGTGACAGGAAGACGGTACCGGGACACCTACGCGGAGGACGGGGACGACCGCGACGACCGGGAGACCCCTGGACTGGGTCGGCGTCGGAAACACTTGGTTGTGGACACGCCGAGTGTGGACCACCTTCGAGAGATGGATCACACGCCCCTTGCTCCGAAGAAGATGTGTGGGTTCTGGGCGGCCCTCCGTCTCCTGGACGTCCCACTCGGTTGACGGGTAACGACGGGGACCGGCGGGGGTCGGTGGGGGACGAGGACCGCGAGGGTGGGTCGTACCCGTCTTCCCCCGTCCTCCGACGGTGGGTCGTCCCCCAGTCCACGTGAAAAAATTTTTCTTCAAGAGAACCAGTGCAGGATTTTCACTGGTCGAGGGACACCGGGTCAGTCTTAGAGTCGGACTCCTGCCACAACCGAAGCCGTCGGGGCTCTATGTAGTCTCCCACCCGTGCGAGGAGGGAGGTGAGCGGGGAGTTTGTTTACGGGGCGTCGGGTAAAGAGGTGGGAGTAAACTACTGGCGTCTAAGTTCACAAAACAATTCATTTCAGGACCCACTGGACCCCAGTGTCCCACGGGGTGCGACGGACGGAGACCCGCTTGTGGGGTAGTGCGGGCCTCCTCCCGCACCGACGGACGGACTCACCCGGTCTGGGGACAGCGGTCCGGAGTGCCGTCGAGGTATCAGTCCTCTACCCCTTCTACGACCCCTGTCCGGGACCCCTCTTCATGACCCTAGTGGACAAGTCCGAGGGTGACACTGCGACGGGGCCCCGCCCCCTTCCTCCACCCTGTACACCCGCAACCCCGGACATCCAGGTGTGGGTCACACCCACTGGGAGGGAGATTGGACCCAGGTCGGGCCGACCTCTACCCACCCTCACGCTGGATCCCGACCGCCCGTCCGCCCGTGACACAGAGGGACTGACACAGGAGGACACAGGGAGACGGAGCGGCGACAAGGCCTTGGACGAGACGCGCCGTGCAGGACCGTCACCCCGTCCACCTCGACCCGCCCCCGGGACCACGTCCGTCGGACGTCGGGAACCGGGACCTCCCCAGGGACGTCTTCGCACCGTAACACCTTGTTACGACATGGTCGTAGACGAGGGAGATGGTCGACCTCTTGATGACGTTGATCTGCGTCGGGCGTCCGTCGGGGTGTGGGCGGCGGAGGACGTGGCTCTCTCTACCTTATTTCGGGAACTTGGTC\n"
     ]
    }
   ],
   "source": [
    "#Write out the complementary sequence for a DNA sequence\n",
    "import os\n",
    "os.chdir(home+'/vptl/Class 1')\n",
    "FASTAsequence=open('data/Human-Insulin-NG_007114.1.txt','r')\n",
    "genesequence=(FASTAsequence.readlines()[1:])\n",
    "genesequence=''.join(genesequence)\n",
    "complementarysequence='' #this defines the variable 'complementarysequence'\n",
    "for i in genesequence:\n",
    "    if i=='A':\n",
    "        complementarysequence=complementarysequence+'T'\n",
    "    if i=='T':\n",
    "        complementarysequence=complementarysequence+'A'\n",
    "    if i=='G':\n",
    "        complementarysequence=complementarysequence+'C'\n",
    "    if i=='C':\n",
    "        complementarysequence=complementarysequence+'G'\n",
    "print (complementarysequence)"
   ]
  },
  {
   "cell_type": "markdown",
   "metadata": {},
   "source": [
    "## How can I write out the RNA transcription product of a DNA sequence?\n",
    "\n",
    "During the process of transcription (see Central Dogma Figure above), DNA is transcribed into RNA. There are a few structural differences between RNA and DNA molecules that we will not cover in detail. \n",
    "\n",
    "For the purposes of this class, the main difference between RNA and DNA that you will need to be aware of is that RNA has the base pair **Uracil (U)** instead of Thymine (T).   \n",
    "\n",
    "By convention, most of the DNA sequences that are listed in gene databases are what are known as the **coding strand**. Unless there is some type of error in the transcription process, the coding strand of DNA will have the same sequence as the RNA that is made in transcription except the Ts will become Us. \n",
    "\n",
    "There are a number of different types of RNA in a cell. For this class, we will be focusing on messenger RNA or **mRNA** which is the RNA that codes from proteins. \n",
    "\n",
    "Using what you learned above, how would you write a script that would convert the DNA sequence for insulin to the corresponding RNA sequence?  "
   ]
  },
  {
   "cell_type": "code",
   "execution_count": 19,
   "metadata": {
    "collapsed": false
   },
   "outputs": [
    {
     "name": "stdout",
     "output_type": "stream",
     "text": [
      "AGCCCUCCAGGACAGGCUGCAUCAGAAGAGGCCAUCAAGCAGGUCUGUUCCAAGGGCCUUUGCGUCAGGUGGGCUCAGGAUUCCAGGGUGGCUGGACCCCAGGCCCCAGCUCUGCAGCAGGGAGGACGUGGCUGGGCUCGUGAAGCAUGUGGGGGUGAGCCCAGGGGCCCCAAGGCAGGGCACCUGGCCUUCAGCCUGCCUCAGCCCUGCCUGUCUCCCAGAUCACUGUCCUUCUGCCAUGGCCCUGUGGAUGCGCCUCCUGCCCCUGCUGGCGCUGCUGGCCCUCUGGGGACCUGACCCAGCCGCAGCCUUUGUGAACCAACACCUGUGCGGCUCACACCUGGUGGAAGCUCUCUACCUAGUGUGCGGGGAACGAGGCUUCUUCUACACACCCAAGACCCGCCGGGAGGCAGAGGACCUGCAGGGUGAGCCAACUGCCCAUUGCUGCCCCUGGCCGCCCCCAGCCACCCCCUGCUCCUGGCGCUCCCACCCAGCAUGGGCAGAAGGGGGCAGGAGGCUGCCACCCAGCAGGGGGUCAGGUGCACUUUUUUAAAAAGAAGUUCUCUUGGUCACGUCCUAAAAGUGACCAGCUCCCUGUGGCCCAGUCAGAAUCUCAGCCUGAGGACGGUGUUGGCUUCGGCAGCCCCGAGAUACAUCAGAGGGUGGGCACGCUCCUCCCUCCACUCGCCCCUCAAACAAAUGCCCCGCAGCCCAUUUCUCCACCCUCAUUUGAUGACCGCAGAUUCAAGUGUUUUGUUAAGUAAAGUCCUGGGUGACCUGGGGUCACAGGGUGCCCCACGCUGCCUGCCUCUGGGCGAACACCCCAUCACGCCCGGAGGAGGGCGUGGCUGCCUGCCUGAGUGGGCCAGACCCCUGUCGCCAGGCCUCACGGCAGCUCCAUAGUCAGGAGAUGGGGAAGAUGCUGGGGACAGGCCCUGGGGAGAAGUACUGGGAUCACCUGUUCAGGCUCCCACUGUGACGCUGCCCCGGGGCGGGGGAAGGAGGUGGGACAUGUGGGCGUUGGGGCCUGUAGGUCCACACCCAGUGUGGGUGACCCUCCCUCUAACCUGGGUCCAGCCCGGCUGGAGAUGGGUGGGAGUGCGACCUAGGGCUGGCGGGCAGGCGGGCACUGUGUCUCCCUGACUGUGUCCUCCUGUGUCCCUCUGCCUCGCCGCUGUUCCGGAACCUGCUCUGCGCGGCACGUCCUGGCAGUGGGGCAGGUGGAGCUGGGCGGGGGCCCUGGUGCAGGCAGCCUGCAGCCCUUGGCCCUGGAGGGGUCCCUGCAGAAGCGUGGCAUUGUGGAACAAUGCUGUACCAGCAUCUGCUCCCUCUACCAGCUGGAGAACUACUGCAACUAGACGCAGCCCGCAGGCAGCCCCACACCCGCCGCCUCCUGCACCGAGAGAGAUGGAAUAAAGCCCUUGAACCAG\n"
     ]
    }
   ],
   "source": [
    "#Write out the pre-mRNA sequence for a DNA sequence\n",
    "import os\n",
    "os.chdir(home+'/vptl/Class 1')\n",
    "FASTAsequence=open('data/Human-Insulin-NG_007114.1.txt','r')\n",
    "genesequence=(FASTAsequence.readlines()[1:])\n",
    "genesequence=''.join(genesequence)\n",
    "RNAsequence='' #this defines the variable 'complementarysequence'\n",
    "for i in genesequence:\n",
    "    if i=='A':\n",
    "        RNAsequence=RNAsequence+'A'\n",
    "    if i=='T':\n",
    "        RNAsequence=RNAsequence+'U'\n",
    "    if i=='G':\n",
    "        RNAsequence=RNAsequence+'G'\n",
    "    if i=='C':\n",
    "        RNAsequence=RNAsequence+'C'\n",
    "print (RNAsequence)"
   ]
  },
  {
   "cell_type": "markdown",
   "metadata": {},
   "source": [
    "A slightly shorter alternative for the code above is to use an if/else statement. \n",
    "\n",
    "**If** the original base pair is a T then it needs to be changed to a U. \n",
    "**Else** keep the original base pair. \n",
    "\n",
    "Here's how the **if/else** statement looks in Python. "
   ]
  },
  {
   "cell_type": "code",
   "execution_count": 20,
   "metadata": {
    "collapsed": false
   },
   "outputs": [
    {
     "name": "stdout",
     "output_type": "stream",
     "text": [
      "AGCCCUCCAGGACAGGCUGCAUCAGAAGAGGCCAUCAAGCAGGUCUGUUCCAAGGGCCUUUGCGUCAGGU\n",
      "GGGCUCAGGAUUCCAGGGUGGCUGGACCCCAGGCCCCAGCUCUGCAGCAGGGAGGACGUGGCUGGGCUCG\n",
      "UGAAGCAUGUGGGGGUGAGCCCAGGGGCCCCAAGGCAGGGCACCUGGCCUUCAGCCUGCCUCAGCCCUGC\n",
      "CUGUCUCCCAGAUCACUGUCCUUCUGCCAUGGCCCUGUGGAUGCGCCUCCUGCCCCUGCUGGCGCUGCUG\n",
      "GCCCUCUGGGGACCUGACCCAGCCGCAGCCUUUGUGAACCAACACCUGUGCGGCUCACACCUGGUGGAAG\n",
      "CUCUCUACCUAGUGUGCGGGGAACGAGGCUUCUUCUACACACCCAAGACCCGCCGGGAGGCAGAGGACCU\n",
      "GCAGGGUGAGCCAACUGCCCAUUGCUGCCCCUGGCCGCCCCCAGCCACCCCCUGCUCCUGGCGCUCCCAC\n",
      "CCAGCAUGGGCAGAAGGGGGCAGGAGGCUGCCACCCAGCAGGGGGUCAGGUGCACUUUUUUAAAAAGAAG\n",
      "UUCUCUUGGUCACGUCCUAAAAGUGACCAGCUCCCUGUGGCCCAGUCAGAAUCUCAGCCUGAGGACGGUG\n",
      "UUGGCUUCGGCAGCCCCGAGAUACAUCAGAGGGUGGGCACGCUCCUCCCUCCACUCGCCCCUCAAACAAA\n",
      "UGCCCCGCAGCCCAUUUCUCCACCCUCAUUUGAUGACCGCAGAUUCAAGUGUUUUGUUAAGUAAAGUCCU\n",
      "GGGUGACCUGGGGUCACAGGGUGCCCCACGCUGCCUGCCUCUGGGCGAACACCCCAUCACGCCCGGAGGA\n",
      "GGGCGUGGCUGCCUGCCUGAGUGGGCCAGACCCCUGUCGCCAGGCCUCACGGCAGCUCCAUAGUCAGGAG\n",
      "AUGGGGAAGAUGCUGGGGACAGGCCCUGGGGAGAAGUACUGGGAUCACCUGUUCAGGCUCCCACUGUGAC\n",
      "GCUGCCCCGGGGCGGGGGAAGGAGGUGGGACAUGUGGGCGUUGGGGCCUGUAGGUCCACACCCAGUGUGG\n",
      "GUGACCCUCCCUCUAACCUGGGUCCAGCCCGGCUGGAGAUGGGUGGGAGUGCGACCUAGGGCUGGCGGGC\n",
      "AGGCGGGCACUGUGUCUCCCUGACUGUGUCCUCCUGUGUCCCUCUGCCUCGCCGCUGUUCCGGAACCUGC\n",
      "UCUGCGCGGCACGUCCUGGCAGUGGGGCAGGUGGAGCUGGGCGGGGGCCCUGGUGCAGGCAGCCUGCAGC\n",
      "CCUUGGCCCUGGAGGGGUCCCUGCAGAAGCGUGGCAUUGUGGAACAAUGCUGUACCAGCAUCUGCUCCCU\n",
      "CUACCAGCUGGAGAACUACUGCAACUAGACGCAGCCCGCAGGCAGCCCCACACCCGCCGCCUCCUGCACC\n",
      "GAGAGAGAUGGAAUAAAGCCCUUGAACCAG\n",
      "\n"
     ]
    }
   ],
   "source": [
    "#Write out the pre-mRNA sequence for a DNA sequence\n",
    "import os\n",
    "os.chdir(home+'/vptl/Class 1')\n",
    "FASTAsequence=open('data/Human-Insulin-NG_007114.1.txt','r')\n",
    "genesequence=(FASTAsequence.readlines()[1:])\n",
    "genesequence=''.join(genesequence)\n",
    "RNAsequence='' #this defines the variable 'complementarysequence'\n",
    "for i in genesequence:\n",
    "    if i=='T':\n",
    "        RNAsequence=RNAsequence+'U'\n",
    "    else:\n",
    "        RNAsequence=RNAsequence+ i\n",
    "print (RNAsequence)"
   ]
  },
  {
   "cell_type": "markdown",
   "metadata": {},
   "source": [
    "## What are RNA splicing, Exons and Introns? \n",
    "\n",
    "**Translation**, the process of converting RNA to protein, starts at 'AUG' sequences. \n",
    "\n",
    "'AUG' codes for the amino acid Methionine. \n",
    "\n",
    "Looking at the RNA sequence above, how do we know which 'AUG' is the start codon?\n",
    "\n",
    "Finding the stat codon in a sequence is not straight forward for several reasons. \n",
    "\n",
    "First, after RNA is made, it undergoes a processing step called **RNA splicing**. During RNA splicing, part of the sequence is removed before it gets translated into protein. \n",
    "\n",
    "The non-coding sequences that get removed are called **introns**, the protein coding sequences that remain are called **exons**. \n",
    "\n",
    "The process of splicing takes the RNA from what is known as pre-mRNA to an mRNA. \n",
    "\n",
    "There are computer programs that can predict where splicing occurs, but they are beyond the scope of what we will be covering in this class. \n",
    "\n",
    "Instead, we are going to get the processed mRNA sequence from the NCBI Gene database at the following [link](https://www.ncbi.nlm.nih.gov/nuccore/109148525?report=fasta).\n",
    "\n",
    "Our goal is to identify the start codon that will be used for translation. To do this we first are going to write the code to identify possible start codons in the sequence. \n",
    "\n",
    "Think for a few minutes first about how you would do this before looking at the code below.\n"
   ]
  },
  {
   "cell_type": "markdown",
   "metadata": {},
   "source": [
    "## Find index of characters in a string variable\n",
    "\n",
    "A helpful tool for finding the position of the start codons is going to be finding the index of the 'AUG' characters in the sequence. \n",
    "\n",
    "The sequence file that you read into Python is what is a variable format known as a **string variable**. String variables are composed of text or characters, not numbers which can be added, multiplied or divided. \n",
    "\n",
    "In Python, the first letter of the sequence gets an index of a \"0\" (in other programing languages indexing may start with \"1\"). \n",
    "\n",
    "To specify the first character in a variable called \"sequence\" you would write: \n",
    "\n",
    "sequence[0]\n",
    "\n",
    "To specify the first two characters you would write: \n",
    "\n",
    "sequence[0:1]\n",
    "\n",
    "Test yourself by predicting the output using the code below. "
   ]
  },
  {
   "cell_type": "code",
   "execution_count": 21,
   "metadata": {
    "collapsed": false
   },
   "outputs": [
    {
     "name": "stdout",
     "output_type": "stream",
     "text": [
      "T\n",
      "TG\n"
     ]
    }
   ],
   "source": [
    "sequence='CTGAS'\n",
    "print (sequence[1])\n",
    "print (sequence[1:3])"
   ]
  },
  {
   "cell_type": "markdown",
   "metadata": {},
   "source": [
    "## Use Python to find start and stop codons in a mRNA sequence\n",
    "\n",
    "To find the start codons in an mRNA sequence we are going to combine for loops, if statements and indexing strings the three programming principles we've discussed today. \n",
    "\n",
    "We also will introduce the **range() ** command. \n",
    "\n",
    "Similarly to above, we are going to loop over every base pair in the sequence and ask is it an ATG. \n",
    " "
   ]
  },
  {
   "cell_type": "code",
   "execution_count": 23,
   "metadata": {
    "collapsed": false,
    "scrolled": true
   },
   "outputs": [
    {
     "name": "stdout",
     "output_type": "stream",
     "text": [
      "60\n",
      "72\n",
      "341\n",
      "442\n"
     ]
    }
   ],
   "source": [
    "#Find possible start codons in an mRNA sequence\n",
    "import os\n",
    "os.chdir(home+'/vptl/Class 1')\n",
    "FASTAsequence=open('data/Human-Insulin NM_000207.2.txt','r')\n",
    "mRNAsequence=(FASTAsequence.readlines()[1:])\n",
    "mRNAsequence=''.join(mRNAsequence)\n",
    "mRNAsequence=mRNAsequence.replace('\\n','')\n",
    "\n",
    "for i in range(0,len(mRNAsequence)-2):\n",
    "    if mRNAsequence[i:i+3]=='ATG':\n",
    "        print(i+1)"
   ]
  },
  {
   "cell_type": "code",
   "execution_count": 25,
   "metadata": {
    "collapsed": false
   },
   "outputs": [
    {
     "name": "stdout",
     "output_type": "stream",
     "text": [
      "start codon: 60 stop codon: 390 orf length: 332\n",
      "start codon: 72 stop codon: 390 orf length: 320\n",
      "start codon: 442 stop codon: 448 orf length: 8\n"
     ]
    }
   ],
   "source": [
    "os.chdir(home+'/vptl/Class 1')\n",
    "FASTAsequence=open('data/Human-Insulin NM_000207.2.txt','r')\n",
    "mRNAsequence=(FASTAsequence.readlines()[1:])\n",
    "mRNAsequence=''.join(mRNAsequence)\n",
    "mRNAsequence=mRNAsequence.replace('\\n','')\n",
    "index=0\n",
    "startcodon=0\n",
    "stopcodon=0\n",
    "orflength=0\n",
    "for i in range(0,len(mRNAsequence)-2):\n",
    "    if mRNAsequence[i:i+3]=='ATG':\n",
    "        for j in range(i+3,len(mRNAsequence)-2,3):\n",
    "            if mRNAsequence[j:j+3]=='TAA' or mRNAsequence[j:j+3]=='TAG' or mRNAsequence[j:j+3]=='TGA' : \n",
    "                if index==0:\n",
    "                    print ('start codon: ' + str(i+1) + ' stop codon: ' + str(j+1) + ' orf length: '+ str(j+2-i)) \n",
    "                index=index+1\n",
    "        index=0"
   ]
  },
  {
   "cell_type": "code",
   "execution_count": null,
   "metadata": {
    "collapsed": true
   },
   "outputs": [],
   "source": []
  },
  {
   "cell_type": "code",
   "execution_count": null,
   "metadata": {
    "collapsed": true
   },
   "outputs": [],
   "source": []
  }
 ],
 "metadata": {
  "anaconda-cloud": {},
  "kernelspec": {
   "display_name": "Python 2",
   "language": "python",
   "name": "python2"
  },
  "language_info": {
   "codemirror_mode": {
    "name": "ipython",
    "version": 2
   },
   "file_extension": ".py",
   "mimetype": "text/x-python",
   "name": "python",
   "nbconvert_exporter": "python",
   "pygments_lexer": "ipython2",
   "version": "2.7.12"
  }
 },
 "nbformat": 4,
 "nbformat_minor": 0
}
